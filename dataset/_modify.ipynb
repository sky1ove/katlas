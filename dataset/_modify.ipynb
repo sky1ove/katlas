{
 "cells": [
  {
   "cell_type": "raw",
   "id": "ab2d828d-456a-48e2-974b-9cf7de079dcc",
   "metadata": {},
   "source": [
    "---\n",
    "skip_showdoc: true\n",
    "skip_exec: true\n",
    "---"
   ]
  },
  {
   "cell_type": "code",
   "execution_count": 1,
   "id": "9a4a3b2f-9a5d-4829-9592-989b9bced1b8",
   "metadata": {},
   "outputs": [],
   "source": [
    "import pandas as pd "
   ]
  },
  {
   "cell_type": "code",
   "execution_count": 2,
   "id": "c80227d8-b113-46e3-b493-112ac06c8e3d",
   "metadata": {},
   "outputs": [],
   "source": [
    "df = pd.read_csv('kinase_info.csv')"
   ]
  },
  {
   "cell_type": "code",
   "execution_count": 4,
   "id": "1d697e3b-6326-4a36-8c4c-6547c491fd77",
   "metadata": {},
   "outputs": [
    {
     "data": {
      "text/plain": [
       "Index(['kinase', 'ID_coral', 'uniprot', 'ID_HGNC', 'modi_group', 'group',\n",
       "       'family', 'subfamily_coral', 'subfamily', 'in_pspa_st', 'in_pspa_tyr',\n",
       "       'in_pspa', 'in_cddm', 'kd_ID', 'active_D1_D2', 'active_kd_ID',\n",
       "       'pspa_ID', 'pseudo', 'pspa_category_small', 'pspa_category_big',\n",
       "       'cddm_big', 'cddm_small', 'length', 'human_uniprot_sequence',\n",
       "       'kinasecom_domain', 'nucleus', 'cytosol', 'cytoskeleton',\n",
       "       'plasma membrane', 'mitochondrion', 'Golgi apparatus',\n",
       "       'endoplasmic reticulum', 'vesicle', 'centrosome', 'aggresome',\n",
       "       'main_location'],\n",
       "      dtype='object')"
      ]
     },
     "execution_count": 4,
     "metadata": {},
     "output_type": "execute_result"
    }
   ],
   "source": [
    "df.columns"
   ]
  },
  {
   "cell_type": "code",
   "execution_count": 6,
   "id": "d33dc9fc-5d21-4375-a433-0326b9eeddac",
   "metadata": {},
   "outputs": [],
   "source": [
    "df.pspa_category_small = df.pspa_category_small.str.capitalize()"
   ]
  },
  {
   "cell_type": "code",
   "execution_count": 7,
   "id": "dff49377-70af-4164-a257-24c2e61a2908",
   "metadata": {},
   "outputs": [],
   "source": [
    "df.pspa_category_big = df.pspa_category_big.str.capitalize()"
   ]
  },
  {
   "cell_type": "code",
   "execution_count": 9,
   "id": "77984603-c600-4a82-9d17-500d2798b92b",
   "metadata": {},
   "outputs": [],
   "source": [
    "df.to_csv('kinase_info2.csv',index=False)"
   ]
  },
  {
   "cell_type": "code",
   "execution_count": null,
   "id": "69755d31-70dd-4468-b24f-aeb838d5a7ae",
   "metadata": {},
   "outputs": [],
   "source": []
  },
  {
   "cell_type": "code",
   "execution_count": 3,
   "id": "a0a9c357-c9d2-4f10-ade7-cb6c2a160e55",
   "metadata": {},
   "outputs": [],
   "source": [
    "df = pd.read_excel('uniprot_kd_labeled.xlsx')"
   ]
  },
  {
   "cell_type": "code",
   "execution_count": 5,
   "id": "6a565aef-2a97-4364-a334-04ca0afe115a",
   "metadata": {},
   "outputs": [],
   "source": [
    "df.to_parquet('uniprot_kd_labeled.parquet')"
   ]
  },
  {
   "cell_type": "code",
   "execution_count": 6,
   "id": "6121c426-90ae-4af9-bf79-a4353bced25a",
   "metadata": {},
   "outputs": [],
   "source": [
    "df = pd.read_parquet('uniprot_kd_labeled.parquet')"
   ]
  },
  {
   "cell_type": "code",
   "execution_count": 8,
   "id": "5493a8e3-13a5-4695-8b16-8a5ce32630a4",
   "metadata": {},
   "outputs": [
    {
     "data": {
      "text/plain": [
       "active_D1_D2\n",
       "1    4209\n",
       "0    1327\n",
       "Name: count, dtype: int64"
      ]
     },
     "execution_count": 8,
     "metadata": {},
     "output_type": "execute_result"
    }
   ],
   "source": [
    "df.active_D1_D2.value_counts()"
   ]
  },
  {
   "cell_type": "markdown",
   "id": "d6046af0-6105-4255-8d51-4586b45d9128",
   "metadata": {},
   "source": [
    "## Update sequence"
   ]
  },
  {
   "cell_type": "code",
   "execution_count": 5,
   "id": "a6db69f4-9894-4a88-afb4-a7d00f73507b",
   "metadata": {},
   "outputs": [],
   "source": [
    "df=Data.get_kinase_info()"
   ]
  },
  {
   "cell_type": "code",
   "execution_count": 6,
   "id": "aa193bad-afed-4693-9840-6163663e127f",
   "metadata": {},
   "outputs": [
    {
     "data": {
      "text/plain": [
       "392      253\n",
       "493      268\n",
       "448      273\n",
       "390      277\n",
       "81       292\n",
       "       ...  \n",
       "490     3859\n",
       "124     4128\n",
       "325     7968\n",
       "326     7968\n",
       "498    32756\n",
       "Name: human_uniprot_sequence, Length: 523, dtype: int64"
      ]
     },
     "execution_count": 6,
     "metadata": {},
     "output_type": "execute_result"
    }
   ],
   "source": [
    "df.human_uniprot_sequence.str.len().sort_values()"
   ]
  },
  {
   "cell_type": "code",
   "execution_count": 7,
   "id": "950a46bd-f202-4e46-a7e9-7569b1b883e2",
   "metadata": {},
   "outputs": [],
   "source": [
    "from tqdm.contrib.concurrent import thread_map"
   ]
  },
  {
   "cell_type": "code",
   "execution_count": 9,
   "id": "2d10368d-6af3-43aa-98f3-37477e1c582e",
   "metadata": {},
   "outputs": [
    {
     "data": {
      "application/vnd.jupyter.widget-view+json": {
       "model_id": "583d4df456dc43519f1f95a722b22130",
       "version_major": 2,
       "version_minor": 0
      },
      "text/plain": [
       "  0%|          | 0/523 [00:00<?, ?it/s]"
      ]
     },
     "metadata": {},
     "output_type": "display_data"
    }
   ],
   "source": [
    "# get sequence through multiple thread as it's query from web\n",
    "seq = thread_map(get_uniprot_seq, df['uniprot'])"
   ]
  },
  {
   "cell_type": "code",
   "execution_count": 13,
   "id": "ea619d92-c75e-4ba1-a8c1-b6a75a24c506",
   "metadata": {},
   "outputs": [],
   "source": [
    "df.human_uniprot_sequence = seq"
   ]
  },
  {
   "cell_type": "code",
   "execution_count": 14,
   "id": "8eb12dd3-3e66-4fe9-89f7-9ce8d4b34d19",
   "metadata": {},
   "outputs": [],
   "source": [
    "df.length = df.human_uniprot_sequence.str.len()"
   ]
  },
  {
   "cell_type": "code",
   "execution_count": 19,
   "id": "7dcb810c-705c-46a7-b857-f5476f9a2abb",
   "metadata": {},
   "outputs": [],
   "source": [
    "# df.to_csv('../../dataset/kinase_info.csv',index=False)"
   ]
  }
 ],
 "metadata": {
  "kernelspec": {
   "display_name": "Python 3 (ipykernel)",
   "language": "python",
   "name": "python3"
  },
  "language_info": {
   "codemirror_mode": {
    "name": "ipython",
    "version": 3
   },
   "file_extension": ".py",
   "mimetype": "text/x-python",
   "name": "python",
   "nbconvert_exporter": "python",
   "pygments_lexer": "ipython3",
   "version": "3.12.8"
  }
 },
 "nbformat": 4,
 "nbformat_minor": 5
}
