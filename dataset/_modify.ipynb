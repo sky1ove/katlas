{
 "cells": [
  {
   "cell_type": "code",
   "execution_count": 1,
   "id": "9a4a3b2f-9a5d-4829-9592-989b9bced1b8",
   "metadata": {},
   "outputs": [],
   "source": [
    "import pandas as pd "
   ]
  },
  {
   "cell_type": "code",
   "execution_count": 2,
   "id": "c80227d8-b113-46e3-b493-112ac06c8e3d",
   "metadata": {},
   "outputs": [],
   "source": [
    "df = pd.read_csv('kinase_info.csv')"
   ]
  },
  {
   "cell_type": "code",
   "execution_count": 4,
   "id": "1d697e3b-6326-4a36-8c4c-6547c491fd77",
   "metadata": {},
   "outputs": [
    {
     "data": {
      "text/plain": [
       "Index(['kinase', 'ID_coral', 'uniprot', 'ID_HGNC', 'modi_group', 'group',\n",
       "       'family', 'subfamily_coral', 'subfamily', 'in_pspa_st', 'in_pspa_tyr',\n",
       "       'in_pspa', 'in_cddm', 'kd_ID', 'active_D1_D2', 'active_kd_ID',\n",
       "       'pspa_ID', 'pseudo', 'pspa_category_small', 'pspa_category_big',\n",
       "       'cddm_big', 'cddm_small', 'length', 'human_uniprot_sequence',\n",
       "       'kinasecom_domain', 'nucleus', 'cytosol', 'cytoskeleton',\n",
       "       'plasma membrane', 'mitochondrion', 'Golgi apparatus',\n",
       "       'endoplasmic reticulum', 'vesicle', 'centrosome', 'aggresome',\n",
       "       'main_location'],\n",
       "      dtype='object')"
      ]
     },
     "execution_count": 4,
     "metadata": {},
     "output_type": "execute_result"
    }
   ],
   "source": [
    "df.columns"
   ]
  },
  {
   "cell_type": "code",
   "execution_count": 6,
   "id": "d33dc9fc-5d21-4375-a433-0326b9eeddac",
   "metadata": {},
   "outputs": [],
   "source": [
    "df.pspa_category_small = df.pspa_category_small.str.capitalize()"
   ]
  },
  {
   "cell_type": "code",
   "execution_count": 7,
   "id": "dff49377-70af-4164-a257-24c2e61a2908",
   "metadata": {},
   "outputs": [],
   "source": [
    "df.pspa_category_big = df.pspa_category_big.str.capitalize()"
   ]
  },
  {
   "cell_type": "code",
   "execution_count": 9,
   "id": "77984603-c600-4a82-9d17-500d2798b92b",
   "metadata": {},
   "outputs": [],
   "source": [
    "df.to_csv('kinase_info2.csv',index=False)"
   ]
  },
  {
   "cell_type": "code",
   "execution_count": null,
   "id": "69755d31-70dd-4468-b24f-aeb838d5a7ae",
   "metadata": {},
   "outputs": [],
   "source": []
  },
  {
   "cell_type": "code",
   "execution_count": 3,
   "id": "a0a9c357-c9d2-4f10-ade7-cb6c2a160e55",
   "metadata": {},
   "outputs": [],
   "source": [
    "df = pd.read_excel('uniprot_kd_labeled.xlsx')"
   ]
  },
  {
   "cell_type": "code",
   "execution_count": 5,
   "id": "6a565aef-2a97-4364-a334-04ca0afe115a",
   "metadata": {},
   "outputs": [],
   "source": [
    "df.to_parquet('uniprot_kd_labeled.parquet')"
   ]
  },
  {
   "cell_type": "code",
   "execution_count": 6,
   "id": "6121c426-90ae-4af9-bf79-a4353bced25a",
   "metadata": {},
   "outputs": [],
   "source": [
    "df = pd.read_parquet('uniprot_kd_labeled.parquet')"
   ]
  },
  {
   "cell_type": "code",
   "execution_count": 8,
   "id": "5493a8e3-13a5-4695-8b16-8a5ce32630a4",
   "metadata": {},
   "outputs": [
    {
     "data": {
      "text/plain": [
       "active_D1_D2\n",
       "1    4209\n",
       "0    1327\n",
       "Name: count, dtype: int64"
      ]
     },
     "execution_count": 8,
     "metadata": {},
     "output_type": "execute_result"
    }
   ],
   "source": [
    "df.active_D1_D2.value_counts()"
   ]
  },
  {
   "cell_type": "code",
   "execution_count": null,
   "id": "be04b554-8eb8-4bdf-9aad-e422e4193f5d",
   "metadata": {},
   "outputs": [],
   "source": []
  }
 ],
 "metadata": {
  "kernelspec": {
   "display_name": "Python 3",
   "language": "python",
   "name": "python3"
  },
  "language_info": {
   "codemirror_mode": {
    "name": "ipython",
    "version": 3
   },
   "file_extension": ".py",
   "mimetype": "text/x-python",
   "name": "python",
   "nbconvert_exporter": "python",
   "pygments_lexer": "ipython3",
   "version": "3.10.10"
  }
 },
 "nbformat": 4,
 "nbformat_minor": 5
}
