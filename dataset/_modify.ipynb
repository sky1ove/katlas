{
 "cells": [
  {
   "cell_type": "code",
   "execution_count": 1,
   "id": "98267726-8096-4d89-8bf6-425a84fe28b8",
   "metadata": {},
   "outputs": [
    {
     "name": "stdout",
     "output_type": "stream",
     "text": [
      "  adding: uniprot_kd_labeled.parquet (deflated 28%)\n",
      "  adding: uniprot_human_keyword_kinase.parquet (deflated 36%)\n",
      "  adding: reactome_lowest_level.parquet (deflated 23%)\n",
      "  adding: reactome_all_levels.parquet (deflated 23%)\n",
      "  adding: kinase_info.csv (deflated 60%)\n",
      "  adding: phosphosites/ (stored 0%)\n",
      "  adding: phosphosites/phosphorylated_combine_site.parquet (deflated 12%)\n",
      "  adding: phosphosites/ochoa_site.parquet (deflated 57%)\n",
      "  adding: phosphosites/combine_site_psp_ochoa.parquet (deflated 13%)\n",
      "  adding: phosphosites/psp_human.parquet (deflated 18%)\n",
      "  adding: phosphosites/linkedOmicsKB_ref_pan.parquet (deflated 25%)\n",
      "  adding: phosphosites/linkedOmics_ref_pan.parquet (deflated 16%)\n",
      "  adding: phosphosites/phosphorylated_combine_site20.parquet (deflated 63%)\n",
      "  adding: phosphosites/cptac_unique_site.parquet (deflated 16%)\n",
      "  adding: CDDM/ (stored 0%)\n",
      "  adding: CDDM/pssms.parquet (deflated 52%)\n",
      "  adding: CDDM/ks_background.parquet (deflated 61%)\n",
      "  adding: CDDM/unique_ks_sites.parquet (deflated 78%)\n",
      "  adding: CDDM/pssms_LO_upper.parquet (deflated 25%)\n",
      "  adding: CDDM/pssms_upper.parquet (deflated 52%)\n",
      "  adding: CDDM/.ipynb_checkpoints/ (stored 0%)\n",
      "  adding: CDDM/ks_datasets_20250407.parquet (deflated 45%)\n",
      "  adding: CDDM/pssms_LO.parquet (deflated 23%)\n",
      "  adding: PSPA/ (stored 0%)\n",
      "  adding: PSPA/pspa_all_norm.parquet (deflated 60%)\n",
      "  adding: PSPA/pspa_main.parquet (deflated 38%)\n",
      "  adding: PSPA/pspa_tyr_norm.parquet (deflated 76%)\n",
      "  adding: PSPA/pspa_st_norm.parquet (deflated 64%)\n",
      "  adding: PSPA/pspa_all_scale.parquet (deflated 61%)\n",
      "  adding: PSPA/pspa_pct_tyr.parquet (deflated 6%)\n",
      "  adding: PSPA/pspa_divide_num.csv (deflated 90%)\n",
      "  adding: PSPA/pspa_main_upper.parquet (deflated 34%)\n",
      "  adding: PSPA/pspa_pct_st.parquet (deflated 5%)\n",
      "  adding: kinase_info.parquet (deflated 33%)\n",
      "  adding: amino_acids/ (stored 0%)\n",
      "  adding: amino_acids/aa_info.parquet (deflated 64%)\n",
      "  adding: amino_acids/aa_rdkit.parquet (deflated 77%)\n",
      "  adding: amino_acids/aa_morgan.parquet (deflated 90%)\n"
     ]
    }
   ],
   "source": [
    "!rm -f ../katlas_datasets.zip && zip -r ../katlas_datasets.zip . -x \"_*\" \".*\""
   ]
  },
  {
   "cell_type": "markdown",
   "id": "d231f386-7493-4157-a864-75b892d77364",
   "metadata": {},
   "source": [
    "save the zip to https://drive.google.com/drive/folders/1j-AooWe48Ie10I9Uy2Mlf2NueBUNiD4Y"
   ]
  },
  {
   "cell_type": "code",
   "execution_count": null,
   "id": "1855b10a-4b17-4870-9449-8011f18f064d",
   "metadata": {},
   "outputs": [],
   "source": []
  },
  {
   "cell_type": "code",
   "execution_count": 1,
   "id": "9a4a3b2f-9a5d-4829-9592-989b9bced1b8",
   "metadata": {},
   "outputs": [],
   "source": [
    "import pandas as pd "
   ]
  },
  {
   "cell_type": "code",
   "execution_count": 8,
   "id": "6456bd15-87d7-482c-9479-5c9667e2ecda",
   "metadata": {},
   "outputs": [
    {
     "name": "stdout",
     "output_type": "stream",
     "text": [
      "CPU times: user 199 ms, sys: 295 ms, total: 494 ms\n",
      "Wall time: 1.49 s\n"
     ]
    }
   ],
   "source": [
    "%%time\n",
    "df = pd.read_parquet('CDDM/ks_datasets_20250407.parquet')"
   ]
  },
  {
   "cell_type": "code",
   "execution_count": 9,
   "id": "a0dc10e5-d2e7-4b2e-9123-ec6afed83272",
   "metadata": {},
   "outputs": [],
   "source": [
    "cols = ['kinase_uniprot','substrate_uniprot','site','source','substrate_genes','site_seq']"
   ]
  },
  {
   "cell_type": "code",
   "execution_count": 10,
   "id": "e44104ac-8a26-43c9-9af3-a1978a638cc1",
   "metadata": {},
   "outputs": [],
   "source": [
    "df = df[cols]"
   ]
  },
  {
   "cell_type": "code",
   "execution_count": 12,
   "id": "09f34dfc-e437-4a47-8e57-fbdfd96f95e1",
   "metadata": {},
   "outputs": [
    {
     "data": {
      "text/html": [
       "<div>\n",
       "<style scoped>\n",
       "    .dataframe tbody tr th:only-of-type {\n",
       "        vertical-align: middle;\n",
       "    }\n",
       "\n",
       "    .dataframe tbody tr th {\n",
       "        vertical-align: top;\n",
       "    }\n",
       "\n",
       "    .dataframe thead th {\n",
       "        text-align: right;\n",
       "    }\n",
       "</style>\n",
       "<table border=\"1\" class=\"dataframe\">\n",
       "  <thead>\n",
       "    <tr style=\"text-align: right;\">\n",
       "      <th></th>\n",
       "      <th>kinase_uniprot</th>\n",
       "      <th>substrate_uniprot</th>\n",
       "      <th>site</th>\n",
       "      <th>source</th>\n",
       "      <th>substrate_genes</th>\n",
       "      <th>site_seq</th>\n",
       "    </tr>\n",
       "  </thead>\n",
       "  <tbody>\n",
       "    <tr>\n",
       "      <th>0</th>\n",
       "      <td>O00141</td>\n",
       "      <td>A4FU28</td>\n",
       "      <td>S140</td>\n",
       "      <td>Sugiyama</td>\n",
       "      <td>CTAGE9</td>\n",
       "      <td>AAAEEARSLEATCEKLSRsNsELEDEILCLEKDLKEEKSKH</td>\n",
       "    </tr>\n",
       "    <tr>\n",
       "      <th>1</th>\n",
       "      <td>O00141</td>\n",
       "      <td>O00141</td>\n",
       "      <td>S252</td>\n",
       "      <td>Sugiyama</td>\n",
       "      <td>SGK1 SGK</td>\n",
       "      <td>SQGHIVLTDFGLCKENIEHNsTtstFCGtPEyLAPEVLHKQ</td>\n",
       "    </tr>\n",
       "    <tr>\n",
       "      <th>2</th>\n",
       "      <td>O00141</td>\n",
       "      <td>O00141</td>\n",
       "      <td>S255</td>\n",
       "      <td>Sugiyama</td>\n",
       "      <td>SGK1 SGK</td>\n",
       "      <td>HIVLTDFGLCKENIEHNsTtstFCGtPEyLAPEVLHKQPYD</td>\n",
       "    </tr>\n",
       "    <tr>\n",
       "      <th>3</th>\n",
       "      <td>O00141</td>\n",
       "      <td>O00141</td>\n",
       "      <td>S397</td>\n",
       "      <td>Sugiyama</td>\n",
       "      <td>SGK1 SGK</td>\n",
       "      <td>sGPNDLRHFDPEFTEEPVPNsIGKsPDsVLVTAsVKEAAEA</td>\n",
       "    </tr>\n",
       "    <tr>\n",
       "      <th>4</th>\n",
       "      <td>O00141</td>\n",
       "      <td>O00141</td>\n",
       "      <td>S404</td>\n",
       "      <td>Sugiyama</td>\n",
       "      <td>SGK1 SGK</td>\n",
       "      <td>HFDPEFTEEPVPNsIGKsPDsVLVTAsVKEAAEAFLGFsYA</td>\n",
       "    </tr>\n",
       "    <tr>\n",
       "      <th>...</th>\n",
       "      <td>...</td>\n",
       "      <td>...</td>\n",
       "      <td>...</td>\n",
       "      <td>...</td>\n",
       "      <td>...</td>\n",
       "      <td>...</td>\n",
       "    </tr>\n",
       "    <tr>\n",
       "      <th>187061</th>\n",
       "      <td>Q9Y6R4</td>\n",
       "      <td>P62273</td>\n",
       "      <td>Y7</td>\n",
       "      <td>Sugiyama</td>\n",
       "      <td>RPS29</td>\n",
       "      <td>______________MGHQQLyWsHPRKFGQGSRSCRVCSNR</td>\n",
       "    </tr>\n",
       "    <tr>\n",
       "      <th>187062</th>\n",
       "      <td>Q9Y6R4</td>\n",
       "      <td>Q86W56</td>\n",
       "      <td>Y832</td>\n",
       "      <td>Sugiyama</td>\n",
       "      <td>PARG</td>\n",
       "      <td>DDWQRRCTEIVAIDALHFRRyLDQFVPEKMRRELNKAYCGF</td>\n",
       "    </tr>\n",
       "    <tr>\n",
       "      <th>187063</th>\n",
       "      <td>Q9Y6R4</td>\n",
       "      <td>Q9Y6R4</td>\n",
       "      <td>T1324</td>\n",
       "      <td>Sugiyama</td>\n",
       "      <td>MAP3K4 KIAA0213 MAPKKK4 MEKK4 MTK1</td>\n",
       "      <td>FEEKRYREMRRKNIIGQVCDtPKSyDNVMHVGLRKVTFKWQ</td>\n",
       "    </tr>\n",
       "    <tr>\n",
       "      <th>187064</th>\n",
       "      <td>Q9Y6R4</td>\n",
       "      <td>Q9Y6R4</td>\n",
       "      <td>T1494</td>\n",
       "      <td>SIGNOR|EPSD|PSP</td>\n",
       "      <td>MAP3K4 KIAA0213 MAPKKK4 MEKK4 MTK1</td>\n",
       "      <td>SGLIKLGDFGCSVKLKNNAQtMPGEVNSTLGTAAYMAPEVI</td>\n",
       "    </tr>\n",
       "    <tr>\n",
       "      <th>187065</th>\n",
       "      <td>Q9Y6R4</td>\n",
       "      <td>Q9Y6R4</td>\n",
       "      <td>Y1328</td>\n",
       "      <td>Sugiyama</td>\n",
       "      <td>MAP3K4 KIAA0213 MAPKKK4 MEKK4 MTK1</td>\n",
       "      <td>RYREMRRKNIIGQVCDtPKSyDNVMHVGLRKVTFKWQRGNK</td>\n",
       "    </tr>\n",
       "  </tbody>\n",
       "</table>\n",
       "<p>187066 rows × 6 columns</p>\n",
       "</div>"
      ],
      "text/plain": [
       "       kinase_uniprot substrate_uniprot   site           source  \\\n",
       "0              O00141            A4FU28   S140         Sugiyama   \n",
       "1              O00141            O00141   S252         Sugiyama   \n",
       "2              O00141            O00141   S255         Sugiyama   \n",
       "3              O00141            O00141   S397         Sugiyama   \n",
       "4              O00141            O00141   S404         Sugiyama   \n",
       "...               ...               ...    ...              ...   \n",
       "187061         Q9Y6R4            P62273     Y7         Sugiyama   \n",
       "187062         Q9Y6R4            Q86W56   Y832         Sugiyama   \n",
       "187063         Q9Y6R4            Q9Y6R4  T1324         Sugiyama   \n",
       "187064         Q9Y6R4            Q9Y6R4  T1494  SIGNOR|EPSD|PSP   \n",
       "187065         Q9Y6R4            Q9Y6R4  Y1328         Sugiyama   \n",
       "\n",
       "                           substrate_genes  \\\n",
       "0                                   CTAGE9   \n",
       "1                                 SGK1 SGK   \n",
       "2                                 SGK1 SGK   \n",
       "3                                 SGK1 SGK   \n",
       "4                                 SGK1 SGK   \n",
       "...                                    ...   \n",
       "187061                               RPS29   \n",
       "187062                                PARG   \n",
       "187063  MAP3K4 KIAA0213 MAPKKK4 MEKK4 MTK1   \n",
       "187064  MAP3K4 KIAA0213 MAPKKK4 MEKK4 MTK1   \n",
       "187065  MAP3K4 KIAA0213 MAPKKK4 MEKK4 MTK1   \n",
       "\n",
       "                                         site_seq  \n",
       "0       AAAEEARSLEATCEKLSRsNsELEDEILCLEKDLKEEKSKH  \n",
       "1       SQGHIVLTDFGLCKENIEHNsTtstFCGtPEyLAPEVLHKQ  \n",
       "2       HIVLTDFGLCKENIEHNsTtstFCGtPEyLAPEVLHKQPYD  \n",
       "3       sGPNDLRHFDPEFTEEPVPNsIGKsPDsVLVTAsVKEAAEA  \n",
       "4       HFDPEFTEEPVPNsIGKsPDsVLVTAsVKEAAEAFLGFsYA  \n",
       "...                                           ...  \n",
       "187061  ______________MGHQQLyWsHPRKFGQGSRSCRVCSNR  \n",
       "187062  DDWQRRCTEIVAIDALHFRRyLDQFVPEKMRRELNKAYCGF  \n",
       "187063  FEEKRYREMRRKNIIGQVCDtPKSyDNVMHVGLRKVTFKWQ  \n",
       "187064  SGLIKLGDFGCSVKLKNNAQtMPGEVNSTLGTAAYMAPEVI  \n",
       "187065  RYREMRRKNIIGQVCDtPKSyDNVMHVGLRKVTFKWQRGNK  \n",
       "\n",
       "[187066 rows x 6 columns]"
      ]
     },
     "execution_count": 12,
     "metadata": {},
     "output_type": "execute_result"
    }
   ],
   "source": [
    "df"
   ]
  },
  {
   "cell_type": "code",
   "execution_count": 11,
   "id": "d5e64fd1-0583-49f1-9636-eadd703a0ba2",
   "metadata": {},
   "outputs": [],
   "source": [
    "df.to_parquet('CDDM/ks_datasets_20250407_web.parquet')"
   ]
  },
  {
   "cell_type": "code",
   "execution_count": null,
   "id": "6c114dd6-d551-491e-8ee9-48cfae8fb3cb",
   "metadata": {},
   "outputs": [],
   "source": []
  },
  {
   "cell_type": "code",
   "execution_count": null,
   "id": "0a241600-c031-432e-8802-02c095ed7ee1",
   "metadata": {},
   "outputs": [],
   "source": []
  },
  {
   "cell_type": "code",
   "execution_count": 2,
   "id": "c80227d8-b113-46e3-b493-112ac06c8e3d",
   "metadata": {},
   "outputs": [],
   "source": [
    "df = pd.read_csv('kinase_info.csv')"
   ]
  },
  {
   "cell_type": "code",
   "execution_count": 7,
   "id": "9d6a4280-005e-4b29-ba3f-361ca61d2536",
   "metadata": {},
   "outputs": [],
   "source": [
    "df.uniprot.to_csv('uniprot.csv')"
   ]
  },
  {
   "cell_type": "code",
   "execution_count": 14,
   "id": "f8c55578-83ee-4875-8a85-76eeebf10d00",
   "metadata": {},
   "outputs": [],
   "source": [
    "df.in_pspa = (df.in_pspa_st |df.in_pspa_tyr).astype(int)"
   ]
  },
  {
   "cell_type": "code",
   "execution_count": 16,
   "id": "cc84a773-1129-4763-bd56-2f68c5dffbe1",
   "metadata": {},
   "outputs": [
    {
     "data": {
      "text/plain": [
       "in_pspa\n",
       "1    392\n",
       "0    131\n",
       "Name: count, dtype: int64"
      ]
     },
     "execution_count": 16,
     "metadata": {},
     "output_type": "execute_result"
    }
   ],
   "source": [
    "df.in_pspa.value_counts()"
   ]
  },
  {
   "cell_type": "code",
   "execution_count": 4,
   "id": "1d697e3b-6326-4a36-8c4c-6547c491fd77",
   "metadata": {},
   "outputs": [
    {
     "data": {
      "text/plain": [
       "Index(['kinase', 'ID_coral', 'uniprot', 'ID_HGNC', 'modi_group', 'group',\n",
       "       'family', 'subfamily_coral', 'subfamily', 'in_pspa_st', 'in_pspa_tyr',\n",
       "       'in_pspa', 'in_cddm', 'kd_ID', 'active_D1_D2', 'active_kd_ID',\n",
       "       'pspa_ID', 'pseudo', 'pspa_category_small', 'pspa_category_big',\n",
       "       'cddm_big', 'cddm_small', 'length', 'human_uniprot_sequence',\n",
       "       'kinasecom_domain', 'nucleus', 'cytosol', 'cytoskeleton',\n",
       "       'plasma membrane', 'mitochondrion', 'Golgi apparatus',\n",
       "       'endoplasmic reticulum', 'vesicle', 'centrosome', 'aggresome',\n",
       "       'main_location'],\n",
       "      dtype='object')"
      ]
     },
     "execution_count": 4,
     "metadata": {},
     "output_type": "execute_result"
    }
   ],
   "source": [
    "df.columns"
   ]
  },
  {
   "cell_type": "code",
   "execution_count": 6,
   "id": "d33dc9fc-5d21-4375-a433-0326b9eeddac",
   "metadata": {},
   "outputs": [],
   "source": [
    "df.pspa_category_small = df.pspa_category_small.str.capitalize()"
   ]
  },
  {
   "cell_type": "code",
   "execution_count": 7,
   "id": "dff49377-70af-4164-a257-24c2e61a2908",
   "metadata": {},
   "outputs": [],
   "source": [
    "df.pspa_category_big = df.pspa_category_big.str.capitalize()"
   ]
  },
  {
   "cell_type": "code",
   "execution_count": 17,
   "id": "77984603-c600-4a82-9d17-500d2798b92b",
   "metadata": {},
   "outputs": [],
   "source": [
    "df.to_csv('kinase_info2.csv',index=False)"
   ]
  },
  {
   "cell_type": "code",
   "execution_count": null,
   "id": "69755d31-70dd-4468-b24f-aeb838d5a7ae",
   "metadata": {},
   "outputs": [],
   "source": []
  },
  {
   "cell_type": "code",
   "execution_count": 3,
   "id": "a0a9c357-c9d2-4f10-ade7-cb6c2a160e55",
   "metadata": {},
   "outputs": [],
   "source": [
    "df = pd.read_excel('uniprot_kd_labeled.xlsx')"
   ]
  },
  {
   "cell_type": "code",
   "execution_count": 5,
   "id": "6a565aef-2a97-4364-a334-04ca0afe115a",
   "metadata": {},
   "outputs": [],
   "source": [
    "df.to_parquet('uniprot_kd_labeled.parquet')"
   ]
  },
  {
   "cell_type": "code",
   "execution_count": 6,
   "id": "6121c426-90ae-4af9-bf79-a4353bced25a",
   "metadata": {},
   "outputs": [],
   "source": [
    "df = pd.read_parquet('uniprot_kd_labeled.parquet')"
   ]
  },
  {
   "cell_type": "code",
   "execution_count": 8,
   "id": "5493a8e3-13a5-4695-8b16-8a5ce32630a4",
   "metadata": {},
   "outputs": [
    {
     "data": {
      "text/plain": [
       "active_D1_D2\n",
       "1    4209\n",
       "0    1327\n",
       "Name: count, dtype: int64"
      ]
     },
     "execution_count": 8,
     "metadata": {},
     "output_type": "execute_result"
    }
   ],
   "source": [
    "df.active_D1_D2.value_counts()"
   ]
  },
  {
   "cell_type": "markdown",
   "id": "d6046af0-6105-4255-8d51-4586b45d9128",
   "metadata": {},
   "source": [
    "## Update sequence"
   ]
  },
  {
   "cell_type": "code",
   "execution_count": 5,
   "id": "a6db69f4-9894-4a88-afb4-a7d00f73507b",
   "metadata": {},
   "outputs": [],
   "source": [
    "df=Data.get_kinase_info()"
   ]
  },
  {
   "cell_type": "code",
   "execution_count": 6,
   "id": "aa193bad-afed-4693-9840-6163663e127f",
   "metadata": {},
   "outputs": [
    {
     "data": {
      "text/plain": [
       "392      253\n",
       "493      268\n",
       "448      273\n",
       "390      277\n",
       "81       292\n",
       "       ...  \n",
       "490     3859\n",
       "124     4128\n",
       "325     7968\n",
       "326     7968\n",
       "498    32756\n",
       "Name: human_uniprot_sequence, Length: 523, dtype: int64"
      ]
     },
     "execution_count": 6,
     "metadata": {},
     "output_type": "execute_result"
    }
   ],
   "source": [
    "df.human_uniprot_sequence.str.len().sort_values()"
   ]
  },
  {
   "cell_type": "code",
   "execution_count": 7,
   "id": "950a46bd-f202-4e46-a7e9-7569b1b883e2",
   "metadata": {},
   "outputs": [],
   "source": [
    "from tqdm.contrib.concurrent import thread_map"
   ]
  },
  {
   "cell_type": "code",
   "execution_count": 9,
   "id": "2d10368d-6af3-43aa-98f3-37477e1c582e",
   "metadata": {},
   "outputs": [
    {
     "data": {
      "application/vnd.jupyter.widget-view+json": {
       "model_id": "583d4df456dc43519f1f95a722b22130",
       "version_major": 2,
       "version_minor": 0
      },
      "text/plain": [
       "  0%|          | 0/523 [00:00<?, ?it/s]"
      ]
     },
     "metadata": {},
     "output_type": "display_data"
    }
   ],
   "source": [
    "# get sequence through multiple thread as it's query from web\n",
    "seq = thread_map(get_uniprot_seq, df['uniprot'])"
   ]
  },
  {
   "cell_type": "code",
   "execution_count": 13,
   "id": "ea619d92-c75e-4ba1-a8c1-b6a75a24c506",
   "metadata": {},
   "outputs": [],
   "source": [
    "df.human_uniprot_sequence = seq"
   ]
  },
  {
   "cell_type": "code",
   "execution_count": 14,
   "id": "8eb12dd3-3e66-4fe9-89f7-9ce8d4b34d19",
   "metadata": {},
   "outputs": [],
   "source": [
    "df.length = df.human_uniprot_sequence.str.len()"
   ]
  },
  {
   "cell_type": "code",
   "execution_count": 19,
   "id": "7dcb810c-705c-46a7-b857-f5476f9a2abb",
   "metadata": {},
   "outputs": [],
   "source": [
    "# df.to_csv('../../dataset/kinase_info.csv',index=False)"
   ]
  }
 ],
 "metadata": {
  "kernelspec": {
   "display_name": "Python 3 (ipykernel)",
   "language": "python",
   "name": "python3"
  },
  "language_info": {
   "codemirror_mode": {
    "name": "ipython",
    "version": 3
   },
   "file_extension": ".py",
   "mimetype": "text/x-python",
   "name": "python",
   "nbconvert_exporter": "python",
   "pygments_lexer": "ipython3",
   "version": "3.11.13"
  },
  "widgets": {
   "application/vnd.jupyter.widget-state+json": {
    "state": {},
    "version_major": 2,
    "version_minor": 0
   }
  }
 },
 "nbformat": 4,
 "nbformat_minor": 5
}
