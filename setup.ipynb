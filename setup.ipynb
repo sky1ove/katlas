{
 "cells": [
  {
   "cell_type": "code",
   "execution_count": null,
   "id": "d498a775-0794-486b-aefe-ea0b8ffba451",
   "metadata": {},
   "outputs": [],
   "source": [
    "%pip install -e '.[dev]'"
   ]
  },
  {
   "cell_type": "code",
   "execution_count": null,
   "id": "be0ebcaa-7340-47ce-bb8a-cc793e79752f",
   "metadata": {},
   "outputs": [],
   "source": [
    "uv pip install -e '.[dev]'"
   ]
  },
  {
   "cell_type": "code",
   "execution_count": 2,
   "id": "a8103859-2ced-4d2d-b8ed-0772a61d49ac",
   "metadata": {},
   "outputs": [
    {
     "name": "stdout",
     "output_type": "stream",
     "text": [
      "Authtoken saved to configuration file: /teamspace/studios/this_studio/.config/ngrok/ngrok.yml\n"
     ]
    },
    {
     "data": {
      "text/plain": [
       "<NgrokTunnel: \"https://d86d-23-20-229-216.ngrok-free.app\" -> \"http://localhost:8000\">"
      ]
     },
     "execution_count": 2,
     "metadata": {},
     "output_type": "execute_result"
    }
   ],
   "source": [
    "from pyngrok import ngrok\n",
    "!ngrok config add-authtoken 2TcZn9S1EnAWRznc1F3l07EhsDA_5DKkTteGNdVniRR6JMcAU\n",
    "ngrok_tunnel = ngrok.connect(8000)\n",
    "\n",
    "ngrok_tunnel"
   ]
  },
  {
   "cell_type": "code",
   "execution_count": 6,
   "id": "7bc09331-c83a-4626-9cb9-b368d8399cda",
   "metadata": {},
   "outputs": [
    {
     "name": "stdout",
     "output_type": "stream",
     "text": [
      "\u001b[1m\u001b[34mPreparing to preview\u001b[39m\u001b[22m\n",
      "[ 1/44] 00_core.ipynb\u001b[39m\u001b[22m\n",
      "[ 2/44] 00_data.ipynb\u001b[39m\u001b[22m\n",
      "[ 3/44] 01_feature.ipynb\u001b[39m\u001b[22m\n",
      "[ 4/44] 01_preprocess.ipynb\u001b[39m\u001b[22m\n",
      "[ 5/44] 02_plot.ipynb\u001b[39m\u001b[22m\n",
      "\u001b[33mWARN: jupyter-fixup: cells without output data. Will not fixup bokeh cell\u001b[39m\n",
      "[ 6/44] 02_pssm.ipynb\u001b[39m\u001b[22m\n",
      "[ 7/44] 03_ML.ipynb\u001b[39m\u001b[22m\n",
      "[ 8/44] 03_score.ipynb\u001b[39m\u001b[22m\n",
      "[ 9/44] 04_DL.ipynb\u001b[39m\u001b[22m\n",
      "[10/44] 04_feature.ipynb\u001b[39m\u001b[22m\n",
      "[11/44] 05_plot.ipynb\u001b[39m\u001b[22m\n",
      "\u001b[33mWARN: jupyter-fixup: cells without output data. Will not fixup bokeh cell\u001b[39m\n",
      "[12/44] 06_ML.ipynb\u001b[39m\u001b[22m\n",
      "[13/44] 07_DL.ipynb\u001b[39m\u001b[22m\n",
      "[14/44] 08_analyze.ipynb\u001b[39m\u001b[22m\n",
      "[15/44] Tutorials/tutorial_00_data.ipynb\u001b[39m\u001b[22m\n",
      "[16/44] Tutorials/tutorial_01_sinlge_input.ipynb\u001b[39m\u001b[22m\n",
      "[17/44] Tutorials/tutorial_02_high_throughput.ipynb\u001b[39m\u001b[22m\n",
      "[18/44] Tutorials/tutorial_03a_enrichment_AKTi.ipynb\u001b[39m\u001b[22m\n",
      "[19/44] examples/tutorial_00_data.ipynb\u001b[39m\u001b[22m\n",
      "[20/44] examples/tutorial_01_checker_scoring.ipynb\u001b[39m\u001b[22m\n",
      "[21/44] examples/tutorial_02_prepare_dataset.ipynb\u001b[39m\u001b[22m\n",
      "[22/44] examples/tutorial_03_PSPA_nomalization.ipynb\u001b[39m\u001b[22m\n",
      "[23/44] examples/tutorial_04_plot.ipynb\u001b[39m\u001b[22m\n",
      "[24/44] index.ipynb\u001b[39m\u001b[22m\n",
      "[25/44] paper/07b_GO_path.ipynb\u001b[39m\u001b[22m\n",
      "[26/44] paper/07b_Reactome_path.ipynb\u001b[39m\u001b[22m\n",
      "[27/44] paper/autoencoders-stacked-sparse-variational-keras (1).ipynb\u001b[39m\u001b[22m\n",
      "[28/44] paper/data_01_Preprocess_LS.ipynb\u001b[39m\u001b[22m\n",
      "[29/44] paper/data_02_EDA.ipynb\u001b[39m\u001b[22m\n",
      "[30/44] paper/data_03_Kmeans_motif.ipynb\u001b[39m\u001b[22m\n",
      "[31/44] paper/data_04_KS_motif.ipynb\u001b[39m\u001b[22m\n",
      "[32/44] paper/data_05_train_set.ipynb\u001b[39m\u001b[22m\n",
      "[33/44] paper/data_06_train.ipynb\u001b[39m\u001b[22m\n",
      "[34/44] paper/ssss_04_encode-Copy1.ipynb\u001b[39m\u001b[22m\n",
      "[35/44] tutorials/01_sinlge_input.ipynb\u001b[39m\u001b[22m\n",
      "[36/44] tutorials/02_high_throughput.ipynb\u001b[39m\u001b[22m\n",
      "[37/44] tutorials/03a_enrichment_AKTi.ipynb\u001b[39m\u001b[22m\n",
      "[38/44] tutorials/tutorial_01_checker_scoring.ipynb\u001b[39m\u001b[22m\n",
      "[39/44] tutorials/tutorial_01_sinlge_input.ipynb\u001b[39m\u001b[22m\n",
      "[40/44] tutorials/tutorial_02_high_throughput.ipynb\u001b[39m\u001b[22m\n",
      "[41/44] tutorials/tutorial_02_prepare_dataset.ipynb\u001b[39m\u001b[22m\n",
      "[42/44] tutorials/tutorial_03_PSPA_nomalization.ipynb\u001b[39m\u001b[22m\n",
      "[43/44] tutorials/tutorial_03a_enrichment_AKTi.ipynb\u001b[39m\u001b[22m\n",
      "[44/44] tutorials/tutorial_04_plot.ipynb\u001b[39m\u001b[22m\n",
      "\n",
      "\u001b[91mERROR: NotFound: No such file or directory (os error 2): rename '/teamspace/studios/this_studio/katlas/_proc/feature.html' -> '/teamspace/studios/this_studio/katlas/_proc/_docs/feature.html'\n",
      "\n",
      "Stack trace:\n",
      "    at Object.renameSync (ext:deno_fs/30_fs.js:267:3)\n",
      "    at safeMoveSync (file:///opt/quarto/bin/quarto.js:2354:14)\n",
      "    at renderProject (file:///opt/quarto/bin/quarto.js:87398:17)\n",
      "    at eventLoopTick (ext:core/01_core.js:175:7)\n",
      "    at async serveProject (file:///opt/quarto/bin/quarto.js:108751:24)\n",
      "    at async Command.actionHandler (file:///opt/quarto/bin/quarto.js:109448:9)\n",
      "    at async Command.execute (file:///opt/quarto/bin/quarto.js:8253:13)\n",
      "    at async Command.parseCommand (file:///opt/quarto/bin/quarto.js:8143:20)\n",
      "    at async quarto (file:///opt/quarto/bin/quarto.js:128476:9)\n",
      "    at async file:///opt/quarto/bin/quarto.js:128506:9\u001b[39m\n"
     ]
    }
   ],
   "source": [
    "!nbdev_preview --port 8000"
   ]
  },
  {
   "cell_type": "code",
   "execution_count": null,
   "id": "2c971a81-170e-441f-8c23-f4d6ff1ab172",
   "metadata": {},
   "outputs": [],
   "source": []
  }
 ],
 "metadata": {
  "kernelspec": {
   "display_name": "Python 3 (ipykernel)",
   "language": "python",
   "name": "python3"
  },
  "language_info": {
   "codemirror_mode": {
    "name": "ipython",
    "version": 3
   },
   "file_extension": ".py",
   "mimetype": "text/x-python",
   "name": "python",
   "nbconvert_exporter": "python",
   "pygments_lexer": "ipython3",
   "version": "3.13.5"
  }
 },
 "nbformat": 4,
 "nbformat_minor": 5
}
