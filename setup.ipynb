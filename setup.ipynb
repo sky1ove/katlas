{
 "cells": [
  {
   "cell_type": "code",
   "execution_count": 1,
   "id": "122d7cd6-a09d-4a0d-ae80-5c702e18c033",
   "metadata": {},
   "outputs": [
    {
     "name": "stdout",
     "output_type": "stream",
     "text": [
      "Obtaining file:///notebooks/katlas\n",
      "  Preparing metadata (setup.py) ... \u001b[?25ldone\n",
      "\u001b[?25hRequirement already satisfied: fastcore in /usr/local/lib/python3.9/dist-packages (from katlas==0.0.1) (1.5.27)\n",
      "Requirement already satisfied: pandas in /usr/local/lib/python3.9/dist-packages (from katlas==0.0.1) (1.4.3)\n",
      "Requirement already satisfied: logomaker in /usr/local/lib/python3.9/dist-packages (from katlas==0.0.1) (0.8)\n",
      "Requirement already satisfied: seaborn in /usr/local/lib/python3.9/dist-packages (from katlas==0.0.1) (0.11.2)\n",
      "Requirement already satisfied: nbdev in /usr/local/lib/python3.9/dist-packages (from katlas==0.0.1) (2.3.12)\n",
      "Requirement already satisfied: pip in /usr/local/lib/python3.9/dist-packages (from fastcore->katlas==0.0.1) (22.2.2)\n",
      "Requirement already satisfied: packaging in /usr/local/lib/python3.9/dist-packages (from fastcore->katlas==0.0.1) (21.3)\n",
      "Requirement already satisfied: numpy in /usr/local/lib/python3.9/dist-packages (from logomaker->katlas==0.0.1) (1.23.1)\n",
      "Requirement already satisfied: matplotlib in /usr/local/lib/python3.9/dist-packages (from logomaker->katlas==0.0.1) (3.5.2)\n",
      "Requirement already satisfied: PyYAML in /usr/lib/python3/dist-packages (from nbdev->katlas==0.0.1) (5.3.1)\n",
      "Requirement already satisfied: ghapi>=1.0.3 in /usr/local/lib/python3.9/dist-packages (from nbdev->katlas==0.0.1) (1.0.3)\n",
      "Requirement already satisfied: execnb>=0.1.4 in /usr/local/lib/python3.9/dist-packages (from nbdev->katlas==0.0.1) (0.1.5)\n",
      "Requirement already satisfied: asttokens in /usr/local/lib/python3.9/dist-packages (from nbdev->katlas==0.0.1) (2.0.5)\n",
      "Requirement already satisfied: watchdog in /usr/local/lib/python3.9/dist-packages (from nbdev->katlas==0.0.1) (3.0.0)\n",
      "Requirement already satisfied: astunparse in /usr/local/lib/python3.9/dist-packages (from nbdev->katlas==0.0.1) (1.6.3)\n",
      "Requirement already satisfied: python-dateutil>=2.8.1 in /usr/local/lib/python3.9/dist-packages (from pandas->katlas==0.0.1) (2.8.2)\n",
      "Requirement already satisfied: pytz>=2020.1 in /usr/local/lib/python3.9/dist-packages (from pandas->katlas==0.0.1) (2022.1)\n",
      "Requirement already satisfied: scipy>=1.0 in /usr/local/lib/python3.9/dist-packages (from seaborn->katlas==0.0.1) (1.8.1)\n",
      "Requirement already satisfied: ipython in /usr/local/lib/python3.9/dist-packages (from execnb>=0.1.4->nbdev->katlas==0.0.1) (8.4.0)\n",
      "Requirement already satisfied: pyparsing>=2.2.1 in /usr/local/lib/python3.9/dist-packages (from matplotlib->logomaker->katlas==0.0.1) (3.0.9)\n",
      "Requirement already satisfied: cycler>=0.10 in /usr/local/lib/python3.9/dist-packages (from matplotlib->logomaker->katlas==0.0.1) (0.11.0)\n",
      "Requirement already satisfied: pillow>=6.2.0 in /usr/local/lib/python3.9/dist-packages (from matplotlib->logomaker->katlas==0.0.1) (9.2.0)\n",
      "Requirement already satisfied: kiwisolver>=1.0.1 in /usr/local/lib/python3.9/dist-packages (from matplotlib->logomaker->katlas==0.0.1) (1.4.3)\n",
      "Requirement already satisfied: fonttools>=4.22.0 in /usr/local/lib/python3.9/dist-packages (from matplotlib->logomaker->katlas==0.0.1) (4.34.4)\n",
      "Requirement already satisfied: six>=1.5 in /usr/lib/python3/dist-packages (from python-dateutil>=2.8.1->pandas->katlas==0.0.1) (1.14.0)\n",
      "Requirement already satisfied: wheel<1.0,>=0.23.0 in /usr/local/lib/python3.9/dist-packages (from astunparse->nbdev->katlas==0.0.1) (0.35.1)\n",
      "Requirement already satisfied: decorator in /usr/local/lib/python3.9/dist-packages (from ipython->execnb>=0.1.4->nbdev->katlas==0.0.1) (5.1.1)\n",
      "Requirement already satisfied: jedi>=0.16 in /usr/local/lib/python3.9/dist-packages (from ipython->execnb>=0.1.4->nbdev->katlas==0.0.1) (0.18.1)\n",
      "Requirement already satisfied: pexpect>4.3 in /usr/local/lib/python3.9/dist-packages (from ipython->execnb>=0.1.4->nbdev->katlas==0.0.1) (4.8.0)\n",
      "Requirement already satisfied: backcall in /usr/local/lib/python3.9/dist-packages (from ipython->execnb>=0.1.4->nbdev->katlas==0.0.1) (0.2.0)\n",
      "Requirement already satisfied: pickleshare in /usr/local/lib/python3.9/dist-packages (from ipython->execnb>=0.1.4->nbdev->katlas==0.0.1) (0.7.5)\n",
      "Requirement already satisfied: prompt-toolkit!=3.0.0,!=3.0.1,<3.1.0,>=2.0.0 in /usr/local/lib/python3.9/dist-packages (from ipython->execnb>=0.1.4->nbdev->katlas==0.0.1) (3.0.30)\n",
      "Requirement already satisfied: stack-data in /usr/local/lib/python3.9/dist-packages (from ipython->execnb>=0.1.4->nbdev->katlas==0.0.1) (0.3.0)\n",
      "Requirement already satisfied: matplotlib-inline in /usr/local/lib/python3.9/dist-packages (from ipython->execnb>=0.1.4->nbdev->katlas==0.0.1) (0.1.3)\n",
      "Requirement already satisfied: setuptools>=18.5 in /usr/local/lib/python3.9/dist-packages (from ipython->execnb>=0.1.4->nbdev->katlas==0.0.1) (63.1.0)\n",
      "Requirement already satisfied: pygments>=2.4.0 in /usr/local/lib/python3.9/dist-packages (from ipython->execnb>=0.1.4->nbdev->katlas==0.0.1) (2.12.0)\n",
      "Requirement already satisfied: traitlets>=5 in /usr/local/lib/python3.9/dist-packages (from ipython->execnb>=0.1.4->nbdev->katlas==0.0.1) (5.3.0)\n",
      "Requirement already satisfied: parso<0.9.0,>=0.8.0 in /usr/local/lib/python3.9/dist-packages (from jedi>=0.16->ipython->execnb>=0.1.4->nbdev->katlas==0.0.1) (0.8.3)\n",
      "Requirement already satisfied: ptyprocess>=0.5 in /usr/local/lib/python3.9/dist-packages (from pexpect>4.3->ipython->execnb>=0.1.4->nbdev->katlas==0.0.1) (0.7.0)\n",
      "Requirement already satisfied: wcwidth in /usr/local/lib/python3.9/dist-packages (from prompt-toolkit!=3.0.0,!=3.0.1,<3.1.0,>=2.0.0->ipython->execnb>=0.1.4->nbdev->katlas==0.0.1) (0.2.5)\n",
      "Requirement already satisfied: pure-eval in /usr/local/lib/python3.9/dist-packages (from stack-data->ipython->execnb>=0.1.4->nbdev->katlas==0.0.1) (0.2.2)\n",
      "Requirement already satisfied: executing in /usr/local/lib/python3.9/dist-packages (from stack-data->ipython->execnb>=0.1.4->nbdev->katlas==0.0.1) (0.8.3)\n",
      "Installing collected packages: katlas\n",
      "  Running setup.py develop for katlas\n",
      "Successfully installed katlas\n",
      "\u001b[33mWARNING: Running pip as the 'root' user can result in broken permissions and conflicting behaviour with the system package manager. It is recommended to use a virtual environment instead: https://pip.pypa.io/warnings/venv\u001b[0m\u001b[33m\n",
      "\u001b[0mInstalling or upgrading quarto -- this requires root access.\n",
      "  % Total    % Received % Xferd  Average Speed   Time    Time     Time  Current\n",
      "                                 Dload  Upload   Total   Spent    Left  Speed\n",
      "100    72  100    72    0     0   1125      0 --:--:-- --:--:-- --:--:--  1125\n",
      "100   114  100   114    0     0    974      0 --:--:-- --:--:-- --:--:--   974\n",
      "  0     0    0     0    0     0      0      0 --:--:-- --:--:-- --:--:--     0\n",
      "100 84.5M  100 84.5M    0     0   108M      0 --:--:-- --:--:-- --:--:--  316M\n",
      "(Reading database ... 81360 files and directories currently installed.)\n",
      "Preparing to unpack quarto-linux-amd64.deb ...\n",
      "Unpacking quarto (1.3.361) over (1.3.361) ...\n",
      "Setting up quarto (1.3.361) ...\n"
     ]
    }
   ],
   "source": [
    "!pip install -e '.[dev]'\n",
    "!nbdev_install_quarto"
   ]
  },
  {
   "cell_type": "code",
   "execution_count": null,
   "id": "6c948172-63fa-490d-b8d7-4fadd25dfa17",
   "metadata": {},
   "outputs": [],
   "source": []
  }
 ],
 "metadata": {
  "kernelspec": {
   "display_name": "Python 3 (ipykernel)",
   "language": "python",
   "name": "python3"
  },
  "language_info": {
   "codemirror_mode": {
    "name": "ipython",
    "version": 3
   },
   "file_extension": ".py",
   "mimetype": "text/x-python",
   "name": "python",
   "nbconvert_exporter": "python",
   "pygments_lexer": "ipython3",
   "version": "3.9.13"
  }
 },
 "nbformat": 4,
 "nbformat_minor": 5
}
