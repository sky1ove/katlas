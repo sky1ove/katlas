{
 "cells": [
  {
   "cell_type": "markdown",
   "id": "83a5b2f1-9e4f-4c22-a54a-ed6d07a27389",
   "metadata": {},
   "source": [
    "%pip install -e '.[dev]'"
   ]
  }
 ],
 "metadata": {
  "kernelspec": {
   "display_name": "Python 3",
   "language": "python",
   "name": "python3"
  },
  "language_info": {
   "codemirror_mode": {
    "name": "ipython",
    "version": 3
   },
   "file_extension": ".py",
   "mimetype": "text/x-python",
   "name": "python",
   "nbconvert_exporter": "python",
   "pygments_lexer": "ipython3",
   "version": "3.10.10"
  }
 },
 "nbformat": 4,
 "nbformat_minor": 5
}
