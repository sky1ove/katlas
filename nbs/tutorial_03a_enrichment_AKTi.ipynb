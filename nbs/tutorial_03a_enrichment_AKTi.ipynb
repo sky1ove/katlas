{
 "cells": [
  {
   "cell_type": "raw",
   "id": "dadb9cd2-396b-47f1-b8a9-322493fb6080",
   "metadata": {},
   "source": [
    "---\n",
    "skip_showdoc: true\n",
    "skip_exec: true\n",
    "---"
   ]
  },
  {
   "cell_type": "markdown",
   "id": "32f9d8e0-98f5-4db9-9cc8-766b0a4a7b97",
   "metadata": {},
   "source": [
    "<a target=\"_blank\" href=\"https://colab.research.google.com/github/sky1ove/katlas/blob/main/nbs/tutorial_03a_enrichment_AKTi.ipynb\">\n",
    "  <img src=\"https://colab.research.google.com/assets/colab-badge.svg\" alt=\"Open In Colab\"/>\n",
    "</a>"
   ]
  },
  {
   "cell_type": "markdown",
   "id": "1343271b-adce-4877-b4d1-3a952fc1ca3a",
   "metadata": {},
   "source": [
    "# Kinase enrichment analysis - AKTi"
   ]
  },
  {
   "cell_type": "markdown",
   "id": "401aaa05-207b-4876-b454-f324b596afca",
   "metadata": {},
   "source": [
    "In this session, we will analyze the differential change of phosphorylation sites in phosphoproteomics dataset."
   ]
  },
  {
   "cell_type": "markdown",
   "id": "586d06a8-4dd5-4e9c-8903-5988ba54787a",
   "metadata": {},
   "source": [
    "## Setup"
   ]
  },
  {
   "cell_type": "code",
   "execution_count": null,
   "id": "268ae9ec-96b8-40a5-81f8-e43fb3bc9b31",
   "metadata": {},
   "outputs": [],
   "source": [
    "!pip install python-katlas -Uq"
   ]
  },
  {
   "cell_type": "code",
   "execution_count": null,
   "id": "53c27018-51ff-4e3f-8801-8e63b9d335a2",
   "metadata": {},
   "outputs": [],
   "source": [
    "# katlas\n",
    "from katlas.core import *\n",
    "# from katlas.plot import plot_rank, set_sns\n",
    "\n",
    "# utils\n",
    "import pandas as pd, numpy as np, seaborn as sns\n",
    "from matplotlib import pyplot as plt\n",
    "from functools import reduce, partial\n",
    "from tqdm import tqdm\n",
    "\n",
    "# statistics\n",
    "from scipy.stats import ttest_rel,ttest_ind\n",
    "from statsmodels.stats.multitest import multipletests\n",
    "\n",
    "# disable warning\n",
    "import warnings\n",
    "warnings.filterwarnings(\"ignore\", message=\"converting a masked element to nan\")\n",
    "\n",
    "pd.set_option('display.precision', 15)"
   ]
  },
  {
   "cell_type": "markdown",
   "id": "6234c039-b529-4e6a-9a34-29459d53e162",
   "metadata": {},
   "source": [
    "## Data"
   ]
  },
  {
   "cell_type": "markdown",
   "id": "9db6552d-84bd-4cfc-a88f-3a30cb79adf0",
   "metadata": {},
   "source": [
    "The phosphoproteomics dataset is from paper [Chemical Phosphoproteomics Sheds New Light on the Targets and Modes of Action of AKT Inhibitors](https://pubs.acs.org/doi/10.1021/acschembio.0c00872); five clinical AKT inhibitors are evaluated in this study."
   ]
  },
  {
   "cell_type": "markdown",
   "id": "b7a05a2f-365d-422a-b04d-e278332464b1",
   "metadata": {},
   "source": [
    "<img width=\"700\" src=\"https://github.com/sky1ove/katlas/raw/main/dataset/images/AKTi.png\"/>"
   ]
  },
  {
   "cell_type": "code",
   "execution_count": null,
   "id": "5f2c3013-196a-49b8-bffa-f919d8f663f3",
   "metadata": {},
   "outputs": [],
   "source": [
    "df = pd.read_csv('https://github.com/sky1ove/katlas/raw/main/nbs/raw/AKT_inhibitor.csv')"
   ]
  },
  {
   "cell_type": "code",
   "execution_count": null,
   "id": "daf724b2-1539-43d1-b044-07034060917f",
   "metadata": {},
   "outputs": [
    {
     "data": {
      "text/html": [
       "<div>\n",
       "<style scoped>\n",
       "    .dataframe tbody tr th:only-of-type {\n",
       "        vertical-align: middle;\n",
       "    }\n",
       "\n",
       "    .dataframe tbody tr th {\n",
       "        vertical-align: top;\n",
       "    }\n",
       "\n",
       "    .dataframe thead th {\n",
       "        text-align: right;\n",
       "    }\n",
       "</style>\n",
       "<table border=\"1\" class=\"dataframe\">\n",
       "  <thead>\n",
       "    <tr style=\"text-align: right;\">\n",
       "      <th></th>\n",
       "      <th>gene_site</th>\n",
       "      <th>site_seq</th>\n",
       "      <th>Control_R1</th>\n",
       "      <th>Control_R2</th>\n",
       "      <th>Control_R3</th>\n",
       "      <th>Control_R4</th>\n",
       "      <th>AZD5363_R1</th>\n",
       "      <th>AZD5363_R2</th>\n",
       "      <th>AZD5363_R3</th>\n",
       "      <th>AZD5363_R4</th>\n",
       "      <th>...</th>\n",
       "      <th>GSK690693_R3</th>\n",
       "      <th>GSK690693_R4</th>\n",
       "      <th>Ipatasertib_R1</th>\n",
       "      <th>Ipatasertib_R2</th>\n",
       "      <th>Ipatasertib_R3</th>\n",
       "      <th>Ipatasertib_R4</th>\n",
       "      <th>MK-2206_R1</th>\n",
       "      <th>MK-2206_R2</th>\n",
       "      <th>MK-2206_R3</th>\n",
       "      <th>MK-2206_R4</th>\n",
       "    </tr>\n",
       "  </thead>\n",
       "  <tbody>\n",
       "    <tr>\n",
       "      <th>0</th>\n",
       "      <td>AAK1_S637</td>\n",
       "      <td>AGHRRILsDVtHsAV</td>\n",
       "      <td>14.167260000000001</td>\n",
       "      <td>13.791940000000000</td>\n",
       "      <td>13.888430000000000</td>\n",
       "      <td>13.991310000000000</td>\n",
       "      <td>14.581049999999999</td>\n",
       "      <td>14.802630000000001</td>\n",
       "      <td>14.723060000000000</td>\n",
       "      <td>14.857880000000000</td>\n",
       "      <td>...</td>\n",
       "      <td>14.47591</td>\n",
       "      <td>14.810269999999999</td>\n",
       "      <td>14.541550000000001</td>\n",
       "      <td>14.598560000000001</td>\n",
       "      <td>14.669480000000000</td>\n",
       "      <td>14.267690000000000</td>\n",
       "      <td>14.500560000000000</td>\n",
       "      <td>14.700110000000000</td>\n",
       "      <td>14.642170000000000</td>\n",
       "      <td>14.394790000000000</td>\n",
       "    </tr>\n",
       "    <tr>\n",
       "      <th>1</th>\n",
       "      <td>ABCF1_S105</td>\n",
       "      <td>MERLKKLsVPtsDEE</td>\n",
       "      <td>14.184260000000000</td>\n",
       "      <td>14.422390000000000</td>\n",
       "      <td>14.320520000000000</td>\n",
       "      <td>14.310689999999999</td>\n",
       "      <td>14.905970000000000</td>\n",
       "      <td>15.157950000000000</td>\n",
       "      <td>14.848050000000001</td>\n",
       "      <td>14.968950000000000</td>\n",
       "      <td>...</td>\n",
       "      <td>14.82788</td>\n",
       "      <td>14.924620000000001</td>\n",
       "      <td>14.888140000000000</td>\n",
       "      <td>15.019850000000000</td>\n",
       "      <td>14.857740000000000</td>\n",
       "      <td>14.809049999999999</td>\n",
       "      <td>14.915050000000001</td>\n",
       "      <td>14.815270000000000</td>\n",
       "      <td>15.067920000000001</td>\n",
       "      <td>14.526149999999999</td>\n",
       "    </tr>\n",
       "    <tr>\n",
       "      <th>2</th>\n",
       "      <td>ACIN1_S208</td>\n",
       "      <td>HSPRKSSsIsEEKGD</td>\n",
       "      <td>15.956730000000000</td>\n",
       "      <td>15.791060000000000</td>\n",
       "      <td>NaN</td>\n",
       "      <td>15.961280000000000</td>\n",
       "      <td>14.763690000000000</td>\n",
       "      <td>14.926340000000000</td>\n",
       "      <td>NaN</td>\n",
       "      <td>14.933990000000000</td>\n",
       "      <td>...</td>\n",
       "      <td>NaN</td>\n",
       "      <td>14.728800000000000</td>\n",
       "      <td>15.004510000000000</td>\n",
       "      <td>14.969420000000000</td>\n",
       "      <td>NaN</td>\n",
       "      <td>14.797020000000000</td>\n",
       "      <td>14.923180000000000</td>\n",
       "      <td>15.012650000000001</td>\n",
       "      <td>NaN</td>\n",
       "      <td>15.046220000000000</td>\n",
       "    </tr>\n",
       "    <tr>\n",
       "      <th>3</th>\n",
       "      <td>ACIN1_S216</td>\n",
       "      <td>IsEEKGDsDDEKPRK</td>\n",
       "      <td>17.457689999999999</td>\n",
       "      <td>16.997420000000002</td>\n",
       "      <td>17.373349999999999</td>\n",
       "      <td>17.434950000000001</td>\n",
       "      <td>16.252500000000001</td>\n",
       "      <td>16.341049999999999</td>\n",
       "      <td>16.316970000000001</td>\n",
       "      <td>16.411560000000001</td>\n",
       "      <td>...</td>\n",
       "      <td>16.38372</td>\n",
       "      <td>16.193570000000001</td>\n",
       "      <td>16.486070000000002</td>\n",
       "      <td>16.445869999999999</td>\n",
       "      <td>16.275169999999999</td>\n",
       "      <td>16.242329999999999</td>\n",
       "      <td>16.405529999999999</td>\n",
       "      <td>16.500750000000000</td>\n",
       "      <td>16.558160000000001</td>\n",
       "      <td>16.533030000000000</td>\n",
       "    </tr>\n",
       "    <tr>\n",
       "      <th>4</th>\n",
       "      <td>ACIN1_S240</td>\n",
       "      <td>QARAAkLsEGsQPAE</td>\n",
       "      <td>13.211040000000001</td>\n",
       "      <td>13.129730000000000</td>\n",
       "      <td>13.565530000000001</td>\n",
       "      <td>13.572440000000000</td>\n",
       "      <td>12.127129999999999</td>\n",
       "      <td>12.011320000000000</td>\n",
       "      <td>12.125540000000001</td>\n",
       "      <td>11.806080000000000</td>\n",
       "      <td>...</td>\n",
       "      <td>12.09775</td>\n",
       "      <td>12.322410000000000</td>\n",
       "      <td>11.838360000000000</td>\n",
       "      <td>12.090270000000000</td>\n",
       "      <td>12.027799999999999</td>\n",
       "      <td>11.561370000000000</td>\n",
       "      <td>12.093400000000001</td>\n",
       "      <td>12.152469999999999</td>\n",
       "      <td>12.159110000000000</td>\n",
       "      <td>11.888489999999999</td>\n",
       "    </tr>\n",
       "  </tbody>\n",
       "</table>\n",
       "<p>5 rows × 26 columns</p>\n",
       "</div>"
      ],
      "text/plain": [
       "    gene_site         site_seq          Control_R1          Control_R2  \\\n",
       "0   AAK1_S637  AGHRRILsDVtHsAV  14.167260000000001  13.791940000000000   \n",
       "1  ABCF1_S105  MERLKKLsVPtsDEE  14.184260000000000  14.422390000000000   \n",
       "2  ACIN1_S208  HSPRKSSsIsEEKGD  15.956730000000000  15.791060000000000   \n",
       "3  ACIN1_S216  IsEEKGDsDDEKPRK  17.457689999999999  16.997420000000002   \n",
       "4  ACIN1_S240  QARAAkLsEGsQPAE  13.211040000000001  13.129730000000000   \n",
       "\n",
       "           Control_R3          Control_R4          AZD5363_R1  \\\n",
       "0  13.888430000000000  13.991310000000000  14.581049999999999   \n",
       "1  14.320520000000000  14.310689999999999  14.905970000000000   \n",
       "2                 NaN  15.961280000000000  14.763690000000000   \n",
       "3  17.373349999999999  17.434950000000001  16.252500000000001   \n",
       "4  13.565530000000001  13.572440000000000  12.127129999999999   \n",
       "\n",
       "           AZD5363_R2          AZD5363_R3          AZD5363_R4  ...  \\\n",
       "0  14.802630000000001  14.723060000000000  14.857880000000000  ...   \n",
       "1  15.157950000000000  14.848050000000001  14.968950000000000  ...   \n",
       "2  14.926340000000000                 NaN  14.933990000000000  ...   \n",
       "3  16.341049999999999  16.316970000000001  16.411560000000001  ...   \n",
       "4  12.011320000000000  12.125540000000001  11.806080000000000  ...   \n",
       "\n",
       "   GSK690693_R3        GSK690693_R4      Ipatasertib_R1      Ipatasertib_R2  \\\n",
       "0      14.47591  14.810269999999999  14.541550000000001  14.598560000000001   \n",
       "1      14.82788  14.924620000000001  14.888140000000000  15.019850000000000   \n",
       "2           NaN  14.728800000000000  15.004510000000000  14.969420000000000   \n",
       "3      16.38372  16.193570000000001  16.486070000000002  16.445869999999999   \n",
       "4      12.09775  12.322410000000000  11.838360000000000  12.090270000000000   \n",
       "\n",
       "       Ipatasertib_R3      Ipatasertib_R4          MK-2206_R1  \\\n",
       "0  14.669480000000000  14.267690000000000  14.500560000000000   \n",
       "1  14.857740000000000  14.809049999999999  14.915050000000001   \n",
       "2                 NaN  14.797020000000000  14.923180000000000   \n",
       "3  16.275169999999999  16.242329999999999  16.405529999999999   \n",
       "4  12.027799999999999  11.561370000000000  12.093400000000001   \n",
       "\n",
       "           MK-2206_R2          MK-2206_R3          MK-2206_R4  \n",
       "0  14.700110000000000  14.642170000000000  14.394790000000000  \n",
       "1  14.815270000000000  15.067920000000001  14.526149999999999  \n",
       "2  15.012650000000001                 NaN  15.046220000000000  \n",
       "3  16.500750000000000  16.558160000000001  16.533030000000000  \n",
       "4  12.152469999999999  12.159110000000000  11.888489999999999  \n",
       "\n",
       "[5 rows x 26 columns]"
      ]
     },
     "execution_count": null,
     "metadata": {},
     "output_type": "execute_result"
    }
   ],
   "source": [
    "df.head()"
   ]
  },
  {
   "cell_type": "code",
   "execution_count": null,
   "id": "fbd6dd49-280f-4147-b972-ecd96c7fabf0",
   "metadata": {},
   "outputs": [
    {
     "data": {
      "text/plain": [
       "Index(['gene_site', 'site_seq', 'Control_R1', 'Control_R2', 'Control_R3',\n",
       "       'Control_R4', 'AZD5363_R1', 'AZD5363_R2', 'AZD5363_R3', 'AZD5363_R4',\n",
       "       'GSK2110183_R1', 'GSK2110183_R2', 'GSK2110183_R3', 'GSK2110183_R4',\n",
       "       'GSK690693_R1', 'GSK690693_R2', 'GSK690693_R3', 'GSK690693_R4',\n",
       "       'Ipatasertib_R1', 'Ipatasertib_R2', 'Ipatasertib_R3', 'Ipatasertib_R4',\n",
       "       'MK-2206_R1', 'MK-2206_R2', 'MK-2206_R3', 'MK-2206_R4'],\n",
       "      dtype='object')"
      ]
     },
     "execution_count": null,
     "metadata": {},
     "output_type": "execute_result"
    }
   ],
   "source": [
    "df.columns"
   ]
  },
  {
   "cell_type": "code",
   "execution_count": null,
   "id": "0dd04e24-830a-4e99-ad45-363f2eb9dcff",
   "metadata": {},
   "outputs": [],
   "source": [
    "ctrl = df.columns[df.columns.str.contains('Control')]\n",
    "\n",
    "# below are five AKT inhibitors\n",
    "AZD = df.columns[df.columns.str.contains('AZD5363')]\n",
    "GSK2 = df.columns[df.columns.str.contains('GSK2110183')]\n",
    "GSK6 = df.columns[df.columns.str.contains('GSK690693')] \n",
    "ipa = df.columns[df.columns.str.contains('Ipatasertib')]\n",
    "MK = df.columns[df.columns.str.contains('MK')]"
   ]
  },
  {
   "cell_type": "markdown",
   "id": "3fcd6988-ccb4-485f-8662-f1665c8d44dd",
   "metadata": {},
   "source": [
    "## Statistical test"
   ]
  },
  {
   "cell_type": "markdown",
   "id": "5ec7bde6-4d61-43a4-a940-8b4286d9c4d6",
   "metadata": {},
   "source": [
    "Let's use AZD for example:"
   ]
  },
  {
   "cell_type": "code",
   "execution_count": null,
   "id": "eb496acb-fbab-47fd-8f1b-66a1fc713f94",
   "metadata": {},
   "outputs": [
    {
     "name": "stderr",
     "output_type": "stream",
     "text": [
      "Computing mann_whitney tests: 100%|██████████| 10900/10900 [00:10<00:00, 1061.00it/s]\n"
     ]
    }
   ],
   "source": [
    "azd = get_pvalue(df,ctrl, AZD,'mann_whitney')"
   ]
  },
  {
   "cell_type": "code",
   "execution_count": null,
   "id": "eba9e24b-00d3-4636-8e7a-cee9912cb7c5",
   "metadata": {},
   "outputs": [
    {
     "data": {
      "text/html": [
       "<div>\n",
       "<style scoped>\n",
       "    .dataframe tbody tr th:only-of-type {\n",
       "        vertical-align: middle;\n",
       "    }\n",
       "\n",
       "    .dataframe tbody tr th {\n",
       "        vertical-align: top;\n",
       "    }\n",
       "\n",
       "    .dataframe thead th {\n",
       "        text-align: right;\n",
       "    }\n",
       "</style>\n",
       "<table border=\"1\" class=\"dataframe\">\n",
       "  <thead>\n",
       "    <tr style=\"text-align: right;\">\n",
       "      <th></th>\n",
       "      <th>log2FC</th>\n",
       "      <th>p_value</th>\n",
       "      <th>p_adj</th>\n",
       "      <th>signed_logP</th>\n",
       "      <th>signed_logPadj</th>\n",
       "    </tr>\n",
       "  </thead>\n",
       "  <tbody>\n",
       "    <tr>\n",
       "      <th>0</th>\n",
       "      <td>0.822975000000001</td>\n",
       "      <td>0.028571428571429</td>\n",
       "      <td>0.186595908585124</td>\n",
       "      <td>1.544068044350276</td>\n",
       "      <td>0.729097883088899</td>\n",
       "    </tr>\n",
       "    <tr>\n",
       "      <th>1</th>\n",
       "      <td>0.621855000000000</td>\n",
       "      <td>0.028571428571429</td>\n",
       "      <td>0.186595908585124</td>\n",
       "      <td>1.544068044350276</td>\n",
       "      <td>0.729097883088899</td>\n",
       "    </tr>\n",
       "    <tr>\n",
       "      <th>2</th>\n",
       "      <td>-1.030390000000001</td>\n",
       "      <td>0.100000000000000</td>\n",
       "      <td>0.314892387693197</td>\n",
       "      <td>-1.000000000000000</td>\n",
       "      <td>-0.501837838006831</td>\n",
       "    </tr>\n",
       "    <tr>\n",
       "      <th>3</th>\n",
       "      <td>-1.075140000000001</td>\n",
       "      <td>0.028571428571429</td>\n",
       "      <td>0.186595908585124</td>\n",
       "      <td>-1.544068044350276</td>\n",
       "      <td>-0.729097883088899</td>\n",
       "    </tr>\n",
       "    <tr>\n",
       "      <th>4</th>\n",
       "      <td>-1.319855000000000</td>\n",
       "      <td>0.028571428571429</td>\n",
       "      <td>0.186595908585124</td>\n",
       "      <td>-1.544068044350276</td>\n",
       "      <td>-0.729097883088899</td>\n",
       "    </tr>\n",
       "  </tbody>\n",
       "</table>\n",
       "</div>"
      ],
      "text/plain": [
       "              log2FC            p_value              p_adj        signed_logP  \\\n",
       "0  0.822975000000001  0.028571428571429  0.186595908585124  1.544068044350276   \n",
       "1  0.621855000000000  0.028571428571429  0.186595908585124  1.544068044350276   \n",
       "2 -1.030390000000001  0.100000000000000  0.314892387693197 -1.000000000000000   \n",
       "3 -1.075140000000001  0.028571428571429  0.186595908585124 -1.544068044350276   \n",
       "4 -1.319855000000000  0.028571428571429  0.186595908585124 -1.544068044350276   \n",
       "\n",
       "      signed_logPadj  \n",
       "0  0.729097883088899  \n",
       "1  0.729097883088899  \n",
       "2 -0.501837838006831  \n",
       "3 -0.729097883088899  \n",
       "4 -0.729097883088899  "
      ]
     },
     "execution_count": null,
     "metadata": {},
     "output_type": "execute_result"
    }
   ],
   "source": [
    "azd.head()"
   ]
  },
  {
   "cell_type": "code",
   "execution_count": null,
   "id": "7f8f4856-f59e-4d5d-85df-0779cb2119ee",
   "metadata": {},
   "outputs": [
    {
     "data": {
      "text/plain": [
       "0        0.028571428571429\n",
       "10584    0.028571428571429\n",
       "2011     0.028571428571429\n",
       "10585    0.028571428571429\n",
       "10603    0.028571428571429\n",
       "               ...        \n",
       "7584     1.000000000000000\n",
       "3648     1.000000000000000\n",
       "9407     1.000000000000000\n",
       "3654     1.000000000000000\n",
       "10899    1.000000000000000\n",
       "Name: p_value, Length: 10900, dtype: float64"
      ]
     },
     "execution_count": null,
     "metadata": {},
     "output_type": "execute_result"
    }
   ],
   "source": [
    "azd.p_value.sort_values()"
   ]
  },
  {
   "cell_type": "markdown",
   "id": "f84e1f3f-2d25-49eb-8beb-516f246b2a52",
   "metadata": {},
   "source": [
    "As the sample size for calculating p value is small in this case, we will use uncorrected p_value to allow more data to be considered; it is more important to look at the effect size"
   ]
  },
  {
   "cell_type": "code",
   "execution_count": null,
   "id": "524faa22-83f5-4280-93cb-1cdcb75a2b91",
   "metadata": {},
   "outputs": [],
   "source": [
    "info = df.iloc[:,:2]"
   ]
  },
  {
   "cell_type": "code",
   "execution_count": null,
   "id": "58c0c1e7-c213-497d-8aba-d69b7f839249",
   "metadata": {},
   "outputs": [],
   "source": [
    "azd = pd.concat([info,azd],axis=1)"
   ]
  },
  {
   "cell_type": "markdown",
   "id": "9500acee-7641-49c5-a503-e9bce79d9de7",
   "metadata": {},
   "source": [
    "## Cut through threshold"
   ]
  },
  {
   "cell_type": "code",
   "execution_count": null,
   "id": "4dd46918-6fbb-4f78-b562-1c6884f0d4d3",
   "metadata": {},
   "outputs": [],
   "source": [
    "# set a threshold of 0.05 for p_value\n",
    "azd2 = azd[azd.p_value<0.05].reset_index(drop=True)"
   ]
  },
  {
   "cell_type": "code",
   "execution_count": null,
   "id": "cdbd249a-5c7a-48c4-adba-f0ec16f207bc",
   "metadata": {},
   "outputs": [
    {
     "data": {
      "text/plain": [
       "(1669, 7)"
      ]
     },
     "execution_count": null,
     "metadata": {},
     "output_type": "execute_result"
    }
   ],
   "source": [
    "azd2.shape"
   ]
  },
  {
   "cell_type": "code",
   "execution_count": null,
   "id": "1904ecbb-2535-4a92-b724-ec90d665d707",
   "metadata": {},
   "outputs": [
    {
     "data": {
      "image/png": "[encoded data removed]",
      "text/plain": [
       "<Figure size 432x288 with 1 Axes>"
      ]
     },
     "metadata": {
      "needs_background": "light"
     },
     "output_type": "display_data"
    }
   ],
   "source": [
    "azd2.site_seq.str[7].value_counts().plot.bar();"
   ]
  },
  {
   "cell_type": "markdown",
   "id": "4b016430-fe2e-4341-8505-5497690a452d",
   "metadata": {},
   "source": [
    "## Visualize fold change values"
   ]
  },
  {
   "cell_type": "code",
   "execution_count": null,
   "id": "dfbbd942-a231-464a-9a09-0f73a555396f",
   "metadata": {},
   "outputs": [],
   "source": [
    "def plot_value(df,col):\n",
    "    plt.figure(figsize=(10, 5))\n",
    "    \n",
    "    # sort values\n",
    "    df=df.copy().sort_values(col).reset_index(drop=True) \n",
    "    \n",
    "    plt.fill_between(df.index, df[col], where=(df[col] >= 0), color='blue', alpha=0.3, label='Positive')\n",
    "    plt.fill_between(df.index, df[col], where=(df[col] <= 0), color='red', alpha=0.3, label='Negative')\n",
    "    plt.title('Area Plot of Values')\n",
    "    plt.xlabel('Ranked Index')\n",
    "    plt.ylabel('Values')"
   ]
  },
  {
   "cell_type": "code",
   "execution_count": null,
   "id": "4ad764ec-d069-4542-9827-cce12313ee91",
   "metadata": {},
   "outputs": [
    {
     "data": {
      "image/png": "[encoded data removed]",
      "text/plain": [
       "<Figure size 720x360 with 1 Axes>"
      ]
     },
     "metadata": {
      "needs_background": "light"
     },
     "output_type": "display_data"
    }
   ],
   "source": [
    "plot_value(azd2,'log2FC')"
   ]
  },
  {
   "cell_type": "code",
   "execution_count": null,
   "id": "1d1c034b-e3dc-4179-8ea9-a8d0829fdfcf",
   "metadata": {},
   "outputs": [],
   "source": [
    "st_sites = azd2[azd2.site_seq.str[7].str.upper()!='Y']\n",
    "y_sites = azd2[azd2.site_seq.str[7].str.upper()=='Y']"
   ]
  },
  {
   "cell_type": "code",
   "execution_count": null,
   "id": "bd06597f-f89e-4f4b-97c9-4f6c1229f733",
   "metadata": {},
   "outputs": [
    {
     "data": {
      "text/plain": [
       "Text(0.5, 1.0, 'Y sites')"
      ]
     },
     "execution_count": null,
     "metadata": {},
     "output_type": "execute_result"
    },
    {
     "data": {
      "image/png": "[encoded data removed]",
      "text/plain": [
       "<Figure size 720x360 with 1 Axes>"
      ]
     },
     "metadata": {
      "needs_background": "light"
     },
     "output_type": "display_data"
    },
    {
     "data": {
      "image/png": "[encoded data removed]",
      "text/plain": [
       "<Figure size 720x360 with 1 Axes>"
      ]
     },
     "metadata": {
      "needs_background": "light"
     },
     "output_type": "display_data"
    }
   ],
   "source": [
    "plot_value(st_sites,'log2FC')\n",
    "plt.title('S/T sites')\n",
    "plot_value(y_sites,'log2FC')\n",
    "plt.title('Y sites')"
   ]
  },
  {
   "cell_type": "markdown",
   "id": "bd5e0500-a688-4ef2-87c0-e4f56f9642d4",
   "metadata": {},
   "source": [
    "## Dataset processing"
   ]
  },
  {
   "cell_type": "markdown",
   "id": "0ac3ff9d-246f-4026-b01b-7d3d710124f1",
   "metadata": {},
   "source": [
    "There are NaNs in site_seq, we will drop them"
   ]
  },
  {
   "cell_type": "code",
   "execution_count": null,
   "id": "bca18021-e0f4-4a1d-926d-51d9054bce16",
   "metadata": {},
   "outputs": [],
   "source": [
    "azd2=azd2.dropna(subset='site_seq')"
   ]
  },
  {
   "cell_type": "markdown",
   "id": "0834cabc-f6fa-4e6b-90ea-47f9cd8f8a05",
   "metadata": {},
   "source": [
    "Some site_seq contains multiple sequences splitted by \";\", we will take the first one."
   ]
  },
  {
   "cell_type": "code",
   "execution_count": null,
   "id": "6975e17a-c01a-4d0b-a2d5-684976830273",
   "metadata": {},
   "outputs": [],
   "source": [
    "azd2['site_seq2'] = azd2.site_seq.str.split(';').str[0]"
   ]
  },
  {
   "cell_type": "markdown",
   "id": "5455c24e-4d09-43f2-b8ed-f322e5a8f8fe",
   "metadata": {},
   "source": [
    "Make sure site sequence length are all consistent"
   ]
  },
  {
   "cell_type": "code",
   "execution_count": null,
   "id": "5ce8ecf3-10da-41c8-90cb-680dc7e684d8",
   "metadata": {},
   "outputs": [],
   "source": [
    "azd2['len'] = azd2.site_seq2.str.len()"
   ]
  },
  {
   "cell_type": "code",
   "execution_count": null,
   "id": "74cb3a6b-28f6-49a6-b959-a70a83da41ca",
   "metadata": {},
   "outputs": [
    {
     "data": {
      "text/plain": [
       "len\n",
       "15    1647\n",
       "Name: count, dtype: int64"
      ]
     },
     "execution_count": null,
     "metadata": {},
     "output_type": "execute_result"
    }
   ],
   "source": [
    "azd2.len.value_counts() "
   ]
  },
  {
   "cell_type": "code",
   "execution_count": null,
   "id": "4b0be76d-b6a8-44f4-a192-10099e680123",
   "metadata": {},
   "outputs": [],
   "source": [
    "azd2['acceptor'] = azd2.site_seq2.str[7]"
   ]
  },
  {
   "cell_type": "markdown",
   "id": "7b6cce2c-843a-468f-bd8d-895d8649c8eb",
   "metadata": {},
   "source": [
    "## Substrate scoring"
   ]
  },
  {
   "cell_type": "code",
   "execution_count": null,
   "id": "4e15828b-fc9f-471e-9401-ebbaabf59ddb",
   "metadata": {},
   "outputs": [
    {
     "name": "stdout",
     "output_type": "stream",
     "text": [
      "input dataframe has a length 1647\n",
      "Preprocessing\n",
      "Finish preprocessing\n",
      "Merging reference\n",
      "Finish merging\n"
     ]
    },
    {
     "name": "stderr",
     "output_type": "stream",
     "text": [
      "100%|██████████| 396/396 [00:03<00:00, 114.38it/s]\n"
     ]
    },
    {
     "name": "stdout",
     "output_type": "stream",
     "text": [
      "input dataframe has a length 1647\n",
      "Preprocessing\n",
      "Finish preprocessing\n",
      "Merging reference\n",
      "Finish merging\n"
     ]
    }
   ],
   "source": [
    "pspa_out = predict_kinase_df(azd2,seq_col='site_seq2', **param_PSPA)\n",
    "cddm_out = predict_kinase_df(azd2,seq_col='site_seq2', **param_CDDM)"
   ]
  },
  {
   "cell_type": "markdown",
   "id": "a7ac5509-7a8d-4fd8-8201-6c4befca5300",
   "metadata": {},
   "source": [
    "## Kinase enrichment"
   ]
  },
  {
   "cell_type": "code",
   "execution_count": null,
   "id": "66e0df22-0943-4903-a440-77138425c478",
   "metadata": {},
   "outputs": [],
   "source": [
    "def get_enrichment(score_df, # output df of predict_kinase_df\n",
    "                    site_df, # df that contains site sequence\n",
    "                    weight_col, # column that indicates direction (sign) and weights for the site\n",
    "                    is_Y=False, # whether or not it is Y site or S/T site\n",
    "                    top_n = 5, # top n kinase to consider for each site\n",
    "                                  ):\n",
    "\n",
    "    \"Calculate kinase enrichment score for sites with signed log10(p) that pass a threshold(1.3) \"\n",
    "\n",
    "    if is_Y:\n",
    "        idx_up = site_df.index[(site_df.acceptor.str.upper()==\"Y\") & (site_df[weight_col]>0)]\n",
    "        idx_dn = site_df.index[(site_df.acceptor.str.upper()==\"Y\") & (site_df[weight_col]<0)]\n",
    "    else:\n",
    "        idx_up = site_df.index[(site_df.acceptor.str.upper()!=\"Y\") & (site_df[weight_col]>0)]\n",
    "        idx_dn = site_df.index[(site_df.acceptor.str.upper()!=\"Y\") & (site_df[weight_col]<0)]\n",
    "\n",
    "    up_site = site_df.loc[idx_up]\n",
    "    dn_site = site_df.loc[idx_dn]\n",
    "\n",
    "    up_score = score_df.loc[idx_up]\n",
    "    dn_score = score_df.loc[idx_dn]\n",
    "\n",
    "    def top_kinases(site_row,top_n=5):\n",
    "        # Sort the row in descending order and get the top n kinases\n",
    "        top_kinases = site_row.sort_values(ascending=False).head(top_n)\n",
    "\n",
    "        # Get the counts of the top kinases\n",
    "        kinase_counts = top_kinases.index.value_counts()\n",
    "\n",
    "        return kinase_counts\n",
    "\n",
    "    func = partial(top_kinases,top_n=top_n)\n",
    "\n",
    "    up_cnt = up_score.apply(func,axis=1)\n",
    "    dn_cnt = dn_score.apply(func,axis=1)\n",
    "\n",
    "    df_up_cnt = up_cnt.sum().reset_index(name = 'up_cnt')\n",
    "    df_dn_cnt = dn_cnt.sum().reset_index(name = 'dn_cnt')\n",
    "\n",
    "    df_w_up = up_cnt.multiply(abs(up_site[weight_col]),axis=0).sum().reset_index(name = 'up_weighted_cnt')\n",
    "    df_w_dn = dn_cnt.multiply(abs(dn_site[weight_col]),axis=0).sum().reset_index(name = 'dn_weighted_cnt')\n",
    "\n",
    "    dfs = [df_up_cnt,df_dn_cnt,df_w_up,df_w_dn]\n",
    "\n",
    "    result = reduce(lambda left, right: pd.merge(left, right, how='outer'), dfs)\n",
    "\n",
    "    result = result.fillna(0)\n",
    "    result['max'] = result.apply(lambda r: r.up_weighted_cnt if r.up_weighted_cnt >= r.dn_weighted_cnt else -r.dn_weighted_cnt,axis=1)\n",
    "    result['delta'] = result.up_weighted_cnt - result.dn_weighted_cnt\n",
    "    result = result.rename(columns={'index':'kinase'})\n",
    "\n",
    "    return result"
   ]
  },
  {
   "cell_type": "markdown",
   "id": "fb47a306-14cd-44f0-b7a1-baa2f2a46dd1",
   "metadata": {},
   "source": [
    "As we only have 6 y sites, we will do S/T sites kinase enrichment; set`is_Y` to False"
   ]
  },
  {
   "cell_type": "code",
   "execution_count": null,
   "id": "947f0eec-5489-472f-9c05-ad0084bd05d0",
   "metadata": {},
   "outputs": [],
   "source": [
    "st_cddm = get_enrichment(cddm_out,azd2,'log2FC',is_Y=False,top_n=10)\n",
    "st_pspa = get_enrichment(pspa_out,azd2,'log2FC',is_Y=False,top_n=10)"
   ]
  },
  {
   "cell_type": "code",
   "execution_count": null,
   "id": "b28052cd-3449-427b-9a30-0096ae7b677e",
   "metadata": {},
   "outputs": [
    {
     "data": {
      "text/html": [
       "<div>\n",
       "<style scoped>\n",
       "    .dataframe tbody tr th:only-of-type {\n",
       "        vertical-align: middle;\n",
       "    }\n",
       "\n",
       "    .dataframe tbody tr th {\n",
       "        vertical-align: top;\n",
       "    }\n",
       "\n",
       "    .dataframe thead th {\n",
       "        text-align: right;\n",
       "    }\n",
       "</style>\n",
       "<table border=\"1\" class=\"dataframe\">\n",
       "  <thead>\n",
       "    <tr style=\"text-align: right;\">\n",
       "      <th></th>\n",
       "      <th>kinase</th>\n",
       "      <th>up_cnt</th>\n",
       "      <th>dn_cnt</th>\n",
       "      <th>up_weighted_cnt</th>\n",
       "      <th>dn_weighted_cnt</th>\n",
       "      <th>max</th>\n",
       "      <th>delta</th>\n",
       "    </tr>\n",
       "  </thead>\n",
       "  <tbody>\n",
       "    <tr>\n",
       "      <th>0</th>\n",
       "      <td>ACVR2A</td>\n",
       "      <td>19.0</td>\n",
       "      <td>3.0</td>\n",
       "      <td>5.507104999999999</td>\n",
       "      <td>0.896350000000004</td>\n",
       "      <td>5.507104999999999</td>\n",
       "      <td>4.610754999999996</td>\n",
       "    </tr>\n",
       "    <tr>\n",
       "      <th>1</th>\n",
       "      <td>AKT1</td>\n",
       "      <td>116.0</td>\n",
       "      <td>111.0</td>\n",
       "      <td>38.424563000000049</td>\n",
       "      <td>95.306570000000008</td>\n",
       "      <td>-95.306570000000008</td>\n",
       "      <td>-56.882006999999959</td>\n",
       "    </tr>\n",
       "    <tr>\n",
       "      <th>2</th>\n",
       "      <td>AKT2</td>\n",
       "      <td>14.0</td>\n",
       "      <td>66.0</td>\n",
       "      <td>4.007335000000003</td>\n",
       "      <td>64.575879999999998</td>\n",
       "      <td>-64.575879999999998</td>\n",
       "      <td>-60.568544999999993</td>\n",
       "    </tr>\n",
       "    <tr>\n",
       "      <th>3</th>\n",
       "      <td>AKT3</td>\n",
       "      <td>78.0</td>\n",
       "      <td>92.0</td>\n",
       "      <td>24.802710000000030</td>\n",
       "      <td>84.765155000000007</td>\n",
       "      <td>-84.765155000000007</td>\n",
       "      <td>-59.962444999999974</td>\n",
       "    </tr>\n",
       "    <tr>\n",
       "      <th>4</th>\n",
       "      <td>ALK2</td>\n",
       "      <td>94.0</td>\n",
       "      <td>14.0</td>\n",
       "      <td>22.789808500000021</td>\n",
       "      <td>6.202690000000000</td>\n",
       "      <td>22.789808500000021</td>\n",
       "      <td>16.587118500000020</td>\n",
       "    </tr>\n",
       "  </tbody>\n",
       "</table>\n",
       "</div>"
      ],
      "text/plain": [
       "   kinase  up_cnt  dn_cnt     up_weighted_cnt     dn_weighted_cnt  \\\n",
       "0  ACVR2A    19.0     3.0   5.507104999999999   0.896350000000004   \n",
       "1    AKT1   116.0   111.0  38.424563000000049  95.306570000000008   \n",
       "2    AKT2    14.0    66.0   4.007335000000003  64.575879999999998   \n",
       "3    AKT3    78.0    92.0  24.802710000000030  84.765155000000007   \n",
       "4    ALK2    94.0    14.0  22.789808500000021   6.202690000000000   \n",
       "\n",
       "                  max               delta  \n",
       "0   5.507104999999999   4.610754999999996  \n",
       "1 -95.306570000000008 -56.882006999999959  \n",
       "2 -64.575879999999998 -60.568544999999993  \n",
       "3 -84.765155000000007 -59.962444999999974  \n",
       "4  22.789808500000021  16.587118500000020  "
      ]
     },
     "execution_count": null,
     "metadata": {},
     "output_type": "execute_result"
    }
   ],
   "source": [
    "st_cddm.head()"
   ]
  },
  {
   "cell_type": "markdown",
   "id": "b1020894-ea31-4006-bcd7-62de91382bf6",
   "metadata": {},
   "source": [
    "Delta is the difference between up_weighted_cnt and dn_weighted_cnt vaue, max is the maximum value among the two."
   ]
  },
  {
   "cell_type": "code",
   "execution_count": null,
   "id": "8c3e3804-152c-48e6-a029-d9d64bdf487b",
   "metadata": {},
   "outputs": [
    {
     "data": {
      "text/html": [
       "<div>\n",
       "<style scoped>\n",
       "    .dataframe tbody tr th:only-of-type {\n",
       "        vertical-align: middle;\n",
       "    }\n",
       "\n",
       "    .dataframe tbody tr th {\n",
       "        vertical-align: top;\n",
       "    }\n",
       "\n",
       "    .dataframe thead th {\n",
       "        text-align: right;\n",
       "    }\n",
       "</style>\n",
       "<table border=\"1\" class=\"dataframe\">\n",
       "  <thead>\n",
       "    <tr style=\"text-align: right;\">\n",
       "      <th></th>\n",
       "      <th>kinase</th>\n",
       "      <th>up_cnt</th>\n",
       "      <th>dn_cnt</th>\n",
       "      <th>up_weighted_cnt</th>\n",
       "      <th>dn_weighted_cnt</th>\n",
       "      <th>max</th>\n",
       "      <th>delta</th>\n",
       "    </tr>\n",
       "  </thead>\n",
       "  <tbody>\n",
       "    <tr>\n",
       "      <th>2</th>\n",
       "      <td>AKT2</td>\n",
       "      <td>14.0</td>\n",
       "      <td>66.0</td>\n",
       "      <td>4.007335000000003</td>\n",
       "      <td>64.575879999999998</td>\n",
       "      <td>-64.575879999999998</td>\n",
       "      <td>-60.568544999999993</td>\n",
       "    </tr>\n",
       "    <tr>\n",
       "      <th>3</th>\n",
       "      <td>AKT3</td>\n",
       "      <td>78.0</td>\n",
       "      <td>92.0</td>\n",
       "      <td>24.802710000000030</td>\n",
       "      <td>84.765155000000007</td>\n",
       "      <td>-84.765155000000007</td>\n",
       "      <td>-59.962444999999974</td>\n",
       "    </tr>\n",
       "    <tr>\n",
       "      <th>182</th>\n",
       "      <td>SGK1</td>\n",
       "      <td>72.0</td>\n",
       "      <td>95.0</td>\n",
       "      <td>23.715893000000033</td>\n",
       "      <td>83.583534999999998</td>\n",
       "      <td>-83.583534999999998</td>\n",
       "      <td>-59.867641999999961</td>\n",
       "    </tr>\n",
       "    <tr>\n",
       "      <th>1</th>\n",
       "      <td>AKT1</td>\n",
       "      <td>116.0</td>\n",
       "      <td>111.0</td>\n",
       "      <td>38.424563000000049</td>\n",
       "      <td>95.306570000000008</td>\n",
       "      <td>-95.306570000000008</td>\n",
       "      <td>-56.882006999999959</td>\n",
       "    </tr>\n",
       "    <tr>\n",
       "      <th>140</th>\n",
       "      <td>P90RSK</td>\n",
       "      <td>162.0</td>\n",
       "      <td>132.0</td>\n",
       "      <td>57.145470500000023</td>\n",
       "      <td>105.883935000000008</td>\n",
       "      <td>-105.883935000000008</td>\n",
       "      <td>-48.738464499999985</td>\n",
       "    </tr>\n",
       "    <tr>\n",
       "      <th>...</th>\n",
       "      <td>...</td>\n",
       "      <td>...</td>\n",
       "      <td>...</td>\n",
       "      <td>...</td>\n",
       "      <td>...</td>\n",
       "      <td>...</td>\n",
       "      <td>...</td>\n",
       "    </tr>\n",
       "    <tr>\n",
       "      <th>29</th>\n",
       "      <td>CDK2</td>\n",
       "      <td>589.0</td>\n",
       "      <td>72.0</td>\n",
       "      <td>178.796763500000026</td>\n",
       "      <td>41.434269500000013</td>\n",
       "      <td>178.796763500000026</td>\n",
       "      <td>137.362494000000027</td>\n",
       "    </tr>\n",
       "    <tr>\n",
       "      <th>28</th>\n",
       "      <td>CDK1</td>\n",
       "      <td>645.0</td>\n",
       "      <td>87.0</td>\n",
       "      <td>197.268107000000043</td>\n",
       "      <td>49.980519500000014</td>\n",
       "      <td>197.268107000000043</td>\n",
       "      <td>147.287587500000029</td>\n",
       "    </tr>\n",
       "    <tr>\n",
       "      <th>60</th>\n",
       "      <td>ERK1</td>\n",
       "      <td>650.0</td>\n",
       "      <td>79.0</td>\n",
       "      <td>199.277800000000013</td>\n",
       "      <td>42.192084500000021</td>\n",
       "      <td>199.277800000000013</td>\n",
       "      <td>157.085715499999992</td>\n",
       "    </tr>\n",
       "    <tr>\n",
       "      <th>31</th>\n",
       "      <td>CDK4</td>\n",
       "      <td>666.0</td>\n",
       "      <td>81.0</td>\n",
       "      <td>202.695893499999983</td>\n",
       "      <td>43.129879500000015</td>\n",
       "      <td>202.695893499999983</td>\n",
       "      <td>159.566013999999967</td>\n",
       "    </tr>\n",
       "    <tr>\n",
       "      <th>61</th>\n",
       "      <td>ERK2</td>\n",
       "      <td>691.0</td>\n",
       "      <td>86.0</td>\n",
       "      <td>210.536440000000027</td>\n",
       "      <td>45.306319500000008</td>\n",
       "      <td>210.536440000000027</td>\n",
       "      <td>165.230120500000027</td>\n",
       "    </tr>\n",
       "  </tbody>\n",
       "</table>\n",
       "<p>203 rows × 7 columns</p>\n",
       "</div>"
      ],
      "text/plain": [
       "     kinase  up_cnt  dn_cnt      up_weighted_cnt      dn_weighted_cnt  \\\n",
       "2      AKT2    14.0    66.0    4.007335000000003   64.575879999999998   \n",
       "3      AKT3    78.0    92.0   24.802710000000030   84.765155000000007   \n",
       "182    SGK1    72.0    95.0   23.715893000000033   83.583534999999998   \n",
       "1      AKT1   116.0   111.0   38.424563000000049   95.306570000000008   \n",
       "140  P90RSK   162.0   132.0   57.145470500000023  105.883935000000008   \n",
       "..      ...     ...     ...                  ...                  ...   \n",
       "29     CDK2   589.0    72.0  178.796763500000026   41.434269500000013   \n",
       "28     CDK1   645.0    87.0  197.268107000000043   49.980519500000014   \n",
       "60     ERK1   650.0    79.0  199.277800000000013   42.192084500000021   \n",
       "31     CDK4   666.0    81.0  202.695893499999983   43.129879500000015   \n",
       "61     ERK2   691.0    86.0  210.536440000000027   45.306319500000008   \n",
       "\n",
       "                     max                delta  \n",
       "2    -64.575879999999998  -60.568544999999993  \n",
       "3    -84.765155000000007  -59.962444999999974  \n",
       "182  -83.583534999999998  -59.867641999999961  \n",
       "1    -95.306570000000008  -56.882006999999959  \n",
       "140 -105.883935000000008  -48.738464499999985  \n",
       "..                   ...                  ...  \n",
       "29   178.796763500000026  137.362494000000027  \n",
       "28   197.268107000000043  147.287587500000029  \n",
       "60   199.277800000000013  157.085715499999992  \n",
       "31   202.695893499999983  159.566013999999967  \n",
       "61   210.536440000000027  165.230120500000027  \n",
       "\n",
       "[203 rows x 7 columns]"
      ]
     },
     "execution_count": null,
     "metadata": {},
     "output_type": "execute_result"
    }
   ],
   "source": [
    "st_cddm.sort_values('delta')"
   ]
  },
  {
   "cell_type": "code",
   "execution_count": null,
   "id": "2a8b1fd6-2541-497c-930d-8c07d7fc0b30",
   "metadata": {},
   "outputs": [
    {
     "data": {
      "text/html": [
       "<div>\n",
       "<style scoped>\n",
       "    .dataframe tbody tr th:only-of-type {\n",
       "        vertical-align: middle;\n",
       "    }\n",
       "\n",
       "    .dataframe tbody tr th {\n",
       "        vertical-align: top;\n",
       "    }\n",
       "\n",
       "    .dataframe thead th {\n",
       "        text-align: right;\n",
       "    }\n",
       "</style>\n",
       "<table border=\"1\" class=\"dataframe\">\n",
       "  <thead>\n",
       "    <tr style=\"text-align: right;\">\n",
       "      <th></th>\n",
       "      <th>kinase</th>\n",
       "      <th>up_cnt</th>\n",
       "      <th>dn_cnt</th>\n",
       "      <th>up_weighted_cnt</th>\n",
       "      <th>dn_weighted_cnt</th>\n",
       "      <th>max</th>\n",
       "      <th>delta</th>\n",
       "    </tr>\n",
       "  </thead>\n",
       "  <tbody>\n",
       "    <tr>\n",
       "      <th>174</th>\n",
       "      <td>PRKX</td>\n",
       "      <td>285.0</td>\n",
       "      <td>136.0</td>\n",
       "      <td>104.613877000000002</td>\n",
       "      <td>109.507792000000023</td>\n",
       "      <td>-109.507792000000023</td>\n",
       "      <td>-4.893915000000021</td>\n",
       "    </tr>\n",
       "    <tr>\n",
       "      <th>140</th>\n",
       "      <td>P90RSK</td>\n",
       "      <td>162.0</td>\n",
       "      <td>132.0</td>\n",
       "      <td>57.145470500000023</td>\n",
       "      <td>105.883935000000008</td>\n",
       "      <td>-105.883935000000008</td>\n",
       "      <td>-48.738464499999985</td>\n",
       "    </tr>\n",
       "    <tr>\n",
       "      <th>1</th>\n",
       "      <td>AKT1</td>\n",
       "      <td>116.0</td>\n",
       "      <td>111.0</td>\n",
       "      <td>38.424563000000049</td>\n",
       "      <td>95.306570000000008</td>\n",
       "      <td>-95.306570000000008</td>\n",
       "      <td>-56.882006999999959</td>\n",
       "    </tr>\n",
       "    <tr>\n",
       "      <th>3</th>\n",
       "      <td>AKT3</td>\n",
       "      <td>78.0</td>\n",
       "      <td>92.0</td>\n",
       "      <td>24.802710000000030</td>\n",
       "      <td>84.765155000000007</td>\n",
       "      <td>-84.765155000000007</td>\n",
       "      <td>-59.962444999999974</td>\n",
       "    </tr>\n",
       "    <tr>\n",
       "      <th>182</th>\n",
       "      <td>SGK1</td>\n",
       "      <td>72.0</td>\n",
       "      <td>95.0</td>\n",
       "      <td>23.715893000000033</td>\n",
       "      <td>83.583534999999998</td>\n",
       "      <td>-83.583534999999998</td>\n",
       "      <td>-59.867641999999961</td>\n",
       "    </tr>\n",
       "    <tr>\n",
       "      <th>...</th>\n",
       "      <td>...</td>\n",
       "      <td>...</td>\n",
       "      <td>...</td>\n",
       "      <td>...</td>\n",
       "      <td>...</td>\n",
       "      <td>...</td>\n",
       "      <td>...</td>\n",
       "    </tr>\n",
       "    <tr>\n",
       "      <th>29</th>\n",
       "      <td>CDK2</td>\n",
       "      <td>589.0</td>\n",
       "      <td>72.0</td>\n",
       "      <td>178.796763500000026</td>\n",
       "      <td>41.434269500000013</td>\n",
       "      <td>178.796763500000026</td>\n",
       "      <td>137.362494000000027</td>\n",
       "    </tr>\n",
       "    <tr>\n",
       "      <th>28</th>\n",
       "      <td>CDK1</td>\n",
       "      <td>645.0</td>\n",
       "      <td>87.0</td>\n",
       "      <td>197.268107000000043</td>\n",
       "      <td>49.980519500000014</td>\n",
       "      <td>197.268107000000043</td>\n",
       "      <td>147.287587500000029</td>\n",
       "    </tr>\n",
       "    <tr>\n",
       "      <th>60</th>\n",
       "      <td>ERK1</td>\n",
       "      <td>650.0</td>\n",
       "      <td>79.0</td>\n",
       "      <td>199.277800000000013</td>\n",
       "      <td>42.192084500000021</td>\n",
       "      <td>199.277800000000013</td>\n",
       "      <td>157.085715499999992</td>\n",
       "    </tr>\n",
       "    <tr>\n",
       "      <th>31</th>\n",
       "      <td>CDK4</td>\n",
       "      <td>666.0</td>\n",
       "      <td>81.0</td>\n",
       "      <td>202.695893499999983</td>\n",
       "      <td>43.129879500000015</td>\n",
       "      <td>202.695893499999983</td>\n",
       "      <td>159.566013999999967</td>\n",
       "    </tr>\n",
       "    <tr>\n",
       "      <th>61</th>\n",
       "      <td>ERK2</td>\n",
       "      <td>691.0</td>\n",
       "      <td>86.0</td>\n",
       "      <td>210.536440000000027</td>\n",
       "      <td>45.306319500000008</td>\n",
       "      <td>210.536440000000027</td>\n",
       "      <td>165.230120500000027</td>\n",
       "    </tr>\n",
       "  </tbody>\n",
       "</table>\n",
       "<p>203 rows × 7 columns</p>\n",
       "</div>"
      ],
      "text/plain": [
       "     kinase  up_cnt  dn_cnt      up_weighted_cnt      dn_weighted_cnt  \\\n",
       "174    PRKX   285.0   136.0  104.613877000000002  109.507792000000023   \n",
       "140  P90RSK   162.0   132.0   57.145470500000023  105.883935000000008   \n",
       "1      AKT1   116.0   111.0   38.424563000000049   95.306570000000008   \n",
       "3      AKT3    78.0    92.0   24.802710000000030   84.765155000000007   \n",
       "182    SGK1    72.0    95.0   23.715893000000033   83.583534999999998   \n",
       "..      ...     ...     ...                  ...                  ...   \n",
       "29     CDK2   589.0    72.0  178.796763500000026   41.434269500000013   \n",
       "28     CDK1   645.0    87.0  197.268107000000043   49.980519500000014   \n",
       "60     ERK1   650.0    79.0  199.277800000000013   42.192084500000021   \n",
       "31     CDK4   666.0    81.0  202.695893499999983   43.129879500000015   \n",
       "61     ERK2   691.0    86.0  210.536440000000027   45.306319500000008   \n",
       "\n",
       "                     max                delta  \n",
       "174 -109.507792000000023   -4.893915000000021  \n",
       "140 -105.883935000000008  -48.738464499999985  \n",
       "1    -95.306570000000008  -56.882006999999959  \n",
       "3    -84.765155000000007  -59.962444999999974  \n",
       "182  -83.583534999999998  -59.867641999999961  \n",
       "..                   ...                  ...  \n",
       "29   178.796763500000026  137.362494000000027  \n",
       "28   197.268107000000043  147.287587500000029  \n",
       "60   199.277800000000013  157.085715499999992  \n",
       "31   202.695893499999983  159.566013999999967  \n",
       "61   210.536440000000027  165.230120500000027  \n",
       "\n",
       "[203 rows x 7 columns]"
      ]
     },
     "execution_count": null,
     "metadata": {},
     "output_type": "execute_result"
    }
   ],
   "source": [
    "st_cddm.sort_values('max')"
   ]
  },
  {
   "cell_type": "markdown",
   "id": "c247761d-636f-4be9-8c50-2152df1b9ac6",
   "metadata": {},
   "source": [
    "### Visualize in bar graph"
   ]
  },
  {
   "cell_type": "code",
   "execution_count": null,
   "id": "94997eac-c951-46f3-bdff-1829b72d733e",
   "metadata": {},
   "outputs": [],
   "source": [
    "def get_bar_data(df, score_col, top_n = 10, plot=True):\n",
    "    \n",
    "    data = df.sort_values(score_col)[['kinase',score_col]]\n",
    "\n",
    "    data.columns = ['Kinase','Score']\n",
    "    \n",
    "    data = pd.concat([data.head(top_n),data.tail(top_n)]).set_index('Kinase')\n",
    "    \n",
    "    if plot:\n",
    "        data.plot.barh(legend=False)\n",
    "        plt.title('Kinase Enrichment')\n",
    "        plt.xlabel(f'{score_col} score')\n",
    "        plt.ylabel('')\n",
    "    \n",
    "    return data"
   ]
  },
  {
   "cell_type": "code",
   "execution_count": null,
   "id": "57c2019c-a279-446b-a0a0-3eeeb67f43f1",
   "metadata": {},
   "outputs": [
    {
     "data": {
      "image/png": "[encoded data removed]",
      "text/plain": [
       "<Figure size 432x288 with 1 Axes>"
      ]
     },
     "metadata": {
      "needs_background": "light"
     },
     "output_type": "display_data"
    },
    {
     "data": {
      "image/png": "[encoded data removed]",
      "text/plain": [
       "<Figure size 432x288 with 1 Axes>"
      ]
     },
     "metadata": {
      "needs_background": "light"
     },
     "output_type": "display_data"
    }
   ],
   "source": [
    "bar_cddm = get_bar_data(st_cddm,'delta')\n",
    "\n",
    "bar_pspa = get_bar_data(st_pspa,'delta')"
   ]
  }
 ],
 "metadata": {
  "kernelspec": {
   "display_name": "Python 3 (ipykernel)",
   "language": "python",
   "name": "python3"
  },
  "language_info": {
   "codemirror_mode": {
    "name": "ipython",
    "version": 3
   },
   "file_extension": ".py",
   "mimetype": "text/x-python",
   "name": "python",
   "nbconvert_exporter": "python",
   "pygments_lexer": "ipython3",
   "version": "3.9.13"
  }
 },
 "nbformat": 4,
 "nbformat_minor": 5
}
