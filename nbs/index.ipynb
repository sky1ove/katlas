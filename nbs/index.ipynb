{
 "cells": [
  {
   "cell_type": "code",
   "execution_count": null,
   "metadata": {},
   "outputs": [],
   "source": [
    "#| hide\n",
    "from IPython.display import display"
   ]
  },
  {
   "cell_type": "markdown",
   "metadata": {},
   "source": [
    "<img alt=\"Katlas logo\" width=\"500\" caption=\"Katlas logo\" src=\"dataset/images/logo.png\" id=\"logo\"/>"
   ]
  },
  {
   "cell_type": "markdown",
   "metadata": {},
   "source": [
    "# Katlas\n",
    "\n",
    "> Predict kinase given a substrate sequence"
   ]
  },
  {
   "cell_type": "markdown",
   "metadata": {},
   "source": [
    "## Install"
   ]
  },
  {
   "cell_type": "markdown",
   "metadata": {},
   "source": [
    "Install the latest version through git"
   ]
  },
  {
   "cell_type": "code",
   "execution_count": null,
   "metadata": {},
   "outputs": [],
   "source": [
    "!pip install git+https://github.com/sky1ove/katlas.git -Uqq"
   ]
  },
  {
   "cell_type": "markdown",
   "metadata": {},
   "source": [
    "Install from pip"
   ]
  },
  {
   "cell_type": "code",
   "execution_count": null,
   "metadata": {},
   "outputs": [],
   "source": [
    "# !pip install katlas -Uqq"
   ]
  },
  {
   "cell_type": "markdown",
   "metadata": {},
   "source": [
    "## Import"
   ]
  },
  {
   "cell_type": "code",
   "execution_count": null,
   "metadata": {},
   "outputs": [],
   "source": [
    "from katlas.core import *"
   ]
  },
  {
   "cell_type": "markdown",
   "metadata": {},
   "source": [
    "# Quick start"
   ]
  },
  {
   "cell_type": "markdown",
   "metadata": {},
   "source": [
    "***For a single input sequence***"
   ]
  },
  {
   "cell_type": "code",
   "execution_count": null,
   "metadata": {},
   "outputs": [],
   "source": [
    "ref = Data.get_ks_upper()"
   ]
  },
  {
   "cell_type": "code",
   "execution_count": null,
   "metadata": {},
   "outputs": [
    {
     "name": "stderr",
     "output_type": "stream",
     "text": [
      "100%|██████████| 289/289 [00:00<00:00, 8758.02it/s]"
     ]
    },
    {
     "name": "stdout",
     "output_type": "stream",
     "text": [
      "calculated string: ['-7A', '-6A', '-5A', '-4A', '-3A', '-2A', '-1A', '0s', '1G', '2G', '3A', '4G', '5S', '6D', '7N']\n"
     ]
    },
    {
     "name": "stderr",
     "output_type": "stream",
     "text": [
      "\n"
     ]
    },
    {
     "data": {
      "text/plain": [
       "kinase\n",
       "PAK6     2.031\n",
       "ATR      1.991\n",
       "ULK3     1.960\n",
       "PRKD1    1.958\n",
       "TSSK2    1.934\n",
       "         ...  \n",
       "FLT3     0.900\n",
       "KIT      0.890\n",
       "CSF1R    0.870\n",
       "FGFR3    0.869\n",
       "DDR2     0.864\n",
       "Length: 289, dtype: float64"
      ]
     },
     "execution_count": null,
     "metadata": {},
     "output_type": "execute_result"
    }
   ],
   "source": [
    "predict_kinase('AAAAAAAsGGAGSDN',ref)"
   ]
  },
  {
   "cell_type": "markdown",
   "metadata": {},
   "source": [
    "***For many input sequences***"
   ]
  },
  {
   "cell_type": "code",
   "execution_count": null,
   "metadata": {},
   "outputs": [],
   "source": [
    "# load a df that contains many phosphorylation sites\n",
    "df = Data.get_ochoa_site()"
   ]
  },
  {
   "cell_type": "code",
   "execution_count": null,
   "metadata": {},
   "outputs": [
    {
     "data": {
      "text/html": [
       "<div>\n",
       "<style scoped>\n",
       "    .dataframe tbody tr th:only-of-type {\n",
       "        vertical-align: middle;\n",
       "    }\n",
       "\n",
       "    .dataframe tbody tr th {\n",
       "        vertical-align: top;\n",
       "    }\n",
       "\n",
       "    .dataframe thead th {\n",
       "        text-align: right;\n",
       "    }\n",
       "</style>\n",
       "<table border=\"1\" class=\"dataframe\">\n",
       "  <thead>\n",
       "    <tr style=\"text-align: right;\">\n",
       "      <th></th>\n",
       "      <th>site_seq</th>\n",
       "      <th>gene_site</th>\n",
       "    </tr>\n",
       "  </thead>\n",
       "  <tbody>\n",
       "    <tr>\n",
       "      <th>0</th>\n",
       "      <td>VDDEKGDSNDDYDSA</td>\n",
       "      <td>A0A075B6Q4_S24</td>\n",
       "    </tr>\n",
       "    <tr>\n",
       "      <th>1</th>\n",
       "      <td>YDSAGLLSDEDCMSV</td>\n",
       "      <td>A0A075B6Q4_S35</td>\n",
       "    </tr>\n",
       "    <tr>\n",
       "      <th>2</th>\n",
       "      <td>IADHLFWSEETKSRF</td>\n",
       "      <td>A0A075B6Q4_S57</td>\n",
       "    </tr>\n",
       "    <tr>\n",
       "      <th>3</th>\n",
       "      <td>KSRFTEYSMTSSVMR</td>\n",
       "      <td>A0A075B6Q4_S68</td>\n",
       "    </tr>\n",
       "    <tr>\n",
       "      <th>4</th>\n",
       "      <td>FTEYSMTSSVMRRNE</td>\n",
       "      <td>A0A075B6Q4_S71</td>\n",
       "    </tr>\n",
       "  </tbody>\n",
       "</table>\n",
       "</div>"
      ],
      "text/plain": [
       "          site_seq       gene_site\n",
       "0  VDDEKGDSNDDYDSA  A0A075B6Q4_S24\n",
       "1  YDSAGLLSDEDCMSV  A0A075B6Q4_S35\n",
       "2  IADHLFWSEETKSRF  A0A075B6Q4_S57\n",
       "3  KSRFTEYSMTSSVMR  A0A075B6Q4_S68\n",
       "4  FTEYSMTSSVMRRNE  A0A075B6Q4_S71"
      ]
     },
     "execution_count": null,
     "metadata": {},
     "output_type": "execute_result"
    }
   ],
   "source": [
    "df.iloc[:,-2:].head()"
   ]
  },
  {
   "cell_type": "code",
   "execution_count": null,
   "metadata": {},
   "outputs": [],
   "source": [
    "ref = Data.get_ks_upper()"
   ]
  },
  {
   "cell_type": "code",
   "execution_count": null,
   "metadata": {},
   "outputs": [
    {
     "name": "stdout",
     "output_type": "stream",
     "text": [
      "according to the ref \n",
      "will calculate position: [-7, -6, -5, -4, -3, -2, -1, 0, 1, 2, 3, 4, 5, 6, 7]\n"
     ]
    },
    {
     "name": "stderr",
     "output_type": "stream",
     "text": [
      "100%|██████████| 289/289 [00:00<00:00, 6934.44it/s]\n"
     ]
    }
   ],
   "source": [
    "results = predict_kinase_df(df.head(),ref,'site_seq')"
   ]
  },
  {
   "cell_type": "code",
   "execution_count": null,
   "metadata": {},
   "outputs": [
    {
     "data": {
      "text/html": [
       "<div>\n",
       "<style scoped>\n",
       "    .dataframe tbody tr th:only-of-type {\n",
       "        vertical-align: middle;\n",
       "    }\n",
       "\n",
       "    .dataframe tbody tr th {\n",
       "        vertical-align: top;\n",
       "    }\n",
       "\n",
       "    .dataframe thead th {\n",
       "        text-align: right;\n",
       "    }\n",
       "</style>\n",
       "<table border=\"1\" class=\"dataframe\">\n",
       "  <thead>\n",
       "    <tr style=\"text-align: right;\">\n",
       "      <th>kinase</th>\n",
       "      <th>SRC</th>\n",
       "      <th>EPHA3</th>\n",
       "      <th>FES</th>\n",
       "      <th>NTRK3</th>\n",
       "      <th>ALK</th>\n",
       "      <th>EPHA8</th>\n",
       "      <th>ABL1</th>\n",
       "      <th>FLT3</th>\n",
       "      <th>EPHB2</th>\n",
       "      <th>FYN</th>\n",
       "      <th>...</th>\n",
       "      <th>MEK5</th>\n",
       "      <th>PKN2</th>\n",
       "      <th>MAP2K7</th>\n",
       "      <th>MRCKB</th>\n",
       "      <th>HIPK3</th>\n",
       "      <th>CDK8</th>\n",
       "      <th>BUB1</th>\n",
       "      <th>MEKK3</th>\n",
       "      <th>MAP2K3</th>\n",
       "      <th>GRK1</th>\n",
       "    </tr>\n",
       "  </thead>\n",
       "  <tbody>\n",
       "    <tr>\n",
       "      <th>0</th>\n",
       "      <td>0.975307</td>\n",
       "      <td>1.088103</td>\n",
       "      <td>1.024297</td>\n",
       "      <td>1.055557</td>\n",
       "      <td>0.991858</td>\n",
       "      <td>1.095960</td>\n",
       "      <td>0.963895</td>\n",
       "      <td>0.974716</td>\n",
       "      <td>1.031825</td>\n",
       "      <td>1.053151</td>\n",
       "      <td>...</td>\n",
       "      <td>1.209006</td>\n",
       "      <td>1.845246</td>\n",
       "      <td>1.553544</td>\n",
       "      <td>1.691919</td>\n",
       "      <td>1.358586</td>\n",
       "      <td>1.793270</td>\n",
       "      <td>1.332794</td>\n",
       "      <td>1.384679</td>\n",
       "      <td>1.456727</td>\n",
       "      <td>1.974188</td>\n",
       "    </tr>\n",
       "    <tr>\n",
       "      <th>1</th>\n",
       "      <td>0.895416</td>\n",
       "      <td>0.953961</td>\n",
       "      <td>0.948499</td>\n",
       "      <td>0.961790</td>\n",
       "      <td>0.868367</td>\n",
       "      <td>0.928279</td>\n",
       "      <td>0.852676</td>\n",
       "      <td>0.823955</td>\n",
       "      <td>0.921067</td>\n",
       "      <td>0.911028</td>\n",
       "      <td>...</td>\n",
       "      <td>1.037030</td>\n",
       "      <td>1.427855</td>\n",
       "      <td>1.335121</td>\n",
       "      <td>1.153418</td>\n",
       "      <td>1.641751</td>\n",
       "      <td>1.689144</td>\n",
       "      <td>1.220036</td>\n",
       "      <td>1.197893</td>\n",
       "      <td>1.119174</td>\n",
       "      <td>1.811465</td>\n",
       "    </tr>\n",
       "    <tr>\n",
       "      <th>2</th>\n",
       "      <td>0.849546</td>\n",
       "      <td>0.898449</td>\n",
       "      <td>0.844726</td>\n",
       "      <td>0.879204</td>\n",
       "      <td>0.874974</td>\n",
       "      <td>0.903264</td>\n",
       "      <td>0.845611</td>\n",
       "      <td>0.843124</td>\n",
       "      <td>0.855262</td>\n",
       "      <td>0.874833</td>\n",
       "      <td>...</td>\n",
       "      <td>1.414065</td>\n",
       "      <td>2.134812</td>\n",
       "      <td>1.445507</td>\n",
       "      <td>1.003682</td>\n",
       "      <td>1.340236</td>\n",
       "      <td>1.435649</td>\n",
       "      <td>1.315813</td>\n",
       "      <td>1.267839</td>\n",
       "      <td>1.231376</td>\n",
       "      <td>1.886599</td>\n",
       "    </tr>\n",
       "    <tr>\n",
       "      <th>3</th>\n",
       "      <td>0.806390</td>\n",
       "      <td>0.841915</td>\n",
       "      <td>0.810970</td>\n",
       "      <td>0.914746</td>\n",
       "      <td>0.874387</td>\n",
       "      <td>0.753362</td>\n",
       "      <td>0.838206</td>\n",
       "      <td>0.803782</td>\n",
       "      <td>0.826301</td>\n",
       "      <td>0.790217</td>\n",
       "      <td>...</td>\n",
       "      <td>1.091456</td>\n",
       "      <td>1.846551</td>\n",
       "      <td>1.634287</td>\n",
       "      <td>1.490388</td>\n",
       "      <td>1.561279</td>\n",
       "      <td>1.464307</td>\n",
       "      <td>1.457233</td>\n",
       "      <td>1.084019</td>\n",
       "      <td>1.498325</td>\n",
       "      <td>1.745420</td>\n",
       "    </tr>\n",
       "    <tr>\n",
       "      <th>4</th>\n",
       "      <td>0.828211</td>\n",
       "      <td>0.791854</td>\n",
       "      <td>0.783151</td>\n",
       "      <td>0.859955</td>\n",
       "      <td>0.827160</td>\n",
       "      <td>0.743060</td>\n",
       "      <td>0.795135</td>\n",
       "      <td>0.786305</td>\n",
       "      <td>0.799112</td>\n",
       "      <td>0.854680</td>\n",
       "      <td>...</td>\n",
       "      <td>1.056100</td>\n",
       "      <td>1.279951</td>\n",
       "      <td>1.452646</td>\n",
       "      <td>1.170946</td>\n",
       "      <td>1.503872</td>\n",
       "      <td>1.388840</td>\n",
       "      <td>1.334052</td>\n",
       "      <td>1.063377</td>\n",
       "      <td>1.062349</td>\n",
       "      <td>1.823619</td>\n",
       "    </tr>\n",
       "  </tbody>\n",
       "</table>\n",
       "<p>5 rows × 289 columns</p>\n",
       "</div>"
      ],
      "text/plain": [
       "kinase       SRC     EPHA3       FES     NTRK3       ALK     EPHA8      ABL1  \\\n",
       "0       0.975307  1.088103  1.024297  1.055557  0.991858  1.095960  0.963895   \n",
       "1       0.895416  0.953961  0.948499  0.961790  0.868367  0.928279  0.852676   \n",
       "2       0.849546  0.898449  0.844726  0.879204  0.874974  0.903264  0.845611   \n",
       "3       0.806390  0.841915  0.810970  0.914746  0.874387  0.753362  0.838206   \n",
       "4       0.828211  0.791854  0.783151  0.859955  0.827160  0.743060  0.795135   \n",
       "\n",
       "kinase      FLT3     EPHB2       FYN  ...      MEK5      PKN2    MAP2K7  \\\n",
       "0       0.974716  1.031825  1.053151  ...  1.209006  1.845246  1.553544   \n",
       "1       0.823955  0.921067  0.911028  ...  1.037030  1.427855  1.335121   \n",
       "2       0.843124  0.855262  0.874833  ...  1.414065  2.134812  1.445507   \n",
       "3       0.803782  0.826301  0.790217  ...  1.091456  1.846551  1.634287   \n",
       "4       0.786305  0.799112  0.854680  ...  1.056100  1.279951  1.452646   \n",
       "\n",
       "kinase     MRCKB     HIPK3      CDK8      BUB1     MEKK3    MAP2K3      GRK1  \n",
       "0       1.691919  1.358586  1.793270  1.332794  1.384679  1.456727  1.974188  \n",
       "1       1.153418  1.641751  1.689144  1.220036  1.197893  1.119174  1.811465  \n",
       "2       1.003682  1.340236  1.435649  1.315813  1.267839  1.231376  1.886599  \n",
       "3       1.490388  1.561279  1.464307  1.457233  1.084019  1.498325  1.745420  \n",
       "4       1.170946  1.503872  1.388840  1.334052  1.063377  1.062349  1.823619  \n",
       "\n",
       "[5 rows x 289 columns]"
      ]
     },
     "execution_count": null,
     "metadata": {},
     "output_type": "execute_result"
    }
   ],
   "source": [
    "results"
   ]
  },
  {
   "cell_type": "markdown",
   "metadata": {},
   "source": [
    "# Dataset"
   ]
  },
  {
   "cell_type": "markdown",
   "metadata": {},
   "source": [
    "## Reference for scoring"
   ]
  },
  {
   "cell_type": "markdown",
   "metadata": {},
   "source": [
    "### All capital (recommend)\n",
    "> for phosphorylation site sequence that are all capital"
   ]
  },
  {
   "cell_type": "markdown",
   "metadata": {},
   "source": [
    "***Option1: reference derived from kinase-substrate dataset***"
   ]
  },
  {
   "cell_type": "code",
   "execution_count": null,
   "metadata": {},
   "outputs": [],
   "source": [
    "ref = Data.get_ks_upper()"
   ]
  },
  {
   "cell_type": "markdown",
   "metadata": {},
   "source": [
    "***Option2: reference from positional scanning peptide array (PSPA)***"
   ]
  },
  {
   "cell_type": "code",
   "execution_count": null,
   "metadata": {},
   "outputs": [],
   "source": [
    "ref = Data.get_pspa_upper()"
   ]
  },
  {
   "cell_type": "markdown",
   "metadata": {},
   "source": [
    "***Option3: combined***"
   ]
  },
  {
   "cell_type": "code",
   "execution_count": null,
   "metadata": {},
   "outputs": [],
   "source": [
    "ref = Data.get_combine_upper()"
   ]
  },
  {
   "cell_type": "markdown",
   "metadata": {},
   "source": [
    "### With lower case (not recommend if the surrouding positions are all capital)\n",
    "> for phosphorylation site sequence with lower case indicating phosphorylation status"
   ]
  },
  {
   "cell_type": "markdown",
   "metadata": {},
   "source": [
    "Again, we have three options"
   ]
  },
  {
   "cell_type": "code",
   "execution_count": null,
   "metadata": {},
   "outputs": [],
   "source": [
    "ref = Data.get_ks()"
   ]
  },
  {
   "cell_type": "code",
   "execution_count": null,
   "metadata": {},
   "outputs": [],
   "source": [
    "ref = Data.get_pspa()"
   ]
  },
  {
   "cell_type": "code",
   "execution_count": null,
   "metadata": {},
   "outputs": [],
   "source": [
    "ref = Data.get_combine()"
   ]
  },
  {
   "cell_type": "markdown",
   "metadata": {},
   "source": [
    "Or from original normalized PSPA, which needs a different algorithm to calculate"
   ]
  },
  {
   "cell_type": "code",
   "execution_count": null,
   "metadata": {},
   "outputs": [],
   "source": [
    "ref_original = Data.get_pspa_original()"
   ]
  },
  {
   "cell_type": "markdown",
   "metadata": {},
   "source": [
    "## Phosphorylation sites"
   ]
  },
  {
   "cell_type": "markdown",
   "metadata": {},
   "source": [
    "***CPTAC pan-cancer phosphoproteomics***"
   ]
  },
  {
   "cell_type": "code",
   "execution_count": null,
   "metadata": {},
   "outputs": [],
   "source": [
    "df = Data.get_cptac_ensembl_site()"
   ]
  },
  {
   "cell_type": "markdown",
   "metadata": {},
   "source": [
    "***Ochoa et al. dataset from [paper]((https://www.nature.com/articles/s41587-019-0344-3))***"
   ]
  },
  {
   "cell_type": "code",
   "execution_count": null,
   "metadata": {},
   "outputs": [],
   "source": [
    "df = Data.get_ochoa_site()"
   ]
  },
  {
   "cell_type": "markdown",
   "metadata": {},
   "source": [
    "***PhosphoSitePlus***"
   ]
  },
  {
   "cell_type": "code",
   "execution_count": null,
   "metadata": {},
   "outputs": [],
   "source": [
    "df = Data.get_pplus_human_site()"
   ]
  },
  {
   "cell_type": "markdown",
   "metadata": {},
   "source": [
    "***Your customized csv file***\n",
    "> with 'site_seq' as the column name of the site and 'gene_site' as the site id"
   ]
  },
  {
   "cell_type": "code",
   "execution_count": null,
   "metadata": {},
   "outputs": [],
   "source": [
    "# df = pd.read_csv('your_file.csv')"
   ]
  },
  {
   "cell_type": "markdown",
   "metadata": {},
   "source": [
    "```\n",
    "Since the phosphorylation sites in the first two datasets are all capital, strongly recommend using all capital reference for them\n",
    "```"
   ]
  },
  {
   "cell_type": "markdown",
   "metadata": {},
   "source": [
    "### Get unique site"
   ]
  },
  {
   "cell_type": "markdown",
   "metadata": {},
   "source": [
    "Since there are duplicated phosphorylation site sequences in the above datasets, we can get unique phosphorylation site through this function"
   ]
  },
  {
   "cell_type": "code",
   "execution_count": null,
   "metadata": {},
   "outputs": [],
   "source": [
    "unique = get_unique_site(df)"
   ]
  },
  {
   "cell_type": "code",
   "execution_count": null,
   "metadata": {},
   "outputs": [
    {
     "data": {
      "text/html": [
       "<div>\n",
       "<style scoped>\n",
       "    .dataframe tbody tr th:only-of-type {\n",
       "        vertical-align: middle;\n",
       "    }\n",
       "\n",
       "    .dataframe tbody tr th {\n",
       "        vertical-align: top;\n",
       "    }\n",
       "\n",
       "    .dataframe thead th {\n",
       "        text-align: right;\n",
       "    }\n",
       "</style>\n",
       "<table border=\"1\" class=\"dataframe\">\n",
       "  <thead>\n",
       "    <tr style=\"text-align: right;\">\n",
       "      <th></th>\n",
       "      <th>site_seq</th>\n",
       "      <th>gene_site</th>\n",
       "      <th>num_site</th>\n",
       "      <th>acceptor</th>\n",
       "    </tr>\n",
       "  </thead>\n",
       "  <tbody>\n",
       "    <tr>\n",
       "      <th>185137</th>\n",
       "      <td>TLQHVPDyRQNVyIP</td>\n",
       "      <td>PCDHGA1_Y890|PCDHGA10_Y895|PCDHGA11_Y894|PCDHG...</td>\n",
       "      <td>22</td>\n",
       "      <td>y</td>\n",
       "    </tr>\n",
       "    <tr>\n",
       "      <th>185467</th>\n",
       "      <td>TMGLSARyGPQFTLQ</td>\n",
       "      <td>PCDHGA1_Y878|PCDHGA10_Y883|PCDHGA11_Y882|PCDHG...</td>\n",
       "      <td>22</td>\n",
       "      <td>y</td>\n",
       "    </tr>\n",
       "    <tr>\n",
       "      <th>126642</th>\n",
       "      <td>PDyRQNVyIPGSNAT</td>\n",
       "      <td>PCDHGA1_Y895|PCDHGA10_Y900|PCDHGA11_Y899|PCDHG...</td>\n",
       "      <td>22</td>\n",
       "      <td>y</td>\n",
       "    </tr>\n",
       "    <tr>\n",
       "      <th>67151</th>\n",
       "      <td>GsKGGCGsCGGsKGG</td>\n",
       "      <td>KRTAP5-1_S101|KRTAP5-1_S111|KRTAP5-10_S86|KRTA...</td>\n",
       "      <td>19</td>\n",
       "      <td>s</td>\n",
       "    </tr>\n",
       "    <tr>\n",
       "      <th>61524</th>\n",
       "      <td>GPEVLQDsLDRCYST</td>\n",
       "      <td>NBPF14_S295|NBPF14_S539|NBPF19_S364|NBPF19_S60...</td>\n",
       "      <td>19</td>\n",
       "      <td>s</td>\n",
       "    </tr>\n",
       "  </tbody>\n",
       "</table>\n",
       "</div>"
      ],
      "text/plain": [
       "               site_seq                                          gene_site  \\\n",
       "185137  TLQHVPDyRQNVyIP  PCDHGA1_Y890|PCDHGA10_Y895|PCDHGA11_Y894|PCDHG...   \n",
       "185467  TMGLSARyGPQFTLQ  PCDHGA1_Y878|PCDHGA10_Y883|PCDHGA11_Y882|PCDHG...   \n",
       "126642  PDyRQNVyIPGSNAT  PCDHGA1_Y895|PCDHGA10_Y900|PCDHGA11_Y899|PCDHG...   \n",
       "67151   GsKGGCGsCGGsKGG  KRTAP5-1_S101|KRTAP5-1_S111|KRTAP5-10_S86|KRTA...   \n",
       "61524   GPEVLQDsLDRCYST  NBPF14_S295|NBPF14_S539|NBPF19_S364|NBPF19_S60...   \n",
       "\n",
       "        num_site acceptor  \n",
       "185137        22        y  \n",
       "185467        22        y  \n",
       "126642        22        y  \n",
       "67151         19        s  \n",
       "61524         19        s  "
      ]
     },
     "execution_count": null,
     "metadata": {},
     "output_type": "execute_result"
    }
   ],
   "source": [
    "unique.sort_values('num_site',ascending=False).head()"
   ]
  },
  {
   "cell_type": "markdown",
   "metadata": {},
   "source": [
    "As shown above, a site sequence can correspond to multiple sites"
   ]
  },
  {
   "cell_type": "markdown",
   "metadata": {},
   "source": [
    "## Predict kinase based on site sequence"
   ]
  },
  {
   "cell_type": "markdown",
   "metadata": {},
   "source": [
    "***From site sequence***"
   ]
  },
  {
   "cell_type": "markdown",
   "metadata": {},
   "source": [
    "To replicate phosphoplus kinase library prediction"
   ]
  },
  {
   "cell_type": "code",
   "execution_count": null,
   "metadata": {},
   "outputs": [],
   "source": [
    "ref_original = Data.get_pspa_original()"
   ]
  },
  {
   "cell_type": "code",
   "execution_count": null,
   "metadata": {},
   "outputs": [
    {
     "name": "stderr",
     "output_type": "stream",
     "text": [
      "100%|██████████| 303/303 [00:00<00:00, 9484.28it/s]"
     ]
    },
    {
     "name": "stdout",
     "output_type": "stream",
     "text": [
      "calculated string: ['-5A', '-4A', '-3A', '-2A', '-1A', '0s', '1P', '2G', '3A', '4G']\n"
     ]
    },
    {
     "name": "stderr",
     "output_type": "stream",
     "text": [
      "\n"
     ]
    },
    {
     "data": {
      "text/plain": [
       "kinase\n",
       "P38D       6.735\n",
       "JNK2       6.712\n",
       "JNK1       6.144\n",
       "JNK3       6.021\n",
       "HIPK2      5.940\n",
       "           ...  \n",
       "MRCKA     -6.985\n",
       "MST1      -7.108\n",
       "ALPHAK3   -7.623\n",
       "RIPK2     -7.699\n",
       "TTK       -8.061\n",
       "Length: 303, dtype: float64"
      ]
     },
     "execution_count": null,
     "metadata": {},
     "output_type": "execute_result"
    }
   ],
   "source": [
    "predict_kinase('AAAAAAAsPGAGSDN',ref_original,multiply)"
   ]
  },
  {
   "cell_type": "markdown",
   "metadata": {},
   "source": [
    "In our case"
   ]
  },
  {
   "cell_type": "code",
   "execution_count": null,
   "metadata": {},
   "outputs": [],
   "source": [
    "ref = Data.get_ks_upper()"
   ]
  },
  {
   "cell_type": "code",
   "execution_count": null,
   "metadata": {},
   "outputs": [
    {
     "name": "stderr",
     "output_type": "stream",
     "text": [
      "100%|██████████| 289/289 [00:00<00:00, 8829.53it/s]\n"
     ]
    },
    {
     "name": "stdout",
     "output_type": "stream",
     "text": [
      "calculated string: ['-7A', '-6A', '-5A', '-4A', '-3A', '-2A', '-1A', '0s', '1P', '2G', '3A', '4G', '5S', '6D', '7N']\n"
     ]
    },
    {
     "data": {
      "text/plain": [
       "kinase\n",
       "ERK2      2.450\n",
       "ERK1      2.357\n",
       "CDK1      2.353\n",
       "DYRK1A    2.338\n",
       "CDK9      2.332\n",
       "          ...  \n",
       "FRK       0.844\n",
       "DDR2      0.841\n",
       "BLK       0.833\n",
       "CSF1R     0.832\n",
       "LCK       0.824\n",
       "Length: 289, dtype: float64"
      ]
     },
     "execution_count": null,
     "metadata": {},
     "output_type": "execute_result"
    }
   ],
   "source": [
    "predict_kinase('AAAAAAAsPGAGSDN',ref)"
   ]
  },
  {
   "cell_type": "markdown",
   "metadata": {},
   "source": [
    "***Predict site sequences from a dataframe***"
   ]
  },
  {
   "cell_type": "markdown",
   "metadata": {},
   "source": [
    "All capital"
   ]
  },
  {
   "cell_type": "code",
   "execution_count": null,
   "metadata": {},
   "outputs": [],
   "source": [
    "df = Data.get_ochoa_site()\n",
    "\n",
    "unique = get_unique_site(df)"
   ]
  },
  {
   "cell_type": "code",
   "execution_count": null,
   "metadata": {},
   "outputs": [],
   "source": [
    "ref = Data.get_ks_upper()"
   ]
  },
  {
   "cell_type": "code",
   "execution_count": null,
   "metadata": {},
   "outputs": [
    {
     "name": "stdout",
     "output_type": "stream",
     "text": [
      "according to the ref \n",
      "will calculate position: [-7, -6, -5, -4, -3, -2, -1, 0, 1, 2, 3, 4, 5, 6, 7]\n"
     ]
    },
    {
     "name": "stderr",
     "output_type": "stream",
     "text": [
      "100%|██████████| 289/289 [00:00<00:00, 7125.54it/s]\n"
     ]
    }
   ],
   "source": [
    "results = predict_kinase_df(unique.head(),ref,seq_col='site_seq',seq_id='gene_site')"
   ]
  },
  {
   "cell_type": "code",
   "execution_count": null,
   "metadata": {},
   "outputs": [
    {
     "data": {
      "text/html": [
       "<div>\n",
       "<style scoped>\n",
       "    .dataframe tbody tr th:only-of-type {\n",
       "        vertical-align: middle;\n",
       "    }\n",
       "\n",
       "    .dataframe tbody tr th {\n",
       "        vertical-align: top;\n",
       "    }\n",
       "\n",
       "    .dataframe thead th {\n",
       "        text-align: right;\n",
       "    }\n",
       "</style>\n",
       "<table border=\"1\" class=\"dataframe\">\n",
       "  <thead>\n",
       "    <tr style=\"text-align: right;\">\n",
       "      <th>kinase</th>\n",
       "      <th>SRC</th>\n",
       "      <th>EPHA3</th>\n",
       "      <th>FES</th>\n",
       "      <th>NTRK3</th>\n",
       "      <th>ALK</th>\n",
       "      <th>EPHA8</th>\n",
       "      <th>ABL1</th>\n",
       "      <th>FLT3</th>\n",
       "      <th>EPHB2</th>\n",
       "      <th>FYN</th>\n",
       "      <th>...</th>\n",
       "      <th>MEK5</th>\n",
       "      <th>PKN2</th>\n",
       "      <th>MAP2K7</th>\n",
       "      <th>MRCKB</th>\n",
       "      <th>HIPK3</th>\n",
       "      <th>CDK8</th>\n",
       "      <th>BUB1</th>\n",
       "      <th>MEKK3</th>\n",
       "      <th>MAP2K3</th>\n",
       "      <th>GRK1</th>\n",
       "    </tr>\n",
       "    <tr>\n",
       "      <th>gene_site</th>\n",
       "      <th></th>\n",
       "      <th></th>\n",
       "      <th></th>\n",
       "      <th></th>\n",
       "      <th></th>\n",
       "      <th></th>\n",
       "      <th></th>\n",
       "      <th></th>\n",
       "      <th></th>\n",
       "      <th></th>\n",
       "      <th></th>\n",
       "      <th></th>\n",
       "      <th></th>\n",
       "      <th></th>\n",
       "      <th></th>\n",
       "      <th></th>\n",
       "      <th></th>\n",
       "      <th></th>\n",
       "      <th></th>\n",
       "      <th></th>\n",
       "      <th></th>\n",
       "    </tr>\n",
       "  </thead>\n",
       "  <tbody>\n",
       "    <tr>\n",
       "      <th>PBX1_S136</th>\n",
       "      <td>0.967636</td>\n",
       "      <td>0.932705</td>\n",
       "      <td>0.978893</td>\n",
       "      <td>1.088084</td>\n",
       "      <td>0.977932</td>\n",
       "      <td>0.953580</td>\n",
       "      <td>0.984913</td>\n",
       "      <td>0.899555</td>\n",
       "      <td>0.986050</td>\n",
       "      <td>0.967174</td>\n",
       "      <td>...</td>\n",
       "      <td>1.735000</td>\n",
       "      <td>1.803454</td>\n",
       "      <td>1.820988</td>\n",
       "      <td>1.586650</td>\n",
       "      <td>1.676599</td>\n",
       "      <td>1.726701</td>\n",
       "      <td>1.428212</td>\n",
       "      <td>1.651039</td>\n",
       "      <td>1.549183</td>\n",
       "      <td>1.743809</td>\n",
       "    </tr>\n",
       "    <tr>\n",
       "      <th>PBX2_S146</th>\n",
       "      <td>0.971956</td>\n",
       "      <td>0.928551</td>\n",
       "      <td>1.004222</td>\n",
       "      <td>1.091457</td>\n",
       "      <td>0.996244</td>\n",
       "      <td>0.911090</td>\n",
       "      <td>1.000078</td>\n",
       "      <td>0.909698</td>\n",
       "      <td>0.983315</td>\n",
       "      <td>0.988757</td>\n",
       "      <td>...</td>\n",
       "      <td>1.701254</td>\n",
       "      <td>1.743046</td>\n",
       "      <td>1.875124</td>\n",
       "      <td>1.631292</td>\n",
       "      <td>1.750673</td>\n",
       "      <td>1.971984</td>\n",
       "      <td>1.380593</td>\n",
       "      <td>1.641144</td>\n",
       "      <td>1.528793</td>\n",
       "      <td>1.855968</td>\n",
       "    </tr>\n",
       "    <tr>\n",
       "      <th>CLASR_S349</th>\n",
       "      <td>0.964690</td>\n",
       "      <td>0.942900</td>\n",
       "      <td>0.982597</td>\n",
       "      <td>1.074349</td>\n",
       "      <td>1.019710</td>\n",
       "      <td>0.903971</td>\n",
       "      <td>0.996951</td>\n",
       "      <td>0.915299</td>\n",
       "      <td>0.978944</td>\n",
       "      <td>0.964350</td>\n",
       "      <td>...</td>\n",
       "      <td>1.598322</td>\n",
       "      <td>1.733735</td>\n",
       "      <td>1.866852</td>\n",
       "      <td>1.524150</td>\n",
       "      <td>1.851515</td>\n",
       "      <td>1.594087</td>\n",
       "      <td>1.428212</td>\n",
       "      <td>1.700833</td>\n",
       "      <td>1.578802</td>\n",
       "      <td>2.030731</td>\n",
       "    </tr>\n",
       "    <tr>\n",
       "      <th>TBL1R_S119</th>\n",
       "      <td>0.884278</td>\n",
       "      <td>0.900332</td>\n",
       "      <td>0.925153</td>\n",
       "      <td>1.037466</td>\n",
       "      <td>0.933632</td>\n",
       "      <td>0.861777</td>\n",
       "      <td>0.965054</td>\n",
       "      <td>0.907505</td>\n",
       "      <td>0.922761</td>\n",
       "      <td>0.878000</td>\n",
       "      <td>...</td>\n",
       "      <td>1.555438</td>\n",
       "      <td>1.820845</td>\n",
       "      <td>1.856861</td>\n",
       "      <td>1.550935</td>\n",
       "      <td>1.861953</td>\n",
       "      <td>1.839460</td>\n",
       "      <td>1.304942</td>\n",
       "      <td>1.700161</td>\n",
       "      <td>1.429961</td>\n",
       "      <td>1.917382</td>\n",
       "    </tr>\n",
       "    <tr>\n",
       "      <th>SOX3_S249</th>\n",
       "      <td>0.915938</td>\n",
       "      <td>0.889072</td>\n",
       "      <td>0.938906</td>\n",
       "      <td>1.038611</td>\n",
       "      <td>0.994051</td>\n",
       "      <td>0.870013</td>\n",
       "      <td>0.937411</td>\n",
       "      <td>0.923446</td>\n",
       "      <td>0.928658</td>\n",
       "      <td>0.900720</td>\n",
       "      <td>...</td>\n",
       "      <td>1.666336</td>\n",
       "      <td>2.098952</td>\n",
       "      <td>1.811488</td>\n",
       "      <td>1.542007</td>\n",
       "      <td>1.813300</td>\n",
       "      <td>1.699208</td>\n",
       "      <td>1.352740</td>\n",
       "      <td>1.700060</td>\n",
       "      <td>1.352281</td>\n",
       "      <td>1.619684</td>\n",
       "    </tr>\n",
       "  </tbody>\n",
       "</table>\n",
       "<p>5 rows × 289 columns</p>\n",
       "</div>"
      ],
      "text/plain": [
       "kinase           SRC     EPHA3       FES     NTRK3       ALK     EPHA8  \\\n",
       "gene_site                                                                \n",
       "PBX1_S136   0.967636  0.932705  0.978893  1.088084  0.977932  0.953580   \n",
       "PBX2_S146   0.971956  0.928551  1.004222  1.091457  0.996244  0.911090   \n",
       "CLASR_S349  0.964690  0.942900  0.982597  1.074349  1.019710  0.903971   \n",
       "TBL1R_S119  0.884278  0.900332  0.925153  1.037466  0.933632  0.861777   \n",
       "SOX3_S249   0.915938  0.889072  0.938906  1.038611  0.994051  0.870013   \n",
       "\n",
       "kinase          ABL1      FLT3     EPHB2       FYN  ...      MEK5      PKN2  \\\n",
       "gene_site                                           ...                       \n",
       "PBX1_S136   0.984913  0.899555  0.986050  0.967174  ...  1.735000  1.803454   \n",
       "PBX2_S146   1.000078  0.909698  0.983315  0.988757  ...  1.701254  1.743046   \n",
       "CLASR_S349  0.996951  0.915299  0.978944  0.964350  ...  1.598322  1.733735   \n",
       "TBL1R_S119  0.965054  0.907505  0.922761  0.878000  ...  1.555438  1.820845   \n",
       "SOX3_S249   0.937411  0.923446  0.928658  0.900720  ...  1.666336  2.098952   \n",
       "\n",
       "kinase        MAP2K7     MRCKB     HIPK3      CDK8      BUB1     MEKK3  \\\n",
       "gene_site                                                                \n",
       "PBX1_S136   1.820988  1.586650  1.676599  1.726701  1.428212  1.651039   \n",
       "PBX2_S146   1.875124  1.631292  1.750673  1.971984  1.380593  1.641144   \n",
       "CLASR_S349  1.866852  1.524150  1.851515  1.594087  1.428212  1.700833   \n",
       "TBL1R_S119  1.856861  1.550935  1.861953  1.839460  1.304942  1.700161   \n",
       "SOX3_S249   1.811488  1.542007  1.813300  1.699208  1.352740  1.700060   \n",
       "\n",
       "kinase        MAP2K3      GRK1  \n",
       "gene_site                       \n",
       "PBX1_S136   1.549183  1.743809  \n",
       "PBX2_S146   1.528793  1.855968  \n",
       "CLASR_S349  1.578802  2.030731  \n",
       "TBL1R_S119  1.429961  1.917382  \n",
       "SOX3_S249   1.352281  1.619684  \n",
       "\n",
       "[5 rows x 289 columns]"
      ]
     },
     "execution_count": null,
     "metadata": {},
     "output_type": "execute_result"
    }
   ],
   "source": [
    "results"
   ]
  },
  {
   "cell_type": "markdown",
   "metadata": {},
   "source": [
    "With lower case"
   ]
  },
  {
   "cell_type": "code",
   "execution_count": null,
   "metadata": {},
   "outputs": [],
   "source": [
    "df = Data.get_pplus_human_site()"
   ]
  },
  {
   "cell_type": "markdown",
   "metadata": {},
   "source": [
    "Convert characters to uppercase except for s, t and y"
   ]
  },
  {
   "cell_type": "code",
   "execution_count": null,
   "metadata": {},
   "outputs": [],
   "source": [
    "def convert_to_uppercase(sequence):\n",
    "    # Convert all characters to uppercase except for 's', 't', 'y'\n",
    "    return ''.join([char.upper() if char not in ['s', 't', 'y'] else char for char in sequence])"
   ]
  },
  {
   "cell_type": "code",
   "execution_count": null,
   "metadata": {},
   "outputs": [],
   "source": [
    "df['site_seq2'] = df['site_seq'].apply(convert_to_uppercase)"
   ]
  },
  {
   "cell_type": "code",
   "execution_count": null,
   "metadata": {},
   "outputs": [],
   "source": [
    "ref = Data.get_ks()"
   ]
  },
  {
   "cell_type": "code",
   "execution_count": null,
   "metadata": {},
   "outputs": [
    {
     "name": "stdout",
     "output_type": "stream",
     "text": [
      "according to the ref \n",
      "will calculate position: [-7, -6, -5, -4, -3, -2, -1, 0, 1, 2, 3, 4, 5, 6, 7]\n"
     ]
    },
    {
     "name": "stderr",
     "output_type": "stream",
     "text": [
      "100%|██████████| 289/289 [00:00<00:00, 6674.78it/s]\n"
     ]
    }
   ],
   "source": [
    "results = predict_kinase_df(df.head(),ref,seq_col='site_seq2',seq_id='gene_site')"
   ]
  },
  {
   "cell_type": "code",
   "execution_count": null,
   "metadata": {},
   "outputs": [
    {
     "data": {
      "text/html": [
       "<div>\n",
       "<style scoped>\n",
       "    .dataframe tbody tr th:only-of-type {\n",
       "        vertical-align: middle;\n",
       "    }\n",
       "\n",
       "    .dataframe tbody tr th {\n",
       "        vertical-align: top;\n",
       "    }\n",
       "\n",
       "    .dataframe thead th {\n",
       "        text-align: right;\n",
       "    }\n",
       "</style>\n",
       "<table border=\"1\" class=\"dataframe\">\n",
       "  <thead>\n",
       "    <tr style=\"text-align: right;\">\n",
       "      <th>kinase</th>\n",
       "      <th>SRC</th>\n",
       "      <th>EPHA3</th>\n",
       "      <th>FES</th>\n",
       "      <th>NTRK3</th>\n",
       "      <th>ALK</th>\n",
       "      <th>EPHA8</th>\n",
       "      <th>ABL1</th>\n",
       "      <th>FLT3</th>\n",
       "      <th>EPHB2</th>\n",
       "      <th>FYN</th>\n",
       "      <th>...</th>\n",
       "      <th>MEK5</th>\n",
       "      <th>PKN2</th>\n",
       "      <th>MAP2K7</th>\n",
       "      <th>MRCKB</th>\n",
       "      <th>HIPK3</th>\n",
       "      <th>CDK8</th>\n",
       "      <th>BUB1</th>\n",
       "      <th>MEKK3</th>\n",
       "      <th>MAP2K3</th>\n",
       "      <th>GRK1</th>\n",
       "    </tr>\n",
       "    <tr>\n",
       "      <th>gene_site</th>\n",
       "      <th></th>\n",
       "      <th></th>\n",
       "      <th></th>\n",
       "      <th></th>\n",
       "      <th></th>\n",
       "      <th></th>\n",
       "      <th></th>\n",
       "      <th></th>\n",
       "      <th></th>\n",
       "      <th></th>\n",
       "      <th></th>\n",
       "      <th></th>\n",
       "      <th></th>\n",
       "      <th></th>\n",
       "      <th></th>\n",
       "      <th></th>\n",
       "      <th></th>\n",
       "      <th></th>\n",
       "      <th></th>\n",
       "      <th></th>\n",
       "      <th></th>\n",
       "    </tr>\n",
       "  </thead>\n",
       "  <tbody>\n",
       "    <tr>\n",
       "      <th>YWHAB_T2</th>\n",
       "      <td>0.448111</td>\n",
       "      <td>0.512185</td>\n",
       "      <td>0.460677</td>\n",
       "      <td>0.495763</td>\n",
       "      <td>0.437926</td>\n",
       "      <td>0.507986</td>\n",
       "      <td>0.445800</td>\n",
       "      <td>0.463396</td>\n",
       "      <td>0.483484</td>\n",
       "      <td>0.450507</td>\n",
       "      <td>...</td>\n",
       "      <td>0.909909</td>\n",
       "      <td>0.366295</td>\n",
       "      <td>0.781871</td>\n",
       "      <td>0.830357</td>\n",
       "      <td>0.725926</td>\n",
       "      <td>0.838861</td>\n",
       "      <td>0.852291</td>\n",
       "      <td>0.950844</td>\n",
       "      <td>0.650647</td>\n",
       "      <td>0.589602</td>\n",
       "    </tr>\n",
       "    <tr>\n",
       "      <th>YWHAB_S6</th>\n",
       "      <td>0.760687</td>\n",
       "      <td>0.775659</td>\n",
       "      <td>0.777152</td>\n",
       "      <td>0.817897</td>\n",
       "      <td>0.812954</td>\n",
       "      <td>0.752541</td>\n",
       "      <td>0.770987</td>\n",
       "      <td>0.744518</td>\n",
       "      <td>0.772502</td>\n",
       "      <td>0.792198</td>\n",
       "      <td>...</td>\n",
       "      <td>1.023589</td>\n",
       "      <td>1.410543</td>\n",
       "      <td>1.174738</td>\n",
       "      <td>1.331494</td>\n",
       "      <td>1.169024</td>\n",
       "      <td>1.360720</td>\n",
       "      <td>1.098113</td>\n",
       "      <td>1.116309</td>\n",
       "      <td>1.088421</td>\n",
       "      <td>1.761190</td>\n",
       "    </tr>\n",
       "    <tr>\n",
       "      <th>YWHAB_Y21</th>\n",
       "      <td>1.823324</td>\n",
       "      <td>1.860114</td>\n",
       "      <td>1.900536</td>\n",
       "      <td>1.764631</td>\n",
       "      <td>1.787405</td>\n",
       "      <td>1.892896</td>\n",
       "      <td>1.839061</td>\n",
       "      <td>1.858879</td>\n",
       "      <td>1.878042</td>\n",
       "      <td>1.838722</td>\n",
       "      <td>...</td>\n",
       "      <td>0.963460</td>\n",
       "      <td>0.567132</td>\n",
       "      <td>0.953375</td>\n",
       "      <td>0.987378</td>\n",
       "      <td>0.778283</td>\n",
       "      <td>0.762847</td>\n",
       "      <td>0.928032</td>\n",
       "      <td>0.793853</td>\n",
       "      <td>1.158406</td>\n",
       "      <td>0.935518</td>\n",
       "    </tr>\n",
       "    <tr>\n",
       "      <th>YWHAB_T32</th>\n",
       "      <td>0.911269</td>\n",
       "      <td>0.904384</td>\n",
       "      <td>0.908692</td>\n",
       "      <td>0.921927</td>\n",
       "      <td>0.918522</td>\n",
       "      <td>0.935179</td>\n",
       "      <td>0.905616</td>\n",
       "      <td>0.829514</td>\n",
       "      <td>0.911350</td>\n",
       "      <td>0.932878</td>\n",
       "      <td>...</td>\n",
       "      <td>1.368271</td>\n",
       "      <td>1.020999</td>\n",
       "      <td>1.186577</td>\n",
       "      <td>1.470578</td>\n",
       "      <td>1.032997</td>\n",
       "      <td>1.176981</td>\n",
       "      <td>1.200719</td>\n",
       "      <td>1.362783</td>\n",
       "      <td>1.123469</td>\n",
       "      <td>1.351465</td>\n",
       "    </tr>\n",
       "    <tr>\n",
       "      <th>YWHAB_S39</th>\n",
       "      <td>0.974874</td>\n",
       "      <td>1.036194</td>\n",
       "      <td>0.975992</td>\n",
       "      <td>1.018471</td>\n",
       "      <td>0.968744</td>\n",
       "      <td>1.033577</td>\n",
       "      <td>0.988792</td>\n",
       "      <td>0.962221</td>\n",
       "      <td>0.933072</td>\n",
       "      <td>1.045137</td>\n",
       "      <td>...</td>\n",
       "      <td>1.097011</td>\n",
       "      <td>1.514735</td>\n",
       "      <td>1.254766</td>\n",
       "      <td>1.322982</td>\n",
       "      <td>1.506397</td>\n",
       "      <td>2.076575</td>\n",
       "      <td>1.541420</td>\n",
       "      <td>1.220260</td>\n",
       "      <td>1.180760</td>\n",
       "      <td>2.005598</td>\n",
       "    </tr>\n",
       "  </tbody>\n",
       "</table>\n",
       "<p>5 rows × 289 columns</p>\n",
       "</div>"
      ],
      "text/plain": [
       "kinase          SRC     EPHA3       FES     NTRK3       ALK     EPHA8  \\\n",
       "gene_site                                                               \n",
       "YWHAB_T2   0.448111  0.512185  0.460677  0.495763  0.437926  0.507986   \n",
       "YWHAB_S6   0.760687  0.775659  0.777152  0.817897  0.812954  0.752541   \n",
       "YWHAB_Y21  1.823324  1.860114  1.900536  1.764631  1.787405  1.892896   \n",
       "YWHAB_T32  0.911269  0.904384  0.908692  0.921927  0.918522  0.935179   \n",
       "YWHAB_S39  0.974874  1.036194  0.975992  1.018471  0.968744  1.033577   \n",
       "\n",
       "kinase         ABL1      FLT3     EPHB2       FYN  ...      MEK5      PKN2  \\\n",
       "gene_site                                          ...                       \n",
       "YWHAB_T2   0.445800  0.463396  0.483484  0.450507  ...  0.909909  0.366295   \n",
       "YWHAB_S6   0.770987  0.744518  0.772502  0.792198  ...  1.023589  1.410543   \n",
       "YWHAB_Y21  1.839061  1.858879  1.878042  1.838722  ...  0.963460  0.567132   \n",
       "YWHAB_T32  0.905616  0.829514  0.911350  0.932878  ...  1.368271  1.020999   \n",
       "YWHAB_S39  0.988792  0.962221  0.933072  1.045137  ...  1.097011  1.514735   \n",
       "\n",
       "kinase       MAP2K7     MRCKB     HIPK3      CDK8      BUB1     MEKK3  \\\n",
       "gene_site                                                               \n",
       "YWHAB_T2   0.781871  0.830357  0.725926  0.838861  0.852291  0.950844   \n",
       "YWHAB_S6   1.174738  1.331494  1.169024  1.360720  1.098113  1.116309   \n",
       "YWHAB_Y21  0.953375  0.987378  0.778283  0.762847  0.928032  0.793853   \n",
       "YWHAB_T32  1.186577  1.470578  1.032997  1.176981  1.200719  1.362783   \n",
       "YWHAB_S39  1.254766  1.322982  1.506397  2.076575  1.541420  1.220260   \n",
       "\n",
       "kinase       MAP2K3      GRK1  \n",
       "gene_site                      \n",
       "YWHAB_T2   0.650647  0.589602  \n",
       "YWHAB_S6   1.088421  1.761190  \n",
       "YWHAB_Y21  1.158406  0.935518  \n",
       "YWHAB_T32  1.123469  1.351465  \n",
       "YWHAB_S39  1.180760  2.005598  \n",
       "\n",
       "[5 rows x 289 columns]"
      ]
     },
     "execution_count": null,
     "metadata": {},
     "output_type": "execute_result"
    }
   ],
   "source": [
    "results"
   ]
  },
  {
   "cell_type": "markdown",
   "metadata": {},
   "source": [
    "## Site format"
   ]
  },
  {
   "cell_type": "markdown",
   "metadata": {},
   "source": [
    "### Examples"
   ]
  },
  {
   "cell_type": "markdown",
   "metadata": {},
   "source": [
    "***All capital - 15 length (-7 to +7), ok for position0 is lowercase***"
   ]
  },
  {
   "cell_type": "markdown",
   "metadata": {},
   "source": [
    "- QSEEEKLSPSPTTED\n",
    "- TLQHVPDYRQNVYIP\n",
    "- TMGLSARyGPQFTLQ"
   ]
  },
  {
   "cell_type": "markdown",
   "metadata": {},
   "source": [
    "***All capital - 10 length (-5 to +4)***"
   ]
  },
  {
   "cell_type": "markdown",
   "metadata": {},
   "source": [
    "- SRDPHYQDPH\n",
    "- LDNPDyQQDF\n",
    "- AAAAAsGGAG"
   ]
  },
  {
   "cell_type": "markdown",
   "metadata": {},
   "source": [
    "***With lowercase - 15 length, only allows s,t,y to be lowercase***"
   ]
  },
  {
   "cell_type": "markdown",
   "metadata": {},
   "source": [
    "- QsEEEKLsPsPTTED\n",
    "- TLQHVPDyRQNVYIP\n",
    "- TMGLsARyGPQFTLQ"
   ]
  },
  {
   "cell_type": "markdown",
   "metadata": {},
   "source": [
    "***With lowercase - 10 length***"
   ]
  },
  {
   "cell_type": "markdown",
   "metadata": {},
   "source": [
    "- sRDPHyQDPH\n",
    "- LDNPDyQQDF\n",
    "- AAAAAsGGAG"
   ]
  },
  {
   "cell_type": "markdown",
   "metadata": {},
   "source": [
    "### Length"
   ]
  },
  {
   "cell_type": "markdown",
   "metadata": {},
   "source": [
    "Either 15 (-7 to +7) or 10 (-5 to +4)"
   ]
  },
  {
   "cell_type": "markdown",
   "metadata": {},
   "source": [
    "### Acceptor (position 0 )"
   ]
  },
  {
   "cell_type": "markdown",
   "metadata": {},
   "source": [
    "S, T or Y"
   ]
  },
  {
   "cell_type": "markdown",
   "metadata": {},
   "source": [
    "### Amino acid"
   ]
  },
  {
   "cell_type": "markdown",
   "metadata": {},
   "source": [
    "Accept amino acid that belongs to \"PGACSTVILMFYWHKRQNDEsty\" but not rare aa like \"U\"(selenocysteine) or \"O\"(pyrrolysine)"
   ]
  },
  {
   "cell_type": "code",
   "execution_count": null,
   "metadata": {},
   "outputs": [],
   "source": []
  }
 ],
 "metadata": {
  "kernelspec": {
   "display_name": "python3",
   "language": "python",
   "name": "python3"
  }
 },
 "nbformat": 4,
 "nbformat_minor": 4
}
