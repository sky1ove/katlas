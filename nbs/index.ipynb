{
 "cells": [
  {
   "cell_type": "code",
   "execution_count": null,
   "metadata": {},
   "outputs": [],
   "source": [
    "#| hide\n",
    "from IPython.display import display"
   ]
  },
  {
   "cell_type": "markdown",
   "metadata": {},
   "source": [
    "<img alt=\"Katlas logo\" width=\"500\" caption=\"Katlas logo\" src=\"dataset/images/logo.png\" id=\"logo\"/>"
   ]
  },
  {
   "cell_type": "markdown",
   "metadata": {},
   "source": [
    "# Katlas\n",
    "\n",
    "> Predict kinase given a substrate sequence"
   ]
  },
  {
   "cell_type": "markdown",
   "metadata": {},
   "source": [
    "## Install"
   ]
  },
  {
   "cell_type": "markdown",
   "metadata": {},
   "source": [
    "Install the latest version through git"
   ]
  },
  {
   "cell_type": "code",
   "execution_count": null,
   "metadata": {},
   "outputs": [],
   "source": [
    "!pip install git+https://github.com/sky1ove/katlas.git -Uqq"
   ]
  },
  {
   "cell_type": "markdown",
   "metadata": {},
   "source": [
    "## Import"
   ]
  },
  {
   "cell_type": "code",
   "execution_count": null,
   "metadata": {},
   "outputs": [],
   "source": [
    "from katlas.core import *"
   ]
  },
  {
   "cell_type": "markdown",
   "metadata": {},
   "source": [
    "# Quick start"
   ]
  },
  {
   "cell_type": "markdown",
   "metadata": {},
   "source": [
    "### Input sequences are all capital"
   ]
  },
  {
   "cell_type": "code",
   "execution_count": null,
   "metadata": {},
   "outputs": [
    {
     "name": "stderr",
     "output_type": "stream",
     "text": [
      "100%|██████████| 289/289 [00:00<00:00, 8321.29it/s]"
     ]
    },
    {
     "name": "stdout",
     "output_type": "stream",
     "text": [
      "calculated string: ['-7A', '-6A', '-5A', '-4A', '-3A', '-2A', '-1A', '0S', '1G', '2G', '3A', '4G', '5S', '6D', '7N']\n"
     ]
    },
    {
     "name": "stderr",
     "output_type": "stream",
     "text": [
      "\n"
     ]
    },
    {
     "data": {
      "text/plain": [
       "kinase\n",
       "PAK6     2.032\n",
       "ULK3     2.032\n",
       "PRKX     2.012\n",
       "ATR      1.991\n",
       "PRKD1    1.988\n",
       "         ...  \n",
       "DDR2     0.928\n",
       "EPHA4    0.928\n",
       "TEK      0.921\n",
       "KIT      0.915\n",
       "FGFR3    0.910\n",
       "Length: 289, dtype: float64"
      ]
     },
     "execution_count": null,
     "metadata": {},
     "output_type": "execute_result"
    }
   ],
   "source": [
    "# For a single phosphorylation site sequence\n",
    "predict_kinase('AAAAAAASGGAGSDN',**param4)"
   ]
  },
  {
   "cell_type": "code",
   "execution_count": null,
   "metadata": {},
   "outputs": [
    {
     "data": {
      "text/html": [
       "<div>\n",
       "<style scoped>\n",
       "    .dataframe tbody tr th:only-of-type {\n",
       "        vertical-align: middle;\n",
       "    }\n",
       "\n",
       "    .dataframe tbody tr th {\n",
       "        vertical-align: top;\n",
       "    }\n",
       "\n",
       "    .dataframe thead th {\n",
       "        text-align: right;\n",
       "    }\n",
       "</style>\n",
       "<table border=\"1\" class=\"dataframe\">\n",
       "  <thead>\n",
       "    <tr style=\"text-align: right;\">\n",
       "      <th></th>\n",
       "      <th>site_seq</th>\n",
       "      <th>gene_site</th>\n",
       "    </tr>\n",
       "  </thead>\n",
       "  <tbody>\n",
       "    <tr>\n",
       "      <th>0</th>\n",
       "      <td>VDDEKGDSNDDYDSA</td>\n",
       "      <td>A0A075B6Q4_S24</td>\n",
       "    </tr>\n",
       "    <tr>\n",
       "      <th>1</th>\n",
       "      <td>YDSAGLLSDEDCMSV</td>\n",
       "      <td>A0A075B6Q4_S35</td>\n",
       "    </tr>\n",
       "    <tr>\n",
       "      <th>2</th>\n",
       "      <td>IADHLFWSEETKSRF</td>\n",
       "      <td>A0A075B6Q4_S57</td>\n",
       "    </tr>\n",
       "    <tr>\n",
       "      <th>3</th>\n",
       "      <td>KSRFTEYSMTSSVMR</td>\n",
       "      <td>A0A075B6Q4_S68</td>\n",
       "    </tr>\n",
       "    <tr>\n",
       "      <th>4</th>\n",
       "      <td>FTEYSMTSSVMRRNE</td>\n",
       "      <td>A0A075B6Q4_S71</td>\n",
       "    </tr>\n",
       "  </tbody>\n",
       "</table>\n",
       "</div>"
      ],
      "text/plain": [
       "          site_seq       gene_site\n",
       "0  VDDEKGDSNDDYDSA  A0A075B6Q4_S24\n",
       "1  YDSAGLLSDEDCMSV  A0A075B6Q4_S35\n",
       "2  IADHLFWSEETKSRF  A0A075B6Q4_S57\n",
       "3  KSRFTEYSMTSSVMR  A0A075B6Q4_S68\n",
       "4  FTEYSMTSSVMRRNE  A0A075B6Q4_S71"
      ]
     },
     "execution_count": null,
     "metadata": {},
     "output_type": "execute_result"
    }
   ],
   "source": [
    "# For a dataframe that contains many phosphorylation site sequences\n",
    "df = Data.get_ochoa_site().head()\n",
    "df.iloc[:,-2:]"
   ]
  },
  {
   "cell_type": "code",
   "execution_count": null,
   "metadata": {},
   "outputs": [
    {
     "name": "stdout",
     "output_type": "stream",
     "text": [
      "input dataframe has a length 5\n",
      "Preprocessing\n",
      "Finish preprocessing\n",
      "Calculating position: [-7, -6, -5, -4, -3, -2, -1, 0, 1, 2, 3, 4, 5, 6, 7]\n"
     ]
    },
    {
     "name": "stderr",
     "output_type": "stream",
     "text": [
      "100%|██████████| 289/289 [00:00<00:00, 6727.01it/s]\n"
     ]
    },
    {
     "data": {
      "text/html": [
       "<div>\n",
       "<style scoped>\n",
       "    .dataframe tbody tr th:only-of-type {\n",
       "        vertical-align: middle;\n",
       "    }\n",
       "\n",
       "    .dataframe tbody tr th {\n",
       "        vertical-align: top;\n",
       "    }\n",
       "\n",
       "    .dataframe thead th {\n",
       "        text-align: right;\n",
       "    }\n",
       "</style>\n",
       "<table border=\"1\" class=\"dataframe\">\n",
       "  <thead>\n",
       "    <tr style=\"text-align: right;\">\n",
       "      <th>kinase</th>\n",
       "      <th>SRC</th>\n",
       "      <th>EPHA3</th>\n",
       "      <th>FES</th>\n",
       "      <th>NTRK3</th>\n",
       "      <th>ALK</th>\n",
       "      <th>EPHA8</th>\n",
       "      <th>ABL1</th>\n",
       "      <th>FLT3</th>\n",
       "      <th>EPHB2</th>\n",
       "      <th>FYN</th>\n",
       "      <th>...</th>\n",
       "      <th>MEK5</th>\n",
       "      <th>PKN2</th>\n",
       "      <th>MAP2K7</th>\n",
       "      <th>MRCKB</th>\n",
       "      <th>HIPK3</th>\n",
       "      <th>CDK8</th>\n",
       "      <th>BUB1</th>\n",
       "      <th>MEKK3</th>\n",
       "      <th>MAP2K3</th>\n",
       "      <th>GRK1</th>\n",
       "    </tr>\n",
       "  </thead>\n",
       "  <tbody>\n",
       "    <tr>\n",
       "      <th>0</th>\n",
       "      <td>0.991760</td>\n",
       "      <td>1.093712</td>\n",
       "      <td>1.051750</td>\n",
       "      <td>1.067134</td>\n",
       "      <td>1.013682</td>\n",
       "      <td>1.097519</td>\n",
       "      <td>0.966379</td>\n",
       "      <td>0.982464</td>\n",
       "      <td>1.054986</td>\n",
       "      <td>1.055910</td>\n",
       "      <td>...</td>\n",
       "      <td>1.314859</td>\n",
       "      <td>1.635470</td>\n",
       "      <td>1.652251</td>\n",
       "      <td>1.622672</td>\n",
       "      <td>1.362973</td>\n",
       "      <td>1.797155</td>\n",
       "      <td>1.305198</td>\n",
       "      <td>1.423618</td>\n",
       "      <td>1.504941</td>\n",
       "      <td>1.872020</td>\n",
       "    </tr>\n",
       "    <tr>\n",
       "      <th>1</th>\n",
       "      <td>0.910262</td>\n",
       "      <td>0.953743</td>\n",
       "      <td>0.942327</td>\n",
       "      <td>0.950601</td>\n",
       "      <td>0.872694</td>\n",
       "      <td>0.932586</td>\n",
       "      <td>0.846899</td>\n",
       "      <td>0.826662</td>\n",
       "      <td>0.915020</td>\n",
       "      <td>0.942713</td>\n",
       "      <td>...</td>\n",
       "      <td>1.175454</td>\n",
       "      <td>1.402006</td>\n",
       "      <td>1.430392</td>\n",
       "      <td>1.215826</td>\n",
       "      <td>1.569373</td>\n",
       "      <td>1.716455</td>\n",
       "      <td>1.270999</td>\n",
       "      <td>1.195081</td>\n",
       "      <td>1.223082</td>\n",
       "      <td>1.793290</td>\n",
       "    </tr>\n",
       "    <tr>\n",
       "      <th>2</th>\n",
       "      <td>0.849866</td>\n",
       "      <td>0.899910</td>\n",
       "      <td>0.848895</td>\n",
       "      <td>0.879652</td>\n",
       "      <td>0.874959</td>\n",
       "      <td>0.899414</td>\n",
       "      <td>0.839200</td>\n",
       "      <td>0.836523</td>\n",
       "      <td>0.858040</td>\n",
       "      <td>0.867269</td>\n",
       "      <td>...</td>\n",
       "      <td>1.408003</td>\n",
       "      <td>1.813739</td>\n",
       "      <td>1.454786</td>\n",
       "      <td>1.084522</td>\n",
       "      <td>1.352556</td>\n",
       "      <td>1.524663</td>\n",
       "      <td>1.377839</td>\n",
       "      <td>1.173830</td>\n",
       "      <td>1.305691</td>\n",
       "      <td>1.811849</td>\n",
       "    </tr>\n",
       "    <tr>\n",
       "      <th>3</th>\n",
       "      <td>0.803826</td>\n",
       "      <td>0.836527</td>\n",
       "      <td>0.800759</td>\n",
       "      <td>0.894570</td>\n",
       "      <td>0.839905</td>\n",
       "      <td>0.781001</td>\n",
       "      <td>0.847847</td>\n",
       "      <td>0.807040</td>\n",
       "      <td>0.805877</td>\n",
       "      <td>0.801402</td>\n",
       "      <td>...</td>\n",
       "      <td>1.110307</td>\n",
       "      <td>1.703637</td>\n",
       "      <td>1.795092</td>\n",
       "      <td>1.469653</td>\n",
       "      <td>1.549936</td>\n",
       "      <td>1.491344</td>\n",
       "      <td>1.446922</td>\n",
       "      <td>1.055452</td>\n",
       "      <td>1.534895</td>\n",
       "      <td>1.741090</td>\n",
       "    </tr>\n",
       "    <tr>\n",
       "      <th>4</th>\n",
       "      <td>0.822793</td>\n",
       "      <td>0.796532</td>\n",
       "      <td>0.792343</td>\n",
       "      <td>0.839882</td>\n",
       "      <td>0.810122</td>\n",
       "      <td>0.781420</td>\n",
       "      <td>0.805251</td>\n",
       "      <td>0.795022</td>\n",
       "      <td>0.790380</td>\n",
       "      <td>0.864538</td>\n",
       "      <td>...</td>\n",
       "      <td>1.062617</td>\n",
       "      <td>1.357689</td>\n",
       "      <td>1.485945</td>\n",
       "      <td>1.249266</td>\n",
       "      <td>1.456078</td>\n",
       "      <td>1.422782</td>\n",
       "      <td>1.376471</td>\n",
       "      <td>1.089629</td>\n",
       "      <td>1.121309</td>\n",
       "      <td>1.697524</td>\n",
       "    </tr>\n",
       "  </tbody>\n",
       "</table>\n",
       "<p>5 rows × 289 columns</p>\n",
       "</div>"
      ],
      "text/plain": [
       "kinase       SRC     EPHA3       FES     NTRK3       ALK     EPHA8      ABL1  \\\n",
       "0       0.991760  1.093712  1.051750  1.067134  1.013682  1.097519  0.966379   \n",
       "1       0.910262  0.953743  0.942327  0.950601  0.872694  0.932586  0.846899   \n",
       "2       0.849866  0.899910  0.848895  0.879652  0.874959  0.899414  0.839200   \n",
       "3       0.803826  0.836527  0.800759  0.894570  0.839905  0.781001  0.847847   \n",
       "4       0.822793  0.796532  0.792343  0.839882  0.810122  0.781420  0.805251   \n",
       "\n",
       "kinase      FLT3     EPHB2       FYN  ...      MEK5      PKN2    MAP2K7  \\\n",
       "0       0.982464  1.054986  1.055910  ...  1.314859  1.635470  1.652251   \n",
       "1       0.826662  0.915020  0.942713  ...  1.175454  1.402006  1.430392   \n",
       "2       0.836523  0.858040  0.867269  ...  1.408003  1.813739  1.454786   \n",
       "3       0.807040  0.805877  0.801402  ...  1.110307  1.703637  1.795092   \n",
       "4       0.795022  0.790380  0.864538  ...  1.062617  1.357689  1.485945   \n",
       "\n",
       "kinase     MRCKB     HIPK3      CDK8      BUB1     MEKK3    MAP2K3      GRK1  \n",
       "0       1.622672  1.362973  1.797155  1.305198  1.423618  1.504941  1.872020  \n",
       "1       1.215826  1.569373  1.716455  1.270999  1.195081  1.223082  1.793290  \n",
       "2       1.084522  1.352556  1.524663  1.377839  1.173830  1.305691  1.811849  \n",
       "3       1.469653  1.549936  1.491344  1.446922  1.055452  1.534895  1.741090  \n",
       "4       1.249266  1.456078  1.422782  1.376471  1.089629  1.121309  1.697524  \n",
       "\n",
       "[5 rows x 289 columns]"
      ]
     },
     "execution_count": null,
     "metadata": {},
     "output_type": "execute_result"
    }
   ],
   "source": [
    "results = predict_kinase_df(df,'site_seq',**param4)\n",
    "results"
   ]
  },
  {
   "cell_type": "markdown",
   "metadata": {},
   "source": [
    "### Input sequences are in phosphorylated status"
   ]
  },
  {
   "cell_type": "code",
   "execution_count": null,
   "metadata": {},
   "outputs": [
    {
     "name": "stderr",
     "output_type": "stream",
     "text": [
      "100%|██████████| 289/289 [00:00<00:00, 7961.50it/s]"
     ]
    },
    {
     "name": "stdout",
     "output_type": "stream",
     "text": [
      "calculated string: ['-7A', '-6A', '-5A', '-4A', '-3A', '-2A', '-1A', '0s', '1G', '2G', '3A', '4G', '5s', '6D', '7N']\n"
     ]
    },
    {
     "name": "stderr",
     "output_type": "stream",
     "text": [
      "\n"
     ]
    },
    {
     "data": {
      "text/plain": [
       "kinase\n",
       "ULK3     1.987\n",
       "PAK6     1.981\n",
       "PRKD1    1.946\n",
       "PIM3     1.944\n",
       "PRKX     1.939\n",
       "         ...  \n",
       "EPHA4    0.905\n",
       "EGFR     0.900\n",
       "TEK      0.898\n",
       "FGFR3    0.894\n",
       "KIT      0.882\n",
       "Length: 289, dtype: float64"
      ]
     },
     "execution_count": null,
     "metadata": {},
     "output_type": "execute_result"
    }
   ],
   "source": [
    "# For a single phosphorylation site sequence\n",
    "predict_kinase('AAAAAAAsGGAGsDN',**param3)"
   ]
  },
  {
   "cell_type": "code",
   "execution_count": null,
   "metadata": {},
   "outputs": [
    {
     "name": "stdout",
     "output_type": "stream",
     "text": [
      "input dataframe has a length 5\n",
      "Preprocessing\n",
      "Finish preprocessing\n",
      "Calculating position: [-7, -6, -5, -4, -3, -2, -1, 0, 1, 2, 3, 4, 5, 6, 7]\n"
     ]
    },
    {
     "name": "stderr",
     "output_type": "stream",
     "text": [
      "100%|██████████| 289/289 [00:00<00:00, 6732.43it/s]\n"
     ]
    },
    {
     "data": {
      "text/html": [
       "<div>\n",
       "<style scoped>\n",
       "    .dataframe tbody tr th:only-of-type {\n",
       "        vertical-align: middle;\n",
       "    }\n",
       "\n",
       "    .dataframe tbody tr th {\n",
       "        vertical-align: top;\n",
       "    }\n",
       "\n",
       "    .dataframe thead th {\n",
       "        text-align: right;\n",
       "    }\n",
       "</style>\n",
       "<table border=\"1\" class=\"dataframe\">\n",
       "  <thead>\n",
       "    <tr style=\"text-align: right;\">\n",
       "      <th>kinase</th>\n",
       "      <th>SRC</th>\n",
       "      <th>EPHA3</th>\n",
       "      <th>FES</th>\n",
       "      <th>NTRK3</th>\n",
       "      <th>ALK</th>\n",
       "      <th>EPHA8</th>\n",
       "      <th>ABL1</th>\n",
       "      <th>FLT3</th>\n",
       "      <th>EPHB2</th>\n",
       "      <th>FYN</th>\n",
       "      <th>...</th>\n",
       "      <th>MEK5</th>\n",
       "      <th>PKN2</th>\n",
       "      <th>MAP2K7</th>\n",
       "      <th>MRCKB</th>\n",
       "      <th>HIPK3</th>\n",
       "      <th>CDK8</th>\n",
       "      <th>BUB1</th>\n",
       "      <th>MEKK3</th>\n",
       "      <th>MAP2K3</th>\n",
       "      <th>GRK1</th>\n",
       "    </tr>\n",
       "  </thead>\n",
       "  <tbody>\n",
       "    <tr>\n",
       "      <th>0</th>\n",
       "      <td>0.942187</td>\n",
       "      <td>1.062372</td>\n",
       "      <td>1.012942</td>\n",
       "      <td>1.036534</td>\n",
       "      <td>0.970598</td>\n",
       "      <td>1.060625</td>\n",
       "      <td>0.921957</td>\n",
       "      <td>0.940844</td>\n",
       "      <td>1.015496</td>\n",
       "      <td>1.006311</td>\n",
       "      <td>...</td>\n",
       "      <td>1.279975</td>\n",
       "      <td>1.591025</td>\n",
       "      <td>1.618918</td>\n",
       "      <td>1.611436</td>\n",
       "      <td>1.310889</td>\n",
       "      <td>1.762673</td>\n",
       "      <td>1.269904</td>\n",
       "      <td>1.411423</td>\n",
       "      <td>1.456161</td>\n",
       "      <td>1.859033</td>\n",
       "    </tr>\n",
       "    <tr>\n",
       "      <th>1</th>\n",
       "      <td>0.826042</td>\n",
       "      <td>0.884647</td>\n",
       "      <td>0.861363</td>\n",
       "      <td>0.879727</td>\n",
       "      <td>0.790980</td>\n",
       "      <td>0.860212</td>\n",
       "      <td>0.764937</td>\n",
       "      <td>0.750248</td>\n",
       "      <td>0.841354</td>\n",
       "      <td>0.858896</td>\n",
       "      <td>...</td>\n",
       "      <td>1.117843</td>\n",
       "      <td>1.346198</td>\n",
       "      <td>1.364092</td>\n",
       "      <td>1.192704</td>\n",
       "      <td>1.486362</td>\n",
       "      <td>1.625154</td>\n",
       "      <td>1.224077</td>\n",
       "      <td>1.147452</td>\n",
       "      <td>1.151574</td>\n",
       "      <td>1.756206</td>\n",
       "    </tr>\n",
       "    <tr>\n",
       "      <th>2</th>\n",
       "      <td>0.789628</td>\n",
       "      <td>0.853326</td>\n",
       "      <td>0.804658</td>\n",
       "      <td>0.843276</td>\n",
       "      <td>0.835194</td>\n",
       "      <td>0.851050</td>\n",
       "      <td>0.781232</td>\n",
       "      <td>0.798309</td>\n",
       "      <td>0.808054</td>\n",
       "      <td>0.806939</td>\n",
       "      <td>...</td>\n",
       "      <td>1.373120</td>\n",
       "      <td>1.747072</td>\n",
       "      <td>1.410463</td>\n",
       "      <td>1.073286</td>\n",
       "      <td>1.331723</td>\n",
       "      <td>1.479208</td>\n",
       "      <td>1.283721</td>\n",
       "      <td>1.149730</td>\n",
       "      <td>1.245737</td>\n",
       "      <td>1.761680</td>\n",
       "    </tr>\n",
       "    <tr>\n",
       "      <th>3</th>\n",
       "      <td>0.646383</td>\n",
       "      <td>0.701740</td>\n",
       "      <td>0.676063</td>\n",
       "      <td>0.782448</td>\n",
       "      <td>0.729290</td>\n",
       "      <td>0.648563</td>\n",
       "      <td>0.697185</td>\n",
       "      <td>0.678297</td>\n",
       "      <td>0.687545</td>\n",
       "      <td>0.651732</td>\n",
       "      <td>...</td>\n",
       "      <td>1.030239</td>\n",
       "      <td>1.558569</td>\n",
       "      <td>1.619387</td>\n",
       "      <td>1.321234</td>\n",
       "      <td>1.394759</td>\n",
       "      <td>1.366344</td>\n",
       "      <td>1.306156</td>\n",
       "      <td>0.971825</td>\n",
       "      <td>1.384048</td>\n",
       "      <td>1.692299</td>\n",
       "    </tr>\n",
       "    <tr>\n",
       "      <th>4</th>\n",
       "      <td>0.695749</td>\n",
       "      <td>0.706868</td>\n",
       "      <td>0.697352</td>\n",
       "      <td>0.766069</td>\n",
       "      <td>0.739252</td>\n",
       "      <td>0.682100</td>\n",
       "      <td>0.703865</td>\n",
       "      <td>0.712811</td>\n",
       "      <td>0.703658</td>\n",
       "      <td>0.744865</td>\n",
       "      <td>...</td>\n",
       "      <td>1.039890</td>\n",
       "      <td>1.324106</td>\n",
       "      <td>1.344163</td>\n",
       "      <td>1.215167</td>\n",
       "      <td>1.363295</td>\n",
       "      <td>1.400055</td>\n",
       "      <td>1.283447</td>\n",
       "      <td>1.042570</td>\n",
       "      <td>1.098709</td>\n",
       "      <td>1.661380</td>\n",
       "    </tr>\n",
       "  </tbody>\n",
       "</table>\n",
       "<p>5 rows × 289 columns</p>\n",
       "</div>"
      ],
      "text/plain": [
       "kinase       SRC     EPHA3       FES     NTRK3       ALK     EPHA8      ABL1  \\\n",
       "0       0.942187  1.062372  1.012942  1.036534  0.970598  1.060625  0.921957   \n",
       "1       0.826042  0.884647  0.861363  0.879727  0.790980  0.860212  0.764937   \n",
       "2       0.789628  0.853326  0.804658  0.843276  0.835194  0.851050  0.781232   \n",
       "3       0.646383  0.701740  0.676063  0.782448  0.729290  0.648563  0.697185   \n",
       "4       0.695749  0.706868  0.697352  0.766069  0.739252  0.682100  0.703865   \n",
       "\n",
       "kinase      FLT3     EPHB2       FYN  ...      MEK5      PKN2    MAP2K7  \\\n",
       "0       0.940844  1.015496  1.006311  ...  1.279975  1.591025  1.618918   \n",
       "1       0.750248  0.841354  0.858896  ...  1.117843  1.346198  1.364092   \n",
       "2       0.798309  0.808054  0.806939  ...  1.373120  1.747072  1.410463   \n",
       "3       0.678297  0.687545  0.651732  ...  1.030239  1.558569  1.619387   \n",
       "4       0.712811  0.703658  0.744865  ...  1.039890  1.324106  1.344163   \n",
       "\n",
       "kinase     MRCKB     HIPK3      CDK8      BUB1     MEKK3    MAP2K3      GRK1  \n",
       "0       1.611436  1.310889  1.762673  1.269904  1.411423  1.456161  1.859033  \n",
       "1       1.192704  1.486362  1.625154  1.224077  1.147452  1.151574  1.756206  \n",
       "2       1.073286  1.331723  1.479208  1.283721  1.149730  1.245737  1.761680  \n",
       "3       1.321234  1.394759  1.366344  1.306156  0.971825  1.384048  1.692299  \n",
       "4       1.215167  1.363295  1.400055  1.283447  1.042570  1.098709  1.661380  \n",
       "\n",
       "[5 rows x 289 columns]"
      ]
     },
     "execution_count": null,
     "metadata": {},
     "output_type": "execute_result"
    }
   ],
   "source": [
    "# For multiple sequences in a dataframe\n",
    "results = predict_kinase_df(df,'site_seq',**param3)\n",
    "results"
   ]
  },
  {
   "cell_type": "markdown",
   "metadata": {},
   "source": [
    "### To replicate the results from PSPA"
   ]
  },
  {
   "cell_type": "code",
   "execution_count": null,
   "metadata": {},
   "outputs": [
    {
     "name": "stderr",
     "output_type": "stream",
     "text": [
      "100%|██████████| 303/303 [00:00<00:00, 8537.44it/s]"
     ]
    },
    {
     "name": "stdout",
     "output_type": "stream",
     "text": [
      "calculated string: ['-5A', '-4A', '-3A', '-2A', '-1A', '0S', '1P', '2G', '3A', '4G']\n"
     ]
    },
    {
     "name": "stderr",
     "output_type": "stream",
     "text": [
      "\n"
     ]
    },
    {
     "data": {
      "text/plain": [
       "kinase\n",
       "P38D       6.735\n",
       "JNK2       6.712\n",
       "JNK1       6.144\n",
       "JNK3       6.021\n",
       "HIPK2      5.940\n",
       "           ...  \n",
       "MRCKA     -6.985\n",
       "MST1      -7.108\n",
       "ALPHAK3   -7.623\n",
       "RIPK2     -7.699\n",
       "TTK       -8.061\n",
       "Length: 303, dtype: float64"
      ]
     },
     "execution_count": null,
     "metadata": {},
     "output_type": "execute_result"
    }
   ],
   "source": [
    "predict_kinase('AAAAAAASPGAGSDN',**param1)"
   ]
  },
  {
   "cell_type": "markdown",
   "metadata": {},
   "source": [
    "The score corresponds to the [log2(score) from PSPA](https://kinase-library.phosphosite.org/site?s=AAAAAAAS*PGAGSDN&pp=false&scp=true), with slight differences due to rounding."
   ]
  },
  {
   "cell_type": "code",
   "execution_count": null,
   "metadata": {},
   "outputs": [
    {
     "name": "stdout",
     "output_type": "stream",
     "text": [
      "input dataframe has a length 5\n",
      "Preprocessing\n",
      "Finish preprocessing\n",
      "Calculating position: [-5, -4, -3, -2, -1, 0, 1, 2, 3, 4]\n"
     ]
    },
    {
     "name": "stderr",
     "output_type": "stream",
     "text": [
      "100%|██████████| 303/303 [00:00<00:00, 6683.64it/s]\n"
     ]
    },
    {
     "data": {
      "text/html": [
       "<div>\n",
       "<style scoped>\n",
       "    .dataframe tbody tr th:only-of-type {\n",
       "        vertical-align: middle;\n",
       "    }\n",
       "\n",
       "    .dataframe tbody tr th {\n",
       "        vertical-align: top;\n",
       "    }\n",
       "\n",
       "    .dataframe thead th {\n",
       "        text-align: right;\n",
       "    }\n",
       "</style>\n",
       "<table border=\"1\" class=\"dataframe\">\n",
       "  <thead>\n",
       "    <tr style=\"text-align: right;\">\n",
       "      <th>kinase</th>\n",
       "      <th>AAK1</th>\n",
       "      <th>ACVR2A</th>\n",
       "      <th>ACVR2B</th>\n",
       "      <th>AKT1</th>\n",
       "      <th>AKT2</th>\n",
       "      <th>AKT3</th>\n",
       "      <th>ALK2</th>\n",
       "      <th>ALK4</th>\n",
       "      <th>ALPHAK3</th>\n",
       "      <th>AMPKA1</th>\n",
       "      <th>...</th>\n",
       "      <th>VRK1</th>\n",
       "      <th>VRK2</th>\n",
       "      <th>WNK1</th>\n",
       "      <th>WNK3</th>\n",
       "      <th>WNK4</th>\n",
       "      <th>YANK2</th>\n",
       "      <th>YANK3</th>\n",
       "      <th>YSK1</th>\n",
       "      <th>YSK4</th>\n",
       "      <th>ZAK</th>\n",
       "    </tr>\n",
       "  </thead>\n",
       "  <tbody>\n",
       "    <tr>\n",
       "      <th>0</th>\n",
       "      <td>-10.959900</td>\n",
       "      <td>-0.580989</td>\n",
       "      <td>0.328868</td>\n",
       "      <td>-3.890850</td>\n",
       "      <td>-3.590503</td>\n",
       "      <td>-5.312027</td>\n",
       "      <td>0.813786</td>\n",
       "      <td>-0.559382</td>\n",
       "      <td>-0.932736</td>\n",
       "      <td>-2.607226</td>\n",
       "      <td>...</td>\n",
       "      <td>-4.682274</td>\n",
       "      <td>-2.854275</td>\n",
       "      <td>-1.668666</td>\n",
       "      <td>-1.526785</td>\n",
       "      <td>-2.964575</td>\n",
       "      <td>-2.877200</td>\n",
       "      <td>-1.792244</td>\n",
       "      <td>-6.282651</td>\n",
       "      <td>-1.715336</td>\n",
       "      <td>-3.204281</td>\n",
       "    </tr>\n",
       "    <tr>\n",
       "      <th>1</th>\n",
       "      <td>-6.787549</td>\n",
       "      <td>-0.166112</td>\n",
       "      <td>0.306884</td>\n",
       "      <td>-5.885999</td>\n",
       "      <td>-4.786083</td>\n",
       "      <td>-6.575957</td>\n",
       "      <td>1.561436</td>\n",
       "      <td>-0.865154</td>\n",
       "      <td>-3.399169</td>\n",
       "      <td>-3.260798</td>\n",
       "      <td>...</td>\n",
       "      <td>-5.669906</td>\n",
       "      <td>-2.817085</td>\n",
       "      <td>-4.071192</td>\n",
       "      <td>-3.393741</td>\n",
       "      <td>-5.096516</td>\n",
       "      <td>-1.874000</td>\n",
       "      <td>-1.479976</td>\n",
       "      <td>-8.708810</td>\n",
       "      <td>-3.708147</td>\n",
       "      <td>-6.092628</td>\n",
       "    </tr>\n",
       "    <tr>\n",
       "      <th>2</th>\n",
       "      <td>-9.030938</td>\n",
       "      <td>1.231686</td>\n",
       "      <td>1.774661</td>\n",
       "      <td>-6.164209</td>\n",
       "      <td>-5.446345</td>\n",
       "      <td>-8.329813</td>\n",
       "      <td>0.777783</td>\n",
       "      <td>-1.355417</td>\n",
       "      <td>-0.928937</td>\n",
       "      <td>-4.998190</td>\n",
       "      <td>...</td>\n",
       "      <td>-5.832088</td>\n",
       "      <td>-3.243278</td>\n",
       "      <td>-4.249323</td>\n",
       "      <td>-2.749652</td>\n",
       "      <td>-5.053019</td>\n",
       "      <td>0.581384</td>\n",
       "      <td>-0.502630</td>\n",
       "      <td>-6.448245</td>\n",
       "      <td>-1.897494</td>\n",
       "      <td>-2.846533</td>\n",
       "    </tr>\n",
       "    <tr>\n",
       "      <th>3</th>\n",
       "      <td>-4.849113</td>\n",
       "      <td>2.271636</td>\n",
       "      <td>2.057240</td>\n",
       "      <td>-2.886034</td>\n",
       "      <td>-2.379830</td>\n",
       "      <td>-3.634907</td>\n",
       "      <td>1.547144</td>\n",
       "      <td>2.735341</td>\n",
       "      <td>-2.825794</td>\n",
       "      <td>-1.696886</td>\n",
       "      <td>...</td>\n",
       "      <td>-2.757951</td>\n",
       "      <td>-1.699232</td>\n",
       "      <td>-1.725384</td>\n",
       "      <td>-0.091196</td>\n",
       "      <td>-0.672545</td>\n",
       "      <td>0.313278</td>\n",
       "      <td>-0.207212</td>\n",
       "      <td>-2.315848</td>\n",
       "      <td>-0.053572</td>\n",
       "      <td>-1.117657</td>\n",
       "    </tr>\n",
       "    <tr>\n",
       "      <th>4</th>\n",
       "      <td>-6.596842</td>\n",
       "      <td>-1.387696</td>\n",
       "      <td>-0.956218</td>\n",
       "      <td>-2.834231</td>\n",
       "      <td>-3.794276</td>\n",
       "      <td>-4.968521</td>\n",
       "      <td>-1.862002</td>\n",
       "      <td>-1.717226</td>\n",
       "      <td>-2.653170</td>\n",
       "      <td>-3.514512</td>\n",
       "      <td>...</td>\n",
       "      <td>-1.546328</td>\n",
       "      <td>-1.457323</td>\n",
       "      <td>-1.277532</td>\n",
       "      <td>0.510635</td>\n",
       "      <td>-1.045845</td>\n",
       "      <td>-0.314193</td>\n",
       "      <td>-1.023331</td>\n",
       "      <td>-2.482345</td>\n",
       "      <td>-2.227114</td>\n",
       "      <td>-1.592725</td>\n",
       "    </tr>\n",
       "  </tbody>\n",
       "</table>\n",
       "<p>5 rows × 303 columns</p>\n",
       "</div>"
      ],
      "text/plain": [
       "kinase       AAK1    ACVR2A    ACVR2B      AKT1      AKT2      AKT3      ALK2  \\\n",
       "0      -10.959900 -0.580989  0.328868 -3.890850 -3.590503 -5.312027  0.813786   \n",
       "1       -6.787549 -0.166112  0.306884 -5.885999 -4.786083 -6.575957  1.561436   \n",
       "2       -9.030938  1.231686  1.774661 -6.164209 -5.446345 -8.329813  0.777783   \n",
       "3       -4.849113  2.271636  2.057240 -2.886034 -2.379830 -3.634907  1.547144   \n",
       "4       -6.596842 -1.387696 -0.956218 -2.834231 -3.794276 -4.968521 -1.862002   \n",
       "\n",
       "kinase      ALK4   ALPHAK3    AMPKA1  ...      VRK1      VRK2      WNK1  \\\n",
       "0      -0.559382 -0.932736 -2.607226  ... -4.682274 -2.854275 -1.668666   \n",
       "1      -0.865154 -3.399169 -3.260798  ... -5.669906 -2.817085 -4.071192   \n",
       "2      -1.355417 -0.928937 -4.998190  ... -5.832088 -3.243278 -4.249323   \n",
       "3       2.735341 -2.825794 -1.696886  ... -2.757951 -1.699232 -1.725384   \n",
       "4      -1.717226 -2.653170 -3.514512  ... -1.546328 -1.457323 -1.277532   \n",
       "\n",
       "kinase      WNK3      WNK4     YANK2     YANK3      YSK1      YSK4       ZAK  \n",
       "0      -1.526785 -2.964575 -2.877200 -1.792244 -6.282651 -1.715336 -3.204281  \n",
       "1      -3.393741 -5.096516 -1.874000 -1.479976 -8.708810 -3.708147 -6.092628  \n",
       "2      -2.749652 -5.053019  0.581384 -0.502630 -6.448245 -1.897494 -2.846533  \n",
       "3      -0.091196 -0.672545  0.313278 -0.207212 -2.315848 -0.053572 -1.117657  \n",
       "4       0.510635 -1.045845 -0.314193 -1.023331 -2.482345 -2.227114 -1.592725  \n",
       "\n",
       "[5 rows x 303 columns]"
      ]
     },
     "execution_count": null,
     "metadata": {},
     "output_type": "execute_result"
    }
   ],
   "source": [
    "# For multiple sequences in a dataframe\n",
    "results = predict_kinase_df(df,'site_seq',**param1)\n",
    "results"
   ]
  },
  {
   "cell_type": "markdown",
   "metadata": {},
   "source": [
    "## Datasets of phosphorylation sites"
   ]
  },
  {
   "cell_type": "markdown",
   "metadata": {},
   "source": [
    "### CPTAC pan-cancer phosphoproteomics"
   ]
  },
  {
   "cell_type": "code",
   "execution_count": null,
   "metadata": {},
   "outputs": [],
   "source": [
    "df = Data.get_cptac_ensembl_site()"
   ]
  },
  {
   "cell_type": "markdown",
   "metadata": {},
   "source": [
    "### [Ochoa et al. dataset](https://www.nature.com/articles/s41587-019-0344-3)"
   ]
  },
  {
   "cell_type": "code",
   "execution_count": null,
   "metadata": {},
   "outputs": [],
   "source": [
    "df = Data.get_ochoa_site()"
   ]
  },
  {
   "cell_type": "markdown",
   "metadata": {},
   "source": [
    "### PhosphoSitePlus"
   ]
  },
  {
   "cell_type": "code",
   "execution_count": null,
   "metadata": {},
   "outputs": [],
   "source": [
    "df = Data.get_pplus_human_site()"
   ]
  },
  {
   "cell_type": "markdown",
   "metadata": {},
   "source": [
    "### Unique sites of combined Ochoa & PhosphoSitePlus"
   ]
  },
  {
   "cell_type": "code",
   "execution_count": null,
   "metadata": {},
   "outputs": [],
   "source": [
    "df = Data.get_combine_site_pplus_ochoa()"
   ]
  },
  {
   "cell_type": "markdown",
   "metadata": {},
   "source": [
    "## Site example"
   ]
  },
  {
   "cell_type": "markdown",
   "metadata": {},
   "source": [
    "***All capital - 15 length (-7 to +7)***"
   ]
  },
  {
   "cell_type": "markdown",
   "metadata": {},
   "source": [
    "- QSEEEKLSPSPTTED\n",
    "- TLQHVPDYRQNVYIP\n",
    "- TMGLSARyGPQFTLQ"
   ]
  },
  {
   "cell_type": "markdown",
   "metadata": {},
   "source": [
    "***All capital - 10 length (-5 to +4)***"
   ]
  },
  {
   "cell_type": "markdown",
   "metadata": {},
   "source": [
    "- SRDPHYQDPH\n",
    "- LDNPDyQQDF\n",
    "- AAAAAsGGAG"
   ]
  },
  {
   "cell_type": "markdown",
   "metadata": {},
   "source": [
    "***With lowercase - 15 length***"
   ]
  },
  {
   "cell_type": "markdown",
   "metadata": {},
   "source": [
    "- QsEEEKLsPsPTTED\n",
    "- TLQHVPDyRQNVYIP\n",
    "- TMGLsARyGPQFTLQ"
   ]
  },
  {
   "cell_type": "markdown",
   "metadata": {},
   "source": [
    "***With lowercase - 10 length***"
   ]
  },
  {
   "cell_type": "markdown",
   "metadata": {},
   "source": [
    "- sRDPHyQDPH\n",
    "- LDNPDyQQDF\n",
    "- AAAAAsGGAG"
   ]
  }
 ],
 "metadata": {
  "kernelspec": {
   "display_name": "python3",
   "language": "python",
   "name": "python3"
  }
 },
 "nbformat": 4,
 "nbformat_minor": 4
}
