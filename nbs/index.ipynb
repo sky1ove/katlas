{
 "cells": [
  {
   "cell_type": "raw",
   "metadata": {},
   "source": [
    "---\n",
    "skip_showdoc: true\n",
    "skip_exec: true\n",
    "---"
   ]
  },
  {
   "cell_type": "markdown",
   "metadata": {},
   "source": [
    "<img alt=\"Katlas logo\" width=\"600\" caption=\"Katlas logo\" src=\"https://github.com/sky1ove/katlas/raw/main/logo.png\" id=\"logo\"/>"
   ]
  },
  {
   "cell_type": "markdown",
   "metadata": {},
   "source": [
    "<p><a target=\"_blank\" href=\"https://colab.research.google.com/github/sky1ove/katlas/blob/main/nbs/Tutorials/tutorial_01_sinlge_input.ipynb\"><img src=\"https://colab.research.google.com/assets/colab-badge.svg\" alt=\"Open In Colab\"/></a>\n",
    "<a href=\"https://pypi.org/project/python-katlas/\"><img src=\"https://img.shields.io/pypi/v/python-katlas?link=https%3A%2F%2Fpypi.org%2Fproject%2Fpython-katlas%2F\" alt=\"PyPI\"></a></p>"
   ]
  },
  {
   "cell_type": "markdown",
   "metadata": {},
   "source": [
    "# KATLAS\n",
    "> Predict kinases given a substrate sequence"
   ]
  },
  {
   "cell_type": "markdown",
   "metadata": {},
   "source": [
    "KATLAS is a repository containing python tools to predict kinases given a substrate sequence. It also contains datasets of kinase substrate specificities and human phosphoproteomics.\n",
    "\n",
    "***References***: Please cite the appropriate papers if KATLAS is helpful to your research.\n",
    "\n",
    "- KATLAS was described in the paper [Computational Decoding of Human Kinome Substrate Specificities and Functions]\n",
    "\n",
    "- The positional scanning peptide array (PSPA) data is from paper [An atlas of substrate specificities for the human serine/threonine kinome](https://www.nature.com/articles/s41586-022-05575-3) and paper [The intrinsic substrate specificity of the human tyrosine kinome](https://www.nature.com/articles/s41586-024-07407-y)\n",
    "\n",
    "- The kinase substrate datasets used for generating PSSMs are derived from [PhosphoSitePlus](https://www.ncbi.nlm.nih.gov/pmc/articles/PMC3245126/) and paper [Large-scale Discovery of Substrates of the Human Kinome](https://www.nature.com/articles/s41598-019-46385-4)\n",
    "\n",
    "- Phosphorylation sites are acquired from [PhosphoSitePlus](https://www.ncbi.nlm.nih.gov/pmc/articles/PMC3245126/), paper [The functional landscape of the human phosphoproteome](https://www.nature.com/articles/s41587-019-0344-3), and [CPTAC](https://pdc.cancer.gov/pdc/cptac-pancancer) / [LinkedOmics](https://academic.oup.com/nar/article/46/D1/D956/4607804)"
   ]
  },
  {
   "cell_type": "markdown",
   "metadata": {},
   "source": [
    "## Reproduce datasets & figures"
   ]
  },
  {
   "cell_type": "markdown",
   "metadata": {},
   "source": [
    "Follow the instructions in katlas_raw: https://github.com/sky1ove/katlas_raw\n",
    "\n",
    "Need to install the package via: `pip install 'python-katlas[dev]' -U`"
   ]
  },
  {
   "cell_type": "markdown",
   "metadata": {},
   "source": [
    "## Web applications\n",
    "\n",
    "Users can now run the analysis directly on the web without needing to code. \n",
    "\n",
    "Check out our latest web platform: [kinase-atlas.com](https://kinase-atlas.com/)"
   ]
  },
  {
   "cell_type": "markdown",
   "metadata": {},
   "source": [
    "## Tutorials on Colab"
   ]
  },
  {
   "cell_type": "markdown",
   "metadata": {},
   "source": [
    "- 1. [Substrate scoring on a single substrate sequence](https://colab.research.google.com/github/sky1ove/katlas/blob/main/nbs/Tutorials/tutorial_01_sinlge_input.ipynb)\n",
    "- 2. [High throughput substrate scoring on phosphoproteomics dataset](https://colab.research.google.com/github/sky1ove/katlas/blob/main/nbs/Tutorials/tutorial_02_high_throughput.ipynb)\n",
    "- 3. [Kinase enrichment analysis for AKT inhibitor](https://colab.research.google.com/github/sky1ove/katlas/blob/main/nbs/Tutorials/tutorial_03a_enrichment_AKTi.ipynb)"
   ]
  },
  {
   "cell_type": "markdown",
   "metadata": {},
   "source": [
    "## Install"
   ]
  },
  {
   "cell_type": "markdown",
   "metadata": {},
   "source": [
    "```\n",
    "pip install python-katlas -U\n",
    "pip install git+https://github.com/sky1ove/katlas.git\n",
    "pip install \"git+https://github.com/sky1ove/katlas.git@main#egg=python-katlas[dev]\"\n",
    "```"
   ]
  },
  {
   "cell_type": "markdown",
   "metadata": {},
   "source": [
    "To use other modules besides the core, do `pip install 'python-katlas[dev]' -U`"
   ]
  },
  {
   "cell_type": "markdown",
   "metadata": {},
   "source": [
    "## Import"
   ]
  },
  {
   "cell_type": "code",
   "execution_count": null,
   "metadata": {},
   "outputs": [],
   "source": [
    "from katlas.core import *"
   ]
  },
  {
   "cell_type": "markdown",
   "metadata": {},
   "source": [
    "# Quick start"
   ]
  },
  {
   "cell_type": "markdown",
   "metadata": {},
   "source": [
    "We provide two methods to calculate substrate sequence: \n",
    "\n",
    "- Computational Data-Driven Method (CDDM)\n",
    "- Positional Scanning Peptide Array (PSPA)\n",
    "\n",
    "\n",
    "We consider the input in two formats:\n",
    "\n",
    "- a single input string (phosphorylation site)\n",
    "- a csv/dataframe that contains a column of phosphorylation sites\n",
    "\n",
    "\n",
    "For input sequences, we also consider it in two conditions:\n",
    "\n",
    "- all capital\n",
    "- contains lower cases indicating phosphorylation status"
   ]
  },
  {
   "cell_type": "markdown",
   "metadata": {},
   "source": [
    "## Single sequence as input"
   ]
  },
  {
   "cell_type": "markdown",
   "metadata": {},
   "source": [
    "### CDDM, all capital"
   ]
  },
  {
   "cell_type": "code",
   "execution_count": null,
   "metadata": {},
   "outputs": [
    {
     "name": "stdout",
     "output_type": "stream",
     "text": [
      "considering string: ['-7A', '-6A', '-5A', '-4A', '-3A', '-2A', '-1A', '0S', '1G', '2G', '3A', '4G', '5S', '6D', '7N']\n"
     ]
    },
    {
     "data": {
      "text/plain": [
       "kinase\n",
       "PAK6     2.032\n",
       "ULK3     2.032\n",
       "PRKX     2.012\n",
       "ATR      1.991\n",
       "PRKD1    1.988\n",
       "         ...  \n",
       "DDR2     0.928\n",
       "EPHA4    0.928\n",
       "TEK      0.921\n",
       "KIT      0.915\n",
       "FGFR3    0.910\n",
       "Length: 289, dtype: float64"
      ]
     },
     "execution_count": null,
     "metadata": {},
     "output_type": "execute_result"
    }
   ],
   "source": [
    "predict_kinase('AAAAAAASGGAGSDN',**Params(\"CDDM_upper\"))"
   ]
  },
  {
   "cell_type": "markdown",
   "metadata": {},
   "source": [
    "### CDDM, with lower case indicating phosphorylation status"
   ]
  },
  {
   "cell_type": "code",
   "execution_count": null,
   "metadata": {},
   "outputs": [
    {
     "name": "stdout",
     "output_type": "stream",
     "text": [
      "considering string: ['-7A', '-6A', '-5A', '-4A', '-3A', '-2A', '-1A', '0s', '1G', '2G', '3A', '4G', '5s', '6D', '7N']\n"
     ]
    },
    {
     "data": {
      "text/plain": [
       "kinase\n",
       "ULK3     1.987\n",
       "PAK6     1.981\n",
       "PRKD1    1.946\n",
       "PIM3     1.944\n",
       "PRKX     1.939\n",
       "         ...  \n",
       "EPHA4    0.905\n",
       "EGFR     0.900\n",
       "TEK      0.898\n",
       "FGFR3    0.894\n",
       "KIT      0.882\n",
       "Length: 289, dtype: float64"
      ]
     },
     "execution_count": null,
     "metadata": {},
     "output_type": "execute_result"
    }
   ],
   "source": [
    "predict_kinase('AAAAAAAsGGAGsDN',**Params(\"CDDM\"))"
   ]
  },
  {
   "cell_type": "markdown",
   "metadata": {},
   "source": [
    "### PSPA, with lower case indicating phosphorylation status"
   ]
  },
  {
   "cell_type": "code",
   "execution_count": null,
   "metadata": {},
   "outputs": [
    {
     "name": "stdout",
     "output_type": "stream",
     "text": [
      "considering string: ['-5A', '-4E', '-3E', '-2K', '-1E', '0y', '1H', '2s', '3E', '4G', '5G']\n"
     ]
    },
    {
     "data": {
      "text/plain": [
       "kinase\n",
       "EGFR     4.013\n",
       "FGFR4    3.568\n",
       "ZAP70    3.412\n",
       "CSK      3.241\n",
       "SYK      3.209\n",
       "dtype: float64"
      ]
     },
     "execution_count": null,
     "metadata": {},
     "output_type": "execute_result"
    }
   ],
   "source": [
    "predict_kinase('AEEKEyHsEGG',**Params(\"PSPA\")).head()"
   ]
  },
  {
   "cell_type": "markdown",
   "metadata": {},
   "source": [
    "### To replicate the results from The Kinase Library (PSPA)"
   ]
  },
  {
   "cell_type": "markdown",
   "metadata": {},
   "source": [
    "Check this link: [The Kinase Library](https://kinase-library.phosphosite.org/site?s=AEEKEy*HsEGG&pp=false&scp=true), and use log2(score) to rank, it shows same results with the below (with slight differences due to rounding)."
   ]
  },
  {
   "cell_type": "code",
   "execution_count": null,
   "metadata": {},
   "outputs": [
    {
     "name": "stdout",
     "output_type": "stream",
     "text": [
      "considering string: ['-5A', '-4E', '-3E', '-2K', '-1E', '0y', '1H', '2S', '3E', '4G', '5G']\n"
     ]
    },
    {
     "data": {
      "text/plain": [
       "kinase\n",
       "EGFR         3.181\n",
       "FGFR4        2.390\n",
       "CSK          2.308\n",
       "ZAP70        2.068\n",
       "SYK          1.998\n",
       "PDHK1_TYR    1.922\n",
       "RET          1.732\n",
       "MATK         1.688\n",
       "FLT1         1.627\n",
       "BMPR2_TYR    1.456\n",
       "dtype: float64"
      ]
     },
     "execution_count": null,
     "metadata": {},
     "output_type": "execute_result"
    }
   ],
   "source": [
    "predict_kinase('AEEKEyHSEGG',**Params(\"PSPA\")).head(10)"
   ]
  },
  {
   "cell_type": "markdown",
   "metadata": {},
   "source": [
    "- So far [The kinase Library](https://kinase-library.phosphosite.org) considers all ***tyr sequences*** in capital regardless of whether or not they contain lower cases, which is a small bug and should be fixed soon.\n",
    "- Kinase with \"_TYR\" indicates it is a dual specificity kinase tested in PSPA tyrosine setting, which has not been included in kinase-library yet."
   ]
  },
  {
   "cell_type": "markdown",
   "metadata": {},
   "source": [
    "We can also calculate the percentile score using a referenced score sheet."
   ]
  },
  {
   "cell_type": "code",
   "execution_count": null,
   "metadata": {},
   "outputs": [],
   "source": [
    "# Percentile reference sheet\n",
    "y_pct = Data.get_pspa_tyr_pct()"
   ]
  },
  {
   "cell_type": "code",
   "execution_count": null,
   "metadata": {},
   "outputs": [
    {
     "ename": "TypeError",
     "evalue": "get_pct() got an unexpected keyword argument 'pct_ref'",
     "output_type": "error",
     "traceback": [
      "\u001b[31m---------------------------------------------------------------------------\u001b[39m",
      "\u001b[31mTypeError\u001b[39m                                 Traceback (most recent call last)",
      "\u001b[36mCell\u001b[39m\u001b[36m \u001b[39m\u001b[32mIn[9]\u001b[39m\u001b[32m, line 1\u001b[39m\n\u001b[32m----> \u001b[39m\u001b[32m1\u001b[39m \u001b[43mget_pct\u001b[49m\u001b[43m(\u001b[49m\u001b[33;43m'\u001b[39;49m\u001b[33;43mAEEKEyHSEGG\u001b[39;49m\u001b[33;43m'\u001b[39;49m\u001b[43m,\u001b[49m\u001b[43mpct_ref\u001b[49m\u001b[43m \u001b[49m\u001b[43m=\u001b[49m\u001b[43m \u001b[49m\u001b[43my_pct\u001b[49m\u001b[43m,\u001b[49m\u001b[43m*\u001b[49m\u001b[43m*\u001b[49m\u001b[43mParams\u001b[49m\u001b[43m(\u001b[49m\u001b[33;43m\"\u001b[39;49m\u001b[33;43mPSPA_y\u001b[39;49m\u001b[33;43m\"\u001b[39;49m\u001b[43m)\u001b[49m\u001b[43m)\u001b[49m\n",
      "\u001b[31mTypeError\u001b[39m: get_pct() got an unexpected keyword argument 'pct_ref'"
     ]
    }
   ],
   "source": [
    "get_pct('AEEKEyHSEGG',pct_ref = y_pct,**Params(\"PSPA_y\"))"
   ]
  },
  {
   "cell_type": "markdown",
   "metadata": {},
   "source": [
    "## High-throughput substrate scoring on a dataframe"
   ]
  },
  {
   "cell_type": "markdown",
   "metadata": {},
   "source": [
    "### Load your csv"
   ]
  },
  {
   "cell_type": "code",
   "execution_count": null,
   "metadata": {},
   "outputs": [],
   "source": [
    "# df = pd.read_csv('your_file.csv')"
   ]
  },
  {
   "cell_type": "markdown",
   "metadata": {},
   "source": [
    "### Load a demo df"
   ]
  },
  {
   "cell_type": "code",
   "execution_count": null,
   "metadata": {},
   "outputs": [],
   "source": [
    "# Load a demo df with phosphorylation sites\n",
    "df = Data.get_ochoa_site().head()\n",
    "df.iloc[:,-2:]"
   ]
  },
  {
   "cell_type": "markdown",
   "metadata": {},
   "source": [
    "### Set the column name and param to calculate"
   ]
  },
  {
   "cell_type": "markdown",
   "metadata": {},
   "source": [
    "Here we choose param_CDDM_upper, as the sequences in the demo df are all in capital. You can also choose other params."
   ]
  },
  {
   "cell_type": "code",
   "execution_count": null,
   "metadata": {},
   "outputs": [],
   "source": [
    "results = predict_kinase_df(df,'site_seq',**Params(\"CDDM_upper\"))\n",
    "results"
   ]
  },
  {
   "cell_type": "markdown",
   "metadata": {},
   "source": [
    "## Phosphorylation sites"
   ]
  },
  {
   "cell_type": "markdown",
   "metadata": {},
   "source": [
    "Besides calculating sequence scores, we also provides multiple datasets of phosphorylation sites."
   ]
  },
  {
   "cell_type": "markdown",
   "metadata": {},
   "source": [
    "### CPTAC pan-cancer phosphoproteomics"
   ]
  },
  {
   "cell_type": "code",
   "execution_count": null,
   "metadata": {},
   "outputs": [],
   "source": [
    "df = Data.get_cptac_ensembl_site()\n",
    "df.head(3)"
   ]
  },
  {
   "cell_type": "markdown",
   "metadata": {},
   "source": [
    "### [Ochoa et al. human phosphoproteome](https://www.nature.com/articles/s41587-019-0344-3)"
   ]
  },
  {
   "cell_type": "code",
   "execution_count": null,
   "metadata": {},
   "outputs": [],
   "source": [
    "df = Data.get_ochoa_site()\n",
    "df.head(3)"
   ]
  },
  {
   "cell_type": "markdown",
   "metadata": {},
   "source": [
    "### PhosphoSitePlus human phosphorylation site"
   ]
  },
  {
   "cell_type": "code",
   "execution_count": null,
   "metadata": {},
   "outputs": [],
   "source": [
    "df = Data.get_psp_human_site()\n",
    "df.head(3)"
   ]
  },
  {
   "cell_type": "markdown",
   "metadata": {},
   "source": [
    "### Unique sites of combined Ochoa & PhosphoSitePlus"
   ]
  },
  {
   "cell_type": "code",
   "execution_count": null,
   "metadata": {},
   "outputs": [],
   "source": [
    "df = Data.get_combine_site_psp_ochoa()\n",
    "df.head(3)"
   ]
  },
  {
   "cell_type": "markdown",
   "metadata": {},
   "source": [
    "## Phosphorylation site sequence example"
   ]
  },
  {
   "cell_type": "markdown",
   "metadata": {},
   "source": [
    "***All capital - 15 length (-7 to +7)***"
   ]
  },
  {
   "cell_type": "markdown",
   "metadata": {},
   "source": [
    "- QSEEEKLSPSPTTED\n",
    "- TLQHVPDYRQNVYIP\n",
    "- TMGLSARyGPQFTLQ"
   ]
  },
  {
   "cell_type": "markdown",
   "metadata": {},
   "source": [
    "***All capital - 10 length (-5 to +4)***"
   ]
  },
  {
   "cell_type": "markdown",
   "metadata": {},
   "source": [
    "- SRDPHYQDPH\n",
    "- LDNPDyQQDF\n",
    "- AAAAAsGGAG"
   ]
  },
  {
   "cell_type": "markdown",
   "metadata": {},
   "source": [
    "***With lowercase - (-7 to +7)***"
   ]
  },
  {
   "cell_type": "markdown",
   "metadata": {},
   "source": [
    "- QsEEEKLsPsPTTED\n",
    "- TLQHVPDyRQNVYIP\n",
    "- TMGLsARyGPQFTLQ"
   ]
  },
  {
   "cell_type": "markdown",
   "metadata": {},
   "source": [
    "***With lowercase - (-5 to +4)***"
   ]
  },
  {
   "cell_type": "markdown",
   "metadata": {},
   "source": [
    "- sRDPHyQDPH\n",
    "- LDNPDyQQDF\n",
    "- AAAAAsGGAG"
   ]
  }
 ],
 "metadata": {
  "kernelspec": {
   "display_name": "python3",
   "language": "python",
   "name": "python3"
  },
  "widgets": {
   "application/vnd.jupyter.widget-state+json": {
    "state": {},
    "version_major": 2,
    "version_minor": 0
   }
  }
 },
 "nbformat": 4,
 "nbformat_minor": 4
}
