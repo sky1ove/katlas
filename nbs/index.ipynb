{
 "cells": [
  {
   "cell_type": "markdown",
   "metadata": {},
   "source": [
    "<a target=\"_blank\" href=\"https://colab.research.google.com/github/sky1ove/katlas/blob/main/nbs/index.ipynb\">\n",
    "  <img src=\"https://colab.research.google.com/assets/colab-badge.svg\" alt=\"Open In Colab\"/>\n",
    "</a>"
   ]
  },
  {
   "cell_type": "markdown",
   "metadata": {},
   "source": [
    "<img alt=\"Katlas logo\" width=\"700\" caption=\"Katlas logo\" src=\"https://github.com/sky1ove/katlas/raw/main/dataset/images/logo.png\" id=\"logo\"/>"
   ]
  },
  {
   "cell_type": "markdown",
   "metadata": {},
   "source": [
    "# KATLAS\n",
    "> Predict kinases given a substrate sequence"
   ]
  },
  {
   "cell_type": "markdown",
   "metadata": {},
   "source": [
    "KATLAS is a repository containing python tools to predict kinases given a substrate sequence. It also contains datasets of kinase substrate specificities and human phosphoproteomics.\n",
    "\n",
    "***References***: Please cite the appropriate papers if KATLAS is helpful to your research.\n",
    "\n",
    "- KATLAS was described in the paper [Decoding Human Kinome Specificities through a Computational Data-Driven Approach (manuscript)]\n",
    "\n",
    "- The position-specific scoring matrices (PSSMs) of human kinome derived from positional scanning peptide array (PSPA) is based on the paper [An atlas of substrate specificities for the human serine/threonine kinome](https://www.nature.com/articles/s41586-022-05575-3)\n",
    "\n",
    "- The kinase substrate datasets used for generating PSSMs are derived from [PhosphoSitePlus](https://www.ncbi.nlm.nih.gov/pmc/articles/PMC3245126/) and paper [Large-scale Discovery of Substrates of the Human Kinome](https://www.nature.com/articles/s41598-019-46385-4)\n",
    "\n",
    "- Phosphorylation sites are acquired from [PhosphoSitePlus](https://www.ncbi.nlm.nih.gov/pmc/articles/PMC3245126/), paper [The functional landscape of the human phosphoproteome](https://www.nature.com/articles/s41587-019-0344-3), and [CPTAC](https://pdc.cancer.gov/pdc/cptac-pancancer) / [LinkedOmics](https://academic.oup.com/nar/article/46/D1/D956/4607804)"
   ]
  },
  {
   "cell_type": "markdown",
   "metadata": {},
   "source": [
    "## Install"
   ]
  },
  {
   "cell_type": "markdown",
   "metadata": {},
   "source": [
    "Install the latest version through git"
   ]
  },
  {
   "cell_type": "code",
   "execution_count": null,
   "metadata": {},
   "outputs": [],
   "source": [
    "!pip install git+https://github.com/sky1ove/katlas.git -Uqq"
   ]
  },
  {
   "cell_type": "markdown",
   "metadata": {},
   "source": [
    "## Import"
   ]
  },
  {
   "cell_type": "code",
   "execution_count": null,
   "metadata": {},
   "outputs": [],
   "source": [
    "from katlas.core import *"
   ]
  },
  {
   "cell_type": "markdown",
   "metadata": {},
   "source": [
    "# Quick start"
   ]
  },
  {
   "cell_type": "markdown",
   "metadata": {},
   "source": [
    "We provide two methods to calculate substrate sequence: \n",
    "- Computational Data-Driven Method (CDDM)\n",
    "- Positional Scanning Peptide Array (PSPA)\n",
    "\n",
    "\n",
    "We consider the input in two circumstances:\n",
    "- single phosphorylation site\n",
    "- a csv/dataframe that contains multiple phosphorylation sites\n",
    "\n",
    "\n",
    "For input sequences, we also consider two circumstances:\n",
    "- all capital\n",
    "- contains lower cases indicating phosphorylation status"
   ]
  },
  {
   "cell_type": "markdown",
   "metadata": {},
   "source": [
    "## Single sequence as input"
   ]
  },
  {
   "cell_type": "markdown",
   "metadata": {},
   "source": [
    "### CDDM, all capital"
   ]
  },
  {
   "cell_type": "code",
   "execution_count": null,
   "metadata": {},
   "outputs": [
    {
     "name": "stderr",
     "output_type": "stream",
     "text": [
      "100%|██████████| 289/289 [00:00<00:00, 8792.39it/s]"
     ]
    },
    {
     "name": "stdout",
     "output_type": "stream",
     "text": [
      "calculated string: ['-7A', '-6A', '-5A', '-4A', '-3A', '-2A', '-1A', '0S', '1G', '2G', '3A', '4G', '5S', '6D', '7N']\n"
     ]
    },
    {
     "name": "stderr",
     "output_type": "stream",
     "text": [
      "\n"
     ]
    },
    {
     "data": {
      "text/plain": [
       "kinase\n",
       "PAK6     2.032\n",
       "ULK3     2.032\n",
       "PRKX     2.012\n",
       "ATR      1.991\n",
       "PRKD1    1.988\n",
       "         ...  \n",
       "DDR2     0.928\n",
       "EPHA4    0.928\n",
       "TEK      0.921\n",
       "KIT      0.915\n",
       "FGFR3    0.910\n",
       "Length: 289, dtype: float64"
      ]
     },
     "execution_count": null,
     "metadata": {},
     "output_type": "execute_result"
    }
   ],
   "source": [
    "predict_kinase('AAAAAAASGGAGSDN',**param_CDDM_upper)"
   ]
  },
  {
   "cell_type": "markdown",
   "metadata": {},
   "source": [
    "### CDDM, with lower case indicating phosphorylation status"
   ]
  },
  {
   "cell_type": "code",
   "execution_count": null,
   "metadata": {},
   "outputs": [
    {
     "name": "stderr",
     "output_type": "stream",
     "text": [
      "100%|██████████| 289/289 [00:00<00:00, 7903.82it/s]"
     ]
    },
    {
     "name": "stdout",
     "output_type": "stream",
     "text": [
      "calculated string: ['-7A', '-6A', '-5A', '-4A', '-3A', '-2A', '-1A', '0s', '1G', '2G', '3A', '4G', '5s', '6D', '7N']\n"
     ]
    },
    {
     "name": "stderr",
     "output_type": "stream",
     "text": [
      "\n"
     ]
    },
    {
     "data": {
      "text/plain": [
       "kinase\n",
       "ULK3     1.987\n",
       "PAK6     1.981\n",
       "PRKD1    1.946\n",
       "PIM3     1.944\n",
       "PRKX     1.939\n",
       "         ...  \n",
       "EPHA4    0.905\n",
       "EGFR     0.900\n",
       "TEK      0.898\n",
       "FGFR3    0.894\n",
       "KIT      0.882\n",
       "Length: 289, dtype: float64"
      ]
     },
     "execution_count": null,
     "metadata": {},
     "output_type": "execute_result"
    }
   ],
   "source": [
    "predict_kinase('AAAAAAAsGGAGsDN',**param_CDDM)"
   ]
  },
  {
   "cell_type": "markdown",
   "metadata": {},
   "source": [
    "### PSPA, with lower case indicating phosphorylation status"
   ]
  },
  {
   "cell_type": "code",
   "execution_count": null,
   "metadata": {},
   "outputs": [
    {
     "name": "stderr",
     "output_type": "stream",
     "text": [
      "100%|██████████| 303/303 [00:00<00:00, 8744.33it/s]"
     ]
    },
    {
     "name": "stdout",
     "output_type": "stream",
     "text": [
      "calculated string: ['-5A', '-4A', '-3A', '-2A', '-1A', '0s', '1G', '2G', '3A', '4G']\n"
     ]
    },
    {
     "name": "stderr",
     "output_type": "stream",
     "text": [
      "\n"
     ]
    },
    {
     "data": {
      "text/plain": [
       "kinase\n",
       "PRKD1      4.000\n",
       "P38D       3.011\n",
       "JNK2       2.454\n",
       "CDK18      2.374\n",
       "MPSK1      2.331\n",
       "           ...  \n",
       "MRCKA     -5.709\n",
       "TTK       -5.962\n",
       "STLK3     -6.208\n",
       "RIPK2     -6.775\n",
       "ALPHAK3   -7.568\n",
       "Length: 303, dtype: float64"
      ]
     },
     "execution_count": null,
     "metadata": {},
     "output_type": "execute_result"
    }
   ],
   "source": [
    "predict_kinase('AAAAAAAsGGAGsDN',**param_PSPA)"
   ]
  },
  {
   "cell_type": "markdown",
   "metadata": {},
   "source": [
    "### To replicate the results from The Kinase Library (PSPA)"
   ]
  },
  {
   "cell_type": "markdown",
   "metadata": {},
   "source": [
    "Check this link: [The Kinase Library](https://kinase-library.phosphosite.org/site?s=AAAAAAAS*PGAGSDN&pp=false&scp=true), and use log2(score) to rank, it shows same results with the below (with slight differences due to rounding)."
   ]
  },
  {
   "cell_type": "code",
   "execution_count": null,
   "metadata": {},
   "outputs": [
    {
     "name": "stderr",
     "output_type": "stream",
     "text": [
      "100%|██████████| 303/303 [00:00<00:00, 9296.68it/s]"
     ]
    },
    {
     "name": "stdout",
     "output_type": "stream",
     "text": [
      "calculated string: ['-5A', '-4A', '-3A', '-2A', '-1A', '0S', '1P', '2G', '3A', '4G']\n"
     ]
    },
    {
     "name": "stderr",
     "output_type": "stream",
     "text": [
      "\n"
     ]
    },
    {
     "data": {
      "text/plain": [
       "kinase\n",
       "P38D       6.735\n",
       "JNK2       6.712\n",
       "JNK1       6.144\n",
       "JNK3       6.021\n",
       "HIPK2      5.940\n",
       "           ...  \n",
       "MRCKA     -6.985\n",
       "MST1      -7.108\n",
       "ALPHAK3   -7.623\n",
       "RIPK2     -7.699\n",
       "TTK       -8.061\n",
       "Length: 303, dtype: float64"
      ]
     },
     "execution_count": null,
     "metadata": {},
     "output_type": "execute_result"
    }
   ],
   "source": [
    "predict_kinase('AAAAAAASPGAGSDN',**param_PSPA)"
   ]
  },
  {
   "cell_type": "markdown",
   "metadata": {},
   "source": [
    "So far [The kinase Library](https://kinase-library.phosphosite.org) considers all input sequences in capital regardless of whether or not they contain lower cases, which is a small bug and should be fixed soon."
   ]
  },
  {
   "cell_type": "markdown",
   "metadata": {},
   "source": [
    "We can also calculate the percentile score using a referenced score sheet."
   ]
  },
  {
   "cell_type": "code",
   "execution_count": null,
   "metadata": {},
   "outputs": [
    {
     "name": "stderr",
     "output_type": "stream",
     "text": [
      "100%|██████████| 303/303 [00:00<00:00, 8966.23it/s]"
     ]
    },
    {
     "name": "stdout",
     "output_type": "stream",
     "text": [
      "calculated string: ['-5A', '-4A', '-3A', '-2A', '-1A', '0S', '1P', '2G', '3A', '4G']\n"
     ]
    },
    {
     "name": "stderr",
     "output_type": "stream",
     "text": [
      "\n"
     ]
    },
    {
     "data": {
      "text/html": [
       "<div>\n",
       "<style scoped>\n",
       "    .dataframe tbody tr th:only-of-type {\n",
       "        vertical-align: middle;\n",
       "    }\n",
       "\n",
       "    .dataframe tbody tr th {\n",
       "        vertical-align: top;\n",
       "    }\n",
       "\n",
       "    .dataframe thead th {\n",
       "        text-align: right;\n",
       "    }\n",
       "</style>\n",
       "<table border=\"1\" class=\"dataframe\">\n",
       "  <thead>\n",
       "    <tr style=\"text-align: right;\">\n",
       "      <th></th>\n",
       "      <th>log2(score)</th>\n",
       "      <th>percentile</th>\n",
       "    </tr>\n",
       "  </thead>\n",
       "  <tbody>\n",
       "    <tr>\n",
       "      <th>P38D</th>\n",
       "      <td>6.735</td>\n",
       "      <td>98.684064</td>\n",
       "    </tr>\n",
       "    <tr>\n",
       "      <th>JNK2</th>\n",
       "      <td>6.712</td>\n",
       "      <td>99.856879</td>\n",
       "    </tr>\n",
       "    <tr>\n",
       "      <th>JNK1</th>\n",
       "      <td>6.144</td>\n",
       "      <td>99.059409</td>\n",
       "    </tr>\n",
       "    <tr>\n",
       "      <th>JNK3</th>\n",
       "      <td>6.021</td>\n",
       "      <td>99.708189</td>\n",
       "    </tr>\n",
       "    <tr>\n",
       "      <th>HIPK2</th>\n",
       "      <td>5.940</td>\n",
       "      <td>96.520538</td>\n",
       "    </tr>\n",
       "    <tr>\n",
       "      <th>...</th>\n",
       "      <td>...</td>\n",
       "      <td>...</td>\n",
       "    </tr>\n",
       "    <tr>\n",
       "      <th>MRCKA</th>\n",
       "      <td>-6.985</td>\n",
       "      <td>5.375679</td>\n",
       "    </tr>\n",
       "    <tr>\n",
       "      <th>MST1</th>\n",
       "      <td>-7.108</td>\n",
       "      <td>2.522164</td>\n",
       "    </tr>\n",
       "    <tr>\n",
       "      <th>ALPHAK3</th>\n",
       "      <td>-7.623</td>\n",
       "      <td>4.182817</td>\n",
       "    </tr>\n",
       "    <tr>\n",
       "      <th>RIPK2</th>\n",
       "      <td>-7.699</td>\n",
       "      <td>4.517509</td>\n",
       "    </tr>\n",
       "    <tr>\n",
       "      <th>TTK</th>\n",
       "      <td>-8.061</td>\n",
       "      <td>4.686247</td>\n",
       "    </tr>\n",
       "  </tbody>\n",
       "</table>\n",
       "<p>303 rows × 2 columns</p>\n",
       "</div>"
      ],
      "text/plain": [
       "         log2(score)  percentile\n",
       "P38D           6.735   98.684064\n",
       "JNK2           6.712   99.856879\n",
       "JNK1           6.144   99.059409\n",
       "JNK3           6.021   99.708189\n",
       "HIPK2          5.940   96.520538\n",
       "...              ...         ...\n",
       "MRCKA         -6.985    5.375679\n",
       "MST1          -7.108    2.522164\n",
       "ALPHAK3       -7.623    4.182817\n",
       "RIPK2         -7.699    4.517509\n",
       "TTK           -8.061    4.686247\n",
       "\n",
       "[303 rows x 2 columns]"
      ]
     },
     "execution_count": null,
     "metadata": {},
     "output_type": "execute_result"
    }
   ],
   "source": [
    "# Percentile reference sheet\n",
    "pct_ref = Data.get_pct_ref()\n",
    "\n",
    "get_pct('AAAAAAASPGAGSDN',pct_ref)"
   ]
  },
  {
   "cell_type": "markdown",
   "metadata": {},
   "source": [
    "## Multiple sequences from a loaded dataframe"
   ]
  },
  {
   "cell_type": "markdown",
   "metadata": {},
   "source": [
    "### Load your csv"
   ]
  },
  {
   "cell_type": "code",
   "execution_count": null,
   "metadata": {},
   "outputs": [],
   "source": [
    "# df = pd.read_csv('your_file.csv')"
   ]
  },
  {
   "cell_type": "markdown",
   "metadata": {},
   "source": [
    "### Load a demo df"
   ]
  },
  {
   "cell_type": "code",
   "execution_count": null,
   "metadata": {},
   "outputs": [
    {
     "data": {
      "text/html": [
       "<div>\n",
       "<style scoped>\n",
       "    .dataframe tbody tr th:only-of-type {\n",
       "        vertical-align: middle;\n",
       "    }\n",
       "\n",
       "    .dataframe tbody tr th {\n",
       "        vertical-align: top;\n",
       "    }\n",
       "\n",
       "    .dataframe thead th {\n",
       "        text-align: right;\n",
       "    }\n",
       "</style>\n",
       "<table border=\"1\" class=\"dataframe\">\n",
       "  <thead>\n",
       "    <tr style=\"text-align: right;\">\n",
       "      <th></th>\n",
       "      <th>site_seq</th>\n",
       "      <th>gene_site</th>\n",
       "    </tr>\n",
       "  </thead>\n",
       "  <tbody>\n",
       "    <tr>\n",
       "      <th>0</th>\n",
       "      <td>VDDEKGDSNDDYDSA</td>\n",
       "      <td>A0A075B6Q4_S24</td>\n",
       "    </tr>\n",
       "    <tr>\n",
       "      <th>1</th>\n",
       "      <td>YDSAGLLSDEDCMSV</td>\n",
       "      <td>A0A075B6Q4_S35</td>\n",
       "    </tr>\n",
       "    <tr>\n",
       "      <th>2</th>\n",
       "      <td>IADHLFWSEETKSRF</td>\n",
       "      <td>A0A075B6Q4_S57</td>\n",
       "    </tr>\n",
       "    <tr>\n",
       "      <th>3</th>\n",
       "      <td>KSRFTEYSMTSSVMR</td>\n",
       "      <td>A0A075B6Q4_S68</td>\n",
       "    </tr>\n",
       "    <tr>\n",
       "      <th>4</th>\n",
       "      <td>FTEYSMTSSVMRRNE</td>\n",
       "      <td>A0A075B6Q4_S71</td>\n",
       "    </tr>\n",
       "  </tbody>\n",
       "</table>\n",
       "</div>"
      ],
      "text/plain": [
       "          site_seq       gene_site\n",
       "0  VDDEKGDSNDDYDSA  A0A075B6Q4_S24\n",
       "1  YDSAGLLSDEDCMSV  A0A075B6Q4_S35\n",
       "2  IADHLFWSEETKSRF  A0A075B6Q4_S57\n",
       "3  KSRFTEYSMTSSVMR  A0A075B6Q4_S68\n",
       "4  FTEYSMTSSVMRRNE  A0A075B6Q4_S71"
      ]
     },
     "execution_count": null,
     "metadata": {},
     "output_type": "execute_result"
    }
   ],
   "source": [
    "# Load a demo df with phosphorylation sites\n",
    "df = Data.get_ochoa_site().head()\n",
    "df.iloc[:,-2:]"
   ]
  },
  {
   "cell_type": "markdown",
   "metadata": {},
   "source": [
    "### Set the column name and param to calculate"
   ]
  },
  {
   "cell_type": "markdown",
   "metadata": {},
   "source": [
    "Here we choose param_CDDM_upper, as the sequences in the demo df are all in capital. You can also choose other params."
   ]
  },
  {
   "cell_type": "code",
   "execution_count": null,
   "metadata": {},
   "outputs": [
    {
     "name": "stdout",
     "output_type": "stream",
     "text": [
      "input dataframe has a length 5\n",
      "Preprocessing\n",
      "Finish preprocessing\n",
      "Calculating position: [-7, -6, -5, -4, -3, -2, -1, 0, 1, 2, 3, 4, 5, 6, 7]\n"
     ]
    },
    {
     "name": "stderr",
     "output_type": "stream",
     "text": [
      "100%|██████████| 289/289 [00:00<00:00, 7516.07it/s]\n"
     ]
    },
    {
     "data": {
      "text/html": [
       "<div>\n",
       "<style scoped>\n",
       "    .dataframe tbody tr th:only-of-type {\n",
       "        vertical-align: middle;\n",
       "    }\n",
       "\n",
       "    .dataframe tbody tr th {\n",
       "        vertical-align: top;\n",
       "    }\n",
       "\n",
       "    .dataframe thead th {\n",
       "        text-align: right;\n",
       "    }\n",
       "</style>\n",
       "<table border=\"1\" class=\"dataframe\">\n",
       "  <thead>\n",
       "    <tr style=\"text-align: right;\">\n",
       "      <th>kinase</th>\n",
       "      <th>SRC</th>\n",
       "      <th>EPHA3</th>\n",
       "      <th>FES</th>\n",
       "      <th>NTRK3</th>\n",
       "      <th>ALK</th>\n",
       "      <th>EPHA8</th>\n",
       "      <th>ABL1</th>\n",
       "      <th>FLT3</th>\n",
       "      <th>EPHB2</th>\n",
       "      <th>FYN</th>\n",
       "      <th>...</th>\n",
       "      <th>MEK5</th>\n",
       "      <th>PKN2</th>\n",
       "      <th>MAP2K7</th>\n",
       "      <th>MRCKB</th>\n",
       "      <th>HIPK3</th>\n",
       "      <th>CDK8</th>\n",
       "      <th>BUB1</th>\n",
       "      <th>MEKK3</th>\n",
       "      <th>MAP2K3</th>\n",
       "      <th>GRK1</th>\n",
       "    </tr>\n",
       "  </thead>\n",
       "  <tbody>\n",
       "    <tr>\n",
       "      <th>0</th>\n",
       "      <td>0.991760</td>\n",
       "      <td>1.093712</td>\n",
       "      <td>1.051750</td>\n",
       "      <td>1.067134</td>\n",
       "      <td>1.013682</td>\n",
       "      <td>1.097519</td>\n",
       "      <td>0.966379</td>\n",
       "      <td>0.982464</td>\n",
       "      <td>1.054986</td>\n",
       "      <td>1.055910</td>\n",
       "      <td>...</td>\n",
       "      <td>1.314859</td>\n",
       "      <td>1.635470</td>\n",
       "      <td>1.652251</td>\n",
       "      <td>1.622672</td>\n",
       "      <td>1.362973</td>\n",
       "      <td>1.797155</td>\n",
       "      <td>1.305198</td>\n",
       "      <td>1.423618</td>\n",
       "      <td>1.504941</td>\n",
       "      <td>1.872020</td>\n",
       "    </tr>\n",
       "    <tr>\n",
       "      <th>1</th>\n",
       "      <td>0.910262</td>\n",
       "      <td>0.953743</td>\n",
       "      <td>0.942327</td>\n",
       "      <td>0.950601</td>\n",
       "      <td>0.872694</td>\n",
       "      <td>0.932586</td>\n",
       "      <td>0.846899</td>\n",
       "      <td>0.826662</td>\n",
       "      <td>0.915020</td>\n",
       "      <td>0.942713</td>\n",
       "      <td>...</td>\n",
       "      <td>1.175454</td>\n",
       "      <td>1.402006</td>\n",
       "      <td>1.430392</td>\n",
       "      <td>1.215826</td>\n",
       "      <td>1.569373</td>\n",
       "      <td>1.716455</td>\n",
       "      <td>1.270999</td>\n",
       "      <td>1.195081</td>\n",
       "      <td>1.223082</td>\n",
       "      <td>1.793290</td>\n",
       "    </tr>\n",
       "    <tr>\n",
       "      <th>2</th>\n",
       "      <td>0.849866</td>\n",
       "      <td>0.899910</td>\n",
       "      <td>0.848895</td>\n",
       "      <td>0.879652</td>\n",
       "      <td>0.874959</td>\n",
       "      <td>0.899414</td>\n",
       "      <td>0.839200</td>\n",
       "      <td>0.836523</td>\n",
       "      <td>0.858040</td>\n",
       "      <td>0.867269</td>\n",
       "      <td>...</td>\n",
       "      <td>1.408003</td>\n",
       "      <td>1.813739</td>\n",
       "      <td>1.454786</td>\n",
       "      <td>1.084522</td>\n",
       "      <td>1.352556</td>\n",
       "      <td>1.524663</td>\n",
       "      <td>1.377839</td>\n",
       "      <td>1.173830</td>\n",
       "      <td>1.305691</td>\n",
       "      <td>1.811849</td>\n",
       "    </tr>\n",
       "    <tr>\n",
       "      <th>3</th>\n",
       "      <td>0.803826</td>\n",
       "      <td>0.836527</td>\n",
       "      <td>0.800759</td>\n",
       "      <td>0.894570</td>\n",
       "      <td>0.839905</td>\n",
       "      <td>0.781001</td>\n",
       "      <td>0.847847</td>\n",
       "      <td>0.807040</td>\n",
       "      <td>0.805877</td>\n",
       "      <td>0.801402</td>\n",
       "      <td>...</td>\n",
       "      <td>1.110307</td>\n",
       "      <td>1.703637</td>\n",
       "      <td>1.795092</td>\n",
       "      <td>1.469653</td>\n",
       "      <td>1.549936</td>\n",
       "      <td>1.491344</td>\n",
       "      <td>1.446922</td>\n",
       "      <td>1.055452</td>\n",
       "      <td>1.534895</td>\n",
       "      <td>1.741090</td>\n",
       "    </tr>\n",
       "    <tr>\n",
       "      <th>4</th>\n",
       "      <td>0.822793</td>\n",
       "      <td>0.796532</td>\n",
       "      <td>0.792343</td>\n",
       "      <td>0.839882</td>\n",
       "      <td>0.810122</td>\n",
       "      <td>0.781420</td>\n",
       "      <td>0.805251</td>\n",
       "      <td>0.795022</td>\n",
       "      <td>0.790380</td>\n",
       "      <td>0.864538</td>\n",
       "      <td>...</td>\n",
       "      <td>1.062617</td>\n",
       "      <td>1.357689</td>\n",
       "      <td>1.485945</td>\n",
       "      <td>1.249266</td>\n",
       "      <td>1.456078</td>\n",
       "      <td>1.422782</td>\n",
       "      <td>1.376471</td>\n",
       "      <td>1.089629</td>\n",
       "      <td>1.121309</td>\n",
       "      <td>1.697524</td>\n",
       "    </tr>\n",
       "  </tbody>\n",
       "</table>\n",
       "<p>5 rows × 289 columns</p>\n",
       "</div>"
      ],
      "text/plain": [
       "kinase       SRC     EPHA3       FES     NTRK3       ALK     EPHA8      ABL1  \\\n",
       "0       0.991760  1.093712  1.051750  1.067134  1.013682  1.097519  0.966379   \n",
       "1       0.910262  0.953743  0.942327  0.950601  0.872694  0.932586  0.846899   \n",
       "2       0.849866  0.899910  0.848895  0.879652  0.874959  0.899414  0.839200   \n",
       "3       0.803826  0.836527  0.800759  0.894570  0.839905  0.781001  0.847847   \n",
       "4       0.822793  0.796532  0.792343  0.839882  0.810122  0.781420  0.805251   \n",
       "\n",
       "kinase      FLT3     EPHB2       FYN  ...      MEK5      PKN2    MAP2K7  \\\n",
       "0       0.982464  1.054986  1.055910  ...  1.314859  1.635470  1.652251   \n",
       "1       0.826662  0.915020  0.942713  ...  1.175454  1.402006  1.430392   \n",
       "2       0.836523  0.858040  0.867269  ...  1.408003  1.813739  1.454786   \n",
       "3       0.807040  0.805877  0.801402  ...  1.110307  1.703637  1.795092   \n",
       "4       0.795022  0.790380  0.864538  ...  1.062617  1.357689  1.485945   \n",
       "\n",
       "kinase     MRCKB     HIPK3      CDK8      BUB1     MEKK3    MAP2K3      GRK1  \n",
       "0       1.622672  1.362973  1.797155  1.305198  1.423618  1.504941  1.872020  \n",
       "1       1.215826  1.569373  1.716455  1.270999  1.195081  1.223082  1.793290  \n",
       "2       1.084522  1.352556  1.524663  1.377839  1.173830  1.305691  1.811849  \n",
       "3       1.469653  1.549936  1.491344  1.446922  1.055452  1.534895  1.741090  \n",
       "4       1.249266  1.456078  1.422782  1.376471  1.089629  1.121309  1.697524  \n",
       "\n",
       "[5 rows x 289 columns]"
      ]
     },
     "execution_count": null,
     "metadata": {},
     "output_type": "execute_result"
    }
   ],
   "source": [
    "results = predict_kinase_df(df,'site_seq',**param_CDDM_upper)\n",
    "results"
   ]
  },
  {
   "cell_type": "markdown",
   "metadata": {},
   "source": [
    "## Phosphorylation sites"
   ]
  },
  {
   "cell_type": "markdown",
   "metadata": {},
   "source": [
    "Besides calculating sequence scores, we also provides multiple datasets of phosphorylation sites."
   ]
  },
  {
   "cell_type": "markdown",
   "metadata": {},
   "source": [
    "### CPTAC pan-cancer phosphoproteomics"
   ]
  },
  {
   "cell_type": "code",
   "execution_count": null,
   "metadata": {},
   "outputs": [
    {
     "data": {
      "text/html": [
       "<div>\n",
       "<style scoped>\n",
       "    .dataframe tbody tr th:only-of-type {\n",
       "        vertical-align: middle;\n",
       "    }\n",
       "\n",
       "    .dataframe tbody tr th {\n",
       "        vertical-align: top;\n",
       "    }\n",
       "\n",
       "    .dataframe thead th {\n",
       "        text-align: right;\n",
       "    }\n",
       "</style>\n",
       "<table border=\"1\" class=\"dataframe\">\n",
       "  <thead>\n",
       "    <tr style=\"text-align: right;\">\n",
       "      <th></th>\n",
       "      <th>gene</th>\n",
       "      <th>site</th>\n",
       "      <th>site_seq</th>\n",
       "      <th>protein</th>\n",
       "      <th>gene_name</th>\n",
       "      <th>gene_site</th>\n",
       "      <th>protein_site</th>\n",
       "    </tr>\n",
       "  </thead>\n",
       "  <tbody>\n",
       "    <tr>\n",
       "      <th>0</th>\n",
       "      <td>ENSG00000003056.8</td>\n",
       "      <td>S267</td>\n",
       "      <td>DDQLGEESEERDDHL</td>\n",
       "      <td>ENSP00000000412.3</td>\n",
       "      <td>M6PR</td>\n",
       "      <td>M6PR_S267</td>\n",
       "      <td>ENSP00000000412_S267</td>\n",
       "    </tr>\n",
       "    <tr>\n",
       "      <th>1</th>\n",
       "      <td>ENSG00000003056.8</td>\n",
       "      <td>S267</td>\n",
       "      <td>DDQLGEESEERDDHL</td>\n",
       "      <td>ENSP00000440488.2</td>\n",
       "      <td>M6PR</td>\n",
       "      <td>M6PR_S267</td>\n",
       "      <td>ENSP00000440488_S267</td>\n",
       "    </tr>\n",
       "    <tr>\n",
       "      <th>2</th>\n",
       "      <td>ENSG00000048028.11</td>\n",
       "      <td>S1053</td>\n",
       "      <td>PPTIRPNSPYDLCSR</td>\n",
       "      <td>ENSP00000003302.4</td>\n",
       "      <td>USP28</td>\n",
       "      <td>USP28_S1053</td>\n",
       "      <td>ENSP00000003302_S1053</td>\n",
       "    </tr>\n",
       "  </tbody>\n",
       "</table>\n",
       "</div>"
      ],
      "text/plain": [
       "                 gene   site         site_seq            protein gene_name  \\\n",
       "0   ENSG00000003056.8   S267  DDQLGEESEERDDHL  ENSP00000000412.3      M6PR   \n",
       "1   ENSG00000003056.8   S267  DDQLGEESEERDDHL  ENSP00000440488.2      M6PR   \n",
       "2  ENSG00000048028.11  S1053  PPTIRPNSPYDLCSR  ENSP00000003302.4     USP28   \n",
       "\n",
       "     gene_site           protein_site  \n",
       "0    M6PR_S267   ENSP00000000412_S267  \n",
       "1    M6PR_S267   ENSP00000440488_S267  \n",
       "2  USP28_S1053  ENSP00000003302_S1053  "
      ]
     },
     "execution_count": null,
     "metadata": {},
     "output_type": "execute_result"
    }
   ],
   "source": [
    "df = Data.get_cptac_ensembl_site()\n",
    "df.head(3)"
   ]
  },
  {
   "cell_type": "markdown",
   "metadata": {},
   "source": [
    "### [Ochoa et al. human phosphoproteome](https://www.nature.com/articles/s41587-019-0344-3)"
   ]
  },
  {
   "cell_type": "code",
   "execution_count": null,
   "metadata": {},
   "outputs": [
    {
     "data": {
      "text/html": [
       "<div>\n",
       "<style scoped>\n",
       "    .dataframe tbody tr th:only-of-type {\n",
       "        vertical-align: middle;\n",
       "    }\n",
       "\n",
       "    .dataframe tbody tr th {\n",
       "        vertical-align: top;\n",
       "    }\n",
       "\n",
       "    .dataframe thead th {\n",
       "        text-align: right;\n",
       "    }\n",
       "</style>\n",
       "<table border=\"1\" class=\"dataframe\">\n",
       "  <thead>\n",
       "    <tr style=\"text-align: right;\">\n",
       "      <th></th>\n",
       "      <th>uniprot</th>\n",
       "      <th>position</th>\n",
       "      <th>residue</th>\n",
       "      <th>is_disopred</th>\n",
       "      <th>disopred_score</th>\n",
       "      <th>log10_hotspot_pval_min</th>\n",
       "      <th>isHotspot</th>\n",
       "      <th>uniprot_position</th>\n",
       "      <th>functional_score</th>\n",
       "      <th>current_uniprot</th>\n",
       "      <th>name</th>\n",
       "      <th>gene</th>\n",
       "      <th>Sequence</th>\n",
       "      <th>is_valid</th>\n",
       "      <th>site_seq</th>\n",
       "      <th>gene_site</th>\n",
       "    </tr>\n",
       "  </thead>\n",
       "  <tbody>\n",
       "    <tr>\n",
       "      <th>0</th>\n",
       "      <td>A0A075B6Q4</td>\n",
       "      <td>24</td>\n",
       "      <td>S</td>\n",
       "      <td>True</td>\n",
       "      <td>0.91</td>\n",
       "      <td>6.839384</td>\n",
       "      <td>True</td>\n",
       "      <td>A0A075B6Q4_24</td>\n",
       "      <td>0.149257</td>\n",
       "      <td>A0A075B6Q4</td>\n",
       "      <td>A0A075B6Q4_HUMAN</td>\n",
       "      <td>None</td>\n",
       "      <td>MDIQKSENEDDSEWEDVDDEKGDSNDDYDSAGLLSDEDCMSVPGKT...</td>\n",
       "      <td>True</td>\n",
       "      <td>VDDEKGDSNDDYDSA</td>\n",
       "      <td>A0A075B6Q4_S24</td>\n",
       "    </tr>\n",
       "    <tr>\n",
       "      <th>1</th>\n",
       "      <td>A0A075B6Q4</td>\n",
       "      <td>35</td>\n",
       "      <td>S</td>\n",
       "      <td>True</td>\n",
       "      <td>0.87</td>\n",
       "      <td>9.192622</td>\n",
       "      <td>False</td>\n",
       "      <td>A0A075B6Q4_35</td>\n",
       "      <td>0.136966</td>\n",
       "      <td>A0A075B6Q4</td>\n",
       "      <td>A0A075B6Q4_HUMAN</td>\n",
       "      <td>None</td>\n",
       "      <td>MDIQKSENEDDSEWEDVDDEKGDSNDDYDSAGLLSDEDCMSVPGKT...</td>\n",
       "      <td>True</td>\n",
       "      <td>YDSAGLLSDEDCMSV</td>\n",
       "      <td>A0A075B6Q4_S35</td>\n",
       "    </tr>\n",
       "    <tr>\n",
       "      <th>2</th>\n",
       "      <td>A0A075B6Q4</td>\n",
       "      <td>57</td>\n",
       "      <td>S</td>\n",
       "      <td>False</td>\n",
       "      <td>0.28</td>\n",
       "      <td>0.818834</td>\n",
       "      <td>False</td>\n",
       "      <td>A0A075B6Q4_57</td>\n",
       "      <td>0.125364</td>\n",
       "      <td>A0A075B6Q4</td>\n",
       "      <td>A0A075B6Q4_HUMAN</td>\n",
       "      <td>None</td>\n",
       "      <td>MDIQKSENEDDSEWEDVDDEKGDSNDDYDSAGLLSDEDCMSVPGKT...</td>\n",
       "      <td>True</td>\n",
       "      <td>IADHLFWSEETKSRF</td>\n",
       "      <td>A0A075B6Q4_S57</td>\n",
       "    </tr>\n",
       "  </tbody>\n",
       "</table>\n",
       "</div>"
      ],
      "text/plain": [
       "      uniprot  position residue is_disopred  disopred_score  \\\n",
       "0  A0A075B6Q4        24       S        True            0.91   \n",
       "1  A0A075B6Q4        35       S        True            0.87   \n",
       "2  A0A075B6Q4        57       S       False            0.28   \n",
       "\n",
       "   log10_hotspot_pval_min isHotspot uniprot_position  functional_score  \\\n",
       "0                6.839384      True    A0A075B6Q4_24          0.149257   \n",
       "1                9.192622     False    A0A075B6Q4_35          0.136966   \n",
       "2                0.818834     False    A0A075B6Q4_57          0.125364   \n",
       "\n",
       "  current_uniprot              name  gene  \\\n",
       "0      A0A075B6Q4  A0A075B6Q4_HUMAN  None   \n",
       "1      A0A075B6Q4  A0A075B6Q4_HUMAN  None   \n",
       "2      A0A075B6Q4  A0A075B6Q4_HUMAN  None   \n",
       "\n",
       "                                            Sequence  is_valid  \\\n",
       "0  MDIQKSENEDDSEWEDVDDEKGDSNDDYDSAGLLSDEDCMSVPGKT...      True   \n",
       "1  MDIQKSENEDDSEWEDVDDEKGDSNDDYDSAGLLSDEDCMSVPGKT...      True   \n",
       "2  MDIQKSENEDDSEWEDVDDEKGDSNDDYDSAGLLSDEDCMSVPGKT...      True   \n",
       "\n",
       "          site_seq       gene_site  \n",
       "0  VDDEKGDSNDDYDSA  A0A075B6Q4_S24  \n",
       "1  YDSAGLLSDEDCMSV  A0A075B6Q4_S35  \n",
       "2  IADHLFWSEETKSRF  A0A075B6Q4_S57  "
      ]
     },
     "execution_count": null,
     "metadata": {},
     "output_type": "execute_result"
    }
   ],
   "source": [
    "df = Data.get_ochoa_site()\n",
    "df.head(3)"
   ]
  },
  {
   "cell_type": "markdown",
   "metadata": {},
   "source": [
    "### PhosphoSitePlus"
   ]
  },
  {
   "cell_type": "code",
   "execution_count": null,
   "metadata": {},
   "outputs": [
    {
     "data": {
      "text/html": [
       "<div>\n",
       "<style scoped>\n",
       "    .dataframe tbody tr th:only-of-type {\n",
       "        vertical-align: middle;\n",
       "    }\n",
       "\n",
       "    .dataframe tbody tr th {\n",
       "        vertical-align: top;\n",
       "    }\n",
       "\n",
       "    .dataframe thead th {\n",
       "        text-align: right;\n",
       "    }\n",
       "</style>\n",
       "<table border=\"1\" class=\"dataframe\">\n",
       "  <thead>\n",
       "    <tr style=\"text-align: right;\">\n",
       "      <th></th>\n",
       "      <th>gene</th>\n",
       "      <th>protein</th>\n",
       "      <th>uniprot</th>\n",
       "      <th>site</th>\n",
       "      <th>gene_site</th>\n",
       "      <th>SITE_GRP_ID</th>\n",
       "      <th>species</th>\n",
       "      <th>site_seq</th>\n",
       "      <th>LT_LIT</th>\n",
       "      <th>MS_LIT</th>\n",
       "      <th>MS_CST</th>\n",
       "      <th>CST_CAT#</th>\n",
       "      <th>Ambiguous_Site</th>\n",
       "    </tr>\n",
       "  </thead>\n",
       "  <tbody>\n",
       "    <tr>\n",
       "      <th>0</th>\n",
       "      <td>YWHAB</td>\n",
       "      <td>14-3-3 beta</td>\n",
       "      <td>P31946</td>\n",
       "      <td>T2</td>\n",
       "      <td>YWHAB_T2</td>\n",
       "      <td>15718712</td>\n",
       "      <td>human</td>\n",
       "      <td>______MtMDksELV</td>\n",
       "      <td>NaN</td>\n",
       "      <td>3.0</td>\n",
       "      <td>1.0</td>\n",
       "      <td>None</td>\n",
       "      <td>0</td>\n",
       "    </tr>\n",
       "    <tr>\n",
       "      <th>1</th>\n",
       "      <td>YWHAB</td>\n",
       "      <td>14-3-3 beta</td>\n",
       "      <td>P31946</td>\n",
       "      <td>S6</td>\n",
       "      <td>YWHAB_S6</td>\n",
       "      <td>15718709</td>\n",
       "      <td>human</td>\n",
       "      <td>__MtMDksELVQkAk</td>\n",
       "      <td>NaN</td>\n",
       "      <td>8.0</td>\n",
       "      <td>NaN</td>\n",
       "      <td>None</td>\n",
       "      <td>0</td>\n",
       "    </tr>\n",
       "    <tr>\n",
       "      <th>2</th>\n",
       "      <td>YWHAB</td>\n",
       "      <td>14-3-3 beta</td>\n",
       "      <td>P31946</td>\n",
       "      <td>Y21</td>\n",
       "      <td>YWHAB_Y21</td>\n",
       "      <td>3426383</td>\n",
       "      <td>human</td>\n",
       "      <td>LAEQAERyDDMAAAM</td>\n",
       "      <td>NaN</td>\n",
       "      <td>NaN</td>\n",
       "      <td>4.0</td>\n",
       "      <td>None</td>\n",
       "      <td>0</td>\n",
       "    </tr>\n",
       "  </tbody>\n",
       "</table>\n",
       "</div>"
      ],
      "text/plain": [
       "    gene      protein uniprot site  gene_site  SITE_GRP_ID species  \\\n",
       "0  YWHAB  14-3-3 beta  P31946   T2   YWHAB_T2     15718712   human   \n",
       "1  YWHAB  14-3-3 beta  P31946   S6   YWHAB_S6     15718709   human   \n",
       "2  YWHAB  14-3-3 beta  P31946  Y21  YWHAB_Y21      3426383   human   \n",
       "\n",
       "          site_seq  LT_LIT  MS_LIT  MS_CST CST_CAT#  Ambiguous_Site  \n",
       "0  ______MtMDksELV     NaN     3.0     1.0     None               0  \n",
       "1  __MtMDksELVQkAk     NaN     8.0     NaN     None               0  \n",
       "2  LAEQAERyDDMAAAM     NaN     NaN     4.0     None               0  "
      ]
     },
     "execution_count": null,
     "metadata": {},
     "output_type": "execute_result"
    }
   ],
   "source": [
    "df = Data.get_pplus_human_site()\n",
    "df.head(3)"
   ]
  },
  {
   "cell_type": "markdown",
   "metadata": {},
   "source": [
    "### Unique sites of combined Ochoa & PhosphoSitePlus"
   ]
  },
  {
   "cell_type": "code",
   "execution_count": null,
   "metadata": {},
   "outputs": [
    {
     "data": {
      "text/html": [
       "<div>\n",
       "<style scoped>\n",
       "    .dataframe tbody tr th:only-of-type {\n",
       "        vertical-align: middle;\n",
       "    }\n",
       "\n",
       "    .dataframe tbody tr th {\n",
       "        vertical-align: top;\n",
       "    }\n",
       "\n",
       "    .dataframe thead th {\n",
       "        text-align: right;\n",
       "    }\n",
       "</style>\n",
       "<table border=\"1\" class=\"dataframe\">\n",
       "  <thead>\n",
       "    <tr style=\"text-align: right;\">\n",
       "      <th></th>\n",
       "      <th>site_seq</th>\n",
       "      <th>gene_site</th>\n",
       "      <th>gene</th>\n",
       "      <th>source</th>\n",
       "      <th>num_site</th>\n",
       "      <th>acceptor</th>\n",
       "      <th>-7</th>\n",
       "      <th>-6</th>\n",
       "      <th>-5</th>\n",
       "      <th>-4</th>\n",
       "      <th>...</th>\n",
       "      <th>-2</th>\n",
       "      <th>-1</th>\n",
       "      <th>0</th>\n",
       "      <th>1</th>\n",
       "      <th>2</th>\n",
       "      <th>3</th>\n",
       "      <th>4</th>\n",
       "      <th>5</th>\n",
       "      <th>6</th>\n",
       "      <th>7</th>\n",
       "    </tr>\n",
       "  </thead>\n",
       "  <tbody>\n",
       "    <tr>\n",
       "      <th>0</th>\n",
       "      <td>AAAAAAASGGAGSDN</td>\n",
       "      <td>PBX1_S136</td>\n",
       "      <td>PBX1</td>\n",
       "      <td>ochoa</td>\n",
       "      <td>1</td>\n",
       "      <td>S</td>\n",
       "      <td>A</td>\n",
       "      <td>A</td>\n",
       "      <td>A</td>\n",
       "      <td>A</td>\n",
       "      <td>...</td>\n",
       "      <td>A</td>\n",
       "      <td>A</td>\n",
       "      <td>S</td>\n",
       "      <td>G</td>\n",
       "      <td>G</td>\n",
       "      <td>A</td>\n",
       "      <td>G</td>\n",
       "      <td>S</td>\n",
       "      <td>D</td>\n",
       "      <td>N</td>\n",
       "    </tr>\n",
       "    <tr>\n",
       "      <th>1</th>\n",
       "      <td>AAAAAAASGGGVSPD</td>\n",
       "      <td>PBX2_S146</td>\n",
       "      <td>PBX2</td>\n",
       "      <td>ochoa</td>\n",
       "      <td>1</td>\n",
       "      <td>S</td>\n",
       "      <td>A</td>\n",
       "      <td>A</td>\n",
       "      <td>A</td>\n",
       "      <td>A</td>\n",
       "      <td>...</td>\n",
       "      <td>A</td>\n",
       "      <td>A</td>\n",
       "      <td>S</td>\n",
       "      <td>G</td>\n",
       "      <td>G</td>\n",
       "      <td>G</td>\n",
       "      <td>V</td>\n",
       "      <td>S</td>\n",
       "      <td>P</td>\n",
       "      <td>D</td>\n",
       "    </tr>\n",
       "    <tr>\n",
       "      <th>2</th>\n",
       "      <td>AAAAAAASGVTTGKP</td>\n",
       "      <td>CLASR_S349</td>\n",
       "      <td>CLASR</td>\n",
       "      <td>ochoa</td>\n",
       "      <td>1</td>\n",
       "      <td>S</td>\n",
       "      <td>A</td>\n",
       "      <td>A</td>\n",
       "      <td>A</td>\n",
       "      <td>A</td>\n",
       "      <td>...</td>\n",
       "      <td>A</td>\n",
       "      <td>A</td>\n",
       "      <td>S</td>\n",
       "      <td>G</td>\n",
       "      <td>V</td>\n",
       "      <td>T</td>\n",
       "      <td>T</td>\n",
       "      <td>G</td>\n",
       "      <td>K</td>\n",
       "      <td>P</td>\n",
       "    </tr>\n",
       "  </tbody>\n",
       "</table>\n",
       "<p>3 rows × 21 columns</p>\n",
       "</div>"
      ],
      "text/plain": [
       "          site_seq   gene_site   gene source  num_site acceptor -7 -6 -5 -4  \\\n",
       "0  AAAAAAASGGAGSDN   PBX1_S136   PBX1  ochoa         1        S  A  A  A  A   \n",
       "1  AAAAAAASGGGVSPD   PBX2_S146   PBX2  ochoa         1        S  A  A  A  A   \n",
       "2  AAAAAAASGVTTGKP  CLASR_S349  CLASR  ochoa         1        S  A  A  A  A   \n",
       "\n",
       "   ... -2 -1  0  1  2  3  4  5  6  7  \n",
       "0  ...  A  A  S  G  G  A  G  S  D  N  \n",
       "1  ...  A  A  S  G  G  G  V  S  P  D  \n",
       "2  ...  A  A  S  G  V  T  T  G  K  P  \n",
       "\n",
       "[3 rows x 21 columns]"
      ]
     },
     "execution_count": null,
     "metadata": {},
     "output_type": "execute_result"
    }
   ],
   "source": [
    "df = Data.get_combine_site_pplus_ochoa()\n",
    "df.head(3)"
   ]
  },
  {
   "cell_type": "markdown",
   "metadata": {},
   "source": [
    "## Phosphorylation site sequence example"
   ]
  },
  {
   "cell_type": "markdown",
   "metadata": {},
   "source": [
    "***All capital - 15 length (-7 to +7)***"
   ]
  },
  {
   "cell_type": "markdown",
   "metadata": {},
   "source": [
    "- QSEEEKLSPSPTTED\n",
    "- TLQHVPDYRQNVYIP\n",
    "- TMGLSARyGPQFTLQ"
   ]
  },
  {
   "cell_type": "markdown",
   "metadata": {},
   "source": [
    "***All capital - 10 length (-5 to +4)***"
   ]
  },
  {
   "cell_type": "markdown",
   "metadata": {},
   "source": [
    "- SRDPHYQDPH\n",
    "- LDNPDyQQDF\n",
    "- AAAAAsGGAG"
   ]
  },
  {
   "cell_type": "markdown",
   "metadata": {},
   "source": [
    "***With lowercase - (-7 to +7)***"
   ]
  },
  {
   "cell_type": "markdown",
   "metadata": {},
   "source": [
    "- QsEEEKLsPsPTTED\n",
    "- TLQHVPDyRQNVYIP\n",
    "- TMGLsARyGPQFTLQ"
   ]
  },
  {
   "cell_type": "markdown",
   "metadata": {},
   "source": [
    "***With lowercase - (-5 to +4)***"
   ]
  },
  {
   "cell_type": "markdown",
   "metadata": {},
   "source": [
    "- sRDPHyQDPH\n",
    "- LDNPDyQQDF\n",
    "- AAAAAsGGAG"
   ]
  }
 ],
 "metadata": {
  "kernelspec": {
   "display_name": "python3",
   "language": "python",
   "name": "python3"
  }
 },
 "nbformat": 4,
 "nbformat_minor": 4
}
