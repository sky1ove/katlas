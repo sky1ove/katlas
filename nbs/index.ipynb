{
 "cells": [
  {
   "cell_type": "markdown",
   "metadata": {},
   "source": [
    "<img alt=\"Katlas logo\" width=\"600\" caption=\"Katlas logo\" src=\"https://github.com/sky1ove/katlas/raw/main/logo.png\" id=\"logo\"/>"
   ]
  },
  {
   "cell_type": "markdown",
   "metadata": {},
   "source": [
    "# KATLAS\n",
    "> Predict kinases given a substrate sequence"
   ]
  },
  {
   "cell_type": "markdown",
   "metadata": {},
   "source": [
    "KATLAS is a repository containing python tools to predict kinases given a substrate sequence. It also contains datasets of kinase substrate specificities and human phosphoproteomics.\n",
    "\n",
    "***References***: Please cite the appropriate papers if KATLAS is helpful to your research.\n",
    "\n",
    "- KATLAS was described in the paper [Computational Decoding of Human Kinome Substrate Specificities and Functions]\n",
    "\n",
    "- The positional scanning peptide array (PSPA) data is from paper [An atlas of substrate specificities for the human serine/threonine kinome](https://www.nature.com/articles/s41586-022-05575-3) and paper [The intrinsic substrate specificity of the human tyrosine kinome](https://www.nature.com/articles/s41586-024-07407-y)\n",
    "\n",
    "- The kinase substrate datasets used for generating PSSMs are derived from [PhosphoSitePlus](https://www.ncbi.nlm.nih.gov/pmc/articles/PMC3245126/) and paper [Large-scale Discovery of Substrates of the Human Kinome](https://www.nature.com/articles/s41598-019-46385-4)\n",
    "\n",
    "- Phosphorylation sites are acquired from [PhosphoSitePlus](https://www.ncbi.nlm.nih.gov/pmc/articles/PMC3245126/), paper [The functional landscape of the human phosphoproteome](https://www.nature.com/articles/s41587-019-0344-3), and [CPTAC](https://pdc.cancer.gov/pdc/cptac-pancancer) / [LinkedOmics](https://academic.oup.com/nar/article/46/D1/D956/4607804)"
   ]
  },
  {
   "cell_type": "markdown",
   "metadata": {},
   "source": [
    "## Reproduce datasets & figures"
   ]
  },
  {
   "cell_type": "markdown",
   "metadata": {},
   "source": [
    "Follow the instructions in katlas_raw: https://github.com/sky1ove/katlas_raw"
   ]
  },
  {
   "cell_type": "markdown",
   "metadata": {},
   "source": [
    "## Web applications\n",
    "\n",
    "Users can now run the analysis directly on the web without needing to code. \n",
    "\n",
    "Check out our latest web platform: [kinase-atlas.com](https://kinase-atlas.com/)"
   ]
  },
  {
   "cell_type": "markdown",
   "metadata": {},
   "source": [
    "## Install"
   ]
  },
  {
   "cell_type": "markdown",
   "metadata": {},
   "source": [
    "UV:"
   ]
  },
  {
   "cell_type": "markdown",
   "metadata": {},
   "source": [
    "```bash\n",
    "uv add -U python-katlas\n",
    "```"
   ]
  },
  {
   "cell_type": "markdown",
   "metadata": {},
   "source": [
    "pip:"
   ]
  },
  {
   "cell_type": "markdown",
   "metadata": {},
   "source": [
    "```bash\n",
    "pip install -U python-katlas\n",
    "```"
   ]
  },
  {
   "cell_type": "markdown",
   "metadata": {},
   "source": [
    "If using machine-learning related modules, need to install development verison:\n",
    "`pip install -U \"python-katlas[dev]\"`"
   ]
  },
  {
   "cell_type": "markdown",
   "metadata": {},
   "source": [
    "## Import"
   ]
  },
  {
   "cell_type": "code",
   "execution_count": null,
   "metadata": {},
   "outputs": [],
   "source": [
    "from katlas.common import *"
   ]
  },
  {
   "cell_type": "markdown",
   "metadata": {},
   "source": [
    "# Quick start"
   ]
  },
  {
   "cell_type": "markdown",
   "metadata": {},
   "source": [
    "We provide two methods to calculate substrate sequence: \n",
    "\n",
    "- Computational Data-Driven Method (CDDM)\n",
    "- Positional Scanning Peptide Array (PSPA)\n",
    "\n",
    "\n",
    "We consider the input in two formats:\n",
    "\n",
    "- a single input string (phosphorylation site)\n",
    "- a csv/dataframe that contains a column of phosphorylation sites\n",
    "\n",
    "\n",
    "For input sequences, we also consider it in two conditions:\n",
    "\n",
    "- all capital\n",
    "- contains lower cases indicating phosphorylation status"
   ]
  },
  {
   "cell_type": "markdown",
   "metadata": {},
   "source": [
    "## Quick start"
   ]
  },
  {
   "cell_type": "markdown",
   "metadata": {},
   "source": [
    "### Site scoring"
   ]
  },
  {
   "cell_type": "markdown",
   "metadata": {},
   "source": [
    "CDDM, all capital"
   ]
  },
  {
   "cell_type": "code",
   "execution_count": null,
   "metadata": {},
   "outputs": [
    {
     "name": "stdout",
     "output_type": "stream",
     "text": [
      "considering string: ['-7A', '-6A', '-5A', '-4A', '-3A', '-2A', '-1A', '0S', '1G', '2A', '3G', '4S', '5D', '6N']\n"
     ]
    },
    {
     "data": {
      "text/plain": [
       "GCN2      4.556\n",
       "MPSK1     4.425\n",
       "MEKK2     4.253\n",
       "WNK3      4.213\n",
       "WNK1      4.064\n",
       "          ...  \n",
       "PDK1    -25.077\n",
       "PDHK3   -25.346\n",
       "CLK2    -27.251\n",
       "ROR2    -27.582\n",
       "DDR1    -53.581\n",
       "Length: 328, dtype: float64"
      ]
     },
     "execution_count": null,
     "metadata": {},
     "output_type": "execute_result"
    }
   ],
   "source": [
    "predict_kinase('AAAAAAASGAGSDN',**Params(\"CDDM_upper\"))"
   ]
  },
  {
   "cell_type": "markdown",
   "metadata": {},
   "source": [
    "CDDM, with lower case indicating phosphorylation status"
   ]
  },
  {
   "cell_type": "code",
   "execution_count": null,
   "metadata": {},
   "outputs": [
    {
     "name": "stdout",
     "output_type": "stream",
     "text": [
      "considering string: ['-7A', '-6A', '-5A', '-4A', '-3A', '-2A', '-1A', '0s', '1G', '2G', '3A', '4G', '5s', '6D', '7N']\n"
     ]
    },
    {
     "data": {
      "text/plain": [
       "ROR1       8.355\n",
       "WNK1       4.907\n",
       "WNK2       4.782\n",
       "ERK5       4.466\n",
       "RIPK2      4.045\n",
       "           ...  \n",
       "DDR1     -29.393\n",
       "TNNI3K   -29.884\n",
       "CHAK1    -31.775\n",
       "VRK1     -45.287\n",
       "BRAF     -49.403\n",
       "Length: 328, dtype: float64"
      ]
     },
     "execution_count": null,
     "metadata": {},
     "output_type": "execute_result"
    }
   ],
   "source": [
    "predict_kinase('AAAAAAAsGGAGsDN',**Params(\"CDDM\"))"
   ]
  },
  {
   "cell_type": "markdown",
   "metadata": {},
   "source": [
    "PSPA, with lower case indicating phosphorylation status"
   ]
  },
  {
   "cell_type": "code",
   "execution_count": null,
   "metadata": {},
   "outputs": [
    {
     "name": "stdout",
     "output_type": "stream",
     "text": [
      "considering string: ['-5A', '-4E', '-3E', '-2K', '-1E', '0y', '1H', '2s', '3E', '4G', '5G']\n"
     ]
    },
    {
     "data": {
      "text/plain": [
       "kinase\n",
       "EGFR          4.013\n",
       "FGFR4         3.568\n",
       "ZAP70         3.412\n",
       "CSK           3.241\n",
       "SYK           3.209\n",
       "              ...  \n",
       "JAK1         -3.837\n",
       "DDR2         -4.421\n",
       "TNK2         -4.534\n",
       "TNNI3K_TYR   -4.651\n",
       "TNK1         -5.320\n",
       "Length: 93, dtype: float64"
      ]
     },
     "execution_count": null,
     "metadata": {},
     "output_type": "execute_result"
    }
   ],
   "source": [
    "predict_kinase('AEEKEyHsEGG',**Params(\"PSPA\"))"
   ]
  },
  {
   "cell_type": "markdown",
   "metadata": {},
   "source": [
    "To replicate the results from The Kinase Library (PSPA)"
   ]
  },
  {
   "cell_type": "markdown",
   "metadata": {},
   "source": [
    "Check this link: [The Kinase Library](https://kinase-library.mit.edu/site?s=AEEKEy*HSEGG&pp=false&scp=true), and use log2(score) to rank, it shows same results with the below (with slight differences due to rounding)."
   ]
  },
  {
   "cell_type": "code",
   "execution_count": null,
   "metadata": {},
   "outputs": [
    {
     "name": "stdout",
     "output_type": "stream",
     "text": [
      "considering string: ['-5A', '-4E', '-3E', '-2K', '-1E', '0y', '1H', '2S', '3E', '4G', '5G']\n"
     ]
    },
    {
     "data": {
      "text/plain": [
       "kinase\n",
       "EGFR     3.181\n",
       "FGFR4    2.390\n",
       "CSK      2.308\n",
       "ZAP70    2.068\n",
       "SYK      1.998\n",
       "         ...  \n",
       "EPHA1   -3.501\n",
       "FES     -3.699\n",
       "TNK1    -4.269\n",
       "TNK2    -4.577\n",
       "DDR2    -4.920\n",
       "Length: 93, dtype: float64"
      ]
     },
     "execution_count": null,
     "metadata": {},
     "output_type": "execute_result"
    }
   ],
   "source": [
    "out = predict_kinase('AEEKEyHSEGG',**Params(\"PSPA\"))\n",
    "out"
   ]
  },
  {
   "cell_type": "markdown",
   "metadata": {},
   "source": [
    "- So far [The kinase Library](https://kinase-library.phosphosite.org) considers all ***tyr sequences*** in capital regardless of whether or not they contain lower cases, which is a small bug and should be fixed soon.\n",
    "- Kinase with \"_TYR\" indicates it is a dual specificity kinase tested in PSPA tyrosine setting, which has not been included in kinase-library yet."
   ]
  },
  {
   "cell_type": "markdown",
   "metadata": {},
   "source": [
    "We can also calculate the percentile score using a referenced score sheet."
   ]
  },
  {
   "cell_type": "code",
   "execution_count": null,
   "metadata": {},
   "outputs": [],
   "source": [
    "# Percentile reference sheet\n",
    "y_pct = Data.get_pspa_tyr_pct()"
   ]
  },
  {
   "cell_type": "code",
   "execution_count": null,
   "metadata": {},
   "outputs": [
    {
     "name": "stdout",
     "output_type": "stream",
     "text": [
      "considering string: ['-5A', '-4E', '-3E', '-2K', '-1E', '0Y', '1H', '2S', '3E', '4G', '5G']\n"
     ]
    },
    {
     "data": {
      "text/html": [
       "<div>\n",
       "<style scoped>\n",
       "    .dataframe tbody tr th:only-of-type {\n",
       "        vertical-align: middle;\n",
       "    }\n",
       "\n",
       "    .dataframe tbody tr th {\n",
       "        vertical-align: top;\n",
       "    }\n",
       "\n",
       "    .dataframe thead th {\n",
       "        text-align: right;\n",
       "    }\n",
       "</style>\n",
       "<table border=\"1\" class=\"dataframe\">\n",
       "  <thead>\n",
       "    <tr style=\"text-align: right;\">\n",
       "      <th></th>\n",
       "      <th>log2(score)</th>\n",
       "      <th>percentile</th>\n",
       "    </tr>\n",
       "  </thead>\n",
       "  <tbody>\n",
       "    <tr>\n",
       "      <th>EGFR</th>\n",
       "      <td>3.181</td>\n",
       "      <td>96.787423</td>\n",
       "    </tr>\n",
       "    <tr>\n",
       "      <th>FGFR4</th>\n",
       "      <td>2.390</td>\n",
       "      <td>94.012303</td>\n",
       "    </tr>\n",
       "    <tr>\n",
       "      <th>CSK</th>\n",
       "      <td>2.308</td>\n",
       "      <td>95.201640</td>\n",
       "    </tr>\n",
       "    <tr>\n",
       "      <th>ZAP70</th>\n",
       "      <td>2.068</td>\n",
       "      <td>88.380041</td>\n",
       "    </tr>\n",
       "    <tr>\n",
       "      <th>SYK</th>\n",
       "      <td>1.998</td>\n",
       "      <td>85.522898</td>\n",
       "    </tr>\n",
       "    <tr>\n",
       "      <th>...</th>\n",
       "      <td>...</td>\n",
       "      <td>...</td>\n",
       "    </tr>\n",
       "    <tr>\n",
       "      <th>EPHA1</th>\n",
       "      <td>-3.501</td>\n",
       "      <td>12.139440</td>\n",
       "    </tr>\n",
       "    <tr>\n",
       "      <th>FES</th>\n",
       "      <td>-3.699</td>\n",
       "      <td>21.216678</td>\n",
       "    </tr>\n",
       "    <tr>\n",
       "      <th>TNK1</th>\n",
       "      <td>-4.269</td>\n",
       "      <td>5.481887</td>\n",
       "    </tr>\n",
       "    <tr>\n",
       "      <th>TNK2</th>\n",
       "      <td>-4.577</td>\n",
       "      <td>2.050581</td>\n",
       "    </tr>\n",
       "    <tr>\n",
       "      <th>DDR2</th>\n",
       "      <td>-4.920</td>\n",
       "      <td>10.403281</td>\n",
       "    </tr>\n",
       "  </tbody>\n",
       "</table>\n",
       "<p>93 rows × 2 columns</p>\n",
       "</div>"
      ],
      "text/plain": [
       "       log2(score)  percentile\n",
       "EGFR         3.181   96.787423\n",
       "FGFR4        2.390   94.012303\n",
       "CSK          2.308   95.201640\n",
       "ZAP70        2.068   88.380041\n",
       "SYK          1.998   85.522898\n",
       "...            ...         ...\n",
       "EPHA1       -3.501   12.139440\n",
       "FES         -3.699   21.216678\n",
       "TNK1        -4.269    5.481887\n",
       "TNK2        -4.577    2.050581\n",
       "DDR2        -4.920   10.403281\n",
       "\n",
       "[93 rows x 2 columns]"
      ]
     },
     "execution_count": null,
     "metadata": {},
     "output_type": "execute_result"
    }
   ],
   "source": [
    "get_pct('AEEKEyHSEGG',pct_ref = y_pct,**Params(\"PSPA_y\"))"
   ]
  },
  {
   "cell_type": "markdown",
   "metadata": {},
   "source": [
    "### Site scoring in a df"
   ]
  },
  {
   "cell_type": "markdown",
   "metadata": {},
   "source": [
    "Load your csv:"
   ]
  },
  {
   "cell_type": "code",
   "execution_count": null,
   "metadata": {},
   "outputs": [],
   "source": [
    "# df = pd.read_csv('your_file.csv')"
   ]
  },
  {
   "cell_type": "markdown",
   "metadata": {},
   "source": [
    "Or load a demo df"
   ]
  },
  {
   "cell_type": "code",
   "execution_count": null,
   "metadata": {},
   "outputs": [
    {
     "data": {
      "text/html": [
       "<div>\n",
       "<style scoped>\n",
       "    .dataframe tbody tr th:only-of-type {\n",
       "        vertical-align: middle;\n",
       "    }\n",
       "\n",
       "    .dataframe tbody tr th {\n",
       "        vertical-align: top;\n",
       "    }\n",
       "\n",
       "    .dataframe thead th {\n",
       "        text-align: right;\n",
       "    }\n",
       "</style>\n",
       "<table border=\"1\" class=\"dataframe\">\n",
       "  <thead>\n",
       "    <tr style=\"text-align: right;\">\n",
       "      <th></th>\n",
       "      <th>site_seq</th>\n",
       "      <th>gene_site</th>\n",
       "    </tr>\n",
       "  </thead>\n",
       "  <tbody>\n",
       "    <tr>\n",
       "      <th>0</th>\n",
       "      <td>VDDEKGDSNDDYDSA</td>\n",
       "      <td>A0A075B6Q4_S24</td>\n",
       "    </tr>\n",
       "    <tr>\n",
       "      <th>1</th>\n",
       "      <td>YDSAGLLSDEDCMSV</td>\n",
       "      <td>A0A075B6Q4_S35</td>\n",
       "    </tr>\n",
       "    <tr>\n",
       "      <th>2</th>\n",
       "      <td>IADHLFWSEETKSRF</td>\n",
       "      <td>A0A075B6Q4_S57</td>\n",
       "    </tr>\n",
       "    <tr>\n",
       "      <th>3</th>\n",
       "      <td>KSRFTEYSMTSSVMR</td>\n",
       "      <td>A0A075B6Q4_S68</td>\n",
       "    </tr>\n",
       "    <tr>\n",
       "      <th>4</th>\n",
       "      <td>FTEYSMTSSVMRRNE</td>\n",
       "      <td>A0A075B6Q4_S71</td>\n",
       "    </tr>\n",
       "  </tbody>\n",
       "</table>\n",
       "</div>"
      ],
      "text/plain": [
       "          site_seq       gene_site\n",
       "0  VDDEKGDSNDDYDSA  A0A075B6Q4_S24\n",
       "1  YDSAGLLSDEDCMSV  A0A075B6Q4_S35\n",
       "2  IADHLFWSEETKSRF  A0A075B6Q4_S57\n",
       "3  KSRFTEYSMTSSVMR  A0A075B6Q4_S68\n",
       "4  FTEYSMTSSVMRRNE  A0A075B6Q4_S71"
      ]
     },
     "execution_count": null,
     "metadata": {},
     "output_type": "execute_result"
    }
   ],
   "source": [
    "# Load a demo df with phosphorylation sites\n",
    "df = Data.get_ochoa_site().head()\n",
    "df.iloc[:,-2:]"
   ]
  },
  {
   "cell_type": "markdown",
   "metadata": {},
   "source": [
    "Set the column name and param to calculate"
   ]
  },
  {
   "cell_type": "markdown",
   "metadata": {},
   "source": [
    "Here we choose param_CDDM_upper, as the sequences in the demo df are all in capital. You can also choose other params."
   ]
  },
  {
   "cell_type": "code",
   "execution_count": null,
   "metadata": {},
   "outputs": [
    {
     "name": "stdout",
     "output_type": "stream",
     "text": [
      "input dataframe has a length 5\n",
      "Preprocessing\n",
      "Finish preprocessing\n",
      "Merging reference\n",
      "Finish merging\n"
     ]
    },
    {
     "data": {
      "text/html": [
       "<div>\n",
       "<style scoped>\n",
       "    .dataframe tbody tr th:only-of-type {\n",
       "        vertical-align: middle;\n",
       "    }\n",
       "\n",
       "    .dataframe tbody tr th {\n",
       "        vertical-align: top;\n",
       "    }\n",
       "\n",
       "    .dataframe thead th {\n",
       "        text-align: right;\n",
       "    }\n",
       "</style>\n",
       "<table border=\"1\" class=\"dataframe\">\n",
       "  <thead>\n",
       "    <tr style=\"text-align: right;\">\n",
       "      <th></th>\n",
       "      <th>SRC</th>\n",
       "      <th>EPHA3</th>\n",
       "      <th>FES</th>\n",
       "      <th>NTRK3</th>\n",
       "      <th>ALK</th>\n",
       "      <th>ABL1</th>\n",
       "      <th>FLT3</th>\n",
       "      <th>EPHA8</th>\n",
       "      <th>EPHB2</th>\n",
       "      <th>EPHB1</th>\n",
       "      <th>...</th>\n",
       "      <th>VRK1</th>\n",
       "      <th>PKMYT1</th>\n",
       "      <th>GRK3</th>\n",
       "      <th>CAMK1B</th>\n",
       "      <th>CDC7</th>\n",
       "      <th>SMMLCK</th>\n",
       "      <th>ROR1</th>\n",
       "      <th>GAK</th>\n",
       "      <th>MAST2</th>\n",
       "      <th>BRAF</th>\n",
       "    </tr>\n",
       "  </thead>\n",
       "  <tbody>\n",
       "    <tr>\n",
       "      <th>0</th>\n",
       "      <td>-2.440640</td>\n",
       "      <td>-0.818753</td>\n",
       "      <td>-1.663990</td>\n",
       "      <td>-0.738991</td>\n",
       "      <td>-2.047628</td>\n",
       "      <td>-3.602344</td>\n",
       "      <td>-3.200998</td>\n",
       "      <td>-0.935176</td>\n",
       "      <td>-1.388444</td>\n",
       "      <td>-1.859450</td>\n",
       "      <td>...</td>\n",
       "      <td>-17.103237</td>\n",
       "      <td>-113.698143</td>\n",
       "      <td>-16.848783</td>\n",
       "      <td>-41.520172</td>\n",
       "      <td>-41.646187</td>\n",
       "      <td>1.284159</td>\n",
       "      <td>-26.566362</td>\n",
       "      <td>-69.165062</td>\n",
       "      <td>-17.706400</td>\n",
       "      <td>-87.763214</td>\n",
       "    </tr>\n",
       "    <tr>\n",
       "      <th>1</th>\n",
       "      <td>-3.838486</td>\n",
       "      <td>-2.735969</td>\n",
       "      <td>-2.533986</td>\n",
       "      <td>-2.150399</td>\n",
       "      <td>-3.792498</td>\n",
       "      <td>-4.725527</td>\n",
       "      <td>-5.711791</td>\n",
       "      <td>-4.534240</td>\n",
       "      <td>-3.148449</td>\n",
       "      <td>-2.511518</td>\n",
       "      <td>...</td>\n",
       "      <td>-67.889053</td>\n",
       "      <td>-68.652641</td>\n",
       "      <td>-45.833855</td>\n",
       "      <td>-64.171600</td>\n",
       "      <td>-39.465572</td>\n",
       "      <td>-65.061722</td>\n",
       "      <td>-109.561707</td>\n",
       "      <td>-85.911224</td>\n",
       "      <td>-60.105064</td>\n",
       "      <td>-63.889122</td>\n",
       "    </tr>\n",
       "    <tr>\n",
       "      <th>2</th>\n",
       "      <td>-2.610423</td>\n",
       "      <td>-2.370090</td>\n",
       "      <td>-3.235637</td>\n",
       "      <td>-1.508413</td>\n",
       "      <td>-2.571347</td>\n",
       "      <td>-3.740941</td>\n",
       "      <td>-3.025596</td>\n",
       "      <td>-3.373504</td>\n",
       "      <td>-2.776297</td>\n",
       "      <td>-3.060740</td>\n",
       "      <td>...</td>\n",
       "      <td>-15.798462</td>\n",
       "      <td>-45.905319</td>\n",
       "      <td>-61.440742</td>\n",
       "      <td>-67.695694</td>\n",
       "      <td>-55.047962</td>\n",
       "      <td>-42.135216</td>\n",
       "      <td>-38.501572</td>\n",
       "      <td>-62.624382</td>\n",
       "      <td>-56.119389</td>\n",
       "      <td>-107.060989</td>\n",
       "    </tr>\n",
       "    <tr>\n",
       "      <th>3</th>\n",
       "      <td>-5.180541</td>\n",
       "      <td>-4.201880</td>\n",
       "      <td>-5.766463</td>\n",
       "      <td>-3.038421</td>\n",
       "      <td>-3.836897</td>\n",
       "      <td>-4.249900</td>\n",
       "      <td>-5.029885</td>\n",
       "      <td>-5.411311</td>\n",
       "      <td>-4.713308</td>\n",
       "      <td>-4.827825</td>\n",
       "      <td>...</td>\n",
       "      <td>-96.978317</td>\n",
       "      <td>-83.419777</td>\n",
       "      <td>-22.559393</td>\n",
       "      <td>-110.611588</td>\n",
       "      <td>-63.283070</td>\n",
       "      <td>-37.240440</td>\n",
       "      <td>-24.497492</td>\n",
       "      <td>-112.878151</td>\n",
       "      <td>-43.538158</td>\n",
       "      <td>-60.348518</td>\n",
       "    </tr>\n",
       "    <tr>\n",
       "      <th>4</th>\n",
       "      <td>-2.844254</td>\n",
       "      <td>-3.322700</td>\n",
       "      <td>-3.681745</td>\n",
       "      <td>-1.766435</td>\n",
       "      <td>-2.666579</td>\n",
       "      <td>-3.748774</td>\n",
       "      <td>-4.083619</td>\n",
       "      <td>-3.912834</td>\n",
       "      <td>-3.724181</td>\n",
       "      <td>-3.948160</td>\n",
       "      <td>...</td>\n",
       "      <td>-35.824612</td>\n",
       "      <td>-87.983566</td>\n",
       "      <td>-83.312317</td>\n",
       "      <td>-107.162407</td>\n",
       "      <td>-61.478374</td>\n",
       "      <td>-85.793571</td>\n",
       "      <td>-43.738819</td>\n",
       "      <td>-47.004211</td>\n",
       "      <td>-42.281624</td>\n",
       "      <td>-59.518513</td>\n",
       "    </tr>\n",
       "  </tbody>\n",
       "</table>\n",
       "<p>5 rows × 328 columns</p>\n",
       "</div>"
      ],
      "text/plain": [
       "        SRC     EPHA3       FES     NTRK3       ALK      ABL1      FLT3  \\\n",
       "0 -2.440640 -0.818753 -1.663990 -0.738991 -2.047628 -3.602344 -3.200998   \n",
       "1 -3.838486 -2.735969 -2.533986 -2.150399 -3.792498 -4.725527 -5.711791   \n",
       "2 -2.610423 -2.370090 -3.235637 -1.508413 -2.571347 -3.740941 -3.025596   \n",
       "3 -5.180541 -4.201880 -5.766463 -3.038421 -3.836897 -4.249900 -5.029885   \n",
       "4 -2.844254 -3.322700 -3.681745 -1.766435 -2.666579 -3.748774 -4.083619   \n",
       "\n",
       "      EPHA8     EPHB2     EPHB1  ...       VRK1      PKMYT1       GRK3  \\\n",
       "0 -0.935176 -1.388444 -1.859450  ... -17.103237 -113.698143 -16.848783   \n",
       "1 -4.534240 -3.148449 -2.511518  ... -67.889053  -68.652641 -45.833855   \n",
       "2 -3.373504 -2.776297 -3.060740  ... -15.798462  -45.905319 -61.440742   \n",
       "3 -5.411311 -4.713308 -4.827825  ... -96.978317  -83.419777 -22.559393   \n",
       "4 -3.912834 -3.724181 -3.948160  ... -35.824612  -87.983566 -83.312317   \n",
       "\n",
       "       CAMK1B       CDC7     SMMLCK        ROR1         GAK      MAST2  \\\n",
       "0  -41.520172 -41.646187   1.284159  -26.566362  -69.165062 -17.706400   \n",
       "1  -64.171600 -39.465572 -65.061722 -109.561707  -85.911224 -60.105064   \n",
       "2  -67.695694 -55.047962 -42.135216  -38.501572  -62.624382 -56.119389   \n",
       "3 -110.611588 -63.283070 -37.240440  -24.497492 -112.878151 -43.538158   \n",
       "4 -107.162407 -61.478374 -85.793571  -43.738819  -47.004211 -42.281624   \n",
       "\n",
       "         BRAF  \n",
       "0  -87.763214  \n",
       "1  -63.889122  \n",
       "2 -107.060989  \n",
       "3  -60.348518  \n",
       "4  -59.518513  \n",
       "\n",
       "[5 rows x 328 columns]"
      ]
     },
     "execution_count": null,
     "metadata": {},
     "output_type": "execute_result"
    }
   ],
   "source": [
    "results = predict_kinase_df(df,'site_seq',**Params(\"CDDM_upper\"))\n",
    "results"
   ]
  },
  {
   "cell_type": "code",
   "execution_count": null,
   "metadata": {},
   "outputs": [
    {
     "data": {
      "text/plain": [
       "TLK2        8.264621\n",
       "GCN2        8.101542\n",
       "TLK1        7.693897\n",
       "HRI         6.691402\n",
       "PLK3        6.579368\n",
       "             ...    \n",
       "NIK       -64.605148\n",
       "SRPK2     -67.300667\n",
       "GAK       -69.165062\n",
       "BRAF      -87.763214\n",
       "PKMYT1   -113.698143\n",
       "Name: 0, Length: 328, dtype: float32"
      ]
     },
     "execution_count": null,
     "metadata": {},
     "output_type": "execute_result"
    }
   ],
   "source": [
    "results.iloc[0].sort_values(ascending=False)"
   ]
  },
  {
   "cell_type": "markdown",
   "metadata": {},
   "source": [
    "## Dataset"
   ]
  },
  {
   "cell_type": "markdown",
   "metadata": {},
   "source": [
    "Besides calculating sequence scores, we also provides multiple datasets of phosphorylation sites."
   ]
  },
  {
   "cell_type": "markdown",
   "metadata": {},
   "source": [
    "### CPTAC pan-cancer phosphoproteomics"
   ]
  },
  {
   "cell_type": "code",
   "execution_count": null,
   "metadata": {},
   "outputs": [
    {
     "data": {
      "text/html": [
       "<div>\n",
       "<style scoped>\n",
       "    .dataframe tbody tr th:only-of-type {\n",
       "        vertical-align: middle;\n",
       "    }\n",
       "\n",
       "    .dataframe tbody tr th {\n",
       "        vertical-align: top;\n",
       "    }\n",
       "\n",
       "    .dataframe thead th {\n",
       "        text-align: right;\n",
       "    }\n",
       "</style>\n",
       "<table border=\"1\" class=\"dataframe\">\n",
       "  <thead>\n",
       "    <tr style=\"text-align: right;\">\n",
       "      <th></th>\n",
       "      <th>gene</th>\n",
       "      <th>site</th>\n",
       "      <th>site_seq</th>\n",
       "      <th>protein</th>\n",
       "      <th>gene_name</th>\n",
       "      <th>gene_site</th>\n",
       "      <th>protein_site</th>\n",
       "    </tr>\n",
       "  </thead>\n",
       "  <tbody>\n",
       "    <tr>\n",
       "      <th>0</th>\n",
       "      <td>ENSG00000003056.8</td>\n",
       "      <td>S267</td>\n",
       "      <td>DDQLGEESEERDDHL</td>\n",
       "      <td>ENSP00000000412.3</td>\n",
       "      <td>M6PR</td>\n",
       "      <td>M6PR_S267</td>\n",
       "      <td>ENSP00000000412_S267</td>\n",
       "    </tr>\n",
       "    <tr>\n",
       "      <th>1</th>\n",
       "      <td>ENSG00000003056.8</td>\n",
       "      <td>S267</td>\n",
       "      <td>DDQLGEESEERDDHL</td>\n",
       "      <td>ENSP00000440488.2</td>\n",
       "      <td>M6PR</td>\n",
       "      <td>M6PR_S267</td>\n",
       "      <td>ENSP00000440488_S267</td>\n",
       "    </tr>\n",
       "    <tr>\n",
       "      <th>2</th>\n",
       "      <td>ENSG00000048028.11</td>\n",
       "      <td>S1053</td>\n",
       "      <td>PPTIRPNSPYDLCSR</td>\n",
       "      <td>ENSP00000003302.4</td>\n",
       "      <td>USP28</td>\n",
       "      <td>USP28_S1053</td>\n",
       "      <td>ENSP00000003302_S1053</td>\n",
       "    </tr>\n",
       "  </tbody>\n",
       "</table>\n",
       "</div>"
      ],
      "text/plain": [
       "                 gene   site         site_seq            protein gene_name  \\\n",
       "0   ENSG00000003056.8   S267  DDQLGEESEERDDHL  ENSP00000000412.3      M6PR   \n",
       "1   ENSG00000003056.8   S267  DDQLGEESEERDDHL  ENSP00000440488.2      M6PR   \n",
       "2  ENSG00000048028.11  S1053  PPTIRPNSPYDLCSR  ENSP00000003302.4     USP28   \n",
       "\n",
       "     gene_site           protein_site  \n",
       "0    M6PR_S267   ENSP00000000412_S267  \n",
       "1    M6PR_S267   ENSP00000440488_S267  \n",
       "2  USP28_S1053  ENSP00000003302_S1053  "
      ]
     },
     "execution_count": null,
     "metadata": {},
     "output_type": "execute_result"
    }
   ],
   "source": [
    "df = Data.get_cptac_ensembl_site()\n",
    "df.head(3)"
   ]
  },
  {
   "cell_type": "markdown",
   "metadata": {},
   "source": [
    "### [Ochoa et al. human phosphoproteome](https://www.nature.com/articles/s41587-019-0344-3)"
   ]
  },
  {
   "cell_type": "code",
   "execution_count": null,
   "metadata": {},
   "outputs": [
    {
     "data": {
      "text/html": [
       "<div>\n",
       "<style scoped>\n",
       "    .dataframe tbody tr th:only-of-type {\n",
       "        vertical-align: middle;\n",
       "    }\n",
       "\n",
       "    .dataframe tbody tr th {\n",
       "        vertical-align: top;\n",
       "    }\n",
       "\n",
       "    .dataframe thead th {\n",
       "        text-align: right;\n",
       "    }\n",
       "</style>\n",
       "<table border=\"1\" class=\"dataframe\">\n",
       "  <thead>\n",
       "    <tr style=\"text-align: right;\">\n",
       "      <th></th>\n",
       "      <th>uniprot</th>\n",
       "      <th>position</th>\n",
       "      <th>residue</th>\n",
       "      <th>is_disopred</th>\n",
       "      <th>disopred_score</th>\n",
       "      <th>log10_hotspot_pval_min</th>\n",
       "      <th>isHotspot</th>\n",
       "      <th>uniprot_position</th>\n",
       "      <th>functional_score</th>\n",
       "      <th>current_uniprot</th>\n",
       "      <th>name</th>\n",
       "      <th>gene</th>\n",
       "      <th>Sequence</th>\n",
       "      <th>is_valid</th>\n",
       "      <th>site_seq</th>\n",
       "      <th>gene_site</th>\n",
       "    </tr>\n",
       "  </thead>\n",
       "  <tbody>\n",
       "    <tr>\n",
       "      <th>0</th>\n",
       "      <td>A0A075B6Q4</td>\n",
       "      <td>24</td>\n",
       "      <td>S</td>\n",
       "      <td>1.0</td>\n",
       "      <td>0.91</td>\n",
       "      <td>6.839384</td>\n",
       "      <td>1.0</td>\n",
       "      <td>A0A075B6Q4_24</td>\n",
       "      <td>0.149257</td>\n",
       "      <td>A0A075B6Q4</td>\n",
       "      <td>A0A075B6Q4_HUMAN</td>\n",
       "      <td>None</td>\n",
       "      <td>MDIQKSENEDDSEWEDVDDEKGDSNDDYDSAGLLSDEDCMSVPGKT...</td>\n",
       "      <td>True</td>\n",
       "      <td>VDDEKGDSNDDYDSA</td>\n",
       "      <td>A0A075B6Q4_S24</td>\n",
       "    </tr>\n",
       "    <tr>\n",
       "      <th>1</th>\n",
       "      <td>A0A075B6Q4</td>\n",
       "      <td>35</td>\n",
       "      <td>S</td>\n",
       "      <td>1.0</td>\n",
       "      <td>0.87</td>\n",
       "      <td>9.192622</td>\n",
       "      <td>0.0</td>\n",
       "      <td>A0A075B6Q4_35</td>\n",
       "      <td>0.136966</td>\n",
       "      <td>A0A075B6Q4</td>\n",
       "      <td>A0A075B6Q4_HUMAN</td>\n",
       "      <td>None</td>\n",
       "      <td>MDIQKSENEDDSEWEDVDDEKGDSNDDYDSAGLLSDEDCMSVPGKT...</td>\n",
       "      <td>True</td>\n",
       "      <td>YDSAGLLSDEDCMSV</td>\n",
       "      <td>A0A075B6Q4_S35</td>\n",
       "    </tr>\n",
       "    <tr>\n",
       "      <th>2</th>\n",
       "      <td>A0A075B6Q4</td>\n",
       "      <td>57</td>\n",
       "      <td>S</td>\n",
       "      <td>0.0</td>\n",
       "      <td>0.28</td>\n",
       "      <td>0.818834</td>\n",
       "      <td>0.0</td>\n",
       "      <td>A0A075B6Q4_57</td>\n",
       "      <td>0.125364</td>\n",
       "      <td>A0A075B6Q4</td>\n",
       "      <td>A0A075B6Q4_HUMAN</td>\n",
       "      <td>None</td>\n",
       "      <td>MDIQKSENEDDSEWEDVDDEKGDSNDDYDSAGLLSDEDCMSVPGKT...</td>\n",
       "      <td>True</td>\n",
       "      <td>IADHLFWSEETKSRF</td>\n",
       "      <td>A0A075B6Q4_S57</td>\n",
       "    </tr>\n",
       "  </tbody>\n",
       "</table>\n",
       "</div>"
      ],
      "text/plain": [
       "      uniprot  position residue  is_disopred  disopred_score  \\\n",
       "0  A0A075B6Q4        24       S          1.0            0.91   \n",
       "1  A0A075B6Q4        35       S          1.0            0.87   \n",
       "2  A0A075B6Q4        57       S          0.0            0.28   \n",
       "\n",
       "   log10_hotspot_pval_min  isHotspot uniprot_position  functional_score  \\\n",
       "0                6.839384        1.0    A0A075B6Q4_24          0.149257   \n",
       "1                9.192622        0.0    A0A075B6Q4_35          0.136966   \n",
       "2                0.818834        0.0    A0A075B6Q4_57          0.125364   \n",
       "\n",
       "  current_uniprot              name  gene  \\\n",
       "0      A0A075B6Q4  A0A075B6Q4_HUMAN  None   \n",
       "1      A0A075B6Q4  A0A075B6Q4_HUMAN  None   \n",
       "2      A0A075B6Q4  A0A075B6Q4_HUMAN  None   \n",
       "\n",
       "                                            Sequence  is_valid  \\\n",
       "0  MDIQKSENEDDSEWEDVDDEKGDSNDDYDSAGLLSDEDCMSVPGKT...      True   \n",
       "1  MDIQKSENEDDSEWEDVDDEKGDSNDDYDSAGLLSDEDCMSVPGKT...      True   \n",
       "2  MDIQKSENEDDSEWEDVDDEKGDSNDDYDSAGLLSDEDCMSVPGKT...      True   \n",
       "\n",
       "          site_seq       gene_site  \n",
       "0  VDDEKGDSNDDYDSA  A0A075B6Q4_S24  \n",
       "1  YDSAGLLSDEDCMSV  A0A075B6Q4_S35  \n",
       "2  IADHLFWSEETKSRF  A0A075B6Q4_S57  "
      ]
     },
     "execution_count": null,
     "metadata": {},
     "output_type": "execute_result"
    }
   ],
   "source": [
    "df = Data.get_ochoa_site()\n",
    "df.head(3)"
   ]
  },
  {
   "cell_type": "markdown",
   "metadata": {},
   "source": [
    "### PhosphoSitePlus human phosphorylation site"
   ]
  },
  {
   "cell_type": "code",
   "execution_count": null,
   "metadata": {},
   "outputs": [
    {
     "data": {
      "text/html": [
       "<div>\n",
       "<style scoped>\n",
       "    .dataframe tbody tr th:only-of-type {\n",
       "        vertical-align: middle;\n",
       "    }\n",
       "\n",
       "    .dataframe tbody tr th {\n",
       "        vertical-align: top;\n",
       "    }\n",
       "\n",
       "    .dataframe thead th {\n",
       "        text-align: right;\n",
       "    }\n",
       "</style>\n",
       "<table border=\"1\" class=\"dataframe\">\n",
       "  <thead>\n",
       "    <tr style=\"text-align: right;\">\n",
       "      <th></th>\n",
       "      <th>gene</th>\n",
       "      <th>protein</th>\n",
       "      <th>uniprot</th>\n",
       "      <th>site</th>\n",
       "      <th>gene_site</th>\n",
       "      <th>SITE_GRP_ID</th>\n",
       "      <th>species</th>\n",
       "      <th>site_seq</th>\n",
       "      <th>LT_LIT</th>\n",
       "      <th>MS_LIT</th>\n",
       "      <th>MS_CST</th>\n",
       "      <th>CST_CAT#</th>\n",
       "      <th>Ambiguous_Site</th>\n",
       "    </tr>\n",
       "  </thead>\n",
       "  <tbody>\n",
       "    <tr>\n",
       "      <th>0</th>\n",
       "      <td>YWHAB</td>\n",
       "      <td>14-3-3 beta</td>\n",
       "      <td>P31946</td>\n",
       "      <td>T2</td>\n",
       "      <td>YWHAB_T2</td>\n",
       "      <td>15718712</td>\n",
       "      <td>human</td>\n",
       "      <td>______MtMDksELV</td>\n",
       "      <td>NaN</td>\n",
       "      <td>3.0</td>\n",
       "      <td>1.0</td>\n",
       "      <td>None</td>\n",
       "      <td>0</td>\n",
       "    </tr>\n",
       "    <tr>\n",
       "      <th>1</th>\n",
       "      <td>YWHAB</td>\n",
       "      <td>14-3-3 beta</td>\n",
       "      <td>P31946</td>\n",
       "      <td>S6</td>\n",
       "      <td>YWHAB_S6</td>\n",
       "      <td>15718709</td>\n",
       "      <td>human</td>\n",
       "      <td>__MtMDksELVQkAk</td>\n",
       "      <td>NaN</td>\n",
       "      <td>8.0</td>\n",
       "      <td>NaN</td>\n",
       "      <td>None</td>\n",
       "      <td>0</td>\n",
       "    </tr>\n",
       "    <tr>\n",
       "      <th>2</th>\n",
       "      <td>YWHAB</td>\n",
       "      <td>14-3-3 beta</td>\n",
       "      <td>P31946</td>\n",
       "      <td>Y21</td>\n",
       "      <td>YWHAB_Y21</td>\n",
       "      <td>3426383</td>\n",
       "      <td>human</td>\n",
       "      <td>LAEQAERyDDMAAAM</td>\n",
       "      <td>NaN</td>\n",
       "      <td>NaN</td>\n",
       "      <td>4.0</td>\n",
       "      <td>None</td>\n",
       "      <td>0</td>\n",
       "    </tr>\n",
       "  </tbody>\n",
       "</table>\n",
       "</div>"
      ],
      "text/plain": [
       "    gene      protein uniprot site  gene_site  SITE_GRP_ID species  \\\n",
       "0  YWHAB  14-3-3 beta  P31946   T2   YWHAB_T2     15718712   human   \n",
       "1  YWHAB  14-3-3 beta  P31946   S6   YWHAB_S6     15718709   human   \n",
       "2  YWHAB  14-3-3 beta  P31946  Y21  YWHAB_Y21      3426383   human   \n",
       "\n",
       "          site_seq  LT_LIT  MS_LIT  MS_CST CST_CAT#  Ambiguous_Site  \n",
       "0  ______MtMDksELV     NaN     3.0     1.0     None               0  \n",
       "1  __MtMDksELVQkAk     NaN     8.0     NaN     None               0  \n",
       "2  LAEQAERyDDMAAAM     NaN     NaN     4.0     None               0  "
      ]
     },
     "execution_count": null,
     "metadata": {},
     "output_type": "execute_result"
    }
   ],
   "source": [
    "df = Data.get_psp_human_site()\n",
    "df.head(3)"
   ]
  },
  {
   "cell_type": "markdown",
   "metadata": {},
   "source": [
    "### Unique sites of combined Ochoa & PhosphoSitePlus"
   ]
  },
  {
   "cell_type": "code",
   "execution_count": null,
   "metadata": {},
   "outputs": [
    {
     "data": {
      "text/html": [
       "<div>\n",
       "<style scoped>\n",
       "    .dataframe tbody tr th:only-of-type {\n",
       "        vertical-align: middle;\n",
       "    }\n",
       "\n",
       "    .dataframe tbody tr th {\n",
       "        vertical-align: top;\n",
       "    }\n",
       "\n",
       "    .dataframe thead th {\n",
       "        text-align: right;\n",
       "    }\n",
       "</style>\n",
       "<table border=\"1\" class=\"dataframe\">\n",
       "  <thead>\n",
       "    <tr style=\"text-align: right;\">\n",
       "      <th></th>\n",
       "      <th>uniprot</th>\n",
       "      <th>gene</th>\n",
       "      <th>site</th>\n",
       "      <th>site_seq</th>\n",
       "      <th>source</th>\n",
       "      <th>AM_pathogenicity</th>\n",
       "      <th>CDDM_upper</th>\n",
       "      <th>CDDM_max_score</th>\n",
       "    </tr>\n",
       "  </thead>\n",
       "  <tbody>\n",
       "    <tr>\n",
       "      <th>0</th>\n",
       "      <td>A0A024R4G9</td>\n",
       "      <td>C19orf48</td>\n",
       "      <td>S20</td>\n",
       "      <td>ITGSRLLSMVPGPAR</td>\n",
       "      <td>psp</td>\n",
       "      <td>NaN</td>\n",
       "      <td>PRKX,AKT1,PKG1,P90RSK,HIPK4,AKT3,HIPK1,PKACB,H...</td>\n",
       "      <td>2.407041</td>\n",
       "    </tr>\n",
       "    <tr>\n",
       "      <th>1</th>\n",
       "      <td>A0A075B6Q4</td>\n",
       "      <td>None</td>\n",
       "      <td>S24</td>\n",
       "      <td>VDDEKGDSNDDYDSA</td>\n",
       "      <td>ochoa</td>\n",
       "      <td>NaN</td>\n",
       "      <td>CK2A2,CK2A1,GRK7,GRK5,CK1G1,CK1A,IKKA,CK1G2,CA...</td>\n",
       "      <td>2.295654</td>\n",
       "    </tr>\n",
       "    <tr>\n",
       "      <th>2</th>\n",
       "      <td>A0A075B6Q4</td>\n",
       "      <td>None</td>\n",
       "      <td>S35</td>\n",
       "      <td>YDSAGLLSDEDCMSV</td>\n",
       "      <td>ochoa</td>\n",
       "      <td>NaN</td>\n",
       "      <td>CK2A2,CK2A1,IKKA,ATM,IKKB,CAMK1D,MARK2,GRK7,IK...</td>\n",
       "      <td>2.488683</td>\n",
       "    </tr>\n",
       "  </tbody>\n",
       "</table>\n",
       "</div>"
      ],
      "text/plain": [
       "      uniprot      gene site         site_seq source  AM_pathogenicity  \\\n",
       "0  A0A024R4G9  C19orf48  S20  ITGSRLLSMVPGPAR    psp               NaN   \n",
       "1  A0A075B6Q4      None  S24  VDDEKGDSNDDYDSA  ochoa               NaN   \n",
       "2  A0A075B6Q4      None  S35  YDSAGLLSDEDCMSV  ochoa               NaN   \n",
       "\n",
       "                                          CDDM_upper  CDDM_max_score  \n",
       "0  PRKX,AKT1,PKG1,P90RSK,HIPK4,AKT3,HIPK1,PKACB,H...        2.407041  \n",
       "1  CK2A2,CK2A1,GRK7,GRK5,CK1G1,CK1A,IKKA,CK1G2,CA...        2.295654  \n",
       "2  CK2A2,CK2A1,IKKA,ATM,IKKB,CAMK1D,MARK2,GRK7,IK...        2.488683  "
      ]
     },
     "execution_count": null,
     "metadata": {},
     "output_type": "execute_result"
    }
   ],
   "source": [
    "df = Data.get_combine_site_psp_ochoa()\n",
    "df.head(3)"
   ]
  },
  {
   "cell_type": "markdown",
   "metadata": {},
   "source": [
    "## Phosphorylation site sequence example"
   ]
  },
  {
   "cell_type": "markdown",
   "metadata": {},
   "source": [
    "***All capital - 15 length (-7 to +7)***"
   ]
  },
  {
   "cell_type": "markdown",
   "metadata": {},
   "source": [
    "- QSEEEKLSPSPTTED\n",
    "- TLQHVPDYRQNVYIP\n",
    "- TMGLSARyGPQFTLQ"
   ]
  },
  {
   "cell_type": "markdown",
   "metadata": {},
   "source": [
    "***All capital - 10 length (-5 to +4)***"
   ]
  },
  {
   "cell_type": "markdown",
   "metadata": {},
   "source": [
    "- SRDPHYQDPH\n",
    "- LDNPDyQQDF\n",
    "- AAAAAsGGAG"
   ]
  },
  {
   "cell_type": "markdown",
   "metadata": {},
   "source": [
    "***With lowercase - (-7 to +7)***"
   ]
  },
  {
   "cell_type": "markdown",
   "metadata": {},
   "source": [
    "- QsEEEKLsPsPTTED\n",
    "- TLQHVPDyRQNVYIP\n",
    "- TMGLsARyGPQFTLQ"
   ]
  },
  {
   "cell_type": "markdown",
   "metadata": {},
   "source": [
    "***With lowercase - (-5 to +4)***"
   ]
  },
  {
   "cell_type": "markdown",
   "metadata": {},
   "source": [
    "- sRDPHyQDPH\n",
    "- LDNPDyQQDF\n",
    "- AAAAAsGGAG"
   ]
  }
 ],
 "metadata": {
  "kernelspec": {
   "display_name": "python3",
   "language": "python",
   "name": "python3"
  },
  "widgets": {
   "application/vnd.jupyter.widget-state+json": {
    "state": {},
    "version_major": 2,
    "version_minor": 0
   }
  }
 },
 "nbformat": 4,
 "nbformat_minor": 4
}
