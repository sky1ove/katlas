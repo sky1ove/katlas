{
 "cells": [
  {
   "cell_type": "markdown",
   "id": "7c37b737-6a08-441f-983d-25d56fb8fd15",
   "metadata": {},
   "source": [
    "# Alignment"
   ]
  },
  {
   "cell_type": "markdown",
   "id": "f30cd582-069a-47f7-89cf-e97ec47e296f",
   "metadata": {},
   "source": [
    "## Setup"
   ]
  },
  {
   "cell_type": "code",
   "execution_count": null,
   "id": "e12565a1-7bdb-4bbb-9bf3-0a816881ebbd",
   "metadata": {},
   "outputs": [],
   "source": [
    "#| default_exp align"
   ]
  },
  {
   "cell_type": "code",
   "execution_count": null,
   "id": "84e0820b-8816-4d01-bff1-57067b15d837",
   "metadata": {},
   "outputs": [],
   "source": [
    "#| export\n",
    "from Bio.Seq import Seq\n",
    "from Bio.SeqRecord import SeqRecord\n",
    "from Bio import SeqIO, AlignIO\n",
    "\n",
    "import subprocess\n",
    "from pathlib import Path\n",
    "import pandas as pd"
   ]
  },
  {
   "cell_type": "markdown",
   "id": "49d33ac4-6785-4f52-acce-0e79bccbda5b",
   "metadata": {},
   "source": [
    "## Alignment"
   ]
  },
  {
   "cell_type": "code",
   "execution_count": null,
   "id": "e3ea4eaa-b104-4974-865d-18b3a7950ab9",
   "metadata": {},
   "outputs": [],
   "source": [
    "#| export\n",
    "def get_fasta(df,seq_col='kd_seq',id_col='kd_ID',path='out.fasta'):\n",
    "    \"Generate fasta file from sequences.\"\n",
    "    records = [\n",
    "        SeqRecord(Seq(str(row[seq_col])), id=str(row[id_col]), description=\"\")\n",
    "        for _, row in df.iterrows()\n",
    "    ]\n",
    "    SeqIO.write(records, path, \"fasta\")\n",
    "    print(len(records))"
   ]
  },
  {
   "cell_type": "markdown",
   "id": "63f37ed7-02d6-47dd-b45e-11e4ebe3d06f",
   "metadata": {},
   "source": [
    "```python\n",
    "get_fasta(kd,seq_col='kd_seq',id_col='kd_ID',path='raw/kinase_domains.fasta')\n",
    "```"
   ]
  },
  {
   "cell_type": "markdown",
   "id": "4613c930-a2e6-48fd-a162-52c8cff1ee38",
   "metadata": {},
   "source": [
    "To run clustalo alignment, can run either through terminal or the function"
   ]
  },
  {
   "cell_type": "markdown",
   "id": "caf4593e-2af3-4c0c-9c54-e0ea03c925b7",
   "metadata": {},
   "source": [
    "```bash\n",
    "sudo apt-get update\n",
    "sudo apt-get install clustalo\n",
    "clustalo -i kinase_domains.fasta -o kinase_domains.aln --force --outfmt=clu\n",
    "```"
   ]
  },
  {
   "cell_type": "code",
   "execution_count": null,
   "id": "3a38920a-54c5-4e49-b952-8fdddfcf3a8d",
   "metadata": {},
   "outputs": [],
   "source": [
    "#| export\n",
    "def run_clustalo(input_fasta,  # .fasta fname\n",
    "                 output_aln, # .aln output fname\n",
    "                 outfmt=\"clu\"):\n",
    "    \"Run Clustal Omega to perform multiple sequence alignment.\"\n",
    "    # if the output directory does not exist, create one\n",
    "    output_aln = Path(output_aln)\n",
    "    output_aln.parent.mkdir(parents=True, exist_ok=True)\n",
    "\n",
    "    # run clustalo\n",
    "    subprocess.run([\n",
    "        \"clustalo\", \"-i\", str(input_fasta),\n",
    "        \"-o\", str(output_aln),\n",
    "        \"--force\", \"--outfmt=clu\"\n",
    "    ], check=True)"
   ]
  },
  {
   "cell_type": "markdown",
   "id": "90928eee-f728-49f6-b8bc-e7f29ebcfd6e",
   "metadata": {},
   "source": [
    "```python\n",
    "run_clustalo(\"kinase_domains.fasta\", \"raw/kinase_domains.aln\")\n",
    "```"
   ]
  },
  {
   "cell_type": "code",
   "execution_count": null,
   "id": "7ae34c5c-295e-4db1-9cf6-bf6de2ed3de0",
   "metadata": {},
   "outputs": [],
   "source": [
    "#| export\n",
    "def aln2df(fname):\n",
    "    alignment = AlignIO.read(fname, \"clustal\")\n",
    "    alignment_array = [list(str(record.seq)) for record in alignment]\n",
    "    ids = [record.id for record in alignment]\n",
    "    df = pd.DataFrame(alignment_array, index=ids)\n",
    "    df.columns = df.columns+1\n",
    "    return df"
   ]
  },
  {
   "cell_type": "markdown",
   "id": "63263fe9-9eda-4e87-8bd0-8227b1f10e4c",
   "metadata": {},
   "source": [
    "```python\n",
    "df = aln2df(\"raw/kinase_domains.aln\")\n",
    "```"
   ]
  },
  {
   "cell_type": "code",
   "execution_count": null,
   "id": "7b1233db-2602-4f72-813a-43bcfcd6d108",
   "metadata": {},
   "outputs": [],
   "source": [
    "#| export\n",
    "def get_aln_freq(df):\n",
    "    \"Get frequency of each amino acid across each position from the aln2df output.\"\n",
    "    counts_df = df.apply(lambda col: col.value_counts(), axis=0).fillna(0)\n",
    "    return counts_df.div(counts_df.sum(axis=0), axis=1)"
   ]
  },
  {
   "cell_type": "markdown",
   "id": "cf7abc41-dfef-4aa0-b127-824d7113d1de",
   "metadata": {},
   "source": [
    "```python\n",
    "freq_df = get_aln_freq(df)\n",
    "```"
   ]
  },
  {
   "cell_type": "markdown",
   "id": "c249dfe3-32c0-4859-9d59-939727b44ecd",
   "metadata": {},
   "source": [
    "## End"
   ]
  },
  {
   "cell_type": "code",
   "execution_count": null,
   "id": "d8a3a124-23e7-4e64-b693-da0276deb6c5",
   "metadata": {},
   "outputs": [],
   "source": [
    "#| hide\n",
    "import nbdev; nbdev.nbdev_export()"
   ]
  },
  {
   "cell_type": "code",
   "execution_count": null,
   "id": "e11b71cf-ff6e-48df-8af0-0847ab9d12af",
   "metadata": {},
   "outputs": [],
   "source": []
  }
 ],
 "metadata": {
  "kernelspec": {
   "display_name": "python3",
   "language": "python",
   "name": "python3"
  },
  "widgets": {
   "application/vnd.jupyter.widget-state+json": {
    "state": {},
    "version_major": 2,
    "version_minor": 0
   }
  }
 },
 "nbformat": 4,
 "nbformat_minor": 5
}
