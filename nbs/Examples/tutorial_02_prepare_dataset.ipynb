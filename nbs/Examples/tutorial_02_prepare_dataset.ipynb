{
 "cells": [
  {
   "cell_type": "markdown",
   "id": "5068076b-85fa-45d7-b1c3-d6b2059a5882",
   "metadata": {},
   "source": [
    "# Data processing"
   ]
  },
  {
   "cell_type": "code",
   "execution_count": null,
   "id": "3311b926-9645-4851-94f8-bfab12bc971d",
   "metadata": {},
   "outputs": [],
   "source": [
    "from katlas.core import *\n",
    "import pandas as pd"
   ]
  },
  {
   "cell_type": "markdown",
   "id": "fe058462-da04-4475-a053-d1b7bae96c64",
   "metadata": {},
   "source": [
    "## Phosphorylate entire protein sequence"
   ]
  },
  {
   "cell_type": "code",
   "execution_count": null,
   "id": "0c216e31-1500-4f98-a5b4-d63938b432fc",
   "metadata": {},
   "outputs": [],
   "source": [
    "df_group=Data.get_ks_dataset()"
   ]
  },
  {
   "cell_type": "code",
   "execution_count": null,
   "id": "e8510e6c-368f-48b6-9196-4eeb8e6e9d4e",
   "metadata": {},
   "outputs": [
    {
     "data": {
      "text/html": [
       "<div>\n",
       "<style scoped>\n",
       "    .dataframe tbody tr th:only-of-type {\n",
       "        vertical-align: middle;\n",
       "    }\n",
       "\n",
       "    .dataframe tbody tr th {\n",
       "        vertical-align: top;\n",
       "    }\n",
       "\n",
       "    .dataframe thead th {\n",
       "        text-align: right;\n",
       "    }\n",
       "</style>\n",
       "<table border=\"1\" class=\"dataframe\">\n",
       "  <thead>\n",
       "    <tr style=\"text-align: right;\">\n",
       "      <th></th>\n",
       "      <th>kin_sub_site</th>\n",
       "      <th>kinase_uniprot</th>\n",
       "      <th>substrate_uniprot</th>\n",
       "      <th>site</th>\n",
       "      <th>source</th>\n",
       "      <th>substrate_genes</th>\n",
       "      <th>substrate_phosphoseq</th>\n",
       "      <th>position</th>\n",
       "      <th>site_seq</th>\n",
       "      <th>sub_site</th>\n",
       "      <th>substrate_sequence</th>\n",
       "    </tr>\n",
       "  </thead>\n",
       "  <tbody>\n",
       "    <tr>\n",
       "      <th>0</th>\n",
       "      <td>O00141_A4FU28_S140</td>\n",
       "      <td>O00141</td>\n",
       "      <td>A4FU28</td>\n",
       "      <td>S140</td>\n",
       "      <td>Sugiyama</td>\n",
       "      <td>CTAGE9</td>\n",
       "      <td>MEEPGATPQPYLGLVLEELGRVVAALPESMRPDENPYGFPSELVVC...</td>\n",
       "      <td>140</td>\n",
       "      <td>AAAEEARSLEATCEKLSRsNsELEDEILCLEKDLKEEKSKH</td>\n",
       "      <td>A4FU28_S140</td>\n",
       "      <td>MEEPGATPQPYLGLVLEELGRVVAALPESMRPDENPYGFPSELVVC...</td>\n",
       "    </tr>\n",
       "    <tr>\n",
       "      <th>1</th>\n",
       "      <td>O00141_O00141_S252</td>\n",
       "      <td>O00141</td>\n",
       "      <td>O00141</td>\n",
       "      <td>S252</td>\n",
       "      <td>Sugiyama</td>\n",
       "      <td>SGK1 SGK</td>\n",
       "      <td>MTVKTEAAKGTLTYSRMRGMVAILIAFMKQRRMGLNDFIQKIANNS...</td>\n",
       "      <td>252</td>\n",
       "      <td>SQGHIVLTDFGLCKENIEHNsTtstFCGtPEyLAPEVLHKQ</td>\n",
       "      <td>O00141_S252</td>\n",
       "      <td>MTVKTEAAKGTLTYSRMRGMVAILIAFMKQRRMGLNDFIQKIANNS...</td>\n",
       "    </tr>\n",
       "    <tr>\n",
       "      <th>2</th>\n",
       "      <td>O00141_O00141_S255</td>\n",
       "      <td>O00141</td>\n",
       "      <td>O00141</td>\n",
       "      <td>S255</td>\n",
       "      <td>Sugiyama</td>\n",
       "      <td>SGK1 SGK</td>\n",
       "      <td>MTVKTEAAKGTLTYSRMRGMVAILIAFMKQRRMGLNDFIQKIANNS...</td>\n",
       "      <td>255</td>\n",
       "      <td>HIVLTDFGLCKENIEHNsTtstFCGtPEyLAPEVLHKQPYD</td>\n",
       "      <td>O00141_S255</td>\n",
       "      <td>MTVKTEAAKGTLTYSRMRGMVAILIAFMKQRRMGLNDFIQKIANNS...</td>\n",
       "    </tr>\n",
       "    <tr>\n",
       "      <th>3</th>\n",
       "      <td>O00141_O00141_S397</td>\n",
       "      <td>O00141</td>\n",
       "      <td>O00141</td>\n",
       "      <td>S397</td>\n",
       "      <td>Sugiyama</td>\n",
       "      <td>SGK1 SGK</td>\n",
       "      <td>MTVKTEAAKGTLTYSRMRGMVAILIAFMKQRRMGLNDFIQKIANNS...</td>\n",
       "      <td>397</td>\n",
       "      <td>sGPNDLRHFDPEFTEEPVPNsIGKsPDsVLVTAsVKEAAEA</td>\n",
       "      <td>O00141_S397</td>\n",
       "      <td>MTVKTEAAKGTLTYSRMRGMVAILIAFMKQRRMGLNDFIQKIANNS...</td>\n",
       "    </tr>\n",
       "    <tr>\n",
       "      <th>4</th>\n",
       "      <td>O00141_O00141_S404</td>\n",
       "      <td>O00141</td>\n",
       "      <td>O00141</td>\n",
       "      <td>S404</td>\n",
       "      <td>Sugiyama</td>\n",
       "      <td>SGK1 SGK</td>\n",
       "      <td>MTVKTEAAKGTLTYSRMRGMVAILIAFMKQRRMGLNDFIQKIANNS...</td>\n",
       "      <td>404</td>\n",
       "      <td>HFDPEFTEEPVPNsIGKsPDsVLVTAsVKEAAEAFLGFsYA</td>\n",
       "      <td>O00141_S404</td>\n",
       "      <td>MTVKTEAAKGTLTYSRMRGMVAILIAFMKQRRMGLNDFIQKIANNS...</td>\n",
       "    </tr>\n",
       "  </tbody>\n",
       "</table>\n",
       "</div>"
      ],
      "text/plain": [
       "         kin_sub_site kinase_uniprot substrate_uniprot  site    source  \\\n",
       "0  O00141_A4FU28_S140         O00141            A4FU28  S140  Sugiyama   \n",
       "1  O00141_O00141_S252         O00141            O00141  S252  Sugiyama   \n",
       "2  O00141_O00141_S255         O00141            O00141  S255  Sugiyama   \n",
       "3  O00141_O00141_S397         O00141            O00141  S397  Sugiyama   \n",
       "4  O00141_O00141_S404         O00141            O00141  S404  Sugiyama   \n",
       "\n",
       "  substrate_genes                               substrate_phosphoseq  \\\n",
       "0          CTAGE9  MEEPGATPQPYLGLVLEELGRVVAALPESMRPDENPYGFPSELVVC...   \n",
       "1        SGK1 SGK  MTVKTEAAKGTLTYSRMRGMVAILIAFMKQRRMGLNDFIQKIANNS...   \n",
       "2        SGK1 SGK  MTVKTEAAKGTLTYSRMRGMVAILIAFMKQRRMGLNDFIQKIANNS...   \n",
       "3        SGK1 SGK  MTVKTEAAKGTLTYSRMRGMVAILIAFMKQRRMGLNDFIQKIANNS...   \n",
       "4        SGK1 SGK  MTVKTEAAKGTLTYSRMRGMVAILIAFMKQRRMGLNDFIQKIANNS...   \n",
       "\n",
       "   position                                   site_seq     sub_site  \\\n",
       "0       140  AAAEEARSLEATCEKLSRsNsELEDEILCLEKDLKEEKSKH  A4FU28_S140   \n",
       "1       252  SQGHIVLTDFGLCKENIEHNsTtstFCGtPEyLAPEVLHKQ  O00141_S252   \n",
       "2       255  HIVLTDFGLCKENIEHNsTtstFCGtPEyLAPEVLHKQPYD  O00141_S255   \n",
       "3       397  sGPNDLRHFDPEFTEEPVPNsIGKsPDsVLVTAsVKEAAEA  O00141_S397   \n",
       "4       404  HFDPEFTEEPVPNsIGKsPDsVLVTAsVKEAAEAFLGFsYA  O00141_S404   \n",
       "\n",
       "                                  substrate_sequence  \n",
       "0  MEEPGATPQPYLGLVLEELGRVVAALPESMRPDENPYGFPSELVVC...  \n",
       "1  MTVKTEAAKGTLTYSRMRGMVAILIAFMKQRRMGLNDFIQKIANNS...  \n",
       "2  MTVKTEAAKGTLTYSRMRGMVAILIAFMKQRRMGLNDFIQKIANNS...  \n",
       "3  MTVKTEAAKGTLTYSRMRGMVAILIAFMKQRRMGLNDFIQKIANNS...  \n",
       "4  MTVKTEAAKGTLTYSRMRGMVAILIAFMKQRRMGLNDFIQKIANNS...  "
      ]
     },
     "execution_count": null,
     "metadata": {},
     "output_type": "execute_result"
    }
   ],
   "source": [
    "df_group.head()"
   ]
  },
  {
   "cell_type": "code",
   "execution_count": null,
   "id": "e7233ad5-3c0f-468d-9b26-30d3cb7112f4",
   "metadata": {},
   "outputs": [
    {
     "data": {
      "text/plain": [
       "\u001b[0;31mSignature:\u001b[0m\n",
       "\u001b[0mphosphorylate_seq_df\u001b[0m\u001b[0;34m(\u001b[0m\u001b[0;34m\u001b[0m\n",
       "\u001b[0;34m\u001b[0m    \u001b[0mdf\u001b[0m\u001b[0;34m,\u001b[0m\u001b[0;34m\u001b[0m\n",
       "\u001b[0;34m\u001b[0m    \u001b[0mid_col\u001b[0m\u001b[0;34m=\u001b[0m\u001b[0;34m'substrate_uniprot'\u001b[0m\u001b[0;34m,\u001b[0m\u001b[0;34m\u001b[0m\n",
       "\u001b[0;34m\u001b[0m    \u001b[0msite_info_col\u001b[0m\u001b[0;34m=\u001b[0m\u001b[0;34m'site'\u001b[0m\u001b[0;34m,\u001b[0m\u001b[0;34m\u001b[0m\n",
       "\u001b[0;34m\u001b[0m    \u001b[0msub_seq_col\u001b[0m\u001b[0;34m=\u001b[0m\u001b[0;34m'substrate_sequence'\u001b[0m\u001b[0;34m,\u001b[0m\u001b[0;34m\u001b[0m\n",
       "\u001b[0;34m\u001b[0m\u001b[0;34m)\u001b[0m\u001b[0;34m\u001b[0m\u001b[0;34m\u001b[0m\u001b[0m\n",
       "\u001b[0;31mDocstring:\u001b[0m Phosphorylate whole sequence based on phosphosites in a dataframe\n",
       "\u001b[0;31mFile:\u001b[0m      ~/katlas/katlas/core.py\n",
       "\u001b[0;31mType:\u001b[0m      function"
      ]
     },
     "metadata": {},
     "output_type": "display_data"
    }
   ],
   "source": [
    "phosphorylate_seq_df?"
   ]
  },
  {
   "cell_type": "code",
   "execution_count": null,
   "id": "0eb6065f-ab2f-4b38-b321-20c2485ac8fe",
   "metadata": {},
   "outputs": [
    {
     "data": {
      "text/html": [
       "<div>\n",
       "<style scoped>\n",
       "    .dataframe tbody tr th:only-of-type {\n",
       "        vertical-align: middle;\n",
       "    }\n",
       "\n",
       "    .dataframe tbody tr th {\n",
       "        vertical-align: top;\n",
       "    }\n",
       "\n",
       "    .dataframe thead th {\n",
       "        text-align: right;\n",
       "    }\n",
       "</style>\n",
       "<table border=\"1\" class=\"dataframe\">\n",
       "  <thead>\n",
       "    <tr style=\"text-align: right;\">\n",
       "      <th></th>\n",
       "      <th>substrate_uniprot</th>\n",
       "      <th>site</th>\n",
       "      <th>substrate_sequence</th>\n",
       "      <th>substrate_phosphoseq</th>\n",
       "    </tr>\n",
       "  </thead>\n",
       "  <tbody>\n",
       "    <tr>\n",
       "      <th>0</th>\n",
       "      <td>A0A2R8Y4L2</td>\n",
       "      <td>[S95, S22, T25, S6, S158]</td>\n",
       "      <td>MSKSESPKEPEQLRKLFIGGLSFETTDESLRSHFEQWGTLTDCVVM...</td>\n",
       "      <td>MSKSEsPKEPEQLRKLFIGGLsFEtTDESLRSHFEQWGTLTDCVVM...</td>\n",
       "    </tr>\n",
       "  </tbody>\n",
       "</table>\n",
       "</div>"
      ],
      "text/plain": [
       "  substrate_uniprot                       site  \\\n",
       "0        A0A2R8Y4L2  [S95, S22, T25, S6, S158]   \n",
       "\n",
       "                                  substrate_sequence  \\\n",
       "0  MSKSESPKEPEQLRKLFIGGLSFETTDESLRSHFEQWGTLTDCVVM...   \n",
       "\n",
       "                                substrate_phosphoseq  \n",
       "0  MSKSEsPKEPEQLRKLFIGGLsFEtTDESLRSHFEQWGTLTDCVVM...  "
      ]
     },
     "execution_count": null,
     "metadata": {},
     "output_type": "execute_result"
    }
   ],
   "source": [
    "seq = phosphorylate_seq_df(df_group)\n",
    "seq.head(1)"
   ]
  },
  {
   "cell_type": "code",
   "execution_count": null,
   "id": "5bd3b2b5-0734-4205-87eb-412ccb6e45ce",
   "metadata": {},
   "outputs": [],
   "source": [
    "seq_map = seq.set_index('substrate_uniprot')['substrate_phosphoseq']\n",
    "\n",
    "df_group['substrate_phosphoseq'] = df_group.substrate_uniprot.map(seq_map)"
   ]
  },
  {
   "cell_type": "code",
   "execution_count": null,
   "id": "5289a1e4-53db-4f96-bb64-ee2a96c5fb1a",
   "metadata": {},
   "outputs": [
    {
     "data": {
      "text/html": [
       "<div>\n",
       "<style scoped>\n",
       "    .dataframe tbody tr th:only-of-type {\n",
       "        vertical-align: middle;\n",
       "    }\n",
       "\n",
       "    .dataframe tbody tr th {\n",
       "        vertical-align: top;\n",
       "    }\n",
       "\n",
       "    .dataframe thead th {\n",
       "        text-align: right;\n",
       "    }\n",
       "</style>\n",
       "<table border=\"1\" class=\"dataframe\">\n",
       "  <thead>\n",
       "    <tr style=\"text-align: right;\">\n",
       "      <th></th>\n",
       "      <th>kin_sub_site</th>\n",
       "      <th>kinase_uniprot</th>\n",
       "      <th>substrate_uniprot</th>\n",
       "      <th>site</th>\n",
       "      <th>source</th>\n",
       "      <th>substrate_genes</th>\n",
       "      <th>substrate_phosphoseq</th>\n",
       "      <th>position</th>\n",
       "      <th>site_seq</th>\n",
       "      <th>sub_site</th>\n",
       "      <th>substrate_sequence</th>\n",
       "    </tr>\n",
       "  </thead>\n",
       "  <tbody>\n",
       "    <tr>\n",
       "      <th>0</th>\n",
       "      <td>O00141_A4FU28_S140</td>\n",
       "      <td>O00141</td>\n",
       "      <td>A4FU28</td>\n",
       "      <td>S140</td>\n",
       "      <td>Sugiyama</td>\n",
       "      <td>CTAGE9</td>\n",
       "      <td>MEEPGATPQPYLGLVLEELGRVVAALPESMRPDENPYGFPSELVVC...</td>\n",
       "      <td>140</td>\n",
       "      <td>AAAEEARSLEATCEKLSRsNsELEDEILCLEKDLKEEKSKH</td>\n",
       "      <td>A4FU28_S140</td>\n",
       "      <td>MEEPGATPQPYLGLVLEELGRVVAALPESMRPDENPYGFPSELVVC...</td>\n",
       "    </tr>\n",
       "    <tr>\n",
       "      <th>1</th>\n",
       "      <td>O00141_O00141_S252</td>\n",
       "      <td>O00141</td>\n",
       "      <td>O00141</td>\n",
       "      <td>S252</td>\n",
       "      <td>Sugiyama</td>\n",
       "      <td>SGK1 SGK</td>\n",
       "      <td>MTVKTEAAKGTLTYSRMRGMVAILIAFMKQRRMGLNDFIQKIANNS...</td>\n",
       "      <td>252</td>\n",
       "      <td>SQGHIVLTDFGLCKENIEHNsTtstFCGtPEyLAPEVLHKQ</td>\n",
       "      <td>O00141_S252</td>\n",
       "      <td>MTVKTEAAKGTLTYSRMRGMVAILIAFMKQRRMGLNDFIQKIANNS...</td>\n",
       "    </tr>\n",
       "    <tr>\n",
       "      <th>2</th>\n",
       "      <td>O00141_O00141_S255</td>\n",
       "      <td>O00141</td>\n",
       "      <td>O00141</td>\n",
       "      <td>S255</td>\n",
       "      <td>Sugiyama</td>\n",
       "      <td>SGK1 SGK</td>\n",
       "      <td>MTVKTEAAKGTLTYSRMRGMVAILIAFMKQRRMGLNDFIQKIANNS...</td>\n",
       "      <td>255</td>\n",
       "      <td>HIVLTDFGLCKENIEHNsTtstFCGtPEyLAPEVLHKQPYD</td>\n",
       "      <td>O00141_S255</td>\n",
       "      <td>MTVKTEAAKGTLTYSRMRGMVAILIAFMKQRRMGLNDFIQKIANNS...</td>\n",
       "    </tr>\n",
       "    <tr>\n",
       "      <th>3</th>\n",
       "      <td>O00141_O00141_S397</td>\n",
       "      <td>O00141</td>\n",
       "      <td>O00141</td>\n",
       "      <td>S397</td>\n",
       "      <td>Sugiyama</td>\n",
       "      <td>SGK1 SGK</td>\n",
       "      <td>MTVKTEAAKGTLTYSRMRGMVAILIAFMKQRRMGLNDFIQKIANNS...</td>\n",
       "      <td>397</td>\n",
       "      <td>sGPNDLRHFDPEFTEEPVPNsIGKsPDsVLVTAsVKEAAEA</td>\n",
       "      <td>O00141_S397</td>\n",
       "      <td>MTVKTEAAKGTLTYSRMRGMVAILIAFMKQRRMGLNDFIQKIANNS...</td>\n",
       "    </tr>\n",
       "    <tr>\n",
       "      <th>4</th>\n",
       "      <td>O00141_O00141_S404</td>\n",
       "      <td>O00141</td>\n",
       "      <td>O00141</td>\n",
       "      <td>S404</td>\n",
       "      <td>Sugiyama</td>\n",
       "      <td>SGK1 SGK</td>\n",
       "      <td>MTVKTEAAKGTLTYSRMRGMVAILIAFMKQRRMGLNDFIQKIANNS...</td>\n",
       "      <td>404</td>\n",
       "      <td>HFDPEFTEEPVPNsIGKsPDsVLVTAsVKEAAEAFLGFsYA</td>\n",
       "      <td>O00141_S404</td>\n",
       "      <td>MTVKTEAAKGTLTYSRMRGMVAILIAFMKQRRMGLNDFIQKIANNS...</td>\n",
       "    </tr>\n",
       "  </tbody>\n",
       "</table>\n",
       "</div>"
      ],
      "text/plain": [
       "         kin_sub_site kinase_uniprot substrate_uniprot  site    source  \\\n",
       "0  O00141_A4FU28_S140         O00141            A4FU28  S140  Sugiyama   \n",
       "1  O00141_O00141_S252         O00141            O00141  S252  Sugiyama   \n",
       "2  O00141_O00141_S255         O00141            O00141  S255  Sugiyama   \n",
       "3  O00141_O00141_S397         O00141            O00141  S397  Sugiyama   \n",
       "4  O00141_O00141_S404         O00141            O00141  S404  Sugiyama   \n",
       "\n",
       "  substrate_genes                               substrate_phosphoseq  \\\n",
       "0          CTAGE9  MEEPGATPQPYLGLVLEELGRVVAALPESMRPDENPYGFPSELVVC...   \n",
       "1        SGK1 SGK  MTVKTEAAKGTLTYSRMRGMVAILIAFMKQRRMGLNDFIQKIANNS...   \n",
       "2        SGK1 SGK  MTVKTEAAKGTLTYSRMRGMVAILIAFMKQRRMGLNDFIQKIANNS...   \n",
       "3        SGK1 SGK  MTVKTEAAKGTLTYSRMRGMVAILIAFMKQRRMGLNDFIQKIANNS...   \n",
       "4        SGK1 SGK  MTVKTEAAKGTLTYSRMRGMVAILIAFMKQRRMGLNDFIQKIANNS...   \n",
       "\n",
       "   position                                   site_seq     sub_site  \\\n",
       "0       140  AAAEEARSLEATCEKLSRsNsELEDEILCLEKDLKEEKSKH  A4FU28_S140   \n",
       "1       252  SQGHIVLTDFGLCKENIEHNsTtstFCGtPEyLAPEVLHKQ  O00141_S252   \n",
       "2       255  HIVLTDFGLCKENIEHNsTtstFCGtPEyLAPEVLHKQPYD  O00141_S255   \n",
       "3       397  sGPNDLRHFDPEFTEEPVPNsIGKsPDsVLVTAsVKEAAEA  O00141_S397   \n",
       "4       404  HFDPEFTEEPVPNsIGKsPDsVLVTAsVKEAAEAFLGFsYA  O00141_S404   \n",
       "\n",
       "                                  substrate_sequence  \n",
       "0  MEEPGATPQPYLGLVLEELGRVVAALPESMRPDENPYGFPSELVVC...  \n",
       "1  MTVKTEAAKGTLTYSRMRGMVAILIAFMKQRRMGLNDFIQKIANNS...  \n",
       "2  MTVKTEAAKGTLTYSRMRGMVAILIAFMKQRRMGLNDFIQKIANNS...  \n",
       "3  MTVKTEAAKGTLTYSRMRGMVAILIAFMKQRRMGLNDFIQKIANNS...  \n",
       "4  MTVKTEAAKGTLTYSRMRGMVAILIAFMKQRRMGLNDFIQKIANNS...  "
      ]
     },
     "execution_count": null,
     "metadata": {},
     "output_type": "execute_result"
    }
   ],
   "source": [
    "df_group.head()"
   ]
  },
  {
   "cell_type": "markdown",
   "id": "107e4088-ead8-4dde-a331-d2384dcd5f5f",
   "metadata": {},
   "source": [
    "## Extract site sequence"
   ]
  },
  {
   "cell_type": "code",
   "execution_count": null,
   "id": "c070b192-dda2-4764-af8b-4e81a9fe96ec",
   "metadata": {},
   "outputs": [],
   "source": [
    "df = Data.get_human_site().head().copy()"
   ]
  },
  {
   "cell_type": "markdown",
   "id": "46c88df8-a5da-4580-9c27-40b41e0f1863",
   "metadata": {},
   "source": [
    "`extract_site_seq` can extract -length to +length sequence from a protein sequence given a position"
   ]
  },
  {
   "cell_type": "code",
   "execution_count": null,
   "id": "10d7bb69-b75a-46f6-af24-a6799ed2e41b",
   "metadata": {},
   "outputs": [
    {
     "data": {
      "text/plain": [
       "\u001b[0;31mSignature:\u001b[0m\n",
       "\u001b[0mextract_site_seq\u001b[0m\u001b[0;34m(\u001b[0m\u001b[0;34m\u001b[0m\n",
       "\u001b[0;34m\u001b[0m    \u001b[0mdf\u001b[0m\u001b[0;34m:\u001b[0m \u001b[0mpandas\u001b[0m\u001b[0;34m.\u001b[0m\u001b[0mcore\u001b[0m\u001b[0;34m.\u001b[0m\u001b[0mframe\u001b[0m\u001b[0;34m.\u001b[0m\u001b[0mDataFrame\u001b[0m\u001b[0;34m,\u001b[0m\u001b[0;34m\u001b[0m\n",
       "\u001b[0;34m\u001b[0m    \u001b[0mseq_col\u001b[0m\u001b[0;34m:\u001b[0m \u001b[0mstr\u001b[0m\u001b[0;34m,\u001b[0m\u001b[0;34m\u001b[0m\n",
       "\u001b[0;34m\u001b[0m    \u001b[0msite_info_col\u001b[0m\u001b[0;34m:\u001b[0m \u001b[0mstr\u001b[0m\u001b[0;34m,\u001b[0m\u001b[0;34m\u001b[0m\n",
       "\u001b[0;34m\u001b[0m    \u001b[0mn\u001b[0m\u001b[0;34m=\u001b[0m\u001b[0;36m7\u001b[0m\u001b[0;34m,\u001b[0m\u001b[0;34m\u001b[0m\n",
       "\u001b[0;34m\u001b[0m\u001b[0;34m)\u001b[0m\u001b[0;34m\u001b[0m\u001b[0;34m\u001b[0m\u001b[0m\n",
       "\u001b[0;31mDocstring:\u001b[0m Extract -n to +n site sequence from protein sequence\n",
       "\u001b[0;31mFile:\u001b[0m      ~/katlas/katlas/core.py\n",
       "\u001b[0;31mType:\u001b[0m      function"
      ]
     },
     "metadata": {},
     "output_type": "display_data"
    }
   ],
   "source": [
    "extract_site_seq?"
   ]
  },
  {
   "cell_type": "code",
   "execution_count": null,
   "id": "50ed640a-846e-4640-ac25-31b98e2361eb",
   "metadata": {},
   "outputs": [],
   "source": [
    "N=20"
   ]
  },
  {
   "cell_type": "code",
   "execution_count": null,
   "id": "6770f0ba-f164-471f-a92d-0b33932c9ba1",
   "metadata": {},
   "outputs": [
    {
     "name": "stderr",
     "output_type": "stream",
     "text": [
      "100%|██████████| 5/5 [00:00<00:00, 7741.42it/s]\n"
     ]
    }
   ],
   "source": [
    "df['site_seq'] = extract_site_seq(df,\n",
    "                                  seq_col='substrate_sequence',\n",
    "                                  site_info_col='site',\n",
    "                                  n=N)"
   ]
  },
  {
   "cell_type": "code",
   "execution_count": null,
   "id": "4e0e59be-f92d-4b8e-bba8-33093d9b3286",
   "metadata": {},
   "outputs": [
    {
     "data": {
      "text/plain": [
       "0    _MTVLEAVLEIQAITGSRLLSMVPGPARPPGSCWDPTQCTR\n",
       "1    QKSENEDDSEWEDVDDEKGDSNDDYDSAGLLSDEDCMSVPG\n",
       "2    EDVDDEKGDSNDDYDSAGLLSDEDCMSVPGKTHRAIADHLF\n",
       "3    EDCMSVPGKTHRAIADHLFWSEETKSRFTEYSMTSSVMRRN\n",
       "4    RAIADHLFWSEETKSRFTEYSMTSSVMRRNEQLTLHDERFE\n",
       "Name: site_seq, dtype: object"
      ]
     },
     "execution_count": null,
     "metadata": {},
     "output_type": "execute_result"
    }
   ],
   "source": [
    "df.site_seq"
   ]
  },
  {
   "cell_type": "code",
   "execution_count": null,
   "id": "3fbdc145-1322-474f-b22e-98b68e9da395",
   "metadata": {},
   "outputs": [
    {
     "data": {
      "text/plain": [
       "site_seq\n",
       "S    5\n",
       "Name: count, dtype: int64"
      ]
     },
     "execution_count": null,
     "metadata": {},
     "output_type": "execute_result"
    }
   ],
   "source": [
    "df.site_seq.str[N].value_counts()"
   ]
  },
  {
   "cell_type": "markdown",
   "id": "6c784d4d-4888-49c1-b7d2-13f1c96ecc62",
   "metadata": {},
   "source": [
    "## Cut sequence"
   ]
  },
  {
   "cell_type": "markdown",
   "id": "26ec8ac2-7695-4f66-af6b-258384609a50",
   "metadata": {},
   "source": [
    "If you want to cut the sequence surrounding the center:"
   ]
  },
  {
   "cell_type": "code",
   "execution_count": null,
   "id": "b51cb2fb-c936-4f60-8fd0-c9ad2bd95ebd",
   "metadata": {},
   "outputs": [
    {
     "data": {
      "text/plain": [
       "'AkUuPSFSTt'"
      ]
     },
     "execution_count": null,
     "metadata": {},
     "output_type": "execute_result"
    }
   ],
   "source": [
    "cut_seq('AAkUuPSFSTtH',-5,4)"
   ]
  },
  {
   "cell_type": "code",
   "execution_count": null,
   "id": "a549d5e2-972f-4c95-8fa7-48ad92127e14",
   "metadata": {},
   "outputs": [
    {
     "data": {
      "text/plain": [
       "0    GSRLLSMVPG\n",
       "1    DEKGDSNDDY\n",
       "2    SAGLLSDEDC\n",
       "3    DHLFWSEETK\n",
       "4    RFTEYSMTSS\n",
       "Name: site_seq, dtype: object"
      ]
     },
     "execution_count": null,
     "metadata": {},
     "output_type": "execute_result"
    }
   ],
   "source": [
    "df.site_seq.apply(lambda x: cut_seq(x,-5,4))"
   ]
  },
  {
   "cell_type": "markdown",
   "id": "2688c83a-e335-4c90-bfee-6ab420b7da16",
   "metadata": {},
   "source": [
    "## Check site"
   ]
  },
  {
   "cell_type": "code",
   "execution_count": null,
   "id": "614fbecb-4cfa-472a-8df3-53f2b5a10644",
   "metadata": {},
   "outputs": [],
   "source": [
    "df['site_seq'] = check_seq_df(df,'site_seq')"
   ]
  }
 ],
 "metadata": {
  "kernelspec": {
   "display_name": "python3",
   "language": "python",
   "name": "python3"
  }
 },
 "nbformat": 4,
 "nbformat_minor": 5
}
