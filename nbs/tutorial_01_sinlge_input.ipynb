{
 "cells": [
  {
   "cell_type": "markdown",
   "id": "216ba371-8db8-4d34-9ba5-76824538d5c9",
   "metadata": {},
   "source": [
    "<a target=\"_blank\" href=\"https://colab.research.google.com/github/sky1ove/katlas/blob/main/nbs/tutorial_01_sinlge_input.ipynb\">\n",
    "  <img src=\"https://colab.research.google.com/assets/colab-badge.svg\" alt=\"Open In Colab\"/>\n",
    "</a>"
   ]
  },
  {
   "cell_type": "markdown",
   "id": "5cf1a944-eb91-4e96-8c42-ec8a82591e45",
   "metadata": {},
   "source": [
    "# Scoring with single input sequence"
   ]
  },
  {
   "cell_type": "markdown",
   "id": "24789fe1-724a-4c70-976a-8fb9634d8b6b",
   "metadata": {},
   "source": [
    "In this session, we will conduct substrate scoring on well known kinase-substrate pairs. We will show examples of the two methods respectively:\n",
    "\n",
    "- CDDM, computational data-driven method\n",
    "- PSPA, positional scanning peptide array"
   ]
  },
  {
   "cell_type": "markdown",
   "id": "574e7089-6009-4e30-b069-4fed96d8b356",
   "metadata": {},
   "source": [
    "<img width=\"700\" src=\"https://github.com/sky1ove/katlas/raw/main/dataset/images/scoring.png\" />"
   ]
  },
  {
   "cell_type": "markdown",
   "id": "b5f6478f-a734-43ca-8610-569b873ccde6",
   "metadata": {},
   "source": [
    "Above is a diagram showing the calculation of the score using sum as aggregation, which is used in CDDM. For PSPA, values are multiplied followed by a log transform (which is equal to log transform first followed by sum)"
   ]
  },
  {
   "cell_type": "markdown",
   "id": "23efdf6b-cbf4-44ed-a200-39cc81c0b941",
   "metadata": {},
   "source": [
    "## Setup"
   ]
  },
  {
   "cell_type": "code",
   "execution_count": null,
   "id": "65429122-dc1a-4c7f-9a3c-48ee12f0c21b",
   "metadata": {},
   "outputs": [
    {
     "name": "stdout",
     "output_type": "stream",
     "text": [
      "\u001b[33mWARNING: Running pip as the 'root' user can result in broken permissions and conflicting behaviour with the system package manager. It is recommended to use a virtual environment instead: https://pip.pypa.io/warnings/venv\u001b[0m\u001b[33m\n",
      "\u001b[0m"
     ]
    }
   ],
   "source": [
    "!pip install python-katlas -Uq"
   ]
  },
  {
   "cell_type": "code",
   "execution_count": null,
   "id": "4c3f1577-176d-49e0-98c9-87836f1db588",
   "metadata": {},
   "outputs": [],
   "source": [
    "from katlas.core import *\n",
    "import pandas as pd"
   ]
  },
  {
   "cell_type": "markdown",
   "id": "d8b04166-59a6-4b37-8e6b-3d89449085ff",
   "metadata": {},
   "source": [
    "## Test with CDDM"
   ]
  },
  {
   "cell_type": "markdown",
   "id": "812b76e1-b1a7-416a-80d8-ded88a2e2b05",
   "metadata": {},
   "source": [
    "We provide two parameters for CDDM:\n",
    "\n",
    "- param_CDDM: if you know the phosphorylated status of the substrate sequence\n",
    "- param_CDDM_upper: for all capital sequence"
   ]
  },
  {
   "cell_type": "markdown",
   "id": "327690d2-1075-4aff-918a-3a7363be944f",
   "metadata": {},
   "source": [
    "Below are substrate sequences from PhosphoSitePlus:"
   ]
  },
  {
   "cell_type": "code",
   "execution_count": null,
   "id": "9c8393e5-51b1-41f9-b27c-540f22d68285",
   "metadata": {},
   "outputs": [
    {
     "name": "stdout",
     "output_type": "stream",
     "text": [
      "considering string: ['-7G', '-6K', '-5K', '-4A', '-3t', '-2Q', '-1A', '0s', '1Q', '2E', '3y']\n"
     ]
    },
    {
     "data": {
      "text/plain": [
       "kinase\n",
       "ATR      2.321\n",
       "ATM      2.291\n",
       "DNAPK    2.013\n",
       "NIM1     1.663\n",
       "MARK3    1.658\n",
       "         ...  \n",
       "HCK      0.668\n",
       "SRC      0.656\n",
       "FYN      0.654\n",
       "JAK2     0.654\n",
       "TNK1     0.641\n",
       "Length: 289, dtype: float64"
      ]
     },
     "execution_count": null,
     "metadata": {},
     "output_type": "execute_result"
    }
   ],
   "source": [
    "# ATM/ATR/DNAPK --> H2AX\n",
    "predict_kinase('GkkAtQAsQEy____',**param_CDDM)"
   ]
  },
  {
   "cell_type": "code",
   "execution_count": null,
   "id": "d2b792ad-a386-4ec3-9d8d-6ad069876b2d",
   "metadata": {},
   "outputs": [
    {
     "name": "stdout",
     "output_type": "stream",
     "text": [
      "considering string: ['-7R', '-6s', '-5R', '-4t', '-3R', '-2t', '-1D', '0s', '1y', '2s', '3A', '4G', '5Q', '6s', '7V']\n"
     ]
    },
    {
     "data": {
      "text/plain": [
       "kinase\n",
       "AKT1      2.702\n",
       "SGK1      2.476\n",
       "P90RSK    2.473\n",
       "AKT2      2.437\n",
       "AKT3      2.436\n",
       "          ...  \n",
       "FLT3      0.719\n",
       "LCK       0.717\n",
       "SRC       0.708\n",
       "TEC       0.686\n",
       "FYN       0.685\n",
       "Length: 289, dtype: float64"
      ]
     },
     "execution_count": null,
     "metadata": {},
     "output_type": "execute_result"
    }
   ],
   "source": [
    "# AKT--> mTOR\n",
    "predict_kinase('RsRtRtDsysAGQsV',**param_CDDM)"
   ]
  },
  {
   "cell_type": "code",
   "execution_count": null,
   "id": "47f8fa7b-d2d5-4abd-9457-5dca46e5d8e3",
   "metadata": {},
   "outputs": [
    {
     "name": "stdout",
     "output_type": "stream",
     "text": [
      "considering string: ['-7P', '-6s', '-5V', '-4E', '-3P', '-2P', '-1L', '0s', '1Q', '2E', '3t', '4F', '5s', '6D', '7L']\n"
     ]
    },
    {
     "data": {
      "text/plain": [
       "kinase\n",
       "ATR      2.998\n",
       "ATM      2.800\n",
       "DNAPK    2.340\n",
       "CK2A1    1.912\n",
       "CDK8     1.908\n",
       "         ...  \n",
       "YES1     0.850\n",
       "DDR2     0.833\n",
       "WEE1     0.818\n",
       "TNK1     0.809\n",
       "TYK2     0.804\n",
       "Length: 289, dtype: float64"
      ]
     },
     "execution_count": null,
     "metadata": {},
     "output_type": "execute_result"
    }
   ],
   "source": [
    "# ATM/ATR --> p53, S15\n",
    "predict_kinase('PsVEPPLsQEtFsDL',**param_CDDM)"
   ]
  },
  {
   "cell_type": "code",
   "execution_count": null,
   "id": "ab9d964f-cb25-45b9-b5fc-c2942182f102",
   "metadata": {},
   "outputs": [
    {
     "name": "stdout",
     "output_type": "stream",
     "text": [
      "considering string: ['-7I', '-6P', '-5E', '-4P', '-3A', '-2H', '-1A', '0y', '1A', '2Q', '3P', '4Q', '5t', '6t', '7t']\n"
     ]
    },
    {
     "data": {
      "text/plain": [
       "kinase\n",
       "ABL1       1.722\n",
       "TNK2       1.700\n",
       "ABL2       1.672\n",
       "JAK2       1.669\n",
       "FER        1.652\n",
       "           ...  \n",
       "CK1G2      0.560\n",
       "DCAMKL1    0.551\n",
       "CK1G1      0.540\n",
       "GRK7       0.526\n",
       "CK2A1      0.518\n",
       "Length: 289, dtype: float64"
      ]
     },
     "execution_count": null,
     "metadata": {},
     "output_type": "execute_result"
    }
   ],
   "source": [
    "# ABL--> CRKL, Y207\n",
    "predict_kinase('IPEPAHAyAQPQttt',**param_CDDM)"
   ]
  },
  {
   "cell_type": "code",
   "execution_count": null,
   "id": "dd132dd5-26db-46dc-8541-3c1421714579",
   "metadata": {},
   "outputs": [
    {
     "name": "stdout",
     "output_type": "stream",
     "text": [
      "considering string: ['-7t', '-6F', '-5L', '-4P', '-3V', '-2P', '-1E', '0y', '1I', '2N', '3Q', '4s', '5V', '6P', '7K']\n"
     ]
    },
    {
     "data": {
      "text/plain": [
       "kinase\n",
       "EGFR     1.774\n",
       "CSK      1.733\n",
       "JAK2     1.731\n",
       "ERBB4    1.725\n",
       "FLT3     1.719\n",
       "         ...  \n",
       "PKACB    0.641\n",
       "PAK6     0.630\n",
       "NIM1     0.627\n",
       "PAK5     0.593\n",
       "SGK2     0.571\n",
       "Length: 289, dtype: float64"
      ]
     },
     "execution_count": null,
     "metadata": {},
     "output_type": "execute_result"
    }
   ],
   "source": [
    "# EGFR --> EGFR, Y1092\n",
    "predict_kinase('tFLPVPEyINQsVPk',**param_CDDM)"
   ]
  },
  {
   "cell_type": "code",
   "execution_count": null,
   "id": "82a998e4-e735-467c-a9a9-f5d95c192e14",
   "metadata": {},
   "outputs": [
    {
     "name": "stdout",
     "output_type": "stream",
     "text": [
      "considering string: ['-7D', '-6P', '-5G', '-4s', '-3A', '-2A', '-1P', '0y', '1L', '2K', '3t', '4K', '5F', '6I', '7C']\n"
     ]
    },
    {
     "data": {
      "text/plain": [
       "kinase\n",
       "JAK2      1.716\n",
       "EPHA4     1.709\n",
       "KIT       1.702\n",
       "FLT3      1.696\n",
       "TNK1      1.696\n",
       "          ...  \n",
       "CAMK4     0.567\n",
       "BRSK2     0.558\n",
       "PAK5      0.555\n",
       "CAMK1D    0.535\n",
       "PRKX      0.532\n",
       "Length: 289, dtype: float64"
      ]
     },
     "execution_count": null,
     "metadata": {},
     "output_type": "execute_result"
    }
   ],
   "source": [
    "# JAK2 --> STAT3, Y705\n",
    "predict_kinase('DPGsAAPyLktKFIC',**param_CDDM)"
   ]
  },
  {
   "cell_type": "code",
   "execution_count": null,
   "id": "eec8a1bf-9bc8-45ab-896f-660551a01c01",
   "metadata": {},
   "outputs": [
    {
     "name": "stdout",
     "output_type": "stream",
     "text": [
      "considering string: ['-7N', '-6L', '-5G', '-4R', '-3R', '-2E', '-1E', '0y', '1D', '2V', '3L', '4D', '5K', '6R', '7R']\n"
     ]
    },
    {
     "data": {
      "text/plain": [
       "kinase\n",
       "PTK2     2.155\n",
       "LCK      2.127\n",
       "ZAP70    2.117\n",
       "EPHA2    2.117\n",
       "BLK      2.105\n",
       "         ...  \n",
       "GSK3A    0.801\n",
       "ERK1     0.778\n",
       "ATR      0.767\n",
       "GSK3B    0.758\n",
       "DNAPK    0.689\n",
       "Length: 289, dtype: float64"
      ]
     },
     "execution_count": null,
     "metadata": {},
     "output_type": "execute_result"
    }
   ],
   "source": [
    "# LCK --> cd3 zeta,y83 \n",
    "predict_kinase('NLGRREEyDVLDkRR',**param_CDDM)"
   ]
  },
  {
   "cell_type": "code",
   "execution_count": null,
   "id": "33b586f7-cfc7-4cb2-af2d-080442be85e7",
   "metadata": {},
   "outputs": [
    {
     "name": "stdout",
     "output_type": "stream",
     "text": [
      "considering string: ['-7E', '-6E', '-5N', '-4A', '-3D', '-2D', '-1S', '0y', '1E', '2P', '3P', '4P', '5V', '6E', '7Q']\n"
     ]
    },
    {
     "data": {
      "text/plain": [
       "kinase\n",
       "SYK      2.045\n",
       "ZAP70    2.038\n",
       "LCK      1.975\n",
       "EGFR     1.967\n",
       "PTK2     1.966\n",
       "         ...  \n",
       "PKCA     0.656\n",
       "PKCB     0.651\n",
       "PKCD     0.640\n",
       "PHKG1    0.638\n",
       "PKCZ     0.631\n",
       "Length: 289, dtype: float64"
      ]
     },
     "execution_count": null,
     "metadata": {},
     "output_type": "execute_result"
    }
   ],
   "source": [
    "# SYK--> BLNK, Y96\n",
    "predict_kinase('EENADDSyEPPPVEQ',**param_CDDM)"
   ]
  },
  {
   "cell_type": "code",
   "execution_count": null,
   "id": "ba439bfe-1c1d-40a2-828f-703a7849a194",
   "metadata": {},
   "outputs": [
    {
     "name": "stdout",
     "output_type": "stream",
     "text": [
      "considering string: ['-7P', '-6G', '-5G', '-4N', '-3I', '-2y', '-1I', '0s', '1P', '2L', '3K', '4s', '5P', '6y', '7K']\n"
     ]
    },
    {
     "data": {
      "text/plain": [
       "kinase\n",
       "CDK2     2.369\n",
       "CDK4     2.351\n",
       "CDK1     2.346\n",
       "CDK3     2.300\n",
       "CDK5     2.296\n",
       "         ...  \n",
       "JAK3     0.700\n",
       "EPHA4    0.698\n",
       "ERBB4    0.688\n",
       "FGFR4    0.687\n",
       "TNK2     0.665\n",
       "Length: 289, dtype: float64"
      ]
     },
     "execution_count": null,
     "metadata": {},
     "output_type": "execute_result"
    }
   ],
   "source": [
    "# CDK4 --> RB1, S807\n",
    "predict_kinase('PGGNIyIsPLksPyk',**param_CDDM)"
   ]
  },
  {
   "cell_type": "code",
   "execution_count": null,
   "id": "1d34a605-0369-4d9f-b3af-9dd43e652032",
   "metadata": {},
   "outputs": [
    {
     "name": "stdout",
     "output_type": "stream",
     "text": [
      "considering string: ['-7s', '-6F', '-5R', '-4A', '-3R', '-2s', '-1t', '0s', '1L', '2N', '3E', '4R', '5P', '6K', '7s']\n"
     ]
    },
    {
     "data": {
      "text/plain": [
       "kinase\n",
       "AKT1      2.776\n",
       "SGK1      2.578\n",
       "AKT3      2.526\n",
       "AKT2      2.437\n",
       "P90RSK    2.420\n",
       "          ...  \n",
       "EPHA4     0.717\n",
       "FER       0.714\n",
       "TNK2      0.705\n",
       "TEC       0.702\n",
       "FYN       0.696\n",
       "Length: 289, dtype: float64"
      ]
     },
     "execution_count": null,
     "metadata": {},
     "output_type": "execute_result"
    }
   ],
   "source": [
    "# AKT --> TSC2, S939\n",
    "predict_kinase('sFRARstsLNERPKs',**param_CDDM)"
   ]
  },
  {
   "cell_type": "code",
   "execution_count": null,
   "id": "b21a43a3-c60c-43cc-b732-da4405103d0c",
   "metadata": {},
   "outputs": [
    {
     "name": "stdout",
     "output_type": "stream",
     "text": [
      "considering string: ['-7s', '-6G', '-5D', '-4E', '-3D', '-2F', '-1S', '0s', '1I', '2A', '3D', '4M', '5D', '6F', '7S']\n"
     ]
    },
    {
     "data": {
      "text/plain": [
       "kinase\n",
       "CK1G1    2.177\n",
       "CK1G2    2.100\n",
       "CK1G3    2.012\n",
       "CK2A1    1.942\n",
       "PAK6     1.916\n",
       "         ...  \n",
       "DDR2     0.769\n",
       "TYRO3    0.769\n",
       "TNK1     0.768\n",
       "TNK2     0.746\n",
       "AXL      0.743\n",
       "Length: 289, dtype: float64"
      ]
     },
     "execution_count": null,
     "metadata": {},
     "output_type": "execute_result"
    }
   ],
   "source": [
    "# CK1G1 --> NFkB, RELA S536\n",
    "predict_kinase('sGDEDFSsIADMDFS',**param_CDDM)"
   ]
  },
  {
   "cell_type": "code",
   "execution_count": null,
   "id": "22dd27ce-50f1-48b8-9e74-6ddcf4db2cda",
   "metadata": {},
   "outputs": [
    {
     "name": "stdout",
     "output_type": "stream",
     "text": [
      "considering string: ['-7s', '-6D', '-5G', '-4E', '-3F', '-2L', '-1R', '0t', '1s', '2C', '3G', '4s', '5P', '6N', '7Y']\n"
     ]
    },
    {
     "data": {
      "text/plain": [
       "kinase\n",
       "LKB1      1.898\n",
       "CAMKK2    1.690\n",
       "CAMKK1    1.684\n",
       "PBK       1.485\n",
       "GSK3A     1.403\n",
       "          ...  \n",
       "CSK       0.611\n",
       "DDR2      0.611\n",
       "KIT       0.607\n",
       "FGFR4     0.594\n",
       "TSSK2     0.590\n",
       "Length: 289, dtype: float64"
      ]
     },
     "execution_count": null,
     "metadata": {},
     "output_type": "execute_result"
    }
   ],
   "source": [
    "# LKB1 --> AMPK\n",
    "predict_kinase('sDGEFLRtsCGsPNY',**param_CDDM)"
   ]
  },
  {
   "cell_type": "markdown",
   "id": "8c639c95-cb51-45df-8700-e7eed652a94e",
   "metadata": {},
   "source": [
    "## Test with PSPA"
   ]
  },
  {
   "cell_type": "markdown",
   "id": "a9130ab4-efda-4157-bba3-f7f68d6cec3e",
   "metadata": {},
   "source": [
    "We provide three parameters for PSPA:\n",
    "\n",
    "- param_PSPA_s : for S/T sequence\n",
    "- param_PSPA_y : for Y sequence\n",
    "- param_PSPA : lazy mode, for both S/T and Y sequences, run slower"
   ]
  },
  {
   "cell_type": "markdown",
   "id": "a6de6117-fea6-4bde-aa3b-3f5e99722946",
   "metadata": {},
   "source": [
    "PSPA performs the best on substrate sequences with phosphorylation status informed."
   ]
  },
  {
   "cell_type": "code",
   "execution_count": null,
   "id": "bc53d008-2cc8-4740-8c7d-5d02810b8421",
   "metadata": {},
   "outputs": [
    {
     "name": "stdout",
     "output_type": "stream",
     "text": [
      "considering string: ['-5K', '-4G', '-3s', '-2G', '-1D', '0y', '1M', '2P', '3M', '4s', '5P']\n"
     ]
    },
    {
     "data": {
      "text/plain": [
       "kinase\n",
       "ZAP70    6.625\n",
       "INSRR    4.442\n",
       "IGF1R    3.792\n",
       "FLT1     3.693\n",
       "ERBB4    3.503\n",
       "         ...  \n",
       "YANK2      NaN\n",
       "YANK3      NaN\n",
       "YSK1       NaN\n",
       "YSK4       NaN\n",
       "ZAK        NaN\n",
       "Length: 396, dtype: float64"
      ]
     },
     "execution_count": null,
     "metadata": {},
     "output_type": "execute_result"
    }
   ],
   "source": [
    "#Insulin Receptor and IRS-1 (Insulin Receptor Substrate 1)\n",
    "# Kinase: Insulin Receptor\n",
    "# Substrate: IRS-1 #Y612, Y632, Y662\n",
    "predict_kinase('GRKGsGDyMPMsPKs',**param_PSPA)"
   ]
  },
  {
   "cell_type": "markdown",
   "id": "06f53bb4-bc3d-49b3-8721-427fa1ea3154",
   "metadata": {},
   "source": [
    "We'll get the same result with `param_PSPA_y`, which do not include the calculation of Ser/Thr kinase (those NaNs) and works faster."
   ]
  },
  {
   "cell_type": "code",
   "execution_count": null,
   "id": "589e1d7a-652c-4f8c-9d13-4928359b471d",
   "metadata": {},
   "outputs": [
    {
     "name": "stdout",
     "output_type": "stream",
     "text": [
      "considering string: ['-5K', '-4G', '-3s', '-2G', '-1D', '0y', '1M', '2P', '3M', '4s', '5P']\n"
     ]
    },
    {
     "data": {
      "text/plain": [
       "kinase\n",
       "ZAP70         6.625\n",
       "INSRR         4.442\n",
       "IGF1R         3.792\n",
       "FLT1          3.693\n",
       "ERBB4         3.503\n",
       "              ...  \n",
       "TEC          -1.348\n",
       "TNNI3K_TYR   -1.713\n",
       "LIMK1_TYR    -2.112\n",
       "TNK1         -2.217\n",
       "BTK          -2.622\n",
       "Length: 93, dtype: float64"
      ]
     },
     "execution_count": null,
     "metadata": {},
     "output_type": "execute_result"
    }
   ],
   "source": [
    "predict_kinase('GRKGsGDyMPMsPKs',**param_PSPA_y)"
   ]
  },
  {
   "cell_type": "markdown",
   "id": "5bb15bad-2e33-471e-acf4-d29e42c29459",
   "metadata": {},
   "source": [
    "Let's try using `param_PSPA_st`"
   ]
  },
  {
   "cell_type": "code",
   "execution_count": null,
   "id": "8de70451-99e6-45ad-bf1b-3580f18c7fba",
   "metadata": {},
   "outputs": [
    {
     "name": "stdout",
     "output_type": "stream",
     "text": [
      "considering string: ['-5D', '-4E', '-3D', '-2F', '-1S', '0s', '1I', '2A', '3D', '4M']\n"
     ]
    },
    {
     "data": {
      "text/plain": [
       "kinase\n",
       "IKKA      5.435\n",
       "CK1G3     4.977\n",
       "GRK1      4.488\n",
       "IKKB      4.286\n",
       "CK1G2     4.184\n",
       "          ...  \n",
       "DMPK1    -8.521\n",
       "MOK      -9.204\n",
       "BUB1     -9.361\n",
       "CDK10   -10.330\n",
       "AAK1    -10.342\n",
       "Length: 303, dtype: float64"
      ]
     },
     "execution_count": null,
     "metadata": {},
     "output_type": "execute_result"
    }
   ],
   "source": [
    "# CK1G1 --> NFkB, RELA S536\n",
    "predict_kinase('sGDEDFSsIADMDFS',**param_PSPA_st)"
   ]
  },
  {
   "cell_type": "markdown",
   "id": "a015f433-391c-4cee-aace-281dffe7a878",
   "metadata": {},
   "source": [
    "`param_PSPA_st`shows same result with `param_PSPA`, but faster"
   ]
  },
  {
   "cell_type": "code",
   "execution_count": null,
   "id": "56902b6f-9f21-4f71-9f29-a98ee488b85b",
   "metadata": {},
   "outputs": [
    {
     "name": "stdout",
     "output_type": "stream",
     "text": [
      "considering string: ['-5D', '-4E', '-3D', '-2F', '-1S', '0s', '1I', '2A', '3D', '4M', '5D']\n"
     ]
    },
    {
     "data": {
      "text/plain": [
       "kinase\n",
       "IKKA        5.435\n",
       "CK1G3       4.977\n",
       "GRK1        4.488\n",
       "IKKB        4.286\n",
       "CK1G2       4.184\n",
       "            ...  \n",
       "KDR           NaN\n",
       "FLT4          NaN\n",
       "WEE1_TYR      NaN\n",
       "YES1          NaN\n",
       "ZAP70         NaN\n",
       "Length: 396, dtype: float64"
      ]
     },
     "execution_count": null,
     "metadata": {},
     "output_type": "execute_result"
    }
   ],
   "source": [
    "predict_kinase('sGDEDFSsIADMDFS',**param_PSPA)"
   ]
  },
  {
   "cell_type": "markdown",
   "id": "ebcb17b5-27ee-4ea2-b465-f663b7aa7ce5",
   "metadata": {},
   "source": [
    "## Customize reference PSSM and aggregation function"
   ]
  },
  {
   "cell_type": "markdown",
   "id": "f03f9dec-1d7d-4964-85f8-78fc3bdcaa9c",
   "metadata": {},
   "source": [
    "You can put your own PSSM dataframe and aggregation function in `predict_kinase` and `predict_kinase_df`"
   ]
  },
  {
   "cell_type": "markdown",
   "id": "24220198-b37d-4cb3-a1f8-1a2fb070f45d",
   "metadata": {},
   "source": [
    "For example, predict_kinase('sGDEDFSsIADMDFS',ref = df, func=some_func)"
   ]
  },
  {
   "cell_type": "markdown",
   "id": "de16bd07-882c-4df9-af97-eb1d000bcb8e",
   "metadata": {},
   "source": [
    "Here we show an example of PSPA canonical TK as ref and sumup as func:"
   ]
  },
  {
   "cell_type": "code",
   "execution_count": null,
   "id": "7a331827-497a-4d78-87d3-44a1b69e88f6",
   "metadata": {},
   "outputs": [],
   "source": [
    "ref = param_PSPA['ref']"
   ]
  },
  {
   "cell_type": "code",
   "execution_count": null,
   "id": "f812ddbe-0137-4328-b34f-c3ec468a9985",
   "metadata": {},
   "outputs": [],
   "source": [
    "TK = ref[ref['0Y']==1]"
   ]
  },
  {
   "cell_type": "code",
   "execution_count": null,
   "id": "30ee59ff-5ade-45a6-bf7b-8a1c992d92f8",
   "metadata": {},
   "outputs": [],
   "source": [
    "canonical_TK = TK.loc[~TK.index.str.contains('_TYR'),:]"
   ]
  },
  {
   "cell_type": "code",
   "execution_count": null,
   "id": "b24d6935-6d82-43ba-953f-ca8116b2e7ab",
   "metadata": {},
   "outputs": [
    {
     "data": {
      "text/html": [
       "<div>\n",
       "<style scoped>\n",
       "    .dataframe tbody tr th:only-of-type {\n",
       "        vertical-align: middle;\n",
       "    }\n",
       "\n",
       "    .dataframe tbody tr th {\n",
       "        vertical-align: top;\n",
       "    }\n",
       "\n",
       "    .dataframe thead th {\n",
       "        text-align: right;\n",
       "    }\n",
       "</style>\n",
       "<table border=\"1\" class=\"dataframe\">\n",
       "  <thead>\n",
       "    <tr style=\"text-align: right;\">\n",
       "      <th></th>\n",
       "      <th>-5P</th>\n",
       "      <th>-5G</th>\n",
       "      <th>-5A</th>\n",
       "      <th>-5C</th>\n",
       "      <th>-5S</th>\n",
       "      <th>-5T</th>\n",
       "      <th>-5V</th>\n",
       "      <th>-5I</th>\n",
       "      <th>-5L</th>\n",
       "      <th>-5M</th>\n",
       "      <th>...</th>\n",
       "      <th>5H</th>\n",
       "      <th>5K</th>\n",
       "      <th>5R</th>\n",
       "      <th>5Q</th>\n",
       "      <th>5N</th>\n",
       "      <th>5D</th>\n",
       "      <th>5E</th>\n",
       "      <th>5s</th>\n",
       "      <th>5t</th>\n",
       "      <th>5y</th>\n",
       "    </tr>\n",
       "    <tr>\n",
       "      <th>kinase</th>\n",
       "      <th></th>\n",
       "      <th></th>\n",
       "      <th></th>\n",
       "      <th></th>\n",
       "      <th></th>\n",
       "      <th></th>\n",
       "      <th></th>\n",
       "      <th></th>\n",
       "      <th></th>\n",
       "      <th></th>\n",
       "      <th></th>\n",
       "      <th></th>\n",
       "      <th></th>\n",
       "      <th></th>\n",
       "      <th></th>\n",
       "      <th></th>\n",
       "      <th></th>\n",
       "      <th></th>\n",
       "      <th></th>\n",
       "      <th></th>\n",
       "      <th></th>\n",
       "    </tr>\n",
       "  </thead>\n",
       "  <tbody>\n",
       "    <tr>\n",
       "      <th>ABL1</th>\n",
       "      <td>0.0668</td>\n",
       "      <td>0.0689</td>\n",
       "      <td>0.0646</td>\n",
       "      <td>0.0520</td>\n",
       "      <td>0.0564</td>\n",
       "      <td>0.0539</td>\n",
       "      <td>0.0485</td>\n",
       "      <td>0.0448</td>\n",
       "      <td>0.0520</td>\n",
       "      <td>0.0536</td>\n",
       "      <td>...</td>\n",
       "      <td>0.0613</td>\n",
       "      <td>0.0652</td>\n",
       "      <td>0.0756</td>\n",
       "      <td>0.0526</td>\n",
       "      <td>0.0512</td>\n",
       "      <td>0.0362</td>\n",
       "      <td>0.0339</td>\n",
       "      <td>0.0254</td>\n",
       "      <td>0.0254</td>\n",
       "      <td>0.0337</td>\n",
       "    </tr>\n",
       "    <tr>\n",
       "      <th>TNK2</th>\n",
       "      <td>0.0679</td>\n",
       "      <td>0.0818</td>\n",
       "      <td>0.0627</td>\n",
       "      <td>0.0617</td>\n",
       "      <td>0.0529</td>\n",
       "      <td>0.0528</td>\n",
       "      <td>0.0419</td>\n",
       "      <td>0.0463</td>\n",
       "      <td>0.0437</td>\n",
       "      <td>0.0453</td>\n",
       "      <td>...</td>\n",
       "      <td>0.0499</td>\n",
       "      <td>0.0385</td>\n",
       "      <td>0.0302</td>\n",
       "      <td>0.0531</td>\n",
       "      <td>0.0465</td>\n",
       "      <td>0.0630</td>\n",
       "      <td>0.0572</td>\n",
       "      <td>0.0364</td>\n",
       "      <td>0.0364</td>\n",
       "      <td>0.0572</td>\n",
       "    </tr>\n",
       "    <tr>\n",
       "      <th>ALK</th>\n",
       "      <td>0.0675</td>\n",
       "      <td>0.0640</td>\n",
       "      <td>0.0590</td>\n",
       "      <td>0.0511</td>\n",
       "      <td>0.0476</td>\n",
       "      <td>0.0422</td>\n",
       "      <td>0.0455</td>\n",
       "      <td>0.0514</td>\n",
       "      <td>0.0546</td>\n",
       "      <td>0.0543</td>\n",
       "      <td>...</td>\n",
       "      <td>0.0448</td>\n",
       "      <td>0.0367</td>\n",
       "      <td>0.0489</td>\n",
       "      <td>0.0334</td>\n",
       "      <td>0.0387</td>\n",
       "      <td>0.0245</td>\n",
       "      <td>0.0226</td>\n",
       "      <td>0.0181</td>\n",
       "      <td>0.0181</td>\n",
       "      <td>0.0172</td>\n",
       "    </tr>\n",
       "    <tr>\n",
       "      <th>ABL2</th>\n",
       "      <td>0.0687</td>\n",
       "      <td>0.0715</td>\n",
       "      <td>0.0611</td>\n",
       "      <td>0.0448</td>\n",
       "      <td>0.0537</td>\n",
       "      <td>0.0513</td>\n",
       "      <td>0.0467</td>\n",
       "      <td>0.0398</td>\n",
       "      <td>0.0462</td>\n",
       "      <td>0.0505</td>\n",
       "      <td>...</td>\n",
       "      <td>0.0566</td>\n",
       "      <td>0.0640</td>\n",
       "      <td>0.0779</td>\n",
       "      <td>0.0538</td>\n",
       "      <td>0.0565</td>\n",
       "      <td>0.0378</td>\n",
       "      <td>0.0381</td>\n",
       "      <td>0.0252</td>\n",
       "      <td>0.0252</td>\n",
       "      <td>0.0289</td>\n",
       "    </tr>\n",
       "    <tr>\n",
       "      <th>AXL</th>\n",
       "      <td>0.0656</td>\n",
       "      <td>0.0753</td>\n",
       "      <td>0.0535</td>\n",
       "      <td>0.0525</td>\n",
       "      <td>0.0468</td>\n",
       "      <td>0.0467</td>\n",
       "      <td>0.0459</td>\n",
       "      <td>0.0538</td>\n",
       "      <td>0.0507</td>\n",
       "      <td>0.0542</td>\n",
       "      <td>...</td>\n",
       "      <td>0.0441</td>\n",
       "      <td>0.0506</td>\n",
       "      <td>0.0355</td>\n",
       "      <td>0.0635</td>\n",
       "      <td>0.0696</td>\n",
       "      <td>0.0592</td>\n",
       "      <td>0.0559</td>\n",
       "      <td>0.0413</td>\n",
       "      <td>0.0413</td>\n",
       "      <td>0.0455</td>\n",
       "    </tr>\n",
       "  </tbody>\n",
       "</table>\n",
       "<p>5 rows × 236 columns</p>\n",
       "</div>"
      ],
      "text/plain": [
       "           -5P     -5G     -5A     -5C     -5S     -5T     -5V     -5I  \\\n",
       "kinase                                                                   \n",
       "ABL1    0.0668  0.0689  0.0646  0.0520  0.0564  0.0539  0.0485  0.0448   \n",
       "TNK2    0.0679  0.0818  0.0627  0.0617  0.0529  0.0528  0.0419  0.0463   \n",
       "ALK     0.0675  0.0640  0.0590  0.0511  0.0476  0.0422  0.0455  0.0514   \n",
       "ABL2    0.0687  0.0715  0.0611  0.0448  0.0537  0.0513  0.0467  0.0398   \n",
       "AXL     0.0656  0.0753  0.0535  0.0525  0.0468  0.0467  0.0459  0.0538   \n",
       "\n",
       "           -5L     -5M  ...      5H      5K      5R      5Q      5N      5D  \\\n",
       "kinase                  ...                                                   \n",
       "ABL1    0.0520  0.0536  ...  0.0613  0.0652  0.0756  0.0526  0.0512  0.0362   \n",
       "TNK2    0.0437  0.0453  ...  0.0499  0.0385  0.0302  0.0531  0.0465  0.0630   \n",
       "ALK     0.0546  0.0543  ...  0.0448  0.0367  0.0489  0.0334  0.0387  0.0245   \n",
       "ABL2    0.0462  0.0505  ...  0.0566  0.0640  0.0779  0.0538  0.0565  0.0378   \n",
       "AXL     0.0507  0.0542  ...  0.0441  0.0506  0.0355  0.0635  0.0696  0.0592   \n",
       "\n",
       "            5E      5s      5t      5y  \n",
       "kinase                                  \n",
       "ABL1    0.0339  0.0254  0.0254  0.0337  \n",
       "TNK2    0.0572  0.0364  0.0364  0.0572  \n",
       "ALK     0.0226  0.0181  0.0181  0.0172  \n",
       "ABL2    0.0381  0.0252  0.0252  0.0289  \n",
       "AXL     0.0559  0.0413  0.0413  0.0455  \n",
       "\n",
       "[5 rows x 236 columns]"
      ]
     },
     "execution_count": null,
     "metadata": {},
     "output_type": "execute_result"
    }
   ],
   "source": [
    "canonical_TK.head()"
   ]
  },
  {
   "cell_type": "code",
   "execution_count": null,
   "id": "7f07831f-b46e-4f88-ac0e-84fddad0b1a5",
   "metadata": {},
   "outputs": [
    {
     "name": "stdout",
     "output_type": "stream",
     "text": [
      "considering string: ['-5K', '-4G', '-3s', '-2G', '-1D', '0y', '1M', '2P', '3M', '4s', '5P']\n"
     ]
    },
    {
     "data": {
      "text/plain": [
       "kinase\n",
       "ZAP70     2.041\n",
       "INSRR     1.907\n",
       "FLT1      1.906\n",
       "PTK2      1.873\n",
       "SYK       1.842\n",
       "          ...  \n",
       "PTK6      1.546\n",
       "LYN       1.541\n",
       "PDGFRA    1.539\n",
       "TEC       1.539\n",
       "BTK       1.496\n",
       "Length: 78, dtype: float64"
      ]
     },
     "execution_count": null,
     "metadata": {},
     "output_type": "execute_result"
    }
   ],
   "source": [
    "predict_kinase('GRKGsGDyMPMsPKs',ref =canonical_TK, func=sumup)"
   ]
  },
  {
   "cell_type": "code",
   "execution_count": null,
   "id": "b6386f92-3385-4f27-bdd4-ab781b48c529",
   "metadata": {},
   "outputs": [],
   "source": []
  }
 ],
 "metadata": {
  "kernelspec": {
   "display_name": "python3",
   "language": "python",
   "name": "python3"
  }
 },
 "nbformat": 4,
 "nbformat_minor": 5
}
