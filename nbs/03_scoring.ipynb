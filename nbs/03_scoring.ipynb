{
 "cells": [
  {
   "cell_type": "markdown",
   "metadata": {},
   "source": [
    "# Scoring\n",
    "\n",
    "> Scoring functions to calculate kinase score based on substrate sequence"
   ]
  },
  {
   "cell_type": "markdown",
   "metadata": {},
   "source": [
    "## Setup"
   ]
  },
  {
   "cell_type": "code",
   "execution_count": null,
   "metadata": {},
   "outputs": [],
   "source": [
    "#| default_exp score"
   ]
  },
  {
   "cell_type": "code",
   "execution_count": null,
   "metadata": {},
   "outputs": [],
   "source": [
    "#| export\n",
    "import numpy as np, pandas as pd\n",
    "from katlas.data import *\n",
    "from katlas.utils import *\n",
    "from katlas.pssm import *\n",
    "from typing import Callable\n",
    "from functools import partial\n",
    "\n",
    "from tqdm.contrib.concurrent import process_map\n",
    "from tqdm import tqdm"
   ]
  },
  {
   "cell_type": "markdown",
   "metadata": {},
   "source": [
    "```python\n",
    "from katlas.score import *\n",
    "```"
   ]
  },
  {
   "cell_type": "markdown",
   "metadata": {},
   "source": [
    "## Utils"
   ]
  },
  {
   "cell_type": "code",
   "execution_count": null,
   "metadata": {},
   "outputs": [],
   "source": [
    "#| export \n",
    "def cut_seq(input_string: str, # site sequence\n",
    "            min_position: int, # minimum position relative to its center\n",
    "            max_position: int, # maximum position relative to its center\n",
    "            ):\n",
    "    \n",
    "    \"Extract sequence based on a range relative to its center position\"\n",
    "    \n",
    "    # Find the center position of the string\n",
    "    center_position = len(input_string) // 2\n",
    "\n",
    "    # Calculate the start and end indices\n",
    "    start_index = max(center_position + min_position, 0)  # Ensure start_index is not negative\n",
    "    end_index = min(center_position + max_position + 1, len(input_string))  # Ensure end_index does not exceed string length\n",
    "\n",
    "    # Extract and return the substring\n",
    "    return input_string[start_index:end_index]"
   ]
  },
  {
   "cell_type": "code",
   "execution_count": null,
   "metadata": {},
   "outputs": [
    {
     "data": {
      "text/plain": [
       "'AkUuPSFSTt'"
      ]
     },
     "execution_count": null,
     "metadata": {},
     "output_type": "execute_result"
    }
   ],
   "source": [
    "cut_seq('AAkUuPSFSTtH',-5,4)"
   ]
  },
  {
   "cell_type": "code",
   "execution_count": null,
   "metadata": {},
   "outputs": [],
   "source": [
    "#| export\n",
    "def STY2sty(input_string: str):\n",
    "    \"Replace all 'STY' with 'sty' in a sequence\"    \n",
    "    return input_string.replace('S', 's').replace('T', 't').replace('Y', 'y')"
   ]
  },
  {
   "cell_type": "code",
   "execution_count": null,
   "metadata": {},
   "outputs": [
    {
     "data": {
      "text/plain": [
       "'AAkUuPsFsttH'"
      ]
     },
     "execution_count": null,
     "metadata": {},
     "output_type": "execute_result"
    }
   ],
   "source": [
    "STY2sty('AAkUuPSFSTtH') # convert all capital STY to sty in a string"
   ]
  },
  {
   "cell_type": "code",
   "execution_count": null,
   "metadata": {},
   "outputs": [],
   "source": [
    "#| export\n",
    "def get_dict(input_string:str, # phosphorylation site sequence\n",
    "            ):\n",
    "    \n",
    "    \"Get a dictionary of input string; no need for the star in the middle; make sure it is 15 or 10 length\"\n",
    "\n",
    "    center_index = len(input_string) // 2\n",
    "    center_char = input_string[center_index]\n",
    "\n",
    "    result = []\n",
    "\n",
    "    for i, char in enumerate(input_string):\n",
    "        position = i - center_index\n",
    "\n",
    "        if char.isalpha():\n",
    "            result.append(f\"{position}{char}\")\n",
    "\n",
    "    return result"
   ]
  },
  {
   "cell_type": "code",
   "execution_count": null,
   "metadata": {},
   "outputs": [
    {
     "data": {
      "text/plain": [
       "['-7P',\n",
       " '-6S',\n",
       " '-5V',\n",
       " '-4E',\n",
       " '-3P',\n",
       " '-2P',\n",
       " '-1L',\n",
       " '0s',\n",
       " '1Q',\n",
       " '2E',\n",
       " '3T',\n",
       " '4F',\n",
       " '5S',\n",
       " '6D',\n",
       " '7L']"
      ]
     },
     "execution_count": null,
     "metadata": {},
     "output_type": "execute_result"
    }
   ],
   "source": [
    "cols = get_dict(\"PSVEPPLsQETFSDL\")\n",
    "cols"
   ]
  },
  {
   "cell_type": "markdown",
   "metadata": {},
   "source": [
    "## Scoring func"
   ]
  },
  {
   "cell_type": "markdown",
   "metadata": {},
   "source": [
    "### Multiply"
   ]
  },
  {
   "cell_type": "code",
   "execution_count": null,
   "metadata": {},
   "outputs": [],
   "source": [
    "#| export\n",
    "def multiply(values, # list of values, possibilities of amino acids at certain positions\n",
    "                  kinase=None,\n",
    "             num_aa=23, # number of amino acids, 23 for standard CDDM, 20 for all uppercase CDDM\n",
    "            ):\n",
    "    \n",
    "    \"Multiply the possibilities of the amino acids at each position in a phosphorylation site\"\n",
    "    \n",
    "\n",
    "    # Using the logarithmic property: log(a*b) = log(a) + log(b)\n",
    "    # Compute the sum of the logarithms of the values and the scale factor\n",
    "    values = [v+EPSILON for v in values]\n",
    "    log_sum = np.sum(np.log2(values)) + (len(values) - 1) * np.log2(num_aa)\n",
    "\n",
    "    return log_sum"
   ]
  },
  {
   "cell_type": "markdown",
   "metadata": {},
   "source": [
    "$$\n",
    "\\text{Score} = \\log_2 \\left( \\frac{ \\prod P_{\\text{KinX}}(\\text{AA}, \\text{Position}) }{ \\left( \\frac{1}{\\#\\text{Random AA}} \\right)^{\\text{length(Position except 0)}} } \\right)\n",
    "$$"
   ]
  },
  {
   "cell_type": "markdown",
   "metadata": {},
   "source": [
    "The function implement formula from [Johnson et al. Nature: An atlas of substrate specificities for the human serine/threonine kinome, Supplementary Note2](https://static-content.springer.com/esm/art%3A10.1038%2Fs41586-022-05575-3/MediaObjects/41586_2022_5575_MOESM1_ESM.pdf) (page 160)"
   ]
  },
  {
   "cell_type": "code",
   "execution_count": null,
   "metadata": {},
   "outputs": [],
   "source": [
    "#| export\n",
    "multiply_23 = partial(multiply,num_aa=23)"
   ]
  },
  {
   "cell_type": "code",
   "execution_count": null,
   "metadata": {},
   "outputs": [],
   "source": [
    "#| export\n",
    "multiply_20 = partial(multiply,num_aa=20)"
   ]
  },
  {
   "cell_type": "markdown",
   "metadata": {},
   "source": [
    "Multiply class, consider the dynamics of scale factor"
   ]
  },
  {
   "cell_type": "code",
   "execution_count": null,
   "metadata": {},
   "outputs": [],
   "source": [
    "#| export\n",
    "def multiply_pspa(values, kinase, num_aa_dict=Data.get_num_dict()):\n",
    "    \"Multiply values, consider the dynamics of scale factor, which is PSPA random aa number.\"\n",
    "\n",
    "    # Check if any values are less than or equal to zero\n",
    "    if np.any(np.array(values) == 0):\n",
    "        return np.nan\n",
    "    else:\n",
    "        # Retrieve the divide factor from the dictionary\n",
    "        divide_factor = num_aa_dict[kinase]\n",
    "\n",
    "        # Using the logarithmic property: log(a*b) = log(a) + log(b)\n",
    "        # Compute the sum of the logarithms of the values and the divide factor\n",
    "        log_sum = np.sum(np.log2(values)) + (len(values) - 1) * np.log2(divide_factor)\n",
    "\n",
    "        return log_sum"
   ]
  },
  {
   "cell_type": "code",
   "execution_count": null,
   "metadata": {},
   "outputs": [
    {
     "data": {
      "text/plain": [
       "np.float64(22.906890595608516)"
      ]
     },
     "execution_count": null,
     "metadata": {},
     "output_type": "execute_result"
    }
   ],
   "source": [
    "multiply_pspa(values=[1,2,3,4,5],kinase='PDHK1')"
   ]
  },
  {
   "cell_type": "markdown",
   "metadata": {},
   "source": [
    "### Sum"
   ]
  },
  {
   "cell_type": "code",
   "execution_count": null,
   "metadata": {},
   "outputs": [],
   "source": [
    "#| export\n",
    "def sumup(values, # list of values, possibilities of amino acids at certain positions\n",
    "          kinase=None, \n",
    "         ):\n",
    "    \"Sum up the possibilities of the amino acids at each position in a phosphorylation site sequence\"\n",
    "    return sum(values)"
   ]
  },
  {
   "cell_type": "markdown",
   "metadata": {},
   "source": [
    "## Predict kinase"
   ]
  },
  {
   "cell_type": "code",
   "execution_count": null,
   "metadata": {},
   "outputs": [],
   "source": [
    "#| export\n",
    "def duplicate_ref_zero(df: pd.DataFrame) -> pd.DataFrame:\n",
    "    \"\"\"\n",
    "    If '0S', '0T', '0Y' exist with non-zero values, create '0s', '0t', '0y' with same values.\n",
    "    If '0s', '0t', '0y' exist with non-zero values, create '0S', '0T', '0Y' with same values.\n",
    "    \"\"\"\n",
    "    df = df.copy()\n",
    "    pairs = [('0S', '0s'), ('0T', '0t'), ('0Y', '0y')]\n",
    "\n",
    "    for upper, lower in pairs:\n",
    "        if upper in df.columns and (df[upper] != 0).any():\n",
    "            df[lower] = df[upper]\n",
    "        elif lower in df.columns and (df[lower] != 0).any():\n",
    "            df[upper] = df[lower]\n",
    "\n",
    "    return df"
   ]
  },
  {
   "cell_type": "code",
   "execution_count": null,
   "metadata": {},
   "outputs": [],
   "source": [
    "#| export\n",
    "def preprocess_ref(ref):\n",
    "    \"Convert pS/T/Y in ref columns to s/t/y if any; mirror 0S/T/Y to 0s/t/y.\"\n",
    "    ref = ref.copy()\n",
    "    # if ref contains pS,pT,pY columns, convert them to s,t,y for scoring\n",
    "    ref.columns=ref.columns.map(pSTY2sty)\n",
    "    # duplicate 0S/T/Y to 0s/t/y (or the opposite) to ensure equal treatment of zero position\n",
    "    return duplicate_ref_zero(ref)"
   ]
  },
  {
   "cell_type": "code",
   "execution_count": null,
   "metadata": {},
   "outputs": [],
   "source": [
    "#| export\n",
    "def predict_kinase(input_string: str, # site sequence\n",
    "                   ref: pd.DataFrame, # reference dataframe for scoring\n",
    "                   func: Callable, # function to calculate score\n",
    "                   to_lower: bool=False, # convert capital STY to lower case\n",
    "                   to_upper: bool=False, # convert all letter to uppercase\n",
    "                   verbose=True\n",
    "                   ):\n",
    "    \"Predict kinase given a phosphorylation site sequence\"\n",
    " \n",
    "    input_string = check_seq(input_string)\n",
    "\n",
    "    if to_lower: input_string = STY2sty(input_string)\n",
    "\n",
    "    if to_upper: input_string = input_string.upper()\n",
    "\n",
    "    ref = preprocess_ref(ref)\n",
    "    \n",
    "    results = []\n",
    "    \n",
    "    for kinase, row in ref.iterrows():\n",
    "        \n",
    "        # Convert the row into a dictionary, excluding NaN values, to create a PSSM dictionary for a kinase\n",
    "        r_dict = row.dropna().to_dict()\n",
    "        \n",
    "        # Extract position+amino acid name from the input string and filter them against the name in PSSM\n",
    "        pos_aa_name = get_dict(input_string)\n",
    "        pos_aa_name = [key for key in pos_aa_name if key in r_dict.keys()]\n",
    "    \n",
    "        # Collect corresponding PSSM values for these positions and amino acids\n",
    "        pos_aa_val = [r_dict[key] for key in pos_aa_name] # Further checks for NaN values\n",
    "        \n",
    "        # Calculate the score for this kinase using the specified function\n",
    "        score = func(pos_aa_val, kinase)\n",
    "        results.append(score)\n",
    "    \n",
    "    if verbose:\n",
    "        print(f'considering string: {pos_aa_name}')\n",
    "\n",
    "    out = pd.Series(results, index=ref.index).sort_values(ascending=False)\n",
    "        \n",
    "    return out.round(3).dropna()"
   ]
  },
  {
   "cell_type": "markdown",
   "metadata": {},
   "source": [
    "PSPA scoring:"
   ]
  },
  {
   "cell_type": "code",
   "execution_count": null,
   "metadata": {},
   "outputs": [],
   "source": [
    "pspa_ref = Data.get_pspa_all_norm()"
   ]
  },
  {
   "cell_type": "code",
   "execution_count": null,
   "metadata": {},
   "outputs": [
    {
     "name": "stdout",
     "output_type": "stream",
     "text": [
      "considering string: ['-5V', '-4E', '-3P', '-2P', '-1L', '0s', '1Q', '2E', '3T', '4F', '5S']\n"
     ]
    },
    {
     "data": {
      "text/plain": [
       "kinase\n",
       "ATM       5.037\n",
       "SMG1      4.385\n",
       "DNAPK     3.818\n",
       "ATR       3.507\n",
       "FAM20C    3.170\n",
       "          ...  \n",
       "PKN1     -7.275\n",
       "P70S6K   -7.295\n",
       "AKT3     -7.375\n",
       "PKCI     -7.742\n",
       "NEK3     -8.254\n",
       "Length: 303, dtype: float64"
      ]
     },
     "execution_count": null,
     "metadata": {},
     "output_type": "execute_result"
    }
   ],
   "source": [
    "predict_kinase(\"PSVEPPLsQETFSDL\",ref=pspa_ref,func=multiply_pspa)"
   ]
  },
  {
   "cell_type": "markdown",
   "metadata": {},
   "source": [
    "CDDM scoring, LO + sum"
   ]
  },
  {
   "cell_type": "code",
   "execution_count": null,
   "metadata": {},
   "outputs": [],
   "source": [
    "ref=Data.get_cddm_LO() # Data.get_cddm_LO_upper()"
   ]
  },
  {
   "cell_type": "code",
   "execution_count": null,
   "metadata": {},
   "outputs": [
    {
     "name": "stdout",
     "output_type": "stream",
     "text": [
      "considering string: ['-7P', '-6S', '-5V', '-4E', '-3P', '-2P', '-1L', '0s', '1Q', '2E', '3T', '4F', '5S', '6D', '7L']\n"
     ]
    },
    {
     "data": {
      "text/plain": [
       "ATR        12.751\n",
       "ATM        10.960\n",
       "DNAPK       6.039\n",
       "SRPK2       2.079\n",
       "SMMLCK      1.876\n",
       "           ...   \n",
       "ROR1      -89.216\n",
       "CDC7      -91.457\n",
       "CAMK1B    -91.577\n",
       "TNNI3K   -118.835\n",
       "BRAF     -134.851\n",
       "Length: 328, dtype: float64"
      ]
     },
     "execution_count": null,
     "metadata": {},
     "output_type": "execute_result"
    }
   ],
   "source": [
    "predict_kinase(\"PSVEPPLsQETFSDL\",ref=ref,func=sumup)"
   ]
  },
  {
   "cell_type": "markdown",
   "metadata": {},
   "source": [
    "CDDM scoring, PSSM + multiply (#23aa)"
   ]
  },
  {
   "cell_type": "code",
   "execution_count": null,
   "metadata": {},
   "outputs": [
    {
     "name": "stdout",
     "output_type": "stream",
     "text": [
      "considering string: ['-7P', '-6S', '-5V', '-4E', '-3P', '-2P', '-1L', '0s', '1Q', '2E', '3T', '4F', '5S', '6D', '7L']\n"
     ]
    },
    {
     "data": {
      "text/plain": [
       "ATR        16.824\n",
       "ATM        15.033\n",
       "DNAPK      10.112\n",
       "SRPK2       6.152\n",
       "SMMLCK      5.949\n",
       "           ...   \n",
       "ROR1      -85.143\n",
       "CDC7      -87.384\n",
       "CAMK1B    -87.503\n",
       "TNNI3K   -114.762\n",
       "BRAF     -130.778\n",
       "Length: 328, dtype: float64"
      ]
     },
     "execution_count": null,
     "metadata": {},
     "output_type": "execute_result"
    }
   ],
   "source": [
    "ref=Data.get_cddm() # Data.get_cddm_upper()\n",
    "predict_kinase(\"PSVEPPLsQETFSDL\",ref=ref,func=multiply_23)"
   ]
  },
  {
   "cell_type": "markdown",
   "metadata": {},
   "source": [
    "CDDM scoring, PSSM + multiply (#20aa)"
   ]
  },
  {
   "cell_type": "code",
   "execution_count": null,
   "metadata": {},
   "outputs": [
    {
     "name": "stdout",
     "output_type": "stream",
     "text": [
      "considering string: ['-7P', '-6S', '-5V', '-4E', '-3P', '-2P', '-1L', '0s', '1Q', '2E', '3T', '4F', '5S', '6D', '7L']\n"
     ]
    },
    {
     "data": {
      "text/plain": [
       "ATR        16.587\n",
       "ATM        14.362\n",
       "DNAPK      10.430\n",
       "SRPK2       8.044\n",
       "CHK2        7.955\n",
       "           ...   \n",
       "TTK       -43.375\n",
       "GAK       -45.159\n",
       "CAMK1B    -69.395\n",
       "TNNI3K    -70.993\n",
       "BRAF     -109.130\n",
       "Length: 328, dtype: float64"
      ]
     },
     "execution_count": null,
     "metadata": {},
     "output_type": "execute_result"
    }
   ],
   "source": [
    "ref=Data.get_cddm_upper() # Data.get_cddm_upper()\n",
    "predict_kinase(\"PSVEPPLsQETFSDL\",ref=ref,func=multiply_20)"
   ]
  },
  {
   "cell_type": "markdown",
   "metadata": {},
   "source": [
    "## Params"
   ]
  },
  {
   "cell_type": "markdown",
   "metadata": {},
   "source": [
    "Here we provide different PSSM settings from either PSPA data or kinase-substrate dataset for kinase prediction:"
   ]
  },
  {
   "cell_type": "code",
   "execution_count": null,
   "metadata": {},
   "outputs": [],
   "source": [
    "#| export\n",
    "def Params(name=None, load=True):\n",
    "    def lazy(f): return lambda: f().astype('float32')\n",
    "    \n",
    "    params = {\n",
    "        \"CDDM\": {'ref': lazy(Data.get_cddm_LO), 'func': sumup},\n",
    "        \"CDDM_upper\": {'ref': lazy(Data.get_cddm_LO_upper), 'func': sumup, 'to_upper': True},\n",
    "        \"PSPA_st\": {'ref': lazy(Data.get_pspa_st_norm), 'func': multiply_pspa},\n",
    "        \"PSPA_y\": {'ref': lazy(Data.get_pspa_tyr_norm), 'func': multiply_pspa},\n",
    "        \"PSPA\": {'ref': lazy(Data.get_pspa_all_norm), 'func': multiply_pspa},\n",
    "    }\n",
    "\n",
    "    if name is None:\n",
    "        return list(params.keys())\n",
    "\n",
    "    cfg = params[name]\n",
    "    if load and callable(cfg['ref']):\n",
    "        cfg['ref'] = cfg['ref']()  # actually load now\n",
    "    return cfg"
   ]
  },
  {
   "cell_type": "code",
   "execution_count": null,
   "metadata": {},
   "outputs": [
    {
     "data": {
      "text/plain": [
       "['CDDM', 'CDDM_upper', 'PSPA_st', 'PSPA_y', 'PSPA']"
      ]
     },
     "execution_count": null,
     "metadata": {},
     "output_type": "execute_result"
    }
   ],
   "source": [
    "Params()"
   ]
  },
  {
   "cell_type": "code",
   "execution_count": null,
   "metadata": {},
   "outputs": [
    {
     "name": "stdout",
     "output_type": "stream",
     "text": [
      "considering string: ['-5V', '-4E', '-3P', '-2P', '-1L', '0s', '1Q', '2E', '3T', '4F', '5S']\n",
      "kinase\n",
      "ATM       5.037\n",
      "SMG1      4.385\n",
      "DNAPK     3.818\n",
      "ATR       3.507\n",
      "FAM20C    3.170\n",
      "dtype: float64\n",
      "considering string: ['-7P', '-6S', '-5V', '-4E', '-3P', '-2P', '-1L', '0s', '1Q', '2E', '3T', '4F', '5S', '6D', '7L']\n",
      "ATR       12.751\n",
      "ATM       10.960\n",
      "DNAPK      6.039\n",
      "SRPK2      2.079\n",
      "SMMLCK     1.876\n",
      "dtype: float64\n",
      "considering string: ['-7P', '-6S', '-5V', '-4E', '-3P', '-2P', '-1L', '0S', '1Q', '2E', '3T', '4F', '5S', '6D', '7L']\n",
      "ATR      11.815\n",
      "ATM       9.590\n",
      "DNAPK     5.659\n",
      "SRPK2     3.272\n",
      "CHK2      3.183\n",
      "dtype: float64\n"
     ]
    }
   ],
   "source": [
    "for p in ['PSPA', 'CDDM','CDDM_upper']:\n",
    "    print(predict_kinase(\"PSVEPPLsQETFSDL\",**Params(p)).head())"
   ]
  },
  {
   "cell_type": "markdown",
   "metadata": {},
   "source": [
    "## Predict kinase in df"
   ]
  },
  {
   "cell_type": "code",
   "execution_count": null,
   "metadata": {},
   "outputs": [],
   "source": [
    "#| export\n",
    "def multiply_generic(merged_df, kinases, df_index, divide_factor_func):\n",
    "    \"\"\"Multiply-based log-sum aggregation across kinases.\"\"\"\n",
    "    out = {}\n",
    "    log2 = np.log2  # local alias for speed\n",
    "    \n",
    "    for kinase in tqdm(kinases, desc=\"Computing multiply_generic\"):\n",
    "        divide_factor = divide_factor_func(kinase)\n",
    "        df = merged_df[['input_index', kinase]].dropna()\n",
    "        if df.empty:\n",
    "            out[kinase] = pd.Series(index=df_index, dtype=float)\n",
    "            continue\n",
    "        \n",
    "        log_values = log2(df[kinase] + EPSILON)\n",
    "        grouped = df.assign(log_value=log_values).groupby('input_index')['log_value']\n",
    "        \n",
    "        # vectorized form\n",
    "        log_sum = grouped.sum() + (grouped.count() - 1) * log2(divide_factor)\n",
    "        out[kinase] = log_sum\n",
    "\n",
    "    return pd.DataFrame(out).reindex(df_index)"
   ]
  },
  {
   "cell_type": "code",
   "execution_count": null,
   "metadata": {},
   "outputs": [],
   "source": [
    "#| export\n",
    "def predict_kinase_df(df, seq_col, ref, func, to_lower=False, to_upper=False):\n",
    "    \"\"\"\n",
    "    Predict kinase scores based on reference PSSM or weight matrix.\n",
    "    Applies preprocessing, merges long format keys, then aggregates using given func.\n",
    "    \"\"\"\n",
    "    print(f\"Input dataframe has {len(df)} rows\")\n",
    "    print(\"Preprocessing...\")\n",
    "\n",
    "    ref = preprocess_ref(ref)\n",
    "    df = df.copy()\n",
    "    df[seq_col] = check_seqs(df[seq_col])  # accepts both Series and DataFrame per your earlier fix\n",
    "\n",
    "    if to_lower:\n",
    "        df[seq_col] = df[seq_col].apply(STY2sty)\n",
    "    if to_upper:\n",
    "        df[seq_col] = df[seq_col].str.upper()\n",
    "\n",
    "    # Align sequence length to ref\n",
    "    pos = ref.columns.str[:-1].astype(int)\n",
    "    df[seq_col] = df[seq_col].apply(partial(cut_seq, min_position=pos.min(), max_position=pos.max()))\n",
    "\n",
    "    print(\"Preprocessing done. Expanding sequences...\")\n",
    "\n",
    "    # Convert sequences to long-form keys\n",
    "    input_keys_df = (\n",
    "        df.assign(keys=df[seq_col].apply(get_dict))\n",
    "          .explode('keys')\n",
    "          .reset_index(names='input_index')[['input_index', 'keys']]\n",
    "          .rename(columns={'keys': 'key'})\n",
    "          .set_index('key')\n",
    "    )\n",
    "\n",
    "    print(\"Merging reference...\")\n",
    "    ref_T = ref.T.astype('float32')\n",
    "    merged_df = input_keys_df.merge(ref_T, left_index=True, right_index=True, how='inner')\n",
    "    print(\"Merge complete.\")\n",
    "\n",
    "    # Dispatch by func\n",
    "    if func == sumup:\n",
    "        out = merged_df.groupby('input_index').sum().reindex(df.index)\n",
    "    elif func in (multiply_pspa, multiply_23, multiply_20):\n",
    "        num_dict = Data.get_num_dict() if func == multiply_pspa else None\n",
    "        divisor = (\n",
    "            (lambda k: num_dict[k])\n",
    "            if func == multiply_pspa else\n",
    "            (lambda k: 23 if func == multiply_23 else 20)\n",
    "        )\n",
    "        out = multiply_generic(merged_df, ref_T.columns, df.index, divide_factor_func=divisor)\n",
    "    else:\n",
    "        raise ValueError(f\"Unknown function: {func}\")\n",
    "\n",
    "    return out.round(3)"
   ]
  },
  {
   "cell_type": "code",
   "execution_count": null,
   "metadata": {},
   "outputs": [],
   "source": [
    "df=Data.get_human_site()"
   ]
  },
  {
   "cell_type": "code",
   "execution_count": null,
   "metadata": {},
   "outputs": [],
   "source": [
    "# for p in ['CDDM', 'CDDM_upper', 'PSPA_st', 'PSPA_y', 'PSPA']:\n",
    "#     out = predict_kinase_df2(df.head(10), seq_col='site_seq', **Params(p))\n",
    "#     print(out.head())"
   ]
  },
  {
   "cell_type": "code",
   "execution_count": null,
   "metadata": {},
   "outputs": [
    {
     "name": "stdout",
     "output_type": "stream",
     "text": [
      "Input dataframe has 100 rows\n",
      "Preprocessing...\n",
      "Preprocessing done. Expanding sequences...\n",
      "Merging reference...\n",
      "Merge complete.\n"
     ]
    },
    {
     "name": "stderr",
     "output_type": "stream",
     "text": [
      "Computing multiply_generic:   0%|          | 0/396 [00:00<?, ?it/s]"
     ]
    },
    {
     "name": "stderr",
     "output_type": "stream",
     "text": [
      "Computing multiply_generic: 100%|██████████| 396/396 [00:00<00:00, 650.95it/s]\n"
     ]
    }
   ],
   "source": [
    "out = predict_kinase_df(df.head(100), seq_col='site_seq', **Params('PSPA'))"
   ]
  },
  {
   "cell_type": "markdown",
   "metadata": {},
   "source": [
    "## Percentile scoring"
   ]
  },
  {
   "cell_type": "code",
   "execution_count": null,
   "metadata": {},
   "outputs": [],
   "source": [
    "#| export\n",
    "def get_pct(site,ref,func,pct_ref):\n",
    "    \n",
    "    \"Replicate the precentile results from The Kinase Library.\"\n",
    "    \n",
    "    # As here we try to replicate the results, we use site.upper(); consider removing it for future version.\n",
    "    score = predict_kinase(site.upper(),ref=ref,func=func)\n",
    "    \n",
    "    percentiles = {}\n",
    "    for kinase in score.index: \n",
    "        # Get the values from `ref` for this kinase\n",
    "        ref_values = pct_ref[kinase].values\n",
    "        # Calculate how many values in `ref` are less than the new score\n",
    "        less = np.sum(ref_values < score[kinase])\n",
    "        # Calculate how many values are equal to the new score\n",
    "        equal = np.sum(ref_values == score[kinase])\n",
    "        # Calculate the percentile rank\n",
    "        percentile = (less + 0.5 * equal) / len(ref_values) * 100\n",
    "        percentiles[kinase] = percentile\n",
    "        \n",
    "    pct = pd.Series(percentiles)\n",
    "    final = pd.concat([score,pct],axis=1)\n",
    "    final.columns=['log2(score)','percentile']\n",
    "    return final"
   ]
  },
  {
   "cell_type": "code",
   "execution_count": null,
   "metadata": {},
   "outputs": [],
   "source": [
    "st_pct = Data.get_pspa_st_pct()\n",
    "y_pct = Data.get_pspa_tyr_pct()"
   ]
  },
  {
   "cell_type": "code",
   "execution_count": null,
   "metadata": {},
   "outputs": [
    {
     "name": "stdout",
     "output_type": "stream",
     "text": [
      "considering string: ['-5V', '-4E', '-3P', '-2P', '-1L', '0Y', '1Q', '2E', '3T', '4F', '5S']\n"
     ]
    },
    {
     "data": {
      "text/html": [
       "<div>\n",
       "<style scoped>\n",
       "    .dataframe tbody tr th:only-of-type {\n",
       "        vertical-align: middle;\n",
       "    }\n",
       "\n",
       "    .dataframe tbody tr th {\n",
       "        vertical-align: top;\n",
       "    }\n",
       "\n",
       "    .dataframe thead th {\n",
       "        text-align: right;\n",
       "    }\n",
       "</style>\n",
       "<table border=\"1\" class=\"dataframe\">\n",
       "  <thead>\n",
       "    <tr style=\"text-align: right;\">\n",
       "      <th></th>\n",
       "      <th>log2(score)</th>\n",
       "      <th>percentile</th>\n",
       "    </tr>\n",
       "  </thead>\n",
       "  <tbody>\n",
       "    <tr>\n",
       "      <th>ABL2</th>\n",
       "      <td>3.137</td>\n",
       "      <td>96.568694</td>\n",
       "    </tr>\n",
       "    <tr>\n",
       "      <th>BMX</th>\n",
       "      <td>2.816</td>\n",
       "      <td>96.117567</td>\n",
       "    </tr>\n",
       "    <tr>\n",
       "      <th>BTK</th>\n",
       "      <td>1.956</td>\n",
       "      <td>95.693780</td>\n",
       "    </tr>\n",
       "    <tr>\n",
       "      <th>CSK</th>\n",
       "      <td>2.303</td>\n",
       "      <td>95.174299</td>\n",
       "    </tr>\n",
       "    <tr>\n",
       "      <th>MERTK</th>\n",
       "      <td>2.509</td>\n",
       "      <td>93.588517</td>\n",
       "    </tr>\n",
       "    <tr>\n",
       "      <th>...</th>\n",
       "      <td>...</td>\n",
       "      <td>...</td>\n",
       "    </tr>\n",
       "    <tr>\n",
       "      <th>FLT1</th>\n",
       "      <td>-1.919</td>\n",
       "      <td>25.358852</td>\n",
       "    </tr>\n",
       "    <tr>\n",
       "      <th>PINK1_TYR</th>\n",
       "      <td>-1.227</td>\n",
       "      <td>21.927546</td>\n",
       "    </tr>\n",
       "    <tr>\n",
       "      <th>MUSK</th>\n",
       "      <td>-3.031</td>\n",
       "      <td>21.298701</td>\n",
       "    </tr>\n",
       "    <tr>\n",
       "      <th>TNNI3K_TYR</th>\n",
       "      <td>-3.549</td>\n",
       "      <td>11.004785</td>\n",
       "    </tr>\n",
       "    <tr>\n",
       "      <th>PKMYT1_TYR</th>\n",
       "      <td>-1.739</td>\n",
       "      <td>4.798360</td>\n",
       "    </tr>\n",
       "  </tbody>\n",
       "</table>\n",
       "<p>93 rows × 2 columns</p>\n",
       "</div>"
      ],
      "text/plain": [
       "            log2(score)  percentile\n",
       "ABL2              3.137   96.568694\n",
       "BMX               2.816   96.117567\n",
       "BTK               1.956   95.693780\n",
       "CSK               2.303   95.174299\n",
       "MERTK             2.509   93.588517\n",
       "...                 ...         ...\n",
       "FLT1             -1.919   25.358852\n",
       "PINK1_TYR        -1.227   21.927546\n",
       "MUSK             -3.031   21.298701\n",
       "TNNI3K_TYR       -3.549   11.004785\n",
       "PKMYT1_TYR       -1.739    4.798360\n",
       "\n",
       "[93 rows x 2 columns]"
      ]
     },
     "execution_count": null,
     "metadata": {},
     "output_type": "execute_result"
    }
   ],
   "source": [
    "out = get_pct('PSVEPPLyQETFSDL',**Params('PSPA_y'), pct_ref=y_pct)\n",
    "out.sort_values('percentile',ascending=False)"
   ]
  },
  {
   "cell_type": "code",
   "execution_count": null,
   "metadata": {},
   "outputs": [
    {
     "name": "stdout",
     "output_type": "stream",
     "text": [
      "considering string: ['-5V', '-4E', '-3P', '-2P', '-1L', '0S', '1Q', '2E', '3T', '4F']\n"
     ]
    },
    {
     "data": {
      "text/html": [
       "<div>\n",
       "<style scoped>\n",
       "    .dataframe tbody tr th:only-of-type {\n",
       "        vertical-align: middle;\n",
       "    }\n",
       "\n",
       "    .dataframe tbody tr th {\n",
       "        vertical-align: top;\n",
       "    }\n",
       "\n",
       "    .dataframe thead th {\n",
       "        text-align: right;\n",
       "    }\n",
       "</style>\n",
       "<table border=\"1\" class=\"dataframe\">\n",
       "  <thead>\n",
       "    <tr style=\"text-align: right;\">\n",
       "      <th></th>\n",
       "      <th>log2(score)</th>\n",
       "      <th>percentile</th>\n",
       "    </tr>\n",
       "  </thead>\n",
       "  <tbody>\n",
       "    <tr>\n",
       "      <th>ATM</th>\n",
       "      <td>5.037</td>\n",
       "      <td>99.822351</td>\n",
       "    </tr>\n",
       "    <tr>\n",
       "      <th>SMG1</th>\n",
       "      <td>4.385</td>\n",
       "      <td>99.831819</td>\n",
       "    </tr>\n",
       "    <tr>\n",
       "      <th>DNAPK</th>\n",
       "      <td>3.818</td>\n",
       "      <td>99.205315</td>\n",
       "    </tr>\n",
       "    <tr>\n",
       "      <th>ATR</th>\n",
       "      <td>3.507</td>\n",
       "      <td>99.680344</td>\n",
       "    </tr>\n",
       "    <tr>\n",
       "      <th>FAM20C</th>\n",
       "      <td>3.170</td>\n",
       "      <td>95.370556</td>\n",
       "    </tr>\n",
       "    <tr>\n",
       "      <th>...</th>\n",
       "      <td>...</td>\n",
       "      <td>...</td>\n",
       "    </tr>\n",
       "    <tr>\n",
       "      <th>PKN1</th>\n",
       "      <td>-7.275</td>\n",
       "      <td>14.070436</td>\n",
       "    </tr>\n",
       "    <tr>\n",
       "      <th>P70S6K</th>\n",
       "      <td>-7.295</td>\n",
       "      <td>4.089816</td>\n",
       "    </tr>\n",
       "    <tr>\n",
       "      <th>AKT3</th>\n",
       "      <td>-7.375</td>\n",
       "      <td>11.432995</td>\n",
       "    </tr>\n",
       "    <tr>\n",
       "      <th>PKCI</th>\n",
       "      <td>-7.742</td>\n",
       "      <td>8.129511</td>\n",
       "    </tr>\n",
       "    <tr>\n",
       "      <th>NEK3</th>\n",
       "      <td>-8.254</td>\n",
       "      <td>4.637240</td>\n",
       "    </tr>\n",
       "  </tbody>\n",
       "</table>\n",
       "<p>303 rows × 2 columns</p>\n",
       "</div>"
      ],
      "text/plain": [
       "        log2(score)  percentile\n",
       "ATM           5.037   99.822351\n",
       "SMG1          4.385   99.831819\n",
       "DNAPK         3.818   99.205315\n",
       "ATR           3.507   99.680344\n",
       "FAM20C        3.170   95.370556\n",
       "...             ...         ...\n",
       "PKN1         -7.275   14.070436\n",
       "P70S6K       -7.295    4.089816\n",
       "AKT3         -7.375   11.432995\n",
       "PKCI         -7.742    8.129511\n",
       "NEK3         -8.254    4.637240\n",
       "\n",
       "[303 rows x 2 columns]"
      ]
     },
     "execution_count": null,
     "metadata": {},
     "output_type": "execute_result"
    }
   ],
   "source": [
    "get_pct('PSVEPPLsQETFSDL',**Params('PSPA_st'), pct_ref=st_pct)"
   ]
  },
  {
   "cell_type": "code",
   "execution_count": null,
   "metadata": {},
   "outputs": [],
   "source": [
    "#| export\n",
    "def get_pct_df(score_df, # output from predict_kinase_df \n",
    "               pct_ref, # a reference df for percentile calculation\n",
    "              ):\n",
    "    \n",
    "    \"Replicate the precentile results from The Kinase Library.\"\n",
    "\n",
    "    # Create an array to hold percentile ranks\n",
    "    percentiles = np.zeros(score_df.shape)\n",
    "    \n",
    "    # Calculate percentiles for each column in a vectorized manner\n",
    "    for i, kinase in tqdm(enumerate(score_df.columns),total=len(score_df.columns)):\n",
    "        ref_values = np.sort(pct_ref[kinase].values)\n",
    "        \n",
    "        # Use searchsorted to find indices where the scores would be inserted to maintain order\n",
    "        indices = np.searchsorted(ref_values, score_df[kinase].values, side='right')\n",
    "        \n",
    "        # Calculate percentile ranks\n",
    "        percentiles[:, i] = indices / len(ref_values) * 100\n",
    "\n",
    "    # Convert the array to a DataFrame with appropriate indices and columns\n",
    "    percentiles_df = pd.DataFrame(percentiles, index=score_df.index, columns=score_df.columns).astype(float).round(3)\n",
    "    \n",
    "    return percentiles_df"
   ]
  },
  {
   "cell_type": "markdown",
   "metadata": {},
   "source": [
    "```python\n",
    "# substrate score first\n",
    "score_df = predict_kinase_df(df_sty,'site_seq', **Params('PSPA_st'))\n",
    "\n",
    "#get percentile reference\n",
    "pct_ref = Data.get_pspa_st_pct()\n",
    "\n",
    "# calculate percentile score\n",
    "pct = get_pct_df(score_df,pct_ref)\n",
    "```"
   ]
  },
  {
   "cell_type": "markdown",
   "metadata": {},
   "source": [
    "## End"
   ]
  },
  {
   "cell_type": "code",
   "execution_count": null,
   "metadata": {},
   "outputs": [],
   "source": [
    "#| hide\n",
    "import nbdev; nbdev.nbdev_export()"
   ]
  },
  {
   "cell_type": "code",
   "execution_count": null,
   "metadata": {},
   "outputs": [],
   "source": [
    "#| hide\n",
    "# # import json\n",
    "\n",
    "# # # Save\n",
    "# # with open('cddm_pssms.json', 'w') as f:\n",
    "# #     json.dump(pssms_dict, f)\n",
    "\n",
    "# pssms = Data.get_cddm()\n",
    "\n",
    "# pssms_dict = pssms.to_dict(orient='index')\n",
    "\n",
    "# # with open('cddm_pssms.json', 'r') as f:\n",
    "# #     pssms_dict = json.load(f)\n",
    "\n",
    "# #| export\n",
    "# def get_pos_range(pssms_dict):\n",
    "#     \"Get min and max position given a pssms_dict.\"\n",
    "#     one_pssm = next(iter(pssms_dict.values()))\n",
    "#     values = set([int(k[:-1]) for k in one_pssm.keys()])\n",
    "#     return min(values),max(values)\n",
    "\n",
    "# get_pos_range(pssms_dict)\n",
    "\n",
    "# #| export\n",
    "# def cut_seq_on_pssms(site_seq,pssms_dict):\n",
    "#     \"Based on one pssm from pssms_dict, cut site seq if it is out of bound.\"\n",
    "    \n",
    "#     min_pos,max_pos= get_pos_range(pssms_dict)\n",
    "#     print(f'Let sequence be within the position range of reference PSSMs: {min_pos} to +{max_pos}.')\n",
    "#     return cut_seq(site_seq,min_pos,max_pos)\n",
    "\n",
    "# cut_seq_on_pssms('SSSSSPSVEPPLsQETFSDLSSSSS',pssms_dict)\n",
    "\n",
    "# #| export\n",
    "# def cut_seq_on_pssms_df(df,seq_col,pssms_dict):\n",
    "#     \"Based on one pssm from pssms_dict, cut sequences in a df if it is out of bound.\"\n",
    "#     min_pos,max_pos= get_pos_range(pssms_dict)\n",
    "#     print(f'Let sequence be within the position range of reference PSSMs: {min_pos} to +{max_pos}.')\n",
    "#     return df[seq_col].apply(partial(cut_seq, min_position=min_pos, max_position=max_pos))\n",
    "\n",
    "# human = Data.get_human_site()\n",
    "\n",
    "# cut_seq_on_pssms_df(human,'site_seq',pssms_dict)\n",
    "\n",
    "# #| export\n",
    "# def calculate_log_odds(cut_seq, # site sequence to be scored\n",
    "#                         pssms_dict,# key as kinase and value as flattened pssm\n",
    "#                        site_type=None,\n",
    "#                        bg_pssm=None,\n",
    "#                         sort=True,\n",
    "#                        ):\n",
    "#     \"Calculate log odds based on cut sequence within the reference pssm range.\"\n",
    "#     bg_df = Data.get_ks_background()\n",
    "#     if site_type is not None: bg_pssm = bg_df.loc[f'ks_{site_type.upper()}'].copy()\n",
    "#     elif bg_pssm is not None: bg_pssm = bg_pssm.copy()\n",
    "#     else:\n",
    "#         acceptor_pos = len(cut_seq)//2\n",
    "#         acceptor=cut_seq[acceptor_pos]\n",
    "#         bg_pssm = bg_df.loc[f'ks_{acceptor.upper()}'].copy()\n",
    "    \n",
    "#     pos_aa_keys = get_dict(cut_seq)\n",
    "#     out = {}\n",
    "#     for k,flatten_pssm in pssms_dict.items(): \n",
    "#         # if the flatten pssm value got zero, it will leads to -inf\n",
    "#         score = sum([np.log2((flatten_pssm[pos_aa] + 1e-5)/(bg_pssm[pos_aa]+1e-5)) for pos_aa in pos_aa_keys])\n",
    "#         out[k]=score\n",
    "    \n",
    "#     return pd.Series(out).sort_values(ascending=False) if sort else pd.Series(out)\n",
    "\n",
    "# calculate_log_odds('PSVEPPLsQETFSDL',pssms_dict)\n",
    "\n",
    "# #| export\n",
    "# def get_kinase_log_odds(site_seq, # site sequence to be scored\n",
    "#                         pssms_dict,# key as kinase and value as flattened pssm\n",
    "#                         **kwargs\n",
    "#                        ):\n",
    "#     \"Calculate kinase score of a site sequence given pssms_dict and background pssm.\"\n",
    "#     seq = check_seq(site_seq)\n",
    "#     cut_seq = cut_seq_on_pssms(seq,pssms_dict)\n",
    "#     return calculate_log_odds(cut_seq,pssms_dict=pssms_dict,**kwargs)\n",
    "\n",
    "# check_seq('PSVEPPLsQETFSDL')\n",
    "\n",
    "# get_kinase_log_odds('PSVEPPLsQETFSDL',pssms_dict)\n",
    "\n",
    "# #| export\n",
    "# def check_seqs(seqs:pd.Series):\n",
    "#     \"Convert non-s/t/y to upper case & replace with underscore if the character is not in the allowed set\"\n",
    "#     assert len(seqs.str.len().value_counts())==1, 'inconsistent sequence length detected'\n",
    "#     return seqs.apply(check_seq)\n",
    "\n",
    "# #| export\n",
    "# def get_kinase_log_odds_df(df, seq_col, # site sequence to be scored\n",
    "#                         pssms_dict,# key as kinase and value as flattened pssm\n",
    "#                            parallel=True, # use parallel processing if True\n",
    "#                            sort=False,\n",
    "#                         **kwargs\n",
    "                           \n",
    "#                        ):\n",
    "#     \"Calculate kinase score of sequences in a df given pssms_dict and background pssm.\"\n",
    "#     cut_seqs = cut_seq_on_pssms_df(df, seq_col,pssms_dict)\n",
    "#     checked_cut_seqs = check_seqs(cut_seqs)\n",
    "    \n",
    "#     if parallel:\n",
    "#         wrapper = partial(calculate_log_odds, sort=sort,**kwargs)\n",
    "#         results = process_map(wrapper, checked_cut_seqs,chunksize=100)\n",
    "#         return pd.DataFrame(results)\n",
    "#     else:\n",
    "#         return pd.DataFrame([calculate_log_odds(seq,pssms_dict,sort=sort,**kwargs) for seq in tqdm(checked_cut_seqs)])\n",
    "\n",
    "# get_kinase_log_odds_df(human.head(10),'site_seq',pssms_dict,parallel=False)"
   ]
  },
  {
   "cell_type": "code",
   "execution_count": null,
   "metadata": {},
   "outputs": [],
   "source": []
  }
 ],
 "metadata": {
  "kernelspec": {
   "display_name": "python3",
   "language": "python",
   "name": "python3"
  },
  "widgets": {
   "application/vnd.jupyter.widget-state+json": {
    "state": {},
    "version_major": 2,
    "version_minor": 0
   }
  }
 },
 "nbformat": 4,
 "nbformat_minor": 4
}
