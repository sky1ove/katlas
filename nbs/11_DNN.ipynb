{
 "cells": [
  {
   "cell_type": "markdown",
   "metadata": {},
   "source": [
    "# Train DL\n",
    "\n",
    "> Deep neural nets for PSSM"
   ]
  },
  {
   "cell_type": "markdown",
   "metadata": {},
   "source": [
    "## Setup"
   ]
  },
  {
   "cell_type": "code",
   "execution_count": 1,
   "metadata": {},
   "outputs": [],
   "source": [
    "#| default_exp dnn"
   ]
  },
  {
   "cell_type": "code",
   "execution_count": 2,
   "metadata": {},
   "outputs": [],
   "source": [
    "#| export\n",
    "import torch\n",
    "from torch.utils.data import Dataset\n",
    "import torch.nn.functional as F\n",
    "import fastcore.all as fc\n",
    "\n",
    "import numpy as np, pandas as pd\n",
    "import os, random\n",
    "from katlas.data import *\n",
    "from katlas.train import *\n",
    "from katlas.pssm import *\n",
    "from fastai.vision.all import *\n",
    "import pandas as pd"
   ]
  },
  {
   "cell_type": "markdown",
   "metadata": {},
   "source": [
    "## Utils"
   ]
  },
  {
   "cell_type": "code",
   "execution_count": 3,
   "metadata": {},
   "outputs": [],
   "source": [
    "#| export\n",
    "def seed_everything(seed=123):\n",
    "    random.seed(seed)\n",
    "    os.environ['PYTHONHASHSEED'] = str(seed)\n",
    "    np.random.seed(seed)\n",
    "    torch.manual_seed(seed)\n",
    "    torch.cuda.manual_seed(seed)\n",
    "    torch.backends.cudnn.deterministic = True\n",
    "    torch.backends.cudnn.benchmark = False"
   ]
  },
  {
   "cell_type": "code",
   "execution_count": 4,
   "metadata": {},
   "outputs": [],
   "source": [
    "seed_everything()"
   ]
  },
  {
   "cell_type": "code",
   "execution_count": 5,
   "metadata": {},
   "outputs": [],
   "source": [
    "#| export\n",
    "def_device = 'mps' if torch.backends.mps.is_available() else 'cuda' if torch.cuda.is_available() else 'cpu'"
   ]
  },
  {
   "cell_type": "code",
   "execution_count": 6,
   "metadata": {},
   "outputs": [
    {
     "data": {
      "text/plain": [
       "'cuda'"
      ]
     },
     "execution_count": 6,
     "metadata": {},
     "output_type": "execute_result"
    }
   ],
   "source": [
    "def_device"
   ]
  },
  {
   "cell_type": "markdown",
   "metadata": {},
   "source": [
    "## Load Data"
   ]
  },
  {
   "cell_type": "code",
   "execution_count": 7,
   "metadata": {},
   "outputs": [],
   "source": [
    "df=pd.read_parquet('paper/kinase_domain/train/pspa_t5.parquet')"
   ]
  },
  {
   "cell_type": "code",
   "execution_count": 8,
   "metadata": {},
   "outputs": [
    {
     "name": "stdout",
     "output_type": "stream",
     "text": [
      "GroupKFold(n_splits=5, random_state=None, shuffle=False)\n",
      "# subfamily in train set: 120\n",
      "# subfamily in test set: 29\n"
     ]
    }
   ],
   "source": [
    "info=Data.get_kinase_info()\n",
    "\n",
    "info = info[info.pseudo=='0']\n",
    "\n",
    "info = info[info.kd_ID.notna()]\n",
    "\n",
    "subfamily_map = info[['kd_ID','subfamily']].drop_duplicates().set_index('kd_ID')['subfamily']\n",
    "\n",
    "pspa_info = pd.DataFrame(df.index.tolist(),columns=['kinase'])\n",
    "\n",
    "pspa_info['subfamily'] = pspa_info.kinase.map(subfamily_map)\n",
    "\n",
    "splits = get_splits(pspa_info, group='subfamily',nfold=5)\n",
    "\n",
    "split0 = splits[0]"
   ]
  },
  {
   "cell_type": "code",
   "execution_count": 9,
   "metadata": {},
   "outputs": [],
   "source": [
    "df=df.reset_index()"
   ]
  },
  {
   "cell_type": "code",
   "execution_count": 10,
   "metadata": {},
   "outputs": [
    {
     "data": {
      "text/plain": [
       "Index(['index', '-5P', '-4P', '-3P', '-2P', '-1P', '0P', '1P', '2P', '3P',\n",
       "       ...\n",
       "       'T5_1014', 'T5_1015', 'T5_1016', 'T5_1017', 'T5_1018', 'T5_1019',\n",
       "       'T5_1020', 'T5_1021', 'T5_1022', 'T5_1023'],\n",
       "      dtype='object', length=1255)"
      ]
     },
     "execution_count": 10,
     "metadata": {},
     "output_type": "execute_result"
    }
   ],
   "source": [
    "df.columns"
   ]
  },
  {
   "cell_type": "code",
   "execution_count": 11,
   "metadata": {},
   "outputs": [],
   "source": [
    "# column name of feature and target\n",
    "feat_col = df.columns[df.columns.str.startswith('T5_')]\n",
    "target_col = df.columns[~df.columns.isin(feat_col)][1:]"
   ]
  },
  {
   "cell_type": "code",
   "execution_count": 12,
   "metadata": {},
   "outputs": [
    {
     "data": {
      "text/plain": [
       "Index(['T5_0', 'T5_1', 'T5_2', 'T5_3', 'T5_4', 'T5_5', 'T5_6', 'T5_7', 'T5_8',\n",
       "       'T5_9',\n",
       "       ...\n",
       "       'T5_1014', 'T5_1015', 'T5_1016', 'T5_1017', 'T5_1018', 'T5_1019',\n",
       "       'T5_1020', 'T5_1021', 'T5_1022', 'T5_1023'],\n",
       "      dtype='object', length=1024)"
      ]
     },
     "execution_count": 12,
     "metadata": {},
     "output_type": "execute_result"
    }
   ],
   "source": [
    "feat_col"
   ]
  },
  {
   "cell_type": "code",
   "execution_count": 13,
   "metadata": {},
   "outputs": [
    {
     "data": {
      "text/plain": [
       "Index(['-5P', '-4P', '-3P', '-2P', '-1P', '0P', '1P', '2P', '3P', '4P',\n",
       "       ...\n",
       "       '-5pY', '-4pY', '-3pY', '-2pY', '-1pY', '0pY', '1pY', '2pY', '3pY',\n",
       "       '4pY'],\n",
       "      dtype='object', length=230)"
      ]
     },
     "execution_count": 13,
     "metadata": {},
     "output_type": "execute_result"
    }
   ],
   "source": [
    "target_col"
   ]
  },
  {
   "cell_type": "markdown",
   "metadata": {},
   "source": [
    "## Dataset"
   ]
  },
  {
   "cell_type": "code",
   "execution_count": 14,
   "metadata": {},
   "outputs": [],
   "source": [
    "#| export\n",
    "class GeneralDataset(Dataset):\n",
    "    def __init__(self,\n",
    "                 df,\n",
    "                 feat_col,            # list/Index of feature columns (e.g., 100 cols)\n",
    "                 target_col=None,     # list/Index of flattened PSSM cols; AA-first; A=23\n",
    "                 A: int = 23,\n",
    "                 dtype=np.float32):\n",
    "        \"\"\"\n",
    "        If target_col is None -> test mode, returns only X.\n",
    "        Otherwise returns (X, y) where y has shape (23, L), L inferred from target columns.\n",
    "        \"\"\"\n",
    "        self.test = target_col is None\n",
    "        self.aa = A\n",
    "\n",
    "        # Features\n",
    "        self.X = df[feat_col].to_numpy(dtype=dtype, copy=True)\n",
    "\n",
    "        self.y = None\n",
    "        if not self.test:\n",
    "            y_flat = df[target_col].to_numpy(dtype=dtype, copy=True)\n",
    "\n",
    "            total = y_flat.shape[1]\n",
    "            if total % A != 0:\n",
    "                raise ValueError(f\"Target columns ({total}) not divisible by A={A}; cannot infer L.\")\n",
    "            self.position = total // self.aa\n",
    "\n",
    "            # AA-first: reshape to (N, 23, L)\n",
    "            self.y = y_flat.reshape(-1, A, self.position) # reshape from row-major flatten\n",
    "            # if column-major as pandas.unstack is column major\n",
    "            # self.y = y_flat.reshape(-1, self.position,self.aa).transpose(0, 2, 1) \n",
    "\n",
    "        self.len = len(df)\n",
    "\n",
    "    def __len__(self):\n",
    "        return self.len\n",
    "\n",
    "    def __getitem__(self, index):\n",
    "        X = torch.from_numpy(self.X[index])        # (feat_dim,)\n",
    "        if self.test: return X\n",
    "        y = torch.from_numpy(self.y[index])        # (23, L)\n",
    "        return X, y"
   ]
  },
  {
   "cell_type": "code",
   "execution_count": 15,
   "metadata": {},
   "outputs": [],
   "source": [
    "# dataset\n",
    "ds = GeneralDataset(df,feat_col,target_col)"
   ]
  },
  {
   "cell_type": "code",
   "execution_count": 16,
   "metadata": {},
   "outputs": [
    {
     "data": {
      "text/plain": [
       "368"
      ]
     },
     "execution_count": 16,
     "metadata": {},
     "output_type": "execute_result"
    }
   ],
   "source": [
    "len(ds)"
   ]
  },
  {
   "cell_type": "code",
   "execution_count": 17,
   "metadata": {},
   "outputs": [],
   "source": [
    "dl = DataLoader(ds, batch_size=64, shuffle=True)"
   ]
  },
  {
   "cell_type": "code",
   "execution_count": 18,
   "metadata": {},
   "outputs": [
    {
     "data": {
      "text/plain": [
       "(torch.Size([64, 1024]), torch.Size([64, 23, 10]))"
      ]
     },
     "execution_count": 18,
     "metadata": {},
     "output_type": "execute_result"
    }
   ],
   "source": [
    "xb,yb = next(iter(dl))\n",
    "\n",
    "xb.shape,yb.shape"
   ]
  },
  {
   "cell_type": "markdown",
   "metadata": {},
   "source": [
    "## Models"
   ]
  },
  {
   "cell_type": "markdown",
   "metadata": {},
   "source": [
    "### MLP"
   ]
  },
  {
   "cell_type": "code",
   "execution_count": 19,
   "metadata": {},
   "outputs": [],
   "source": [
    "#| export\n",
    "def MLP(num_features, \n",
    "          num_targets,\n",
    "          hidden_units = [512, 218],\n",
    "          dp = 0.2):\n",
    "    \n",
    "    # Start with the first layer from num_features to the first hidden layer\n",
    "    layers = [\n",
    "        nn.Linear(num_features, hidden_units[0]),\n",
    "        nn.BatchNorm1d(hidden_units[0]),\n",
    "        # nn.Dropout(dp),\n",
    "        nn.PReLU()\n",
    "    ]\n",
    "    \n",
    "    # Loop over hidden units to create intermediate layers\n",
    "    for i in range(len(hidden_units) - 1):\n",
    "        layers.extend([\n",
    "            nn.Linear(hidden_units[i], hidden_units[i+1]),\n",
    "            nn.BatchNorm1d(hidden_units[i+1]),\n",
    "            # nn.Dropout(dp),\n",
    "            nn.PReLU()\n",
    "        ])\n",
    "    \n",
    "    # Add the output layer\n",
    "    layers.append(nn.Linear(hidden_units[-1], num_targets))\n",
    "    \n",
    "    model = nn.Sequential(*layers)\n",
    "    \n",
    "    return model"
   ]
  },
  {
   "cell_type": "code",
   "execution_count": 20,
   "metadata": {},
   "outputs": [],
   "source": [
    "n_feature = len(feat_col)\n",
    "n_target = len(target_col)"
   ]
  },
  {
   "cell_type": "code",
   "execution_count": 21,
   "metadata": {},
   "outputs": [],
   "source": [
    "model = MLP(n_feature, n_target)"
   ]
  },
  {
   "cell_type": "code",
   "execution_count": 22,
   "metadata": {},
   "outputs": [
    {
     "data": {
      "text/plain": [
       "tensor([[-0.6386,  0.6025, -0.5043,  ...,  0.4508,  0.6506,  0.4236],\n",
       "        [ 0.6917, -0.3774,  0.4275,  ..., -0.2647, -0.5108,  0.2595],\n",
       "        [ 0.0525,  0.5919, -0.6559,  ...,  0.2015,  0.1638, -0.0517],\n",
       "        ...,\n",
       "        [ 0.2075,  0.2489,  0.0794,  ...,  0.0141, -0.0182,  0.0464],\n",
       "        [-0.2573,  0.9761, -1.6474,  ...,  0.5026,  0.4576,  0.5259],\n",
       "        [-0.0075,  0.6411, -0.4033,  ...,  0.6004,  0.4007, -0.1181]],\n",
       "       grad_fn=<AddmmBackward0>)"
      ]
     },
     "execution_count": 22,
     "metadata": {},
     "output_type": "execute_result"
    }
   ],
   "source": [
    "model(xb)"
   ]
  },
  {
   "cell_type": "markdown",
   "metadata": {},
   "source": [
    "### CNN1D"
   ]
  },
  {
   "cell_type": "code",
   "execution_count": 23,
   "metadata": {},
   "outputs": [],
   "source": [
    "#| export\n",
    "def init_weights(m, leaky=0.):\n",
    "    \"Initiate any Conv layer with Kaiming norm.\"\n",
    "    if isinstance(m, (nn.Conv1d,nn.Conv2d,nn.Conv3d)): nn.init.kaiming_normal_(m.weight, a=leaky)"
   ]
  },
  {
   "cell_type": "code",
   "execution_count": 24,
   "metadata": {},
   "outputs": [],
   "source": [
    "#| export\n",
    "def lin_wn(ni,nf,dp=0.1,act=nn.SiLU):\n",
    "    \"Weight norm of linear.\"\n",
    "    layers =  nn.Sequential(\n",
    "            nn.BatchNorm1d(ni),\n",
    "            nn.Dropout(dp),\n",
    "            nn.utils.parametrizations.weight_norm(nn.Linear(ni, nf)) )\n",
    "    if act: layers.append(act())\n",
    "    return layers"
   ]
  },
  {
   "cell_type": "code",
   "execution_count": 25,
   "metadata": {},
   "outputs": [],
   "source": [
    "#| export\n",
    "def conv_wn(ni, nf, ks=3, stride=1, padding=1, dp=0.1,act=nn.ReLU):\n",
    "    \"Weight norm of conv.\"\n",
    "    layers =  nn.Sequential(\n",
    "        nn.BatchNorm1d(ni),\n",
    "        nn.Dropout(dp),\n",
    "        nn.utils.parametrizations.weight_norm(nn.Conv1d(ni, nf, ks, stride, padding)) )\n",
    "    if act: layers.append(act())\n",
    "    return layers"
   ]
  },
  {
   "cell_type": "code",
   "execution_count": 26,
   "metadata": {},
   "outputs": [],
   "source": [
    "#| export\n",
    "class CNN1D(nn.Module):\n",
    "    \n",
    "    def __init__(self, ni, nf, amp_scale = 16):\n",
    "        super().__init__()\n",
    "\n",
    "        cha_1,cha_2,cha_3 = 256,512,512\n",
    "        hidden_size = cha_1*amp_scale\n",
    "\n",
    "        cha_po_1 = hidden_size//(cha_1*2)\n",
    "        cha_po_2 = (hidden_size//(cha_1*4)) * cha_3\n",
    "        \n",
    "        self.lin = lin_wn(ni,hidden_size)\n",
    "        \n",
    "        # bs, 256, 16\n",
    "        self.view = View(-1,cha_1,amp_scale)\n",
    "        \n",
    "        self.conv1 = nn.Sequential(\n",
    "            conv_wn(cha_1, cha_2, ks=5, stride=1, padding=2, dp=0.1),\n",
    "            nn.AdaptiveAvgPool1d(output_size = cha_po_1),\n",
    "            conv_wn(cha_2, cha_2, ks=3, stride=1, padding=1, dp=0.1))\n",
    "        \n",
    "        self.conv2 = nn.Sequential(\n",
    "            conv_wn(cha_2, cha_2, ks=3, stride=1, padding=1, dp=0.3),\n",
    "            conv_wn(cha_2, cha_3, ks=5, stride=1, padding=2, dp=0.2))\n",
    "        \n",
    "        self.head = nn.Sequential(\n",
    "            nn.MaxPool1d(kernel_size=4, stride=2, padding=1),\n",
    "            nn.Flatten(),\n",
    "            lin_wn(cha_po_2,nf,act=None) )\n",
    "\n",
    "\n",
    "    def forward(self, x):\n",
    "        # amplify features to 4096\n",
    "        x = self.lin(x)\n",
    "        \n",
    "        # reshape to bs,256,16 for conv1d\n",
    "        x = self.view(x) \n",
    "\n",
    "        x = self.conv1(x)\n",
    "        \n",
    "        x_s = x  # for skip connection (multiply)\n",
    "        x = self.conv2(x)\n",
    "        x = x * x_s\n",
    "\n",
    "        # Final block\n",
    "        x = self.head(x)\n",
    "\n",
    "        return x"
   ]
  },
  {
   "cell_type": "code",
   "execution_count": 27,
   "metadata": {},
   "outputs": [],
   "source": [
    "model = CNN1D(n_feature,n_target).apply(init_weights)"
   ]
  },
  {
   "cell_type": "code",
   "execution_count": 28,
   "metadata": {},
   "outputs": [
    {
     "data": {
      "text/plain": [
       "torch.Size([64, 230])"
      ]
     },
     "execution_count": 28,
     "metadata": {},
     "output_type": "execute_result"
    }
   ],
   "source": [
    "model(xb).shape"
   ]
  },
  {
   "cell_type": "markdown",
   "metadata": {},
   "source": [
    "## Wrapper"
   ]
  },
  {
   "cell_type": "code",
   "execution_count": 29,
   "metadata": {},
   "outputs": [],
   "source": [
    "#| export\n",
    "class PSSM_model(nn.Module):\n",
    "    def __init__(self, \n",
    "                 n_features,\n",
    "                 n_targets,\n",
    "                 model='MLP'):\n",
    "        super().__init__()\n",
    "        self.n_features=n_features\n",
    "        self.n_targets=n_targets\n",
    "        self.n_aa = 23\n",
    "        if self.n_targets % self.n_aa != 0: raise ValueError(f\"n_targets ({n_targets}) must be divisible by n_aa ({n_aa}).\")\n",
    "        self.n_positions = self.n_targets//self.n_aa\n",
    "        \n",
    "        if model =='MLP': self.model=MLP(self.n_features, self.n_targets)\n",
    "        elif model =='CNN': self.model=CNN1D(self.n_features, self.n_targets).apply(init_weights)\n",
    "        else: raise ValueError('model must be MLP or CNN.')\n",
    "    def forward(self,x):\n",
    "        logits = self.model(x).reshape(-1, self.n_aa,self.n_positions)\n",
    "        return logits"
   ]
  },
  {
   "cell_type": "code",
   "execution_count": 30,
   "metadata": {},
   "outputs": [],
   "source": [
    "model = PSSM_model(n_feature,n_target)"
   ]
  },
  {
   "cell_type": "code",
   "execution_count": 31,
   "metadata": {},
   "outputs": [],
   "source": [
    "logits= model(xb)"
   ]
  },
  {
   "cell_type": "code",
   "execution_count": 32,
   "metadata": {},
   "outputs": [
    {
     "data": {
      "text/plain": [
       "torch.Size([64, 23, 10])"
      ]
     },
     "execution_count": 32,
     "metadata": {},
     "output_type": "execute_result"
    }
   ],
   "source": [
    "logits.shape"
   ]
  },
  {
   "cell_type": "code",
   "execution_count": 33,
   "metadata": {},
   "outputs": [],
   "source": [
    "def get_mlp(): return PSSM_model(n_feature,n_target,model='MLP')\n",
    "\n",
    "def get_cnn(): return PSSM_model(n_feature,n_target,model='CNN')"
   ]
  },
  {
   "cell_type": "markdown",
   "metadata": {},
   "source": [
    "## Loss"
   ]
  },
  {
   "cell_type": "code",
   "execution_count": 34,
   "metadata": {},
   "outputs": [],
   "source": [
    "#| export\n",
    "def CE(logits: torch.Tensor,\n",
    "       target_probs: torch.Tensor,\n",
    "      ):\n",
    "    \"\"\"\n",
    "    Cross-entropy with soft labels.\n",
    "    logits:       (B, 20, 10)\n",
    "    target_probs: (B, 20, 10), each column (over AA) sums to 1\n",
    "    \"\"\"\n",
    "    logp = F.log_softmax(logits, dim=1)              # (B, 20, 10)\n",
    "    ce   = -(target_probs * logp).sum(dim=1)         # (B, 10)\n",
    "    return ce.mean()"
   ]
  },
  {
   "cell_type": "code",
   "execution_count": 35,
   "metadata": {},
   "outputs": [
    {
     "data": {
      "text/plain": [
       "tensor(3.2424, grad_fn=<MeanBackward0>)"
      ]
     },
     "execution_count": 35,
     "metadata": {},
     "output_type": "execute_result"
    }
   ],
   "source": [
    "CE(logits,yb)"
   ]
  },
  {
   "cell_type": "markdown",
   "metadata": {},
   "source": [
    "## Metrics"
   ]
  },
  {
   "cell_type": "code",
   "execution_count": 36,
   "metadata": {},
   "outputs": [],
   "source": [
    "#| export\n",
    "def KLD(logits: torch.Tensor,\n",
    "          target_probs: torch.Tensor,\n",
    "         ):\n",
    "    \"\"\"\n",
    "    KL divergence between target_probs (p) and softmax(logits) (q).\n",
    "    \n",
    "    logits:       (B, 20, 10)\n",
    "    target_probs: (B, 20, 10), each column (over AA) sums to 1\n",
    "    \"\"\"\n",
    "    logq = F.log_softmax(logits, dim=1)    # log q(x)\n",
    "    logp = torch.log(target_probs + 1e-12) # log p(x), safe for zeros\n",
    "    kl   = (target_probs * (logp - logq)).sum(dim=1)   # (B, 10)\n",
    "    return kl.mean()"
   ]
  },
  {
   "cell_type": "code",
   "execution_count": 37,
   "metadata": {},
   "outputs": [
    {
     "data": {
      "text/plain": [
       "tensor(0.5011, grad_fn=<MeanBackward0>)"
      ]
     },
     "execution_count": 37,
     "metadata": {},
     "output_type": "execute_result"
    }
   ],
   "source": [
    "KLD(logits,yb)"
   ]
  },
  {
   "cell_type": "code",
   "execution_count": 38,
   "metadata": {},
   "outputs": [],
   "source": [
    "#| export\n",
    "def JSD(logits: torch.Tensor,\n",
    "        target_probs: torch.Tensor,\n",
    "       ):\n",
    "    \"\"\"\n",
    "    Jensen-Shannon Divergence between target_probs (p) and softmax(logits) (q).\n",
    "\n",
    "    logits:       (B, 20, 10)\n",
    "    target_probs: (B, 20, 10), each column (over AA) sums to 1\n",
    "    \"\"\"\n",
    "    # p, q distributions\n",
    "    q = F.softmax(logits, dim=1)                # q(x)\n",
    "    p = target_probs\n",
    "    m = 0.5 * (p + q)                           # midpoint distribution\n",
    "\n",
    "    # logs (with epsilon for stability)\n",
    "    logp = torch.log(p + 1e-12)\n",
    "    logq = torch.log(q + 1e-12)\n",
    "    logm = torch.log(m + 1e-12)\n",
    "\n",
    "    # KL(p||m) and KL(q||m)\n",
    "    kld_pm = (p * (logp - logm)).sum(dim=1)\n",
    "    kld_qm = (q * (logq - logm)).sum(dim=1)\n",
    "\n",
    "    jsd = 0.5 * (kld_pm + kld_qm)               # (B, 10)\n",
    "    return jsd.mean()"
   ]
  },
  {
   "cell_type": "code",
   "execution_count": 39,
   "metadata": {},
   "outputs": [
    {
     "data": {
      "text/plain": [
       "tensor(0.1034, grad_fn=<MeanBackward0>)"
      ]
     },
     "execution_count": 39,
     "metadata": {},
     "output_type": "execute_result"
    }
   ],
   "source": [
    "JSD(logits,yb)"
   ]
  },
  {
   "cell_type": "markdown",
   "metadata": {},
   "source": [
    "## Trainer"
   ]
  },
  {
   "cell_type": "code",
   "execution_count": 40,
   "metadata": {
    "scrolled": true
   },
   "outputs": [],
   "source": [
    "#| export\n",
    "def train_dl(df, \n",
    "            feat_col, \n",
    "            target_col,\n",
    "            split, # tuple of numpy array for split index\n",
    "            model_func, # function to get pytorch model\n",
    "             n_epoch = 4, # number of epochs\n",
    "             bs = 32, # batch size\n",
    "             lr = 1e-2, # will be useless if lr_find is True\n",
    "            loss = CE, # loss function\n",
    "            save = None, # models/{save}.pth\n",
    "             sampler = None,\n",
    "             lr_find=False, # if true, will use lr from lr_find\n",
    "              ):\n",
    "    \"A DL trainer.\"\n",
    "    \n",
    "    train = df.loc[split[0]]\n",
    "    valid = df.loc[split[1]]\n",
    "    \n",
    "    train_ds = GeneralDataset(train, feat_col, target_col)\n",
    "    valid_ds = GeneralDataset(valid, feat_col, target_col)\n",
    "    \n",
    "    n_workers = fc.defaults.cpus\n",
    "\n",
    "    dls = DataLoaders.from_dsets(train_ds, valid_ds, bs=bs, num_workers=n_workers)\n",
    "\n",
    "    model = model_func()\n",
    "    learn = Learner(dls.to(def_device), model.to(def_device), loss, \n",
    "                    metrics= [KLD,JSD]\n",
    "                    # cbs = [GradientClip(1.0)] # prevent overfitting\n",
    "                   )\n",
    "    \n",
    "    if lr_find:\n",
    "        # get learning rate\n",
    "        lr = learn.lr_find()\n",
    "        plt.show()\n",
    "        plt.close()\n",
    "        print(lr)\n",
    "\n",
    "        \n",
    "    print('lr in training is', lr)\n",
    "    learn.fit_one_cycle(n_epoch,lr) #cbs = [SaveModelCallback(fname = 'best')] # save best model\n",
    "    \n",
    "    if save is not None:\n",
    "        learn.save(save)\n",
    "        \n",
    "    pred,target = learn.get_preds()\n",
    "\n",
    "    # row first\n",
    "    pred  = F.softmax(pred, dim=1).reshape(len(valid),-1)\n",
    "    target = target.reshape(len(valid),-1)\n",
    "\n",
    "    # column first\n",
    "    # pred  = F.softmax(pred, dim=1).permute(0, 2, 1).reshape(len(valid),-1)\n",
    "    # target = target.permute(0, 2, 1).reshape(len(valid),-1)\n",
    "    \n",
    "    pred = pd.DataFrame(pred.detach().cpu().numpy(),index=valid.index,columns=target_col)\n",
    "    target = pd.DataFrame(target.detach().cpu().numpy(),index=valid.index,columns=target_col)\n",
    "    \n",
    "    return target, pred"
   ]
  },
  {
   "cell_type": "code",
   "execution_count": 41,
   "metadata": {},
   "outputs": [
    {
     "data": {
      "text/html": [
       "\n",
       "<style>\n",
       "    /* Turns off some styling */\n",
       "    progress {\n",
       "        /* gets rid of default border in Firefox and Opera. */\n",
       "        border: none;\n",
       "        /* Needs to be in here for Safari polyfill so background images work as expected. */\n",
       "        background-size: auto;\n",
       "    }\n",
       "    progress:not([value]), progress:not([value])::-webkit-progress-bar {\n",
       "        background: repeating-linear-gradient(45deg, #7e7e7e, #7e7e7e 10px, #5c5c5c 10px, #5c5c5c 20px);\n",
       "    }\n",
       "    .progress-bar-interrupted, .progress-bar-interrupted::-webkit-progress-bar {\n",
       "        background: #F44336;\n",
       "    }\n",
       "</style>\n"
      ],
      "text/plain": [
       "<IPython.core.display.HTML object>"
      ]
     },
     "metadata": {},
     "output_type": "display_data"
    },
    {
     "data": {
      "text/html": [],
      "text/plain": [
       "<IPython.core.display.HTML object>"
      ]
     },
     "metadata": {},
     "output_type": "display_data"
    },
    {
     "data": {
      "image/png": "[encoded data removed]",
      "text/plain": [
       "<Figure size 640x480 with 1 Axes>"
      ]
     },
     "metadata": {},
     "output_type": "display_data"
    },
    {
     "name": "stdout",
     "output_type": "stream",
     "text": [
      "SuggestedLRs(valley=0.00363078061491251)\n",
      "lr in training is SuggestedLRs(valley=0.00363078061491251)\n"
     ]
    },
    {
     "data": {
      "text/html": [
       "\n",
       "<style>\n",
       "    /* Turns off some styling */\n",
       "    progress {\n",
       "        /* gets rid of default border in Firefox and Opera. */\n",
       "        border: none;\n",
       "        /* Needs to be in here for Safari polyfill so background images work as expected. */\n",
       "        background-size: auto;\n",
       "    }\n",
       "    progress:not([value]), progress:not([value])::-webkit-progress-bar {\n",
       "        background: repeating-linear-gradient(45deg, #7e7e7e, #7e7e7e 10px, #5c5c5c 10px, #5c5c5c 20px);\n",
       "    }\n",
       "    .progress-bar-interrupted, .progress-bar-interrupted::-webkit-progress-bar {\n",
       "        background: #F44336;\n",
       "    }\n",
       "</style>\n"
      ],
      "text/plain": [
       "<IPython.core.display.HTML object>"
      ]
     },
     "metadata": {},
     "output_type": "display_data"
    },
    {
     "data": {
      "text/html": [
       "<table border=\"1\" class=\"dataframe\">\n",
       "  <thead>\n",
       "    <tr style=\"text-align: left;\">\n",
       "      <th>epoch</th>\n",
       "      <th>train_loss</th>\n",
       "      <th>valid_loss</th>\n",
       "      <th>KLD</th>\n",
       "      <th>JSD</th>\n",
       "      <th>time</th>\n",
       "    </tr>\n",
       "  </thead>\n",
       "  <tbody>\n",
       "    <tr>\n",
       "      <td>0</td>\n",
       "      <td>3.147446</td>\n",
       "      <td>3.038438</td>\n",
       "      <td>0.318980</td>\n",
       "      <td>0.071486</td>\n",
       "      <td>00:00</td>\n",
       "    </tr>\n",
       "  </tbody>\n",
       "</table>"
      ],
      "text/plain": [
       "<IPython.core.display.HTML object>"
      ]
     },
     "metadata": {},
     "output_type": "display_data"
    },
    {
     "data": {
      "text/html": [
       "\n",
       "<style>\n",
       "    /* Turns off some styling */\n",
       "    progress {\n",
       "        /* gets rid of default border in Firefox and Opera. */\n",
       "        border: none;\n",
       "        /* Needs to be in here for Safari polyfill so background images work as expected. */\n",
       "        background-size: auto;\n",
       "    }\n",
       "    progress:not([value]), progress:not([value])::-webkit-progress-bar {\n",
       "        background: repeating-linear-gradient(45deg, #7e7e7e, #7e7e7e 10px, #5c5c5c 10px, #5c5c5c 20px);\n",
       "    }\n",
       "    .progress-bar-interrupted, .progress-bar-interrupted::-webkit-progress-bar {\n",
       "        background: #F44336;\n",
       "    }\n",
       "</style>\n"
      ],
      "text/plain": [
       "<IPython.core.display.HTML object>"
      ]
     },
     "metadata": {},
     "output_type": "display_data"
    },
    {
     "data": {
      "text/html": [],
      "text/plain": [
       "<IPython.core.display.HTML object>"
      ]
     },
     "metadata": {},
     "output_type": "display_data"
    }
   ],
   "source": [
    "target, pred = train_dl(df, \n",
    "                        feat_col, \n",
    "                        target_col,\n",
    "                        split0, \n",
    "                        model_func=get_cnn,\n",
    "                        n_epoch=1,\n",
    "                        lr = 3e-3,\n",
    "                        lr_find=True,\n",
    "                        save = 'test')"
   ]
  },
  {
   "cell_type": "code",
   "execution_count": 42,
   "metadata": {},
   "outputs": [
    {
     "data": {
      "text/html": [
       "<div>\n",
       "<style scoped>\n",
       "    .dataframe tbody tr th:only-of-type {\n",
       "        vertical-align: middle;\n",
       "    }\n",
       "\n",
       "    .dataframe tbody tr th {\n",
       "        vertical-align: top;\n",
       "    }\n",
       "\n",
       "    .dataframe thead th {\n",
       "        text-align: right;\n",
       "    }\n",
       "</style>\n",
       "<table border=\"1\" class=\"dataframe\">\n",
       "  <thead>\n",
       "    <tr style=\"text-align: right;\">\n",
       "      <th></th>\n",
       "      <th>-5P</th>\n",
       "      <th>-4P</th>\n",
       "      <th>-3P</th>\n",
       "      <th>-2P</th>\n",
       "      <th>-1P</th>\n",
       "      <th>0P</th>\n",
       "      <th>1P</th>\n",
       "      <th>2P</th>\n",
       "      <th>3P</th>\n",
       "      <th>4P</th>\n",
       "      <th>...</th>\n",
       "      <th>-5pY</th>\n",
       "      <th>-4pY</th>\n",
       "      <th>-3pY</th>\n",
       "      <th>-2pY</th>\n",
       "      <th>-1pY</th>\n",
       "      <th>0pY</th>\n",
       "      <th>1pY</th>\n",
       "      <th>2pY</th>\n",
       "      <th>3pY</th>\n",
       "      <th>4pY</th>\n",
       "    </tr>\n",
       "  </thead>\n",
       "  <tbody>\n",
       "    <tr>\n",
       "      <th>14</th>\n",
       "      <td>0.051638</td>\n",
       "      <td>0.042721</td>\n",
       "      <td>0.047461</td>\n",
       "      <td>0.041219</td>\n",
       "      <td>0.033932</td>\n",
       "      <td>0.018915</td>\n",
       "      <td>0.077473</td>\n",
       "      <td>0.034604</td>\n",
       "      <td>0.045717</td>\n",
       "      <td>0.041970</td>\n",
       "      <td>...</td>\n",
       "      <td>0.036053</td>\n",
       "      <td>0.056273</td>\n",
       "      <td>0.031747</td>\n",
       "      <td>0.048270</td>\n",
       "      <td>0.061980</td>\n",
       "      <td>0.046331</td>\n",
       "      <td>0.054140</td>\n",
       "      <td>0.053547</td>\n",
       "      <td>0.048135</td>\n",
       "      <td>0.059772</td>\n",
       "    </tr>\n",
       "    <tr>\n",
       "      <th>15</th>\n",
       "      <td>0.051626</td>\n",
       "      <td>0.042801</td>\n",
       "      <td>0.047456</td>\n",
       "      <td>0.041166</td>\n",
       "      <td>0.034053</td>\n",
       "      <td>0.018975</td>\n",
       "      <td>0.077170</td>\n",
       "      <td>0.034668</td>\n",
       "      <td>0.045690</td>\n",
       "      <td>0.042009</td>\n",
       "      <td>...</td>\n",
       "      <td>0.035993</td>\n",
       "      <td>0.056192</td>\n",
       "      <td>0.031686</td>\n",
       "      <td>0.048179</td>\n",
       "      <td>0.061937</td>\n",
       "      <td>0.046108</td>\n",
       "      <td>0.053993</td>\n",
       "      <td>0.053433</td>\n",
       "      <td>0.048049</td>\n",
       "      <td>0.059777</td>\n",
       "    </tr>\n",
       "    <tr>\n",
       "      <th>16</th>\n",
       "      <td>0.051641</td>\n",
       "      <td>0.042793</td>\n",
       "      <td>0.047463</td>\n",
       "      <td>0.041167</td>\n",
       "      <td>0.034072</td>\n",
       "      <td>0.018973</td>\n",
       "      <td>0.077176</td>\n",
       "      <td>0.034652</td>\n",
       "      <td>0.045694</td>\n",
       "      <td>0.042008</td>\n",
       "      <td>...</td>\n",
       "      <td>0.035997</td>\n",
       "      <td>0.056190</td>\n",
       "      <td>0.031682</td>\n",
       "      <td>0.048167</td>\n",
       "      <td>0.061924</td>\n",
       "      <td>0.046074</td>\n",
       "      <td>0.053964</td>\n",
       "      <td>0.053437</td>\n",
       "      <td>0.048047</td>\n",
       "      <td>0.059765</td>\n",
       "    </tr>\n",
       "    <tr>\n",
       "      <th>36</th>\n",
       "      <td>0.051615</td>\n",
       "      <td>0.042611</td>\n",
       "      <td>0.047080</td>\n",
       "      <td>0.041040</td>\n",
       "      <td>0.034041</td>\n",
       "      <td>0.018777</td>\n",
       "      <td>0.077937</td>\n",
       "      <td>0.034638</td>\n",
       "      <td>0.045706</td>\n",
       "      <td>0.041972</td>\n",
       "      <td>...</td>\n",
       "      <td>0.036068</td>\n",
       "      <td>0.056490</td>\n",
       "      <td>0.031812</td>\n",
       "      <td>0.048282</td>\n",
       "      <td>0.062101</td>\n",
       "      <td>0.045894</td>\n",
       "      <td>0.054315</td>\n",
       "      <td>0.053463</td>\n",
       "      <td>0.048288</td>\n",
       "      <td>0.059904</td>\n",
       "    </tr>\n",
       "    <tr>\n",
       "      <th>37</th>\n",
       "      <td>0.051693</td>\n",
       "      <td>0.042929</td>\n",
       "      <td>0.047477</td>\n",
       "      <td>0.041184</td>\n",
       "      <td>0.034156</td>\n",
       "      <td>0.018997</td>\n",
       "      <td>0.077338</td>\n",
       "      <td>0.034726</td>\n",
       "      <td>0.045655</td>\n",
       "      <td>0.042012</td>\n",
       "      <td>...</td>\n",
       "      <td>0.035987</td>\n",
       "      <td>0.056114</td>\n",
       "      <td>0.031603</td>\n",
       "      <td>0.048077</td>\n",
       "      <td>0.061846</td>\n",
       "      <td>0.046072</td>\n",
       "      <td>0.053757</td>\n",
       "      <td>0.053384</td>\n",
       "      <td>0.047950</td>\n",
       "      <td>0.059570</td>\n",
       "    </tr>\n",
       "    <tr>\n",
       "      <th>...</th>\n",
       "      <td>...</td>\n",
       "      <td>...</td>\n",
       "      <td>...</td>\n",
       "      <td>...</td>\n",
       "      <td>...</td>\n",
       "      <td>...</td>\n",
       "      <td>...</td>\n",
       "      <td>...</td>\n",
       "      <td>...</td>\n",
       "      <td>...</td>\n",
       "      <td>...</td>\n",
       "      <td>...</td>\n",
       "      <td>...</td>\n",
       "      <td>...</td>\n",
       "      <td>...</td>\n",
       "      <td>...</td>\n",
       "      <td>...</td>\n",
       "      <td>...</td>\n",
       "      <td>...</td>\n",
       "      <td>...</td>\n",
       "      <td>...</td>\n",
       "    </tr>\n",
       "    <tr>\n",
       "      <th>340</th>\n",
       "      <td>0.051463</td>\n",
       "      <td>0.042745</td>\n",
       "      <td>0.047294</td>\n",
       "      <td>0.041089</td>\n",
       "      <td>0.034083</td>\n",
       "      <td>0.019065</td>\n",
       "      <td>0.077317</td>\n",
       "      <td>0.034702</td>\n",
       "      <td>0.046079</td>\n",
       "      <td>0.042078</td>\n",
       "      <td>...</td>\n",
       "      <td>0.036065</td>\n",
       "      <td>0.056231</td>\n",
       "      <td>0.031961</td>\n",
       "      <td>0.048298</td>\n",
       "      <td>0.061863</td>\n",
       "      <td>0.047434</td>\n",
       "      <td>0.054065</td>\n",
       "      <td>0.053318</td>\n",
       "      <td>0.048310</td>\n",
       "      <td>0.059943</td>\n",
       "    </tr>\n",
       "    <tr>\n",
       "      <th>348</th>\n",
       "      <td>0.051470</td>\n",
       "      <td>0.042849</td>\n",
       "      <td>0.047324</td>\n",
       "      <td>0.041169</td>\n",
       "      <td>0.034008</td>\n",
       "      <td>0.019065</td>\n",
       "      <td>0.077173</td>\n",
       "      <td>0.034711</td>\n",
       "      <td>0.045994</td>\n",
       "      <td>0.042123</td>\n",
       "      <td>...</td>\n",
       "      <td>0.036031</td>\n",
       "      <td>0.056180</td>\n",
       "      <td>0.031971</td>\n",
       "      <td>0.048263</td>\n",
       "      <td>0.061977</td>\n",
       "      <td>0.047308</td>\n",
       "      <td>0.054164</td>\n",
       "      <td>0.053355</td>\n",
       "      <td>0.048320</td>\n",
       "      <td>0.059924</td>\n",
       "    </tr>\n",
       "    <tr>\n",
       "      <th>354</th>\n",
       "      <td>0.051433</td>\n",
       "      <td>0.042782</td>\n",
       "      <td>0.047271</td>\n",
       "      <td>0.041186</td>\n",
       "      <td>0.034024</td>\n",
       "      <td>0.019104</td>\n",
       "      <td>0.077271</td>\n",
       "      <td>0.034715</td>\n",
       "      <td>0.045971</td>\n",
       "      <td>0.042089</td>\n",
       "      <td>...</td>\n",
       "      <td>0.036032</td>\n",
       "      <td>0.056207</td>\n",
       "      <td>0.032021</td>\n",
       "      <td>0.048299</td>\n",
       "      <td>0.061972</td>\n",
       "      <td>0.047766</td>\n",
       "      <td>0.054218</td>\n",
       "      <td>0.053410</td>\n",
       "      <td>0.048319</td>\n",
       "      <td>0.059949</td>\n",
       "    </tr>\n",
       "    <tr>\n",
       "      <th>356</th>\n",
       "      <td>0.051309</td>\n",
       "      <td>0.042509</td>\n",
       "      <td>0.047054</td>\n",
       "      <td>0.041165</td>\n",
       "      <td>0.034242</td>\n",
       "      <td>0.019028</td>\n",
       "      <td>0.077537</td>\n",
       "      <td>0.034745</td>\n",
       "      <td>0.046062</td>\n",
       "      <td>0.042151</td>\n",
       "      <td>...</td>\n",
       "      <td>0.035995</td>\n",
       "      <td>0.056161</td>\n",
       "      <td>0.031950</td>\n",
       "      <td>0.048345</td>\n",
       "      <td>0.061846</td>\n",
       "      <td>0.047154</td>\n",
       "      <td>0.054128</td>\n",
       "      <td>0.053405</td>\n",
       "      <td>0.047976</td>\n",
       "      <td>0.059789</td>\n",
       "    </tr>\n",
       "    <tr>\n",
       "      <th>360</th>\n",
       "      <td>0.051457</td>\n",
       "      <td>0.042792</td>\n",
       "      <td>0.047258</td>\n",
       "      <td>0.041206</td>\n",
       "      <td>0.034020</td>\n",
       "      <td>0.019108</td>\n",
       "      <td>0.077283</td>\n",
       "      <td>0.034738</td>\n",
       "      <td>0.045946</td>\n",
       "      <td>0.042075</td>\n",
       "      <td>...</td>\n",
       "      <td>0.036040</td>\n",
       "      <td>0.056208</td>\n",
       "      <td>0.032032</td>\n",
       "      <td>0.048276</td>\n",
       "      <td>0.061980</td>\n",
       "      <td>0.047821</td>\n",
       "      <td>0.054200</td>\n",
       "      <td>0.053409</td>\n",
       "      <td>0.048339</td>\n",
       "      <td>0.059919</td>\n",
       "    </tr>\n",
       "  </tbody>\n",
       "</table>\n",
       "<p>74 rows × 230 columns</p>\n",
       "</div>"
      ],
      "text/plain": [
       "          -5P       -4P       -3P       -2P       -1P        0P        1P  \\\n",
       "14   0.051638  0.042721  0.047461  0.041219  0.033932  0.018915  0.077473   \n",
       "15   0.051626  0.042801  0.047456  0.041166  0.034053  0.018975  0.077170   \n",
       "16   0.051641  0.042793  0.047463  0.041167  0.034072  0.018973  0.077176   \n",
       "36   0.051615  0.042611  0.047080  0.041040  0.034041  0.018777  0.077937   \n",
       "37   0.051693  0.042929  0.047477  0.041184  0.034156  0.018997  0.077338   \n",
       "..        ...       ...       ...       ...       ...       ...       ...   \n",
       "340  0.051463  0.042745  0.047294  0.041089  0.034083  0.019065  0.077317   \n",
       "348  0.051470  0.042849  0.047324  0.041169  0.034008  0.019065  0.077173   \n",
       "354  0.051433  0.042782  0.047271  0.041186  0.034024  0.019104  0.077271   \n",
       "356  0.051309  0.042509  0.047054  0.041165  0.034242  0.019028  0.077537   \n",
       "360  0.051457  0.042792  0.047258  0.041206  0.034020  0.019108  0.077283   \n",
       "\n",
       "           2P        3P        4P  ...      -5pY      -4pY      -3pY  \\\n",
       "14   0.034604  0.045717  0.041970  ...  0.036053  0.056273  0.031747   \n",
       "15   0.034668  0.045690  0.042009  ...  0.035993  0.056192  0.031686   \n",
       "16   0.034652  0.045694  0.042008  ...  0.035997  0.056190  0.031682   \n",
       "36   0.034638  0.045706  0.041972  ...  0.036068  0.056490  0.031812   \n",
       "37   0.034726  0.045655  0.042012  ...  0.035987  0.056114  0.031603   \n",
       "..        ...       ...       ...  ...       ...       ...       ...   \n",
       "340  0.034702  0.046079  0.042078  ...  0.036065  0.056231  0.031961   \n",
       "348  0.034711  0.045994  0.042123  ...  0.036031  0.056180  0.031971   \n",
       "354  0.034715  0.045971  0.042089  ...  0.036032  0.056207  0.032021   \n",
       "356  0.034745  0.046062  0.042151  ...  0.035995  0.056161  0.031950   \n",
       "360  0.034738  0.045946  0.042075  ...  0.036040  0.056208  0.032032   \n",
       "\n",
       "         -2pY      -1pY       0pY       1pY       2pY       3pY       4pY  \n",
       "14   0.048270  0.061980  0.046331  0.054140  0.053547  0.048135  0.059772  \n",
       "15   0.048179  0.061937  0.046108  0.053993  0.053433  0.048049  0.059777  \n",
       "16   0.048167  0.061924  0.046074  0.053964  0.053437  0.048047  0.059765  \n",
       "36   0.048282  0.062101  0.045894  0.054315  0.053463  0.048288  0.059904  \n",
       "37   0.048077  0.061846  0.046072  0.053757  0.053384  0.047950  0.059570  \n",
       "..        ...       ...       ...       ...       ...       ...       ...  \n",
       "340  0.048298  0.061863  0.047434  0.054065  0.053318  0.048310  0.059943  \n",
       "348  0.048263  0.061977  0.047308  0.054164  0.053355  0.048320  0.059924  \n",
       "354  0.048299  0.061972  0.047766  0.054218  0.053410  0.048319  0.059949  \n",
       "356  0.048345  0.061846  0.047154  0.054128  0.053405  0.047976  0.059789  \n",
       "360  0.048276  0.061980  0.047821  0.054200  0.053409  0.048339  0.059919  \n",
       "\n",
       "[74 rows x 230 columns]"
      ]
     },
     "execution_count": 42,
     "metadata": {},
     "output_type": "execute_result"
    }
   ],
   "source": [
    "pred"
   ]
  },
  {
   "cell_type": "code",
   "execution_count": 43,
   "metadata": {},
   "outputs": [
    {
     "data": {
      "text/plain": [
       "Position\n",
       "-5    1.0\n",
       "-4    1.0\n",
       "-3    1.0\n",
       "-2    1.0\n",
       "-1    1.0\n",
       " 0    1.0\n",
       " 1    1.0\n",
       " 2    1.0\n",
       " 3    1.0\n",
       " 4    1.0\n",
       "dtype: float32"
      ]
     },
     "execution_count": 43,
     "metadata": {},
     "output_type": "execute_result"
    }
   ],
   "source": [
    "pred_pssm = recover_pssm(pred.iloc[0])\n",
    "pred_pssm.sum()"
   ]
  },
  {
   "cell_type": "markdown",
   "metadata": {},
   "source": [
    "## Predict"
   ]
  },
  {
   "cell_type": "code",
   "execution_count": 44,
   "metadata": {},
   "outputs": [],
   "source": [
    "#| export\n",
    "def predict_dl(df, \n",
    "               feat_col, \n",
    "               target_col,\n",
    "               model_func, # model architecture\n",
    "               model_pth, # only name, not with .pth\n",
    "              ):\n",
    "    \n",
    "    \"Predict dataframe given a deep learning model\"\n",
    "    \n",
    "    test_dset = GeneralDataset(df,feat_col)\n",
    "    test_dl = DataLoader(test_dset,bs=512)\n",
    "    \n",
    "    model = model_func()\n",
    "    \n",
    "    learn = Learner(None, model.to(def_device), loss_func=1)\n",
    "    learn.load(model_pth,weights_only=False)\n",
    "    \n",
    "    learn.model.eval()\n",
    "    \n",
    "    preds = []\n",
    "    for data in test_dl:\n",
    "        inputs = data.to(def_device)\n",
    "        pred = learn.model(inputs)\n",
    "\n",
    "        pred  = F.softmax(pred, dim=1).reshape(len(pred),-1)\n",
    "        # pred  = F.softmax(pred, dim=1).permute(0, 2, 1).reshape(len(pred),-1)\n",
    "\n",
    "        preds.append(pred.detach().cpu().numpy())\n",
    "\n",
    "    preds = np.concatenate(preds)\n",
    "    preds = pd.DataFrame(preds,index=df.index,columns=target_col)\n",
    "\n",
    "    return preds"
   ]
  },
  {
   "cell_type": "code",
   "execution_count": 45,
   "metadata": {},
   "outputs": [],
   "source": [
    "test = df.loc[split0[1]].copy()"
   ]
  },
  {
   "cell_type": "code",
   "execution_count": 46,
   "metadata": {},
   "outputs": [],
   "source": [
    "test_pred = predict_dl(test, \n",
    "               feat_col, \n",
    "               target_col,\n",
    "               model_func=get_cnn, # model architecture\n",
    "               model_pth='test', # only name, not with .pth\n",
    "              )"
   ]
  },
  {
   "cell_type": "code",
   "execution_count": 47,
   "metadata": {},
   "outputs": [
    {
     "data": {
      "text/plain": [
       "Index(['-5P', '-4P', '-3P', '-2P', '-1P', '0P', '1P', '2P', '3P', '4P',\n",
       "       ...\n",
       "       '-5pY', '-4pY', '-3pY', '-2pY', '-1pY', '0pY', '1pY', '2pY', '3pY',\n",
       "       '4pY'],\n",
       "      dtype='object', length=230)"
      ]
     },
     "execution_count": 47,
     "metadata": {},
     "output_type": "execute_result"
    }
   ],
   "source": [
    "test_pred.columns"
   ]
  },
  {
   "cell_type": "code",
   "execution_count": 48,
   "metadata": {},
   "outputs": [
    {
     "data": {
      "text/plain": [
       "Position\n",
       "-5    1.0\n",
       "-4    1.0\n",
       "-3    1.0\n",
       "-2    1.0\n",
       "-1    1.0\n",
       " 0    1.0\n",
       " 1    1.0\n",
       " 2    1.0\n",
       " 3    1.0\n",
       " 4    1.0\n",
       "dtype: float32"
      ]
     },
     "execution_count": 48,
     "metadata": {},
     "output_type": "execute_result"
    }
   ],
   "source": [
    "pssm_pred = recover_pssm(test_pred.iloc[0])\n",
    "pssm_pred.sum()"
   ]
  },
  {
   "cell_type": "code",
   "execution_count": 49,
   "metadata": {},
   "outputs": [
    {
     "data": {
      "text/plain": [
       "<Axes: >"
      ]
     },
     "execution_count": 49,
     "metadata": {},
     "output_type": "execute_result"
    },
    {
     "data": {
      "image/png": "[encoded data removed]",
      "text/plain": [
       "<Figure size 500x600 with 2 Axes>"
      ]
     },
     "metadata": {},
     "output_type": "display_data"
    }
   ],
   "source": [
    "plot_heatmap(pssm_pred)"
   ]
  },
  {
   "cell_type": "markdown",
   "metadata": {},
   "source": [
    "## CV train\n",
    "> cross-validation"
   ]
  },
  {
   "cell_type": "code",
   "execution_count": 50,
   "metadata": {},
   "outputs": [],
   "source": [
    "#| export\n",
    "def train_dl_cv(df, \n",
    "                feat_col, \n",
    "                target_col, \n",
    "                splits, # list of tuples\n",
    "                model_func, # functions like lambda x: return MLP_1(num_feat, num_target)\n",
    "                save:str=None,\n",
    "                **kwargs\n",
    "                ):\n",
    "    \n",
    "    OOF = []\n",
    "    \n",
    "    for fold,split in enumerate(splits):\n",
    "\n",
    "        print(f'------fold{fold}------')\n",
    "        \n",
    "        fname = f'{save}_fold{fold}' if save is not None else None\n",
    "        \n",
    "        \n",
    "        # train model\n",
    "        target, pred = train_dl(df,feat_col,target_col, split, model_func ,save=fname,**kwargs)\n",
    "\n",
    "        pred['nfold'] = fold\n",
    "        OOF.append(pred)\n",
    "        \n",
    "\n",
    "    # Concatenate OOF from each fold to a new dataframe\n",
    "    oofs = pd.concat(OOF).sort_index()\n",
    "    \n",
    "    return oofs"
   ]
  },
  {
   "cell_type": "code",
   "execution_count": 51,
   "metadata": {},
   "outputs": [
    {
     "name": "stdout",
     "output_type": "stream",
     "text": [
      "------fold0------\n",
      "lr in training is 0.003\n"
     ]
    },
    {
     "data": {
      "text/html": [
       "\n",
       "<style>\n",
       "    /* Turns off some styling */\n",
       "    progress {\n",
       "        /* gets rid of default border in Firefox and Opera. */\n",
       "        border: none;\n",
       "        /* Needs to be in here for Safari polyfill so background images work as expected. */\n",
       "        background-size: auto;\n",
       "    }\n",
       "    progress:not([value]), progress:not([value])::-webkit-progress-bar {\n",
       "        background: repeating-linear-gradient(45deg, #7e7e7e, #7e7e7e 10px, #5c5c5c 10px, #5c5c5c 20px);\n",
       "    }\n",
       "    .progress-bar-interrupted, .progress-bar-interrupted::-webkit-progress-bar {\n",
       "        background: #F44336;\n",
       "    }\n",
       "</style>\n"
      ],
      "text/plain": [
       "<IPython.core.display.HTML object>"
      ]
     },
     "metadata": {},
     "output_type": "display_data"
    },
    {
     "data": {
      "text/html": [
       "<table border=\"1\" class=\"dataframe\">\n",
       "  <thead>\n",
       "    <tr style=\"text-align: left;\">\n",
       "      <th>epoch</th>\n",
       "      <th>train_loss</th>\n",
       "      <th>valid_loss</th>\n",
       "      <th>KLD</th>\n",
       "      <th>JSD</th>\n",
       "      <th>time</th>\n",
       "    </tr>\n",
       "  </thead>\n",
       "  <tbody>\n",
       "    <tr>\n",
       "      <td>0</td>\n",
       "      <td>3.136976</td>\n",
       "      <td>3.053134</td>\n",
       "      <td>0.333676</td>\n",
       "      <td>0.075223</td>\n",
       "      <td>00:00</td>\n",
       "    </tr>\n",
       "  </tbody>\n",
       "</table>"
      ],
      "text/plain": [
       "<IPython.core.display.HTML object>"
      ]
     },
     "metadata": {},
     "output_type": "display_data"
    },
    {
     "data": {
      "text/html": [
       "\n",
       "<style>\n",
       "    /* Turns off some styling */\n",
       "    progress {\n",
       "        /* gets rid of default border in Firefox and Opera. */\n",
       "        border: none;\n",
       "        /* Needs to be in here for Safari polyfill so background images work as expected. */\n",
       "        background-size: auto;\n",
       "    }\n",
       "    progress:not([value]), progress:not([value])::-webkit-progress-bar {\n",
       "        background: repeating-linear-gradient(45deg, #7e7e7e, #7e7e7e 10px, #5c5c5c 10px, #5c5c5c 20px);\n",
       "    }\n",
       "    .progress-bar-interrupted, .progress-bar-interrupted::-webkit-progress-bar {\n",
       "        background: #F44336;\n",
       "    }\n",
       "</style>\n"
      ],
      "text/plain": [
       "<IPython.core.display.HTML object>"
      ]
     },
     "metadata": {},
     "output_type": "display_data"
    },
    {
     "data": {
      "text/html": [],
      "text/plain": [
       "<IPython.core.display.HTML object>"
      ]
     },
     "metadata": {},
     "output_type": "display_data"
    },
    {
     "name": "stdout",
     "output_type": "stream",
     "text": [
      "------fold1------\n",
      "lr in training is 0.003\n"
     ]
    },
    {
     "data": {
      "text/html": [
       "\n",
       "<style>\n",
       "    /* Turns off some styling */\n",
       "    progress {\n",
       "        /* gets rid of default border in Firefox and Opera. */\n",
       "        border: none;\n",
       "        /* Needs to be in here for Safari polyfill so background images work as expected. */\n",
       "        background-size: auto;\n",
       "    }\n",
       "    progress:not([value]), progress:not([value])::-webkit-progress-bar {\n",
       "        background: repeating-linear-gradient(45deg, #7e7e7e, #7e7e7e 10px, #5c5c5c 10px, #5c5c5c 20px);\n",
       "    }\n",
       "    .progress-bar-interrupted, .progress-bar-interrupted::-webkit-progress-bar {\n",
       "        background: #F44336;\n",
       "    }\n",
       "</style>\n"
      ],
      "text/plain": [
       "<IPython.core.display.HTML object>"
      ]
     },
     "metadata": {},
     "output_type": "display_data"
    },
    {
     "data": {
      "text/html": [
       "<table border=\"1\" class=\"dataframe\">\n",
       "  <thead>\n",
       "    <tr style=\"text-align: left;\">\n",
       "      <th>epoch</th>\n",
       "      <th>train_loss</th>\n",
       "      <th>valid_loss</th>\n",
       "      <th>KLD</th>\n",
       "      <th>JSD</th>\n",
       "      <th>time</th>\n",
       "    </tr>\n",
       "  </thead>\n",
       "  <tbody>\n",
       "    <tr>\n",
       "      <td>0</td>\n",
       "      <td>3.116230</td>\n",
       "      <td>2.985299</td>\n",
       "      <td>0.230389</td>\n",
       "      <td>0.051941</td>\n",
       "      <td>00:00</td>\n",
       "    </tr>\n",
       "  </tbody>\n",
       "</table>"
      ],
      "text/plain": [
       "<IPython.core.display.HTML object>"
      ]
     },
     "metadata": {},
     "output_type": "display_data"
    },
    {
     "data": {
      "text/html": [
       "\n",
       "<style>\n",
       "    /* Turns off some styling */\n",
       "    progress {\n",
       "        /* gets rid of default border in Firefox and Opera. */\n",
       "        border: none;\n",
       "        /* Needs to be in here for Safari polyfill so background images work as expected. */\n",
       "        background-size: auto;\n",
       "    }\n",
       "    progress:not([value]), progress:not([value])::-webkit-progress-bar {\n",
       "        background: repeating-linear-gradient(45deg, #7e7e7e, #7e7e7e 10px, #5c5c5c 10px, #5c5c5c 20px);\n",
       "    }\n",
       "    .progress-bar-interrupted, .progress-bar-interrupted::-webkit-progress-bar {\n",
       "        background: #F44336;\n",
       "    }\n",
       "</style>\n"
      ],
      "text/plain": [
       "<IPython.core.display.HTML object>"
      ]
     },
     "metadata": {},
     "output_type": "display_data"
    },
    {
     "data": {
      "text/html": [],
      "text/plain": [
       "<IPython.core.display.HTML object>"
      ]
     },
     "metadata": {},
     "output_type": "display_data"
    },
    {
     "name": "stdout",
     "output_type": "stream",
     "text": [
      "------fold2------\n",
      "lr in training is 0.003\n"
     ]
    },
    {
     "data": {
      "text/html": [
       "\n",
       "<style>\n",
       "    /* Turns off some styling */\n",
       "    progress {\n",
       "        /* gets rid of default border in Firefox and Opera. */\n",
       "        border: none;\n",
       "        /* Needs to be in here for Safari polyfill so background images work as expected. */\n",
       "        background-size: auto;\n",
       "    }\n",
       "    progress:not([value]), progress:not([value])::-webkit-progress-bar {\n",
       "        background: repeating-linear-gradient(45deg, #7e7e7e, #7e7e7e 10px, #5c5c5c 10px, #5c5c5c 20px);\n",
       "    }\n",
       "    .progress-bar-interrupted, .progress-bar-interrupted::-webkit-progress-bar {\n",
       "        background: #F44336;\n",
       "    }\n",
       "</style>\n"
      ],
      "text/plain": [
       "<IPython.core.display.HTML object>"
      ]
     },
     "metadata": {},
     "output_type": "display_data"
    },
    {
     "data": {
      "text/html": [
       "<table border=\"1\" class=\"dataframe\">\n",
       "  <thead>\n",
       "    <tr style=\"text-align: left;\">\n",
       "      <th>epoch</th>\n",
       "      <th>train_loss</th>\n",
       "      <th>valid_loss</th>\n",
       "      <th>KLD</th>\n",
       "      <th>JSD</th>\n",
       "      <th>time</th>\n",
       "    </tr>\n",
       "  </thead>\n",
       "  <tbody>\n",
       "    <tr>\n",
       "      <td>0</td>\n",
       "      <td>3.126288</td>\n",
       "      <td>2.993812</td>\n",
       "      <td>0.241427</td>\n",
       "      <td>0.059246</td>\n",
       "      <td>00:00</td>\n",
       "    </tr>\n",
       "  </tbody>\n",
       "</table>"
      ],
      "text/plain": [
       "<IPython.core.display.HTML object>"
      ]
     },
     "metadata": {},
     "output_type": "display_data"
    },
    {
     "data": {
      "text/html": [
       "\n",
       "<style>\n",
       "    /* Turns off some styling */\n",
       "    progress {\n",
       "        /* gets rid of default border in Firefox and Opera. */\n",
       "        border: none;\n",
       "        /* Needs to be in here for Safari polyfill so background images work as expected. */\n",
       "        background-size: auto;\n",
       "    }\n",
       "    progress:not([value]), progress:not([value])::-webkit-progress-bar {\n",
       "        background: repeating-linear-gradient(45deg, #7e7e7e, #7e7e7e 10px, #5c5c5c 10px, #5c5c5c 20px);\n",
       "    }\n",
       "    .progress-bar-interrupted, .progress-bar-interrupted::-webkit-progress-bar {\n",
       "        background: #F44336;\n",
       "    }\n",
       "</style>\n"
      ],
      "text/plain": [
       "<IPython.core.display.HTML object>"
      ]
     },
     "metadata": {},
     "output_type": "display_data"
    },
    {
     "data": {
      "text/html": [],
      "text/plain": [
       "<IPython.core.display.HTML object>"
      ]
     },
     "metadata": {},
     "output_type": "display_data"
    },
    {
     "name": "stdout",
     "output_type": "stream",
     "text": [
      "------fold3------\n",
      "lr in training is 0.003\n"
     ]
    },
    {
     "data": {
      "text/html": [
       "\n",
       "<style>\n",
       "    /* Turns off some styling */\n",
       "    progress {\n",
       "        /* gets rid of default border in Firefox and Opera. */\n",
       "        border: none;\n",
       "        /* Needs to be in here for Safari polyfill so background images work as expected. */\n",
       "        background-size: auto;\n",
       "    }\n",
       "    progress:not([value]), progress:not([value])::-webkit-progress-bar {\n",
       "        background: repeating-linear-gradient(45deg, #7e7e7e, #7e7e7e 10px, #5c5c5c 10px, #5c5c5c 20px);\n",
       "    }\n",
       "    .progress-bar-interrupted, .progress-bar-interrupted::-webkit-progress-bar {\n",
       "        background: #F44336;\n",
       "    }\n",
       "</style>\n"
      ],
      "text/plain": [
       "<IPython.core.display.HTML object>"
      ]
     },
     "metadata": {},
     "output_type": "display_data"
    },
    {
     "data": {
      "text/html": [
       "<table border=\"1\" class=\"dataframe\">\n",
       "  <thead>\n",
       "    <tr style=\"text-align: left;\">\n",
       "      <th>epoch</th>\n",
       "      <th>train_loss</th>\n",
       "      <th>valid_loss</th>\n",
       "      <th>KLD</th>\n",
       "      <th>JSD</th>\n",
       "      <th>time</th>\n",
       "    </tr>\n",
       "  </thead>\n",
       "  <tbody>\n",
       "    <tr>\n",
       "      <td>0</td>\n",
       "      <td>3.097305</td>\n",
       "      <td>3.008505</td>\n",
       "      <td>0.245488</td>\n",
       "      <td>0.061335</td>\n",
       "      <td>00:00</td>\n",
       "    </tr>\n",
       "  </tbody>\n",
       "</table>"
      ],
      "text/plain": [
       "<IPython.core.display.HTML object>"
      ]
     },
     "metadata": {},
     "output_type": "display_data"
    },
    {
     "data": {
      "text/html": [
       "\n",
       "<style>\n",
       "    /* Turns off some styling */\n",
       "    progress {\n",
       "        /* gets rid of default border in Firefox and Opera. */\n",
       "        border: none;\n",
       "        /* Needs to be in here for Safari polyfill so background images work as expected. */\n",
       "        background-size: auto;\n",
       "    }\n",
       "    progress:not([value]), progress:not([value])::-webkit-progress-bar {\n",
       "        background: repeating-linear-gradient(45deg, #7e7e7e, #7e7e7e 10px, #5c5c5c 10px, #5c5c5c 20px);\n",
       "    }\n",
       "    .progress-bar-interrupted, .progress-bar-interrupted::-webkit-progress-bar {\n",
       "        background: #F44336;\n",
       "    }\n",
       "</style>\n"
      ],
      "text/plain": [
       "<IPython.core.display.HTML object>"
      ]
     },
     "metadata": {},
     "output_type": "display_data"
    },
    {
     "data": {
      "text/html": [],
      "text/plain": [
       "<IPython.core.display.HTML object>"
      ]
     },
     "metadata": {},
     "output_type": "display_data"
    },
    {
     "name": "stdout",
     "output_type": "stream",
     "text": [
      "------fold4------\n",
      "lr in training is 0.003\n"
     ]
    },
    {
     "data": {
      "text/html": [
       "\n",
       "<style>\n",
       "    /* Turns off some styling */\n",
       "    progress {\n",
       "        /* gets rid of default border in Firefox and Opera. */\n",
       "        border: none;\n",
       "        /* Needs to be in here for Safari polyfill so background images work as expected. */\n",
       "        background-size: auto;\n",
       "    }\n",
       "    progress:not([value]), progress:not([value])::-webkit-progress-bar {\n",
       "        background: repeating-linear-gradient(45deg, #7e7e7e, #7e7e7e 10px, #5c5c5c 10px, #5c5c5c 20px);\n",
       "    }\n",
       "    .progress-bar-interrupted, .progress-bar-interrupted::-webkit-progress-bar {\n",
       "        background: #F44336;\n",
       "    }\n",
       "</style>\n"
      ],
      "text/plain": [
       "<IPython.core.display.HTML object>"
      ]
     },
     "metadata": {},
     "output_type": "display_data"
    },
    {
     "data": {
      "text/html": [
       "<table border=\"1\" class=\"dataframe\">\n",
       "  <thead>\n",
       "    <tr style=\"text-align: left;\">\n",
       "      <th>epoch</th>\n",
       "      <th>train_loss</th>\n",
       "      <th>valid_loss</th>\n",
       "      <th>KLD</th>\n",
       "      <th>JSD</th>\n",
       "      <th>time</th>\n",
       "    </tr>\n",
       "  </thead>\n",
       "  <tbody>\n",
       "    <tr>\n",
       "      <td>0</td>\n",
       "      <td>3.120687</td>\n",
       "      <td>3.022246</td>\n",
       "      <td>0.272693</td>\n",
       "      <td>0.061717</td>\n",
       "      <td>00:00</td>\n",
       "    </tr>\n",
       "  </tbody>\n",
       "</table>"
      ],
      "text/plain": [
       "<IPython.core.display.HTML object>"
      ]
     },
     "metadata": {},
     "output_type": "display_data"
    },
    {
     "data": {
      "text/html": [
       "\n",
       "<style>\n",
       "    /* Turns off some styling */\n",
       "    progress {\n",
       "        /* gets rid of default border in Firefox and Opera. */\n",
       "        border: none;\n",
       "        /* Needs to be in here for Safari polyfill so background images work as expected. */\n",
       "        background-size: auto;\n",
       "    }\n",
       "    progress:not([value]), progress:not([value])::-webkit-progress-bar {\n",
       "        background: repeating-linear-gradient(45deg, #7e7e7e, #7e7e7e 10px, #5c5c5c 10px, #5c5c5c 20px);\n",
       "    }\n",
       "    .progress-bar-interrupted, .progress-bar-interrupted::-webkit-progress-bar {\n",
       "        background: #F44336;\n",
       "    }\n",
       "</style>\n"
      ],
      "text/plain": [
       "<IPython.core.display.HTML object>"
      ]
     },
     "metadata": {},
     "output_type": "display_data"
    },
    {
     "data": {
      "text/html": [],
      "text/plain": [
       "<IPython.core.display.HTML object>"
      ]
     },
     "metadata": {},
     "output_type": "display_data"
    }
   ],
   "source": [
    "oof = train_dl_cv(df,feat_col,target_col,\n",
    "                  splits = splits,\n",
    "                  model_func = get_cnn,\n",
    "                  n_epoch=1,lr=3e-3,save='cnn')"
   ]
  },
  {
   "cell_type": "code",
   "execution_count": 52,
   "metadata": {},
   "outputs": [
    {
     "data": {
      "text/plain": [
       "nfold\n",
       "2    74\n",
       "1    74\n",
       "0    74\n",
       "3    73\n",
       "4    73\n",
       "Name: count, dtype: int64"
      ]
     },
     "execution_count": 52,
     "metadata": {},
     "output_type": "execute_result"
    }
   ],
   "source": [
    "oof.nfold.value_counts()"
   ]
  },
  {
   "cell_type": "markdown",
   "metadata": {},
   "source": [
    "## End"
   ]
  },
  {
   "cell_type": "code",
   "execution_count": 53,
   "metadata": {},
   "outputs": [],
   "source": [
    "#| hide\n",
    "import nbdev; nbdev.nbdev_export()"
   ]
  },
  {
   "cell_type": "code",
   "execution_count": null,
   "metadata": {},
   "outputs": [],
   "source": []
  },
  {
   "cell_type": "code",
   "execution_count": null,
   "metadata": {},
   "outputs": [],
   "source": []
  }
 ],
 "metadata": {
  "kernelspec": {
   "display_name": "Python 3 (ipykernel)",
   "language": "python",
   "name": "python3"
  },
  "language_info": {
   "codemirror_mode": {
    "name": "ipython",
    "version": 3
   },
   "file_extension": ".py",
   "mimetype": "text/x-python",
   "name": "python",
   "nbconvert_exporter": "python",
   "pygments_lexer": "ipython3",
   "version": "3.12.3"
  },
  "widgets": {
   "application/vnd.jupyter.widget-state+json": {
    "state": {},
    "version_major": 2,
    "version_minor": 0
   }
  }
 },
 "nbformat": 4,
 "nbformat_minor": 4
}
