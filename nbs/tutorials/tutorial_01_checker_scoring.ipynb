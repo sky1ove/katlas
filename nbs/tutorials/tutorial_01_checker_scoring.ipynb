{
 "cells": [
  {
   "cell_type": "raw",
   "id": "d0bfe673-4e74-44a1-a4e2-da03dd60d6d1",
   "metadata": {},
   "source": [
    "---\n",
    "skip_showdoc: true\n",
    "skip_exec: true\n",
    "---"
   ]
  },
  {
   "cell_type": "markdown",
   "id": "293682f9-04c7-4215-9f07-83f19616d977",
   "metadata": {},
   "source": [
    "# Checker and Scoring"
   ]
  },
  {
   "cell_type": "code",
   "execution_count": null,
   "id": "56595530-d2d2-4d4f-959c-8f93594437da",
   "metadata": {},
   "outputs": [],
   "source": [
    "from katlas.core import *"
   ]
  },
  {
   "cell_type": "markdown",
   "id": "ae1aabc0-3f9b-4909-8eb1-006c4a3e5b45",
   "metadata": {},
   "source": [
    "## Checker"
   ]
  },
  {
   "cell_type": "markdown",
   "id": "f2559809-68c1-4c81-b3c4-bad9a80e7737",
   "metadata": {},
   "source": [
    "- It will check if the middle position is s,t,y.\n",
    "- Check all sequences have same length\n",
    "- Convert non-s,t,y to upper case\n",
    "- Convert rare aa to _"
   ]
  },
  {
   "cell_type": "code",
   "execution_count": null,
   "id": "2bc0f93d-08de-4c86-a41f-00692cf6382b",
   "metadata": {},
   "outputs": [],
   "source": [
    "df = Data.get_psp_human_site()"
   ]
  },
  {
   "cell_type": "code",
   "execution_count": null,
   "id": "26cf6496-d155-42a5-97d1-df45df7e4923",
   "metadata": {},
   "outputs": [
    {
     "data": {
      "text/html": [
       "<div>\n",
       "<style scoped>\n",
       "    .dataframe tbody tr th:only-of-type {\n",
       "        vertical-align: middle;\n",
       "    }\n",
       "\n",
       "    .dataframe tbody tr th {\n",
       "        vertical-align: top;\n",
       "    }\n",
       "\n",
       "    .dataframe thead th {\n",
       "        text-align: right;\n",
       "    }\n",
       "</style>\n",
       "<table border=\"1\" class=\"dataframe\">\n",
       "  <thead>\n",
       "    <tr style=\"text-align: right;\">\n",
       "      <th></th>\n",
       "      <th>gene</th>\n",
       "      <th>protein</th>\n",
       "      <th>uniprot</th>\n",
       "      <th>site</th>\n",
       "      <th>gene_site</th>\n",
       "      <th>SITE_GRP_ID</th>\n",
       "      <th>species</th>\n",
       "      <th>site_seq</th>\n",
       "      <th>LT_LIT</th>\n",
       "      <th>MS_LIT</th>\n",
       "      <th>MS_CST</th>\n",
       "      <th>CST_CAT#</th>\n",
       "      <th>Ambiguous_Site</th>\n",
       "    </tr>\n",
       "  </thead>\n",
       "  <tbody>\n",
       "    <tr>\n",
       "      <th>0</th>\n",
       "      <td>YWHAB</td>\n",
       "      <td>14-3-3 beta</td>\n",
       "      <td>P31946</td>\n",
       "      <td>T2</td>\n",
       "      <td>YWHAB_T2</td>\n",
       "      <td>15718712</td>\n",
       "      <td>human</td>\n",
       "      <td>______MtMDksELV</td>\n",
       "      <td>NaN</td>\n",
       "      <td>3.0</td>\n",
       "      <td>1.0</td>\n",
       "      <td>None</td>\n",
       "      <td>0</td>\n",
       "    </tr>\n",
       "    <tr>\n",
       "      <th>1</th>\n",
       "      <td>YWHAB</td>\n",
       "      <td>14-3-3 beta</td>\n",
       "      <td>P31946</td>\n",
       "      <td>S6</td>\n",
       "      <td>YWHAB_S6</td>\n",
       "      <td>15718709</td>\n",
       "      <td>human</td>\n",
       "      <td>__MtMDksELVQkAk</td>\n",
       "      <td>NaN</td>\n",
       "      <td>8.0</td>\n",
       "      <td>NaN</td>\n",
       "      <td>None</td>\n",
       "      <td>0</td>\n",
       "    </tr>\n",
       "    <tr>\n",
       "      <th>2</th>\n",
       "      <td>YWHAB</td>\n",
       "      <td>14-3-3 beta</td>\n",
       "      <td>P31946</td>\n",
       "      <td>Y21</td>\n",
       "      <td>YWHAB_Y21</td>\n",
       "      <td>3426383</td>\n",
       "      <td>human</td>\n",
       "      <td>LAEQAERyDDMAAAM</td>\n",
       "      <td>NaN</td>\n",
       "      <td>NaN</td>\n",
       "      <td>4.0</td>\n",
       "      <td>None</td>\n",
       "      <td>0</td>\n",
       "    </tr>\n",
       "    <tr>\n",
       "      <th>3</th>\n",
       "      <td>YWHAB</td>\n",
       "      <td>14-3-3 beta</td>\n",
       "      <td>P31946</td>\n",
       "      <td>T32</td>\n",
       "      <td>YWHAB_T32</td>\n",
       "      <td>23077803</td>\n",
       "      <td>human</td>\n",
       "      <td>AAAMkAVtEQGHELs</td>\n",
       "      <td>NaN</td>\n",
       "      <td>NaN</td>\n",
       "      <td>1.0</td>\n",
       "      <td>None</td>\n",
       "      <td>0</td>\n",
       "    </tr>\n",
       "    <tr>\n",
       "      <th>4</th>\n",
       "      <td>YWHAB</td>\n",
       "      <td>14-3-3 beta</td>\n",
       "      <td>P31946</td>\n",
       "      <td>S39</td>\n",
       "      <td>YWHAB_S39</td>\n",
       "      <td>27442700</td>\n",
       "      <td>human</td>\n",
       "      <td>tEQGHELsNEERNLL</td>\n",
       "      <td>NaN</td>\n",
       "      <td>4.0</td>\n",
       "      <td>NaN</td>\n",
       "      <td>None</td>\n",
       "      <td>0</td>\n",
       "    </tr>\n",
       "  </tbody>\n",
       "</table>\n",
       "</div>"
      ],
      "text/plain": [
       "    gene      protein uniprot site  gene_site  SITE_GRP_ID species  \\\n",
       "0  YWHAB  14-3-3 beta  P31946   T2   YWHAB_T2     15718712   human   \n",
       "1  YWHAB  14-3-3 beta  P31946   S6   YWHAB_S6     15718709   human   \n",
       "2  YWHAB  14-3-3 beta  P31946  Y21  YWHAB_Y21      3426383   human   \n",
       "3  YWHAB  14-3-3 beta  P31946  T32  YWHAB_T32     23077803   human   \n",
       "4  YWHAB  14-3-3 beta  P31946  S39  YWHAB_S39     27442700   human   \n",
       "\n",
       "          site_seq  LT_LIT  MS_LIT  MS_CST CST_CAT#  Ambiguous_Site  \n",
       "0  ______MtMDksELV     NaN     3.0     1.0     None               0  \n",
       "1  __MtMDksELVQkAk     NaN     8.0     NaN     None               0  \n",
       "2  LAEQAERyDDMAAAM     NaN     NaN     4.0     None               0  \n",
       "3  AAAMkAVtEQGHELs     NaN     NaN     1.0     None               0  \n",
       "4  tEQGHELsNEERNLL     NaN     4.0     NaN     None               0  "
      ]
     },
     "execution_count": null,
     "metadata": {},
     "output_type": "execute_result"
    }
   ],
   "source": [
    "df.head()"
   ]
  },
  {
   "cell_type": "code",
   "execution_count": null,
   "id": "97b70b9a-cdc1-49e4-bb6c-5f989e30d890",
   "metadata": {},
   "outputs": [
    {
     "name": "stdout",
     "output_type": "stream",
     "text": [
      "Error in check_site: SSEVQFGhAGACANQ has h at position 7; need to have one of 's', 't', or 'y' in the center\n"
     ]
    }
   ],
   "source": [
    "try:\n",
    "    check_seq_df(df, 'site_seq')\n",
    "except Exception as e:\n",
    "    print(f\"Error in check_site: {e}\")"
   ]
  },
  {
   "cell_type": "code",
   "execution_count": null,
   "id": "de1b4b39-2faa-4885-9926-0c43cfa6df4e",
   "metadata": {},
   "outputs": [
    {
     "data": {
      "text/plain": [
       "site_seq\n",
       "s    141851\n",
       "t     58761\n",
       "y     39367\n",
       "h        14\n",
       "k         4\n",
       "r         3\n",
       "g         3\n",
       "p         2\n",
       "n         1\n",
       "f         1\n",
       "l         1\n",
       "a         1\n",
       "i         1\n",
       "d         1\n",
       "Name: count, dtype: int64"
      ]
     },
     "execution_count": null,
     "metadata": {},
     "output_type": "execute_result"
    }
   ],
   "source": [
    "df['site_seq'].str[7].value_counts()"
   ]
  },
  {
   "cell_type": "markdown",
   "id": "a2480941-0e12-4284-abc4-b683b01e4a72",
   "metadata": {},
   "source": [
    "Remove non-sty centered sequences:"
   ]
  },
  {
   "cell_type": "code",
   "execution_count": null,
   "id": "f66956fc-65f4-4cae-936f-dd5ca002456a",
   "metadata": {},
   "outputs": [],
   "source": [
    "df = df[df['site_seq'].str[7].isin(list('sty'))].copy()"
   ]
  },
  {
   "cell_type": "code",
   "execution_count": null,
   "id": "ebc4f27a-f732-4f9e-b0cf-6d485ef4473a",
   "metadata": {},
   "outputs": [],
   "source": [
    "df['site_seq'] = check_seq_df(df, 'site_seq')"
   ]
  },
  {
   "cell_type": "code",
   "execution_count": null,
   "id": "558a8bbe-dca6-4ff3-9a9f-22519065bc35",
   "metadata": {},
   "outputs": [
    {
     "data": {
      "text/plain": [
       "0         ______MtMDKsELV\n",
       "1         __MtMDKsELVQKAK\n",
       "2         LAEQAERyDDMAAAM\n",
       "3         AAAMKAVtEQGHELs\n",
       "4         tEQGHELsNEERNLL\n",
       "               ...       \n",
       "240006    PsAKESAsQHITEEE\n",
       "240007    GLPARPKsPLDPKKD\n",
       "240008    LEQLLIKyPPEEVEs\n",
       "240009    yPPEEVEsRRWQKIA\n",
       "240010    NTAVEDAsDDESIPI\n",
       "Name: site_seq, Length: 239979, dtype: object"
      ]
     },
     "execution_count": null,
     "metadata": {},
     "output_type": "execute_result"
    }
   ],
   "source": [
    "df['site_seq']"
   ]
  },
  {
   "cell_type": "markdown",
   "id": "44af2f00-7041-45d4-8698-c797b708c15c",
   "metadata": {},
   "source": [
    "## Scoring"
   ]
  },
  {
   "cell_type": "code",
   "execution_count": null,
   "id": "df598994-2457-45fe-9dfa-4d3e4322a013",
   "metadata": {},
   "outputs": [
    {
     "name": "stdout",
     "output_type": "stream",
     "text": [
      "Available parameter sets:\n"
     ]
    },
    {
     "data": {
      "text/plain": [
       "['PSPA_st', 'PSPA_y', 'PSPA', 'CDDM', 'CDDM_upper']"
      ]
     },
     "execution_count": null,
     "metadata": {},
     "output_type": "execute_result"
    }
   ],
   "source": [
    "Params()"
   ]
  },
  {
   "cell_type": "markdown",
   "id": "32f8e539-278d-48d0-8726-2628d774b620",
   "metadata": {},
   "source": [
    "### Single sequence:"
   ]
  },
  {
   "cell_type": "code",
   "execution_count": null,
   "id": "4cb89954-16a4-4d69-a95d-b029b922ff89",
   "metadata": {},
   "outputs": [
    {
     "name": "stdout",
     "output_type": "stream",
     "text": [
      "considering string: ['-5V', '-4E', '-3P', '-2P', '-1L', '0s', '1Q', '2E', '3T', '4F', '5S']\n",
      "kinase\n",
      "ATM       5.037\n",
      "SMG1      4.385\n",
      "DNAPK     3.818\n",
      "ATR       3.507\n",
      "FAM20C    3.170\n",
      "dtype: float64\n",
      "considering string: ['-7P', '-6S', '-5V', '-4E', '-3P', '-2P', '-1L', '0s', '1Q', '2E', '3T', '4F', '5S', '6D', '7L']\n",
      "kinase\n",
      "ATR      3.064\n",
      "ATM      2.909\n",
      "DNAPK    2.270\n",
      "CK2A1    1.873\n",
      "TSSK1    1.856\n",
      "dtype: float64\n",
      "considering string: ['-7P', '-6S', '-5V', '-4E', '-3P', '-2P', '-1L', '0S', '1Q', '2E', '3T', '4F', '5S', '6D', '7L']\n",
      "kinase\n",
      "ATR      3.229\n",
      "ATM      3.038\n",
      "DNAPK    2.479\n",
      "CK2A1    2.006\n",
      "CDK8     1.999\n",
      "dtype: float64\n"
     ]
    }
   ],
   "source": [
    "for param in ['PSPA', 'CDDM','CDDM_upper']:\n",
    "    print(predict_kinase('PSVEPPLsQETFSDL',**Params(param)).head())"
   ]
  },
  {
   "cell_type": "markdown",
   "id": "87565a19-5bbe-401e-a84e-3c810ddd6361",
   "metadata": {},
   "source": [
    "### Multiple sequences scoring"
   ]
  },
  {
   "cell_type": "markdown",
   "id": "a7fed6d8-076f-4991-9403-5986fadf72bc",
   "metadata": {},
   "source": [
    "CDDM:"
   ]
  },
  {
   "cell_type": "code",
   "execution_count": null,
   "id": "5e414e26-fb49-4fc3-bba7-e7c4e22c9caa",
   "metadata": {},
   "outputs": [
    {
     "name": "stdout",
     "output_type": "stream",
     "text": [
      "input dataframe has a length 500\n",
      "Preprocessing\n",
      "Finish preprocessing\n",
      "Merging reference\n",
      "Finish merging\n",
      "CPU times: user 25.6 ms, sys: 4.73 ms, total: 30.3 ms\n",
      "Wall time: 29.4 ms\n"
     ]
    }
   ],
   "source": [
    "%%time\n",
    "out_cddm = predict_kinase_df(df.head(500),'site_seq', **Params('CDDM'))"
   ]
  },
  {
   "cell_type": "markdown",
   "id": "5f022699-44b5-40ae-ba52-5467da1a9473",
   "metadata": {},
   "source": [
    "PSPA:"
   ]
  },
  {
   "cell_type": "code",
   "execution_count": null,
   "id": "a7416aa4-5b03-4e61-936c-1c6f5b973600",
   "metadata": {},
   "outputs": [
    {
     "name": "stdout",
     "output_type": "stream",
     "text": [
      "input dataframe has a length 500\n",
      "Preprocessing\n",
      "Finish preprocessing\n",
      "Merging reference\n",
      "Finish merging\n"
     ]
    },
    {
     "name": "stderr",
     "output_type": "stream",
     "text": [
      "100%|██████████| 396/396 [00:00<00:00, 423.14it/s]"
     ]
    },
    {
     "name": "stdout",
     "output_type": "stream",
     "text": [
      "CPU times: user 973 ms, sys: 12.4 ms, total: 985 ms\n",
      "Wall time: 998 ms\n"
     ]
    },
    {
     "name": "stderr",
     "output_type": "stream",
     "text": [
      "\n"
     ]
    }
   ],
   "source": [
    "%%time\n",
    "out_cddm = predict_kinase_df(df.head(500),'site_seq', **Params('PSPA'))"
   ]
  },
  {
   "cell_type": "markdown",
   "id": "ae388fc2-f8a8-4b42-a047-ff06432c1abb",
   "metadata": {},
   "source": [
    "### PSPA percentile score"
   ]
  },
  {
   "cell_type": "markdown",
   "id": "05c8e214-e234-4293-aee7-3bfc56ca672d",
   "metadata": {},
   "source": [
    "### Single sequence"
   ]
  },
  {
   "cell_type": "code",
   "execution_count": null,
   "id": "a8bfb418-9cb1-4d47-91ac-66100c51d29a",
   "metadata": {},
   "outputs": [],
   "source": [
    "st_pct = Data.get_pspa_st_pct()\n",
    "y_pct = Data.get_pspa_tyr_pct()"
   ]
  },
  {
   "cell_type": "code",
   "execution_count": null,
   "id": "1a827ea8-1670-4632-9c33-c58cb3954bac",
   "metadata": {},
   "outputs": [
    {
     "name": "stdout",
     "output_type": "stream",
     "text": [
      "considering string: ['-5V', '-4E', '-3P', '-2P', '-1L', '0Y', '1P', '2E', '3T', '4F', '5S']\n"
     ]
    },
    {
     "data": {
      "text/html": [
       "<div>\n",
       "<style scoped>\n",
       "    .dataframe tbody tr th:only-of-type {\n",
       "        vertical-align: middle;\n",
       "    }\n",
       "\n",
       "    .dataframe tbody tr th {\n",
       "        vertical-align: top;\n",
       "    }\n",
       "\n",
       "    .dataframe thead th {\n",
       "        text-align: right;\n",
       "    }\n",
       "</style>\n",
       "<table border=\"1\" class=\"dataframe\">\n",
       "  <thead>\n",
       "    <tr style=\"text-align: right;\">\n",
       "      <th></th>\n",
       "      <th>log2(score)</th>\n",
       "      <th>percentile</th>\n",
       "    </tr>\n",
       "  </thead>\n",
       "  <tbody>\n",
       "    <tr>\n",
       "      <th>TEK</th>\n",
       "      <td>1.789</td>\n",
       "      <td>93.820916</td>\n",
       "    </tr>\n",
       "    <tr>\n",
       "      <th>PDHK4_TYR</th>\n",
       "      <td>0.851</td>\n",
       "      <td>87.204375</td>\n",
       "    </tr>\n",
       "    <tr>\n",
       "      <th>DDR2</th>\n",
       "      <td>0.204</td>\n",
       "      <td>80.929597</td>\n",
       "    </tr>\n",
       "    <tr>\n",
       "      <th>CSF1R</th>\n",
       "      <td>1.030</td>\n",
       "      <td>80.423787</td>\n",
       "    </tr>\n",
       "    <tr>\n",
       "      <th>PDHK3_TYR</th>\n",
       "      <td>0.477</td>\n",
       "      <td>79.384826</td>\n",
       "    </tr>\n",
       "    <tr>\n",
       "      <th>...</th>\n",
       "      <td>...</td>\n",
       "      <td>...</td>\n",
       "    </tr>\n",
       "    <tr>\n",
       "      <th>FLT1</th>\n",
       "      <td>-3.121</td>\n",
       "      <td>7.723855</td>\n",
       "    </tr>\n",
       "    <tr>\n",
       "      <th>TNNI3K_TYR</th>\n",
       "      <td>-3.979</td>\n",
       "      <td>7.682843</td>\n",
       "    </tr>\n",
       "    <tr>\n",
       "      <th>PDGFRB</th>\n",
       "      <td>-3.144</td>\n",
       "      <td>7.177033</td>\n",
       "    </tr>\n",
       "    <tr>\n",
       "      <th>PTK6</th>\n",
       "      <td>-3.540</td>\n",
       "      <td>4.743677</td>\n",
       "    </tr>\n",
       "    <tr>\n",
       "      <th>MUSK</th>\n",
       "      <td>-5.376</td>\n",
       "      <td>3.773069</td>\n",
       "    </tr>\n",
       "  </tbody>\n",
       "</table>\n",
       "<p>93 rows × 2 columns</p>\n",
       "</div>"
      ],
      "text/plain": [
       "            log2(score)  percentile\n",
       "TEK               1.789   93.820916\n",
       "PDHK4_TYR         0.851   87.204375\n",
       "DDR2              0.204   80.929597\n",
       "CSF1R             1.030   80.423787\n",
       "PDHK3_TYR         0.477   79.384826\n",
       "...                 ...         ...\n",
       "FLT1             -3.121    7.723855\n",
       "TNNI3K_TYR       -3.979    7.682843\n",
       "PDGFRB           -3.144    7.177033\n",
       "PTK6             -3.540    4.743677\n",
       "MUSK             -5.376    3.773069\n",
       "\n",
       "[93 rows x 2 columns]"
      ]
     },
     "execution_count": null,
     "metadata": {},
     "output_type": "execute_result"
    }
   ],
   "source": [
    "a = get_pct('PSVEPPLyPETFSDL',**Params('PSPA_y'), pct_ref=y_pct)\n",
    "a.sort_values('percentile',ascending=False)"
   ]
  },
  {
   "cell_type": "code",
   "execution_count": null,
   "id": "1834665c-4804-4e34-9755-42c09727f98f",
   "metadata": {},
   "outputs": [
    {
     "name": "stdout",
     "output_type": "stream",
     "text": [
      "considering string: ['-5V', '-4E', '-3P', '-2P', '-1L', '0S', '1Q', '2E', '3T', '4F']\n"
     ]
    },
    {
     "data": {
      "text/html": [
       "<div>\n",
       "<style scoped>\n",
       "    .dataframe tbody tr th:only-of-type {\n",
       "        vertical-align: middle;\n",
       "    }\n",
       "\n",
       "    .dataframe tbody tr th {\n",
       "        vertical-align: top;\n",
       "    }\n",
       "\n",
       "    .dataframe thead th {\n",
       "        text-align: right;\n",
       "    }\n",
       "</style>\n",
       "<table border=\"1\" class=\"dataframe\">\n",
       "  <thead>\n",
       "    <tr style=\"text-align: right;\">\n",
       "      <th></th>\n",
       "      <th>log2(score)</th>\n",
       "      <th>percentile</th>\n",
       "    </tr>\n",
       "  </thead>\n",
       "  <tbody>\n",
       "    <tr>\n",
       "      <th>ATM</th>\n",
       "      <td>5.037</td>\n",
       "      <td>99.822351</td>\n",
       "    </tr>\n",
       "    <tr>\n",
       "      <th>SMG1</th>\n",
       "      <td>4.385</td>\n",
       "      <td>99.831819</td>\n",
       "    </tr>\n",
       "    <tr>\n",
       "      <th>DNAPK</th>\n",
       "      <td>3.818</td>\n",
       "      <td>99.205315</td>\n",
       "    </tr>\n",
       "    <tr>\n",
       "      <th>ATR</th>\n",
       "      <td>3.507</td>\n",
       "      <td>99.680344</td>\n",
       "    </tr>\n",
       "    <tr>\n",
       "      <th>FAM20C</th>\n",
       "      <td>3.170</td>\n",
       "      <td>95.370556</td>\n",
       "    </tr>\n",
       "    <tr>\n",
       "      <th>...</th>\n",
       "      <td>...</td>\n",
       "      <td>...</td>\n",
       "    </tr>\n",
       "    <tr>\n",
       "      <th>PKN1</th>\n",
       "      <td>-7.275</td>\n",
       "      <td>14.070436</td>\n",
       "    </tr>\n",
       "    <tr>\n",
       "      <th>P70S6K</th>\n",
       "      <td>-7.295</td>\n",
       "      <td>4.089816</td>\n",
       "    </tr>\n",
       "    <tr>\n",
       "      <th>AKT3</th>\n",
       "      <td>-7.375</td>\n",
       "      <td>11.432995</td>\n",
       "    </tr>\n",
       "    <tr>\n",
       "      <th>PKCI</th>\n",
       "      <td>-7.742</td>\n",
       "      <td>8.129511</td>\n",
       "    </tr>\n",
       "    <tr>\n",
       "      <th>NEK3</th>\n",
       "      <td>-8.254</td>\n",
       "      <td>4.637240</td>\n",
       "    </tr>\n",
       "  </tbody>\n",
       "</table>\n",
       "<p>303 rows × 2 columns</p>\n",
       "</div>"
      ],
      "text/plain": [
       "        log2(score)  percentile\n",
       "ATM           5.037   99.822351\n",
       "SMG1          4.385   99.831819\n",
       "DNAPK         3.818   99.205315\n",
       "ATR           3.507   99.680344\n",
       "FAM20C        3.170   95.370556\n",
       "...             ...         ...\n",
       "PKN1         -7.275   14.070436\n",
       "P70S6K       -7.295    4.089816\n",
       "AKT3         -7.375   11.432995\n",
       "PKCI         -7.742    8.129511\n",
       "NEK3         -8.254    4.637240\n",
       "\n",
       "[303 rows x 2 columns]"
      ]
     },
     "execution_count": null,
     "metadata": {},
     "output_type": "execute_result"
    }
   ],
   "source": [
    "get_pct('PSVEPPLsQETFSDL',**Params('PSPA_st'), pct_ref=st_pct)"
   ]
  },
  {
   "cell_type": "markdown",
   "id": "0ff2ba40-26a4-48c1-af31-583d53d463cf",
   "metadata": {},
   "source": [
    "### Multiple sequences"
   ]
  },
  {
   "cell_type": "code",
   "execution_count": null,
   "id": "167fa771-e55a-4e45-904c-eff6ee8a822a",
   "metadata": {},
   "outputs": [
    {
     "name": "stdout",
     "output_type": "stream",
     "text": [
      "input dataframe has a length 1000\n",
      "Preprocessing\n",
      "Finish preprocessing\n",
      "Merging reference\n",
      "Finish merging\n"
     ]
    },
    {
     "name": "stderr",
     "output_type": "stream",
     "text": [
      "100%|██████████| 303/303 [00:00<00:00, 387.86it/s]\n"
     ]
    }
   ],
   "source": [
    "score_df = predict_kinase_df(df.head(1000),'site_seq', **Params('PSPA_st'))"
   ]
  },
  {
   "cell_type": "code",
   "execution_count": null,
   "id": "a782b007-b45a-4259-9eab-0c65fc85b70b",
   "metadata": {},
   "outputs": [],
   "source": [
    "# get percentile reference\n",
    "pct_ref = Data.get_pspa_st_pct()"
   ]
  },
  {
   "cell_type": "code",
   "execution_count": null,
   "id": "6a93f974-ed13-4aa1-8f33-1e314e2543f6",
   "metadata": {},
   "outputs": [
    {
     "name": "stderr",
     "output_type": "stream",
     "text": [
      "100%|██████████| 303/303 [00:00<00:00, 1095.91it/s]\n"
     ]
    },
    {
     "data": {
      "text/html": [
       "<div>\n",
       "<style scoped>\n",
       "    .dataframe tbody tr th:only-of-type {\n",
       "        vertical-align: middle;\n",
       "    }\n",
       "\n",
       "    .dataframe tbody tr th {\n",
       "        vertical-align: top;\n",
       "    }\n",
       "\n",
       "    .dataframe thead th {\n",
       "        text-align: right;\n",
       "    }\n",
       "</style>\n",
       "<table border=\"1\" class=\"dataframe\">\n",
       "  <thead>\n",
       "    <tr style=\"text-align: right;\">\n",
       "      <th></th>\n",
       "      <th>AAK1</th>\n",
       "      <th>ACVR2A</th>\n",
       "      <th>ACVR2B</th>\n",
       "      <th>AKT1</th>\n",
       "      <th>AKT2</th>\n",
       "      <th>AKT3</th>\n",
       "      <th>ALK2</th>\n",
       "      <th>ALK4</th>\n",
       "      <th>ALPHAK3</th>\n",
       "      <th>AMPKA1</th>\n",
       "      <th>...</th>\n",
       "      <th>VRK1</th>\n",
       "      <th>VRK2</th>\n",
       "      <th>WNK1</th>\n",
       "      <th>WNK3</th>\n",
       "      <th>WNK4</th>\n",
       "      <th>YANK2</th>\n",
       "      <th>YANK3</th>\n",
       "      <th>YSK1</th>\n",
       "      <th>YSK4</th>\n",
       "      <th>ZAK</th>\n",
       "    </tr>\n",
       "  </thead>\n",
       "  <tbody>\n",
       "    <tr>\n",
       "      <th>0</th>\n",
       "      <td>73.188</td>\n",
       "      <td>87.606</td>\n",
       "      <td>84.729</td>\n",
       "      <td>79.877</td>\n",
       "      <td>79.533</td>\n",
       "      <td>81.850</td>\n",
       "      <td>89.768</td>\n",
       "      <td>91.201</td>\n",
       "      <td>98.426</td>\n",
       "      <td>54.554</td>\n",
       "      <td>...</td>\n",
       "      <td>84.632</td>\n",
       "      <td>77.239</td>\n",
       "      <td>82.520</td>\n",
       "      <td>69.104</td>\n",
       "      <td>87.543</td>\n",
       "      <td>99.299</td>\n",
       "      <td>92.838</td>\n",
       "      <td>89.845</td>\n",
       "      <td>95.202</td>\n",
       "      <td>81.707</td>\n",
       "    </tr>\n",
       "    <tr>\n",
       "      <th>1</th>\n",
       "      <td>56.703</td>\n",
       "      <td>95.693</td>\n",
       "      <td>95.585</td>\n",
       "      <td>13.314</td>\n",
       "      <td>9.253</td>\n",
       "      <td>7.540</td>\n",
       "      <td>89.098</td>\n",
       "      <td>91.358</td>\n",
       "      <td>96.091</td>\n",
       "      <td>48.544</td>\n",
       "      <td>...</td>\n",
       "      <td>30.292</td>\n",
       "      <td>25.050</td>\n",
       "      <td>17.132</td>\n",
       "      <td>47.388</td>\n",
       "      <td>20.742</td>\n",
       "      <td>80.747</td>\n",
       "      <td>87.061</td>\n",
       "      <td>8.621</td>\n",
       "      <td>53.530</td>\n",
       "      <td>45.247</td>\n",
       "    </tr>\n",
       "    <tr>\n",
       "      <th>2</th>\n",
       "      <td>100.000</td>\n",
       "      <td>100.000</td>\n",
       "      <td>100.000</td>\n",
       "      <td>100.000</td>\n",
       "      <td>100.000</td>\n",
       "      <td>100.000</td>\n",
       "      <td>100.000</td>\n",
       "      <td>100.000</td>\n",
       "      <td>100.000</td>\n",
       "      <td>100.000</td>\n",
       "      <td>...</td>\n",
       "      <td>100.000</td>\n",
       "      <td>100.000</td>\n",
       "      <td>100.000</td>\n",
       "      <td>100.000</td>\n",
       "      <td>100.000</td>\n",
       "      <td>100.000</td>\n",
       "      <td>100.000</td>\n",
       "      <td>100.000</td>\n",
       "      <td>100.000</td>\n",
       "      <td>100.000</td>\n",
       "    </tr>\n",
       "    <tr>\n",
       "      <th>3</th>\n",
       "      <td>73.105</td>\n",
       "      <td>82.606</td>\n",
       "      <td>85.710</td>\n",
       "      <td>62.441</td>\n",
       "      <td>67.236</td>\n",
       "      <td>58.350</td>\n",
       "      <td>83.195</td>\n",
       "      <td>88.883</td>\n",
       "      <td>72.216</td>\n",
       "      <td>62.304</td>\n",
       "      <td>...</td>\n",
       "      <td>99.196</td>\n",
       "      <td>88.782</td>\n",
       "      <td>42.032</td>\n",
       "      <td>26.203</td>\n",
       "      <td>48.761</td>\n",
       "      <td>48.276</td>\n",
       "      <td>36.724</td>\n",
       "      <td>68.810</td>\n",
       "      <td>65.439</td>\n",
       "      <td>40.623</td>\n",
       "    </tr>\n",
       "    <tr>\n",
       "      <th>4</th>\n",
       "      <td>41.466</td>\n",
       "      <td>93.063</td>\n",
       "      <td>95.262</td>\n",
       "      <td>25.830</td>\n",
       "      <td>32.035</td>\n",
       "      <td>22.619</td>\n",
       "      <td>98.084</td>\n",
       "      <td>96.177</td>\n",
       "      <td>53.175</td>\n",
       "      <td>29.332</td>\n",
       "      <td>...</td>\n",
       "      <td>31.234</td>\n",
       "      <td>6.206</td>\n",
       "      <td>19.819</td>\n",
       "      <td>38.389</td>\n",
       "      <td>18.550</td>\n",
       "      <td>79.177</td>\n",
       "      <td>45.058</td>\n",
       "      <td>10.560</td>\n",
       "      <td>42.568</td>\n",
       "      <td>26.996</td>\n",
       "    </tr>\n",
       "    <tr>\n",
       "      <th>...</th>\n",
       "      <td>...</td>\n",
       "      <td>...</td>\n",
       "      <td>...</td>\n",
       "      <td>...</td>\n",
       "      <td>...</td>\n",
       "      <td>...</td>\n",
       "      <td>...</td>\n",
       "      <td>...</td>\n",
       "      <td>...</td>\n",
       "      <td>...</td>\n",
       "      <td>...</td>\n",
       "      <td>...</td>\n",
       "      <td>...</td>\n",
       "      <td>...</td>\n",
       "      <td>...</td>\n",
       "      <td>...</td>\n",
       "      <td>...</td>\n",
       "      <td>...</td>\n",
       "      <td>...</td>\n",
       "      <td>...</td>\n",
       "      <td>...</td>\n",
       "    </tr>\n",
       "    <tr>\n",
       "      <th>995</th>\n",
       "      <td>78.612</td>\n",
       "      <td>48.108</td>\n",
       "      <td>49.316</td>\n",
       "      <td>70.027</td>\n",
       "      <td>68.095</td>\n",
       "      <td>73.951</td>\n",
       "      <td>54.940</td>\n",
       "      <td>60.196</td>\n",
       "      <td>67.759</td>\n",
       "      <td>27.998</td>\n",
       "      <td>...</td>\n",
       "      <td>80.102</td>\n",
       "      <td>79.886</td>\n",
       "      <td>48.167</td>\n",
       "      <td>46.783</td>\n",
       "      <td>49.481</td>\n",
       "      <td>90.781</td>\n",
       "      <td>52.997</td>\n",
       "      <td>84.096</td>\n",
       "      <td>44.233</td>\n",
       "      <td>84.789</td>\n",
       "    </tr>\n",
       "    <tr>\n",
       "      <th>996</th>\n",
       "      <td>15.366</td>\n",
       "      <td>42.891</td>\n",
       "      <td>37.567</td>\n",
       "      <td>42.280</td>\n",
       "      <td>46.271</td>\n",
       "      <td>53.040</td>\n",
       "      <td>31.365</td>\n",
       "      <td>24.402</td>\n",
       "      <td>46.969</td>\n",
       "      <td>56.985</td>\n",
       "      <td>...</td>\n",
       "      <td>65.541</td>\n",
       "      <td>68.537</td>\n",
       "      <td>28.641</td>\n",
       "      <td>52.885</td>\n",
       "      <td>39.271</td>\n",
       "      <td>75.061</td>\n",
       "      <td>76.763</td>\n",
       "      <td>52.028</td>\n",
       "      <td>81.469</td>\n",
       "      <td>74.303</td>\n",
       "    </tr>\n",
       "    <tr>\n",
       "      <th>997</th>\n",
       "      <td>37.572</td>\n",
       "      <td>21.732</td>\n",
       "      <td>22.480</td>\n",
       "      <td>83.025</td>\n",
       "      <td>76.807</td>\n",
       "      <td>79.376</td>\n",
       "      <td>14.507</td>\n",
       "      <td>46.188</td>\n",
       "      <td>3.412</td>\n",
       "      <td>88.018</td>\n",
       "      <td>...</td>\n",
       "      <td>78.811</td>\n",
       "      <td>58.363</td>\n",
       "      <td>95.636</td>\n",
       "      <td>96.562</td>\n",
       "      <td>91.573</td>\n",
       "      <td>81.036</td>\n",
       "      <td>77.758</td>\n",
       "      <td>85.756</td>\n",
       "      <td>75.917</td>\n",
       "      <td>82.245</td>\n",
       "    </tr>\n",
       "    <tr>\n",
       "      <th>998</th>\n",
       "      <td>100.000</td>\n",
       "      <td>100.000</td>\n",
       "      <td>100.000</td>\n",
       "      <td>100.000</td>\n",
       "      <td>100.000</td>\n",
       "      <td>100.000</td>\n",
       "      <td>100.000</td>\n",
       "      <td>100.000</td>\n",
       "      <td>100.000</td>\n",
       "      <td>100.000</td>\n",
       "      <td>...</td>\n",
       "      <td>100.000</td>\n",
       "      <td>100.000</td>\n",
       "      <td>100.000</td>\n",
       "      <td>100.000</td>\n",
       "      <td>100.000</td>\n",
       "      <td>100.000</td>\n",
       "      <td>100.000</td>\n",
       "      <td>100.000</td>\n",
       "      <td>100.000</td>\n",
       "      <td>100.000</td>\n",
       "    </tr>\n",
       "    <tr>\n",
       "      <th>999</th>\n",
       "      <td>94.640</td>\n",
       "      <td>73.473</td>\n",
       "      <td>82.830</td>\n",
       "      <td>7.624</td>\n",
       "      <td>11.623</td>\n",
       "      <td>5.405</td>\n",
       "      <td>53.584</td>\n",
       "      <td>48.375</td>\n",
       "      <td>94.639</td>\n",
       "      <td>25.493</td>\n",
       "      <td>...</td>\n",
       "      <td>87.950</td>\n",
       "      <td>66.768</td>\n",
       "      <td>8.615</td>\n",
       "      <td>0.937</td>\n",
       "      <td>14.440</td>\n",
       "      <td>14.019</td>\n",
       "      <td>3.233</td>\n",
       "      <td>73.357</td>\n",
       "      <td>35.516</td>\n",
       "      <td>42.516</td>\n",
       "    </tr>\n",
       "  </tbody>\n",
       "</table>\n",
       "<p>1000 rows × 303 columns</p>\n",
       "</div>"
      ],
      "text/plain": [
       "        AAK1   ACVR2A   ACVR2B     AKT1     AKT2     AKT3     ALK2     ALK4  \\\n",
       "0     73.188   87.606   84.729   79.877   79.533   81.850   89.768   91.201   \n",
       "1     56.703   95.693   95.585   13.314    9.253    7.540   89.098   91.358   \n",
       "2    100.000  100.000  100.000  100.000  100.000  100.000  100.000  100.000   \n",
       "3     73.105   82.606   85.710   62.441   67.236   58.350   83.195   88.883   \n",
       "4     41.466   93.063   95.262   25.830   32.035   22.619   98.084   96.177   \n",
       "..       ...      ...      ...      ...      ...      ...      ...      ...   \n",
       "995   78.612   48.108   49.316   70.027   68.095   73.951   54.940   60.196   \n",
       "996   15.366   42.891   37.567   42.280   46.271   53.040   31.365   24.402   \n",
       "997   37.572   21.732   22.480   83.025   76.807   79.376   14.507   46.188   \n",
       "998  100.000  100.000  100.000  100.000  100.000  100.000  100.000  100.000   \n",
       "999   94.640   73.473   82.830    7.624   11.623    5.405   53.584   48.375   \n",
       "\n",
       "     ALPHAK3   AMPKA1  ...     VRK1     VRK2     WNK1     WNK3     WNK4  \\\n",
       "0     98.426   54.554  ...   84.632   77.239   82.520   69.104   87.543   \n",
       "1     96.091   48.544  ...   30.292   25.050   17.132   47.388   20.742   \n",
       "2    100.000  100.000  ...  100.000  100.000  100.000  100.000  100.000   \n",
       "3     72.216   62.304  ...   99.196   88.782   42.032   26.203   48.761   \n",
       "4     53.175   29.332  ...   31.234    6.206   19.819   38.389   18.550   \n",
       "..       ...      ...  ...      ...      ...      ...      ...      ...   \n",
       "995   67.759   27.998  ...   80.102   79.886   48.167   46.783   49.481   \n",
       "996   46.969   56.985  ...   65.541   68.537   28.641   52.885   39.271   \n",
       "997    3.412   88.018  ...   78.811   58.363   95.636   96.562   91.573   \n",
       "998  100.000  100.000  ...  100.000  100.000  100.000  100.000  100.000   \n",
       "999   94.639   25.493  ...   87.950   66.768    8.615    0.937   14.440   \n",
       "\n",
       "       YANK2    YANK3     YSK1     YSK4      ZAK  \n",
       "0     99.299   92.838   89.845   95.202   81.707  \n",
       "1     80.747   87.061    8.621   53.530   45.247  \n",
       "2    100.000  100.000  100.000  100.000  100.000  \n",
       "3     48.276   36.724   68.810   65.439   40.623  \n",
       "4     79.177   45.058   10.560   42.568   26.996  \n",
       "..       ...      ...      ...      ...      ...  \n",
       "995   90.781   52.997   84.096   44.233   84.789  \n",
       "996   75.061   76.763   52.028   81.469   74.303  \n",
       "997   81.036   77.758   85.756   75.917   82.245  \n",
       "998  100.000  100.000  100.000  100.000  100.000  \n",
       "999   14.019    3.233   73.357   35.516   42.516  \n",
       "\n",
       "[1000 rows x 303 columns]"
      ]
     },
     "execution_count": null,
     "metadata": {},
     "output_type": "execute_result"
    }
   ],
   "source": [
    "pct = get_pct_df(score_df,pct_ref)\n",
    "pct # the lower the better"
   ]
  }
 ],
 "metadata": {
  "kernelspec": {
   "display_name": "python3",
   "language": "python",
   "name": "python3"
  }
 },
 "nbformat": 4,
 "nbformat_minor": 5
}
