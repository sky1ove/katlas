{
 "cells": [
  {
   "cell_type": "raw",
   "metadata": {},
   "source": [
    "---\n",
    "skip_showdoc: true\n",
    "skip_exec: true\n",
    "---"
   ]
  },
  {
   "cell_type": "markdown",
   "metadata": {},
   "source": [
    "# Prepare dataset (Protein+aa)\n",
    "> In this module, we develop trainers of different models"
   ]
  },
  {
   "cell_type": "code",
   "execution_count": null,
   "metadata": {},
   "outputs": [],
   "source": [
    "#| hide\n",
    "import sys\n",
    "sys.path.append(\"/notebooks/katlas\")\n",
    "from nbdev.showdoc import *\n",
    "%matplotlib inline\n",
    "%matplotlib inline\n",
    "%load_ext autoreload\n",
    "%autoreload 2"
   ]
  },
  {
   "cell_type": "code",
   "execution_count": null,
   "metadata": {},
   "outputs": [
    {
     "name": "stderr",
     "output_type": "stream",
     "text": [
      "/usr/local/lib/python3.9/dist-packages/umap/distances.py:1063: NumbaDeprecationWarning: \u001b[1mThe 'nopython' keyword argument was not supplied to the 'numba.jit' decorator. The implicit default value for this argument is currently False, but it will be changed to True in Numba 0.59.0. See https://numba.readthedocs.io/en/stable/reference/deprecation.html#deprecation-of-object-mode-fall-back-behaviour-when-using-jit for details.\u001b[0m\n",
      "  @numba.jit()\n",
      "/usr/local/lib/python3.9/dist-packages/umap/distances.py:1071: NumbaDeprecationWarning: \u001b[1mThe 'nopython' keyword argument was not supplied to the 'numba.jit' decorator. The implicit default value for this argument is currently False, but it will be changed to True in Numba 0.59.0. See https://numba.readthedocs.io/en/stable/reference/deprecation.html#deprecation-of-object-mode-fall-back-behaviour-when-using-jit for details.\u001b[0m\n",
      "  @numba.jit()\n",
      "/usr/local/lib/python3.9/dist-packages/umap/distances.py:1086: NumbaDeprecationWarning: \u001b[1mThe 'nopython' keyword argument was not supplied to the 'numba.jit' decorator. The implicit default value for this argument is currently False, but it will be changed to True in Numba 0.59.0. See https://numba.readthedocs.io/en/stable/reference/deprecation.html#deprecation-of-object-mode-fall-back-behaviour-when-using-jit for details.\u001b[0m\n",
      "  @numba.jit()\n",
      "/usr/local/lib/python3.9/dist-packages/umap/umap_.py:660: NumbaDeprecationWarning: \u001b[1mThe 'nopython' keyword argument was not supplied to the 'numba.jit' decorator. The implicit default value for this argument is currently False, but it will be changed to True in Numba 0.59.0. See https://numba.readthedocs.io/en/stable/reference/deprecation.html#deprecation-of-object-mode-fall-back-behaviour-when-using-jit for details.\u001b[0m\n",
      "  @numba.jit()\n"
     ]
    }
   ],
   "source": [
    "from fastbook import *\n",
    "from katlas.core import Data\n",
    "from katlas.feature import *\n",
    "from katlas.train import *\n",
    "from katlas.plot import *\n",
    "\n",
    "from sklearn.neighbors import KNeighborsRegressor\n",
    "from sklearn.linear_model import *\n",
    "from sklearn.svm import *\n",
    "from sklearn.ensemble import *\n",
    "from sklearn.model_selection import train_test_split, StratifiedGroupKFold\n",
    "from sklearn.metrics import mean_squared_error\n",
    "from scipy.stats import spearmanr,pearsonr\n",
    "\n",
    "import xgboost as xgb\n",
    "import joblib\n",
    "\n",
    "# import matplotlib.pyplot as plt\n",
    "\n",
    "from pathlib import Path\n",
    "import math"
   ]
  },
  {
   "cell_type": "code",
   "execution_count": null,
   "metadata": {},
   "outputs": [],
   "source": [
    "def get_pca_df(df, # feature dataframe with kinase ID as first column\n",
    "               startswith, # string to start with of features\n",
    "               n_components):\n",
    "    pca = reduce_dim(df,n_components=n_components) \n",
    "    pca.columns = [startswith + '_' + col if i > 0 else col for i, col in enumerate(pca.columns)]\n",
    "    return pca"
   ]
  },
  {
   "cell_type": "code",
   "execution_count": null,
   "metadata": {},
   "outputs": [],
   "source": [
    "def combine(target, kinase, aa):\n",
    "    df = target.merge(kinase).merge(aa).reset_index(drop=True)\n",
    "    return df"
   ]
  },
  {
   "cell_type": "markdown",
   "metadata": {},
   "source": [
    "## Target"
   ]
  },
  {
   "cell_type": "markdown",
   "metadata": {},
   "source": [
    "### Scaled"
   ]
  },
  {
   "cell_type": "code",
   "execution_count": null,
   "metadata": {},
   "outputs": [],
   "source": [
    "scaled = Data.get_unstack_q85_up40()"
   ]
  },
  {
   "cell_type": "markdown",
   "metadata": {},
   "source": [
    "### Standardized"
   ]
  },
  {
   "cell_type": "code",
   "execution_count": null,
   "metadata": {},
   "outputs": [],
   "source": [
    "standard = Data.get_unstack_standard()"
   ]
  },
  {
   "cell_type": "markdown",
   "metadata": {},
   "source": [
    "## Kinase"
   ]
  },
  {
   "cell_type": "markdown",
   "metadata": {},
   "source": [
    "### ESM2"
   ]
  },
  {
   "cell_type": "code",
   "execution_count": null,
   "metadata": {},
   "outputs": [],
   "source": [
    "esm = Data.get_esm_full()"
   ]
  },
  {
   "cell_type": "markdown",
   "metadata": {},
   "source": [
    "ESM2 - PCA64"
   ]
  },
  {
   "cell_type": "code",
   "execution_count": null,
   "metadata": {},
   "outputs": [],
   "source": [
    "esm_pca = get_pca_df(esm, 'esm', 64)"
   ]
  },
  {
   "cell_type": "markdown",
   "metadata": {},
   "source": [
    "### T5"
   ]
  },
  {
   "cell_type": "code",
   "execution_count": null,
   "metadata": {},
   "outputs": [],
   "source": [
    "t5 = Data.get_t5_full()"
   ]
  },
  {
   "cell_type": "markdown",
   "metadata": {},
   "source": [
    "T5 - PCA64"
   ]
  },
  {
   "cell_type": "code",
   "execution_count": null,
   "metadata": {},
   "outputs": [],
   "source": [
    "t5_pca = get_pca_df(t5, 't5', 64)"
   ]
  },
  {
   "cell_type": "markdown",
   "metadata": {},
   "source": [
    "## Amino Acid"
   ]
  },
  {
   "cell_type": "code",
   "execution_count": null,
   "metadata": {},
   "outputs": [],
   "source": [
    "aa = Data.get_aa_feature()"
   ]
  },
  {
   "cell_type": "markdown",
   "metadata": {},
   "source": [
    "aa - pca16"
   ]
  },
  {
   "cell_type": "code",
   "execution_count": null,
   "metadata": {},
   "outputs": [],
   "source": [
    "aa_pca = get_pca_df(aa, 'aa', 16)"
   ]
  },
  {
   "cell_type": "markdown",
   "metadata": {},
   "source": [
    "One-hot encoded"
   ]
  },
  {
   "cell_type": "code",
   "execution_count": null,
   "metadata": {},
   "outputs": [],
   "source": [
    "aa_onehot = pd.get_dummies(aa.aa).set_index(aa.aa).reset_index()"
   ]
  },
  {
   "cell_type": "markdown",
   "metadata": {},
   "source": [
    "## Combine"
   ]
  },
  {
   "cell_type": "code",
   "execution_count": null,
   "metadata": {},
   "outputs": [],
   "source": [
    "target = {'scaled': scaled, 'standard':standard}"
   ]
  },
  {
   "cell_type": "code",
   "execution_count": null,
   "metadata": {},
   "outputs": [],
   "source": [
    "kinase = {'esm':esm,'t5':t5}\n",
    "\n",
    "kinase_pca = {'esmPCA':esm_pca, 't5PCA': t5_pca}\n",
    "\n",
    "kinase_all = {'esm':esm,'t5':t5, 'esmPCA':esm_pca, 't5PCA': t5_pca}"
   ]
  },
  {
   "cell_type": "markdown",
   "metadata": {},
   "source": [
    "### Full features"
   ]
  },
  {
   "cell_type": "code",
   "execution_count": null,
   "metadata": {},
   "outputs": [],
   "source": [
    "df_full = {}\n",
    "for i, t in target.items():\n",
    "    for j, k in kinase.items():\n",
    "        df = combine(t,k,aa)\n",
    "        df_full[i+'_'+j + '_aa'] = df"
   ]
  },
  {
   "cell_type": "code",
   "execution_count": null,
   "metadata": {},
   "outputs": [
    {
     "data": {
      "text/plain": [
       "dict_keys(['scaled_esm_aa', 'scaled_t5_aa', 'standard_esm_aa', 'standard_t5_aa'])"
      ]
     },
     "execution_count": null,
     "metadata": {},
     "output_type": "execute_result"
    }
   ],
   "source": [
    "df_full.keys()"
   ]
  },
  {
   "cell_type": "code",
   "execution_count": null,
   "metadata": {},
   "outputs": [],
   "source": [
    "for key, df in df_full.items():\n",
    "    df.to_parquet(f'train/{key}.parquet') # parquet takes smallest storage and read fast"
   ]
  },
  {
   "cell_type": "markdown",
   "metadata": {},
   "source": [
    "### PCA features"
   ]
  },
  {
   "cell_type": "code",
   "execution_count": null,
   "metadata": {},
   "outputs": [],
   "source": [
    "df_pca = {}\n",
    "for i, t in target.items():\n",
    "    for j, k in kinase_pca.items():\n",
    "        df = combine(t,k,aa_pca)\n",
    "        df_pca[i+'_'+j + '_aaPCA'] = df"
   ]
  },
  {
   "cell_type": "code",
   "execution_count": null,
   "metadata": {},
   "outputs": [
    {
     "data": {
      "text/plain": [
       "dict_keys(['scaled_esmPCA_aaPCA', 'scaled_t5PCA_aaPCA', 'standard_esmPCA_aaPCA', 'standard_t5PCA_aaPCA'])"
      ]
     },
     "execution_count": null,
     "metadata": {},
     "output_type": "execute_result"
    }
   ],
   "source": [
    "df_pca.keys()"
   ]
  },
  {
   "cell_type": "code",
   "execution_count": null,
   "metadata": {},
   "outputs": [],
   "source": [
    "for key, df in df_pca.items():\n",
    "    df.to_parquet(f'train/{key}.parquet') # parquet takes smallest storage and read fast"
   ]
  },
  {
   "cell_type": "markdown",
   "metadata": {},
   "source": [
    "### With aa encoded as one-hot"
   ]
  },
  {
   "cell_type": "code",
   "execution_count": null,
   "metadata": {},
   "outputs": [],
   "source": [
    "df_aa_onehot = {}\n",
    "for i, t in target.items():\n",
    "    for j, k in kinase_all.items():\n",
    "        df = combine(t,k,aa_onehot)\n",
    "        df_aa_onehot[i+'_'+j + '_aa1hot'] = df"
   ]
  },
  {
   "cell_type": "code",
   "execution_count": null,
   "metadata": {},
   "outputs": [
    {
     "data": {
      "text/plain": [
       "dict_keys(['scaled_esm_aa1hot', 'scaled_t5_aa1hot', 'scaled_esmPCA_aa1hot', 'scaled_t5PCA_aa1hot', 'standard_esm_aa1hot', 'standard_t5_aa1hot', 'standard_esmPCA_aa1hot', 'standard_t5PCA_aa1hot'])"
      ]
     },
     "execution_count": null,
     "metadata": {},
     "output_type": "execute_result"
    }
   ],
   "source": [
    "df_aa_onehot.keys()"
   ]
  },
  {
   "cell_type": "code",
   "execution_count": null,
   "metadata": {},
   "outputs": [],
   "source": [
    "for key, df in df_aa_onehot.items():\n",
    "    df.to_parquet(f'train/{key}.parquet')"
   ]
  },
  {
   "cell_type": "markdown",
   "metadata": {},
   "source": [
    "## Train"
   ]
  },
  {
   "cell_type": "code",
   "execution_count": null,
   "metadata": {},
   "outputs": [],
   "source": [
    "df1 = pd.read_parquet('train/scaled_t5PCA_aaPCA.parquet')"
   ]
  },
  {
   "cell_type": "code",
   "execution_count": null,
   "metadata": {},
   "outputs": [],
   "source": [
    "df2 = pd.read_parquet('train/scaled_esmPCA_aaPCA.parquet')"
   ]
  },
  {
   "cell_type": "code",
   "execution_count": null,
   "metadata": {},
   "outputs": [],
   "source": [
    "df1_1hot = pd.read_parquet('aa1hot/scaled_t5PCA_aa1hot.parquet')"
   ]
  },
  {
   "cell_type": "code",
   "execution_count": null,
   "metadata": {},
   "outputs": [],
   "source": [
    "df2_1hot = pd.read_parquet('aa1hot/scaled_esmPCA_aa1hot.parquet')"
   ]
  },
  {
   "cell_type": "code",
   "execution_count": null,
   "metadata": {},
   "outputs": [],
   "source": [
    "dfs = {'t5':df1, 't5_1hot':df1_1hot, 'esm':df2, 'esm_1hot':df2_1hot}"
   ]
  },
  {
   "cell_type": "markdown",
   "metadata": {},
   "source": [
    "make a splits"
   ]
  },
  {
   "cell_type": "code",
   "execution_count": null,
   "metadata": {},
   "outputs": [
    {
     "name": "stdout",
     "output_type": "stream",
     "text": [
      "# kinase in test set: 61\n",
      "# kinase in train set: 242\n",
      "test set: ['AAK1' 'AKT3' 'ANKRD3' 'AURA' 'BMPR1A' 'BRSK2' 'CAMK1G' 'CAMKK1' 'CDK1' 'CDK4' 'CDK8' 'CDK16' 'CHAK1' 'CK1G1' 'CK2A1' 'CLK4' 'DCAMKL1' 'DNAPK' 'DYRK1B' 'ERK2' 'GCK' 'GSK3A' 'HGK' 'HPK1' 'HUNK'\n",
      " 'IRAK4' 'KHS1' 'LRRK2' 'MAPKAPK2' 'MARK3' 'MEKK1' 'MEKK6' 'MLK4' 'MOS' 'MSK1' 'MYLK4' 'MYO3A' 'NEK7' 'NEK9' 'NUAK2' 'P70S6K' 'P90RSK' 'PASK' 'PHKG1' 'PINK1' 'PKACB' 'PKCH' 'PKCZ' 'PLK2' 'PLK3' 'QSK'\n",
      " 'ROCK1' 'RSK3' 'SLK' 'SNRK' 'STLK3' 'TGFBR1' 'TLK2' 'TTK' 'WNK3' 'YSK1']\n",
      "# kinase in test set: 61\n",
      "# kinase in train set: 242\n",
      "test set: ['ACVR2A' 'ALK2' 'AMPKA2' 'AURB' 'BMPR1B' 'BUB1' 'CAMK2A' 'CAMK2G' 'CDK2' 'CDK9' 'CDK10' 'CDK17' 'CHAK2' 'CHK2' 'CK1D' 'COT' 'DLK' 'DSTYK' 'DYRK2' 'ERK7' 'GRK1' 'GRK3' 'GRK7' 'HIPK4' 'IKKA' 'IRE1'\n",
      " 'KHS2' 'LATS2' 'LKB1' 'MARK2' 'MEK2' 'MELK' 'MNK1' 'MSK2' 'MST1' 'MTOR' 'NEK3' 'NEK11' 'NIK' 'P38B' 'PAK3' 'PAK5' 'PDHK1' 'PDHK4' 'PIM3' 'PKCB' 'PKG1' 'PKR' 'PRKD1' 'PRKD2' 'PRP4' 'RIPK3' 'RSK4'\n",
      " 'SKMLCK' 'SSTK' 'TAK1' 'TGFBR2' 'TSSK1' 'ULK2' 'WNK1' 'YSK4']\n",
      "# kinase in test set: 61\n",
      "# kinase in train set: 242\n",
      "test set: ['ACVR2B' 'ALK4' 'ASK1' 'BCKDK' 'BMPR2' 'CAMK1B' 'CAMK2B' 'CAMKK2' 'CDK5' 'CDK12' 'CDK18' 'CDKL1' 'CK1A2' 'CK2A2' 'CLK1' 'DAPK2' 'DAPK3' 'DRAK1' 'DYRK3' 'ERK5' 'GCN2' 'GSK3B' 'HASPIN' 'HRI' 'IKKB'\n",
      " 'JNK1' 'JNK3' 'MAK' 'MAPKAPK5' 'MARK4' 'MEKK2' 'MLK3' 'MNK2' 'MPSK1' 'MST4' 'MYO3B' 'NDR1' 'NEK4' 'NIM1' 'P38D' 'P70S6KB' 'PAK6' 'PBK' 'PIM1' 'PKCD' 'PKCG' 'PKCI' 'PKN1' 'PLK4' 'PRKX' 'RAF1' 'ROCK2'\n",
      " 'SIK' 'SMG1' 'SRPK3' 'TAO1' 'TBK1' 'TSSK2' 'ULK1' 'YANK3' 'ZAK']\n",
      "# kinase in test set: 60\n",
      "# kinase in train set: 243\n",
      "test set: ['AKT1' 'ALPHAK3' 'ATM' 'AURC' 'BRAF' 'CAMK1A' 'CAMK2D' 'CAMLCK' 'CDK6' 'CDK14' 'CDK19' 'CDKL5' 'CK1A' 'CK1G2' 'CLK2' 'CRIK' 'DMPK1' 'DYRK4' 'EEF2K' 'FAM20C' 'GRK2' 'GRK4' 'HIPK1' 'HIPK2' 'IKKE'\n",
      " 'JNK2' 'KIS' 'LOK' 'MAPKAPK3' 'MEK1' 'MEKK3' 'MLK1' 'MLK2' 'MRCKA' 'MST3' 'NDR2' 'NEK2' 'NEK8' 'NLK' 'NUAK1' 'P38G' 'PAK4' 'PDK1' 'PIM2' 'PKACA' 'PKACG' 'PKG2' 'PKN3' 'PLK1' 'QIK' 'RIPK1' 'RSK2'\n",
      " 'SBK' 'SMMLCK' 'SRPK1' 'TAO2' 'TLK1' 'TTBK1' 'VRK1' 'WNK4']\n",
      "# kinase in test set: 60\n",
      "# kinase in train set: 243\n",
      "test set: ['AKT2' 'AMPKA1' 'ATR' 'BIKE' 'BRSK1' 'CAMK1D' 'CAMK4' 'CDC7' 'CDK3' 'CDK7' 'CDK13' 'CHK1' 'CK1E' 'CK1G3' 'CLK3' 'DAPK1' 'DCAMKL2' 'DYRK1A' 'ERK1' 'GAK' 'GRK5' 'GRK6' 'HIPK3' 'ICK' 'IRAK1' 'IRE2'\n",
      " 'LATS1' 'MAP3K15' 'MARK1' 'MASTL' 'MEK5' 'MINK' 'MOK' 'MRCKB' 'MST2' 'NEK1' 'NEK5' 'NEK6' 'OSR1' 'P38A' 'PAK1' 'PAK2' 'PERK' 'PHKG2' 'PKCA' 'PKCE' 'PKCT' 'PKN2' 'PRKD3' 'PRPK' 'RIPK2' 'SGK1' 'SGK3'\n",
      " 'SRPK2' 'STK33' 'TAO3' 'TNIK' 'TTBK2' 'VRK2' 'YANK2']\n"
     ]
    }
   ],
   "source": [
    "sgkf = StratifiedGroupKFold(n_splits=5, shuffle=True, random_state=123)\n",
    "for fold, (train_idx, test_idx) in enumerate(sgkf.split(info.index.values, info.category,info.kinase)):\n",
    "    print(f'# kinase in test set: {info.loc[test_idx].kinase.unique().shape[0]}')\n",
    "    print(f'# kinase in train set: {info.loc[train_idx].kinase.unique().shape[0]}')\n",
    "    print(f'test set: {info.loc[test_idx].kinase.unique()}')"
   ]
  },
  {
   "cell_type": "code",
   "execution_count": null,
   "metadata": {},
   "outputs": [],
   "source": [
    "def train_df(df, model):\n",
    "    \n",
    "    feat_col = ['position'] + df.columns.tolist()[5:]\n",
    "    target_col = ['target']\n",
    "\n",
    "    # prepare the dataframe for split\n",
    "    kinase = Data.get_kinase_info_full()\n",
    "\n",
    "    info = df[['kinase']].merge(kinase,'left')\n",
    "    print((info.kinase == df.kinase).value_counts())\n",
    "    \n",
    "    sgkf = StratifiedGroupKFold(n_splits=5, shuffle=True, random_state=123)\n",
    "    for fold, (train_idx, test_idx) in enumerate(sgkf.split(info.index.values, info.category,info.kinase)):\n",
    "        print(f'# kinase in test set: {info.loc[test_idx].kinase.unique().shape[0]}')\n",
    "        print(f'# kinase in train set: {info.loc[train_idx].kinase.unique().shape[0]}')\n",
    "        print(f'test set: {info.loc[test_idx].kinase.unique()}')\n",
    "        break\n",
    "    \n",
    "    X_train = df.loc[train_idx][feat_col]\n",
    "    X_test = df.loc[test_idx][feat_col]\n",
    "    y_train = df.loc[train_idx][target_col]\n",
    "    y_test = df.loc[test_idx][target_col]\n",
    "    \n",
    "    pred = train_ML(model,X_train, X_test, y_train, y_test)"
   ]
  },
  {
   "cell_type": "code",
   "execution_count": null,
   "metadata": {},
   "outputs": [],
   "source": [
    "from sklearn.neighbors import KNeighborsRegressor\n",
    "from sklearn.linear_model import LinearRegression, Ridge, Lasso, ElasticNet\n",
    "from sklearn.tree import DecisionTreeRegressor\n",
    "from xgboost import XGBRegressor"
   ]
  },
  {
   "cell_type": "code",
   "execution_count": null,
   "metadata": {},
   "outputs": [],
   "source": [
    "models = {\n",
    "    'KNN': KNeighborsRegressor(n_neighbors=2),\n",
    "    'LinearRegression': LinearRegression(),\n",
    "    'Ridge': Ridge(alpha=1.0),\n",
    "    'Lasso': Lasso(0.1),\n",
    "    'ElasticNet': ElasticNet(0.1),\n",
    "    'DecisionTreeRegressor': DecisionTreeRegressor(),\n",
    "    'XGBRegressor': XGBRegressor(max_depth=10),\n",
    "    # 'RandomForestRegressor': RandomForestRegressor()\n",
    "}"
   ]
  },
  {
   "cell_type": "code",
   "execution_count": null,
   "metadata": {},
   "outputs": [
    {
     "name": "stdout",
     "output_type": "stream",
     "text": [
      "-----------------------model:KNN, data:t5----------------------\n",
      "True    59994\n",
      "Name: kinase, dtype: int64\n",
      "# kinase in test set: 61\n",
      "# kinase in train set: 242\n",
      "test set: ['AAK1' 'AKT3' 'ANKRD3' 'AURA' 'BMPR1A' 'BRSK2' 'CAMK1G' 'CAMKK1' 'CDK1' 'CDK4' 'CDK8' 'CDK16' 'CHAK1' 'CK1G1' 'CK2A1' 'CLK4' 'DCAMKL1' 'DNAPK' 'DYRK1B' 'ERK2' 'GCK' 'GSK3A' 'HGK' 'HPK1' 'HUNK'\n",
      " 'IRAK4' 'KHS1' 'LRRK2' 'MAPKAPK2' 'MARK3' 'MEKK1' 'MEKK6' 'MLK4' 'MOS' 'MSK1' 'MYLK4' 'MYO3A' 'NEK7' 'NEK9' 'NUAK2' 'P70S6K' 'P90RSK' 'PASK' 'PHKG1' 'PINK1' 'PKACB' 'PKCH' 'PKCZ' 'PLK2' 'PLK3' 'QSK'\n",
      " 'ROCK1' 'RSK3' 'SLK' 'SNRK' 'STLK3' 'TGFBR1' 'TLK2' 'TTK' 'WNK3' 'YSK1']\n",
      "KNeighborsRegressor(n_neighbors=2)\n",
      "rmse is 0.7049\n",
      "Spearman correlation coefficient: 0.6543\n",
      "Pearson correlation coefficient: 0.7595 \n",
      "-----------------------model:KNN, data:t5_1hot----------------------\n",
      "True    59994\n",
      "Name: kinase, dtype: int64\n",
      "# kinase in test set: 61\n",
      "# kinase in train set: 242\n",
      "test set: ['AAK1' 'AKT3' 'ANKRD3' 'AURA' 'BMPR1A' 'BRSK2' 'CAMK1G' 'CAMKK1' 'CDK1' 'CDK4' 'CDK8' 'CDK16' 'CHAK1' 'CK1G1' 'CK2A1' 'CLK4' 'DCAMKL1' 'DNAPK' 'DYRK1B' 'ERK2' 'GCK' 'GSK3A' 'HGK' 'HPK1' 'HUNK'\n",
      " 'IRAK4' 'KHS1' 'LRRK2' 'MAPKAPK2' 'MARK3' 'MEKK1' 'MEKK6' 'MLK4' 'MOS' 'MSK1' 'MYLK4' 'MYO3A' 'NEK7' 'NEK9' 'NUAK2' 'P70S6K' 'P90RSK' 'PASK' 'PHKG1' 'PINK1' 'PKACB' 'PKCH' 'PKCZ' 'PLK2' 'PLK3' 'QSK'\n",
      " 'ROCK1' 'RSK3' 'SLK' 'SNRK' 'STLK3' 'TGFBR1' 'TLK2' 'TTK' 'WNK3' 'YSK1']\n",
      "KNeighborsRegressor(n_neighbors=2)\n",
      "rmse is 0.7049\n",
      "Spearman correlation coefficient: 0.6543\n",
      "Pearson correlation coefficient: 0.7595 \n",
      "-----------------------model:KNN, data:esm----------------------\n",
      "True    59004\n",
      "Name: kinase, dtype: int64\n",
      "# kinase in test set: 61\n",
      "# kinase in train set: 237\n",
      "test set: ['ACVR2B' 'AKT1' 'ALPHAK3' 'AMPKA1' 'AURA' 'BMPR1B' 'CAMK1B' 'CAMKK2' 'CAMLCK' 'CDK4' 'CDK6' 'CDK8' 'CDK13' 'CHK1' 'CK1D' 'CK1G2' 'DMPK1' 'DSTYK' 'DYRK1A' 'ERK5' 'GRK2' 'GRK4' 'GRK7' 'HIPK1' 'ICK'\n",
      " 'IRAK1' 'KHS1' 'LOK' 'MAPKAPK5' 'MARK2' 'MARK4' 'MEKK2' 'MLK3' 'MNK1' 'MSK2' 'NDR1' 'NDR2' 'NEK2' 'NEK9' 'P70S6K' 'PAK2' 'PAK3' 'PBK' 'PKCA' 'PKCE' 'PKCZ' 'PKG1' 'PLK2' 'PLK3' 'RIPK2' 'RIPK3' 'RSK4'\n",
      " 'SBK' 'SIK' 'SKMLCK' 'SRPK3' 'SSTK' 'TNIK' 'VRK2' 'YANK2' 'ZAK']\n",
      "KNeighborsRegressor(n_neighbors=2)\n",
      "rmse is 0.8446\n",
      "Spearman correlation coefficient: 0.5652\n",
      "Pearson correlation coefficient: 0.6899 \n",
      "-----------------------model:KNN, data:esm_1hot----------------------\n",
      "True    59004\n",
      "Name: kinase, dtype: int64\n",
      "# kinase in test set: 61\n",
      "# kinase in train set: 237\n",
      "test set: ['ACVR2B' 'AKT1' 'ALPHAK3' 'AMPKA1' 'AURA' 'BMPR1B' 'CAMK1B' 'CAMKK2' 'CAMLCK' 'CDK4' 'CDK6' 'CDK8' 'CDK13' 'CHK1' 'CK1D' 'CK1G2' 'DMPK1' 'DSTYK' 'DYRK1A' 'ERK5' 'GRK2' 'GRK4' 'GRK7' 'HIPK1' 'ICK'\n",
      " 'IRAK1' 'KHS1' 'LOK' 'MAPKAPK5' 'MARK2' 'MARK4' 'MEKK2' 'MLK3' 'MNK1' 'MSK2' 'NDR1' 'NDR2' 'NEK2' 'NEK9' 'P70S6K' 'PAK2' 'PAK3' 'PBK' 'PKCA' 'PKCE' 'PKCZ' 'PKG1' 'PLK2' 'PLK3' 'RIPK2' 'RIPK3' 'RSK4'\n",
      " 'SBK' 'SIK' 'SKMLCK' 'SRPK3' 'SSTK' 'TNIK' 'VRK2' 'YANK2' 'ZAK']\n",
      "KNeighborsRegressor(n_neighbors=2)\n",
      "rmse is 0.8464\n",
      "Spearman correlation coefficient: 0.5646\n",
      "Pearson correlation coefficient: 0.6888 \n",
      "-----------------------model:LinearRegression, data:t5----------------------\n",
      "True    59994\n",
      "Name: kinase, dtype: int64\n",
      "# kinase in test set: 61\n",
      "# kinase in train set: 242\n",
      "test set: ['AAK1' 'AKT3' 'ANKRD3' 'AURA' 'BMPR1A' 'BRSK2' 'CAMK1G' 'CAMKK1' 'CDK1' 'CDK4' 'CDK8' 'CDK16' 'CHAK1' 'CK1G1' 'CK2A1' 'CLK4' 'DCAMKL1' 'DNAPK' 'DYRK1B' 'ERK2' 'GCK' 'GSK3A' 'HGK' 'HPK1' 'HUNK'\n",
      " 'IRAK4' 'KHS1' 'LRRK2' 'MAPKAPK2' 'MARK3' 'MEKK1' 'MEKK6' 'MLK4' 'MOS' 'MSK1' 'MYLK4' 'MYO3A' 'NEK7' 'NEK9' 'NUAK2' 'P70S6K' 'P90RSK' 'PASK' 'PHKG1' 'PINK1' 'PKACB' 'PKCH' 'PKCZ' 'PLK2' 'PLK3' 'QSK'\n",
      " 'ROCK1' 'RSK3' 'SLK' 'SNRK' 'STLK3' 'TGFBR1' 'TLK2' 'TTK' 'WNK3' 'YSK1']\n",
      "LinearRegression()\n",
      "rmse is 1.0120\n",
      "Spearman correlation coefficient: 0.3245\n",
      "Pearson correlation coefficient: 0.2612 \n",
      "-----------------------model:LinearRegression, data:t5_1hot----------------------\n",
      "True    59994\n",
      "Name: kinase, dtype: int64\n",
      "# kinase in test set: 61\n",
      "# kinase in train set: 242\n",
      "test set: ['AAK1' 'AKT3' 'ANKRD3' 'AURA' 'BMPR1A' 'BRSK2' 'CAMK1G' 'CAMKK1' 'CDK1' 'CDK4' 'CDK8' 'CDK16' 'CHAK1' 'CK1G1' 'CK2A1' 'CLK4' 'DCAMKL1' 'DNAPK' 'DYRK1B' 'ERK2' 'GCK' 'GSK3A' 'HGK' 'HPK1' 'HUNK'\n",
      " 'IRAK4' 'KHS1' 'LRRK2' 'MAPKAPK2' 'MARK3' 'MEKK1' 'MEKK6' 'MLK4' 'MOS' 'MSK1' 'MYLK4' 'MYO3A' 'NEK7' 'NEK9' 'NUAK2' 'P70S6K' 'P90RSK' 'PASK' 'PHKG1' 'PINK1' 'PKACB' 'PKCH' 'PKCZ' 'PLK2' 'PLK3' 'QSK'\n",
      " 'ROCK1' 'RSK3' 'SLK' 'SNRK' 'STLK3' 'TGFBR1' 'TLK2' 'TTK' 'WNK3' 'YSK1']\n",
      "LinearRegression()\n",
      "rmse is 1.0120\n",
      "Spearman correlation coefficient: 0.3259\n",
      "Pearson correlation coefficient: 0.2616 \n",
      "-----------------------model:LinearRegression, data:esm----------------------\n",
      "True    59004\n",
      "Name: kinase, dtype: int64\n",
      "# kinase in test set: 61\n",
      "# kinase in train set: 237\n",
      "test set: ['ACVR2B' 'AKT1' 'ALPHAK3' 'AMPKA1' 'AURA' 'BMPR1B' 'CAMK1B' 'CAMKK2' 'CAMLCK' 'CDK4' 'CDK6' 'CDK8' 'CDK13' 'CHK1' 'CK1D' 'CK1G2' 'DMPK1' 'DSTYK' 'DYRK1A' 'ERK5' 'GRK2' 'GRK4' 'GRK7' 'HIPK1' 'ICK'\n",
      " 'IRAK1' 'KHS1' 'LOK' 'MAPKAPK5' 'MARK2' 'MARK4' 'MEKK2' 'MLK3' 'MNK1' 'MSK2' 'NDR1' 'NDR2' 'NEK2' 'NEK9' 'P70S6K' 'PAK2' 'PAK3' 'PBK' 'PKCA' 'PKCE' 'PKCZ' 'PKG1' 'PLK2' 'PLK3' 'RIPK2' 'RIPK3' 'RSK4'\n",
      " 'SBK' 'SIK' 'SKMLCK' 'SRPK3' 'SSTK' 'TNIK' 'VRK2' 'YANK2' 'ZAK']\n",
      "LinearRegression()\n",
      "rmse is 1.0768\n",
      "Spearman correlation coefficient: 0.2893\n",
      "Pearson correlation coefficient: 0.2345 \n",
      "-----------------------model:LinearRegression, data:esm_1hot----------------------\n",
      "True    59004\n",
      "Name: kinase, dtype: int64\n",
      "# kinase in test set: 61\n",
      "# kinase in train set: 237\n",
      "test set: ['ACVR2B' 'AKT1' 'ALPHAK3' 'AMPKA1' 'AURA' 'BMPR1B' 'CAMK1B' 'CAMKK2' 'CAMLCK' 'CDK4' 'CDK6' 'CDK8' 'CDK13' 'CHK1' 'CK1D' 'CK1G2' 'DMPK1' 'DSTYK' 'DYRK1A' 'ERK5' 'GRK2' 'GRK4' 'GRK7' 'HIPK1' 'ICK'\n",
      " 'IRAK1' 'KHS1' 'LOK' 'MAPKAPK5' 'MARK2' 'MARK4' 'MEKK2' 'MLK3' 'MNK1' 'MSK2' 'NDR1' 'NDR2' 'NEK2' 'NEK9' 'P70S6K' 'PAK2' 'PAK3' 'PBK' 'PKCA' 'PKCE' 'PKCZ' 'PKG1' 'PLK2' 'PLK3' 'RIPK2' 'RIPK3' 'RSK4'\n",
      " 'SBK' 'SIK' 'SKMLCK' 'SRPK3' 'SSTK' 'TNIK' 'VRK2' 'YANK2' 'ZAK']\n",
      "LinearRegression()\n",
      "rmse is 1.0766\n",
      "Spearman correlation coefficient: 0.2895\n",
      "Pearson correlation coefficient: 0.2350 \n",
      "-----------------------model:Ridge, data:t5----------------------\n",
      "True    59994\n",
      "Name: kinase, dtype: int64\n",
      "# kinase in test set: 61\n",
      "# kinase in train set: 242\n",
      "test set: ['AAK1' 'AKT3' 'ANKRD3' 'AURA' 'BMPR1A' 'BRSK2' 'CAMK1G' 'CAMKK1' 'CDK1' 'CDK4' 'CDK8' 'CDK16' 'CHAK1' 'CK1G1' 'CK2A1' 'CLK4' 'DCAMKL1' 'DNAPK' 'DYRK1B' 'ERK2' 'GCK' 'GSK3A' 'HGK' 'HPK1' 'HUNK'\n",
      " 'IRAK4' 'KHS1' 'LRRK2' 'MAPKAPK2' 'MARK3' 'MEKK1' 'MEKK6' 'MLK4' 'MOS' 'MSK1' 'MYLK4' 'MYO3A' 'NEK7' 'NEK9' 'NUAK2' 'P70S6K' 'P90RSK' 'PASK' 'PHKG1' 'PINK1' 'PKACB' 'PKCH' 'PKCZ' 'PLK2' 'PLK3' 'QSK'\n",
      " 'ROCK1' 'RSK3' 'SLK' 'SNRK' 'STLK3' 'TGFBR1' 'TLK2' 'TTK' 'WNK3' 'YSK1']\n",
      "Ridge()\n",
      "rmse is 1.0117\n",
      "Spearman correlation coefficient: 0.3256\n",
      "Pearson correlation coefficient: 0.2621 \n",
      "-----------------------model:Ridge, data:t5_1hot----------------------\n",
      "True    59994\n",
      "Name: kinase, dtype: int64\n",
      "# kinase in test set: 61\n",
      "# kinase in train set: 242\n",
      "test set: ['AAK1' 'AKT3' 'ANKRD3' 'AURA' 'BMPR1A' 'BRSK2' 'CAMK1G' 'CAMKK1' 'CDK1' 'CDK4' 'CDK8' 'CDK16' 'CHAK1' 'CK1G1' 'CK2A1' 'CLK4' 'DCAMKL1' 'DNAPK' 'DYRK1B' 'ERK2' 'GCK' 'GSK3A' 'HGK' 'HPK1' 'HUNK'\n",
      " 'IRAK4' 'KHS1' 'LRRK2' 'MAPKAPK2' 'MARK3' 'MEKK1' 'MEKK6' 'MLK4' 'MOS' 'MSK1' 'MYLK4' 'MYO3A' 'NEK7' 'NEK9' 'NUAK2' 'P70S6K' 'P90RSK' 'PASK' 'PHKG1' 'PINK1' 'PKACB' 'PKCH' 'PKCZ' 'PLK2' 'PLK3' 'QSK'\n",
      " 'ROCK1' 'RSK3' 'SLK' 'SNRK' 'STLK3' 'TGFBR1' 'TLK2' 'TTK' 'WNK3' 'YSK1']\n",
      "Ridge()\n",
      "rmse is 1.0117\n",
      "Spearman correlation coefficient: 0.3270\n",
      "Pearson correlation coefficient: 0.2624 \n",
      "-----------------------model:Ridge, data:esm----------------------\n",
      "True    59004\n",
      "Name: kinase, dtype: int64\n",
      "# kinase in test set: 61\n",
      "# kinase in train set: 237\n",
      "test set: ['ACVR2B' 'AKT1' 'ALPHAK3' 'AMPKA1' 'AURA' 'BMPR1B' 'CAMK1B' 'CAMKK2' 'CAMLCK' 'CDK4' 'CDK6' 'CDK8' 'CDK13' 'CHK1' 'CK1D' 'CK1G2' 'DMPK1' 'DSTYK' 'DYRK1A' 'ERK5' 'GRK2' 'GRK4' 'GRK7' 'HIPK1' 'ICK'\n",
      " 'IRAK1' 'KHS1' 'LOK' 'MAPKAPK5' 'MARK2' 'MARK4' 'MEKK2' 'MLK3' 'MNK1' 'MSK2' 'NDR1' 'NDR2' 'NEK2' 'NEK9' 'P70S6K' 'PAK2' 'PAK3' 'PBK' 'PKCA' 'PKCE' 'PKCZ' 'PKG1' 'PLK2' 'PLK3' 'RIPK2' 'RIPK3' 'RSK4'\n",
      " 'SBK' 'SIK' 'SKMLCK' 'SRPK3' 'SSTK' 'TNIK' 'VRK2' 'YANK2' 'ZAK']\n",
      "Ridge()\n",
      "rmse is 1.0768\n",
      "Spearman correlation coefficient: 0.2894\n",
      "Pearson correlation coefficient: 0.2345 \n",
      "-----------------------model:Ridge, data:esm_1hot----------------------\n",
      "True    59004\n",
      "Name: kinase, dtype: int64\n",
      "# kinase in test set: 61\n",
      "# kinase in train set: 237\n",
      "test set: ['ACVR2B' 'AKT1' 'ALPHAK3' 'AMPKA1' 'AURA' 'BMPR1B' 'CAMK1B' 'CAMKK2' 'CAMLCK' 'CDK4' 'CDK6' 'CDK8' 'CDK13' 'CHK1' 'CK1D' 'CK1G2' 'DMPK1' 'DSTYK' 'DYRK1A' 'ERK5' 'GRK2' 'GRK4' 'GRK7' 'HIPK1' 'ICK'\n",
      " 'IRAK1' 'KHS1' 'LOK' 'MAPKAPK5' 'MARK2' 'MARK4' 'MEKK2' 'MLK3' 'MNK1' 'MSK2' 'NDR1' 'NDR2' 'NEK2' 'NEK9' 'P70S6K' 'PAK2' 'PAK3' 'PBK' 'PKCA' 'PKCE' 'PKCZ' 'PKG1' 'PLK2' 'PLK3' 'RIPK2' 'RIPK3' 'RSK4'\n",
      " 'SBK' 'SIK' 'SKMLCK' 'SRPK3' 'SSTK' 'TNIK' 'VRK2' 'YANK2' 'ZAK']\n",
      "Ridge()\n",
      "rmse is 1.0767\n",
      "Spearman correlation coefficient: 0.2897\n",
      "Pearson correlation coefficient: 0.2350 \n",
      "-----------------------model:Lasso, data:t5----------------------\n",
      "True    59994\n",
      "Name: kinase, dtype: int64\n",
      "# kinase in test set: 61\n",
      "# kinase in train set: 242\n",
      "test set: ['AAK1' 'AKT3' 'ANKRD3' 'AURA' 'BMPR1A' 'BRSK2' 'CAMK1G' 'CAMKK1' 'CDK1' 'CDK4' 'CDK8' 'CDK16' 'CHAK1' 'CK1G1' 'CK2A1' 'CLK4' 'DCAMKL1' 'DNAPK' 'DYRK1B' 'ERK2' 'GCK' 'GSK3A' 'HGK' 'HPK1' 'HUNK'\n",
      " 'IRAK4' 'KHS1' 'LRRK2' 'MAPKAPK2' 'MARK3' 'MEKK1' 'MEKK6' 'MLK4' 'MOS' 'MSK1' 'MYLK4' 'MYO3A' 'NEK7' 'NEK9' 'NUAK2' 'P70S6K' 'P90RSK' 'PASK' 'PHKG1' 'PINK1' 'PKACB' 'PKCH' 'PKCZ' 'PLK2' 'PLK3' 'QSK'\n",
      " 'ROCK1' 'RSK3' 'SLK' 'SNRK' 'STLK3' 'TGFBR1' 'TLK2' 'TTK' 'WNK3' 'YSK1']\n",
      "Lasso(alpha=0.1)\n",
      "rmse is 1.0191\n",
      "Spearman correlation coefficient: 0.3299\n",
      "Pearson correlation coefficient: 0.2426 \n",
      "-----------------------model:Lasso, data:t5_1hot----------------------\n",
      "True    59994\n",
      "Name: kinase, dtype: int64\n",
      "# kinase in test set: 61\n",
      "# kinase in train set: 242\n",
      "test set: ['AAK1' 'AKT3' 'ANKRD3' 'AURA' 'BMPR1A' 'BRSK2' 'CAMK1G' 'CAMKK1' 'CDK1' 'CDK4' 'CDK8' 'CDK16' 'CHAK1' 'CK1G1' 'CK2A1' 'CLK4' 'DCAMKL1' 'DNAPK' 'DYRK1B' 'ERK2' 'GCK' 'GSK3A' 'HGK' 'HPK1' 'HUNK'\n",
      " 'IRAK4' 'KHS1' 'LRRK2' 'MAPKAPK2' 'MARK3' 'MEKK1' 'MEKK6' 'MLK4' 'MOS' 'MSK1' 'MYLK4' 'MYO3A' 'NEK7' 'NEK9' 'NUAK2' 'P70S6K' 'P90RSK' 'PASK' 'PHKG1' 'PINK1' 'PKACB' 'PKCH' 'PKCZ' 'PLK2' 'PLK3' 'QSK'\n",
      " 'ROCK1' 'RSK3' 'SLK' 'SNRK' 'STLK3' 'TGFBR1' 'TLK2' 'TTK' 'WNK3' 'YSK1']\n",
      "Lasso(alpha=0.1)\n",
      "rmse is 1.0480\n",
      "Spearman correlation coefficient: nan\n",
      "Pearson correlation coefficient: nan \n",
      "-----------------------model:Lasso, data:esm----------------------\n"
     ]
    },
    {
     "name": "stderr",
     "output_type": "stream",
     "text": [
      "/usr/local/lib/python3.9/dist-packages/scipy/stats/_stats_py.py:4529: SpearmanRConstantInputWarning: An input array is constant; the correlation coefficient is not defined.\n",
      "  warnings.warn(SpearmanRConstantInputWarning())\n",
      "/usr/local/lib/python3.9/dist-packages/scipy/stats/_stats_py.py:4068: PearsonRConstantInputWarning: An input array is constant; the correlation coefficient is not defined.\n",
      "  warnings.warn(PearsonRConstantInputWarning())\n"
     ]
    },
    {
     "name": "stdout",
     "output_type": "stream",
     "text": [
      "True    59004\n",
      "Name: kinase, dtype: int64\n",
      "# kinase in test set: 61\n",
      "# kinase in train set: 237\n",
      "test set: ['ACVR2B' 'AKT1' 'ALPHAK3' 'AMPKA1' 'AURA' 'BMPR1B' 'CAMK1B' 'CAMKK2' 'CAMLCK' 'CDK4' 'CDK6' 'CDK8' 'CDK13' 'CHK1' 'CK1D' 'CK1G2' 'DMPK1' 'DSTYK' 'DYRK1A' 'ERK5' 'GRK2' 'GRK4' 'GRK7' 'HIPK1' 'ICK'\n",
      " 'IRAK1' 'KHS1' 'LOK' 'MAPKAPK5' 'MARK2' 'MARK4' 'MEKK2' 'MLK3' 'MNK1' 'MSK2' 'NDR1' 'NDR2' 'NEK2' 'NEK9' 'P70S6K' 'PAK2' 'PAK3' 'PBK' 'PKCA' 'PKCE' 'PKCZ' 'PKG1' 'PLK2' 'PLK3' 'RIPK2' 'RIPK3' 'RSK4'\n",
      " 'SBK' 'SIK' 'SKMLCK' 'SRPK3' 'SSTK' 'TNIK' 'VRK2' 'YANK2' 'ZAK']\n",
      "Lasso(alpha=0.1)\n",
      "rmse is 1.0785\n",
      "Spearman correlation coefficient: 0.2997\n",
      "Pearson correlation coefficient: 0.2288 \n",
      "-----------------------model:Lasso, data:esm_1hot----------------------\n",
      "True    59004\n",
      "Name: kinase, dtype: int64\n",
      "# kinase in test set: 61\n",
      "# kinase in train set: 237\n",
      "test set: ['ACVR2B' 'AKT1' 'ALPHAK3' 'AMPKA1' 'AURA' 'BMPR1B' 'CAMK1B' 'CAMKK2' 'CAMLCK' 'CDK4' 'CDK6' 'CDK8' 'CDK13' 'CHK1' 'CK1D' 'CK1G2' 'DMPK1' 'DSTYK' 'DYRK1A' 'ERK5' 'GRK2' 'GRK4' 'GRK7' 'HIPK1' 'ICK'\n",
      " 'IRAK1' 'KHS1' 'LOK' 'MAPKAPK5' 'MARK2' 'MARK4' 'MEKK2' 'MLK3' 'MNK1' 'MSK2' 'NDR1' 'NDR2' 'NEK2' 'NEK9' 'P70S6K' 'PAK2' 'PAK3' 'PBK' 'PKCA' 'PKCE' 'PKCZ' 'PKG1' 'PLK2' 'PLK3' 'RIPK2' 'RIPK3' 'RSK4'\n",
      " 'SBK' 'SIK' 'SKMLCK' 'SRPK3' 'SSTK' 'TNIK' 'VRK2' 'YANK2' 'ZAK']\n",
      "Lasso(alpha=0.1)\n",
      "rmse is 1.1060\n",
      "Spearman correlation coefficient: nan\n",
      "Pearson correlation coefficient: nan \n",
      "-----------------------model:ElasticNet, data:t5----------------------\n"
     ]
    },
    {
     "name": "stderr",
     "output_type": "stream",
     "text": [
      "/usr/local/lib/python3.9/dist-packages/scipy/stats/_stats_py.py:4529: SpearmanRConstantInputWarning: An input array is constant; the correlation coefficient is not defined.\n",
      "  warnings.warn(SpearmanRConstantInputWarning())\n",
      "/usr/local/lib/python3.9/dist-packages/scipy/stats/_stats_py.py:4068: PearsonRConstantInputWarning: An input array is constant; the correlation coefficient is not defined.\n",
      "  warnings.warn(PearsonRConstantInputWarning())\n"
     ]
    },
    {
     "name": "stdout",
     "output_type": "stream",
     "text": [
      "True    59994\n",
      "Name: kinase, dtype: int64\n",
      "# kinase in test set: 61\n",
      "# kinase in train set: 242\n",
      "test set: ['AAK1' 'AKT3' 'ANKRD3' 'AURA' 'BMPR1A' 'BRSK2' 'CAMK1G' 'CAMKK1' 'CDK1' 'CDK4' 'CDK8' 'CDK16' 'CHAK1' 'CK1G1' 'CK2A1' 'CLK4' 'DCAMKL1' 'DNAPK' 'DYRK1B' 'ERK2' 'GCK' 'GSK3A' 'HGK' 'HPK1' 'HUNK'\n",
      " 'IRAK4' 'KHS1' 'LRRK2' 'MAPKAPK2' 'MARK3' 'MEKK1' 'MEKK6' 'MLK4' 'MOS' 'MSK1' 'MYLK4' 'MYO3A' 'NEK7' 'NEK9' 'NUAK2' 'P70S6K' 'P90RSK' 'PASK' 'PHKG1' 'PINK1' 'PKACB' 'PKCH' 'PKCZ' 'PLK2' 'PLK3' 'QSK'\n",
      " 'ROCK1' 'RSK3' 'SLK' 'SNRK' 'STLK3' 'TGFBR1' 'TLK2' 'TTK' 'WNK3' 'YSK1']\n",
      "ElasticNet(alpha=0.1)\n",
      "rmse is 1.0141\n",
      "Spearman correlation coefficient: 0.3554\n",
      "Pearson correlation coefficient: 0.2556 \n",
      "-----------------------model:ElasticNet, data:t5_1hot----------------------\n",
      "True    59994\n",
      "Name: kinase, dtype: int64\n",
      "# kinase in test set: 61\n",
      "# kinase in train set: 242\n",
      "test set: ['AAK1' 'AKT3' 'ANKRD3' 'AURA' 'BMPR1A' 'BRSK2' 'CAMK1G' 'CAMKK1' 'CDK1' 'CDK4' 'CDK8' 'CDK16' 'CHAK1' 'CK1G1' 'CK2A1' 'CLK4' 'DCAMKL1' 'DNAPK' 'DYRK1B' 'ERK2' 'GCK' 'GSK3A' 'HGK' 'HPK1' 'HUNK'\n",
      " 'IRAK4' 'KHS1' 'LRRK2' 'MAPKAPK2' 'MARK3' 'MEKK1' 'MEKK6' 'MLK4' 'MOS' 'MSK1' 'MYLK4' 'MYO3A' 'NEK7' 'NEK9' 'NUAK2' 'P70S6K' 'P90RSK' 'PASK' 'PHKG1' 'PINK1' 'PKACB' 'PKCH' 'PKCZ' 'PLK2' 'PLK3' 'QSK'\n",
      " 'ROCK1' 'RSK3' 'SLK' 'SNRK' 'STLK3' 'TGFBR1' 'TLK2' 'TTK' 'WNK3' 'YSK1']\n",
      "ElasticNet(alpha=0.1)\n",
      "rmse is 1.0478\n",
      "Spearman correlation coefficient: 0.0543\n",
      "Pearson correlation coefficient: 0.0229 \n",
      "-----------------------model:ElasticNet, data:esm----------------------\n",
      "True    59004\n",
      "Name: kinase, dtype: int64\n",
      "# kinase in test set: 61\n",
      "# kinase in train set: 237\n",
      "test set: ['ACVR2B' 'AKT1' 'ALPHAK3' 'AMPKA1' 'AURA' 'BMPR1B' 'CAMK1B' 'CAMKK2' 'CAMLCK' 'CDK4' 'CDK6' 'CDK8' 'CDK13' 'CHK1' 'CK1D' 'CK1G2' 'DMPK1' 'DSTYK' 'DYRK1A' 'ERK5' 'GRK2' 'GRK4' 'GRK7' 'HIPK1' 'ICK'\n",
      " 'IRAK1' 'KHS1' 'LOK' 'MAPKAPK5' 'MARK2' 'MARK4' 'MEKK2' 'MLK3' 'MNK1' 'MSK2' 'NDR1' 'NDR2' 'NEK2' 'NEK9' 'P70S6K' 'PAK2' 'PAK3' 'PBK' 'PKCA' 'PKCE' 'PKCZ' 'PKG1' 'PLK2' 'PLK3' 'RIPK2' 'RIPK3' 'RSK4'\n",
      " 'SBK' 'SIK' 'SKMLCK' 'SRPK3' 'SSTK' 'TNIK' 'VRK2' 'YANK2' 'ZAK']\n",
      "ElasticNet(alpha=0.1)\n",
      "rmse is 1.0747\n",
      "Spearman correlation coefficient: 0.3189\n",
      "Pearson correlation coefficient: 0.2378 \n",
      "-----------------------model:ElasticNet, data:esm_1hot----------------------\n",
      "True    59004\n",
      "Name: kinase, dtype: int64\n",
      "# kinase in test set: 61\n",
      "# kinase in train set: 237\n",
      "test set: ['ACVR2B' 'AKT1' 'ALPHAK3' 'AMPKA1' 'AURA' 'BMPR1B' 'CAMK1B' 'CAMKK2' 'CAMLCK' 'CDK4' 'CDK6' 'CDK8' 'CDK13' 'CHK1' 'CK1D' 'CK1G2' 'DMPK1' 'DSTYK' 'DYRK1A' 'ERK5' 'GRK2' 'GRK4' 'GRK7' 'HIPK1' 'ICK'\n",
      " 'IRAK1' 'KHS1' 'LOK' 'MAPKAPK5' 'MARK2' 'MARK4' 'MEKK2' 'MLK3' 'MNK1' 'MSK2' 'NDR1' 'NDR2' 'NEK2' 'NEK9' 'P70S6K' 'PAK2' 'PAK3' 'PBK' 'PKCA' 'PKCE' 'PKCZ' 'PKG1' 'PLK2' 'PLK3' 'RIPK2' 'RIPK3' 'RSK4'\n",
      " 'SBK' 'SIK' 'SKMLCK' 'SRPK3' 'SSTK' 'TNIK' 'VRK2' 'YANK2' 'ZAK']\n",
      "ElasticNet(alpha=0.1)\n",
      "rmse is 1.1058\n",
      "Spearman correlation coefficient: 0.0255\n",
      "Pearson correlation coefficient: 0.0247 \n",
      "-----------------------model:DecisionTreeRegressor, data:t5----------------------\n",
      "True    59994\n",
      "Name: kinase, dtype: int64\n",
      "# kinase in test set: 61\n",
      "# kinase in train set: 242\n",
      "test set: ['AAK1' 'AKT3' 'ANKRD3' 'AURA' 'BMPR1A' 'BRSK2' 'CAMK1G' 'CAMKK1' 'CDK1' 'CDK4' 'CDK8' 'CDK16' 'CHAK1' 'CK1G1' 'CK2A1' 'CLK4' 'DCAMKL1' 'DNAPK' 'DYRK1B' 'ERK2' 'GCK' 'GSK3A' 'HGK' 'HPK1' 'HUNK'\n",
      " 'IRAK4' 'KHS1' 'LRRK2' 'MAPKAPK2' 'MARK3' 'MEKK1' 'MEKK6' 'MLK4' 'MOS' 'MSK1' 'MYLK4' 'MYO3A' 'NEK7' 'NEK9' 'NUAK2' 'P70S6K' 'P90RSK' 'PASK' 'PHKG1' 'PINK1' 'PKACB' 'PKCH' 'PKCZ' 'PLK2' 'PLK3' 'QSK'\n",
      " 'ROCK1' 'RSK3' 'SLK' 'SNRK' 'STLK3' 'TGFBR1' 'TLK2' 'TTK' 'WNK3' 'YSK1']\n",
      "DecisionTreeRegressor()\n",
      "rmse is 1.0201\n",
      "Spearman correlation coefficient: 0.4553\n",
      "Pearson correlation coefficient: 0.5278 \n",
      "-----------------------model:DecisionTreeRegressor, data:t5_1hot----------------------\n",
      "True    59994\n",
      "Name: kinase, dtype: int64\n",
      "# kinase in test set: 61\n",
      "# kinase in train set: 242\n",
      "test set: ['AAK1' 'AKT3' 'ANKRD3' 'AURA' 'BMPR1A' 'BRSK2' 'CAMK1G' 'CAMKK1' 'CDK1' 'CDK4' 'CDK8' 'CDK16' 'CHAK1' 'CK1G1' 'CK2A1' 'CLK4' 'DCAMKL1' 'DNAPK' 'DYRK1B' 'ERK2' 'GCK' 'GSK3A' 'HGK' 'HPK1' 'HUNK'\n",
      " 'IRAK4' 'KHS1' 'LRRK2' 'MAPKAPK2' 'MARK3' 'MEKK1' 'MEKK6' 'MLK4' 'MOS' 'MSK1' 'MYLK4' 'MYO3A' 'NEK7' 'NEK9' 'NUAK2' 'P70S6K' 'P90RSK' 'PASK' 'PHKG1' 'PINK1' 'PKACB' 'PKCH' 'PKCZ' 'PLK2' 'PLK3' 'QSK'\n",
      " 'ROCK1' 'RSK3' 'SLK' 'SNRK' 'STLK3' 'TGFBR1' 'TLK2' 'TTK' 'WNK3' 'YSK1']\n",
      "DecisionTreeRegressor()\n",
      "rmse is 1.0591\n",
      "Spearman correlation coefficient: 0.4606\n",
      "Pearson correlation coefficient: 0.5109 \n",
      "-----------------------model:DecisionTreeRegressor, data:esm----------------------\n",
      "True    59004\n",
      "Name: kinase, dtype: int64\n",
      "# kinase in test set: 61\n",
      "# kinase in train set: 237\n",
      "test set: ['ACVR2B' 'AKT1' 'ALPHAK3' 'AMPKA1' 'AURA' 'BMPR1B' 'CAMK1B' 'CAMKK2' 'CAMLCK' 'CDK4' 'CDK6' 'CDK8' 'CDK13' 'CHK1' 'CK1D' 'CK1G2' 'DMPK1' 'DSTYK' 'DYRK1A' 'ERK5' 'GRK2' 'GRK4' 'GRK7' 'HIPK1' 'ICK'\n",
      " 'IRAK1' 'KHS1' 'LOK' 'MAPKAPK5' 'MARK2' 'MARK4' 'MEKK2' 'MLK3' 'MNK1' 'MSK2' 'NDR1' 'NDR2' 'NEK2' 'NEK9' 'P70S6K' 'PAK2' 'PAK3' 'PBK' 'PKCA' 'PKCE' 'PKCZ' 'PKG1' 'PLK2' 'PLK3' 'RIPK2' 'RIPK3' 'RSK4'\n",
      " 'SBK' 'SIK' 'SKMLCK' 'SRPK3' 'SSTK' 'TNIK' 'VRK2' 'YANK2' 'ZAK']\n",
      "DecisionTreeRegressor()\n",
      "rmse is 1.2558\n",
      "Spearman correlation coefficient: 0.4508\n",
      "Pearson correlation coefficient: 0.4680 \n",
      "-----------------------model:DecisionTreeRegressor, data:esm_1hot----------------------\n",
      "True    59004\n",
      "Name: kinase, dtype: int64\n",
      "# kinase in test set: 61\n",
      "# kinase in train set: 237\n",
      "test set: ['ACVR2B' 'AKT1' 'ALPHAK3' 'AMPKA1' 'AURA' 'BMPR1B' 'CAMK1B' 'CAMKK2' 'CAMLCK' 'CDK4' 'CDK6' 'CDK8' 'CDK13' 'CHK1' 'CK1D' 'CK1G2' 'DMPK1' 'DSTYK' 'DYRK1A' 'ERK5' 'GRK2' 'GRK4' 'GRK7' 'HIPK1' 'ICK'\n",
      " 'IRAK1' 'KHS1' 'LOK' 'MAPKAPK5' 'MARK2' 'MARK4' 'MEKK2' 'MLK3' 'MNK1' 'MSK2' 'NDR1' 'NDR2' 'NEK2' 'NEK9' 'P70S6K' 'PAK2' 'PAK3' 'PBK' 'PKCA' 'PKCE' 'PKCZ' 'PKG1' 'PLK2' 'PLK3' 'RIPK2' 'RIPK3' 'RSK4'\n",
      " 'SBK' 'SIK' 'SKMLCK' 'SRPK3' 'SSTK' 'TNIK' 'VRK2' 'YANK2' 'ZAK']\n",
      "DecisionTreeRegressor()\n",
      "rmse is 1.2700\n",
      "Spearman correlation coefficient: 0.4272\n",
      "Pearson correlation coefficient: 0.4603 \n",
      "-----------------------model:XGBRegressor, data:t5----------------------\n",
      "True    59994\n",
      "Name: kinase, dtype: int64\n",
      "# kinase in test set: 61\n",
      "# kinase in train set: 242\n",
      "test set: ['AAK1' 'AKT3' 'ANKRD3' 'AURA' 'BMPR1A' 'BRSK2' 'CAMK1G' 'CAMKK1' 'CDK1' 'CDK4' 'CDK8' 'CDK16' 'CHAK1' 'CK1G1' 'CK2A1' 'CLK4' 'DCAMKL1' 'DNAPK' 'DYRK1B' 'ERK2' 'GCK' 'GSK3A' 'HGK' 'HPK1' 'HUNK'\n",
      " 'IRAK4' 'KHS1' 'LRRK2' 'MAPKAPK2' 'MARK3' 'MEKK1' 'MEKK6' 'MLK4' 'MOS' 'MSK1' 'MYLK4' 'MYO3A' 'NEK7' 'NEK9' 'NUAK2' 'P70S6K' 'P90RSK' 'PASK' 'PHKG1' 'PINK1' 'PKACB' 'PKCH' 'PKCZ' 'PLK2' 'PLK3' 'QSK'\n",
      " 'ROCK1' 'RSK3' 'SLK' 'SNRK' 'STLK3' 'TGFBR1' 'TLK2' 'TTK' 'WNK3' 'YSK1']\n",
      "XGBRegressor(base_score=0.5, booster='gbtree', callbacks=None,\n",
      "             colsample_bylevel=1, colsample_bynode=1, colsample_bytree=1,\n",
      "             early_stopping_rounds=None, enable_categorical=False,\n",
      "             eval_metric=None, gamma=0, gpu_id=-1, grow_policy='depthwise',\n",
      "             importance_type=None, interaction_constraints='',\n",
      "             learning_rate=0.300000012, max_bin=256, max_cat_to_onehot=4,\n",
      "             max_delta_step=0, max_depth=10, max_leaves=0, min_child_weight=1,\n",
      "             missing=nan, monotone_constraints='()', n_estimators=100, n_jobs=0,\n",
      "             num_parallel_tree=1, predictor='auto', random_state=0, reg_alpha=0,\n",
      "             reg_lambda=1, ...)\n",
      "rmse is 0.8506\n",
      "Spearman correlation coefficient: 0.5839\n",
      "Pearson correlation coefficient: 0.6222 \n",
      "-----------------------model:XGBRegressor, data:t5_1hot----------------------\n",
      "True    59994\n",
      "Name: kinase, dtype: int64\n",
      "# kinase in test set: 61\n",
      "# kinase in train set: 242\n",
      "test set: ['AAK1' 'AKT3' 'ANKRD3' 'AURA' 'BMPR1A' 'BRSK2' 'CAMK1G' 'CAMKK1' 'CDK1' 'CDK4' 'CDK8' 'CDK16' 'CHAK1' 'CK1G1' 'CK2A1' 'CLK4' 'DCAMKL1' 'DNAPK' 'DYRK1B' 'ERK2' 'GCK' 'GSK3A' 'HGK' 'HPK1' 'HUNK'\n",
      " 'IRAK4' 'KHS1' 'LRRK2' 'MAPKAPK2' 'MARK3' 'MEKK1' 'MEKK6' 'MLK4' 'MOS' 'MSK1' 'MYLK4' 'MYO3A' 'NEK7' 'NEK9' 'NUAK2' 'P70S6K' 'P90RSK' 'PASK' 'PHKG1' 'PINK1' 'PKACB' 'PKCH' 'PKCZ' 'PLK2' 'PLK3' 'QSK'\n",
      " 'ROCK1' 'RSK3' 'SLK' 'SNRK' 'STLK3' 'TGFBR1' 'TLK2' 'TTK' 'WNK3' 'YSK1']\n",
      "XGBRegressor(base_score=0.5, booster='gbtree', callbacks=None,\n",
      "             colsample_bylevel=1, colsample_bynode=1, colsample_bytree=1,\n",
      "             early_stopping_rounds=None, enable_categorical=False,\n",
      "             eval_metric=None, gamma=0, gpu_id=-1, grow_policy='depthwise',\n",
      "             importance_type=None, interaction_constraints='',\n",
      "             learning_rate=0.300000012, max_bin=256, max_cat_to_onehot=4,\n",
      "             max_delta_step=0, max_depth=10, max_leaves=0, min_child_weight=1,\n",
      "             missing=nan, monotone_constraints='()', n_estimators=100, n_jobs=0,\n",
      "             num_parallel_tree=1, predictor='auto', random_state=0, reg_alpha=0,\n",
      "             reg_lambda=1, ...)\n",
      "rmse is 0.7866\n",
      "Spearman correlation coefficient: 0.5701\n",
      "Pearson correlation coefficient: 0.6684 \n",
      "-----------------------model:XGBRegressor, data:esm----------------------\n",
      "True    59004\n",
      "Name: kinase, dtype: int64\n",
      "# kinase in test set: 61\n",
      "# kinase in train set: 237\n",
      "test set: ['ACVR2B' 'AKT1' 'ALPHAK3' 'AMPKA1' 'AURA' 'BMPR1B' 'CAMK1B' 'CAMKK2' 'CAMLCK' 'CDK4' 'CDK6' 'CDK8' 'CDK13' 'CHK1' 'CK1D' 'CK1G2' 'DMPK1' 'DSTYK' 'DYRK1A' 'ERK5' 'GRK2' 'GRK4' 'GRK7' 'HIPK1' 'ICK'\n",
      " 'IRAK1' 'KHS1' 'LOK' 'MAPKAPK5' 'MARK2' 'MARK4' 'MEKK2' 'MLK3' 'MNK1' 'MSK2' 'NDR1' 'NDR2' 'NEK2' 'NEK9' 'P70S6K' 'PAK2' 'PAK3' 'PBK' 'PKCA' 'PKCE' 'PKCZ' 'PKG1' 'PLK2' 'PLK3' 'RIPK2' 'RIPK3' 'RSK4'\n",
      " 'SBK' 'SIK' 'SKMLCK' 'SRPK3' 'SSTK' 'TNIK' 'VRK2' 'YANK2' 'ZAK']\n",
      "XGBRegressor(base_score=0.5, booster='gbtree', callbacks=None,\n",
      "             colsample_bylevel=1, colsample_bynode=1, colsample_bytree=1,\n",
      "             early_stopping_rounds=None, enable_categorical=False,\n",
      "             eval_metric=None, gamma=0, gpu_id=-1, grow_policy='depthwise',\n",
      "             importance_type=None, interaction_constraints='',\n",
      "             learning_rate=0.300000012, max_bin=256, max_cat_to_onehot=4,\n",
      "             max_delta_step=0, max_depth=10, max_leaves=0, min_child_weight=1,\n",
      "             missing=nan, monotone_constraints='()', n_estimators=100, n_jobs=0,\n",
      "             num_parallel_tree=1, predictor='auto', random_state=0, reg_alpha=0,\n",
      "             reg_lambda=1, ...)\n",
      "rmse is 0.8308\n",
      "Spearman correlation coefficient: 0.5494\n",
      "Pearson correlation coefficient: 0.6720 \n",
      "-----------------------model:XGBRegressor, data:esm_1hot----------------------\n",
      "True    59004\n",
      "Name: kinase, dtype: int64\n",
      "# kinase in test set: 61\n",
      "# kinase in train set: 237\n",
      "test set: ['ACVR2B' 'AKT1' 'ALPHAK3' 'AMPKA1' 'AURA' 'BMPR1B' 'CAMK1B' 'CAMKK2' 'CAMLCK' 'CDK4' 'CDK6' 'CDK8' 'CDK13' 'CHK1' 'CK1D' 'CK1G2' 'DMPK1' 'DSTYK' 'DYRK1A' 'ERK5' 'GRK2' 'GRK4' 'GRK7' 'HIPK1' 'ICK'\n",
      " 'IRAK1' 'KHS1' 'LOK' 'MAPKAPK5' 'MARK2' 'MARK4' 'MEKK2' 'MLK3' 'MNK1' 'MSK2' 'NDR1' 'NDR2' 'NEK2' 'NEK9' 'P70S6K' 'PAK2' 'PAK3' 'PBK' 'PKCA' 'PKCE' 'PKCZ' 'PKG1' 'PLK2' 'PLK3' 'RIPK2' 'RIPK3' 'RSK4'\n",
      " 'SBK' 'SIK' 'SKMLCK' 'SRPK3' 'SSTK' 'TNIK' 'VRK2' 'YANK2' 'ZAK']\n",
      "XGBRegressor(base_score=0.5, booster='gbtree', callbacks=None,\n",
      "             colsample_bylevel=1, colsample_bynode=1, colsample_bytree=1,\n",
      "             early_stopping_rounds=None, enable_categorical=False,\n",
      "             eval_metric=None, gamma=0, gpu_id=-1, grow_policy='depthwise',\n",
      "             importance_type=None, interaction_constraints='',\n",
      "             learning_rate=0.300000012, max_bin=256, max_cat_to_onehot=4,\n",
      "             max_delta_step=0, max_depth=10, max_leaves=0, min_child_weight=1,\n",
      "             missing=nan, monotone_constraints='()', n_estimators=100, n_jobs=0,\n",
      "             num_parallel_tree=1, predictor='auto', random_state=0, reg_alpha=0,\n",
      "             reg_lambda=1, ...)\n",
      "rmse is 0.8471\n",
      "Spearman correlation coefficient: 0.5443\n",
      "Pearson correlation coefficient: 0.6477 \n"
     ]
    }
   ],
   "source": [
    "for i, model in models.items():\n",
    "    for j, df in dfs.items():\n",
    "        print(f'-----------------------model:{i}, data:{j}----------------------')\n",
    "        train_df(df,model)"
   ]
  }
 ],
 "metadata": {
  "kernelspec": {
   "display_name": "python3",
   "language": "python",
   "name": "python3"
  }
 },
 "nbformat": 4,
 "nbformat_minor": 4
}
