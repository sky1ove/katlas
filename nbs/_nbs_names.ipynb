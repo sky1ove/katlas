{
 "cells": [
  {
   "cell_type": "code",
   "execution_count": null,
   "id": "21b7d0c1-fc05-4656-95b6-93a153424d67",
   "metadata": {},
   "outputs": [
    {
     "name": "stdout",
     "output_type": "stream",
     "text": [
      "    - 00_data.ipynb\n",
      "    - 01_utils.ipynb\n",
      "    - 02_pssm.ipynb\n",
      "    - 03_hierarchical.ipynb\n",
      "    - 03_score.ipynb\n",
      "    - 04_feature.ipynb\n",
      "    - 05_plot.ipynb\n",
      "    - 06_pathway.ipynb\n",
      "    - 07_alignment.ipynb\n",
      "    - 08_statistics.ipynb\n",
      "    - 10_ML.ipynb\n",
      "    - 11_DL.ipynb\n"
     ]
    }
   ],
   "source": [
    "import os\n",
    "import re\n",
    "\n",
    "pattern = re.compile(r\"^\\d+_.*\\.ipynb$\")\n",
    "\n",
    "nbs = [f for f in os.listdir('.') if pattern.match(f)]\n",
    "for nb in sorted(nbs):\n",
    "    print(f\"    - {nb}\")"
   ]
  },
  {
   "cell_type": "code",
   "execution_count": null,
   "id": "dffc5a30-77f2-4bbc-9493-087f77cff7aa",
   "metadata": {},
   "outputs": [],
   "source": []
  }
 ],
 "metadata": {
  "kernelspec": {
   "display_name": "python3",
   "language": "python",
   "name": "python3"
  }
 },
 "nbformat": 4,
 "nbformat_minor": 5
}
