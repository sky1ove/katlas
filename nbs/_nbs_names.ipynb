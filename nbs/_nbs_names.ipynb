{
 "cells": [
  {
   "cell_type": "code",
   "execution_count": 5,
   "id": "21b7d0c1-fc05-4656-95b6-93a153424d67",
   "metadata": {},
   "outputs": [
    {
     "name": "stdout",
     "output_type": "stream",
     "text": [
      "    - 00_data.ipynb\n",
      "    - 01_preprocess.ipynb\n",
      "    - 02_pssm.ipynb\n",
      "    - 03_score.ipynb\n",
      "    - 04_feature.ipynb\n",
      "    - 05_plot.ipynb\n",
      "    - 06_ML.ipynb\n",
      "    - 07_DL.ipynb\n",
      "    - 08_analyze.ipynb\n"
     ]
    }
   ],
   "source": [
    "import os\n",
    "import re\n",
    "\n",
    "pattern = re.compile(r\"^\\d+_.*\\.ipynb$\")\n",
    "\n",
    "nbs = [f for f in os.listdir('.') if pattern.match(f)]\n",
    "for nb in sorted(nbs):\n",
    "    print(f\"    - {nb}\")"
   ]
  },
  {
   "cell_type": "code",
   "execution_count": 3,
   "id": "384b6544-06d9-44fa-a7c1-9712e75a1cb8",
   "metadata": {},
   "outputs": [
    {
     "data": {
      "text/plain": [
       "['00_data.ipynb',\n",
       " '01_preprocess.ipynb',\n",
       " '04_feature.ipynb',\n",
       " '05_plot.ipynb',\n",
       " '06_ML.ipynb',\n",
       " '07_DL.ipynb',\n",
       " 'index.ipynb',\n",
       " '02_pssm.ipynb',\n",
       " '08_analyze.ipynb',\n",
       " '_nbs_names.ipynb',\n",
       " '03_score.ipynb']"
      ]
     },
     "execution_count": 3,
     "metadata": {},
     "output_type": "execute_result"
    }
   ],
   "source": [
    "nbs"
   ]
  },
  {
   "cell_type": "code",
   "execution_count": null,
   "id": "dffc5a30-77f2-4bbc-9493-087f77cff7aa",
   "metadata": {},
   "outputs": [],
   "source": []
  }
 ],
 "metadata": {
  "kernelspec": {
   "display_name": "Python 3",
   "language": "python",
   "name": "python3"
  },
  "language_info": {
   "codemirror_mode": {
    "name": "ipython",
    "version": 3
   },
   "file_extension": ".py",
   "mimetype": "text/x-python",
   "name": "python",
   "nbconvert_exporter": "python",
   "pygments_lexer": "ipython3",
   "version": "3.10.10"
  }
 },
 "nbformat": 4,
 "nbformat_minor": 5
}
