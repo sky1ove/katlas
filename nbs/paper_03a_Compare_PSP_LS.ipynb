{
 "cells": [
  {
   "cell_type": "raw",
   "id": "ec450d58-6341-49e7-9e6f-520565e63f22",
   "metadata": {},
   "source": [
    "---\n",
    "skip_showdoc: true\n",
    "skip_exec: true\n",
    "---"
   ]
  },
  {
   "cell_type": "markdown",
   "id": "885df89f-5fed-48c2-b672-e4378c9bc57d",
   "metadata": {},
   "source": [
    "# Compare PhosphoSitePlus and Large-scale datasets"
   ]
  },
  {
   "cell_type": "markdown",
   "id": "537e3d49-0afc-4483-b852-f4ac4e6a2203",
   "metadata": {},
   "source": [
    "## Setup"
   ]
  },
  {
   "cell_type": "code",
   "execution_count": null,
   "id": "e75b5b8c-b917-4947-9963-ec6ad2e036ee",
   "metadata": {},
   "outputs": [],
   "source": [
    "#!pip install git+https://github.com/sky1ove/katlas.git -q"
   ]
  },
  {
   "cell_type": "code",
   "execution_count": null,
   "id": "e4c17118-c355-445f-9408-c3b0f5db47a5",
   "metadata": {},
   "outputs": [],
   "source": [
    "from katlas.core import *\n",
    "from katlas.plot import *\n",
    "\n",
    "import pandas as pd\n",
    "import numpy as np\n",
    "\n",
    "import matplotlib.pyplot as plt\n",
    "import seaborn as sns\n",
    "\n",
    "from scipy.stats import spearmanr, pearsonr"
   ]
  },
  {
   "cell_type": "code",
   "execution_count": null,
   "id": "6bbc2b30-d8f4-4617-bf47-64043b7386d1",
   "metadata": {},
   "outputs": [],
   "source": [
    "sns.set(rc={\"figure.dpi\":200, 'savefig.dpi':200})\n",
    "sns.set_context('notebook')\n",
    "sns.set_style(\"ticks\")"
   ]
  },
  {
   "cell_type": "markdown",
   "id": "a586d2ee-9646-4ca1-97f2-ad34b25dda49",
   "metadata": {},
   "source": [
    "## Load data"
   ]
  },
  {
   "cell_type": "code",
   "execution_count": null,
   "id": "ce01513c-3558-46d5-bc0a-e8c3d46bdf58",
   "metadata": {},
   "outputs": [],
   "source": [
    "df = Data.get_ks_dataset()"
   ]
  },
  {
   "cell_type": "code",
   "execution_count": null,
   "id": "2dcd6f26-9510-45c9-aef6-5ef98b12d253",
   "metadata": {},
   "outputs": [],
   "source": [
    "df['SUB'] = df.substrate.str.upper()"
   ]
  },
  {
   "cell_type": "code",
   "execution_count": null,
   "id": "b31d96d6-87bc-4cc3-99a5-560deec43ff3",
   "metadata": {},
   "outputs": [],
   "source": [
    "PP = df.query('source == \"pplus\"').reset_index(drop=True)\n",
    "\n",
    "LS = df.query('source == \"large_scale\"').reset_index(drop=True)"
   ]
  },
  {
   "cell_type": "markdown",
   "id": "3d523b06-fcf2-475c-b78c-d71cb0d52e48",
   "metadata": {},
   "source": [
    "## Get overlap"
   ]
  },
  {
   "cell_type": "code",
   "execution_count": null,
   "id": "4073cc04-5fcb-4da9-9829-dc15540d633e",
   "metadata": {},
   "outputs": [],
   "source": [
    "cnt = PP[PP.kinase_paper.isin(LS.kinase_paper)].kinase_paper.value_counts()"
   ]
  },
  {
   "cell_type": "code",
   "execution_count": null,
   "id": "9d020391-2158-44c0-a9ab-a57a06da04c5",
   "metadata": {},
   "outputs": [],
   "source": [
    "overlap_PP = cnt[cnt>50]"
   ]
  },
  {
   "cell_type": "markdown",
   "id": "5b2dcc3e-3625-4b2a-9c8e-673934e43853",
   "metadata": {},
   "source": [
    "## Calculate Pearson"
   ]
  },
  {
   "cell_type": "code",
   "execution_count": null,
   "id": "4be1cbcd-49bf-4b3e-ab0c-a9b1ceb8d897",
   "metadata": {},
   "outputs": [],
   "source": [
    "data = []\n",
    "for k in overlap_PP.index:\n",
    "\n",
    "    \n",
    "    PP_k = PP.query(f'kinase_paper==\"{k}\"')\n",
    "    LS_k = LS.query(f'kinase_paper==\"{k}\"')\n",
    "    \n",
    "    # drop duplicates\n",
    "    PP_k = PP_k.drop_duplicates(subset = 'SUB')\n",
    "    LS_k = LS_k.drop_duplicates(subset = 'SUB')\n",
    "    \n",
    "    PP_cnt = PP_k.shape[0]\n",
    "    LS_cnt = LS_k.shape[0]\n",
    "    \n",
    "    PP_paper, PP_full = get_freq(PP_k)\n",
    "    LS_paper, LS_full = get_freq(LS_k)\n",
    "    \n",
    "#     plot_heatmap(PP_paper,f'{k}_PP')\n",
    "#     plt.show()\n",
    "#     plt.close()\n",
    "    \n",
    "#     plot_heatmap(LS_paper,f'{k}_LS')\n",
    "#     plt.show()\n",
    "#     plt.close()\n",
    "\n",
    "    # Get pearson of full heatmap, then average\n",
    "    corr_full,_ = pearsonr(PP_full.unstack().values,LS_full.unstack().values)\n",
    "\n",
    "    data.append([k,corr_full,PP_cnt,LS_cnt])"
   ]
  },
  {
   "cell_type": "code",
   "execution_count": null,
   "id": "33a6a114-be7e-460a-8e93-ed936f8b4a01",
   "metadata": {},
   "outputs": [],
   "source": [
    "PP_LS = pd.DataFrame(data,columns=['kinase','pearson',\n",
    "                                   'PP_cnt','LS_cnt'])"
   ]
  },
  {
   "cell_type": "code",
   "execution_count": null,
   "id": "eafa945d-9cf1-4348-bb84-9c7482748ae0",
   "metadata": {},
   "outputs": [
    {
     "data": {
      "text/html": [
       "<div>\n",
       "<style scoped>\n",
       "    .dataframe tbody tr th:only-of-type {\n",
       "        vertical-align: middle;\n",
       "    }\n",
       "\n",
       "    .dataframe tbody tr th {\n",
       "        vertical-align: top;\n",
       "    }\n",
       "\n",
       "    .dataframe thead th {\n",
       "        text-align: right;\n",
       "    }\n",
       "</style>\n",
       "<table border=\"1\" class=\"dataframe\">\n",
       "  <thead>\n",
       "    <tr style=\"text-align: right;\">\n",
       "      <th></th>\n",
       "      <th>kinase</th>\n",
       "      <th>pearson</th>\n",
       "      <th>PP_cnt</th>\n",
       "      <th>LS_cnt</th>\n",
       "    </tr>\n",
       "  </thead>\n",
       "  <tbody>\n",
       "    <tr>\n",
       "      <th>38</th>\n",
       "      <td>LRRK2</td>\n",
       "      <td>0.435784</td>\n",
       "      <td>93</td>\n",
       "      <td>57</td>\n",
       "    </tr>\n",
       "    <tr>\n",
       "      <th>51</th>\n",
       "      <td>TTK</td>\n",
       "      <td>0.682803</td>\n",
       "      <td>68</td>\n",
       "      <td>26</td>\n",
       "    </tr>\n",
       "    <tr>\n",
       "      <th>53</th>\n",
       "      <td>CK1E</td>\n",
       "      <td>0.696732</td>\n",
       "      <td>61</td>\n",
       "      <td>281</td>\n",
       "    </tr>\n",
       "    <tr>\n",
       "      <th>23</th>\n",
       "      <td>MTOR</td>\n",
       "      <td>0.709667</td>\n",
       "      <td>146</td>\n",
       "      <td>40</td>\n",
       "    </tr>\n",
       "    <tr>\n",
       "      <th>56</th>\n",
       "      <td>CDK7</td>\n",
       "      <td>0.713317</td>\n",
       "      <td>58</td>\n",
       "      <td>148</td>\n",
       "    </tr>\n",
       "    <tr>\n",
       "      <th>...</th>\n",
       "      <td>...</td>\n",
       "      <td>...</td>\n",
       "      <td>...</td>\n",
       "      <td>...</td>\n",
       "    </tr>\n",
       "    <tr>\n",
       "      <th>0</th>\n",
       "      <td>PKACA</td>\n",
       "      <td>0.934050</td>\n",
       "      <td>986</td>\n",
       "      <td>577</td>\n",
       "    </tr>\n",
       "    <tr>\n",
       "      <th>2</th>\n",
       "      <td>CK2A1</td>\n",
       "      <td>0.938478</td>\n",
       "      <td>767</td>\n",
       "      <td>123</td>\n",
       "    </tr>\n",
       "    <tr>\n",
       "      <th>1</th>\n",
       "      <td>CDK1</td>\n",
       "      <td>0.938668</td>\n",
       "      <td>761</td>\n",
       "      <td>463</td>\n",
       "    </tr>\n",
       "    <tr>\n",
       "      <th>19</th>\n",
       "      <td>FYN</td>\n",
       "      <td>0.944152</td>\n",
       "      <td>198</td>\n",
       "      <td>1362</td>\n",
       "    </tr>\n",
       "    <tr>\n",
       "      <th>4</th>\n",
       "      <td>SRC</td>\n",
       "      <td>0.962360</td>\n",
       "      <td>681</td>\n",
       "      <td>1664</td>\n",
       "    </tr>\n",
       "  </tbody>\n",
       "</table>\n",
       "<p>68 rows × 4 columns</p>\n",
       "</div>"
      ],
      "text/plain": [
       "   kinase   pearson  PP_cnt  LS_cnt\n",
       "38  LRRK2  0.435784      93      57\n",
       "51    TTK  0.682803      68      26\n",
       "53   CK1E  0.696732      61     281\n",
       "23   MTOR  0.709667     146      40\n",
       "56   CDK7  0.713317      58     148\n",
       "..    ...       ...     ...     ...\n",
       "0   PKACA  0.934050     986     577\n",
       "2   CK2A1  0.938478     767     123\n",
       "1    CDK1  0.938668     761     463\n",
       "19    FYN  0.944152     198    1362\n",
       "4     SRC  0.962360     681    1664\n",
       "\n",
       "[68 rows x 4 columns]"
      ]
     },
     "execution_count": null,
     "metadata": {},
     "output_type": "execute_result"
    }
   ],
   "source": [
    "PP_LS.sort_values('pearson')"
   ]
  },
  {
   "cell_type": "code",
   "execution_count": null,
   "id": "2eba33cb-3a96-4354-8f24-8c86cd427e13",
   "metadata": {},
   "outputs": [],
   "source": [
    "PP_LS['min_cnt'] = PP_LS[['PP_cnt','LS_cnt']].min(axis=1)"
   ]
  },
  {
   "cell_type": "code",
   "execution_count": null,
   "id": "2a9c4a6d-b259-4550-99f0-4cca1ddf7d0f",
   "metadata": {},
   "outputs": [
    {
     "data": {
      "image/png": "[encoded data removed]",
      "text/plain": [
       "<Figure size 360x216 with 1 Axes>"
      ]
     },
     "metadata": {
      "needs_background": "light"
     },
     "output_type": "display_data"
    }
   ],
   "source": [
    "sns.set(rc={\"figure.dpi\":200, 'savefig.dpi':200})\n",
    "sns.set_context('notebook')\n",
    "sns.set_style(\"ticks\")\n",
    "\n",
    "plt.figure(figsize=(5,3))\n",
    "PP_LS.pearson.hist(bins=15);"
   ]
  },
  {
   "cell_type": "code",
   "execution_count": null,
   "id": "e018f58d-520d-4773-bcbc-31691977149f",
   "metadata": {},
   "outputs": [
    {
     "data": {
      "image/png": "[encoded data removed]",
      "text/plain": [
       "<Figure size 432x288 with 1 Axes>"
      ]
     },
     "metadata": {
      "needs_background": "light"
     },
     "output_type": "display_data"
    }
   ],
   "source": [
    "PP_LS.plot.scatter(y='pearson',x='min_cnt',c = 'DarkBlue')\n",
    "plt.ylabel('Pearson')\n",
    "plt.xlabel('min count')\n",
    "plt.title('Agreement between two datasets');"
   ]
  },
  {
   "cell_type": "markdown",
   "id": "fcb1966b-1dbb-438d-9374-69305f179e31",
   "metadata": {},
   "source": [
    "## Examples"
   ]
  },
  {
   "cell_type": "code",
   "execution_count": null,
   "id": "ad6968d3-cbd2-4a40-adf5-7f1b02230d8d",
   "metadata": {},
   "outputs": [
    {
     "data": {
      "image/png": "[encoded data removed]",
      "text/plain": [
       "<Figure size 432x720 with 2 Axes>"
      ]
     },
     "metadata": {
      "needs_background": "light"
     },
     "output_type": "display_data"
    },
    {
     "data": {
      "image/png": "[encoded data removed]",
      "text/plain": [
       "<Figure size 432x720 with 2 Axes>"
      ]
     },
     "metadata": {
      "needs_background": "light"
     },
     "output_type": "display_data"
    }
   ],
   "source": [
    "# Get one example\n",
    "k = 'CDK1'\n",
    "\n",
    "PP_k = PP.query(f'kinase_paper==\"{k}\"')\n",
    "LS_k = LS.query(f'kinase_paper==\"{k}\"')\n",
    "\n",
    "# drop duplicates\n",
    "PP_k = PP_k.drop_duplicates(subset = 'SUB')\n",
    "LS_k = LS_k.drop_duplicates(subset = 'SUB')\n",
    "\n",
    "\n",
    "PP_paper, PP_full = get_freq(PP_k)\n",
    "LS_paper, LS_full = get_freq(LS_k)\n",
    "\n",
    "\n",
    "plot_heatmap(PP_paper,f'{k}_PP')\n",
    "plot_heatmap(LS_paper,f'{k}_LS')"
   ]
  },
  {
   "cell_type": "code",
   "execution_count": null,
   "id": "63442919-06b1-4383-82f8-dec8fcd2fea6",
   "metadata": {},
   "outputs": [
    {
     "data": {
      "image/png": "[encoded data removed]",
      "text/plain": [
       "<Figure size 432x720 with 2 Axes>"
      ]
     },
     "metadata": {
      "needs_background": "light"
     },
     "output_type": "display_data"
    },
    {
     "data": {
      "image/png": "[encoded data removed]",
      "text/plain": [
       "<Figure size 432x720 with 2 Axes>"
      ]
     },
     "metadata": {
      "needs_background": "light"
     },
     "output_type": "display_data"
    }
   ],
   "source": [
    "k = 'CK2A1'\n",
    "\n",
    "PP_k = PP.query(f'kinase_paper==\"{k}\"')\n",
    "LS_k = LS.query(f'kinase_paper==\"{k}\"')\n",
    "\n",
    "# drop duplicates\n",
    "PP_k = PP_k.drop_duplicates(subset = 'SUB')\n",
    "LS_k = LS_k.drop_duplicates(subset = 'SUB')\n",
    "\n",
    "PP_paper, PP_full = get_freq(PP_k)\n",
    "LS_paper, LS_full = get_freq(LS_k)\n",
    "\n",
    "\n",
    "plot_heatmap(PP_paper,f'{k}_PP')\n",
    "plot_heatmap(LS_paper,f'{k}_LS')"
   ]
  },
  {
   "cell_type": "code",
   "execution_count": null,
   "id": "8d0a0d21-e5cc-44a8-85a3-149386ad2821",
   "metadata": {},
   "outputs": [],
   "source": []
  }
 ],
 "metadata": {
  "kernelspec": {
   "display_name": "python3",
   "language": "python",
   "name": "python3"
  }
 },
 "nbformat": 4,
 "nbformat_minor": 5
}
