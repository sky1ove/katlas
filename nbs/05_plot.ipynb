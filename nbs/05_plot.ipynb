{
 "cells": [
  {
   "cell_type": "markdown",
   "metadata": {},
   "source": [
    "# Plot\n",
    "\n",
    "> Functions to plot motif logo, heatmap, scatter plot, and others."
   ]
  },
  {
   "cell_type": "markdown",
   "metadata": {},
   "source": [
    "## Setup"
   ]
  },
  {
   "cell_type": "code",
   "execution_count": null,
   "metadata": {},
   "outputs": [],
   "source": [
    "#|default_exp plot"
   ]
  },
  {
   "cell_type": "code",
   "execution_count": null,
   "metadata": {},
   "outputs": [],
   "source": [
    "#| export\n",
    "import joblib,logomaker\n",
    "import pandas as pd, numpy as np, seaborn as sns\n",
    "from adjustText import adjust_text\n",
    "from pathlib import Path\n",
    "from tqdm import tqdm\n",
    "from fastcore.meta import delegates\n",
    "\n",
    "from scipy.stats import spearmanr, pearsonr\n",
    "from sklearn.metrics import confusion_matrix\n",
    "from matplotlib import pyplot as plt\n",
    "from matplotlib.ticker import MultipleLocator\n",
    "from numpy import trapz\n",
    "\n",
    "# Katlas\n",
    "from katlas.feature import *\n",
    "from katlas.data import *\n",
    "\n",
    "# Bokeh\n",
    "from bokeh.io import output_notebook, show\n",
    "from bokeh.plotting import figure, ColumnDataSource\n",
    "from bokeh.models import HoverTool, AutocompleteInput, CustomJS\n",
    "from bokeh.layouts import column\n",
    "from bokeh.palettes import Category20_20\n",
    "from itertools import cycle\n",
    "import math\n",
    "\n",
    "# Dimension Reduction\n",
    "from sklearn import set_config\n",
    "from sklearn.decomposition import PCA\n",
    "from sklearn.manifold import TSNE\n",
    "from umap.umap_ import UMAP\n",
    "\n",
    "from sklearn.metrics import pairwise_distances\n",
    "\n",
    "import matplotlib.ticker as mticker\n",
    "\n",
    "import matplotlib as mpl"
   ]
  },
  {
   "cell_type": "markdown",
   "metadata": {},
   "source": [
    "## Utils"
   ]
  },
  {
   "cell_type": "code",
   "execution_count": null,
   "metadata": {},
   "outputs": [],
   "source": [
    "#| export\n",
    "def set_sns(dpi=300):\n",
    "    \"Set seaborn resolution for notebook display\"\n",
    "    sns.set(rc={\"figure.dpi\":dpi, 'savefig.dpi':dpi}) # savefig.dpi is ignored when saved in svg or pdf\n",
    "    sns.set_context('notebook')\n",
    "    sns.set_style(\"ticks\")"
   ]
  },
  {
   "cell_type": "code",
   "execution_count": null,
   "metadata": {},
   "outputs": [],
   "source": [
    "#| export\n",
    "def save_svg(path): \n",
    "    plt.rcParams['svg.fonttype'] = 'none'\n",
    "    plt.rcParams['font.family'] = 'Arial'\n",
    "    return plt.savefig(path, format='svg', bbox_inches='tight',transparent=True)"
   ]
  },
  {
   "cell_type": "code",
   "execution_count": null,
   "metadata": {},
   "outputs": [],
   "source": [
    "#| export\n",
    "def save_pdf(path): \n",
    "    mpl.rcParams['pdf.fonttype'] = 42  # Use TrueType fonts for Illustrator compatibility\n",
    "    mpl.rcParams['ps.fonttype'] = 42   # Also good for EPS, if needed\n",
    "    plt.savefig(path, format='pdf', bbox_inches='tight',transparent=True)"
   ]
  },
  {
   "cell_type": "code",
   "execution_count": null,
   "metadata": {},
   "outputs": [],
   "source": [
    "#| export\n",
    "def save_show(path=None, # image path, e.g., img.svg, if not None, will save, else plt.show()\n",
    "              show_only=False,\n",
    "             ):\n",
    "    \"Show plot or save path\"\n",
    "    if show_only: plt.show()\n",
    "    elif path is not None: plt.savefig(path, bbox_inches='tight', pad_inches=0.05,transparent=True)\n",
    "    else: plt.show()\n",
    "    plt.close()"
   ]
  },
  {
   "cell_type": "markdown",
   "metadata": {},
   "source": [
    "## Color/palette"
   ]
  },
  {
   "cell_type": "code",
   "execution_count": null,
   "metadata": {},
   "outputs": [],
   "source": [
    "#| export\n",
    "def get_color_dict(categories, # list of names to assign color\n",
    "                   palette: str='tab20', # choose from sns.color_palette\n",
    "                   ):\n",
    "    \"Assign colors to a list of names (allow duplicates), returns a dictionary of unique name with corresponding color\"\n",
    "    p=sns.color_palette(palette)\n",
    "    color_cycle = cycle(p)\n",
    "    color_map = {category: next(color_cycle) for category in categories}\n",
    "    return color_map"
   ]
  },
  {
   "cell_type": "code",
   "execution_count": null,
   "metadata": {},
   "outputs": [],
   "source": [
    "#| export\n",
    "sty_color=get_color_dict(['S','T','Y'])"
   ]
  },
  {
   "cell_type": "code",
   "execution_count": null,
   "metadata": {},
   "outputs": [],
   "source": [
    "info = Data.get_kinase_info()"
   ]
  },
  {
   "cell_type": "code",
   "execution_count": null,
   "metadata": {},
   "outputs": [
    {
     "data": {
      "text/plain": [
       "Index(['TK', 'CAMK', 'Other', 'CMGC', 'AGC', 'STE', 'TKL', 'Atypical', 'CK1',\n",
       "       'NEK', 'RGC'],\n",
       "      dtype='object', name='modi_group')"
      ]
     },
     "execution_count": null,
     "metadata": {},
     "output_type": "execute_result"
    }
   ],
   "source": [
    "info.modi_group.value_counts().index"
   ]
  },
  {
   "cell_type": "code",
   "execution_count": null,
   "metadata": {},
   "outputs": [],
   "source": [
    "#| export\n",
    "group_color=get_color_dict(\n",
    "            ['CMGC','AGC', # blue\n",
    "             'TK','TKL', # orange\n",
    "             'CAMK','STE', # green\n",
    "             'CK1', 'NEK', # red\n",
    "             'Atypical','Other', # purple\n",
    "             'RGC'\n",
    "            ]\n",
    ")"
   ]
  },
  {
   "cell_type": "code",
   "execution_count": null,
   "metadata": {},
   "outputs": [
    {
     "data": {
      "text/plain": [
       "Index(['Basophilic', 'Pro-directed', 'Acidophilic', 'Map3k', 'Map4k',\n",
       "       'Alpha/mlk', 'Fgf and vegf receptors', 'Assorted', 'Ripk/wnk', 'Pkc',\n",
       "       'Ephrin receptors', 'Eif2ak/tlk', 'Nek/ask', 'Pdgf receptors', 'Src',\n",
       "       'Jak', 'Tam receptors', 'Cmgc', 'Tec', 'Ulk/ttbk'],\n",
       "      dtype='object', name='pspa_category_big')"
      ]
     },
     "execution_count": null,
     "metadata": {},
     "output_type": "execute_result"
    }
   ],
   "source": [
    "info.pspa_category_big.str.split('_').str[0].value_counts()[:20].index"
   ]
  },
  {
   "cell_type": "code",
   "execution_count": null,
   "metadata": {},
   "outputs": [],
   "source": [
    "#| export\n",
    "pspa_category_color = get_color_dict(['Basophilic', 'Pro-directed', 'Acidophilic', 'Map3k', 'Map4k',\n",
    "       'Alpha/mlk', 'Fgf and vegf receptors', 'Assorted', 'Ripk/wnk', 'Pkc',\n",
    "       'Ephrin receptors', 'Eif2ak/tlk', 'Nek/ask', 'Pdgf receptors', 'Src',\n",
    "       'Jak', 'Ulk/ttbk', 'Cmgc', 'Tec', 'Tam receptors'])"
   ]
  },
  {
   "cell_type": "markdown",
   "metadata": {},
   "source": [
    "Sometimes plot functions do not take dict of colors but list of colors:"
   ]
  },
  {
   "cell_type": "code",
   "execution_count": null,
   "metadata": {},
   "outputs": [],
   "source": [
    "#| export\n",
    "def get_plt_color(palette, # dict, list, or set name (tab10)\n",
    "                  columns, # columns in the df for plot\n",
    "                 ):\n",
    "    \"Given a dict, list or set name, return the list of names; if dict, need to provide column names of the df.\"\n",
    "    if isinstance(palette, dict):\n",
    "        # Match colors to column order in pct_df\n",
    "        colors = [palette.get(col, '#cccccc') for col in columns]  # fallback color if missing\n",
    "    elif isinstance(palette, str):\n",
    "        colors = sns.color_palette(palette, n_colors=len(columns))\n",
    "    elif isinstance(palette, list):\n",
    "        colors = palette\n",
    "    return colors"
   ]
  },
  {
   "cell_type": "code",
   "execution_count": null,
   "metadata": {},
   "outputs": [
    {
     "data": {
      "text/html": [
       "<svg  width=\"110\" height=\"55\"><rect x=\"0\" y=\"0\" width=\"55\" height=\"55\" style=\"fill:#66c2a5;stroke-width:2;stroke:rgb(255,255,255)\"/><rect x=\"55\" y=\"0\" width=\"55\" height=\"55\" style=\"fill:#fc8d62;stroke-width:2;stroke:rgb(255,255,255)\"/></svg>"
      ],
      "text/plain": [
       "[(0.4, 0.7607843137254902, 0.6470588235294118),\n",
       " (0.9882352941176471, 0.5529411764705883, 0.3843137254901961)]"
      ]
     },
     "execution_count": null,
     "metadata": {},
     "output_type": "execute_result"
    }
   ],
   "source": [
    "get_plt_color('Set2',['a','b'])"
   ]
  },
  {
   "cell_type": "code",
   "execution_count": null,
   "metadata": {},
   "outputs": [],
   "source": [
    "#| export\n",
    "def get_hue_big(df,\n",
    "                hue_col, # column of hue\n",
    "                cnt_thr=10, # higher or equal to this threshold will be considered\n",
    "               ):\n",
    "    \"Get part of hue according to its value counts; applied when the groups are too many.\"\n",
    "    cnt = df[hue_col].value_counts()\n",
    "    names = cnt[cnt>=cnt_thr].index\n",
    "    return df[hue_col][df[hue_col].isin(names)]"
   ]
  },
  {
   "cell_type": "markdown",
   "metadata": {},
   "source": [
    "When the categories are too many to show on the plot, we can filter and only show those big categories:"
   ]
  },
  {
   "cell_type": "code",
   "execution_count": null,
   "metadata": {},
   "outputs": [
    {
     "data": {
      "text/plain": [
       "5      Acidophilic\n",
       "6      Acidophilic\n",
       "11      Basophilic\n",
       "12      Basophilic\n",
       "13      Basophilic\n",
       "          ...     \n",
       "516    Acidophilic\n",
       "517    Acidophilic\n",
       "519          Map4k\n",
       "520          Map3k\n",
       "521          Map3k\n",
       "Name: pspa_category_big, Length: 294, dtype: object"
      ]
     },
     "execution_count": null,
     "metadata": {},
     "output_type": "execute_result"
    }
   ],
   "source": [
    "hue_big=get_hue_big(info,'pspa_category_big',10)\n",
    "hue_big"
   ]
  },
  {
   "cell_type": "code",
   "execution_count": null,
   "metadata": {},
   "outputs": [],
   "source": [
    "# plot_2d(embed,hue=hue_pspa,hue_title='PSPA category',palette='tab20')"
   ]
  },
  {
   "cell_type": "markdown",
   "metadata": {},
   "source": [
    "## Dimensionality reduction"
   ]
  },
  {
   "cell_type": "code",
   "execution_count": null,
   "metadata": {},
   "outputs": [],
   "source": [
    "#| export\n",
    "def reduce_feature(df: pd.DataFrame, \n",
    "                   method: str='pca', # dimensionality reduction method, accept both capital and lower case\n",
    "                   complexity: int=20, # None for PCA; perfplexity for TSNE, recommend: 30; n_neigbors for UMAP, recommend: 15\n",
    "                   n: int=2, # n_components\n",
    "                   load: str=None, # load a previous model, e.g. model.pkl\n",
    "                   save: str=None, # pkl file to be saved, e.g. pca_model.pkl\n",
    "                   seed: int=123, # seed for random_state\n",
    "                   **kwargs, # arguments from PCA, TSNE, or UMAP depends on which method to use\n",
    "                  ):\n",
    "    \n",
    "    \"Reduce the dimensionality given a dataframe of values\"\n",
    "    \n",
    "    method = method.lower()\n",
    "    assert method in ['pca','tsne','umap'], \"Please choose a method among PCA, TSNE, and UMAP\"\n",
    "    \n",
    "    if load is not None:\n",
    "        reducer = joblib.load(load)\n",
    "    else:\n",
    "        if method == 'pca':\n",
    "            reducer = PCA(n_components=n, random_state=seed,**kwargs)\n",
    "        elif method == 'tsne':\n",
    "            reducer = TSNE(n_components=n,\n",
    "                           random_state=seed, \n",
    "                           perplexity = complexity, # default from official is 30 \n",
    "                          **kwargs)\n",
    "        elif method == 'umap':\n",
    "            reducer = UMAP(n_components=n, \n",
    "                           random_state=seed, \n",
    "                           n_neighbors=complexity, # default from official is 15, try 15-200\n",
    "                          **kwargs)\n",
    "        else:\n",
    "            raise ValueError('Invalid method specified')\n",
    "\n",
    "    proj = reducer.fit_transform(df)\n",
    "    embedding_df = pd.DataFrame(proj).set_index(df.index)\n",
    "    embedding_df.columns = [f\"{method.upper()}{i}\" for i in range(1, n + 1)]\n",
    "\n",
    "    if save is not None:\n",
    "        path = Path(save)\n",
    "        path.parent.mkdir(exist_ok=True)\n",
    "        \n",
    "        joblib.dump(reducer, save)\n",
    "\n",
    "    return embedding_df"
   ]
  },
  {
   "cell_type": "markdown",
   "metadata": {},
   "source": [
    "A very common way to reduce feature number is to use dimensionality reduction method. `reduce_feature` is a dimensionality reduction function that can apply three dimensionality reduction methods: PCA, UMAP, TSNE. The later two is non-linear transformation, and PCA is linear transformation. Therefore, for plotting purpose, it is good to use UMAP/TSNE, by setting n (n_components) to 2 for 2d plot; for featuring purpose, it is good to use PCA, and set n to values to a rational values, like 64, 128 etc. "
   ]
  },
  {
   "cell_type": "code",
   "execution_count": null,
   "metadata": {},
   "outputs": [
    {
     "data": {
      "text/html": [
       "<div>\n",
       "<style scoped>\n",
       "    .dataframe tbody tr th:only-of-type {\n",
       "        vertical-align: middle;\n",
       "    }\n",
       "\n",
       "    .dataframe tbody tr th {\n",
       "        vertical-align: top;\n",
       "    }\n",
       "\n",
       "    .dataframe thead th {\n",
       "        text-align: right;\n",
       "    }\n",
       "</style>\n",
       "<table border=\"1\" class=\"dataframe\">\n",
       "  <thead>\n",
       "    <tr style=\"text-align: right;\">\n",
       "      <th></th>\n",
       "      <th>PCA1</th>\n",
       "      <th>PCA2</th>\n",
       "    </tr>\n",
       "    <tr>\n",
       "      <th>aa</th>\n",
       "      <th></th>\n",
       "      <th></th>\n",
       "    </tr>\n",
       "  </thead>\n",
       "  <tbody>\n",
       "    <tr>\n",
       "      <th>A</th>\n",
       "      <td>-0.954819</td>\n",
       "      <td>-0.953761</td>\n",
       "    </tr>\n",
       "    <tr>\n",
       "      <th>C</th>\n",
       "      <td>-0.041108</td>\n",
       "      <td>0.205091</td>\n",
       "    </tr>\n",
       "    <tr>\n",
       "      <th>D</th>\n",
       "      <td>-0.087707</td>\n",
       "      <td>0.245634</td>\n",
       "    </tr>\n",
       "    <tr>\n",
       "      <th>E</th>\n",
       "      <td>-0.271097</td>\n",
       "      <td>1.023801</td>\n",
       "    </tr>\n",
       "    <tr>\n",
       "      <th>F</th>\n",
       "      <td>2.253264</td>\n",
       "      <td>-0.251185</td>\n",
       "    </tr>\n",
       "  </tbody>\n",
       "</table>\n",
       "</div>"
      ],
      "text/plain": [
       "        PCA1      PCA2\n",
       "aa                    \n",
       "A  -0.954819 -0.953761\n",
       "C  -0.041108  0.205091\n",
       "D  -0.087707  0.245634\n",
       "E  -0.271097  1.023801\n",
       "F   2.253264 -0.251185"
      ]
     },
     "execution_count": null,
     "metadata": {},
     "output_type": "execute_result"
    }
   ],
   "source": [
    "# Load data\n",
    "df=Data.get_aa_morgan()\n",
    "\n",
    "# Use PCA to reduce dimension; reduce the number of features to 20\n",
    "feat = reduce_feature(df,'pca',n=2)\n",
    "feat.head()"
   ]
  },
  {
   "cell_type": "markdown",
   "metadata": {},
   "source": [
    "## 2D scatter plot"
   ]
  },
  {
   "cell_type": "code",
   "execution_count": null,
   "metadata": {},
   "outputs": [],
   "source": [
    "# #| export\n",
    "# @delegates(sns.scatterplot)\n",
    "# def plot_2d(X: pd.DataFrame, # a dataframe that has first column to be x, and second column to be y\n",
    "#             hue_title=None, # legend box title\n",
    "#             hue_order=None,\n",
    "#             figsize=(7,7),\n",
    "#             **kwargs, # arguments for sns.scatterplot\n",
    "#             ):\n",
    "#     \"\"\"\n",
    "#     Make 2D plot from a dataframe that has first column to be x, and second column to be y.\n",
    "#     Legend box on the right.\n",
    "#     \"\"\"\n",
    "#     fig, ax = plt.subplots(figsize=figsize)\n",
    "#     hue_data = kwargs.get('hue')\n",
    "#     if hue_data is not None and hue_order is not None: \n",
    "#         # Filter hue_order to only include present labels\n",
    "#         hue_order = [k for k in hue_order if k in pd.Series(hue_data).unique()]\n",
    "#     sns.scatterplot(data=X, \n",
    "#                     x=X.columns[0], y=X.columns[1], \n",
    "#                     hue_order=hue_order,\n",
    "#                     alpha=0.7, ax=ax, **kwargs)\n",
    "#     # have legend box on the right\n",
    "#     if hue_data is not None: ax.legend(title=hue_title, loc='center left', bbox_to_anchor=(1.02, 0.5))"
   ]
  },
  {
   "cell_type": "code",
   "execution_count": null,
   "metadata": {},
   "outputs": [],
   "source": [
    "#| export\n",
    "def plot_2d(\n",
    "    embedding_df: pd.DataFrame,  # a dataframe of values that is waited for dimensionality reduction\n",
    "    hue: str = None,  # colname of color\n",
    "    complexity: int = 30,  # this argument does not affect pca but others; recommend 30 for tsne, 15 for umap\n",
    "    palette: str = 'tab20',  # color scheme, could be tab10 if less categories\n",
    "    legend: bool = False,  # whether or not add the legend on the side\n",
    "    name_list=None,  # a list of names to annotate each dot in the plot\n",
    "    seed: int = 123,  # seed for dimensionality reduction\n",
    "    s: int = 20,  # size of the dot\n",
    "    legend_title: str = None,  # new argument to override legend title\n",
    "    **kwargs  # arguments for dimensional reduction method to be used\n",
    "):\n",
    "    \"\"\"\n",
    "    Given a dataframe of values, plot it in 2D. \n",
    "    The method could be 'pca', 'tsne', or 'umap'.\n",
    "    \"\"\"\n",
    "    x_col, y_col = embedding_df.columns \n",
    "    \n",
    "    g = sns.relplot(\n",
    "        data=embedding_df, x=x_col, y=y_col, hue=hue, palette=palette, s=s, alpha=0.8, legend=legend\n",
    "    )\n",
    "    plt.xticks([])\n",
    "    plt.yticks([])\n",
    "\n",
    "    # Override legend title if specified\n",
    "    if legend and legend_title is not None:\n",
    "        if g._legend is not None:\n",
    "            g._legend.set_title(legend_title)\n",
    "\n",
    "    # Add text annotations\n",
    "    if name_list is not None:\n",
    "        ax = g.ax\n",
    "        texts = [\n",
    "            ax.text(\n",
    "                embedding_df[x_col].iloc[i], embedding_df[y_col].iloc[i], str(name_list[i]), fontsize=8\n",
    "            ) for i in range(len(embedding_df))\n",
    "        ]\n",
    "        adjust_text(texts, arrowprops=dict(arrowstyle='-', color='black'))"
   ]
  },
  {
   "cell_type": "code",
   "execution_count": null,
   "metadata": {},
   "outputs": [
    {
     "name": "stderr",
     "output_type": "stream",
     "text": [
      "/tmp/ipykernel_217522/600276515.py:20: UserWarning: Ignoring `palette` because no `hue` variable has been assigned.\n",
      "  g = sns.relplot(\n"
     ]
    },
    {
     "data": {
      "image/png": "[encoded data removed]",
      "text/plain": [
       "<Figure size 500x500 with 1 Axes>"
      ]
     },
     "metadata": {},
     "output_type": "display_data"
    }
   ],
   "source": [
    "plot_2d(feat)"
   ]
  },
  {
   "cell_type": "markdown",
   "metadata": {},
   "source": [
    "## Dimensionality reduction + 2d plot"
   ]
  },
  {
   "cell_type": "code",
   "execution_count": null,
   "metadata": {},
   "outputs": [],
   "source": [
    "#| export\n",
    "def plot_cluster(\n",
    "    df: pd.DataFrame,  # a dataframe of values that is waited for dimensionality reduction\n",
    "    method: str = 'pca',  # dimensionality reduction method, choose from pca, umap, and tsne\n",
    "    hue: str = None,  # colname of color\n",
    "    complexity: int = 30,  # this argument does not affect pca but others; recommend 30 for tsne, 15 for umap\n",
    "    palette: str = 'tab20',  # color scheme, could be tab10 if less categories\n",
    "    legend: bool = False,  # whether or not add the legend on the side\n",
    "    name_list=None,  # a list of names to annotate each dot in the plot\n",
    "    seed: int = 123,  # seed for dimensionality reduction\n",
    "    s: int = 50,  # size of the dot\n",
    "    legend_title: str = None,  # new argument to override legend title\n",
    "    **kwargs  # arguments for dimensional reduction method to be used\n",
    "):\n",
    "    \"\"\"\n",
    "    Given a dataframe of values, plot it in 2D. \n",
    "    The method could be 'pca', 'tsne', or 'umap'.\n",
    "    \"\"\"\n",
    "    \n",
    "    embedding_df = reduce_feature(df, method=method, seed=seed, complexity=complexity, **kwargs)\n",
    "    x_col, y_col = embedding_df.columns \n",
    "    \n",
    "    g = sns.relplot(\n",
    "        data=embedding_df, x=x_col, y=y_col, hue=hue, palette=palette, s=s, alpha=0.8, legend=legend\n",
    "    )\n",
    "    plt.xticks([])\n",
    "    plt.yticks([])\n",
    "\n",
    "    # Override legend title if specified\n",
    "    if legend and legend_title is not None:\n",
    "        if g._legend is not None:\n",
    "            g._legend.set_title(legend_title)\n",
    "\n",
    "    # Add text annotations\n",
    "    if name_list is not None:\n",
    "        ax = g.ax\n",
    "        texts = [\n",
    "            ax.text(\n",
    "                embedding_df[x_col].iloc[i], embedding_df[y_col].iloc[i], str(name_list[i]), fontsize=8\n",
    "            ) for i in range(len(embedding_df))\n",
    "        ]\n",
    "        adjust_text(texts, arrowprops=dict(arrowstyle='-', color='black'))"
   ]
  },
  {
   "cell_type": "code",
   "execution_count": null,
   "metadata": {},
   "outputs": [
    {
     "name": "stdout",
     "output_type": "stream",
     "text": [
      "removing columns: {'MolMR', 'fr_sulfonamd', 'fr_Ar_COO', 'PEOE_VSA13', 'fr_term_acetylene', 'fr_benzene', 'SMR_VSA2', 'fr_dihydropyridine', 'fr_Ar_OH', 'SlogP_VSA7', 'fr_ArN', 'fr_Ndealkylation2', 'fr_piperzine', 'MaxEStateIndex', 'fr_lactone', 'SMR_VSA8', 'fr_barbitur', 'fr_alkyl_carbamate', 'fr_oxazole', 'fr_halogen', 'NumBridgeheadAtoms', 'BCUT2D_MRHI', 'NumAmideBonds', 'fr_guanido', 'fr_alkyl_halide', 'fr_diazo', 'fr_morpholine', 'fr_nitro', 'fr_benzodiazepine', 'SlogP_VSA10', 'fr_Nhpyrrole', 'Chi1n', 'SlogP_VSA6', 'NumRadicalElectrons', 'fr_allylic_oxid', 'fr_isocyan', 'NumValenceElectrons', 'fr_aryl_methyl', 'fr_C_O_noCOO', 'fr_aniline', 'VSA_EState1', 'fr_isothiocyan', 'fr_ketone', 'fr_ester', 'HeavyAtomCount', 'fr_pyridine', 'Asphericity', 'fr_C_S', 'NumAliphaticCarbocycles', 'fr_ether', 'PEOE_VSA5', 'fr_aldehyde', 'NumAliphaticRings', 'fr_azide', 'fr_hdrzone', 'fr_Ndealkylation1', 'fr_thiocyan', 'MinAbsPartialCharge', 'fr_N_O', 'fr_phos_acid', 'SlogP_VSA12', 'NumSaturatedHeterocycles', 'fr_COO', 'fr_urea', 'fr_hdrzine', 'fr_nitroso', 'fr_phenol_noOrthoHbond', 'fr_thiazole', 'fr_epoxide', 'fr_Ar_NH', 'ExactMolWt', 'fr_phenol', 'fr_nitro_arom', 'fr_quatN', 'NumSpiroAtoms', 'fr_para_hydroxylation', 'fr_Imine', 'fr_prisulfonamd', 'fr_azo', 'fr_phos_ester', 'SlogP_VSA11', 'fr_bicyclic', 'fr_imide', 'fr_HOCCN', 'fr_methoxy', 'fr_tetrazole', 'fr_amide', 'Chi0', 'EState_VSA11', 'fr_ketone_Topliss', 'fr_amidine', 'fr_furan', 'NumSaturatedRings', 'MaxPartialCharge', 'fr_nitrile', 'fr_lactam', 'LabuteASA', 'NumSaturatedCarbocycles', 'PMI3', 'HeavyAtomMolWt', 'fr_Al_OH_noTert', 'fr_thiophene', 'fr_nitro_arom_nonortho', 'Eccentricity', 'fr_piperdine', 'SlogP_VSA9', 'fr_COO2', 'fr_oxime', 'fr_sulfone'}\n",
      "removing columns: set()\n"
     ]
    }
   ],
   "source": [
    "# load data\n",
    "aa = Data.get_aa_info()\n",
    "aa_rdkit = get_rdkit_df(aa, 'SMILES') # get rdkit features from SMILES columns\n",
    "aa_rdkit = preprocess(aa_rdkit) # remove similar columns\n",
    "info=Data.get_aa_info()"
   ]
  },
  {
   "cell_type": "code",
   "execution_count": null,
   "metadata": {},
   "outputs": [
    {
     "data": {
      "image/png": "[encoded data removed]",
      "text/plain": [
       "<Figure size 500x500 with 1 Axes>"
      ]
     },
     "metadata": {},
     "output_type": "display_data"
    }
   ],
   "source": [
    "plot_cluster(aa_rdkit, name_list = aa.Name.tolist(), hue = 'aa')"
   ]
  },
  {
   "cell_type": "markdown",
   "metadata": {},
   "source": [
    "## Bokeh interactive plot"
   ]
  },
  {
   "cell_type": "code",
   "execution_count": null,
   "metadata": {},
   "outputs": [],
   "source": [
    "#| export\n",
    "def plot_bokeh(X:pd.DataFrame, # a dataframe of two columns from dimensionality reduction\n",
    "               idx, # pd.Series or list that indicates identities for searching box\n",
    "               hue:None, # pd.Series or list that indicates category for each sample\n",
    "               s: int=3, # dot size\n",
    "               **kwargs # key:args format for information to include in the dot information box\n",
    "               ):\n",
    "    \n",
    "    \"Make interactive 2D plot with a searching box and window of dot information when pointing \"\n",
    "        \n",
    "    output_notebook()\n",
    "    \n",
    "    idx = list(idx)\n",
    "    hue = list(hue)\n",
    "    \n",
    "    def assign_colors(categories, palette):\n",
    "        \"assign each unique name in a list with a color, returns a color list of same length\"\n",
    "        color_cycle = cycle(palette)\n",
    "        color_map = {category: next(color_cycle) for category in categories}\n",
    "        return [color_map[category] for category in categories]\n",
    "    \n",
    "    if hue is not None:\n",
    "        colors  = assign_colors(hue, Category20_20) \n",
    "    else:\n",
    "        colors = ['navy'] * len(X)\n",
    "    \n",
    "    data_dict={\n",
    "    'x': X.iloc[:,0],\n",
    "    'y': X.iloc[:,1],\n",
    "    'identity': idx,\n",
    "    'color': colors,\n",
    "    'original_color': colors,\n",
    "    'size': [s] * len(X), \n",
    "    'highlighted': ['no'] * len(X)  # To keep track of which dot is highlighted\n",
    "    }\n",
    "    \n",
    "    for key, value in kwargs.items():\n",
    "        data_dict[key] = value\n",
    "    \n",
    "    source = ColumnDataSource(data=data_dict)\n",
    "    \n",
    "    p = figure(tools=\"pan,box_zoom,wheel_zoom,reset\")\n",
    "    p.scatter('x', 'y', source=source, alpha=0.6, color='color', size='size')\n",
    "\n",
    "    # Disable grid lines\n",
    "    p.xgrid.visible = False\n",
    "    p.ygrid.visible = False\n",
    "    \n",
    "    # Add hover tool\n",
    "    hover = HoverTool()\n",
    "    \n",
    "    tooltips = [(\"Identity\", \"@identity\")]\n",
    "\n",
    "    for key in kwargs.keys():\n",
    "        tooltips.append((key, f\"@{key}\"))\n",
    "\n",
    "    \n",
    "    hover.tooltips = tooltips\n",
    "    p.add_tools(hover)\n",
    "    \n",
    "    \n",
    "    autocomplete = AutocompleteInput(title=\"Search by Identity:\", completions=idx)\n",
    "\n",
    "    callback = CustomJS(args=dict(source=source, plot=p), code=\"\"\"\n",
    "        const data = source.data;\n",
    "        const search_val = cb_obj.value.toLowerCase();\n",
    "        const x = data['x'];\n",
    "        const y = data['y'];\n",
    "        const identity = data['identity'];\n",
    "        const color = data['color'];\n",
    "        const original_color = data['original_color'];\n",
    "        const size = data['size'];\n",
    "        const highlighted = data['highlighted'];\n",
    "\n",
    "        for (let i = 0; i < identity.length; i++) {\n",
    "            if (highlighted[i] === 'yes') {\n",
    "                color[i] = original_color[i];\n",
    "                size[i] = 10;\n",
    "                highlighted[i] = 'no';\n",
    "            }\n",
    "            if (identity[i].toLowerCase() === search_val) {\n",
    "                plot.x_range.start = x[i] - 5;\n",
    "                plot.x_range.end = x[i] + 5;\n",
    "                plot.y_range.start = y[i] - 5;\n",
    "                plot.y_range.end = y[i] + 5;\n",
    "                color[i] = 'red';\n",
    "                size[i] = 15;\n",
    "                highlighted[i] = 'yes';\n",
    "            }\n",
    "        }\n",
    "        source.change.emit();\n",
    "    \"\"\")\n",
    "    autocomplete.js_on_change('value', callback)\n",
    "\n",
    "    # Show layout\n",
    "    layout = column(autocomplete, p)\n",
    "    show(layout)"
   ]
  },
  {
   "cell_type": "code",
   "execution_count": null,
   "metadata": {},
   "outputs": [
    {
     "data": {
      "text/html": [
       "    <style>\n",
       "        .bk-notebook-logo {\n",
       "            display: block;\n",
       "            width: 20px;\n",
       "            height: 20px;\n",
       "            background-image: url(data:image/png;base64,iVBORw0KGgoAAAANSUhEUgAAABQAAAAUCAYAAACNiR0NAAAABHNCSVQICAgIfAhkiAAAAAlwSFlzAAALEgAACxIB0t1+/AAAABx0RVh0U29mdHdhcmUAQWRvYmUgRmlyZXdvcmtzIENTNui8sowAAAOkSURBVDiNjZRtaJVlGMd/1/08zzln5zjP1LWcU9N0NkN8m2CYjpgQYQXqSs0I84OLIC0hkEKoPtiH3gmKoiJDU7QpLgoLjLIQCpEsNJ1vqUOdO7ppbuec5+V+rj4ctwzd8IIbbi6u+8f1539dt3A78eXC7QizUF7gyV1fD1Yqg4JWz84yffhm0qkFqBogB9rM8tZdtwVsPUhWhGcFJngGeWrPzHm5oaMmkfEg1usvLFyc8jLRqDOMru7AyC8saQr7GG7f5fvDeH7Ej8CM66nIF+8yngt6HWaKh7k49Soy9nXurCi1o3qUbS3zWfrYeQDTB/Qj6kX6Ybhw4B+bOYoLKCC9H3Nu/leUTZ1JdRWkkn2ldcCamzrcf47KKXdAJllSlxAOkRgyHsGC/zRday5Qld9DyoM4/q/rUoy/CXh3jzOu3bHUVZeU+DEn8FInkPBFlu3+nW3Nw0mk6vCDiWg8CeJaxEwuHS3+z5RgY+YBR6V1Z1nxSOfoaPa4LASWxxdNp+VWTk7+4vzaou8v8PN+xo+KY2xsw6une2frhw05CTYOmQvsEhjhWjn0bmXPjpE1+kplmmkP3suftwTubK9Vq22qKmrBhpY4jvd5afdRA3wGjFAgcnTK2s4hY0/GPNIb0nErGMCRxWOOX64Z8RAC4oCXdklmEvcL8o0BfkNK4lUg9HTl+oPlQxdNo3Mg4Nv175e/1LDGzZen30MEjRUtmXSfiTVu1kK8W4txyV6BMKlbgk3lMwYCiusNy9fVfvvwMxv8Ynl6vxoByANLTWplvuj/nF9m2+PDtt1eiHPBr1oIfhCChQMBw6Aw0UulqTKZdfVvfG7VcfIqLG9bcldL/+pdWTLxLUy8Qq38heUIjh4XlzZxzQm19lLFlr8vdQ97rjZVOLf8nclzckbcD4wxXMidpX30sFd37Fv/GtwwhzhxGVAprjbg0gCAEeIgwCZyTV2Z1REEW8O4py0wsjeloKoMr6iCY6dP92H6Vw/oTyICIthibxjm/DfN9lVz8IqtqKYLUXfoKVMVQVVJOElGjrnnUt9T9wbgp8AyYKaGlqingHZU/uG2NTZSVqwHQTWkx9hxjkpWDaCg6Ckj5qebgBVbT3V3NNXMSiWSDdGV3hrtzla7J+duwPOToIg42ChPQOQjspnSlp1V+Gjdged7+8UN5CRAV7a5EdFNwCjEaBR27b3W890TE7g24NAP/mMDXRWrGoFPQI9ls/MWO2dWFAar/xcOIImbbpA3zgAAAABJRU5ErkJggg==);\n",
       "        }\n",
       "    </style>\n",
       "    <div>\n",
       "        <a href=\"https://bokeh.org\" target=\"_blank\" class=\"bk-notebook-logo\"></a>\n",
       "        <span id=\"d1e99385-10a4-443c-9cf5-4422c4729005\">Loading BokehJS ...</span>\n",
       "    </div>\n"
      ]
     },
     "metadata": {},
     "output_type": "display_data"
    },
    {
     "data": {
      "application/javascript": [
       "'use strict';\n",
       "(function(root) {\n",
       "  function now() {\n",
       "    return new Date();\n",
       "  }\n",
       "\n",
       "  const force = true;\n",
       "\n",
       "  if (typeof root._bokeh_onload_callbacks === \"undefined\" || force === true) {\n",
       "    root._bokeh_onload_callbacks = [];\n",
       "    root._bokeh_is_loading = undefined;\n",
       "  }\n",
       "\n",
       "const JS_MIME_TYPE = 'application/javascript';\n",
       "  const HTML_MIME_TYPE = 'text/html';\n",
       "  const EXEC_MIME_TYPE = 'application/vnd.bokehjs_exec.v0+json';\n",
       "  const CLASS_NAME = 'output_bokeh rendered_html';\n",
       "\n",
       "  /**\n",
       "   * Render data to the DOM node\n",
       "   */\n",
       "  function render(props, node) {\n",
       "    const script = document.createElement(\"script\");\n",
       "    node.appendChild(script);\n",
       "  }\n",
       "\n",
       "  /**\n",
       "   * Handle when an output is cleared or removed\n",
       "   */\n",
       "  function handleClearOutput(event, handle) {\n",
       "    function drop(id) {\n",
       "      const view = Bokeh.index.get_by_id(id)\n",
       "      if (view != null) {\n",
       "        view.model.document.clear()\n",
       "        Bokeh.index.delete(view)\n",
       "      }\n",
       "    }\n",
       "\n",
       "    const cell = handle.cell;\n",
       "\n",
       "    const id = cell.output_area._bokeh_element_id;\n",
       "    const server_id = cell.output_area._bokeh_server_id;\n",
       "\n",
       "    // Clean up Bokeh references\n",
       "    if (id != null) {\n",
       "      drop(id)\n",
       "    }\n",
       "\n",
       "    if (server_id !== undefined) {\n",
       "      // Clean up Bokeh references\n",
       "      const cmd_clean = \"from bokeh.io.state import curstate; print(curstate().uuid_to_server['\" + server_id + \"'].get_sessions()[0].document.roots[0]._id)\";\n",
       "      cell.notebook.kernel.execute(cmd_clean, {\n",
       "        iopub: {\n",
       "          output: function(msg) {\n",
       "            const id = msg.content.text.trim()\n",
       "            drop(id)\n",
       "          }\n",
       "        }\n",
       "      });\n",
       "      // Destroy server and session\n",
       "      const cmd_destroy = \"import bokeh.io.notebook as ion; ion.destroy_server('\" + server_id + \"')\";\n",
       "      cell.notebook.kernel.execute(cmd_destroy);\n",
       "    }\n",
       "  }\n",
       "\n",
       "  /**\n",
       "   * Handle when a new output is added\n",
       "   */\n",
       "  function handleAddOutput(event, handle) {\n",
       "    const output_area = handle.output_area;\n",
       "    const output = handle.output;\n",
       "\n",
       "    // limit handleAddOutput to display_data with EXEC_MIME_TYPE content only\n",
       "    if ((output.output_type != \"display_data\") || (!Object.prototype.hasOwnProperty.call(output.data, EXEC_MIME_TYPE))) {\n",
       "      return\n",
       "    }\n",
       "\n",
       "    const toinsert = output_area.element.find(\".\" + CLASS_NAME.split(' ')[0]);\n",
       "\n",
       "    if (output.metadata[EXEC_MIME_TYPE][\"id\"] !== undefined) {\n",
       "      toinsert[toinsert.length - 1].firstChild.textContent = output.data[JS_MIME_TYPE];\n",
       "      // store reference to embed id on output_area\n",
       "      output_area._bokeh_element_id = output.metadata[EXEC_MIME_TYPE][\"id\"];\n",
       "    }\n",
       "    if (output.metadata[EXEC_MIME_TYPE][\"server_id\"] !== undefined) {\n",
       "      const bk_div = document.createElement(\"div\");\n",
       "      bk_div.innerHTML = output.data[HTML_MIME_TYPE];\n",
       "      const script_attrs = bk_div.children[0].attributes;\n",
       "      for (let i = 0; i < script_attrs.length; i++) {\n",
       "        toinsert[toinsert.length - 1].firstChild.setAttribute(script_attrs[i].name, script_attrs[i].value);\n",
       "        toinsert[toinsert.length - 1].firstChild.textContent = bk_div.children[0].textContent\n",
       "      }\n",
       "      // store reference to server id on output_area\n",
       "      output_area._bokeh_server_id = output.metadata[EXEC_MIME_TYPE][\"server_id\"];\n",
       "    }\n",
       "  }\n",
       "\n",
       "  function register_renderer(events, OutputArea) {\n",
       "\n",
       "    function append_mime(data, metadata, element) {\n",
       "      // create a DOM node to render to\n",
       "      const toinsert = this.create_output_subarea(\n",
       "        metadata,\n",
       "        CLASS_NAME,\n",
       "        EXEC_MIME_TYPE\n",
       "      );\n",
       "      this.keyboard_manager.register_events(toinsert);\n",
       "      // Render to node\n",
       "      const props = {data: data, metadata: metadata[EXEC_MIME_TYPE]};\n",
       "      render(props, toinsert[toinsert.length - 1]);\n",
       "      element.append(toinsert);\n",
       "      return toinsert\n",
       "    }\n",
       "\n",
       "    /* Handle when an output is cleared or removed */\n",
       "    events.on('clear_output.CodeCell', handleClearOutput);\n",
       "    events.on('delete.Cell', handleClearOutput);\n",
       "\n",
       "    /* Handle when a new output is added */\n",
       "    events.on('output_added.OutputArea', handleAddOutput);\n",
       "\n",
       "    /**\n",
       "     * Register the mime type and append_mime function with output_area\n",
       "     */\n",
       "    OutputArea.prototype.register_mime_type(EXEC_MIME_TYPE, append_mime, {\n",
       "      /* Is output safe? */\n",
       "      safe: true,\n",
       "      /* Index of renderer in `output_area.display_order` */\n",
       "      index: 0\n",
       "    });\n",
       "  }\n",
       "\n",
       "  // register the mime type if in Jupyter Notebook environment and previously unregistered\n",
       "  if (root.Jupyter !== undefined) {\n",
       "    const events = require('base/js/events');\n",
       "    const OutputArea = require('notebook/js/outputarea').OutputArea;\n",
       "\n",
       "    if (OutputArea.prototype.mime_types().indexOf(EXEC_MIME_TYPE) == -1) {\n",
       "      register_renderer(events, OutputArea);\n",
       "    }\n",
       "  }\n",
       "  if (typeof (root._bokeh_timeout) === \"undefined\" || force === true) {\n",
       "    root._bokeh_timeout = Date.now() + 5000;\n",
       "    root._bokeh_failed_load = false;\n",
       "  }\n",
       "\n",
       "  const NB_LOAD_WARNING = {'data': {'text/html':\n",
       "     \"<div style='background-color: #fdd'>\\n\"+\n",
       "     \"<p>\\n\"+\n",
       "     \"BokehJS does not appear to have successfully loaded. If loading BokehJS from CDN, this \\n\"+\n",
       "     \"may be due to a slow or bad network connection. Possible fixes:\\n\"+\n",
       "     \"</p>\\n\"+\n",
       "     \"<ul>\\n\"+\n",
       "     \"<li>re-rerun `output_notebook()` to attempt to load from CDN again, or</li>\\n\"+\n",
       "     \"<li>use INLINE resources instead, as so:</li>\\n\"+\n",
       "     \"</ul>\\n\"+\n",
       "     \"<code>\\n\"+\n",
       "     \"from bokeh.resources import INLINE\\n\"+\n",
       "     \"output_notebook(resources=INLINE)\\n\"+\n",
       "     \"</code>\\n\"+\n",
       "     \"</div>\"}};\n",
       "\n",
       "  function display_loaded(error = null) {\n",
       "    const el = document.getElementById(\"d1e99385-10a4-443c-9cf5-4422c4729005\");\n",
       "    if (el != null) {\n",
       "      const html = (() => {\n",
       "        if (typeof root.Bokeh === \"undefined\") {\n",
       "          if (error == null) {\n",
       "            return \"BokehJS is loading ...\";\n",
       "          } else {\n",
       "            return \"BokehJS failed to load.\";\n",
       "          }\n",
       "        } else {\n",
       "          const prefix = `BokehJS ${root.Bokeh.version}`;\n",
       "          if (error == null) {\n",
       "            return `${prefix} successfully loaded.`;\n",
       "          } else {\n",
       "            return `${prefix} <b>encountered errors</b> while loading and may not function as expected.`;\n",
       "          }\n",
       "        }\n",
       "      })();\n",
       "      el.innerHTML = html;\n",
       "\n",
       "      if (error != null) {\n",
       "        const wrapper = document.createElement(\"div\");\n",
       "        wrapper.style.overflow = \"auto\";\n",
       "        wrapper.style.height = \"5em\";\n",
       "        wrapper.style.resize = \"vertical\";\n",
       "        const content = document.createElement(\"div\");\n",
       "        content.style.fontFamily = \"monospace\";\n",
       "        content.style.whiteSpace = \"pre-wrap\";\n",
       "        content.style.backgroundColor = \"rgb(255, 221, 221)\";\n",
       "        content.textContent = error.stack ?? error.toString();\n",
       "        wrapper.append(content);\n",
       "        el.append(wrapper);\n",
       "      }\n",
       "    } else if (Date.now() < root._bokeh_timeout) {\n",
       "      setTimeout(() => display_loaded(error), 100);\n",
       "    }\n",
       "  }\n",
       "\n",
       "  function run_callbacks() {\n",
       "    try {\n",
       "      root._bokeh_onload_callbacks.forEach(function(callback) {\n",
       "        if (callback != null)\n",
       "          callback();\n",
       "      });\n",
       "    } finally {\n",
       "      delete root._bokeh_onload_callbacks\n",
       "    }\n",
       "    console.debug(\"Bokeh: all callbacks have finished\");\n",
       "  }\n",
       "\n",
       "  function load_libs(css_urls, js_urls, callback) {\n",
       "    if (css_urls == null) css_urls = [];\n",
       "    if (js_urls == null) js_urls = [];\n",
       "\n",
       "    root._bokeh_onload_callbacks.push(callback);\n",
       "    if (root._bokeh_is_loading > 0) {\n",
       "      console.debug(\"Bokeh: BokehJS is being loaded, scheduling callback at\", now());\n",
       "      return null;\n",
       "    }\n",
       "    if (js_urls == null || js_urls.length === 0) {\n",
       "      run_callbacks();\n",
       "      return null;\n",
       "    }\n",
       "    console.debug(\"Bokeh: BokehJS not loaded, scheduling load and callback at\", now());\n",
       "    root._bokeh_is_loading = css_urls.length + js_urls.length;\n",
       "\n",
       "    function on_load() {\n",
       "      root._bokeh_is_loading--;\n",
       "      if (root._bokeh_is_loading === 0) {\n",
       "        console.debug(\"Bokeh: all BokehJS libraries/stylesheets loaded\");\n",
       "        run_callbacks()\n",
       "      }\n",
       "    }\n",
       "\n",
       "    function on_error(url) {\n",
       "      console.error(\"failed to load \" + url);\n",
       "    }\n",
       "\n",
       "    for (let i = 0; i < css_urls.length; i++) {\n",
       "      const url = css_urls[i];\n",
       "      const element = document.createElement(\"link\");\n",
       "      element.onload = on_load;\n",
       "      element.onerror = on_error.bind(null, url);\n",
       "      element.rel = \"stylesheet\";\n",
       "      element.type = \"text/css\";\n",
       "      element.href = url;\n",
       "      console.debug(\"Bokeh: injecting link tag for BokehJS stylesheet: \", url);\n",
       "      document.body.appendChild(element);\n",
       "    }\n",
       "\n",
       "    for (let i = 0; i < js_urls.length; i++) {\n",
       "      const url = js_urls[i];\n",
       "      const element = document.createElement('script');\n",
       "      element.onload = on_load;\n",
       "      element.onerror = on_error.bind(null, url);\n",
       "      element.async = false;\n",
       "      element.src = url;\n",
       "      console.debug(\"Bokeh: injecting script tag for BokehJS library: \", url);\n",
       "      document.head.appendChild(element);\n",
       "    }\n",
       "  };\n",
       "\n",
       "  function inject_raw_css(css) {\n",
       "    const element = document.createElement(\"style\");\n",
       "    element.appendChild(document.createTextNode(css));\n",
       "    document.body.appendChild(element);\n",
       "  }\n",
       "\n",
       "  const js_urls = [\"https://cdn.bokeh.org/bokeh/release/bokeh-3.7.3.min.js\", \"https://cdn.bokeh.org/bokeh/release/bokeh-gl-3.7.3.min.js\", \"https://cdn.bokeh.org/bokeh/release/bokeh-widgets-3.7.3.min.js\", \"https://cdn.bokeh.org/bokeh/release/bokeh-tables-3.7.3.min.js\", \"https://cdn.bokeh.org/bokeh/release/bokeh-mathjax-3.7.3.min.js\"];\n",
       "  const css_urls = [];\n",
       "\n",
       "  const inline_js = [    function(Bokeh) {\n",
       "      Bokeh.set_log_level(\"info\");\n",
       "    },\n",
       "function(Bokeh) {\n",
       "    }\n",
       "  ];\n",
       "\n",
       "  function run_inline_js() {\n",
       "    if (root.Bokeh !== undefined || force === true) {\n",
       "      try {\n",
       "            for (let i = 0; i < inline_js.length; i++) {\n",
       "      inline_js[i].call(root, root.Bokeh);\n",
       "    }\n",
       "\n",
       "      } catch (error) {display_loaded(error);throw error;\n",
       "      }if (force === true) {\n",
       "        display_loaded();\n",
       "      }} else if (Date.now() < root._bokeh_timeout) {\n",
       "      setTimeout(run_inline_js, 100);\n",
       "    } else if (!root._bokeh_failed_load) {\n",
       "      console.log(\"Bokeh: BokehJS failed to load within specified timeout.\");\n",
       "      root._bokeh_failed_load = true;\n",
       "    } else if (force !== true) {\n",
       "      const cell = $(document.getElementById(\"d1e99385-10a4-443c-9cf5-4422c4729005\")).parents('.cell').data().cell;\n",
       "      cell.output_area.append_execute_result(NB_LOAD_WARNING)\n",
       "    }\n",
       "  }\n",
       "\n",
       "  if (root._bokeh_is_loading === 0) {\n",
       "    console.debug(\"Bokeh: BokehJS loaded, going straight to plotting\");\n",
       "    run_inline_js();\n",
       "  } else {\n",
       "    load_libs(css_urls, js_urls, function() {\n",
       "      console.debug(\"Bokeh: BokehJS plotting callback run at\", now());\n",
       "      run_inline_js();\n",
       "    });\n",
       "  }\n",
       "}(window));"
      ],
      "application/vnd.bokehjs_load.v0+json": "'use strict';\n(function(root) {\n  function now() {\n    return new Date();\n  }\n\n  const force = true;\n\n  if (typeof root._bokeh_onload_callbacks === \"undefined\" || force === true) {\n    root._bokeh_onload_callbacks = [];\n    root._bokeh_is_loading = undefined;\n  }\n\n\n  if (typeof (root._bokeh_timeout) === \"undefined\" || force === true) {\n    root._bokeh_timeout = Date.now() + 5000;\n    root._bokeh_failed_load = false;\n  }\n\n  const NB_LOAD_WARNING = {'data': {'text/html':\n     \"<div style='background-color: #fdd'>\\n\"+\n     \"<p>\\n\"+\n     \"BokehJS does not appear to have successfully loaded. If loading BokehJS from CDN, this \\n\"+\n     \"may be due to a slow or bad network connection. Possible fixes:\\n\"+\n     \"</p>\\n\"+\n     \"<ul>\\n\"+\n     \"<li>re-rerun `output_notebook()` to attempt to load from CDN again, or</li>\\n\"+\n     \"<li>use INLINE resources instead, as so:</li>\\n\"+\n     \"</ul>\\n\"+\n     \"<code>\\n\"+\n     \"from bokeh.resources import INLINE\\n\"+\n     \"output_notebook(resources=INLINE)\\n\"+\n     \"</code>\\n\"+\n     \"</div>\"}};\n\n  function display_loaded(error = null) {\n    const el = document.getElementById(\"d1e99385-10a4-443c-9cf5-4422c4729005\");\n    if (el != null) {\n      const html = (() => {\n        if (typeof root.Bokeh === \"undefined\") {\n          if (error == null) {\n            return \"BokehJS is loading ...\";\n          } else {\n            return \"BokehJS failed to load.\";\n          }\n        } else {\n          const prefix = `BokehJS ${root.Bokeh.version}`;\n          if (error == null) {\n            return `${prefix} successfully loaded.`;\n          } else {\n            return `${prefix} <b>encountered errors</b> while loading and may not function as expected.`;\n          }\n        }\n      })();\n      el.innerHTML = html;\n\n      if (error != null) {\n        const wrapper = document.createElement(\"div\");\n        wrapper.style.overflow = \"auto\";\n        wrapper.style.height = \"5em\";\n        wrapper.style.resize = \"vertical\";\n        const content = document.createElement(\"div\");\n        content.style.fontFamily = \"monospace\";\n        content.style.whiteSpace = \"pre-wrap\";\n        content.style.backgroundColor = \"rgb(255, 221, 221)\";\n        content.textContent = error.stack ?? error.toString();\n        wrapper.append(content);\n        el.append(wrapper);\n      }\n    } else if (Date.now() < root._bokeh_timeout) {\n      setTimeout(() => display_loaded(error), 100);\n    }\n  }\n\n  function run_callbacks() {\n    try {\n      root._bokeh_onload_callbacks.forEach(function(callback) {\n        if (callback != null)\n          callback();\n      });\n    } finally {\n      delete root._bokeh_onload_callbacks\n    }\n    console.debug(\"Bokeh: all callbacks have finished\");\n  }\n\n  function load_libs(css_urls, js_urls, callback) {\n    if (css_urls == null) css_urls = [];\n    if (js_urls == null) js_urls = [];\n\n    root._bokeh_onload_callbacks.push(callback);\n    if (root._bokeh_is_loading > 0) {\n      console.debug(\"Bokeh: BokehJS is being loaded, scheduling callback at\", now());\n      return null;\n    }\n    if (js_urls == null || js_urls.length === 0) {\n      run_callbacks();\n      return null;\n    }\n    console.debug(\"Bokeh: BokehJS not loaded, scheduling load and callback at\", now());\n    root._bokeh_is_loading = css_urls.length + js_urls.length;\n\n    function on_load() {\n      root._bokeh_is_loading--;\n      if (root._bokeh_is_loading === 0) {\n        console.debug(\"Bokeh: all BokehJS libraries/stylesheets loaded\");\n        run_callbacks()\n      }\n    }\n\n    function on_error(url) {\n      console.error(\"failed to load \" + url);\n    }\n\n    for (let i = 0; i < css_urls.length; i++) {\n      const url = css_urls[i];\n      const element = document.createElement(\"link\");\n      element.onload = on_load;\n      element.onerror = on_error.bind(null, url);\n      element.rel = \"stylesheet\";\n      element.type = \"text/css\";\n      element.href = url;\n      console.debug(\"Bokeh: injecting link tag for BokehJS stylesheet: \", url);\n      document.body.appendChild(element);\n    }\n\n    for (let i = 0; i < js_urls.length; i++) {\n      const url = js_urls[i];\n      const element = document.createElement('script');\n      element.onload = on_load;\n      element.onerror = on_error.bind(null, url);\n      element.async = false;\n      element.src = url;\n      console.debug(\"Bokeh: injecting script tag for BokehJS library: \", url);\n      document.head.appendChild(element);\n    }\n  };\n\n  function inject_raw_css(css) {\n    const element = document.createElement(\"style\");\n    element.appendChild(document.createTextNode(css));\n    document.body.appendChild(element);\n  }\n\n  const js_urls = [\"https://cdn.bokeh.org/bokeh/release/bokeh-3.7.3.min.js\", \"https://cdn.bokeh.org/bokeh/release/bokeh-gl-3.7.3.min.js\", \"https://cdn.bokeh.org/bokeh/release/bokeh-widgets-3.7.3.min.js\", \"https://cdn.bokeh.org/bokeh/release/bokeh-tables-3.7.3.min.js\", \"https://cdn.bokeh.org/bokeh/release/bokeh-mathjax-3.7.3.min.js\"];\n  const css_urls = [];\n\n  const inline_js = [    function(Bokeh) {\n      Bokeh.set_log_level(\"info\");\n    },\nfunction(Bokeh) {\n    }\n  ];\n\n  function run_inline_js() {\n    if (root.Bokeh !== undefined || force === true) {\n      try {\n            for (let i = 0; i < inline_js.length; i++) {\n      inline_js[i].call(root, root.Bokeh);\n    }\n\n      } catch (error) {display_loaded(error);throw error;\n      }if (force === true) {\n        display_loaded();\n      }} else if (Date.now() < root._bokeh_timeout) {\n      setTimeout(run_inline_js, 100);\n    } else if (!root._bokeh_failed_load) {\n      console.log(\"Bokeh: BokehJS failed to load within specified timeout.\");\n      root._bokeh_failed_load = true;\n    } else if (force !== true) {\n      const cell = $(document.getElementById(\"d1e99385-10a4-443c-9cf5-4422c4729005\")).parents('.cell').data().cell;\n      cell.output_area.append_execute_result(NB_LOAD_WARNING)\n    }\n  }\n\n  if (root._bokeh_is_loading === 0) {\n    console.debug(\"Bokeh: BokehJS loaded, going straight to plotting\");\n    run_inline_js();\n  } else {\n    load_libs(css_urls, js_urls, function() {\n      console.debug(\"Bokeh: BokehJS plotting callback run at\", now());\n      run_inline_js();\n    });\n  }\n}(window));"
     },
     "metadata": {},
     "output_type": "display_data"
    },
    {
     "data": {
      "text/html": [
       "\n",
       "  <div id=\"b27bad8d-635f-43ab-b2b7-8baebcacea27\" data-root-id=\"p1050\" style=\"display: contents;\"></div>\n"
      ]
     },
     "metadata": {},
     "output_type": "display_data"
    },
    {
     "data": {
      "application/javascript": [
       "(function(root) {\n",
       "  function embed_document(root) {\n",
       "  const docs_json = {\"49c30339-f28b-4a8a-a073-c87c259a64a7\":{\"version\":\"3.7.3\",\"title\":\"Bokeh Application\",\"roots\":[{\"type\":\"object\",\"name\":\"Column\",\"id\":\"p1050\",\"attributes\":{\"children\":[{\"type\":\"object\",\"name\":\"AutocompleteInput\",\"id\":\"p1048\",\"attributes\":{\"js_property_callbacks\":{\"type\":\"map\",\"entries\":[[\"change:value\",[{\"type\":\"object\",\"name\":\"CustomJS\",\"id\":\"p1049\",\"attributes\":{\"args\":{\"type\":\"map\",\"entries\":[[\"source\",{\"type\":\"object\",\"name\":\"ColumnDataSource\",\"id\":\"p1003\",\"attributes\":{\"selected\":{\"type\":\"object\",\"name\":\"Selection\",\"id\":\"p1004\",\"attributes\":{\"indices\":[],\"line_indices\":[]}},\"selection_policy\":{\"type\":\"object\",\"name\":\"UnionRenderers\",\"id\":\"p1005\"},\"data\":{\"type\":\"map\",\"entries\":[[\"x\",{\"type\":\"ndarray\",\"array\":{\"type\":\"bytes\",\"data\":\"6EYFtgM7IcBMv2qA2V4ZwD3BNmU33ADAx2ynBdG8t7+TTYz0STYDQF8EngqUJCfAbWAD6nwu+T866fpcFiYCwNac/Zg43+o/kuHtwz4fBMDt7b8i9PD3vwkyiZWt7f+/K0IRHJZOD8COXgDkHmnFPyIgdBKzkQ9A+OT5heqpGcAeJiu/6moRwAEEc09FWhHAtR2UfBKKIUAs+/isMNwUQJyJXZs3QwhAd1kuftnjFEBlQVJJub4sQKd37JHAXxVA7Zy6ugSSFEA=\"},\"shape\":[25],\"dtype\":\"float64\",\"order\":\"little\"}],[\"y\",{\"type\":\"ndarray\",\"array\":{\"type\":\"bytes\",\"data\":\"8oWt1ZR73L8FppxwZ9XAvxnE2EA1/RNAJescdC9RD0CHi63q70sXwPVg3nYIxfC/3IcneYr1EsBqC0eDnrMDwPrtfl9hFbg/FFjeYocMAsBokKuRI2EAwGn2DNHhXxJAh6beLLk/GsDn4/Ai5IMRQCy4qeI/1wZA56H+Dunz/z+WQXE9ywD/P7c/vOI4O/y/ui2i/Hm/I8CUQSpeM+gLwCoPFFLNbB5AyjFtu8yhH0DI7TCgyWwFQIsqXUlg0dM/srKODd8CBcA=\"},\"shape\":[25],\"dtype\":\"float64\",\"order\":\"little\"}],[\"identity\",[\"Alanine\",\"Cysteine\",\"Aspartic acid\",\"Glutamic acid\",\"Phenylalanine\",\"Glycine\",\"Histidine\",\"Isoleucine\",\"Lysine\",\"Leucine\",\"Methionine\",\"Asparagine\",\"Proline\",\"Glutamine\",\"Arginine\",\"Serine\",\"Threonine\",\"Valine\",\"Tryptophan\",\"Tyrosine\",\"Phosphoserine\",\"Phosphothreonine\",\"Phosphotyrosine\",\"Acetyllysine\",\"Trimethyllysine\"]],[\"color\",[\"#1f77b4\",\"#aec7e8\",\"#ff7f0e\",\"#ffbb78\",\"#2ca02c\",\"#98df8a\",\"#d62728\",\"#ff9896\",\"#9467bd\",\"#c5b0d5\",\"#8c564b\",\"#c49c94\",\"#e377c2\",\"#f7b6d2\",\"#7f7f7f\",\"#c7c7c7\",\"#bcbd22\",\"#dbdb8d\",\"#17becf\",\"#9edae5\",\"#1f77b4\",\"#aec7e8\",\"#ff7f0e\",\"#ffbb78\",\"#2ca02c\"]],[\"original_color\",[\"#1f77b4\",\"#aec7e8\",\"#ff7f0e\",\"#ffbb78\",\"#2ca02c\",\"#98df8a\",\"#d62728\",\"#ff9896\",\"#9467bd\",\"#c5b0d5\",\"#8c564b\",\"#c49c94\",\"#e377c2\",\"#f7b6d2\",\"#7f7f7f\",\"#c7c7c7\",\"#bcbd22\",\"#dbdb8d\",\"#17becf\",\"#9edae5\",\"#1f77b4\",\"#aec7e8\",\"#ff7f0e\",\"#ffbb78\",\"#2ca02c\"]],[\"size\",[7,7,7,7,7,7,7,7,7,7,7,7,7,7,7,7,7,7,7,7,7,7,7,7,7]],[\"highlighted\",[\"no\",\"no\",\"no\",\"no\",\"no\",\"no\",\"no\",\"no\",\"no\",\"no\",\"no\",\"no\",\"no\",\"no\",\"no\",\"no\",\"no\",\"no\",\"no\",\"no\",\"no\",\"no\",\"no\",\"no\",\"no\"]],[\"smiles\",{\"type\":\"ndarray\",\"array\":[\"C[C@@H](C(=O)O)N\",\"C([C@@H](C(=O)O)N)S\",\"C([C@@H](C(=O)O)N)C(=O)O\",\"C(CC(=O)O)[C@@H](C(=O)O)N\",\"c1ccc(cc1)C[C@@H](C(=O)O)N\",\"C(C(=O)O)N\",\"O=C([C@H](CC1=CNC=N1)N)O\",\"CC[C@H](C)[C@@H](C(=O)O)N\",\"C(CCN)C[C@@H](C(=O)O)N\",\"CC(C)C[C@@H](C(=O)O)N\",\"CSCC[C@H](N)C(=O)O\",\"O=C(N)C[C@H](N)C(=O)O\",\"C1C[C@H](NC1)C(=O)O\",\"O=C(N)CCC(N)C(=O)O\",\"C(C[C@@H](C(=O)O)N)CNC(=N)N\",\"C([C@@H](C(=O)O)N)O\",\"C[C@H]([C@@H](C(=O)O)N)O\",\"CC(C)[C@@H](C(=O)O)N\",\"c1[nH]c2ccccc2c1C[C@H](N)C(=O)O\",\"N[C@@H](Cc1ccc(O)cc1)C(O)=O\",\"O=P(O)(O)OC[C@@H](C(=O)O)N\",\"CC(C(C(=O)O)N)OP(=O)(O)O\",\"C1=CC(=CC=C1CC(C(=O)O)N)OP(=O)(O)O\",\"CC(=O)NCCCC[C@H](N)C(=O)O\",\"C[N+](C)(C)CCCC[C@H](N)C(=O)O\"],\"shape\":[25],\"dtype\":\"object\",\"order\":\"little\"}]]}}}],[\"plot\",{\"type\":\"object\",\"name\":\"Figure\",\"id\":\"p1006\",\"attributes\":{\"x_range\":{\"type\":\"object\",\"name\":\"DataRange1d\",\"id\":\"p1007\"},\"y_range\":{\"type\":\"object\",\"name\":\"DataRange1d\",\"id\":\"p1008\"},\"x_scale\":{\"type\":\"object\",\"name\":\"LinearScale\",\"id\":\"p1015\"},\"y_scale\":{\"type\":\"object\",\"name\":\"LinearScale\",\"id\":\"p1016\"},\"title\":{\"type\":\"object\",\"name\":\"Title\",\"id\":\"p1013\"},\"renderers\":[{\"type\":\"object\",\"name\":\"GlyphRenderer\",\"id\":\"p1044\",\"attributes\":{\"data_source\":{\"id\":\"p1003\"},\"view\":{\"type\":\"object\",\"name\":\"CDSView\",\"id\":\"p1045\",\"attributes\":{\"filter\":{\"type\":\"object\",\"name\":\"AllIndices\",\"id\":\"p1046\"}}},\"glyph\":{\"type\":\"object\",\"name\":\"Scatter\",\"id\":\"p1041\",\"attributes\":{\"x\":{\"type\":\"field\",\"field\":\"x\"},\"y\":{\"type\":\"field\",\"field\":\"y\"},\"size\":{\"type\":\"field\",\"field\":\"size\"},\"line_color\":{\"type\":\"field\",\"field\":\"color\"},\"line_alpha\":{\"type\":\"value\",\"value\":0.6},\"fill_color\":{\"type\":\"field\",\"field\":\"color\"},\"fill_alpha\":{\"type\":\"value\",\"value\":0.6},\"hatch_color\":{\"type\":\"field\",\"field\":\"color\"},\"hatch_alpha\":{\"type\":\"value\",\"value\":0.6}}},\"nonselection_glyph\":{\"type\":\"object\",\"name\":\"Scatter\",\"id\":\"p1042\",\"attributes\":{\"x\":{\"type\":\"field\",\"field\":\"x\"},\"y\":{\"type\":\"field\",\"field\":\"y\"},\"size\":{\"type\":\"field\",\"field\":\"size\"},\"line_color\":{\"type\":\"field\",\"field\":\"color\"},\"line_alpha\":{\"type\":\"value\",\"value\":0.1},\"fill_color\":{\"type\":\"field\",\"field\":\"color\"},\"fill_alpha\":{\"type\":\"value\",\"value\":0.1},\"hatch_color\":{\"type\":\"field\",\"field\":\"color\"},\"hatch_alpha\":{\"type\":\"value\",\"value\":0.1}}},\"muted_glyph\":{\"type\":\"object\",\"name\":\"Scatter\",\"id\":\"p1043\",\"attributes\":{\"x\":{\"type\":\"field\",\"field\":\"x\"},\"y\":{\"type\":\"field\",\"field\":\"y\"},\"size\":{\"type\":\"field\",\"field\":\"size\"},\"line_color\":{\"type\":\"field\",\"field\":\"color\"},\"line_alpha\":{\"type\":\"value\",\"value\":0.2},\"fill_color\":{\"type\":\"field\",\"field\":\"color\"},\"fill_alpha\":{\"type\":\"value\",\"value\":0.2},\"hatch_color\":{\"type\":\"field\",\"field\":\"color\"},\"hatch_alpha\":{\"type\":\"value\",\"value\":0.2}}}}}],\"toolbar\":{\"type\":\"object\",\"name\":\"Toolbar\",\"id\":\"p1014\",\"attributes\":{\"tools\":[{\"type\":\"object\",\"name\":\"PanTool\",\"id\":\"p1027\"},{\"type\":\"object\",\"name\":\"BoxZoomTool\",\"id\":\"p1028\",\"attributes\":{\"dimensions\":\"both\",\"overlay\":{\"type\":\"object\",\"name\":\"BoxAnnotation\",\"id\":\"p1029\",\"attributes\":{\"syncable\":false,\"line_color\":\"black\",\"line_alpha\":1.0,\"line_width\":2,\"line_dash\":[4,4],\"fill_color\":\"lightgrey\",\"fill_alpha\":0.5,\"level\":\"overlay\",\"visible\":false,\"left\":{\"type\":\"number\",\"value\":\"nan\"},\"right\":{\"type\":\"number\",\"value\":\"nan\"},\"top\":{\"type\":\"number\",\"value\":\"nan\"},\"bottom\":{\"type\":\"number\",\"value\":\"nan\"},\"left_units\":\"canvas\",\"right_units\":\"canvas\",\"top_units\":\"canvas\",\"bottom_units\":\"canvas\",\"handles\":{\"type\":\"object\",\"name\":\"BoxInteractionHandles\",\"id\":\"p1035\",\"attributes\":{\"all\":{\"type\":\"object\",\"name\":\"AreaVisuals\",\"id\":\"p1034\",\"attributes\":{\"fill_color\":\"white\",\"hover_fill_color\":\"lightgray\"}}}}}}}},{\"type\":\"object\",\"name\":\"WheelZoomTool\",\"id\":\"p1036\",\"attributes\":{\"renderers\":\"auto\"}},{\"type\":\"object\",\"name\":\"ResetTool\",\"id\":\"p1037\"},{\"type\":\"object\",\"name\":\"HoverTool\",\"id\":\"p1047\",\"attributes\":{\"renderers\":\"auto\",\"tooltips\":[[\"Identity\",\"@identity\"],[\"smiles\",\"@smiles\"]]}}]}},\"left\":[{\"type\":\"object\",\"name\":\"LinearAxis\",\"id\":\"p1022\",\"attributes\":{\"ticker\":{\"type\":\"object\",\"name\":\"BasicTicker\",\"id\":\"p1023\",\"attributes\":{\"mantissas\":[1,2,5]}},\"formatter\":{\"type\":\"object\",\"name\":\"BasicTickFormatter\",\"id\":\"p1024\"},\"major_label_policy\":{\"type\":\"object\",\"name\":\"AllLabels\",\"id\":\"p1025\"}}}],\"below\":[{\"type\":\"object\",\"name\":\"LinearAxis\",\"id\":\"p1017\",\"attributes\":{\"ticker\":{\"type\":\"object\",\"name\":\"BasicTicker\",\"id\":\"p1018\",\"attributes\":{\"mantissas\":[1,2,5]}},\"formatter\":{\"type\":\"object\",\"name\":\"BasicTickFormatter\",\"id\":\"p1019\"},\"major_label_policy\":{\"type\":\"object\",\"name\":\"AllLabels\",\"id\":\"p1020\"}}}],\"center\":[{\"type\":\"object\",\"name\":\"Grid\",\"id\":\"p1021\",\"attributes\":{\"visible\":false,\"axis\":{\"id\":\"p1017\"}}},{\"type\":\"object\",\"name\":\"Grid\",\"id\":\"p1026\",\"attributes\":{\"visible\":false,\"dimension\":1,\"axis\":{\"id\":\"p1022\"}}}]}}]]},\"code\":\"\\n        const data = source.data;\\n        const search_val = cb_obj.value.toLowerCase();\\n        const x = data['x'];\\n        const y = data['y'];\\n        const identity = data['identity'];\\n        const color = data['color'];\\n        const original_color = data['original_color'];\\n        const size = data['size'];\\n        const highlighted = data['highlighted'];\\n\\n        for (let i = 0; i < identity.length; i++) {\\n            if (highlighted[i] === 'yes') {\\n                color[i] = original_color[i];\\n                size[i] = 10;\\n                highlighted[i] = 'no';\\n            }\\n            if (identity[i].toLowerCase() === search_val) {\\n                plot.x_range.start = x[i] - 5;\\n                plot.x_range.end = x[i] + 5;\\n                plot.y_range.start = y[i] - 5;\\n                plot.y_range.end = y[i] + 5;\\n                color[i] = 'red';\\n                size[i] = 15;\\n                highlighted[i] = 'yes';\\n            }\\n        }\\n        source.change.emit();\\n    \"}}]]]},\"title\":\"Search by Identity:\",\"completions\":[\"Alanine\",\"Cysteine\",\"Aspartic acid\",\"Glutamic acid\",\"Phenylalanine\",\"Glycine\",\"Histidine\",\"Isoleucine\",\"Lysine\",\"Leucine\",\"Methionine\",\"Asparagine\",\"Proline\",\"Glutamine\",\"Arginine\",\"Serine\",\"Threonine\",\"Valine\",\"Tryptophan\",\"Tyrosine\",\"Phosphoserine\",\"Phosphothreonine\",\"Phosphotyrosine\",\"Acetyllysine\",\"Trimethyllysine\"]}},{\"id\":\"p1006\"}]}}]}};\n",
       "  const render_items = [{\"docid\":\"49c30339-f28b-4a8a-a073-c87c259a64a7\",\"roots\":{\"p1050\":\"b27bad8d-635f-43ab-b2b7-8baebcacea27\"},\"root_ids\":[\"p1050\"]}];\n",
       "  void root.Bokeh.embed.embed_items_notebook(docs_json, render_items);\n",
       "  }\n",
       "  if (root.Bokeh !== undefined) {\n",
       "    embed_document(root);\n",
       "  } else {\n",
       "    let attempts = 0;\n",
       "    const timer = setInterval(function(root) {\n",
       "      if (root.Bokeh !== undefined) {\n",
       "        clearInterval(timer);\n",
       "        embed_document(root);\n",
       "      } else {\n",
       "        attempts++;\n",
       "        if (attempts > 100) {\n",
       "          clearInterval(timer);\n",
       "          console.log(\"Bokeh: ERROR: Unable to run BokehJS code because BokehJS library is missing\");\n",
       "        }\n",
       "      }\n",
       "    }, 10, root)\n",
       "  }\n",
       "})(window);"
      ],
      "application/vnd.bokehjs_exec.v0+json": ""
     },
     "metadata": {
      "application/vnd.bokehjs_exec.v0+json": {
       "id": "p1050"
      }
     },
     "output_type": "display_data"
    }
   ],
   "source": [
    "# PCA reduce dimension to 2\n",
    "X = reduce_feature(aa_rdkit)\n",
    "\n",
    "# get info\n",
    "info=Data.get_aa_info()\n",
    "\n",
    "#plot\n",
    "plot_bokeh(X, \n",
    "           idx = info.Name,\n",
    "           hue = info.Name,\n",
    "           s=7, \n",
    "           smiles = info.SMILES)"
   ]
  },
  {
   "cell_type": "markdown",
   "metadata": {},
   "source": [
    "## Rank"
   ]
  },
  {
   "cell_type": "code",
   "execution_count": null,
   "metadata": {},
   "outputs": [],
   "source": [
    "#| export\n",
    "@delegates(sns.scatterplot)\n",
    "def plot_rank(sorted_df: pd.DataFrame, # a sorted dataframe\n",
    "              x: str, # column name for x axis\n",
    "              y: str, # column name for y aixs\n",
    "              n_hi: int=10, # if not None, show the head n names\n",
    "              n_lo: int=10, # if not None, show the tail n names\n",
    "              figsize: tuple=(10,8), # figure size\n",
    "              **kwargs # arguments for sns.scatterplot()\n",
    "              ):\n",
    "    \n",
    "    \"Plot rank from a sorted dataframe\"\n",
    "\n",
    "    plt.figure(figsize=figsize)\n",
    "    \n",
    "    sorted_df = sorted_df.reset_index(drop=True) # drop customized index\n",
    "    \n",
    "    sns_plot = sns.scatterplot(data=sorted_df, \n",
    "                               x = x,\n",
    "                               y = y, **kwargs)\n",
    "\n",
    "    sns_plot.set_xticks([])\n",
    "    \n",
    "    \n",
    "    texts = []\n",
    "    \n",
    "    # Annotate the highest n values\n",
    "    if n_hi is not None:\n",
    "        \n",
    "        for i, row in sorted_df.head(n_hi).iterrows():\n",
    "            texts.append(plt.text(i, row[y], row[x], ha='center', va='bottom'))\n",
    "\n",
    "    if n_lo is not None:\n",
    "        # Annotate the lowest n values\n",
    "        n_lowest = n_lo\n",
    "        for i, row in sorted_df.tail(n_lowest).iterrows():\n",
    "            texts.append(plt.text(i, row[y], row[x], ha='center', va='bottom'))\n",
    "            \n",
    "    if len(texts)>0:\n",
    "        # Use adjustText to adjust text positions\n",
    "        adjust_text(texts, arrowprops=dict(arrowstyle='-', color='black'))\n",
    "    plt.ylabel(y)\n",
    "    plt.tight_layout()"
   ]
  },
  {
   "cell_type": "code",
   "execution_count": null,
   "metadata": {},
   "outputs": [
    {
     "data": {
      "text/html": [
       "<div>\n",
       "<style scoped>\n",
       "    .dataframe tbody tr th:only-of-type {\n",
       "        vertical-align: middle;\n",
       "    }\n",
       "\n",
       "    .dataframe tbody tr th {\n",
       "        vertical-align: top;\n",
       "    }\n",
       "\n",
       "    .dataframe thead th {\n",
       "        text-align: right;\n",
       "    }\n",
       "</style>\n",
       "<table border=\"1\" class=\"dataframe\">\n",
       "  <thead>\n",
       "    <tr style=\"text-align: right;\">\n",
       "      <th></th>\n",
       "      <th>kinase</th>\n",
       "      <th>values</th>\n",
       "    </tr>\n",
       "  </thead>\n",
       "  <tbody>\n",
       "    <tr>\n",
       "      <th>68</th>\n",
       "      <td>CK1G2</td>\n",
       "      <td>189898.392</td>\n",
       "    </tr>\n",
       "    <tr>\n",
       "      <th>294</th>\n",
       "      <td>VRK2</td>\n",
       "      <td>4191709.640</td>\n",
       "    </tr>\n",
       "    <tr>\n",
       "      <th>8</th>\n",
       "      <td>ALPHAK3</td>\n",
       "      <td>4573611.730</td>\n",
       "    </tr>\n",
       "    <tr>\n",
       "      <th>249</th>\n",
       "      <td>PRPK</td>\n",
       "      <td>8495330.790</td>\n",
       "    </tr>\n",
       "    <tr>\n",
       "      <th>38</th>\n",
       "      <td>CAMLCK</td>\n",
       "      <td>9413689.600</td>\n",
       "    </tr>\n",
       "  </tbody>\n",
       "</table>\n",
       "</div>"
      ],
      "text/plain": [
       "      kinase       values\n",
       "68     CK1G2   189898.392\n",
       "294     VRK2  4191709.640\n",
       "8    ALPHAK3  4573611.730\n",
       "249     PRPK  8495330.790\n",
       "38    CAMLCK  9413689.600"
      ]
     },
     "execution_count": null,
     "metadata": {},
     "output_type": "execute_result"
    }
   ],
   "source": [
    "# load data\n",
    "# df = Data.get_pspa_raw().set_index('kinase')\n",
    "df = pd.read_csv('https://github.com/sky1ove/katlas_raw/raw/refs/heads/main/nbs/raw/pspa_st_raw.csv').set_index('kinase')\n",
    "\n",
    "\n",
    "# get sorted dataframe\n",
    "sorted_df = df.max(1).reset_index(name='values').sort_values('values')\n",
    "sorted_df.head()"
   ]
  },
  {
   "cell_type": "code",
   "execution_count": null,
   "metadata": {},
   "outputs": [
    {
     "data": {
      "image/png": "[encoded data removed]",
      "text/plain": [
       "<Figure size 1000x800 with 1 Axes>"
      ]
     },
     "metadata": {},
     "output_type": "display_data"
    }
   ],
   "source": [
    "plot_rank(sorted_df,x='kinase',y='values')\n",
    "plt.xlabel('kinase');"
   ]
  },
  {
   "cell_type": "markdown",
   "metadata": {},
   "source": [
    "## Distribution histogram"
   ]
  },
  {
   "cell_type": "code",
   "execution_count": null,
   "metadata": {},
   "outputs": [],
   "source": [
    "#| export\n",
    "@delegates(sns.histplot)\n",
    "def plot_hist(df: pd.DataFrame, # a dataframe that contain values for plot\n",
    "              x: str, # column name of values\n",
    "              figsize: tuple=(6,2),\n",
    "              **kwargs, # arguments for sns.histplot()\n",
    "             ):\n",
    "    \n",
    "    hist_params = {'element':'poly',\n",
    "              'edgecolor': None,\n",
    "              'alpha':0.5,\n",
    "              'bins':100,\n",
    "              'kde':True}\n",
    "    \n",
    "    plt.figure(figsize=figsize)\n",
    "    sns.histplot(data=df,x=x,**hist_params,**kwargs)"
   ]
  },
  {
   "cell_type": "code",
   "execution_count": null,
   "metadata": {},
   "outputs": [
    {
     "data": {
      "text/html": [
       "<div>\n",
       "<style scoped>\n",
       "    .dataframe tbody tr th:only-of-type {\n",
       "        vertical-align: middle;\n",
       "    }\n",
       "\n",
       "    .dataframe tbody tr th {\n",
       "        vertical-align: top;\n",
       "    }\n",
       "\n",
       "    .dataframe thead th {\n",
       "        text-align: right;\n",
       "    }\n",
       "</style>\n",
       "<table border=\"1\" class=\"dataframe\">\n",
       "  <thead>\n",
       "    <tr style=\"text-align: right;\">\n",
       "      <th></th>\n",
       "      <th>kinase</th>\n",
       "      <th>values</th>\n",
       "    </tr>\n",
       "  </thead>\n",
       "  <tbody>\n",
       "    <tr>\n",
       "      <th>68</th>\n",
       "      <td>CK1G2</td>\n",
       "      <td>189898.392</td>\n",
       "    </tr>\n",
       "    <tr>\n",
       "      <th>294</th>\n",
       "      <td>VRK2</td>\n",
       "      <td>4191709.640</td>\n",
       "    </tr>\n",
       "    <tr>\n",
       "      <th>8</th>\n",
       "      <td>ALPHAK3</td>\n",
       "      <td>4573611.730</td>\n",
       "    </tr>\n",
       "    <tr>\n",
       "      <th>249</th>\n",
       "      <td>PRPK</td>\n",
       "      <td>8495330.790</td>\n",
       "    </tr>\n",
       "    <tr>\n",
       "      <th>38</th>\n",
       "      <td>CAMLCK</td>\n",
       "      <td>9413689.600</td>\n",
       "    </tr>\n",
       "  </tbody>\n",
       "</table>\n",
       "</div>"
      ],
      "text/plain": [
       "      kinase       values\n",
       "68     CK1G2   189898.392\n",
       "294     VRK2  4191709.640\n",
       "8    ALPHAK3  4573611.730\n",
       "249     PRPK  8495330.790\n",
       "38    CAMLCK  9413689.600"
      ]
     },
     "execution_count": null,
     "metadata": {},
     "output_type": "execute_result"
    }
   ],
   "source": [
    "# we can use the same df\n",
    "sorted_df.head()"
   ]
  },
  {
   "cell_type": "code",
   "execution_count": null,
   "metadata": {},
   "outputs": [
    {
     "data": {
      "image/png": "[encoded data removed]",
      "text/plain": [
       "<Figure size 600x200 with 1 Axes>"
      ]
     },
     "metadata": {},
     "output_type": "display_data"
    }
   ],
   "source": [
    "plot_hist(sorted_df,'values')"
   ]
  },
  {
   "cell_type": "markdown",
   "metadata": {},
   "source": [
    "## Bar graph"
   ]
  },
  {
   "cell_type": "code",
   "execution_count": null,
   "metadata": {},
   "outputs": [],
   "source": [
    "#| export\n",
    "def plot_count(cnt, # from df['x'].value_counts()\n",
    "               tick_spacing: float= None, # tick spacing for x axis\n",
    "               palette: str='tab20'):\n",
    "    \n",
    "    \"Make bar plot from df['x'].value_counts()\"\n",
    "\n",
    "    cnt = cnt.sort_values(ascending=True).copy()\n",
    "    \n",
    "    c = sns.color_palette(palette)\n",
    "    ax = cnt.plot.barh(color = c)\n",
    "    ax.set_ylabel(\"\")\n",
    "\n",
    "    for index, value in enumerate(cnt):\n",
    "        plt.text(value, index, str(value),fontsize=10,rotation=-90, va='center')\n",
    "        # Set x-ticks at regular intervals\n",
    "    if tick_spacing is not None:\n",
    "        ax.xaxis.set_major_locator(MultipleLocator(tick_spacing))"
   ]
  },
  {
   "cell_type": "code",
   "execution_count": null,
   "metadata": {},
   "outputs": [
    {
     "data": {
      "image/png": "[encoded data removed]",
      "text/plain": [
       "<Figure size 640x480 with 1 Axes>"
      ]
     },
     "metadata": {},
     "output_type": "display_data"
    }
   ],
   "source": [
    "# get count\n",
    "cnt = aa_rdkit.fr_sulfide.round(3).value_counts()\n",
    "\n",
    "# make plot\n",
    "plot_count(cnt)"
   ]
  },
  {
   "cell_type": "code",
   "execution_count": null,
   "metadata": {},
   "outputs": [],
   "source": [
    "#| export\n",
    "@delegates(sns.barplot)\n",
    "def plot_bar(df, \n",
    "             value, # colname of value\n",
    "             group, # colname of group\n",
    "             title = None,\n",
    "             figsize = (12,5),\n",
    "             fontsize=14,\n",
    "             dots = True, # whether or not add dots in the graph\n",
    "             rotation=90,\n",
    "             ascending=False,\n",
    "             ymin=None,\n",
    "             **kwargs\n",
    "              ):\n",
    "    \n",
    "    \"Plot bar graph from unstacked dataframe; need to indicate columns of values and categories\"\n",
    "    \n",
    "    plt.figure(figsize=figsize)\n",
    "    \n",
    "    idx = df.groupby(group)[value].mean().sort_values(ascending=ascending).index\n",
    "    \n",
    "    sns.barplot(data=df, x=group, y=value, order=idx,hue=group, legend=False, **kwargs)\n",
    "    \n",
    "    if dots:\n",
    "        marker = {'marker': 'o', \n",
    "                  'color': 'white', \n",
    "                  'edgecolor': 'black', \n",
    "                  'linewidth': 1.5, \n",
    "                  'jitter':True,\n",
    "                  's': 5}\n",
    "\n",
    "        sns.stripplot(data=df, \n",
    "                      x=group, \n",
    "                      y=value,\n",
    "                      order=idx,\n",
    "                      alpha=0.8,\n",
    "                      # ax=g.ax,\n",
    "                      **marker)\n",
    "        \n",
    "    # Increase font size for the x-axis and y-axis tick labels\n",
    "    plt.tick_params(axis='x', labelsize=fontsize)  # Increase x-axis label size\n",
    "    plt.tick_params(axis='y', labelsize=fontsize)  # Increase y-axis label size\n",
    "    \n",
    "    # Modify x and y label and increase font size\n",
    "    plt.xlabel('', fontsize=fontsize)\n",
    "    plt.ylabel(value, fontsize=fontsize)\n",
    "    \n",
    "    # Rotate X labels\n",
    "    plt.xticks(rotation=rotation)\n",
    "    \n",
    "    # Plot titles\n",
    "    if title is not None: plt.title(title,fontsize=fontsize)\n",
    "\n",
    "    # set ymin limit\n",
    "    if ymin is not None: plt.ylim(bottom=ymin)\n",
    "    plt.gca().spines[['right', 'top']].set_visible(False)"
   ]
  },
  {
   "cell_type": "code",
   "execution_count": null,
   "metadata": {},
   "outputs": [],
   "source": [
    "info['cat'] = (info.pKa1>2).astype(int)"
   ]
  },
  {
   "cell_type": "code",
   "execution_count": null,
   "metadata": {},
   "outputs": [
    {
     "data": {
      "image/png": "[encoded data removed]",
      "text/plain": [
       "<Figure size 1200x500 with 1 Axes>"
      ]
     },
     "metadata": {},
     "output_type": "display_data"
    }
   ],
   "source": [
    "# get an unstacked dataframe\n",
    "plot_bar(info,value='MW',group='cat',palette='tab20')"
   ]
  },
  {
   "cell_type": "code",
   "execution_count": null,
   "metadata": {},
   "outputs": [],
   "source": [
    "#| export\n",
    "@delegates(sns.barplot)\n",
    "def plot_group_bar(df, \n",
    "                   value_cols,  # list of column names for values, the order depends on the first item\n",
    "                   group,       # column name of group (e.g., 'kinase')\n",
    "                   figsize=(12, 5),\n",
    "                   order=None,\n",
    "                   title=None,\n",
    "                   fontsize=14,\n",
    "                   rotation=90,\n",
    "                   **kwargs):\n",
    "    \n",
    "    \" Plot grouped bar graph from dataframe. \"\n",
    "\n",
    "    # Prepare the dataframe for plotting\n",
    "    # Melt the dataframe to go from wide to long format\n",
    "    df_melted = df.melt(id_vars=group, value_vars=value_cols, var_name='Ranking', value_name='Value')\n",
    "\n",
    "    plt.figure(figsize=figsize)\n",
    "    \n",
    "    # Create the bar plot\n",
    "    sns.barplot(data=df_melted, \n",
    "                x=group, \n",
    "                y='Value', \n",
    "                hue='Ranking', \n",
    "                order=order, \n",
    "                capsize=0.1,\n",
    "                err_kws={'linewidth': 1.5,'color': 'gray'}, \n",
    "                alpha=1.0,\n",
    "                **kwargs)\n",
    "    \n",
    "    # Increase font size for the x-axis and y-axis tick labels\n",
    "    plt.tick_params(axis='x', labelsize=fontsize)  # Increase x-axis label size\n",
    "    plt.tick_params(axis='y', labelsize=fontsize)  # Increase y-axis label size\n",
    "    \n",
    "    # Modify x and y label and increase font size\n",
    "    plt.xlabel('', fontsize=fontsize)\n",
    "    plt.ylabel('Value', fontsize=fontsize)\n",
    "    \n",
    "    # Rotate X labels\n",
    "    plt.xticks(rotation=rotation)\n",
    "    \n",
    "    # Plot titles\n",
    "    if title is not None:\n",
    "        plt.title(title, fontsize=fontsize)\n",
    "    \n",
    "    plt.gca().spines[['right', 'top']].set_visible(False)\n",
    "    # plt.legend(fontsize=fontsize) # if change legend location, use loc='upper right'\n",
    "    plt.legend(\n",
    "        fontsize=fontsize,\n",
    "        loc=\"upper left\",\n",
    "        bbox_to_anchor=(1.02, 1),\n",
    "        borderaxespad=0\n",
    "    )"
   ]
  },
  {
   "cell_type": "code",
   "execution_count": null,
   "metadata": {},
   "outputs": [
    {
     "data": {
      "image/png": "[encoded data removed]",
      "text/plain": [
       "<Figure size 1200x500 with 1 Axes>"
      ]
     },
     "metadata": {},
     "output_type": "display_data"
    }
   ],
   "source": [
    "plot_group_bar(info,['pKa1','pKb2'],'Name')"
   ]
  },
  {
   "cell_type": "markdown",
   "metadata": {},
   "source": [
    "## Stacked bar graph"
   ]
  },
  {
   "cell_type": "code",
   "execution_count": null,
   "metadata": {},
   "outputs": [],
   "source": [
    "#| export\n",
    "def plot_stacked(df, column, hue, figsize=(5, 4),xlabel=None, ylabel=None, add_value=True, **kwargs):\n",
    "    plt.figure(figsize=figsize)\n",
    "    \n",
    "    ax = sns.histplot(\n",
    "        data=df,\n",
    "        x=column,\n",
    "        hue=hue,\n",
    "        multiple='stack',\n",
    "        discrete=True,\n",
    "        shrink=0.8,\n",
    "        alpha=1.0,\n",
    "        **kwargs\n",
    "    )\n",
    "\n",
    "    plt.xlabel(xlabel)\n",
    "    plt.ylabel(ylabel)\n",
    "    plt.xticks(rotation=0)\n",
    "    ax.yaxis.set_major_formatter(mticker.FuncFormatter(lambda x, _: f'{int(x):,}'))\n",
    "\n",
    "    # Add total count on top of each bar\n",
    "    if add_value:\n",
    "        total_counts = df[column].value_counts().sort_index()\n",
    "        for idx, (label, count) in enumerate(total_counts.items()):\n",
    "            ax.text(idx, count + 1, str(count), ha='center', va='bottom', fontsize=9)\n",
    "\n",
    "    plt.tight_layout()"
   ]
  },
  {
   "cell_type": "markdown",
   "metadata": {},
   "source": [
    "## Box plot"
   ]
  },
  {
   "cell_type": "code",
   "execution_count": null,
   "metadata": {},
   "outputs": [],
   "source": [
    "#| export\n",
    "@delegates(sns.boxplot)\n",
    "def plot_box(df,\n",
    "             value, # colname of value\n",
    "             group, # colname of group\n",
    "             title=None, \n",
    "             figsize=(6,3),\n",
    "             fontsize=14,\n",
    "             dots=True, \n",
    "             rotation=90,\n",
    "             **kwargs\n",
    "            ):\n",
    "    \n",
    "    \"Plot box plot.\"\n",
    "    \n",
    "    plt.figure(figsize=figsize)\n",
    "    \n",
    "    idx = df[[group,value]].groupby(group).median().sort_values(value,ascending=False).index\n",
    "    \n",
    "    \n",
    "    sns.boxplot(data=df, x=group, y=value, order=idx,hue=group, legend=False, **kwargs)\n",
    "    \n",
    "    if dots:\n",
    "        sns.stripplot(x=group, y=value, data=df, order=idx, jitter=True, color='black', size=3)\n",
    "        \n",
    "\n",
    "    # Increase font size for the x-axis and y-axis tick labels\n",
    "    plt.tick_params(axis='x', labelsize=fontsize)  # Increase x-axis label size\n",
    "    plt.tick_params(axis='y', labelsize=fontsize)  # Increase y-axis label size\n",
    "\n",
    "    plt.xlabel('', fontsize=fontsize)\n",
    "    plt.ylabel(value, fontsize=fontsize)\n",
    "\n",
    "    plt.xticks(rotation=rotation)\n",
    "    \n",
    "    if title is not None:\n",
    "        plt.title(title,fontsize=fontsize)\n",
    "    \n",
    "    # Remove right and top spines \n",
    "    # plt.gca().spines[['right', 'top']].set_visible(False)\n",
    "    "
   ]
  },
  {
   "cell_type": "code",
   "execution_count": null,
   "metadata": {},
   "outputs": [
    {
     "data": {
      "image/png": "[encoded data removed]",
      "text/plain": [
       "<Figure size 600x300 with 1 Axes>"
      ]
     },
     "metadata": {},
     "output_type": "display_data"
    }
   ],
   "source": [
    "plot_box(info,value='MW',group='cat',palette='tab20')"
   ]
  },
  {
   "cell_type": "markdown",
   "metadata": {},
   "source": [
    "## Pearson correlation"
   ]
  },
  {
   "cell_type": "code",
   "execution_count": null,
   "metadata": {},
   "outputs": [],
   "source": [
    "#| export\n",
    "@delegates(sns.regplot)\n",
    "def plot_corr(\n",
    "    df,  # dataframe that contains data\n",
    "    x,  # x axis values, or colname of x axis\n",
    "    y,  # y axis values, or colname of y axis\n",
    "    text_location=(0.8, 0.1),  # relative coords in Axes (0–1)\n",
    "    method=\"spearman\",  # correlation method: 'pearson' or 'spearman'\n",
    "    index_list=None,  # list of indices to annotate\n",
    "    hue=None,\n",
    "    reg_line=True,\n",
    "    **kwargs\n",
    "):\n",
    "    \"\"\"\n",
    "    Given a dataframe and the name of two columns, \n",
    "    plot the two columns' correlation with either Pearson or Spearman.\n",
    "    Annotate points if their index is in index_list.\n",
    "    \"\"\"\n",
    "    x_vals = df[x]\n",
    "    y_vals = df[y]\n",
    "\n",
    "    # Compute correlation\n",
    "    if method.lower() == \"spearman\":\n",
    "        corr_val, pvalue = spearmanr(x_vals, y_vals)\n",
    "        corr_label = f\"Spearman ρ = {corr_val:.2f}\\n p = {pvalue:.2e}\"\n",
    "    else:\n",
    "        corr_val, pvalue = pearsonr(x_vals, y_vals)\n",
    "        corr_label = f\"Pearson r = {corr_val:.2f}\\n p = {pvalue:.2e}\"\n",
    "\n",
    "    # Plot regression line + scatter\n",
    "    if hue is not None:\n",
    "        sns.scatterplot(data=df, x=x, y=y, hue=hue, **kwargs)\n",
    "        if reg_line: sns.regplot(x=x_vals, y=y_vals, scatter=False, line_kws={'color': 'gray','alpha': 0.5})\n",
    "        plt.legend(\n",
    "            bbox_to_anchor=(1.05, 1),   # (x, y) anchor relative to axes\n",
    "            loc=\"upper left\",           # where to attach the legend box\n",
    "            borderaxespad=0.\n",
    "        )\n",
    "    else:\n",
    "        sns.regplot(x=x_vals, y=y_vals, line_kws={'color': 'gray'}, **kwargs)\n",
    "\n",
    "\n",
    "    # Add correlation text\n",
    "    plt.text(\n",
    "        x=text_location[0],\n",
    "        y=text_location[1],\n",
    "        s=corr_label,\n",
    "        transform=plt.gca().transAxes,\n",
    "        ha=\"center\",\n",
    "        va=\"center\"\n",
    "    )\n",
    "\n",
    "    # Annotate selected points if index_list is given\n",
    "    texts = []\n",
    "    if index_list is not None:\n",
    "        for idx in index_list:\n",
    "            if idx in df.index:  # make sure index exists\n",
    "                texts.append(\n",
    "                    plt.text(\n",
    "                        x_vals.loc[idx], \n",
    "                        y_vals.loc[idx], \n",
    "                        str(idx),\n",
    "                        fontsize=9,\n",
    "                        ha=\"center\",\n",
    "                        va=\"center\"\n",
    "                    )\n",
    "                )\n",
    "        if texts:\n",
    "            adjust_text(texts, arrowprops=dict(arrowstyle=\"->\", color=\"black\", lw=0.5))"
   ]
  },
  {
   "cell_type": "code",
   "execution_count": null,
   "metadata": {},
   "outputs": [
    {
     "data": {
      "text/html": [
       "<div>\n",
       "<style scoped>\n",
       "    .dataframe tbody tr th:only-of-type {\n",
       "        vertical-align: middle;\n",
       "    }\n",
       "\n",
       "    .dataframe tbody tr th {\n",
       "        vertical-align: top;\n",
       "    }\n",
       "\n",
       "    .dataframe thead th {\n",
       "        text-align: right;\n",
       "    }\n",
       "</style>\n",
       "<table border=\"1\" class=\"dataframe\">\n",
       "  <thead>\n",
       "    <tr style=\"text-align: right;\">\n",
       "      <th>kinase</th>\n",
       "      <th>AAK1</th>\n",
       "      <th>ACVR2A</th>\n",
       "      <th>ACVR2B</th>\n",
       "      <th>AKT1</th>\n",
       "      <th>AKT2</th>\n",
       "      <th>AKT3</th>\n",
       "      <th>ALK2</th>\n",
       "      <th>ALK4</th>\n",
       "      <th>ALPHAK3</th>\n",
       "      <th>AMPKA1</th>\n",
       "      <th>...</th>\n",
       "      <th>VRK1</th>\n",
       "      <th>VRK2</th>\n",
       "      <th>WNK1</th>\n",
       "      <th>WNK3</th>\n",
       "      <th>WNK4</th>\n",
       "      <th>YANK2</th>\n",
       "      <th>YANK3</th>\n",
       "      <th>YSK1</th>\n",
       "      <th>YSK4</th>\n",
       "      <th>ZAK</th>\n",
       "    </tr>\n",
       "  </thead>\n",
       "  <tbody>\n",
       "    <tr>\n",
       "      <th>-5P</th>\n",
       "      <td>0.0720</td>\n",
       "      <td>0.0415</td>\n",
       "      <td>0.0533</td>\n",
       "      <td>0.0603</td>\n",
       "      <td>0.0602</td>\n",
       "      <td>0.0705</td>\n",
       "      <td>0.0536</td>\n",
       "      <td>0.0552</td>\n",
       "      <td>0.0571</td>\n",
       "      <td>0.0555</td>\n",
       "      <td>...</td>\n",
       "      <td>0.0710</td>\n",
       "      <td>0.0684</td>\n",
       "      <td>0.0482</td>\n",
       "      <td>0.0413</td>\n",
       "      <td>0.0369</td>\n",
       "      <td>0.0580</td>\n",
       "      <td>0.0625</td>\n",
       "      <td>0.0590</td>\n",
       "      <td>0.0593</td>\n",
       "      <td>0.0604</td>\n",
       "    </tr>\n",
       "    <tr>\n",
       "      <th>-5G</th>\n",
       "      <td>0.0245</td>\n",
       "      <td>0.0481</td>\n",
       "      <td>0.0517</td>\n",
       "      <td>0.0594</td>\n",
       "      <td>0.0617</td>\n",
       "      <td>0.0624</td>\n",
       "      <td>0.0659</td>\n",
       "      <td>0.0574</td>\n",
       "      <td>0.0478</td>\n",
       "      <td>0.0504</td>\n",
       "      <td>...</td>\n",
       "      <td>0.0786</td>\n",
       "      <td>0.0676</td>\n",
       "      <td>0.0510</td>\n",
       "      <td>0.0572</td>\n",
       "      <td>0.0523</td>\n",
       "      <td>0.0699</td>\n",
       "      <td>0.0776</td>\n",
       "      <td>0.0713</td>\n",
       "      <td>0.0728</td>\n",
       "      <td>0.0641</td>\n",
       "    </tr>\n",
       "    <tr>\n",
       "      <th>-5A</th>\n",
       "      <td>0.0284</td>\n",
       "      <td>0.0584</td>\n",
       "      <td>0.0566</td>\n",
       "      <td>0.0552</td>\n",
       "      <td>0.0643</td>\n",
       "      <td>0.0745</td>\n",
       "      <td>0.0662</td>\n",
       "      <td>0.0605</td>\n",
       "      <td>0.0253</td>\n",
       "      <td>0.0534</td>\n",
       "      <td>...</td>\n",
       "      <td>0.0633</td>\n",
       "      <td>0.0636</td>\n",
       "      <td>0.0555</td>\n",
       "      <td>0.0503</td>\n",
       "      <td>0.0539</td>\n",
       "      <td>0.0637</td>\n",
       "      <td>0.0647</td>\n",
       "      <td>0.0731</td>\n",
       "      <td>0.0744</td>\n",
       "      <td>0.0659</td>\n",
       "    </tr>\n",
       "    <tr>\n",
       "      <th>-5C</th>\n",
       "      <td>0.0456</td>\n",
       "      <td>0.0489</td>\n",
       "      <td>0.0772</td>\n",
       "      <td>0.0605</td>\n",
       "      <td>0.0582</td>\n",
       "      <td>0.0628</td>\n",
       "      <td>0.0762</td>\n",
       "      <td>0.0483</td>\n",
       "      <td>0.0384</td>\n",
       "      <td>0.0588</td>\n",
       "      <td>...</td>\n",
       "      <td>0.0641</td>\n",
       "      <td>0.0644</td>\n",
       "      <td>0.0576</td>\n",
       "      <td>0.0732</td>\n",
       "      <td>0.0544</td>\n",
       "      <td>0.0602</td>\n",
       "      <td>0.0598</td>\n",
       "      <td>0.0606</td>\n",
       "      <td>0.0734</td>\n",
       "      <td>0.0631</td>\n",
       "    </tr>\n",
       "    <tr>\n",
       "      <th>-5S</th>\n",
       "      <td>0.0425</td>\n",
       "      <td>0.0578</td>\n",
       "      <td>0.0533</td>\n",
       "      <td>0.0516</td>\n",
       "      <td>0.0534</td>\n",
       "      <td>0.0442</td>\n",
       "      <td>0.0567</td>\n",
       "      <td>0.0574</td>\n",
       "      <td>0.0571</td>\n",
       "      <td>0.0504</td>\n",
       "      <td>...</td>\n",
       "      <td>0.0595</td>\n",
       "      <td>0.0573</td>\n",
       "      <td>0.0561</td>\n",
       "      <td>0.0569</td>\n",
       "      <td>0.0580</td>\n",
       "      <td>0.0580</td>\n",
       "      <td>0.0545</td>\n",
       "      <td>0.0542</td>\n",
       "      <td>0.0597</td>\n",
       "      <td>0.0597</td>\n",
       "    </tr>\n",
       "  </tbody>\n",
       "</table>\n",
       "<p>5 rows × 303 columns</p>\n",
       "</div>"
      ],
      "text/plain": [
       "kinase    AAK1  ACVR2A  ACVR2B    AKT1    AKT2    AKT3    ALK2    ALK4  \\\n",
       "-5P     0.0720  0.0415  0.0533  0.0603  0.0602  0.0705  0.0536  0.0552   \n",
       "-5G     0.0245  0.0481  0.0517  0.0594  0.0617  0.0624  0.0659  0.0574   \n",
       "-5A     0.0284  0.0584  0.0566  0.0552  0.0643  0.0745  0.0662  0.0605   \n",
       "-5C     0.0456  0.0489  0.0772  0.0605  0.0582  0.0628  0.0762  0.0483   \n",
       "-5S     0.0425  0.0578  0.0533  0.0516  0.0534  0.0442  0.0567  0.0574   \n",
       "\n",
       "kinase  ALPHAK3  AMPKA1  ...    VRK1    VRK2    WNK1    WNK3    WNK4   YANK2  \\\n",
       "-5P      0.0571  0.0555  ...  0.0710  0.0684  0.0482  0.0413  0.0369  0.0580   \n",
       "-5G      0.0478  0.0504  ...  0.0786  0.0676  0.0510  0.0572  0.0523  0.0699   \n",
       "-5A      0.0253  0.0534  ...  0.0633  0.0636  0.0555  0.0503  0.0539  0.0637   \n",
       "-5C      0.0384  0.0588  ...  0.0641  0.0644  0.0576  0.0732  0.0544  0.0602   \n",
       "-5S      0.0571  0.0504  ...  0.0595  0.0573  0.0561  0.0569  0.0580  0.0580   \n",
       "\n",
       "kinase   YANK3    YSK1    YSK4     ZAK  \n",
       "-5P     0.0625  0.0590  0.0593  0.0604  \n",
       "-5G     0.0776  0.0713  0.0728  0.0641  \n",
       "-5A     0.0647  0.0731  0.0744  0.0659  \n",
       "-5C     0.0598  0.0606  0.0734  0.0631  \n",
       "-5S     0.0545  0.0542  0.0597  0.0597  \n",
       "\n",
       "[5 rows x 303 columns]"
      ]
     },
     "execution_count": null,
     "metadata": {},
     "output_type": "execute_result"
    }
   ],
   "source": [
    "norm = Data.get_pspa_st_norm().iloc[:,:-6].T\n",
    "\n",
    "norm.head()"
   ]
  },
  {
   "cell_type": "code",
   "execution_count": null,
   "metadata": {},
   "outputs": [
    {
     "data": {
      "image/png": "[encoded data removed]",
      "text/plain": [
       "<Figure size 640x480 with 1 Axes>"
      ]
     },
     "metadata": {},
     "output_type": "display_data"
    }
   ],
   "source": [
    "plot_corr(df=norm, x='AAK1', y='BIKE')"
   ]
  },
  {
   "cell_type": "markdown",
   "metadata": {},
   "source": [
    "## Matrix heatmap"
   ]
  },
  {
   "cell_type": "code",
   "execution_count": null,
   "metadata": {},
   "outputs": [],
   "source": [
    "#| export\n",
    "def get_similarity(df, metric='euclidean'):\n",
    "    \"Calculate distance matrix of a df; also return inverse df (similarity df)\"\n",
    "    dist_matrix = pairwise_distances(df, metric=metric)\n",
    "    dist_df = pd.DataFrame(dist_matrix, index=df.index, columns=df.index)\n",
    "    \n",
    "    sigma = np.mean(dist_matrix)\n",
    "    sim_df = np.exp(-dist_df**2 / (2 * sigma**2))\n",
    "    return dist_df, sim_df"
   ]
  },
  {
   "cell_type": "code",
   "execution_count": null,
   "metadata": {},
   "outputs": [],
   "source": [
    "#| export\n",
    "def plot_matrix(dist_matrix, inverse_color=False):\n",
    "    \"Plot distance/similarity matrix\"\n",
    "    \n",
    "    mask = np.triu(np.ones_like(dist_matrix, dtype=bool))\n",
    "    cmap = 'coolwarm' if not inverse_color else 'coolwarm_r'\n",
    "    plt.figure(figsize=(10, 8))\n",
    "    sns.heatmap(\n",
    "        dist_matrix,\n",
    "        cmap=cmap,\n",
    "        mask=mask,\n",
    "        # annot=False,\n",
    "        # fmt='.2f',\n",
    "        linewidths=0.1,  \n",
    "        linecolor='white' \n",
    "    )\n",
    "    plt.xlabel('')\n",
    "    plt.ylabel('')\n",
    "    plt.yticks(rotation=0)"
   ]
  },
  {
   "cell_type": "code",
   "execution_count": null,
   "metadata": {},
   "outputs": [
    {
     "data": {
      "text/html": [
       "<div>\n",
       "<style scoped>\n",
       "    .dataframe tbody tr th:only-of-type {\n",
       "        vertical-align: middle;\n",
       "    }\n",
       "\n",
       "    .dataframe tbody tr th {\n",
       "        vertical-align: top;\n",
       "    }\n",
       "\n",
       "    .dataframe thead th {\n",
       "        text-align: right;\n",
       "    }\n",
       "</style>\n",
       "<table border=\"1\" class=\"dataframe\">\n",
       "  <thead>\n",
       "    <tr style=\"text-align: right;\">\n",
       "      <th>aa</th>\n",
       "      <th>A</th>\n",
       "      <th>C</th>\n",
       "      <th>D</th>\n",
       "      <th>E</th>\n",
       "      <th>F</th>\n",
       "      <th>G</th>\n",
       "      <th>H</th>\n",
       "      <th>I</th>\n",
       "      <th>K</th>\n",
       "      <th>L</th>\n",
       "      <th>...</th>\n",
       "      <th>S</th>\n",
       "      <th>T</th>\n",
       "      <th>V</th>\n",
       "      <th>W</th>\n",
       "      <th>Y</th>\n",
       "      <th>s</th>\n",
       "      <th>t</th>\n",
       "      <th>y</th>\n",
       "      <th>Kac</th>\n",
       "      <th>Kme3</th>\n",
       "    </tr>\n",
       "    <tr>\n",
       "      <th>aa</th>\n",
       "      <th></th>\n",
       "      <th></th>\n",
       "      <th></th>\n",
       "      <th></th>\n",
       "      <th></th>\n",
       "      <th></th>\n",
       "      <th></th>\n",
       "      <th></th>\n",
       "      <th></th>\n",
       "      <th></th>\n",
       "      <th></th>\n",
       "      <th></th>\n",
       "      <th></th>\n",
       "      <th></th>\n",
       "      <th></th>\n",
       "      <th></th>\n",
       "      <th></th>\n",
       "      <th></th>\n",
       "      <th></th>\n",
       "      <th></th>\n",
       "      <th></th>\n",
       "    </tr>\n",
       "  </thead>\n",
       "  <tbody>\n",
       "    <tr>\n",
       "      <th>A</th>\n",
       "      <td>1.000000</td>\n",
       "      <td>0.362285</td>\n",
       "      <td>0.090512</td>\n",
       "      <td>-0.112693</td>\n",
       "      <td>-0.189588</td>\n",
       "      <td>0.725605</td>\n",
       "      <td>0.000479</td>\n",
       "      <td>0.189212</td>\n",
       "      <td>-0.099613</td>\n",
       "      <td>0.270430</td>\n",
       "      <td>...</td>\n",
       "      <td>0.560214</td>\n",
       "      <td>0.377420</td>\n",
       "      <td>0.294869</td>\n",
       "      <td>-0.345882</td>\n",
       "      <td>-0.292322</td>\n",
       "      <td>-0.257989</td>\n",
       "      <td>-0.294085</td>\n",
       "      <td>-0.540545</td>\n",
       "      <td>-0.446649</td>\n",
       "      <td>-0.353592</td>\n",
       "    </tr>\n",
       "    <tr>\n",
       "      <th>C</th>\n",
       "      <td>0.362285</td>\n",
       "      <td>1.000000</td>\n",
       "      <td>-0.064188</td>\n",
       "      <td>-0.173111</td>\n",
       "      <td>-0.249098</td>\n",
       "      <td>0.409469</td>\n",
       "      <td>0.009036</td>\n",
       "      <td>0.008175</td>\n",
       "      <td>-0.245936</td>\n",
       "      <td>-0.027502</td>\n",
       "      <td>...</td>\n",
       "      <td>0.298754</td>\n",
       "      <td>0.143817</td>\n",
       "      <td>0.101138</td>\n",
       "      <td>-0.221078</td>\n",
       "      <td>-0.274137</td>\n",
       "      <td>-0.039459</td>\n",
       "      <td>-0.154141</td>\n",
       "      <td>-0.339660</td>\n",
       "      <td>-0.297758</td>\n",
       "      <td>-0.210207</td>\n",
       "    </tr>\n",
       "    <tr>\n",
       "      <th>D</th>\n",
       "      <td>0.090512</td>\n",
       "      <td>-0.064188</td>\n",
       "      <td>1.000000</td>\n",
       "      <td>0.803788</td>\n",
       "      <td>-0.305487</td>\n",
       "      <td>0.065810</td>\n",
       "      <td>-0.211706</td>\n",
       "      <td>-0.272792</td>\n",
       "      <td>-0.229956</td>\n",
       "      <td>-0.263288</td>\n",
       "      <td>...</td>\n",
       "      <td>0.302876</td>\n",
       "      <td>0.228545</td>\n",
       "      <td>-0.181244</td>\n",
       "      <td>-0.340342</td>\n",
       "      <td>-0.191931</td>\n",
       "      <td>0.386431</td>\n",
       "      <td>0.295387</td>\n",
       "      <td>-0.044046</td>\n",
       "      <td>-0.131867</td>\n",
       "      <td>-0.231809</td>\n",
       "    </tr>\n",
       "    <tr>\n",
       "      <th>E</th>\n",
       "      <td>-0.112693</td>\n",
       "      <td>-0.173111</td>\n",
       "      <td>0.803788</td>\n",
       "      <td>1.000000</td>\n",
       "      <td>-0.242507</td>\n",
       "      <td>-0.068794</td>\n",
       "      <td>-0.239756</td>\n",
       "      <td>-0.210293</td>\n",
       "      <td>-0.106431</td>\n",
       "      <td>-0.265852</td>\n",
       "      <td>...</td>\n",
       "      <td>0.042331</td>\n",
       "      <td>-0.043214</td>\n",
       "      <td>-0.171171</td>\n",
       "      <td>-0.251833</td>\n",
       "      <td>-0.049223</td>\n",
       "      <td>0.241647</td>\n",
       "      <td>0.166818</td>\n",
       "      <td>0.097376</td>\n",
       "      <td>0.125016</td>\n",
       "      <td>-0.177356</td>\n",
       "    </tr>\n",
       "    <tr>\n",
       "      <th>F</th>\n",
       "      <td>-0.189588</td>\n",
       "      <td>-0.249098</td>\n",
       "      <td>-0.305487</td>\n",
       "      <td>-0.242507</td>\n",
       "      <td>1.000000</td>\n",
       "      <td>-0.155484</td>\n",
       "      <td>0.011415</td>\n",
       "      <td>0.093393</td>\n",
       "      <td>0.019161</td>\n",
       "      <td>0.109600</td>\n",
       "      <td>...</td>\n",
       "      <td>-0.352333</td>\n",
       "      <td>-0.328142</td>\n",
       "      <td>-0.001738</td>\n",
       "      <td>0.660432</td>\n",
       "      <td>0.453157</td>\n",
       "      <td>-0.359352</td>\n",
       "      <td>-0.300223</td>\n",
       "      <td>0.252583</td>\n",
       "      <td>-0.089912</td>\n",
       "      <td>0.023859</td>\n",
       "    </tr>\n",
       "  </tbody>\n",
       "</table>\n",
       "<p>5 rows × 25 columns</p>\n",
       "</div>"
      ],
      "text/plain": [
       "aa         A         C         D         E         F         G         H  \\\n",
       "aa                                                                         \n",
       "A   1.000000  0.362285  0.090512 -0.112693 -0.189588  0.725605  0.000479   \n",
       "C   0.362285  1.000000 -0.064188 -0.173111 -0.249098  0.409469  0.009036   \n",
       "D   0.090512 -0.064188  1.000000  0.803788 -0.305487  0.065810 -0.211706   \n",
       "E  -0.112693 -0.173111  0.803788  1.000000 -0.242507 -0.068794 -0.239756   \n",
       "F  -0.189588 -0.249098 -0.305487 -0.242507  1.000000 -0.155484  0.011415   \n",
       "\n",
       "aa         I         K         L  ...         S         T         V         W  \\\n",
       "aa                                ...                                           \n",
       "A   0.189212 -0.099613  0.270430  ...  0.560214  0.377420  0.294869 -0.345882   \n",
       "C   0.008175 -0.245936 -0.027502  ...  0.298754  0.143817  0.101138 -0.221078   \n",
       "D  -0.272792 -0.229956 -0.263288  ...  0.302876  0.228545 -0.181244 -0.340342   \n",
       "E  -0.210293 -0.106431 -0.265852  ...  0.042331 -0.043214 -0.171171 -0.251833   \n",
       "F   0.093393  0.019161  0.109600  ... -0.352333 -0.328142 -0.001738  0.660432   \n",
       "\n",
       "aa         Y         s         t         y       Kac      Kme3  \n",
       "aa                                                              \n",
       "A  -0.292322 -0.257989 -0.294085 -0.540545 -0.446649 -0.353592  \n",
       "C  -0.274137 -0.039459 -0.154141 -0.339660 -0.297758 -0.210207  \n",
       "D  -0.191931  0.386431  0.295387 -0.044046 -0.131867 -0.231809  \n",
       "E  -0.049223  0.241647  0.166818  0.097376  0.125016 -0.177356  \n",
       "F   0.453157 -0.359352 -0.300223  0.252583 -0.089912  0.023859  \n",
       "\n",
       "[5 rows x 25 columns]"
      ]
     },
     "execution_count": null,
     "metadata": {},
     "output_type": "execute_result"
    }
   ],
   "source": [
    "rdkit_corr = aa_rdkit.T.corr()\n",
    "rdkit_corr.head()"
   ]
  },
  {
   "cell_type": "code",
   "execution_count": null,
   "metadata": {},
   "outputs": [
    {
     "data": {
      "image/png": "[encoded data removed]",
      "text/plain": [
       "<Figure size 1000x800 with 2 Axes>"
      ]
     },
     "metadata": {},
     "output_type": "display_data"
    }
   ],
   "source": [
    "plot_matrix(rdkit_corr)"
   ]
  },
  {
   "cell_type": "markdown",
   "metadata": {},
   "source": [
    "## AUCDF"
   ]
  },
  {
   "cell_type": "markdown",
   "metadata": {},
   "source": [
    "We compute the area under the empirical cumulative distribution function (CDF) as a function of kinase rank using the trapezoidal rule.  \n",
    "Let $ r_{(1)} < r_{(2)} < \\dots < r_{(n)} $ be the sorted rank values (e.g., $1,2,\\dots,n$), and define the empirical CDF values as:\n",
    "\n",
    "$$\n",
    "F(r_{(i)}) = \\frac{i}{n}\n",
    "$$\n",
    "\n",
    "The normalized area under this CDF-vs-rank curve (AUCDF) is then computed via the trapezoidal rule:\n",
    "\n",
    "$$\n",
    "\\text{AUC}_{\\text{CDF}} =\n",
    "\\frac{1}{r_{\\max} - r_{\\min}} \\sum_{i=1}^{n-1}\n",
    "\\frac{F(r_{(i)}) + F(r_{(i+1)})}{2} \\cdot (r_{(i+1)} - r_{(i)})\n",
    "$$\n",
    "\n",
    "where $ r_{\\min} = r_{(1)} $, typically 1; $ r_{\\max} = r_{(n)} $, typically $n$.\n",
    "\n",
    "This measures how quickly the cumulative mass increases across the ranked kinases. If better kinases (lower rank) tend to appear earlier in the CDF, the AUCDF will be higher."
   ]
  },
  {
   "cell_type": "code",
   "execution_count": null,
   "metadata": {},
   "outputs": [],
   "source": [
    "#| export\n",
    "def get_AUCDF(df,col, reverse=False,plot=True,xlabel='Rank of reported kinase'):\n",
    "    \n",
    "    \"Plot CDF curve and get relative area under the curve\"\n",
    "    \n",
    "    # sort col values as x values\n",
    "    x_values = df[col].sort_values().values\n",
    "    \n",
    "    # get y_values evenly distributed from 0 to 1\n",
    "    # y_values = np.arange(1, len(x_values) + 1) / len(x_values) # this method assumes equal distribution of each x value\n",
    "    y_values = pd.Series(x_values).rank(method='average', pct=True).values # this method takes duplicates into account\n",
    "    \n",
    "    if reverse:\n",
    "        y_values = 1 - y_values + y_values.min()  # Adjust for reverse while keeping the distribution's integrity\n",
    "    # calculate the area under the curve using the trapezoidal rule\n",
    "    area_under_curve = np.trapezoid(y_values, x_values)\n",
    "    \n",
    "    # calculate total area\n",
    "    # total_area = (x_values[-1] - x_values[0]) * (y_values[-1] - y_values[0])\n",
    "    total_area = (x_values[-1] - x_values[0]) * 1\n",
    "    \n",
    "\n",
    "    AUCDF = area_under_curve / total_area\n",
    "    if reverse:\n",
    "        AUCDF = -AUCDF\n",
    "    \n",
    "    if plot:\n",
    "        # Create a figure and a primary axis\n",
    "        fig, ax1 = plt.subplots(figsize=(7,5))\n",
    "        \n",
    "        # fontsize\n",
    "        fontsize=17\n",
    "        \n",
    "        # Plot the histogram on the primary axis\n",
    "        sns.histplot(x_values,bins=20,ax=ax1)\n",
    "        ax1.set_xlabel(xlabel,fontsize=fontsize)\n",
    "        ax1.set_ylabel('Substrates',color='darkblue',fontsize=fontsize)\n",
    "        ax1.tick_params(axis='y', labelcolor='darkblue',labelsize=fontsize)\n",
    "        ax1.tick_params(axis='x', labelcolor='black',labelsize=fontsize)\n",
    "        ax1.set_xlim(min(x_values),max(x_values))\n",
    "\n",
    "        # Create a secondary axis for the CDF\n",
    "        ax2 = ax1.twinx()\n",
    "\n",
    "        # Plot the CDF on the secondary axis\n",
    "        # ax2.plot(bin_edges[:-1], cumulative_data, color='red', linestyle='-', linewidth=2.0)\n",
    "        ax2.plot(x_values, y_values, color='darkred', linestyle='-', linewidth=2.0)\n",
    "        if reverse:\n",
    "            ax2.plot([max(x_values),0],[0, max(y_values)], 'k--')  # 'k--' is for a black dashed line\n",
    "        else:\n",
    "            ax2.plot([0, max(x_values)], [0, max(y_values)], 'k--')  # 'k--' is for a black dashed line\n",
    "\n",
    "        ax2.set_ylabel('Probability', color='darkred',fontsize=fontsize,rotation=270,labelpad=18)\n",
    "        if reverse:\n",
    "            ax2.text(0.45, 0.3, f\"AUCDF:{AUCDF.round(4)}\", transform=plt.gca().transAxes, ha='right', va='bottom',fontsize=fontsize)\n",
    "        else:\n",
    "            ax2.text(0.95, 0.3, f\"AUCDF:{AUCDF.round(4)}\", transform=plt.gca().transAxes, ha='right', va='bottom',fontsize=fontsize)\n",
    "        ax2.tick_params(axis='y', labelcolor='darkred',labelsize=fontsize)\n",
    "        ax2.set_ylim(0, 1)  # Probabilities range from 0 to 1\n",
    "\n",
    "        # Show the plot\n",
    "        plt.title(f'{len(x_values):,} kinase-substrate pairs',fontsize=fontsize)\n",
    "        plt.show()\n",
    "        \n",
    "    return AUCDF"
   ]
  },
  {
   "cell_type": "code",
   "execution_count": null,
   "metadata": {},
   "outputs": [
    {
     "data": {
      "image/png": "[encoded data removed]",
      "text/plain": [
       "<Figure size 700x500 with 2 Axes>"
      ]
     },
     "metadata": {},
     "output_type": "display_data"
    },
    {
     "data": {
      "text/plain": [
       "np.float64(0.872608302329996)"
      ]
     },
     "execution_count": null,
     "metadata": {},
     "output_type": "execute_result"
    }
   ],
   "source": [
    "get_AUCDF(sorted_df,'values')"
   ]
  },
  {
   "cell_type": "markdown",
   "metadata": {},
   "source": [
    "## Confusion matrix"
   ]
  },
  {
   "cell_type": "code",
   "execution_count": null,
   "metadata": {},
   "outputs": [],
   "source": [
    "#| export\n",
    "def plot_confusion_matrix(target, # pd.Series \n",
    "                          pred, # pd.Series\n",
    "                          class_names:list=['0','1'],\n",
    "                          normalize=False,\n",
    "                          title='Confusion matrix',\n",
    "                          cmap=plt.cm.Blues):\n",
    "    \n",
    "    \"Plot the confusion matrix.\"\n",
    "    \n",
    "    cm = confusion_matrix(target, pred)\n",
    "    \n",
    "    if normalize:\n",
    "        cm = cm.astype('float') / cm.sum(axis=1)[:, np.newaxis]\n",
    "        print(\"Normalized confusion matrix\")\n",
    "    else:\n",
    "        print('Confusion matrix, without normalization')\n",
    "\n",
    "\n",
    "    plt.figure(figsize=(6,6))\n",
    "    sns.heatmap(cm, annot=True, cmap=cmap)  # Plot the heatmap\n",
    "    plt.title(title)\n",
    "    plt.ylabel('True label')\n",
    "    plt.xlabel('Predicted label')\n",
    "    plt.xticks(np.arange(len(class_names)) + 0.5, class_names)\n",
    "    plt.yticks(np.arange(len(class_names)) + 0.5, class_names, rotation=0)"
   ]
  },
  {
   "cell_type": "code",
   "execution_count": null,
   "metadata": {},
   "outputs": [],
   "source": [
    "target = info.MW<160\n",
    "pred = info.pKa1>2.1"
   ]
  },
  {
   "cell_type": "code",
   "execution_count": null,
   "metadata": {},
   "outputs": [
    {
     "name": "stdout",
     "output_type": "stream",
     "text": [
      "Normalized confusion matrix\n"
     ]
    },
    {
     "data": {
      "image/png": "[encoded data removed]",
      "text/plain": [
       "<Figure size 600x600 with 2 Axes>"
      ]
     },
     "metadata": {},
     "output_type": "display_data"
    }
   ],
   "source": [
    "plot_confusion_matrix(target,pred,normalize=True)"
   ]
  },
  {
   "cell_type": "markdown",
   "metadata": {},
   "source": [
    "## Pie plot"
   ]
  },
  {
   "cell_type": "code",
   "execution_count": null,
   "metadata": {},
   "outputs": [],
   "source": [
    "#| export\n",
    "def plot_pie(value_counts, # value counts\n",
    "             hue_order=None, # list of strings\n",
    "             labeldistance=0.8,\n",
    "             fontsize=12,\n",
    "             fontcolor='black',\n",
    "             palette='tab20' ,\n",
    "             figsize=(4,3)\n",
    "            ):\n",
    "    if hue_order is not None: value_counts = value_counts.reindex(hue_order)\n",
    "    colors = sns.color_palette(palette, n_colors=len(value_counts))\n",
    "    value_counts.plot.pie(\n",
    "        autopct='%1.1f%%',    # Show percentage inside slices\n",
    "        labeldistance=labeldistance,    # Move labels closer to center\n",
    "        textprops={'fontsize': fontsize, 'color': fontcolor} ,\n",
    "        colors=colors,\n",
    "        figsize=figsize,\n",
    "    )\n",
    "    plt.ylabel('')\n",
    "    plt.title(f'n={value_counts.sum():,}')"
   ]
  },
  {
   "cell_type": "code",
   "execution_count": null,
   "metadata": {},
   "outputs": [],
   "source": [
    "info=Data.get_kinase_info()"
   ]
  },
  {
   "cell_type": "code",
   "execution_count": null,
   "metadata": {},
   "outputs": [
    {
     "data": {
      "image/png": "[encoded data removed]",
      "text/plain": [
       "<Figure size 400x300 with 1 Axes>"
      ]
     },
     "metadata": {},
     "output_type": "display_data"
    }
   ],
   "source": [
    "plot_pie(info.modi_group.value_counts(),\n",
    "         fontsize=10,\n",
    "         labeldistance=1)"
   ]
  },
  {
   "cell_type": "markdown",
   "metadata": {},
   "source": [
    "## Bar composition"
   ]
  },
  {
   "cell_type": "code",
   "execution_count": null,
   "metadata": {},
   "outputs": [],
   "source": [
    "#| export\n",
    "def get_pct(df,bin_col, hue_col):\n",
    "    \"Get percentage for hue in each bin; with hue adding up to 1 in each bin.\"\n",
    "    count_df = df.groupby([bin_col, hue_col], observed=False).size().unstack(fill_value=0)\n",
    "    pct_df = count_df.div(count_df.sum(axis=1), axis=0) * 100\n",
    "    return pct_df"
   ]
  },
  {
   "cell_type": "code",
   "execution_count": null,
   "metadata": {},
   "outputs": [],
   "source": [
    "#| export\n",
    "def plot_composition(df, bin_col, hue_col,palette='tab20',legend_title=None,rotate=45,xlabel=None,ylabel='Percentage',figsize=(5,3)):\n",
    "    pct_df = get_pct(df,bin_col,hue_col)\n",
    "\n",
    "    colors = get_plt_color(palette,pct_df.columns)\n",
    "    \n",
    "    pct_df.plot(kind='bar', figsize=figsize,stacked=True,color=colors)\n",
    "    \n",
    "    plt.ylabel(ylabel)\n",
    "    plt.xlabel(xlabel)\n",
    "    plt.xticks(rotation=rotate)\n",
    "    if legend_title is None: legend_title = hue_col \n",
    "    plt.legend(title=legend_title, bbox_to_anchor=(1.05, 1), loc='upper left')"
   ]
  },
  {
   "cell_type": "markdown",
   "metadata": {},
   "source": [
    "## Plot bar count with value text"
   ]
  },
  {
   "cell_type": "code",
   "execution_count": null,
   "metadata": {},
   "outputs": [],
   "source": [
    "#| export\n",
    "def plot_cnt(cnt, xlabel=None,ylabel='Count',figsize=(6, 3)):\n",
    "    fig, ax = plt.subplots(figsize=figsize)\n",
    "    cnt.plot.bar(ax=ax)\n",
    "    # Add text on top of each bar\n",
    "    for idx, value in enumerate(cnt):\n",
    "        ax.text(idx, value + 0.5, f\"{value:,}\", ha='center', va='bottom', fontsize=10)\n",
    "\n",
    "    ax.spines['top'].set_visible(False)\n",
    "    ax.spines['right'].set_visible(False)\n",
    "    ax.set_ylabel(ylabel)\n",
    "    ax.set_xlabel(xlabel)\n",
    "    plt.xticks(rotation=0)\n",
    "    plt.tight_layout()"
   ]
  },
  {
   "cell_type": "code",
   "execution_count": null,
   "metadata": {},
   "outputs": [],
   "source": [
    "# plot_composition(sites,\n",
    "#                  'bin',\n",
    "#                  'source_combine',\n",
    "#                  palette='Set2',\n",
    "#                  legend_title='Source',\n",
    "#                  figsize=(4,3)\n",
    "#                 )"
   ]
  },
  {
   "cell_type": "markdown",
   "metadata": {},
   "source": [
    "## End"
   ]
  },
  {
   "cell_type": "code",
   "execution_count": null,
   "metadata": {},
   "outputs": [],
   "source": [
    "#| hide\n",
    "import nbdev; nbdev.nbdev_export()"
   ]
  },
  {
   "cell_type": "code",
   "execution_count": null,
   "metadata": {},
   "outputs": [],
   "source": [
    "# #| export\n",
    "# def get_logo2(full: pd.DataFrame, # a dataframe that contains the full matrix of a kinase, with index as amino acid, and columns as positions\n",
    "#               title: str = 'logo', # title of the graph\n",
    "#               ):\n",
    "    \n",
    "#     \"Plot logo from a full freqency matrix of a kinase\"\n",
    "    \n",
    "#     # get S,T,Y ratio\n",
    "#     S_ratio,T_ratio,Y_ratio = full[0][['s','t','y']]/full[0][['s','t','y']].sum()\n",
    "    \n",
    "#     # drop position 0 \n",
    "#     full = full.drop(columns=[0])\n",
    "    \n",
    "#     # identify the minimum value other than 0\n",
    "#     min_val = full[full > 0].min().min()\n",
    "    \n",
    "#     # replace 0s with the identified minimum value\n",
    "#     full = full.replace(0, min_val)\n",
    "    \n",
    "#     norm_p = full.T\n",
    "\n",
    "#     # calculate ratio, use substraction\n",
    "#     ratio =norm_p.apply(lambda r: r-r.median(),axis=1)\n",
    "    \n",
    "#     # calculate ratio based on previous method, divide values by median, followed by log2\n",
    "#     # ratio =norm_p.apply(lambda r: r/r.median(),axis=1)\n",
    "#     # ratio = np.log2(ratio)\n",
    "    \n",
    "#     # get the max value for a position\n",
    "#     m = ratio.apply(lambda row: row[row > 0].sum(), axis=1).max()\n",
    "    \n",
    "#     # get the relative height of S,T,Y relative to the max value\n",
    "#     new_row = pd.DataFrame({'S': S_ratio*m, 'T':T_ratio*m,'Y':Y_ratio*m}, index=[0]) \n",
    "    \n",
    "#     # prepare the matrix for logomaker\n",
    "#     ratio2 = pd.concat([ratio, new_row], ignore_index=False).fillna(0)\n",
    "\n",
    "#     # logo_func(ratio2,title)\n",
    "#     plot_logo_raw(ratio2.T,title=title)\n",
    "\n",
    "# # get kinase-substrate dataset\n",
    "# df = Data.get_ks_dataset()\n",
    "\n",
    "# # get data for a specific kinase\n",
    "# df_k = df.query('kinase == \"DYRK2\"')\n",
    "\n",
    "# # get the full freq matrix\n",
    "# _,full = get_freq(ks_k)\n",
    "\n",
    "# # plot logo\n",
    "# get_logo2(full,'DYRK2')"
   ]
  },
  {
   "cell_type": "code",
   "execution_count": null,
   "metadata": {},
   "outputs": [],
   "source": []
  },
  {
   "cell_type": "code",
   "execution_count": null,
   "metadata": {},
   "outputs": [],
   "source": []
  }
 ],
 "metadata": {
  "kernelspec": {
   "display_name": "python3",
   "language": "python",
   "name": "python3"
  },
  "widgets": {
   "application/vnd.jupyter.widget-state+json": {
    "state": {},
    "version_major": 2,
    "version_minor": 0
   }
  }
 },
 "nbformat": 4,
 "nbformat_minor": 4
}
