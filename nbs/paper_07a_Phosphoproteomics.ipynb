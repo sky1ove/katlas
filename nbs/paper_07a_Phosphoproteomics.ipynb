{
 "cells": [
  {
   "cell_type": "raw",
   "id": "88da9510-3fc3-4a91-940a-d4dc9d6384fb",
   "metadata": {},
   "source": [
    "---\n",
    "skip_showdoc: true\n",
    "skip_exec: true\n",
    "---"
   ]
  },
  {
   "cell_type": "markdown",
   "id": "439d5d00-a82d-43a1-a5bb-a0d9940f041d",
   "metadata": {},
   "source": [
    "# Phosphoproteomics scoring"
   ]
  },
  {
   "cell_type": "markdown",
   "id": "f0fce32a-1404-4f28-a872-33f50ded3299",
   "metadata": {},
   "source": [
    "## Setup"
   ]
  },
  {
   "cell_type": "code",
   "execution_count": null,
   "id": "3f0e24ce-6859-4944-9529-11eb8e247f61",
   "metadata": {},
   "outputs": [],
   "source": [
    "# !pip install git+https://github.com/sky1ove/katlas.git -Uq"
   ]
  },
  {
   "cell_type": "code",
   "execution_count": null,
   "id": "78879e8c-52da-40ad-a8f8-367b0b692771",
   "metadata": {},
   "outputs": [],
   "source": [
    "import pandas as pd\n",
    "from matplotlib import pyplot as plt\n",
    "from katlas.core import *\n",
    "from katlas.plot import *\n",
    "import seaborn as sns\n",
    "from tqdm import tqdm\n",
    "import numpy as np\n",
    "\n",
    "tqdm.pandas()"
   ]
  },
  {
   "cell_type": "code",
   "execution_count": null,
   "id": "7a4baf2e-45ea-4450-a762-5a340e459bb8",
   "metadata": {},
   "outputs": [],
   "source": [
    "sns.set(rc={\"figure.dpi\":300, 'savefig.dpi':300})\n",
    "sns.set_context('notebook')\n",
    "sns.set_style(\"ticks\")"
   ]
  },
  {
   "cell_type": "markdown",
   "id": "fe3b1490-0c24-4cca-a8b6-20d2c5d0b93f",
   "metadata": {},
   "source": [
    "## Combine PhosphoSitePlus and Ochoa et al."
   ]
  },
  {
   "cell_type": "code",
   "execution_count": null,
   "id": "6ce78edc-fbd0-42c2-a0de-65b56a5c991a",
   "metadata": {},
   "outputs": [],
   "source": [
    "ochoa = Data.get_ochoa_site()\n",
    "# cptac = Data.get_cptac_ensembl_site()\n",
    "pplus = Data.get_psp_human_site()"
   ]
  },
  {
   "cell_type": "code",
   "execution_count": null,
   "id": "86d9a9c9-5fd0-4564-8378-60ac63e7da17",
   "metadata": {},
   "outputs": [],
   "source": [
    "pplus['site_seq'] = pplus.site_seq.str.upper()\n",
    "\n",
    "pplus['gene'] =pplus['gene'].fillna(pplus.uniprot)\n",
    "\n",
    "pplus['gene_site'] = pplus.gene+\"_\"+pplus.site\n",
    "\n",
    "pplus = pplus[pplus.LT_LIT.notna()]\n",
    "\n",
    "pplus = pplus[['gene','gene_site','site_seq']]"
   ]
  },
  {
   "cell_type": "code",
   "execution_count": null,
   "id": "f1c9554d-7112-4675-88ed-2a8d1cab3494",
   "metadata": {},
   "outputs": [],
   "source": [
    "ochoa['gene'] = ochoa.gene_site.str.split('_').str[0]\n",
    "\n",
    "ochoa = ochoa[['gene','gene_site','site_seq']]"
   ]
  },
  {
   "cell_type": "code",
   "execution_count": null,
   "id": "48ae388a-6603-44ae-982e-dad6ec1bb9bd",
   "metadata": {},
   "outputs": [],
   "source": [
    "pplus['source'] = 'phosphoplus'\n",
    "\n",
    "ochoa['source']='ochoa'"
   ]
  },
  {
   "cell_type": "code",
   "execution_count": null,
   "id": "8db6168c-477e-4a10-b497-b87f34539cf0",
   "metadata": {},
   "outputs": [
    {
     "data": {
      "text/plain": [
       "(15113, 4)"
      ]
     },
     "execution_count": null,
     "metadata": {},
     "output_type": "execute_result"
    }
   ],
   "source": [
    "pplus.shape"
   ]
  },
  {
   "cell_type": "code",
   "execution_count": null,
   "id": "ac486750-123b-4bbc-ad29-1a4b0006842c",
   "metadata": {},
   "outputs": [
    {
     "data": {
      "text/plain": [
       "(112281, 4)"
      ]
     },
     "execution_count": null,
     "metadata": {},
     "output_type": "execute_result"
    }
   ],
   "source": [
    "ochoa.shape"
   ]
  },
  {
   "cell_type": "code",
   "execution_count": null,
   "id": "b48edcd7-71a1-477b-a73e-1cafdf807be0",
   "metadata": {},
   "outputs": [],
   "source": [
    "comb = pd.concat([pplus,ochoa]).reset_index(drop=True)"
   ]
  },
  {
   "cell_type": "code",
   "execution_count": null,
   "id": "9b58b5c2-2e61-4c6d-986d-07914af4b0a5",
   "metadata": {},
   "outputs": [],
   "source": [
    "idx = comb.iloc[:,:3].drop_duplicates().index"
   ]
  },
  {
   "cell_type": "code",
   "execution_count": null,
   "id": "133e6268-7e74-49bd-ac6c-971958242a92",
   "metadata": {},
   "outputs": [],
   "source": [
    "comb = comb.loc[idx]"
   ]
  },
  {
   "cell_type": "code",
   "execution_count": null,
   "id": "58c3807d-e6bc-4a11-b1b9-49ccc9fc35a9",
   "metadata": {},
   "outputs": [
    {
     "data": {
      "text/plain": [
       "ochoa          108885\n",
       "phosphoplus     15026\n",
       "Name: source, dtype: int64"
      ]
     },
     "execution_count": null,
     "metadata": {},
     "output_type": "execute_result"
    }
   ],
   "source": [
    "comb.source.value_counts()"
   ]
  },
  {
   "cell_type": "code",
   "execution_count": null,
   "id": "3c2e7789-fb24-45dc-a3a9-a9a1dcaad331",
   "metadata": {},
   "outputs": [],
   "source": [
    "comb=comb[comb.site_seq.str[7].isin(['S','T','Y'])]"
   ]
  },
  {
   "cell_type": "code",
   "execution_count": null,
   "id": "4a445638-db25-4f39-b73e-bff28af060bf",
   "metadata": {},
   "outputs": [
    {
     "data": {
      "text/plain": [
       "(123890, 4)"
      ]
     },
     "execution_count": null,
     "metadata": {},
     "output_type": "execute_result"
    }
   ],
   "source": [
    "comb.shape"
   ]
  },
  {
   "cell_type": "code",
   "execution_count": null,
   "id": "35a73925-c532-4085-9832-eb1499e2ed3d",
   "metadata": {},
   "outputs": [
    {
     "data": {
      "text/plain": [
       "ochoa          108885\n",
       "phosphoplus     15005\n",
       "Name: source, dtype: int64"
      ]
     },
     "execution_count": null,
     "metadata": {},
     "output_type": "execute_result"
    }
   ],
   "source": [
    "comb.source.value_counts()"
   ]
  },
  {
   "cell_type": "markdown",
   "id": "eefcef9f-5911-4604-b4ee-73ab9a370b60",
   "metadata": {},
   "source": [
    "## Get unique site"
   ]
  },
  {
   "cell_type": "code",
   "execution_count": null,
   "id": "a2c33c1d-9175-454e-82d0-bb9edb91fae7",
   "metadata": {},
   "outputs": [],
   "source": [
    "def get_unique(x): return '|'.join(x.unique())"
   ]
  },
  {
   "cell_type": "code",
   "execution_count": null,
   "id": "b27abccd-d4ce-4059-a148-e8fd81520242",
   "metadata": {},
   "outputs": [],
   "source": [
    "unique = comb.groupby('site_seq').agg(\n",
    "    {'gene_site': get_unique, \n",
    "     'gene': get_unique,\n",
    "    'source': get_unique} )\n",
    "\n",
    "unique['num_site'] = unique['gene_site'].str.split('|').apply(len)\n",
    "\n",
    "unique = unique.reset_index()\n",
    "\n",
    "unique['acceptor'] = unique['site_seq'].str[7]"
   ]
  },
  {
   "cell_type": "code",
   "execution_count": null,
   "id": "56de8b36-e200-4110-bb8a-b720036bea45",
   "metadata": {},
   "outputs": [
    {
     "data": {
      "text/html": [
       "<div>\n",
       "<style scoped>\n",
       "    .dataframe tbody tr th:only-of-type {\n",
       "        vertical-align: middle;\n",
       "    }\n",
       "\n",
       "    .dataframe tbody tr th {\n",
       "        vertical-align: top;\n",
       "    }\n",
       "\n",
       "    .dataframe thead th {\n",
       "        text-align: right;\n",
       "    }\n",
       "</style>\n",
       "<table border=\"1\" class=\"dataframe\">\n",
       "  <thead>\n",
       "    <tr style=\"text-align: right;\">\n",
       "      <th></th>\n",
       "      <th>site_seq</th>\n",
       "      <th>gene_site</th>\n",
       "      <th>gene</th>\n",
       "      <th>source</th>\n",
       "      <th>num_site</th>\n",
       "      <th>acceptor</th>\n",
       "      <th>-7</th>\n",
       "      <th>-6</th>\n",
       "      <th>-5</th>\n",
       "      <th>-4</th>\n",
       "      <th>-3</th>\n",
       "      <th>-2</th>\n",
       "      <th>-1</th>\n",
       "      <th>0</th>\n",
       "      <th>1</th>\n",
       "      <th>2</th>\n",
       "      <th>3</th>\n",
       "      <th>4</th>\n",
       "      <th>5</th>\n",
       "      <th>6</th>\n",
       "      <th>7</th>\n",
       "    </tr>\n",
       "  </thead>\n",
       "  <tbody>\n",
       "    <tr>\n",
       "      <th>0</th>\n",
       "      <td>AAAAAAASGGAGSDN</td>\n",
       "      <td>PBX1_S136</td>\n",
       "      <td>PBX1</td>\n",
       "      <td>ochoa</td>\n",
       "      <td>1</td>\n",
       "      <td>S</td>\n",
       "      <td>A</td>\n",
       "      <td>A</td>\n",
       "      <td>A</td>\n",
       "      <td>A</td>\n",
       "      <td>A</td>\n",
       "      <td>A</td>\n",
       "      <td>A</td>\n",
       "      <td>S</td>\n",
       "      <td>G</td>\n",
       "      <td>G</td>\n",
       "      <td>A</td>\n",
       "      <td>G</td>\n",
       "      <td>S</td>\n",
       "      <td>D</td>\n",
       "      <td>N</td>\n",
       "    </tr>\n",
       "    <tr>\n",
       "      <th>1</th>\n",
       "      <td>AAAAAAASGGGVSPD</td>\n",
       "      <td>PBX2_S146</td>\n",
       "      <td>PBX2</td>\n",
       "      <td>ochoa</td>\n",
       "      <td>1</td>\n",
       "      <td>S</td>\n",
       "      <td>A</td>\n",
       "      <td>A</td>\n",
       "      <td>A</td>\n",
       "      <td>A</td>\n",
       "      <td>A</td>\n",
       "      <td>A</td>\n",
       "      <td>A</td>\n",
       "      <td>S</td>\n",
       "      <td>G</td>\n",
       "      <td>G</td>\n",
       "      <td>G</td>\n",
       "      <td>V</td>\n",
       "      <td>S</td>\n",
       "      <td>P</td>\n",
       "      <td>D</td>\n",
       "    </tr>\n",
       "    <tr>\n",
       "      <th>2</th>\n",
       "      <td>AAAAAAASGVTTGKP</td>\n",
       "      <td>CLASR_S349</td>\n",
       "      <td>CLASR</td>\n",
       "      <td>ochoa</td>\n",
       "      <td>1</td>\n",
       "      <td>S</td>\n",
       "      <td>A</td>\n",
       "      <td>A</td>\n",
       "      <td>A</td>\n",
       "      <td>A</td>\n",
       "      <td>A</td>\n",
       "      <td>A</td>\n",
       "      <td>A</td>\n",
       "      <td>S</td>\n",
       "      <td>G</td>\n",
       "      <td>V</td>\n",
       "      <td>T</td>\n",
       "      <td>T</td>\n",
       "      <td>G</td>\n",
       "      <td>K</td>\n",
       "      <td>P</td>\n",
       "    </tr>\n",
       "    <tr>\n",
       "      <th>3</th>\n",
       "      <td>AAAAAAASQQGSAKN</td>\n",
       "      <td>TBL1R_S119</td>\n",
       "      <td>TBL1R</td>\n",
       "      <td>ochoa</td>\n",
       "      <td>1</td>\n",
       "      <td>S</td>\n",
       "      <td>A</td>\n",
       "      <td>A</td>\n",
       "      <td>A</td>\n",
       "      <td>A</td>\n",
       "      <td>A</td>\n",
       "      <td>A</td>\n",
       "      <td>A</td>\n",
       "      <td>S</td>\n",
       "      <td>Q</td>\n",
       "      <td>Q</td>\n",
       "      <td>G</td>\n",
       "      <td>S</td>\n",
       "      <td>A</td>\n",
       "      <td>K</td>\n",
       "      <td>N</td>\n",
       "    </tr>\n",
       "    <tr>\n",
       "      <th>4</th>\n",
       "      <td>AAAAAAASSPVGVGQ</td>\n",
       "      <td>SOX3_S249</td>\n",
       "      <td>SOX3</td>\n",
       "      <td>ochoa</td>\n",
       "      <td>1</td>\n",
       "      <td>S</td>\n",
       "      <td>A</td>\n",
       "      <td>A</td>\n",
       "      <td>A</td>\n",
       "      <td>A</td>\n",
       "      <td>A</td>\n",
       "      <td>A</td>\n",
       "      <td>A</td>\n",
       "      <td>S</td>\n",
       "      <td>S</td>\n",
       "      <td>P</td>\n",
       "      <td>V</td>\n",
       "      <td>G</td>\n",
       "      <td>V</td>\n",
       "      <td>G</td>\n",
       "      <td>Q</td>\n",
       "    </tr>\n",
       "    <tr>\n",
       "      <th>...</th>\n",
       "      <td>...</td>\n",
       "      <td>...</td>\n",
       "      <td>...</td>\n",
       "      <td>...</td>\n",
       "      <td>...</td>\n",
       "      <td>...</td>\n",
       "      <td>...</td>\n",
       "      <td>...</td>\n",
       "      <td>...</td>\n",
       "      <td>...</td>\n",
       "      <td>...</td>\n",
       "      <td>...</td>\n",
       "      <td>...</td>\n",
       "      <td>...</td>\n",
       "      <td>...</td>\n",
       "      <td>...</td>\n",
       "      <td>...</td>\n",
       "      <td>...</td>\n",
       "      <td>...</td>\n",
       "      <td>...</td>\n",
       "      <td>...</td>\n",
       "    </tr>\n",
       "    <tr>\n",
       "      <th>116882</th>\n",
       "      <td>______MYHSLSETR</td>\n",
       "      <td>TBCD5_Y2</td>\n",
       "      <td>TBCD5</td>\n",
       "      <td>ochoa</td>\n",
       "      <td>1</td>\n",
       "      <td>Y</td>\n",
       "      <td>_</td>\n",
       "      <td>_</td>\n",
       "      <td>_</td>\n",
       "      <td>_</td>\n",
       "      <td>_</td>\n",
       "      <td>_</td>\n",
       "      <td>M</td>\n",
       "      <td>Y</td>\n",
       "      <td>H</td>\n",
       "      <td>S</td>\n",
       "      <td>L</td>\n",
       "      <td>S</td>\n",
       "      <td>E</td>\n",
       "      <td>T</td>\n",
       "      <td>R</td>\n",
       "    </tr>\n",
       "    <tr>\n",
       "      <th>116883</th>\n",
       "      <td>______MYPESTTGS</td>\n",
       "      <td>KCAB2_Y2</td>\n",
       "      <td>KCAB2</td>\n",
       "      <td>ochoa</td>\n",
       "      <td>1</td>\n",
       "      <td>Y</td>\n",
       "      <td>_</td>\n",
       "      <td>_</td>\n",
       "      <td>_</td>\n",
       "      <td>_</td>\n",
       "      <td>_</td>\n",
       "      <td>_</td>\n",
       "      <td>M</td>\n",
       "      <td>Y</td>\n",
       "      <td>P</td>\n",
       "      <td>E</td>\n",
       "      <td>S</td>\n",
       "      <td>T</td>\n",
       "      <td>T</td>\n",
       "      <td>G</td>\n",
       "      <td>S</td>\n",
       "    </tr>\n",
       "    <tr>\n",
       "      <th>116884</th>\n",
       "      <td>______MYTAIPQSG</td>\n",
       "      <td>CAPG_Y2</td>\n",
       "      <td>CAPG</td>\n",
       "      <td>ochoa</td>\n",
       "      <td>1</td>\n",
       "      <td>Y</td>\n",
       "      <td>_</td>\n",
       "      <td>_</td>\n",
       "      <td>_</td>\n",
       "      <td>_</td>\n",
       "      <td>_</td>\n",
       "      <td>_</td>\n",
       "      <td>M</td>\n",
       "      <td>Y</td>\n",
       "      <td>T</td>\n",
       "      <td>A</td>\n",
       "      <td>I</td>\n",
       "      <td>P</td>\n",
       "      <td>Q</td>\n",
       "      <td>S</td>\n",
       "      <td>G</td>\n",
       "    </tr>\n",
       "    <tr>\n",
       "      <th>116885</th>\n",
       "      <td>_______SGRGKGGK</td>\n",
       "      <td>H4C1_S1</td>\n",
       "      <td>H4C1</td>\n",
       "      <td>phosphoplus</td>\n",
       "      <td>1</td>\n",
       "      <td>S</td>\n",
       "      <td>_</td>\n",
       "      <td>_</td>\n",
       "      <td>_</td>\n",
       "      <td>_</td>\n",
       "      <td>_</td>\n",
       "      <td>_</td>\n",
       "      <td>_</td>\n",
       "      <td>S</td>\n",
       "      <td>G</td>\n",
       "      <td>R</td>\n",
       "      <td>G</td>\n",
       "      <td>K</td>\n",
       "      <td>G</td>\n",
       "      <td>G</td>\n",
       "      <td>K</td>\n",
       "    </tr>\n",
       "    <tr>\n",
       "      <th>116886</th>\n",
       "      <td>_______SGRGKQGG</td>\n",
       "      <td>H2AC17_S1</td>\n",
       "      <td>H2AC17</td>\n",
       "      <td>phosphoplus</td>\n",
       "      <td>1</td>\n",
       "      <td>S</td>\n",
       "      <td>_</td>\n",
       "      <td>_</td>\n",
       "      <td>_</td>\n",
       "      <td>_</td>\n",
       "      <td>_</td>\n",
       "      <td>_</td>\n",
       "      <td>_</td>\n",
       "      <td>S</td>\n",
       "      <td>G</td>\n",
       "      <td>R</td>\n",
       "      <td>G</td>\n",
       "      <td>K</td>\n",
       "      <td>Q</td>\n",
       "      <td>G</td>\n",
       "      <td>G</td>\n",
       "    </tr>\n",
       "  </tbody>\n",
       "</table>\n",
       "<p>116887 rows × 21 columns</p>\n",
       "</div>"
      ],
      "text/plain": [
       "               site_seq   gene_site    gene       source  num_site acceptor  \\\n",
       "0       AAAAAAASGGAGSDN   PBX1_S136    PBX1        ochoa         1        S   \n",
       "1       AAAAAAASGGGVSPD   PBX2_S146    PBX2        ochoa         1        S   \n",
       "2       AAAAAAASGVTTGKP  CLASR_S349   CLASR        ochoa         1        S   \n",
       "3       AAAAAAASQQGSAKN  TBL1R_S119   TBL1R        ochoa         1        S   \n",
       "4       AAAAAAASSPVGVGQ   SOX3_S249    SOX3        ochoa         1        S   \n",
       "...                 ...         ...     ...          ...       ...      ...   \n",
       "116882  ______MYHSLSETR    TBCD5_Y2   TBCD5        ochoa         1        Y   \n",
       "116883  ______MYPESTTGS    KCAB2_Y2   KCAB2        ochoa         1        Y   \n",
       "116884  ______MYTAIPQSG     CAPG_Y2    CAPG        ochoa         1        Y   \n",
       "116885  _______SGRGKGGK     H4C1_S1    H4C1  phosphoplus         1        S   \n",
       "116886  _______SGRGKQGG   H2AC17_S1  H2AC17  phosphoplus         1        S   \n",
       "\n",
       "       -7 -6 -5 -4 -3 -2 -1  0  1  2  3  4  5  6  7  \n",
       "0       A  A  A  A  A  A  A  S  G  G  A  G  S  D  N  \n",
       "1       A  A  A  A  A  A  A  S  G  G  G  V  S  P  D  \n",
       "2       A  A  A  A  A  A  A  S  G  V  T  T  G  K  P  \n",
       "3       A  A  A  A  A  A  A  S  Q  Q  G  S  A  K  N  \n",
       "4       A  A  A  A  A  A  A  S  S  P  V  G  V  G  Q  \n",
       "...    .. .. .. .. .. .. .. .. .. .. .. .. .. .. ..  \n",
       "116882  _  _  _  _  _  _  M  Y  H  S  L  S  E  T  R  \n",
       "116883  _  _  _  _  _  _  M  Y  P  E  S  T  T  G  S  \n",
       "116884  _  _  _  _  _  _  M  Y  T  A  I  P  Q  S  G  \n",
       "116885  _  _  _  _  _  _  _  S  G  R  G  K  G  G  K  \n",
       "116886  _  _  _  _  _  _  _  S  G  R  G  K  Q  G  G  \n",
       "\n",
       "[116887 rows x 21 columns]"
      ]
     },
     "execution_count": null,
     "metadata": {},
     "output_type": "execute_result"
    }
   ],
   "source": [
    "unique"
   ]
  },
  {
   "cell_type": "code",
   "execution_count": null,
   "id": "bc3f5faf-7812-4645-9ce5-571c1ff216f0",
   "metadata": {},
   "outputs": [],
   "source": [
    "split = unique.site_seq.apply(list).apply(pd.Series)\n",
    "\n",
    "split.columns = [i for i in range(-7,8)]\n",
    "\n",
    "unique = pd.concat([unique,split],axis=1)"
   ]
  },
  {
   "cell_type": "code",
   "execution_count": null,
   "id": "29bd863b-ea74-4f42-a0be-4958ff95024b",
   "metadata": {},
   "outputs": [],
   "source": [
    "unique.columns = unique.columns.astype(str)\n",
    "# unique.to_parquet('combine_site_ochoa_pplus.parquet')"
   ]
  },
  {
   "cell_type": "code",
   "execution_count": null,
   "id": "97826676-fea9-4f46-b393-30f119dc896e",
   "metadata": {},
   "outputs": [],
   "source": [
    "# to load\n",
    "# unique = Data.get_combine_site_pplus_ochoa()"
   ]
  },
  {
   "cell_type": "code",
   "execution_count": null,
   "id": "3b601f78-949b-4029-94ce-d92d5b9acb80",
   "metadata": {},
   "outputs": [
    {
     "data": {
      "text/plain": [
       "(116887, 36)"
      ]
     },
     "execution_count": null,
     "metadata": {},
     "output_type": "execute_result"
    }
   ],
   "source": [
    "unique.shape"
   ]
  },
  {
   "cell_type": "markdown",
   "id": "573bbdbf-636a-4de5-ba8f-b86e50d18499",
   "metadata": {},
   "source": [
    "## EDA"
   ]
  },
  {
   "cell_type": "code",
   "execution_count": null,
   "id": "1a927837-f05a-4cbd-b3f3-c643c214e51c",
   "metadata": {},
   "outputs": [],
   "source": [
    "def query_gene(df,gene):\n",
    "    \n",
    "    \"Query gene in the phosphoproteomics dataset\"\n",
    "    \n",
    "    # query gene in the dataframe\n",
    "    df_gene = df[df.gene_site.str.contains(f'{gene}_')]\n",
    "    \n",
    "    # sort dataframe based on position\n",
    "    sort_position = df_gene.gene_site.str.split('_').str[-1].str[1:].astype(int).sort_values().index\n",
    "    df_gene = df_gene.loc[sort_position]\n",
    "    \n",
    "    return df_gene"
   ]
  },
  {
   "cell_type": "code",
   "execution_count": null,
   "id": "0abcd966-4481-4ecf-8fc7-4e06d6f35ee2",
   "metadata": {},
   "outputs": [
    {
     "data": {
      "text/html": [
       "<div>\n",
       "<style scoped>\n",
       "    .dataframe tbody tr th:only-of-type {\n",
       "        vertical-align: middle;\n",
       "    }\n",
       "\n",
       "    .dataframe tbody tr th {\n",
       "        vertical-align: top;\n",
       "    }\n",
       "\n",
       "    .dataframe thead th {\n",
       "        text-align: right;\n",
       "    }\n",
       "</style>\n",
       "<table border=\"1\" class=\"dataframe\">\n",
       "  <thead>\n",
       "    <tr style=\"text-align: right;\">\n",
       "      <th></th>\n",
       "      <th>site_seq</th>\n",
       "      <th>gene_site</th>\n",
       "      <th>gene</th>\n",
       "      <th>source</th>\n",
       "      <th>num_site</th>\n",
       "      <th>acceptor</th>\n",
       "      <th>-7</th>\n",
       "      <th>-6</th>\n",
       "      <th>-5</th>\n",
       "      <th>-4</th>\n",
       "      <th>-3</th>\n",
       "      <th>-2</th>\n",
       "      <th>-1</th>\n",
       "      <th>0</th>\n",
       "      <th>1</th>\n",
       "      <th>2</th>\n",
       "      <th>3</th>\n",
       "      <th>4</th>\n",
       "      <th>5</th>\n",
       "      <th>6</th>\n",
       "      <th>7</th>\n",
       "      <th>-7</th>\n",
       "      <th>-6</th>\n",
       "      <th>-5</th>\n",
       "      <th>-4</th>\n",
       "      <th>-3</th>\n",
       "      <th>-2</th>\n",
       "      <th>-1</th>\n",
       "      <th>0</th>\n",
       "      <th>1</th>\n",
       "      <th>2</th>\n",
       "      <th>3</th>\n",
       "      <th>4</th>\n",
       "      <th>5</th>\n",
       "      <th>6</th>\n",
       "      <th>7</th>\n",
       "    </tr>\n",
       "  </thead>\n",
       "  <tbody>\n",
       "    <tr>\n",
       "      <th>115584</th>\n",
       "      <td>__MEEPQSDPSVEPP</td>\n",
       "      <td>TP53_S6|P53_S6</td>\n",
       "      <td>TP53|P53</td>\n",
       "      <td>phosphoplus|ochoa</td>\n",
       "      <td>2</td>\n",
       "      <td>S</td>\n",
       "      <td>_</td>\n",
       "      <td>_</td>\n",
       "      <td>M</td>\n",
       "      <td>E</td>\n",
       "      <td>E</td>\n",
       "      <td>P</td>\n",
       "      <td>Q</td>\n",
       "      <td>S</td>\n",
       "      <td>D</td>\n",
       "      <td>P</td>\n",
       "      <td>S</td>\n",
       "      <td>V</td>\n",
       "      <td>E</td>\n",
       "      <td>P</td>\n",
       "      <td>P</td>\n",
       "      <td>_</td>\n",
       "      <td>_</td>\n",
       "      <td>M</td>\n",
       "      <td>E</td>\n",
       "      <td>E</td>\n",
       "      <td>P</td>\n",
       "      <td>Q</td>\n",
       "      <td>S</td>\n",
       "      <td>D</td>\n",
       "      <td>P</td>\n",
       "      <td>S</td>\n",
       "      <td>V</td>\n",
       "      <td>E</td>\n",
       "      <td>P</td>\n",
       "      <td>P</td>\n",
       "    </tr>\n",
       "    <tr>\n",
       "      <th>115282</th>\n",
       "      <td>_MDDLMLSPDDIEQW</td>\n",
       "      <td>TP53_S7</td>\n",
       "      <td>TP53</td>\n",
       "      <td>phosphoplus</td>\n",
       "      <td>1</td>\n",
       "      <td>S</td>\n",
       "      <td>_</td>\n",
       "      <td>M</td>\n",
       "      <td>D</td>\n",
       "      <td>D</td>\n",
       "      <td>L</td>\n",
       "      <td>M</td>\n",
       "      <td>L</td>\n",
       "      <td>S</td>\n",
       "      <td>P</td>\n",
       "      <td>D</td>\n",
       "      <td>D</td>\n",
       "      <td>I</td>\n",
       "      <td>E</td>\n",
       "      <td>Q</td>\n",
       "      <td>W</td>\n",
       "      <td>_</td>\n",
       "      <td>M</td>\n",
       "      <td>D</td>\n",
       "      <td>D</td>\n",
       "      <td>L</td>\n",
       "      <td>M</td>\n",
       "      <td>L</td>\n",
       "      <td>S</td>\n",
       "      <td>P</td>\n",
       "      <td>D</td>\n",
       "      <td>D</td>\n",
       "      <td>I</td>\n",
       "      <td>E</td>\n",
       "      <td>Q</td>\n",
       "      <td>W</td>\n",
       "    </tr>\n",
       "    <tr>\n",
       "      <th>17936</th>\n",
       "      <td>EEPQSDPSVEPPLSQ</td>\n",
       "      <td>TP53_S9|P53_S9</td>\n",
       "      <td>TP53|P53</td>\n",
       "      <td>phosphoplus|ochoa</td>\n",
       "      <td>2</td>\n",
       "      <td>S</td>\n",
       "      <td>E</td>\n",
       "      <td>E</td>\n",
       "      <td>P</td>\n",
       "      <td>Q</td>\n",
       "      <td>S</td>\n",
       "      <td>D</td>\n",
       "      <td>P</td>\n",
       "      <td>S</td>\n",
       "      <td>V</td>\n",
       "      <td>E</td>\n",
       "      <td>P</td>\n",
       "      <td>P</td>\n",
       "      <td>L</td>\n",
       "      <td>S</td>\n",
       "      <td>Q</td>\n",
       "      <td>E</td>\n",
       "      <td>E</td>\n",
       "      <td>P</td>\n",
       "      <td>Q</td>\n",
       "      <td>S</td>\n",
       "      <td>D</td>\n",
       "      <td>P</td>\n",
       "      <td>S</td>\n",
       "      <td>V</td>\n",
       "      <td>E</td>\n",
       "      <td>P</td>\n",
       "      <td>P</td>\n",
       "      <td>L</td>\n",
       "      <td>S</td>\n",
       "      <td>Q</td>\n",
       "    </tr>\n",
       "    <tr>\n",
       "      <th>71937</th>\n",
       "      <td>PSVEPPLSQETFSDL</td>\n",
       "      <td>TP53_S15|P53_S15</td>\n",
       "      <td>TP53|P53</td>\n",
       "      <td>phosphoplus|ochoa</td>\n",
       "      <td>2</td>\n",
       "      <td>S</td>\n",
       "      <td>P</td>\n",
       "      <td>S</td>\n",
       "      <td>V</td>\n",
       "      <td>E</td>\n",
       "      <td>P</td>\n",
       "      <td>P</td>\n",
       "      <td>L</td>\n",
       "      <td>S</td>\n",
       "      <td>Q</td>\n",
       "      <td>E</td>\n",
       "      <td>T</td>\n",
       "      <td>F</td>\n",
       "      <td>S</td>\n",
       "      <td>D</td>\n",
       "      <td>L</td>\n",
       "      <td>P</td>\n",
       "      <td>S</td>\n",
       "      <td>V</td>\n",
       "      <td>E</td>\n",
       "      <td>P</td>\n",
       "      <td>P</td>\n",
       "      <td>L</td>\n",
       "      <td>S</td>\n",
       "      <td>Q</td>\n",
       "      <td>E</td>\n",
       "      <td>T</td>\n",
       "      <td>F</td>\n",
       "      <td>S</td>\n",
       "      <td>D</td>\n",
       "      <td>L</td>\n",
       "    </tr>\n",
       "    <tr>\n",
       "      <th>21635</th>\n",
       "      <td>EPPLSQETFSDLWKL</td>\n",
       "      <td>TP53_T18</td>\n",
       "      <td>TP53</td>\n",
       "      <td>phosphoplus</td>\n",
       "      <td>1</td>\n",
       "      <td>T</td>\n",
       "      <td>E</td>\n",
       "      <td>P</td>\n",
       "      <td>P</td>\n",
       "      <td>L</td>\n",
       "      <td>S</td>\n",
       "      <td>Q</td>\n",
       "      <td>E</td>\n",
       "      <td>T</td>\n",
       "      <td>F</td>\n",
       "      <td>S</td>\n",
       "      <td>D</td>\n",
       "      <td>L</td>\n",
       "      <td>W</td>\n",
       "      <td>K</td>\n",
       "      <td>L</td>\n",
       "      <td>E</td>\n",
       "      <td>P</td>\n",
       "      <td>P</td>\n",
       "      <td>L</td>\n",
       "      <td>S</td>\n",
       "      <td>Q</td>\n",
       "      <td>E</td>\n",
       "      <td>T</td>\n",
       "      <td>F</td>\n",
       "      <td>S</td>\n",
       "      <td>D</td>\n",
       "      <td>L</td>\n",
       "      <td>W</td>\n",
       "      <td>K</td>\n",
       "      <td>L</td>\n",
       "    </tr>\n",
       "    <tr>\n",
       "      <th>67813</th>\n",
       "      <td>PLSQETFSDLWKLLP</td>\n",
       "      <td>TP53_S20</td>\n",
       "      <td>TP53</td>\n",
       "      <td>phosphoplus</td>\n",
       "      <td>1</td>\n",
       "      <td>S</td>\n",
       "      <td>P</td>\n",
       "      <td>L</td>\n",
       "      <td>S</td>\n",
       "      <td>Q</td>\n",
       "      <td>E</td>\n",
       "      <td>T</td>\n",
       "      <td>F</td>\n",
       "      <td>S</td>\n",
       "      <td>D</td>\n",
       "      <td>L</td>\n",
       "      <td>W</td>\n",
       "      <td>K</td>\n",
       "      <td>L</td>\n",
       "      <td>L</td>\n",
       "      <td>P</td>\n",
       "      <td>P</td>\n",
       "      <td>L</td>\n",
       "      <td>S</td>\n",
       "      <td>Q</td>\n",
       "      <td>E</td>\n",
       "      <td>T</td>\n",
       "      <td>F</td>\n",
       "      <td>S</td>\n",
       "      <td>D</td>\n",
       "      <td>L</td>\n",
       "      <td>W</td>\n",
       "      <td>K</td>\n",
       "      <td>L</td>\n",
       "      <td>L</td>\n",
       "      <td>P</td>\n",
       "    </tr>\n",
       "    <tr>\n",
       "      <th>53375</th>\n",
       "      <td>LPENNVLSPLPSQAM</td>\n",
       "      <td>TP53_S33</td>\n",
       "      <td>TP53</td>\n",
       "      <td>phosphoplus</td>\n",
       "      <td>1</td>\n",
       "      <td>S</td>\n",
       "      <td>L</td>\n",
       "      <td>P</td>\n",
       "      <td>E</td>\n",
       "      <td>N</td>\n",
       "      <td>N</td>\n",
       "      <td>V</td>\n",
       "      <td>L</td>\n",
       "      <td>S</td>\n",
       "      <td>P</td>\n",
       "      <td>L</td>\n",
       "      <td>P</td>\n",
       "      <td>S</td>\n",
       "      <td>Q</td>\n",
       "      <td>A</td>\n",
       "      <td>M</td>\n",
       "      <td>L</td>\n",
       "      <td>P</td>\n",
       "      <td>E</td>\n",
       "      <td>N</td>\n",
       "      <td>N</td>\n",
       "      <td>V</td>\n",
       "      <td>L</td>\n",
       "      <td>S</td>\n",
       "      <td>P</td>\n",
       "      <td>L</td>\n",
       "      <td>P</td>\n",
       "      <td>S</td>\n",
       "      <td>Q</td>\n",
       "      <td>A</td>\n",
       "      <td>M</td>\n",
       "    </tr>\n",
       "    <tr>\n",
       "      <th>62644</th>\n",
       "      <td>NVLSPLPSQAMDDLM</td>\n",
       "      <td>TP53_S37</td>\n",
       "      <td>TP53</td>\n",
       "      <td>phosphoplus</td>\n",
       "      <td>1</td>\n",
       "      <td>S</td>\n",
       "      <td>N</td>\n",
       "      <td>V</td>\n",
       "      <td>L</td>\n",
       "      <td>S</td>\n",
       "      <td>P</td>\n",
       "      <td>L</td>\n",
       "      <td>P</td>\n",
       "      <td>S</td>\n",
       "      <td>Q</td>\n",
       "      <td>A</td>\n",
       "      <td>M</td>\n",
       "      <td>D</td>\n",
       "      <td>D</td>\n",
       "      <td>L</td>\n",
       "      <td>M</td>\n",
       "      <td>N</td>\n",
       "      <td>V</td>\n",
       "      <td>L</td>\n",
       "      <td>S</td>\n",
       "      <td>P</td>\n",
       "      <td>L</td>\n",
       "      <td>P</td>\n",
       "      <td>S</td>\n",
       "      <td>Q</td>\n",
       "      <td>A</td>\n",
       "      <td>M</td>\n",
       "      <td>D</td>\n",
       "      <td>D</td>\n",
       "      <td>L</td>\n",
       "      <td>M</td>\n",
       "    </tr>\n",
       "    <tr>\n",
       "      <th>4244</th>\n",
       "      <td>AMDDLMLSPDDIEQW</td>\n",
       "      <td>TP53_S46</td>\n",
       "      <td>TP53</td>\n",
       "      <td>phosphoplus</td>\n",
       "      <td>1</td>\n",
       "      <td>S</td>\n",
       "      <td>A</td>\n",
       "      <td>M</td>\n",
       "      <td>D</td>\n",
       "      <td>D</td>\n",
       "      <td>L</td>\n",
       "      <td>M</td>\n",
       "      <td>L</td>\n",
       "      <td>S</td>\n",
       "      <td>P</td>\n",
       "      <td>D</td>\n",
       "      <td>D</td>\n",
       "      <td>I</td>\n",
       "      <td>E</td>\n",
       "      <td>Q</td>\n",
       "      <td>W</td>\n",
       "      <td>A</td>\n",
       "      <td>M</td>\n",
       "      <td>D</td>\n",
       "      <td>D</td>\n",
       "      <td>L</td>\n",
       "      <td>M</td>\n",
       "      <td>L</td>\n",
       "      <td>S</td>\n",
       "      <td>P</td>\n",
       "      <td>D</td>\n",
       "      <td>D</td>\n",
       "      <td>I</td>\n",
       "      <td>E</td>\n",
       "      <td>Q</td>\n",
       "      <td>W</td>\n",
       "    </tr>\n",
       "    <tr>\n",
       "      <th>10328</th>\n",
       "      <td>DDIEQWFTEDPGPDE</td>\n",
       "      <td>TP53_T55</td>\n",
       "      <td>TP53</td>\n",
       "      <td>phosphoplus</td>\n",
       "      <td>1</td>\n",
       "      <td>T</td>\n",
       "      <td>D</td>\n",
       "      <td>D</td>\n",
       "      <td>I</td>\n",
       "      <td>E</td>\n",
       "      <td>Q</td>\n",
       "      <td>W</td>\n",
       "      <td>F</td>\n",
       "      <td>T</td>\n",
       "      <td>E</td>\n",
       "      <td>D</td>\n",
       "      <td>P</td>\n",
       "      <td>G</td>\n",
       "      <td>P</td>\n",
       "      <td>D</td>\n",
       "      <td>E</td>\n",
       "      <td>D</td>\n",
       "      <td>D</td>\n",
       "      <td>I</td>\n",
       "      <td>E</td>\n",
       "      <td>Q</td>\n",
       "      <td>W</td>\n",
       "      <td>F</td>\n",
       "      <td>T</td>\n",
       "      <td>E</td>\n",
       "      <td>D</td>\n",
       "      <td>P</td>\n",
       "      <td>G</td>\n",
       "      <td>P</td>\n",
       "      <td>D</td>\n",
       "      <td>E</td>\n",
       "    </tr>\n",
       "  </tbody>\n",
       "</table>\n",
       "</div>"
      ],
      "text/plain": [
       "               site_seq         gene_site      gene             source  \\\n",
       "115584  __MEEPQSDPSVEPP    TP53_S6|P53_S6  TP53|P53  phosphoplus|ochoa   \n",
       "115282  _MDDLMLSPDDIEQW           TP53_S7      TP53        phosphoplus   \n",
       "17936   EEPQSDPSVEPPLSQ    TP53_S9|P53_S9  TP53|P53  phosphoplus|ochoa   \n",
       "71937   PSVEPPLSQETFSDL  TP53_S15|P53_S15  TP53|P53  phosphoplus|ochoa   \n",
       "21635   EPPLSQETFSDLWKL          TP53_T18      TP53        phosphoplus   \n",
       "67813   PLSQETFSDLWKLLP          TP53_S20      TP53        phosphoplus   \n",
       "53375   LPENNVLSPLPSQAM          TP53_S33      TP53        phosphoplus   \n",
       "62644   NVLSPLPSQAMDDLM          TP53_S37      TP53        phosphoplus   \n",
       "4244    AMDDLMLSPDDIEQW          TP53_S46      TP53        phosphoplus   \n",
       "10328   DDIEQWFTEDPGPDE          TP53_T55      TP53        phosphoplus   \n",
       "\n",
       "        num_site acceptor -7 -6 -5 -4 -3 -2 -1  0  1  2  3  4  5  6  7 -7 -6  \\\n",
       "115584         2        S  _  _  M  E  E  P  Q  S  D  P  S  V  E  P  P  _  _   \n",
       "115282         1        S  _  M  D  D  L  M  L  S  P  D  D  I  E  Q  W  _  M   \n",
       "17936          2        S  E  E  P  Q  S  D  P  S  V  E  P  P  L  S  Q  E  E   \n",
       "71937          2        S  P  S  V  E  P  P  L  S  Q  E  T  F  S  D  L  P  S   \n",
       "21635          1        T  E  P  P  L  S  Q  E  T  F  S  D  L  W  K  L  E  P   \n",
       "67813          1        S  P  L  S  Q  E  T  F  S  D  L  W  K  L  L  P  P  L   \n",
       "53375          1        S  L  P  E  N  N  V  L  S  P  L  P  S  Q  A  M  L  P   \n",
       "62644          1        S  N  V  L  S  P  L  P  S  Q  A  M  D  D  L  M  N  V   \n",
       "4244           1        S  A  M  D  D  L  M  L  S  P  D  D  I  E  Q  W  A  M   \n",
       "10328          1        T  D  D  I  E  Q  W  F  T  E  D  P  G  P  D  E  D  D   \n",
       "\n",
       "       -5 -4 -3 -2 -1  0  1  2  3  4  5  6  7  \n",
       "115584  M  E  E  P  Q  S  D  P  S  V  E  P  P  \n",
       "115282  D  D  L  M  L  S  P  D  D  I  E  Q  W  \n",
       "17936   P  Q  S  D  P  S  V  E  P  P  L  S  Q  \n",
       "71937   V  E  P  P  L  S  Q  E  T  F  S  D  L  \n",
       "21635   P  L  S  Q  E  T  F  S  D  L  W  K  L  \n",
       "67813   S  Q  E  T  F  S  D  L  W  K  L  L  P  \n",
       "53375   E  N  N  V  L  S  P  L  P  S  Q  A  M  \n",
       "62644   L  S  P  L  P  S  Q  A  M  D  D  L  M  \n",
       "4244    D  D  L  M  L  S  P  D  D  I  E  Q  W  \n",
       "10328   I  E  Q  W  F  T  E  D  P  G  P  D  E  "
      ]
     },
     "execution_count": null,
     "metadata": {},
     "output_type": "execute_result"
    }
   ],
   "source": [
    "query_gene(unique,'TP53')[:10]"
   ]
  },
  {
   "cell_type": "code",
   "execution_count": null,
   "id": "c18117fb-9103-4e38-a40e-def9f54c3ec7",
   "metadata": {},
   "outputs": [
    {
     "data": {
      "image/png": "[encoded data removed]",
      "text/plain": [
       "<Figure size 432x144 with 1 Axes>"
      ]
     },
     "metadata": {
      "needs_background": "light"
     },
     "output_type": "display_data"
    }
   ],
   "source": [
    "sns.set(rc={\"figure.dpi\":300, 'savefig.dpi':300})\n",
    "sns.set_context('notebook')\n",
    "sns.set_style(\"ticks\")\n",
    "\n",
    "plt.figure(figsize=(6,2))\n",
    "plot_count(unique.acceptor.value_counts(),20000)\n",
    "plt.title('Count of unique phosphorylation sites')\n",
    "plt.xlabel('count');"
   ]
  },
  {
   "cell_type": "code",
   "execution_count": null,
   "id": "88b395be-d08a-4933-99fe-ca1393ac46ce",
   "metadata": {},
   "outputs": [
    {
     "data": {
      "text/plain": [
       "[-7, -6, -5, -4, -3, -2, -1, 0, 1, 2, 3, 4, 5, 6]"
      ]
     },
     "execution_count": null,
     "metadata": {},
     "output_type": "execute_result"
    }
   ],
   "source": [
    "list(range(-7,8))"
   ]
  },
  {
   "cell_type": "code",
   "execution_count": null,
   "id": "9e0babb2-7538-48d7-9f58-d56f902eefc6",
   "metadata": {},
   "outputs": [],
   "source": [
    "unique.columns = unique.columns[:-15].tolist() + [i for i in range(-7,8)]"
   ]
  },
  {
   "cell_type": "code",
   "execution_count": null,
   "id": "2a375a66-b424-4608-88a2-7ccbb39ca43e",
   "metadata": {},
   "outputs": [
    {
     "data": {
      "text/plain": [
       "Index([ 'site_seq', 'gene_site',      'gene',    'source',  'num_site',\n",
       "        'acceptor',          -7,          -6,          -5,          -4,\n",
       "                -3,          -2,          -1,           0,           1,\n",
       "                 2,           3,           4,           5,           6,\n",
       "                 7],\n",
       "      dtype='object')"
      ]
     },
     "execution_count": null,
     "metadata": {},
     "output_type": "execute_result"
    }
   ],
   "source": [
    "unique.columns"
   ]
  },
  {
   "cell_type": "code",
   "execution_count": null,
   "id": "03676196-f2a5-4c51-8c5f-26ccb78bfd03",
   "metadata": {},
   "outputs": [],
   "source": [
    "paper,full=get_freq(unique)"
   ]
  },
  {
   "cell_type": "code",
   "execution_count": null,
   "id": "05e470ee-bf33-4a02-8f14-06ce76d85350",
   "metadata": {},
   "outputs": [
    {
     "data": {
      "image/png": "[encoded data removed]",
      "text/plain": [
       "<Figure size 432x720 with 2 Axes>"
      ]
     },
     "metadata": {
      "needs_background": "light"
     },
     "output_type": "display_data"
    }
   ],
   "source": [
    "plot_heatmap(full.drop(columns=[0]))"
   ]
  },
  {
   "cell_type": "code",
   "execution_count": null,
   "id": "eaf8c002-05f0-4f0d-800c-015ac0843337",
   "metadata": {},
   "outputs": [
    {
     "data": {
      "image/png": "[encoded data removed]",
      "text/plain": [
       "<Figure size 432x288 with 1 Axes>"
      ]
     },
     "metadata": {
      "needs_background": "light"
     },
     "output_type": "display_data"
    }
   ],
   "source": [
    "full.T.plot.bar(stacked=True)\n",
    "plt.legend(title='Amino Acid', bbox_to_anchor=(1.05, 1), loc='upper left')\n",
    "plt.xlabel('Position');"
   ]
  },
  {
   "cell_type": "markdown",
   "id": "c88afacf-8781-4fb3-9a36-a007d2f12f1d",
   "metadata": {},
   "source": [
    "## Substrate scoring"
   ]
  },
  {
   "cell_type": "code",
   "execution_count": null,
   "id": "e97ebbd4-45ef-48ac-9c64-29d2aca9f5f7",
   "metadata": {},
   "outputs": [],
   "source": [
    "from katlas.core import *\n",
    "from katlas.plot import *"
   ]
  },
  {
   "cell_type": "code",
   "execution_count": null,
   "id": "9b554e14-f590-4afa-82fa-38755cc19e8a",
   "metadata": {},
   "outputs": [],
   "source": [
    "# you can also directly load through Data\n",
    "unique= Data.get_combine_site_psp_ochoa()"
   ]
  },
  {
   "cell_type": "code",
   "execution_count": null,
   "id": "f7d67ddd-116e-42c0-8c3e-e4dce1e87ba0",
   "metadata": {},
   "outputs": [],
   "source": [
    "results = predict_kinase_df(unique,'site_seq',**param_CDDM_upper)\n",
    "\n",
    "df = pd.concat([unique,results],axis=1)"
   ]
  },
  {
   "cell_type": "code",
   "execution_count": null,
   "id": "45047c33-7f05-48bd-a418-ee1ca5ce5609",
   "metadata": {},
   "outputs": [],
   "source": [
    "palette = get_color_dict(['S','T','Y'],'tab20')\n",
    "\n",
    "hist_params = {'element':'poly',\n",
    "              'edgecolor': None,\n",
    "              'alpha':0.5,\n",
    "              'bins':100,\n",
    "              'kde':True,\n",
    "              'palette':palette}"
   ]
  },
  {
   "cell_type": "code",
   "execution_count": null,
   "id": "a9c9bc1d-3144-4bb2-93fc-e595588aae34",
   "metadata": {},
   "outputs": [],
   "source": [
    "def plot_hist(df,kinase):\n",
    "    plt.figure(figsize=(6,2))\n",
    "    sns.histplot(data=df,x=kinase,hue=df.acceptor,**hist_params)\n",
    "    plt.xlabel('')\n",
    "    plt.title(kinase)"
   ]
  },
  {
   "cell_type": "code",
   "execution_count": null,
   "id": "82230903-cf88-46c4-9663-a1f9d267585d",
   "metadata": {},
   "outputs": [],
   "source": [
    "def get_genes(kinase,s=None,t=None,y=None,export=True):\n",
    "    df2 = df[['gene','acceptor']].copy()\n",
    "    df2['gene'] = df2.gene.str.split('|')\n",
    "    df2[kinase] = results[kinase]\n",
    "    print(df2.shape)\n",
    "    df2 = df2.explode('gene')\n",
    "    print(df2.shape)\n",
    "    L = []\n",
    "    if s is not None:\n",
    "        s = df2.query(f'acceptor == \"S\" & {kinase}>{s}')['gene'].drop_duplicates()\n",
    "        L.append(s)\n",
    "    if t is not None:\n",
    "        t = df2.query(f'acceptor == \"T\" & {kinase}>{t}')['gene'].drop_duplicates()\n",
    "        L.append(t)\n",
    "    if y is not None:\n",
    "        y = df2.query(f'acceptor == \"Y\" & {kinase}>{y}')['gene'].drop_duplicates()\n",
    "        L.append(y)\n",
    "        \n",
    "    sty = pd.concat(L).drop_duplicates().reset_index()\n",
    "    \n",
    "    if export:\n",
    "        print('exporting csv file for st')\n",
    "        sty.to_csv(f'supp/{kinase}.csv')\n",
    "        \n",
    "    return sty\n"
   ]
  },
  {
   "cell_type": "code",
   "execution_count": null,
   "id": "d55f71a3-a585-4161-b689-b3af0dd56e6d",
   "metadata": {},
   "outputs": [
    {
     "data": {
      "image/png": "[encoded data removed]",
      "text/plain": [
       "<Figure size 432x144 with 1 Axes>"
      ]
     },
     "metadata": {
      "needs_background": "light"
     },
     "output_type": "display_data"
    }
   ],
   "source": [
    "plot_hist(df,'ATM') # S: 2.3, T: 1.55"
   ]
  },
  {
   "cell_type": "code",
   "execution_count": null,
   "id": "cea56a26-61b8-40f9-af09-f151abe609a1",
   "metadata": {},
   "outputs": [
    {
     "name": "stdout",
     "output_type": "stream",
     "text": [
      "(116887, 3)\n",
      "(123515, 3)\n",
      "exporting csv file for st\n"
     ]
    }
   ],
   "source": [
    "st = get_genes('ATM',s=2.3,t=1.55)"
   ]
  },
  {
   "cell_type": "code",
   "execution_count": null,
   "id": "780ffa04-0bcf-42a5-a8a2-1b5d0d585f92",
   "metadata": {},
   "outputs": [
    {
     "data": {
      "image/png": "[encoded data removed]",
      "text/plain": [
       "<Figure size 432x144 with 1 Axes>"
      ]
     },
     "metadata": {
      "needs_background": "light"
     },
     "output_type": "display_data"
    }
   ],
   "source": [
    "plot_hist(df,'AKT1') # S: 2.55, T: 1.6"
   ]
  },
  {
   "cell_type": "code",
   "execution_count": null,
   "id": "b759d906-ce5f-44bd-827a-28e852b4e657",
   "metadata": {},
   "outputs": [
    {
     "name": "stdout",
     "output_type": "stream",
     "text": [
      "(116887, 3)\n",
      "(123515, 3)\n",
      "exporting csv file for st\n"
     ]
    }
   ],
   "source": [
    "y = get_genes('AKT1',s=2.55,t=1.6)"
   ]
  },
  {
   "cell_type": "code",
   "execution_count": null,
   "id": "785b585e-c49e-4501-97c4-8e23ae912a88",
   "metadata": {},
   "outputs": [
    {
     "data": {
      "image/png": "[encoded data removed]",
      "text/plain": [
       "<Figure size 432x144 with 1 Axes>"
      ]
     },
     "metadata": {
      "needs_background": "light"
     },
     "output_type": "display_data"
    }
   ],
   "source": [
    "plot_hist(df,'EGFR') # Y: 2.1"
   ]
  },
  {
   "cell_type": "code",
   "execution_count": null,
   "id": "6fef4544-92cf-4a7f-bfe4-5f8f9c25dc5c",
   "metadata": {},
   "outputs": [
    {
     "name": "stdout",
     "output_type": "stream",
     "text": [
      "(116887, 3)\n",
      "(123515, 3)\n",
      "exporting csv file for st\n"
     ]
    }
   ],
   "source": [
    "y = get_genes('EGFR',y=2.0)"
   ]
  },
  {
   "cell_type": "markdown",
   "id": "31846b9e-3c79-4eef-9d90-5070b7760aae",
   "metadata": {},
   "source": [
    "## Others"
   ]
  },
  {
   "cell_type": "code",
   "execution_count": null,
   "id": "6d2c0308-c77b-49d8-96b6-c8a7d73d6855",
   "metadata": {},
   "outputs": [
    {
     "data": {
      "image/png": "[encoded data removed]",
      "text/plain": [
       "<Figure size 432x144 with 1 Axes>"
      ]
     },
     "metadata": {
      "needs_background": "light"
     },
     "output_type": "display_data"
    }
   ],
   "source": [
    "plot_hist(df,'CDK1')"
   ]
  },
  {
   "cell_type": "code",
   "execution_count": null,
   "id": "3ae6f426-5b3b-4458-ad51-5fd896f71d55",
   "metadata": {},
   "outputs": [
    {
     "name": "stdout",
     "output_type": "stream",
     "text": [
      "(116887, 3)\n",
      "(123515, 3)\n",
      "exporting csv file for st\n"
     ]
    }
   ],
   "source": [
    "y = get_genes('CDK1',s=2.0,t=1.65)"
   ]
  },
  {
   "cell_type": "code",
   "execution_count": null,
   "id": "c626aeb6-13d6-499f-83a9-12c16fcb7019",
   "metadata": {},
   "outputs": [
    {
     "name": "stdout",
     "output_type": "stream",
     "text": [
      "(116887, 3)\n",
      "(123515, 3)\n",
      "exporting csv file for st\n"
     ]
    }
   ],
   "source": [
    "y = get_genes('CDK1',s=2.0,t=1.65)"
   ]
  },
  {
   "cell_type": "code",
   "execution_count": null,
   "id": "c3e52d53-8440-4a77-89c8-dd33ac934bb6",
   "metadata": {},
   "outputs": [
    {
     "data": {
      "image/png": "[encoded data removed]",
      "text/plain": [
       "<Figure size 432x144 with 1 Axes>"
      ]
     },
     "metadata": {
      "needs_background": "light"
     },
     "output_type": "display_data"
    }
   ],
   "source": [
    "plot_hist(df,'JAK2')# Y: 2.0"
   ]
  },
  {
   "cell_type": "code",
   "execution_count": null,
   "id": "0f574311-a224-4593-9461-42bc3109bbd3",
   "metadata": {},
   "outputs": [
    {
     "name": "stdout",
     "output_type": "stream",
     "text": [
      "(116887, 3)\n",
      "(123515, 3)\n",
      "exporting csv file for st\n"
     ]
    }
   ],
   "source": [
    "_ = get_genes('JAK2',y=2.0)"
   ]
  },
  {
   "cell_type": "code",
   "execution_count": null,
   "id": "68db2832-35f9-49d8-b6b4-2d9e2310b5e6",
   "metadata": {},
   "outputs": [
    {
     "data": {
      "image/png": "[encoded data removed]",
      "text/plain": [
       "<Figure size 432x144 with 1 Axes>"
      ]
     },
     "metadata": {
      "needs_background": "light"
     },
     "output_type": "display_data"
    }
   ],
   "source": [
    "plot_hist(df,'ZAP70') # Y: 2.1"
   ]
  },
  {
   "cell_type": "code",
   "execution_count": null,
   "id": "3bef4a1c-fc90-450b-8c2e-dc3e042bd487",
   "metadata": {},
   "outputs": [
    {
     "data": {
      "image/png": "[encoded data removed]",
      "text/plain": [
       "<Figure size 432x144 with 1 Axes>"
      ]
     },
     "metadata": {
      "needs_background": "light"
     },
     "output_type": "display_data"
    }
   ],
   "source": [
    "plot_hist(df,'LCK') # Y: 2.1"
   ]
  },
  {
   "cell_type": "code",
   "execution_count": null,
   "id": "1273a7ea-43ce-4eef-b5a7-a9e358d79187",
   "metadata": {},
   "outputs": [
    {
     "data": {
      "image/png": "[encoded data removed]",
      "text/plain": [
       "<Figure size 432x144 with 1 Axes>"
      ]
     },
     "metadata": {
      "needs_background": "light"
     },
     "output_type": "display_data"
    }
   ],
   "source": [
    "plot_hist(df,'PKACA') # S: 2.5, T: 1.5"
   ]
  },
  {
   "cell_type": "code",
   "execution_count": null,
   "id": "33434c9d-df0a-49bd-ad64-25fa4951de2a",
   "metadata": {},
   "outputs": [],
   "source": []
  }
 ],
 "metadata": {
  "kernelspec": {
   "display_name": "python3",
   "language": "python",
   "name": "python3"
  }
 },
 "nbformat": 4,
 "nbformat_minor": 5
}
