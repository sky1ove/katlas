{
 "cells": [
  {
   "cell_type": "raw",
   "id": "652feb28-fd2f-4a16-bef0-c05f7ff65b71",
   "metadata": {},
   "source": [
    "---\n",
    "skip_showdoc: true\n",
    "skip_exec: true\n",
    "---"
   ]
  },
  {
   "cell_type": "markdown",
   "id": "32f9d8e0-98f5-4db9-9cc8-766b0a4a7b97",
   "metadata": {},
   "source": [
    "<a target=\"_blank\" href=\"https://colab.research.google.com/github/sky1ove/katlas/blob/main/nbs/tutorial_03a_enrichment_AKTi.ipynb\">\n",
    "  <img src=\"https://colab.research.google.com/assets/colab-badge.svg\" alt=\"Open In Colab\"/>\n",
    "</a>"
   ]
  },
  {
   "cell_type": "markdown",
   "id": "1343271b-adce-4877-b4d1-3a952fc1ca3a",
   "metadata": {},
   "source": [
    "# Kinase enrichment analysis - AKTi"
   ]
  },
  {
   "cell_type": "markdown",
   "id": "401aaa05-207b-4876-b454-f324b596afca",
   "metadata": {},
   "source": [
    "In this session, we will analyze the differential change of phosphorylation sites in phosphoproteomics dataset."
   ]
  },
  {
   "cell_type": "markdown",
   "id": "586d06a8-4dd5-4e9c-8903-5988ba54787a",
   "metadata": {},
   "source": [
    "## Setup"
   ]
  },
  {
   "cell_type": "markdown",
   "id": "3b93f253-bc7f-4bc8-a124-79f1cdf42f58",
   "metadata": {},
   "source": [
    "Run below to install:"
   ]
  },
  {
   "cell_type": "markdown",
   "id": "e9f6c869-2126-44c9-a3aa-7bcd03378805",
   "metadata": {},
   "source": [
    "```bash\n",
    "!pip install python-katlas\n",
    "```"
   ]
  },
  {
   "cell_type": "code",
   "execution_count": null,
   "id": "53c27018-51ff-4e3f-8801-8e63b9d335a2",
   "metadata": {},
   "outputs": [],
   "source": [
    "# katlas\n",
    "from katlas.core import *\n",
    "# from katlas.plot import plot_rank, set_sns\n",
    "\n",
    "# utils\n",
    "import pandas as pd, numpy as np, seaborn as sns\n",
    "from matplotlib import pyplot as plt\n",
    "from functools import reduce, partial\n",
    "from tqdm import tqdm\n",
    "\n",
    "# statistics\n",
    "from scipy.stats import ttest_rel,ttest_ind\n",
    "from statsmodels.stats.multitest import multipletests\n",
    "\n",
    "# disable warning\n",
    "import warnings\n",
    "warnings.filterwarnings(\"ignore\", message=\"converting a masked element to nan\")\n",
    "\n",
    "pd.set_option('display.precision', 15)"
   ]
  },
  {
   "cell_type": "markdown",
   "id": "6234c039-b529-4e6a-9a34-29459d53e162",
   "metadata": {},
   "source": [
    "## Data"
   ]
  },
  {
   "cell_type": "markdown",
   "id": "9db6552d-84bd-4cfc-a88f-3a30cb79adf0",
   "metadata": {},
   "source": [
    "The phosphoproteomics dataset is from paper [Chemical Phosphoproteomics Sheds New Light on the Targets and Modes of Action of AKT Inhibitors](https://pubs.acs.org/doi/10.1021/acschembio.0c00872); five clinical AKT inhibitors are evaluated in this study."
   ]
  },
  {
   "cell_type": "markdown",
   "id": "b7a05a2f-365d-422a-b04d-e278332464b1",
   "metadata": {},
   "source": [
    "<img width=\"700\" src=\"https://github.com/sky1ove/katlas/raw/main/dataset/images/AKTi.png\"/>"
   ]
  },
  {
   "cell_type": "code",
   "execution_count": null,
   "id": "5f2c3013-196a-49b8-bffa-f919d8f663f3",
   "metadata": {},
   "outputs": [],
   "source": [
    "df = pd.read_csv('https://github.com/sky1ove/katlas_raw/raw/refs/heads/main/nbs/raw/AKT_inhibitor.csv')"
   ]
  },
  {
   "cell_type": "code",
   "execution_count": null,
   "id": "daf724b2-1539-43d1-b044-07034060917f",
   "metadata": {},
   "outputs": [
    {
     "data": {
      "text/html": [
       "<div>\n",
       "<style scoped>\n",
       "    .dataframe tbody tr th:only-of-type {\n",
       "        vertical-align: middle;\n",
       "    }\n",
       "\n",
       "    .dataframe tbody tr th {\n",
       "        vertical-align: top;\n",
       "    }\n",
       "\n",
       "    .dataframe thead th {\n",
       "        text-align: right;\n",
       "    }\n",
       "</style>\n",
       "<table border=\"1\" class=\"dataframe\">\n",
       "  <thead>\n",
       "    <tr style=\"text-align: right;\">\n",
       "      <th></th>\n",
       "      <th>gene_site</th>\n",
       "      <th>site_seq</th>\n",
       "      <th>Control_R1</th>\n",
       "      <th>Control_R2</th>\n",
       "      <th>Control_R3</th>\n",
       "      <th>Control_R4</th>\n",
       "      <th>AZD5363_R1</th>\n",
       "      <th>AZD5363_R2</th>\n",
       "      <th>AZD5363_R3</th>\n",
       "      <th>AZD5363_R4</th>\n",
       "      <th>...</th>\n",
       "      <th>GSK690693_R3</th>\n",
       "      <th>GSK690693_R4</th>\n",
       "      <th>Ipatasertib_R1</th>\n",
       "      <th>Ipatasertib_R2</th>\n",
       "      <th>Ipatasertib_R3</th>\n",
       "      <th>Ipatasertib_R4</th>\n",
       "      <th>MK-2206_R1</th>\n",
       "      <th>MK-2206_R2</th>\n",
       "      <th>MK-2206_R3</th>\n",
       "      <th>MK-2206_R4</th>\n",
       "    </tr>\n",
       "  </thead>\n",
       "  <tbody>\n",
       "    <tr>\n",
       "      <th>0</th>\n",
       "      <td>AAK1_S637</td>\n",
       "      <td>AGHRRILsDVtHsAV</td>\n",
       "      <td>14.167260000000001</td>\n",
       "      <td>13.791940000000000</td>\n",
       "      <td>13.888430000000000</td>\n",
       "      <td>13.991310000000000</td>\n",
       "      <td>14.581049999999999</td>\n",
       "      <td>14.802630000000001</td>\n",
       "      <td>14.723060000000000</td>\n",
       "      <td>14.857880000000000</td>\n",
       "      <td>...</td>\n",
       "      <td>14.47591</td>\n",
       "      <td>14.810269999999999</td>\n",
       "      <td>14.541550000000001</td>\n",
       "      <td>14.598560000000001</td>\n",
       "      <td>14.669480000000000</td>\n",
       "      <td>14.267690000000000</td>\n",
       "      <td>14.500560000000000</td>\n",
       "      <td>14.700110000000000</td>\n",
       "      <td>14.642170000000000</td>\n",
       "      <td>14.394790000000000</td>\n",
       "    </tr>\n",
       "    <tr>\n",
       "      <th>1</th>\n",
       "      <td>ABCF1_S105</td>\n",
       "      <td>MERLKKLsVPtsDEE</td>\n",
       "      <td>14.184260000000000</td>\n",
       "      <td>14.422390000000000</td>\n",
       "      <td>14.320520000000000</td>\n",
       "      <td>14.310689999999999</td>\n",
       "      <td>14.905970000000000</td>\n",
       "      <td>15.157950000000000</td>\n",
       "      <td>14.848050000000001</td>\n",
       "      <td>14.968950000000000</td>\n",
       "      <td>...</td>\n",
       "      <td>14.82788</td>\n",
       "      <td>14.924620000000001</td>\n",
       "      <td>14.888140000000000</td>\n",
       "      <td>15.019850000000000</td>\n",
       "      <td>14.857740000000000</td>\n",
       "      <td>14.809049999999999</td>\n",
       "      <td>14.915050000000001</td>\n",
       "      <td>14.815270000000000</td>\n",
       "      <td>15.067920000000001</td>\n",
       "      <td>14.526149999999999</td>\n",
       "    </tr>\n",
       "    <tr>\n",
       "      <th>2</th>\n",
       "      <td>ACIN1_S208</td>\n",
       "      <td>HSPRKSSsIsEEKGD</td>\n",
       "      <td>15.956730000000000</td>\n",
       "      <td>15.791060000000000</td>\n",
       "      <td>NaN</td>\n",
       "      <td>15.961280000000000</td>\n",
       "      <td>14.763690000000000</td>\n",
       "      <td>14.926340000000000</td>\n",
       "      <td>NaN</td>\n",
       "      <td>14.933990000000000</td>\n",
       "      <td>...</td>\n",
       "      <td>NaN</td>\n",
       "      <td>14.728800000000000</td>\n",
       "      <td>15.004510000000000</td>\n",
       "      <td>14.969420000000000</td>\n",
       "      <td>NaN</td>\n",
       "      <td>14.797020000000000</td>\n",
       "      <td>14.923180000000000</td>\n",
       "      <td>15.012650000000001</td>\n",
       "      <td>NaN</td>\n",
       "      <td>15.046220000000000</td>\n",
       "    </tr>\n",
       "    <tr>\n",
       "      <th>3</th>\n",
       "      <td>ACIN1_S216</td>\n",
       "      <td>IsEEKGDsDDEKPRK</td>\n",
       "      <td>17.457689999999999</td>\n",
       "      <td>16.997420000000002</td>\n",
       "      <td>17.373349999999999</td>\n",
       "      <td>17.434950000000001</td>\n",
       "      <td>16.252500000000001</td>\n",
       "      <td>16.341049999999999</td>\n",
       "      <td>16.316970000000001</td>\n",
       "      <td>16.411560000000001</td>\n",
       "      <td>...</td>\n",
       "      <td>16.38372</td>\n",
       "      <td>16.193570000000001</td>\n",
       "      <td>16.486070000000002</td>\n",
       "      <td>16.445869999999999</td>\n",
       "      <td>16.275169999999999</td>\n",
       "      <td>16.242329999999999</td>\n",
       "      <td>16.405529999999999</td>\n",
       "      <td>16.500750000000000</td>\n",
       "      <td>16.558160000000001</td>\n",
       "      <td>16.533030000000000</td>\n",
       "    </tr>\n",
       "    <tr>\n",
       "      <th>4</th>\n",
       "      <td>ACIN1_S240</td>\n",
       "      <td>QARAAkLsEGsQPAE</td>\n",
       "      <td>13.211040000000001</td>\n",
       "      <td>13.129730000000000</td>\n",
       "      <td>13.565530000000001</td>\n",
       "      <td>13.572440000000000</td>\n",
       "      <td>12.127129999999999</td>\n",
       "      <td>12.011320000000000</td>\n",
       "      <td>12.125540000000001</td>\n",
       "      <td>11.806080000000000</td>\n",
       "      <td>...</td>\n",
       "      <td>12.09775</td>\n",
       "      <td>12.322410000000000</td>\n",
       "      <td>11.838360000000000</td>\n",
       "      <td>12.090270000000000</td>\n",
       "      <td>12.027799999999999</td>\n",
       "      <td>11.561370000000000</td>\n",
       "      <td>12.093400000000001</td>\n",
       "      <td>12.152469999999999</td>\n",
       "      <td>12.159110000000000</td>\n",
       "      <td>11.888489999999999</td>\n",
       "    </tr>\n",
       "  </tbody>\n",
       "</table>\n",
       "<p>5 rows × 26 columns</p>\n",
       "</div>"
      ],
      "text/plain": [
       "    gene_site         site_seq          Control_R1          Control_R2  \\\n",
       "0   AAK1_S637  AGHRRILsDVtHsAV  14.167260000000001  13.791940000000000   \n",
       "1  ABCF1_S105  MERLKKLsVPtsDEE  14.184260000000000  14.422390000000000   \n",
       "2  ACIN1_S208  HSPRKSSsIsEEKGD  15.956730000000000  15.791060000000000   \n",
       "3  ACIN1_S216  IsEEKGDsDDEKPRK  17.457689999999999  16.997420000000002   \n",
       "4  ACIN1_S240  QARAAkLsEGsQPAE  13.211040000000001  13.129730000000000   \n",
       "\n",
       "           Control_R3          Control_R4          AZD5363_R1  \\\n",
       "0  13.888430000000000  13.991310000000000  14.581049999999999   \n",
       "1  14.320520000000000  14.310689999999999  14.905970000000000   \n",
       "2                 NaN  15.961280000000000  14.763690000000000   \n",
       "3  17.373349999999999  17.434950000000001  16.252500000000001   \n",
       "4  13.565530000000001  13.572440000000000  12.127129999999999   \n",
       "\n",
       "           AZD5363_R2          AZD5363_R3          AZD5363_R4  ...  \\\n",
       "0  14.802630000000001  14.723060000000000  14.857880000000000  ...   \n",
       "1  15.157950000000000  14.848050000000001  14.968950000000000  ...   \n",
       "2  14.926340000000000                 NaN  14.933990000000000  ...   \n",
       "3  16.341049999999999  16.316970000000001  16.411560000000001  ...   \n",
       "4  12.011320000000000  12.125540000000001  11.806080000000000  ...   \n",
       "\n",
       "   GSK690693_R3        GSK690693_R4      Ipatasertib_R1      Ipatasertib_R2  \\\n",
       "0      14.47591  14.810269999999999  14.541550000000001  14.598560000000001   \n",
       "1      14.82788  14.924620000000001  14.888140000000000  15.019850000000000   \n",
       "2           NaN  14.728800000000000  15.004510000000000  14.969420000000000   \n",
       "3      16.38372  16.193570000000001  16.486070000000002  16.445869999999999   \n",
       "4      12.09775  12.322410000000000  11.838360000000000  12.090270000000000   \n",
       "\n",
       "       Ipatasertib_R3      Ipatasertib_R4          MK-2206_R1  \\\n",
       "0  14.669480000000000  14.267690000000000  14.500560000000000   \n",
       "1  14.857740000000000  14.809049999999999  14.915050000000001   \n",
       "2                 NaN  14.797020000000000  14.923180000000000   \n",
       "3  16.275169999999999  16.242329999999999  16.405529999999999   \n",
       "4  12.027799999999999  11.561370000000000  12.093400000000001   \n",
       "\n",
       "           MK-2206_R2          MK-2206_R3          MK-2206_R4  \n",
       "0  14.700110000000000  14.642170000000000  14.394790000000000  \n",
       "1  14.815270000000000  15.067920000000001  14.526149999999999  \n",
       "2  15.012650000000001                 NaN  15.046220000000000  \n",
       "3  16.500750000000000  16.558160000000001  16.533030000000000  \n",
       "4  12.152469999999999  12.159110000000000  11.888489999999999  \n",
       "\n",
       "[5 rows x 26 columns]"
      ]
     },
     "execution_count": null,
     "metadata": {},
     "output_type": "execute_result"
    }
   ],
   "source": [
    "df.head()"
   ]
  },
  {
   "cell_type": "code",
   "execution_count": null,
   "id": "fbd6dd49-280f-4147-b972-ecd96c7fabf0",
   "metadata": {},
   "outputs": [
    {
     "data": {
      "text/plain": [
       "Index(['gene_site', 'site_seq', 'Control_R1', 'Control_R2', 'Control_R3',\n",
       "       'Control_R4', 'AZD5363_R1', 'AZD5363_R2', 'AZD5363_R3', 'AZD5363_R4',\n",
       "       'GSK2110183_R1', 'GSK2110183_R2', 'GSK2110183_R3', 'GSK2110183_R4',\n",
       "       'GSK690693_R1', 'GSK690693_R2', 'GSK690693_R3', 'GSK690693_R4',\n",
       "       'Ipatasertib_R1', 'Ipatasertib_R2', 'Ipatasertib_R3', 'Ipatasertib_R4',\n",
       "       'MK-2206_R1', 'MK-2206_R2', 'MK-2206_R3', 'MK-2206_R4'],\n",
       "      dtype='object')"
      ]
     },
     "execution_count": null,
     "metadata": {},
     "output_type": "execute_result"
    }
   ],
   "source": [
    "df.columns"
   ]
  },
  {
   "cell_type": "code",
   "execution_count": null,
   "id": "0dd04e24-830a-4e99-ad45-363f2eb9dcff",
   "metadata": {},
   "outputs": [],
   "source": [
    "ctrl = df.columns[df.columns.str.contains('Control')]\n",
    "\n",
    "# below are five AKT inhibitors\n",
    "AZD = df.columns[df.columns.str.contains('AZD5363')]\n",
    "GSK2 = df.columns[df.columns.str.contains('GSK2110183')]\n",
    "GSK6 = df.columns[df.columns.str.contains('GSK690693')] \n",
    "ipa = df.columns[df.columns.str.contains('Ipatasertib')]\n",
    "MK = df.columns[df.columns.str.contains('MK')]"
   ]
  },
  {
   "cell_type": "markdown",
   "id": "3fcd6988-ccb4-485f-8662-f1665c8d44dd",
   "metadata": {},
   "source": [
    "## Statistical test"
   ]
  },
  {
   "cell_type": "markdown",
   "id": "5ec7bde6-4d61-43a4-a940-8b4286d9c4d6",
   "metadata": {},
   "source": [
    "Let's use AZD for example:"
   ]
  },
  {
   "cell_type": "code",
   "execution_count": null,
   "id": "eb496acb-fbab-47fd-8f1b-66a1fc713f94",
   "metadata": {},
   "outputs": [
    {
     "name": "stderr",
     "output_type": "stream",
     "text": [
      "Computing mann_whitney tests: 100%|██████████| 10900/10900 [00:05<00:00, 1894.69it/s]\n"
     ]
    }
   ],
   "source": [
    "azd = get_pvalue(df,ctrl, AZD,'mann_whitney')"
   ]
  },
  {
   "cell_type": "code",
   "execution_count": null,
   "id": "eba9e24b-00d3-4636-8e7a-cee9912cb7c5",
   "metadata": {},
   "outputs": [
    {
     "data": {
      "text/html": [
       "<div>\n",
       "<style scoped>\n",
       "    .dataframe tbody tr th:only-of-type {\n",
       "        vertical-align: middle;\n",
       "    }\n",
       "\n",
       "    .dataframe tbody tr th {\n",
       "        vertical-align: top;\n",
       "    }\n",
       "\n",
       "    .dataframe thead th {\n",
       "        text-align: right;\n",
       "    }\n",
       "</style>\n",
       "<table border=\"1\" class=\"dataframe\">\n",
       "  <thead>\n",
       "    <tr style=\"text-align: right;\">\n",
       "      <th></th>\n",
       "      <th>log2FC</th>\n",
       "      <th>p_value</th>\n",
       "      <th>p_adj</th>\n",
       "      <th>signed_logP</th>\n",
       "      <th>signed_logPadj</th>\n",
       "    </tr>\n",
       "  </thead>\n",
       "  <tbody>\n",
       "    <tr>\n",
       "      <th>0</th>\n",
       "      <td>0.822975000000001</td>\n",
       "      <td>0.028571428571429</td>\n",
       "      <td>0.186595908585124</td>\n",
       "      <td>1.544068044350276</td>\n",
       "      <td>0.729097883088899</td>\n",
       "    </tr>\n",
       "    <tr>\n",
       "      <th>1</th>\n",
       "      <td>0.621855000000000</td>\n",
       "      <td>0.028571428571429</td>\n",
       "      <td>0.186595908585124</td>\n",
       "      <td>1.544068044350276</td>\n",
       "      <td>0.729097883088899</td>\n",
       "    </tr>\n",
       "    <tr>\n",
       "      <th>2</th>\n",
       "      <td>-1.030390000000001</td>\n",
       "      <td>0.100000000000000</td>\n",
       "      <td>0.314892387693197</td>\n",
       "      <td>-1.000000000000000</td>\n",
       "      <td>-0.501837838006831</td>\n",
       "    </tr>\n",
       "    <tr>\n",
       "      <th>3</th>\n",
       "      <td>-1.075140000000001</td>\n",
       "      <td>0.028571428571429</td>\n",
       "      <td>0.186595908585124</td>\n",
       "      <td>-1.544068044350276</td>\n",
       "      <td>-0.729097883088899</td>\n",
       "    </tr>\n",
       "    <tr>\n",
       "      <th>4</th>\n",
       "      <td>-1.319855000000000</td>\n",
       "      <td>0.028571428571429</td>\n",
       "      <td>0.186595908585124</td>\n",
       "      <td>-1.544068044350276</td>\n",
       "      <td>-0.729097883088899</td>\n",
       "    </tr>\n",
       "  </tbody>\n",
       "</table>\n",
       "</div>"
      ],
      "text/plain": [
       "              log2FC            p_value              p_adj        signed_logP  \\\n",
       "0  0.822975000000001  0.028571428571429  0.186595908585124  1.544068044350276   \n",
       "1  0.621855000000000  0.028571428571429  0.186595908585124  1.544068044350276   \n",
       "2 -1.030390000000001  0.100000000000000  0.314892387693197 -1.000000000000000   \n",
       "3 -1.075140000000001  0.028571428571429  0.186595908585124 -1.544068044350276   \n",
       "4 -1.319855000000000  0.028571428571429  0.186595908585124 -1.544068044350276   \n",
       "\n",
       "      signed_logPadj  \n",
       "0  0.729097883088899  \n",
       "1  0.729097883088899  \n",
       "2 -0.501837838006831  \n",
       "3 -0.729097883088899  \n",
       "4 -0.729097883088899  "
      ]
     },
     "execution_count": null,
     "metadata": {},
     "output_type": "execute_result"
    }
   ],
   "source": [
    "azd.head()"
   ]
  },
  {
   "cell_type": "code",
   "execution_count": null,
   "id": "7f8f4856-f59e-4d5d-85df-0779cb2119ee",
   "metadata": {},
   "outputs": [
    {
     "data": {
      "text/plain": [
       "92       0.028571428571429\n",
       "94       0.028571428571429\n",
       "34       0.028571428571429\n",
       "36       0.028571428571429\n",
       "38       0.028571428571429\n",
       "               ...        \n",
       "10899    1.000000000000000\n",
       "10841    1.000000000000000\n",
       "297      1.000000000000000\n",
       "10898    1.000000000000000\n",
       "10864    1.000000000000000\n",
       "Name: p_value, Length: 10900, dtype: float64"
      ]
     },
     "execution_count": null,
     "metadata": {},
     "output_type": "execute_result"
    }
   ],
   "source": [
    "azd.p_value.sort_values()"
   ]
  },
  {
   "cell_type": "markdown",
   "id": "f84e1f3f-2d25-49eb-8beb-516f246b2a52",
   "metadata": {},
   "source": [
    "As the sample size for calculating p value is small in this case, we will use uncorrected p_value to allow more data to be considered; it is more important to look at the effect size"
   ]
  },
  {
   "cell_type": "code",
   "execution_count": null,
   "id": "524faa22-83f5-4280-93cb-1cdcb75a2b91",
   "metadata": {},
   "outputs": [],
   "source": [
    "info = df.iloc[:,:2]"
   ]
  },
  {
   "cell_type": "code",
   "execution_count": null,
   "id": "58c0c1e7-c213-497d-8aba-d69b7f839249",
   "metadata": {},
   "outputs": [],
   "source": [
    "azd = pd.concat([info,azd],axis=1)"
   ]
  },
  {
   "cell_type": "markdown",
   "id": "9500acee-7641-49c5-a503-e9bce79d9de7",
   "metadata": {},
   "source": [
    "## Cut through threshold"
   ]
  },
  {
   "cell_type": "code",
   "execution_count": null,
   "id": "4dd46918-6fbb-4f78-b562-1c6884f0d4d3",
   "metadata": {},
   "outputs": [],
   "source": [
    "# set a threshold of 0.05 for p_value\n",
    "azd2 = azd[azd.p_value<0.05].reset_index(drop=True)"
   ]
  },
  {
   "cell_type": "code",
   "execution_count": null,
   "id": "cdbd249a-5c7a-48c4-adba-f0ec16f207bc",
   "metadata": {},
   "outputs": [
    {
     "data": {
      "text/plain": [
       "(1669, 7)"
      ]
     },
     "execution_count": null,
     "metadata": {},
     "output_type": "execute_result"
    }
   ],
   "source": [
    "azd2.shape"
   ]
  },
  {
   "cell_type": "code",
   "execution_count": null,
   "id": "1904ecbb-2535-4a92-b724-ec90d665d707",
   "metadata": {},
   "outputs": [
    {
     "data": {
      "image/png": "[encoded data removed]",
      "text/plain": [
       "<Figure size 640x480 with 1 Axes>"
      ]
     },
     "metadata": {},
     "output_type": "display_data"
    }
   ],
   "source": [
    "azd2.site_seq.str[7].value_counts().plot.bar();"
   ]
  },
  {
   "cell_type": "markdown",
   "id": "4b016430-fe2e-4341-8505-5497690a452d",
   "metadata": {},
   "source": [
    "## Visualize fold change values"
   ]
  },
  {
   "cell_type": "code",
   "execution_count": null,
   "id": "dfbbd942-a231-464a-9a09-0f73a555396f",
   "metadata": {},
   "outputs": [],
   "source": [
    "def plot_value(df,col):\n",
    "    plt.figure(figsize=(10, 5))\n",
    "    \n",
    "    # sort values\n",
    "    df=df.copy().sort_values(col).reset_index(drop=True) \n",
    "    \n",
    "    plt.fill_between(df.index, df[col], where=(df[col] >= 0), color='blue', alpha=0.3, label='Positive')\n",
    "    plt.fill_between(df.index, df[col], where=(df[col] <= 0), color='red', alpha=0.3, label='Negative')\n",
    "    plt.title('Area Plot of Values')\n",
    "    plt.xlabel('Ranked Index')\n",
    "    plt.ylabel('Values')"
   ]
  },
  {
   "cell_type": "code",
   "execution_count": null,
   "id": "4ad764ec-d069-4542-9827-cce12313ee91",
   "metadata": {},
   "outputs": [
    {
     "data": {
      "image/png": "[encoded data removed]",
      "text/plain": [
       "<Figure size 1000x500 with 1 Axes>"
      ]
     },
     "metadata": {},
     "output_type": "display_data"
    }
   ],
   "source": [
    "plot_value(azd2,'log2FC')"
   ]
  },
  {
   "cell_type": "code",
   "execution_count": null,
   "id": "1d1c034b-e3dc-4179-8ea9-a8d0829fdfcf",
   "metadata": {},
   "outputs": [],
   "source": [
    "st_sites = azd2[azd2.site_seq.str[7].str.upper()!='Y']\n",
    "y_sites = azd2[azd2.site_seq.str[7].str.upper()=='Y']"
   ]
  },
  {
   "cell_type": "code",
   "execution_count": null,
   "id": "bd06597f-f89e-4f4b-97c9-4f6c1229f733",
   "metadata": {},
   "outputs": [
    {
     "data": {
      "text/plain": [
       "Text(0.5, 1.0, 'Y sites')"
      ]
     },
     "execution_count": null,
     "metadata": {},
     "output_type": "execute_result"
    },
    {
     "data": {
      "image/png": "[encoded data removed]",
      "text/plain": [
       "<Figure size 1000x500 with 1 Axes>"
      ]
     },
     "metadata": {},
     "output_type": "display_data"
    },
    {
     "data": {
      "image/png": "[encoded data removed]",
      "text/plain": [
       "<Figure size 1000x500 with 1 Axes>"
      ]
     },
     "metadata": {},
     "output_type": "display_data"
    }
   ],
   "source": [
    "plot_value(st_sites,'log2FC')\n",
    "plt.title('S/T sites')\n",
    "plot_value(y_sites,'log2FC')\n",
    "plt.title('Y sites')"
   ]
  },
  {
   "cell_type": "markdown",
   "id": "bd5e0500-a688-4ef2-87c0-e4f56f9642d4",
   "metadata": {},
   "source": [
    "## Dataset processing"
   ]
  },
  {
   "cell_type": "markdown",
   "id": "0ac3ff9d-246f-4026-b01b-7d3d710124f1",
   "metadata": {},
   "source": [
    "There are NaNs in site_seq, we will drop them"
   ]
  },
  {
   "cell_type": "code",
   "execution_count": null,
   "id": "bca18021-e0f4-4a1d-926d-51d9054bce16",
   "metadata": {},
   "outputs": [],
   "source": [
    "azd2=azd2.dropna(subset='site_seq')"
   ]
  },
  {
   "cell_type": "markdown",
   "id": "0834cabc-f6fa-4e6b-90ea-47f9cd8f8a05",
   "metadata": {},
   "source": [
    "Some site_seq contains multiple sequences splitted by \";\", we will take the first one."
   ]
  },
  {
   "cell_type": "code",
   "execution_count": null,
   "id": "6975e17a-c01a-4d0b-a2d5-684976830273",
   "metadata": {},
   "outputs": [],
   "source": [
    "azd2['site_seq2'] = azd2.site_seq.str.split(';').str[0]"
   ]
  },
  {
   "cell_type": "markdown",
   "id": "5455c24e-4d09-43f2-b8ed-f322e5a8f8fe",
   "metadata": {},
   "source": [
    "Make sure site sequence length are all consistent"
   ]
  },
  {
   "cell_type": "code",
   "execution_count": null,
   "id": "5ce8ecf3-10da-41c8-90cb-680dc7e684d8",
   "metadata": {},
   "outputs": [],
   "source": [
    "azd2['len'] = azd2.site_seq2.str.len()"
   ]
  },
  {
   "cell_type": "code",
   "execution_count": null,
   "id": "74cb3a6b-28f6-49a6-b959-a70a83da41ca",
   "metadata": {},
   "outputs": [
    {
     "data": {
      "text/plain": [
       "len\n",
       "15    1647\n",
       "Name: count, dtype: int64"
      ]
     },
     "execution_count": null,
     "metadata": {},
     "output_type": "execute_result"
    }
   ],
   "source": [
    "azd2.len.value_counts() "
   ]
  },
  {
   "cell_type": "code",
   "execution_count": null,
   "id": "4b0be76d-b6a8-44f4-a192-10099e680123",
   "metadata": {},
   "outputs": [],
   "source": [
    "azd2['acceptor'] = azd2.site_seq2.str[7]"
   ]
  },
  {
   "cell_type": "markdown",
   "id": "7b6cce2c-843a-468f-bd8d-895d8649c8eb",
   "metadata": {},
   "source": [
    "## Substrate scoring"
   ]
  },
  {
   "cell_type": "code",
   "execution_count": null,
   "id": "4e15828b-fc9f-471e-9401-ebbaabf59ddb",
   "metadata": {},
   "outputs": [
    {
     "name": "stdout",
     "output_type": "stream",
     "text": [
      "input dataframe has a length 1647\n",
      "Preprocessing\n",
      "Finish preprocessing\n",
      "Merging reference\n",
      "Finish merging\n"
     ]
    },
    {
     "name": "stderr",
     "output_type": "stream",
     "text": [
      "100%|██████████| 396/396 [00:01<00:00, 327.83it/s]\n"
     ]
    },
    {
     "name": "stdout",
     "output_type": "stream",
     "text": [
      "input dataframe has a length 1647\n",
      "Preprocessing\n",
      "Finish preprocessing\n",
      "Merging reference\n",
      "Finish merging\n"
     ]
    }
   ],
   "source": [
    "pspa_out = predict_kinase_df(azd2,seq_col='site_seq2', **Params('PSPA'))\n",
    "cddm_out = predict_kinase_df(azd2,seq_col='site_seq2', **Params('CDDM'))"
   ]
  },
  {
   "cell_type": "markdown",
   "id": "a7ac5509-7a8d-4fd8-8201-6c4befca5300",
   "metadata": {},
   "source": [
    "## Kinase enrichment"
   ]
  },
  {
   "cell_type": "code",
   "execution_count": null,
   "id": "66e0df22-0943-4903-a440-77138425c478",
   "metadata": {},
   "outputs": [],
   "source": [
    "def get_enrichment(score_df, # output df of predict_kinase_df\n",
    "                    site_df, # df that contains site sequence\n",
    "                    weight_col, # column that indicates direction (sign) and weights for the site\n",
    "                    is_Y=False, # whether or not it is Y site or S/T site\n",
    "                    top_n = 5, # top n kinase to consider for each site\n",
    "                                  ):\n",
    "\n",
    "    \"Calculate kinase enrichment score for sites with signed log10(p) that pass a threshold(1.3) \"\n",
    "\n",
    "    if is_Y:\n",
    "        idx_up = site_df.index[(site_df.acceptor.str.upper()==\"Y\") & (site_df[weight_col]>0)]\n",
    "        idx_dn = site_df.index[(site_df.acceptor.str.upper()==\"Y\") & (site_df[weight_col]<0)]\n",
    "    else:\n",
    "        idx_up = site_df.index[(site_df.acceptor.str.upper()!=\"Y\") & (site_df[weight_col]>0)]\n",
    "        idx_dn = site_df.index[(site_df.acceptor.str.upper()!=\"Y\") & (site_df[weight_col]<0)]\n",
    "\n",
    "    up_site = site_df.loc[idx_up]\n",
    "    dn_site = site_df.loc[idx_dn]\n",
    "\n",
    "    up_score = score_df.loc[idx_up]\n",
    "    dn_score = score_df.loc[idx_dn]\n",
    "\n",
    "    def top_kinases(site_row,top_n=5):\n",
    "        # Sort the row in descending order and get the top n kinases\n",
    "        top_kinases = site_row.sort_values(ascending=False).head(top_n)\n",
    "\n",
    "        # Get the counts of the top kinases\n",
    "        kinase_counts = top_kinases.index.value_counts()\n",
    "\n",
    "        return kinase_counts\n",
    "\n",
    "    func = partial(top_kinases,top_n=top_n)\n",
    "\n",
    "    up_cnt = up_score.apply(func,axis=1)\n",
    "    dn_cnt = dn_score.apply(func,axis=1)\n",
    "\n",
    "    df_up_cnt = up_cnt.sum().reset_index(name = 'up_cnt')\n",
    "    df_dn_cnt = dn_cnt.sum().reset_index(name = 'dn_cnt')\n",
    "\n",
    "    df_w_up = up_cnt.multiply(abs(up_site[weight_col]),axis=0).sum().reset_index(name = 'up_weighted_cnt')\n",
    "    df_w_dn = dn_cnt.multiply(abs(dn_site[weight_col]),axis=0).sum().reset_index(name = 'dn_weighted_cnt')\n",
    "\n",
    "    dfs = [df_up_cnt,df_dn_cnt,df_w_up,df_w_dn]\n",
    "\n",
    "    result = reduce(lambda left, right: pd.merge(left, right, how='outer'), dfs)\n",
    "\n",
    "    result = result.fillna(0)\n",
    "    result['max'] = result.apply(lambda r: r.up_weighted_cnt if r.up_weighted_cnt >= r.dn_weighted_cnt else -r.dn_weighted_cnt,axis=1)\n",
    "    result['delta'] = result.up_weighted_cnt - result.dn_weighted_cnt\n",
    "    result = result.rename(columns={'index':'kinase'})\n",
    "\n",
    "    return result"
   ]
  },
  {
   "cell_type": "markdown",
   "id": "fb47a306-14cd-44f0-b7a1-baa2f2a46dd1",
   "metadata": {},
   "source": [
    "As we only have 6 y sites, we will do S/T sites kinase enrichment; set`is_Y` to False"
   ]
  },
  {
   "cell_type": "code",
   "execution_count": null,
   "id": "947f0eec-5489-472f-9c05-ad0084bd05d0",
   "metadata": {},
   "outputs": [],
   "source": [
    "st_cddm = get_enrichment(cddm_out,azd2,'log2FC',is_Y=False,top_n=10)\n",
    "st_pspa = get_enrichment(pspa_out,azd2,'log2FC',is_Y=False,top_n=10)"
   ]
  },
  {
   "cell_type": "code",
   "execution_count": null,
   "id": "b28052cd-3449-427b-9a30-0096ae7b677e",
   "metadata": {},
   "outputs": [
    {
     "data": {
      "text/html": [
       "<div>\n",
       "<style scoped>\n",
       "    .dataframe tbody tr th:only-of-type {\n",
       "        vertical-align: middle;\n",
       "    }\n",
       "\n",
       "    .dataframe tbody tr th {\n",
       "        vertical-align: top;\n",
       "    }\n",
       "\n",
       "    .dataframe thead th {\n",
       "        text-align: right;\n",
       "    }\n",
       "</style>\n",
       "<table border=\"1\" class=\"dataframe\">\n",
       "  <thead>\n",
       "    <tr style=\"text-align: right;\">\n",
       "      <th></th>\n",
       "      <th>kinase</th>\n",
       "      <th>up_cnt</th>\n",
       "      <th>dn_cnt</th>\n",
       "      <th>up_weighted_cnt</th>\n",
       "      <th>dn_weighted_cnt</th>\n",
       "      <th>max</th>\n",
       "      <th>delta</th>\n",
       "    </tr>\n",
       "  </thead>\n",
       "  <tbody>\n",
       "    <tr>\n",
       "      <th>0</th>\n",
       "      <td>ACVR2A</td>\n",
       "      <td>16.0</td>\n",
       "      <td>2.0</td>\n",
       "      <td>4.321139999999996</td>\n",
       "      <td>0.387275000000001</td>\n",
       "      <td>4.321139999999996</td>\n",
       "      <td>3.933864999999996</td>\n",
       "    </tr>\n",
       "    <tr>\n",
       "      <th>1</th>\n",
       "      <td>AKT1</td>\n",
       "      <td>115.0</td>\n",
       "      <td>130.0</td>\n",
       "      <td>37.703091500000035</td>\n",
       "      <td>110.405810000000002</td>\n",
       "      <td>-110.405810000000002</td>\n",
       "      <td>-72.702718499999975</td>\n",
       "    </tr>\n",
       "    <tr>\n",
       "      <th>2</th>\n",
       "      <td>AKT2</td>\n",
       "      <td>13.0</td>\n",
       "      <td>78.0</td>\n",
       "      <td>3.840655000000002</td>\n",
       "      <td>75.697464999999994</td>\n",
       "      <td>-75.697464999999994</td>\n",
       "      <td>-71.856809999999996</td>\n",
       "    </tr>\n",
       "    <tr>\n",
       "      <th>3</th>\n",
       "      <td>AKT3</td>\n",
       "      <td>79.0</td>\n",
       "      <td>110.0</td>\n",
       "      <td>25.234140000000036</td>\n",
       "      <td>100.077135000000027</td>\n",
       "      <td>-100.077135000000027</td>\n",
       "      <td>-74.842994999999988</td>\n",
       "    </tr>\n",
       "    <tr>\n",
       "      <th>4</th>\n",
       "      <td>ALK2</td>\n",
       "      <td>90.0</td>\n",
       "      <td>11.0</td>\n",
       "      <td>21.950408500000012</td>\n",
       "      <td>5.124545000000005</td>\n",
       "      <td>21.950408500000012</td>\n",
       "      <td>16.825863500000008</td>\n",
       "    </tr>\n",
       "  </tbody>\n",
       "</table>\n",
       "</div>"
      ],
      "text/plain": [
       "   kinase  up_cnt  dn_cnt     up_weighted_cnt      dn_weighted_cnt  \\\n",
       "0  ACVR2A    16.0     2.0   4.321139999999996    0.387275000000001   \n",
       "1    AKT1   115.0   130.0  37.703091500000035  110.405810000000002   \n",
       "2    AKT2    13.0    78.0   3.840655000000002   75.697464999999994   \n",
       "3    AKT3    79.0   110.0  25.234140000000036  100.077135000000027   \n",
       "4    ALK2    90.0    11.0  21.950408500000012    5.124545000000005   \n",
       "\n",
       "                   max               delta  \n",
       "0    4.321139999999996   3.933864999999996  \n",
       "1 -110.405810000000002 -72.702718499999975  \n",
       "2  -75.697464999999994 -71.856809999999996  \n",
       "3 -100.077135000000027 -74.842994999999988  \n",
       "4   21.950408500000012  16.825863500000008  "
      ]
     },
     "execution_count": null,
     "metadata": {},
     "output_type": "execute_result"
    }
   ],
   "source": [
    "st_cddm.head()"
   ]
  },
  {
   "cell_type": "markdown",
   "id": "b1020894-ea31-4006-bcd7-62de91382bf6",
   "metadata": {},
   "source": [
    "Delta is the difference between up_weighted_cnt and dn_weighted_cnt vaue, max is the maximum value among the two."
   ]
  },
  {
   "cell_type": "code",
   "execution_count": null,
   "id": "8c3e3804-152c-48e6-a029-d9d64bdf487b",
   "metadata": {},
   "outputs": [
    {
     "data": {
      "text/html": [
       "<div>\n",
       "<style scoped>\n",
       "    .dataframe tbody tr th:only-of-type {\n",
       "        vertical-align: middle;\n",
       "    }\n",
       "\n",
       "    .dataframe tbody tr th {\n",
       "        vertical-align: top;\n",
       "    }\n",
       "\n",
       "    .dataframe thead th {\n",
       "        text-align: right;\n",
       "    }\n",
       "</style>\n",
       "<table border=\"1\" class=\"dataframe\">\n",
       "  <thead>\n",
       "    <tr style=\"text-align: right;\">\n",
       "      <th></th>\n",
       "      <th>kinase</th>\n",
       "      <th>up_cnt</th>\n",
       "      <th>dn_cnt</th>\n",
       "      <th>up_weighted_cnt</th>\n",
       "      <th>dn_weighted_cnt</th>\n",
       "      <th>max</th>\n",
       "      <th>delta</th>\n",
       "    </tr>\n",
       "  </thead>\n",
       "  <tbody>\n",
       "    <tr>\n",
       "      <th>3</th>\n",
       "      <td>AKT3</td>\n",
       "      <td>79.0</td>\n",
       "      <td>110.0</td>\n",
       "      <td>25.234140000000036</td>\n",
       "      <td>100.077135000000027</td>\n",
       "      <td>-100.077135000000027</td>\n",
       "      <td>-74.842994999999988</td>\n",
       "    </tr>\n",
       "    <tr>\n",
       "      <th>1</th>\n",
       "      <td>AKT1</td>\n",
       "      <td>115.0</td>\n",
       "      <td>130.0</td>\n",
       "      <td>37.703091500000035</td>\n",
       "      <td>110.405810000000002</td>\n",
       "      <td>-110.405810000000002</td>\n",
       "      <td>-72.702718499999975</td>\n",
       "    </tr>\n",
       "    <tr>\n",
       "      <th>2</th>\n",
       "      <td>AKT2</td>\n",
       "      <td>13.0</td>\n",
       "      <td>78.0</td>\n",
       "      <td>3.840655000000002</td>\n",
       "      <td>75.697464999999994</td>\n",
       "      <td>-75.697464999999994</td>\n",
       "      <td>-71.856809999999996</td>\n",
       "    </tr>\n",
       "    <tr>\n",
       "      <th>159</th>\n",
       "      <td>SGK1</td>\n",
       "      <td>74.0</td>\n",
       "      <td>110.0</td>\n",
       "      <td>24.613551500000032</td>\n",
       "      <td>95.519774999999996</td>\n",
       "      <td>-95.519774999999996</td>\n",
       "      <td>-70.906223499999967</td>\n",
       "    </tr>\n",
       "    <tr>\n",
       "      <th>122</th>\n",
       "      <td>P90RSK</td>\n",
       "      <td>166.0</td>\n",
       "      <td>149.0</td>\n",
       "      <td>58.454870500000020</td>\n",
       "      <td>118.607010000000017</td>\n",
       "      <td>-118.607010000000017</td>\n",
       "      <td>-60.152139499999997</td>\n",
       "    </tr>\n",
       "    <tr>\n",
       "      <th>...</th>\n",
       "      <td>...</td>\n",
       "      <td>...</td>\n",
       "      <td>...</td>\n",
       "      <td>...</td>\n",
       "      <td>...</td>\n",
       "      <td>...</td>\n",
       "      <td>...</td>\n",
       "    </tr>\n",
       "    <tr>\n",
       "      <th>27</th>\n",
       "      <td>CDK2</td>\n",
       "      <td>610.0</td>\n",
       "      <td>70.0</td>\n",
       "      <td>185.843078500000047</td>\n",
       "      <td>38.980064500000012</td>\n",
       "      <td>185.843078500000047</td>\n",
       "      <td>146.863014000000021</td>\n",
       "    </tr>\n",
       "    <tr>\n",
       "      <th>26</th>\n",
       "      <td>CDK1</td>\n",
       "      <td>662.0</td>\n",
       "      <td>84.0</td>\n",
       "      <td>202.509342000000004</td>\n",
       "      <td>46.487524500000013</td>\n",
       "      <td>202.509342000000004</td>\n",
       "      <td>156.021817499999997</td>\n",
       "    </tr>\n",
       "    <tr>\n",
       "      <th>52</th>\n",
       "      <td>ERK1</td>\n",
       "      <td>666.0</td>\n",
       "      <td>76.0</td>\n",
       "      <td>205.446255000000036</td>\n",
       "      <td>40.366904500000004</td>\n",
       "      <td>205.446255000000036</td>\n",
       "      <td>165.079350500000032</td>\n",
       "    </tr>\n",
       "    <tr>\n",
       "      <th>29</th>\n",
       "      <td>CDK4</td>\n",
       "      <td>691.0</td>\n",
       "      <td>83.0</td>\n",
       "      <td>210.494168500000001</td>\n",
       "      <td>43.878864500000013</td>\n",
       "      <td>210.494168500000001</td>\n",
       "      <td>166.615303999999981</td>\n",
       "    </tr>\n",
       "    <tr>\n",
       "      <th>53</th>\n",
       "      <td>ERK2</td>\n",
       "      <td>713.0</td>\n",
       "      <td>84.0</td>\n",
       "      <td>217.655180000000030</td>\n",
       "      <td>44.031049499999995</td>\n",
       "      <td>217.655180000000030</td>\n",
       "      <td>173.624130500000035</td>\n",
       "    </tr>\n",
       "  </tbody>\n",
       "</table>\n",
       "<p>177 rows × 7 columns</p>\n",
       "</div>"
      ],
      "text/plain": [
       "     kinase  up_cnt  dn_cnt      up_weighted_cnt      dn_weighted_cnt  \\\n",
       "3      AKT3    79.0   110.0   25.234140000000036  100.077135000000027   \n",
       "1      AKT1   115.0   130.0   37.703091500000035  110.405810000000002   \n",
       "2      AKT2    13.0    78.0    3.840655000000002   75.697464999999994   \n",
       "159    SGK1    74.0   110.0   24.613551500000032   95.519774999999996   \n",
       "122  P90RSK   166.0   149.0   58.454870500000020  118.607010000000017   \n",
       "..      ...     ...     ...                  ...                  ...   \n",
       "27     CDK2   610.0    70.0  185.843078500000047   38.980064500000012   \n",
       "26     CDK1   662.0    84.0  202.509342000000004   46.487524500000013   \n",
       "52     ERK1   666.0    76.0  205.446255000000036   40.366904500000004   \n",
       "29     CDK4   691.0    83.0  210.494168500000001   43.878864500000013   \n",
       "53     ERK2   713.0    84.0  217.655180000000030   44.031049499999995   \n",
       "\n",
       "                     max                delta  \n",
       "3   -100.077135000000027  -74.842994999999988  \n",
       "1   -110.405810000000002  -72.702718499999975  \n",
       "2    -75.697464999999994  -71.856809999999996  \n",
       "159  -95.519774999999996  -70.906223499999967  \n",
       "122 -118.607010000000017  -60.152139499999997  \n",
       "..                   ...                  ...  \n",
       "27   185.843078500000047  146.863014000000021  \n",
       "26   202.509342000000004  156.021817499999997  \n",
       "52   205.446255000000036  165.079350500000032  \n",
       "29   210.494168500000001  166.615303999999981  \n",
       "53   217.655180000000030  173.624130500000035  \n",
       "\n",
       "[177 rows x 7 columns]"
      ]
     },
     "execution_count": null,
     "metadata": {},
     "output_type": "execute_result"
    }
   ],
   "source": [
    "st_cddm.sort_values('delta')"
   ]
  },
  {
   "cell_type": "code",
   "execution_count": null,
   "id": "2a8b1fd6-2541-497c-930d-8c07d7fc0b30",
   "metadata": {},
   "outputs": [
    {
     "data": {
      "text/html": [
       "<div>\n",
       "<style scoped>\n",
       "    .dataframe tbody tr th:only-of-type {\n",
       "        vertical-align: middle;\n",
       "    }\n",
       "\n",
       "    .dataframe tbody tr th {\n",
       "        vertical-align: top;\n",
       "    }\n",
       "\n",
       "    .dataframe thead th {\n",
       "        text-align: right;\n",
       "    }\n",
       "</style>\n",
       "<table border=\"1\" class=\"dataframe\">\n",
       "  <thead>\n",
       "    <tr style=\"text-align: right;\">\n",
       "      <th></th>\n",
       "      <th>kinase</th>\n",
       "      <th>up_cnt</th>\n",
       "      <th>dn_cnt</th>\n",
       "      <th>up_weighted_cnt</th>\n",
       "      <th>dn_weighted_cnt</th>\n",
       "      <th>max</th>\n",
       "      <th>delta</th>\n",
       "    </tr>\n",
       "  </thead>\n",
       "  <tbody>\n",
       "    <tr>\n",
       "      <th>152</th>\n",
       "      <td>PRKX</td>\n",
       "      <td>293.0</td>\n",
       "      <td>157.0</td>\n",
       "      <td>107.897737000000006</td>\n",
       "      <td>124.321542000000051</td>\n",
       "      <td>-124.321542000000051</td>\n",
       "      <td>-16.423805000000044</td>\n",
       "    </tr>\n",
       "    <tr>\n",
       "      <th>122</th>\n",
       "      <td>P90RSK</td>\n",
       "      <td>166.0</td>\n",
       "      <td>149.0</td>\n",
       "      <td>58.454870500000020</td>\n",
       "      <td>118.607010000000017</td>\n",
       "      <td>-118.607010000000017</td>\n",
       "      <td>-60.152139499999997</td>\n",
       "    </tr>\n",
       "    <tr>\n",
       "      <th>1</th>\n",
       "      <td>AKT1</td>\n",
       "      <td>115.0</td>\n",
       "      <td>130.0</td>\n",
       "      <td>37.703091500000035</td>\n",
       "      <td>110.405810000000002</td>\n",
       "      <td>-110.405810000000002</td>\n",
       "      <td>-72.702718499999975</td>\n",
       "    </tr>\n",
       "    <tr>\n",
       "      <th>3</th>\n",
       "      <td>AKT3</td>\n",
       "      <td>79.0</td>\n",
       "      <td>110.0</td>\n",
       "      <td>25.234140000000036</td>\n",
       "      <td>100.077135000000027</td>\n",
       "      <td>-100.077135000000027</td>\n",
       "      <td>-74.842994999999988</td>\n",
       "    </tr>\n",
       "    <tr>\n",
       "      <th>159</th>\n",
       "      <td>SGK1</td>\n",
       "      <td>74.0</td>\n",
       "      <td>110.0</td>\n",
       "      <td>24.613551500000032</td>\n",
       "      <td>95.519774999999996</td>\n",
       "      <td>-95.519774999999996</td>\n",
       "      <td>-70.906223499999967</td>\n",
       "    </tr>\n",
       "    <tr>\n",
       "      <th>...</th>\n",
       "      <td>...</td>\n",
       "      <td>...</td>\n",
       "      <td>...</td>\n",
       "      <td>...</td>\n",
       "      <td>...</td>\n",
       "      <td>...</td>\n",
       "      <td>...</td>\n",
       "    </tr>\n",
       "    <tr>\n",
       "      <th>27</th>\n",
       "      <td>CDK2</td>\n",
       "      <td>610.0</td>\n",
       "      <td>70.0</td>\n",
       "      <td>185.843078500000047</td>\n",
       "      <td>38.980064500000012</td>\n",
       "      <td>185.843078500000047</td>\n",
       "      <td>146.863014000000021</td>\n",
       "    </tr>\n",
       "    <tr>\n",
       "      <th>26</th>\n",
       "      <td>CDK1</td>\n",
       "      <td>662.0</td>\n",
       "      <td>84.0</td>\n",
       "      <td>202.509342000000004</td>\n",
       "      <td>46.487524500000013</td>\n",
       "      <td>202.509342000000004</td>\n",
       "      <td>156.021817499999997</td>\n",
       "    </tr>\n",
       "    <tr>\n",
       "      <th>52</th>\n",
       "      <td>ERK1</td>\n",
       "      <td>666.0</td>\n",
       "      <td>76.0</td>\n",
       "      <td>205.446255000000036</td>\n",
       "      <td>40.366904500000004</td>\n",
       "      <td>205.446255000000036</td>\n",
       "      <td>165.079350500000032</td>\n",
       "    </tr>\n",
       "    <tr>\n",
       "      <th>29</th>\n",
       "      <td>CDK4</td>\n",
       "      <td>691.0</td>\n",
       "      <td>83.0</td>\n",
       "      <td>210.494168500000001</td>\n",
       "      <td>43.878864500000013</td>\n",
       "      <td>210.494168500000001</td>\n",
       "      <td>166.615303999999981</td>\n",
       "    </tr>\n",
       "    <tr>\n",
       "      <th>53</th>\n",
       "      <td>ERK2</td>\n",
       "      <td>713.0</td>\n",
       "      <td>84.0</td>\n",
       "      <td>217.655180000000030</td>\n",
       "      <td>44.031049499999995</td>\n",
       "      <td>217.655180000000030</td>\n",
       "      <td>173.624130500000035</td>\n",
       "    </tr>\n",
       "  </tbody>\n",
       "</table>\n",
       "<p>177 rows × 7 columns</p>\n",
       "</div>"
      ],
      "text/plain": [
       "     kinase  up_cnt  dn_cnt      up_weighted_cnt      dn_weighted_cnt  \\\n",
       "152    PRKX   293.0   157.0  107.897737000000006  124.321542000000051   \n",
       "122  P90RSK   166.0   149.0   58.454870500000020  118.607010000000017   \n",
       "1      AKT1   115.0   130.0   37.703091500000035  110.405810000000002   \n",
       "3      AKT3    79.0   110.0   25.234140000000036  100.077135000000027   \n",
       "159    SGK1    74.0   110.0   24.613551500000032   95.519774999999996   \n",
       "..      ...     ...     ...                  ...                  ...   \n",
       "27     CDK2   610.0    70.0  185.843078500000047   38.980064500000012   \n",
       "26     CDK1   662.0    84.0  202.509342000000004   46.487524500000013   \n",
       "52     ERK1   666.0    76.0  205.446255000000036   40.366904500000004   \n",
       "29     CDK4   691.0    83.0  210.494168500000001   43.878864500000013   \n",
       "53     ERK2   713.0    84.0  217.655180000000030   44.031049499999995   \n",
       "\n",
       "                     max                delta  \n",
       "152 -124.321542000000051  -16.423805000000044  \n",
       "122 -118.607010000000017  -60.152139499999997  \n",
       "1   -110.405810000000002  -72.702718499999975  \n",
       "3   -100.077135000000027  -74.842994999999988  \n",
       "159  -95.519774999999996  -70.906223499999967  \n",
       "..                   ...                  ...  \n",
       "27   185.843078500000047  146.863014000000021  \n",
       "26   202.509342000000004  156.021817499999997  \n",
       "52   205.446255000000036  165.079350500000032  \n",
       "29   210.494168500000001  166.615303999999981  \n",
       "53   217.655180000000030  173.624130500000035  \n",
       "\n",
       "[177 rows x 7 columns]"
      ]
     },
     "execution_count": null,
     "metadata": {},
     "output_type": "execute_result"
    }
   ],
   "source": [
    "st_cddm.sort_values('max')"
   ]
  },
  {
   "cell_type": "markdown",
   "id": "c247761d-636f-4be9-8c50-2152df1b9ac6",
   "metadata": {},
   "source": [
    "### Visualize in bar graph"
   ]
  },
  {
   "cell_type": "code",
   "execution_count": null,
   "id": "94997eac-c951-46f3-bdff-1829b72d733e",
   "metadata": {},
   "outputs": [],
   "source": [
    "def get_bar_data(df, score_col, top_n = 10, plot=True):\n",
    "    \n",
    "    data = df.sort_values(score_col)[['kinase',score_col]]\n",
    "\n",
    "    data.columns = ['Kinase','Score']\n",
    "    \n",
    "    data = pd.concat([data.head(top_n),data.tail(top_n)]).set_index('Kinase')\n",
    "    \n",
    "    if plot:\n",
    "        data.plot.barh(legend=False)\n",
    "        plt.title('Kinase Enrichment')\n",
    "        plt.xlabel(f'{score_col} score')\n",
    "        plt.ylabel('')\n",
    "    \n",
    "    return data"
   ]
  },
  {
   "cell_type": "code",
   "execution_count": null,
   "id": "57c2019c-a279-446b-a0a0-3eeeb67f43f1",
   "metadata": {},
   "outputs": [
    {
     "data": {
      "image/png": "[encoded data removed]",
      "text/plain": [
       "<Figure size 640x480 with 1 Axes>"
      ]
     },
     "metadata": {},
     "output_type": "display_data"
    },
    {
     "data": {
      "image/png": "[encoded data removed]",
      "text/plain": [
       "<Figure size 640x480 with 1 Axes>"
      ]
     },
     "metadata": {},
     "output_type": "display_data"
    }
   ],
   "source": [
    "bar_cddm = get_bar_data(st_cddm,'delta')\n",
    "\n",
    "bar_pspa = get_bar_data(st_pspa,'delta')"
   ]
  }
 ],
 "metadata": {
  "kernelspec": {
   "display_name": "python3",
   "language": "python",
   "name": "python3"
  }
 },
 "nbformat": 4,
 "nbformat_minor": 5
}
