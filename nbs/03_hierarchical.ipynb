{
 "cells": [
  {
   "cell_type": "markdown",
   "id": "dacdacf3-e42d-4e5b-a68f-f98c876ef8b0",
   "metadata": {},
   "source": [
    "# Hierarchical clustering"
   ]
  },
  {
   "cell_type": "markdown",
   "id": "433b444c-e66e-4710-948a-9650a334a935",
   "metadata": {},
   "source": [
    "## Setup"
   ]
  },
  {
   "cell_type": "code",
   "execution_count": 78,
   "id": "22b1c8e1-a7fa-4d65-a34a-0083b0fd4c69",
   "metadata": {},
   "outputs": [],
   "source": [
    "#| default_exp clustering"
   ]
  },
  {
   "cell_type": "code",
   "execution_count": 79,
   "id": "7c11d571-dc85-4223-a245-c864c847b2e7",
   "metadata": {},
   "outputs": [],
   "source": [
    "#| export\n",
    "import pandas as pd,numpy as np\n",
    "from katlas.data import *\n",
    "from katlas.pssm import *\n",
    "from katlas.plot import set_sns\n",
    "from tqdm import tqdm\n",
    "from functools import partial\n",
    "from tqdm.contrib.concurrent import process_map\n",
    "from fastcore.meta import delegates\n",
    "from scipy.cluster.hierarchy import linkage, fcluster,dendrogram\n",
    "from matplotlib import pyplot as plt"
   ]
  },
  {
   "cell_type": "code",
   "execution_count": 80,
   "id": "4f085c9f-a982-44e5-9cc1-47ac3da0e699",
   "metadata": {},
   "outputs": [],
   "source": [
    "#| hide\n",
    "#| export\n",
    "EPSILON = 1e-8"
   ]
  },
  {
   "cell_type": "markdown",
   "id": "86d939ad-6fe8-4f78-bd65-3da9e84508a2",
   "metadata": {},
   "source": [
    "## KL divergence"
   ]
  },
  {
   "cell_type": "code",
   "execution_count": 81,
   "id": "cc7dbf90-e933-4db3-b9c8-d8b35c3b82f4",
   "metadata": {},
   "outputs": [],
   "source": [
    "#| export\n",
    "def kl_divergence(p1,  # target pssm p (array-like, shape: (AA, positions))\n",
    "                  p2,  # pred pssm q (array-like, same shape as p1)\n",
    "                  mean=True):\n",
    "    \"\"\"\n",
    "    KL divergence D_KL(p1 || p2) over positions.\n",
    "    \n",
    "    p1 and p2 are arrays (df or np) with index as aa and column as position.\n",
    "    Returns average divergence across positions if mean=True, else per-position.\n",
    "    \"\"\"\n",
    "    assert p1.shape == p2.shape\n",
    "    \n",
    "    # Mask invalid positions (both zero)\n",
    "    valid = (p1 + p2) > 0\n",
    "    p1 = np.where(valid, p1, 0.0)\n",
    "    p2 = np.where(valid, p2, 0.0)\n",
    "\n",
    "    # KL divergence: sum_x p1(x) log(p1(x)/p2(x))\n",
    "    kl = np.sum(p1 * np.log((p1 + EPSILON) / (p2 + EPSILON)), axis=0)\n",
    "\n",
    "    return float(kl.mean()) if mean else kl"
   ]
  },
  {
   "cell_type": "markdown",
   "id": "75dd94cb-200d-4147-95e1-5e5cfc8fb617",
   "metadata": {},
   "source": [
    "The Kullback–Leibler (KL) divergence between two probability distributions \\( P \\) and \\( Q \\) is defined as:\n",
    "\n",
    "$$\n",
    "\\mathrm{KL}(P \\| Q) = \\sum_{x \\in \\mathcal{X}} P(x) \\log \\left( \\frac{P(x)}{Q(x)} \\right)\n",
    "$$\n",
    "\n",
    "This measures the information lost when \\( Q \\) is used to approximate \\( P \\). It is **not symmetric**, i.e.,\n",
    "\n",
    "$$\n",
    "\\mathrm{KL}(P \\| Q) \\ne \\mathrm{KL}(Q \\| P)\n",
    "$$\n",
    "\n",
    "and it is **non-negative**, meaning:\n",
    "\n",
    "$$\n",
    "\\mathrm{KL}(P \\| Q) \\ge 0\n",
    "$$\n",
    "\n",
    "with equality if and only if \\( P = Q \\) almost everywhere.\n",
    "\n",
    "In practical computation, to avoid numerical instability when \\( P(x) = 0 \\) or \\( Q(x) = 0 \\), we often add a small constant \\( \\varepsilon \\):\n",
    "\n",
    "$$\n",
    "\\mathrm{KL}_\\varepsilon(P \\| Q) = \\sum_{x \\in \\mathcal{X}} P(x) \\log \\left( \\frac{P(x) + \\varepsilon}{Q(x) + \\varepsilon} \\right)\n",
    "$$"
   ]
  },
  {
   "cell_type": "code",
   "execution_count": 82,
   "id": "cad7fef3-4c91-445b-ae45-6e43eda90293",
   "metadata": {},
   "outputs": [],
   "source": [
    "pssms = Data.get_pspa_all_scale()"
   ]
  },
  {
   "cell_type": "code",
   "execution_count": 83,
   "id": "e25665df-691c-4ef0-9783-b7c298a2bd6b",
   "metadata": {},
   "outputs": [
    {
     "data": {
      "text/plain": [
       "(23, 10)"
      ]
     },
     "execution_count": 83,
     "metadata": {},
     "output_type": "execute_result"
    }
   ],
   "source": [
    "pssm_df.shape"
   ]
  },
  {
   "cell_type": "code",
   "execution_count": 84,
   "id": "6904e8ed-4a7c-4e8f-a0db-b6c64d5c1d31",
   "metadata": {},
   "outputs": [],
   "source": [
    "# one example\n",
    "pssm_df = recover_pssm(pssms.iloc[1])\n",
    "pssm_df2 = recover_pssm(pssms.iloc[0])"
   ]
  },
  {
   "cell_type": "code",
   "execution_count": 87,
   "id": "b7ffbfed-0dc8-45bc-a7c0-9a6fe123d7b6",
   "metadata": {},
   "outputs": [
    {
     "data": {
      "text/plain": [
       "0.3724275257321628"
      ]
     },
     "execution_count": 87,
     "metadata": {},
     "output_type": "execute_result"
    }
   ],
   "source": [
    "kl_divergence(pssm_df,pssm_df2,mean=True)"
   ]
  },
  {
   "cell_type": "code",
   "execution_count": 88,
   "id": "92871727-aa0b-43b9-a7bc-d6c014a8b51b",
   "metadata": {},
   "outputs": [],
   "source": [
    "#| export\n",
    "def kl_divergence_flat(p1_flat, # pd.Series of target flattened pssm p\n",
    "                       p2_flat, # pd.Series of pred flattened pssm q\n",
    "                       ):\n",
    "\n",
    "    \"p1 and p2 are two flattened pd.Series with index as aa and column as position\"\n",
    "    kld = kl_divergence(p1_flat,p2_flat,mean=False) # do not do js.mean() because it's 1d\n",
    "    total_position = len(p1_flat.index.str.extract(r'(-?\\d+)').drop_duplicates())\n",
    "    return float(kld/total_position)"
   ]
  },
  {
   "cell_type": "code",
   "execution_count": 89,
   "id": "161acfe4-5f26-429f-b41c-009609d02ce8",
   "metadata": {},
   "outputs": [
    {
     "name": "stdout",
     "output_type": "stream",
     "text": [
      "CPU times: user 2.83 ms, sys: 322 μs, total: 3.15 ms\n",
      "Wall time: 3.21 ms\n"
     ]
    },
    {
     "data": {
      "text/plain": [
       "0.37242752573216287"
      ]
     },
     "execution_count": 89,
     "metadata": {},
     "output_type": "execute_result"
    }
   ],
   "source": [
    "%%time\n",
    "kl_divergence_flat(pssms.iloc[1],pssms.iloc[0])"
   ]
  },
  {
   "cell_type": "markdown",
   "id": "24b9f56b-07c4-4bf6-a050-f56dc0fc383d",
   "metadata": {},
   "source": [
    "## JS divergence"
   ]
  },
  {
   "cell_type": "code",
   "execution_count": 65,
   "id": "dd225b8c-8338-41e8-938d-331968b9e77e",
   "metadata": {},
   "outputs": [],
   "source": [
    "#| export\n",
    "def js_divergence(p1, # pssm \n",
    "                  p2, # pssm\n",
    "                  mean=True):\n",
    "    \"p1 and p2 are two arrays (df or np) with index as aa and column as position\"\n",
    "    assert p1.shape==p2.shape\n",
    "    valid = (p1 + p2) > 0\n",
    "    p1 = np.where(valid, p1, 0.0)\n",
    "    p2 = np.where(valid, p2, 0.0)\n",
    "    \n",
    "    m = 0.5 * (p1 + p2)\n",
    "    \n",
    "    js = 0.5 * np.sum(p1 * np.log((p1+ EPSILON) / (m + EPSILON)), axis=0) + \\\n",
    "         0.5 * np.sum(p2 * np.log((p2+ EPSILON) / (m + EPSILON)), axis=0)\n",
    "    return float(js.mean()) if mean else js"
   ]
  },
  {
   "cell_type": "markdown",
   "id": "528bdd9d-ddd6-47b8-9db1-2057ff997295",
   "metadata": {},
   "source": [
    "The Jensen-Shannon divergence between two probability distributions $ P $ and $ Q $ is defined as:\n",
    "\n",
    "$$\n",
    "\\mathrm{JS}(P \\| Q) = \\frac{1}{2} \\, \\mathrm{KL}(P \\| M) + \\frac{1}{2} \\, \\mathrm{KL}(Q \\| M)\n",
    "$$\n",
    "\n",
    "where $ M = \\frac{1}{2}(P + Q) $ is the average (mixture) distribution, and $ \\mathrm{KL} $ denotes the Kullback–Leibler divergence:\n",
    "\n",
    "$$\n",
    "\\mathrm{KL}(P \\| Q) = \\sum_{x \\in \\mathcal{X}} P(x) \\log \\left( \\frac{P(x)}{Q(x)} \\right)\n",
    "$$\n",
    "\n",
    "Therefore,\n",
    "\n",
    "$$\n",
    "\\mathrm{JS}_\\varepsilon(P \\| Q) = \\frac{1}{2} \\sum_{x \\in \\mathcal{X}} P(x) \\log \\left( \\frac{P(x) + \\varepsilon}{M(x) + \\varepsilon} \\right)\n",
    "+ \\frac{1}{2} \\sum_{x \\in \\mathcal{X}} Q(x) \\log \\left( \\frac{Q(x) + \\varepsilon}{M(x) + \\varepsilon} \\right)\n",
    "$$"
   ]
  },
  {
   "cell_type": "code",
   "execution_count": 57,
   "id": "48081067-d221-459f-b088-09023d1a1232",
   "metadata": {},
   "outputs": [
    {
     "data": {
      "text/plain": [
       "0.08286124552178498"
      ]
     },
     "execution_count": 57,
     "metadata": {},
     "output_type": "execute_result"
    }
   ],
   "source": [
    "js_divergence(pssm_df,pssm_df2)"
   ]
  },
  {
   "cell_type": "code",
   "execution_count": 75,
   "id": "e47567d9-bd99-4f60-a4fc-0bb7e09b7925",
   "metadata": {},
   "outputs": [
    {
     "data": {
      "text/plain": [
       "0.0"
      ]
     },
     "execution_count": 75,
     "metadata": {},
     "output_type": "execute_result"
    }
   ],
   "source": [
    "js_divergence(pssm_df,pssm_df)"
   ]
  },
  {
   "cell_type": "code",
   "execution_count": 76,
   "id": "e3dbedb7-9101-4680-9cba-c44774fdea5f",
   "metadata": {},
   "outputs": [
    {
     "data": {
      "text/plain": [
       "0.8286124552178498"
      ]
     },
     "execution_count": 76,
     "metadata": {},
     "output_type": "execute_result"
    }
   ],
   "source": [
    "# don't use it for flattend version, as it won't divide the total position\n",
    "js_divergence(pssms.iloc[1],pssms.iloc[0])"
   ]
  },
  {
   "cell_type": "code",
   "execution_count": 67,
   "id": "ea2dcbc0-5502-48b8-add6-b05a94c62000",
   "metadata": {},
   "outputs": [],
   "source": [
    "#| export\n",
    "def js_divergence_flat(p1_flat, # pd.Series of flattened pssm\n",
    "                       p2_flat, # pd.Series of flattened pssm\n",
    "                       ):\n",
    "\n",
    "    \"p1 and p2 are two flattened pd.Series with index as aa and column as position\"\n",
    "    js = js_divergence(p1_flat,p2_flat,mean=False) # do not do js.mean() because it's 1d\n",
    "    total_position = len(p1_flat.index.str.extract(r'(-?\\d+)').drop_duplicates())\n",
    "    return float(js/total_position)"
   ]
  },
  {
   "cell_type": "code",
   "execution_count": 69,
   "id": "cdd426a2-3856-4a95-99fd-5c5e4008d72b",
   "metadata": {},
   "outputs": [
    {
     "name": "stdout",
     "output_type": "stream",
     "text": [
      "CPU times: user 1.23 ms, sys: 0 ns, total: 1.23 ms\n",
      "Wall time: 1.2 ms\n"
     ]
    },
    {
     "data": {
      "text/plain": [
       "0.08286124552178498"
      ]
     },
     "execution_count": 69,
     "metadata": {},
     "output_type": "execute_result"
    }
   ],
   "source": [
    "%%time\n",
    "js_divergence_flat(pssms.iloc[1],pssms.iloc[0])"
   ]
  },
  {
   "cell_type": "code",
   "execution_count": 70,
   "id": "b406ed43-32f1-4ffd-8043-5809c6ead727",
   "metadata": {},
   "outputs": [],
   "source": [
    "#| export\n",
    "def js_divergence_flat2(p1_flat, # pd.Series of flattened pssm\n",
    "                       p2_flat, # pd.Series of flattened pssm\n",
    "                        mean=True,\n",
    "                       ):\n",
    "\n",
    "    \"p1 and p2 are two flattened pd.Series with index as aa and column as position\"\n",
    "    p1,p2 = recover_pssm(p1_flat),recover_pssm(p2_flat)\n",
    "    return js_divergence(p1,p2,mean=mean)"
   ]
  },
  {
   "cell_type": "code",
   "execution_count": 73,
   "id": "384e9305-7f87-4db9-ae62-a0f8f2d9e051",
   "metadata": {},
   "outputs": [
    {
     "name": "stdout",
     "output_type": "stream",
     "text": [
      "CPU times: user 11.2 ms, sys: 0 ns, total: 11.2 ms\n",
      "Wall time: 10.1 ms\n"
     ]
    },
    {
     "data": {
      "text/plain": [
       "0.08286124552178498"
      ]
     },
     "execution_count": 73,
     "metadata": {},
     "output_type": "execute_result"
    }
   ],
   "source": [
    "%%time\n",
    "js_divergence_flat2(pssms.iloc[1],pssms.iloc[0])"
   ]
  },
  {
   "cell_type": "code",
   "execution_count": 72,
   "id": "0b035376-3e20-4d8c-a6f3-84c6fd5dada9",
   "metadata": {},
   "outputs": [
    {
     "name": "stdout",
     "output_type": "stream",
     "text": [
      "CPU times: user 10 ms, sys: 0 ns, total: 10 ms\n",
      "Wall time: 9.18 ms\n"
     ]
    },
    {
     "data": {
      "text/plain": [
       "array([0.06553878, 0.02571207, 0.05479896, 0.10319209, 0.08337669,\n",
       "       0.10549031, 0.34404931, 0.00729907, 0.02094918, 0.018206  ])"
      ]
     },
     "execution_count": 72,
     "metadata": {},
     "output_type": "execute_result"
    }
   ],
   "source": [
    "%%time\n",
    "js_divergence_flat2(pssms.iloc[1],pssms.iloc[0],mean=False)"
   ]
  },
  {
   "cell_type": "markdown",
   "id": "849a6e96-5e09-40a2-8707-56d20fd062a5",
   "metadata": {},
   "source": [
    "This version is slower as it recover flat pssm to 2d pssm first, but it can return positional js."
   ]
  },
  {
   "cell_type": "code",
   "execution_count": 12,
   "id": "f79922a2-ec05-477a-88b4-39422b9da998",
   "metadata": {},
   "outputs": [],
   "source": [
    "#| export\n",
    "def get_1d_distance(df,func_flat):\n",
    "    \"Compute 1D distance for each row in a dataframe given a distance function \"\n",
    "    n = len(df)\n",
    "    dist = []\n",
    "    for i in tqdm(range(n)):\n",
    "        for j in range(i+1, n):\n",
    "            d = func_flat(df.iloc[i], df.iloc[j])\n",
    "            dist.append(d)\n",
    "    return np.array(dist)"
   ]
  },
  {
   "cell_type": "code",
   "execution_count": 13,
   "id": "46979b54-ff3f-478a-a59a-3f133e8b8286",
   "metadata": {},
   "outputs": [
    {
     "name": "stderr",
     "output_type": "stream",
     "text": [
      "100%|█████████████████████████████████████████████████████████████████████████████████████████████| 5/5 [00:00<00:00, 301.61it/s]\n"
     ]
    },
    {
     "data": {
      "text/plain": [
       "array([0.08286126, 0.08577979, 0.08798377, 0.0850101 , 0.00215833,\n",
       "       0.07937985, 0.07066438, 0.08348297, 0.07361696, 0.00425251])"
      ]
     },
     "execution_count": 13,
     "metadata": {},
     "output_type": "execute_result"
    }
   ],
   "source": [
    "# return 1d distance\n",
    "get_1d_distance(pssms.head(),js_divergence_flat)"
   ]
  },
  {
   "cell_type": "code",
   "execution_count": 14,
   "id": "dd0a21aa-5a87-46b1-9a06-0b9ca65959af",
   "metadata": {},
   "outputs": [],
   "source": [
    "#| export\n",
    "def get_1d_js(df): \n",
    "    \"Compute 1D distance using JS divergence.\"\n",
    "    return get_1d_distance(df,js_divergence_flat)"
   ]
  },
  {
   "cell_type": "code",
   "execution_count": 15,
   "id": "4ffaa94a-22e8-41a0-9683-d7b928e9dbe3",
   "metadata": {},
   "outputs": [
    {
     "name": "stderr",
     "output_type": "stream",
     "text": [
      "100%|████████████████████████████████████████████████████████████████████████████████████████████| 20/20 [00:00<00:00, 69.75it/s]\n"
     ]
    }
   ],
   "source": [
    "distance = get_1d_js(pssms.head(20))"
   ]
  },
  {
   "cell_type": "markdown",
   "id": "9c5a026d-ea6a-488c-9251-847b14364de5",
   "metadata": {},
   "source": [
    "Parallel computing to accelerate when flattened pssms are too many in a df:"
   ]
  },
  {
   "cell_type": "code",
   "execution_count": 16,
   "id": "33a0b685-79a8-4aa3-83e4-6bdc687343d4",
   "metadata": {},
   "outputs": [],
   "source": [
    "#| hide\n",
    "#| export\n",
    "def get_distance(pair, df, func):\n",
    "    i, j = pair\n",
    "    return func(df.iloc[i], df.iloc[j])"
   ]
  },
  {
   "cell_type": "code",
   "execution_count": 17,
   "id": "1b6e4e42-c27c-48b0-ac6b-fff654bc8eba",
   "metadata": {},
   "outputs": [],
   "source": [
    "#| export\n",
    "def get_1d_distance_parallel(df, func_flat, max_workers=4, chunksize=100):\n",
    "    \"Parallel compute 1D distance for each row in a dataframe given a distance function \"\n",
    "    n = len(df)\n",
    "    index_pairs = [(i, j) for i in range(n) for j in range(i + 1, n)]\n",
    "\n",
    "    bound_worker = partial(get_distance, df=df, func=func_flat)\n",
    "\n",
    "    dist = process_map(bound_worker, index_pairs, max_workers=max_workers, chunksize=chunksize)\n",
    "    return np.array(dist)"
   ]
  },
  {
   "cell_type": "markdown",
   "id": "5e72a3c9-75d4-4988-ac69-a8a465b6cff6",
   "metadata": {},
   "source": [
    "```python\n",
    "get_1d_distance_parallel(pssms.head(),js_divergence_flat)\n",
    "```"
   ]
  },
  {
   "cell_type": "code",
   "execution_count": 18,
   "id": "ead901d7-d928-4d38-8f7f-c43ab2afde3d",
   "metadata": {},
   "outputs": [],
   "source": [
    "#| export\n",
    "@delegates(get_1d_distance_parallel)\n",
    "def get_1d_js_parallel(df, func_flat=js_divergence_flat, **kwargs): \n",
    "    \"Compute 1D distance matrix using JS divergence.\"\n",
    "    return get_1d_distance_parallel(df, func_flat=func_flat, **kwargs)"
   ]
  },
  {
   "cell_type": "markdown",
   "id": "035ba4f7-8b46-471c-a5da-893565867c7a",
   "metadata": {},
   "source": [
    "```python\n",
    "get_1d_js_parallel(pssms.head())\n",
    "```"
   ]
  },
  {
   "cell_type": "code",
   "execution_count": 19,
   "id": "51fa5e1a-e354-4ca2-90eb-98a876cc7b7f",
   "metadata": {},
   "outputs": [],
   "source": [
    "#| export\n",
    "def get_Z(pssms,func_flat=js_divergence_flat,parallel=True):\n",
    "    \"Get linkage matrix Z from pssms dataframe\"\n",
    "    distance = get_1d_distance_parallel(pssms,func_flat=func_flat) if parallel else get_1d_distance(pssms,func_flat=func_flat)\n",
    "    Z = linkage(distance, method='ward')\n",
    "    return Z"
   ]
  },
  {
   "cell_type": "code",
   "execution_count": 20,
   "id": "24d85ae3-8497-4ed4-9718-251355dd8db5",
   "metadata": {},
   "outputs": [
    {
     "name": "stderr",
     "output_type": "stream",
     "text": [
      "100%|███████████████████████████████████████████████████████████████████████████████████████████| 10/10 [00:00<00:00, 144.66it/s]\n"
     ]
    }
   ],
   "source": [
    "Z = get_Z(pssms.head(10),parallel=False)"
   ]
  },
  {
   "cell_type": "code",
   "execution_count": 21,
   "id": "0d30b15e-6d08-48d3-90be-f887cc116902",
   "metadata": {},
   "outputs": [
    {
     "data": {
      "text/plain": [
       "array([[1.00000000e+00, 2.00000000e+00, 2.15832816e-03, 2.00000000e+00],\n",
       "       [3.00000000e+00, 4.00000000e+00, 4.25250792e-03, 2.00000000e+00],\n",
       "       [5.00000000e+00, 1.10000000e+01, 4.65131778e-03, 3.00000000e+00],\n",
       "       [6.00000000e+00, 7.00000000e+00, 5.89060764e-03, 2.00000000e+00],\n",
       "       [1.00000000e+01, 1.30000000e+01, 9.31413380e-03, 4.00000000e+00]])"
      ]
     },
     "execution_count": 21,
     "metadata": {},
     "output_type": "execute_result"
    }
   ],
   "source": [
    "Z[:5]"
   ]
  },
  {
   "cell_type": "code",
   "execution_count": 22,
   "id": "e4d4b7ab-4418-4400-ae51-a862e58e3e83",
   "metadata": {},
   "outputs": [],
   "source": [
    "#| export\n",
    "def plot_dendrogram(Z,\n",
    "                    color_thr=0.07,\n",
    "                    dense=7, # the higher the more dense for each row\n",
    "                    line_width=1,\n",
    "                    **kwargs):\n",
    "    length = (len(Z) + 1) // dense\n",
    "    \n",
    "    plt.figure(figsize=(5,length))\n",
    "    with plt.rc_context({'lines.linewidth': line_width}):\n",
    "        dendrogram(\n",
    "            Z,\n",
    "            orientation='left',\n",
    "            leaf_font_size=7,\n",
    "            color_threshold=color_thr,\n",
    "            **kwargs\n",
    "        )\n",
    "    plt.title('Hierarchical Clustering Dendrogram')\n",
    "    plt.ylabel('Distance')\n",
    "    # plt.savefig(output, bbox_inches='tight')\n",
    "    # plt.close()\n",
    "    ax = plt.gca()\n",
    "    for spine in ['top', 'right', 'left', 'bottom']:\n",
    "        ax.spines[spine].set_visible(False)"
   ]
  },
  {
   "cell_type": "code",
   "execution_count": 23,
   "id": "e0b9cab8-eaa2-48eb-9375-b480f1420da8",
   "metadata": {},
   "outputs": [],
   "source": [
    "set_sns(100)"
   ]
  },
  {
   "cell_type": "code",
   "execution_count": 24,
   "id": "0828b9cf-86a5-4273-8772-51cb5bcfff53",
   "metadata": {},
   "outputs": [
    {
     "data": {
      "image/png": "[encoded data removed]",
      "text/plain": [
       "<Figure size 500x100 with 1 Axes>"
      ]
     },
     "metadata": {},
     "output_type": "display_data"
    }
   ],
   "source": [
    "plot_dendrogram(Z,dense=7,line_width=1)"
   ]
  },
  {
   "cell_type": "code",
   "execution_count": 25,
   "id": "58960c7b-b2d6-4179-b4e8-80373166d2d1",
   "metadata": {},
   "outputs": [
    {
     "data": {
      "image/png": "[encoded data removed]",
      "text/plain": [
       "<Figure size 500x200 with 1 Axes>"
      ]
     },
     "metadata": {},
     "output_type": "display_data"
    }
   ],
   "source": [
    "plot_dendrogram(Z,dense=4)"
   ]
  },
  {
   "cell_type": "code",
   "execution_count": 26,
   "id": "e0e7beca-7a0d-4565-9e60-f4a37fbcfb60",
   "metadata": {},
   "outputs": [],
   "source": [
    "#| export\n",
    "def pssm_to_seq(pssm_df, \n",
    "                thr=0.2, # threshold of probability to show in sequence\n",
    "                clean_center=True, # if true, zero out non-last three values in position 0 (keep only s,t,y values at center)\n",
    "                ):\n",
    "    \"Represent PSSM in string sequence of amino acids\"\n",
    "    \n",
    "    pssm_df = pssm_df.copy()\n",
    "    if clean_center:\n",
    "        pssm_df.loc[pssm_df.index[:-3], 0] = 0  # keep only s,t,y in center 0 position\n",
    "\n",
    "    pssm_df.index = pssm_df.index.map(lambda x: x.replace('pS', 's').replace('pT', 't').replace('pY', 'y'))\n",
    "\n",
    "    consensus = []\n",
    "    for i, col in enumerate(pssm_df.columns):\n",
    "        # consider the case where sum for the position is 0\n",
    "        column_vals = pssm_df[col]\n",
    "        if column_vals.sum() == 0:\n",
    "            symbol = '_'\n",
    "        else:\n",
    "            top = column_vals.nlargest(3)\n",
    "            passing = [aa for aa, prob in zip(top.index, top.values) if prob > thr]\n",
    "\n",
    "            if not passing:\n",
    "                symbol = '.'\n",
    "            elif len(passing) == 1:\n",
    "                symbol = passing[0]\n",
    "            else:\n",
    "                symbol = f\"[{'/'.join(passing)}]\"\n",
    "                \n",
    "        if col == 0:  # center position\n",
    "            if symbol.startswith('['):\n",
    "                symbol = symbol[:-1] + ']*'\n",
    "            else:\n",
    "                symbol += '*'\n",
    "\n",
    "        consensus.append(symbol)\n",
    "\n",
    "    return ''.join(consensus)"
   ]
  },
  {
   "cell_type": "code",
   "execution_count": 27,
   "id": "d9ed93cc-89ce-4995-96ae-c12352cd3d2f",
   "metadata": {},
   "outputs": [
    {
     "data": {
      "text/plain": [
       "'...[E/D].[t/s]*[s/t]...'"
      ]
     },
     "execution_count": 27,
     "metadata": {},
     "output_type": "execute_result"
    }
   ],
   "source": [
    "pssm_to_seq(pssm_df,thr=0.1)"
   ]
  },
  {
   "cell_type": "code",
   "execution_count": 28,
   "id": "15763f5a-ea79-41ec-abd8-baf051101c7a",
   "metadata": {},
   "outputs": [],
   "source": [
    "#| export\n",
    "def get_pssm_seq_labels(pssms,\n",
    "                        count_map=None, # df index as key, counts as value\n",
    "                        thr=0.3, # threshold of probability to show in sequence\n",
    "                       ):\n",
    "    \"Use index of pssms and the pssm to seq to represent pssm.\"\n",
    "    if count_map is not None:\n",
    "        labels=[str(i)+f' (n={count_map[i]:,})' + ': '+pssm_to_seq(recover_pssm(r),thr=thr) for i,r in pssms.iterrows()]\n",
    "    else:\n",
    "        labels=[str(i)+ ': '+pssm_to_seq(recover_pssm(r),thr) for i,r in pssms.iterrows()]\n",
    "\n",
    "    return labels"
   ]
  },
  {
   "cell_type": "code",
   "execution_count": 29,
   "id": "2d7aadd5-e21b-4fb9-9708-a3b118b14035",
   "metadata": {},
   "outputs": [
    {
     "data": {
      "text/plain": [
       "['AAK1: .....t*G...',\n",
       " 'ACVR2A: .....[t/s]*....',\n",
       " 'ACVR2B: .....[t/s]*....',\n",
       " 'AKT1: ..RR.[s/t]*....',\n",
       " 'AKT2: ..R..[s/t]*....',\n",
       " 'AKT3: ..RR.[s/t]*....',\n",
       " 'ALK2: .....[t/s]*....',\n",
       " 'ALK4: .....[t/s]*....',\n",
       " 'ALPHAK3: .....t*....',\n",
       " 'AMPKA1: .....[s/t]*....']"
      ]
     },
     "execution_count": 29,
     "metadata": {},
     "output_type": "execute_result"
    }
   ],
   "source": [
    "get_pssm_seq_labels(pssms.head(10))"
   ]
  },
  {
   "cell_type": "code",
   "execution_count": 30,
   "id": "7c5272a5-1966-4243-a00b-734cb870f51f",
   "metadata": {},
   "outputs": [],
   "source": [
    "import random"
   ]
  },
  {
   "cell_type": "code",
   "execution_count": 31,
   "id": "69ee4ad5-c19d-4bc5-8cf8-7839e7785c82",
   "metadata": {},
   "outputs": [],
   "source": [
    "# get a dict of index and counts\n",
    "\n",
    "count_dict = {idx:random.randint(1,100) for idx in pssms.head(10).index}"
   ]
  },
  {
   "cell_type": "code",
   "execution_count": 32,
   "id": "893fb914-017f-4799-809c-a0e62bebfb1c",
   "metadata": {},
   "outputs": [
    {
     "data": {
      "text/plain": [
       "['AAK1 (n=64): .....t*G...',\n",
       " 'ACVR2A (n=56): .....[t/s]*....',\n",
       " 'ACVR2B (n=30): .....[t/s]*....',\n",
       " 'AKT1 (n=37): ..RR.[s/t]*....',\n",
       " 'AKT2 (n=94): ..R..[s/t]*....',\n",
       " 'AKT3 (n=68): ..RR.[s/t]*....',\n",
       " 'ALK2 (n=86): .....[t/s]*....',\n",
       " 'ALK4 (n=79): .....[t/s]*....',\n",
       " 'ALPHAK3 (n=64): .....t*....',\n",
       " 'AMPKA1 (n=88): .....[s/t]*....']"
      ]
     },
     "execution_count": 32,
     "metadata": {},
     "output_type": "execute_result"
    }
   ],
   "source": [
    "labels= get_pssm_seq_labels(pssms.head(10),count_dict)\n",
    "labels"
   ]
  },
  {
   "cell_type": "code",
   "execution_count": 33,
   "id": "e9b72685-3785-4c54-a70a-2261d61a02ba",
   "metadata": {},
   "outputs": [
    {
     "data": {
      "image/png": "[encoded data removed]",
      "text/plain": [
       "<Figure size 500x200 with 1 Axes>"
      ]
     },
     "metadata": {},
     "output_type": "display_data"
    }
   ],
   "source": [
    "plot_dendrogram(Z,dense=4,labels=labels)"
   ]
  },
  {
   "cell_type": "markdown",
   "id": "26d8d587-aae7-4b28-8d13-6b33ebea46e5",
   "metadata": {},
   "source": [
    "## Full pipeline"
   ]
  },
  {
   "cell_type": "code",
   "execution_count": 34,
   "id": "c48265d2-16ce-4ce6-a93d-7bbd2109ab1a",
   "metadata": {},
   "outputs": [
    {
     "data": {
      "application/vnd.jupyter.widget-view+json": {
       "model_id": "5b51ca0932544d569e3d28f119fd71b0",
       "version_major": 2,
       "version_minor": 0
      },
      "text/plain": [
       "  0%|          | 0/4950 [00:00<?, ?it/s]"
      ]
     },
     "metadata": {},
     "output_type": "display_data"
    }
   ],
   "source": [
    "#| eval: false\n",
    "# get distance matrix\n",
    "pssms=pssms.head(100)\n",
    "\n",
    "Z = get_Z(pssms)\n",
    "\n",
    "# optional, get counts for each index\n",
    "# count_dict = pssms.index.value_counts()\n",
    "\n",
    "# get pssm to seq labels with counts\n",
    "# labels= get_pssm_seq_labels(pssms,count_dict)\n",
    "\n",
    "# or get pssm to seq labels only\n",
    "labels= get_pssm_seq_labels(pssms)"
   ]
  },
  {
   "cell_type": "code",
   "execution_count": 35,
   "id": "dc360f87-b3cb-451f-a904-52cf50d5d3cf",
   "metadata": {},
   "outputs": [
    {
     "data": {
      "image/png": "[encoded data removed]",
      "text/plain": [
       "<Figure size 500x1200 with 1 Axes>"
      ]
     },
     "metadata": {},
     "output_type": "display_data"
    }
   ],
   "source": [
    "# plot dendrogram\n",
    "plot_dendrogram(Z,dense=8,labels=labels,truncate_mode='lastp', p=40) # only show 40\n",
    "\n",
    "# save\n",
    "# save_pdf('dendrogram.pdf')"
   ]
  },
  {
   "cell_type": "markdown",
   "id": "89ce0b94-fe11-4ade-a02b-f49f72ce2018",
   "metadata": {},
   "source": [
    "## End"
   ]
  },
  {
   "cell_type": "code",
   "execution_count": 91,
   "id": "16696b29-49d7-411d-8ba0-39d47f2ed01f",
   "metadata": {},
   "outputs": [],
   "source": [
    "#| hide\n",
    "import nbdev; nbdev.nbdev_export()"
   ]
  },
  {
   "cell_type": "code",
   "execution_count": null,
   "id": "7671b5b2-b7ec-4647-acb1-8e63688a312e",
   "metadata": {},
   "outputs": [],
   "source": []
  }
 ],
 "metadata": {
  "kernelspec": {
   "display_name": "Python 3 (ipykernel)",
   "language": "python",
   "name": "python3"
  },
  "language_info": {
   "codemirror_mode": {
    "name": "ipython",
    "version": 3
   },
   "file_extension": ".py",
   "mimetype": "text/x-python",
   "name": "python",
   "nbconvert_exporter": "python",
   "pygments_lexer": "ipython3",
   "version": "3.12.3"
  },
  "widgets": {
   "application/vnd.jupyter.widget-state+json": {
    "state": {},
    "version_major": 2,
    "version_minor": 0
   }
  }
 },
 "nbformat": 4,
 "nbformat_minor": 5
}
