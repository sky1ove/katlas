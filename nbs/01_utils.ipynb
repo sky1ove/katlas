{
 "cells": [
  {
   "cell_type": "markdown",
   "metadata": {},
   "source": [
    "# Utils\n",
    "\n",
    "> Functions to preprocess sequence to prepare kinase substrate dataset"
   ]
  },
  {
   "cell_type": "markdown",
   "metadata": {},
   "source": [
    "## Setup"
   ]
  },
  {
   "cell_type": "code",
   "execution_count": null,
   "metadata": {},
   "outputs": [],
   "source": [
    "#| default_exp utils"
   ]
  },
  {
   "cell_type": "code",
   "execution_count": null,
   "metadata": {},
   "outputs": [],
   "source": [
    "#| export\n",
    "import numpy as np, pandas as pd\n",
    "from tqdm import tqdm\n",
    "from katlas.data import *\n",
    "from fastcore.meta import delegates\n",
    "from pathlib import Path\n",
    "\n",
    "# for alignment\n",
    "from Bio.Seq import Seq\n",
    "from Bio.SeqRecord import SeqRecord\n",
    "from Bio import SeqIO, AlignIO\n",
    "import subprocess\n"
   ]
  },
  {
   "cell_type": "code",
   "execution_count": null,
   "metadata": {},
   "outputs": [],
   "source": [
    "#| hide\n",
    "pd.set_option('display.max_rows', 5)\n",
    "pd.set_option('display.max_columns', 100) # show all columns"
   ]
  },
  {
   "cell_type": "markdown",
   "metadata": {},
   "source": [
    "```python\n",
    "from katlas.utils import *\n",
    "```"
   ]
  },
  {
   "cell_type": "markdown",
   "metadata": {},
   "source": [
    "## Common funcs"
   ]
  },
  {
   "cell_type": "code",
   "execution_count": null,
   "metadata": {},
   "outputs": [],
   "source": [
    "#| export\n",
    "def prepare_path(path):\n",
    "    \"\"\"Ensure the parent directory exists and return the full file path.\"\"\"\n",
    "    full_path = Path(path).expanduser()\n",
    "    full_path.parent.mkdir(parents=True, exist_ok=True)\n",
    "    return full_path"
   ]
  },
  {
   "cell_type": "markdown",
   "metadata": {},
   "source": [
    "```python\n",
    "pssm_df = get_prob(df_k,'site_seq')\n",
    "plot_logo_heatmap(pssm_df,title=f'{k} (n={len(df_k):,})',figsize=(17,10))\n",
    "# check if directory exist; if not, create one, then return the full path\n",
    "path1=prepare_path(f'fig/cddm/{k}/pssm_freq.svg')\n",
    "save_show(path1,show_only=SHOW)\n",
    "```"
   ]
  },
  {
   "cell_type": "code",
   "execution_count": null,
   "metadata": {},
   "outputs": [],
   "source": [
    "#| export\n",
    "def get_diff(df1, df2, col1, col2=None):\n",
    "    \"Get non-overlap parts of two dataframes.\"\n",
    "    if col2 is None:\n",
    "        col2=col1\n",
    "    df1_unique = df1[~df1[col1].isin(df2[col2])]\n",
    "    df2_unique = df2[~df2[col2].isin(df1[col1])]\n",
    "    return df1_unique, df2_unique"
   ]
  },
  {
   "cell_type": "code",
   "execution_count": null,
   "metadata": {},
   "outputs": [],
   "source": [
    "df1 = pd.DataFrame({'gene': ['A', 'B', 'C']})\n",
    "df2 = pd.DataFrame({'gene': ['B', 'C', 'D']})\n",
    "\n",
    "df1_unq, df2_unq = get_diff(df1, df2, 'gene')"
   ]
  },
  {
   "cell_type": "code",
   "execution_count": null,
   "metadata": {},
   "outputs": [
    {
     "data": {
      "text/html": [
       "<div>\n",
       "<style scoped>\n",
       "    .dataframe tbody tr th:only-of-type {\n",
       "        vertical-align: middle;\n",
       "    }\n",
       "\n",
       "    .dataframe tbody tr th {\n",
       "        vertical-align: top;\n",
       "    }\n",
       "\n",
       "    .dataframe thead th {\n",
       "        text-align: right;\n",
       "    }\n",
       "</style>\n",
       "<table border=\"1\" class=\"dataframe\">\n",
       "  <thead>\n",
       "    <tr style=\"text-align: right;\">\n",
       "      <th></th>\n",
       "      <th>gene</th>\n",
       "    </tr>\n",
       "  </thead>\n",
       "  <tbody>\n",
       "    <tr>\n",
       "      <th>0</th>\n",
       "      <td>A</td>\n",
       "    </tr>\n",
       "  </tbody>\n",
       "</table>\n",
       "</div>"
      ],
      "text/plain": [
       "  gene\n",
       "0    A"
      ]
     },
     "execution_count": null,
     "metadata": {},
     "output_type": "execute_result"
    }
   ],
   "source": [
    "df1_unq"
   ]
  },
  {
   "cell_type": "code",
   "execution_count": null,
   "metadata": {},
   "outputs": [
    {
     "data": {
      "text/html": [
       "<div>\n",
       "<style scoped>\n",
       "    .dataframe tbody tr th:only-of-type {\n",
       "        vertical-align: middle;\n",
       "    }\n",
       "\n",
       "    .dataframe tbody tr th {\n",
       "        vertical-align: top;\n",
       "    }\n",
       "\n",
       "    .dataframe thead th {\n",
       "        text-align: right;\n",
       "    }\n",
       "</style>\n",
       "<table border=\"1\" class=\"dataframe\">\n",
       "  <thead>\n",
       "    <tr style=\"text-align: right;\">\n",
       "      <th></th>\n",
       "      <th>gene</th>\n",
       "    </tr>\n",
       "  </thead>\n",
       "  <tbody>\n",
       "    <tr>\n",
       "      <th>2</th>\n",
       "      <td>D</td>\n",
       "    </tr>\n",
       "  </tbody>\n",
       "</table>\n",
       "</div>"
      ],
      "text/plain": [
       "  gene\n",
       "2    D"
      ]
     },
     "execution_count": null,
     "metadata": {},
     "output_type": "execute_result"
    }
   ],
   "source": [
    "df2_unq"
   ]
  },
  {
   "cell_type": "markdown",
   "metadata": {},
   "source": [
    "## Checker"
   ]
  },
  {
   "cell_type": "markdown",
   "metadata": {},
   "source": [
    "In many phosphorylation datsets, there are amino acids in the site sequence that are in lower case but does not belong to s/t/y. Also, there are uncommon amino acids such as U or O that appear in the sequence. Therefore, it is essential to convert the sequence string for kinase ranking."
   ]
  },
  {
   "cell_type": "code",
   "execution_count": null,
   "metadata": {},
   "outputs": [],
   "source": [
    "#| export\n",
    "def check_seq(seq):\n",
    "    \"\"\"Convert non-s/t/y characters to uppercase and replace disallowed characters with underscores.\"\"\"\n",
    "    acceptor = seq[len(seq) // 2]\n",
    "    assert acceptor.lower() in {'s', 't', 'y'}, f\"{seq} has {acceptor} at position {len(seq) // 2}; need to have one of 's', 't', or 'y' in the center\"\n",
    "\n",
    "    allowed_chars = set(\"PGACSTVILMFYWHKRQNDEsty\")\n",
    "    return \"\".join(char if char in {'s', 't', 'y'} else (char.upper() if char.upper() in allowed_chars else '_') for char in seq)"
   ]
  },
  {
   "cell_type": "code",
   "execution_count": null,
   "metadata": {},
   "outputs": [
    {
     "name": "stdout",
     "output_type": "stream",
     "text": [
      "aaadaaa has d at position 3; need to have one of 's', 't', or 'y' in the center\n"
     ]
    }
   ],
   "source": [
    "try:\n",
    "    check_seq('aaadaaa')\n",
    "except Exception as e:\n",
    "    print(e)"
   ]
  },
  {
   "cell_type": "code",
   "execution_count": null,
   "metadata": {},
   "outputs": [
    {
     "data": {
      "text/plain": [
       "'AAK__PSFstTH'"
      ]
     },
     "execution_count": null,
     "metadata": {},
     "output_type": "execute_result"
    }
   ],
   "source": [
    "check_seq('AAkUuPSFstTH') # if the center amino acid does not belong to sty/STY, will raise an error"
   ]
  },
  {
   "cell_type": "code",
   "execution_count": null,
   "metadata": {},
   "outputs": [],
   "source": [
    "#| export\n",
    "def check_seqs(seqs:pd.Series):\n",
    "    \"Convert non-s/t/y to upper case & replace with underscore if the character is not in the allowed set\"\n",
    "    assert len(seqs.str.len().value_counts())==1, 'inconsistent sequence length detected'\n",
    "    return seqs.apply(check_seq)"
   ]
  },
  {
   "cell_type": "code",
   "execution_count": null,
   "metadata": {},
   "outputs": [],
   "source": [
    "#| export\n",
    "def check_seq_df(df,col):\n",
    "    \"Convert non-s/t/y to upper case & replace with underscore if the character is not in the allowed set\"\n",
    "    assert len(df[col].str.len().value_counts())==1, 'inconsistent sequence length detected'\n",
    "    return df[col].apply(check_seq)"
   ]
  },
  {
   "cell_type": "code",
   "execution_count": null,
   "metadata": {},
   "outputs": [
    {
     "data": {
      "text/html": [
       "<div>\n",
       "<style scoped>\n",
       "    .dataframe tbody tr th:only-of-type {\n",
       "        vertical-align: middle;\n",
       "    }\n",
       "\n",
       "    .dataframe tbody tr th {\n",
       "        vertical-align: top;\n",
       "    }\n",
       "\n",
       "    .dataframe thead th {\n",
       "        text-align: right;\n",
       "    }\n",
       "</style>\n",
       "<table border=\"1\" class=\"dataframe\">\n",
       "  <thead>\n",
       "    <tr style=\"text-align: right;\">\n",
       "      <th></th>\n",
       "      <th>substrate_uniprot</th>\n",
       "      <th>substrate_genes</th>\n",
       "      <th>site</th>\n",
       "      <th>source</th>\n",
       "      <th>AM_pathogenicity</th>\n",
       "      <th>substrate_sequence</th>\n",
       "      <th>substrate_species</th>\n",
       "      <th>sub_site</th>\n",
       "      <th>substrate_phosphoseq</th>\n",
       "      <th>position</th>\n",
       "      <th>site_seq</th>\n",
       "    </tr>\n",
       "  </thead>\n",
       "  <tbody>\n",
       "    <tr>\n",
       "      <th>0</th>\n",
       "      <td>A0A024R4G9</td>\n",
       "      <td>C19orf48 MGC13170 hCG_2008493</td>\n",
       "      <td>S20</td>\n",
       "      <td>psp</td>\n",
       "      <td>NaN</td>\n",
       "      <td>MTVLEAVLEIQAITGSRLLSMVPGPARPPGSCWDPTQCTRTWLLSH...</td>\n",
       "      <td>Homo sapiens (Human)</td>\n",
       "      <td>A0A024R4G9_S20</td>\n",
       "      <td>MTVLEAVLEIQAITGSRLLsMVPGPARPPGSCWDPTQCTRTWLLSH...</td>\n",
       "      <td>20</td>\n",
       "      <td>_MTVLEAVLEIQAITGSRLLsMVPGPARPPGSCWDPTQCTR</td>\n",
       "    </tr>\n",
       "    <tr>\n",
       "      <th>1</th>\n",
       "      <td>A0A075B6Q4</td>\n",
       "      <td>None</td>\n",
       "      <td>S24</td>\n",
       "      <td>ochoa</td>\n",
       "      <td>NaN</td>\n",
       "      <td>MDIQKSENEDDSEWEDVDDEKGDSNDDYDSAGLLSDEDCMSVPGKT...</td>\n",
       "      <td>Homo sapiens (Human)</td>\n",
       "      <td>A0A075B6Q4_S24</td>\n",
       "      <td>MDIQKSENEDDSEWEDVDDEKGDsNDDYDSAGLLsDEDCMSVPGKT...</td>\n",
       "      <td>24</td>\n",
       "      <td>QKSENEDDSEWEDVDDEKGDsNDDYDSAGLLsDEDCMSVPG</td>\n",
       "    </tr>\n",
       "    <tr>\n",
       "      <th>2</th>\n",
       "      <td>A0A075B6Q4</td>\n",
       "      <td>None</td>\n",
       "      <td>S35</td>\n",
       "      <td>ochoa</td>\n",
       "      <td>NaN</td>\n",
       "      <td>MDIQKSENEDDSEWEDVDDEKGDSNDDYDSAGLLSDEDCMSVPGKT...</td>\n",
       "      <td>Homo sapiens (Human)</td>\n",
       "      <td>A0A075B6Q4_S35</td>\n",
       "      <td>MDIQKSENEDDSEWEDVDDEKGDsNDDYDSAGLLsDEDCMSVPGKT...</td>\n",
       "      <td>35</td>\n",
       "      <td>EDVDDEKGDsNDDYDSAGLLsDEDCMSVPGKTHRAIADHLF</td>\n",
       "    </tr>\n",
       "    <tr>\n",
       "      <th>3</th>\n",
       "      <td>A0A075B6Q4</td>\n",
       "      <td>None</td>\n",
       "      <td>S57</td>\n",
       "      <td>ochoa</td>\n",
       "      <td>NaN</td>\n",
       "      <td>MDIQKSENEDDSEWEDVDDEKGDSNDDYDSAGLLSDEDCMSVPGKT...</td>\n",
       "      <td>Homo sapiens (Human)</td>\n",
       "      <td>A0A075B6Q4_S57</td>\n",
       "      <td>MDIQKSENEDDSEWEDVDDEKGDsNDDYDSAGLLsDEDCMSVPGKT...</td>\n",
       "      <td>57</td>\n",
       "      <td>EDCMSVPGKTHRAIADHLFWsEETKSRFTEYsMTssVMRRN</td>\n",
       "    </tr>\n",
       "    <tr>\n",
       "      <th>4</th>\n",
       "      <td>A0A075B6Q4</td>\n",
       "      <td>None</td>\n",
       "      <td>S68</td>\n",
       "      <td>ochoa</td>\n",
       "      <td>NaN</td>\n",
       "      <td>MDIQKSENEDDSEWEDVDDEKGDSNDDYDSAGLLSDEDCMSVPGKT...</td>\n",
       "      <td>Homo sapiens (Human)</td>\n",
       "      <td>A0A075B6Q4_S68</td>\n",
       "      <td>MDIQKSENEDDSEWEDVDDEKGDsNDDYDSAGLLsDEDCMSVPGKT...</td>\n",
       "      <td>68</td>\n",
       "      <td>RAIADHLFWsEETKSRFTEYsMTssVMRRNEQLTLHDERFE</td>\n",
       "    </tr>\n",
       "  </tbody>\n",
       "</table>\n",
       "</div>"
      ],
      "text/plain": [
       "  substrate_uniprot                substrate_genes site source  \\\n",
       "0        A0A024R4G9  C19orf48 MGC13170 hCG_2008493  S20    psp   \n",
       "1        A0A075B6Q4                           None  S24  ochoa   \n",
       "2        A0A075B6Q4                           None  S35  ochoa   \n",
       "3        A0A075B6Q4                           None  S57  ochoa   \n",
       "4        A0A075B6Q4                           None  S68  ochoa   \n",
       "\n",
       "   AM_pathogenicity                                 substrate_sequence  \\\n",
       "0               NaN  MTVLEAVLEIQAITGSRLLSMVPGPARPPGSCWDPTQCTRTWLLSH...   \n",
       "1               NaN  MDIQKSENEDDSEWEDVDDEKGDSNDDYDSAGLLSDEDCMSVPGKT...   \n",
       "2               NaN  MDIQKSENEDDSEWEDVDDEKGDSNDDYDSAGLLSDEDCMSVPGKT...   \n",
       "3               NaN  MDIQKSENEDDSEWEDVDDEKGDSNDDYDSAGLLSDEDCMSVPGKT...   \n",
       "4               NaN  MDIQKSENEDDSEWEDVDDEKGDSNDDYDSAGLLSDEDCMSVPGKT...   \n",
       "\n",
       "      substrate_species        sub_site  \\\n",
       "0  Homo sapiens (Human)  A0A024R4G9_S20   \n",
       "1  Homo sapiens (Human)  A0A075B6Q4_S24   \n",
       "2  Homo sapiens (Human)  A0A075B6Q4_S35   \n",
       "3  Homo sapiens (Human)  A0A075B6Q4_S57   \n",
       "4  Homo sapiens (Human)  A0A075B6Q4_S68   \n",
       "\n",
       "                                substrate_phosphoseq  position  \\\n",
       "0  MTVLEAVLEIQAITGSRLLsMVPGPARPPGSCWDPTQCTRTWLLSH...        20   \n",
       "1  MDIQKSENEDDSEWEDVDDEKGDsNDDYDSAGLLsDEDCMSVPGKT...        24   \n",
       "2  MDIQKSENEDDSEWEDVDDEKGDsNDDYDSAGLLsDEDCMSVPGKT...        35   \n",
       "3  MDIQKSENEDDSEWEDVDDEKGDsNDDYDSAGLLsDEDCMSVPGKT...        57   \n",
       "4  MDIQKSENEDDSEWEDVDDEKGDsNDDYDSAGLLsDEDCMSVPGKT...        68   \n",
       "\n",
       "                                    site_seq  \n",
       "0  _MTVLEAVLEIQAITGSRLLsMVPGPARPPGSCWDPTQCTR  \n",
       "1  QKSENEDDSEWEDVDDEKGDsNDDYDSAGLLsDEDCMSVPG  \n",
       "2  EDVDDEKGDsNDDYDSAGLLsDEDCMSVPGKTHRAIADHLF  \n",
       "3  EDCMSVPGKTHRAIADHLFWsEETKSRFTEYsMTssVMRRN  \n",
       "4  RAIADHLFWsEETKSRFTEYsMTssVMRRNEQLTLHDERFE  "
      ]
     },
     "execution_count": null,
     "metadata": {},
     "output_type": "execute_result"
    }
   ],
   "source": [
    "df=Data.get_human_site()\n",
    "df.head()"
   ]
  },
  {
   "cell_type": "code",
   "execution_count": null,
   "metadata": {},
   "outputs": [
    {
     "data": {
      "text/plain": [
       "0    _MTVLEAVLEIQAITGSRLLsMVPGPARPPGSCWDPTQCTR\n",
       "1    QKSENEDDSEWEDVDDEKGDsNDDYDSAGLLsDEDCMSVPG\n",
       "2    EDVDDEKGDsNDDYDSAGLLsDEDCMSVPGKTHRAIADHLF\n",
       "3    EDCMSVPGKTHRAIADHLFWsEETKSRFTEYsMTssVMRRN\n",
       "4    RAIADHLFWsEETKSRFTEYsMTssVMRRNEQLTLHDERFE\n",
       "Name: site_seq, dtype: object"
      ]
     },
     "execution_count": null,
     "metadata": {},
     "output_type": "execute_result"
    }
   ],
   "source": [
    "check_seq_df(df.head(),'site_seq')"
   ]
  },
  {
   "cell_type": "code",
   "execution_count": null,
   "metadata": {},
   "outputs": [],
   "source": [
    "#| export\n",
    "def validate_site(site_info,\n",
    "                  seq):\n",
    "    \"Validate site position residue match with site residue.\"\n",
    "    pos=int(site_info[1:])-1 # python index starts from zero\n",
    "    if pos >= len(seq) or pos < 0: \n",
    "        return int(False)\n",
    "    return int(seq[pos]==site_info[0])"
   ]
  },
  {
   "cell_type": "code",
   "execution_count": null,
   "metadata": {},
   "outputs": [],
   "source": [
    "site='S610'\n",
    "seq = 'MSVPSSLSQSAINANSHGGPALSLPLPLHAAHNQLLNAKLQATAVGPKDLRSAMGEGGGPEPGPANAKWLKEGQNQLRRAATAHRDQNRNVTLTLAEEASQEPEMAPLGPKGLIHLYSELELSAHNAANRGLRGPGLIISTQEQGPDEGEEKAAGEAEEEEEDDDDEEEEEDLSSPPGLPEPLESVEAPPRPQALTDGPREHSKSASLLFGMRNSAASDEDSSWATLSQGSPSYGSPEDTDSFWNPNAFETDSDLPAGWMRVQDTSGTYYWHIPTGTTQWEPPGRASPSQGSSPQEESQLTWTGFAHGEGFEDGEFWKDEPSDEAPMELGLKEPEEGTLTFPAQSLSPEPLPQEEEKLPPRNTNPGIKCFAVRSLGWVEMTEEELAPGRSSVAVNNCIRQLSYHKNNLHDPMSGGWGEGKDLLLQLEDETLKLVEPQSQALLHAQPIISIRVWGVGRDSGRERDFAYVARDKLTQMLKCHVFRCEAPAKNIATSLHEICSKIMAERRNARCLVNGLSLDHSKLVDVPFQVEFPAPKNELVQKFQVYYLGNVPVAKPVGVDVINGALESVLSSSSREQWTPSHVSVAPATLTILHQQTEAVLGECRVRFLSFLAVGRDVHTFAFIMAAGPASFCCHMFWCEPNAASLSEAVQAACMLRYQKCLDARSQASTSCLPAPPAESVARRVGWTVRRGVQSLWGSLKPKRLGAHTP'"
   ]
  },
  {
   "cell_type": "code",
   "execution_count": null,
   "metadata": {},
   "outputs": [
    {
     "data": {
      "text/plain": [
       "1"
      ]
     },
     "execution_count": null,
     "metadata": {},
     "output_type": "execute_result"
    }
   ],
   "source": [
    "validate_site(site,seq)"
   ]
  },
  {
   "cell_type": "code",
   "execution_count": null,
   "metadata": {},
   "outputs": [],
   "source": [
    "#| export\n",
    "def validate_site_df(df, \n",
    "                     site_info_col,\n",
    "                     protein_seq_col): \n",
    "    \"Validate site position residue match with site residue in a dataframe.\"\n",
    "    return df.apply(lambda r: validate_site(r[site_info_col],r[protein_seq_col]) , axis=1)"
   ]
  },
  {
   "cell_type": "code",
   "execution_count": null,
   "metadata": {},
   "outputs": [
    {
     "data": {
      "text/plain": [
       "0    1\n",
       "1    1\n",
       "2    1\n",
       "3    1\n",
       "4    1\n",
       "dtype: int64"
      ]
     },
     "execution_count": null,
     "metadata": {},
     "output_type": "execute_result"
    }
   ],
   "source": [
    "validate_site_df(df.head(),'site','substrate_sequence')"
   ]
  },
  {
   "cell_type": "markdown",
   "metadata": {},
   "source": [
    "## Phosphorylate protein seq"
   ]
  },
  {
   "cell_type": "code",
   "execution_count": null,
   "metadata": {},
   "outputs": [],
   "source": [
    "#| export\n",
    "def phosphorylate_seq(seq, # full protein sequence\n",
    "                      *sites, # site info, e.g., S140\n",
    "                      ):\n",
    "    \"Phosphorylate protein sequence based on phosphosites (e.g.,S140). \"\n",
    "    seq = list(seq)\n",
    "\n",
    "    for site in sites:\n",
    "        char = site[0] \n",
    "        position = int(site[1:]) - 1 # substract 1 as python index starts from 0\n",
    "\n",
    "        if 0 <= position < len(seq):\n",
    "            if seq[position] == char:\n",
    "                seq[position] = char.lower()  \n",
    "            else:\n",
    "                raise ValueError(f\"Mismatch at position {position+1}: expected {char}, found {seq[position]}\")\n",
    "        else:\n",
    "            raise IndexError(f\"Position {position+1} out of range for sequence length {len(seq)}\")\n",
    "\n",
    "    return ''.join(seq)"
   ]
  },
  {
   "cell_type": "code",
   "execution_count": null,
   "metadata": {},
   "outputs": [
    {
     "data": {
      "text/plain": [
       "'MSKSEsPKEPEQLRKLFIGGLsFEtTDESLRSHFEQWGTLTDCVVMRDPNTKRSRGFGFVTYATVEEVDAAMNARPHKVDGRVVEPKRAVSREDsQRPDAHLTVKKIFVGGIKEDTEEHHLRDYFEQYGKIEVIEIMTDRGSGKKRGFAFVTFDDHDsVDKIVIQKYHTVNGHNCEVRKALSKQEMASASSSQRGRSGSGNFGGGRGGGFGGNDNFGRGGNFSGRGGFGGSRGGGGYGGSGDGYNGFGNDGSNFGGGGSYNDFGNYNNQSSNFGPMKGGNFEGRSSGPHGGGGQYFAKPRNQGGYGGSSSSSSYGSGRRF'"
      ]
     },
     "execution_count": null,
     "metadata": {},
     "output_type": "execute_result"
    }
   ],
   "source": [
    "seq = 'MSKSESPKEPEQLRKLFIGGLSFETTDESLRSHFEQWGTLTDCVVMRDPNTKRSRGFGFVTYATVEEVDAAMNARPHKVDGRVVEPKRAVSREDSQRPDAHLTVKKIFVGGIKEDTEEHHLRDYFEQYGKIEVIEIMTDRGSGKKRGFAFVTFDDHDSVDKIVIQKYHTVNGHNCEVRKALSKQEMASASSSQRGRSGSGNFGGGRGGGFGGNDNFGRGGNFSGRGGFGGSRGGGGYGGSGDGYNGFGNDGSNFGGGGSYNDFGNYNNQSSNFGPMKGGNFEGRSSGPHGGGGQYFAKPRNQGGYGGSSSSSSYGSGRRF'\n",
    "phosphorylate_seq(seq,*['S95', 'S22', 'T25', 'S6', 'S158'])"
   ]
  },
  {
   "cell_type": "code",
   "execution_count": null,
   "metadata": {},
   "outputs": [],
   "source": [
    "#| export\n",
    "def phosphorylate_seq_df(df,\n",
    "                         id_col='substrate_uniprot', # column of sequence ID\n",
    "                         seq_col='substrate_sequence', # column that contains protein sequence\n",
    "                         site_col='site', # column that contains site info, e.g., S140\n",
    "                         \n",
    "                        ):\n",
    "    \"Phosphorylate whole sequence based on phosphosites in a dataframe\"\n",
    "    df_seq = df.groupby(id_col).agg({site_col:lambda r: r.unique(),seq_col:'first'}).reset_index()\n",
    "    df_seq['phosphoseq'] = df_seq.apply(lambda r: phosphorylate_seq(r[seq_col],*r[site_col]),axis=1)\n",
    "    return df_seq"
   ]
  },
  {
   "cell_type": "code",
   "execution_count": null,
   "metadata": {},
   "outputs": [
    {
     "data": {
      "text/html": [
       "<div>\n",
       "<style scoped>\n",
       "    .dataframe tbody tr th:only-of-type {\n",
       "        vertical-align: middle;\n",
       "    }\n",
       "\n",
       "    .dataframe tbody tr th {\n",
       "        vertical-align: top;\n",
       "    }\n",
       "\n",
       "    .dataframe thead th {\n",
       "        text-align: right;\n",
       "    }\n",
       "</style>\n",
       "<table border=\"1\" class=\"dataframe\">\n",
       "  <thead>\n",
       "    <tr style=\"text-align: right;\">\n",
       "      <th></th>\n",
       "      <th>substrate_uniprot</th>\n",
       "      <th>substrate_genes</th>\n",
       "      <th>site</th>\n",
       "      <th>source</th>\n",
       "      <th>AM_pathogenicity</th>\n",
       "      <th>substrate_sequence</th>\n",
       "      <th>substrate_species</th>\n",
       "      <th>sub_site</th>\n",
       "      <th>substrate_phosphoseq</th>\n",
       "      <th>position</th>\n",
       "      <th>site_seq</th>\n",
       "    </tr>\n",
       "  </thead>\n",
       "  <tbody>\n",
       "    <tr>\n",
       "      <th>0</th>\n",
       "      <td>A0A024R4G9</td>\n",
       "      <td>C19orf48 MGC13170 hCG_2008493</td>\n",
       "      <td>S20</td>\n",
       "      <td>psp</td>\n",
       "      <td>NaN</td>\n",
       "      <td>MTVLEAVLEIQAITGSRLLSMVPGPARPPGSCWDPTQCTRTWLLSH...</td>\n",
       "      <td>Homo sapiens (Human)</td>\n",
       "      <td>A0A024R4G9_S20</td>\n",
       "      <td>MTVLEAVLEIQAITGSRLLsMVPGPARPPGSCWDPTQCTRTWLLSH...</td>\n",
       "      <td>20</td>\n",
       "      <td>_MTVLEAVLEIQAITGSRLLsMVPGPARPPGSCWDPTQCTR</td>\n",
       "    </tr>\n",
       "    <tr>\n",
       "      <th>1</th>\n",
       "      <td>A0A075B6Q4</td>\n",
       "      <td>None</td>\n",
       "      <td>S24</td>\n",
       "      <td>ochoa</td>\n",
       "      <td>NaN</td>\n",
       "      <td>MDIQKSENEDDSEWEDVDDEKGDSNDDYDSAGLLSDEDCMSVPGKT...</td>\n",
       "      <td>Homo sapiens (Human)</td>\n",
       "      <td>A0A075B6Q4_S24</td>\n",
       "      <td>MDIQKSENEDDSEWEDVDDEKGDsNDDYDSAGLLsDEDCMSVPGKT...</td>\n",
       "      <td>24</td>\n",
       "      <td>QKSENEDDSEWEDVDDEKGDsNDDYDSAGLLsDEDCMSVPG</td>\n",
       "    </tr>\n",
       "    <tr>\n",
       "      <th>2</th>\n",
       "      <td>A0A075B6Q4</td>\n",
       "      <td>None</td>\n",
       "      <td>S35</td>\n",
       "      <td>ochoa</td>\n",
       "      <td>NaN</td>\n",
       "      <td>MDIQKSENEDDSEWEDVDDEKGDSNDDYDSAGLLSDEDCMSVPGKT...</td>\n",
       "      <td>Homo sapiens (Human)</td>\n",
       "      <td>A0A075B6Q4_S35</td>\n",
       "      <td>MDIQKSENEDDSEWEDVDDEKGDsNDDYDSAGLLsDEDCMSVPGKT...</td>\n",
       "      <td>35</td>\n",
       "      <td>EDVDDEKGDsNDDYDSAGLLsDEDCMSVPGKTHRAIADHLF</td>\n",
       "    </tr>\n",
       "    <tr>\n",
       "      <th>3</th>\n",
       "      <td>A0A075B6Q4</td>\n",
       "      <td>None</td>\n",
       "      <td>S57</td>\n",
       "      <td>ochoa</td>\n",
       "      <td>NaN</td>\n",
       "      <td>MDIQKSENEDDSEWEDVDDEKGDSNDDYDSAGLLSDEDCMSVPGKT...</td>\n",
       "      <td>Homo sapiens (Human)</td>\n",
       "      <td>A0A075B6Q4_S57</td>\n",
       "      <td>MDIQKSENEDDSEWEDVDDEKGDsNDDYDSAGLLsDEDCMSVPGKT...</td>\n",
       "      <td>57</td>\n",
       "      <td>EDCMSVPGKTHRAIADHLFWsEETKSRFTEYsMTssVMRRN</td>\n",
       "    </tr>\n",
       "    <tr>\n",
       "      <th>4</th>\n",
       "      <td>A0A075B6Q4</td>\n",
       "      <td>None</td>\n",
       "      <td>S68</td>\n",
       "      <td>ochoa</td>\n",
       "      <td>NaN</td>\n",
       "      <td>MDIQKSENEDDSEWEDVDDEKGDSNDDYDSAGLLSDEDCMSVPGKT...</td>\n",
       "      <td>Homo sapiens (Human)</td>\n",
       "      <td>A0A075B6Q4_S68</td>\n",
       "      <td>MDIQKSENEDDSEWEDVDDEKGDsNDDYDSAGLLsDEDCMSVPGKT...</td>\n",
       "      <td>68</td>\n",
       "      <td>RAIADHLFWsEETKSRFTEYsMTssVMRRNEQLTLHDERFE</td>\n",
       "    </tr>\n",
       "  </tbody>\n",
       "</table>\n",
       "</div>"
      ],
      "text/plain": [
       "  substrate_uniprot                substrate_genes site source  \\\n",
       "0        A0A024R4G9  C19orf48 MGC13170 hCG_2008493  S20    psp   \n",
       "1        A0A075B6Q4                           None  S24  ochoa   \n",
       "2        A0A075B6Q4                           None  S35  ochoa   \n",
       "3        A0A075B6Q4                           None  S57  ochoa   \n",
       "4        A0A075B6Q4                           None  S68  ochoa   \n",
       "\n",
       "   AM_pathogenicity                                 substrate_sequence  \\\n",
       "0               NaN  MTVLEAVLEIQAITGSRLLSMVPGPARPPGSCWDPTQCTRTWLLSH...   \n",
       "1               NaN  MDIQKSENEDDSEWEDVDDEKGDSNDDYDSAGLLSDEDCMSVPGKT...   \n",
       "2               NaN  MDIQKSENEDDSEWEDVDDEKGDSNDDYDSAGLLSDEDCMSVPGKT...   \n",
       "3               NaN  MDIQKSENEDDSEWEDVDDEKGDSNDDYDSAGLLSDEDCMSVPGKT...   \n",
       "4               NaN  MDIQKSENEDDSEWEDVDDEKGDSNDDYDSAGLLSDEDCMSVPGKT...   \n",
       "\n",
       "      substrate_species        sub_site  \\\n",
       "0  Homo sapiens (Human)  A0A024R4G9_S20   \n",
       "1  Homo sapiens (Human)  A0A075B6Q4_S24   \n",
       "2  Homo sapiens (Human)  A0A075B6Q4_S35   \n",
       "3  Homo sapiens (Human)  A0A075B6Q4_S57   \n",
       "4  Homo sapiens (Human)  A0A075B6Q4_S68   \n",
       "\n",
       "                                substrate_phosphoseq  position  \\\n",
       "0  MTVLEAVLEIQAITGSRLLsMVPGPARPPGSCWDPTQCTRTWLLSH...        20   \n",
       "1  MDIQKSENEDDSEWEDVDDEKGDsNDDYDSAGLLsDEDCMSVPGKT...        24   \n",
       "2  MDIQKSENEDDSEWEDVDDEKGDsNDDYDSAGLLsDEDCMSVPGKT...        35   \n",
       "3  MDIQKSENEDDSEWEDVDDEKGDsNDDYDSAGLLsDEDCMSVPGKT...        57   \n",
       "4  MDIQKSENEDDSEWEDVDDEKGDsNDDYDSAGLLsDEDCMSVPGKT...        68   \n",
       "\n",
       "                                    site_seq  \n",
       "0  _MTVLEAVLEIQAITGSRLLsMVPGPARPPGSCWDPTQCTR  \n",
       "1  QKSENEDDSEWEDVDDEKGDsNDDYDSAGLLsDEDCMSVPG  \n",
       "2  EDVDDEKGDsNDDYDSAGLLsDEDCMSVPGKTHRAIADHLF  \n",
       "3  EDCMSVPGKTHRAIADHLFWsEETKSRFTEYsMTssVMRRN  \n",
       "4  RAIADHLFWsEETKSRFTEYsMTssVMRRNEQLTLHDERFE  "
      ]
     },
     "execution_count": null,
     "metadata": {},
     "output_type": "execute_result"
    }
   ],
   "source": [
    "df=Data.get_human_site()\n",
    "df.head()"
   ]
  },
  {
   "cell_type": "code",
   "execution_count": null,
   "metadata": {},
   "outputs": [
    {
     "data": {
      "text/html": [
       "<div>\n",
       "<style scoped>\n",
       "    .dataframe tbody tr th:only-of-type {\n",
       "        vertical-align: middle;\n",
       "    }\n",
       "\n",
       "    .dataframe tbody tr th {\n",
       "        vertical-align: top;\n",
       "    }\n",
       "\n",
       "    .dataframe thead th {\n",
       "        text-align: right;\n",
       "    }\n",
       "</style>\n",
       "<table border=\"1\" class=\"dataframe\">\n",
       "  <thead>\n",
       "    <tr style=\"text-align: right;\">\n",
       "      <th></th>\n",
       "      <th>substrate_uniprot</th>\n",
       "      <th>site</th>\n",
       "      <th>substrate_sequence</th>\n",
       "      <th>phosphoseq</th>\n",
       "    </tr>\n",
       "  </thead>\n",
       "  <tbody>\n",
       "    <tr>\n",
       "      <th>0</th>\n",
       "      <td>A0A024R4G9</td>\n",
       "      <td>[S20]</td>\n",
       "      <td>MTVLEAVLEIQAITGSRLLSMVPGPARPPGSCWDPTQCTRTWLLSH...</td>\n",
       "      <td>MTVLEAVLEIQAITGSRLLsMVPGPARPPGSCWDPTQCTRTWLLSH...</td>\n",
       "    </tr>\n",
       "    <tr>\n",
       "      <th>1</th>\n",
       "      <td>A0A075B6Q4</td>\n",
       "      <td>[S24, S35, S57, S68, S71, S72]</td>\n",
       "      <td>MDIQKSENEDDSEWEDVDDEKGDSNDDYDSAGLLSDEDCMSVPGKT...</td>\n",
       "      <td>MDIQKSENEDDSEWEDVDDEKGDsNDDYDSAGLLsDEDCMSVPGKT...</td>\n",
       "    </tr>\n",
       "    <tr>\n",
       "      <th>...</th>\n",
       "      <td>...</td>\n",
       "      <td>...</td>\n",
       "      <td>...</td>\n",
       "      <td>...</td>\n",
       "    </tr>\n",
       "    <tr>\n",
       "      <th>22</th>\n",
       "      <td>A0A0A6YYL6</td>\n",
       "      <td>[S5, Y139, S141, S142]</td>\n",
       "      <td>MVRYSLDPENPTKSCKSRGSNLRVHFKNTRETAQAIKGMHIRKATK...</td>\n",
       "      <td>MVRYsLDPENPTKSCKSRGSNLRVHFKNTRETAQAIKGMHIRKATK...</td>\n",
       "    </tr>\n",
       "    <tr>\n",
       "      <th>23</th>\n",
       "      <td>A0A0B4J1R7</td>\n",
       "      <td>[T6, S43, S45, S46]</td>\n",
       "      <td>MMATGTPESQARFGQSVKGLLTEKVTTCGTDVIALTKQVLKGSRSS...</td>\n",
       "      <td>MMATGtPESQARFGQSVKGLLTEKVTTCGTDVIALTKQVLKGsRss...</td>\n",
       "    </tr>\n",
       "  </tbody>\n",
       "</table>\n",
       "<p>24 rows × 4 columns</p>\n",
       "</div>"
      ],
      "text/plain": [
       "   substrate_uniprot                            site  \\\n",
       "0         A0A024R4G9                           [S20]   \n",
       "1         A0A075B6Q4  [S24, S35, S57, S68, S71, S72]   \n",
       "..               ...                             ...   \n",
       "22        A0A0A6YYL6          [S5, Y139, S141, S142]   \n",
       "23        A0A0B4J1R7             [T6, S43, S45, S46]   \n",
       "\n",
       "                                   substrate_sequence  \\\n",
       "0   MTVLEAVLEIQAITGSRLLSMVPGPARPPGSCWDPTQCTRTWLLSH...   \n",
       "1   MDIQKSENEDDSEWEDVDDEKGDSNDDYDSAGLLSDEDCMSVPGKT...   \n",
       "..                                                ...   \n",
       "22  MVRYSLDPENPTKSCKSRGSNLRVHFKNTRETAQAIKGMHIRKATK...   \n",
       "23  MMATGTPESQARFGQSVKGLLTEKVTTCGTDVIALTKQVLKGSRSS...   \n",
       "\n",
       "                                           phosphoseq  \n",
       "0   MTVLEAVLEIQAITGSRLLsMVPGPARPPGSCWDPTQCTRTWLLSH...  \n",
       "1   MDIQKSENEDDSEWEDVDDEKGDsNDDYDSAGLLsDEDCMSVPGKT...  \n",
       "..                                                ...  \n",
       "22  MVRYsLDPENPTKSCKSRGSNLRVHFKNTRETAQAIKGMHIRKATK...  \n",
       "23  MMATGtPESQARFGQSVKGLLTEKVTTCGTDVIALTKQVLKGsRss...  \n",
       "\n",
       "[24 rows x 4 columns]"
      ]
     },
     "execution_count": null,
     "metadata": {},
     "output_type": "execute_result"
    }
   ],
   "source": [
    "phosphorylate_seq_df(df.head(100),'substrate_uniprot','substrate_sequence','site')"
   ]
  },
  {
   "cell_type": "markdown",
   "metadata": {},
   "source": [
    "## Extract site seq"
   ]
  },
  {
   "cell_type": "code",
   "execution_count": null,
   "metadata": {},
   "outputs": [],
   "source": [
    "#| export\n",
    "def extract_site_seq(df: pd.DataFrame, # dataframe that contains protein sequence\n",
    "                     seq_col: str, # column name of protein sequence\n",
    "                     site_col: str, # column name of site information (e.g., S10)\n",
    "                     n=7, # length of surrounding sequence (default -7 to +7)\n",
    "                    ):\n",
    "    \"Extract -n to +n site sequence from protein sequence\"\n",
    "    \n",
    "    data = []\n",
    "    for i, r in tqdm(df.iterrows(),total=len(df)):\n",
    "        position = int(r[site_col][1:]) - 1\n",
    "        start = position - n\n",
    "        end = position + n +1\n",
    "\n",
    "        # Extract the subsequence\n",
    "        subseq = r[seq_col][max(0, start):min(len(r[seq_col]), end)]\n",
    "\n",
    "        # Pad the subsequence if needed\n",
    "        if start < 0:\n",
    "            subseq = \"_\" * abs(start) + subseq\n",
    "        if end > len(r[seq_col]):\n",
    "            subseq = subseq + \"_\" * (end - len(r[seq_col]))\n",
    "\n",
    "        data.append(subseq)\n",
    "        \n",
    "    return np.array(data)"
   ]
  },
  {
   "cell_type": "markdown",
   "metadata": {},
   "source": [
    "As some datasets only contains protein information and position of phosphorylation sites, but not phosphorylation site sequence, we can retreive protein sequence and use this function to get -7 to +7 phosphorylation site sequence (as numpy array).\n",
    "\n",
    "Remember to validate the phospho-acceptor at position 0 before extract the site sequence, as there could be mismatch due to the protein sequence database updates."
   ]
  },
  {
   "cell_type": "code",
   "execution_count": null,
   "metadata": {},
   "outputs": [
    {
     "data": {
      "text/html": [
       "<div>\n",
       "<style scoped>\n",
       "    .dataframe tbody tr th:only-of-type {\n",
       "        vertical-align: middle;\n",
       "    }\n",
       "\n",
       "    .dataframe tbody tr th {\n",
       "        vertical-align: top;\n",
       "    }\n",
       "\n",
       "    .dataframe thead th {\n",
       "        text-align: right;\n",
       "    }\n",
       "</style>\n",
       "<table border=\"1\" class=\"dataframe\">\n",
       "  <thead>\n",
       "    <tr style=\"text-align: right;\">\n",
       "      <th></th>\n",
       "      <th>substrate_uniprot</th>\n",
       "      <th>substrate_genes</th>\n",
       "      <th>site</th>\n",
       "      <th>source</th>\n",
       "      <th>AM_pathogenicity</th>\n",
       "      <th>substrate_sequence</th>\n",
       "      <th>substrate_species</th>\n",
       "      <th>sub_site</th>\n",
       "      <th>substrate_phosphoseq</th>\n",
       "      <th>position</th>\n",
       "      <th>site_seq</th>\n",
       "    </tr>\n",
       "  </thead>\n",
       "  <tbody>\n",
       "    <tr>\n",
       "      <th>0</th>\n",
       "      <td>A0A024R4G9</td>\n",
       "      <td>C19orf48 MGC13170 hCG_2008493</td>\n",
       "      <td>S20</td>\n",
       "      <td>psp</td>\n",
       "      <td>NaN</td>\n",
       "      <td>MTVLEAVLEIQAITGSRLLSMVPGPARPPGSCWDPTQCTRTWLLSH...</td>\n",
       "      <td>Homo sapiens (Human)</td>\n",
       "      <td>A0A024R4G9_S20</td>\n",
       "      <td>MTVLEAVLEIQAITGSRLLsMVPGPARPPGSCWDPTQCTRTWLLSH...</td>\n",
       "      <td>20</td>\n",
       "      <td>_MTVLEAVLEIQAITGSRLLsMVPGPARPPGSCWDPTQCTR</td>\n",
       "    </tr>\n",
       "    <tr>\n",
       "      <th>1</th>\n",
       "      <td>A0A075B6Q4</td>\n",
       "      <td>None</td>\n",
       "      <td>S24</td>\n",
       "      <td>ochoa</td>\n",
       "      <td>NaN</td>\n",
       "      <td>MDIQKSENEDDSEWEDVDDEKGDSNDDYDSAGLLSDEDCMSVPGKT...</td>\n",
       "      <td>Homo sapiens (Human)</td>\n",
       "      <td>A0A075B6Q4_S24</td>\n",
       "      <td>MDIQKSENEDDSEWEDVDDEKGDsNDDYDSAGLLsDEDCMSVPGKT...</td>\n",
       "      <td>24</td>\n",
       "      <td>QKSENEDDSEWEDVDDEKGDsNDDYDSAGLLsDEDCMSVPG</td>\n",
       "    </tr>\n",
       "    <tr>\n",
       "      <th>2</th>\n",
       "      <td>A0A075B6Q4</td>\n",
       "      <td>None</td>\n",
       "      <td>S35</td>\n",
       "      <td>ochoa</td>\n",
       "      <td>NaN</td>\n",
       "      <td>MDIQKSENEDDSEWEDVDDEKGDSNDDYDSAGLLSDEDCMSVPGKT...</td>\n",
       "      <td>Homo sapiens (Human)</td>\n",
       "      <td>A0A075B6Q4_S35</td>\n",
       "      <td>MDIQKSENEDDSEWEDVDDEKGDsNDDYDSAGLLsDEDCMSVPGKT...</td>\n",
       "      <td>35</td>\n",
       "      <td>EDVDDEKGDsNDDYDSAGLLsDEDCMSVPGKTHRAIADHLF</td>\n",
       "    </tr>\n",
       "    <tr>\n",
       "      <th>3</th>\n",
       "      <td>A0A075B6Q4</td>\n",
       "      <td>None</td>\n",
       "      <td>S57</td>\n",
       "      <td>ochoa</td>\n",
       "      <td>NaN</td>\n",
       "      <td>MDIQKSENEDDSEWEDVDDEKGDSNDDYDSAGLLSDEDCMSVPGKT...</td>\n",
       "      <td>Homo sapiens (Human)</td>\n",
       "      <td>A0A075B6Q4_S57</td>\n",
       "      <td>MDIQKSENEDDSEWEDVDDEKGDsNDDYDSAGLLsDEDCMSVPGKT...</td>\n",
       "      <td>57</td>\n",
       "      <td>EDCMSVPGKTHRAIADHLFWsEETKSRFTEYsMTssVMRRN</td>\n",
       "    </tr>\n",
       "    <tr>\n",
       "      <th>4</th>\n",
       "      <td>A0A075B6Q4</td>\n",
       "      <td>None</td>\n",
       "      <td>S68</td>\n",
       "      <td>ochoa</td>\n",
       "      <td>NaN</td>\n",
       "      <td>MDIQKSENEDDSEWEDVDDEKGDSNDDYDSAGLLSDEDCMSVPGKT...</td>\n",
       "      <td>Homo sapiens (Human)</td>\n",
       "      <td>A0A075B6Q4_S68</td>\n",
       "      <td>MDIQKSENEDDSEWEDVDDEKGDsNDDYDSAGLLsDEDCMSVPGKT...</td>\n",
       "      <td>68</td>\n",
       "      <td>RAIADHLFWsEETKSRFTEYsMTssVMRRNEQLTLHDERFE</td>\n",
       "    </tr>\n",
       "  </tbody>\n",
       "</table>\n",
       "</div>"
      ],
      "text/plain": [
       "  substrate_uniprot                substrate_genes site source  \\\n",
       "0        A0A024R4G9  C19orf48 MGC13170 hCG_2008493  S20    psp   \n",
       "1        A0A075B6Q4                           None  S24  ochoa   \n",
       "2        A0A075B6Q4                           None  S35  ochoa   \n",
       "3        A0A075B6Q4                           None  S57  ochoa   \n",
       "4        A0A075B6Q4                           None  S68  ochoa   \n",
       "\n",
       "   AM_pathogenicity                                 substrate_sequence  \\\n",
       "0               NaN  MTVLEAVLEIQAITGSRLLSMVPGPARPPGSCWDPTQCTRTWLLSH...   \n",
       "1               NaN  MDIQKSENEDDSEWEDVDDEKGDSNDDYDSAGLLSDEDCMSVPGKT...   \n",
       "2               NaN  MDIQKSENEDDSEWEDVDDEKGDSNDDYDSAGLLSDEDCMSVPGKT...   \n",
       "3               NaN  MDIQKSENEDDSEWEDVDDEKGDSNDDYDSAGLLSDEDCMSVPGKT...   \n",
       "4               NaN  MDIQKSENEDDSEWEDVDDEKGDSNDDYDSAGLLSDEDCMSVPGKT...   \n",
       "\n",
       "      substrate_species        sub_site  \\\n",
       "0  Homo sapiens (Human)  A0A024R4G9_S20   \n",
       "1  Homo sapiens (Human)  A0A075B6Q4_S24   \n",
       "2  Homo sapiens (Human)  A0A075B6Q4_S35   \n",
       "3  Homo sapiens (Human)  A0A075B6Q4_S57   \n",
       "4  Homo sapiens (Human)  A0A075B6Q4_S68   \n",
       "\n",
       "                                substrate_phosphoseq  position  \\\n",
       "0  MTVLEAVLEIQAITGSRLLsMVPGPARPPGSCWDPTQCTRTWLLSH...        20   \n",
       "1  MDIQKSENEDDSEWEDVDDEKGDsNDDYDSAGLLsDEDCMSVPGKT...        24   \n",
       "2  MDIQKSENEDDSEWEDVDDEKGDsNDDYDSAGLLsDEDCMSVPGKT...        35   \n",
       "3  MDIQKSENEDDSEWEDVDDEKGDsNDDYDSAGLLsDEDCMSVPGKT...        57   \n",
       "4  MDIQKSENEDDSEWEDVDDEKGDsNDDYDSAGLLsDEDCMSVPGKT...        68   \n",
       "\n",
       "                                    site_seq  \n",
       "0  _MTVLEAVLEIQAITGSRLLsMVPGPARPPGSCWDPTQCTR  \n",
       "1  QKSENEDDSEWEDVDDEKGDsNDDYDSAGLLsDEDCMSVPG  \n",
       "2  EDVDDEKGDsNDDYDSAGLLsDEDCMSVPGKTHRAIADHLF  \n",
       "3  EDCMSVPGKTHRAIADHLFWsEETKSRFTEYsMTssVMRRN  \n",
       "4  RAIADHLFWsEETKSRFTEYsMTssVMRRNEQLTLHDERFE  "
      ]
     },
     "execution_count": null,
     "metadata": {},
     "output_type": "execute_result"
    }
   ],
   "source": [
    "df.head()"
   ]
  },
  {
   "cell_type": "code",
   "execution_count": null,
   "metadata": {},
   "outputs": [
    {
     "name": "stderr",
     "output_type": "stream",
     "text": [
      "100%|██████████████████████████████████████████████████████████████████████████████████████████████| 5/5 [00:00<00:00, 9493.67it/s]\n"
     ]
    },
    {
     "data": {
      "text/plain": [
       "array(['___________MTVLEAVLEIQAITGSRLLSMVPGPARPPGSCWDPTQCTRTWLLSHTPRR',\n",
       "       '_______MDIQKSENEDDSEWEDVDDEKGDSNDDYDSAGLLSDEDCMSVPGKTHRAIADHL',\n",
       "       'KSENEDDSEWEDVDDEKGDSNDDYDSAGLLSDEDCMSVPGKTHRAIADHLFWSEETKSRFT',\n",
       "       'DYDSAGLLSDEDCMSVPGKTHRAIADHLFWSEETKSRFTEYSMTSSVMRRNEQLTLHDERF',\n",
       "       'DCMSVPGKTHRAIADHLFWSEETKSRFTEYSMTSSVMRRNEQLTLHDERFEKFYEQYDDDE'],\n",
       "      dtype='<U61')"
      ]
     },
     "execution_count": null,
     "metadata": {},
     "output_type": "execute_result"
    }
   ],
   "source": [
    "extract_site_seq(df.head(),\n",
    "                 seq_col='substrate_sequence',\n",
    "                 site_col='site',\n",
    "                 n=30\n",
    "                 )"
   ]
  },
  {
   "cell_type": "markdown",
   "metadata": {},
   "source": [
    "## Alignment"
   ]
  },
  {
   "cell_type": "code",
   "execution_count": null,
   "metadata": {},
   "outputs": [],
   "source": [
    "#| export\n",
    "def get_fasta(df,seq_col='kd_seq',id_col='kd_ID',path='out.fasta'):\n",
    "    \"Generate fasta file from sequences.\"\n",
    "    records = [\n",
    "        SeqRecord(Seq(str(row[seq_col])), id=str(row[id_col]), description=\"\")\n",
    "        for _, row in df.iterrows()\n",
    "    ]\n",
    "    SeqIO.write(records, path, \"fasta\")\n",
    "    print(len(records))"
   ]
  },
  {
   "cell_type": "markdown",
   "metadata": {},
   "source": [
    "```python\n",
    "get_fasta(kd,seq_col='kd_seq',id_col='kd_ID',path='raw/kinase_domains.fasta')\n",
    "```"
   ]
  },
  {
   "cell_type": "markdown",
   "metadata": {},
   "source": [
    "To run clustalo alignment, can run either through terminal or the function"
   ]
  },
  {
   "cell_type": "markdown",
   "metadata": {},
   "source": [
    "```bash\n",
    "sudo apt-get update\n",
    "sudo apt-get install clustalo\n",
    "clustalo -i kinase_domains.fasta -o kinase_domains.aln --force --outfmt=clu\n",
    "```"
   ]
  },
  {
   "cell_type": "code",
   "execution_count": null,
   "metadata": {},
   "outputs": [],
   "source": [
    "#| export\n",
    "def run_clustalo(input_fasta,  # .fasta fname\n",
    "                 output_aln, # .aln output fname\n",
    "                 outfmt=\"clu\"):\n",
    "    \"Run Clustal Omega to perform multiple sequence alignment.\"\n",
    "    # if the output directory does not exist, create one\n",
    "    output_aln = Path(output_aln)\n",
    "    output_aln.parent.mkdir(parents=True, exist_ok=True)\n",
    "\n",
    "    # run clustalo\n",
    "    subprocess.run([\n",
    "        \"clustalo\", \"-i\", str(input_fasta),\n",
    "        \"-o\", str(output_aln),\n",
    "        \"--force\", \"--outfmt=clu\"\n",
    "    ], check=True)"
   ]
  },
  {
   "cell_type": "markdown",
   "metadata": {},
   "source": [
    "```python\n",
    "run_clustalo(\"kinase_domains.fasta\", \"raw/kinase_domains.aln\")\n",
    "```"
   ]
  },
  {
   "cell_type": "code",
   "execution_count": null,
   "metadata": {},
   "outputs": [],
   "source": [
    "#| export\n",
    "def aln2df(fname):\n",
    "    alignment = AlignIO.read(fname, \"clustal\")\n",
    "    alignment_array = [list(str(record.seq)) for record in alignment]\n",
    "    ids = [record.id for record in alignment]\n",
    "    df = pd.DataFrame(alignment_array, index=ids)\n",
    "    df.columns = df.columns+1\n",
    "    return df"
   ]
  },
  {
   "cell_type": "markdown",
   "metadata": {},
   "source": [
    "```python\n",
    "df = aln2df(\"raw/kinase_domains.aln\")\n",
    "```"
   ]
  },
  {
   "cell_type": "code",
   "execution_count": null,
   "metadata": {},
   "outputs": [],
   "source": [
    "#| export\n",
    "def get_aln_freq(df):\n",
    "    \"Get frequency of each amino acid across each position from the aln2df output.\"\n",
    "    counts_df = df.apply(lambda col: col.value_counts(), axis=0).fillna(0)\n",
    "    return counts_df.div(counts_df.sum(axis=0), axis=1)"
   ]
  },
  {
   "cell_type": "markdown",
   "metadata": {},
   "source": [
    "```python\n",
    "freq_df = get_aln_freq(df)\n",
    "```"
   ]
  },
  {
   "cell_type": "markdown",
   "metadata": {},
   "source": [
    "## End"
   ]
  },
  {
   "cell_type": "code",
   "execution_count": null,
   "metadata": {},
   "outputs": [],
   "source": [
    "#| hide\n",
    "import nbdev; nbdev.nbdev_export()"
   ]
  },
  {
   "cell_type": "code",
   "execution_count": null,
   "metadata": {},
   "outputs": [],
   "source": []
  }
 ],
 "metadata": {
  "kernelspec": {
   "display_name": "python3",
   "language": "python",
   "name": "python3"
  },
  "widgets": {
   "application/vnd.jupyter.widget-state+json": {
    "state": {},
    "version_major": 2,
    "version_minor": 0
   }
  }
 },
 "nbformat": 4,
 "nbformat_minor": 4
}
