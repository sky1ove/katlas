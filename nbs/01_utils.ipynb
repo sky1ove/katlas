{
 "cells": [
  {
   "cell_type": "markdown",
   "metadata": {},
   "source": [
    "# Preprocess\n",
    "\n",
    "> Functions to preprocess sequence to prepare kinase substrate dataset"
   ]
  },
  {
   "cell_type": "markdown",
   "metadata": {},
   "source": [
    "## Setup"
   ]
  },
  {
   "cell_type": "code",
   "execution_count": null,
   "metadata": {},
   "outputs": [],
   "source": [
    "#| default_exp utils"
   ]
  },
  {
   "cell_type": "code",
   "execution_count": null,
   "metadata": {},
   "outputs": [],
   "source": [
    "#| export\n",
    "import numpy as np, pandas as pd\n",
    "from tqdm import tqdm\n",
    "from katlas.data import *\n",
    "from fastcore.meta import delegates\n",
    "from pathlib import Path\n",
    "\n",
    "# reactome\n",
    "from pandas import json_normalize\n",
    "from reactome2py import analysis\n",
    "from matplotlib import pyplot as plt\n",
    "\n",
    "# fasta\n",
    "from Bio.Seq import Seq\n",
    "from Bio.SeqRecord import SeqRecord\n",
    "from Bio import SeqIO, AlignIO"
   ]
  },
  {
   "cell_type": "code",
   "execution_count": null,
   "metadata": {},
   "outputs": [],
   "source": [
    "#| hide\n",
    "from nbdev import show_doc"
   ]
  },
  {
   "cell_type": "code",
   "execution_count": null,
   "metadata": {},
   "outputs": [],
   "source": [
    "#| hide\n",
    "pd.set_option('display.max_rows', 5)\n",
    "pd.set_option('display.max_columns', 100) # show all columns"
   ]
  },
  {
   "cell_type": "markdown",
   "metadata": {},
   "source": [
    "```python\n",
    "from katlas.utils import *\n",
    "```"
   ]
  },
  {
   "cell_type": "markdown",
   "metadata": {},
   "source": [
    "## Commons"
   ]
  },
  {
   "cell_type": "code",
   "execution_count": null,
   "metadata": {},
   "outputs": [],
   "source": [
    "#| export\n",
    "def get_fasta(df,seq_col='kd_seq',id_col='kd_ID',path='out.fasta'):\n",
    "    \"Generate fasta file from sequences.\"\n",
    "    records = [\n",
    "        SeqRecord(Seq(row[seq_col]), id=row[id_col], description=\"\")\n",
    "        for _, row in df.iterrows()\n",
    "    ]\n",
    "    SeqIO.write(records, path, \"fasta\")\n",
    "    print(len(records))"
   ]
  },
  {
   "cell_type": "markdown",
   "metadata": {},
   "source": [
    "```python\n",
    "get_fasta(kd,seq_col='kd_seq',id_col='kd_ID',path='raw/kinase_domains.fasta')\n",
    "```"
   ]
  },
  {
   "cell_type": "code",
   "execution_count": null,
   "metadata": {},
   "outputs": [],
   "source": [
    "#| export\n",
    "def aln2df(fname):\n",
    "    'Read .aln file from clustalo output into a dataframe'\n",
    "    alignment = AlignIO.read(fname, \"clustal\")\n",
    "    alignment_array = [list(str(record.seq)) for record in alignment]\n",
    "    df = pd.DataFrame(alignment_array)\n",
    "    df.columns = df.columns+1 # use amino acid index starting from 1\n",
    "    return df"
   ]
  },
  {
   "cell_type": "markdown",
   "metadata": {},
   "source": [
    "```python\n",
    "df = aln2df(\"raw/kinase_domains.aln\")\n",
    "```"
   ]
  },
  {
   "cell_type": "code",
   "execution_count": null,
   "metadata": {},
   "outputs": [],
   "source": [
    "#| export\n",
    "def get_path(dir_path,fname):\n",
    "    \"Ensure the directory exists and return the full file path.\"\n",
    "    dir_path = Path(dir_path).expanduser()\n",
    "    dir_path.mkdir(parents=True,exist_ok=True)\n",
    "\n",
    "    return dir_path/fname"
   ]
  },
  {
   "cell_type": "markdown",
   "metadata": {},
   "source": [
    "```python\n",
    "get_path('~/img/folder','test.svg')\n",
    "```"
   ]
  },
  {
   "cell_type": "code",
   "execution_count": null,
   "metadata": {},
   "outputs": [],
   "source": [
    "#| export\n",
    "def get_diff(df1, df2, col1, col2=None):\n",
    "    \"Get non-overlap parts of two dataframes.\"\n",
    "    if col2 is None:\n",
    "        col2=col1\n",
    "    df1_unique = df1[~df1[col1].isin(df2[col2])]\n",
    "    df2_unique = df2[~df2[col2].isin(df1[col1])]\n",
    "    return df1_unique, df2_unique"
   ]
  },
  {
   "cell_type": "code",
   "execution_count": null,
   "metadata": {},
   "outputs": [],
   "source": [
    "df1 = pd.DataFrame({'gene': ['A', 'B', 'C']})\n",
    "df2 = pd.DataFrame({'gene': ['B', 'C', 'D']})\n",
    "\n",
    "df1_unq, df2_unq = get_diff(df1, df2, 'gene')"
   ]
  },
  {
   "cell_type": "code",
   "execution_count": null,
   "metadata": {},
   "outputs": [
    {
     "data": {
      "text/html": [
       "<div>\n",
       "<style scoped>\n",
       "    .dataframe tbody tr th:only-of-type {\n",
       "        vertical-align: middle;\n",
       "    }\n",
       "\n",
       "    .dataframe tbody tr th {\n",
       "        vertical-align: top;\n",
       "    }\n",
       "\n",
       "    .dataframe thead th {\n",
       "        text-align: right;\n",
       "    }\n",
       "</style>\n",
       "<table border=\"1\" class=\"dataframe\">\n",
       "  <thead>\n",
       "    <tr style=\"text-align: right;\">\n",
       "      <th></th>\n",
       "      <th>gene</th>\n",
       "    </tr>\n",
       "  </thead>\n",
       "  <tbody>\n",
       "    <tr>\n",
       "      <th>0</th>\n",
       "      <td>A</td>\n",
       "    </tr>\n",
       "  </tbody>\n",
       "</table>\n",
       "</div>"
      ],
      "text/plain": [
       "  gene\n",
       "0    A"
      ]
     },
     "execution_count": null,
     "metadata": {},
     "output_type": "execute_result"
    }
   ],
   "source": [
    "df1_unq"
   ]
  },
  {
   "cell_type": "code",
   "execution_count": null,
   "metadata": {},
   "outputs": [
    {
     "data": {
      "text/html": [
       "<div>\n",
       "<style scoped>\n",
       "    .dataframe tbody tr th:only-of-type {\n",
       "        vertical-align: middle;\n",
       "    }\n",
       "\n",
       "    .dataframe tbody tr th {\n",
       "        vertical-align: top;\n",
       "    }\n",
       "\n",
       "    .dataframe thead th {\n",
       "        text-align: right;\n",
       "    }\n",
       "</style>\n",
       "<table border=\"1\" class=\"dataframe\">\n",
       "  <thead>\n",
       "    <tr style=\"text-align: right;\">\n",
       "      <th></th>\n",
       "      <th>gene</th>\n",
       "    </tr>\n",
       "  </thead>\n",
       "  <tbody>\n",
       "    <tr>\n",
       "      <th>2</th>\n",
       "      <td>D</td>\n",
       "    </tr>\n",
       "  </tbody>\n",
       "</table>\n",
       "</div>"
      ],
      "text/plain": [
       "  gene\n",
       "2    D"
      ]
     },
     "execution_count": null,
     "metadata": {},
     "output_type": "execute_result"
    }
   ],
   "source": [
    "df2_unq"
   ]
  },
  {
   "cell_type": "markdown",
   "metadata": {},
   "source": [
    "## Checker"
   ]
  },
  {
   "cell_type": "markdown",
   "metadata": {},
   "source": [
    "In many phosphorylation datsets, there are amino acids in the site sequence that are in lower case but does not belong to s/t/y. Also, there are uncommon amino acids such as U or O that appear in the sequence. Therefore, it is essential to convert the sequence string for kinase ranking."
   ]
  },
  {
   "cell_type": "code",
   "execution_count": null,
   "metadata": {},
   "outputs": [],
   "source": [
    "#| export\n",
    "def check_seq(seq):\n",
    "    \"\"\"Convert non-s/t/y characters to uppercase and replace disallowed characters with underscores.\"\"\"\n",
    "    acceptor = seq[len(seq) // 2]\n",
    "    assert acceptor.lower() in {'s', 't', 'y'}, f\"{seq} has {acceptor} at position {len(seq) // 2}; need to have one of 's', 't', or 'y' in the center\"\n",
    "\n",
    "    allowed_chars = set(\"PGACSTVILMFYWHKRQNDEsty\")\n",
    "    return \"\".join(char if char in {'s', 't', 'y'} else (char.upper() if char.upper() in allowed_chars else '_') for char in seq)"
   ]
  },
  {
   "cell_type": "code",
   "execution_count": null,
   "metadata": {},
   "outputs": [
    {
     "name": "stdout",
     "output_type": "stream",
     "text": [
      "aaadaaa has d at position 3; need to have one of 's', 't', or 'y' in the center\n"
     ]
    }
   ],
   "source": [
    "try:\n",
    "    check_seq('aaadaaa')\n",
    "except Exception as e:\n",
    "    print(e)"
   ]
  },
  {
   "cell_type": "code",
   "execution_count": null,
   "metadata": {},
   "outputs": [
    {
     "data": {
      "text/plain": [
       "'AAK__PSFstTH'"
      ]
     },
     "execution_count": null,
     "metadata": {},
     "output_type": "execute_result"
    }
   ],
   "source": [
    "check_seq('AAkUuPSFstTH') # if the center amino acid does not belong to sty/STY, will raise an error"
   ]
  },
  {
   "cell_type": "code",
   "execution_count": null,
   "metadata": {},
   "outputs": [],
   "source": [
    "#| export\n",
    "def check_seqs(seqs:pd.Series):\n",
    "    \"Convert non-s/t/y to upper case & replace with underscore if the character is not in the allowed set\"\n",
    "    assert len(seqs.str.len().value_counts())==1, 'inconsistent sequence length detected'\n",
    "    return seqs.apply(check_seq)"
   ]
  },
  {
   "cell_type": "code",
   "execution_count": null,
   "metadata": {},
   "outputs": [],
   "source": [
    "#| export\n",
    "def check_seq_df(df,col):\n",
    "    \"Convert non-s/t/y to upper case & replace with underscore if the character is not in the allowed set\"\n",
    "    assert len(df[col].str.len().value_counts())==1, 'inconsistent sequence length detected'\n",
    "    return df[col].apply(check_seq)"
   ]
  },
  {
   "cell_type": "code",
   "execution_count": null,
   "metadata": {},
   "outputs": [
    {
     "data": {
      "text/html": [
       "<div>\n",
       "<style scoped>\n",
       "    .dataframe tbody tr th:only-of-type {\n",
       "        vertical-align: middle;\n",
       "    }\n",
       "\n",
       "    .dataframe tbody tr th {\n",
       "        vertical-align: top;\n",
       "    }\n",
       "\n",
       "    .dataframe thead th {\n",
       "        text-align: right;\n",
       "    }\n",
       "</style>\n",
       "<table border=\"1\" class=\"dataframe\">\n",
       "  <thead>\n",
       "    <tr style=\"text-align: right;\">\n",
       "      <th></th>\n",
       "      <th>substrate_uniprot</th>\n",
       "      <th>substrate_genes</th>\n",
       "      <th>site</th>\n",
       "      <th>source</th>\n",
       "      <th>AM_pathogenicity</th>\n",
       "      <th>substrate_sequence</th>\n",
       "      <th>substrate_species</th>\n",
       "      <th>sub_site</th>\n",
       "      <th>substrate_phosphoseq</th>\n",
       "      <th>position</th>\n",
       "      <th>site_seq</th>\n",
       "    </tr>\n",
       "  </thead>\n",
       "  <tbody>\n",
       "    <tr>\n",
       "      <th>0</th>\n",
       "      <td>A0A024R4G9</td>\n",
       "      <td>C19orf48 MGC13170 hCG_2008493</td>\n",
       "      <td>S20</td>\n",
       "      <td>psp</td>\n",
       "      <td>NaN</td>\n",
       "      <td>MTVLEAVLEIQAITGSRLLSMVPGPARPPGSCWDPTQCTRTWLLSH...</td>\n",
       "      <td>Homo sapiens (Human)</td>\n",
       "      <td>A0A024R4G9_S20</td>\n",
       "      <td>MTVLEAVLEIQAITGSRLLsMVPGPARPPGSCWDPTQCTRTWLLSH...</td>\n",
       "      <td>20</td>\n",
       "      <td>_MTVLEAVLEIQAITGSRLLsMVPGPARPPGSCWDPTQCTR</td>\n",
       "    </tr>\n",
       "    <tr>\n",
       "      <th>1</th>\n",
       "      <td>A0A075B6Q4</td>\n",
       "      <td>None</td>\n",
       "      <td>S24</td>\n",
       "      <td>ochoa</td>\n",
       "      <td>NaN</td>\n",
       "      <td>MDIQKSENEDDSEWEDVDDEKGDSNDDYDSAGLLSDEDCMSVPGKT...</td>\n",
       "      <td>Homo sapiens (Human)</td>\n",
       "      <td>A0A075B6Q4_S24</td>\n",
       "      <td>MDIQKSENEDDSEWEDVDDEKGDsNDDYDSAGLLsDEDCMSVPGKT...</td>\n",
       "      <td>24</td>\n",
       "      <td>QKSENEDDSEWEDVDDEKGDsNDDYDSAGLLsDEDCMSVPG</td>\n",
       "    </tr>\n",
       "    <tr>\n",
       "      <th>2</th>\n",
       "      <td>A0A075B6Q4</td>\n",
       "      <td>None</td>\n",
       "      <td>S35</td>\n",
       "      <td>ochoa</td>\n",
       "      <td>NaN</td>\n",
       "      <td>MDIQKSENEDDSEWEDVDDEKGDSNDDYDSAGLLSDEDCMSVPGKT...</td>\n",
       "      <td>Homo sapiens (Human)</td>\n",
       "      <td>A0A075B6Q4_S35</td>\n",
       "      <td>MDIQKSENEDDSEWEDVDDEKGDsNDDYDSAGLLsDEDCMSVPGKT...</td>\n",
       "      <td>35</td>\n",
       "      <td>EDVDDEKGDsNDDYDSAGLLsDEDCMSVPGKTHRAIADHLF</td>\n",
       "    </tr>\n",
       "    <tr>\n",
       "      <th>3</th>\n",
       "      <td>A0A075B6Q4</td>\n",
       "      <td>None</td>\n",
       "      <td>S57</td>\n",
       "      <td>ochoa</td>\n",
       "      <td>NaN</td>\n",
       "      <td>MDIQKSENEDDSEWEDVDDEKGDSNDDYDSAGLLSDEDCMSVPGKT...</td>\n",
       "      <td>Homo sapiens (Human)</td>\n",
       "      <td>A0A075B6Q4_S57</td>\n",
       "      <td>MDIQKSENEDDSEWEDVDDEKGDsNDDYDSAGLLsDEDCMSVPGKT...</td>\n",
       "      <td>57</td>\n",
       "      <td>EDCMSVPGKTHRAIADHLFWsEETKSRFTEYsMTssVMRRN</td>\n",
       "    </tr>\n",
       "    <tr>\n",
       "      <th>4</th>\n",
       "      <td>A0A075B6Q4</td>\n",
       "      <td>None</td>\n",
       "      <td>S68</td>\n",
       "      <td>ochoa</td>\n",
       "      <td>NaN</td>\n",
       "      <td>MDIQKSENEDDSEWEDVDDEKGDSNDDYDSAGLLSDEDCMSVPGKT...</td>\n",
       "      <td>Homo sapiens (Human)</td>\n",
       "      <td>A0A075B6Q4_S68</td>\n",
       "      <td>MDIQKSENEDDSEWEDVDDEKGDsNDDYDSAGLLsDEDCMSVPGKT...</td>\n",
       "      <td>68</td>\n",
       "      <td>RAIADHLFWsEETKSRFTEYsMTssVMRRNEQLTLHDERFE</td>\n",
       "    </tr>\n",
       "  </tbody>\n",
       "</table>\n",
       "</div>"
      ],
      "text/plain": [
       "  substrate_uniprot                substrate_genes site source  \\\n",
       "0        A0A024R4G9  C19orf48 MGC13170 hCG_2008493  S20    psp   \n",
       "1        A0A075B6Q4                           None  S24  ochoa   \n",
       "2        A0A075B6Q4                           None  S35  ochoa   \n",
       "3        A0A075B6Q4                           None  S57  ochoa   \n",
       "4        A0A075B6Q4                           None  S68  ochoa   \n",
       "\n",
       "   AM_pathogenicity                                 substrate_sequence  \\\n",
       "0               NaN  MTVLEAVLEIQAITGSRLLSMVPGPARPPGSCWDPTQCTRTWLLSH...   \n",
       "1               NaN  MDIQKSENEDDSEWEDVDDEKGDSNDDYDSAGLLSDEDCMSVPGKT...   \n",
       "2               NaN  MDIQKSENEDDSEWEDVDDEKGDSNDDYDSAGLLSDEDCMSVPGKT...   \n",
       "3               NaN  MDIQKSENEDDSEWEDVDDEKGDSNDDYDSAGLLSDEDCMSVPGKT...   \n",
       "4               NaN  MDIQKSENEDDSEWEDVDDEKGDSNDDYDSAGLLSDEDCMSVPGKT...   \n",
       "\n",
       "      substrate_species        sub_site  \\\n",
       "0  Homo sapiens (Human)  A0A024R4G9_S20   \n",
       "1  Homo sapiens (Human)  A0A075B6Q4_S24   \n",
       "2  Homo sapiens (Human)  A0A075B6Q4_S35   \n",
       "3  Homo sapiens (Human)  A0A075B6Q4_S57   \n",
       "4  Homo sapiens (Human)  A0A075B6Q4_S68   \n",
       "\n",
       "                                substrate_phosphoseq  position  \\\n",
       "0  MTVLEAVLEIQAITGSRLLsMVPGPARPPGSCWDPTQCTRTWLLSH...        20   \n",
       "1  MDIQKSENEDDSEWEDVDDEKGDsNDDYDSAGLLsDEDCMSVPGKT...        24   \n",
       "2  MDIQKSENEDDSEWEDVDDEKGDsNDDYDSAGLLsDEDCMSVPGKT...        35   \n",
       "3  MDIQKSENEDDSEWEDVDDEKGDsNDDYDSAGLLsDEDCMSVPGKT...        57   \n",
       "4  MDIQKSENEDDSEWEDVDDEKGDsNDDYDSAGLLsDEDCMSVPGKT...        68   \n",
       "\n",
       "                                    site_seq  \n",
       "0  _MTVLEAVLEIQAITGSRLLsMVPGPARPPGSCWDPTQCTR  \n",
       "1  QKSENEDDSEWEDVDDEKGDsNDDYDSAGLLsDEDCMSVPG  \n",
       "2  EDVDDEKGDsNDDYDSAGLLsDEDCMSVPGKTHRAIADHLF  \n",
       "3  EDCMSVPGKTHRAIADHLFWsEETKSRFTEYsMTssVMRRN  \n",
       "4  RAIADHLFWsEETKSRFTEYsMTssVMRRNEQLTLHDERFE  "
      ]
     },
     "execution_count": null,
     "metadata": {},
     "output_type": "execute_result"
    }
   ],
   "source": [
    "df=Data.get_human_site()\n",
    "df.head()"
   ]
  },
  {
   "cell_type": "code",
   "execution_count": null,
   "metadata": {},
   "outputs": [
    {
     "data": {
      "text/plain": [
       "0    _MTVLEAVLEIQAITGSRLLsMVPGPARPPGSCWDPTQCTR\n",
       "1    QKSENEDDSEWEDVDDEKGDsNDDYDSAGLLsDEDCMSVPG\n",
       "2    EDVDDEKGDsNDDYDSAGLLsDEDCMSVPGKTHRAIADHLF\n",
       "3    EDCMSVPGKTHRAIADHLFWsEETKSRFTEYsMTssVMRRN\n",
       "4    RAIADHLFWsEETKSRFTEYsMTssVMRRNEQLTLHDERFE\n",
       "Name: site_seq, dtype: object"
      ]
     },
     "execution_count": null,
     "metadata": {},
     "output_type": "execute_result"
    }
   ],
   "source": [
    "check_seq_df(df.head(),'site_seq')"
   ]
  },
  {
   "cell_type": "code",
   "execution_count": null,
   "metadata": {},
   "outputs": [],
   "source": [
    "#| export\n",
    "def validate_site(site_info,\n",
    "                  seq):\n",
    "    \"Validate site position residue match with site residue.\"\n",
    "    pos=int(site_info[1:])-1 # python index starts from zero\n",
    "    if pos >= len(seq) or pos < 0: \n",
    "        return int(False)\n",
    "    return int(seq[pos]==site_info[0])"
   ]
  },
  {
   "cell_type": "code",
   "execution_count": null,
   "metadata": {},
   "outputs": [],
   "source": [
    "site='S610'\n",
    "seq = 'MSVPSSLSQSAINANSHGGPALSLPLPLHAAHNQLLNAKLQATAVGPKDLRSAMGEGGGPEPGPANAKWLKEGQNQLRRAATAHRDQNRNVTLTLAEEASQEPEMAPLGPKGLIHLYSELELSAHNAANRGLRGPGLIISTQEQGPDEGEEKAAGEAEEEEEDDDDEEEEEDLSSPPGLPEPLESVEAPPRPQALTDGPREHSKSASLLFGMRNSAASDEDSSWATLSQGSPSYGSPEDTDSFWNPNAFETDSDLPAGWMRVQDTSGTYYWHIPTGTTQWEPPGRASPSQGSSPQEESQLTWTGFAHGEGFEDGEFWKDEPSDEAPMELGLKEPEEGTLTFPAQSLSPEPLPQEEEKLPPRNTNPGIKCFAVRSLGWVEMTEEELAPGRSSVAVNNCIRQLSYHKNNLHDPMSGGWGEGKDLLLQLEDETLKLVEPQSQALLHAQPIISIRVWGVGRDSGRERDFAYVARDKLTQMLKCHVFRCEAPAKNIATSLHEICSKIMAERRNARCLVNGLSLDHSKLVDVPFQVEFPAPKNELVQKFQVYYLGNVPVAKPVGVDVINGALESVLSSSSREQWTPSHVSVAPATLTILHQQTEAVLGECRVRFLSFLAVGRDVHTFAFIMAAGPASFCCHMFWCEPNAASLSEAVQAACMLRYQKCLDARSQASTSCLPAPPAESVARRVGWTVRRGVQSLWGSLKPKRLGAHTP'"
   ]
  },
  {
   "cell_type": "code",
   "execution_count": null,
   "metadata": {},
   "outputs": [
    {
     "data": {
      "text/plain": [
       "1"
      ]
     },
     "execution_count": null,
     "metadata": {},
     "output_type": "execute_result"
    }
   ],
   "source": [
    "validate_site(site,seq)"
   ]
  },
  {
   "cell_type": "code",
   "execution_count": null,
   "metadata": {},
   "outputs": [],
   "source": [
    "#| export\n",
    "def validate_site_df(df, \n",
    "                     site_info_col,\n",
    "                     protein_seq_col): \n",
    "    \"Validate site position residue match with site residue in a dataframe.\"\n",
    "    return df.apply(lambda r: validate_site(r[site_info_col],r[protein_seq_col]) , axis=1)"
   ]
  },
  {
   "cell_type": "code",
   "execution_count": null,
   "metadata": {},
   "outputs": [
    {
     "data": {
      "text/plain": [
       "0    1\n",
       "1    1\n",
       "2    1\n",
       "3    1\n",
       "4    1\n",
       "dtype: int64"
      ]
     },
     "execution_count": null,
     "metadata": {},
     "output_type": "execute_result"
    }
   ],
   "source": [
    "validate_site_df(df.head(),'site','substrate_sequence')"
   ]
  },
  {
   "cell_type": "markdown",
   "metadata": {},
   "source": [
    "## Phosphorylate protein seq"
   ]
  },
  {
   "cell_type": "code",
   "execution_count": null,
   "metadata": {},
   "outputs": [],
   "source": [
    "#| export\n",
    "def phosphorylate_seq(seq, # full protein sequence\n",
    "                      *sites, # site info, e.g., S140\n",
    "                      ):\n",
    "    \"Phosphorylate protein sequence based on phosphosites (e.g.,S140). \"\n",
    "    seq = list(seq)\n",
    "\n",
    "    for site in sites:\n",
    "        char = site[0] \n",
    "        position = int(site[1:]) - 1 # substract 1 as python index starts from 0\n",
    "\n",
    "        if 0 <= position < len(seq):\n",
    "            if seq[position] == char:\n",
    "                seq[position] = char.lower()  \n",
    "            else:\n",
    "                raise ValueError(f\"Mismatch at position {position+1}: expected {char}, found {seq[position]}\")\n",
    "        else:\n",
    "            raise IndexError(f\"Position {position+1} out of range for sequence length {len(seq)}\")\n",
    "\n",
    "    return ''.join(seq)"
   ]
  },
  {
   "cell_type": "code",
   "execution_count": null,
   "metadata": {},
   "outputs": [
    {
     "data": {
      "text/plain": [
       "'MSKSEsPKEPEQLRKLFIGGLsFEtTDESLRSHFEQWGTLTDCVVMRDPNTKRSRGFGFVTYATVEEVDAAMNARPHKVDGRVVEPKRAVSREDsQRPDAHLTVKKIFVGGIKEDTEEHHLRDYFEQYGKIEVIEIMTDRGSGKKRGFAFVTFDDHDsVDKIVIQKYHTVNGHNCEVRKALSKQEMASASSSQRGRSGSGNFGGGRGGGFGGNDNFGRGGNFSGRGGFGGSRGGGGYGGSGDGYNGFGNDGSNFGGGGSYNDFGNYNNQSSNFGPMKGGNFEGRSSGPHGGGGQYFAKPRNQGGYGGSSSSSSYGSGRRF'"
      ]
     },
     "execution_count": null,
     "metadata": {},
     "output_type": "execute_result"
    }
   ],
   "source": [
    "seq = 'MSKSESPKEPEQLRKLFIGGLSFETTDESLRSHFEQWGTLTDCVVMRDPNTKRSRGFGFVTYATVEEVDAAMNARPHKVDGRVVEPKRAVSREDSQRPDAHLTVKKIFVGGIKEDTEEHHLRDYFEQYGKIEVIEIMTDRGSGKKRGFAFVTFDDHDSVDKIVIQKYHTVNGHNCEVRKALSKQEMASASSSQRGRSGSGNFGGGRGGGFGGNDNFGRGGNFSGRGGFGGSRGGGGYGGSGDGYNGFGNDGSNFGGGGSYNDFGNYNNQSSNFGPMKGGNFEGRSSGPHGGGGQYFAKPRNQGGYGGSSSSSSYGSGRRF'\n",
    "phosphorylate_seq(seq,*['S95', 'S22', 'T25', 'S6', 'S158'])"
   ]
  },
  {
   "cell_type": "code",
   "execution_count": null,
   "metadata": {},
   "outputs": [],
   "source": [
    "#| export\n",
    "def phosphorylate_seq_df(df,\n",
    "                         id_col='substrate_uniprot', # column of sequence ID\n",
    "                         seq_col='substrate_sequence', # column that contains protein sequence\n",
    "                         site_col='site', # column that contains site info, e.g., S140\n",
    "                         \n",
    "                        ):\n",
    "    \"Phosphorylate whole sequence based on phosphosites in a dataframe\"\n",
    "    df_seq = df.groupby(id_col).agg({site_col:lambda r: r.unique(),seq_col:'first'}).reset_index()\n",
    "    df_seq['phosphoseq'] = df_seq.apply(lambda r: phosphorylate_seq(r[seq_col],*r[site_col]),axis=1)\n",
    "    return df_seq"
   ]
  },
  {
   "cell_type": "code",
   "execution_count": null,
   "metadata": {},
   "outputs": [
    {
     "data": {
      "text/html": [
       "<div>\n",
       "<style scoped>\n",
       "    .dataframe tbody tr th:only-of-type {\n",
       "        vertical-align: middle;\n",
       "    }\n",
       "\n",
       "    .dataframe tbody tr th {\n",
       "        vertical-align: top;\n",
       "    }\n",
       "\n",
       "    .dataframe thead th {\n",
       "        text-align: right;\n",
       "    }\n",
       "</style>\n",
       "<table border=\"1\" class=\"dataframe\">\n",
       "  <thead>\n",
       "    <tr style=\"text-align: right;\">\n",
       "      <th></th>\n",
       "      <th>substrate_uniprot</th>\n",
       "      <th>substrate_genes</th>\n",
       "      <th>site</th>\n",
       "      <th>source</th>\n",
       "      <th>AM_pathogenicity</th>\n",
       "      <th>substrate_sequence</th>\n",
       "      <th>substrate_species</th>\n",
       "      <th>sub_site</th>\n",
       "      <th>substrate_phosphoseq</th>\n",
       "      <th>position</th>\n",
       "      <th>site_seq</th>\n",
       "    </tr>\n",
       "  </thead>\n",
       "  <tbody>\n",
       "    <tr>\n",
       "      <th>0</th>\n",
       "      <td>A0A024R4G9</td>\n",
       "      <td>C19orf48 MGC13170 hCG_2008493</td>\n",
       "      <td>S20</td>\n",
       "      <td>psp</td>\n",
       "      <td>NaN</td>\n",
       "      <td>MTVLEAVLEIQAITGSRLLSMVPGPARPPGSCWDPTQCTRTWLLSH...</td>\n",
       "      <td>Homo sapiens (Human)</td>\n",
       "      <td>A0A024R4G9_S20</td>\n",
       "      <td>MTVLEAVLEIQAITGSRLLsMVPGPARPPGSCWDPTQCTRTWLLSH...</td>\n",
       "      <td>20</td>\n",
       "      <td>_MTVLEAVLEIQAITGSRLLsMVPGPARPPGSCWDPTQCTR</td>\n",
       "    </tr>\n",
       "    <tr>\n",
       "      <th>1</th>\n",
       "      <td>A0A075B6Q4</td>\n",
       "      <td>None</td>\n",
       "      <td>S24</td>\n",
       "      <td>ochoa</td>\n",
       "      <td>NaN</td>\n",
       "      <td>MDIQKSENEDDSEWEDVDDEKGDSNDDYDSAGLLSDEDCMSVPGKT...</td>\n",
       "      <td>Homo sapiens (Human)</td>\n",
       "      <td>A0A075B6Q4_S24</td>\n",
       "      <td>MDIQKSENEDDSEWEDVDDEKGDsNDDYDSAGLLsDEDCMSVPGKT...</td>\n",
       "      <td>24</td>\n",
       "      <td>QKSENEDDSEWEDVDDEKGDsNDDYDSAGLLsDEDCMSVPG</td>\n",
       "    </tr>\n",
       "    <tr>\n",
       "      <th>2</th>\n",
       "      <td>A0A075B6Q4</td>\n",
       "      <td>None</td>\n",
       "      <td>S35</td>\n",
       "      <td>ochoa</td>\n",
       "      <td>NaN</td>\n",
       "      <td>MDIQKSENEDDSEWEDVDDEKGDSNDDYDSAGLLSDEDCMSVPGKT...</td>\n",
       "      <td>Homo sapiens (Human)</td>\n",
       "      <td>A0A075B6Q4_S35</td>\n",
       "      <td>MDIQKSENEDDSEWEDVDDEKGDsNDDYDSAGLLsDEDCMSVPGKT...</td>\n",
       "      <td>35</td>\n",
       "      <td>EDVDDEKGDsNDDYDSAGLLsDEDCMSVPGKTHRAIADHLF</td>\n",
       "    </tr>\n",
       "    <tr>\n",
       "      <th>3</th>\n",
       "      <td>A0A075B6Q4</td>\n",
       "      <td>None</td>\n",
       "      <td>S57</td>\n",
       "      <td>ochoa</td>\n",
       "      <td>NaN</td>\n",
       "      <td>MDIQKSENEDDSEWEDVDDEKGDSNDDYDSAGLLSDEDCMSVPGKT...</td>\n",
       "      <td>Homo sapiens (Human)</td>\n",
       "      <td>A0A075B6Q4_S57</td>\n",
       "      <td>MDIQKSENEDDSEWEDVDDEKGDsNDDYDSAGLLsDEDCMSVPGKT...</td>\n",
       "      <td>57</td>\n",
       "      <td>EDCMSVPGKTHRAIADHLFWsEETKSRFTEYsMTssVMRRN</td>\n",
       "    </tr>\n",
       "    <tr>\n",
       "      <th>4</th>\n",
       "      <td>A0A075B6Q4</td>\n",
       "      <td>None</td>\n",
       "      <td>S68</td>\n",
       "      <td>ochoa</td>\n",
       "      <td>NaN</td>\n",
       "      <td>MDIQKSENEDDSEWEDVDDEKGDSNDDYDSAGLLSDEDCMSVPGKT...</td>\n",
       "      <td>Homo sapiens (Human)</td>\n",
       "      <td>A0A075B6Q4_S68</td>\n",
       "      <td>MDIQKSENEDDSEWEDVDDEKGDsNDDYDSAGLLsDEDCMSVPGKT...</td>\n",
       "      <td>68</td>\n",
       "      <td>RAIADHLFWsEETKSRFTEYsMTssVMRRNEQLTLHDERFE</td>\n",
       "    </tr>\n",
       "  </tbody>\n",
       "</table>\n",
       "</div>"
      ],
      "text/plain": [
       "  substrate_uniprot                substrate_genes site source  \\\n",
       "0        A0A024R4G9  C19orf48 MGC13170 hCG_2008493  S20    psp   \n",
       "1        A0A075B6Q4                           None  S24  ochoa   \n",
       "2        A0A075B6Q4                           None  S35  ochoa   \n",
       "3        A0A075B6Q4                           None  S57  ochoa   \n",
       "4        A0A075B6Q4                           None  S68  ochoa   \n",
       "\n",
       "   AM_pathogenicity                                 substrate_sequence  \\\n",
       "0               NaN  MTVLEAVLEIQAITGSRLLSMVPGPARPPGSCWDPTQCTRTWLLSH...   \n",
       "1               NaN  MDIQKSENEDDSEWEDVDDEKGDSNDDYDSAGLLSDEDCMSVPGKT...   \n",
       "2               NaN  MDIQKSENEDDSEWEDVDDEKGDSNDDYDSAGLLSDEDCMSVPGKT...   \n",
       "3               NaN  MDIQKSENEDDSEWEDVDDEKGDSNDDYDSAGLLSDEDCMSVPGKT...   \n",
       "4               NaN  MDIQKSENEDDSEWEDVDDEKGDSNDDYDSAGLLSDEDCMSVPGKT...   \n",
       "\n",
       "      substrate_species        sub_site  \\\n",
       "0  Homo sapiens (Human)  A0A024R4G9_S20   \n",
       "1  Homo sapiens (Human)  A0A075B6Q4_S24   \n",
       "2  Homo sapiens (Human)  A0A075B6Q4_S35   \n",
       "3  Homo sapiens (Human)  A0A075B6Q4_S57   \n",
       "4  Homo sapiens (Human)  A0A075B6Q4_S68   \n",
       "\n",
       "                                substrate_phosphoseq  position  \\\n",
       "0  MTVLEAVLEIQAITGSRLLsMVPGPARPPGSCWDPTQCTRTWLLSH...        20   \n",
       "1  MDIQKSENEDDSEWEDVDDEKGDsNDDYDSAGLLsDEDCMSVPGKT...        24   \n",
       "2  MDIQKSENEDDSEWEDVDDEKGDsNDDYDSAGLLsDEDCMSVPGKT...        35   \n",
       "3  MDIQKSENEDDSEWEDVDDEKGDsNDDYDSAGLLsDEDCMSVPGKT...        57   \n",
       "4  MDIQKSENEDDSEWEDVDDEKGDsNDDYDSAGLLsDEDCMSVPGKT...        68   \n",
       "\n",
       "                                    site_seq  \n",
       "0  _MTVLEAVLEIQAITGSRLLsMVPGPARPPGSCWDPTQCTR  \n",
       "1  QKSENEDDSEWEDVDDEKGDsNDDYDSAGLLsDEDCMSVPG  \n",
       "2  EDVDDEKGDsNDDYDSAGLLsDEDCMSVPGKTHRAIADHLF  \n",
       "3  EDCMSVPGKTHRAIADHLFWsEETKSRFTEYsMTssVMRRN  \n",
       "4  RAIADHLFWsEETKSRFTEYsMTssVMRRNEQLTLHDERFE  "
      ]
     },
     "execution_count": null,
     "metadata": {},
     "output_type": "execute_result"
    }
   ],
   "source": [
    "df=Data.get_human_site()\n",
    "df.head()"
   ]
  },
  {
   "cell_type": "code",
   "execution_count": null,
   "metadata": {},
   "outputs": [
    {
     "data": {
      "text/html": [
       "<div>\n",
       "<style scoped>\n",
       "    .dataframe tbody tr th:only-of-type {\n",
       "        vertical-align: middle;\n",
       "    }\n",
       "\n",
       "    .dataframe tbody tr th {\n",
       "        vertical-align: top;\n",
       "    }\n",
       "\n",
       "    .dataframe thead th {\n",
       "        text-align: right;\n",
       "    }\n",
       "</style>\n",
       "<table border=\"1\" class=\"dataframe\">\n",
       "  <thead>\n",
       "    <tr style=\"text-align: right;\">\n",
       "      <th></th>\n",
       "      <th>substrate_uniprot</th>\n",
       "      <th>site</th>\n",
       "      <th>substrate_sequence</th>\n",
       "      <th>phosphoseq</th>\n",
       "    </tr>\n",
       "  </thead>\n",
       "  <tbody>\n",
       "    <tr>\n",
       "      <th>0</th>\n",
       "      <td>A0A024R4G9</td>\n",
       "      <td>[S20]</td>\n",
       "      <td>MTVLEAVLEIQAITGSRLLSMVPGPARPPGSCWDPTQCTRTWLLSH...</td>\n",
       "      <td>MTVLEAVLEIQAITGSRLLsMVPGPARPPGSCWDPTQCTRTWLLSH...</td>\n",
       "    </tr>\n",
       "    <tr>\n",
       "      <th>1</th>\n",
       "      <td>A0A075B6Q4</td>\n",
       "      <td>[S24, S35, S57, S68, S71, S72]</td>\n",
       "      <td>MDIQKSENEDDSEWEDVDDEKGDSNDDYDSAGLLSDEDCMSVPGKT...</td>\n",
       "      <td>MDIQKSENEDDSEWEDVDDEKGDsNDDYDSAGLLsDEDCMSVPGKT...</td>\n",
       "    </tr>\n",
       "    <tr>\n",
       "      <th>...</th>\n",
       "      <td>...</td>\n",
       "      <td>...</td>\n",
       "      <td>...</td>\n",
       "      <td>...</td>\n",
       "    </tr>\n",
       "    <tr>\n",
       "      <th>22</th>\n",
       "      <td>A0A0A6YYL6</td>\n",
       "      <td>[S5, Y139, S141, S142]</td>\n",
       "      <td>MVRYSLDPENPTKSCKSRGSNLRVHFKNTRETAQAIKGMHIRKATK...</td>\n",
       "      <td>MVRYsLDPENPTKSCKSRGSNLRVHFKNTRETAQAIKGMHIRKATK...</td>\n",
       "    </tr>\n",
       "    <tr>\n",
       "      <th>23</th>\n",
       "      <td>A0A0B4J1R7</td>\n",
       "      <td>[T6, S43, S45, S46]</td>\n",
       "      <td>MMATGTPESQARFGQSVKGLLTEKVTTCGTDVIALTKQVLKGSRSS...</td>\n",
       "      <td>MMATGtPESQARFGQSVKGLLTEKVTTCGTDVIALTKQVLKGsRss...</td>\n",
       "    </tr>\n",
       "  </tbody>\n",
       "</table>\n",
       "<p>24 rows × 4 columns</p>\n",
       "</div>"
      ],
      "text/plain": [
       "   substrate_uniprot                            site  \\\n",
       "0         A0A024R4G9                           [S20]   \n",
       "1         A0A075B6Q4  [S24, S35, S57, S68, S71, S72]   \n",
       "..               ...                             ...   \n",
       "22        A0A0A6YYL6          [S5, Y139, S141, S142]   \n",
       "23        A0A0B4J1R7             [T6, S43, S45, S46]   \n",
       "\n",
       "                                   substrate_sequence  \\\n",
       "0   MTVLEAVLEIQAITGSRLLSMVPGPARPPGSCWDPTQCTRTWLLSH...   \n",
       "1   MDIQKSENEDDSEWEDVDDEKGDSNDDYDSAGLLSDEDCMSVPGKT...   \n",
       "..                                                ...   \n",
       "22  MVRYSLDPENPTKSCKSRGSNLRVHFKNTRETAQAIKGMHIRKATK...   \n",
       "23  MMATGTPESQARFGQSVKGLLTEKVTTCGTDVIALTKQVLKGSRSS...   \n",
       "\n",
       "                                           phosphoseq  \n",
       "0   MTVLEAVLEIQAITGSRLLsMVPGPARPPGSCWDPTQCTRTWLLSH...  \n",
       "1   MDIQKSENEDDSEWEDVDDEKGDsNDDYDSAGLLsDEDCMSVPGKT...  \n",
       "..                                                ...  \n",
       "22  MVRYsLDPENPTKSCKSRGSNLRVHFKNTRETAQAIKGMHIRKATK...  \n",
       "23  MMATGtPESQARFGQSVKGLLTEKVTTCGTDVIALTKQVLKGsRss...  \n",
       "\n",
       "[24 rows x 4 columns]"
      ]
     },
     "execution_count": null,
     "metadata": {},
     "output_type": "execute_result"
    }
   ],
   "source": [
    "phosphorylate_seq_df(df.head(100),'substrate_uniprot','substrate_sequence','site')"
   ]
  },
  {
   "cell_type": "markdown",
   "metadata": {},
   "source": [
    "## Extract site seq"
   ]
  },
  {
   "cell_type": "code",
   "execution_count": null,
   "metadata": {},
   "outputs": [],
   "source": [
    "#| export\n",
    "def extract_site_seq(df: pd.DataFrame, # dataframe that contains protein sequence\n",
    "                     seq_col: str, # column name of protein sequence\n",
    "                     site_col: str, # column name of site information (e.g., S10)\n",
    "                     n=7, # length of surrounding sequence (default -7 to +7)\n",
    "                    ):\n",
    "    \"Extract -n to +n site sequence from protein sequence\"\n",
    "    \n",
    "    data = []\n",
    "    for i, r in tqdm(df.iterrows(),total=len(df)):\n",
    "        position = int(r[site_col][1:]) - 1\n",
    "        start = position - n\n",
    "        end = position + n +1\n",
    "\n",
    "        # Extract the subsequence\n",
    "        subseq = r[seq_col][max(0, start):min(len(r[seq_col]), end)]\n",
    "\n",
    "        # Pad the subsequence if needed\n",
    "        if start < 0:\n",
    "            subseq = \"_\" * abs(start) + subseq\n",
    "        if end > len(r[seq_col]):\n",
    "            subseq = subseq + \"_\" * (end - len(r[seq_col]))\n",
    "\n",
    "        data.append(subseq)\n",
    "        \n",
    "    return np.array(data)"
   ]
  },
  {
   "cell_type": "markdown",
   "metadata": {},
   "source": [
    "As some datasets only contains protein information and position of phosphorylation sites, but not phosphorylation site sequence, we can retreive protein sequence and use this function to get -7 to +7 phosphorylation site sequence (as numpy array).\n",
    "\n",
    "Remember to validate the phospho-acceptor at position 0 before extract the site sequence, as there could be mismatch due to the protein sequence database updates."
   ]
  },
  {
   "cell_type": "code",
   "execution_count": null,
   "metadata": {},
   "outputs": [
    {
     "data": {
      "text/html": [
       "<div>\n",
       "<style scoped>\n",
       "    .dataframe tbody tr th:only-of-type {\n",
       "        vertical-align: middle;\n",
       "    }\n",
       "\n",
       "    .dataframe tbody tr th {\n",
       "        vertical-align: top;\n",
       "    }\n",
       "\n",
       "    .dataframe thead th {\n",
       "        text-align: right;\n",
       "    }\n",
       "</style>\n",
       "<table border=\"1\" class=\"dataframe\">\n",
       "  <thead>\n",
       "    <tr style=\"text-align: right;\">\n",
       "      <th></th>\n",
       "      <th>substrate_uniprot</th>\n",
       "      <th>substrate_genes</th>\n",
       "      <th>site</th>\n",
       "      <th>source</th>\n",
       "      <th>AM_pathogenicity</th>\n",
       "      <th>substrate_sequence</th>\n",
       "      <th>substrate_species</th>\n",
       "      <th>sub_site</th>\n",
       "      <th>substrate_phosphoseq</th>\n",
       "      <th>position</th>\n",
       "      <th>site_seq</th>\n",
       "    </tr>\n",
       "  </thead>\n",
       "  <tbody>\n",
       "    <tr>\n",
       "      <th>0</th>\n",
       "      <td>A0A024R4G9</td>\n",
       "      <td>C19orf48 MGC13170 hCG_2008493</td>\n",
       "      <td>S20</td>\n",
       "      <td>psp</td>\n",
       "      <td>NaN</td>\n",
       "      <td>MTVLEAVLEIQAITGSRLLSMVPGPARPPGSCWDPTQCTRTWLLSH...</td>\n",
       "      <td>Homo sapiens (Human)</td>\n",
       "      <td>A0A024R4G9_S20</td>\n",
       "      <td>MTVLEAVLEIQAITGSRLLsMVPGPARPPGSCWDPTQCTRTWLLSH...</td>\n",
       "      <td>20</td>\n",
       "      <td>_MTVLEAVLEIQAITGSRLLsMVPGPARPPGSCWDPTQCTR</td>\n",
       "    </tr>\n",
       "    <tr>\n",
       "      <th>1</th>\n",
       "      <td>A0A075B6Q4</td>\n",
       "      <td>None</td>\n",
       "      <td>S24</td>\n",
       "      <td>ochoa</td>\n",
       "      <td>NaN</td>\n",
       "      <td>MDIQKSENEDDSEWEDVDDEKGDSNDDYDSAGLLSDEDCMSVPGKT...</td>\n",
       "      <td>Homo sapiens (Human)</td>\n",
       "      <td>A0A075B6Q4_S24</td>\n",
       "      <td>MDIQKSENEDDSEWEDVDDEKGDsNDDYDSAGLLsDEDCMSVPGKT...</td>\n",
       "      <td>24</td>\n",
       "      <td>QKSENEDDSEWEDVDDEKGDsNDDYDSAGLLsDEDCMSVPG</td>\n",
       "    </tr>\n",
       "    <tr>\n",
       "      <th>2</th>\n",
       "      <td>A0A075B6Q4</td>\n",
       "      <td>None</td>\n",
       "      <td>S35</td>\n",
       "      <td>ochoa</td>\n",
       "      <td>NaN</td>\n",
       "      <td>MDIQKSENEDDSEWEDVDDEKGDSNDDYDSAGLLSDEDCMSVPGKT...</td>\n",
       "      <td>Homo sapiens (Human)</td>\n",
       "      <td>A0A075B6Q4_S35</td>\n",
       "      <td>MDIQKSENEDDSEWEDVDDEKGDsNDDYDSAGLLsDEDCMSVPGKT...</td>\n",
       "      <td>35</td>\n",
       "      <td>EDVDDEKGDsNDDYDSAGLLsDEDCMSVPGKTHRAIADHLF</td>\n",
       "    </tr>\n",
       "    <tr>\n",
       "      <th>3</th>\n",
       "      <td>A0A075B6Q4</td>\n",
       "      <td>None</td>\n",
       "      <td>S57</td>\n",
       "      <td>ochoa</td>\n",
       "      <td>NaN</td>\n",
       "      <td>MDIQKSENEDDSEWEDVDDEKGDSNDDYDSAGLLSDEDCMSVPGKT...</td>\n",
       "      <td>Homo sapiens (Human)</td>\n",
       "      <td>A0A075B6Q4_S57</td>\n",
       "      <td>MDIQKSENEDDSEWEDVDDEKGDsNDDYDSAGLLsDEDCMSVPGKT...</td>\n",
       "      <td>57</td>\n",
       "      <td>EDCMSVPGKTHRAIADHLFWsEETKSRFTEYsMTssVMRRN</td>\n",
       "    </tr>\n",
       "    <tr>\n",
       "      <th>4</th>\n",
       "      <td>A0A075B6Q4</td>\n",
       "      <td>None</td>\n",
       "      <td>S68</td>\n",
       "      <td>ochoa</td>\n",
       "      <td>NaN</td>\n",
       "      <td>MDIQKSENEDDSEWEDVDDEKGDSNDDYDSAGLLSDEDCMSVPGKT...</td>\n",
       "      <td>Homo sapiens (Human)</td>\n",
       "      <td>A0A075B6Q4_S68</td>\n",
       "      <td>MDIQKSENEDDSEWEDVDDEKGDsNDDYDSAGLLsDEDCMSVPGKT...</td>\n",
       "      <td>68</td>\n",
       "      <td>RAIADHLFWsEETKSRFTEYsMTssVMRRNEQLTLHDERFE</td>\n",
       "    </tr>\n",
       "  </tbody>\n",
       "</table>\n",
       "</div>"
      ],
      "text/plain": [
       "  substrate_uniprot                substrate_genes site source  \\\n",
       "0        A0A024R4G9  C19orf48 MGC13170 hCG_2008493  S20    psp   \n",
       "1        A0A075B6Q4                           None  S24  ochoa   \n",
       "2        A0A075B6Q4                           None  S35  ochoa   \n",
       "3        A0A075B6Q4                           None  S57  ochoa   \n",
       "4        A0A075B6Q4                           None  S68  ochoa   \n",
       "\n",
       "   AM_pathogenicity                                 substrate_sequence  \\\n",
       "0               NaN  MTVLEAVLEIQAITGSRLLSMVPGPARPPGSCWDPTQCTRTWLLSH...   \n",
       "1               NaN  MDIQKSENEDDSEWEDVDDEKGDSNDDYDSAGLLSDEDCMSVPGKT...   \n",
       "2               NaN  MDIQKSENEDDSEWEDVDDEKGDSNDDYDSAGLLSDEDCMSVPGKT...   \n",
       "3               NaN  MDIQKSENEDDSEWEDVDDEKGDSNDDYDSAGLLSDEDCMSVPGKT...   \n",
       "4               NaN  MDIQKSENEDDSEWEDVDDEKGDSNDDYDSAGLLSDEDCMSVPGKT...   \n",
       "\n",
       "      substrate_species        sub_site  \\\n",
       "0  Homo sapiens (Human)  A0A024R4G9_S20   \n",
       "1  Homo sapiens (Human)  A0A075B6Q4_S24   \n",
       "2  Homo sapiens (Human)  A0A075B6Q4_S35   \n",
       "3  Homo sapiens (Human)  A0A075B6Q4_S57   \n",
       "4  Homo sapiens (Human)  A0A075B6Q4_S68   \n",
       "\n",
       "                                substrate_phosphoseq  position  \\\n",
       "0  MTVLEAVLEIQAITGSRLLsMVPGPARPPGSCWDPTQCTRTWLLSH...        20   \n",
       "1  MDIQKSENEDDSEWEDVDDEKGDsNDDYDSAGLLsDEDCMSVPGKT...        24   \n",
       "2  MDIQKSENEDDSEWEDVDDEKGDsNDDYDSAGLLsDEDCMSVPGKT...        35   \n",
       "3  MDIQKSENEDDSEWEDVDDEKGDsNDDYDSAGLLsDEDCMSVPGKT...        57   \n",
       "4  MDIQKSENEDDSEWEDVDDEKGDsNDDYDSAGLLsDEDCMSVPGKT...        68   \n",
       "\n",
       "                                    site_seq  \n",
       "0  _MTVLEAVLEIQAITGSRLLsMVPGPARPPGSCWDPTQCTR  \n",
       "1  QKSENEDDSEWEDVDDEKGDsNDDYDSAGLLsDEDCMSVPG  \n",
       "2  EDVDDEKGDsNDDYDSAGLLsDEDCMSVPGKTHRAIADHLF  \n",
       "3  EDCMSVPGKTHRAIADHLFWsEETKSRFTEYsMTssVMRRN  \n",
       "4  RAIADHLFWsEETKSRFTEYsMTssVMRRNEQLTLHDERFE  "
      ]
     },
     "execution_count": null,
     "metadata": {},
     "output_type": "execute_result"
    }
   ],
   "source": [
    "df.head()"
   ]
  },
  {
   "cell_type": "code",
   "execution_count": null,
   "metadata": {},
   "outputs": [
    {
     "name": "stderr",
     "output_type": "stream",
     "text": [
      "100%|██████████| 5/5 [00:00<00:00, 4705.30it/s]\n"
     ]
    },
    {
     "data": {
      "text/plain": [
       "array(['___________MTVLEAVLEIQAITGSRLLSMVPGPARPPGSCWDPTQCTRTWLLSHTPRR',\n",
       "       '_______MDIQKSENEDDSEWEDVDDEKGDSNDDYDSAGLLSDEDCMSVPGKTHRAIADHL',\n",
       "       'KSENEDDSEWEDVDDEKGDSNDDYDSAGLLSDEDCMSVPGKTHRAIADHLFWSEETKSRFT',\n",
       "       'DYDSAGLLSDEDCMSVPGKTHRAIADHLFWSEETKSRFTEYSMTSSVMRRNEQLTLHDERF',\n",
       "       'DCMSVPGKTHRAIADHLFWSEETKSRFTEYSMTSSVMRRNEQLTLHDERFEKFYEQYDDDE'],\n",
       "      dtype='<U61')"
      ]
     },
     "execution_count": null,
     "metadata": {},
     "output_type": "execute_result"
    }
   ],
   "source": [
    "extract_site_seq(df.head(),\n",
    "                 seq_col='substrate_sequence',\n",
    "                 site_col='site',\n",
    "                 n=30\n",
    "                 )"
   ]
  },
  {
   "cell_type": "markdown",
   "metadata": {},
   "source": [
    "## Reactome pathway"
   ]
  },
  {
   "cell_type": "code",
   "execution_count": null,
   "metadata": {},
   "outputs": [],
   "source": [
    "#| export\n",
    "def get_reactome_raw(gene_list):\n",
    "    \"Reactome pathway analysis for a given gene set; returns raw output in dataframe.\"\n",
    "    gene_str = ','.join(gene_list)\n",
    "    # set page size and page to -1 ensures to display all pathway results, sort by pvalue instead of fdr, projection set to True is consistent with official web\n",
    "    result = analysis.identifiers(gene_str, page_size='-1', page='-1', sort_by='ENTITIES_PVALUE',projection=True)\n",
    "    return json_normalize(result['pathways'])"
   ]
  },
  {
   "cell_type": "code",
   "execution_count": null,
   "metadata": {},
   "outputs": [],
   "source": [
    "pi3ks=['PIK3CA','PIK3CB','PIK3CD','PIK3CG','PIK3R1','PIK3R2','PIK3R3','PTEN','AKT1','AKT2','AKT3','MTOR','RICTOR','RPTOR','TSC1','TSC2','PDK1','IRS1','IRS2','INSR','IGF1R','GAB1','HRAS','NRAS','KRAS','EGFR','ERBB2','ERBB3','ERBB4']"
   ]
  },
  {
   "cell_type": "code",
   "execution_count": null,
   "metadata": {},
   "outputs": [
    {
     "data": {
      "text/html": [
       "<div>\n",
       "<style scoped>\n",
       "    .dataframe tbody tr th:only-of-type {\n",
       "        vertical-align: middle;\n",
       "    }\n",
       "\n",
       "    .dataframe tbody tr th {\n",
       "        vertical-align: top;\n",
       "    }\n",
       "\n",
       "    .dataframe thead th {\n",
       "        text-align: right;\n",
       "    }\n",
       "</style>\n",
       "<table border=\"1\" class=\"dataframe\">\n",
       "  <thead>\n",
       "    <tr style=\"text-align: right;\">\n",
       "      <th></th>\n",
       "      <th>stId</th>\n",
       "      <th>dbId</th>\n",
       "      <th>name</th>\n",
       "      <th>llp</th>\n",
       "      <th>inDisease</th>\n",
       "      <th>species.dbId</th>\n",
       "      <th>species.taxId</th>\n",
       "      <th>species.name</th>\n",
       "      <th>entities.resource</th>\n",
       "      <th>entities.total</th>\n",
       "      <th>entities.found</th>\n",
       "      <th>entities.ratio</th>\n",
       "      <th>entities.pValue</th>\n",
       "      <th>entities.fdr</th>\n",
       "      <th>entities.exp</th>\n",
       "      <th>reactions.resource</th>\n",
       "      <th>reactions.total</th>\n",
       "      <th>reactions.found</th>\n",
       "      <th>reactions.ratio</th>\n",
       "    </tr>\n",
       "  </thead>\n",
       "  <tbody>\n",
       "    <tr>\n",
       "      <th>0</th>\n",
       "      <td>R-HSA-1963640</td>\n",
       "      <td>1963640</td>\n",
       "      <td>GRB2 events in ERBB2 signaling</td>\n",
       "      <td>True</td>\n",
       "      <td>False</td>\n",
       "      <td>48887</td>\n",
       "      <td>9606</td>\n",
       "      <td>Homo sapiens</td>\n",
       "      <td>TOTAL</td>\n",
       "      <td>21</td>\n",
       "      <td>9</td>\n",
       "      <td>0.001327</td>\n",
       "      <td>1.110223e-16</td>\n",
       "      <td>1.110223e-15</td>\n",
       "      <td>[]</td>\n",
       "      <td>TOTAL</td>\n",
       "      <td>4</td>\n",
       "      <td>4</td>\n",
       "      <td>0.000261</td>\n",
       "    </tr>\n",
       "    <tr>\n",
       "      <th>1</th>\n",
       "      <td>R-HSA-9665348</td>\n",
       "      <td>9665348</td>\n",
       "      <td>Signaling by ERBB2 ECD mutants</td>\n",
       "      <td>True</td>\n",
       "      <td>True</td>\n",
       "      <td>48887</td>\n",
       "      <td>9606</td>\n",
       "      <td>Homo sapiens</td>\n",
       "      <td>TOTAL</td>\n",
       "      <td>23</td>\n",
       "      <td>9</td>\n",
       "      <td>0.001453</td>\n",
       "      <td>1.110223e-16</td>\n",
       "      <td>1.110223e-15</td>\n",
       "      <td>[]</td>\n",
       "      <td>TOTAL</td>\n",
       "      <td>15</td>\n",
       "      <td>15</td>\n",
       "      <td>0.000978</td>\n",
       "    </tr>\n",
       "    <tr>\n",
       "      <th>2</th>\n",
       "      <td>R-HSA-9664565</td>\n",
       "      <td>9664565</td>\n",
       "      <td>Signaling by ERBB2 KD Mutants</td>\n",
       "      <td>True</td>\n",
       "      <td>True</td>\n",
       "      <td>48887</td>\n",
       "      <td>9606</td>\n",
       "      <td>Homo sapiens</td>\n",
       "      <td>TOTAL</td>\n",
       "      <td>35</td>\n",
       "      <td>13</td>\n",
       "      <td>0.002212</td>\n",
       "      <td>1.110223e-16</td>\n",
       "      <td>1.110223e-15</td>\n",
       "      <td>[]</td>\n",
       "      <td>TOTAL</td>\n",
       "      <td>17</td>\n",
       "      <td>17</td>\n",
       "      <td>0.001108</td>\n",
       "    </tr>\n",
       "    <tr>\n",
       "      <th>3</th>\n",
       "      <td>R-HSA-1227990</td>\n",
       "      <td>1227990</td>\n",
       "      <td>Signaling by ERBB2 in Cancer</td>\n",
       "      <td>False</td>\n",
       "      <td>True</td>\n",
       "      <td>48887</td>\n",
       "      <td>9606</td>\n",
       "      <td>Homo sapiens</td>\n",
       "      <td>TOTAL</td>\n",
       "      <td>36</td>\n",
       "      <td>13</td>\n",
       "      <td>0.002275</td>\n",
       "      <td>1.110223e-16</td>\n",
       "      <td>1.110223e-15</td>\n",
       "      <td>[]</td>\n",
       "      <td>TOTAL</td>\n",
       "      <td>62</td>\n",
       "      <td>62</td>\n",
       "      <td>0.004041</td>\n",
       "    </tr>\n",
       "    <tr>\n",
       "      <th>4</th>\n",
       "      <td>R-HSA-9665686</td>\n",
       "      <td>9665686</td>\n",
       "      <td>Signaling by ERBB2 TMD/JMD mutants</td>\n",
       "      <td>True</td>\n",
       "      <td>True</td>\n",
       "      <td>48887</td>\n",
       "      <td>9606</td>\n",
       "      <td>Homo sapiens</td>\n",
       "      <td>TOTAL</td>\n",
       "      <td>30</td>\n",
       "      <td>10</td>\n",
       "      <td>0.001896</td>\n",
       "      <td>1.110223e-16</td>\n",
       "      <td>1.110223e-15</td>\n",
       "      <td>[]</td>\n",
       "      <td>TOTAL</td>\n",
       "      <td>13</td>\n",
       "      <td>13</td>\n",
       "      <td>0.000847</td>\n",
       "    </tr>\n",
       "  </tbody>\n",
       "</table>\n",
       "</div>"
      ],
      "text/plain": [
       "            stId     dbId                                name    llp  \\\n",
       "0  R-HSA-1963640  1963640      GRB2 events in ERBB2 signaling   True   \n",
       "1  R-HSA-9665348  9665348      Signaling by ERBB2 ECD mutants   True   \n",
       "2  R-HSA-9664565  9664565       Signaling by ERBB2 KD Mutants   True   \n",
       "3  R-HSA-1227990  1227990        Signaling by ERBB2 in Cancer  False   \n",
       "4  R-HSA-9665686  9665686  Signaling by ERBB2 TMD/JMD mutants   True   \n",
       "\n",
       "   inDisease  species.dbId species.taxId  species.name entities.resource  \\\n",
       "0      False         48887          9606  Homo sapiens             TOTAL   \n",
       "1       True         48887          9606  Homo sapiens             TOTAL   \n",
       "2       True         48887          9606  Homo sapiens             TOTAL   \n",
       "3       True         48887          9606  Homo sapiens             TOTAL   \n",
       "4       True         48887          9606  Homo sapiens             TOTAL   \n",
       "\n",
       "   entities.total  entities.found  entities.ratio  entities.pValue  \\\n",
       "0              21               9        0.001327     1.110223e-16   \n",
       "1              23               9        0.001453     1.110223e-16   \n",
       "2              35              13        0.002212     1.110223e-16   \n",
       "3              36              13        0.002275     1.110223e-16   \n",
       "4              30              10        0.001896     1.110223e-16   \n",
       "\n",
       "   entities.fdr entities.exp reactions.resource  reactions.total  \\\n",
       "0  1.110223e-15           []              TOTAL                4   \n",
       "1  1.110223e-15           []              TOTAL               15   \n",
       "2  1.110223e-15           []              TOTAL               17   \n",
       "3  1.110223e-15           []              TOTAL               62   \n",
       "4  1.110223e-15           []              TOTAL               13   \n",
       "\n",
       "   reactions.found  reactions.ratio  \n",
       "0                4         0.000261  \n",
       "1               15         0.000978  \n",
       "2               17         0.001108  \n",
       "3               62         0.004041  \n",
       "4               13         0.000847  "
      ]
     },
     "execution_count": null,
     "metadata": {},
     "output_type": "execute_result"
    }
   ],
   "source": [
    "raw_out = get_reactome_raw(pi3ks)\n",
    "raw_out.head()"
   ]
  },
  {
   "cell_type": "code",
   "execution_count": null,
   "metadata": {},
   "outputs": [],
   "source": [
    "#| export\n",
    "def get_reactome(gene_list):\n",
    "    \"Reactome pathway analysis for a given gene set; returns formated output in dataframe with additional -log10(p)\"\n",
    "    out = get_reactome_raw(gene_list)\n",
    "    out = out[['name','entities.pValue']].rename(columns={'entities.pValue':'pValue'})\n",
    "    out['-log10_pValue'] = -np.log10(out['pValue']).round(3)\n",
    "    return out"
   ]
  },
  {
   "cell_type": "code",
   "execution_count": null,
   "metadata": {},
   "outputs": [
    {
     "data": {
      "text/html": [
       "<div>\n",
       "<style scoped>\n",
       "    .dataframe tbody tr th:only-of-type {\n",
       "        vertical-align: middle;\n",
       "    }\n",
       "\n",
       "    .dataframe tbody tr th {\n",
       "        vertical-align: top;\n",
       "    }\n",
       "\n",
       "    .dataframe thead th {\n",
       "        text-align: right;\n",
       "    }\n",
       "</style>\n",
       "<table border=\"1\" class=\"dataframe\">\n",
       "  <thead>\n",
       "    <tr style=\"text-align: right;\">\n",
       "      <th></th>\n",
       "      <th>name</th>\n",
       "      <th>pValue</th>\n",
       "      <th>-log10_pValue</th>\n",
       "    </tr>\n",
       "  </thead>\n",
       "  <tbody>\n",
       "    <tr>\n",
       "      <th>0</th>\n",
       "      <td>GRB2 events in ERBB2 signaling</td>\n",
       "      <td>1.110223e-16</td>\n",
       "      <td>15.955</td>\n",
       "    </tr>\n",
       "    <tr>\n",
       "      <th>1</th>\n",
       "      <td>Signaling by ERBB2 ECD mutants</td>\n",
       "      <td>1.110223e-16</td>\n",
       "      <td>15.955</td>\n",
       "    </tr>\n",
       "    <tr>\n",
       "      <th>2</th>\n",
       "      <td>Signaling by ERBB2 KD Mutants</td>\n",
       "      <td>1.110223e-16</td>\n",
       "      <td>15.955</td>\n",
       "    </tr>\n",
       "    <tr>\n",
       "      <th>3</th>\n",
       "      <td>Signaling by ERBB2 in Cancer</td>\n",
       "      <td>1.110223e-16</td>\n",
       "      <td>15.955</td>\n",
       "    </tr>\n",
       "    <tr>\n",
       "      <th>4</th>\n",
       "      <td>Signaling by ERBB2 TMD/JMD mutants</td>\n",
       "      <td>1.110223e-16</td>\n",
       "      <td>15.955</td>\n",
       "    </tr>\n",
       "  </tbody>\n",
       "</table>\n",
       "</div>"
      ],
      "text/plain": [
       "                                 name        pValue  -log10_pValue\n",
       "0      GRB2 events in ERBB2 signaling  1.110223e-16         15.955\n",
       "1      Signaling by ERBB2 ECD mutants  1.110223e-16         15.955\n",
       "2       Signaling by ERBB2 KD Mutants  1.110223e-16         15.955\n",
       "3        Signaling by ERBB2 in Cancer  1.110223e-16         15.955\n",
       "4  Signaling by ERBB2 TMD/JMD mutants  1.110223e-16         15.955"
      ]
     },
     "execution_count": null,
     "metadata": {},
     "output_type": "execute_result"
    }
   ],
   "source": [
    "format_out = get_reactome(pi3ks)\n",
    "format_out.head()"
   ]
  },
  {
   "cell_type": "code",
   "execution_count": null,
   "metadata": {},
   "outputs": [
    {
     "data": {
      "text/html": [
       "<div>\n",
       "<style scoped>\n",
       "    .dataframe tbody tr th:only-of-type {\n",
       "        vertical-align: middle;\n",
       "    }\n",
       "\n",
       "    .dataframe tbody tr th {\n",
       "        vertical-align: top;\n",
       "    }\n",
       "\n",
       "    .dataframe thead th {\n",
       "        text-align: right;\n",
       "    }\n",
       "</style>\n",
       "<table border=\"1\" class=\"dataframe\">\n",
       "  <thead>\n",
       "    <tr style=\"text-align: right;\">\n",
       "      <th></th>\n",
       "      <th>name</th>\n",
       "      <th>pValue</th>\n",
       "      <th>-log10_pValue</th>\n",
       "    </tr>\n",
       "  </thead>\n",
       "  <tbody>\n",
       "    <tr>\n",
       "      <th>0</th>\n",
       "      <td>GRB2 events in ERBB2 signaling</td>\n",
       "      <td>1.110223e-16</td>\n",
       "      <td>15.955</td>\n",
       "    </tr>\n",
       "    <tr>\n",
       "      <th>1</th>\n",
       "      <td>Signaling by ERBB2 ECD mutants</td>\n",
       "      <td>1.110223e-16</td>\n",
       "      <td>15.955</td>\n",
       "    </tr>\n",
       "    <tr>\n",
       "      <th>2</th>\n",
       "      <td>Signaling by ERBB2 KD Mutants</td>\n",
       "      <td>1.110223e-16</td>\n",
       "      <td>15.955</td>\n",
       "    </tr>\n",
       "    <tr>\n",
       "      <th>3</th>\n",
       "      <td>Signaling by ERBB2 in Cancer</td>\n",
       "      <td>1.110223e-16</td>\n",
       "      <td>15.955</td>\n",
       "    </tr>\n",
       "    <tr>\n",
       "      <th>4</th>\n",
       "      <td>Signaling by ERBB2 TMD/JMD mutants</td>\n",
       "      <td>1.110223e-16</td>\n",
       "      <td>15.955</td>\n",
       "    </tr>\n",
       "    <tr>\n",
       "      <th>...</th>\n",
       "      <td>...</td>\n",
       "      <td>...</td>\n",
       "      <td>...</td>\n",
       "    </tr>\n",
       "    <tr>\n",
       "      <th>391</th>\n",
       "      <td>Metabolism of vitamins and cofactors</td>\n",
       "      <td>6.436050e-01</td>\n",
       "      <td>0.191</td>\n",
       "    </tr>\n",
       "    <tr>\n",
       "      <th>392</th>\n",
       "      <td>Neutrophil degranulation</td>\n",
       "      <td>7.242278e-01</td>\n",
       "      <td>0.140</td>\n",
       "    </tr>\n",
       "    <tr>\n",
       "      <th>393</th>\n",
       "      <td>Metabolism of RNA</td>\n",
       "      <td>8.996551e-01</td>\n",
       "      <td>0.046</td>\n",
       "    </tr>\n",
       "    <tr>\n",
       "      <th>394</th>\n",
       "      <td>Post-translational protein modification</td>\n",
       "      <td>9.908668e-01</td>\n",
       "      <td>0.004</td>\n",
       "    </tr>\n",
       "    <tr>\n",
       "      <th>395</th>\n",
       "      <td>Metabolism of proteins</td>\n",
       "      <td>9.909976e-01</td>\n",
       "      <td>0.004</td>\n",
       "    </tr>\n",
       "  </tbody>\n",
       "</table>\n",
       "<p>396 rows × 3 columns</p>\n",
       "</div>"
      ],
      "text/plain": [
       "                                        name        pValue  -log10_pValue\n",
       "0             GRB2 events in ERBB2 signaling  1.110223e-16         15.955\n",
       "1             Signaling by ERBB2 ECD mutants  1.110223e-16         15.955\n",
       "2              Signaling by ERBB2 KD Mutants  1.110223e-16         15.955\n",
       "3               Signaling by ERBB2 in Cancer  1.110223e-16         15.955\n",
       "4         Signaling by ERBB2 TMD/JMD mutants  1.110223e-16         15.955\n",
       "..                                       ...           ...            ...\n",
       "391     Metabolism of vitamins and cofactors  6.436050e-01          0.191\n",
       "392                 Neutrophil degranulation  7.242278e-01          0.140\n",
       "393                        Metabolism of RNA  8.996551e-01          0.046\n",
       "394  Post-translational protein modification  9.908668e-01          0.004\n",
       "395                   Metabolism of proteins  9.909976e-01          0.004\n",
       "\n",
       "[396 rows x 3 columns]"
      ]
     },
     "execution_count": null,
     "metadata": {},
     "output_type": "execute_result"
    }
   ],
   "source": [
    "format_out"
   ]
  },
  {
   "cell_type": "code",
   "execution_count": null,
   "metadata": {},
   "outputs": [],
   "source": [
    "#| export\n",
    "def plot_path(react_out, top_n=10,max_label_length=80):\n",
    "    \"Plot the bar graph of pathways from get_reactome function.\"\n",
    "    \n",
    "    # Extract the data and reverse it\n",
    "    data = react_out.head(top_n).set_index('name')['-log10_pValue'].iloc[::-1]\n",
    "    \n",
    "    # Truncate labels if they are too long\n",
    "    truncated_labels = [label[:max_label_length] + '...' if len(label) > max_label_length else label for label in data.index]\n",
    "    data.index = truncated_labels\n",
    "\n",
    "    # Calculate the required width: base width + additional width for the longest label\n",
    "    base_width = 2\n",
    "    max_label_length = max(data.index, key=len)\n",
    "    additional_width = len(max_label_length) * 0.1  # Adjust scaling factor as needed\n",
    "    \n",
    "    figsize = (base_width + additional_width, 3*top_n/10)  # Adjust height as necessary\n",
    "\n",
    "    data.plot.barh(figsize=figsize)\n",
    "    plt.ylabel('')\n",
    "    plt.xlabel('-log10(p)')\n",
    "    plt.tight_layout()"
   ]
  },
  {
   "cell_type": "code",
   "execution_count": null,
   "metadata": {},
   "outputs": [
    {
     "data": {
      "image/png": "[encoded data removed]",
      "text/plain": [
       "<Figure size 690x300 with 1 Axes>"
      ]
     },
     "metadata": {},
     "output_type": "display_data"
    }
   ],
   "source": [
    "plot_path(format_out)\n",
    "plt.title('PI3K Pathways');"
   ]
  },
  {
   "cell_type": "code",
   "execution_count": null,
   "metadata": {},
   "outputs": [],
   "source": []
  },
  {
   "cell_type": "markdown",
   "metadata": {},
   "source": [
    "## End"
   ]
  },
  {
   "cell_type": "code",
   "execution_count": null,
   "metadata": {},
   "outputs": [
    {
     "name": "stderr",
     "output_type": "stream",
     "text": [
      "<unknown>:9: SyntaxWarning: invalid escape sequence '\\d'\n",
      "<unknown>:9: SyntaxWarning: invalid escape sequence '\\d'\n",
      "<unknown>:9: SyntaxWarning: invalid escape sequence '\\d'\n",
      "<unknown>:9: SyntaxWarning: invalid escape sequence '\\d'\n"
     ]
    }
   ],
   "source": [
    "#| hide\n",
    "import nbdev; nbdev.nbdev_export()"
   ]
  },
  {
   "cell_type": "code",
   "execution_count": null,
   "metadata": {},
   "outputs": [],
   "source": []
  }
 ],
 "metadata": {
  "kernelspec": {
   "display_name": "python3",
   "language": "python",
   "name": "python3"
  }
 },
 "nbformat": 4,
 "nbformat_minor": 4
}
