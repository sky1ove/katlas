{
 "cells": [
  {
   "cell_type": "raw",
   "id": "4ac6ceb5-8209-40b5-94e1-b8729b397f94",
   "metadata": {},
   "source": [
    "---\n",
    "skip_showdoc: true\n",
    "skip_exec: true\n",
    "---"
   ]
  },
  {
   "cell_type": "markdown",
   "id": "f25c63de-f70f-454a-8de3-f79b19a64d62",
   "metadata": {},
   "source": [
    "## ProT5 embeddings"
   ]
  },
  {
   "cell_type": "code",
   "execution_count": 1,
   "id": "1e792441-6894-443c-b531-55490eb18c67",
   "metadata": {},
   "outputs": [],
   "source": [
    "from katlas.feature import *\n",
    "import pandas as pd\n",
    "from katlas.data import *"
   ]
  },
  {
   "cell_type": "code",
   "execution_count": 2,
   "id": "d8e62257-32a2-43e6-b5ac-a86f2337aa0d",
   "metadata": {},
   "outputs": [],
   "source": [
    "# pip install git+https://github.com/sky1ove/kdock.git"
   ]
  },
  {
   "cell_type": "code",
   "execution_count": 3,
   "id": "c500034e-fb0c-4df0-8563-4cf09a1569ab",
   "metadata": {},
   "outputs": [],
   "source": [
    "from kdock.core.protein import *\n",
    "import time"
   ]
  },
  {
   "cell_type": "code",
   "execution_count": 4,
   "id": "d4853e16-01de-486c-a151-ebdb64a9211e",
   "metadata": {},
   "outputs": [],
   "source": [
    "from tqdm import tqdm\n",
    "tqdm.pandas()"
   ]
  },
  {
   "cell_type": "markdown",
   "id": "f613e4dc-c564-4354-b2e7-ce5e42b8dd35",
   "metadata": {},
   "source": [
    "## Extract T5 embeddings"
   ]
  },
  {
   "cell_type": "code",
   "execution_count": 5,
   "id": "6a07e2c6-3e97-4dc6-84dc-b2a7c4f80ae9",
   "metadata": {},
   "outputs": [],
   "source": [
    "df=Data.get_kinase_info()"
   ]
  },
  {
   "cell_type": "code",
   "execution_count": 6,
   "id": "bcbb605c-fff3-4e4a-bc6e-32d47f94e36f",
   "metadata": {},
   "outputs": [],
   "source": [
    "dd = df.sort_values('length',ascending=False).copy()"
   ]
  },
  {
   "cell_type": "code",
   "execution_count": 7,
   "id": "08649d22-faa4-4585-b1b3-c77109188a48",
   "metadata": {},
   "outputs": [
    {
     "data": {
      "text/html": [
       "<div>\n",
       "<style scoped>\n",
       "    .dataframe tbody tr th:only-of-type {\n",
       "        vertical-align: middle;\n",
       "    }\n",
       "\n",
       "    .dataframe tbody tr th {\n",
       "        vertical-align: top;\n",
       "    }\n",
       "\n",
       "    .dataframe thead th {\n",
       "        text-align: right;\n",
       "    }\n",
       "</style>\n",
       "<table border=\"1\" class=\"dataframe\">\n",
       "  <thead>\n",
       "    <tr style=\"text-align: right;\">\n",
       "      <th></th>\n",
       "      <th>kinase</th>\n",
       "      <th>ID_coral</th>\n",
       "      <th>uniprot</th>\n",
       "      <th>gene</th>\n",
       "      <th>modi_group</th>\n",
       "      <th>group</th>\n",
       "      <th>family</th>\n",
       "      <th>subfamily_coral</th>\n",
       "      <th>subfamily</th>\n",
       "      <th>in_pspa_st</th>\n",
       "      <th>...</th>\n",
       "      <th>cytosol</th>\n",
       "      <th>cytoskeleton</th>\n",
       "      <th>plasma membrane</th>\n",
       "      <th>mitochondrion</th>\n",
       "      <th>Golgi apparatus</th>\n",
       "      <th>endoplasmic reticulum</th>\n",
       "      <th>vesicle</th>\n",
       "      <th>centrosome</th>\n",
       "      <th>aggresome</th>\n",
       "      <th>main_location</th>\n",
       "    </tr>\n",
       "  </thead>\n",
       "  <tbody>\n",
       "    <tr>\n",
       "      <th>498</th>\n",
       "      <td>TTN</td>\n",
       "      <td>TTN</td>\n",
       "      <td>Q8WZ42</td>\n",
       "      <td>TTN</td>\n",
       "      <td>CAMK</td>\n",
       "      <td>CAMK</td>\n",
       "      <td>MLCK</td>\n",
       "      <td>NaN</td>\n",
       "      <td>MLCK</td>\n",
       "      <td>0</td>\n",
       "      <td>...</td>\n",
       "      <td>NaN</td>\n",
       "      <td>NaN</td>\n",
       "      <td>NaN</td>\n",
       "      <td>NaN</td>\n",
       "      <td>NaN</td>\n",
       "      <td>NaN</td>\n",
       "      <td>NaN</td>\n",
       "      <td>NaN</td>\n",
       "      <td>NaN</td>\n",
       "      <td>NaN</td>\n",
       "    </tr>\n",
       "    <tr>\n",
       "      <th>325</th>\n",
       "      <td>OBSCN</td>\n",
       "      <td>Obscn</td>\n",
       "      <td>Q5VST9</td>\n",
       "      <td>OBSCN</td>\n",
       "      <td>CAMK</td>\n",
       "      <td>CAMK</td>\n",
       "      <td>Trio</td>\n",
       "      <td>NaN</td>\n",
       "      <td>Trio</td>\n",
       "      <td>0</td>\n",
       "      <td>...</td>\n",
       "      <td>NaN</td>\n",
       "      <td>NaN</td>\n",
       "      <td>NaN</td>\n",
       "      <td>NaN</td>\n",
       "      <td>NaN</td>\n",
       "      <td>NaN</td>\n",
       "      <td>NaN</td>\n",
       "      <td>NaN</td>\n",
       "      <td>NaN</td>\n",
       "      <td>NaN</td>\n",
       "    </tr>\n",
       "    <tr>\n",
       "      <th>326</th>\n",
       "      <td>OBSCN_b</td>\n",
       "      <td>Obscn_b</td>\n",
       "      <td>Q5VST9</td>\n",
       "      <td>OBSCN</td>\n",
       "      <td>CAMK</td>\n",
       "      <td>CAMK</td>\n",
       "      <td>Trio</td>\n",
       "      <td>NaN</td>\n",
       "      <td>Trio</td>\n",
       "      <td>0</td>\n",
       "      <td>...</td>\n",
       "      <td>NaN</td>\n",
       "      <td>NaN</td>\n",
       "      <td>NaN</td>\n",
       "      <td>NaN</td>\n",
       "      <td>NaN</td>\n",
       "      <td>NaN</td>\n",
       "      <td>NaN</td>\n",
       "      <td>NaN</td>\n",
       "      <td>NaN</td>\n",
       "      <td>NaN</td>\n",
       "    </tr>\n",
       "    <tr>\n",
       "      <th>124</th>\n",
       "      <td>DNAPK</td>\n",
       "      <td>DNAPK</td>\n",
       "      <td>P78527</td>\n",
       "      <td>PRKDC</td>\n",
       "      <td>Atypical</td>\n",
       "      <td>Atypical</td>\n",
       "      <td>PIKK</td>\n",
       "      <td>DNAPK</td>\n",
       "      <td>DNAPK</td>\n",
       "      <td>1</td>\n",
       "      <td>...</td>\n",
       "      <td>NaN</td>\n",
       "      <td>NaN</td>\n",
       "      <td>NaN</td>\n",
       "      <td>NaN</td>\n",
       "      <td>NaN</td>\n",
       "      <td>NaN</td>\n",
       "      <td>NaN</td>\n",
       "      <td>NaN</td>\n",
       "      <td>NaN</td>\n",
       "      <td>NaN</td>\n",
       "    </tr>\n",
       "    <tr>\n",
       "      <th>490</th>\n",
       "      <td>TRRAP</td>\n",
       "      <td>TRRAP</td>\n",
       "      <td>Q9Y4A5</td>\n",
       "      <td>TRRAP</td>\n",
       "      <td>Atypical</td>\n",
       "      <td>Atypical</td>\n",
       "      <td>PIKK</td>\n",
       "      <td>TRRAP</td>\n",
       "      <td>TRRAP</td>\n",
       "      <td>0</td>\n",
       "      <td>...</td>\n",
       "      <td>NaN</td>\n",
       "      <td>NaN</td>\n",
       "      <td>NaN</td>\n",
       "      <td>NaN</td>\n",
       "      <td>NaN</td>\n",
       "      <td>NaN</td>\n",
       "      <td>NaN</td>\n",
       "      <td>NaN</td>\n",
       "      <td>NaN</td>\n",
       "      <td>NaN</td>\n",
       "    </tr>\n",
       "  </tbody>\n",
       "</table>\n",
       "<p>5 rows × 36 columns</p>\n",
       "</div>"
      ],
      "text/plain": [
       "      kinase ID_coral uniprot   gene modi_group     group family  \\\n",
       "498      TTN      TTN  Q8WZ42    TTN       CAMK      CAMK   MLCK   \n",
       "325    OBSCN    Obscn  Q5VST9  OBSCN       CAMK      CAMK   Trio   \n",
       "326  OBSCN_b  Obscn_b  Q5VST9  OBSCN       CAMK      CAMK   Trio   \n",
       "124    DNAPK    DNAPK  P78527  PRKDC   Atypical  Atypical   PIKK   \n",
       "490    TRRAP    TRRAP  Q9Y4A5  TRRAP   Atypical  Atypical   PIKK   \n",
       "\n",
       "    subfamily_coral subfamily  in_pspa_st  ...  cytosol  cytoskeleton  \\\n",
       "498             NaN      MLCK           0  ...      NaN           NaN   \n",
       "325             NaN      Trio           0  ...      NaN           NaN   \n",
       "326             NaN      Trio           0  ...      NaN           NaN   \n",
       "124           DNAPK     DNAPK           1  ...      NaN           NaN   \n",
       "490           TRRAP     TRRAP           0  ...      NaN           NaN   \n",
       "\n",
       "     plasma membrane mitochondrion  Golgi apparatus endoplasmic reticulum  \\\n",
       "498              NaN           NaN              NaN                   NaN   \n",
       "325              NaN           NaN              NaN                   NaN   \n",
       "326              NaN           NaN              NaN                   NaN   \n",
       "124              NaN           NaN              NaN                   NaN   \n",
       "490              NaN           NaN              NaN                   NaN   \n",
       "\n",
       "    vesicle centrosome aggresome main_location  \n",
       "498     NaN        NaN       NaN           NaN  \n",
       "325     NaN        NaN       NaN           NaN  \n",
       "326     NaN        NaN       NaN           NaN  \n",
       "124     NaN        NaN       NaN           NaN  \n",
       "490     NaN        NaN       NaN           NaN  \n",
       "\n",
       "[5 rows x 36 columns]"
      ]
     },
     "execution_count": 7,
     "metadata": {},
     "output_type": "execute_result"
    }
   ],
   "source": [
    "dd.head()\n",
    "# t5_feat = get_t5(dd.iloc[3:5],'human_uniprot_sequence')"
   ]
  },
  {
   "cell_type": "markdown",
   "id": "50d8b6f9-77b6-41db-85cb-56e952bb36f5",
   "metadata": {},
   "source": [
    "We skip TTN (34350), OBSCN(7968), OBSCN_b(7968) as OOM and start with DNAPK(4128)"
   ]
  },
  {
   "cell_type": "code",
   "execution_count": 8,
   "id": "78d7b47d-edc4-45cf-b619-714a7992ccab",
   "metadata": {},
   "outputs": [],
   "source": [
    "skip_kinase = ['TTN','OBSCN','OBSCN_b']\n",
    "\n",
    "df = df[~df.kinase.isin(skip_kinase)].copy()"
   ]
  },
  {
   "cell_type": "code",
   "execution_count": 9,
   "id": "776c5da5-f515-42be-b57f-c62e5b185d9b",
   "metadata": {},
   "outputs": [],
   "source": [
    "df['uniprot_gene'] = df.uniprot + '_' + df.gene\n",
    "\n",
    "df = df.drop_duplicates('uniprot_gene')\n",
    "\n",
    "df = df.set_index('uniprot_gene')"
   ]
  },
  {
   "cell_type": "code",
   "execution_count": 10,
   "id": "392d9ed9-f425-4b48-bc43-fc2d69f19fef",
   "metadata": {},
   "outputs": [],
   "source": [
    "# from transformers import T5Tokenizer, T5EncoderModel\n",
    "\n",
    "# tokenizer = T5Tokenizer.from_pretrained('Rostlab/prot_t5_xl_half_uniref50-enc', do_lower_case=False)\n",
    "\n",
    "#     # Load the model\n",
    "# model = T5EncoderModel.from_pretrained(\"Rostlab/prot_t5_xl_half_uniref50-enc\").to('cuda')"
   ]
  },
  {
   "cell_type": "code",
   "execution_count": 11,
   "id": "a5ca88f4-c6d0-42ba-a8af-b13b7ce5c89a",
   "metadata": {},
   "outputs": [
    {
     "data": {
      "application/vnd.jupyter.widget-view+json": {
       "model_id": "883fb8d782534137a1dc3fd80e03bebd",
       "version_major": 2,
       "version_minor": 0
      },
      "text/plain": [
       "tokenizer_config.json:   0%|          | 0.00/25.0 [00:00<?, ?B/s]"
      ]
     },
     "metadata": {},
     "output_type": "display_data"
    },
    {
     "data": {
      "application/vnd.jupyter.widget-view+json": {
       "model_id": "dcc93e6850064d5eb777f59110c8df51",
       "version_major": 2,
       "version_minor": 0
      },
      "text/plain": [
       "spiece.model:   0%|          | 0.00/238k [00:00<?, ?B/s]"
      ]
     },
     "metadata": {},
     "output_type": "display_data"
    },
    {
     "data": {
      "application/vnd.jupyter.widget-view+json": {
       "model_id": "d5f93198eacc491e99ffe6f954a6b606",
       "version_major": 2,
       "version_minor": 0
      },
      "text/plain": [
       "special_tokens_map.json: 0.00B [00:00, ?B/s]"
      ]
     },
     "metadata": {},
     "output_type": "display_data"
    },
    {
     "data": {
      "application/vnd.jupyter.widget-view+json": {
       "model_id": "1fd5e8f1aa664538864f22e55815398b",
       "version_major": 2,
       "version_minor": 0
      },
      "text/plain": [
       "config.json:   0%|          | 0.00/656 [00:00<?, ?B/s]"
      ]
     },
     "metadata": {},
     "output_type": "display_data"
    },
    {
     "name": "stderr",
     "output_type": "stream",
     "text": [
      "You are using the default legacy behaviour of the <class 'transformers.models.t5.tokenization_t5.T5Tokenizer'>. This is expected, and simply means that the `legacy` (previous) behavior will be used so nothing changes for you. If you want to use the new behaviour, set `legacy=False`. This should only be set if you understand what it means, and thoroughly read the reason why this was added as explained in https://github.com/huggingface/transformers/pull/24565\n"
     ]
    },
    {
     "data": {
      "application/vnd.jupyter.widget-view+json": {
       "model_id": "e89d76e5f274488392dfabe3d8a088e9",
       "version_major": 2,
       "version_minor": 0
      },
      "text/plain": [
       "pytorch_model.bin:   0%|          | 0.00/2.42G [00:00<?, ?B/s]"
      ]
     },
     "metadata": {},
     "output_type": "display_data"
    },
    {
     "name": "stderr",
     "output_type": "stream",
     "text": [
      "100%|███████████████████████████████████████████████████████████████████████████████████████████████████████████████████████| 5/5 [00:01<00:00,  2.91it/s]\n"
     ]
    }
   ],
   "source": [
    "t5_feat = get_t5(df.head(),'human_uniprot_sequence')"
   ]
  },
  {
   "cell_type": "code",
   "execution_count": null,
   "id": "7d40d7a3-cba2-4671-a1d9-9761db24988d",
   "metadata": {},
   "outputs": [],
   "source": [
    "# t5_feat.to_parquet('out/human_full_protein_t5.parquet')"
   ]
  },
  {
   "cell_type": "markdown",
   "id": "a5cc808b-611d-46db-bddd-3bb798f1f56a",
   "metadata": {},
   "source": [
    "## Hierarchical"
   ]
  },
  {
   "cell_type": "code",
   "execution_count": null,
   "id": "f18ba8dd-4a64-45fb-88b9-f2039bc84e4f",
   "metadata": {},
   "outputs": [],
   "source": [
    "from scipy.cluster.hierarchy import linkage, fcluster,dendrogram\n",
    "import matplotlib.pyplot as plt"
   ]
  },
  {
   "cell_type": "code",
   "execution_count": null,
   "id": "4e1930f3-c67c-4897-83d4-a1a82867f83f",
   "metadata": {},
   "outputs": [],
   "source": [
    "Z = linkage(t5_feat, method='ward')"
   ]
  },
  {
   "cell_type": "code",
   "execution_count": null,
   "id": "39e0f161-e2ba-4c73-85fd-166e6c46af92",
   "metadata": {},
   "outputs": [
    {
     "name": "stderr",
     "output_type": "stream",
     "text": [
      "F:\\git\\kkatlas\\katlas\\katlas\\pssm.py:616: SyntaxWarning: invalid escape sequence '\\d'\n",
      "  p['position'] = p.substrate.str.extract('(-?\\d+)')\n"
     ]
    }
   ],
   "source": [
    "from katlas.pssm import *"
   ]
  },
  {
   "cell_type": "code",
   "execution_count": null,
   "id": "805c979a-ebf2-4b38-8d80-0fb12518bc3c",
   "metadata": {},
   "outputs": [],
   "source": [
    "def plot_dendrogram2(Z,output='dendrogram.pdf',color_thr=0.03,**kwargs):\n",
    "    length=(len(Z)+1)//7\n",
    "    \n",
    "    plt.figure(figsize=(5,length))\n",
    "    dendrogram(Z, orientation='left', leaf_font_size=7, color_threshold=color_thr,**kwargs)\n",
    "    plt.title('Hierarchical Clustering Dendrogram')\n",
    "    plt.ylabel('Distance')\n",
    "    plt.rcParams['svg.fonttype'] = 'none'\n",
    "    plt.savefig(output, bbox_inches='tight')\n",
    "    plt.close()"
   ]
  },
  {
   "cell_type": "code",
   "execution_count": null,
   "id": "9e076046-ea13-49a6-b290-f576f96dbf29",
   "metadata": {},
   "outputs": [],
   "source": [
    "plot_dendrogram2(Z,output='hierarchical_full_kinase.svg',labels=t5_feat.index)"
   ]
  },
  {
   "cell_type": "code",
   "execution_count": null,
   "id": "0dc0d6cb-502e-4635-82b2-fb879a7baea6",
   "metadata": {},
   "outputs": [],
   "source": [
    "def plot_dendrogram3(Z, output='dendrogram.pdf', color_thr=0.01, **kwargs):\n",
    "    with plt.rc_context({'lines.linewidth': 0.3}):  # set default line width\n",
    "        plt.figure(figsize=(5, 100))\n",
    "        dendrogram(\n",
    "            Z,\n",
    "            orientation='left',\n",
    "            color_threshold=color_thr,\n",
    "            truncate_mode='level',\n",
    "            p=20,\n",
    "            leaf_font_size=1,\n",
    "            show_contracted=True,\n",
    "            **kwargs\n",
    "        )\n",
    "        plt.title('Hierarchical Clustering Dendrogram')\n",
    "        plt.ylabel('Distance')\n",
    "        plt.savefig(output, bbox_inches='tight')\n",
    "        plt.close()"
   ]
  },
  {
   "cell_type": "code",
   "execution_count": null,
   "id": "ff26515c-ff68-41a9-98f8-a4fb72747330",
   "metadata": {},
   "outputs": [],
   "source": [
    "plot_dendrogram3(Z,output='dendrogram_t5_full_protein.pdf',labels=t5_feat.index)"
   ]
  },
  {
   "cell_type": "markdown",
   "id": "72fec227-8fd1-483a-93d0-b04c9ef1eb94",
   "metadata": {},
   "source": [
    "## Fasta file"
   ]
  },
  {
   "cell_type": "code",
   "execution_count": null,
   "id": "55368305-c979-4021-abe5-b6f3be7d3cf8",
   "metadata": {},
   "outputs": [],
   "source": [
    "from katlas.utils import *\n",
    "from katlas.data import *"
   ]
  },
  {
   "cell_type": "code",
   "execution_count": null,
   "id": "1b038950-9e58-4dca-869b-a9d7662a4934",
   "metadata": {},
   "outputs": [],
   "source": [
    "df = Data.get_kinase_info()"
   ]
  },
  {
   "cell_type": "code",
   "execution_count": null,
   "id": "f75b81fc-4ebb-40d5-b748-68570b8af624",
   "metadata": {},
   "outputs": [],
   "source": [
    "skip_kinase = ['TTN','OBSCN','OBSCN_b']\n",
    "\n",
    "df = df[~df.kinase.isin(skip_kinase)].copy()"
   ]
  },
  {
   "cell_type": "code",
   "execution_count": null,
   "id": "fa8c4853-233e-4077-b4a3-8dd24f84e4f3",
   "metadata": {},
   "outputs": [],
   "source": [
    "df['uniprot_gene'] = df.uniprot + '_' + df.gene\n",
    "\n",
    "df = df.drop_duplicates('uniprot_gene')\n",
    "\n",
    "# df = df.set_index('uniprot_gene')"
   ]
  },
  {
   "cell_type": "code",
   "execution_count": null,
   "id": "475343a9-6469-414b-b670-58c35bf32dcf",
   "metadata": {},
   "outputs": [
    {
     "data": {
      "text/html": [
       "<div>\n",
       "<style scoped>\n",
       "    .dataframe tbody tr th:only-of-type {\n",
       "        vertical-align: middle;\n",
       "    }\n",
       "\n",
       "    .dataframe tbody tr th {\n",
       "        vertical-align: top;\n",
       "    }\n",
       "\n",
       "    .dataframe thead th {\n",
       "        text-align: right;\n",
       "    }\n",
       "</style>\n",
       "<table border=\"1\" class=\"dataframe\">\n",
       "  <thead>\n",
       "    <tr style=\"text-align: right;\">\n",
       "      <th></th>\n",
       "      <th>kinase</th>\n",
       "      <th>ID_coral</th>\n",
       "      <th>uniprot</th>\n",
       "      <th>gene</th>\n",
       "      <th>modi_group</th>\n",
       "      <th>group</th>\n",
       "      <th>family</th>\n",
       "      <th>subfamily_coral</th>\n",
       "      <th>subfamily</th>\n",
       "      <th>in_pspa_st</th>\n",
       "      <th>...</th>\n",
       "      <th>cytoskeleton</th>\n",
       "      <th>plasma membrane</th>\n",
       "      <th>mitochondrion</th>\n",
       "      <th>Golgi apparatus</th>\n",
       "      <th>endoplasmic reticulum</th>\n",
       "      <th>vesicle</th>\n",
       "      <th>centrosome</th>\n",
       "      <th>aggresome</th>\n",
       "      <th>main_location</th>\n",
       "      <th>uniprot_gene</th>\n",
       "    </tr>\n",
       "  </thead>\n",
       "  <tbody>\n",
       "    <tr>\n",
       "      <th>0</th>\n",
       "      <td>AAK1</td>\n",
       "      <td>AAK1</td>\n",
       "      <td>Q2M2I8</td>\n",
       "      <td>AAK1</td>\n",
       "      <td>Other</td>\n",
       "      <td>Other</td>\n",
       "      <td>NAK</td>\n",
       "      <td>NaN</td>\n",
       "      <td>NAK</td>\n",
       "      <td>1</td>\n",
       "      <td>...</td>\n",
       "      <td>NaN</td>\n",
       "      <td>NaN</td>\n",
       "      <td>NaN</td>\n",
       "      <td>NaN</td>\n",
       "      <td>NaN</td>\n",
       "      <td>NaN</td>\n",
       "      <td>NaN</td>\n",
       "      <td>NaN</td>\n",
       "      <td>NaN</td>\n",
       "      <td>Q2M2I8_AAK1</td>\n",
       "    </tr>\n",
       "    <tr>\n",
       "      <th>1</th>\n",
       "      <td>AATK</td>\n",
       "      <td>LMR1</td>\n",
       "      <td>Q6ZMQ8</td>\n",
       "      <td>AATK</td>\n",
       "      <td>TK</td>\n",
       "      <td>TK</td>\n",
       "      <td>Lmr</td>\n",
       "      <td>NaN</td>\n",
       "      <td>Lmr</td>\n",
       "      <td>0</td>\n",
       "      <td>...</td>\n",
       "      <td>NaN</td>\n",
       "      <td>NaN</td>\n",
       "      <td>NaN</td>\n",
       "      <td>NaN</td>\n",
       "      <td>NaN</td>\n",
       "      <td>NaN</td>\n",
       "      <td>NaN</td>\n",
       "      <td>NaN</td>\n",
       "      <td>NaN</td>\n",
       "      <td>Q6ZMQ8_AATK</td>\n",
       "    </tr>\n",
       "    <tr>\n",
       "      <th>2</th>\n",
       "      <td>ABL1</td>\n",
       "      <td>ABL1</td>\n",
       "      <td>P00519</td>\n",
       "      <td>ABL1</td>\n",
       "      <td>TK</td>\n",
       "      <td>TK</td>\n",
       "      <td>Abl</td>\n",
       "      <td>NaN</td>\n",
       "      <td>Abl</td>\n",
       "      <td>0</td>\n",
       "      <td>...</td>\n",
       "      <td>NaN</td>\n",
       "      <td>4.0</td>\n",
       "      <td>NaN</td>\n",
       "      <td>NaN</td>\n",
       "      <td>NaN</td>\n",
       "      <td>NaN</td>\n",
       "      <td>NaN</td>\n",
       "      <td>NaN</td>\n",
       "      <td>cytosol</td>\n",
       "      <td>P00519_ABL1</td>\n",
       "    </tr>\n",
       "    <tr>\n",
       "      <th>3</th>\n",
       "      <td>ABL2</td>\n",
       "      <td>ABL2</td>\n",
       "      <td>P42684</td>\n",
       "      <td>ABL2</td>\n",
       "      <td>TK</td>\n",
       "      <td>TK</td>\n",
       "      <td>Abl</td>\n",
       "      <td>NaN</td>\n",
       "      <td>Abl</td>\n",
       "      <td>0</td>\n",
       "      <td>...</td>\n",
       "      <td>6.0</td>\n",
       "      <td>NaN</td>\n",
       "      <td>NaN</td>\n",
       "      <td>NaN</td>\n",
       "      <td>NaN</td>\n",
       "      <td>NaN</td>\n",
       "      <td>NaN</td>\n",
       "      <td>NaN</td>\n",
       "      <td>cytoskeleton</td>\n",
       "      <td>P42684_ABL2</td>\n",
       "    </tr>\n",
       "    <tr>\n",
       "      <th>4</th>\n",
       "      <td>ACVR1C</td>\n",
       "      <td>ALK7</td>\n",
       "      <td>Q8NER5</td>\n",
       "      <td>ACVR1C</td>\n",
       "      <td>TKL</td>\n",
       "      <td>TKL</td>\n",
       "      <td>STKR</td>\n",
       "      <td>STKR1</td>\n",
       "      <td>STKR1</td>\n",
       "      <td>0</td>\n",
       "      <td>...</td>\n",
       "      <td>NaN</td>\n",
       "      <td>6.0</td>\n",
       "      <td>NaN</td>\n",
       "      <td>2.0</td>\n",
       "      <td>2.0</td>\n",
       "      <td>NaN</td>\n",
       "      <td>NaN</td>\n",
       "      <td>NaN</td>\n",
       "      <td>plasma membrane</td>\n",
       "      <td>Q8NER5_ACVR1C</td>\n",
       "    </tr>\n",
       "    <tr>\n",
       "      <th>...</th>\n",
       "      <td>...</td>\n",
       "      <td>...</td>\n",
       "      <td>...</td>\n",
       "      <td>...</td>\n",
       "      <td>...</td>\n",
       "      <td>...</td>\n",
       "      <td>...</td>\n",
       "      <td>...</td>\n",
       "      <td>...</td>\n",
       "      <td>...</td>\n",
       "      <td>...</td>\n",
       "      <td>...</td>\n",
       "      <td>...</td>\n",
       "      <td>...</td>\n",
       "      <td>...</td>\n",
       "      <td>...</td>\n",
       "      <td>...</td>\n",
       "      <td>...</td>\n",
       "      <td>...</td>\n",
       "      <td>...</td>\n",
       "      <td>...</td>\n",
       "    </tr>\n",
       "    <tr>\n",
       "      <th>518</th>\n",
       "      <td>YES1</td>\n",
       "      <td>YES</td>\n",
       "      <td>P07947</td>\n",
       "      <td>YES1</td>\n",
       "      <td>TK</td>\n",
       "      <td>TK</td>\n",
       "      <td>Src</td>\n",
       "      <td>NaN</td>\n",
       "      <td>Src</td>\n",
       "      <td>0</td>\n",
       "      <td>...</td>\n",
       "      <td>NaN</td>\n",
       "      <td>6.0</td>\n",
       "      <td>NaN</td>\n",
       "      <td>NaN</td>\n",
       "      <td>NaN</td>\n",
       "      <td>NaN</td>\n",
       "      <td>NaN</td>\n",
       "      <td>NaN</td>\n",
       "      <td>plasma membrane</td>\n",
       "      <td>P07947_YES1</td>\n",
       "    </tr>\n",
       "    <tr>\n",
       "      <th>519</th>\n",
       "      <td>YSK1</td>\n",
       "      <td>YSK1</td>\n",
       "      <td>O00506</td>\n",
       "      <td>STK25</td>\n",
       "      <td>STE</td>\n",
       "      <td>STE</td>\n",
       "      <td>STE20</td>\n",
       "      <td>YSK</td>\n",
       "      <td>YSK</td>\n",
       "      <td>1</td>\n",
       "      <td>...</td>\n",
       "      <td>NaN</td>\n",
       "      <td>NaN</td>\n",
       "      <td>NaN</td>\n",
       "      <td>4.0</td>\n",
       "      <td>NaN</td>\n",
       "      <td>NaN</td>\n",
       "      <td>NaN</td>\n",
       "      <td>NaN</td>\n",
       "      <td>cytosol</td>\n",
       "      <td>O00506_STK25</td>\n",
       "    </tr>\n",
       "    <tr>\n",
       "      <th>520</th>\n",
       "      <td>YSK4</td>\n",
       "      <td>MAP3K19</td>\n",
       "      <td>Q56UN5</td>\n",
       "      <td>MAP3K19</td>\n",
       "      <td>STE</td>\n",
       "      <td>STE</td>\n",
       "      <td>STE11</td>\n",
       "      <td>NaN</td>\n",
       "      <td>STE11</td>\n",
       "      <td>1</td>\n",
       "      <td>...</td>\n",
       "      <td>NaN</td>\n",
       "      <td>NaN</td>\n",
       "      <td>NaN</td>\n",
       "      <td>NaN</td>\n",
       "      <td>NaN</td>\n",
       "      <td>NaN</td>\n",
       "      <td>NaN</td>\n",
       "      <td>NaN</td>\n",
       "      <td>NaN</td>\n",
       "      <td>Q56UN5_MAP3K19</td>\n",
       "    </tr>\n",
       "    <tr>\n",
       "      <th>521</th>\n",
       "      <td>ZAK</td>\n",
       "      <td>ZAK</td>\n",
       "      <td>Q9NYL2</td>\n",
       "      <td>MAP3K20</td>\n",
       "      <td>TKL</td>\n",
       "      <td>TKL</td>\n",
       "      <td>MLK</td>\n",
       "      <td>ZAK</td>\n",
       "      <td>ZAK</td>\n",
       "      <td>1</td>\n",
       "      <td>...</td>\n",
       "      <td>NaN</td>\n",
       "      <td>NaN</td>\n",
       "      <td>NaN</td>\n",
       "      <td>NaN</td>\n",
       "      <td>NaN</td>\n",
       "      <td>NaN</td>\n",
       "      <td>NaN</td>\n",
       "      <td>NaN</td>\n",
       "      <td>nucleus</td>\n",
       "      <td>Q9NYL2_MAP3K20</td>\n",
       "    </tr>\n",
       "    <tr>\n",
       "      <th>522</th>\n",
       "      <td>ZAP70</td>\n",
       "      <td>ZAP70</td>\n",
       "      <td>P43403</td>\n",
       "      <td>ZAP70</td>\n",
       "      <td>TK</td>\n",
       "      <td>TK</td>\n",
       "      <td>Syk</td>\n",
       "      <td>NaN</td>\n",
       "      <td>Syk</td>\n",
       "      <td>0</td>\n",
       "      <td>...</td>\n",
       "      <td>NaN</td>\n",
       "      <td>2.0</td>\n",
       "      <td>NaN</td>\n",
       "      <td>NaN</td>\n",
       "      <td>NaN</td>\n",
       "      <td>NaN</td>\n",
       "      <td>NaN</td>\n",
       "      <td>NaN</td>\n",
       "      <td>cytosol</td>\n",
       "      <td>P43403_ZAP70</td>\n",
       "    </tr>\n",
       "  </tbody>\n",
       "</table>\n",
       "<p>507 rows × 37 columns</p>\n",
       "</div>"
      ],
      "text/plain": [
       "     kinase ID_coral uniprot     gene modi_group  group family  \\\n",
       "0      AAK1     AAK1  Q2M2I8     AAK1      Other  Other    NAK   \n",
       "1      AATK     LMR1  Q6ZMQ8     AATK         TK     TK    Lmr   \n",
       "2      ABL1     ABL1  P00519     ABL1         TK     TK    Abl   \n",
       "3      ABL2     ABL2  P42684     ABL2         TK     TK    Abl   \n",
       "4    ACVR1C     ALK7  Q8NER5   ACVR1C        TKL    TKL   STKR   \n",
       "..      ...      ...     ...      ...        ...    ...    ...   \n",
       "518    YES1      YES  P07947     YES1         TK     TK    Src   \n",
       "519    YSK1     YSK1  O00506    STK25        STE    STE  STE20   \n",
       "520    YSK4  MAP3K19  Q56UN5  MAP3K19        STE    STE  STE11   \n",
       "521     ZAK      ZAK  Q9NYL2  MAP3K20        TKL    TKL    MLK   \n",
       "522   ZAP70    ZAP70  P43403    ZAP70         TK     TK    Syk   \n",
       "\n",
       "    subfamily_coral subfamily  in_pspa_st  ...  cytoskeleton  plasma membrane  \\\n",
       "0               NaN       NAK           1  ...           NaN              NaN   \n",
       "1               NaN       Lmr           0  ...           NaN              NaN   \n",
       "2               NaN       Abl           0  ...           NaN              4.0   \n",
       "3               NaN       Abl           0  ...           6.0              NaN   \n",
       "4             STKR1     STKR1           0  ...           NaN              6.0   \n",
       "..              ...       ...         ...  ...           ...              ...   \n",
       "518             NaN       Src           0  ...           NaN              6.0   \n",
       "519             YSK       YSK           1  ...           NaN              NaN   \n",
       "520             NaN     STE11           1  ...           NaN              NaN   \n",
       "521             ZAK       ZAK           1  ...           NaN              NaN   \n",
       "522             NaN       Syk           0  ...           NaN              2.0   \n",
       "\n",
       "     mitochondrion Golgi apparatus  endoplasmic reticulum vesicle centrosome  \\\n",
       "0              NaN             NaN                    NaN     NaN        NaN   \n",
       "1              NaN             NaN                    NaN     NaN        NaN   \n",
       "2              NaN             NaN                    NaN     NaN        NaN   \n",
       "3              NaN             NaN                    NaN     NaN        NaN   \n",
       "4              NaN             2.0                    2.0     NaN        NaN   \n",
       "..             ...             ...                    ...     ...        ...   \n",
       "518            NaN             NaN                    NaN     NaN        NaN   \n",
       "519            NaN             4.0                    NaN     NaN        NaN   \n",
       "520            NaN             NaN                    NaN     NaN        NaN   \n",
       "521            NaN             NaN                    NaN     NaN        NaN   \n",
       "522            NaN             NaN                    NaN     NaN        NaN   \n",
       "\n",
       "    aggresome    main_location    uniprot_gene  \n",
       "0         NaN              NaN     Q2M2I8_AAK1  \n",
       "1         NaN              NaN     Q6ZMQ8_AATK  \n",
       "2         NaN          cytosol     P00519_ABL1  \n",
       "3         NaN     cytoskeleton     P42684_ABL2  \n",
       "4         NaN  plasma membrane   Q8NER5_ACVR1C  \n",
       "..        ...              ...             ...  \n",
       "518       NaN  plasma membrane     P07947_YES1  \n",
       "519       NaN          cytosol    O00506_STK25  \n",
       "520       NaN              NaN  Q56UN5_MAP3K19  \n",
       "521       NaN          nucleus  Q9NYL2_MAP3K20  \n",
       "522       NaN          cytosol    P43403_ZAP70  \n",
       "\n",
       "[507 rows x 37 columns]"
      ]
     },
     "execution_count": null,
     "metadata": {},
     "output_type": "execute_result"
    }
   ],
   "source": [
    "df"
   ]
  },
  {
   "cell_type": "code",
   "execution_count": null,
   "id": "5c75c981-b678-4b84-8f26-8ee0afe8b06c",
   "metadata": {},
   "outputs": [
    {
     "name": "stdout",
     "output_type": "stream",
     "text": [
      "507\n"
     ]
    }
   ],
   "source": [
    "get_fasta(df,seq_col='human_uniprot_sequence',id_col='uniprot_gene',path='full_kinase_seq.fasta')"
   ]
  },
  {
   "cell_type": "code",
   "execution_count": null,
   "id": "6bba56ee-c2cf-4225-8a5d-3be1ff3910b1",
   "metadata": {},
   "outputs": [],
   "source": []
  },
  {
   "cell_type": "code",
   "execution_count": null,
   "id": "80e0e6ee-6523-47c4-8a4d-cd00ab3704c2",
   "metadata": {},
   "outputs": [],
   "source": []
  },
  {
   "cell_type": "code",
   "execution_count": null,
   "id": "b85d3616-4b8f-4955-bfd1-4ca476a5eb6a",
   "metadata": {},
   "outputs": [],
   "source": []
  },
  {
   "cell_type": "code",
   "execution_count": null,
   "id": "e3fa765b-6991-4ba6-9cbd-6748349a6afd",
   "metadata": {},
   "outputs": [],
   "source": []
  },
  {
   "cell_type": "code",
   "execution_count": null,
   "id": "5f0e90c3-6b21-4d81-a4e1-8ceaf9b52507",
   "metadata": {},
   "outputs": [],
   "source": [
    "from katlas.core import *"
   ]
  },
  {
   "cell_type": "code",
   "execution_count": null,
   "id": "15036175-dc87-4965-acd5-21ff0c4fb242",
   "metadata": {},
   "outputs": [],
   "source": [
    "pspa_df = pspa.set_index('kd_ID').iloc[:,5:]"
   ]
  },
  {
   "cell_type": "code",
   "execution_count": null,
   "id": "db5abda9-53fd-4f43-bc3f-f9340e626881",
   "metadata": {},
   "outputs": [],
   "source": [
    "def get_dendrogram_labels(order_index, # iterable list of the dendrogram indexes\n",
    "                          pssms, # df of flattened pssms with index as kd name\n",
    "                          color_thr=0.15\n",
    "                         ):\n",
    "    \n",
    "    labels = []\n",
    "    for idx in order_index:\n",
    "        if idx in pssms.index:\n",
    "            flat_pssm =pssms.loc[idx]\n",
    "            pssm_df = recover_pssm(flat_pssm)\n",
    "            norm_pssm_df = clean_zero_normalize(pssm_df)\n",
    "            seq = pssm_to_seq(norm_pssm_df, color_thr)\n",
    "            labels.append(idx + ': ' + seq)\n",
    "        else:\n",
    "            labels.append(idx)\n",
    "\n",
    "    return labels"
   ]
  },
  {
   "cell_type": "code",
   "execution_count": null,
   "id": "c9801e0c-36ad-432a-96c7-3358c95a0e52",
   "metadata": {},
   "outputs": [],
   "source": []
  },
  {
   "cell_type": "code",
   "execution_count": null,
   "id": "48110d1c-75c4-4c5a-b047-507f1b17a12a",
   "metadata": {},
   "outputs": [],
   "source": [
    "labels=get_dendrogram_labels(t5.index,pspa_df,0.15)"
   ]
  },
  {
   "cell_type": "code",
   "execution_count": null,
   "id": "8f1614d4-c5a3-438f-a2e5-68762f73252c",
   "metadata": {},
   "outputs": [
    {
     "data": {
      "text/html": [
       "<div>\n",
       "<style scoped>\n",
       "    .dataframe tbody tr th:only-of-type {\n",
       "        vertical-align: middle;\n",
       "    }\n",
       "\n",
       "    .dataframe tbody tr th {\n",
       "        vertical-align: top;\n",
       "    }\n",
       "\n",
       "    .dataframe thead th {\n",
       "        text-align: right;\n",
       "    }\n",
       "</style>\n",
       "<table border=\"1\" class=\"dataframe\">\n",
       "  <thead>\n",
       "    <tr style=\"text-align: right;\">\n",
       "      <th></th>\n",
       "      <th>-5P</th>\n",
       "      <th>-5G</th>\n",
       "      <th>-5A</th>\n",
       "      <th>-5C</th>\n",
       "      <th>-5S</th>\n",
       "      <th>-5T</th>\n",
       "      <th>-5V</th>\n",
       "      <th>-5I</th>\n",
       "      <th>-5L</th>\n",
       "      <th>-5M</th>\n",
       "      <th>...</th>\n",
       "      <th>4E</th>\n",
       "      <th>4s</th>\n",
       "      <th>4t</th>\n",
       "      <th>4y</th>\n",
       "      <th>0s</th>\n",
       "      <th>0t</th>\n",
       "      <th>0y</th>\n",
       "      <th>0S</th>\n",
       "      <th>0T</th>\n",
       "      <th>0Y</th>\n",
       "    </tr>\n",
       "    <tr>\n",
       "      <th>kd_ID</th>\n",
       "      <th></th>\n",
       "      <th></th>\n",
       "      <th></th>\n",
       "      <th></th>\n",
       "      <th></th>\n",
       "      <th></th>\n",
       "      <th></th>\n",
       "      <th></th>\n",
       "      <th></th>\n",
       "      <th></th>\n",
       "      <th></th>\n",
       "      <th></th>\n",
       "      <th></th>\n",
       "      <th></th>\n",
       "      <th></th>\n",
       "      <th></th>\n",
       "      <th></th>\n",
       "      <th></th>\n",
       "      <th></th>\n",
       "      <th></th>\n",
       "      <th></th>\n",
       "    </tr>\n",
       "  </thead>\n",
       "  <tbody>\n",
       "    <tr>\n",
       "      <th>P48729_KC1A_HUMAN_KD1</th>\n",
       "      <td>0.0843</td>\n",
       "      <td>0.0590</td>\n",
       "      <td>0.0664</td>\n",
       "      <td>0.0588</td>\n",
       "      <td>0.0590</td>\n",
       "      <td>0.0590</td>\n",
       "      <td>0.0459</td>\n",
       "      <td>0.0488</td>\n",
       "      <td>0.057</td>\n",
       "      <td>0.0530</td>\n",
       "      <td>...</td>\n",
       "      <td>0.0564</td>\n",
       "      <td>0.1808</td>\n",
       "      <td>0.1808</td>\n",
       "      <td>0.1458</td>\n",
       "      <td>1.0</td>\n",
       "      <td>0.1435</td>\n",
       "      <td>0.0</td>\n",
       "      <td>1.0</td>\n",
       "      <td>0.1435</td>\n",
       "      <td>0.0</td>\n",
       "    </tr>\n",
       "    <tr>\n",
       "      <th>Q8N752_KC1AL_HUMAN_KD1</th>\n",
       "      <td>0.0514</td>\n",
       "      <td>0.0528</td>\n",
       "      <td>0.0542</td>\n",
       "      <td>0.0535</td>\n",
       "      <td>0.0546</td>\n",
       "      <td>0.0546</td>\n",
       "      <td>0.0544</td>\n",
       "      <td>0.0645</td>\n",
       "      <td>0.064</td>\n",
       "      <td>0.0639</td>\n",
       "      <td>...</td>\n",
       "      <td>0.0512</td>\n",
       "      <td>0.0966</td>\n",
       "      <td>0.0966</td>\n",
       "      <td>0.1209</td>\n",
       "      <td>1.0</td>\n",
       "      <td>0.4354</td>\n",
       "      <td>0.0</td>\n",
       "      <td>1.0</td>\n",
       "      <td>0.4354</td>\n",
       "      <td>0.0</td>\n",
       "    </tr>\n",
       "  </tbody>\n",
       "</table>\n",
       "<p>2 rows × 213 columns</p>\n",
       "</div>"
      ],
      "text/plain": [
       "                           -5P     -5G     -5A     -5C     -5S     -5T  \\\n",
       "kd_ID                                                                    \n",
       "P48729_KC1A_HUMAN_KD1   0.0843  0.0590  0.0664  0.0588  0.0590  0.0590   \n",
       "Q8N752_KC1AL_HUMAN_KD1  0.0514  0.0528  0.0542  0.0535  0.0546  0.0546   \n",
       "\n",
       "                           -5V     -5I    -5L     -5M  ...      4E      4s  \\\n",
       "kd_ID                                                  ...                   \n",
       "P48729_KC1A_HUMAN_KD1   0.0459  0.0488  0.057  0.0530  ...  0.0564  0.1808   \n",
       "Q8N752_KC1AL_HUMAN_KD1  0.0544  0.0645  0.064  0.0639  ...  0.0512  0.0966   \n",
       "\n",
       "                            4t      4y   0s      0t   0y   0S      0T   0Y  \n",
       "kd_ID                                                                       \n",
       "P48729_KC1A_HUMAN_KD1   0.1808  0.1458  1.0  0.1435  0.0  1.0  0.1435  0.0  \n",
       "Q8N752_KC1AL_HUMAN_KD1  0.0966  0.1209  1.0  0.4354  0.0  1.0  0.4354  0.0  \n",
       "\n",
       "[2 rows x 213 columns]"
      ]
     },
     "execution_count": null,
     "metadata": {},
     "output_type": "execute_result"
    }
   ],
   "source": [
    "pspa_df[pspa_df.index.str.contains('KC1A')]"
   ]
  },
  {
   "cell_type": "code",
   "execution_count": null,
   "id": "5c949f8f-f4ce-48e2-8b6c-436a5b93ab54",
   "metadata": {},
   "outputs": [],
   "source": [
    "# labels = [i+': '+pssm_to_seq(recover_pssm(r),0.2) for i,r in pssms.iterrows()]"
   ]
  },
  {
   "cell_type": "code",
   "execution_count": null,
   "id": "5323fa24-c338-4842-9d1c-3e31be6cb075",
   "metadata": {},
   "outputs": [],
   "source": [
    "plot_dendrogram3(Z,labels =labels )"
   ]
  },
  {
   "cell_type": "code",
   "execution_count": null,
   "id": "da379027-624b-4d92-8dca-cf9e54d83b1b",
   "metadata": {},
   "outputs": [],
   "source": [
    "pspa_df2 = pspa_df.reset_index()"
   ]
  },
  {
   "cell_type": "code",
   "execution_count": null,
   "id": "001c9150-02e0-47c0-b17e-9143b5628d57",
   "metadata": {},
   "outputs": [
    {
     "data": {
      "text/plain": [
       "(362, 214)"
      ]
     },
     "execution_count": null,
     "metadata": {},
     "output_type": "execute_result"
    }
   ],
   "source": [
    "pspa_df2.shape"
   ]
  },
  {
   "cell_type": "code",
   "execution_count": null,
   "id": "b3e527e0-0215-46fa-a19d-eddd71093be6",
   "metadata": {},
   "outputs": [
    {
     "data": {
      "text/plain": [
       "Index(['-5P', '-5G', '-5A', '-5C', '-5S', '-5T', '-5V', '-5I', '-5L', '-5M',\n",
       "       ...\n",
       "       '4E', '4s', '4t', '4y', '0s', '0t', '0y', '0S', '0T', '0Y'],\n",
       "      dtype='object', length=213)"
      ]
     },
     "execution_count": null,
     "metadata": {},
     "output_type": "execute_result"
    }
   ],
   "source": [
    "pspa_df.columns"
   ]
  },
  {
   "cell_type": "code",
   "execution_count": null,
   "id": "311bac46-50da-41b8-9ebd-bb50619c9bde",
   "metadata": {},
   "outputs": [],
   "source": [
    "columns_to_fill = pspa_df.columns"
   ]
  },
  {
   "cell_type": "code",
   "execution_count": null,
   "id": "44e45da7-6d9f-4a77-992a-a9a5910098a0",
   "metadata": {},
   "outputs": [],
   "source": [
    "df = df.merge(pspa_df2,'left')"
   ]
  },
  {
   "cell_type": "code",
   "execution_count": null,
   "id": "6c269ec3-7258-4280-b774-5a3c33932ea1",
   "metadata": {},
   "outputs": [],
   "source": [
    "for col in columns_to_fill:\n",
    "    df[col] = df.groupby('kd_seq')[col].transform(lambda x: x.ffill().bfill())"
   ]
  },
  {
   "cell_type": "code",
   "execution_count": null,
   "id": "e7bd03c6-810a-4597-8d03-22e94f2f3626",
   "metadata": {},
   "outputs": [
    {
     "data": {
      "text/plain": [
       "362"
      ]
     },
     "execution_count": null,
     "metadata": {},
     "output_type": "execute_result"
    }
   ],
   "source": [
    "len(pspa_df2)"
   ]
  },
  {
   "cell_type": "code",
   "execution_count": null,
   "id": "0c0e34d2-8003-4d88-93aa-b6440ad0735e",
   "metadata": {},
   "outputs": [],
   "source": [
    "df2 = df.dropna(subset='4E')"
   ]
  },
  {
   "cell_type": "code",
   "execution_count": null,
   "id": "b9d9237c-731b-42f2-8826-73d179d85e17",
   "metadata": {},
   "outputs": [],
   "source": [
    "df2 = df2.set_index('kd_ID')[columns_to_fill]"
   ]
  },
  {
   "cell_type": "code",
   "execution_count": null,
   "id": "481e2ad7-6c3f-405a-93c7-03520ad3442d",
   "metadata": {},
   "outputs": [],
   "source": [
    "labels=get_dendrogram_labels(t5.index,df2,0.15)"
   ]
  },
  {
   "cell_type": "code",
   "execution_count": null,
   "id": "9d2f3296-486d-496c-97f3-fc160f74b73a",
   "metadata": {},
   "outputs": [],
   "source": [
    "plot_dendrogram3(Z,output='dendrogram_similarity_1.pdf',labels =labels )"
   ]
  },
  {
   "cell_type": "code",
   "execution_count": null,
   "id": "d4247d38-98d8-4376-9ed2-10b14537ded0",
   "metadata": {},
   "outputs": [],
   "source": []
  },
  {
   "cell_type": "code",
   "execution_count": null,
   "id": "58e0d331-00ba-460e-a8a7-1b3ecef74a46",
   "metadata": {},
   "outputs": [],
   "source": []
  },
  {
   "cell_type": "code",
   "execution_count": null,
   "id": "e4cd4a34-9a1e-4fd6-8e20-e7230bb8988f",
   "metadata": {},
   "outputs": [],
   "source": []
  },
  {
   "cell_type": "code",
   "execution_count": null,
   "id": "c873ab15-9cfb-49d8-bc7c-e2ffabc9ea14",
   "metadata": {},
   "outputs": [],
   "source": []
  },
  {
   "cell_type": "code",
   "execution_count": null,
   "id": "26268c42-b9e7-4217-977d-3a9eaeb635c3",
   "metadata": {},
   "outputs": [],
   "source": []
  },
  {
   "cell_type": "code",
   "execution_count": null,
   "id": "4b18fcbc-645b-4882-af64-9df968188d67",
   "metadata": {},
   "outputs": [],
   "source": []
  },
  {
   "cell_type": "code",
   "execution_count": null,
   "id": "4756ba7e-1463-41dc-9bf4-ec9e20ed286f",
   "metadata": {},
   "outputs": [],
   "source": []
  },
  {
   "cell_type": "markdown",
   "id": "4a738587-0f16-4996-8f82-9a93990f4e08",
   "metadata": {},
   "source": [
    "## Kinase domain"
   ]
  },
  {
   "cell_type": "code",
   "execution_count": null,
   "id": "622c2789-04c8-4afa-998c-5da9ae56f960",
   "metadata": {},
   "outputs": [
    {
     "ename": "FileNotFoundError",
     "evalue": "[Errno 2] No such file or directory: 'raw/uniprot_kd.xlsx'",
     "output_type": "error",
     "traceback": [
      "\u001b[31m---------------------------------------------------------------------------\u001b[39m",
      "\u001b[31mFileNotFoundError\u001b[39m                         Traceback (most recent call last)",
      "\u001b[36mCell\u001b[39m\u001b[36m \u001b[39m\u001b[32mIn[2]\u001b[39m\u001b[32m, line 1\u001b[39m\n\u001b[32m----> \u001b[39m\u001b[32m1\u001b[39m df = \u001b[43mpd\u001b[49m\u001b[43m.\u001b[49m\u001b[43mread_excel\u001b[49m\u001b[43m(\u001b[49m\u001b[33;43m'\u001b[39;49m\u001b[33;43mraw/uniprot_kd.xlsx\u001b[39;49m\u001b[33;43m'\u001b[39;49m\u001b[43m)\u001b[49m\n",
      "\u001b[36mFile \u001b[39m\u001b[32mf:\\git\\kkatlas\\.venv\\Lib\\site-packages\\pandas\\io\\excel\\_base.py:495\u001b[39m, in \u001b[36mread_excel\u001b[39m\u001b[34m(io, sheet_name, header, names, index_col, usecols, dtype, engine, converters, true_values, false_values, skiprows, nrows, na_values, keep_default_na, na_filter, verbose, parse_dates, date_parser, date_format, thousands, decimal, comment, skipfooter, storage_options, dtype_backend, engine_kwargs)\u001b[39m\n\u001b[32m    493\u001b[39m \u001b[38;5;28;01mif\u001b[39;00m \u001b[38;5;129;01mnot\u001b[39;00m \u001b[38;5;28misinstance\u001b[39m(io, ExcelFile):\n\u001b[32m    494\u001b[39m     should_close = \u001b[38;5;28;01mTrue\u001b[39;00m\n\u001b[32m--> \u001b[39m\u001b[32m495\u001b[39m     io = \u001b[43mExcelFile\u001b[49m\u001b[43m(\u001b[49m\n\u001b[32m    496\u001b[39m \u001b[43m        \u001b[49m\u001b[43mio\u001b[49m\u001b[43m,\u001b[49m\n\u001b[32m    497\u001b[39m \u001b[43m        \u001b[49m\u001b[43mstorage_options\u001b[49m\u001b[43m=\u001b[49m\u001b[43mstorage_options\u001b[49m\u001b[43m,\u001b[49m\n\u001b[32m    498\u001b[39m \u001b[43m        \u001b[49m\u001b[43mengine\u001b[49m\u001b[43m=\u001b[49m\u001b[43mengine\u001b[49m\u001b[43m,\u001b[49m\n\u001b[32m    499\u001b[39m \u001b[43m        \u001b[49m\u001b[43mengine_kwargs\u001b[49m\u001b[43m=\u001b[49m\u001b[43mengine_kwargs\u001b[49m\u001b[43m,\u001b[49m\n\u001b[32m    500\u001b[39m \u001b[43m    \u001b[49m\u001b[43m)\u001b[49m\n\u001b[32m    501\u001b[39m \u001b[38;5;28;01melif\u001b[39;00m engine \u001b[38;5;129;01mand\u001b[39;00m engine != io.engine:\n\u001b[32m    502\u001b[39m     \u001b[38;5;28;01mraise\u001b[39;00m \u001b[38;5;167;01mValueError\u001b[39;00m(\n\u001b[32m    503\u001b[39m         \u001b[33m\"\u001b[39m\u001b[33mEngine should not be specified when passing \u001b[39m\u001b[33m\"\u001b[39m\n\u001b[32m    504\u001b[39m         \u001b[33m\"\u001b[39m\u001b[33man ExcelFile - ExcelFile already has the engine set\u001b[39m\u001b[33m\"\u001b[39m\n\u001b[32m    505\u001b[39m     )\n",
      "\u001b[36mFile \u001b[39m\u001b[32mf:\\git\\kkatlas\\.venv\\Lib\\site-packages\\pandas\\io\\excel\\_base.py:1550\u001b[39m, in \u001b[36mExcelFile.__init__\u001b[39m\u001b[34m(self, path_or_buffer, engine, storage_options, engine_kwargs)\u001b[39m\n\u001b[32m   1548\u001b[39m     ext = \u001b[33m\"\u001b[39m\u001b[33mxls\u001b[39m\u001b[33m\"\u001b[39m\n\u001b[32m   1549\u001b[39m \u001b[38;5;28;01melse\u001b[39;00m:\n\u001b[32m-> \u001b[39m\u001b[32m1550\u001b[39m     ext = \u001b[43minspect_excel_format\u001b[49m\u001b[43m(\u001b[49m\n\u001b[32m   1551\u001b[39m \u001b[43m        \u001b[49m\u001b[43mcontent_or_path\u001b[49m\u001b[43m=\u001b[49m\u001b[43mpath_or_buffer\u001b[49m\u001b[43m,\u001b[49m\u001b[43m \u001b[49m\u001b[43mstorage_options\u001b[49m\u001b[43m=\u001b[49m\u001b[43mstorage_options\u001b[49m\n\u001b[32m   1552\u001b[39m \u001b[43m    \u001b[49m\u001b[43m)\u001b[49m\n\u001b[32m   1553\u001b[39m     \u001b[38;5;28;01mif\u001b[39;00m ext \u001b[38;5;129;01mis\u001b[39;00m \u001b[38;5;28;01mNone\u001b[39;00m:\n\u001b[32m   1554\u001b[39m         \u001b[38;5;28;01mraise\u001b[39;00m \u001b[38;5;167;01mValueError\u001b[39;00m(\n\u001b[32m   1555\u001b[39m             \u001b[33m\"\u001b[39m\u001b[33mExcel file format cannot be determined, you must specify \u001b[39m\u001b[33m\"\u001b[39m\n\u001b[32m   1556\u001b[39m             \u001b[33m\"\u001b[39m\u001b[33man engine manually.\u001b[39m\u001b[33m\"\u001b[39m\n\u001b[32m   1557\u001b[39m         )\n",
      "\u001b[36mFile \u001b[39m\u001b[32mf:\\git\\kkatlas\\.venv\\Lib\\site-packages\\pandas\\io\\excel\\_base.py:1402\u001b[39m, in \u001b[36minspect_excel_format\u001b[39m\u001b[34m(content_or_path, storage_options)\u001b[39m\n\u001b[32m   1399\u001b[39m \u001b[38;5;28;01mif\u001b[39;00m \u001b[38;5;28misinstance\u001b[39m(content_or_path, \u001b[38;5;28mbytes\u001b[39m):\n\u001b[32m   1400\u001b[39m     content_or_path = BytesIO(content_or_path)\n\u001b[32m-> \u001b[39m\u001b[32m1402\u001b[39m \u001b[38;5;28;01mwith\u001b[39;00m \u001b[43mget_handle\u001b[49m\u001b[43m(\u001b[49m\n\u001b[32m   1403\u001b[39m \u001b[43m    \u001b[49m\u001b[43mcontent_or_path\u001b[49m\u001b[43m,\u001b[49m\u001b[43m \u001b[49m\u001b[33;43m\"\u001b[39;49m\u001b[33;43mrb\u001b[39;49m\u001b[33;43m\"\u001b[39;49m\u001b[43m,\u001b[49m\u001b[43m \u001b[49m\u001b[43mstorage_options\u001b[49m\u001b[43m=\u001b[49m\u001b[43mstorage_options\u001b[49m\u001b[43m,\u001b[49m\u001b[43m \u001b[49m\u001b[43mis_text\u001b[49m\u001b[43m=\u001b[49m\u001b[38;5;28;43;01mFalse\u001b[39;49;00m\n\u001b[32m   1404\u001b[39m \u001b[43m\u001b[49m\u001b[43m)\u001b[49m \u001b[38;5;28;01mas\u001b[39;00m handle:\n\u001b[32m   1405\u001b[39m     stream = handle.handle\n\u001b[32m   1406\u001b[39m     stream.seek(\u001b[32m0\u001b[39m)\n",
      "\u001b[36mFile \u001b[39m\u001b[32mf:\\git\\kkatlas\\.venv\\Lib\\site-packages\\pandas\\io\\common.py:882\u001b[39m, in \u001b[36mget_handle\u001b[39m\u001b[34m(path_or_buf, mode, encoding, compression, memory_map, is_text, errors, storage_options)\u001b[39m\n\u001b[32m    873\u001b[39m         handle = \u001b[38;5;28mopen\u001b[39m(\n\u001b[32m    874\u001b[39m             handle,\n\u001b[32m    875\u001b[39m             ioargs.mode,\n\u001b[32m   (...)\u001b[39m\u001b[32m    878\u001b[39m             newline=\u001b[33m\"\u001b[39m\u001b[33m\"\u001b[39m,\n\u001b[32m    879\u001b[39m         )\n\u001b[32m    880\u001b[39m     \u001b[38;5;28;01melse\u001b[39;00m:\n\u001b[32m    881\u001b[39m         \u001b[38;5;66;03m# Binary mode\u001b[39;00m\n\u001b[32m--> \u001b[39m\u001b[32m882\u001b[39m         handle = \u001b[38;5;28;43mopen\u001b[39;49m\u001b[43m(\u001b[49m\u001b[43mhandle\u001b[49m\u001b[43m,\u001b[49m\u001b[43m \u001b[49m\u001b[43mioargs\u001b[49m\u001b[43m.\u001b[49m\u001b[43mmode\u001b[49m\u001b[43m)\u001b[49m\n\u001b[32m    883\u001b[39m     handles.append(handle)\n\u001b[32m    885\u001b[39m \u001b[38;5;66;03m# Convert BytesIO or file objects passed with an encoding\u001b[39;00m\n",
      "\u001b[31mFileNotFoundError\u001b[39m: [Errno 2] No such file or directory: 'raw/uniprot_kd.xlsx'"
     ]
    }
   ],
   "source": [
    "df = pd.read_excel('raw/uniprot_kd.xlsx')"
   ]
  },
  {
   "cell_type": "code",
   "execution_count": null,
   "id": "bec8e693-52a5-4e6c-b4fd-2e3728aa06af",
   "metadata": {},
   "outputs": [
    {
     "data": {
      "text/plain": [
       "(5536, 27)"
      ]
     },
     "execution_count": null,
     "metadata": {},
     "output_type": "execute_result"
    }
   ],
   "source": [
    "df.shape"
   ]
  },
  {
   "cell_type": "code",
   "execution_count": null,
   "id": "0d1997f7-240d-4ca4-b153-0c23f585ac0e",
   "metadata": {},
   "outputs": [
    {
     "data": {
      "application/vnd.jupyter.widget-view+json": {
       "model_id": "1c9deb82f34042b3b4ad1eab87f7f891",
       "version_major": 2,
       "version_minor": 0
      },
      "text/plain": [
       "  0%|          | 0/5536 [00:00<?, ?it/s]"
      ]
     },
     "metadata": {},
     "output_type": "display_data"
    }
   ],
   "source": [
    "t5feature = get_t5(df,'kd_seq')"
   ]
  },
  {
   "cell_type": "code",
   "execution_count": null,
   "id": "555db729-035f-4f5a-a695-1681509d2f05",
   "metadata": {},
   "outputs": [],
   "source": [
    "t5feature_df = t5feature.set_index(df.kd_ID)"
   ]
  },
  {
   "cell_type": "code",
   "execution_count": null,
   "id": "a991573e-8852-4cab-82c4-4e6f4f3af804",
   "metadata": {},
   "outputs": [],
   "source": [
    "# t5feature_df.to_parquet('out/uniprot_kd_t5.parquet')"
   ]
  },
  {
   "cell_type": "markdown",
   "id": "f8d9c9ba-bd48-4804-aa1a-1c7ed94fd5d6",
   "metadata": {},
   "source": [
    "## Load"
   ]
  },
  {
   "cell_type": "code",
   "execution_count": null,
   "id": "4948edb0-6e67-4766-9df7-22361a61836a",
   "metadata": {},
   "outputs": [],
   "source": [
    "import pandas as pd"
   ]
  },
  {
   "cell_type": "code",
   "execution_count": null,
   "id": "db3cb349-2593-455c-a477-8542ec304052",
   "metadata": {},
   "outputs": [],
   "source": [
    "t5=pd.read_parquet('out/uniprot_kd_t5.parquet')"
   ]
  },
  {
   "cell_type": "code",
   "execution_count": null,
   "id": "04211ce2-77bf-4ca5-9ae3-8081d8018b5e",
   "metadata": {},
   "outputs": [],
   "source": [
    "human = t5.loc[t5.index.str.contains('HUMAN')]"
   ]
  },
  {
   "cell_type": "code",
   "execution_count": null,
   "id": "87075036-90fe-4fd7-b254-81622795a834",
   "metadata": {},
   "outputs": [
    {
     "data": {
      "text/html": [
       "<div>\n",
       "<style scoped>\n",
       "    .dataframe tbody tr th:only-of-type {\n",
       "        vertical-align: middle;\n",
       "    }\n",
       "\n",
       "    .dataframe tbody tr th {\n",
       "        vertical-align: top;\n",
       "    }\n",
       "\n",
       "    .dataframe thead th {\n",
       "        text-align: right;\n",
       "    }\n",
       "</style>\n",
       "<table border=\"1\" class=\"dataframe\">\n",
       "  <thead>\n",
       "    <tr style=\"text-align: right;\">\n",
       "      <th></th>\n",
       "      <th>T5_0</th>\n",
       "      <th>T5_1</th>\n",
       "      <th>T5_2</th>\n",
       "      <th>T5_3</th>\n",
       "      <th>T5_4</th>\n",
       "      <th>T5_5</th>\n",
       "      <th>T5_6</th>\n",
       "      <th>T5_7</th>\n",
       "      <th>T5_8</th>\n",
       "      <th>T5_9</th>\n",
       "      <th>...</th>\n",
       "      <th>T5_1014</th>\n",
       "      <th>T5_1015</th>\n",
       "      <th>T5_1016</th>\n",
       "      <th>T5_1017</th>\n",
       "      <th>T5_1018</th>\n",
       "      <th>T5_1019</th>\n",
       "      <th>T5_1020</th>\n",
       "      <th>T5_1021</th>\n",
       "      <th>T5_1022</th>\n",
       "      <th>T5_1023</th>\n",
       "    </tr>\n",
       "    <tr>\n",
       "      <th>kd_ID</th>\n",
       "      <th></th>\n",
       "      <th></th>\n",
       "      <th></th>\n",
       "      <th></th>\n",
       "      <th></th>\n",
       "      <th></th>\n",
       "      <th></th>\n",
       "      <th></th>\n",
       "      <th></th>\n",
       "      <th></th>\n",
       "      <th></th>\n",
       "      <th></th>\n",
       "      <th></th>\n",
       "      <th></th>\n",
       "      <th></th>\n",
       "      <th></th>\n",
       "      <th></th>\n",
       "      <th></th>\n",
       "      <th></th>\n",
       "      <th></th>\n",
       "      <th></th>\n",
       "    </tr>\n",
       "  </thead>\n",
       "  <tbody>\n",
       "    <tr>\n",
       "      <th>A4D2B8_PM2P1_HUMAN_KD1</th>\n",
       "      <td>0.036774</td>\n",
       "      <td>0.059082</td>\n",
       "      <td>0.017517</td>\n",
       "      <td>0.029770</td>\n",
       "      <td>-0.031342</td>\n",
       "      <td>0.051331</td>\n",
       "      <td>-0.036804</td>\n",
       "      <td>-0.007477</td>\n",
       "      <td>0.003513</td>\n",
       "      <td>0.023254</td>\n",
       "      <td>...</td>\n",
       "      <td>0.005329</td>\n",
       "      <td>-0.007664</td>\n",
       "      <td>-0.023956</td>\n",
       "      <td>-0.061340</td>\n",
       "      <td>0.055481</td>\n",
       "      <td>-0.052155</td>\n",
       "      <td>-0.057739</td>\n",
       "      <td>-0.063416</td>\n",
       "      <td>0.037384</td>\n",
       "      <td>-0.042938</td>\n",
       "    </tr>\n",
       "    <tr>\n",
       "      <th>A4QPH2_PI4P2_HUMAN_KD1</th>\n",
       "      <td>0.085022</td>\n",
       "      <td>0.115601</td>\n",
       "      <td>-0.003788</td>\n",
       "      <td>-0.025375</td>\n",
       "      <td>0.002710</td>\n",
       "      <td>0.014046</td>\n",
       "      <td>-0.027451</td>\n",
       "      <td>-0.091187</td>\n",
       "      <td>-0.025314</td>\n",
       "      <td>-0.008125</td>\n",
       "      <td>...</td>\n",
       "      <td>-0.009933</td>\n",
       "      <td>-0.020767</td>\n",
       "      <td>-0.030838</td>\n",
       "      <td>-0.020828</td>\n",
       "      <td>0.036560</td>\n",
       "      <td>-0.056000</td>\n",
       "      <td>-0.019379</td>\n",
       "      <td>0.061218</td>\n",
       "      <td>-0.001641</td>\n",
       "      <td>0.055908</td>\n",
       "    </tr>\n",
       "    <tr>\n",
       "      <th>O00141_SGK1_HUMAN_KD1</th>\n",
       "      <td>0.044617</td>\n",
       "      <td>0.130127</td>\n",
       "      <td>-0.013618</td>\n",
       "      <td>0.014923</td>\n",
       "      <td>-0.008316</td>\n",
       "      <td>-0.014488</td>\n",
       "      <td>-0.027954</td>\n",
       "      <td>-0.045044</td>\n",
       "      <td>0.008698</td>\n",
       "      <td>-0.031647</td>\n",
       "      <td>...</td>\n",
       "      <td>-0.034180</td>\n",
       "      <td>-0.009949</td>\n",
       "      <td>-0.016205</td>\n",
       "      <td>-0.006100</td>\n",
       "      <td>0.057068</td>\n",
       "      <td>-0.041412</td>\n",
       "      <td>-0.022461</td>\n",
       "      <td>-0.004608</td>\n",
       "      <td>0.008453</td>\n",
       "      <td>0.003035</td>\n",
       "    </tr>\n",
       "    <tr>\n",
       "      <th>O00238_BMR1B_HUMAN_KD1</th>\n",
       "      <td>0.048584</td>\n",
       "      <td>0.143311</td>\n",
       "      <td>0.049774</td>\n",
       "      <td>0.009216</td>\n",
       "      <td>-0.013748</td>\n",
       "      <td>0.034637</td>\n",
       "      <td>-0.025513</td>\n",
       "      <td>-0.067810</td>\n",
       "      <td>0.004253</td>\n",
       "      <td>-0.000382</td>\n",
       "      <td>...</td>\n",
       "      <td>-0.042328</td>\n",
       "      <td>-0.019745</td>\n",
       "      <td>-0.037445</td>\n",
       "      <td>-0.010078</td>\n",
       "      <td>0.058380</td>\n",
       "      <td>-0.034637</td>\n",
       "      <td>-0.032471</td>\n",
       "      <td>-0.003811</td>\n",
       "      <td>-0.033539</td>\n",
       "      <td>-0.025116</td>\n",
       "    </tr>\n",
       "    <tr>\n",
       "      <th>O00311_CDC7_HUMAN_KD1</th>\n",
       "      <td>0.037994</td>\n",
       "      <td>0.018890</td>\n",
       "      <td>-0.033600</td>\n",
       "      <td>0.005436</td>\n",
       "      <td>-0.018784</td>\n",
       "      <td>0.082947</td>\n",
       "      <td>-0.035309</td>\n",
       "      <td>-0.002960</td>\n",
       "      <td>0.068237</td>\n",
       "      <td>0.008904</td>\n",
       "      <td>...</td>\n",
       "      <td>-0.050690</td>\n",
       "      <td>-0.050323</td>\n",
       "      <td>-0.017853</td>\n",
       "      <td>-0.051605</td>\n",
       "      <td>0.019638</td>\n",
       "      <td>0.011986</td>\n",
       "      <td>-0.053955</td>\n",
       "      <td>0.011955</td>\n",
       "      <td>0.024643</td>\n",
       "      <td>0.030258</td>\n",
       "    </tr>\n",
       "    <tr>\n",
       "      <th>...</th>\n",
       "      <td>...</td>\n",
       "      <td>...</td>\n",
       "      <td>...</td>\n",
       "      <td>...</td>\n",
       "      <td>...</td>\n",
       "      <td>...</td>\n",
       "      <td>...</td>\n",
       "      <td>...</td>\n",
       "      <td>...</td>\n",
       "      <td>...</td>\n",
       "      <td>...</td>\n",
       "      <td>...</td>\n",
       "      <td>...</td>\n",
       "      <td>...</td>\n",
       "      <td>...</td>\n",
       "      <td>...</td>\n",
       "      <td>...</td>\n",
       "      <td>...</td>\n",
       "      <td>...</td>\n",
       "      <td>...</td>\n",
       "      <td>...</td>\n",
       "    </tr>\n",
       "    <tr>\n",
       "      <th>Q9Y616_IRAK3_HUMAN_KD1</th>\n",
       "      <td>-0.016159</td>\n",
       "      <td>0.030655</td>\n",
       "      <td>0.008446</td>\n",
       "      <td>0.023926</td>\n",
       "      <td>0.003010</td>\n",
       "      <td>0.025528</td>\n",
       "      <td>-0.027893</td>\n",
       "      <td>-0.068665</td>\n",
       "      <td>0.048035</td>\n",
       "      <td>-0.020081</td>\n",
       "      <td>...</td>\n",
       "      <td>0.000594</td>\n",
       "      <td>-0.020996</td>\n",
       "      <td>0.041138</td>\n",
       "      <td>-0.086670</td>\n",
       "      <td>0.060516</td>\n",
       "      <td>0.029602</td>\n",
       "      <td>-0.006458</td>\n",
       "      <td>-0.001279</td>\n",
       "      <td>0.013954</td>\n",
       "      <td>-0.011383</td>\n",
       "    </tr>\n",
       "    <tr>\n",
       "      <th>Q9Y6E0_STK24_HUMAN_KD1</th>\n",
       "      <td>0.083130</td>\n",
       "      <td>0.109009</td>\n",
       "      <td>0.007038</td>\n",
       "      <td>0.000793</td>\n",
       "      <td>0.000355</td>\n",
       "      <td>0.006264</td>\n",
       "      <td>-0.031525</td>\n",
       "      <td>-0.044250</td>\n",
       "      <td>-0.047546</td>\n",
       "      <td>-0.010468</td>\n",
       "      <td>...</td>\n",
       "      <td>-0.040649</td>\n",
       "      <td>-0.009003</td>\n",
       "      <td>-0.076111</td>\n",
       "      <td>-0.012901</td>\n",
       "      <td>0.069702</td>\n",
       "      <td>-0.057648</td>\n",
       "      <td>-0.023697</td>\n",
       "      <td>-0.003151</td>\n",
       "      <td>0.001767</td>\n",
       "      <td>-0.020844</td>\n",
       "    </tr>\n",
       "    <tr>\n",
       "      <th>Q9Y6M4_KC1G3_HUMAN_KD1</th>\n",
       "      <td>0.081421</td>\n",
       "      <td>0.142700</td>\n",
       "      <td>-0.008904</td>\n",
       "      <td>-0.010002</td>\n",
       "      <td>-0.019638</td>\n",
       "      <td>0.021576</td>\n",
       "      <td>-0.047394</td>\n",
       "      <td>-0.060516</td>\n",
       "      <td>-0.010567</td>\n",
       "      <td>-0.041534</td>\n",
       "      <td>...</td>\n",
       "      <td>-0.013542</td>\n",
       "      <td>0.002172</td>\n",
       "      <td>-0.053345</td>\n",
       "      <td>0.003716</td>\n",
       "      <td>0.061646</td>\n",
       "      <td>-0.072937</td>\n",
       "      <td>-0.019058</td>\n",
       "      <td>-0.049835</td>\n",
       "      <td>-0.028427</td>\n",
       "      <td>-0.005585</td>\n",
       "    </tr>\n",
       "    <tr>\n",
       "      <th>Q9Y6R4_M3K4_HUMAN_KD1</th>\n",
       "      <td>0.069580</td>\n",
       "      <td>0.103821</td>\n",
       "      <td>0.000365</td>\n",
       "      <td>0.015762</td>\n",
       "      <td>-0.018250</td>\n",
       "      <td>0.008316</td>\n",
       "      <td>-0.008224</td>\n",
       "      <td>-0.042358</td>\n",
       "      <td>0.005066</td>\n",
       "      <td>-0.021591</td>\n",
       "      <td>...</td>\n",
       "      <td>-0.022095</td>\n",
       "      <td>-0.014961</td>\n",
       "      <td>-0.034424</td>\n",
       "      <td>-0.036560</td>\n",
       "      <td>0.068237</td>\n",
       "      <td>-0.025970</td>\n",
       "      <td>-0.039673</td>\n",
       "      <td>-0.009048</td>\n",
       "      <td>-0.008766</td>\n",
       "      <td>-0.023636</td>\n",
       "    </tr>\n",
       "    <tr>\n",
       "      <th>Q9Y6S9_RPKL1_HUMAN_KD1</th>\n",
       "      <td>-0.009552</td>\n",
       "      <td>0.027008</td>\n",
       "      <td>0.041565</td>\n",
       "      <td>0.003145</td>\n",
       "      <td>-0.022430</td>\n",
       "      <td>0.084839</td>\n",
       "      <td>-0.022430</td>\n",
       "      <td>-0.047516</td>\n",
       "      <td>0.069275</td>\n",
       "      <td>0.007629</td>\n",
       "      <td>...</td>\n",
       "      <td>0.039185</td>\n",
       "      <td>-0.053375</td>\n",
       "      <td>-0.039093</td>\n",
       "      <td>-0.053223</td>\n",
       "      <td>-0.015930</td>\n",
       "      <td>0.031982</td>\n",
       "      <td>0.005432</td>\n",
       "      <td>0.007584</td>\n",
       "      <td>0.032257</td>\n",
       "      <td>0.042114</td>\n",
       "    </tr>\n",
       "  </tbody>\n",
       "</table>\n",
       "<p>539 rows × 1024 columns</p>\n",
       "</div>"
      ],
      "text/plain": [
       "                            T5_0      T5_1      T5_2      T5_3      T5_4  \\\n",
       "kd_ID                                                                      \n",
       "A4D2B8_PM2P1_HUMAN_KD1  0.036774  0.059082  0.017517  0.029770 -0.031342   \n",
       "A4QPH2_PI4P2_HUMAN_KD1  0.085022  0.115601 -0.003788 -0.025375  0.002710   \n",
       "O00141_SGK1_HUMAN_KD1   0.044617  0.130127 -0.013618  0.014923 -0.008316   \n",
       "O00238_BMR1B_HUMAN_KD1  0.048584  0.143311  0.049774  0.009216 -0.013748   \n",
       "O00311_CDC7_HUMAN_KD1   0.037994  0.018890 -0.033600  0.005436 -0.018784   \n",
       "...                          ...       ...       ...       ...       ...   \n",
       "Q9Y616_IRAK3_HUMAN_KD1 -0.016159  0.030655  0.008446  0.023926  0.003010   \n",
       "Q9Y6E0_STK24_HUMAN_KD1  0.083130  0.109009  0.007038  0.000793  0.000355   \n",
       "Q9Y6M4_KC1G3_HUMAN_KD1  0.081421  0.142700 -0.008904 -0.010002 -0.019638   \n",
       "Q9Y6R4_M3K4_HUMAN_KD1   0.069580  0.103821  0.000365  0.015762 -0.018250   \n",
       "Q9Y6S9_RPKL1_HUMAN_KD1 -0.009552  0.027008  0.041565  0.003145 -0.022430   \n",
       "\n",
       "                            T5_5      T5_6      T5_7      T5_8      T5_9  ...  \\\n",
       "kd_ID                                                                     ...   \n",
       "A4D2B8_PM2P1_HUMAN_KD1  0.051331 -0.036804 -0.007477  0.003513  0.023254  ...   \n",
       "A4QPH2_PI4P2_HUMAN_KD1  0.014046 -0.027451 -0.091187 -0.025314 -0.008125  ...   \n",
       "O00141_SGK1_HUMAN_KD1  -0.014488 -0.027954 -0.045044  0.008698 -0.031647  ...   \n",
       "O00238_BMR1B_HUMAN_KD1  0.034637 -0.025513 -0.067810  0.004253 -0.000382  ...   \n",
       "O00311_CDC7_HUMAN_KD1   0.082947 -0.035309 -0.002960  0.068237  0.008904  ...   \n",
       "...                          ...       ...       ...       ...       ...  ...   \n",
       "Q9Y616_IRAK3_HUMAN_KD1  0.025528 -0.027893 -0.068665  0.048035 -0.020081  ...   \n",
       "Q9Y6E0_STK24_HUMAN_KD1  0.006264 -0.031525 -0.044250 -0.047546 -0.010468  ...   \n",
       "Q9Y6M4_KC1G3_HUMAN_KD1  0.021576 -0.047394 -0.060516 -0.010567 -0.041534  ...   \n",
       "Q9Y6R4_M3K4_HUMAN_KD1   0.008316 -0.008224 -0.042358  0.005066 -0.021591  ...   \n",
       "Q9Y6S9_RPKL1_HUMAN_KD1  0.084839 -0.022430 -0.047516  0.069275  0.007629  ...   \n",
       "\n",
       "                         T5_1014   T5_1015   T5_1016   T5_1017   T5_1018  \\\n",
       "kd_ID                                                                      \n",
       "A4D2B8_PM2P1_HUMAN_KD1  0.005329 -0.007664 -0.023956 -0.061340  0.055481   \n",
       "A4QPH2_PI4P2_HUMAN_KD1 -0.009933 -0.020767 -0.030838 -0.020828  0.036560   \n",
       "O00141_SGK1_HUMAN_KD1  -0.034180 -0.009949 -0.016205 -0.006100  0.057068   \n",
       "O00238_BMR1B_HUMAN_KD1 -0.042328 -0.019745 -0.037445 -0.010078  0.058380   \n",
       "O00311_CDC7_HUMAN_KD1  -0.050690 -0.050323 -0.017853 -0.051605  0.019638   \n",
       "...                          ...       ...       ...       ...       ...   \n",
       "Q9Y616_IRAK3_HUMAN_KD1  0.000594 -0.020996  0.041138 -0.086670  0.060516   \n",
       "Q9Y6E0_STK24_HUMAN_KD1 -0.040649 -0.009003 -0.076111 -0.012901  0.069702   \n",
       "Q9Y6M4_KC1G3_HUMAN_KD1 -0.013542  0.002172 -0.053345  0.003716  0.061646   \n",
       "Q9Y6R4_M3K4_HUMAN_KD1  -0.022095 -0.014961 -0.034424 -0.036560  0.068237   \n",
       "Q9Y6S9_RPKL1_HUMAN_KD1  0.039185 -0.053375 -0.039093 -0.053223 -0.015930   \n",
       "\n",
       "                         T5_1019   T5_1020   T5_1021   T5_1022   T5_1023  \n",
       "kd_ID                                                                     \n",
       "A4D2B8_PM2P1_HUMAN_KD1 -0.052155 -0.057739 -0.063416  0.037384 -0.042938  \n",
       "A4QPH2_PI4P2_HUMAN_KD1 -0.056000 -0.019379  0.061218 -0.001641  0.055908  \n",
       "O00141_SGK1_HUMAN_KD1  -0.041412 -0.022461 -0.004608  0.008453  0.003035  \n",
       "O00238_BMR1B_HUMAN_KD1 -0.034637 -0.032471 -0.003811 -0.033539 -0.025116  \n",
       "O00311_CDC7_HUMAN_KD1   0.011986 -0.053955  0.011955  0.024643  0.030258  \n",
       "...                          ...       ...       ...       ...       ...  \n",
       "Q9Y616_IRAK3_HUMAN_KD1  0.029602 -0.006458 -0.001279  0.013954 -0.011383  \n",
       "Q9Y6E0_STK24_HUMAN_KD1 -0.057648 -0.023697 -0.003151  0.001767 -0.020844  \n",
       "Q9Y6M4_KC1G3_HUMAN_KD1 -0.072937 -0.019058 -0.049835 -0.028427 -0.005585  \n",
       "Q9Y6R4_M3K4_HUMAN_KD1  -0.025970 -0.039673 -0.009048 -0.008766 -0.023636  \n",
       "Q9Y6S9_RPKL1_HUMAN_KD1  0.031982  0.005432  0.007584  0.032257  0.042114  \n",
       "\n",
       "[539 rows x 1024 columns]"
      ]
     },
     "execution_count": null,
     "metadata": {},
     "output_type": "execute_result"
    }
   ],
   "source": [
    "human"
   ]
  },
  {
   "cell_type": "code",
   "execution_count": null,
   "id": "bb43808d-1c0e-466c-8742-231d429a9878",
   "metadata": {},
   "outputs": [],
   "source": []
  }
 ],
 "metadata": {
  "kernelspec": {
   "display_name": "Python 3 (ipykernel)",
   "language": "python",
   "name": "python3"
  },
  "language_info": {
   "codemirror_mode": {
    "name": "ipython",
    "version": 3
   },
   "file_extension": ".py",
   "mimetype": "text/x-python",
   "name": "python",
   "nbconvert_exporter": "python",
   "pygments_lexer": "ipython3",
   "version": "3.12.3"
  }
 },
 "nbformat": 4,
 "nbformat_minor": 5
}
