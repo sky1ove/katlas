{
 "cells": [
  {
   "cell_type": "code",
   "execution_count": 1,
   "id": "5c70a902-7700-484a-973c-f9b13d88d694",
   "metadata": {},
   "outputs": [],
   "source": [
    "from katlas.data import *"
   ]
  },
  {
   "cell_type": "code",
   "execution_count": null,
   "id": "020751f2-1c7e-45f5-9872-edab430df209",
   "metadata": {},
   "outputs": [],
   "source": [
    "# Define feature sets and their corresponding column names\n",
    "feature_sets = {\n",
    "    't5':(t5,t5_col),\n",
    "    't5_kd':(t5_kd,t5_col),\n",
    "    'esm':(esm,esm_col),\n",
    "    'esm_kd':(esm_kd,esm_col),\n",
    "}"
   ]
  },
  {
   "cell_type": "code",
   "execution_count": 2,
   "id": "2644591e-a459-4757-b534-927397fe1999",
   "metadata": {},
   "outputs": [],
   "source": [
    "ml_models = {\n",
    "    'LinearRegression': LinearRegression(),\n",
    "    'Lasso': Lasso(0.1), # L1 regularization # changing alpha does not change the result\n",
    "    'Ridge': Ridge(alpha=0.1), # L2 regularization\n",
    "    'ElasticNet': ElasticNet(0.1), # Combine L1 and L2\n",
    "    \n",
    "    # 'SVR':SVR(C=10,gamma=1),\n",
    "    'DecisionTreeRegressor': DecisionTreeRegressor(), # not very good\n",
    "    'KNN': KNeighborsRegressor(n_neighbors=3), # compared with others, n=3 gives the best results\n",
    "    # 'XGBRegressor': XGBRegressor(), #slow without gpu\n",
    "    # 'RandomForestRegressor': RandomForestRegressor() # slow, use cuml to use gpu\n",
    "                                      }"
   ]
  },
  {
   "cell_type": "code",
   "execution_count": 7,
   "id": "fa46e2b8-ae84-43d1-820a-c34dff2db775",
   "metadata": {},
   "outputs": [
    {
     "data": {
      "text/plain": [
       "family\n",
       "NKF4           2\n",
       "FAM20C         1\n",
       "CDC7           1\n",
       "CASK           1\n",
       "CAMK-Unique    1\n",
       "RAD53          1\n",
       "KIS            1\n",
       "Haspin         1\n",
       "Dusty          1\n",
       "MOS            1\n",
       "TKL-Unique     1\n",
       "Musk           1\n",
       "TOPK           1\n",
       "PDK1           1\n",
       "Bud32          1\n",
       "VPS15          1\n",
       "NKF2           1\n",
       "SgK493         1\n",
       "Ret            1\n",
       "Slob           1\n",
       "RSKR           1\n",
       "CCK4           1\n",
       "STK33          1\n",
       "Ryk            1\n",
       "Sev            1\n",
       "TK-Unique      1\n",
       "TBCK           1\n",
       "SgK495         1\n",
       "SgK071         1\n",
       "TTK            1\n",
       "Name: count, dtype: int64"
      ]
     },
     "execution_count": 7,
     "metadata": {},
     "output_type": "execute_result"
    }
   ],
   "source": [
    "metrics_list2 = []\n",
    "oofs2 = {}\n",
    "\n",
    "for model_name, model in ml_models.items():\n",
    "    for feature_name, (data, feat_col) in feature_sets.items():\n",
    "        \n",
    "        # get model name for save\n",
    "        save_name = f'{model_name}_{feature_name}'\n",
    "        print('------------------',save_name,'------------------')\n",
    "        \n",
    "        \n",
    "        # if want to save model, just remove save_name\n",
    "        # oof, metrics = train_ml_cv(data, feat_col, target_col, splits,model,save_name)\n",
    "        \n",
    "        # train\n",
    "        oof, metrics = train_ml_cv(data, feat_col, target_col, splits, model)\n",
    "        \n",
    "        # save metrics\n",
    "        metrics['model'] = save_name\n",
    "        metrics_list2.append(metrics)\n",
    "        \n",
    "        # save oof\n",
    "        oofs2[save_name] = oof"
   ]
  },
  {
   "cell_type": "code",
   "execution_count": null,
   "id": "80cbe01b-2f4c-4c43-96ee-56aa08410f09",
   "metadata": {},
   "outputs": [],
   "source": []
  }
 ],
 "metadata": {
  "kernelspec": {
   "display_name": "Python 3 (ipykernel)",
   "language": "python",
   "name": "python3"
  },
  "language_info": {
   "codemirror_mode": {
    "name": "ipython",
    "version": 3
   },
   "file_extension": ".py",
   "mimetype": "text/x-python",
   "name": "python",
   "nbconvert_exporter": "python",
   "pygments_lexer": "ipython3",
   "version": "3.12.3"
  },
  "widgets": {
   "application/vnd.jupyter.widget-state+json": {
    "state": {},
    "version_major": 2,
    "version_minor": 0
   }
  }
 },
 "nbformat": 4,
 "nbformat_minor": 5
}
