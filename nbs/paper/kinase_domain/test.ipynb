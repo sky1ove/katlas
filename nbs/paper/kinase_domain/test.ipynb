{
 "cells": [
  {
   "cell_type": "markdown",
   "id": "25113b2d-51e3-4ccf-b7ec-bef5dd82ddf8",
   "metadata": {},
   "source": [
    "# Compare with known"
   ]
  },
  {
   "cell_type": "code",
   "execution_count": 2,
   "id": "27e2bca3-c619-4421-9b6e-e60feabfd1aa",
   "metadata": {},
   "outputs": [],
   "source": [
    "from katlas.data import *"
   ]
  },
  {
   "cell_type": "code",
   "execution_count": null,
   "id": "96655e01-fb5c-4a9d-98ee-ea2cc64f3716",
   "metadata": {},
   "outputs": [],
   "source": [
    "df = pd.read_parquet('../raw/psp"
   ]
  }
 ],
 "metadata": {
  "kernelspec": {
   "display_name": "Python 3 (ipykernel)",
   "language": "python",
   "name": "python3"
  },
  "language_info": {
   "codemirror_mode": {
    "name": "ipython",
    "version": 3
   },
   "file_extension": ".py",
   "mimetype": "text/x-python",
   "name": "python",
   "nbconvert_exporter": "python",
   "pygments_lexer": "ipython3",
   "version": "3.12.3"
  },
  "widgets": {
   "application/vnd.jupyter.widget-state+json": {
    "state": {},
    "version_major": 2,
    "version_minor": 0
   }
  }
 },
 "nbformat": 4,
 "nbformat_minor": 5
}
