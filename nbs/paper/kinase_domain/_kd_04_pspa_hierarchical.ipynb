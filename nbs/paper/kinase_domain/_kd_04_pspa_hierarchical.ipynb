{
 "cells": [
  {
   "cell_type": "raw",
   "id": "f0153f95-106e-4104-ae2c-859e9dd511aa",
   "metadata": {},
   "source": [
    "---\n",
    "skip_showdoc: true\n",
    "skip_exec: true\n",
    "---"
   ]
  },
  {
   "cell_type": "markdown",
   "id": "3682c43e-fb60-404d-b263-af1f7ba9dc27",
   "metadata": {},
   "source": [
    "# Hierarchical clustering"
   ]
  },
  {
   "cell_type": "code",
   "execution_count": null,
   "id": "408a0fc4-360f-4984-ab8b-841252f1a3bc",
   "metadata": {},
   "outputs": [],
   "source": [
    "import pandas as pd\n",
    "from Bio.Seq import Seq\n",
    "from Bio.SeqRecord import SeqRecord\n",
    "from Bio import SeqIO, AlignIO"
   ]
  },
  {
   "cell_type": "code",
   "execution_count": null,
   "id": "ea1145ad-291e-4e20-8a44-fcd92a87f069",
   "metadata": {},
   "outputs": [],
   "source": [
    "df = pd.read_excel('out/uniprot_kd_active_D1_D2.xlsx')"
   ]
  },
  {
   "cell_type": "code",
   "execution_count": null,
   "id": "de9daa0b-cd0a-4097-9d0c-4dcdc4556037",
   "metadata": {},
   "outputs": [],
   "source": [
    "pspa=pd.read_csv('out/pspa_uniprot_unique_no_TYR_category_remove2kd.csv')"
   ]
  },
  {
   "cell_type": "markdown",
   "id": "721eee06-80f2-4e89-9da1-2ee81e4124cf",
   "metadata": {},
   "source": [
    "## Clustal Omega"
   ]
  },
  {
   "cell_type": "code",
   "execution_count": null,
   "id": "84105a42-0e69-4b93-bd47-d97c07c33562",
   "metadata": {},
   "outputs": [],
   "source": [
    "# df2 = df.head(4000).copy()"
   ]
  },
  {
   "cell_type": "markdown",
   "id": "b0dacfe9-6ef1-492f-ba2b-2e869a96a059",
   "metadata": {},
   "source": [
    "https://www.ebi.ac.uk/jdispatcher/msa/clustalo"
   ]
  },
  {
   "cell_type": "code",
   "execution_count": null,
   "id": "027bf6ff-c58d-4655-8cd1-123553228406",
   "metadata": {},
   "outputs": [],
   "source": [
    "# def get_fasta(df,seq_col='kd_seq',id_col='kd_ID',path='out.fasta'):\n",
    "#     \"Generate fasta file from sequences.\"\n",
    "#     records = [\n",
    "#         SeqRecord(Seq(row[seq_col]), id=row[id_col], description=\"\")\n",
    "#         for _, row in df.iterrows()\n",
    "#     ]\n",
    "#     SeqIO.write(records, path, \"fasta\")\n",
    "#     print(len(records))"
   ]
  },
  {
   "cell_type": "code",
   "execution_count": null,
   "id": "ade6d11d-8147-4a32-af5c-e87c3e0bf2ae",
   "metadata": {},
   "outputs": [],
   "source": [
    "# get_fasta(df2,path='raw/active_kinase_domains_4k.fasta')"
   ]
  },
  {
   "cell_type": "markdown",
   "id": "9cd4badb-03c1-4272-b07d-07c3c9a3da8f",
   "metadata": {},
   "source": [
    "## ProT5"
   ]
  },
  {
   "cell_type": "code",
   "execution_count": null,
   "id": "8a558459-eb43-4bbf-94c2-979072bc44fa",
   "metadata": {},
   "outputs": [],
   "source": [
    "df = pd.read_excel('out/uniprot_kd.xlsx')"
   ]
  },
  {
   "cell_type": "code",
   "execution_count": null,
   "id": "9b5f163c-6221-41d5-ae4e-33b2842f6b8e",
   "metadata": {},
   "outputs": [],
   "source": []
  },
  {
   "cell_type": "code",
   "execution_count": null,
   "id": "5886b4e6-e7c0-42bd-9bae-903e22b40be7",
   "metadata": {},
   "outputs": [],
   "source": [
    "t5=pd.read_parquet('out/uniprot_kd_t5.parquet')"
   ]
  },
  {
   "cell_type": "code",
   "execution_count": null,
   "id": "400b102a-192a-44dc-8615-bf785b0a0a01",
   "metadata": {},
   "outputs": [],
   "source": [
    "from scipy.cluster.hierarchy import linkage, fcluster,dendrogram\n",
    "import matplotlib.pyplot as plt"
   ]
  },
  {
   "cell_type": "code",
   "execution_count": null,
   "id": "b27270e8-fbdc-47fd-b039-7d558853cbb3",
   "metadata": {},
   "outputs": [
    {
     "data": {
      "text/html": [
       "<div>\n",
       "<style scoped>\n",
       "    .dataframe tbody tr th:only-of-type {\n",
       "        vertical-align: middle;\n",
       "    }\n",
       "\n",
       "    .dataframe tbody tr th {\n",
       "        vertical-align: top;\n",
       "    }\n",
       "\n",
       "    .dataframe thead th {\n",
       "        text-align: right;\n",
       "    }\n",
       "</style>\n",
       "<table border=\"1\" class=\"dataframe\">\n",
       "  <thead>\n",
       "    <tr style=\"text-align: right;\">\n",
       "      <th></th>\n",
       "      <th>T5_0</th>\n",
       "      <th>T5_1</th>\n",
       "      <th>T5_2</th>\n",
       "      <th>T5_3</th>\n",
       "      <th>T5_4</th>\n",
       "      <th>T5_5</th>\n",
       "      <th>T5_6</th>\n",
       "      <th>T5_7</th>\n",
       "      <th>T5_8</th>\n",
       "      <th>T5_9</th>\n",
       "      <th>...</th>\n",
       "      <th>T5_1014</th>\n",
       "      <th>T5_1015</th>\n",
       "      <th>T5_1016</th>\n",
       "      <th>T5_1017</th>\n",
       "      <th>T5_1018</th>\n",
       "      <th>T5_1019</th>\n",
       "      <th>T5_1020</th>\n",
       "      <th>T5_1021</th>\n",
       "      <th>T5_1022</th>\n",
       "      <th>T5_1023</th>\n",
       "    </tr>\n",
       "    <tr>\n",
       "      <th>kd_ID</th>\n",
       "      <th></th>\n",
       "      <th></th>\n",
       "      <th></th>\n",
       "      <th></th>\n",
       "      <th></th>\n",
       "      <th></th>\n",
       "      <th></th>\n",
       "      <th></th>\n",
       "      <th></th>\n",
       "      <th></th>\n",
       "      <th></th>\n",
       "      <th></th>\n",
       "      <th></th>\n",
       "      <th></th>\n",
       "      <th></th>\n",
       "      <th></th>\n",
       "      <th></th>\n",
       "      <th></th>\n",
       "      <th></th>\n",
       "      <th></th>\n",
       "      <th></th>\n",
       "    </tr>\n",
       "  </thead>\n",
       "  <tbody>\n",
       "    <tr>\n",
       "      <th>A0A075F7E9_LERK1_ORYSI_KD1</th>\n",
       "      <td>b';#'</td>\n",
       "      <td>b'h,'</td>\n",
       "      <td>b'\\x1f$'</td>\n",
       "      <td>b'J\\x96'</td>\n",
       "      <td>b'v\\x95'</td>\n",
       "      <td>b'y%'</td>\n",
       "      <td>b\"\\xc1'\"</td>\n",
       "      <td>b'\\xfd\\xab'</td>\n",
       "      <td>b\"H'\"</td>\n",
       "      <td>b'~\\xa4'</td>\n",
       "      <td>...</td>\n",
       "      <td>b'\\x82\\xa7'</td>\n",
       "      <td>b'\\xa0#'</td>\n",
       "      <td>b'^\\x9e'</td>\n",
       "      <td>b'x\\xac'</td>\n",
       "      <td>b'\\xa4)'</td>\n",
       "      <td>b'\\xef\\xa0'</td>\n",
       "      <td>b'\\xa3\\x9f'</td>\n",
       "      <td>b'p%'</td>\n",
       "      <td>b'\\\\\\x1d'</td>\n",
       "      <td>b'o\\xa8'</td>\n",
       "    </tr>\n",
       "    <tr>\n",
       "      <th>A0A078BQP2_GCY25_CAEEL_KD1</th>\n",
       "      <td>b'Z\\x95'</td>\n",
       "      <td>b'\\xc3\\xa7'</td>\n",
       "      <td>b'_%'</td>\n",
       "      <td>b'\\xd2&amp;'</td>\n",
       "      <td>b'\\x8c\\xa2'</td>\n",
       "      <td>b']('</td>\n",
       "      <td>b'j\\xa7'</td>\n",
       "      <td>b'\\xc4\\xae'</td>\n",
       "      <td>b'\\xc9\\xa4'</td>\n",
       "      <td>b'\\xbc\\xa0'</td>\n",
       "      <td>...</td>\n",
       "      <td>b'\\xf4\\xa8'</td>\n",
       "      <td>b'\\xb6\\xa8'</td>\n",
       "      <td>b'&gt;\\xa4'</td>\n",
       "      <td>b'\\xac\\xac'</td>\n",
       "      <td>b'\\xca+'</td>\n",
       "      <td>b'\\xb5)'</td>\n",
       "      <td>b'\\xaa\\x19'</td>\n",
       "      <td>b'~\\xa3'</td>\n",
       "      <td>b'\\xe5)'</td>\n",
       "      <td>b'\\x81\\x1c'</td>\n",
       "    </tr>\n",
       "    <tr>\n",
       "      <th>A0A078CGE6_M3KE1_BRANA_KD1</th>\n",
       "      <td>b'\\xfa*'</td>\n",
       "      <td>b'\\x00.'</td>\n",
       "      <td>b'\\xa2\\x9f'</td>\n",
       "      <td>b'\\xd4$'</td>\n",
       "      <td>b'i\\xa9'</td>\n",
       "      <td>b'\\x85\\x9d'</td>\n",
       "      <td>b'\\x0b\\x9d'</td>\n",
       "      <td>b'\\xfe\\xa9'</td>\n",
       "      <td>b'\\xe8\\xa2'</td>\n",
       "      <td>b'\\xff\\xa4'</td>\n",
       "      <td>...</td>\n",
       "      <td>b'\\x1b\\xa4'</td>\n",
       "      <td>b')\\x12'</td>\n",
       "      <td>b'\\xea\\xa8'</td>\n",
       "      <td>b'L\\xa9'</td>\n",
       "      <td>b't,'</td>\n",
       "      <td>b'\\xba\\xa5'</td>\n",
       "      <td>b'\\xba\\xa6'</td>\n",
       "      <td>b'\\xa9\\x95'</td>\n",
       "      <td>b'\\xce\\x1e'</td>\n",
       "      <td>b'j\\xa8'</td>\n",
       "    </tr>\n",
       "    <tr>\n",
       "      <th>A0A0G2K344_PK3CA_RAT_KD1</th>\n",
       "      <td>b\"\\xe3'\"</td>\n",
       "      <td>b'\\x110'</td>\n",
       "      <td>b'r\\x1f'</td>\n",
       "      <td>b'\\xc5\\xa4'</td>\n",
       "      <td>b'\\x12 '</td>\n",
       "      <td>b'\\xe8$'</td>\n",
       "      <td>b'`\\xa6'</td>\n",
       "      <td>b']\\xac'</td>\n",
       "      <td>b'8\\xa5'</td>\n",
       "      <td>b'8\\xa0'</td>\n",
       "      <td>...</td>\n",
       "      <td>b'\\xa8\\xa4'</td>\n",
       "      <td>b'^\\xa3'</td>\n",
       "      <td>b'\\t\\xa6'</td>\n",
       "      <td>b'\\xf1\\x1e'</td>\n",
       "      <td>b'\\xb1*'</td>\n",
       "      <td>b'\\xad\\xaa'</td>\n",
       "      <td>b'\\xe8\\xa5'</td>\n",
       "      <td>b'e('</td>\n",
       "      <td>b'\\x8f\\x19'</td>\n",
       "      <td>b'D\\x9f'</td>\n",
       "    </tr>\n",
       "    <tr>\n",
       "      <th>A0A0H2ZM62_HK06_STRP2_KD1</th>\n",
       "      <td>b'T%'</td>\n",
       "      <td>b'\\x13\\xac'</td>\n",
       "      <td>b'\\xe4\\xa2'</td>\n",
       "      <td>b'\\xda)'</td>\n",
       "      <td>b'\\x96\\xa8'</td>\n",
       "      <td>b'\\x00)'</td>\n",
       "      <td>b'B&amp;'</td>\n",
       "      <td>b'\\xb6\\xad'</td>\n",
       "      <td>b'j\\x1d'</td>\n",
       "      <td>b'u\\xa5'</td>\n",
       "      <td>...</td>\n",
       "      <td>b'\\x00\\xab'</td>\n",
       "      <td>b'0&amp;'</td>\n",
       "      <td>b'\\x15 '</td>\n",
       "      <td>b'|\\xae'</td>\n",
       "      <td>b'=,'</td>\n",
       "      <td>b'\\xe4\\x1d'</td>\n",
       "      <td>b'5\\xaa'</td>\n",
       "      <td>b'\\xba#'</td>\n",
       "      <td>b'b&amp;'</td>\n",
       "      <td>b'\\x0b%'</td>\n",
       "    </tr>\n",
       "    <tr>\n",
       "      <th>...</th>\n",
       "      <td>...</td>\n",
       "      <td>...</td>\n",
       "      <td>...</td>\n",
       "      <td>...</td>\n",
       "      <td>...</td>\n",
       "      <td>...</td>\n",
       "      <td>...</td>\n",
       "      <td>...</td>\n",
       "      <td>...</td>\n",
       "      <td>...</td>\n",
       "      <td>...</td>\n",
       "      <td>...</td>\n",
       "      <td>...</td>\n",
       "      <td>...</td>\n",
       "      <td>...</td>\n",
       "      <td>...</td>\n",
       "      <td>...</td>\n",
       "      <td>...</td>\n",
       "      <td>...</td>\n",
       "      <td>...</td>\n",
       "      <td>...</td>\n",
       "    </tr>\n",
       "    <tr>\n",
       "      <th>W0LYS5_CAMKI_MACNP_KD1</th>\n",
       "      <td>b'\\x86,'</td>\n",
       "      <td>b'\\x83-'</td>\n",
       "      <td>b'#\\xa5'</td>\n",
       "      <td>b\"&gt;'\"</td>\n",
       "      <td>b'\\xb3\\xa0'</td>\n",
       "      <td>b'\\x1f\\xa1'</td>\n",
       "      <td>b'l\\xa6'</td>\n",
       "      <td>b'\\xd6\\xa9'</td>\n",
       "      <td>b'\\x86\\x9c'</td>\n",
       "      <td>b'\\xe6\\xa6'</td>\n",
       "      <td>...</td>\n",
       "      <td>b'\\xc9\\xa5'</td>\n",
       "      <td>b'=\\xa5'</td>\n",
       "      <td>b'T\\xa8'</td>\n",
       "      <td>b'5\\x9e'</td>\n",
       "      <td>b'C,'</td>\n",
       "      <td>b'B\\xab'</td>\n",
       "      <td>b'\\xa8\\xa8'</td>\n",
       "      <td>b'\\x05\\xa2'</td>\n",
       "      <td>b'\\x82\\x9e'</td>\n",
       "      <td>b'.\\x1f'</td>\n",
       "    </tr>\n",
       "    <tr>\n",
       "      <th>W0T9X4_ATG1_KLUMD_KD1</th>\n",
       "      <td>b'\\xcc('</td>\n",
       "      <td>b'\\xe3$'</td>\n",
       "      <td>b'\\xe1\\xaa'</td>\n",
       "      <td>b'\\xf7\\x1f'</td>\n",
       "      <td>b'7\\xaa'</td>\n",
       "      <td>b'Z\\x87'</td>\n",
       "      <td>b'*\\xa7'</td>\n",
       "      <td>b'\\x1c\\xab'</td>\n",
       "      <td>b'\\xf4)'</td>\n",
       "      <td>b'd\\xa9'</td>\n",
       "      <td>...</td>\n",
       "      <td>b'\\xf2\\xa7'</td>\n",
       "      <td>b'\\xb0\\xaa'</td>\n",
       "      <td>b'\\xee\\xa4'</td>\n",
       "      <td>b'\\x97\\xaa'</td>\n",
       "      <td>b'/('</td>\n",
       "      <td>b'9\\xa3'</td>\n",
       "      <td>b'n\\xaa'</td>\n",
       "      <td>b'\\x80\\xa6'</td>\n",
       "      <td>b'\\x00$'</td>\n",
       "      <td>b'\\xa7$'</td>\n",
       "    </tr>\n",
       "    <tr>\n",
       "      <th>W7JX98_KGP_PLAFO_KD1</th>\n",
       "      <td>b'\\xd8!'</td>\n",
       "      <td>b'@,'</td>\n",
       "      <td>b'&lt;\\xa9'</td>\n",
       "      <td>b'.#'</td>\n",
       "      <td>b'\\xb6\\xa8'</td>\n",
       "      <td>b'C\\xa7'</td>\n",
       "      <td>b'\\x9c\\x97'</td>\n",
       "      <td>b'Z\\xa9'</td>\n",
       "      <td>b'\\x1b\\x1c'</td>\n",
       "      <td>b'\\xdf\\xab'</td>\n",
       "      <td>...</td>\n",
       "      <td>b'\\x9d\\xa6'</td>\n",
       "      <td>b')\\xa1'</td>\n",
       "      <td>b'\\xbb%'</td>\n",
       "      <td>b'\\xd2\\xac'</td>\n",
       "      <td>b'k+'</td>\n",
       "      <td>b'V\\xa5'</td>\n",
       "      <td>b'y\\xa4'</td>\n",
       "      <td>b'3\\x1d'</td>\n",
       "      <td>b'\\xa3&amp;'</td>\n",
       "      <td>b'\\\\\\xa7'</td>\n",
       "    </tr>\n",
       "    <tr>\n",
       "      <th>X5M5N0_WNK_CAEEL_KD1</th>\n",
       "      <td>b'\\xd7)'</td>\n",
       "      <td>b'\\x86/'</td>\n",
       "      <td>b'\\xef!'</td>\n",
       "      <td>b'\\xd5\\x18'</td>\n",
       "      <td>b'\\xb9\\xa6'</td>\n",
       "      <td>b'\\x04&amp;'</td>\n",
       "      <td>b'\\xee\\xa4'</td>\n",
       "      <td>b'\\x91\\xac'</td>\n",
       "      <td>b'\\xf2\\xa5'</td>\n",
       "      <td>b'\\xc3\\xa3'</td>\n",
       "      <td>...</td>\n",
       "      <td>b'z\\xaa'</td>\n",
       "      <td>b'U\\x8e'</td>\n",
       "      <td>b'\\x87\\xaa'</td>\n",
       "      <td>b'\\xfc\\xa5'</td>\n",
       "      <td>b'\\xf6)'</td>\n",
       "      <td>b'N\\xa8'</td>\n",
       "      <td>b']\\xa4'</td>\n",
       "      <td>b'\\xb2\\x95'</td>\n",
       "      <td>b'\\xc6\\x1c'</td>\n",
       "      <td>b'\\x87\\xa2'</td>\n",
       "    </tr>\n",
       "    <tr>\n",
       "      <th>X5M8U1_GCY17_CAEEL_KD1</th>\n",
       "      <td>b'\\x13$'</td>\n",
       "      <td>b'\\xf6\\x14'</td>\n",
       "      <td>b'+*'</td>\n",
       "      <td>b'\\x8b%'</td>\n",
       "      <td>b'\\x89\\x99'</td>\n",
       "      <td>b'\\xb0$'</td>\n",
       "      <td>b'q\\x1f'</td>\n",
       "      <td>b'\\\\\\xad'</td>\n",
       "      <td>b'\\x9c\\xa3'</td>\n",
       "      <td>b\"'\\xa6\"</td>\n",
       "      <td>...</td>\n",
       "      <td>b'b\\xa8'</td>\n",
       "      <td>b'\\x91\\xa7'</td>\n",
       "      <td>b'\\x1d\\xa8'</td>\n",
       "      <td>b'\\xa9\\xac'</td>\n",
       "      <td>b'O)'</td>\n",
       "      <td>b'h&amp;'</td>\n",
       "      <td>b'f&amp;'</td>\n",
       "      <td>b'\\xd2\\x99'</td>\n",
       "      <td>b'\\x13&amp;'</td>\n",
       "      <td>b'i\\xa5'</td>\n",
       "    </tr>\n",
       "  </tbody>\n",
       "</table>\n",
       "<p>5536 rows × 1024 columns</p>\n",
       "</div>"
      ],
      "text/plain": [
       "                                T5_0         T5_1         T5_2         T5_3  \\\n",
       "kd_ID                                                                         \n",
       "A0A075F7E9_LERK1_ORYSI_KD1     b';#'        b'h,'     b'\\x1f$'     b'J\\x96'   \n",
       "A0A078BQP2_GCY25_CAEEL_KD1  b'Z\\x95'  b'\\xc3\\xa7'        b'_%'     b'\\xd2&'   \n",
       "A0A078CGE6_M3KE1_BRANA_KD1  b'\\xfa*'     b'\\x00.'  b'\\xa2\\x9f'     b'\\xd4$'   \n",
       "A0A0G2K344_PK3CA_RAT_KD1    b\"\\xe3'\"     b'\\x110'     b'r\\x1f'  b'\\xc5\\xa4'   \n",
       "A0A0H2ZM62_HK06_STRP2_KD1      b'T%'  b'\\x13\\xac'  b'\\xe4\\xa2'     b'\\xda)'   \n",
       "...                              ...          ...          ...          ...   \n",
       "W0LYS5_CAMKI_MACNP_KD1      b'\\x86,'     b'\\x83-'     b'#\\xa5'        b\">'\"   \n",
       "W0T9X4_ATG1_KLUMD_KD1       b'\\xcc('     b'\\xe3$'  b'\\xe1\\xaa'  b'\\xf7\\x1f'   \n",
       "W7JX98_KGP_PLAFO_KD1        b'\\xd8!'        b'@,'     b'<\\xa9'        b'.#'   \n",
       "X5M5N0_WNK_CAEEL_KD1        b'\\xd7)'     b'\\x86/'     b'\\xef!'  b'\\xd5\\x18'   \n",
       "X5M8U1_GCY17_CAEEL_KD1      b'\\x13$'  b'\\xf6\\x14'        b'+*'     b'\\x8b%'   \n",
       "\n",
       "                                   T5_4         T5_5         T5_6  \\\n",
       "kd_ID                                                               \n",
       "A0A075F7E9_LERK1_ORYSI_KD1     b'v\\x95'        b'y%'     b\"\\xc1'\"   \n",
       "A0A078BQP2_GCY25_CAEEL_KD1  b'\\x8c\\xa2'        b']('     b'j\\xa7'   \n",
       "A0A078CGE6_M3KE1_BRANA_KD1     b'i\\xa9'  b'\\x85\\x9d'  b'\\x0b\\x9d'   \n",
       "A0A0G2K344_PK3CA_RAT_KD1       b'\\x12 '     b'\\xe8$'     b'`\\xa6'   \n",
       "A0A0H2ZM62_HK06_STRP2_KD1   b'\\x96\\xa8'     b'\\x00)'        b'B&'   \n",
       "...                                 ...          ...          ...   \n",
       "W0LYS5_CAMKI_MACNP_KD1      b'\\xb3\\xa0'  b'\\x1f\\xa1'     b'l\\xa6'   \n",
       "W0T9X4_ATG1_KLUMD_KD1          b'7\\xaa'     b'Z\\x87'     b'*\\xa7'   \n",
       "W7JX98_KGP_PLAFO_KD1        b'\\xb6\\xa8'     b'C\\xa7'  b'\\x9c\\x97'   \n",
       "X5M5N0_WNK_CAEEL_KD1        b'\\xb9\\xa6'     b'\\x04&'  b'\\xee\\xa4'   \n",
       "X5M8U1_GCY17_CAEEL_KD1      b'\\x89\\x99'     b'\\xb0$'     b'q\\x1f'   \n",
       "\n",
       "                                   T5_7         T5_8         T5_9  ...  \\\n",
       "kd_ID                                                              ...   \n",
       "A0A075F7E9_LERK1_ORYSI_KD1  b'\\xfd\\xab'        b\"H'\"     b'~\\xa4'  ...   \n",
       "A0A078BQP2_GCY25_CAEEL_KD1  b'\\xc4\\xae'  b'\\xc9\\xa4'  b'\\xbc\\xa0'  ...   \n",
       "A0A078CGE6_M3KE1_BRANA_KD1  b'\\xfe\\xa9'  b'\\xe8\\xa2'  b'\\xff\\xa4'  ...   \n",
       "A0A0G2K344_PK3CA_RAT_KD1       b']\\xac'     b'8\\xa5'     b'8\\xa0'  ...   \n",
       "A0A0H2ZM62_HK06_STRP2_KD1   b'\\xb6\\xad'     b'j\\x1d'     b'u\\xa5'  ...   \n",
       "...                                 ...          ...          ...  ...   \n",
       "W0LYS5_CAMKI_MACNP_KD1      b'\\xd6\\xa9'  b'\\x86\\x9c'  b'\\xe6\\xa6'  ...   \n",
       "W0T9X4_ATG1_KLUMD_KD1       b'\\x1c\\xab'     b'\\xf4)'     b'd\\xa9'  ...   \n",
       "W7JX98_KGP_PLAFO_KD1           b'Z\\xa9'  b'\\x1b\\x1c'  b'\\xdf\\xab'  ...   \n",
       "X5M5N0_WNK_CAEEL_KD1        b'\\x91\\xac'  b'\\xf2\\xa5'  b'\\xc3\\xa3'  ...   \n",
       "X5M8U1_GCY17_CAEEL_KD1        b'\\\\\\xad'  b'\\x9c\\xa3'     b\"'\\xa6\"  ...   \n",
       "\n",
       "                                T5_1014      T5_1015      T5_1016  \\\n",
       "kd_ID                                                               \n",
       "A0A075F7E9_LERK1_ORYSI_KD1  b'\\x82\\xa7'     b'\\xa0#'     b'^\\x9e'   \n",
       "A0A078BQP2_GCY25_CAEEL_KD1  b'\\xf4\\xa8'  b'\\xb6\\xa8'     b'>\\xa4'   \n",
       "A0A078CGE6_M3KE1_BRANA_KD1  b'\\x1b\\xa4'     b')\\x12'  b'\\xea\\xa8'   \n",
       "A0A0G2K344_PK3CA_RAT_KD1    b'\\xa8\\xa4'     b'^\\xa3'    b'\\t\\xa6'   \n",
       "A0A0H2ZM62_HK06_STRP2_KD1   b'\\x00\\xab'        b'0&'     b'\\x15 '   \n",
       "...                                 ...          ...          ...   \n",
       "W0LYS5_CAMKI_MACNP_KD1      b'\\xc9\\xa5'     b'=\\xa5'     b'T\\xa8'   \n",
       "W0T9X4_ATG1_KLUMD_KD1       b'\\xf2\\xa7'  b'\\xb0\\xaa'  b'\\xee\\xa4'   \n",
       "W7JX98_KGP_PLAFO_KD1        b'\\x9d\\xa6'     b')\\xa1'     b'\\xbb%'   \n",
       "X5M5N0_WNK_CAEEL_KD1           b'z\\xaa'     b'U\\x8e'  b'\\x87\\xaa'   \n",
       "X5M8U1_GCY17_CAEEL_KD1         b'b\\xa8'  b'\\x91\\xa7'  b'\\x1d\\xa8'   \n",
       "\n",
       "                                T5_1017   T5_1018      T5_1019      T5_1020  \\\n",
       "kd_ID                                                                         \n",
       "A0A075F7E9_LERK1_ORYSI_KD1     b'x\\xac'  b'\\xa4)'  b'\\xef\\xa0'  b'\\xa3\\x9f'   \n",
       "A0A078BQP2_GCY25_CAEEL_KD1  b'\\xac\\xac'  b'\\xca+'     b'\\xb5)'  b'\\xaa\\x19'   \n",
       "A0A078CGE6_M3KE1_BRANA_KD1     b'L\\xa9'     b't,'  b'\\xba\\xa5'  b'\\xba\\xa6'   \n",
       "A0A0G2K344_PK3CA_RAT_KD1    b'\\xf1\\x1e'  b'\\xb1*'  b'\\xad\\xaa'  b'\\xe8\\xa5'   \n",
       "A0A0H2ZM62_HK06_STRP2_KD1      b'|\\xae'     b'=,'  b'\\xe4\\x1d'     b'5\\xaa'   \n",
       "...                                 ...       ...          ...          ...   \n",
       "W0LYS5_CAMKI_MACNP_KD1         b'5\\x9e'     b'C,'     b'B\\xab'  b'\\xa8\\xa8'   \n",
       "W0T9X4_ATG1_KLUMD_KD1       b'\\x97\\xaa'     b'/('     b'9\\xa3'     b'n\\xaa'   \n",
       "W7JX98_KGP_PLAFO_KD1        b'\\xd2\\xac'     b'k+'     b'V\\xa5'     b'y\\xa4'   \n",
       "X5M5N0_WNK_CAEEL_KD1        b'\\xfc\\xa5'  b'\\xf6)'     b'N\\xa8'     b']\\xa4'   \n",
       "X5M8U1_GCY17_CAEEL_KD1      b'\\xa9\\xac'     b'O)'        b'h&'        b'f&'   \n",
       "\n",
       "                                T5_1021      T5_1022      T5_1023  \n",
       "kd_ID                                                              \n",
       "A0A075F7E9_LERK1_ORYSI_KD1        b'p%'    b'\\\\\\x1d'     b'o\\xa8'  \n",
       "A0A078BQP2_GCY25_CAEEL_KD1     b'~\\xa3'     b'\\xe5)'  b'\\x81\\x1c'  \n",
       "A0A078CGE6_M3KE1_BRANA_KD1  b'\\xa9\\x95'  b'\\xce\\x1e'     b'j\\xa8'  \n",
       "A0A0G2K344_PK3CA_RAT_KD1          b'e('  b'\\x8f\\x19'     b'D\\x9f'  \n",
       "A0A0H2ZM62_HK06_STRP2_KD1      b'\\xba#'        b'b&'     b'\\x0b%'  \n",
       "...                                 ...          ...          ...  \n",
       "W0LYS5_CAMKI_MACNP_KD1      b'\\x05\\xa2'  b'\\x82\\x9e'     b'.\\x1f'  \n",
       "W0T9X4_ATG1_KLUMD_KD1       b'\\x80\\xa6'     b'\\x00$'     b'\\xa7$'  \n",
       "W7JX98_KGP_PLAFO_KD1           b'3\\x1d'     b'\\xa3&'    b'\\\\\\xa7'  \n",
       "X5M5N0_WNK_CAEEL_KD1        b'\\xb2\\x95'  b'\\xc6\\x1c'  b'\\x87\\xa2'  \n",
       "X5M8U1_GCY17_CAEEL_KD1      b'\\xd2\\x99'     b'\\x13&'     b'i\\xa5'  \n",
       "\n",
       "[5536 rows x 1024 columns]"
      ]
     },
     "execution_count": null,
     "metadata": {},
     "output_type": "execute_result"
    }
   ],
   "source": [
    "t5"
   ]
  },
  {
   "cell_type": "code",
   "execution_count": null,
   "id": "68496689-3810-4a3d-93a8-135d13960ea2",
   "metadata": {},
   "outputs": [
    {
     "ename": "ValueError",
     "evalue": "could not convert string to float: b';#'",
     "output_type": "error",
     "traceback": [
      "\u001b[31m---------------------------------------------------------------------------\u001b[39m",
      "\u001b[31mValueError\u001b[39m                                Traceback (most recent call last)",
      "\u001b[32m/tmp/ipykernel_456969/578039480.py\u001b[39m in \u001b[36m?\u001b[39m\u001b[34m()\u001b[39m\n\u001b[32m----> \u001b[39m\u001b[32m1\u001b[39m Z = linkage(t5, method=\u001b[33m'ward'\u001b[39m)\n",
      "\u001b[32m~/git/KATLAS/katlas/.venv/lib/python3.12/site-packages/scipy/cluster/hierarchy.py\u001b[39m in \u001b[36m?\u001b[39m\u001b[34m(y, method, metric, optimal_ordering)\u001b[39m\n\u001b[32m   1017\u001b[39m     >>> dn = dendrogram(Z)\n\u001b[32m   1018\u001b[39m     >>> plt.show()\n\u001b[32m   1019\u001b[39m     \"\"\"\n\u001b[32m   1020\u001b[39m     xp = array_namespace(y)\n\u001b[32m-> \u001b[39m\u001b[32m1021\u001b[39m     y = _asarray(y, order=\u001b[33m'C'\u001b[39m, dtype=xp.float64, xp=xp)\n\u001b[32m   1022\u001b[39m     lazy = is_lazy_array(y)\n\u001b[32m   1023\u001b[39m \n\u001b[32m   1024\u001b[39m     \u001b[38;5;28;01mif\u001b[39;00m method \u001b[38;5;28;01mnot\u001b[39;00m \u001b[38;5;28;01min\u001b[39;00m _LINKAGE_METHODS:\n",
      "\u001b[32m~/git/KATLAS/katlas/.venv/lib/python3.12/site-packages/scipy/_lib/_array_api.py\u001b[39m in \u001b[36m?\u001b[39m\u001b[34m(array, dtype, order, copy, xp, check_finite, subok)\u001b[39m\n\u001b[32m    199\u001b[39m             array = np.array(array, order=order, dtype=dtype, subok=subok)\n\u001b[32m    200\u001b[39m         \u001b[38;5;28;01melif\u001b[39;00m subok:\n\u001b[32m    201\u001b[39m             array = np.asanyarray(array, order=order, dtype=dtype)\n\u001b[32m    202\u001b[39m         \u001b[38;5;28;01melse\u001b[39;00m:\n\u001b[32m--> \u001b[39m\u001b[32m203\u001b[39m             array = np.asarray(array, order=order, dtype=dtype)\n\u001b[32m    204\u001b[39m     \u001b[38;5;28;01melse\u001b[39;00m:\n\u001b[32m    205\u001b[39m         \u001b[38;5;28;01mtry\u001b[39;00m:\n\u001b[32m    206\u001b[39m             array = xp.asarray(array, dtype=dtype, copy=copy)\n",
      "\u001b[32m~/git/KATLAS/katlas/.venv/lib/python3.12/site-packages/pandas/core/generic.py\u001b[39m in \u001b[36m?\u001b[39m\u001b[34m(self, dtype, copy)\u001b[39m\n\u001b[32m   2164\u001b[39m             )\n\u001b[32m   2165\u001b[39m         values = self._values\n\u001b[32m   2166\u001b[39m         \u001b[38;5;28;01mif\u001b[39;00m copy \u001b[38;5;28;01mis\u001b[39;00m \u001b[38;5;28;01mNone\u001b[39;00m:\n\u001b[32m   2167\u001b[39m             \u001b[38;5;66;03m# Note: branch avoids `copy=None` for NumPy 1.x support\u001b[39;00m\n\u001b[32m-> \u001b[39m\u001b[32m2168\u001b[39m             arr = np.asarray(values, dtype=dtype)\n\u001b[32m   2169\u001b[39m         \u001b[38;5;28;01melse\u001b[39;00m:\n\u001b[32m   2170\u001b[39m             arr = np.array(values, dtype=dtype, copy=copy)\n\u001b[32m   2171\u001b[39m \n",
      "\u001b[31mValueError\u001b[39m: could not convert string to float: b';#'"
     ]
    }
   ],
   "source": [
    "Z = linkage(t5, method='ward')"
   ]
  },
  {
   "cell_type": "code",
   "execution_count": null,
   "id": "f2725896-c881-4929-8874-38ba7a01fd62",
   "metadata": {},
   "outputs": [],
   "source": [
    "def plot_dendrogram3(Z, output='dendrogram.pdf', color_thr=0.01, **kwargs):\n",
    "    with plt.rc_context({'lines.linewidth': 0.3}):  # set default line width\n",
    "        plt.figure(figsize=(5, 100))\n",
    "        dendrogram(\n",
    "            Z,\n",
    "            orientation='left',\n",
    "            color_threshold=color_thr,\n",
    "            truncate_mode='level',\n",
    "            p=20,\n",
    "            leaf_font_size=1,\n",
    "            show_contracted=True,\n",
    "            **kwargs\n",
    "        )\n",
    "        plt.title('Hierarchical Clustering Dendrogram')\n",
    "        plt.ylabel('Distance')\n",
    "        plt.savefig(output, bbox_inches='tight')\n",
    "        plt.close()"
   ]
  },
  {
   "cell_type": "code",
   "execution_count": null,
   "id": "81f6887a-fb32-4538-a90e-d29153607b97",
   "metadata": {},
   "outputs": [],
   "source": [
    "pspa_df = pspa.set_index('kd_ID').iloc[:,5:]"
   ]
  },
  {
   "cell_type": "code",
   "execution_count": null,
   "id": "c73a95f0-0439-4c4e-894f-7c4126c66276",
   "metadata": {},
   "outputs": [],
   "source": [
    "def get_dendrogram_labels(order_index, # iterable list of the dendrogram indexes\n",
    "                          pssms, # df of flattened pssms with index as kd name\n",
    "                          color_thr=0.15\n",
    "                         ):\n",
    "    \n",
    "    labels = []\n",
    "    for idx in order_index:\n",
    "        if idx in pssms.index:\n",
    "            flat_pssm =pssms.loc[idx]\n",
    "            pssm_df = recover_pssm(flat_pssm)\n",
    "            norm_pssm_df = clean_zero_normalize(pssm_df)\n",
    "            seq = pssm_to_seq(norm_pssm_df, color_thr)\n",
    "            labels.append(idx + ': ' + seq)\n",
    "        else:\n",
    "            labels.append(idx)\n",
    "\n",
    "    return labels"
   ]
  },
  {
   "cell_type": "code",
   "execution_count": null,
   "id": "31649fa6-171a-4f07-a211-af4ea1e157a3",
   "metadata": {},
   "outputs": [],
   "source": [
    "labels=get_dendrogram_labels(t5.index,pspa_df,0.15)"
   ]
  },
  {
   "cell_type": "code",
   "execution_count": null,
   "id": "872b5781-537d-4f8e-bf99-74b3bfbef3db",
   "metadata": {},
   "outputs": [
    {
     "data": {
      "text/html": [
       "<div>\n",
       "<style scoped>\n",
       "    .dataframe tbody tr th:only-of-type {\n",
       "        vertical-align: middle;\n",
       "    }\n",
       "\n",
       "    .dataframe tbody tr th {\n",
       "        vertical-align: top;\n",
       "    }\n",
       "\n",
       "    .dataframe thead th {\n",
       "        text-align: right;\n",
       "    }\n",
       "</style>\n",
       "<table border=\"1\" class=\"dataframe\">\n",
       "  <thead>\n",
       "    <tr style=\"text-align: right;\">\n",
       "      <th></th>\n",
       "      <th>-5P</th>\n",
       "      <th>-5G</th>\n",
       "      <th>-5A</th>\n",
       "      <th>-5C</th>\n",
       "      <th>-5S</th>\n",
       "      <th>-5T</th>\n",
       "      <th>-5V</th>\n",
       "      <th>-5I</th>\n",
       "      <th>-5L</th>\n",
       "      <th>-5M</th>\n",
       "      <th>...</th>\n",
       "      <th>4E</th>\n",
       "      <th>4s</th>\n",
       "      <th>4t</th>\n",
       "      <th>4y</th>\n",
       "      <th>0s</th>\n",
       "      <th>0t</th>\n",
       "      <th>0y</th>\n",
       "      <th>0S</th>\n",
       "      <th>0T</th>\n",
       "      <th>0Y</th>\n",
       "    </tr>\n",
       "    <tr>\n",
       "      <th>kd_ID</th>\n",
       "      <th></th>\n",
       "      <th></th>\n",
       "      <th></th>\n",
       "      <th></th>\n",
       "      <th></th>\n",
       "      <th></th>\n",
       "      <th></th>\n",
       "      <th></th>\n",
       "      <th></th>\n",
       "      <th></th>\n",
       "      <th></th>\n",
       "      <th></th>\n",
       "      <th></th>\n",
       "      <th></th>\n",
       "      <th></th>\n",
       "      <th></th>\n",
       "      <th></th>\n",
       "      <th></th>\n",
       "      <th></th>\n",
       "      <th></th>\n",
       "      <th></th>\n",
       "    </tr>\n",
       "  </thead>\n",
       "  <tbody>\n",
       "    <tr>\n",
       "      <th>P48729_KC1A_HUMAN_KD1</th>\n",
       "      <td>0.0843</td>\n",
       "      <td>0.0590</td>\n",
       "      <td>0.0664</td>\n",
       "      <td>0.0588</td>\n",
       "      <td>0.0590</td>\n",
       "      <td>0.0590</td>\n",
       "      <td>0.0459</td>\n",
       "      <td>0.0488</td>\n",
       "      <td>0.057</td>\n",
       "      <td>0.0530</td>\n",
       "      <td>...</td>\n",
       "      <td>0.0564</td>\n",
       "      <td>0.1808</td>\n",
       "      <td>0.1808</td>\n",
       "      <td>0.1458</td>\n",
       "      <td>1.0</td>\n",
       "      <td>0.1435</td>\n",
       "      <td>0.0</td>\n",
       "      <td>1.0</td>\n",
       "      <td>0.1435</td>\n",
       "      <td>0.0</td>\n",
       "    </tr>\n",
       "    <tr>\n",
       "      <th>Q8N752_KC1AL_HUMAN_KD1</th>\n",
       "      <td>0.0514</td>\n",
       "      <td>0.0528</td>\n",
       "      <td>0.0542</td>\n",
       "      <td>0.0535</td>\n",
       "      <td>0.0546</td>\n",
       "      <td>0.0546</td>\n",
       "      <td>0.0544</td>\n",
       "      <td>0.0645</td>\n",
       "      <td>0.064</td>\n",
       "      <td>0.0639</td>\n",
       "      <td>...</td>\n",
       "      <td>0.0512</td>\n",
       "      <td>0.0966</td>\n",
       "      <td>0.0966</td>\n",
       "      <td>0.1209</td>\n",
       "      <td>1.0</td>\n",
       "      <td>0.4354</td>\n",
       "      <td>0.0</td>\n",
       "      <td>1.0</td>\n",
       "      <td>0.4354</td>\n",
       "      <td>0.0</td>\n",
       "    </tr>\n",
       "  </tbody>\n",
       "</table>\n",
       "<p>2 rows × 213 columns</p>\n",
       "</div>"
      ],
      "text/plain": [
       "                           -5P     -5G     -5A     -5C     -5S     -5T  \\\n",
       "kd_ID                                                                    \n",
       "P48729_KC1A_HUMAN_KD1   0.0843  0.0590  0.0664  0.0588  0.0590  0.0590   \n",
       "Q8N752_KC1AL_HUMAN_KD1  0.0514  0.0528  0.0542  0.0535  0.0546  0.0546   \n",
       "\n",
       "                           -5V     -5I    -5L     -5M  ...      4E      4s  \\\n",
       "kd_ID                                                  ...                   \n",
       "P48729_KC1A_HUMAN_KD1   0.0459  0.0488  0.057  0.0530  ...  0.0564  0.1808   \n",
       "Q8N752_KC1AL_HUMAN_KD1  0.0544  0.0645  0.064  0.0639  ...  0.0512  0.0966   \n",
       "\n",
       "                            4t      4y   0s      0t   0y   0S      0T   0Y  \n",
       "kd_ID                                                                       \n",
       "P48729_KC1A_HUMAN_KD1   0.1808  0.1458  1.0  0.1435  0.0  1.0  0.1435  0.0  \n",
       "Q8N752_KC1AL_HUMAN_KD1  0.0966  0.1209  1.0  0.4354  0.0  1.0  0.4354  0.0  \n",
       "\n",
       "[2 rows x 213 columns]"
      ]
     },
     "execution_count": null,
     "metadata": {},
     "output_type": "execute_result"
    }
   ],
   "source": [
    "pspa_df[pspa_df.index.str.contains('KC1A')]"
   ]
  },
  {
   "cell_type": "code",
   "execution_count": null,
   "id": "ae4da6f7-7968-40f3-938c-f28166f9657f",
   "metadata": {},
   "outputs": [],
   "source": [
    "# labels = [i+': '+pssm_to_seq(recover_pssm(r),0.2) for i,r in pssms.iterrows()]"
   ]
  },
  {
   "cell_type": "code",
   "execution_count": null,
   "id": "afee587e-3e61-497a-9634-5ae701732fe1",
   "metadata": {},
   "outputs": [],
   "source": [
    "plot_dendrogram3(Z,labels =labels )"
   ]
  },
  {
   "cell_type": "code",
   "execution_count": null,
   "id": "f82ea248-2221-43d3-a376-c32fe5126ab0",
   "metadata": {},
   "outputs": [],
   "source": [
    "pspa_df2 = pspa_df.reset_index()"
   ]
  },
  {
   "cell_type": "code",
   "execution_count": null,
   "id": "d72e9441-a3d8-453f-b0c1-b5673dd54403",
   "metadata": {},
   "outputs": [
    {
     "data": {
      "text/plain": [
       "(362, 214)"
      ]
     },
     "execution_count": null,
     "metadata": {},
     "output_type": "execute_result"
    }
   ],
   "source": [
    "pspa_df2.shape"
   ]
  },
  {
   "cell_type": "code",
   "execution_count": null,
   "id": "2ec2e1b6-af80-48ef-b81d-cedc0b51b08f",
   "metadata": {},
   "outputs": [
    {
     "data": {
      "text/plain": [
       "Index(['-5P', '-5G', '-5A', '-5C', '-5S', '-5T', '-5V', '-5I', '-5L', '-5M',\n",
       "       ...\n",
       "       '4E', '4s', '4t', '4y', '0s', '0t', '0y', '0S', '0T', '0Y'],\n",
       "      dtype='object', length=213)"
      ]
     },
     "execution_count": null,
     "metadata": {},
     "output_type": "execute_result"
    }
   ],
   "source": [
    "pspa_df.columns"
   ]
  },
  {
   "cell_type": "code",
   "execution_count": null,
   "id": "c0b54a41-1714-4550-8faf-28a13ed9ec9c",
   "metadata": {},
   "outputs": [],
   "source": [
    "columns_to_fill = pspa_df.columns"
   ]
  },
  {
   "cell_type": "code",
   "execution_count": null,
   "id": "18b3c02d-b0bb-41b9-a15e-632285e4fe6d",
   "metadata": {},
   "outputs": [],
   "source": [
    "df = df.merge(pspa_df2,'left')"
   ]
  },
  {
   "cell_type": "code",
   "execution_count": null,
   "id": "729bc852-aba1-442f-833a-e9db65c202f0",
   "metadata": {},
   "outputs": [],
   "source": [
    "for col in columns_to_fill:\n",
    "    df[col] = df.groupby('kd_seq')[col].transform(lambda x: x.ffill().bfill())"
   ]
  },
  {
   "cell_type": "code",
   "execution_count": null,
   "id": "0c38d64e-26d1-4340-8409-ea4acd4b0ea4",
   "metadata": {},
   "outputs": [
    {
     "data": {
      "text/plain": [
       "362"
      ]
     },
     "execution_count": null,
     "metadata": {},
     "output_type": "execute_result"
    }
   ],
   "source": [
    "len(pspa_df2)"
   ]
  },
  {
   "cell_type": "code",
   "execution_count": null,
   "id": "b1bfe180-5366-488b-873b-fa73c8b2073b",
   "metadata": {},
   "outputs": [],
   "source": [
    "df2 = df.dropna(subset='4E')"
   ]
  },
  {
   "cell_type": "code",
   "execution_count": null,
   "id": "f965126b-1db0-49e8-972a-1f4b11782b4c",
   "metadata": {},
   "outputs": [],
   "source": [
    "df2 = df2.set_index('kd_ID')[columns_to_fill]"
   ]
  },
  {
   "cell_type": "code",
   "execution_count": null,
   "id": "92303c80-fba1-4f42-ac28-42c6a1d1bad7",
   "metadata": {},
   "outputs": [],
   "source": [
    "labels=get_dendrogram_labels(t5.index,df2,0.15)"
   ]
  },
  {
   "cell_type": "code",
   "execution_count": null,
   "id": "efe4d21b-ec7b-4b0a-a7ba-543057a8c26d",
   "metadata": {},
   "outputs": [],
   "source": [
    "plot_dendrogram3(Z,output='dendrogram_similarity_1.pdf',labels =labels )"
   ]
  },
  {
   "cell_type": "code",
   "execution_count": null,
   "id": "1c0ca567-3608-4d57-84f1-96c1370be458",
   "metadata": {},
   "outputs": [],
   "source": []
  },
  {
   "cell_type": "code",
   "execution_count": null,
   "id": "dacce5ec-e9e6-4a91-8511-e2a38a726edd",
   "metadata": {},
   "outputs": [],
   "source": []
  },
  {
   "cell_type": "code",
   "execution_count": null,
   "id": "5a1e4dd5-0479-4b73-b7d9-ead2a78e2abf",
   "metadata": {},
   "outputs": [],
   "source": []
  },
  {
   "cell_type": "code",
   "execution_count": null,
   "id": "ec62c4fa-1a1e-47f2-8e04-adef3fcc4883",
   "metadata": {},
   "outputs": [],
   "source": [
    "def get_dup(df):\n",
    "    dup = df[df.kd_seq.duplicated(keep=False)].sort_values('kd_seq')\n",
    "    return dup.groupby('kd_seq').agg({'kd_ID':lambda x: ','.join(x)}).reset_index()"
   ]
  },
  {
   "cell_type": "code",
   "execution_count": null,
   "id": "b8b48143-14bf-45f1-a863-688f81dc7aba",
   "metadata": {},
   "outputs": [],
   "source": [
    "dup_unique = get_dup(df)\n",
    "dup_unique[dup_unique.kd_ID.str.contains(\"HUMAN\")].to_csv('duplicate_human_across.csv')"
   ]
  },
  {
   "cell_type": "code",
   "execution_count": null,
   "id": "1292d079-0390-42f4-9d41-b8a86eff66ab",
   "metadata": {},
   "outputs": [],
   "source": []
  }
 ],
 "metadata": {
  "kernelspec": {
   "display_name": "Python 3 (ipykernel)",
   "language": "python",
   "name": "python3"
  },
  "language_info": {
   "codemirror_mode": {
    "name": "ipython",
    "version": 3
   },
   "file_extension": ".py",
   "mimetype": "text/x-python",
   "name": "python",
   "nbconvert_exporter": "python",
   "pygments_lexer": "ipython3",
   "version": "3.12.3"
  },
  "widgets": {
   "application/vnd.jupyter.widget-state+json": {
    "state": {},
    "version_major": 2,
    "version_minor": 0
   }
  }
 },
 "nbformat": 4,
 "nbformat_minor": 5
}
