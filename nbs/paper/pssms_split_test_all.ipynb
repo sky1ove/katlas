{
 "cells": [
  {
   "cell_type": "markdown",
   "id": "677bc429-d93d-44be-a2fc-01bf157d97f8",
   "metadata": {},
   "source": [
    "# Get kinase-specific PSSMs"
   ]
  },
  {
   "cell_type": "code",
   "execution_count": 32,
   "id": "781c9925-435d-4f6e-9c34-4aba02b111b2",
   "metadata": {},
   "outputs": [],
   "source": [
    "from katlas.core import *\n",
    "import pandas as pd"
   ]
  },
  {
   "cell_type": "code",
   "execution_count": 33,
   "id": "7c6420f4-d431-4f5f-adf1-fe1243868b5c",
   "metadata": {},
   "outputs": [
    {
     "name": "stdout",
     "output_type": "stream",
     "text": [
      "CPU times: user 594 ms, sys: 607 ms, total: 1.2 s\n",
      "Wall time: 17.8 s\n"
     ]
    }
   ],
   "source": [
    "%%time\n",
    "df = Data.get_ks_dataset()"
   ]
  },
  {
   "cell_type": "code",
   "execution_count": 34,
   "id": "156d7e96-48dc-4de8-a213-50de14ee8ed1",
   "metadata": {},
   "outputs": [],
   "source": [
    "df['kinase_id'] = df['kinase_uniprot'] + '_' + df['kinase_protein'].str.split().str[0]"
   ]
  },
  {
   "cell_type": "code",
   "execution_count": 35,
   "id": "1957e6a2-28e8-4520-8fdb-d8e35fcc1e79",
   "metadata": {},
   "outputs": [],
   "source": [
    "cnt = df['kinase_id'].value_counts()"
   ]
  },
  {
   "cell_type": "code",
   "execution_count": 36,
   "id": "fd75a8fd-dcc7-495d-bd43-4801b48459ff",
   "metadata": {},
   "outputs": [
    {
     "data": {
      "text/plain": [
       "Index(['P12931_SRC', 'P29320_EPHA3', 'P07332_FES', 'Q16288_NTRK3',\n",
       "       'Q9UM73_ALK', 'P00519_ABL1', 'P36888_FLT3', 'P29322_EPHA8',\n",
       "       'P29323_EPHB2', 'P54762_EPHB1',\n",
       "       ...\n",
       "       'P35626_GRK3', 'Q99640_PKMYT1', 'O00311_CDC7', 'Q6P2M8_CAMK1B',\n",
       "       'Q9NYV4_CDK12', 'Q15746_SMMLCK', 'Q01973_ROR1', 'O14976_GAK',\n",
       "       'Q6P0Q8_MAST2', 'P15056_BRAF'],\n",
       "      dtype='object', name='kinase_id', length=333)"
      ]
     },
     "execution_count": 36,
     "metadata": {},
     "output_type": "execute_result"
    }
   ],
   "source": [
    "idx = cnt[cnt>=40].index\n",
    "idx"
   ]
  },
  {
   "cell_type": "code",
   "execution_count": 37,
   "id": "2f78c391-e5aa-4d4b-a5a7-1841e0fb5799",
   "metadata": {},
   "outputs": [
    {
     "data": {
      "text/plain": [
       "(187066, 22)"
      ]
     },
     "execution_count": 37,
     "metadata": {},
     "output_type": "execute_result"
    }
   ],
   "source": [
    "df.shape"
   ]
  },
  {
   "cell_type": "markdown",
   "id": "1a43f4f2-e13e-421c-847b-1a0be8324ab5",
   "metadata": {},
   "source": [
    "## All PSSMs"
   ]
  },
  {
   "cell_type": "code",
   "execution_count": 38,
   "id": "8b9d1717-d21e-48f8-910f-44ac48502bab",
   "metadata": {},
   "outputs": [],
   "source": [
    "df = df[df['kinase_id'].isin(idx)].copy()"
   ]
  },
  {
   "cell_type": "code",
   "execution_count": 45,
   "id": "887461d7-a4fd-4705-b5d5-65a88296763e",
   "metadata": {},
   "outputs": [
    {
     "name": "stderr",
     "output_type": "stream",
     "text": [
      "100%|███████████████████████████████████████████████████████████| 333/333 [00:05<00:00, 55.56it/s]\n"
     ]
    }
   ],
   "source": [
    "pssms_all = get_cluster_pssms(df,\n",
    "                          cluster_col = 'kinase_id',\n",
    "                          count_thr=None, # since we already filtered, we set None here\n",
    "                          valid_thr=0.6)"
   ]
  },
  {
   "cell_type": "code",
   "execution_count": 46,
   "id": "a66dab41-0bd8-49ab-a0b8-aba6cc1bb0b8",
   "metadata": {},
   "outputs": [
    {
     "data": {
      "text/plain": [
       "(332, 943)"
      ]
     },
     "execution_count": 46,
     "metadata": {},
     "output_type": "execute_result"
    }
   ],
   "source": [
    "pssms_all.shape"
   ]
  },
  {
   "cell_type": "code",
   "execution_count": 47,
   "id": "bb8b8663-2d2a-439b-8269-dbc1faf070c2",
   "metadata": {},
   "outputs": [],
   "source": [
    "pssms_all.to_parquet('out/CDDM_pssms.parquet')"
   ]
  },
  {
   "cell_type": "markdown",
   "id": "2217c0db-36b1-44d7-b453-09b8214d6aa8",
   "metadata": {},
   "source": [
    "### Upper"
   ]
  },
  {
   "cell_type": "code",
   "execution_count": 48,
   "id": "fbcce44f-7455-48dd-a24d-a5b16025cc92",
   "metadata": {},
   "outputs": [],
   "source": [
    "df['site_seq_upper'] = df.site_seq.str.upper()"
   ]
  },
  {
   "cell_type": "code",
   "execution_count": 49,
   "id": "702fdcb8-ce90-491d-955e-a74852a6b274",
   "metadata": {},
   "outputs": [
    {
     "name": "stderr",
     "output_type": "stream",
     "text": [
      "100%|███████████████████████████████████████████████████████████| 333/333 [00:06<00:00, 51.21it/s]\n"
     ]
    }
   ],
   "source": [
    "pssms_all_upper = get_cluster_pssms(df,\n",
    "                              seq_col='site_seq_upper',\n",
    "                          cluster_col = 'kinase_id',\n",
    "                          count_thr=None, # since we already filtered, we set None here\n",
    "                          valid_thr=0.6)"
   ]
  },
  {
   "cell_type": "code",
   "execution_count": 50,
   "id": "726d50fa-a3d9-4ef9-8d70-891161e3ba1e",
   "metadata": {},
   "outputs": [],
   "source": [
    "pssms_all_upper.to_parquet('out/CDDM_pssms_upper.parquet')"
   ]
  },
  {
   "cell_type": "markdown",
   "id": "1e48fbff-1808-47e5-ba4c-dfcfeff25dfa",
   "metadata": {},
   "source": [
    "## All log-odds"
   ]
  },
  {
   "cell_type": "code",
   "execution_count": 51,
   "id": "190772ab-d7ca-4e4e-82af-efbc59a1d976",
   "metadata": {},
   "outputs": [],
   "source": [
    "def get_LO_all(pssms,site_type='STY'):\n",
    "    out=[]\n",
    "    for idx, flat_pssm in pssms.iterrows():\n",
    "        out.append(flatten_pssm(get_pssm_LO_flat(flat_pssm,site_type)))\n",
    "    return pd.DataFrame(out,index=pssms.index)"
   ]
  },
  {
   "cell_type": "code",
   "execution_count": 52,
   "id": "e2f09925-1d23-4d07-884b-3e7e2c4a7bef",
   "metadata": {},
   "outputs": [],
   "source": [
    "LO_all = get_LO_all(pssms_all)"
   ]
  },
  {
   "cell_type": "code",
   "execution_count": 53,
   "id": "f1540581-8a54-4abf-9bc0-c5c03195f73d",
   "metadata": {},
   "outputs": [],
   "source": [
    "LO_all.to_parquet('out/CDDM_pssms_LO.parquet')"
   ]
  },
  {
   "cell_type": "code",
   "execution_count": 54,
   "id": "a1a6b976-6ba2-41a1-b03f-801783d06b5e",
   "metadata": {},
   "outputs": [],
   "source": [
    "LO_all_upper = get_LO_all(pssms_all_upper,site_type='STY_upper')"
   ]
  },
  {
   "cell_type": "code",
   "execution_count": 55,
   "id": "aadcd74b-4e74-4e39-8b29-0453a8797ddd",
   "metadata": {},
   "outputs": [],
   "source": [
    "LO_all_upper.to_parquet('out/CDDM_pssms_LO_upper.parquet')"
   ]
  },
  {
   "cell_type": "markdown",
   "id": "3bcbe0ce-2470-47c8-b1e7-0d0f7062cea7",
   "metadata": {},
   "source": [
    "## Remove isoform and pseudo gene"
   ]
  },
  {
   "cell_type": "code",
   "execution_count": 56,
   "id": "ff06dda3-2d49-44df-bcc2-b6e77e17234f",
   "metadata": {},
   "outputs": [],
   "source": [
    "LO = pd.read_parquet('out/CDDM_pssms_LO.parquet')\n",
    "LO_upper = pd.read_parquet('out/CDDM_pssms_LO_upper.parquet')"
   ]
  },
  {
   "cell_type": "code",
   "execution_count": 57,
   "id": "f0e187b8-adfb-4a40-aa32-8d8bba1f2d7d",
   "metadata": {},
   "outputs": [],
   "source": [
    "pssms = pd.read_parquet('out/CDDM_pssms.parquet')\n",
    "pssms_upper = pd.read_parquet('out/CDDM_pssms_upper.parquet')"
   ]
  },
  {
   "cell_type": "code",
   "execution_count": 58,
   "id": "92df9681-983b-4d95-b349-21a8ff771182",
   "metadata": {},
   "outputs": [
    {
     "data": {
      "text/plain": [
       "((332, 943), (332, 943))"
      ]
     },
     "execution_count": 58,
     "metadata": {},
     "output_type": "execute_result"
    }
   ],
   "source": [
    "LO.shape,pssms.shape"
   ]
  },
  {
   "cell_type": "code",
   "execution_count": 59,
   "id": "5cc7fc1e-dc8f-453e-8c35-dea8a1d5a7ec",
   "metadata": {},
   "outputs": [],
   "source": [
    "info= Data.get_kinase_info()"
   ]
  },
  {
   "cell_type": "code",
   "execution_count": 60,
   "id": "c33d4ea5-39c8-4bb6-8525-6f238e0a826a",
   "metadata": {},
   "outputs": [],
   "source": [
    "info = info[info.pseudo=='0'].copy()"
   ]
  },
  {
   "cell_type": "code",
   "execution_count": 61,
   "id": "e072a552-8ea4-416d-9d93-6850c8018877",
   "metadata": {},
   "outputs": [],
   "source": [
    "info['id'] = info.uniprot+'_'+info.kinase"
   ]
  },
  {
   "cell_type": "code",
   "execution_count": 62,
   "id": "9f8103e3-9453-4955-bfc0-8594b7db2765",
   "metadata": {},
   "outputs": [
    {
     "data": {
      "text/html": [
       "<div>\n",
       "<style scoped>\n",
       "    .dataframe tbody tr th:only-of-type {\n",
       "        vertical-align: middle;\n",
       "    }\n",
       "\n",
       "    .dataframe tbody tr th {\n",
       "        vertical-align: top;\n",
       "    }\n",
       "\n",
       "    .dataframe thead th {\n",
       "        text-align: right;\n",
       "    }\n",
       "</style>\n",
       "<table border=\"1\" class=\"dataframe\">\n",
       "  <thead>\n",
       "    <tr style=\"text-align: right;\">\n",
       "      <th></th>\n",
       "      <th>-20P</th>\n",
       "      <th>-20G</th>\n",
       "      <th>-20A</th>\n",
       "      <th>-20C</th>\n",
       "      <th>-20S</th>\n",
       "      <th>-20T</th>\n",
       "      <th>-20V</th>\n",
       "      <th>-20I</th>\n",
       "      <th>-20L</th>\n",
       "      <th>-20M</th>\n",
       "      <th>...</th>\n",
       "      <th>20H</th>\n",
       "      <th>20K</th>\n",
       "      <th>20R</th>\n",
       "      <th>20Q</th>\n",
       "      <th>20N</th>\n",
       "      <th>20D</th>\n",
       "      <th>20E</th>\n",
       "      <th>20pS</th>\n",
       "      <th>20pT</th>\n",
       "      <th>20pY</th>\n",
       "    </tr>\n",
       "    <tr>\n",
       "      <th>index</th>\n",
       "      <th></th>\n",
       "      <th></th>\n",
       "      <th></th>\n",
       "      <th></th>\n",
       "      <th></th>\n",
       "      <th></th>\n",
       "      <th></th>\n",
       "      <th></th>\n",
       "      <th></th>\n",
       "      <th></th>\n",
       "      <th></th>\n",
       "      <th></th>\n",
       "      <th></th>\n",
       "      <th></th>\n",
       "      <th></th>\n",
       "      <th></th>\n",
       "      <th></th>\n",
       "      <th></th>\n",
       "      <th></th>\n",
       "      <th></th>\n",
       "      <th></th>\n",
       "    </tr>\n",
       "  </thead>\n",
       "  <tbody>\n",
       "    <tr>\n",
       "      <th>P07948-2_LYN</th>\n",
       "      <td>-0.695061</td>\n",
       "      <td>0.248942</td>\n",
       "      <td>-0.181606</td>\n",
       "      <td>-0.523522</td>\n",
       "      <td>-0.241880</td>\n",
       "      <td>-0.087184</td>\n",
       "      <td>0.270835</td>\n",
       "      <td>0.248626</td>\n",
       "      <td>-0.177055</td>\n",
       "      <td>0.151905</td>\n",
       "      <td>...</td>\n",
       "      <td>-1.002663</td>\n",
       "      <td>0.187090</td>\n",
       "      <td>-0.131176</td>\n",
       "      <td>-0.477873</td>\n",
       "      <td>0.089392</td>\n",
       "      <td>-0.069890</td>\n",
       "      <td>0.272381</td>\n",
       "      <td>-0.624875</td>\n",
       "      <td>-0.293957</td>\n",
       "      <td>0.686397</td>\n",
       "    </tr>\n",
       "    <tr>\n",
       "      <th>O60566_BUB1B</th>\n",
       "      <td>-0.098063</td>\n",
       "      <td>0.177522</td>\n",
       "      <td>0.006417</td>\n",
       "      <td>-2.364642</td>\n",
       "      <td>-0.336759</td>\n",
       "      <td>-0.656228</td>\n",
       "      <td>0.622357</td>\n",
       "      <td>0.285512</td>\n",
       "      <td>-1.214575</td>\n",
       "      <td>-1.313708</td>\n",
       "      <td>...</td>\n",
       "      <td>0.538365</td>\n",
       "      <td>0.313082</td>\n",
       "      <td>-0.184508</td>\n",
       "      <td>-1.521805</td>\n",
       "      <td>0.314920</td>\n",
       "      <td>0.267606</td>\n",
       "      <td>0.993983</td>\n",
       "      <td>-0.586346</td>\n",
       "      <td>-0.015962</td>\n",
       "      <td>-0.647041</td>\n",
       "    </tr>\n",
       "    <tr>\n",
       "      <th>P05771-2_PKCB</th>\n",
       "      <td>-0.513296</td>\n",
       "      <td>0.082197</td>\n",
       "      <td>-0.419347</td>\n",
       "      <td>0.153007</td>\n",
       "      <td>0.387344</td>\n",
       "      <td>0.446387</td>\n",
       "      <td>1.033094</td>\n",
       "      <td>1.359558</td>\n",
       "      <td>-0.959957</td>\n",
       "      <td>-0.059090</td>\n",
       "      <td>...</td>\n",
       "      <td>1.086193</td>\n",
       "      <td>-0.296631</td>\n",
       "      <td>-0.264711</td>\n",
       "      <td>-1.710942</td>\n",
       "      <td>0.415289</td>\n",
       "      <td>0.443465</td>\n",
       "      <td>0.117313</td>\n",
       "      <td>0.283410</td>\n",
       "      <td>-0.205099</td>\n",
       "      <td>-0.099214</td>\n",
       "    </tr>\n",
       "    <tr>\n",
       "      <th>Q13976-2_PKG1</th>\n",
       "      <td>0.267160</td>\n",
       "      <td>-0.880855</td>\n",
       "      <td>0.326552</td>\n",
       "      <td>-20.552054</td>\n",
       "      <td>-0.980098</td>\n",
       "      <td>-0.599127</td>\n",
       "      <td>0.959565</td>\n",
       "      <td>-0.422922</td>\n",
       "      <td>-0.420509</td>\n",
       "      <td>-0.841570</td>\n",
       "      <td>...</td>\n",
       "      <td>0.565165</td>\n",
       "      <td>0.388792</td>\n",
       "      <td>0.076757</td>\n",
       "      <td>0.183066</td>\n",
       "      <td>-0.243242</td>\n",
       "      <td>-0.843097</td>\n",
       "      <td>-0.192211</td>\n",
       "      <td>0.440454</td>\n",
       "      <td>-1.311089</td>\n",
       "      <td>1.379757</td>\n",
       "    </tr>\n",
       "  </tbody>\n",
       "</table>\n",
       "<p>4 rows × 943 columns</p>\n",
       "</div>"
      ],
      "text/plain": [
       "                   -20P      -20G      -20A       -20C      -20S      -20T  \\\n",
       "index                                                                        \n",
       "P07948-2_LYN  -0.695061  0.248942 -0.181606  -0.523522 -0.241880 -0.087184   \n",
       "O60566_BUB1B  -0.098063  0.177522  0.006417  -2.364642 -0.336759 -0.656228   \n",
       "P05771-2_PKCB -0.513296  0.082197 -0.419347   0.153007  0.387344  0.446387   \n",
       "Q13976-2_PKG1  0.267160 -0.880855  0.326552 -20.552054 -0.980098 -0.599127   \n",
       "\n",
       "                   -20V      -20I      -20L      -20M  ...       20H  \\\n",
       "index                                                  ...             \n",
       "P07948-2_LYN   0.270835  0.248626 -0.177055  0.151905  ... -1.002663   \n",
       "O60566_BUB1B   0.622357  0.285512 -1.214575 -1.313708  ...  0.538365   \n",
       "P05771-2_PKCB  1.033094  1.359558 -0.959957 -0.059090  ...  1.086193   \n",
       "Q13976-2_PKG1  0.959565 -0.422922 -0.420509 -0.841570  ...  0.565165   \n",
       "\n",
       "                    20K       20R       20Q       20N       20D       20E  \\\n",
       "index                                                                       \n",
       "P07948-2_LYN   0.187090 -0.131176 -0.477873  0.089392 -0.069890  0.272381   \n",
       "O60566_BUB1B   0.313082 -0.184508 -1.521805  0.314920  0.267606  0.993983   \n",
       "P05771-2_PKCB -0.296631 -0.264711 -1.710942  0.415289  0.443465  0.117313   \n",
       "Q13976-2_PKG1  0.388792  0.076757  0.183066 -0.243242 -0.843097 -0.192211   \n",
       "\n",
       "                   20pS      20pT      20pY  \n",
       "index                                        \n",
       "P07948-2_LYN  -0.624875 -0.293957  0.686397  \n",
       "O60566_BUB1B  -0.586346 -0.015962 -0.647041  \n",
       "P05771-2_PKCB  0.283410 -0.205099 -0.099214  \n",
       "Q13976-2_PKG1  0.440454 -1.311089  1.379757  \n",
       "\n",
       "[4 rows x 943 columns]"
      ]
     },
     "execution_count": 62,
     "metadata": {},
     "output_type": "execute_result"
    }
   ],
   "source": [
    "LO[~LO.index.isin(info.id)]"
   ]
  },
  {
   "cell_type": "code",
   "execution_count": 63,
   "id": "33dc20b3-733b-4db3-be8b-f7e702f5c943",
   "metadata": {},
   "outputs": [],
   "source": [
    "LO = LO[LO.index.isin(info.id)]\n",
    "LO_upper =LO_upper[LO_upper.index.isin(info.id)]"
   ]
  },
  {
   "cell_type": "code",
   "execution_count": 64,
   "id": "7e905cbd-8eec-46f5-b30c-0ee6c4fa6d23",
   "metadata": {},
   "outputs": [],
   "source": [
    "pssms= pssms[pssms.index.isin(info.id)]\n",
    "pssms_upper = pssms_upper[pssms_upper.index.isin(info.id)]"
   ]
  },
  {
   "cell_type": "code",
   "execution_count": 65,
   "id": "37f3d855-acd8-4c2c-af38-1922830c1ea5",
   "metadata": {},
   "outputs": [
    {
     "data": {
      "text/plain": [
       "((328, 943), (328, 943))"
      ]
     },
     "execution_count": 65,
     "metadata": {},
     "output_type": "execute_result"
    }
   ],
   "source": [
    "LO.shape,pssms.shape"
   ]
  },
  {
   "cell_type": "code",
   "execution_count": 66,
   "id": "c8429194-e1e9-4fd7-baa4-81a42edf2362",
   "metadata": {},
   "outputs": [],
   "source": [
    "LO.to_parquet('out/CDDM_pssms_LO.parquet')\n",
    "LO_upper.to_parquet('out/CDDM_pssms_LO_upper.parquet')"
   ]
  },
  {
   "cell_type": "code",
   "execution_count": 67,
   "id": "41fd58ac-64fd-44e3-93e2-6663b006e27d",
   "metadata": {},
   "outputs": [],
   "source": [
    "pssms.to_parquet('out/CDDM_pssms.parquet')\n",
    "pssms_upper.to_parquet('out/CDDM_pssms_upper.parquet')"
   ]
  },
  {
   "cell_type": "code",
   "execution_count": 68,
   "id": "ec9b1cee-8ec5-46c7-b21a-1097febe4f46",
   "metadata": {},
   "outputs": [
    {
     "data": {
      "text/html": [
       "<div>\n",
       "<style scoped>\n",
       "    .dataframe tbody tr th:only-of-type {\n",
       "        vertical-align: middle;\n",
       "    }\n",
       "\n",
       "    .dataframe tbody tr th {\n",
       "        vertical-align: top;\n",
       "    }\n",
       "\n",
       "    .dataframe thead th {\n",
       "        text-align: right;\n",
       "    }\n",
       "</style>\n",
       "<table border=\"1\" class=\"dataframe\">\n",
       "  <thead>\n",
       "    <tr style=\"text-align: right;\">\n",
       "      <th></th>\n",
       "      <th>-20P</th>\n",
       "      <th>-20G</th>\n",
       "      <th>-20A</th>\n",
       "      <th>-20C</th>\n",
       "      <th>-20S</th>\n",
       "      <th>-20T</th>\n",
       "      <th>-20V</th>\n",
       "      <th>-20I</th>\n",
       "      <th>-20L</th>\n",
       "      <th>-20M</th>\n",
       "      <th>...</th>\n",
       "      <th>20H</th>\n",
       "      <th>20K</th>\n",
       "      <th>20R</th>\n",
       "      <th>20Q</th>\n",
       "      <th>20N</th>\n",
       "      <th>20D</th>\n",
       "      <th>20E</th>\n",
       "      <th>20pS</th>\n",
       "      <th>20pT</th>\n",
       "      <th>20pY</th>\n",
       "    </tr>\n",
       "    <tr>\n",
       "      <th>index</th>\n",
       "      <th></th>\n",
       "      <th></th>\n",
       "      <th></th>\n",
       "      <th></th>\n",
       "      <th></th>\n",
       "      <th></th>\n",
       "      <th></th>\n",
       "      <th></th>\n",
       "      <th></th>\n",
       "      <th></th>\n",
       "      <th></th>\n",
       "      <th></th>\n",
       "      <th></th>\n",
       "      <th></th>\n",
       "      <th></th>\n",
       "      <th></th>\n",
       "      <th></th>\n",
       "      <th></th>\n",
       "      <th></th>\n",
       "      <th></th>\n",
       "      <th></th>\n",
       "    </tr>\n",
       "  </thead>\n",
       "  <tbody>\n",
       "    <tr>\n",
       "      <th>P12931_SRC</th>\n",
       "      <td>0.054538</td>\n",
       "      <td>0.081380</td>\n",
       "      <td>0.060077</td>\n",
       "      <td>0.012356</td>\n",
       "      <td>0.036216</td>\n",
       "      <td>0.032382</td>\n",
       "      <td>0.055816</td>\n",
       "      <td>0.052407</td>\n",
       "      <td>0.083511</td>\n",
       "      <td>0.023434</td>\n",
       "      <td>...</td>\n",
       "      <td>0.013351</td>\n",
       "      <td>0.076992</td>\n",
       "      <td>0.060970</td>\n",
       "      <td>0.037383</td>\n",
       "      <td>0.036938</td>\n",
       "      <td>0.052960</td>\n",
       "      <td>0.086337</td>\n",
       "      <td>0.025367</td>\n",
       "      <td>0.015576</td>\n",
       "      <td>0.023142</td>\n",
       "    </tr>\n",
       "    <tr>\n",
       "      <th>P29320_EPHA3</th>\n",
       "      <td>0.044276</td>\n",
       "      <td>0.088013</td>\n",
       "      <td>0.065335</td>\n",
       "      <td>0.008639</td>\n",
       "      <td>0.037797</td>\n",
       "      <td>0.036717</td>\n",
       "      <td>0.072354</td>\n",
       "      <td>0.048596</td>\n",
       "      <td>0.075594</td>\n",
       "      <td>0.026998</td>\n",
       "      <td>...</td>\n",
       "      <td>0.014132</td>\n",
       "      <td>0.083098</td>\n",
       "      <td>0.059356</td>\n",
       "      <td>0.031091</td>\n",
       "      <td>0.033917</td>\n",
       "      <td>0.056529</td>\n",
       "      <td>0.100622</td>\n",
       "      <td>0.025438</td>\n",
       "      <td>0.013567</td>\n",
       "      <td>0.015828</td>\n",
       "    </tr>\n",
       "    <tr>\n",
       "      <th>P07332_FES</th>\n",
       "      <td>0.047231</td>\n",
       "      <td>0.082519</td>\n",
       "      <td>0.070575</td>\n",
       "      <td>0.011401</td>\n",
       "      <td>0.034745</td>\n",
       "      <td>0.039088</td>\n",
       "      <td>0.061889</td>\n",
       "      <td>0.053203</td>\n",
       "      <td>0.088491</td>\n",
       "      <td>0.026059</td>\n",
       "      <td>...</td>\n",
       "      <td>0.013053</td>\n",
       "      <td>0.086266</td>\n",
       "      <td>0.055619</td>\n",
       "      <td>0.040863</td>\n",
       "      <td>0.038025</td>\n",
       "      <td>0.059024</td>\n",
       "      <td>0.085698</td>\n",
       "      <td>0.026674</td>\n",
       "      <td>0.013621</td>\n",
       "      <td>0.019296</td>\n",
       "    </tr>\n",
       "    <tr>\n",
       "      <th>Q16288_NTRK3</th>\n",
       "      <td>0.044444</td>\n",
       "      <td>0.074644</td>\n",
       "      <td>0.074074</td>\n",
       "      <td>0.017094</td>\n",
       "      <td>0.033048</td>\n",
       "      <td>0.035328</td>\n",
       "      <td>0.060969</td>\n",
       "      <td>0.058120</td>\n",
       "      <td>0.084330</td>\n",
       "      <td>0.026781</td>\n",
       "      <td>...</td>\n",
       "      <td>0.015682</td>\n",
       "      <td>0.091677</td>\n",
       "      <td>0.052473</td>\n",
       "      <td>0.030760</td>\n",
       "      <td>0.044029</td>\n",
       "      <td>0.057298</td>\n",
       "      <td>0.088661</td>\n",
       "      <td>0.021713</td>\n",
       "      <td>0.015682</td>\n",
       "      <td>0.018094</td>\n",
       "    </tr>\n",
       "    <tr>\n",
       "      <th>Q9UM73_ALK</th>\n",
       "      <td>0.045748</td>\n",
       "      <td>0.079765</td>\n",
       "      <td>0.073314</td>\n",
       "      <td>0.018182</td>\n",
       "      <td>0.032845</td>\n",
       "      <td>0.035191</td>\n",
       "      <td>0.067449</td>\n",
       "      <td>0.051026</td>\n",
       "      <td>0.076246</td>\n",
       "      <td>0.027566</td>\n",
       "      <td>...</td>\n",
       "      <td>0.015634</td>\n",
       "      <td>0.090198</td>\n",
       "      <td>0.069152</td>\n",
       "      <td>0.030066</td>\n",
       "      <td>0.043897</td>\n",
       "      <td>0.051112</td>\n",
       "      <td>0.096212</td>\n",
       "      <td>0.026458</td>\n",
       "      <td>0.013229</td>\n",
       "      <td>0.017438</td>\n",
       "    </tr>\n",
       "    <tr>\n",
       "      <th>...</th>\n",
       "      <td>...</td>\n",
       "      <td>...</td>\n",
       "      <td>...</td>\n",
       "      <td>...</td>\n",
       "      <td>...</td>\n",
       "      <td>...</td>\n",
       "      <td>...</td>\n",
       "      <td>...</td>\n",
       "      <td>...</td>\n",
       "      <td>...</td>\n",
       "      <td>...</td>\n",
       "      <td>...</td>\n",
       "      <td>...</td>\n",
       "      <td>...</td>\n",
       "      <td>...</td>\n",
       "      <td>...</td>\n",
       "      <td>...</td>\n",
       "      <td>...</td>\n",
       "      <td>...</td>\n",
       "      <td>...</td>\n",
       "      <td>...</td>\n",
       "    </tr>\n",
       "    <tr>\n",
       "      <th>Q15746_SMMLCK</th>\n",
       "      <td>0.078947</td>\n",
       "      <td>0.052632</td>\n",
       "      <td>0.078947</td>\n",
       "      <td>0.026316</td>\n",
       "      <td>0.052632</td>\n",
       "      <td>0.026316</td>\n",
       "      <td>0.052632</td>\n",
       "      <td>0.052632</td>\n",
       "      <td>0.052632</td>\n",
       "      <td>0.000000</td>\n",
       "      <td>...</td>\n",
       "      <td>0.000000</td>\n",
       "      <td>0.066667</td>\n",
       "      <td>0.022222</td>\n",
       "      <td>0.044444</td>\n",
       "      <td>0.133333</td>\n",
       "      <td>0.044444</td>\n",
       "      <td>0.000000</td>\n",
       "      <td>0.044444</td>\n",
       "      <td>0.022222</td>\n",
       "      <td>0.000000</td>\n",
       "    </tr>\n",
       "    <tr>\n",
       "      <th>Q01973_ROR1</th>\n",
       "      <td>0.097561</td>\n",
       "      <td>0.097561</td>\n",
       "      <td>0.024390</td>\n",
       "      <td>0.000000</td>\n",
       "      <td>0.024390</td>\n",
       "      <td>0.146341</td>\n",
       "      <td>0.170732</td>\n",
       "      <td>0.024390</td>\n",
       "      <td>0.048780</td>\n",
       "      <td>0.000000</td>\n",
       "      <td>...</td>\n",
       "      <td>0.000000</td>\n",
       "      <td>0.075000</td>\n",
       "      <td>0.050000</td>\n",
       "      <td>0.000000</td>\n",
       "      <td>0.050000</td>\n",
       "      <td>0.025000</td>\n",
       "      <td>0.125000</td>\n",
       "      <td>0.125000</td>\n",
       "      <td>0.000000</td>\n",
       "      <td>0.025000</td>\n",
       "    </tr>\n",
       "    <tr>\n",
       "      <th>P15056_BRAF</th>\n",
       "      <td>0.095238</td>\n",
       "      <td>0.071429</td>\n",
       "      <td>0.047619</td>\n",
       "      <td>0.000000</td>\n",
       "      <td>0.095238</td>\n",
       "      <td>0.047619</td>\n",
       "      <td>0.071429</td>\n",
       "      <td>0.000000</td>\n",
       "      <td>0.095238</td>\n",
       "      <td>0.047619</td>\n",
       "      <td>...</td>\n",
       "      <td>0.000000</td>\n",
       "      <td>0.075000</td>\n",
       "      <td>0.075000</td>\n",
       "      <td>0.025000</td>\n",
       "      <td>0.025000</td>\n",
       "      <td>0.075000</td>\n",
       "      <td>0.075000</td>\n",
       "      <td>0.050000</td>\n",
       "      <td>0.000000</td>\n",
       "      <td>0.000000</td>\n",
       "    </tr>\n",
       "    <tr>\n",
       "      <th>O14976_GAK</th>\n",
       "      <td>0.075000</td>\n",
       "      <td>0.075000</td>\n",
       "      <td>0.175000</td>\n",
       "      <td>0.000000</td>\n",
       "      <td>0.025000</td>\n",
       "      <td>0.025000</td>\n",
       "      <td>0.100000</td>\n",
       "      <td>0.025000</td>\n",
       "      <td>0.050000</td>\n",
       "      <td>0.175000</td>\n",
       "      <td>...</td>\n",
       "      <td>0.000000</td>\n",
       "      <td>0.024390</td>\n",
       "      <td>0.024390</td>\n",
       "      <td>0.000000</td>\n",
       "      <td>0.170732</td>\n",
       "      <td>0.195122</td>\n",
       "      <td>0.024390</td>\n",
       "      <td>0.048780</td>\n",
       "      <td>0.024390</td>\n",
       "      <td>0.000000</td>\n",
       "    </tr>\n",
       "    <tr>\n",
       "      <th>Q6P0Q8_MAST2</th>\n",
       "      <td>0.046512</td>\n",
       "      <td>0.116279</td>\n",
       "      <td>0.069767</td>\n",
       "      <td>0.000000</td>\n",
       "      <td>0.023256</td>\n",
       "      <td>0.069767</td>\n",
       "      <td>0.069767</td>\n",
       "      <td>0.000000</td>\n",
       "      <td>0.046512</td>\n",
       "      <td>0.046512</td>\n",
       "      <td>...</td>\n",
       "      <td>0.000000</td>\n",
       "      <td>0.048780</td>\n",
       "      <td>0.219512</td>\n",
       "      <td>0.000000</td>\n",
       "      <td>0.048780</td>\n",
       "      <td>0.024390</td>\n",
       "      <td>0.024390</td>\n",
       "      <td>0.024390</td>\n",
       "      <td>0.000000</td>\n",
       "      <td>0.000000</td>\n",
       "    </tr>\n",
       "  </tbody>\n",
       "</table>\n",
       "<p>328 rows × 943 columns</p>\n",
       "</div>"
      ],
      "text/plain": [
       "                   -20P      -20G      -20A      -20C      -20S      -20T  \\\n",
       "index                                                                       \n",
       "P12931_SRC     0.054538  0.081380  0.060077  0.012356  0.036216  0.032382   \n",
       "P29320_EPHA3   0.044276  0.088013  0.065335  0.008639  0.037797  0.036717   \n",
       "P07332_FES     0.047231  0.082519  0.070575  0.011401  0.034745  0.039088   \n",
       "Q16288_NTRK3   0.044444  0.074644  0.074074  0.017094  0.033048  0.035328   \n",
       "Q9UM73_ALK     0.045748  0.079765  0.073314  0.018182  0.032845  0.035191   \n",
       "...                 ...       ...       ...       ...       ...       ...   \n",
       "Q15746_SMMLCK  0.078947  0.052632  0.078947  0.026316  0.052632  0.026316   \n",
       "Q01973_ROR1    0.097561  0.097561  0.024390  0.000000  0.024390  0.146341   \n",
       "P15056_BRAF    0.095238  0.071429  0.047619  0.000000  0.095238  0.047619   \n",
       "O14976_GAK     0.075000  0.075000  0.175000  0.000000  0.025000  0.025000   \n",
       "Q6P0Q8_MAST2   0.046512  0.116279  0.069767  0.000000  0.023256  0.069767   \n",
       "\n",
       "                   -20V      -20I      -20L      -20M  ...       20H  \\\n",
       "index                                                  ...             \n",
       "P12931_SRC     0.055816  0.052407  0.083511  0.023434  ...  0.013351   \n",
       "P29320_EPHA3   0.072354  0.048596  0.075594  0.026998  ...  0.014132   \n",
       "P07332_FES     0.061889  0.053203  0.088491  0.026059  ...  0.013053   \n",
       "Q16288_NTRK3   0.060969  0.058120  0.084330  0.026781  ...  0.015682   \n",
       "Q9UM73_ALK     0.067449  0.051026  0.076246  0.027566  ...  0.015634   \n",
       "...                 ...       ...       ...       ...  ...       ...   \n",
       "Q15746_SMMLCK  0.052632  0.052632  0.052632  0.000000  ...  0.000000   \n",
       "Q01973_ROR1    0.170732  0.024390  0.048780  0.000000  ...  0.000000   \n",
       "P15056_BRAF    0.071429  0.000000  0.095238  0.047619  ...  0.000000   \n",
       "O14976_GAK     0.100000  0.025000  0.050000  0.175000  ...  0.000000   \n",
       "Q6P0Q8_MAST2   0.069767  0.000000  0.046512  0.046512  ...  0.000000   \n",
       "\n",
       "                    20K       20R       20Q       20N       20D       20E  \\\n",
       "index                                                                       \n",
       "P12931_SRC     0.076992  0.060970  0.037383  0.036938  0.052960  0.086337   \n",
       "P29320_EPHA3   0.083098  0.059356  0.031091  0.033917  0.056529  0.100622   \n",
       "P07332_FES     0.086266  0.055619  0.040863  0.038025  0.059024  0.085698   \n",
       "Q16288_NTRK3   0.091677  0.052473  0.030760  0.044029  0.057298  0.088661   \n",
       "Q9UM73_ALK     0.090198  0.069152  0.030066  0.043897  0.051112  0.096212   \n",
       "...                 ...       ...       ...       ...       ...       ...   \n",
       "Q15746_SMMLCK  0.066667  0.022222  0.044444  0.133333  0.044444  0.000000   \n",
       "Q01973_ROR1    0.075000  0.050000  0.000000  0.050000  0.025000  0.125000   \n",
       "P15056_BRAF    0.075000  0.075000  0.025000  0.025000  0.075000  0.075000   \n",
       "O14976_GAK     0.024390  0.024390  0.000000  0.170732  0.195122  0.024390   \n",
       "Q6P0Q8_MAST2   0.048780  0.219512  0.000000  0.048780  0.024390  0.024390   \n",
       "\n",
       "                   20pS      20pT      20pY  \n",
       "index                                        \n",
       "P12931_SRC     0.025367  0.015576  0.023142  \n",
       "P29320_EPHA3   0.025438  0.013567  0.015828  \n",
       "P07332_FES     0.026674  0.013621  0.019296  \n",
       "Q16288_NTRK3   0.021713  0.015682  0.018094  \n",
       "Q9UM73_ALK     0.026458  0.013229  0.017438  \n",
       "...                 ...       ...       ...  \n",
       "Q15746_SMMLCK  0.044444  0.022222  0.000000  \n",
       "Q01973_ROR1    0.125000  0.000000  0.025000  \n",
       "P15056_BRAF    0.050000  0.000000  0.000000  \n",
       "O14976_GAK     0.048780  0.024390  0.000000  \n",
       "Q6P0Q8_MAST2   0.024390  0.000000  0.000000  \n",
       "\n",
       "[328 rows x 943 columns]"
      ]
     },
     "execution_count": 68,
     "metadata": {},
     "output_type": "execute_result"
    }
   ],
   "source": [
    "pssms"
   ]
  },
  {
   "cell_type": "code",
   "execution_count": null,
   "id": "f92b8b07-63e2-438a-8b64-9a181265115e",
   "metadata": {},
   "outputs": [],
   "source": []
  }
 ],
 "metadata": {
  "kernelspec": {
   "display_name": "Python 3 (ipykernel)",
   "language": "python",
   "name": "python3"
  },
  "language_info": {
   "codemirror_mode": {
    "name": "ipython",
    "version": 3
   },
   "file_extension": ".py",
   "mimetype": "text/x-python",
   "name": "python",
   "nbconvert_exporter": "python",
   "pygments_lexer": "ipython3",
   "version": "3.13.2"
  },
  "widgets": {
   "application/vnd.jupyter.widget-state+json": {
    "state": {},
    "version_major": 2,
    "version_minor": 0
   }
  }
 },
 "nbformat": 4,
 "nbformat_minor": 5
}
