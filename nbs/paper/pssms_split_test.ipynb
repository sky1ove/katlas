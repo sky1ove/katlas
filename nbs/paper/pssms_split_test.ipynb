{
 "cells": [
  {
   "cell_type": "markdown",
   "id": "677bc429-d93d-44be-a2fc-01bf157d97f8",
   "metadata": {},
   "source": [
    "# Get kinase-specific PSSMs"
   ]
  },
  {
   "cell_type": "code",
   "execution_count": 147,
   "id": "781c9925-435d-4f6e-9c34-4aba02b111b2",
   "metadata": {},
   "outputs": [],
   "source": [
    "from katlas.core import *\n",
    "import pandas as pd"
   ]
  },
  {
   "cell_type": "code",
   "execution_count": 148,
   "id": "7c6420f4-d431-4f5f-adf1-fe1243868b5c",
   "metadata": {},
   "outputs": [
    {
     "name": "stdout",
     "output_type": "stream",
     "text": [
      "CPU times: user 2.9 s, sys: 404 ms, total: 3.31 s\n",
      "Wall time: 7.36 s\n"
     ]
    }
   ],
   "source": [
    "%%time\n",
    "df = Data.get_ks_dataset()"
   ]
  },
  {
   "cell_type": "code",
   "execution_count": 149,
   "id": "156d7e96-48dc-4de8-a213-50de14ee8ed1",
   "metadata": {},
   "outputs": [],
   "source": [
    "df['kinase_id'] = df['kinase_uniprot'] + '_' + df['kinase_protein'].str.split().str[0]"
   ]
  },
  {
   "cell_type": "code",
   "execution_count": 150,
   "id": "1957e6a2-28e8-4520-8fdb-d8e35fcc1e79",
   "metadata": {},
   "outputs": [],
   "source": [
    "cnt = df['kinase_id'].value_counts()"
   ]
  },
  {
   "cell_type": "code",
   "execution_count": 151,
   "id": "fd75a8fd-dcc7-495d-bd43-4801b48459ff",
   "metadata": {},
   "outputs": [
    {
     "data": {
      "text/plain": [
       "Index(['P12931_SRC', 'P29320_EPHA3', 'P07332_FES', 'Q16288_NTRK3',\n",
       "       'Q9UM73_ALK', 'P00519_ABL1', 'P36888_FLT3', 'P29322_EPHA8',\n",
       "       'P29323_EPHB2', 'P54762_EPHB1',\n",
       "       ...\n",
       "       'P35626_GRK3', 'Q99640_PKMYT1', 'Q6P2M8_CAMK1B', 'O00311_CDC7',\n",
       "       'Q9NYV4_CDK12', 'Q15746_SMMLCK', 'Q01973_ROR1', 'P15056_BRAF',\n",
       "       'Q6P0Q8_MAST2', 'O14976_GAK'],\n",
       "      dtype='object', name='kinase_id', length=333)"
      ]
     },
     "execution_count": 151,
     "metadata": {},
     "output_type": "execute_result"
    }
   ],
   "source": [
    "idx = cnt[cnt>=40].index\n",
    "idx"
   ]
  },
  {
   "cell_type": "code",
   "execution_count": 152,
   "id": "2f78c391-e5aa-4d4b-a5a7-1841e0fb5799",
   "metadata": {},
   "outputs": [
    {
     "data": {
      "text/plain": [
       "(187066, 22)"
      ]
     },
     "execution_count": 152,
     "metadata": {},
     "output_type": "execute_result"
    }
   ],
   "source": [
    "df.shape"
   ]
  },
  {
   "cell_type": "markdown",
   "id": "1a43f4f2-e13e-421c-847b-1a0be8324ab5",
   "metadata": {},
   "source": [
    "## All PSSMs"
   ]
  },
  {
   "cell_type": "code",
   "execution_count": 153,
   "id": "8b9d1717-d21e-48f8-910f-44ac48502bab",
   "metadata": {},
   "outputs": [],
   "source": [
    "df = df[df['kinase_id'].isin(idx)].copy()"
   ]
  },
  {
   "cell_type": "code",
   "execution_count": 154,
   "id": "887461d7-a4fd-4705-b5d5-65a88296763e",
   "metadata": {},
   "outputs": [
    {
     "name": "stderr",
     "output_type": "stream",
     "text": [
      "100%|███████████████████████████████████████████████████████████████████████████| 333/333 [00:11<00:00, 27.83it/s]\n"
     ]
    }
   ],
   "source": [
    "pssms_all = get_cluster_pssms(df,\n",
    "                          cluster_col = 'kinase_id',\n",
    "                          count_thr=None, # since we already filtered, we set None here\n",
    "                          valid_thr=None)"
   ]
  },
  {
   "cell_type": "code",
   "execution_count": 155,
   "id": "a66dab41-0bd8-49ab-a0b8-aba6cc1bb0b8",
   "metadata": {},
   "outputs": [
    {
     "data": {
      "text/plain": [
       "(333, 943)"
      ]
     },
     "execution_count": 155,
     "metadata": {},
     "output_type": "execute_result"
    }
   ],
   "source": [
    "pssms_all.shape"
   ]
  },
  {
   "cell_type": "code",
   "execution_count": 9,
   "id": "bb8b8663-2d2a-439b-8269-dbc1faf070c2",
   "metadata": {},
   "outputs": [],
   "source": [
    "# pssms_all.to_parquet('out/CDDM_pssms.parquet')"
   ]
  },
  {
   "cell_type": "markdown",
   "id": "2217c0db-36b1-44d7-b453-09b8214d6aa8",
   "metadata": {},
   "source": [
    "### Upper"
   ]
  },
  {
   "cell_type": "code",
   "execution_count": 10,
   "id": "fbcce44f-7455-48dd-a24d-a5b16025cc92",
   "metadata": {},
   "outputs": [],
   "source": [
    "df['site_seq_upper'] = df.site_seq.str.upper()"
   ]
  },
  {
   "cell_type": "code",
   "execution_count": 11,
   "id": "702fdcb8-ce90-491d-955e-a74852a6b274",
   "metadata": {},
   "outputs": [
    {
     "name": "stderr",
     "output_type": "stream",
     "text": [
      "100%|███████████████████████████████████████████████████████████████████████████| 333/333 [00:11<00:00, 27.98it/s]\n"
     ]
    }
   ],
   "source": [
    "pssms_all_upper = get_cluster_pssms(df,\n",
    "                              seq_col='site_seq_upper',\n",
    "                          cluster_col = 'kinase_id',\n",
    "                          count_thr=None, # since we already filtered, we set None here\n",
    "                          valid_thr=None)"
   ]
  },
  {
   "cell_type": "code",
   "execution_count": 12,
   "id": "726d50fa-a3d9-4ef9-8d70-891161e3ba1e",
   "metadata": {},
   "outputs": [],
   "source": [
    "# pssms_all_upper.to_parquet('out/CDDM_pssms_upper.parquet')"
   ]
  },
  {
   "cell_type": "markdown",
   "id": "1e48fbff-1808-47e5-ba4c-dfcfeff25dfa",
   "metadata": {},
   "source": [
    "## All log-odds"
   ]
  },
  {
   "cell_type": "code",
   "execution_count": 13,
   "id": "190772ab-d7ca-4e4e-82af-efbc59a1d976",
   "metadata": {},
   "outputs": [],
   "source": [
    "def get_LO_all(pssms,site_type='STY'):\n",
    "    out=[]\n",
    "    for idx, flat_pssm in pssms.iterrows():\n",
    "        out.append(flatten_pssm(get_pssm_LO_flat(flat_pssm,site_type)))\n",
    "    return pd.DataFrame(out,index=pssms.index)"
   ]
  },
  {
   "cell_type": "code",
   "execution_count": 14,
   "id": "e2f09925-1d23-4d07-884b-3e7e2c4a7bef",
   "metadata": {},
   "outputs": [],
   "source": [
    "LO_all = get_LO_all(pssms_all)"
   ]
  },
  {
   "cell_type": "code",
   "execution_count": 15,
   "id": "f1540581-8a54-4abf-9bc0-c5c03195f73d",
   "metadata": {},
   "outputs": [],
   "source": [
    "# LO_all.to_parquet('out/CDDM_pssms_LO.parquet')"
   ]
  },
  {
   "cell_type": "code",
   "execution_count": 16,
   "id": "a1a6b976-6ba2-41a1-b03f-801783d06b5e",
   "metadata": {},
   "outputs": [],
   "source": [
    "LO_all_upper = get_LO_all(pssms_all_upper,site_type='STY_upper')"
   ]
  },
  {
   "cell_type": "code",
   "execution_count": 17,
   "id": "aadcd74b-4e74-4e39-8b29-0453a8797ddd",
   "metadata": {},
   "outputs": [],
   "source": [
    "# LO_all_upper.to_parquet('out/CDDM_pssms_LO_upper.parquet')"
   ]
  },
  {
   "cell_type": "markdown",
   "id": "6c8d529e-73ba-41cb-ad28-26e8df2951a2",
   "metadata": {},
   "source": [
    "## Split dataset for eval"
   ]
  },
  {
   "cell_type": "code",
   "execution_count": 18,
   "id": "379ef5e4-6835-4c67-ab26-a3452742adcc",
   "metadata": {},
   "outputs": [],
   "source": [
    "df['source_len'] = df.source.str.split('|').str.len()"
   ]
  },
  {
   "cell_type": "code",
   "execution_count": 19,
   "id": "fdc3cb75-46ff-4fbc-84d2-ecf513ac9926",
   "metadata": {},
   "outputs": [
    {
     "data": {
      "text/plain": [
       "source_len\n",
       "1    173678\n",
       "2      5977\n",
       "3      3232\n",
       "4      1291\n",
       "5       901\n",
       "6       754\n",
       "7        50\n",
       "Name: count, dtype: int64"
      ]
     },
     "execution_count": 19,
     "metadata": {},
     "output_type": "execute_result"
    }
   ],
   "source": [
    "df.source_len.value_counts()"
   ]
  },
  {
   "cell_type": "code",
   "execution_count": 20,
   "id": "2f91c611-18ca-426f-ba78-57b3ebcdd09d",
   "metadata": {},
   "outputs": [],
   "source": [
    "def sample_with_weights(group):\n",
    "    n = max(1, int(len(group) * 0.1))  # At least 1 row if group is small\n",
    "    weights = group['source_len'].values\n",
    "    weights = weights / weights.sum()  # normalize\n",
    "\n",
    "    sampled = group.sample(\n",
    "        n=n, weights=weights, replace=False, random_state=42\n",
    "    )\n",
    "\n",
    "    # Add back the group key as a column\n",
    "    sampled['kinase_uniprot'] = group.name\n",
    "    return sampled"
   ]
  },
  {
   "cell_type": "code",
   "execution_count": 21,
   "id": "60cd6dd1-831b-4cfe-986f-1f65b2c289b6",
   "metadata": {},
   "outputs": [],
   "source": [
    "test = df.groupby('kinase_uniprot', group_keys=False)\\\n",
    "    .apply(sample_with_weights,include_groups=False)"
   ]
  },
  {
   "cell_type": "code",
   "execution_count": 22,
   "id": "e14a8b1d-937b-48fb-b294-bbed6cf5e536",
   "metadata": {},
   "outputs": [],
   "source": [
    "# test.to_parquet('out/CDDM_test_set.parquet')"
   ]
  },
  {
   "cell_type": "code",
   "execution_count": 23,
   "id": "6bef9638-95bf-4488-b8dc-bf895f8c1ac3",
   "metadata": {},
   "outputs": [
    {
     "data": {
      "text/html": [
       "<div>\n",
       "<style scoped>\n",
       "    .dataframe tbody tr th:only-of-type {\n",
       "        vertical-align: middle;\n",
       "    }\n",
       "\n",
       "    .dataframe tbody tr th {\n",
       "        vertical-align: top;\n",
       "    }\n",
       "\n",
       "    .dataframe thead th {\n",
       "        text-align: right;\n",
       "    }\n",
       "</style>\n",
       "<table border=\"1\" class=\"dataframe\">\n",
       "  <thead>\n",
       "    <tr style=\"text-align: right;\">\n",
       "      <th></th>\n",
       "      <th>kin_sub_site</th>\n",
       "      <th>substrate_uniprot</th>\n",
       "      <th>site</th>\n",
       "      <th>source</th>\n",
       "      <th>substrate_genes</th>\n",
       "      <th>substrate_phosphoseq</th>\n",
       "      <th>position</th>\n",
       "      <th>site_seq</th>\n",
       "      <th>sub_site</th>\n",
       "      <th>substrate_sequence</th>\n",
       "      <th>...</th>\n",
       "      <th>kinase_family</th>\n",
       "      <th>kinase_subfamily</th>\n",
       "      <th>kinase_pspa_big</th>\n",
       "      <th>kinase_pspa_small</th>\n",
       "      <th>kinase_coral_ID</th>\n",
       "      <th>num_kin</th>\n",
       "      <th>kinase_id</th>\n",
       "      <th>site_seq_upper</th>\n",
       "      <th>source_len</th>\n",
       "      <th>kinase_uniprot</th>\n",
       "    </tr>\n",
       "  </thead>\n",
       "  <tbody>\n",
       "    <tr>\n",
       "      <th>154</th>\n",
       "      <td>O00141_P43243_S188</td>\n",
       "      <td>P43243</td>\n",
       "      <td>S188</td>\n",
       "      <td>Sugiyama</td>\n",
       "      <td>MATR3 KIAA0723</td>\n",
       "      <td>MsKsFQQssLsRDsQGHGRDLsAAGIGLLAAAtQsLsMPAsLGRMN...</td>\n",
       "      <td>188</td>\n",
       "      <td>EPPyRVPRDDWEEKRHFRRDsFDDRGPsLNPVLDyDHGsRs</td>\n",
       "      <td>P43243_S188</td>\n",
       "      <td>MSKSFQQSSLSRDSQGHGRDLSAAGIGLLAAATQSLSMPASLGRMN...</td>\n",
       "      <td>...</td>\n",
       "      <td>SGK</td>\n",
       "      <td>SGK</td>\n",
       "      <td>Basophilic</td>\n",
       "      <td>Akt/rock</td>\n",
       "      <td>SGK1</td>\n",
       "      <td>106</td>\n",
       "      <td>O00141_SGK1</td>\n",
       "      <td>EPPYRVPRDDWEEKRHFRRDSFDDRGPSLNPVLDYDHGSRS</td>\n",
       "      <td>1</td>\n",
       "      <td>O00141</td>\n",
       "    </tr>\n",
       "    <tr>\n",
       "      <th>370</th>\n",
       "      <td>O00141_Q9UN36_T330</td>\n",
       "      <td>Q9UN36</td>\n",
       "      <td>T330</td>\n",
       "      <td>GPS6|SIGNOR|ELM|EPSD|PSP</td>\n",
       "      <td>NDRG2 KIAA1248 SYLD</td>\n",
       "      <td>MAELQEVQITEEKPLLPGQTPEAAKEAELAARILLDQGQTHSVETP...</td>\n",
       "      <td>330</td>\n",
       "      <td>FLQGMGYMASSCMTRLsRsRtAsLtsAAsVDGNRsRsRtLs</td>\n",
       "      <td>Q9UN36_T330</td>\n",
       "      <td>MAELQEVQITEEKPLLPGQTPEAAKEAELAARILLDQGQTHSVETP...</td>\n",
       "      <td>...</td>\n",
       "      <td>SGK</td>\n",
       "      <td>SGK</td>\n",
       "      <td>Basophilic</td>\n",
       "      <td>Akt/rock</td>\n",
       "      <td>SGK1</td>\n",
       "      <td>2</td>\n",
       "      <td>O00141_SGK1</td>\n",
       "      <td>FLQGMGYMASSCMTRLSRSRTASLTSAASVDGNRSRSRTLS</td>\n",
       "      <td>5</td>\n",
       "      <td>O00141</td>\n",
       "    </tr>\n",
       "    <tr>\n",
       "      <th>299</th>\n",
       "      <td>O00141_Q92597_T356</td>\n",
       "      <td>Q92597</td>\n",
       "      <td>T356</td>\n",
       "      <td>GPS6|SIGNOR|ELM|EPSD|PSP</td>\n",
       "      <td>NDRG1 CAP43 DRG1 RTP</td>\n",
       "      <td>MsREMQDVDLAEVKPLVEKGETITGLLQEFDVQEQDIETLHGSVHV...</td>\n",
       "      <td>356</td>\n",
       "      <td>sLDGtRsRsHtSEGTRsRsHtsEGtRsRsHtsEGAHLDItP</td>\n",
       "      <td>Q92597_T356</td>\n",
       "      <td>MSREMQDVDLAEVKPLVEKGETITGLLQEFDVQEQDIETLHGSVHV...</td>\n",
       "      <td>...</td>\n",
       "      <td>SGK</td>\n",
       "      <td>SGK</td>\n",
       "      <td>Basophilic</td>\n",
       "      <td>Akt/rock</td>\n",
       "      <td>SGK1</td>\n",
       "      <td>2</td>\n",
       "      <td>O00141_SGK1</td>\n",
       "      <td>SLDGTRSRSHTSEGTRSRSHTSEGTRSRSHTSEGAHLDITP</td>\n",
       "      <td>5</td>\n",
       "      <td>O00141</td>\n",
       "    </tr>\n",
       "    <tr>\n",
       "      <th>251</th>\n",
       "      <td>O00141_Q15149_S4386</td>\n",
       "      <td>Q15149</td>\n",
       "      <td>S4386</td>\n",
       "      <td>Sugiyama</td>\n",
       "      <td>PLEC PLEC1</td>\n",
       "      <td>MVAGMLMPRDQLRAIYEVLFREGVMVAKKDRRPRSLHPHVPGVTNL...</td>\n",
       "      <td>4386</td>\n",
       "      <td>ItEFADMLsGNAGGFRsRsssVGssssyPIsPAVsRtQLAs</td>\n",
       "      <td>Q15149_S4386</td>\n",
       "      <td>MVAGMLMPRDQLRAIYEVLFREGVMVAKKDRRPRSLHPHVPGVTNL...</td>\n",
       "      <td>...</td>\n",
       "      <td>SGK</td>\n",
       "      <td>SGK</td>\n",
       "      <td>Basophilic</td>\n",
       "      <td>Akt/rock</td>\n",
       "      <td>SGK1</td>\n",
       "      <td>8</td>\n",
       "      <td>O00141_SGK1</td>\n",
       "      <td>ITEFADMLSGNAGGFRSRSSSVGSSSSYPISPAVSRTQLAS</td>\n",
       "      <td>1</td>\n",
       "      <td>O00141</td>\n",
       "    </tr>\n",
       "    <tr>\n",
       "      <th>58</th>\n",
       "      <td>O00141_P00338_T322</td>\n",
       "      <td>P00338</td>\n",
       "      <td>T322</td>\n",
       "      <td>Sugiyama</td>\n",
       "      <td>LDHA PIG19</td>\n",
       "      <td>MAtLKDQLIyNLLKEEQtPQNKITVVGVGAVGMACAISILMKDLAD...</td>\n",
       "      <td>322</td>\n",
       "      <td>DLVKVTLtsEEEARLKKsADtLWGIQKELQF__________</td>\n",
       "      <td>P00338_T322</td>\n",
       "      <td>MATLKDQLIYNLLKEEQTPQNKITVVGVGAVGMACAISILMKDLAD...</td>\n",
       "      <td>...</td>\n",
       "      <td>SGK</td>\n",
       "      <td>SGK</td>\n",
       "      <td>Basophilic</td>\n",
       "      <td>Akt/rock</td>\n",
       "      <td>SGK1</td>\n",
       "      <td>52</td>\n",
       "      <td>O00141_SGK1</td>\n",
       "      <td>DLVKVTLTSEEEARLKKSADTLWGIQKELQF__________</td>\n",
       "      <td>1</td>\n",
       "      <td>O00141</td>\n",
       "    </tr>\n",
       "  </tbody>\n",
       "</table>\n",
       "<p>5 rows × 24 columns</p>\n",
       "</div>"
      ],
      "text/plain": [
       "            kin_sub_site substrate_uniprot   site                    source  \\\n",
       "154   O00141_P43243_S188            P43243   S188                  Sugiyama   \n",
       "370   O00141_Q9UN36_T330            Q9UN36   T330  GPS6|SIGNOR|ELM|EPSD|PSP   \n",
       "299   O00141_Q92597_T356            Q92597   T356  GPS6|SIGNOR|ELM|EPSD|PSP   \n",
       "251  O00141_Q15149_S4386            Q15149  S4386                  Sugiyama   \n",
       "58    O00141_P00338_T322            P00338   T322                  Sugiyama   \n",
       "\n",
       "          substrate_genes                               substrate_phosphoseq  \\\n",
       "154        MATR3 KIAA0723  MsKsFQQssLsRDsQGHGRDLsAAGIGLLAAAtQsLsMPAsLGRMN...   \n",
       "370   NDRG2 KIAA1248 SYLD  MAELQEVQITEEKPLLPGQTPEAAKEAELAARILLDQGQTHSVETP...   \n",
       "299  NDRG1 CAP43 DRG1 RTP  MsREMQDVDLAEVKPLVEKGETITGLLQEFDVQEQDIETLHGSVHV...   \n",
       "251            PLEC PLEC1  MVAGMLMPRDQLRAIYEVLFREGVMVAKKDRRPRSLHPHVPGVTNL...   \n",
       "58             LDHA PIG19  MAtLKDQLIyNLLKEEQtPQNKITVVGVGAVGMACAISILMKDLAD...   \n",
       "\n",
       "     position                                   site_seq      sub_site  \\\n",
       "154       188  EPPyRVPRDDWEEKRHFRRDsFDDRGPsLNPVLDyDHGsRs   P43243_S188   \n",
       "370       330  FLQGMGYMASSCMTRLsRsRtAsLtsAAsVDGNRsRsRtLs   Q9UN36_T330   \n",
       "299       356  sLDGtRsRsHtSEGTRsRsHtsEGtRsRsHtsEGAHLDItP   Q92597_T356   \n",
       "251      4386  ItEFADMLsGNAGGFRsRsssVGssssyPIsPAVsRtQLAs  Q15149_S4386   \n",
       "58        322  DLVKVTLtsEEEARLKKsADtLWGIQKELQF__________   P00338_T322   \n",
       "\n",
       "                                    substrate_sequence  ...  kinase_family  \\\n",
       "154  MSKSFQQSSLSRDSQGHGRDLSAAGIGLLAAATQSLSMPASLGRMN...  ...            SGK   \n",
       "370  MAELQEVQITEEKPLLPGQTPEAAKEAELAARILLDQGQTHSVETP...  ...            SGK   \n",
       "299  MSREMQDVDLAEVKPLVEKGETITGLLQEFDVQEQDIETLHGSVHV...  ...            SGK   \n",
       "251  MVAGMLMPRDQLRAIYEVLFREGVMVAKKDRRPRSLHPHVPGVTNL...  ...            SGK   \n",
       "58   MATLKDQLIYNLLKEEQTPQNKITVVGVGAVGMACAISILMKDLAD...  ...            SGK   \n",
       "\n",
       "    kinase_subfamily kinase_pspa_big kinase_pspa_small kinase_coral_ID  \\\n",
       "154              SGK      Basophilic          Akt/rock            SGK1   \n",
       "370              SGK      Basophilic          Akt/rock            SGK1   \n",
       "299              SGK      Basophilic          Akt/rock            SGK1   \n",
       "251              SGK      Basophilic          Akt/rock            SGK1   \n",
       "58               SGK      Basophilic          Akt/rock            SGK1   \n",
       "\n",
       "    num_kin    kinase_id                             site_seq_upper  \\\n",
       "154     106  O00141_SGK1  EPPYRVPRDDWEEKRHFRRDSFDDRGPSLNPVLDYDHGSRS   \n",
       "370       2  O00141_SGK1  FLQGMGYMASSCMTRLSRSRTASLTSAASVDGNRSRSRTLS   \n",
       "299       2  O00141_SGK1  SLDGTRSRSHTSEGTRSRSHTSEGTRSRSHTSEGAHLDITP   \n",
       "251       8  O00141_SGK1  ITEFADMLSGNAGGFRSRSSSVGSSSSYPISPAVSRTQLAS   \n",
       "58       52  O00141_SGK1  DLVKVTLTSEEEARLKKSADTLWGIQKELQF__________   \n",
       "\n",
       "    source_len  kinase_uniprot  \n",
       "154          1          O00141  \n",
       "370          5          O00141  \n",
       "299          5          O00141  \n",
       "251          1          O00141  \n",
       "58           1          O00141  \n",
       "\n",
       "[5 rows x 24 columns]"
      ]
     },
     "execution_count": 23,
     "metadata": {},
     "output_type": "execute_result"
    }
   ],
   "source": [
    "test.head()"
   ]
  },
  {
   "cell_type": "code",
   "execution_count": 24,
   "id": "11b43df9-e93c-42ca-9b1b-1ec44aca0f4a",
   "metadata": {},
   "outputs": [
    {
     "data": {
      "text/plain": [
       "(185883, 24)"
      ]
     },
     "execution_count": 24,
     "metadata": {},
     "output_type": "execute_result"
    }
   ],
   "source": [
    "df.shape"
   ]
  },
  {
   "cell_type": "code",
   "execution_count": 25,
   "id": "6c2ea1e3-fe18-4a02-8d1c-a93bdb0e5886",
   "metadata": {},
   "outputs": [],
   "source": [
    "df_eval = df[~df.index.isin(test.index)]"
   ]
  },
  {
   "cell_type": "code",
   "execution_count": 26,
   "id": "040b7e6a-8937-4ffa-933a-14c38d6b73f3",
   "metadata": {},
   "outputs": [
    {
     "data": {
      "text/plain": [
       "(167441, 24)"
      ]
     },
     "execution_count": 26,
     "metadata": {},
     "output_type": "execute_result"
    }
   ],
   "source": [
    "df_eval.shape"
   ]
  },
  {
   "cell_type": "markdown",
   "id": "b9f28605-832d-48c0-a30e-d9fba434942b",
   "metadata": {},
   "source": [
    "### Get eval PSSMs"
   ]
  },
  {
   "cell_type": "code",
   "execution_count": 27,
   "id": "468129b9-1b5d-4338-8e69-f1e6a1627f69",
   "metadata": {},
   "outputs": [
    {
     "name": "stderr",
     "output_type": "stream",
     "text": [
      "100%|███████████████████████████████████████████████████████████████████████████| 333/333 [00:09<00:00, 33.41it/s]\n"
     ]
    }
   ],
   "source": [
    "pssms_eval = get_cluster_pssms(df_eval,\n",
    "                          cluster_col = 'kinase_id',\n",
    "                          count_thr=None, # since we already filtered, we set None here\n",
    "                          valid_thr=None)"
   ]
  },
  {
   "cell_type": "code",
   "execution_count": 28,
   "id": "755cc8ca-86d7-4fb3-a123-dc9df983fffd",
   "metadata": {},
   "outputs": [],
   "source": [
    "# pssms_eval.to_parquet('out/CDDM_pssms_eval.parquet')"
   ]
  },
  {
   "cell_type": "code",
   "execution_count": 29,
   "id": "cf207948-0d17-40fb-9f20-f522e58d802f",
   "metadata": {},
   "outputs": [
    {
     "name": "stderr",
     "output_type": "stream",
     "text": [
      "100%|███████████████████████████████████████████████████████████████████████████| 333/333 [00:11<00:00, 28.91it/s]\n"
     ]
    }
   ],
   "source": [
    "pssms_eval_upper = get_cluster_pssms(df_eval,\n",
    "                                     seq_col='site_seq_upper',\n",
    "                          cluster_col = 'kinase_id',\n",
    "                          count_thr=None, # since we already filtered, we set None here\n",
    "                          valid_thr=None)"
   ]
  },
  {
   "cell_type": "code",
   "execution_count": 30,
   "id": "e5577dcc-f3ff-4362-821f-64fc8c5c6bc1",
   "metadata": {},
   "outputs": [],
   "source": [
    "pssms_eval_upper.to_parquet('out/CDDM_pssms_eval_upper.parquet')"
   ]
  },
  {
   "cell_type": "markdown",
   "id": "e346fa6e-bbbe-4125-bf78-571e4564c084",
   "metadata": {},
   "source": [
    "### LO of eval PSSMs"
   ]
  },
  {
   "cell_type": "code",
   "execution_count": 31,
   "id": "67c21426-aa97-4cf7-99b4-d8e02ccac517",
   "metadata": {},
   "outputs": [],
   "source": [
    "LO_eval = get_LO_all(pssms_eval)"
   ]
  },
  {
   "cell_type": "code",
   "execution_count": 32,
   "id": "c479df72-b2f1-4bdc-80f0-5e476f95abe7",
   "metadata": {},
   "outputs": [],
   "source": [
    "# LO_eval.to_parquet('out/CDDM_pssms_LO_eval.parquet')"
   ]
  },
  {
   "cell_type": "code",
   "execution_count": 33,
   "id": "801bea57-da10-4e50-977d-54abd2a1dd61",
   "metadata": {},
   "outputs": [],
   "source": [
    "LO_eval_upper = get_LO_all(pssms_eval_upper,'STY_upper')"
   ]
  },
  {
   "cell_type": "code",
   "execution_count": 35,
   "id": "99e26411-4c77-49ba-9c7f-2d887d82dd36",
   "metadata": {},
   "outputs": [],
   "source": [
    "# LO_eval_upper.to_parquet('out/CDDM_pssms_LO_eval_upper.parquet')"
   ]
  },
  {
   "cell_type": "markdown",
   "id": "98666c87-6dd0-4ef9-8bfa-ea1ec20c7628",
   "metadata": {},
   "source": [
    "## Eval: Filter those on kinome tree"
   ]
  },
  {
   "cell_type": "code",
   "execution_count": 42,
   "id": "3b083ef1-0dcd-4ec4-be2c-a2e67c1ca27c",
   "metadata": {},
   "outputs": [],
   "source": [
    "import pandas as pd\n",
    "from katlas.data import *"
   ]
  },
  {
   "cell_type": "markdown",
   "id": "58bfd1ec-17fe-4618-829b-77b50cd9f5aa",
   "metadata": {},
   "source": [
    "### CDDM"
   ]
  },
  {
   "cell_type": "code",
   "execution_count": 115,
   "id": "ff06dda3-2d49-44df-bcc2-b6e77e17234f",
   "metadata": {},
   "outputs": [],
   "source": [
    "LO = pd.read_parquet('out/CDDM_pssms_LO.parquet')\n",
    "LO_upper = pd.read_parquet('out/CDDM_pssms_LO_upper.parquet')"
   ]
  },
  {
   "cell_type": "code",
   "execution_count": 116,
   "id": "f0e187b8-adfb-4a40-aa32-8d8bba1f2d7d",
   "metadata": {},
   "outputs": [],
   "source": [
    "pssms = pd.read_parquet('out/CDDM_pssms.parquet')\n",
    "pssms_upper = pd.read_parquet('out/CDDM_pssms_upper.parquet')"
   ]
  },
  {
   "cell_type": "code",
   "execution_count": 118,
   "id": "92df9681-983b-4d95-b349-21a8ff771182",
   "metadata": {},
   "outputs": [
    {
     "data": {
      "text/plain": [
       "((333, 943), (333, 943))"
      ]
     },
     "execution_count": 118,
     "metadata": {},
     "output_type": "execute_result"
    }
   ],
   "source": [
    "LO.shape,pssms.shape"
   ]
  },
  {
   "cell_type": "code",
   "execution_count": 119,
   "id": "5cc7fc1e-dc8f-453e-8c35-dea8a1d5a7ec",
   "metadata": {},
   "outputs": [],
   "source": [
    "info= Data.get_kinase_info()"
   ]
  },
  {
   "cell_type": "code",
   "execution_count": 120,
   "id": "c33d4ea5-39c8-4bb6-8525-6f238e0a826a",
   "metadata": {},
   "outputs": [],
   "source": [
    "info = info[info.pseudo=='0'].copy()"
   ]
  },
  {
   "cell_type": "code",
   "execution_count": 121,
   "id": "e072a552-8ea4-416d-9d93-6850c8018877",
   "metadata": {},
   "outputs": [],
   "source": [
    "info['id'] = info.uniprot+'_'+info.kinase"
   ]
  },
  {
   "cell_type": "code",
   "execution_count": 122,
   "id": "9f8103e3-9453-4955-bfc0-8594b7db2765",
   "metadata": {},
   "outputs": [
    {
     "data": {
      "text/html": [
       "<div>\n",
       "<style scoped>\n",
       "    .dataframe tbody tr th:only-of-type {\n",
       "        vertical-align: middle;\n",
       "    }\n",
       "\n",
       "    .dataframe tbody tr th {\n",
       "        vertical-align: top;\n",
       "    }\n",
       "\n",
       "    .dataframe thead th {\n",
       "        text-align: right;\n",
       "    }\n",
       "</style>\n",
       "<table border=\"1\" class=\"dataframe\">\n",
       "  <thead>\n",
       "    <tr style=\"text-align: right;\">\n",
       "      <th></th>\n",
       "      <th>-20P</th>\n",
       "      <th>-20G</th>\n",
       "      <th>-20A</th>\n",
       "      <th>-20C</th>\n",
       "      <th>-20S</th>\n",
       "      <th>-20T</th>\n",
       "      <th>-20V</th>\n",
       "      <th>-20I</th>\n",
       "      <th>-20L</th>\n",
       "      <th>-20M</th>\n",
       "      <th>...</th>\n",
       "      <th>20H</th>\n",
       "      <th>20K</th>\n",
       "      <th>20R</th>\n",
       "      <th>20Q</th>\n",
       "      <th>20N</th>\n",
       "      <th>20D</th>\n",
       "      <th>20E</th>\n",
       "      <th>20pS</th>\n",
       "      <th>20pT</th>\n",
       "      <th>20pY</th>\n",
       "    </tr>\n",
       "    <tr>\n",
       "      <th>index</th>\n",
       "      <th></th>\n",
       "      <th></th>\n",
       "      <th></th>\n",
       "      <th></th>\n",
       "      <th></th>\n",
       "      <th></th>\n",
       "      <th></th>\n",
       "      <th></th>\n",
       "      <th></th>\n",
       "      <th></th>\n",
       "      <th></th>\n",
       "      <th></th>\n",
       "      <th></th>\n",
       "      <th></th>\n",
       "      <th></th>\n",
       "      <th></th>\n",
       "      <th></th>\n",
       "      <th></th>\n",
       "      <th></th>\n",
       "      <th></th>\n",
       "      <th></th>\n",
       "    </tr>\n",
       "  </thead>\n",
       "  <tbody>\n",
       "    <tr>\n",
       "      <th>P07948-2_LYN</th>\n",
       "      <td>-0.695061</td>\n",
       "      <td>0.248942</td>\n",
       "      <td>-0.181606</td>\n",
       "      <td>-0.523522</td>\n",
       "      <td>-0.241880</td>\n",
       "      <td>-0.087184</td>\n",
       "      <td>0.270835</td>\n",
       "      <td>0.248626</td>\n",
       "      <td>-0.177055</td>\n",
       "      <td>0.151905</td>\n",
       "      <td>...</td>\n",
       "      <td>-1.002663</td>\n",
       "      <td>0.187090</td>\n",
       "      <td>-0.131176</td>\n",
       "      <td>-0.477873</td>\n",
       "      <td>0.089392</td>\n",
       "      <td>-0.069890</td>\n",
       "      <td>0.272381</td>\n",
       "      <td>-0.624875</td>\n",
       "      <td>-0.293957</td>\n",
       "      <td>0.686397</td>\n",
       "    </tr>\n",
       "    <tr>\n",
       "      <th>O60566_BUB1B</th>\n",
       "      <td>-0.098063</td>\n",
       "      <td>0.177522</td>\n",
       "      <td>0.006417</td>\n",
       "      <td>-2.364642</td>\n",
       "      <td>-0.336759</td>\n",
       "      <td>-0.656228</td>\n",
       "      <td>0.622357</td>\n",
       "      <td>0.285512</td>\n",
       "      <td>-1.214575</td>\n",
       "      <td>-1.313708</td>\n",
       "      <td>...</td>\n",
       "      <td>0.538365</td>\n",
       "      <td>0.313082</td>\n",
       "      <td>-0.184508</td>\n",
       "      <td>-1.521805</td>\n",
       "      <td>0.314920</td>\n",
       "      <td>0.267606</td>\n",
       "      <td>0.993983</td>\n",
       "      <td>-0.586346</td>\n",
       "      <td>-0.015962</td>\n",
       "      <td>-0.647041</td>\n",
       "    </tr>\n",
       "    <tr>\n",
       "      <th>P05771-2_PKCB</th>\n",
       "      <td>-0.513296</td>\n",
       "      <td>0.082197</td>\n",
       "      <td>-0.419347</td>\n",
       "      <td>0.153007</td>\n",
       "      <td>0.387344</td>\n",
       "      <td>0.446387</td>\n",
       "      <td>1.033094</td>\n",
       "      <td>1.359558</td>\n",
       "      <td>-0.959957</td>\n",
       "      <td>-0.059090</td>\n",
       "      <td>...</td>\n",
       "      <td>1.086193</td>\n",
       "      <td>-0.296631</td>\n",
       "      <td>-0.264711</td>\n",
       "      <td>-1.710942</td>\n",
       "      <td>0.415289</td>\n",
       "      <td>0.443465</td>\n",
       "      <td>0.117313</td>\n",
       "      <td>0.283410</td>\n",
       "      <td>-0.205099</td>\n",
       "      <td>-0.099214</td>\n",
       "    </tr>\n",
       "    <tr>\n",
       "      <th>Q13976-2_PKG1</th>\n",
       "      <td>0.267160</td>\n",
       "      <td>-0.880855</td>\n",
       "      <td>0.326552</td>\n",
       "      <td>-20.552054</td>\n",
       "      <td>-0.980098</td>\n",
       "      <td>-0.599127</td>\n",
       "      <td>0.959565</td>\n",
       "      <td>-0.422922</td>\n",
       "      <td>-0.420509</td>\n",
       "      <td>-0.841570</td>\n",
       "      <td>...</td>\n",
       "      <td>0.565165</td>\n",
       "      <td>0.388792</td>\n",
       "      <td>0.076757</td>\n",
       "      <td>0.183066</td>\n",
       "      <td>-0.243242</td>\n",
       "      <td>-0.843097</td>\n",
       "      <td>-0.192211</td>\n",
       "      <td>0.440454</td>\n",
       "      <td>-1.311089</td>\n",
       "      <td>1.379757</td>\n",
       "    </tr>\n",
       "  </tbody>\n",
       "</table>\n",
       "<p>4 rows × 943 columns</p>\n",
       "</div>"
      ],
      "text/plain": [
       "                   -20P      -20G      -20A       -20C      -20S      -20T  \\\n",
       "index                                                                        \n",
       "P07948-2_LYN  -0.695061  0.248942 -0.181606  -0.523522 -0.241880 -0.087184   \n",
       "O60566_BUB1B  -0.098063  0.177522  0.006417  -2.364642 -0.336759 -0.656228   \n",
       "P05771-2_PKCB -0.513296  0.082197 -0.419347   0.153007  0.387344  0.446387   \n",
       "Q13976-2_PKG1  0.267160 -0.880855  0.326552 -20.552054 -0.980098 -0.599127   \n",
       "\n",
       "                   -20V      -20I      -20L      -20M  ...       20H  \\\n",
       "index                                                  ...             \n",
       "P07948-2_LYN   0.270835  0.248626 -0.177055  0.151905  ... -1.002663   \n",
       "O60566_BUB1B   0.622357  0.285512 -1.214575 -1.313708  ...  0.538365   \n",
       "P05771-2_PKCB  1.033094  1.359558 -0.959957 -0.059090  ...  1.086193   \n",
       "Q13976-2_PKG1  0.959565 -0.422922 -0.420509 -0.841570  ...  0.565165   \n",
       "\n",
       "                    20K       20R       20Q       20N       20D       20E  \\\n",
       "index                                                                       \n",
       "P07948-2_LYN   0.187090 -0.131176 -0.477873  0.089392 -0.069890  0.272381   \n",
       "O60566_BUB1B   0.313082 -0.184508 -1.521805  0.314920  0.267606  0.993983   \n",
       "P05771-2_PKCB -0.296631 -0.264711 -1.710942  0.415289  0.443465  0.117313   \n",
       "Q13976-2_PKG1  0.388792  0.076757  0.183066 -0.243242 -0.843097 -0.192211   \n",
       "\n",
       "                   20pS      20pT      20pY  \n",
       "index                                        \n",
       "P07948-2_LYN  -0.624875 -0.293957  0.686397  \n",
       "O60566_BUB1B  -0.586346 -0.015962 -0.647041  \n",
       "P05771-2_PKCB  0.283410 -0.205099 -0.099214  \n",
       "Q13976-2_PKG1  0.440454 -1.311089  1.379757  \n",
       "\n",
       "[4 rows x 943 columns]"
      ]
     },
     "execution_count": 122,
     "metadata": {},
     "output_type": "execute_result"
    }
   ],
   "source": [
    "LO[~LO.index.isin(info.id)]"
   ]
  },
  {
   "cell_type": "code",
   "execution_count": 123,
   "id": "33dc20b3-733b-4db3-be8b-f7e702f5c943",
   "metadata": {},
   "outputs": [],
   "source": [
    "LO = LO[LO.index.isin(info.id)]\n",
    "LO_upper =LO_upper[LO_upper.index.isin(info.id)]"
   ]
  },
  {
   "cell_type": "code",
   "execution_count": 124,
   "id": "7e905cbd-8eec-46f5-b30c-0ee6c4fa6d23",
   "metadata": {},
   "outputs": [],
   "source": [
    "pssms= pssms[pssms.index.isin(info.id)]\n",
    "pssms_upper = pssms_upper[pssms_upper.index.isin(info.id)]"
   ]
  },
  {
   "cell_type": "code",
   "execution_count": 125,
   "id": "37f3d855-acd8-4c2c-af38-1922830c1ea5",
   "metadata": {},
   "outputs": [
    {
     "data": {
      "text/plain": [
       "((329, 943), (329, 943))"
      ]
     },
     "execution_count": 125,
     "metadata": {},
     "output_type": "execute_result"
    }
   ],
   "source": [
    "LO.shape,pssms.shape"
   ]
  },
  {
   "cell_type": "code",
   "execution_count": 126,
   "id": "c8429194-e1e9-4fd7-baa4-81a42edf2362",
   "metadata": {},
   "outputs": [],
   "source": [
    "LO.to_parquet('out/CDDM_pssms_LO.parquet')\n",
    "LO_upper.to_parquet('out/CDDM_pssms_LO_upper.parquet')"
   ]
  },
  {
   "cell_type": "code",
   "execution_count": 127,
   "id": "41fd58ac-64fd-44e3-93e2-6663b006e27d",
   "metadata": {},
   "outputs": [],
   "source": [
    "pssms.to_parquet('out/CDDM_pssms.parquet')\n",
    "pssms_upper.to_parquet('out/CDDM_pssms_upper.parquet')"
   ]
  },
  {
   "cell_type": "markdown",
   "id": "d87f63bb-a210-475b-ab99-b1143fe13658",
   "metadata": {},
   "source": [
    "Do the same for _eval parquet"
   ]
  },
  {
   "cell_type": "markdown",
   "id": "884a0013-ded0-4433-80b9-49a3815d7621",
   "metadata": {},
   "source": [
    "## Overlap"
   ]
  },
  {
   "cell_type": "code",
   "execution_count": 132,
   "id": "b3fceb3c-3d72-48f6-8523-d1c3b6ce1f07",
   "metadata": {},
   "outputs": [],
   "source": [
    "pspa = Data.get_pspa_all_norm()"
   ]
  },
  {
   "cell_type": "code",
   "execution_count": 133,
   "id": "a378b7d9-a8af-491b-9518-1e64f75f2805",
   "metadata": {},
   "outputs": [
    {
     "data": {
      "text/plain": [
       "(396, 236)"
      ]
     },
     "execution_count": 133,
     "metadata": {},
     "output_type": "execute_result"
    }
   ],
   "source": [
    "pspa.shape"
   ]
  },
  {
   "cell_type": "code",
   "execution_count": 134,
   "id": "2942bb55-7c8e-41d0-b9b6-1be23860eb52",
   "metadata": {},
   "outputs": [],
   "source": [
    "# drop those with TYR\n",
    "pspa = pspa[~pspa.index.str.contains('_')]"
   ]
  },
  {
   "cell_type": "code",
   "execution_count": 135,
   "id": "9dd97492-82b9-4ec7-982d-64ef47fa41b2",
   "metadata": {},
   "outputs": [
    {
     "data": {
      "text/plain": [
       "(381, 236)"
      ]
     },
     "execution_count": 135,
     "metadata": {},
     "output_type": "execute_result"
    }
   ],
   "source": [
    "pspa.shape"
   ]
  },
  {
   "cell_type": "code",
   "execution_count": 136,
   "id": "2d9ac9d9-3d64-426f-9761-25cefb20685a",
   "metadata": {},
   "outputs": [],
   "source": [
    "idx_map = info.set_index('kinase').id"
   ]
  },
  {
   "cell_type": "code",
   "execution_count": 137,
   "id": "304a3fee-b355-4159-b542-71d2559b40e5",
   "metadata": {},
   "outputs": [],
   "source": [
    "pspa.index = pspa.index.map(idx_map)"
   ]
  },
  {
   "cell_type": "code",
   "execution_count": 138,
   "id": "3bcbf588-8a64-4976-9334-7224c35e8b03",
   "metadata": {},
   "outputs": [
    {
     "data": {
      "text/plain": [
       "np.int64(0)"
      ]
     },
     "execution_count": 138,
     "metadata": {},
     "output_type": "execute_result"
    }
   ],
   "source": [
    "pspa.index.duplicated().sum()"
   ]
  },
  {
   "cell_type": "code",
   "execution_count": 139,
   "id": "16e1b85e-af0a-4732-b15a-026592ee3063",
   "metadata": {},
   "outputs": [
    {
     "data": {
      "text/plain": [
       "np.int64(0)"
      ]
     },
     "execution_count": 139,
     "metadata": {},
     "output_type": "execute_result"
    }
   ],
   "source": [
    "pspa.index.isna().sum()"
   ]
  },
  {
   "cell_type": "markdown",
   "id": "ec1543f2-1939-4155-a94d-e0c8febc82c2",
   "metadata": {},
   "source": [
    "In CDDM but not in PSPA:\n",
    "\n",
    "Some are _TYR in PSPA, such as LIMK1/2 and MAP2K"
   ]
  },
  {
   "cell_type": "code",
   "execution_count": 140,
   "id": "20d1e030-f466-4546-ae4f-21bf82a6ba1b",
   "metadata": {},
   "outputs": [
    {
     "data": {
      "text/html": [
       "<div>\n",
       "<style scoped>\n",
       "    .dataframe tbody tr th:only-of-type {\n",
       "        vertical-align: middle;\n",
       "    }\n",
       "\n",
       "    .dataframe tbody tr th {\n",
       "        vertical-align: top;\n",
       "    }\n",
       "\n",
       "    .dataframe thead th {\n",
       "        text-align: right;\n",
       "    }\n",
       "</style>\n",
       "<table border=\"1\" class=\"dataframe\">\n",
       "  <thead>\n",
       "    <tr style=\"text-align: right;\">\n",
       "      <th></th>\n",
       "      <th>-20P</th>\n",
       "      <th>-20G</th>\n",
       "      <th>-20A</th>\n",
       "      <th>-20C</th>\n",
       "      <th>-20S</th>\n",
       "      <th>-20T</th>\n",
       "      <th>-20V</th>\n",
       "      <th>-20I</th>\n",
       "      <th>-20L</th>\n",
       "      <th>-20M</th>\n",
       "      <th>...</th>\n",
       "      <th>20H</th>\n",
       "      <th>20K</th>\n",
       "      <th>20R</th>\n",
       "      <th>20Q</th>\n",
       "      <th>20N</th>\n",
       "      <th>20D</th>\n",
       "      <th>20E</th>\n",
       "      <th>20pS</th>\n",
       "      <th>20pT</th>\n",
       "      <th>20pY</th>\n",
       "    </tr>\n",
       "    <tr>\n",
       "      <th>index</th>\n",
       "      <th></th>\n",
       "      <th></th>\n",
       "      <th></th>\n",
       "      <th></th>\n",
       "      <th></th>\n",
       "      <th></th>\n",
       "      <th></th>\n",
       "      <th></th>\n",
       "      <th></th>\n",
       "      <th></th>\n",
       "      <th></th>\n",
       "      <th></th>\n",
       "      <th></th>\n",
       "      <th></th>\n",
       "      <th></th>\n",
       "      <th></th>\n",
       "      <th></th>\n",
       "      <th></th>\n",
       "      <th></th>\n",
       "      <th></th>\n",
       "      <th></th>\n",
       "    </tr>\n",
       "  </thead>\n",
       "  <tbody>\n",
       "    <tr>\n",
       "      <th>P53667_LIMK1</th>\n",
       "      <td>-0.743331</td>\n",
       "      <td>0.425765</td>\n",
       "      <td>0.460108</td>\n",
       "      <td>-0.617596</td>\n",
       "      <td>-0.152646</td>\n",
       "      <td>-0.530667</td>\n",
       "      <td>-0.174914</td>\n",
       "      <td>0.667565</td>\n",
       "      <td>-0.286954</td>\n",
       "      <td>0.696375</td>\n",
       "      <td>...</td>\n",
       "      <td>-0.264557</td>\n",
       "      <td>0.331659</td>\n",
       "      <td>0.416959</td>\n",
       "      <td>-0.865297</td>\n",
       "      <td>0.511997</td>\n",
       "      <td>-0.585357</td>\n",
       "      <td>-0.205241</td>\n",
       "      <td>0.102584</td>\n",
       "      <td>0.766077</td>\n",
       "      <td>1.331394</td>\n",
       "    </tr>\n",
       "    <tr>\n",
       "      <th>Q6PHR2_ULK3</th>\n",
       "      <td>-0.490634</td>\n",
       "      <td>-0.087072</td>\n",
       "      <td>0.029732</td>\n",
       "      <td>-0.867398</td>\n",
       "      <td>0.123012</td>\n",
       "      <td>-0.158981</td>\n",
       "      <td>0.634177</td>\n",
       "      <td>0.110333</td>\n",
       "      <td>-0.887254</td>\n",
       "      <td>-0.986387</td>\n",
       "      <td>...</td>\n",
       "      <td>0.814737</td>\n",
       "      <td>0.168879</td>\n",
       "      <td>-1.088708</td>\n",
       "      <td>-0.245434</td>\n",
       "      <td>0.813684</td>\n",
       "      <td>0.069440</td>\n",
       "      <td>0.504820</td>\n",
       "      <td>0.011954</td>\n",
       "      <td>0.845372</td>\n",
       "      <td>0.688223</td>\n",
       "    </tr>\n",
       "    <tr>\n",
       "      <th>Q9Y3S1_WNK2</th>\n",
       "      <td>-0.549822</td>\n",
       "      <td>0.658648</td>\n",
       "      <td>-0.455872</td>\n",
       "      <td>0.438409</td>\n",
       "      <td>-2.556071</td>\n",
       "      <td>0.525339</td>\n",
       "      <td>0.755560</td>\n",
       "      <td>0.849101</td>\n",
       "      <td>-0.617971</td>\n",
       "      <td>-1.417543</td>\n",
       "      <td>...</td>\n",
       "      <td>1.166616</td>\n",
       "      <td>0.338166</td>\n",
       "      <td>-0.973869</td>\n",
       "      <td>-1.031058</td>\n",
       "      <td>1.542632</td>\n",
       "      <td>0.205812</td>\n",
       "      <td>-1.380340</td>\n",
       "      <td>-0.095599</td>\n",
       "      <td>-0.847142</td>\n",
       "      <td>1.165632</td>\n",
       "    </tr>\n",
       "    <tr>\n",
       "      <th>Q9HBY8_SGK2</th>\n",
       "      <td>-0.015252</td>\n",
       "      <td>-0.725862</td>\n",
       "      <td>0.230006</td>\n",
       "      <td>-0.889517</td>\n",
       "      <td>-0.392146</td>\n",
       "      <td>-0.011175</td>\n",
       "      <td>1.460055</td>\n",
       "      <td>-1.326822</td>\n",
       "      <td>-0.739447</td>\n",
       "      <td>-1.423542</td>\n",
       "      <td>...</td>\n",
       "      <td>0.249261</td>\n",
       "      <td>-1.512075</td>\n",
       "      <td>-0.016755</td>\n",
       "      <td>-0.395873</td>\n",
       "      <td>-1.144109</td>\n",
       "      <td>-0.284533</td>\n",
       "      <td>0.676309</td>\n",
       "      <td>1.561955</td>\n",
       "      <td>-1.890026</td>\n",
       "      <td>0.800819</td>\n",
       "    </tr>\n",
       "    <tr>\n",
       "      <th>P30291_WEE1</th>\n",
       "      <td>-1.324755</td>\n",
       "      <td>-0.357293</td>\n",
       "      <td>0.466785</td>\n",
       "      <td>-1.783981</td>\n",
       "      <td>-0.649181</td>\n",
       "      <td>-0.753637</td>\n",
       "      <td>-0.144904</td>\n",
       "      <td>-0.899360</td>\n",
       "      <td>-0.218875</td>\n",
       "      <td>-0.318009</td>\n",
       "      <td>...</td>\n",
       "      <td>-1.155933</td>\n",
       "      <td>1.212013</td>\n",
       "      <td>-0.322414</td>\n",
       "      <td>-1.216105</td>\n",
       "      <td>-0.156987</td>\n",
       "      <td>-1.242268</td>\n",
       "      <td>-0.465851</td>\n",
       "      <td>0.041283</td>\n",
       "      <td>0.874701</td>\n",
       "      <td>-1.019412</td>\n",
       "    </tr>\n",
       "    <tr>\n",
       "      <th>Q15569_TESK1</th>\n",
       "      <td>-1.198287</td>\n",
       "      <td>0.147686</td>\n",
       "      <td>0.654654</td>\n",
       "      <td>0.190482</td>\n",
       "      <td>-0.067034</td>\n",
       "      <td>-0.101100</td>\n",
       "      <td>1.033094</td>\n",
       "      <td>-0.509857</td>\n",
       "      <td>-1.507445</td>\n",
       "      <td>-0.343544</td>\n",
       "      <td>...</td>\n",
       "      <td>1.711714</td>\n",
       "      <td>0.490946</td>\n",
       "      <td>-0.066201</td>\n",
       "      <td>-2.807887</td>\n",
       "      <td>-0.234197</td>\n",
       "      <td>-0.155980</td>\n",
       "      <td>0.264293</td>\n",
       "      <td>0.034462</td>\n",
       "      <td>0.282917</td>\n",
       "      <td>1.388802</td>\n",
       "    </tr>\n",
       "    <tr>\n",
       "      <th>P45985_MAP2K4</th>\n",
       "      <td>-0.646683</td>\n",
       "      <td>0.642707</td>\n",
       "      <td>0.708758</td>\n",
       "      <td>1.701443</td>\n",
       "      <td>-0.456536</td>\n",
       "      <td>0.924434</td>\n",
       "      <td>0.073736</td>\n",
       "      <td>-0.543216</td>\n",
       "      <td>-0.081372</td>\n",
       "      <td>-0.639936</td>\n",
       "      <td>...</td>\n",
       "      <td>0.073312</td>\n",
       "      <td>0.311976</td>\n",
       "      <td>-0.192703</td>\n",
       "      <td>0.013141</td>\n",
       "      <td>0.001870</td>\n",
       "      <td>-0.334951</td>\n",
       "      <td>-0.406530</td>\n",
       "      <td>0.685566</td>\n",
       "      <td>1.518984</td>\n",
       "      <td>-19.873740</td>\n",
       "    </tr>\n",
       "    <tr>\n",
       "      <th>P53671_LIMK2</th>\n",
       "      <td>0.402872</td>\n",
       "      <td>0.611342</td>\n",
       "      <td>1.044310</td>\n",
       "      <td>-0.930824</td>\n",
       "      <td>-0.603378</td>\n",
       "      <td>0.584948</td>\n",
       "      <td>-1.166214</td>\n",
       "      <td>0.216833</td>\n",
       "      <td>-0.780754</td>\n",
       "      <td>-21.086079</td>\n",
       "      <td>...</td>\n",
       "      <td>0.944579</td>\n",
       "      <td>0.768205</td>\n",
       "      <td>0.593674</td>\n",
       "      <td>-2.437519</td>\n",
       "      <td>-1.185757</td>\n",
       "      <td>-1.200649</td>\n",
       "      <td>0.187203</td>\n",
       "      <td>0.627222</td>\n",
       "      <td>0.653286</td>\n",
       "      <td>-0.240828</td>\n",
       "    </tr>\n",
       "    <tr>\n",
       "      <th>O14733_MAP2K7</th>\n",
       "      <td>0.561353</td>\n",
       "      <td>0.376813</td>\n",
       "      <td>0.262292</td>\n",
       "      <td>1.687088</td>\n",
       "      <td>0.277569</td>\n",
       "      <td>1.073578</td>\n",
       "      <td>-2.455191</td>\n",
       "      <td>-0.487182</td>\n",
       "      <td>-0.069732</td>\n",
       "      <td>-21.086079</td>\n",
       "      <td>...</td>\n",
       "      <td>0.610969</td>\n",
       "      <td>0.586599</td>\n",
       "      <td>0.859526</td>\n",
       "      <td>-0.449202</td>\n",
       "      <td>0.217599</td>\n",
       "      <td>-0.060328</td>\n",
       "      <td>-0.546945</td>\n",
       "      <td>1.223223</td>\n",
       "      <td>-0.528320</td>\n",
       "      <td>-19.873740</td>\n",
       "    </tr>\n",
       "    <tr>\n",
       "      <th>P46734_MAP2K3</th>\n",
       "      <td>-0.610158</td>\n",
       "      <td>0.816736</td>\n",
       "      <td>-0.435288</td>\n",
       "      <td>1.515577</td>\n",
       "      <td>-0.156976</td>\n",
       "      <td>0.545923</td>\n",
       "      <td>-1.304775</td>\n",
       "      <td>0.400200</td>\n",
       "      <td>-0.111960</td>\n",
       "      <td>-21.086079</td>\n",
       "      <td>...</td>\n",
       "      <td>0.207613</td>\n",
       "      <td>0.253632</td>\n",
       "      <td>0.041133</td>\n",
       "      <td>0.954797</td>\n",
       "      <td>-1.600794</td>\n",
       "      <td>-2.200649</td>\n",
       "      <td>0.120089</td>\n",
       "      <td>-0.010207</td>\n",
       "      <td>0.653286</td>\n",
       "      <td>0.344134</td>\n",
       "    </tr>\n",
       "    <tr>\n",
       "      <th>P52564_MAP2K6</th>\n",
       "      <td>-0.206700</td>\n",
       "      <td>0.608759</td>\n",
       "      <td>1.024753</td>\n",
       "      <td>1.597106</td>\n",
       "      <td>-0.490484</td>\n",
       "      <td>0.627453</td>\n",
       "      <td>-22.372406</td>\n",
       "      <td>0.159802</td>\n",
       "      <td>-0.252823</td>\n",
       "      <td>-21.086079</td>\n",
       "      <td>...</td>\n",
       "      <td>0.207613</td>\n",
       "      <td>0.031240</td>\n",
       "      <td>0.041133</td>\n",
       "      <td>0.147442</td>\n",
       "      <td>-0.015832</td>\n",
       "      <td>-2.200649</td>\n",
       "      <td>-0.365338</td>\n",
       "      <td>0.726758</td>\n",
       "      <td>1.653285</td>\n",
       "      <td>-19.873740</td>\n",
       "    </tr>\n",
       "    <tr>\n",
       "      <th>Q59H18_TNNI3K</th>\n",
       "      <td>-1.210887</td>\n",
       "      <td>0.341537</td>\n",
       "      <td>1.642054</td>\n",
       "      <td>-20.552054</td>\n",
       "      <td>-22.224607</td>\n",
       "      <td>-21.843636</td>\n",
       "      <td>-0.320542</td>\n",
       "      <td>-1.522457</td>\n",
       "      <td>-0.198117</td>\n",
       "      <td>-21.086079</td>\n",
       "      <td>...</td>\n",
       "      <td>-21.010260</td>\n",
       "      <td>0.301329</td>\n",
       "      <td>-2.010705</td>\n",
       "      <td>-1.582468</td>\n",
       "      <td>-0.330705</td>\n",
       "      <td>0.654402</td>\n",
       "      <td>0.582823</td>\n",
       "      <td>-1.325080</td>\n",
       "      <td>0.923375</td>\n",
       "      <td>2.199185</td>\n",
       "    </tr>\n",
       "    <tr>\n",
       "      <th>Q15120_PDHK3</th>\n",
       "      <td>-0.583490</td>\n",
       "      <td>0.120938</td>\n",
       "      <td>1.491844</td>\n",
       "      <td>0.957282</td>\n",
       "      <td>-0.130308</td>\n",
       "      <td>-21.843636</td>\n",
       "      <td>0.944285</td>\n",
       "      <td>0.841906</td>\n",
       "      <td>-0.892647</td>\n",
       "      <td>-21.086079</td>\n",
       "      <td>...</td>\n",
       "      <td>-21.010260</td>\n",
       "      <td>0.506149</td>\n",
       "      <td>-1.805885</td>\n",
       "      <td>-0.377649</td>\n",
       "      <td>-0.125886</td>\n",
       "      <td>-22.418522</td>\n",
       "      <td>-0.212357</td>\n",
       "      <td>0.879739</td>\n",
       "      <td>-20.564588</td>\n",
       "      <td>0.819042</td>\n",
       "    </tr>\n",
       "    <tr>\n",
       "      <th>Q01974_ROR2</th>\n",
       "      <td>-1.935252</td>\n",
       "      <td>0.839564</td>\n",
       "      <td>-0.497349</td>\n",
       "      <td>0.190482</td>\n",
       "      <td>-0.482071</td>\n",
       "      <td>-0.101100</td>\n",
       "      <td>2.070569</td>\n",
       "      <td>-21.989358</td>\n",
       "      <td>-0.659448</td>\n",
       "      <td>-0.343544</td>\n",
       "      <td>...</td>\n",
       "      <td>-21.010260</td>\n",
       "      <td>1.151753</td>\n",
       "      <td>-0.382674</td>\n",
       "      <td>-22.070431</td>\n",
       "      <td>-0.702674</td>\n",
       "      <td>-1.302529</td>\n",
       "      <td>2.018209</td>\n",
       "      <td>-0.697049</td>\n",
       "      <td>-20.564588</td>\n",
       "      <td>-19.873740</td>\n",
       "    </tr>\n",
       "    <tr>\n",
       "      <th>Q99640_PKMYT1</th>\n",
       "      <td>-1.687325</td>\n",
       "      <td>-0.719863</td>\n",
       "      <td>1.165616</td>\n",
       "      <td>-20.552054</td>\n",
       "      <td>-22.224607</td>\n",
       "      <td>0.731789</td>\n",
       "      <td>1.203019</td>\n",
       "      <td>-0.998895</td>\n",
       "      <td>-0.996483</td>\n",
       "      <td>-21.086079</td>\n",
       "      <td>...</td>\n",
       "      <td>0.010576</td>\n",
       "      <td>1.571168</td>\n",
       "      <td>0.107131</td>\n",
       "      <td>-22.070431</td>\n",
       "      <td>-0.797831</td>\n",
       "      <td>-1.397686</td>\n",
       "      <td>-1.884303</td>\n",
       "      <td>0.207793</td>\n",
       "      <td>0.456249</td>\n",
       "      <td>-19.873740</td>\n",
       "    </tr>\n",
       "    <tr>\n",
       "      <th>Q01973_ROR1</th>\n",
       "      <td>0.540085</td>\n",
       "      <td>0.507547</td>\n",
       "      <td>-1.606973</td>\n",
       "      <td>-20.552054</td>\n",
       "      <td>-1.006733</td>\n",
       "      <td>1.959200</td>\n",
       "      <td>1.652822</td>\n",
       "      <td>-0.771485</td>\n",
       "      <td>-0.769072</td>\n",
       "      <td>-21.086079</td>\n",
       "      <td>...</td>\n",
       "      <td>-21.010260</td>\n",
       "      <td>0.066864</td>\n",
       "      <td>-0.245171</td>\n",
       "      <td>-22.070431</td>\n",
       "      <td>0.434829</td>\n",
       "      <td>-1.165025</td>\n",
       "      <td>0.670286</td>\n",
       "      <td>1.762382</td>\n",
       "      <td>-20.564588</td>\n",
       "      <td>1.379757</td>\n",
       "    </tr>\n",
       "    <tr>\n",
       "      <th>Q6P0Q8_MAST2</th>\n",
       "      <td>-0.528628</td>\n",
       "      <td>0.760762</td>\n",
       "      <td>-0.090724</td>\n",
       "      <td>-20.552054</td>\n",
       "      <td>-1.075446</td>\n",
       "      <td>0.890487</td>\n",
       "      <td>0.361717</td>\n",
       "      <td>-21.989358</td>\n",
       "      <td>-0.837785</td>\n",
       "      <td>1.063081</td>\n",
       "      <td>...</td>\n",
       "      <td>-21.010260</td>\n",
       "      <td>-0.553723</td>\n",
       "      <td>1.889130</td>\n",
       "      <td>-22.070431</td>\n",
       "      <td>0.399205</td>\n",
       "      <td>-1.200649</td>\n",
       "      <td>-1.687266</td>\n",
       "      <td>-0.595170</td>\n",
       "      <td>-20.564588</td>\n",
       "      <td>-19.873740</td>\n",
       "    </tr>\n",
       "  </tbody>\n",
       "</table>\n",
       "<p>17 rows × 943 columns</p>\n",
       "</div>"
      ],
      "text/plain": [
       "                   -20P      -20G      -20A       -20C       -20S       -20T  \\\n",
       "index                                                                          \n",
       "P53667_LIMK1  -0.743331  0.425765  0.460108  -0.617596  -0.152646  -0.530667   \n",
       "Q6PHR2_ULK3   -0.490634 -0.087072  0.029732  -0.867398   0.123012  -0.158981   \n",
       "Q9Y3S1_WNK2   -0.549822  0.658648 -0.455872   0.438409  -2.556071   0.525339   \n",
       "Q9HBY8_SGK2   -0.015252 -0.725862  0.230006  -0.889517  -0.392146  -0.011175   \n",
       "P30291_WEE1   -1.324755 -0.357293  0.466785  -1.783981  -0.649181  -0.753637   \n",
       "Q15569_TESK1  -1.198287  0.147686  0.654654   0.190482  -0.067034  -0.101100   \n",
       "P45985_MAP2K4 -0.646683  0.642707  0.708758   1.701443  -0.456536   0.924434   \n",
       "P53671_LIMK2   0.402872  0.611342  1.044310  -0.930824  -0.603378   0.584948   \n",
       "O14733_MAP2K7  0.561353  0.376813  0.262292   1.687088   0.277569   1.073578   \n",
       "P46734_MAP2K3 -0.610158  0.816736 -0.435288   1.515577  -0.156976   0.545923   \n",
       "P52564_MAP2K6 -0.206700  0.608759  1.024753   1.597106  -0.490484   0.627453   \n",
       "Q59H18_TNNI3K -1.210887  0.341537  1.642054 -20.552054 -22.224607 -21.843636   \n",
       "Q15120_PDHK3  -0.583490  0.120938  1.491844   0.957282  -0.130308 -21.843636   \n",
       "Q01974_ROR2   -1.935252  0.839564 -0.497349   0.190482  -0.482071  -0.101100   \n",
       "Q99640_PKMYT1 -1.687325 -0.719863  1.165616 -20.552054 -22.224607   0.731789   \n",
       "Q01973_ROR1    0.540085  0.507547 -1.606973 -20.552054  -1.006733   1.959200   \n",
       "Q6P0Q8_MAST2  -0.528628  0.760762 -0.090724 -20.552054  -1.075446   0.890487   \n",
       "\n",
       "                    -20V       -20I      -20L       -20M  ...        20H  \\\n",
       "index                                                     ...              \n",
       "P53667_LIMK1   -0.174914   0.667565 -0.286954   0.696375  ...  -0.264557   \n",
       "Q6PHR2_ULK3     0.634177   0.110333 -0.887254  -0.986387  ...   0.814737   \n",
       "Q9Y3S1_WNK2     0.755560   0.849101 -0.617971  -1.417543  ...   1.166616   \n",
       "Q9HBY8_SGK2     1.460055  -1.326822 -0.739447  -1.423542  ...   0.249261   \n",
       "P30291_WEE1    -0.144904  -0.899360 -0.218875  -0.318009  ...  -1.155933   \n",
       "Q15569_TESK1    1.033094  -0.509857 -1.507445  -0.343544  ...   1.711714   \n",
       "P45985_MAP2K4   0.073736  -0.543216 -0.081372  -0.639936  ...   0.073312   \n",
       "P53671_LIMK2   -1.166214   0.216833 -0.780754 -21.086079  ...   0.944579   \n",
       "O14733_MAP2K7  -2.455191  -0.487182 -0.069732 -21.086079  ...   0.610969   \n",
       "P46734_MAP2K3  -1.304775   0.400200 -0.111960 -21.086079  ...   0.207613   \n",
       "P52564_MAP2K6 -22.372406   0.159802 -0.252823 -21.086079  ...   0.207613   \n",
       "Q59H18_TNNI3K  -0.320542  -1.522457 -0.198117 -21.086079  ... -21.010260   \n",
       "Q15120_PDHK3    0.944285   0.841906 -0.892647 -21.086079  ... -21.010260   \n",
       "Q01974_ROR2     2.070569 -21.989358 -0.659448  -0.343544  ... -21.010260   \n",
       "Q99640_PKMYT1   1.203019  -0.998895 -0.996483 -21.086079  ...   0.010576   \n",
       "Q01973_ROR1     1.652822  -0.771485 -0.769072 -21.086079  ... -21.010260   \n",
       "Q6P0Q8_MAST2    0.361717 -21.989358 -0.837785   1.063081  ... -21.010260   \n",
       "\n",
       "                    20K       20R        20Q       20N        20D       20E  \\\n",
       "index                                                                         \n",
       "P53667_LIMK1   0.331659  0.416959  -0.865297  0.511997  -0.585357 -0.205241   \n",
       "Q6PHR2_ULK3    0.168879 -1.088708  -0.245434  0.813684   0.069440  0.504820   \n",
       "Q9Y3S1_WNK2    0.338166 -0.973869  -1.031058  1.542632   0.205812 -1.380340   \n",
       "Q9HBY8_SGK2   -1.512075 -0.016755  -0.395873 -1.144109  -0.284533  0.676309   \n",
       "P30291_WEE1    1.212013 -0.322414  -1.216105 -0.156987  -1.242268 -0.465851   \n",
       "Q15569_TESK1   0.490946 -0.066201  -2.807887 -0.234197  -0.155980  0.264293   \n",
       "P45985_MAP2K4  0.311976 -0.192703   0.013141  0.001870  -0.334951 -0.406530   \n",
       "P53671_LIMK2   0.768205  0.593674  -2.437519 -1.185757  -1.200649  0.187203   \n",
       "O14733_MAP2K7  0.586599  0.859526  -0.449202  0.217599  -0.060328 -0.546945   \n",
       "P46734_MAP2K3  0.253632  0.041133   0.954797 -1.600794  -2.200649  0.120089   \n",
       "P52564_MAP2K6  0.031240  0.041133   0.147442 -0.015832  -2.200649 -0.365338   \n",
       "Q59H18_TNNI3K  0.301329 -2.010705  -1.582468 -0.330705   0.654402  0.582823   \n",
       "Q15120_PDHK3   0.506149 -1.805885  -0.377649 -0.125886 -22.418522 -0.212357   \n",
       "Q01974_ROR2    1.151753 -0.382674 -22.070431 -0.702674  -1.302529  2.018209   \n",
       "Q99640_PKMYT1  1.571168  0.107131 -22.070431 -0.797831  -1.397686 -1.884303   \n",
       "Q01973_ROR1    0.066864 -0.245171 -22.070431  0.434829  -1.165025  0.670286   \n",
       "Q6P0Q8_MAST2  -0.553723  1.889130 -22.070431  0.399205  -1.200649 -1.687266   \n",
       "\n",
       "                   20pS       20pT       20pY  \n",
       "index                                          \n",
       "P53667_LIMK1   0.102584   0.766077   1.331394  \n",
       "Q6PHR2_ULK3    0.011954   0.845372   0.688223  \n",
       "Q9Y3S1_WNK2   -0.095599  -0.847142   1.165632  \n",
       "Q9HBY8_SGK2    1.561955  -1.890026   0.800819  \n",
       "P30291_WEE1    0.041283   0.874701  -1.019412  \n",
       "Q15569_TESK1   0.034462   0.282917   1.388802  \n",
       "P45985_MAP2K4  0.685566   1.518984 -19.873740  \n",
       "P53671_LIMK2   0.627222   0.653286  -0.240828  \n",
       "O14733_MAP2K7  1.223223  -0.528320 -19.873740  \n",
       "P46734_MAP2K3 -0.010207   0.653286   0.344134  \n",
       "P52564_MAP2K6  0.726758   1.653285 -19.873740  \n",
       "Q59H18_TNNI3K -1.325080   0.923375   2.199185  \n",
       "Q15120_PDHK3   0.879739 -20.564588   0.819042  \n",
       "Q01974_ROR2   -0.697049 -20.564588 -19.873740  \n",
       "Q99640_PKMYT1  0.207793   0.456249 -19.873740  \n",
       "Q01973_ROR1    1.762382 -20.564588   1.379757  \n",
       "Q6P0Q8_MAST2  -0.595170 -20.564588 -19.873740  \n",
       "\n",
       "[17 rows x 943 columns]"
      ]
     },
     "execution_count": 140,
     "metadata": {},
     "output_type": "execute_result"
    }
   ],
   "source": [
    "LO[~LO.index.isin(pspa.index)]"
   ]
  },
  {
   "cell_type": "markdown",
   "id": "100c0ccc-9f55-4ac3-8ff3-46bbaae4067a",
   "metadata": {},
   "source": [
    "In PSPA but not in CDDM"
   ]
  },
  {
   "cell_type": "code",
   "execution_count": 141,
   "id": "451de291-1323-4e79-accc-c713f46bc662",
   "metadata": {},
   "outputs": [
    {
     "data": {
      "text/html": [
       "<div>\n",
       "<style scoped>\n",
       "    .dataframe tbody tr th:only-of-type {\n",
       "        vertical-align: middle;\n",
       "    }\n",
       "\n",
       "    .dataframe tbody tr th {\n",
       "        vertical-align: top;\n",
       "    }\n",
       "\n",
       "    .dataframe thead th {\n",
       "        text-align: right;\n",
       "    }\n",
       "</style>\n",
       "<table border=\"1\" class=\"dataframe\">\n",
       "  <thead>\n",
       "    <tr style=\"text-align: right;\">\n",
       "      <th></th>\n",
       "      <th>-5P</th>\n",
       "      <th>-5G</th>\n",
       "      <th>-5A</th>\n",
       "      <th>-5C</th>\n",
       "      <th>-5S</th>\n",
       "      <th>-5T</th>\n",
       "      <th>-5V</th>\n",
       "      <th>-5I</th>\n",
       "      <th>-5L</th>\n",
       "      <th>-5M</th>\n",
       "      <th>...</th>\n",
       "      <th>5H</th>\n",
       "      <th>5K</th>\n",
       "      <th>5R</th>\n",
       "      <th>5Q</th>\n",
       "      <th>5N</th>\n",
       "      <th>5D</th>\n",
       "      <th>5E</th>\n",
       "      <th>5s</th>\n",
       "      <th>5t</th>\n",
       "      <th>5y</th>\n",
       "    </tr>\n",
       "    <tr>\n",
       "      <th>kinase</th>\n",
       "      <th></th>\n",
       "      <th></th>\n",
       "      <th></th>\n",
       "      <th></th>\n",
       "      <th></th>\n",
       "      <th></th>\n",
       "      <th></th>\n",
       "      <th></th>\n",
       "      <th></th>\n",
       "      <th></th>\n",
       "      <th></th>\n",
       "      <th></th>\n",
       "      <th></th>\n",
       "      <th></th>\n",
       "      <th></th>\n",
       "      <th></th>\n",
       "      <th></th>\n",
       "      <th></th>\n",
       "      <th></th>\n",
       "      <th></th>\n",
       "      <th></th>\n",
       "    </tr>\n",
       "  </thead>\n",
       "  <tbody>\n",
       "    <tr>\n",
       "      <th>Q2M2I8_AAK1</th>\n",
       "      <td>0.0720</td>\n",
       "      <td>0.0245</td>\n",
       "      <td>0.0284</td>\n",
       "      <td>0.0456</td>\n",
       "      <td>0.0425</td>\n",
       "      <td>0.0425</td>\n",
       "      <td>0.0951</td>\n",
       "      <td>0.1554</td>\n",
       "      <td>0.0993</td>\n",
       "      <td>0.0864</td>\n",
       "      <td>...</td>\n",
       "      <td>NaN</td>\n",
       "      <td>NaN</td>\n",
       "      <td>NaN</td>\n",
       "      <td>NaN</td>\n",
       "      <td>NaN</td>\n",
       "      <td>NaN</td>\n",
       "      <td>NaN</td>\n",
       "      <td>NaN</td>\n",
       "      <td>NaN</td>\n",
       "      <td>NaN</td>\n",
       "    </tr>\n",
       "    <tr>\n",
       "      <th>Q13705_ACVR2B</th>\n",
       "      <td>0.0533</td>\n",
       "      <td>0.0517</td>\n",
       "      <td>0.0566</td>\n",
       "      <td>0.0772</td>\n",
       "      <td>0.0533</td>\n",
       "      <td>0.0533</td>\n",
       "      <td>0.0543</td>\n",
       "      <td>0.0442</td>\n",
       "      <td>0.0471</td>\n",
       "      <td>0.0516</td>\n",
       "      <td>...</td>\n",
       "      <td>NaN</td>\n",
       "      <td>NaN</td>\n",
       "      <td>NaN</td>\n",
       "      <td>NaN</td>\n",
       "      <td>NaN</td>\n",
       "      <td>NaN</td>\n",
       "      <td>NaN</td>\n",
       "      <td>NaN</td>\n",
       "      <td>NaN</td>\n",
       "      <td>NaN</td>\n",
       "    </tr>\n",
       "    <tr>\n",
       "      <th>Q96QP1_ALPHAK3</th>\n",
       "      <td>0.0571</td>\n",
       "      <td>0.0478</td>\n",
       "      <td>0.0253</td>\n",
       "      <td>0.0384</td>\n",
       "      <td>0.0571</td>\n",
       "      <td>0.0571</td>\n",
       "      <td>0.0586</td>\n",
       "      <td>0.0602</td>\n",
       "      <td>0.0394</td>\n",
       "      <td>0.0673</td>\n",
       "      <td>...</td>\n",
       "      <td>NaN</td>\n",
       "      <td>NaN</td>\n",
       "      <td>NaN</td>\n",
       "      <td>NaN</td>\n",
       "      <td>NaN</td>\n",
       "      <td>NaN</td>\n",
       "      <td>NaN</td>\n",
       "      <td>NaN</td>\n",
       "      <td>NaN</td>\n",
       "      <td>NaN</td>\n",
       "    </tr>\n",
       "    <tr>\n",
       "      <th>P57078_ANKRD3</th>\n",
       "      <td>0.0542</td>\n",
       "      <td>0.0555</td>\n",
       "      <td>0.0611</td>\n",
       "      <td>0.0521</td>\n",
       "      <td>0.0554</td>\n",
       "      <td>0.0554</td>\n",
       "      <td>0.0509</td>\n",
       "      <td>0.0515</td>\n",
       "      <td>0.0545</td>\n",
       "      <td>0.0534</td>\n",
       "      <td>...</td>\n",
       "      <td>NaN</td>\n",
       "      <td>NaN</td>\n",
       "      <td>NaN</td>\n",
       "      <td>NaN</td>\n",
       "      <td>NaN</td>\n",
       "      <td>NaN</td>\n",
       "      <td>NaN</td>\n",
       "      <td>NaN</td>\n",
       "      <td>NaN</td>\n",
       "      <td>NaN</td>\n",
       "    </tr>\n",
       "    <tr>\n",
       "      <th>O14874_BCKDK</th>\n",
       "      <td>0.0482</td>\n",
       "      <td>0.0672</td>\n",
       "      <td>0.0598</td>\n",
       "      <td>0.0694</td>\n",
       "      <td>0.0566</td>\n",
       "      <td>0.0566</td>\n",
       "      <td>0.0517</td>\n",
       "      <td>0.0467</td>\n",
       "      <td>0.0505</td>\n",
       "      <td>0.0566</td>\n",
       "      <td>...</td>\n",
       "      <td>NaN</td>\n",
       "      <td>NaN</td>\n",
       "      <td>NaN</td>\n",
       "      <td>NaN</td>\n",
       "      <td>NaN</td>\n",
       "      <td>NaN</td>\n",
       "      <td>NaN</td>\n",
       "      <td>NaN</td>\n",
       "      <td>NaN</td>\n",
       "      <td>NaN</td>\n",
       "    </tr>\n",
       "    <tr>\n",
       "      <th>...</th>\n",
       "      <td>...</td>\n",
       "      <td>...</td>\n",
       "      <td>...</td>\n",
       "      <td>...</td>\n",
       "      <td>...</td>\n",
       "      <td>...</td>\n",
       "      <td>...</td>\n",
       "      <td>...</td>\n",
       "      <td>...</td>\n",
       "      <td>...</td>\n",
       "      <td>...</td>\n",
       "      <td>...</td>\n",
       "      <td>...</td>\n",
       "      <td>...</td>\n",
       "      <td>...</td>\n",
       "      <td>...</td>\n",
       "      <td>...</td>\n",
       "      <td>...</td>\n",
       "      <td>...</td>\n",
       "      <td>...</td>\n",
       "      <td>...</td>\n",
       "    </tr>\n",
       "    <tr>\n",
       "      <th>Q8IYT8_ULK2</th>\n",
       "      <td>0.0593</td>\n",
       "      <td>0.0724</td>\n",
       "      <td>0.0812</td>\n",
       "      <td>0.0682</td>\n",
       "      <td>0.0603</td>\n",
       "      <td>0.0603</td>\n",
       "      <td>0.0479</td>\n",
       "      <td>0.0399</td>\n",
       "      <td>0.0440</td>\n",
       "      <td>0.0415</td>\n",
       "      <td>...</td>\n",
       "      <td>NaN</td>\n",
       "      <td>NaN</td>\n",
       "      <td>NaN</td>\n",
       "      <td>NaN</td>\n",
       "      <td>NaN</td>\n",
       "      <td>NaN</td>\n",
       "      <td>NaN</td>\n",
       "      <td>NaN</td>\n",
       "      <td>NaN</td>\n",
       "      <td>NaN</td>\n",
       "    </tr>\n",
       "    <tr>\n",
       "      <th>Q96J92_WNK4</th>\n",
       "      <td>0.0369</td>\n",
       "      <td>0.0523</td>\n",
       "      <td>0.0539</td>\n",
       "      <td>0.0544</td>\n",
       "      <td>0.0580</td>\n",
       "      <td>0.0580</td>\n",
       "      <td>0.0524</td>\n",
       "      <td>0.0631</td>\n",
       "      <td>0.0668</td>\n",
       "      <td>0.0580</td>\n",
       "      <td>...</td>\n",
       "      <td>NaN</td>\n",
       "      <td>NaN</td>\n",
       "      <td>NaN</td>\n",
       "      <td>NaN</td>\n",
       "      <td>NaN</td>\n",
       "      <td>NaN</td>\n",
       "      <td>NaN</td>\n",
       "      <td>NaN</td>\n",
       "      <td>NaN</td>\n",
       "      <td>NaN</td>\n",
       "    </tr>\n",
       "    <tr>\n",
       "      <th>Q9NY57_YANK2</th>\n",
       "      <td>0.0580</td>\n",
       "      <td>0.0699</td>\n",
       "      <td>0.0637</td>\n",
       "      <td>0.0602</td>\n",
       "      <td>0.0580</td>\n",
       "      <td>0.0580</td>\n",
       "      <td>0.0433</td>\n",
       "      <td>0.0470</td>\n",
       "      <td>0.0459</td>\n",
       "      <td>0.0469</td>\n",
       "      <td>...</td>\n",
       "      <td>NaN</td>\n",
       "      <td>NaN</td>\n",
       "      <td>NaN</td>\n",
       "      <td>NaN</td>\n",
       "      <td>NaN</td>\n",
       "      <td>NaN</td>\n",
       "      <td>NaN</td>\n",
       "      <td>NaN</td>\n",
       "      <td>NaN</td>\n",
       "      <td>NaN</td>\n",
       "    </tr>\n",
       "    <tr>\n",
       "      <th>Q86UX6_YANK3</th>\n",
       "      <td>0.0625</td>\n",
       "      <td>0.0776</td>\n",
       "      <td>0.0647</td>\n",
       "      <td>0.0598</td>\n",
       "      <td>0.0545</td>\n",
       "      <td>0.0545</td>\n",
       "      <td>0.0502</td>\n",
       "      <td>0.0537</td>\n",
       "      <td>0.0561</td>\n",
       "      <td>0.0543</td>\n",
       "      <td>...</td>\n",
       "      <td>NaN</td>\n",
       "      <td>NaN</td>\n",
       "      <td>NaN</td>\n",
       "      <td>NaN</td>\n",
       "      <td>NaN</td>\n",
       "      <td>NaN</td>\n",
       "      <td>NaN</td>\n",
       "      <td>NaN</td>\n",
       "      <td>NaN</td>\n",
       "      <td>NaN</td>\n",
       "    </tr>\n",
       "    <tr>\n",
       "      <th>Q56UN5_YSK4</th>\n",
       "      <td>0.0593</td>\n",
       "      <td>0.0728</td>\n",
       "      <td>0.0744</td>\n",
       "      <td>0.0734</td>\n",
       "      <td>0.0597</td>\n",
       "      <td>0.0597</td>\n",
       "      <td>0.0517</td>\n",
       "      <td>0.0400</td>\n",
       "      <td>0.0433</td>\n",
       "      <td>0.0512</td>\n",
       "      <td>...</td>\n",
       "      <td>NaN</td>\n",
       "      <td>NaN</td>\n",
       "      <td>NaN</td>\n",
       "      <td>NaN</td>\n",
       "      <td>NaN</td>\n",
       "      <td>NaN</td>\n",
       "      <td>NaN</td>\n",
       "      <td>NaN</td>\n",
       "      <td>NaN</td>\n",
       "      <td>NaN</td>\n",
       "    </tr>\n",
       "  </tbody>\n",
       "</table>\n",
       "<p>69 rows × 236 columns</p>\n",
       "</div>"
      ],
      "text/plain": [
       "                   -5P     -5G     -5A     -5C     -5S     -5T     -5V  \\\n",
       "kinase                                                                   \n",
       "Q2M2I8_AAK1     0.0720  0.0245  0.0284  0.0456  0.0425  0.0425  0.0951   \n",
       "Q13705_ACVR2B   0.0533  0.0517  0.0566  0.0772  0.0533  0.0533  0.0543   \n",
       "Q96QP1_ALPHAK3  0.0571  0.0478  0.0253  0.0384  0.0571  0.0571  0.0586   \n",
       "P57078_ANKRD3   0.0542  0.0555  0.0611  0.0521  0.0554  0.0554  0.0509   \n",
       "O14874_BCKDK    0.0482  0.0672  0.0598  0.0694  0.0566  0.0566  0.0517   \n",
       "...                ...     ...     ...     ...     ...     ...     ...   \n",
       "Q8IYT8_ULK2     0.0593  0.0724  0.0812  0.0682  0.0603  0.0603  0.0479   \n",
       "Q96J92_WNK4     0.0369  0.0523  0.0539  0.0544  0.0580  0.0580  0.0524   \n",
       "Q9NY57_YANK2    0.0580  0.0699  0.0637  0.0602  0.0580  0.0580  0.0433   \n",
       "Q86UX6_YANK3    0.0625  0.0776  0.0647  0.0598  0.0545  0.0545  0.0502   \n",
       "Q56UN5_YSK4     0.0593  0.0728  0.0744  0.0734  0.0597  0.0597  0.0517   \n",
       "\n",
       "                   -5I     -5L     -5M  ...  5H  5K  5R  5Q  5N  5D  5E  5s  \\\n",
       "kinase                                  ...                                   \n",
       "Q2M2I8_AAK1     0.1554  0.0993  0.0864  ... NaN NaN NaN NaN NaN NaN NaN NaN   \n",
       "Q13705_ACVR2B   0.0442  0.0471  0.0516  ... NaN NaN NaN NaN NaN NaN NaN NaN   \n",
       "Q96QP1_ALPHAK3  0.0602  0.0394  0.0673  ... NaN NaN NaN NaN NaN NaN NaN NaN   \n",
       "P57078_ANKRD3   0.0515  0.0545  0.0534  ... NaN NaN NaN NaN NaN NaN NaN NaN   \n",
       "O14874_BCKDK    0.0467  0.0505  0.0566  ... NaN NaN NaN NaN NaN NaN NaN NaN   \n",
       "...                ...     ...     ...  ...  ..  ..  ..  ..  ..  ..  ..  ..   \n",
       "Q8IYT8_ULK2     0.0399  0.0440  0.0415  ... NaN NaN NaN NaN NaN NaN NaN NaN   \n",
       "Q96J92_WNK4     0.0631  0.0668  0.0580  ... NaN NaN NaN NaN NaN NaN NaN NaN   \n",
       "Q9NY57_YANK2    0.0470  0.0459  0.0469  ... NaN NaN NaN NaN NaN NaN NaN NaN   \n",
       "Q86UX6_YANK3    0.0537  0.0561  0.0543  ... NaN NaN NaN NaN NaN NaN NaN NaN   \n",
       "Q56UN5_YSK4     0.0400  0.0433  0.0512  ... NaN NaN NaN NaN NaN NaN NaN NaN   \n",
       "\n",
       "                5t  5y  \n",
       "kinase                  \n",
       "Q2M2I8_AAK1    NaN NaN  \n",
       "Q13705_ACVR2B  NaN NaN  \n",
       "Q96QP1_ALPHAK3 NaN NaN  \n",
       "P57078_ANKRD3  NaN NaN  \n",
       "O14874_BCKDK   NaN NaN  \n",
       "...             ..  ..  \n",
       "Q8IYT8_ULK2    NaN NaN  \n",
       "Q96J92_WNK4    NaN NaN  \n",
       "Q9NY57_YANK2   NaN NaN  \n",
       "Q86UX6_YANK3   NaN NaN  \n",
       "Q56UN5_YSK4    NaN NaN  \n",
       "\n",
       "[69 rows x 236 columns]"
      ]
     },
     "execution_count": 141,
     "metadata": {},
     "output_type": "execute_result"
    }
   ],
   "source": [
    "pspa[~pspa.index.isin(LO.index)]"
   ]
  },
  {
   "cell_type": "code",
   "execution_count": 142,
   "id": "d3fcfbf2-276d-4164-8eea-ce9756ebe185",
   "metadata": {},
   "outputs": [],
   "source": [
    "overlap_cddm = LO[LO.index.isin(pspa.index)].copy()"
   ]
  },
  {
   "cell_type": "code",
   "execution_count": 143,
   "id": "d50fb945-f90f-44e6-a0ef-d432c717dd37",
   "metadata": {},
   "outputs": [
    {
     "data": {
      "text/plain": [
       "(312, 943)"
      ]
     },
     "execution_count": 143,
     "metadata": {},
     "output_type": "execute_result"
    }
   ],
   "source": [
    "overlap_cddm.shape"
   ]
  },
  {
   "cell_type": "code",
   "execution_count": 144,
   "id": "cbdf3584-bc6b-4fde-addd-59781571a566",
   "metadata": {},
   "outputs": [],
   "source": [
    "overlap_pspa = pspa[pspa.index.isin(LO.index)].copy()"
   ]
  },
  {
   "cell_type": "code",
   "execution_count": 145,
   "id": "55e4e441-c1a5-401d-b9ad-b4207dc43828",
   "metadata": {},
   "outputs": [
    {
     "data": {
      "text/plain": [
       "(312, 236)"
      ]
     },
     "execution_count": 145,
     "metadata": {},
     "output_type": "execute_result"
    }
   ],
   "source": [
    "overlap_pspa.shape"
   ]
  },
  {
   "cell_type": "code",
   "execution_count": 146,
   "id": "adbb2ba5-16b3-4fcd-b82e-1bb58ba052c0",
   "metadata": {},
   "outputs": [],
   "source": [
    "# overlap_cddm.to_parquet('raw/overlap_cddm_eval.parquet')\n",
    "overlap_cddm.to_parquet('raw/overlap_cddm.parquet')"
   ]
  },
  {
   "cell_type": "code",
   "execution_count": 128,
   "id": "f414969e-11e7-4bd0-a797-8d84219adff1",
   "metadata": {},
   "outputs": [],
   "source": [
    "overlap_pspa.to_parquet('raw/overlap_pspa.parquet')"
   ]
  },
  {
   "cell_type": "code",
   "execution_count": null,
   "id": "ec9b1cee-8ec5-46c7-b21a-1097febe4f46",
   "metadata": {},
   "outputs": [],
   "source": []
  }
 ],
 "metadata": {
  "kernelspec": {
   "display_name": "Python 3 (ipykernel)",
   "language": "python",
   "name": "python3"
  },
  "language_info": {
   "codemirror_mode": {
    "name": "ipython",
    "version": 3
   },
   "file_extension": ".py",
   "mimetype": "text/x-python",
   "name": "python",
   "nbconvert_exporter": "python",
   "pygments_lexer": "ipython3",
   "version": "3.12.3"
  },
  "widgets": {
   "application/vnd.jupyter.widget-state+json": {
    "state": {},
    "version_major": 2,
    "version_minor": 0
   }
  }
 },
 "nbformat": 4,
 "nbformat_minor": 5
}
