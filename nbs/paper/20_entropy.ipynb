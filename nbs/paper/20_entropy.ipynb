{
 "cells": [
  {
   "cell_type": "raw",
   "id": "4190c8a1-9a26-49fc-b952-076c5abb3f12",
   "metadata": {},
   "source": [
    "---\n",
    "skip_showdoc: true\n",
    "skip_exec: true\n",
    "---"
   ]
  },
  {
   "cell_type": "markdown",
   "id": "01ab113d-4e0e-40b1-abe3-b3feb6a235c9",
   "metadata": {},
   "source": [
    "## Entropy"
   ]
  },
  {
   "cell_type": "code",
   "execution_count": null,
   "id": "64db4c69-e31b-444a-bcc4-d8bd07310f86",
   "metadata": {},
   "outputs": [],
   "source": [
    "from katlas.core import *"
   ]
  },
  {
   "cell_type": "code",
   "execution_count": null,
   "id": "3ab690d5-64e0-42aa-9acd-1ebd28d64cb2",
   "metadata": {},
   "outputs": [],
   "source": [
    "pspa = Data.get_pspa_all_norm()"
   ]
  },
  {
   "cell_type": "code",
   "execution_count": null,
   "id": "c4b9760b-d8e5-4132-9889-2b19528ec7ae",
   "metadata": {},
   "outputs": [
    {
     "data": {
      "text/plain": [
       "np.int64(0)"
      ]
     },
     "execution_count": null,
     "metadata": {},
     "output_type": "execute_result"
    }
   ],
   "source": [
    "pspa.index.duplicated(keep=False).sum()"
   ]
  },
  {
   "cell_type": "code",
   "execution_count": null,
   "id": "096ca2c7-b113-429a-8888-4247261a9381",
   "metadata": {},
   "outputs": [],
   "source": [
    "pspa = pspa.dropna(axis=1) "
   ]
  },
  {
   "cell_type": "code",
   "execution_count": null,
   "id": "d63b6b59-08e0-4d1a-9352-92ea49ee8784",
   "metadata": {},
   "outputs": [
    {
     "name": "stdout",
     "output_type": "stream",
     "text": [
      "\u001b[1;31mSignature:\u001b[0m \u001b[0mentropy\u001b[0m\u001b[1;33m(\u001b[0m\u001b[0mpssm_df\u001b[0m\u001b[1;33m,\u001b[0m \u001b[0mreturn_min\u001b[0m\u001b[1;33m=\u001b[0m\u001b[1;32mFalse\u001b[0m\u001b[1;33m,\u001b[0m \u001b[0mexclude_zero\u001b[0m\u001b[1;33m=\u001b[0m\u001b[1;32mFalse\u001b[0m\u001b[1;33m,\u001b[0m \u001b[0mcontain_sty\u001b[0m\u001b[1;33m=\u001b[0m\u001b[1;32mTrue\u001b[0m\u001b[1;33m)\u001b[0m\u001b[1;33m\u001b[0m\u001b[1;33m\u001b[0m\u001b[0m\n",
      "\u001b[1;31mSource:\u001b[0m   \n",
      "\u001b[1;32mdef\u001b[0m \u001b[0mentropy\u001b[0m\u001b[1;33m(\u001b[0m\u001b[0mpssm_df\u001b[0m\u001b[1;33m,\u001b[0m\u001b[1;31m# a dataframe of pssm wtih index as aa and column as position\u001b[0m\u001b[1;33m\n",
      "\u001b[0m            \u001b[0mreturn_min\u001b[0m\u001b[1;33m=\u001b[0m\u001b[1;32mFalse\u001b[0m\u001b[1;33m,\u001b[0m \u001b[1;31m# return min entropy as a single value or return all entropy as a series\u001b[0m\u001b[1;33m\n",
      "\u001b[0m            \u001b[0mexclude_zero\u001b[0m\u001b[1;33m=\u001b[0m\u001b[1;32mFalse\u001b[0m\u001b[1;33m,\u001b[0m \u001b[1;31m# exclude the column of 0 (center position) in the entropy calculation\u001b[0m\u001b[1;33m\n",
      "\u001b[0m            \u001b[0mcontain_sty\u001b[0m\u001b[1;33m=\u001b[0m\u001b[1;32mTrue\u001b[0m\u001b[1;33m,\u001b[0m \u001b[1;31m# keep only s,t,y values (last three) in center 0 position\u001b[0m\u001b[1;33m\n",
      "\u001b[0m            \u001b[1;33m)\u001b[0m\u001b[1;33m:\u001b[0m \u001b[1;33m\n",
      "\u001b[0m    \u001b[1;34m\"Calculate entropy per position (max) of a PSSM surrounding 0\"\u001b[0m\u001b[1;33m\n",
      "\u001b[0m    \u001b[0mpssm_df\u001b[0m \u001b[1;33m=\u001b[0m \u001b[0mpssm_df\u001b[0m\u001b[1;33m.\u001b[0m\u001b[0mcopy\u001b[0m\u001b[1;33m(\u001b[0m\u001b[1;33m)\u001b[0m\u001b[1;33m\n",
      "\u001b[0m    \u001b[0mpssm_df\u001b[0m\u001b[1;33m.\u001b[0m\u001b[0mcolumns\u001b[0m\u001b[1;33m=\u001b[0m \u001b[0mpssm_df\u001b[0m\u001b[1;33m.\u001b[0m\u001b[0mcolumns\u001b[0m\u001b[1;33m.\u001b[0m\u001b[0mastype\u001b[0m\u001b[1;33m(\u001b[0m\u001b[0mint\u001b[0m\u001b[1;33m)\u001b[0m\u001b[1;33m\n",
      "\u001b[0m    \u001b[1;32mif\u001b[0m \u001b[1;36m0\u001b[0m \u001b[1;32min\u001b[0m \u001b[0mpssm_df\u001b[0m\u001b[1;33m.\u001b[0m\u001b[0mcolumns\u001b[0m\u001b[1;33m:\u001b[0m\u001b[1;33m\n",
      "\u001b[0m        \u001b[1;32mif\u001b[0m \u001b[0mexclude_zero\u001b[0m\u001b[1;33m:\u001b[0m\u001b[1;33m\n",
      "\u001b[0m            \u001b[0mpssm_df\u001b[0m \u001b[1;33m=\u001b[0m \u001b[0mpssm_df\u001b[0m\u001b[1;33m.\u001b[0m\u001b[0mdrop\u001b[0m\u001b[1;33m(\u001b[0m\u001b[0mcolumns\u001b[0m\u001b[1;33m=\u001b[0m\u001b[1;33m[\u001b[0m\u001b[1;36m0\u001b[0m\u001b[1;33m]\u001b[0m\u001b[1;33m)\u001b[0m\u001b[1;33m\n",
      "\u001b[0m        \u001b[1;32mif\u001b[0m \u001b[0mcontain_sty\u001b[0m\u001b[1;33m:\u001b[0m                       \u001b[1;33m\n",
      "\u001b[0m            \u001b[0mpssm_df\u001b[0m\u001b[1;33m.\u001b[0m\u001b[0mloc\u001b[0m\u001b[1;33m[\u001b[0m\u001b[0mpssm_df\u001b[0m\u001b[1;33m.\u001b[0m\u001b[0mindex\u001b[0m\u001b[1;33m[\u001b[0m\u001b[1;33m:\u001b[0m\u001b[1;33m-\u001b[0m\u001b[1;36m3\u001b[0m\u001b[1;33m]\u001b[0m\u001b[1;33m,\u001b[0m \u001b[1;36m0\u001b[0m\u001b[1;33m]\u001b[0m \u001b[1;33m=\u001b[0m \u001b[1;36m0\u001b[0m\u001b[1;33m\n",
      "\u001b[0m    \u001b[0mpssm_df\u001b[0m \u001b[1;33m=\u001b[0m \u001b[0mpssm_df\u001b[0m\u001b[1;33m/\u001b[0m\u001b[0mpssm_df\u001b[0m\u001b[1;33m.\u001b[0m\u001b[0msum\u001b[0m\u001b[1;33m(\u001b[0m\u001b[1;33m)\u001b[0m\u001b[1;33m\n",
      "\u001b[0m    \u001b[0mper_position\u001b[0m \u001b[1;33m=\u001b[0m \u001b[1;33m-\u001b[0m\u001b[0mnp\u001b[0m\u001b[1;33m.\u001b[0m\u001b[0msum\u001b[0m\u001b[1;33m(\u001b[0m\u001b[0mpssm_df\u001b[0m \u001b[1;33m*\u001b[0m \u001b[0mnp\u001b[0m\u001b[1;33m.\u001b[0m\u001b[0mlog2\u001b[0m\u001b[1;33m(\u001b[0m\u001b[0mpssm_df\u001b[0m \u001b[1;33m+\u001b[0m \u001b[1;36m1e-9\u001b[0m\u001b[1;33m)\u001b[0m\u001b[1;33m,\u001b[0m \u001b[0maxis\u001b[0m\u001b[1;33m=\u001b[0m\u001b[1;36m0\u001b[0m\u001b[1;33m)\u001b[0m\u001b[1;33m\n",
      "\u001b[0m    \u001b[1;32mreturn\u001b[0m \u001b[0mper_position\u001b[0m\u001b[1;33m.\u001b[0m\u001b[0mmin\u001b[0m\u001b[1;33m(\u001b[0m\u001b[1;33m)\u001b[0m \u001b[1;32mif\u001b[0m \u001b[0mreturn_min\u001b[0m \u001b[1;32melse\u001b[0m \u001b[0mper_position\u001b[0m\u001b[1;33m\u001b[0m\u001b[1;33m\u001b[0m\u001b[0m\n",
      "\u001b[1;31mFile:\u001b[0m      f:\\git\\katlas\\katlas\\core.py\n",
      "\u001b[1;31mType:\u001b[0m      function"
     ]
    }
   ],
   "source": [
    "entropy??"
   ]
  },
  {
   "cell_type": "code",
   "execution_count": null,
   "id": "7e485dcf-ee31-4c72-bd58-2ecc3275f43c",
   "metadata": {},
   "outputs": [
    {
     "name": "stdout",
     "output_type": "stream",
     "text": [
      "\u001b[1;31mSignature:\u001b[0m\n",
      "\u001b[0mentropy_flat\u001b[0m\u001b[1;33m(\u001b[0m\u001b[1;33m\n",
      "\u001b[0m    \u001b[0mflat_pssm\u001b[0m\u001b[1;33m:\u001b[0m \u001b[0mpandas\u001b[0m\u001b[1;33m.\u001b[0m\u001b[0mcore\u001b[0m\u001b[1;33m.\u001b[0m\u001b[0mseries\u001b[0m\u001b[1;33m.\u001b[0m\u001b[0mSeries\u001b[0m\u001b[1;33m,\u001b[0m\u001b[1;33m\n",
      "\u001b[0m    \u001b[0mreturn_min\u001b[0m\u001b[1;33m=\u001b[0m\u001b[1;32mFalse\u001b[0m\u001b[1;33m,\u001b[0m\u001b[1;33m\n",
      "\u001b[0m    \u001b[0mexclude_zero\u001b[0m\u001b[1;33m=\u001b[0m\u001b[1;32mFalse\u001b[0m\u001b[1;33m,\u001b[0m\u001b[1;33m\n",
      "\u001b[0m    \u001b[0mcontain_sty\u001b[0m\u001b[1;33m=\u001b[0m\u001b[1;32mTrue\u001b[0m\u001b[1;33m,\u001b[0m\u001b[1;33m\n",
      "\u001b[0m\u001b[1;33m)\u001b[0m\u001b[1;33m\u001b[0m\u001b[1;33m\u001b[0m\u001b[0m\n",
      "\u001b[1;31mSource:\u001b[0m   \n",
      "\u001b[1;32mdef\u001b[0m \u001b[0mentropy_flat\u001b[0m\u001b[1;33m(\u001b[0m\u001b[0mflat_pssm\u001b[0m\u001b[1;33m:\u001b[0m\u001b[0mpd\u001b[0m\u001b[1;33m.\u001b[0m\u001b[0mSeries\u001b[0m\u001b[1;33m,\u001b[0m\u001b[0mreturn_min\u001b[0m\u001b[1;33m=\u001b[0m\u001b[1;32mFalse\u001b[0m\u001b[1;33m,\u001b[0m\u001b[0mexclude_zero\u001b[0m\u001b[1;33m=\u001b[0m\u001b[1;32mFalse\u001b[0m\u001b[1;33m,\u001b[0m\u001b[0mcontain_sty\u001b[0m\u001b[1;33m=\u001b[0m\u001b[1;32mTrue\u001b[0m\u001b[1;33m)\u001b[0m\u001b[1;33m:\u001b[0m \u001b[1;33m\n",
      "\u001b[0m    \u001b[1;34m\"Calculate entropy per position of a flat PSSM surrounding 0\"\u001b[0m\u001b[1;33m\n",
      "\u001b[0m    \u001b[0mpssm_df\u001b[0m \u001b[1;33m=\u001b[0m \u001b[0mrecover_pssm\u001b[0m\u001b[1;33m(\u001b[0m\u001b[0mflat_pssm\u001b[0m\u001b[1;33m)\u001b[0m\u001b[1;33m\n",
      "\u001b[0m    \u001b[1;32mreturn\u001b[0m \u001b[0mentropy\u001b[0m\u001b[1;33m(\u001b[0m\u001b[0mpssm_df\u001b[0m\u001b[1;33m,\u001b[0m\u001b[0mreturn_min\u001b[0m\u001b[1;33m=\u001b[0m\u001b[0mreturn_min\u001b[0m\u001b[1;33m,\u001b[0m\u001b[0mexclude_zero\u001b[0m\u001b[1;33m=\u001b[0m\u001b[0mexclude_zero\u001b[0m\u001b[1;33m,\u001b[0m\u001b[0mcontain_sty\u001b[0m\u001b[1;33m=\u001b[0m\u001b[0mcontain_sty\u001b[0m\u001b[1;33m)\u001b[0m\u001b[1;33m\u001b[0m\u001b[1;33m\u001b[0m\u001b[0m\n",
      "\u001b[1;31mFile:\u001b[0m      f:\\git\\katlas\\katlas\\core.py\n",
      "\u001b[1;31mType:\u001b[0m      function"
     ]
    }
   ],
   "source": [
    "entropy_flat??"
   ]
  },
  {
   "cell_type": "code",
   "execution_count": null,
   "id": "98b7abf3-66bd-4132-9283-61e32792c694",
   "metadata": {},
   "outputs": [],
   "source": [
    "entropies = []\n",
    "ICs = []\n",
    "for i,r in pspa.iterrows():\n",
    "    entropies.append(entropy_flat(r,return_min=False).to_dict())\n",
    "    ICs.append(get_IC_flat(r).to_dict())"
   ]
  },
  {
   "cell_type": "code",
   "execution_count": null,
   "id": "62636253-f5e0-453b-899f-7dbc1c5df946",
   "metadata": {},
   "outputs": [],
   "source": [
    "entropy_df = pd.DataFrame(entropies,index=pspa.index)\n",
    "IC_df = pd.DataFrame(ICs,index=pspa.index)"
   ]
  },
  {
   "cell_type": "code",
   "execution_count": null,
   "id": "efb00698-bfa7-456e-893c-a67272470ddf",
   "metadata": {},
   "outputs": [
    {
     "data": {
      "text/html": [
       "<div>\n",
       "<style scoped>\n",
       "    .dataframe tbody tr th:only-of-type {\n",
       "        vertical-align: middle;\n",
       "    }\n",
       "\n",
       "    .dataframe tbody tr th {\n",
       "        vertical-align: top;\n",
       "    }\n",
       "\n",
       "    .dataframe thead th {\n",
       "        text-align: right;\n",
       "    }\n",
       "</style>\n",
       "<table border=\"1\" class=\"dataframe\">\n",
       "  <thead>\n",
       "    <tr style=\"text-align: right;\">\n",
       "      <th></th>\n",
       "      <th>-5</th>\n",
       "      <th>-4</th>\n",
       "      <th>-3</th>\n",
       "      <th>-2</th>\n",
       "      <th>-1</th>\n",
       "      <th>0</th>\n",
       "      <th>1</th>\n",
       "      <th>2</th>\n",
       "      <th>3</th>\n",
       "      <th>4</th>\n",
       "    </tr>\n",
       "    <tr>\n",
       "      <th>kinase</th>\n",
       "      <th></th>\n",
       "      <th></th>\n",
       "      <th></th>\n",
       "      <th></th>\n",
       "      <th></th>\n",
       "      <th></th>\n",
       "      <th></th>\n",
       "      <th></th>\n",
       "      <th></th>\n",
       "      <th></th>\n",
       "    </tr>\n",
       "  </thead>\n",
       "  <tbody>\n",
       "    <tr>\n",
       "      <th>AAK1</th>\n",
       "      <td>4.238872</td>\n",
       "      <td>4.477492</td>\n",
       "      <td>4.419067</td>\n",
       "      <td>4.334337</td>\n",
       "      <td>4.285531</td>\n",
       "      <td>4.430518e-01</td>\n",
       "      <td>2.367128</td>\n",
       "      <td>4.484580</td>\n",
       "      <td>4.459749</td>\n",
       "      <td>4.448665</td>\n",
       "    </tr>\n",
       "    <tr>\n",
       "      <th>ACVR2A</th>\n",
       "      <td>4.492276</td>\n",
       "      <td>4.483099</td>\n",
       "      <td>4.422408</td>\n",
       "      <td>3.851257</td>\n",
       "      <td>4.450203</td>\n",
       "      <td>9.999489e-01</td>\n",
       "      <td>4.101970</td>\n",
       "      <td>4.509378</td>\n",
       "      <td>4.502156</td>\n",
       "      <td>4.509964</td>\n",
       "    </tr>\n",
       "    <tr>\n",
       "      <th>ACVR2B</th>\n",
       "      <td>4.480671</td>\n",
       "      <td>4.478871</td>\n",
       "      <td>4.409857</td>\n",
       "      <td>3.939154</td>\n",
       "      <td>4.426689</td>\n",
       "      <td>9.996887e-01</td>\n",
       "      <td>4.074009</td>\n",
       "      <td>4.491815</td>\n",
       "      <td>4.508044</td>\n",
       "      <td>4.505800</td>\n",
       "    </tr>\n",
       "    <tr>\n",
       "      <th>AKT1</th>\n",
       "      <td>4.427160</td>\n",
       "      <td>4.402988</td>\n",
       "      <td>3.143867</td>\n",
       "      <td>3.590452</td>\n",
       "      <td>4.374148</td>\n",
       "      <td>9.659053e-01</td>\n",
       "      <td>4.334536</td>\n",
       "      <td>4.429082</td>\n",
       "      <td>4.442455</td>\n",
       "      <td>4.412808</td>\n",
       "    </tr>\n",
       "    <tr>\n",
       "      <th>AKT2</th>\n",
       "      <td>4.427318</td>\n",
       "      <td>4.415247</td>\n",
       "      <td>2.970578</td>\n",
       "      <td>3.821267</td>\n",
       "      <td>4.416441</td>\n",
       "      <td>9.566125e-01</td>\n",
       "      <td>4.467609</td>\n",
       "      <td>4.463490</td>\n",
       "      <td>4.452789</td>\n",
       "      <td>4.435681</td>\n",
       "    </tr>\n",
       "    <tr>\n",
       "      <th>...</th>\n",
       "      <td>...</td>\n",
       "      <td>...</td>\n",
       "      <td>...</td>\n",
       "      <td>...</td>\n",
       "      <td>...</td>\n",
       "      <td>...</td>\n",
       "      <td>...</td>\n",
       "      <td>...</td>\n",
       "      <td>...</td>\n",
       "      <td>...</td>\n",
       "    </tr>\n",
       "    <tr>\n",
       "      <th>KDR</th>\n",
       "      <td>4.491261</td>\n",
       "      <td>4.472633</td>\n",
       "      <td>4.457427</td>\n",
       "      <td>4.448105</td>\n",
       "      <td>4.381677</td>\n",
       "      <td>-1.442695e-09</td>\n",
       "      <td>4.390681</td>\n",
       "      <td>4.443358</td>\n",
       "      <td>4.152800</td>\n",
       "      <td>4.462793</td>\n",
       "    </tr>\n",
       "    <tr>\n",
       "      <th>FLT4</th>\n",
       "      <td>4.511274</td>\n",
       "      <td>4.501896</td>\n",
       "      <td>4.500559</td>\n",
       "      <td>4.504176</td>\n",
       "      <td>4.297943</td>\n",
       "      <td>-1.442695e-09</td>\n",
       "      <td>4.290937</td>\n",
       "      <td>4.344806</td>\n",
       "      <td>4.154417</td>\n",
       "      <td>4.498858</td>\n",
       "    </tr>\n",
       "    <tr>\n",
       "      <th>WEE1_TYR</th>\n",
       "      <td>4.507984</td>\n",
       "      <td>4.495537</td>\n",
       "      <td>4.489914</td>\n",
       "      <td>4.470009</td>\n",
       "      <td>4.089527</td>\n",
       "      <td>-1.442695e-09</td>\n",
       "      <td>4.284853</td>\n",
       "      <td>4.403815</td>\n",
       "      <td>4.301392</td>\n",
       "      <td>4.426540</td>\n",
       "    </tr>\n",
       "    <tr>\n",
       "      <th>YES1</th>\n",
       "      <td>4.497127</td>\n",
       "      <td>4.491665</td>\n",
       "      <td>4.442265</td>\n",
       "      <td>4.465032</td>\n",
       "      <td>4.274232</td>\n",
       "      <td>-1.442695e-09</td>\n",
       "      <td>4.350331</td>\n",
       "      <td>4.485518</td>\n",
       "      <td>4.275385</td>\n",
       "      <td>4.492019</td>\n",
       "    </tr>\n",
       "    <tr>\n",
       "      <th>ZAP70</th>\n",
       "      <td>4.355980</td>\n",
       "      <td>4.260120</td>\n",
       "      <td>4.111361</td>\n",
       "      <td>4.128756</td>\n",
       "      <td>3.473012</td>\n",
       "      <td>-1.442695e-09</td>\n",
       "      <td>3.634941</td>\n",
       "      <td>4.358286</td>\n",
       "      <td>4.286572</td>\n",
       "      <td>4.474739</td>\n",
       "    </tr>\n",
       "  </tbody>\n",
       "</table>\n",
       "<p>396 rows × 10 columns</p>\n",
       "</div>"
      ],
      "text/plain": [
       "                -5        -4        -3        -2        -1             0  \\\n",
       "kinase                                                                     \n",
       "AAK1      4.238872  4.477492  4.419067  4.334337  4.285531  4.430518e-01   \n",
       "ACVR2A    4.492276  4.483099  4.422408  3.851257  4.450203  9.999489e-01   \n",
       "ACVR2B    4.480671  4.478871  4.409857  3.939154  4.426689  9.996887e-01   \n",
       "AKT1      4.427160  4.402988  3.143867  3.590452  4.374148  9.659053e-01   \n",
       "AKT2      4.427318  4.415247  2.970578  3.821267  4.416441  9.566125e-01   \n",
       "...            ...       ...       ...       ...       ...           ...   \n",
       "KDR       4.491261  4.472633  4.457427  4.448105  4.381677 -1.442695e-09   \n",
       "FLT4      4.511274  4.501896  4.500559  4.504176  4.297943 -1.442695e-09   \n",
       "WEE1_TYR  4.507984  4.495537  4.489914  4.470009  4.089527 -1.442695e-09   \n",
       "YES1      4.497127  4.491665  4.442265  4.465032  4.274232 -1.442695e-09   \n",
       "ZAP70     4.355980  4.260120  4.111361  4.128756  3.473012 -1.442695e-09   \n",
       "\n",
       "                 1         2         3         4  \n",
       "kinase                                            \n",
       "AAK1      2.367128  4.484580  4.459749  4.448665  \n",
       "ACVR2A    4.101970  4.509378  4.502156  4.509964  \n",
       "ACVR2B    4.074009  4.491815  4.508044  4.505800  \n",
       "AKT1      4.334536  4.429082  4.442455  4.412808  \n",
       "AKT2      4.467609  4.463490  4.452789  4.435681  \n",
       "...            ...       ...       ...       ...  \n",
       "KDR       4.390681  4.443358  4.152800  4.462793  \n",
       "FLT4      4.290937  4.344806  4.154417  4.498858  \n",
       "WEE1_TYR  4.284853  4.403815  4.301392  4.426540  \n",
       "YES1      4.350331  4.485518  4.275385  4.492019  \n",
       "ZAP70     3.634941  4.358286  4.286572  4.474739  \n",
       "\n",
       "[396 rows x 10 columns]"
      ]
     },
     "execution_count": null,
     "metadata": {},
     "output_type": "execute_result"
    }
   ],
   "source": [
    "entropy_df"
   ]
  },
  {
   "cell_type": "code",
   "execution_count": null,
   "id": "4339f7df-e655-4e64-9af4-6671bc82bd4f",
   "metadata": {},
   "outputs": [],
   "source": [
    "# columns surrounding 0\n",
    "cols = pspa.columns[~pspa.columns.str.startswith('0')]"
   ]
  },
  {
   "cell_type": "code",
   "execution_count": null,
   "id": "4028a84c-10b7-4183-91fd-688fc3d56aaf",
   "metadata": {},
   "outputs": [
    {
     "data": {
      "text/plain": [
       "kinase\n",
       "VRK2         0.0941\n",
       "ROS1         0.0983\n",
       "TYK2         0.0995\n",
       "LIMK1_TYR    0.1027\n",
       "RET          0.1027\n",
       "              ...  \n",
       "YANK2        3.7589\n",
       "GSK3B        3.9147\n",
       "YANK3        4.2045\n",
       "CK1A         5.8890\n",
       "CK1G3        8.4920\n",
       "Length: 396, dtype: float64"
      ]
     },
     "metadata": {},
     "output_type": "display_data"
    }
   ],
   "source": [
    "pspa[cols].max(1).sort_values()"
   ]
  },
  {
   "cell_type": "code",
   "execution_count": null,
   "id": "94312dbe-6d1f-4225-9136-ffa45b2a032e",
   "metadata": {},
   "outputs": [],
   "source": [
    "def plot_dots(df,ylabel='bits',figsize=(5,3)):\n",
    "    df.columns = df.columns.astype(str)\n",
    "    plt.figure(figsize=figsize)\n",
    "    for i, col in enumerate(df.columns):\n",
    "        x_jitter = np.random.normal(loc=i, scale=0.1, size=len(df))\n",
    "        plt.scatter(x_jitter, df[col], alpha=0.7, s=5,edgecolors='none')\n",
    "\n",
    "    plt.xticks(range(len(df.columns)), df.columns)\n",
    "    plt.xlabel(\"Position\")\n",
    "    plt.ylabel(ylabel)"
   ]
  },
  {
   "cell_type": "code",
   "execution_count": null,
   "id": "f417789a-7286-4a14-885c-76570232a7bd",
   "metadata": {},
   "outputs": [],
   "source": [
    "def plot_violin(df, ylabel='bits', figsize=(5, 3)):\n",
    "    df_melted = df.melt(var_name='Position', value_name='Value')\n",
    "    plt.figure(figsize=figsize)\n",
    "\n",
    "    sns.violinplot(x='Position', y='Value', data=df_melted, inner=None, density_norm='width')\n",
    "    sns.stripplot(x='Position', y='Value', data=df_melted, color='k', size=2, jitter=True, alpha=0.5)\n",
    "\n",
    "    plt.xlabel('Position')\n",
    "    plt.ylabel(ylabel)\n",
    "    plt.tight_layout()"
   ]
  },
  {
   "cell_type": "code",
   "execution_count": null,
   "id": "47e750fc-c1a5-4b22-8e81-050c7346bd97",
   "metadata": {},
   "outputs": [],
   "source": [
    "plot_violin(entropy_df,ylabel='Entropy (bits)')\n",
    "plt.title('Entropy per Position');\n",
    "\n",
    "plot_violin(IC_df,ylabel='Information content (bits)')\n",
    "plt.title('Information Content per Position');"
   ]
  },
  {
   "cell_type": "code",
   "execution_count": null,
   "id": "2da89b5d-e939-450d-9e25-d5e31606554a",
   "metadata": {},
   "outputs": [],
   "source": [
    "plot_dots(IC_df,ylabel='Information Content (bits)')\n",
    "plt.title('Information Content per Position');\n",
    "\n",
    "plot_dots(entropy_df,ylabel='Entropy (bits)')\n",
    "plt.title('Entropy per Position');"
   ]
  },
  {
   "cell_type": "code",
   "execution_count": null,
   "id": "e15b2d4a-4233-43c2-af4b-de3ea270cd35",
   "metadata": {},
   "outputs": [
    {
     "data": {
      "text/plain": [
       "Index(['-5', '-4', '-3', '-2', '-1', '0', '1', '2', '3', '4'], dtype='object')"
      ]
     },
     "metadata": {},
     "output_type": "display_data"
    }
   ],
   "source": [
    "entropy_df.columns"
   ]
  },
  {
   "cell_type": "code",
   "execution_count": null,
   "id": "8c4683f7-525a-42f9-bb0e-3a63e5803f0b",
   "metadata": {},
   "outputs": [],
   "source": [
    "entropy_df2 = entropy_df.drop(columns=['0']).copy()"
   ]
  },
  {
   "cell_type": "code",
   "execution_count": null,
   "id": "d6975c5f-8e4c-4d5c-9638-c5c00473f420",
   "metadata": {},
   "outputs": [
    {
     "data": {
      "text/plain": [
       "kinase\n",
       "CK1G3     1.674890\n",
       "CK1A      1.825040\n",
       "YANK3     1.943948\n",
       "YANK2     2.017911\n",
       "P38G      2.053687\n",
       "P38D      2.060065\n",
       "GSK3B     2.067587\n",
       "GSK3A     2.108316\n",
       "CDK17     2.123790\n",
       "CK1G2     2.148218\n",
       "CDK3      2.198466\n",
       "SBK       2.216507\n",
       "CK1A2     2.221651\n",
       "ERK7      2.223145\n",
       "CK1D      2.236495\n",
       "CDK16     2.255882\n",
       "AAK1      2.367128\n",
       "FAM20C    2.400912\n",
       "CDK18     2.435806\n",
       "CDK4      2.452885\n",
       "dtype: float64"
      ]
     },
     "metadata": {},
     "output_type": "display_data"
    }
   ],
   "source": [
    "entropy_df2.min(1).sort_values().head(20)"
   ]
  }
 ],
 "metadata": {
  "kernelspec": {
   "display_name": "python3",
   "language": "python",
   "name": "python3"
  }
 },
 "nbformat": 4,
 "nbformat_minor": 5
}
