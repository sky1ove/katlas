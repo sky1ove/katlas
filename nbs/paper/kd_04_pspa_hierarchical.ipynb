{
 "cells": [
  {
   "cell_type": "raw",
   "id": "f0153f95-106e-4104-ae2c-859e9dd511aa",
   "metadata": {},
   "source": [
    "---\n",
    "skip_showdoc: true\n",
    "skip_exec: true\n",
    "---"
   ]
  },
  {
   "cell_type": "markdown",
   "id": "3682c43e-fb60-404d-b263-af1f7ba9dc27",
   "metadata": {},
   "source": [
    "# Hierarchical clustering"
   ]
  },
  {
   "cell_type": "code",
   "execution_count": null,
   "id": "408a0fc4-360f-4984-ab8b-841252f1a3bc",
   "metadata": {},
   "outputs": [],
   "source": [
    "import pandas as pd\n",
    "from Bio.Seq import Seq\n",
    "from Bio.SeqRecord import SeqRecord\n",
    "from Bio import SeqIO, AlignIO"
   ]
  },
  {
   "cell_type": "code",
   "execution_count": null,
   "id": "ea1145ad-291e-4e20-8a44-fcd92a87f069",
   "metadata": {},
   "outputs": [],
   "source": [
    "df = pd.read_excel('out/uniprot_kd_active_D1_D2.xlsx')"
   ]
  },
  {
   "cell_type": "code",
   "execution_count": null,
   "id": "de9daa0b-cd0a-4097-9d0c-4dcdc4556037",
   "metadata": {},
   "outputs": [],
   "source": [
    "pspa=pd.read_csv('out/pspa_uniprot_unique_no_TYR_category_remove2kd.csv')"
   ]
  },
  {
   "cell_type": "markdown",
   "id": "721eee06-80f2-4e89-9da1-2ee81e4124cf",
   "metadata": {},
   "source": [
    "## Clustal Omega"
   ]
  },
  {
   "cell_type": "code",
   "execution_count": null,
   "id": "84105a42-0e69-4b93-bd47-d97c07c33562",
   "metadata": {},
   "outputs": [],
   "source": [
    "# df2 = df.head(4000).copy()"
   ]
  },
  {
   "cell_type": "markdown",
   "id": "b0dacfe9-6ef1-492f-ba2b-2e869a96a059",
   "metadata": {},
   "source": [
    "https://www.ebi.ac.uk/jdispatcher/msa/clustalo"
   ]
  },
  {
   "cell_type": "code",
   "execution_count": null,
   "id": "027bf6ff-c58d-4655-8cd1-123553228406",
   "metadata": {},
   "outputs": [],
   "source": [
    "# def get_fasta(df,seq_col='kd_seq',id_col='kd_ID',path='out.fasta'):\n",
    "#     \"Generate fasta file from sequences.\"\n",
    "#     records = [\n",
    "#         SeqRecord(Seq(row[seq_col]), id=row[id_col], description=\"\")\n",
    "#         for _, row in df.iterrows()\n",
    "#     ]\n",
    "#     SeqIO.write(records, path, \"fasta\")\n",
    "#     print(len(records))"
   ]
  },
  {
   "cell_type": "code",
   "execution_count": null,
   "id": "ade6d11d-8147-4a32-af5c-e87c3e0bf2ae",
   "metadata": {},
   "outputs": [],
   "source": [
    "# get_fasta(df2,path='raw/active_kinase_domains_4k.fasta')"
   ]
  },
  {
   "cell_type": "markdown",
   "id": "9cd4badb-03c1-4272-b07d-07c3c9a3da8f",
   "metadata": {},
   "source": [
    "## ProT5"
   ]
  },
  {
   "cell_type": "code",
   "execution_count": null,
   "id": "5886b4e6-e7c0-42bd-9bae-903e22b40be7",
   "metadata": {},
   "outputs": [],
   "source": [
    "t5=pd.read_parquet('out/uniprot_kd_t5.parquet')"
   ]
  },
  {
   "cell_type": "code",
   "execution_count": null,
   "id": "400b102a-192a-44dc-8615-bf785b0a0a01",
   "metadata": {},
   "outputs": [],
   "source": [
    "from scipy.cluster.hierarchy import linkage, fcluster,dendrogram\n",
    "import matplotlib.pyplot as plt"
   ]
  },
  {
   "cell_type": "code",
   "execution_count": null,
   "id": "68496689-3810-4a3d-93a8-135d13960ea2",
   "metadata": {},
   "outputs": [],
   "source": [
    "Z = linkage(t5, method='ward')"
   ]
  },
  {
   "cell_type": "code",
   "execution_count": null,
   "id": "f2725896-c881-4929-8874-38ba7a01fd62",
   "metadata": {},
   "outputs": [],
   "source": [
    "def plot_dendrogram3(Z, output='dendrogram.pdf', color_thr=0.01, **kwargs):\n",
    "    with plt.rc_context({'lines.linewidth': 0.3}):  # set default line width\n",
    "        plt.figure(figsize=(5, 100))\n",
    "        dendrogram(\n",
    "            Z,\n",
    "            orientation='left',\n",
    "            color_threshold=color_thr,\n",
    "            truncate_mode='level',\n",
    "            p=20,\n",
    "            leaf_font_size=1,\n",
    "            show_contracted=True,\n",
    "            **kwargs\n",
    "        )\n",
    "        plt.title('Hierarchical Clustering Dendrogram')\n",
    "        plt.ylabel('Distance')\n",
    "        plt.savefig(output, bbox_inches='tight')\n",
    "        plt.close()"
   ]
  },
  {
   "cell_type": "code",
   "execution_count": null,
   "id": "81f6887a-fb32-4538-a90e-d29153607b97",
   "metadata": {},
   "outputs": [],
   "source": [
    "pspa_df = pspa.set_index('kd_ID').iloc[:,5:]"
   ]
  },
  {
   "cell_type": "code",
   "execution_count": null,
   "id": "c73a95f0-0439-4c4e-894f-7c4126c66276",
   "metadata": {},
   "outputs": [],
   "source": [
    "def get_dendrogram_labels(order_index, # iterable list of the dendrogram indexes\n",
    "                          pssms, # df of flattened pssms with index as kd name\n",
    "                          color_thr=0.15\n",
    "                         ):\n",
    "    \n",
    "    labels = []\n",
    "    for idx in order_index:\n",
    "        if idx in pssms.index:\n",
    "            flat_pssm =pssms.loc[idx]\n",
    "            pssm_df = recover_pssm(flat_pssm)\n",
    "            norm_pssm_df = clean_zero_normalize(pssm_df)\n",
    "            seq = pssm_to_seq(norm_pssm_df, color_thr)\n",
    "            labels.append(idx + ': ' + seq)\n",
    "        else:\n",
    "            labels.append(idx)\n",
    "\n",
    "    return labels"
   ]
  },
  {
   "cell_type": "code",
   "execution_count": null,
   "id": "31649fa6-171a-4f07-a211-af4ea1e157a3",
   "metadata": {},
   "outputs": [],
   "source": [
    "labels=get_dendrogram_labels(t5.index,pspa_df,0.15)"
   ]
  },
  {
   "cell_type": "code",
   "execution_count": null,
   "id": "872b5781-537d-4f8e-bf99-74b3bfbef3db",
   "metadata": {},
   "outputs": [
    {
     "data": {
      "text/html": [
       "<div>\n",
       "<style scoped>\n",
       "    .dataframe tbody tr th:only-of-type {\n",
       "        vertical-align: middle;\n",
       "    }\n",
       "\n",
       "    .dataframe tbody tr th {\n",
       "        vertical-align: top;\n",
       "    }\n",
       "\n",
       "    .dataframe thead th {\n",
       "        text-align: right;\n",
       "    }\n",
       "</style>\n",
       "<table border=\"1\" class=\"dataframe\">\n",
       "  <thead>\n",
       "    <tr style=\"text-align: right;\">\n",
       "      <th></th>\n",
       "      <th>-5P</th>\n",
       "      <th>-5G</th>\n",
       "      <th>-5A</th>\n",
       "      <th>-5C</th>\n",
       "      <th>-5S</th>\n",
       "      <th>-5T</th>\n",
       "      <th>-5V</th>\n",
       "      <th>-5I</th>\n",
       "      <th>-5L</th>\n",
       "      <th>-5M</th>\n",
       "      <th>...</th>\n",
       "      <th>4E</th>\n",
       "      <th>4s</th>\n",
       "      <th>4t</th>\n",
       "      <th>4y</th>\n",
       "      <th>0s</th>\n",
       "      <th>0t</th>\n",
       "      <th>0y</th>\n",
       "      <th>0S</th>\n",
       "      <th>0T</th>\n",
       "      <th>0Y</th>\n",
       "    </tr>\n",
       "    <tr>\n",
       "      <th>kd_ID</th>\n",
       "      <th></th>\n",
       "      <th></th>\n",
       "      <th></th>\n",
       "      <th></th>\n",
       "      <th></th>\n",
       "      <th></th>\n",
       "      <th></th>\n",
       "      <th></th>\n",
       "      <th></th>\n",
       "      <th></th>\n",
       "      <th></th>\n",
       "      <th></th>\n",
       "      <th></th>\n",
       "      <th></th>\n",
       "      <th></th>\n",
       "      <th></th>\n",
       "      <th></th>\n",
       "      <th></th>\n",
       "      <th></th>\n",
       "      <th></th>\n",
       "      <th></th>\n",
       "    </tr>\n",
       "  </thead>\n",
       "  <tbody>\n",
       "    <tr>\n",
       "      <th>P48729_KC1A_HUMAN_KD1</th>\n",
       "      <td>0.0843</td>\n",
       "      <td>0.0590</td>\n",
       "      <td>0.0664</td>\n",
       "      <td>0.0588</td>\n",
       "      <td>0.0590</td>\n",
       "      <td>0.0590</td>\n",
       "      <td>0.0459</td>\n",
       "      <td>0.0488</td>\n",
       "      <td>0.057</td>\n",
       "      <td>0.0530</td>\n",
       "      <td>...</td>\n",
       "      <td>0.0564</td>\n",
       "      <td>0.1808</td>\n",
       "      <td>0.1808</td>\n",
       "      <td>0.1458</td>\n",
       "      <td>1.0</td>\n",
       "      <td>0.1435</td>\n",
       "      <td>0.0</td>\n",
       "      <td>1.0</td>\n",
       "      <td>0.1435</td>\n",
       "      <td>0.0</td>\n",
       "    </tr>\n",
       "    <tr>\n",
       "      <th>Q8N752_KC1AL_HUMAN_KD1</th>\n",
       "      <td>0.0514</td>\n",
       "      <td>0.0528</td>\n",
       "      <td>0.0542</td>\n",
       "      <td>0.0535</td>\n",
       "      <td>0.0546</td>\n",
       "      <td>0.0546</td>\n",
       "      <td>0.0544</td>\n",
       "      <td>0.0645</td>\n",
       "      <td>0.064</td>\n",
       "      <td>0.0639</td>\n",
       "      <td>...</td>\n",
       "      <td>0.0512</td>\n",
       "      <td>0.0966</td>\n",
       "      <td>0.0966</td>\n",
       "      <td>0.1209</td>\n",
       "      <td>1.0</td>\n",
       "      <td>0.4354</td>\n",
       "      <td>0.0</td>\n",
       "      <td>1.0</td>\n",
       "      <td>0.4354</td>\n",
       "      <td>0.0</td>\n",
       "    </tr>\n",
       "  </tbody>\n",
       "</table>\n",
       "<p>2 rows × 213 columns</p>\n",
       "</div>"
      ],
      "text/plain": [
       "                           -5P     -5G     -5A     -5C     -5S     -5T  \\\n",
       "kd_ID                                                                    \n",
       "P48729_KC1A_HUMAN_KD1   0.0843  0.0590  0.0664  0.0588  0.0590  0.0590   \n",
       "Q8N752_KC1AL_HUMAN_KD1  0.0514  0.0528  0.0542  0.0535  0.0546  0.0546   \n",
       "\n",
       "                           -5V     -5I    -5L     -5M  ...      4E      4s  \\\n",
       "kd_ID                                                  ...                   \n",
       "P48729_KC1A_HUMAN_KD1   0.0459  0.0488  0.057  0.0530  ...  0.0564  0.1808   \n",
       "Q8N752_KC1AL_HUMAN_KD1  0.0544  0.0645  0.064  0.0639  ...  0.0512  0.0966   \n",
       "\n",
       "                            4t      4y   0s      0t   0y   0S      0T   0Y  \n",
       "kd_ID                                                                       \n",
       "P48729_KC1A_HUMAN_KD1   0.1808  0.1458  1.0  0.1435  0.0  1.0  0.1435  0.0  \n",
       "Q8N752_KC1AL_HUMAN_KD1  0.0966  0.1209  1.0  0.4354  0.0  1.0  0.4354  0.0  \n",
       "\n",
       "[2 rows x 213 columns]"
      ]
     },
     "execution_count": null,
     "metadata": {},
     "output_type": "execute_result"
    }
   ],
   "source": [
    "pspa_df[pspa_df.index.str.contains('KC1A')]"
   ]
  },
  {
   "cell_type": "code",
   "execution_count": null,
   "id": "ae4da6f7-7968-40f3-938c-f28166f9657f",
   "metadata": {},
   "outputs": [],
   "source": [
    "# labels = [i+': '+pssm_to_seq(recover_pssm(r),0.2) for i,r in pssms.iterrows()]"
   ]
  },
  {
   "cell_type": "code",
   "execution_count": null,
   "id": "afee587e-3e61-497a-9634-5ae701732fe1",
   "metadata": {},
   "outputs": [],
   "source": [
    "plot_dendrogram3(Z,labels =labels )"
   ]
  },
  {
   "cell_type": "code",
   "execution_count": null,
   "id": "f82ea248-2221-43d3-a376-c32fe5126ab0",
   "metadata": {},
   "outputs": [],
   "source": [
    "pspa_df2 = pspa_df.reset_index()"
   ]
  },
  {
   "cell_type": "code",
   "execution_count": null,
   "id": "d72e9441-a3d8-453f-b0c1-b5673dd54403",
   "metadata": {},
   "outputs": [
    {
     "data": {
      "text/plain": [
       "(362, 214)"
      ]
     },
     "execution_count": null,
     "metadata": {},
     "output_type": "execute_result"
    }
   ],
   "source": [
    "pspa_df2.shape"
   ]
  },
  {
   "cell_type": "code",
   "execution_count": null,
   "id": "2ec2e1b6-af80-48ef-b81d-cedc0b51b08f",
   "metadata": {},
   "outputs": [
    {
     "data": {
      "text/plain": [
       "Index(['-5P', '-5G', '-5A', '-5C', '-5S', '-5T', '-5V', '-5I', '-5L', '-5M',\n",
       "       ...\n",
       "       '4E', '4s', '4t', '4y', '0s', '0t', '0y', '0S', '0T', '0Y'],\n",
       "      dtype='object', length=213)"
      ]
     },
     "execution_count": null,
     "metadata": {},
     "output_type": "execute_result"
    }
   ],
   "source": [
    "pspa_df.columns"
   ]
  },
  {
   "cell_type": "code",
   "execution_count": null,
   "id": "c0b54a41-1714-4550-8faf-28a13ed9ec9c",
   "metadata": {},
   "outputs": [],
   "source": [
    "columns_to_fill = pspa_df.columns"
   ]
  },
  {
   "cell_type": "code",
   "execution_count": null,
   "id": "18b3c02d-b0bb-41b9-a15e-632285e4fe6d",
   "metadata": {},
   "outputs": [],
   "source": [
    "df = df.merge(pspa_df2,'left')"
   ]
  },
  {
   "cell_type": "code",
   "execution_count": null,
   "id": "729bc852-aba1-442f-833a-e9db65c202f0",
   "metadata": {},
   "outputs": [],
   "source": [
    "for col in columns_to_fill:\n",
    "    df[col] = df.groupby('kd_seq')[col].transform(lambda x: x.ffill().bfill())"
   ]
  },
  {
   "cell_type": "code",
   "execution_count": null,
   "id": "0c38d64e-26d1-4340-8409-ea4acd4b0ea4",
   "metadata": {},
   "outputs": [
    {
     "data": {
      "text/plain": [
       "362"
      ]
     },
     "execution_count": null,
     "metadata": {},
     "output_type": "execute_result"
    }
   ],
   "source": [
    "len(pspa_df2)"
   ]
  },
  {
   "cell_type": "code",
   "execution_count": null,
   "id": "b1bfe180-5366-488b-873b-fa73c8b2073b",
   "metadata": {},
   "outputs": [],
   "source": [
    "df2 = df.dropna(subset='4E')"
   ]
  },
  {
   "cell_type": "code",
   "execution_count": null,
   "id": "f965126b-1db0-49e8-972a-1f4b11782b4c",
   "metadata": {},
   "outputs": [],
   "source": [
    "df2 = df2.set_index('kd_ID')[columns_to_fill]"
   ]
  },
  {
   "cell_type": "code",
   "execution_count": null,
   "id": "92303c80-fba1-4f42-ac28-42c6a1d1bad7",
   "metadata": {},
   "outputs": [],
   "source": [
    "labels=get_dendrogram_labels(t5.index,df2,0.15)"
   ]
  },
  {
   "cell_type": "code",
   "execution_count": null,
   "id": "efe4d21b-ec7b-4b0a-a7ba-543057a8c26d",
   "metadata": {},
   "outputs": [],
   "source": [
    "plot_dendrogram3(Z,output='dendrogram_similarity_1.pdf',labels =labels )"
   ]
  },
  {
   "cell_type": "code",
   "execution_count": null,
   "id": "1c0ca567-3608-4d57-84f1-96c1370be458",
   "metadata": {},
   "outputs": [],
   "source": []
  },
  {
   "cell_type": "code",
   "execution_count": null,
   "id": "dacce5ec-e9e6-4a91-8511-e2a38a726edd",
   "metadata": {},
   "outputs": [],
   "source": []
  },
  {
   "cell_type": "code",
   "execution_count": null,
   "id": "5a1e4dd5-0479-4b73-b7d9-ead2a78e2abf",
   "metadata": {},
   "outputs": [],
   "source": []
  },
  {
   "cell_type": "code",
   "execution_count": null,
   "id": "ec62c4fa-1a1e-47f2-8e04-adef3fcc4883",
   "metadata": {},
   "outputs": [],
   "source": [
    "def get_dup(df):\n",
    "    dup = df[df.kd_seq.duplicated(keep=False)].sort_values('kd_seq')\n",
    "    return dup.groupby('kd_seq').agg({'kd_ID':lambda x: ','.join(x)}).reset_index()"
   ]
  },
  {
   "cell_type": "code",
   "execution_count": null,
   "id": "b8b48143-14bf-45f1-a863-688f81dc7aba",
   "metadata": {},
   "outputs": [],
   "source": [
    "dup_unique = get_dup(df)\n",
    "dup_unique[dup_unique.kd_ID.str.contains(\"HUMAN\")].to_csv('duplicate_human_across.csv')"
   ]
  },
  {
   "cell_type": "code",
   "execution_count": null,
   "id": "1292d079-0390-42f4-9d41-b8a86eff66ab",
   "metadata": {},
   "outputs": [],
   "source": []
  }
 ],
 "metadata": {
  "kernelspec": {
   "display_name": "python3",
   "language": "python",
   "name": "python3"
  }
 },
 "nbformat": 4,
 "nbformat_minor": 5
}
