{
 "cells": [
  {
   "cell_type": "markdown",
   "id": "677bc429-d93d-44be-a2fc-01bf157d97f8",
   "metadata": {},
   "source": [
    "# Get kinase-specific PSSMs"
   ]
  },
  {
   "cell_type": "code",
   "execution_count": 1,
   "id": "781c9925-435d-4f6e-9c34-4aba02b111b2",
   "metadata": {},
   "outputs": [],
   "source": [
    "from katlas.core import *\n",
    "import pandas as pd"
   ]
  },
  {
   "cell_type": "code",
   "execution_count": 2,
   "id": "7c6420f4-d431-4f5f-adf1-fe1243868b5c",
   "metadata": {},
   "outputs": [
    {
     "name": "stdout",
     "output_type": "stream",
     "text": [
      "CPU times: user 878 ms, sys: 338 ms, total: 1.22 s\n",
      "Wall time: 5.63 s\n"
     ]
    }
   ],
   "source": [
    "%%time\n",
    "df = Data.get_ks_dataset()"
   ]
  },
  {
   "cell_type": "code",
   "execution_count": 3,
   "id": "156d7e96-48dc-4de8-a213-50de14ee8ed1",
   "metadata": {},
   "outputs": [],
   "source": [
    "df['kinase_id'] = df['kinase_uniprot'] + '_' + df['kinase_protein'].str.split().str[0]"
   ]
  },
  {
   "cell_type": "code",
   "execution_count": 4,
   "id": "1957e6a2-28e8-4520-8fdb-d8e35fcc1e79",
   "metadata": {},
   "outputs": [],
   "source": [
    "cnt = df['kinase_id'].value_counts()"
   ]
  },
  {
   "cell_type": "code",
   "execution_count": 5,
   "id": "fd75a8fd-dcc7-495d-bd43-4801b48459ff",
   "metadata": {},
   "outputs": [
    {
     "data": {
      "text/plain": [
       "Index(['P12931_SRC', 'P29320_EPHA3', 'P07332_FES', 'Q16288_NTRK3',\n",
       "       'Q9UM73_ALK', 'P00519_ABL1', 'P36888_FLT3', 'P29322_EPHA8',\n",
       "       'P29323_EPHB2', 'P54762_EPHB1',\n",
       "       ...\n",
       "       'P35626_GRK3', 'Q99640_PKMYT1', 'Q6P2M8_CAMK1B', 'O00311_CDC7',\n",
       "       'Q9NYV4_CDK12', 'Q15746_SMMLCK', 'Q01973_ROR1', 'P15056_BRAF',\n",
       "       'Q6P0Q8_MAST2', 'O14976_GAK'],\n",
       "      dtype='object', name='kinase_id', length=333)"
      ]
     },
     "execution_count": 5,
     "metadata": {},
     "output_type": "execute_result"
    }
   ],
   "source": [
    "idx = cnt[cnt>=40].index\n",
    "idx"
   ]
  },
  {
   "cell_type": "code",
   "execution_count": 6,
   "id": "2f78c391-e5aa-4d4b-a5a7-1841e0fb5799",
   "metadata": {},
   "outputs": [
    {
     "data": {
      "text/plain": [
       "(187066, 22)"
      ]
     },
     "execution_count": 6,
     "metadata": {},
     "output_type": "execute_result"
    }
   ],
   "source": [
    "df.shape"
   ]
  },
  {
   "cell_type": "markdown",
   "id": "e645cf44-a236-4b02-aacb-b2addfcbfd5b",
   "metadata": {},
   "source": [
    "We only evaluate those on kinome tree"
   ]
  },
  {
   "cell_type": "code",
   "execution_count": 7,
   "id": "8b9d1717-d21e-48f8-910f-44ac48502bab",
   "metadata": {},
   "outputs": [],
   "source": [
    "df = df[df['kinase_id'].isin(idx)].copy()"
   ]
  },
  {
   "cell_type": "code",
   "execution_count": 8,
   "id": "45402f35-4989-4bca-87cd-d35e551702a5",
   "metadata": {},
   "outputs": [
    {
     "data": {
      "text/plain": [
       "(185883, 22)"
      ]
     },
     "execution_count": 8,
     "metadata": {},
     "output_type": "execute_result"
    }
   ],
   "source": [
    "df.shape"
   ]
  },
  {
   "cell_type": "code",
   "execution_count": 9,
   "id": "bdcb90b4-d2cb-4276-8646-97f54b137f1c",
   "metadata": {},
   "outputs": [],
   "source": [
    "df['site_seq_upper']=df.site_seq.str.upper()"
   ]
  },
  {
   "cell_type": "code",
   "execution_count": 10,
   "id": "379ef5e4-6835-4c67-ab26-a3452742adcc",
   "metadata": {},
   "outputs": [],
   "source": [
    "df['source_len'] = df.source.str.split('|').str.len()"
   ]
  },
  {
   "cell_type": "code",
   "execution_count": 11,
   "id": "190772ab-d7ca-4e4e-82af-efbc59a1d976",
   "metadata": {},
   "outputs": [],
   "source": [
    "def get_LO_all(pssms,site_type='STY'):\n",
    "    out=[]\n",
    "    for idx, flat_pssm in pssms.iterrows():\n",
    "        out.append(flatten_pssm(get_pssm_LO_flat(flat_pssm,site_type)))\n",
    "    return pd.DataFrame(out,index=pssms.index)"
   ]
  },
  {
   "cell_type": "markdown",
   "id": "6c8d529e-73ba-41cb-ad28-26e8df2951a2",
   "metadata": {},
   "source": [
    "## Take out 20% of PSP as test "
   ]
  },
  {
   "cell_type": "code",
   "execution_count": 12,
   "id": "e592aa0e-e7a5-4de7-a9d9-67cc563de37e",
   "metadata": {},
   "outputs": [],
   "source": [
    "psp = df[df.source.str.contains('PSP')].copy()"
   ]
  },
  {
   "cell_type": "code",
   "execution_count": 13,
   "id": "2f91c611-18ca-426f-ba78-57b3ebcdd09d",
   "metadata": {},
   "outputs": [],
   "source": [
    "def sample(group):\n",
    "    n = max(1, int(len(group) * 0.2))  # At least 1 row if group is small\n",
    "    # weights = group['source_len'].values\n",
    "    # weights = weights / weights.sum()  # normalize\n",
    "\n",
    "    sampled = group.sample(\n",
    "        n=n, replace=False, random_state=42\n",
    "    )\n",
    "\n",
    "    # Add back the group key as a column\n",
    "    sampled['kinase_uniprot'] = group.name\n",
    "    return sampled"
   ]
  },
  {
   "cell_type": "code",
   "execution_count": 14,
   "id": "60cd6dd1-831b-4cfe-986f-1f65b2c289b6",
   "metadata": {},
   "outputs": [],
   "source": [
    "test = psp.groupby('kinase_uniprot', group_keys=False)\\\n",
    "    .apply(sample,include_groups=False)"
   ]
  },
  {
   "cell_type": "code",
   "execution_count": 15,
   "id": "ef201181-e8a0-4565-9fdc-1231606e0260",
   "metadata": {},
   "outputs": [
    {
     "data": {
      "text/plain": [
       "kinase_group\n",
       "CMGC        777\n",
       "AGC         511\n",
       "TK          387\n",
       "CAMK        357\n",
       "Atypical    148\n",
       "Other       108\n",
       "STE          89\n",
       "CK1          63\n",
       "TKL          44\n",
       "NEK          16\n",
       "Name: count, dtype: int64"
      ]
     },
     "execution_count": 15,
     "metadata": {},
     "output_type": "execute_result"
    }
   ],
   "source": [
    "test.kinase_group.value_counts()"
   ]
  },
  {
   "cell_type": "code",
   "execution_count": 16,
   "id": "c048bba0-50ac-4c6b-b03c-a40848b9a74f",
   "metadata": {
    "scrolled": true
   },
   "outputs": [
    {
     "data": {
      "text/html": [
       "<div>\n",
       "<style scoped>\n",
       "    .dataframe tbody tr th:only-of-type {\n",
       "        vertical-align: middle;\n",
       "    }\n",
       "\n",
       "    .dataframe tbody tr th {\n",
       "        vertical-align: top;\n",
       "    }\n",
       "\n",
       "    .dataframe thead th {\n",
       "        text-align: right;\n",
       "    }\n",
       "</style>\n",
       "<table border=\"1\" class=\"dataframe\">\n",
       "  <thead>\n",
       "    <tr style=\"text-align: right;\">\n",
       "      <th></th>\n",
       "      <th>kin_sub_site</th>\n",
       "      <th>substrate_uniprot</th>\n",
       "      <th>site</th>\n",
       "      <th>source</th>\n",
       "      <th>substrate_genes</th>\n",
       "      <th>substrate_phosphoseq</th>\n",
       "      <th>position</th>\n",
       "      <th>site_seq</th>\n",
       "      <th>sub_site</th>\n",
       "      <th>substrate_sequence</th>\n",
       "      <th>...</th>\n",
       "      <th>kinase_family</th>\n",
       "      <th>kinase_subfamily</th>\n",
       "      <th>kinase_pspa_big</th>\n",
       "      <th>kinase_pspa_small</th>\n",
       "      <th>kinase_coral_ID</th>\n",
       "      <th>num_kin</th>\n",
       "      <th>kinase_id</th>\n",
       "      <th>site_seq_upper</th>\n",
       "      <th>source_len</th>\n",
       "      <th>kinase_uniprot</th>\n",
       "    </tr>\n",
       "  </thead>\n",
       "  <tbody>\n",
       "    <tr>\n",
       "      <th>160</th>\n",
       "      <td>O00141_P46527_T157</td>\n",
       "      <td>P46527</td>\n",
       "      <td>T157</td>\n",
       "      <td>SIGNOR|EPSD|PSP</td>\n",
       "      <td>CDKN1B KIP1 p27</td>\n",
       "      <td>MSNVRVSNGsPsLERMDARQAEHPKPSACRNLFGPVDHEELTRDLE...</td>\n",
       "      <td>157</td>\n",
       "      <td>PsDsQTGLAEQCAGIRKRPAtDDSSTQNKRANRTEENVsDG</td>\n",
       "      <td>P46527_T157</td>\n",
       "      <td>MSNVRVSNGSPSLERMDARQAEHPKPSACRNLFGPVDHEELTRDLE...</td>\n",
       "      <td>...</td>\n",
       "      <td>SGK</td>\n",
       "      <td>SGK</td>\n",
       "      <td>Basophilic</td>\n",
       "      <td>Akt/rock</td>\n",
       "      <td>SGK1</td>\n",
       "      <td>6</td>\n",
       "      <td>O00141_SGK1</td>\n",
       "      <td>PSDSQTGLAEQCAGIRKRPATDDSSTQNKRANRTEENVSDG</td>\n",
       "      <td>3</td>\n",
       "      <td>O00141</td>\n",
       "    </tr>\n",
       "    <tr>\n",
       "      <th>309</th>\n",
       "      <td>O00141_Q96J92_S1217</td>\n",
       "      <td>Q96J92</td>\n",
       "      <td>S1217</td>\n",
       "      <td>EPSD|PSP</td>\n",
       "      <td>WNK4 PRKWNK4</td>\n",
       "      <td>MLASPATETTVLMSQTEADLALRPPPPLGTAGQPRLGPPPRRARRF...</td>\n",
       "      <td>1217</td>\n",
       "      <td>SRRNsLQRSEPPGPGIMRRNsLsGsSTGSQEQRASKGVTFA</td>\n",
       "      <td>Q96J92_S1217</td>\n",
       "      <td>MLASPATETTVLMSQTEADLALRPPPPLGTAGQPRLGPPPRRARRF...</td>\n",
       "      <td>...</td>\n",
       "      <td>SGK</td>\n",
       "      <td>SGK</td>\n",
       "      <td>Basophilic</td>\n",
       "      <td>Akt/rock</td>\n",
       "      <td>SGK1</td>\n",
       "      <td>1</td>\n",
       "      <td>O00141_SGK1</td>\n",
       "      <td>SRRNSLQRSEPPGPGIMRRNSLSGSSTGSQEQRASKGVTFA</td>\n",
       "      <td>2</td>\n",
       "      <td>O00141</td>\n",
       "    </tr>\n",
       "    <tr>\n",
       "      <th>369</th>\n",
       "      <td>O00141_Q9UN36_S346</td>\n",
       "      <td>Q9UN36</td>\n",
       "      <td>S346</td>\n",
       "      <td>EPSD|PSP</td>\n",
       "      <td>NDRG2 KIAA1248 SYLD</td>\n",
       "      <td>MAELQEVQITEEKPLLPGQTPEAAKEAELAARILLDQGQTHSVETP...</td>\n",
       "      <td>346</td>\n",
       "      <td>sRsRtAsLtsAAsVDGNRsRsRtLsQssEsGtLsSGPPGHT</td>\n",
       "      <td>Q9UN36_S346</td>\n",
       "      <td>MAELQEVQITEEKPLLPGQTPEAAKEAELAARILLDQGQTHSVETP...</td>\n",
       "      <td>...</td>\n",
       "      <td>SGK</td>\n",
       "      <td>SGK</td>\n",
       "      <td>Basophilic</td>\n",
       "      <td>Akt/rock</td>\n",
       "      <td>SGK1</td>\n",
       "      <td>1</td>\n",
       "      <td>O00141_SGK1</td>\n",
       "      <td>SRSRTASLTSAASVDGNRSRSRTLSQSSESGTLSSGPPGHT</td>\n",
       "      <td>2</td>\n",
       "      <td>O00141</td>\n",
       "    </tr>\n",
       "    <tr>\n",
       "      <th>39</th>\n",
       "      <td>O00141_O60343_T642</td>\n",
       "      <td>O60343</td>\n",
       "      <td>T642</td>\n",
       "      <td>GPS6|PSP</td>\n",
       "      <td>TBC1D4 AS160 KIAA0603</td>\n",
       "      <td>MEPPSCIQDEPFPHPLEPEPGVSAQPGPGKPSDKRFRLWYVGGSCL...</td>\n",
       "      <td>642</td>\n",
       "      <td>AWQTFPEEDSDSPQFRRRAHtFsHPPsstKRKLNLQDGRAQ</td>\n",
       "      <td>O60343_T642</td>\n",
       "      <td>MEPPSCIQDEPFPHPLEPEPGVSAQPGPGKPSDKRFRLWYVGGSCL...</td>\n",
       "      <td>...</td>\n",
       "      <td>SGK</td>\n",
       "      <td>SGK</td>\n",
       "      <td>Basophilic</td>\n",
       "      <td>Akt/rock</td>\n",
       "      <td>SGK1</td>\n",
       "      <td>4</td>\n",
       "      <td>O00141_SGK1</td>\n",
       "      <td>AWQTFPEEDSDSPQFRRRAHTFSHPPSSTKRKLNLQDGRAQ</td>\n",
       "      <td>2</td>\n",
       "      <td>O00141</td>\n",
       "    </tr>\n",
       "    <tr>\n",
       "      <th>314</th>\n",
       "      <td>O00141_Q96PU5_S448</td>\n",
       "      <td>Q96PU5</td>\n",
       "      <td>S448</td>\n",
       "      <td>GPS6|SIGNOR|ELM|EPSD|PSP</td>\n",
       "      <td>NEDD4L KIAA0439 NEDL3</td>\n",
       "      <td>MATGLGEPVYGLsEDEGESRILRVKVVSGIDLAKKDIFGASDPYVK...</td>\n",
       "      <td>448</td>\n",
       "      <td>sATNSNNHLIEPQIRRPRsLssPtVTLSAPLEGAKDsPVRR</td>\n",
       "      <td>Q96PU5_S448</td>\n",
       "      <td>MATGLGEPVYGLSEDEGESRILRVKVVSGIDLAKKDIFGASDPYVK...</td>\n",
       "      <td>...</td>\n",
       "      <td>SGK</td>\n",
       "      <td>SGK</td>\n",
       "      <td>Basophilic</td>\n",
       "      <td>Akt/rock</td>\n",
       "      <td>SGK1</td>\n",
       "      <td>4</td>\n",
       "      <td>O00141_SGK1</td>\n",
       "      <td>SATNSNNHLIEPQIRRPRSLSSPTVTLSAPLEGAKDSPVRR</td>\n",
       "      <td>5</td>\n",
       "      <td>O00141</td>\n",
       "    </tr>\n",
       "    <tr>\n",
       "      <th>...</th>\n",
       "      <td>...</td>\n",
       "      <td>...</td>\n",
       "      <td>...</td>\n",
       "      <td>...</td>\n",
       "      <td>...</td>\n",
       "      <td>...</td>\n",
       "      <td>...</td>\n",
       "      <td>...</td>\n",
       "      <td>...</td>\n",
       "      <td>...</td>\n",
       "      <td>...</td>\n",
       "      <td>...</td>\n",
       "      <td>...</td>\n",
       "      <td>...</td>\n",
       "      <td>...</td>\n",
       "      <td>...</td>\n",
       "      <td>...</td>\n",
       "      <td>...</td>\n",
       "      <td>...</td>\n",
       "      <td>...</td>\n",
       "      <td>...</td>\n",
       "    </tr>\n",
       "    <tr>\n",
       "      <th>185492</th>\n",
       "      <td>Q9Y4K4_P49841_S9</td>\n",
       "      <td>P49841</td>\n",
       "      <td>S9</td>\n",
       "      <td>SIGNOR|EPSD|PSP</td>\n",
       "      <td>GSK3B</td>\n",
       "      <td>MSGRPRttsFAEsCKPVQQPsAFGsMKVSRDKDGSKVTTVVAtPGQ...</td>\n",
       "      <td>9</td>\n",
       "      <td>____________MSGRPRttsFAEsCKPVQQPsAFGsMKVS</td>\n",
       "      <td>P49841_S9</td>\n",
       "      <td>MSGRPRTTSFAESCKPVQQPSAFGSMKVSRDKDGSKVTTVVATPGQ...</td>\n",
       "      <td>...</td>\n",
       "      <td>STE20</td>\n",
       "      <td>KHS</td>\n",
       "      <td>Map4k</td>\n",
       "      <td>Map4k</td>\n",
       "      <td>KHS1</td>\n",
       "      <td>25</td>\n",
       "      <td>Q9Y4K4_KHS1</td>\n",
       "      <td>____________MSGRPRTTSFAESCKPVQQPSAFGSMKVS</td>\n",
       "      <td>3</td>\n",
       "      <td>Q9Y4K4</td>\n",
       "    </tr>\n",
       "    <tr>\n",
       "      <th>185874</th>\n",
       "      <td>Q9Y5S2_O43255_S6</td>\n",
       "      <td>O43255</td>\n",
       "      <td>S6</td>\n",
       "      <td>PSP</td>\n",
       "      <td>SIAH2</td>\n",
       "      <td>MSRPsstGPsANKPCsKQPPPQPQHtPsPAAPPAAATISAAGPGSS...</td>\n",
       "      <td>6</td>\n",
       "      <td>_______________MSRPsstGPsANKPCsKQPPPQPQHt</td>\n",
       "      <td>O43255_S6</td>\n",
       "      <td>MSRPSSTGPSANKPCSKQPPPQPQHTPSPAAPPAAATISAAGPGSS...</td>\n",
       "      <td>...</td>\n",
       "      <td>DMPK</td>\n",
       "      <td>GEK</td>\n",
       "      <td>Basophilic</td>\n",
       "      <td>Akt/rock</td>\n",
       "      <td>MRCKb</td>\n",
       "      <td>1</td>\n",
       "      <td>Q9Y5S2_MRCKB</td>\n",
       "      <td>_______________MSRPSSTGPSANKPCSKQPPPQPQHT</td>\n",
       "      <td>1</td>\n",
       "      <td>Q9Y5S2</td>\n",
       "    </tr>\n",
       "    <tr>\n",
       "      <th>186807</th>\n",
       "      <td>Q9Y6E0_Q9Y2K2_T221</td>\n",
       "      <td>Q9Y2K2</td>\n",
       "      <td>T221</td>\n",
       "      <td>PSP</td>\n",
       "      <td>SIK3 KIAA0999 QSK L19</td>\n",
       "      <td>MAAAAASGAGGAAGAGTGGAGPAGRLLPPPAPGSPAAPAAVSPAAG...</td>\n",
       "      <td>221</td>\n",
       "      <td>NIKIADFGFSNLFTPGQLLKtWCGSPPYAAPELFEGKEYDG</td>\n",
       "      <td>Q9Y2K2_T221</td>\n",
       "      <td>MAAAAASGAGGAAGAGTGGAGPAGRLLPPPAPGSPAAPAAVSPAAG...</td>\n",
       "      <td>...</td>\n",
       "      <td>STE20</td>\n",
       "      <td>YSK</td>\n",
       "      <td>Map4k</td>\n",
       "      <td>Map4k</td>\n",
       "      <td>MST3</td>\n",
       "      <td>5</td>\n",
       "      <td>Q9Y6E0_MST3</td>\n",
       "      <td>NIKIADFGFSNLFTPGQLLKTWCGSPPYAAPELFEGKEYDG</td>\n",
       "      <td>1</td>\n",
       "      <td>Q9Y6E0</td>\n",
       "    </tr>\n",
       "    <tr>\n",
       "      <th>186392</th>\n",
       "      <td>Q9Y6E0_P57059_T182</td>\n",
       "      <td>P57059</td>\n",
       "      <td>T182</td>\n",
       "      <td>PSP</td>\n",
       "      <td>SIK1 SIK SNF1LK</td>\n",
       "      <td>MVIMSEFSADPAGQGQGQQKPLRVGFYDIERTLGKGNFAVVKLARH...</td>\n",
       "      <td>182</td>\n",
       "      <td>DIKLADFGFGNFYKSGEPLStWCGsPPYAAPEVFEGKEYEG</td>\n",
       "      <td>P57059_T182</td>\n",
       "      <td>MVIMSEFSADPAGQGQGQQKPLRVGFYDIERTLGKGNFAVVKLARH...</td>\n",
       "      <td>...</td>\n",
       "      <td>STE20</td>\n",
       "      <td>YSK</td>\n",
       "      <td>Map4k</td>\n",
       "      <td>Map4k</td>\n",
       "      <td>MST3</td>\n",
       "      <td>3</td>\n",
       "      <td>Q9Y6E0_MST3</td>\n",
       "      <td>DIKLADFGFGNFYKSGEPLSTWCGSPPYAAPEVFEGKEYEG</td>\n",
       "      <td>1</td>\n",
       "      <td>Q9Y6E0</td>\n",
       "    </tr>\n",
       "    <tr>\n",
       "      <th>186845</th>\n",
       "      <td>Q9Y6M4_O75581_S1490</td>\n",
       "      <td>O75581</td>\n",
       "      <td>S1490</td>\n",
       "      <td>PSP</td>\n",
       "      <td>LRP6</td>\n",
       "      <td>MGAVLRSLLACSFCVLLRAAPLLLYANRRDLRLVDATNGKENATIV...</td>\n",
       "      <td>1490</td>\n",
       "      <td>SSSSssTKGtYFPAILNPPPsPAtERsHYTMEFGYSsNsPs</td>\n",
       "      <td>O75581_S1490</td>\n",
       "      <td>MGAVLRSLLACSFCVLLRAAPLLLYANRRDLRLVDATNGKENATIV...</td>\n",
       "      <td>...</td>\n",
       "      <td>CK1</td>\n",
       "      <td>CK1</td>\n",
       "      <td>Acidophilic</td>\n",
       "      <td>Ck1</td>\n",
       "      <td>CK1g3</td>\n",
       "      <td>12</td>\n",
       "      <td>Q9Y6M4_CK1G3</td>\n",
       "      <td>SSSSSSTKGTYFPAILNPPPSPATERSHYTMEFGYSSNSPS</td>\n",
       "      <td>1</td>\n",
       "      <td>Q9Y6M4</td>\n",
       "    </tr>\n",
       "  </tbody>\n",
       "</table>\n",
       "<p>2500 rows × 24 columns</p>\n",
       "</div>"
      ],
      "text/plain": [
       "               kin_sub_site substrate_uniprot   site  \\\n",
       "160      O00141_P46527_T157            P46527   T157   \n",
       "309     O00141_Q96J92_S1217            Q96J92  S1217   \n",
       "369      O00141_Q9UN36_S346            Q9UN36   S346   \n",
       "39       O00141_O60343_T642            O60343   T642   \n",
       "314      O00141_Q96PU5_S448            Q96PU5   S448   \n",
       "...                     ...               ...    ...   \n",
       "185492     Q9Y4K4_P49841_S9            P49841     S9   \n",
       "185874     Q9Y5S2_O43255_S6            O43255     S6   \n",
       "186807   Q9Y6E0_Q9Y2K2_T221            Q9Y2K2   T221   \n",
       "186392   Q9Y6E0_P57059_T182            P57059   T182   \n",
       "186845  Q9Y6M4_O75581_S1490            O75581  S1490   \n",
       "\n",
       "                          source        substrate_genes  \\\n",
       "160              SIGNOR|EPSD|PSP        CDKN1B KIP1 p27   \n",
       "309                     EPSD|PSP           WNK4 PRKWNK4   \n",
       "369                     EPSD|PSP    NDRG2 KIAA1248 SYLD   \n",
       "39                      GPS6|PSP  TBC1D4 AS160 KIAA0603   \n",
       "314     GPS6|SIGNOR|ELM|EPSD|PSP  NEDD4L KIAA0439 NEDL3   \n",
       "...                          ...                    ...   \n",
       "185492           SIGNOR|EPSD|PSP                  GSK3B   \n",
       "185874                       PSP                  SIAH2   \n",
       "186807                       PSP  SIK3 KIAA0999 QSK L19   \n",
       "186392                       PSP        SIK1 SIK SNF1LK   \n",
       "186845                       PSP                   LRP6   \n",
       "\n",
       "                                     substrate_phosphoseq  position  \\\n",
       "160     MSNVRVSNGsPsLERMDARQAEHPKPSACRNLFGPVDHEELTRDLE...       157   \n",
       "309     MLASPATETTVLMSQTEADLALRPPPPLGTAGQPRLGPPPRRARRF...      1217   \n",
       "369     MAELQEVQITEEKPLLPGQTPEAAKEAELAARILLDQGQTHSVETP...       346   \n",
       "39      MEPPSCIQDEPFPHPLEPEPGVSAQPGPGKPSDKRFRLWYVGGSCL...       642   \n",
       "314     MATGLGEPVYGLsEDEGESRILRVKVVSGIDLAKKDIFGASDPYVK...       448   \n",
       "...                                                   ...       ...   \n",
       "185492  MSGRPRttsFAEsCKPVQQPsAFGsMKVSRDKDGSKVTTVVAtPGQ...         9   \n",
       "185874  MSRPsstGPsANKPCsKQPPPQPQHtPsPAAPPAAATISAAGPGSS...         6   \n",
       "186807  MAAAAASGAGGAAGAGTGGAGPAGRLLPPPAPGSPAAPAAVSPAAG...       221   \n",
       "186392  MVIMSEFSADPAGQGQGQQKPLRVGFYDIERTLGKGNFAVVKLARH...       182   \n",
       "186845  MGAVLRSLLACSFCVLLRAAPLLLYANRRDLRLVDATNGKENATIV...      1490   \n",
       "\n",
       "                                         site_seq      sub_site  \\\n",
       "160     PsDsQTGLAEQCAGIRKRPAtDDSSTQNKRANRTEENVsDG   P46527_T157   \n",
       "309     SRRNsLQRSEPPGPGIMRRNsLsGsSTGSQEQRASKGVTFA  Q96J92_S1217   \n",
       "369     sRsRtAsLtsAAsVDGNRsRsRtLsQssEsGtLsSGPPGHT   Q9UN36_S346   \n",
       "39      AWQTFPEEDSDSPQFRRRAHtFsHPPsstKRKLNLQDGRAQ   O60343_T642   \n",
       "314     sATNSNNHLIEPQIRRPRsLssPtVTLSAPLEGAKDsPVRR   Q96PU5_S448   \n",
       "...                                           ...           ...   \n",
       "185492  ____________MSGRPRttsFAEsCKPVQQPsAFGsMKVS     P49841_S9   \n",
       "185874  _______________MSRPsstGPsANKPCsKQPPPQPQHt     O43255_S6   \n",
       "186807  NIKIADFGFSNLFTPGQLLKtWCGSPPYAAPELFEGKEYDG   Q9Y2K2_T221   \n",
       "186392  DIKLADFGFGNFYKSGEPLStWCGsPPYAAPEVFEGKEYEG   P57059_T182   \n",
       "186845  SSSSssTKGtYFPAILNPPPsPAtERsHYTMEFGYSsNsPs  O75581_S1490   \n",
       "\n",
       "                                       substrate_sequence  ...  kinase_family  \\\n",
       "160     MSNVRVSNGSPSLERMDARQAEHPKPSACRNLFGPVDHEELTRDLE...  ...            SGK   \n",
       "309     MLASPATETTVLMSQTEADLALRPPPPLGTAGQPRLGPPPRRARRF...  ...            SGK   \n",
       "369     MAELQEVQITEEKPLLPGQTPEAAKEAELAARILLDQGQTHSVETP...  ...            SGK   \n",
       "39      MEPPSCIQDEPFPHPLEPEPGVSAQPGPGKPSDKRFRLWYVGGSCL...  ...            SGK   \n",
       "314     MATGLGEPVYGLSEDEGESRILRVKVVSGIDLAKKDIFGASDPYVK...  ...            SGK   \n",
       "...                                                   ...  ...            ...   \n",
       "185492  MSGRPRTTSFAESCKPVQQPSAFGSMKVSRDKDGSKVTTVVATPGQ...  ...          STE20   \n",
       "185874  MSRPSSTGPSANKPCSKQPPPQPQHTPSPAAPPAAATISAAGPGSS...  ...           DMPK   \n",
       "186807  MAAAAASGAGGAAGAGTGGAGPAGRLLPPPAPGSPAAPAAVSPAAG...  ...          STE20   \n",
       "186392  MVIMSEFSADPAGQGQGQQKPLRVGFYDIERTLGKGNFAVVKLARH...  ...          STE20   \n",
       "186845  MGAVLRSLLACSFCVLLRAAPLLLYANRRDLRLVDATNGKENATIV...  ...            CK1   \n",
       "\n",
       "       kinase_subfamily kinase_pspa_big kinase_pspa_small kinase_coral_ID  \\\n",
       "160                 SGK      Basophilic          Akt/rock            SGK1   \n",
       "309                 SGK      Basophilic          Akt/rock            SGK1   \n",
       "369                 SGK      Basophilic          Akt/rock            SGK1   \n",
       "39                  SGK      Basophilic          Akt/rock            SGK1   \n",
       "314                 SGK      Basophilic          Akt/rock            SGK1   \n",
       "...                 ...             ...               ...             ...   \n",
       "185492              KHS           Map4k             Map4k            KHS1   \n",
       "185874              GEK      Basophilic          Akt/rock           MRCKb   \n",
       "186807              YSK           Map4k             Map4k            MST3   \n",
       "186392              YSK           Map4k             Map4k            MST3   \n",
       "186845              CK1     Acidophilic               Ck1           CK1g3   \n",
       "\n",
       "       num_kin     kinase_id                             site_seq_upper  \\\n",
       "160          6   O00141_SGK1  PSDSQTGLAEQCAGIRKRPATDDSSTQNKRANRTEENVSDG   \n",
       "309          1   O00141_SGK1  SRRNSLQRSEPPGPGIMRRNSLSGSSTGSQEQRASKGVTFA   \n",
       "369          1   O00141_SGK1  SRSRTASLTSAASVDGNRSRSRTLSQSSESGTLSSGPPGHT   \n",
       "39           4   O00141_SGK1  AWQTFPEEDSDSPQFRRRAHTFSHPPSSTKRKLNLQDGRAQ   \n",
       "314          4   O00141_SGK1  SATNSNNHLIEPQIRRPRSLSSPTVTLSAPLEGAKDSPVRR   \n",
       "...        ...           ...                                        ...   \n",
       "185492      25   Q9Y4K4_KHS1  ____________MSGRPRTTSFAESCKPVQQPSAFGSMKVS   \n",
       "185874       1  Q9Y5S2_MRCKB  _______________MSRPSSTGPSANKPCSKQPPPQPQHT   \n",
       "186807       5   Q9Y6E0_MST3  NIKIADFGFSNLFTPGQLLKTWCGSPPYAAPELFEGKEYDG   \n",
       "186392       3   Q9Y6E0_MST3  DIKLADFGFGNFYKSGEPLSTWCGSPPYAAPEVFEGKEYEG   \n",
       "186845      12  Q9Y6M4_CK1G3  SSSSSSTKGTYFPAILNPPPSPATERSHYTMEFGYSSNSPS   \n",
       "\n",
       "       source_len  kinase_uniprot  \n",
       "160             3          O00141  \n",
       "309             2          O00141  \n",
       "369             2          O00141  \n",
       "39              2          O00141  \n",
       "314             5          O00141  \n",
       "...           ...             ...  \n",
       "185492          3          Q9Y4K4  \n",
       "185874          1          Q9Y5S2  \n",
       "186807          1          Q9Y6E0  \n",
       "186392          1          Q9Y6E0  \n",
       "186845          1          Q9Y6M4  \n",
       "\n",
       "[2500 rows x 24 columns]"
      ]
     },
     "execution_count": 16,
     "metadata": {},
     "output_type": "execute_result"
    }
   ],
   "source": [
    "test"
   ]
  },
  {
   "cell_type": "code",
   "execution_count": 17,
   "id": "e14a8b1d-937b-48fb-b294-bbed6cf5e536",
   "metadata": {},
   "outputs": [],
   "source": [
    "test.to_parquet('out/CDDM_test_set.parquet')"
   ]
  },
  {
   "cell_type": "code",
   "execution_count": 18,
   "id": "6bef9638-95bf-4488-b8dc-bf895f8c1ac3",
   "metadata": {},
   "outputs": [
    {
     "data": {
      "text/html": [
       "<div>\n",
       "<style scoped>\n",
       "    .dataframe tbody tr th:only-of-type {\n",
       "        vertical-align: middle;\n",
       "    }\n",
       "\n",
       "    .dataframe tbody tr th {\n",
       "        vertical-align: top;\n",
       "    }\n",
       "\n",
       "    .dataframe thead th {\n",
       "        text-align: right;\n",
       "    }\n",
       "</style>\n",
       "<table border=\"1\" class=\"dataframe\">\n",
       "  <thead>\n",
       "    <tr style=\"text-align: right;\">\n",
       "      <th></th>\n",
       "      <th>kin_sub_site</th>\n",
       "      <th>substrate_uniprot</th>\n",
       "      <th>site</th>\n",
       "      <th>source</th>\n",
       "      <th>substrate_genes</th>\n",
       "      <th>substrate_phosphoseq</th>\n",
       "      <th>position</th>\n",
       "      <th>site_seq</th>\n",
       "      <th>sub_site</th>\n",
       "      <th>substrate_sequence</th>\n",
       "      <th>...</th>\n",
       "      <th>kinase_family</th>\n",
       "      <th>kinase_subfamily</th>\n",
       "      <th>kinase_pspa_big</th>\n",
       "      <th>kinase_pspa_small</th>\n",
       "      <th>kinase_coral_ID</th>\n",
       "      <th>num_kin</th>\n",
       "      <th>kinase_id</th>\n",
       "      <th>site_seq_upper</th>\n",
       "      <th>source_len</th>\n",
       "      <th>kinase_uniprot</th>\n",
       "    </tr>\n",
       "  </thead>\n",
       "  <tbody>\n",
       "    <tr>\n",
       "      <th>160</th>\n",
       "      <td>O00141_P46527_T157</td>\n",
       "      <td>P46527</td>\n",
       "      <td>T157</td>\n",
       "      <td>SIGNOR|EPSD|PSP</td>\n",
       "      <td>CDKN1B KIP1 p27</td>\n",
       "      <td>MSNVRVSNGsPsLERMDARQAEHPKPSACRNLFGPVDHEELTRDLE...</td>\n",
       "      <td>157</td>\n",
       "      <td>PsDsQTGLAEQCAGIRKRPAtDDSSTQNKRANRTEENVsDG</td>\n",
       "      <td>P46527_T157</td>\n",
       "      <td>MSNVRVSNGSPSLERMDARQAEHPKPSACRNLFGPVDHEELTRDLE...</td>\n",
       "      <td>...</td>\n",
       "      <td>SGK</td>\n",
       "      <td>SGK</td>\n",
       "      <td>Basophilic</td>\n",
       "      <td>Akt/rock</td>\n",
       "      <td>SGK1</td>\n",
       "      <td>6</td>\n",
       "      <td>O00141_SGK1</td>\n",
       "      <td>PSDSQTGLAEQCAGIRKRPATDDSSTQNKRANRTEENVSDG</td>\n",
       "      <td>3</td>\n",
       "      <td>O00141</td>\n",
       "    </tr>\n",
       "    <tr>\n",
       "      <th>309</th>\n",
       "      <td>O00141_Q96J92_S1217</td>\n",
       "      <td>Q96J92</td>\n",
       "      <td>S1217</td>\n",
       "      <td>EPSD|PSP</td>\n",
       "      <td>WNK4 PRKWNK4</td>\n",
       "      <td>MLASPATETTVLMSQTEADLALRPPPPLGTAGQPRLGPPPRRARRF...</td>\n",
       "      <td>1217</td>\n",
       "      <td>SRRNsLQRSEPPGPGIMRRNsLsGsSTGSQEQRASKGVTFA</td>\n",
       "      <td>Q96J92_S1217</td>\n",
       "      <td>MLASPATETTVLMSQTEADLALRPPPPLGTAGQPRLGPPPRRARRF...</td>\n",
       "      <td>...</td>\n",
       "      <td>SGK</td>\n",
       "      <td>SGK</td>\n",
       "      <td>Basophilic</td>\n",
       "      <td>Akt/rock</td>\n",
       "      <td>SGK1</td>\n",
       "      <td>1</td>\n",
       "      <td>O00141_SGK1</td>\n",
       "      <td>SRRNSLQRSEPPGPGIMRRNSLSGSSTGSQEQRASKGVTFA</td>\n",
       "      <td>2</td>\n",
       "      <td>O00141</td>\n",
       "    </tr>\n",
       "    <tr>\n",
       "      <th>369</th>\n",
       "      <td>O00141_Q9UN36_S346</td>\n",
       "      <td>Q9UN36</td>\n",
       "      <td>S346</td>\n",
       "      <td>EPSD|PSP</td>\n",
       "      <td>NDRG2 KIAA1248 SYLD</td>\n",
       "      <td>MAELQEVQITEEKPLLPGQTPEAAKEAELAARILLDQGQTHSVETP...</td>\n",
       "      <td>346</td>\n",
       "      <td>sRsRtAsLtsAAsVDGNRsRsRtLsQssEsGtLsSGPPGHT</td>\n",
       "      <td>Q9UN36_S346</td>\n",
       "      <td>MAELQEVQITEEKPLLPGQTPEAAKEAELAARILLDQGQTHSVETP...</td>\n",
       "      <td>...</td>\n",
       "      <td>SGK</td>\n",
       "      <td>SGK</td>\n",
       "      <td>Basophilic</td>\n",
       "      <td>Akt/rock</td>\n",
       "      <td>SGK1</td>\n",
       "      <td>1</td>\n",
       "      <td>O00141_SGK1</td>\n",
       "      <td>SRSRTASLTSAASVDGNRSRSRTLSQSSESGTLSSGPPGHT</td>\n",
       "      <td>2</td>\n",
       "      <td>O00141</td>\n",
       "    </tr>\n",
       "    <tr>\n",
       "      <th>39</th>\n",
       "      <td>O00141_O60343_T642</td>\n",
       "      <td>O60343</td>\n",
       "      <td>T642</td>\n",
       "      <td>GPS6|PSP</td>\n",
       "      <td>TBC1D4 AS160 KIAA0603</td>\n",
       "      <td>MEPPSCIQDEPFPHPLEPEPGVSAQPGPGKPSDKRFRLWYVGGSCL...</td>\n",
       "      <td>642</td>\n",
       "      <td>AWQTFPEEDSDSPQFRRRAHtFsHPPsstKRKLNLQDGRAQ</td>\n",
       "      <td>O60343_T642</td>\n",
       "      <td>MEPPSCIQDEPFPHPLEPEPGVSAQPGPGKPSDKRFRLWYVGGSCL...</td>\n",
       "      <td>...</td>\n",
       "      <td>SGK</td>\n",
       "      <td>SGK</td>\n",
       "      <td>Basophilic</td>\n",
       "      <td>Akt/rock</td>\n",
       "      <td>SGK1</td>\n",
       "      <td>4</td>\n",
       "      <td>O00141_SGK1</td>\n",
       "      <td>AWQTFPEEDSDSPQFRRRAHTFSHPPSSTKRKLNLQDGRAQ</td>\n",
       "      <td>2</td>\n",
       "      <td>O00141</td>\n",
       "    </tr>\n",
       "    <tr>\n",
       "      <th>314</th>\n",
       "      <td>O00141_Q96PU5_S448</td>\n",
       "      <td>Q96PU5</td>\n",
       "      <td>S448</td>\n",
       "      <td>GPS6|SIGNOR|ELM|EPSD|PSP</td>\n",
       "      <td>NEDD4L KIAA0439 NEDL3</td>\n",
       "      <td>MATGLGEPVYGLsEDEGESRILRVKVVSGIDLAKKDIFGASDPYVK...</td>\n",
       "      <td>448</td>\n",
       "      <td>sATNSNNHLIEPQIRRPRsLssPtVTLSAPLEGAKDsPVRR</td>\n",
       "      <td>Q96PU5_S448</td>\n",
       "      <td>MATGLGEPVYGLSEDEGESRILRVKVVSGIDLAKKDIFGASDPYVK...</td>\n",
       "      <td>...</td>\n",
       "      <td>SGK</td>\n",
       "      <td>SGK</td>\n",
       "      <td>Basophilic</td>\n",
       "      <td>Akt/rock</td>\n",
       "      <td>SGK1</td>\n",
       "      <td>4</td>\n",
       "      <td>O00141_SGK1</td>\n",
       "      <td>SATNSNNHLIEPQIRRPRSLSSPTVTLSAPLEGAKDSPVRR</td>\n",
       "      <td>5</td>\n",
       "      <td>O00141</td>\n",
       "    </tr>\n",
       "  </tbody>\n",
       "</table>\n",
       "<p>5 rows × 24 columns</p>\n",
       "</div>"
      ],
      "text/plain": [
       "            kin_sub_site substrate_uniprot   site                    source  \\\n",
       "160   O00141_P46527_T157            P46527   T157           SIGNOR|EPSD|PSP   \n",
       "309  O00141_Q96J92_S1217            Q96J92  S1217                  EPSD|PSP   \n",
       "369   O00141_Q9UN36_S346            Q9UN36   S346                  EPSD|PSP   \n",
       "39    O00141_O60343_T642            O60343   T642                  GPS6|PSP   \n",
       "314   O00141_Q96PU5_S448            Q96PU5   S448  GPS6|SIGNOR|ELM|EPSD|PSP   \n",
       "\n",
       "           substrate_genes                               substrate_phosphoseq  \\\n",
       "160        CDKN1B KIP1 p27  MSNVRVSNGsPsLERMDARQAEHPKPSACRNLFGPVDHEELTRDLE...   \n",
       "309           WNK4 PRKWNK4  MLASPATETTVLMSQTEADLALRPPPPLGTAGQPRLGPPPRRARRF...   \n",
       "369    NDRG2 KIAA1248 SYLD  MAELQEVQITEEKPLLPGQTPEAAKEAELAARILLDQGQTHSVETP...   \n",
       "39   TBC1D4 AS160 KIAA0603  MEPPSCIQDEPFPHPLEPEPGVSAQPGPGKPSDKRFRLWYVGGSCL...   \n",
       "314  NEDD4L KIAA0439 NEDL3  MATGLGEPVYGLsEDEGESRILRVKVVSGIDLAKKDIFGASDPYVK...   \n",
       "\n",
       "     position                                   site_seq      sub_site  \\\n",
       "160       157  PsDsQTGLAEQCAGIRKRPAtDDSSTQNKRANRTEENVsDG   P46527_T157   \n",
       "309      1217  SRRNsLQRSEPPGPGIMRRNsLsGsSTGSQEQRASKGVTFA  Q96J92_S1217   \n",
       "369       346  sRsRtAsLtsAAsVDGNRsRsRtLsQssEsGtLsSGPPGHT   Q9UN36_S346   \n",
       "39        642  AWQTFPEEDSDSPQFRRRAHtFsHPPsstKRKLNLQDGRAQ   O60343_T642   \n",
       "314       448  sATNSNNHLIEPQIRRPRsLssPtVTLSAPLEGAKDsPVRR   Q96PU5_S448   \n",
       "\n",
       "                                    substrate_sequence  ...  kinase_family  \\\n",
       "160  MSNVRVSNGSPSLERMDARQAEHPKPSACRNLFGPVDHEELTRDLE...  ...            SGK   \n",
       "309  MLASPATETTVLMSQTEADLALRPPPPLGTAGQPRLGPPPRRARRF...  ...            SGK   \n",
       "369  MAELQEVQITEEKPLLPGQTPEAAKEAELAARILLDQGQTHSVETP...  ...            SGK   \n",
       "39   MEPPSCIQDEPFPHPLEPEPGVSAQPGPGKPSDKRFRLWYVGGSCL...  ...            SGK   \n",
       "314  MATGLGEPVYGLSEDEGESRILRVKVVSGIDLAKKDIFGASDPYVK...  ...            SGK   \n",
       "\n",
       "    kinase_subfamily kinase_pspa_big kinase_pspa_small kinase_coral_ID  \\\n",
       "160              SGK      Basophilic          Akt/rock            SGK1   \n",
       "309              SGK      Basophilic          Akt/rock            SGK1   \n",
       "369              SGK      Basophilic          Akt/rock            SGK1   \n",
       "39               SGK      Basophilic          Akt/rock            SGK1   \n",
       "314              SGK      Basophilic          Akt/rock            SGK1   \n",
       "\n",
       "    num_kin    kinase_id                             site_seq_upper  \\\n",
       "160       6  O00141_SGK1  PSDSQTGLAEQCAGIRKRPATDDSSTQNKRANRTEENVSDG   \n",
       "309       1  O00141_SGK1  SRRNSLQRSEPPGPGIMRRNSLSGSSTGSQEQRASKGVTFA   \n",
       "369       1  O00141_SGK1  SRSRTASLTSAASVDGNRSRSRTLSQSSESGTLSSGPPGHT   \n",
       "39        4  O00141_SGK1  AWQTFPEEDSDSPQFRRRAHTFSHPPSSTKRKLNLQDGRAQ   \n",
       "314       4  O00141_SGK1  SATNSNNHLIEPQIRRPRSLSSPTVTLSAPLEGAKDSPVRR   \n",
       "\n",
       "    source_len  kinase_uniprot  \n",
       "160          3          O00141  \n",
       "309          2          O00141  \n",
       "369          2          O00141  \n",
       "39           2          O00141  \n",
       "314          5          O00141  \n",
       "\n",
       "[5 rows x 24 columns]"
      ]
     },
     "execution_count": 18,
     "metadata": {},
     "output_type": "execute_result"
    }
   ],
   "source": [
    "test.head()"
   ]
  },
  {
   "cell_type": "code",
   "execution_count": 19,
   "id": "11b43df9-e93c-42ca-9b1b-1ec44aca0f4a",
   "metadata": {},
   "outputs": [
    {
     "data": {
      "text/plain": [
       "(185883, 24)"
      ]
     },
     "execution_count": 19,
     "metadata": {},
     "output_type": "execute_result"
    }
   ],
   "source": [
    "df.shape"
   ]
  },
  {
   "cell_type": "code",
   "execution_count": 20,
   "id": "6c2ea1e3-fe18-4a02-8d1c-a93bdb0e5886",
   "metadata": {},
   "outputs": [],
   "source": [
    "df_eval = df[~df.index.isin(test.index)]"
   ]
  },
  {
   "cell_type": "code",
   "execution_count": 21,
   "id": "040b7e6a-8937-4ffa-933a-14c38d6b73f3",
   "metadata": {},
   "outputs": [
    {
     "data": {
      "text/plain": [
       "(183383, 24)"
      ]
     },
     "execution_count": 21,
     "metadata": {},
     "output_type": "execute_result"
    }
   ],
   "source": [
    "df_eval.shape"
   ]
  },
  {
   "cell_type": "markdown",
   "id": "b9f28605-832d-48c0-a30e-d9fba434942b",
   "metadata": {},
   "source": [
    "### Get eval PSSMs"
   ]
  },
  {
   "cell_type": "code",
   "execution_count": 22,
   "id": "468129b9-1b5d-4338-8e69-f1e6a1627f69",
   "metadata": {},
   "outputs": [
    {
     "name": "stderr",
     "output_type": "stream",
     "text": [
      "100%|███████████████████████████████████████████████████████████████████████████| 333/333 [00:11<00:00, 30.25it/s]\n"
     ]
    }
   ],
   "source": [
    "pssms = get_cluster_pssms(df_eval,\n",
    "                          cluster_col = 'kinase_id',\n",
    "                          count_thr=None, # since we already filtered, we set None here\n",
    "                          valid_thr=None)"
   ]
  },
  {
   "cell_type": "code",
   "execution_count": 23,
   "id": "93196f93-ed27-46cb-ae4f-6991a2c89fee",
   "metadata": {},
   "outputs": [
    {
     "data": {
      "text/plain": [
       "(333, 943)"
      ]
     },
     "execution_count": 23,
     "metadata": {},
     "output_type": "execute_result"
    }
   ],
   "source": [
    "pssms.shape"
   ]
  },
  {
   "cell_type": "code",
   "execution_count": 24,
   "id": "cf207948-0d17-40fb-9f20-f522e58d802f",
   "metadata": {},
   "outputs": [
    {
     "name": "stderr",
     "output_type": "stream",
     "text": [
      "100%|███████████████████████████████████████████████████████████████████████████| 333/333 [00:11<00:00, 29.50it/s]\n"
     ]
    }
   ],
   "source": [
    "pssms_upper = get_cluster_pssms(df_eval,\n",
    "                                     seq_col='site_seq_upper',\n",
    "                          cluster_col = 'kinase_id',\n",
    "                          count_thr=None, # since we already filtered, we set None here\n",
    "                          valid_thr=None)"
   ]
  },
  {
   "cell_type": "markdown",
   "id": "e346fa6e-bbbe-4125-bf78-571e4564c084",
   "metadata": {},
   "source": [
    "### LO of eval PSSMs"
   ]
  },
  {
   "cell_type": "code",
   "execution_count": 25,
   "id": "67c21426-aa97-4cf7-99b4-d8e02ccac517",
   "metadata": {},
   "outputs": [],
   "source": [
    "LO = get_LO_all(pssms)"
   ]
  },
  {
   "cell_type": "code",
   "execution_count": 26,
   "id": "801bea57-da10-4e50-977d-54abd2a1dd61",
   "metadata": {},
   "outputs": [],
   "source": [
    "LO_upper = get_LO_all(pssms_upper,'STY_upper')"
   ]
  },
  {
   "cell_type": "code",
   "execution_count": 27,
   "id": "48feddac-2964-41a6-8a6f-419e010733fb",
   "metadata": {},
   "outputs": [
    {
     "data": {
      "text/plain": [
       "(333, 943)"
      ]
     },
     "execution_count": 27,
     "metadata": {},
     "output_type": "execute_result"
    }
   ],
   "source": [
    "LO.shape"
   ]
  },
  {
   "cell_type": "markdown",
   "id": "98666c87-6dd0-4ef9-8bfa-ea1ec20c7628",
   "metadata": {},
   "source": [
    "## Remove isoform and pseudo gene"
   ]
  },
  {
   "cell_type": "code",
   "execution_count": 28,
   "id": "2390e1ef-d630-4ceb-a781-d7e3b9675f33",
   "metadata": {},
   "outputs": [],
   "source": [
    "info= Data.get_kinase_info()"
   ]
  },
  {
   "cell_type": "code",
   "execution_count": 29,
   "id": "5ce2b307-4fac-467d-bf04-a5e435748399",
   "metadata": {},
   "outputs": [],
   "source": [
    "info = info[info.pseudo=='0'].copy()"
   ]
  },
  {
   "cell_type": "code",
   "execution_count": 30,
   "id": "a6581fcc-1c16-474a-96f5-224a45da578f",
   "metadata": {},
   "outputs": [],
   "source": [
    "info['id'] = info.uniprot+'_'+info.kinase"
   ]
  },
  {
   "cell_type": "code",
   "execution_count": 31,
   "id": "e44ab3c4-a17f-4db3-9857-f0acc9a4d608",
   "metadata": {},
   "outputs": [
    {
     "data": {
      "text/html": [
       "<div>\n",
       "<style scoped>\n",
       "    .dataframe tbody tr th:only-of-type {\n",
       "        vertical-align: middle;\n",
       "    }\n",
       "\n",
       "    .dataframe tbody tr th {\n",
       "        vertical-align: top;\n",
       "    }\n",
       "\n",
       "    .dataframe thead th {\n",
       "        text-align: right;\n",
       "    }\n",
       "</style>\n",
       "<table border=\"1\" class=\"dataframe\">\n",
       "  <thead>\n",
       "    <tr style=\"text-align: right;\">\n",
       "      <th></th>\n",
       "      <th>-20P</th>\n",
       "      <th>-20G</th>\n",
       "      <th>-20A</th>\n",
       "      <th>-20C</th>\n",
       "      <th>-20S</th>\n",
       "      <th>-20T</th>\n",
       "      <th>-20V</th>\n",
       "      <th>-20I</th>\n",
       "      <th>-20L</th>\n",
       "      <th>-20M</th>\n",
       "      <th>...</th>\n",
       "      <th>20H</th>\n",
       "      <th>20K</th>\n",
       "      <th>20R</th>\n",
       "      <th>20Q</th>\n",
       "      <th>20N</th>\n",
       "      <th>20D</th>\n",
       "      <th>20E</th>\n",
       "      <th>20pS</th>\n",
       "      <th>20pT</th>\n",
       "      <th>20pY</th>\n",
       "    </tr>\n",
       "  </thead>\n",
       "  <tbody>\n",
       "    <tr>\n",
       "      <th>P07948-2_LYN</th>\n",
       "      <td>-0.695061</td>\n",
       "      <td>0.248942</td>\n",
       "      <td>-0.181606</td>\n",
       "      <td>-0.523522</td>\n",
       "      <td>-0.241880</td>\n",
       "      <td>-0.087184</td>\n",
       "      <td>0.270835</td>\n",
       "      <td>0.248626</td>\n",
       "      <td>-0.177055</td>\n",
       "      <td>0.151905</td>\n",
       "      <td>...</td>\n",
       "      <td>-1.002663</td>\n",
       "      <td>0.187090</td>\n",
       "      <td>-0.131176</td>\n",
       "      <td>-0.477873</td>\n",
       "      <td>0.089392</td>\n",
       "      <td>-0.069890</td>\n",
       "      <td>0.272381</td>\n",
       "      <td>-0.624875</td>\n",
       "      <td>-0.293957</td>\n",
       "      <td>0.686397</td>\n",
       "    </tr>\n",
       "    <tr>\n",
       "      <th>O60566_BUB1B</th>\n",
       "      <td>-0.098063</td>\n",
       "      <td>0.177522</td>\n",
       "      <td>0.006417</td>\n",
       "      <td>-2.364642</td>\n",
       "      <td>-0.336759</td>\n",
       "      <td>-0.656228</td>\n",
       "      <td>0.622357</td>\n",
       "      <td>0.285512</td>\n",
       "      <td>-1.214575</td>\n",
       "      <td>-1.313708</td>\n",
       "      <td>...</td>\n",
       "      <td>0.538365</td>\n",
       "      <td>0.313082</td>\n",
       "      <td>-0.184508</td>\n",
       "      <td>-1.521805</td>\n",
       "      <td>0.314920</td>\n",
       "      <td>0.267606</td>\n",
       "      <td>0.993983</td>\n",
       "      <td>-0.586346</td>\n",
       "      <td>-0.015962</td>\n",
       "      <td>-0.647041</td>\n",
       "    </tr>\n",
       "    <tr>\n",
       "      <th>P05771-2_PKCB</th>\n",
       "      <td>-0.513296</td>\n",
       "      <td>0.082197</td>\n",
       "      <td>-0.419347</td>\n",
       "      <td>0.153007</td>\n",
       "      <td>0.387344</td>\n",
       "      <td>0.446387</td>\n",
       "      <td>1.033094</td>\n",
       "      <td>1.359558</td>\n",
       "      <td>-0.959957</td>\n",
       "      <td>-0.059090</td>\n",
       "      <td>...</td>\n",
       "      <td>1.086193</td>\n",
       "      <td>-0.296631</td>\n",
       "      <td>-0.264711</td>\n",
       "      <td>-1.710942</td>\n",
       "      <td>0.415289</td>\n",
       "      <td>0.443465</td>\n",
       "      <td>0.117313</td>\n",
       "      <td>0.283410</td>\n",
       "      <td>-0.205099</td>\n",
       "      <td>-0.099214</td>\n",
       "    </tr>\n",
       "    <tr>\n",
       "      <th>Q13976-2_PKG1</th>\n",
       "      <td>0.267160</td>\n",
       "      <td>-0.880855</td>\n",
       "      <td>0.326552</td>\n",
       "      <td>-20.552054</td>\n",
       "      <td>-0.980098</td>\n",
       "      <td>-0.599127</td>\n",
       "      <td>0.959565</td>\n",
       "      <td>-0.422922</td>\n",
       "      <td>-0.420509</td>\n",
       "      <td>-0.841570</td>\n",
       "      <td>...</td>\n",
       "      <td>0.565165</td>\n",
       "      <td>0.388792</td>\n",
       "      <td>0.076757</td>\n",
       "      <td>0.183066</td>\n",
       "      <td>-0.243242</td>\n",
       "      <td>-0.843097</td>\n",
       "      <td>-0.192211</td>\n",
       "      <td>0.440454</td>\n",
       "      <td>-1.311089</td>\n",
       "      <td>1.379757</td>\n",
       "    </tr>\n",
       "  </tbody>\n",
       "</table>\n",
       "<p>4 rows × 943 columns</p>\n",
       "</div>"
      ],
      "text/plain": [
       "                   -20P      -20G      -20A       -20C      -20S      -20T  \\\n",
       "P07948-2_LYN  -0.695061  0.248942 -0.181606  -0.523522 -0.241880 -0.087184   \n",
       "O60566_BUB1B  -0.098063  0.177522  0.006417  -2.364642 -0.336759 -0.656228   \n",
       "P05771-2_PKCB -0.513296  0.082197 -0.419347   0.153007  0.387344  0.446387   \n",
       "Q13976-2_PKG1  0.267160 -0.880855  0.326552 -20.552054 -0.980098 -0.599127   \n",
       "\n",
       "                   -20V      -20I      -20L      -20M  ...       20H  \\\n",
       "P07948-2_LYN   0.270835  0.248626 -0.177055  0.151905  ... -1.002663   \n",
       "O60566_BUB1B   0.622357  0.285512 -1.214575 -1.313708  ...  0.538365   \n",
       "P05771-2_PKCB  1.033094  1.359558 -0.959957 -0.059090  ...  1.086193   \n",
       "Q13976-2_PKG1  0.959565 -0.422922 -0.420509 -0.841570  ...  0.565165   \n",
       "\n",
       "                    20K       20R       20Q       20N       20D       20E  \\\n",
       "P07948-2_LYN   0.187090 -0.131176 -0.477873  0.089392 -0.069890  0.272381   \n",
       "O60566_BUB1B   0.313082 -0.184508 -1.521805  0.314920  0.267606  0.993983   \n",
       "P05771-2_PKCB -0.296631 -0.264711 -1.710942  0.415289  0.443465  0.117313   \n",
       "Q13976-2_PKG1  0.388792  0.076757  0.183066 -0.243242 -0.843097 -0.192211   \n",
       "\n",
       "                   20pS      20pT      20pY  \n",
       "P07948-2_LYN  -0.624875 -0.293957  0.686397  \n",
       "O60566_BUB1B  -0.586346 -0.015962 -0.647041  \n",
       "P05771-2_PKCB  0.283410 -0.205099 -0.099214  \n",
       "Q13976-2_PKG1  0.440454 -1.311089  1.379757  \n",
       "\n",
       "[4 rows x 943 columns]"
      ]
     },
     "execution_count": 31,
     "metadata": {},
     "output_type": "execute_result"
    }
   ],
   "source": [
    "LO[~LO.index.isin(info.id)]"
   ]
  },
  {
   "cell_type": "code",
   "execution_count": 32,
   "id": "fa1a30ec-089e-4812-b7be-bf2e3f2d61ff",
   "metadata": {},
   "outputs": [],
   "source": [
    "LO = LO[LO.index.isin(info.id)]\n",
    "LO_upper =LO_upper[LO_upper.index.isin(info.id)]"
   ]
  },
  {
   "cell_type": "code",
   "execution_count": 33,
   "id": "a9bcbb4a-f682-4622-bd68-c22845259350",
   "metadata": {},
   "outputs": [],
   "source": [
    "pssms= pssms[pssms.index.isin(info.id)]\n",
    "pssms_upper = pssms_upper[pssms_upper.index.isin(info.id)]"
   ]
  },
  {
   "cell_type": "code",
   "execution_count": 34,
   "id": "cbcf26c3-9bac-46f8-ae45-0013c0b8f36c",
   "metadata": {},
   "outputs": [
    {
     "data": {
      "text/plain": [
       "((329, 943), (329, 943))"
      ]
     },
     "execution_count": 34,
     "metadata": {},
     "output_type": "execute_result"
    }
   ],
   "source": [
    "LO.shape,pssms.shape"
   ]
  },
  {
   "cell_type": "code",
   "execution_count": 35,
   "id": "e3938046-028e-41ca-9dea-935436e36028",
   "metadata": {},
   "outputs": [],
   "source": [
    "pssms.to_parquet('out/CDDM_pssms_eval_psp_02.parquet')\n",
    "pssms_upper.to_parquet('out/CDDM_pssms_eval_upper_psp_02.parquet')\n",
    "\n",
    "LO.to_parquet('out/CDDM_pssms_LO_eval_psp_02.parquet')\n",
    "LO_upper.to_parquet('out/CDDM_pssms_LO_eval_upper_psp_02.parquet')"
   ]
  },
  {
   "cell_type": "code",
   "execution_count": null,
   "id": "ec9b1cee-8ec5-46c7-b21a-1097febe4f46",
   "metadata": {},
   "outputs": [],
   "source": []
  }
 ],
 "metadata": {
  "kernelspec": {
   "display_name": "Python 3 (ipykernel)",
   "language": "python",
   "name": "python3"
  },
  "language_info": {
   "codemirror_mode": {
    "name": "ipython",
    "version": 3
   },
   "file_extension": ".py",
   "mimetype": "text/x-python",
   "name": "python",
   "nbconvert_exporter": "python",
   "pygments_lexer": "ipython3",
   "version": "3.13.2"
  },
  "widgets": {
   "application/vnd.jupyter.widget-state+json": {
    "state": {},
    "version_major": 2,
    "version_minor": 0
   }
  }
 },
 "nbformat": 4,
 "nbformat_minor": 5
}
