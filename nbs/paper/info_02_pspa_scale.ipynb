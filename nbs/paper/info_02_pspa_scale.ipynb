{
 "cells": [
  {
   "cell_type": "raw",
   "id": "97d22d6f-9c67-4464-aea7-46fb19101665",
   "metadata": {},
   "source": [
    "---\n",
    "skip_showdoc: true\n",
    "skip_exec: true\n",
    "---"
   ]
  },
  {
   "cell_type": "markdown",
   "id": "2271b7ea-2595-4587-89c7-634f3b054e5a",
   "metadata": {},
   "source": [
    "# PSPA scaled data\n",
    "> Normalize so that each position sum to 1"
   ]
  },
  {
   "cell_type": "code",
   "execution_count": null,
   "id": "ef787283-64af-4048-abdb-c6fbf9d3fb2f",
   "metadata": {},
   "outputs": [],
   "source": [
    "from katlas.core import *\n",
    "import pandas as pd"
   ]
  },
  {
   "cell_type": "code",
   "execution_count": null,
   "id": "1bf4639f-1b0e-4bad-9070-22c6ddb50635",
   "metadata": {},
   "outputs": [],
   "source": [
    "pspa = Data.get_pspa_all_norm().dropna(axis=1)"
   ]
  },
  {
   "cell_type": "code",
   "execution_count": null,
   "id": "3ffec353-c2ff-4dcc-8087-60089862b9e6",
   "metadata": {},
   "outputs": [],
   "source": [
    "def normalize_pspa_row(r): return flatten_pssm(clean_zero_normalize(recover_pssm(r)))"
   ]
  },
  {
   "cell_type": "code",
   "execution_count": null,
   "id": "9ca1b9a7-5374-4f03-a40e-74f75a4e4708",
   "metadata": {},
   "outputs": [],
   "source": [
    "pspa_scale = pspa.apply(lambda r: pd.Series(normalize_pspa_row(r)),axis=1)"
   ]
  },
  {
   "cell_type": "code",
   "execution_count": null,
   "id": "20d2d75f-5c4a-4d47-b798-07dadb9c254e",
   "metadata": {},
   "outputs": [],
   "source": [
    "# pspa_scale.to_parquet('~/katlas/dataset/PSPA/pspa_all_scale.parquet')"
   ]
  }
 ],
 "metadata": {
  "kernelspec": {
   "display_name": "python3",
   "language": "python",
   "name": "python3"
  }
 },
 "nbformat": 4,
 "nbformat_minor": 5
}
