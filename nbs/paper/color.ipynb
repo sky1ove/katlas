{
 "cells": [
  {
   "cell_type": "markdown",
   "id": "a1623908-7866-4811-af6b-0de5a5450f2f",
   "metadata": {},
   "source": [
    "# Color"
   ]
  },
  {
   "cell_type": "code",
   "execution_count": 4,
   "id": "91691e55-b82c-40d0-b377-98347023eb98",
   "metadata": {},
   "outputs": [],
   "source": [
    "from katlas.plot import *"
   ]
  },
  {
   "cell_type": "markdown",
   "id": "964b3a8e-1428-4bbd-8ab5-b559d2d84796",
   "metadata": {},
   "source": [
    "## STY color"
   ]
  },
  {
   "cell_type": "code",
   "execution_count": 5,
   "id": "609f2696-156a-4cad-9c33-37fee8cba679",
   "metadata": {},
   "outputs": [
    {
     "data": {
      "text/plain": [
       "{'S': (0.12156862745098039, 0.4666666666666667, 0.7058823529411765),\n",
       " 'T': (0.6823529411764706, 0.7803921568627451, 0.9098039215686274),\n",
       " 'Y': (1.0, 0.4980392156862745, 0.054901960784313725)}"
      ]
     },
     "execution_count": 5,
     "metadata": {},
     "output_type": "execute_result"
    }
   ],
   "source": [
    "get_color_dict(['S','T','Y'],'tab20')"
   ]
  },
  {
   "cell_type": "markdown",
   "id": "9e1f5a3f-84b4-4bff-bfa8-9a573ec68b7b",
   "metadata": {},
   "source": [
    "## Group color"
   ]
  },
  {
   "cell_type": "code",
   "execution_count": 6,
   "id": "068826a6-515c-46b3-b751-89f2deefbd99",
   "metadata": {},
   "outputs": [
    {
     "data": {
      "text/plain": [
       "{'CMGC': (0.12156862745098039, 0.4666666666666667, 0.7058823529411765),\n",
       " 'AGC': (0.6823529411764706, 0.7803921568627451, 0.9098039215686274),\n",
       " 'TK': (1.0, 0.4980392156862745, 0.054901960784313725),\n",
       " 'TKL': (1.0, 0.7333333333333333, 0.47058823529411764),\n",
       " 'CAMK': (0.17254901960784313, 0.6274509803921569, 0.17254901960784313),\n",
       " 'STE': (0.596078431372549, 0.8745098039215686, 0.5411764705882353),\n",
       " 'CK1': (0.8392156862745098, 0.15294117647058825, 0.1568627450980392),\n",
       " 'NEK': (1.0, 0.596078431372549, 0.5882352941176471),\n",
       " 'Atypical': (0.5803921568627451, 0.403921568627451, 0.7411764705882353),\n",
       " 'Other': (0.7725490196078432, 0.6901960784313725, 0.8352941176470589),\n",
       " 'RGC': (0.5490196078431373, 0.33725490196078434, 0.29411764705882354)}"
      ]
     },
     "execution_count": 6,
     "metadata": {},
     "output_type": "execute_result"
    }
   ],
   "source": [
    "group_color=get_color_dict(\n",
    "            ['CMGC','AGC', # blue\n",
    "             'TK','TKL', # orange\n",
    "             'CAMK','STE', # green\n",
    "             'CK1', 'NEK', # red\n",
    "             'Atypical','Other', # purple\n",
    "             'RGC'\n",
    "            ]\n",
    ")\n",
    "group_color"
   ]
  },
  {
   "cell_type": "code",
   "execution_count": null,
   "id": "6e436d0e-10ea-4231-83bd-58e9f61a18cf",
   "metadata": {},
   "outputs": [],
   "source": []
  }
 ],
 "metadata": {
  "kernelspec": {
   "display_name": "Python 3 (ipykernel)",
   "language": "python",
   "name": "python3"
  },
  "language_info": {
   "codemirror_mode": {
    "name": "ipython",
    "version": 3
   },
   "file_extension": ".py",
   "mimetype": "text/x-python",
   "name": "python",
   "nbconvert_exporter": "python",
   "pygments_lexer": "ipython3",
   "version": "3.12.3"
  }
 },
 "nbformat": 4,
 "nbformat_minor": 5
}
