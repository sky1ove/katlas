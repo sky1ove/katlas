{
 "cells": [
  {
   "cell_type": "markdown",
   "id": "677bc429-d93d-44be-a2fc-01bf157d97f8",
   "metadata": {},
   "source": [
    "# Get kinase-specific PSSMs"
   ]
  },
  {
   "cell_type": "code",
   "execution_count": 1,
   "id": "781c9925-435d-4f6e-9c34-4aba02b111b2",
   "metadata": {},
   "outputs": [],
   "source": [
    "from katlas.core import *\n",
    "import pandas as pd"
   ]
  },
  {
   "cell_type": "code",
   "execution_count": 2,
   "id": "7c6420f4-d431-4f5f-adf1-fe1243868b5c",
   "metadata": {},
   "outputs": [
    {
     "name": "stdout",
     "output_type": "stream",
     "text": [
      "CPU times: user 871 ms, sys: 369 ms, total: 1.24 s\n",
      "Wall time: 5.33 s\n"
     ]
    }
   ],
   "source": [
    "%%time\n",
    "df = Data.get_ks_dataset()"
   ]
  },
  {
   "cell_type": "code",
   "execution_count": 3,
   "id": "156d7e96-48dc-4de8-a213-50de14ee8ed1",
   "metadata": {},
   "outputs": [],
   "source": [
    "df['kinase_id'] = df['kinase_uniprot'] + '_' + df['kinase_protein'].str.split().str[0]"
   ]
  },
  {
   "cell_type": "code",
   "execution_count": 4,
   "id": "1957e6a2-28e8-4520-8fdb-d8e35fcc1e79",
   "metadata": {},
   "outputs": [],
   "source": [
    "cnt = df['kinase_id'].value_counts()"
   ]
  },
  {
   "cell_type": "code",
   "execution_count": 5,
   "id": "fd75a8fd-dcc7-495d-bd43-4801b48459ff",
   "metadata": {},
   "outputs": [
    {
     "data": {
      "text/plain": [
       "Index(['P12931_SRC', 'P29320_EPHA3', 'P07332_FES', 'Q16288_NTRK3',\n",
       "       'Q9UM73_ALK', 'P00519_ABL1', 'P36888_FLT3', 'P29322_EPHA8',\n",
       "       'P29323_EPHB2', 'P54762_EPHB1',\n",
       "       ...\n",
       "       'P35626_GRK3', 'Q99640_PKMYT1', 'Q6P2M8_CAMK1B', 'O00311_CDC7',\n",
       "       'Q9NYV4_CDK12', 'Q15746_SMMLCK', 'Q01973_ROR1', 'P15056_BRAF',\n",
       "       'Q6P0Q8_MAST2', 'O14976_GAK'],\n",
       "      dtype='object', name='kinase_id', length=333)"
      ]
     },
     "execution_count": 5,
     "metadata": {},
     "output_type": "execute_result"
    }
   ],
   "source": [
    "idx = cnt[cnt>=40].index\n",
    "idx"
   ]
  },
  {
   "cell_type": "code",
   "execution_count": 6,
   "id": "2f78c391-e5aa-4d4b-a5a7-1841e0fb5799",
   "metadata": {},
   "outputs": [
    {
     "data": {
      "text/plain": [
       "(187066, 22)"
      ]
     },
     "execution_count": 6,
     "metadata": {},
     "output_type": "execute_result"
    }
   ],
   "source": [
    "df.shape"
   ]
  },
  {
   "cell_type": "code",
   "execution_count": 7,
   "id": "9bc1233b-c892-4fc7-a61f-4ce9ecac4e5d",
   "metadata": {},
   "outputs": [],
   "source": [
    "df = df[df['kinase_id'].isin(idx)].copy()"
   ]
  },
  {
   "cell_type": "code",
   "execution_count": 8,
   "id": "71f616fc-85d1-4ca1-9d67-f34be781f657",
   "metadata": {},
   "outputs": [],
   "source": [
    "df['site_seq_upper'] = df.site_seq.str.upper()"
   ]
  },
  {
   "cell_type": "code",
   "execution_count": 9,
   "id": "d893d193-d56b-4900-9e5b-01c926ffb8c9",
   "metadata": {},
   "outputs": [],
   "source": [
    "test = df[df.source.str.contains('PSP')].copy()"
   ]
  },
  {
   "cell_type": "code",
   "execution_count": 10,
   "id": "e37c2305-cd25-4f80-8617-9b0b3ce77674",
   "metadata": {},
   "outputs": [],
   "source": [
    "df_eval = df[~df.source.str.contains('PSP')].copy()"
   ]
  },
  {
   "cell_type": "markdown",
   "id": "b9f28605-832d-48c0-a30e-d9fba434942b",
   "metadata": {},
   "source": [
    "### Get eval PSSMs"
   ]
  },
  {
   "cell_type": "code",
   "execution_count": 11,
   "id": "468129b9-1b5d-4338-8e69-f1e6a1627f69",
   "metadata": {},
   "outputs": [
    {
     "name": "stderr",
     "output_type": "stream",
     "text": [
      "100%|███████████████████████████████████████████████████████████████████████████| 332/332 [00:10<00:00, 32.91it/s]\n"
     ]
    }
   ],
   "source": [
    "pssms = get_cluster_pssms(df_eval,\n",
    "                          cluster_col = 'kinase_id',\n",
    "                          count_thr=None, # since we already filtered, we set None here\n",
    "                          valid_thr=None)"
   ]
  },
  {
   "cell_type": "code",
   "execution_count": 12,
   "id": "494ece64-d065-43ba-9087-47a3809e60f0",
   "metadata": {},
   "outputs": [
    {
     "data": {
      "text/plain": [
       "(332, 943)"
      ]
     },
     "execution_count": 12,
     "metadata": {},
     "output_type": "execute_result"
    }
   ],
   "source": [
    "pssms.shape"
   ]
  },
  {
   "cell_type": "code",
   "execution_count": 13,
   "id": "cf207948-0d17-40fb-9f20-f522e58d802f",
   "metadata": {},
   "outputs": [
    {
     "name": "stderr",
     "output_type": "stream",
     "text": [
      "100%|███████████████████████████████████████████████████████████████████████████| 332/332 [00:11<00:00, 29.87it/s]\n"
     ]
    }
   ],
   "source": [
    "pssms_upper = get_cluster_pssms(df_eval,\n",
    "                                     seq_col='site_seq_upper',\n",
    "                          cluster_col = 'kinase_id',\n",
    "                          count_thr=None, # since we already filtered, we set None here\n",
    "                          valid_thr=None)"
   ]
  },
  {
   "cell_type": "markdown",
   "id": "e346fa6e-bbbe-4125-bf78-571e4564c084",
   "metadata": {},
   "source": [
    "### LO of eval PSSMs"
   ]
  },
  {
   "cell_type": "code",
   "execution_count": 14,
   "id": "1342ff94-a36b-40f1-945a-9fcc3c86d065",
   "metadata": {},
   "outputs": [],
   "source": [
    "def get_LO_all(pssms,site_type='STY'):\n",
    "    out=[]\n",
    "    for idx, flat_pssm in pssms.iterrows():\n",
    "        out.append(flatten_pssm(get_pssm_LO_flat(flat_pssm,site_type)))\n",
    "    return pd.DataFrame(out,index=pssms.index)"
   ]
  },
  {
   "cell_type": "code",
   "execution_count": 15,
   "id": "67c21426-aa97-4cf7-99b4-d8e02ccac517",
   "metadata": {},
   "outputs": [],
   "source": [
    "LO = get_LO_all(pssms)"
   ]
  },
  {
   "cell_type": "code",
   "execution_count": 19,
   "id": "d6a16da2-7ac7-4edc-907e-d4d7c5258dc3",
   "metadata": {},
   "outputs": [
    {
     "data": {
      "text/plain": [
       "(332, 943)"
      ]
     },
     "execution_count": 19,
     "metadata": {},
     "output_type": "execute_result"
    }
   ],
   "source": [
    "LO.shape"
   ]
  },
  {
   "cell_type": "code",
   "execution_count": 20,
   "id": "801bea57-da10-4e50-977d-54abd2a1dd61",
   "metadata": {},
   "outputs": [],
   "source": [
    "LO_upper = get_LO_all(pssms_upper,'STY_upper')"
   ]
  },
  {
   "cell_type": "code",
   "execution_count": 21,
   "id": "a6d1016d-626c-4545-84e6-661479f154c4",
   "metadata": {},
   "outputs": [
    {
     "data": {
      "text/plain": [
       "(332, 943)"
      ]
     },
     "execution_count": 21,
     "metadata": {},
     "output_type": "execute_result"
    }
   ],
   "source": [
    "LO_upper.shape"
   ]
  },
  {
   "cell_type": "markdown",
   "id": "98666c87-6dd0-4ef9-8bfa-ea1ec20c7628",
   "metadata": {},
   "source": [
    "## Drop isoform and pseudokinase"
   ]
  },
  {
   "cell_type": "code",
   "execution_count": 22,
   "id": "5cc7fc1e-dc8f-453e-8c35-dea8a1d5a7ec",
   "metadata": {},
   "outputs": [],
   "source": [
    "info= Data.get_kinase_info()"
   ]
  },
  {
   "cell_type": "code",
   "execution_count": 23,
   "id": "c33d4ea5-39c8-4bb6-8525-6f238e0a826a",
   "metadata": {},
   "outputs": [],
   "source": [
    "info = info[info.pseudo=='0'].copy()"
   ]
  },
  {
   "cell_type": "code",
   "execution_count": 24,
   "id": "e072a552-8ea4-416d-9d93-6850c8018877",
   "metadata": {},
   "outputs": [],
   "source": [
    "info['id'] = info.uniprot+'_'+info.kinase"
   ]
  },
  {
   "cell_type": "code",
   "execution_count": 25,
   "id": "9f8103e3-9453-4955-bfc0-8594b7db2765",
   "metadata": {},
   "outputs": [
    {
     "data": {
      "text/html": [
       "<div>\n",
       "<style scoped>\n",
       "    .dataframe tbody tr th:only-of-type {\n",
       "        vertical-align: middle;\n",
       "    }\n",
       "\n",
       "    .dataframe tbody tr th {\n",
       "        vertical-align: top;\n",
       "    }\n",
       "\n",
       "    .dataframe thead th {\n",
       "        text-align: right;\n",
       "    }\n",
       "</style>\n",
       "<table border=\"1\" class=\"dataframe\">\n",
       "  <thead>\n",
       "    <tr style=\"text-align: right;\">\n",
       "      <th></th>\n",
       "      <th>-20P</th>\n",
       "      <th>-20G</th>\n",
       "      <th>-20A</th>\n",
       "      <th>-20C</th>\n",
       "      <th>-20S</th>\n",
       "      <th>-20T</th>\n",
       "      <th>-20V</th>\n",
       "      <th>-20I</th>\n",
       "      <th>-20L</th>\n",
       "      <th>-20M</th>\n",
       "      <th>...</th>\n",
       "      <th>20H</th>\n",
       "      <th>20K</th>\n",
       "      <th>20R</th>\n",
       "      <th>20Q</th>\n",
       "      <th>20N</th>\n",
       "      <th>20D</th>\n",
       "      <th>20E</th>\n",
       "      <th>20pS</th>\n",
       "      <th>20pT</th>\n",
       "      <th>20pY</th>\n",
       "    </tr>\n",
       "  </thead>\n",
       "  <tbody>\n",
       "    <tr>\n",
       "      <th>P07948-2_LYN</th>\n",
       "      <td>-0.695061</td>\n",
       "      <td>0.248942</td>\n",
       "      <td>-0.181606</td>\n",
       "      <td>-0.523522</td>\n",
       "      <td>-0.241880</td>\n",
       "      <td>-0.087184</td>\n",
       "      <td>0.270835</td>\n",
       "      <td>0.248626</td>\n",
       "      <td>-0.177055</td>\n",
       "      <td>0.151905</td>\n",
       "      <td>...</td>\n",
       "      <td>-1.002663</td>\n",
       "      <td>0.187090</td>\n",
       "      <td>-0.131176</td>\n",
       "      <td>-0.477873</td>\n",
       "      <td>0.089392</td>\n",
       "      <td>-0.069890</td>\n",
       "      <td>0.272381</td>\n",
       "      <td>-0.624875</td>\n",
       "      <td>-0.293957</td>\n",
       "      <td>0.686397</td>\n",
       "    </tr>\n",
       "    <tr>\n",
       "      <th>O60566_BUB1B</th>\n",
       "      <td>-0.098063</td>\n",
       "      <td>0.177522</td>\n",
       "      <td>0.006417</td>\n",
       "      <td>-2.364642</td>\n",
       "      <td>-0.336759</td>\n",
       "      <td>-0.656228</td>\n",
       "      <td>0.622357</td>\n",
       "      <td>0.285512</td>\n",
       "      <td>-1.214575</td>\n",
       "      <td>-1.313708</td>\n",
       "      <td>...</td>\n",
       "      <td>0.538365</td>\n",
       "      <td>0.313082</td>\n",
       "      <td>-0.184508</td>\n",
       "      <td>-1.521805</td>\n",
       "      <td>0.314920</td>\n",
       "      <td>0.267606</td>\n",
       "      <td>0.993983</td>\n",
       "      <td>-0.586346</td>\n",
       "      <td>-0.015962</td>\n",
       "      <td>-0.647041</td>\n",
       "    </tr>\n",
       "    <tr>\n",
       "      <th>P05771-2_PKCB</th>\n",
       "      <td>-0.513296</td>\n",
       "      <td>0.082197</td>\n",
       "      <td>-0.419347</td>\n",
       "      <td>0.153007</td>\n",
       "      <td>0.387344</td>\n",
       "      <td>0.446387</td>\n",
       "      <td>1.033094</td>\n",
       "      <td>1.359558</td>\n",
       "      <td>-0.959957</td>\n",
       "      <td>-0.059090</td>\n",
       "      <td>...</td>\n",
       "      <td>1.086193</td>\n",
       "      <td>-0.296631</td>\n",
       "      <td>-0.264711</td>\n",
       "      <td>-1.710942</td>\n",
       "      <td>0.415289</td>\n",
       "      <td>0.443465</td>\n",
       "      <td>0.117313</td>\n",
       "      <td>0.283410</td>\n",
       "      <td>-0.205099</td>\n",
       "      <td>-0.099214</td>\n",
       "    </tr>\n",
       "    <tr>\n",
       "      <th>Q13976-2_PKG1</th>\n",
       "      <td>0.267160</td>\n",
       "      <td>-0.880855</td>\n",
       "      <td>0.326552</td>\n",
       "      <td>-20.552054</td>\n",
       "      <td>-0.980098</td>\n",
       "      <td>-0.599127</td>\n",
       "      <td>0.959565</td>\n",
       "      <td>-0.422922</td>\n",
       "      <td>-0.420509</td>\n",
       "      <td>-0.841570</td>\n",
       "      <td>...</td>\n",
       "      <td>0.565165</td>\n",
       "      <td>0.388792</td>\n",
       "      <td>0.076757</td>\n",
       "      <td>0.183066</td>\n",
       "      <td>-0.243242</td>\n",
       "      <td>-0.843097</td>\n",
       "      <td>-0.192211</td>\n",
       "      <td>0.440454</td>\n",
       "      <td>-1.311089</td>\n",
       "      <td>1.379757</td>\n",
       "    </tr>\n",
       "  </tbody>\n",
       "</table>\n",
       "<p>4 rows × 943 columns</p>\n",
       "</div>"
      ],
      "text/plain": [
       "                   -20P      -20G      -20A       -20C      -20S      -20T  \\\n",
       "P07948-2_LYN  -0.695061  0.248942 -0.181606  -0.523522 -0.241880 -0.087184   \n",
       "O60566_BUB1B  -0.098063  0.177522  0.006417  -2.364642 -0.336759 -0.656228   \n",
       "P05771-2_PKCB -0.513296  0.082197 -0.419347   0.153007  0.387344  0.446387   \n",
       "Q13976-2_PKG1  0.267160 -0.880855  0.326552 -20.552054 -0.980098 -0.599127   \n",
       "\n",
       "                   -20V      -20I      -20L      -20M  ...       20H  \\\n",
       "P07948-2_LYN   0.270835  0.248626 -0.177055  0.151905  ... -1.002663   \n",
       "O60566_BUB1B   0.622357  0.285512 -1.214575 -1.313708  ...  0.538365   \n",
       "P05771-2_PKCB  1.033094  1.359558 -0.959957 -0.059090  ...  1.086193   \n",
       "Q13976-2_PKG1  0.959565 -0.422922 -0.420509 -0.841570  ...  0.565165   \n",
       "\n",
       "                    20K       20R       20Q       20N       20D       20E  \\\n",
       "P07948-2_LYN   0.187090 -0.131176 -0.477873  0.089392 -0.069890  0.272381   \n",
       "O60566_BUB1B   0.313082 -0.184508 -1.521805  0.314920  0.267606  0.993983   \n",
       "P05771-2_PKCB -0.296631 -0.264711 -1.710942  0.415289  0.443465  0.117313   \n",
       "Q13976-2_PKG1  0.388792  0.076757  0.183066 -0.243242 -0.843097 -0.192211   \n",
       "\n",
       "                   20pS      20pT      20pY  \n",
       "P07948-2_LYN  -0.624875 -0.293957  0.686397  \n",
       "O60566_BUB1B  -0.586346 -0.015962 -0.647041  \n",
       "P05771-2_PKCB  0.283410 -0.205099 -0.099214  \n",
       "Q13976-2_PKG1  0.440454 -1.311089  1.379757  \n",
       "\n",
       "[4 rows x 943 columns]"
      ]
     },
     "execution_count": 25,
     "metadata": {},
     "output_type": "execute_result"
    }
   ],
   "source": [
    "LO[~LO.index.isin(info.id)]"
   ]
  },
  {
   "cell_type": "code",
   "execution_count": 26,
   "id": "33dc20b3-733b-4db3-be8b-f7e702f5c943",
   "metadata": {},
   "outputs": [],
   "source": [
    "LO = LO[LO.index.isin(info.id)]\n",
    "LO_upper =LO_upper[LO_upper.index.isin(info.id)]"
   ]
  },
  {
   "cell_type": "code",
   "execution_count": 27,
   "id": "7e905cbd-8eec-46f5-b30c-0ee6c4fa6d23",
   "metadata": {},
   "outputs": [],
   "source": [
    "pssms= pssms[pssms.index.isin(info.id)]\n",
    "pssms_upper = pssms_upper[pssms_upper.index.isin(info.id)]"
   ]
  },
  {
   "cell_type": "code",
   "execution_count": 28,
   "id": "37f3d855-acd8-4c2c-af38-1922830c1ea5",
   "metadata": {},
   "outputs": [
    {
     "data": {
      "text/plain": [
       "((328, 943), (328, 943))"
      ]
     },
     "execution_count": 28,
     "metadata": {},
     "output_type": "execute_result"
    }
   ],
   "source": [
    "LO.shape,pssms.shape"
   ]
  },
  {
   "cell_type": "code",
   "execution_count": 30,
   "id": "48f251b2-0f66-47ce-96e9-d186755f0c9c",
   "metadata": {},
   "outputs": [],
   "source": [
    "pssms.to_parquet('out/CDDM_pssms_eval_no_psp.parquet')\n",
    "pssms_upper.to_parquet('out/CDDM_pssms_eval_upper_no_psp.parquet')\n",
    "\n",
    "LO.to_parquet('out/CDDM_pssms_LO_eval_no_psp.parquet')\n",
    "LO_upper.to_parquet('out/CDDM_pssms_LO_eval_upper_no_psp.parquet')"
   ]
  },
  {
   "cell_type": "code",
   "execution_count": null,
   "id": "3d86c1cc-2717-43c7-8467-8250344bc6bd",
   "metadata": {},
   "outputs": [],
   "source": []
  }
 ],
 "metadata": {
  "kernelspec": {
   "display_name": "Python 3 (ipykernel)",
   "language": "python",
   "name": "python3"
  },
  "language_info": {
   "codemirror_mode": {
    "name": "ipython",
    "version": 3
   },
   "file_extension": ".py",
   "mimetype": "text/x-python",
   "name": "python",
   "nbconvert_exporter": "python",
   "pygments_lexer": "ipython3",
   "version": "3.12.3"
  },
  "widgets": {
   "application/vnd.jupyter.widget-state+json": {
    "state": {},
    "version_major": 2,
    "version_minor": 0
   }
  }
 },
 "nbformat": 4,
 "nbformat_minor": 5
}
