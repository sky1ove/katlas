{
 "cells": [
  {
   "cell_type": "raw",
   "id": "bcdebd45-2348-4c7a-9c79-fc91a13e046d",
   "metadata": {},
   "source": [
    "---\n",
    "skip_showdoc: true\n",
    "skip_exec: true\n",
    "---"
   ]
  },
  {
   "cell_type": "markdown",
   "id": "3fd514e5",
   "metadata": {},
   "source": [
    "# Preprocess kinase-substrate datasets\n",
    "\n",
    ">sequence mapping and cleaning"
   ]
  },
  {
   "cell_type": "markdown",
   "id": "846f1f77",
   "metadata": {},
   "source": [
    "## Motif"
   ]
  },
  {
   "cell_type": "markdown",
   "id": "7630fc21",
   "metadata": {},
   "source": [
    "Poll [Sugiyama & Douglass]: https://biosignaling.biomedcentral.com/articles/10.1186/s12964-023-01436-2\n",
    "\n",
    "\n",
    "\n",
    "Poll web motif: https://esbl.nhlbi.nih.gov/Databases/Kinase_Logos/KinaseTree.html; https://esbl.nhlbi.nih.gov/Databases/Kinase_Logos/GeneSymbol.html"
   ]
  },
  {
   "cell_type": "markdown",
   "id": "ac5fdae4",
   "metadata": {},
   "source": [
    "Sugiyama: https://pmc.ncbi.nlm.nih.gov/articles/PMC6642169/\n",
    "\n",
    "\n",
    "Douglass: https://journals.physiology.org/doi/full/10.1152/ajpcell.00166.2012"
   ]
  },
  {
   "cell_type": "markdown",
   "id": "cd9f79d6",
   "metadata": {},
   "source": [
    "RegPhos: Supplementary Table S4: motifs grouped by kinase family"
   ]
  },
  {
   "cell_type": "markdown",
   "id": "98568865",
   "metadata": {},
   "source": [
    "PhosphoNetwork, logos of 300 motifs: https://pmc.ncbi.nlm.nih.gov/articles/PMC3658267/; web app: https://phosphonetworks.org/"
   ]
  },
  {
   "cell_type": "markdown",
   "id": "d23a8afc",
   "metadata": {},
   "source": [
    "GPS: https://gps.biocuckoo.cn/links.php#l1"
   ]
  },
  {
   "cell_type": "markdown",
   "id": "8dedce72",
   "metadata": {},
   "source": [
    "## Review of database"
   ]
  },
  {
   "cell_type": "markdown",
   "id": "16c9c6e9",
   "metadata": {},
   "source": [
    "Wilson, AACR cancer research: https://aacrjournals.org/cancerres/article/78/1/15/625062/New-Perspectives-Opportunities-and-Challenges-in\n"
   ]
  },
  {
   "cell_type": "markdown",
   "id": "ebddf27d",
   "metadata": {},
   "source": [
    "GPS 6.0, List of database: https://gps.biocuckoo.cn/links.php\n",
    "\n",
    "paper: https://academic.oup.com/nar/article/51/W1/W243/7157529\n"
   ]
  },
  {
   "cell_type": "markdown",
   "id": "18cfbcbe",
   "metadata": {},
   "source": [
    "phospho.ELM links: http://phospho.elm.eu.org/links.html"
   ]
  },
  {
   "cell_type": "markdown",
   "id": "33b2ab4e",
   "metadata": {},
   "source": [
    "GPS, https://gps.biocuckoo.cn/links.php#l1"
   ]
  },
  {
   "cell_type": "markdown",
   "id": "e3ea8529",
   "metadata": {},
   "source": [
    "## Set up"
   ]
  },
  {
   "cell_type": "code",
   "execution_count": null,
   "id": "cf1fd43e",
   "metadata": {},
   "outputs": [],
   "source": [
    "from katlas.data import *\n",
    "import pandas as pd"
   ]
  },
  {
   "cell_type": "code",
   "execution_count": null,
   "id": "1da757de",
   "metadata": {},
   "outputs": [],
   "source": [
    "def map_substrate(idmapping_fname, ori_df, sub_col,remove_nonhuman=True):\n",
    "    \"Map uniprot id with uniprot info\"\n",
    "\n",
    "    substrate_id = pd.read_excel(idmapping_fname)\n",
    "    substrate_id = substrate_id.drop_duplicates('From')\n",
    "    substrate_id = substrate_id[['From', 'Entry', 'Gene Names', 'Sequence','Organism']]\n",
    "    ori_df = ori_df.copy()\n",
    "\n",
    "    # prevent name conflict\n",
    "    if sub_col == 'substrate_uniprot':\n",
    "        sub_col = 'substrate_uniprot_tmp'\n",
    "        ori_df = ori_df.rename(columns={'substrate_uniprot':'substrate_uniprot_tmp'})\n",
    "\n",
    "    substrate_id.columns = [sub_col, 'substrate_uniprot', 'substrate_genes', 'substrate_sequence','substrate_species']\n",
    "\n",
    "    print('Shape before processing', ori_df.shape)\n",
    "\n",
    "    ori_df = ori_df.merge(substrate_id, on=sub_col)\n",
    "\n",
    "    print('Species counts:',ori_df.substrate_species.value_counts())\n",
    "\n",
    "    if remove_nonhuman:\n",
    "        print('Removing non-human substrates')\n",
    "        ori_df = ori_df[ori_df.substrate_species=='Homo sapiens (Human)']\n",
    "\n",
    "    ori_df = ori_df.drop(columns=[sub_col])  # Drop temp column after merging\n",
    "    ori_df = ori_df.dropna(subset=['substrate_sequence'])\n",
    "    print('Shape after processing', ori_df.shape)\n",
    "\n",
    "    return ori_df.reset_index(drop=True)"
   ]
  },
  {
   "cell_type": "code",
   "execution_count": null,
   "id": "a52c47ed",
   "metadata": {},
   "outputs": [],
   "source": [
    "# kinase_uniprot=pd.read_excel('raw/uniprot_human_keyword_kinase.xlsx',engine=\"openpyxl\")\n",
    "kinase_uniprot = Data.get_kinase_uniprot()"
   ]
  },
  {
   "cell_type": "code",
   "execution_count": null,
   "id": "fcf47d68-847f-4e4e-bc06-197734bbe6d3",
   "metadata": {},
   "outputs": [
    {
     "data": {
      "text/html": [
       "<div>\n",
       "<style scoped>\n",
       "    .dataframe tbody tr th:only-of-type {\n",
       "        vertical-align: middle;\n",
       "    }\n",
       "\n",
       "    .dataframe tbody tr th {\n",
       "        vertical-align: top;\n",
       "    }\n",
       "\n",
       "    .dataframe thead th {\n",
       "        text-align: right;\n",
       "    }\n",
       "</style>\n",
       "<table border=\"1\" class=\"dataframe\">\n",
       "  <thead>\n",
       "    <tr style=\"text-align: right;\">\n",
       "      <th></th>\n",
       "      <th>Entry</th>\n",
       "      <th>Entry Name</th>\n",
       "      <th>Protein names</th>\n",
       "      <th>Gene Names</th>\n",
       "      <th>uniprot_keyword_kinase</th>\n",
       "      <th>on_tree</th>\n",
       "      <th>Organism</th>\n",
       "      <th>Keywords</th>\n",
       "      <th>Sequence</th>\n",
       "    </tr>\n",
       "  </thead>\n",
       "  <tbody>\n",
       "    <tr>\n",
       "      <th>0</th>\n",
       "      <td>A2RU49</td>\n",
       "      <td>HYKK_HUMAN</td>\n",
       "      <td>Hydroxylysine kinase (5-hydroxy-L-lysine kinas...</td>\n",
       "      <td>HYKK AGPHD1</td>\n",
       "      <td>1</td>\n",
       "      <td>0</td>\n",
       "      <td>Homo sapiens (Human)</td>\n",
       "      <td>Alternative splicing;Cytoplasm;Kinase;Proteomi...</td>\n",
       "      <td>MSSGNYQQSEALSKPTFSEEQASALVESVFGLKVSKVRPLPSYDDQ...</td>\n",
       "    </tr>\n",
       "    <tr>\n",
       "      <th>1</th>\n",
       "      <td>A4D2B8</td>\n",
       "      <td>PM2P1_HUMAN</td>\n",
       "      <td>Putative postmeiotic segregation increased 2-l...</td>\n",
       "      <td>PMS2P1 PMS2L1 PMS2L13 PMS2L6 PMS2L8 PMS3 PMS8 ...</td>\n",
       "      <td>1</td>\n",
       "      <td>0</td>\n",
       "      <td>Homo sapiens (Human)</td>\n",
       "      <td>Alternative splicing;Kinase;Reference proteome...</td>\n",
       "      <td>MVTMCGGHRPENFLHQVLTEFGEELAGEGKSEVGGGAPRSYLQVAS...</td>\n",
       "    </tr>\n",
       "    <tr>\n",
       "      <th>2</th>\n",
       "      <td>O00141</td>\n",
       "      <td>SGK1_HUMAN</td>\n",
       "      <td>Serine/threonine-protein kinase Sgk1 (EC 2.7.1...</td>\n",
       "      <td>SGK1 SGK</td>\n",
       "      <td>1</td>\n",
       "      <td>1</td>\n",
       "      <td>Homo sapiens (Human)</td>\n",
       "      <td>3D-structure;Alternative promoter usage;Altern...</td>\n",
       "      <td>MTVKTEAAKGTLTYSRMRGMVAILIAFMKQRRMGLNDFIQKIANNS...</td>\n",
       "    </tr>\n",
       "    <tr>\n",
       "      <th>3</th>\n",
       "      <td>O00142</td>\n",
       "      <td>KITM_HUMAN</td>\n",
       "      <td>Thymidine kinase 2, mitochondrial (EC 2.7.1.21...</td>\n",
       "      <td>TK2</td>\n",
       "      <td>1</td>\n",
       "      <td>0</td>\n",
       "      <td>Homo sapiens (Human)</td>\n",
       "      <td>Alternative splicing;ATP-binding;Direct protei...</td>\n",
       "      <td>MLLWPLRGWAARALRCFGPGSRGSPASGPGPRRVQRRAWPPDKEQE...</td>\n",
       "    </tr>\n",
       "    <tr>\n",
       "      <th>4</th>\n",
       "      <td>O00238</td>\n",
       "      <td>BMR1B_HUMAN</td>\n",
       "      <td>Bone morphogenetic protein receptor type-1B (B...</td>\n",
       "      <td>BMPR1B</td>\n",
       "      <td>1</td>\n",
       "      <td>1</td>\n",
       "      <td>Homo sapiens (Human)</td>\n",
       "      <td>3D-structure;Alternative splicing;ATP-binding;...</td>\n",
       "      <td>MLLRSAGKLNVGTKKEDGESTAPTPRPKVLRCKCHHHCPEDSVNNI...</td>\n",
       "    </tr>\n",
       "  </tbody>\n",
       "</table>\n",
       "</div>"
      ],
      "text/plain": [
       "    Entry   Entry Name                                      Protein names  \\\n",
       "0  A2RU49   HYKK_HUMAN  Hydroxylysine kinase (5-hydroxy-L-lysine kinas...   \n",
       "1  A4D2B8  PM2P1_HUMAN  Putative postmeiotic segregation increased 2-l...   \n",
       "2  O00141   SGK1_HUMAN  Serine/threonine-protein kinase Sgk1 (EC 2.7.1...   \n",
       "3  O00142   KITM_HUMAN  Thymidine kinase 2, mitochondrial (EC 2.7.1.21...   \n",
       "4  O00238  BMR1B_HUMAN  Bone morphogenetic protein receptor type-1B (B...   \n",
       "\n",
       "                                          Gene Names  uniprot_keyword_kinase  \\\n",
       "0                                        HYKK AGPHD1                       1   \n",
       "1  PMS2P1 PMS2L1 PMS2L13 PMS2L6 PMS2L8 PMS3 PMS8 ...                       1   \n",
       "2                                           SGK1 SGK                       1   \n",
       "3                                                TK2                       1   \n",
       "4                                             BMPR1B                       1   \n",
       "\n",
       "   on_tree              Organism  \\\n",
       "0        0  Homo sapiens (Human)   \n",
       "1        0  Homo sapiens (Human)   \n",
       "2        1  Homo sapiens (Human)   \n",
       "3        0  Homo sapiens (Human)   \n",
       "4        1  Homo sapiens (Human)   \n",
       "\n",
       "                                            Keywords  \\\n",
       "0  Alternative splicing;Cytoplasm;Kinase;Proteomi...   \n",
       "1  Alternative splicing;Kinase;Reference proteome...   \n",
       "2  3D-structure;Alternative promoter usage;Altern...   \n",
       "3  Alternative splicing;ATP-binding;Direct protei...   \n",
       "4  3D-structure;Alternative splicing;ATP-binding;...   \n",
       "\n",
       "                                            Sequence  \n",
       "0  MSSGNYQQSEALSKPTFSEEQASALVESVFGLKVSKVRPLPSYDDQ...  \n",
       "1  MVTMCGGHRPENFLHQVLTEFGEELAGEGKSEVGGGAPRSYLQVAS...  \n",
       "2  MTVKTEAAKGTLTYSRMRGMVAILIAFMKQRRMGLNDFIQKIANNS...  \n",
       "3  MLLWPLRGWAARALRCFGPGSRGSPASGPGPRRVQRRAWPPDKEQE...  \n",
       "4  MLLRSAGKLNVGTKKEDGESTAPTPRPKVLRCKCHHHCPEDSVNNI...  "
      ]
     },
     "execution_count": null,
     "metadata": {},
     "output_type": "execute_result"
    }
   ],
   "source": [
    "kinase_uniprot.head()"
   ]
  },
  {
   "cell_type": "markdown",
   "id": "27385a85",
   "metadata": {},
   "source": [
    "## Sugiyama dataset"
   ]
  },
  {
   "cell_type": "markdown",
   "id": "bfd0952f",
   "metadata": {},
   "source": [
    "### Data"
   ]
  },
  {
   "cell_type": "markdown",
   "id": "cc3ddffb",
   "metadata": {},
   "source": [
    "Go to https://www.nature.com/articles/s41598-019-46385-4#Sec21, download table S2.\n",
    "\n",
    "Modify the header (2 lines to 1 line) so that it can be read by pandas."
   ]
  },
  {
   "cell_type": "code",
   "execution_count": null,
   "id": "34530580",
   "metadata": {},
   "outputs": [],
   "source": [
    "df = pd.read_csv('raw/Large_scale_S2.csv').iloc[:,:-2]"
   ]
  },
  {
   "cell_type": "code",
   "execution_count": null,
   "id": "67b1bd90",
   "metadata": {},
   "outputs": [
    {
     "data": {
      "text/html": [
       "<div>\n",
       "<style scoped>\n",
       "    .dataframe tbody tr th:only-of-type {\n",
       "        vertical-align: middle;\n",
       "    }\n",
       "\n",
       "    .dataframe tbody tr th {\n",
       "        vertical-align: top;\n",
       "    }\n",
       "\n",
       "    .dataframe thead th {\n",
       "        text-align: right;\n",
       "    }\n",
       "</style>\n",
       "<table border=\"1\" class=\"dataframe\">\n",
       "  <thead>\n",
       "    <tr style=\"text-align: right;\">\n",
       "      <th></th>\n",
       "      <th>Type</th>\n",
       "      <th>Kinase</th>\n",
       "      <th>Substrate_uniprot</th>\n",
       "      <th>Position</th>\n",
       "    </tr>\n",
       "  </thead>\n",
       "  <tbody>\n",
       "    <tr>\n",
       "      <th>0</th>\n",
       "      <td>TK</td>\n",
       "      <td>ABL1</td>\n",
       "      <td>1433B_HUMAN</td>\n",
       "      <td>S212</td>\n",
       "    </tr>\n",
       "    <tr>\n",
       "      <th>1</th>\n",
       "      <td>TK</td>\n",
       "      <td>ABL1</td>\n",
       "      <td>1433B_HUMAN</td>\n",
       "      <td>Y151</td>\n",
       "    </tr>\n",
       "    <tr>\n",
       "      <th>2</th>\n",
       "      <td>TK</td>\n",
       "      <td>ABL1</td>\n",
       "      <td>1433B_HUMAN</td>\n",
       "      <td>Y21</td>\n",
       "    </tr>\n",
       "    <tr>\n",
       "      <th>3</th>\n",
       "      <td>TK</td>\n",
       "      <td>ABL1</td>\n",
       "      <td>1433B_HUMAN</td>\n",
       "      <td>Y50</td>\n",
       "    </tr>\n",
       "    <tr>\n",
       "      <th>4</th>\n",
       "      <td>TK</td>\n",
       "      <td>ABL1</td>\n",
       "      <td>1433E_HUMAN</td>\n",
       "      <td>Y152</td>\n",
       "    </tr>\n",
       "  </tbody>\n",
       "</table>\n",
       "</div>"
      ],
      "text/plain": [
       "  Type Kinase Substrate_uniprot Position\n",
       "0   TK   ABL1       1433B_HUMAN     S212\n",
       "1   TK   ABL1       1433B_HUMAN     Y151\n",
       "2   TK   ABL1       1433B_HUMAN      Y21\n",
       "3   TK   ABL1       1433B_HUMAN      Y50\n",
       "4   TK   ABL1       1433E_HUMAN     Y152"
      ]
     },
     "execution_count": null,
     "metadata": {},
     "output_type": "execute_result"
    }
   ],
   "source": [
    "df.head()"
   ]
  },
  {
   "cell_type": "code",
   "execution_count": null,
   "id": "8fe5cf4b",
   "metadata": {},
   "outputs": [
    {
     "data": {
      "text/plain": [
       "(198536, 4)"
      ]
     },
     "execution_count": null,
     "metadata": {},
     "output_type": "execute_result"
    }
   ],
   "source": [
    "df.shape"
   ]
  },
  {
   "cell_type": "markdown",
   "id": "821aac6e",
   "metadata": {},
   "source": [
    "### Kinase mapping"
   ]
  },
  {
   "cell_type": "code",
   "execution_count": null,
   "id": "b0ed580a",
   "metadata": {},
   "outputs": [],
   "source": [
    "# pd.DataFrame(df.Kinase.unique())[0].str.split('/').str[0].to_csv('raw/sugiyama_kinase_name.csv')"
   ]
  },
  {
   "cell_type": "markdown",
   "id": "950b9cca",
   "metadata": {},
   "source": [
    "Map each kinase name with uniprot ID"
   ]
  },
  {
   "cell_type": "code",
   "execution_count": null,
   "id": "e1526cab",
   "metadata": {},
   "outputs": [],
   "source": [
    "kinase_id = pd.read_csv('raw/LS_info2.csv').iloc[:,:3]"
   ]
  },
  {
   "cell_type": "code",
   "execution_count": null,
   "id": "a3292792",
   "metadata": {},
   "outputs": [],
   "source": [
    "df = df.merge(kinase_id)"
   ]
  },
  {
   "cell_type": "code",
   "execution_count": null,
   "id": "ccc44638",
   "metadata": {},
   "outputs": [
    {
     "data": {
      "text/html": [
       "<div>\n",
       "<style scoped>\n",
       "    .dataframe tbody tr th:only-of-type {\n",
       "        vertical-align: middle;\n",
       "    }\n",
       "\n",
       "    .dataframe tbody tr th {\n",
       "        vertical-align: top;\n",
       "    }\n",
       "\n",
       "    .dataframe thead th {\n",
       "        text-align: right;\n",
       "    }\n",
       "</style>\n",
       "<table border=\"1\" class=\"dataframe\">\n",
       "  <thead>\n",
       "    <tr style=\"text-align: right;\">\n",
       "      <th></th>\n",
       "      <th>Type</th>\n",
       "      <th>Kinase</th>\n",
       "      <th>Substrate_uniprot</th>\n",
       "      <th>Position</th>\n",
       "      <th>kinase_uniprot</th>\n",
       "      <th>kinase_paper</th>\n",
       "    </tr>\n",
       "  </thead>\n",
       "  <tbody>\n",
       "    <tr>\n",
       "      <th>0</th>\n",
       "      <td>TK</td>\n",
       "      <td>ABL1</td>\n",
       "      <td>1433B_HUMAN</td>\n",
       "      <td>S212</td>\n",
       "      <td>P00519</td>\n",
       "      <td>ABL1</td>\n",
       "    </tr>\n",
       "    <tr>\n",
       "      <th>1</th>\n",
       "      <td>TK</td>\n",
       "      <td>ABL1</td>\n",
       "      <td>1433B_HUMAN</td>\n",
       "      <td>Y151</td>\n",
       "      <td>P00519</td>\n",
       "      <td>ABL1</td>\n",
       "    </tr>\n",
       "    <tr>\n",
       "      <th>2</th>\n",
       "      <td>TK</td>\n",
       "      <td>ABL1</td>\n",
       "      <td>1433B_HUMAN</td>\n",
       "      <td>Y21</td>\n",
       "      <td>P00519</td>\n",
       "      <td>ABL1</td>\n",
       "    </tr>\n",
       "    <tr>\n",
       "      <th>3</th>\n",
       "      <td>TK</td>\n",
       "      <td>ABL1</td>\n",
       "      <td>1433B_HUMAN</td>\n",
       "      <td>Y50</td>\n",
       "      <td>P00519</td>\n",
       "      <td>ABL1</td>\n",
       "    </tr>\n",
       "    <tr>\n",
       "      <th>4</th>\n",
       "      <td>TK</td>\n",
       "      <td>ABL1</td>\n",
       "      <td>1433E_HUMAN</td>\n",
       "      <td>Y152</td>\n",
       "      <td>P00519</td>\n",
       "      <td>ABL1</td>\n",
       "    </tr>\n",
       "    <tr>\n",
       "      <th>...</th>\n",
       "      <td>...</td>\n",
       "      <td>...</td>\n",
       "      <td>...</td>\n",
       "      <td>...</td>\n",
       "      <td>...</td>\n",
       "      <td>...</td>\n",
       "    </tr>\n",
       "    <tr>\n",
       "      <th>198531</th>\n",
       "      <td>LK</td>\n",
       "      <td>SPHK2</td>\n",
       "      <td>TICN3_HUMAN</td>\n",
       "      <td>T118</td>\n",
       "      <td>Q9NRA0</td>\n",
       "      <td>NaN</td>\n",
       "    </tr>\n",
       "    <tr>\n",
       "      <th>198532</th>\n",
       "      <td>LK</td>\n",
       "      <td>SPHK2</td>\n",
       "      <td>TPM4_HUMAN</td>\n",
       "      <td>T241</td>\n",
       "      <td>Q9NRA0</td>\n",
       "      <td>NaN</td>\n",
       "    </tr>\n",
       "    <tr>\n",
       "      <th>198533</th>\n",
       "      <td>LK</td>\n",
       "      <td>SPHK2</td>\n",
       "      <td>ULK3_HUMAN</td>\n",
       "      <td>S305</td>\n",
       "      <td>Q9NRA0</td>\n",
       "      <td>NaN</td>\n",
       "    </tr>\n",
       "    <tr>\n",
       "      <th>198534</th>\n",
       "      <td>LK</td>\n",
       "      <td>SPHK2</td>\n",
       "      <td>ZRAB2_HUMAN</td>\n",
       "      <td>S165</td>\n",
       "      <td>Q9NRA0</td>\n",
       "      <td>NaN</td>\n",
       "    </tr>\n",
       "    <tr>\n",
       "      <th>198535</th>\n",
       "      <td>LK</td>\n",
       "      <td>SPHK2</td>\n",
       "      <td>ZRAB2_HUMAN</td>\n",
       "      <td>S181</td>\n",
       "      <td>Q9NRA0</td>\n",
       "      <td>NaN</td>\n",
       "    </tr>\n",
       "  </tbody>\n",
       "</table>\n",
       "<p>198536 rows × 6 columns</p>\n",
       "</div>"
      ],
      "text/plain": [
       "       Type Kinase Substrate_uniprot Position kinase_uniprot kinase_paper\n",
       "0        TK   ABL1       1433B_HUMAN     S212         P00519         ABL1\n",
       "1        TK   ABL1       1433B_HUMAN     Y151         P00519         ABL1\n",
       "2        TK   ABL1       1433B_HUMAN      Y21         P00519         ABL1\n",
       "3        TK   ABL1       1433B_HUMAN      Y50         P00519         ABL1\n",
       "4        TK   ABL1       1433E_HUMAN     Y152         P00519         ABL1\n",
       "...     ...    ...               ...      ...            ...          ...\n",
       "198531   LK  SPHK2       TICN3_HUMAN     T118         Q9NRA0          NaN\n",
       "198532   LK  SPHK2        TPM4_HUMAN     T241         Q9NRA0          NaN\n",
       "198533   LK  SPHK2        ULK3_HUMAN     S305         Q9NRA0          NaN\n",
       "198534   LK  SPHK2       ZRAB2_HUMAN     S165         Q9NRA0          NaN\n",
       "198535   LK  SPHK2       ZRAB2_HUMAN     S181         Q9NRA0          NaN\n",
       "\n",
       "[198536 rows x 6 columns]"
      ]
     },
     "execution_count": null,
     "metadata": {},
     "output_type": "execute_result"
    }
   ],
   "source": [
    "df"
   ]
  },
  {
   "cell_type": "markdown",
   "id": "a658f0a7",
   "metadata": {},
   "source": [
    "### Substrate mapping"
   ]
  },
  {
   "cell_type": "code",
   "execution_count": null,
   "id": "a966a2b7",
   "metadata": {},
   "outputs": [],
   "source": [
    "# pd.DataFrame(df.Substrate_uniprot.unique()).to_csv('raw/sugiyama_uniprot_id.csv')"
   ]
  },
  {
   "cell_type": "markdown",
   "id": "800e3105",
   "metadata": {},
   "source": [
    "ID mapping of `Substrate_uniprot` to uniprot ID in https://www.uniprot.org/id-mapping\n",
    "\n",
    "3,753 IDs were mapped to 3,753 results\n",
    "\n",
    "375 ID were not mapped"
   ]
  },
  {
   "cell_type": "code",
   "execution_count": null,
   "id": "b8eab6fd",
   "metadata": {},
   "outputs": [
    {
     "name": "stderr",
     "output_type": "stream",
     "text": [
      "/home/sky1ove/miniconda3/lib/python3.13/site-packages/logomaker/../openpyxl/styles/stylesheet.py:237: UserWarning: Workbook contains no default style, apply openpyxl's default\n",
      "  warn(\"Workbook contains no default style, apply openpyxl's default\")\n"
     ]
    },
    {
     "name": "stdout",
     "output_type": "stream",
     "text": [
      "Shape before processing (198536, 6)\n",
      "Species counts: substrate_species\n",
      "Homo sapiens (Human)    187129\n",
      "Name: count, dtype: int64\n",
      "Removing non-human substrates\n",
      "Shape after processing (187129, 9)\n"
     ]
    }
   ],
   "source": [
    "df = map_substrate('raw/idmapping_2025_03_02.xlsx',df,'Substrate_uniprot')"
   ]
  },
  {
   "cell_type": "code",
   "execution_count": null,
   "id": "5efb9c15",
   "metadata": {},
   "outputs": [
    {
     "data": {
      "text/plain": [
       "array(['PIK3C3', 'PIK3CB/PIK3R1', 'PIK3CD/PIK3R1', 'PIK3CG/PIK3R5',\n",
       "       'PIK3CG', 'PIK4CA', 'PIP4K2B', 'PIP5K1C', 'SPHK1', 'SPHK2'],\n",
       "      dtype=object)"
      ]
     },
     "execution_count": null,
     "metadata": {},
     "output_type": "execute_result"
    }
   ],
   "source": [
    "# lipid kinase\n",
    "df[df.Type=='LK'].Kinase.unique()"
   ]
  },
  {
   "cell_type": "code",
   "execution_count": null,
   "id": "3451d291",
   "metadata": {},
   "outputs": [
    {
     "data": {
      "text/plain": [
       "Type                      0\n",
       "Kinase                    0\n",
       "Position                  0\n",
       "kinase_uniprot        16591\n",
       "kinase_paper          18891\n",
       "substrate_uniprot         0\n",
       "substrate_genes          11\n",
       "substrate_sequence        0\n",
       "substrate_species         0\n",
       "dtype: int64"
      ]
     },
     "execution_count": null,
     "metadata": {},
     "output_type": "execute_result"
    }
   ],
   "source": [
    "df.isna().sum()"
   ]
  },
  {
   "cell_type": "code",
   "execution_count": null,
   "id": "80c3810c",
   "metadata": {},
   "outputs": [
    {
     "data": {
      "text/html": [
       "<div>\n",
       "<style scoped>\n",
       "    .dataframe tbody tr th:only-of-type {\n",
       "        vertical-align: middle;\n",
       "    }\n",
       "\n",
       "    .dataframe tbody tr th {\n",
       "        vertical-align: top;\n",
       "    }\n",
       "\n",
       "    .dataframe thead th {\n",
       "        text-align: right;\n",
       "    }\n",
       "</style>\n",
       "<table border=\"1\" class=\"dataframe\">\n",
       "  <thead>\n",
       "    <tr style=\"text-align: right;\">\n",
       "      <th></th>\n",
       "      <th>Type</th>\n",
       "      <th>Kinase</th>\n",
       "      <th>Position</th>\n",
       "      <th>kinase_uniprot</th>\n",
       "      <th>kinase_paper</th>\n",
       "      <th>substrate_uniprot</th>\n",
       "      <th>substrate_genes</th>\n",
       "      <th>substrate_sequence</th>\n",
       "      <th>substrate_species</th>\n",
       "    </tr>\n",
       "  </thead>\n",
       "  <tbody>\n",
       "    <tr>\n",
       "      <th>0</th>\n",
       "      <td>TK</td>\n",
       "      <td>ABL1</td>\n",
       "      <td>S212</td>\n",
       "      <td>P00519</td>\n",
       "      <td>ABL1</td>\n",
       "      <td>P31946</td>\n",
       "      <td>YWHAB</td>\n",
       "      <td>MTMDKSELVQKAKLAEQAERYDDMAAAMKAVTEQGHELSNEERNLL...</td>\n",
       "      <td>Homo sapiens (Human)</td>\n",
       "    </tr>\n",
       "    <tr>\n",
       "      <th>1</th>\n",
       "      <td>TK</td>\n",
       "      <td>ABL1</td>\n",
       "      <td>Y151</td>\n",
       "      <td>P00519</td>\n",
       "      <td>ABL1</td>\n",
       "      <td>P31946</td>\n",
       "      <td>YWHAB</td>\n",
       "      <td>MTMDKSELVQKAKLAEQAERYDDMAAAMKAVTEQGHELSNEERNLL...</td>\n",
       "      <td>Homo sapiens (Human)</td>\n",
       "    </tr>\n",
       "    <tr>\n",
       "      <th>2</th>\n",
       "      <td>TK</td>\n",
       "      <td>ABL1</td>\n",
       "      <td>Y21</td>\n",
       "      <td>P00519</td>\n",
       "      <td>ABL1</td>\n",
       "      <td>P31946</td>\n",
       "      <td>YWHAB</td>\n",
       "      <td>MTMDKSELVQKAKLAEQAERYDDMAAAMKAVTEQGHELSNEERNLL...</td>\n",
       "      <td>Homo sapiens (Human)</td>\n",
       "    </tr>\n",
       "    <tr>\n",
       "      <th>3</th>\n",
       "      <td>TK</td>\n",
       "      <td>ABL1</td>\n",
       "      <td>Y50</td>\n",
       "      <td>P00519</td>\n",
       "      <td>ABL1</td>\n",
       "      <td>P31946</td>\n",
       "      <td>YWHAB</td>\n",
       "      <td>MTMDKSELVQKAKLAEQAERYDDMAAAMKAVTEQGHELSNEERNLL...</td>\n",
       "      <td>Homo sapiens (Human)</td>\n",
       "    </tr>\n",
       "    <tr>\n",
       "      <th>4</th>\n",
       "      <td>TK</td>\n",
       "      <td>ABL1</td>\n",
       "      <td>Y152</td>\n",
       "      <td>P00519</td>\n",
       "      <td>ABL1</td>\n",
       "      <td>P62258</td>\n",
       "      <td>YWHAE</td>\n",
       "      <td>MDDREDLVYQAKLAEQAERYDEMVESMKKVAGMDVELTVEERNLLS...</td>\n",
       "      <td>Homo sapiens (Human)</td>\n",
       "    </tr>\n",
       "  </tbody>\n",
       "</table>\n",
       "</div>"
      ],
      "text/plain": [
       "  Type Kinase Position kinase_uniprot kinase_paper substrate_uniprot  \\\n",
       "0   TK   ABL1     S212         P00519         ABL1            P31946   \n",
       "1   TK   ABL1     Y151         P00519         ABL1            P31946   \n",
       "2   TK   ABL1      Y21         P00519         ABL1            P31946   \n",
       "3   TK   ABL1      Y50         P00519         ABL1            P31946   \n",
       "4   TK   ABL1     Y152         P00519         ABL1            P62258   \n",
       "\n",
       "  substrate_genes                                 substrate_sequence  \\\n",
       "0           YWHAB  MTMDKSELVQKAKLAEQAERYDDMAAAMKAVTEQGHELSNEERNLL...   \n",
       "1           YWHAB  MTMDKSELVQKAKLAEQAERYDDMAAAMKAVTEQGHELSNEERNLL...   \n",
       "2           YWHAB  MTMDKSELVQKAKLAEQAERYDDMAAAMKAVTEQGHELSNEERNLL...   \n",
       "3           YWHAB  MTMDKSELVQKAKLAEQAERYDDMAAAMKAVTEQGHELSNEERNLL...   \n",
       "4           YWHAE  MDDREDLVYQAKLAEQAERYDEMVESMKKVAGMDVELTVEERNLLS...   \n",
       "\n",
       "      substrate_species  \n",
       "0  Homo sapiens (Human)  \n",
       "1  Homo sapiens (Human)  \n",
       "2  Homo sapiens (Human)  \n",
       "3  Homo sapiens (Human)  \n",
       "4  Homo sapiens (Human)  "
      ]
     },
     "execution_count": null,
     "metadata": {},
     "output_type": "execute_result"
    }
   ],
   "source": [
    "df.head()"
   ]
  },
  {
   "cell_type": "code",
   "execution_count": null,
   "id": "877dd787",
   "metadata": {},
   "outputs": [],
   "source": [
    "df = df.rename(columns = {'Position':'site'})"
   ]
  },
  {
   "cell_type": "code",
   "execution_count": null,
   "id": "fcb44618",
   "metadata": {},
   "outputs": [
    {
     "data": {
      "text/plain": [
       "(187129, 9)"
      ]
     },
     "execution_count": null,
     "metadata": {},
     "output_type": "execute_result"
    }
   ],
   "source": [
    "df.shape"
   ]
  },
  {
   "cell_type": "markdown",
   "id": "dd0e4862",
   "metadata": {},
   "source": [
    "### Validate site"
   ]
  },
  {
   "cell_type": "code",
   "execution_count": null,
   "id": "df182bdd",
   "metadata": {},
   "outputs": [],
   "source": [
    "df['site_match'] =validate_site_df(df,'site','substrate_sequence')"
   ]
  },
  {
   "cell_type": "code",
   "execution_count": null,
   "id": "51720a5f",
   "metadata": {},
   "outputs": [
    {
     "data": {
      "text/plain": [
       "site_match\n",
       "1    184948\n",
       "0      2181\n",
       "Name: count, dtype: int64"
      ]
     },
     "execution_count": null,
     "metadata": {},
     "output_type": "execute_result"
    }
   ],
   "source": [
    "df.site_match.value_counts()"
   ]
  },
  {
   "cell_type": "code",
   "execution_count": null,
   "id": "8a5f6324",
   "metadata": {},
   "outputs": [],
   "source": [
    "df=df[df.site_match==1]"
   ]
  },
  {
   "cell_type": "code",
   "execution_count": null,
   "id": "513a855c",
   "metadata": {},
   "outputs": [
    {
     "data": {
      "text/plain": [
       "(184948, 10)"
      ]
     },
     "execution_count": null,
     "metadata": {},
     "output_type": "execute_result"
    }
   ],
   "source": [
    "df.shape"
   ]
  },
  {
   "cell_type": "markdown",
   "id": "d240fc95",
   "metadata": {},
   "source": [
    "### Save"
   ]
  },
  {
   "cell_type": "code",
   "execution_count": null,
   "id": "73145f45",
   "metadata": {},
   "outputs": [],
   "source": [
    "df['source']='Sugiyama'"
   ]
  },
  {
   "cell_type": "code",
   "execution_count": null,
   "id": "cb1b7303",
   "metadata": {},
   "outputs": [],
   "source": [
    "# df.to_excel('raw/sugiyama.xlsx',index=False)"
   ]
  },
  {
   "cell_type": "markdown",
   "id": "51330c4c",
   "metadata": {},
   "source": [
    "## PhosphoSitePlus (PSP)"
   ]
  },
  {
   "cell_type": "markdown",
   "id": "bad13e17",
   "metadata": {},
   "source": [
    "### Data"
   ]
  },
  {
   "cell_type": "markdown",
   "id": "67018ffc",
   "metadata": {},
   "source": [
    "PSP paper: https://academic.oup.com/nar/article/43/D1/D512/2439467"
   ]
  },
  {
   "cell_type": "markdown",
   "id": "d72873b5",
   "metadata": {},
   "source": [
    "Go to https://www.phosphosite.org/staticDownloads, download `Kinase_Substrate_Dataset.txt`"
   ]
  },
  {
   "cell_type": "code",
   "execution_count": null,
   "id": "3a56e98c",
   "metadata": {},
   "outputs": [],
   "source": [
    "import pandas as pd"
   ]
  },
  {
   "cell_type": "code",
   "execution_count": null,
   "id": "b63d89b9",
   "metadata": {},
   "outputs": [],
   "source": [
    "psp = pd.read_csv('raw/Kinase_Substrate_Dataset_final.csv')"
   ]
  },
  {
   "cell_type": "code",
   "execution_count": null,
   "id": "d478c044",
   "metadata": {},
   "outputs": [
    {
     "data": {
      "text/html": [
       "<div>\n",
       "<style scoped>\n",
       "    .dataframe tbody tr th:only-of-type {\n",
       "        vertical-align: middle;\n",
       "    }\n",
       "\n",
       "    .dataframe tbody tr th {\n",
       "        vertical-align: top;\n",
       "    }\n",
       "\n",
       "    .dataframe thead th {\n",
       "        text-align: right;\n",
       "    }\n",
       "</style>\n",
       "<table border=\"1\" class=\"dataframe\">\n",
       "  <thead>\n",
       "    <tr style=\"text-align: right;\">\n",
       "      <th></th>\n",
       "      <th>GENE</th>\n",
       "      <th>Kinase</th>\n",
       "      <th>KIN_ACC_ID</th>\n",
       "      <th>KIN_ORGANISM</th>\n",
       "      <th>SUBSTRATE</th>\n",
       "      <th>SUB_GENE_ID</th>\n",
       "      <th>SUB_ACC_ID</th>\n",
       "      <th>SUB_GENE</th>\n",
       "      <th>SUB_ORGANISM</th>\n",
       "      <th>SUB_MOD_RSD</th>\n",
       "      <th>SITE_GRP_ID</th>\n",
       "      <th>substrate</th>\n",
       "      <th>DOMAIN</th>\n",
       "      <th>IN_VIVO_RXN</th>\n",
       "      <th>IN_VITRO_RXN</th>\n",
       "      <th>CST_CAT#</th>\n",
       "      <th>kinase_uniprot</th>\n",
       "      <th>kinase_paper</th>\n",
       "    </tr>\n",
       "  </thead>\n",
       "  <tbody>\n",
       "    <tr>\n",
       "      <th>0</th>\n",
       "      <td>Dyrk2</td>\n",
       "      <td>DYRK2</td>\n",
       "      <td>Q5U4C9</td>\n",
       "      <td>mouse</td>\n",
       "      <td>NDEL1</td>\n",
       "      <td>83431.0</td>\n",
       "      <td>Q9ERR1</td>\n",
       "      <td>Ndel1</td>\n",
       "      <td>mouse</td>\n",
       "      <td>S336</td>\n",
       "      <td>1869686801</td>\n",
       "      <td>LGSsRPSsAPGMLPL</td>\n",
       "      <td>NaN</td>\n",
       "      <td></td>\n",
       "      <td>X</td>\n",
       "      <td>NaN</td>\n",
       "      <td>Q92630</td>\n",
       "      <td>DYRK2</td>\n",
       "    </tr>\n",
       "    <tr>\n",
       "      <th>1</th>\n",
       "      <td>DYRK2</td>\n",
       "      <td>DYRK2</td>\n",
       "      <td>Q92630</td>\n",
       "      <td>human</td>\n",
       "      <td>GLI2</td>\n",
       "      <td>14633.0</td>\n",
       "      <td>Q0VGT2</td>\n",
       "      <td>Gli2</td>\n",
       "      <td>mouse</td>\n",
       "      <td>S385</td>\n",
       "      <td>3339001</td>\n",
       "      <td>AEGLRPAsPLGLTQE</td>\n",
       "      <td>NaN</td>\n",
       "      <td></td>\n",
       "      <td>X</td>\n",
       "      <td>NaN</td>\n",
       "      <td>Q92630</td>\n",
       "      <td>DYRK2</td>\n",
       "    </tr>\n",
       "    <tr>\n",
       "      <th>2</th>\n",
       "      <td>DYRK2</td>\n",
       "      <td>DYRK2</td>\n",
       "      <td>Q92630</td>\n",
       "      <td>human</td>\n",
       "      <td>SIAH2</td>\n",
       "      <td>6478.0</td>\n",
       "      <td>O43255</td>\n",
       "      <td>SIAH2</td>\n",
       "      <td>human</td>\n",
       "      <td>S68</td>\n",
       "      <td>5393502</td>\n",
       "      <td>GGGAGPVsPQHHELT</td>\n",
       "      <td>NaN</td>\n",
       "      <td>X</td>\n",
       "      <td></td>\n",
       "      <td>NaN</td>\n",
       "      <td>Q92630</td>\n",
       "      <td>DYRK2</td>\n",
       "    </tr>\n",
       "    <tr>\n",
       "      <th>3</th>\n",
       "      <td>DYRK2</td>\n",
       "      <td>DYRK2</td>\n",
       "      <td>Q92630</td>\n",
       "      <td>human</td>\n",
       "      <td>CARHSP1</td>\n",
       "      <td>23589.0</td>\n",
       "      <td>Q9Y2V2</td>\n",
       "      <td>CARHSP1</td>\n",
       "      <td>human</td>\n",
       "      <td>S41</td>\n",
       "      <td>455702</td>\n",
       "      <td>LRGNVVPsPLPtRRt</td>\n",
       "      <td>NaN</td>\n",
       "      <td></td>\n",
       "      <td>X</td>\n",
       "      <td>NaN</td>\n",
       "      <td>Q92630</td>\n",
       "      <td>DYRK2</td>\n",
       "    </tr>\n",
       "    <tr>\n",
       "      <th>4</th>\n",
       "      <td>DYRK2</td>\n",
       "      <td>DYRK2</td>\n",
       "      <td>Q92630</td>\n",
       "      <td>human</td>\n",
       "      <td>Doublecortin iso2</td>\n",
       "      <td>1641.0</td>\n",
       "      <td>O43602-2</td>\n",
       "      <td>DCX</td>\n",
       "      <td>human</td>\n",
       "      <td>S306</td>\n",
       "      <td>454122</td>\n",
       "      <td>GPMRRSKsPADSANG</td>\n",
       "      <td>NaN</td>\n",
       "      <td>X</td>\n",
       "      <td></td>\n",
       "      <td>NaN</td>\n",
       "      <td>Q92630</td>\n",
       "      <td>DYRK2</td>\n",
       "    </tr>\n",
       "  </tbody>\n",
       "</table>\n",
       "</div>"
      ],
      "text/plain": [
       "    GENE Kinase KIN_ACC_ID KIN_ORGANISM          SUBSTRATE  SUB_GENE_ID  \\\n",
       "0  Dyrk2  DYRK2     Q5U4C9        mouse              NDEL1      83431.0   \n",
       "1  DYRK2  DYRK2     Q92630        human               GLI2      14633.0   \n",
       "2  DYRK2  DYRK2     Q92630        human              SIAH2       6478.0   \n",
       "3  DYRK2  DYRK2     Q92630        human            CARHSP1      23589.0   \n",
       "4  DYRK2  DYRK2     Q92630        human  Doublecortin iso2       1641.0   \n",
       "\n",
       "  SUB_ACC_ID SUB_GENE SUB_ORGANISM SUB_MOD_RSD  SITE_GRP_ID        substrate  \\\n",
       "0     Q9ERR1    Ndel1        mouse        S336   1869686801  LGSsRPSsAPGMLPL   \n",
       "1     Q0VGT2     Gli2        mouse        S385      3339001  AEGLRPAsPLGLTQE   \n",
       "2     O43255    SIAH2        human         S68      5393502  GGGAGPVsPQHHELT   \n",
       "3     Q9Y2V2  CARHSP1        human         S41       455702  LRGNVVPsPLPtRRt   \n",
       "4   O43602-2      DCX        human        S306       454122  GPMRRSKsPADSANG   \n",
       "\n",
       "  DOMAIN IN_VIVO_RXN IN_VITRO_RXN CST_CAT# kinase_uniprot kinase_paper  \n",
       "0    NaN                        X      NaN         Q92630        DYRK2  \n",
       "1    NaN                        X      NaN         Q92630        DYRK2  \n",
       "2    NaN           X                   NaN         Q92630        DYRK2  \n",
       "3    NaN                        X      NaN         Q92630        DYRK2  \n",
       "4    NaN           X                   NaN         Q92630        DYRK2  "
      ]
     },
     "execution_count": null,
     "metadata": {},
     "output_type": "execute_result"
    }
   ],
   "source": [
    "psp.head()"
   ]
  },
  {
   "cell_type": "code",
   "execution_count": null,
   "id": "a43ee58b",
   "metadata": {},
   "outputs": [],
   "source": [
    "psp =psp[psp.KIN_ORGANISM=='human'].reset_index(drop=True) \n",
    "\n",
    "psp =psp[psp.SUB_ORGANISM=='human'].reset_index(drop=True)"
   ]
  },
  {
   "cell_type": "code",
   "execution_count": null,
   "id": "4101d735",
   "metadata": {},
   "outputs": [
    {
     "data": {
      "text/plain": [
       "(14081, 18)"
      ]
     },
     "execution_count": null,
     "metadata": {},
     "output_type": "execute_result"
    }
   ],
   "source": [
    "psp.shape"
   ]
  },
  {
   "cell_type": "code",
   "execution_count": null,
   "id": "b1d064f9",
   "metadata": {},
   "outputs": [],
   "source": [
    "psp = psp[['KIN_ACC_ID','kinase_paper','GENE','SUB_ACC_ID','SUB_GENE','SUB_MOD_RSD','substrate']]"
   ]
  },
  {
   "cell_type": "code",
   "execution_count": null,
   "id": "a2f87806",
   "metadata": {},
   "outputs": [
    {
     "data": {
      "text/html": [
       "<div>\n",
       "<style scoped>\n",
       "    .dataframe tbody tr th:only-of-type {\n",
       "        vertical-align: middle;\n",
       "    }\n",
       "\n",
       "    .dataframe tbody tr th {\n",
       "        vertical-align: top;\n",
       "    }\n",
       "\n",
       "    .dataframe thead th {\n",
       "        text-align: right;\n",
       "    }\n",
       "</style>\n",
       "<table border=\"1\" class=\"dataframe\">\n",
       "  <thead>\n",
       "    <tr style=\"text-align: right;\">\n",
       "      <th></th>\n",
       "      <th>KIN_ACC_ID</th>\n",
       "      <th>kinase_paper</th>\n",
       "      <th>GENE</th>\n",
       "      <th>SUB_ACC_ID</th>\n",
       "      <th>SUB_GENE</th>\n",
       "      <th>SUB_MOD_RSD</th>\n",
       "      <th>substrate</th>\n",
       "    </tr>\n",
       "  </thead>\n",
       "  <tbody>\n",
       "    <tr>\n",
       "      <th>0</th>\n",
       "      <td>Q92630</td>\n",
       "      <td>DYRK2</td>\n",
       "      <td>DYRK2</td>\n",
       "      <td>O43255</td>\n",
       "      <td>SIAH2</td>\n",
       "      <td>S68</td>\n",
       "      <td>GGGAGPVsPQHHELT</td>\n",
       "    </tr>\n",
       "    <tr>\n",
       "      <th>1</th>\n",
       "      <td>Q92630</td>\n",
       "      <td>DYRK2</td>\n",
       "      <td>DYRK2</td>\n",
       "      <td>Q9Y2V2</td>\n",
       "      <td>CARHSP1</td>\n",
       "      <td>S41</td>\n",
       "      <td>LRGNVVPsPLPtRRt</td>\n",
       "    </tr>\n",
       "    <tr>\n",
       "      <th>2</th>\n",
       "      <td>Q92630</td>\n",
       "      <td>DYRK2</td>\n",
       "      <td>DYRK2</td>\n",
       "      <td>O43602-2</td>\n",
       "      <td>DCX</td>\n",
       "      <td>S306</td>\n",
       "      <td>GPMRRSKsPADSANG</td>\n",
       "    </tr>\n",
       "    <tr>\n",
       "      <th>3</th>\n",
       "      <td>Q92630</td>\n",
       "      <td>DYRK2</td>\n",
       "      <td>DYRK2</td>\n",
       "      <td>P30304</td>\n",
       "      <td>CDC25A</td>\n",
       "      <td>S283</td>\n",
       "      <td>PErsQEEsPPGSTKr</td>\n",
       "    </tr>\n",
       "    <tr>\n",
       "      <th>4</th>\n",
       "      <td>Q92630</td>\n",
       "      <td>DYRK2</td>\n",
       "      <td>DYRK2</td>\n",
       "      <td>O43255</td>\n",
       "      <td>SIAH2</td>\n",
       "      <td>T119</td>\n",
       "      <td>PTCRGALtPSIRNLA</td>\n",
       "    </tr>\n",
       "  </tbody>\n",
       "</table>\n",
       "</div>"
      ],
      "text/plain": [
       "  KIN_ACC_ID kinase_paper   GENE SUB_ACC_ID SUB_GENE SUB_MOD_RSD  \\\n",
       "0     Q92630        DYRK2  DYRK2     O43255    SIAH2         S68   \n",
       "1     Q92630        DYRK2  DYRK2     Q9Y2V2  CARHSP1         S41   \n",
       "2     Q92630        DYRK2  DYRK2   O43602-2      DCX        S306   \n",
       "3     Q92630        DYRK2  DYRK2     P30304   CDC25A        S283   \n",
       "4     Q92630        DYRK2  DYRK2     O43255    SIAH2        T119   \n",
       "\n",
       "         substrate  \n",
       "0  GGGAGPVsPQHHELT  \n",
       "1  LRGNVVPsPLPtRRt  \n",
       "2  GPMRRSKsPADSANG  \n",
       "3  PErsQEEsPPGSTKr  \n",
       "4  PTCRGALtPSIRNLA  "
      ]
     },
     "execution_count": null,
     "metadata": {},
     "output_type": "execute_result"
    }
   ],
   "source": [
    "psp.head()"
   ]
  },
  {
   "cell_type": "markdown",
   "id": "79ee938d",
   "metadata": {},
   "source": [
    "### Substrate mapping"
   ]
  },
  {
   "cell_type": "code",
   "execution_count": null,
   "id": "5ca3d318",
   "metadata": {},
   "outputs": [],
   "source": [
    "# psp.SUB_ACC_ID.drop_duplicates().to_csv('raw/psp_substrate_id.csv')"
   ]
  },
  {
   "cell_type": "markdown",
   "id": "9449f4bc",
   "metadata": {},
   "source": [
    "4,441 IDs were mapped to 4,446 results\n",
    "\n",
    "\n",
    "19 ID were not mapped:\n",
    "NP_001184222\n",
    "NP_001100737\n",
    "AAA40678\n",
    "HSBO22\n",
    "NP_776683\n",
    "NP_579829\n",
    "P18433-2\n",
    "NP_001076191\n",
    "NP_001099740\n",
    "NP_001005762\n",
    "NP_001178533\n",
    "XP_008773743\n",
    "NP_001104263\n",
    "ABR15760\n",
    "AAB24204\n",
    "AAB24205\n",
    "BAA34185.2\n",
    "NP_001103022\n",
    "AAC50053\n",
    "\n",
    "IDs with multiple results: P62991, P62988"
   ]
  },
  {
   "cell_type": "code",
   "execution_count": null,
   "id": "ebc32caf",
   "metadata": {},
   "outputs": [
    {
     "name": "stderr",
     "output_type": "stream",
     "text": [
      "/home/sky1ove/miniconda3/lib/python3.13/site-packages/openpyxl/styles/stylesheet.py:237: UserWarning: Workbook contains no default style, apply openpyxl's default\n",
      "  warn(\"Workbook contains no default style, apply openpyxl's default\")\n"
     ]
    },
    {
     "name": "stdout",
     "output_type": "stream",
     "text": [
      "Shape before processing (14081, 7)\n",
      "Species counts: substrate_species\n",
      "Homo sapiens (Human)    14069\n",
      "Name: count, dtype: int64\n",
      "Removing non-human substrates\n",
      "Shape after processing (14069, 10)\n"
     ]
    }
   ],
   "source": [
    "psp = map_substrate('raw/idmapping_2025_03_02_psp.xlsx',psp,'SUB_ACC_ID')"
   ]
  },
  {
   "cell_type": "code",
   "execution_count": null,
   "id": "4d0aea2c",
   "metadata": {},
   "outputs": [
    {
     "data": {
      "text/html": [
       "<div>\n",
       "<style scoped>\n",
       "    .dataframe tbody tr th:only-of-type {\n",
       "        vertical-align: middle;\n",
       "    }\n",
       "\n",
       "    .dataframe tbody tr th {\n",
       "        vertical-align: top;\n",
       "    }\n",
       "\n",
       "    .dataframe thead th {\n",
       "        text-align: right;\n",
       "    }\n",
       "</style>\n",
       "<table border=\"1\" class=\"dataframe\">\n",
       "  <thead>\n",
       "    <tr style=\"text-align: right;\">\n",
       "      <th></th>\n",
       "      <th>KIN_ACC_ID</th>\n",
       "      <th>kinase_paper</th>\n",
       "      <th>GENE</th>\n",
       "      <th>SUB_GENE</th>\n",
       "      <th>SUB_MOD_RSD</th>\n",
       "      <th>substrate</th>\n",
       "      <th>substrate_uniprot</th>\n",
       "      <th>substrate_genes</th>\n",
       "      <th>substrate_sequence</th>\n",
       "      <th>substrate_species</th>\n",
       "    </tr>\n",
       "  </thead>\n",
       "  <tbody>\n",
       "    <tr>\n",
       "      <th>0</th>\n",
       "      <td>Q92630</td>\n",
       "      <td>DYRK2</td>\n",
       "      <td>DYRK2</td>\n",
       "      <td>SIAH2</td>\n",
       "      <td>S68</td>\n",
       "      <td>GGGAGPVsPQHHELT</td>\n",
       "      <td>O43255</td>\n",
       "      <td>SIAH2</td>\n",
       "      <td>MSRPSSTGPSANKPCSKQPPPQPQHTPSPAAPPAAATISAAGPGSS...</td>\n",
       "      <td>Homo sapiens (Human)</td>\n",
       "    </tr>\n",
       "    <tr>\n",
       "      <th>1</th>\n",
       "      <td>Q92630</td>\n",
       "      <td>DYRK2</td>\n",
       "      <td>DYRK2</td>\n",
       "      <td>CARHSP1</td>\n",
       "      <td>S41</td>\n",
       "      <td>LRGNVVPsPLPtRRt</td>\n",
       "      <td>Q9Y2V2</td>\n",
       "      <td>CARHSP1</td>\n",
       "      <td>MSSEPPPPPQPPTHQASVGLLDTPRSRERSPSPLRGNVVPSPLPTR...</td>\n",
       "      <td>Homo sapiens (Human)</td>\n",
       "    </tr>\n",
       "    <tr>\n",
       "      <th>2</th>\n",
       "      <td>Q92630</td>\n",
       "      <td>DYRK2</td>\n",
       "      <td>DYRK2</td>\n",
       "      <td>DCX</td>\n",
       "      <td>S306</td>\n",
       "      <td>GPMRRSKsPADSANG</td>\n",
       "      <td>O43602</td>\n",
       "      <td>DCX DBCN LISX</td>\n",
       "      <td>MELDFGHFDERDKTSRNMRGSRMNGLPSPTHSAHCSFYRTRTLQAL...</td>\n",
       "      <td>Homo sapiens (Human)</td>\n",
       "    </tr>\n",
       "    <tr>\n",
       "      <th>3</th>\n",
       "      <td>Q92630</td>\n",
       "      <td>DYRK2</td>\n",
       "      <td>DYRK2</td>\n",
       "      <td>CDC25A</td>\n",
       "      <td>S283</td>\n",
       "      <td>PErsQEEsPPGSTKr</td>\n",
       "      <td>P30304</td>\n",
       "      <td>CDC25A</td>\n",
       "      <td>MELGPEPPHRRRLLFACSPPPASQPVVKALFGASAAGGLSPVTNLT...</td>\n",
       "      <td>Homo sapiens (Human)</td>\n",
       "    </tr>\n",
       "    <tr>\n",
       "      <th>4</th>\n",
       "      <td>Q92630</td>\n",
       "      <td>DYRK2</td>\n",
       "      <td>DYRK2</td>\n",
       "      <td>SIAH2</td>\n",
       "      <td>T119</td>\n",
       "      <td>PTCRGALtPSIRNLA</td>\n",
       "      <td>O43255</td>\n",
       "      <td>SIAH2</td>\n",
       "      <td>MSRPSSTGPSANKPCSKQPPPQPQHTPSPAAPPAAATISAAGPGSS...</td>\n",
       "      <td>Homo sapiens (Human)</td>\n",
       "    </tr>\n",
       "  </tbody>\n",
       "</table>\n",
       "</div>"
      ],
      "text/plain": [
       "  KIN_ACC_ID kinase_paper   GENE SUB_GENE SUB_MOD_RSD        substrate  \\\n",
       "0     Q92630        DYRK2  DYRK2    SIAH2         S68  GGGAGPVsPQHHELT   \n",
       "1     Q92630        DYRK2  DYRK2  CARHSP1         S41  LRGNVVPsPLPtRRt   \n",
       "2     Q92630        DYRK2  DYRK2      DCX        S306  GPMRRSKsPADSANG   \n",
       "3     Q92630        DYRK2  DYRK2   CDC25A        S283  PErsQEEsPPGSTKr   \n",
       "4     Q92630        DYRK2  DYRK2    SIAH2        T119  PTCRGALtPSIRNLA   \n",
       "\n",
       "  substrate_uniprot substrate_genes  \\\n",
       "0            O43255           SIAH2   \n",
       "1            Q9Y2V2         CARHSP1   \n",
       "2            O43602   DCX DBCN LISX   \n",
       "3            P30304          CDC25A   \n",
       "4            O43255           SIAH2   \n",
       "\n",
       "                                  substrate_sequence     substrate_species  \n",
       "0  MSRPSSTGPSANKPCSKQPPPQPQHTPSPAAPPAAATISAAGPGSS...  Homo sapiens (Human)  \n",
       "1  MSSEPPPPPQPPTHQASVGLLDTPRSRERSPSPLRGNVVPSPLPTR...  Homo sapiens (Human)  \n",
       "2  MELDFGHFDERDKTSRNMRGSRMNGLPSPTHSAHCSFYRTRTLQAL...  Homo sapiens (Human)  \n",
       "3  MELGPEPPHRRRLLFACSPPPASQPVVKALFGASAAGGLSPVTNLT...  Homo sapiens (Human)  \n",
       "4  MSRPSSTGPSANKPCSKQPPPQPQHTPSPAAPPAAATISAAGPGSS...  Homo sapiens (Human)  "
      ]
     },
     "execution_count": null,
     "metadata": {},
     "output_type": "execute_result"
    }
   ],
   "source": [
    "psp.head()"
   ]
  },
  {
   "cell_type": "code",
   "execution_count": null,
   "id": "a4a920db",
   "metadata": {},
   "outputs": [
    {
     "data": {
      "text/plain": [
       "(14069, 10)"
      ]
     },
     "execution_count": null,
     "metadata": {},
     "output_type": "execute_result"
    }
   ],
   "source": [
    "psp.shape"
   ]
  },
  {
   "cell_type": "markdown",
   "id": "5d71bdf1",
   "metadata": {},
   "source": [
    "### Kinase mapping"
   ]
  },
  {
   "cell_type": "code",
   "execution_count": null,
   "id": "d68c46b7",
   "metadata": {},
   "outputs": [],
   "source": [
    "# psp.KIN_ACC_ID.drop_duplicates().to_csv('raw/psp_kin_id.csv')"
   ]
  },
  {
   "cell_type": "markdown",
   "id": "d97d4805",
   "metadata": {},
   "source": [
    "Mapp KIN_ACC_ID to uniprot id\n",
    "\n",
    "440 IDs were mapped to 440 results\n",
    "\n",
    "1 ID was not mapped:\n",
    "\n",
    "AAA58698"
   ]
  },
  {
   "cell_type": "code",
   "execution_count": null,
   "id": "f039fe87",
   "metadata": {},
   "outputs": [
    {
     "name": "stderr",
     "output_type": "stream",
     "text": [
      "/home/sky1ove/miniconda3/lib/python3.13/site-packages/openpyxl/styles/stylesheet.py:237: UserWarning: Workbook contains no default style, apply openpyxl's default\n",
      "  warn(\"Workbook contains no default style, apply openpyxl's default\")\n"
     ]
    }
   ],
   "source": [
    "kinase_id = pd.read_excel('raw/idmapping_2025_03_02_psp_kinase.xlsx')[['From','Entry','Gene Names']]"
   ]
  },
  {
   "cell_type": "code",
   "execution_count": null,
   "id": "314a55df",
   "metadata": {},
   "outputs": [],
   "source": [
    "kinase_id.columns = ['KIN_ACC_ID','kinase_uniprot','kinase_genes']"
   ]
  },
  {
   "cell_type": "code",
   "execution_count": null,
   "id": "594ff52c",
   "metadata": {},
   "outputs": [
    {
     "data": {
      "text/html": [
       "<div>\n",
       "<style scoped>\n",
       "    .dataframe tbody tr th:only-of-type {\n",
       "        vertical-align: middle;\n",
       "    }\n",
       "\n",
       "    .dataframe tbody tr th {\n",
       "        vertical-align: top;\n",
       "    }\n",
       "\n",
       "    .dataframe thead th {\n",
       "        text-align: right;\n",
       "    }\n",
       "</style>\n",
       "<table border=\"1\" class=\"dataframe\">\n",
       "  <thead>\n",
       "    <tr style=\"text-align: right;\">\n",
       "      <th></th>\n",
       "      <th>KIN_ACC_ID</th>\n",
       "      <th>kinase_uniprot</th>\n",
       "      <th>kinase_genes</th>\n",
       "    </tr>\n",
       "  </thead>\n",
       "  <tbody>\n",
       "    <tr>\n",
       "      <th>124</th>\n",
       "      <td>A9UF07</td>\n",
       "      <td>A9UF07</td>\n",
       "      <td>BCR/ABL fusion</td>\n",
       "    </tr>\n",
       "  </tbody>\n",
       "</table>\n",
       "</div>"
      ],
      "text/plain": [
       "    KIN_ACC_ID kinase_uniprot    kinase_genes\n",
       "124     A9UF07         A9UF07  BCR/ABL fusion"
      ]
     },
     "execution_count": null,
     "metadata": {},
     "output_type": "execute_result"
    }
   ],
   "source": [
    "kinase_id[kinase_id.KIN_ACC_ID==\"A9UF07\"]"
   ]
  },
  {
   "cell_type": "code",
   "execution_count": null,
   "id": "5ab83ddf",
   "metadata": {},
   "outputs": [],
   "source": [
    "psp['KIN_ACC_ID'] = psp['KIN_ACC_ID'].replace('A9UF07','P00519')"
   ]
  },
  {
   "cell_type": "code",
   "execution_count": null,
   "id": "9a31bc7f",
   "metadata": {},
   "outputs": [],
   "source": [
    "psp = psp.merge(kinase_id)"
   ]
  },
  {
   "cell_type": "code",
   "execution_count": null,
   "id": "356d66ad",
   "metadata": {},
   "outputs": [],
   "source": [
    "psp = psp.rename(columns={'SUB_MOD_RSD':'site'})"
   ]
  },
  {
   "cell_type": "code",
   "execution_count": null,
   "id": "f366c161",
   "metadata": {},
   "outputs": [],
   "source": [
    "psp = psp[['kinase_uniprot','kinase_genes','kinase_paper','substrate_uniprot','substrate_genes','site','substrate_sequence','substrate','substrate_species']]"
   ]
  },
  {
   "cell_type": "code",
   "execution_count": null,
   "id": "982e4ee1",
   "metadata": {},
   "outputs": [
    {
     "data": {
      "text/plain": [
       "kinase_uniprot          0\n",
       "kinase_genes            0\n",
       "kinase_paper          134\n",
       "substrate_uniprot       0\n",
       "substrate_genes         0\n",
       "site                    0\n",
       "substrate_sequence      0\n",
       "substrate               0\n",
       "substrate_species       0\n",
       "dtype: int64"
      ]
     },
     "execution_count": null,
     "metadata": {},
     "output_type": "execute_result"
    }
   ],
   "source": [
    "psp.isna().sum()"
   ]
  },
  {
   "cell_type": "code",
   "execution_count": null,
   "id": "0374bbe0",
   "metadata": {},
   "outputs": [],
   "source": [
    "psp = psp.dropna(subset='substrate_sequence').reset_index(drop=True)"
   ]
  },
  {
   "cell_type": "markdown",
   "id": "07bc7e9c",
   "metadata": {},
   "source": [
    "### Check if kinase-uniprot belongs to kinase class"
   ]
  },
  {
   "cell_type": "markdown",
   "id": "b706a8ae",
   "metadata": {},
   "source": [
    "Not mapped:"
   ]
  },
  {
   "cell_type": "code",
   "execution_count": null,
   "id": "a345f95e-d9a5-4f61-b5a2-673aee5c9b49",
   "metadata": {},
   "outputs": [],
   "source": [
    "from katlas.data import *"
   ]
  },
  {
   "cell_type": "code",
   "execution_count": null,
   "id": "b5dff04e-63fd-44c6-96c1-9db91df4439f",
   "metadata": {},
   "outputs": [],
   "source": [
    "kinase_uniprot=Data.get_kinase_uniprot()"
   ]
  },
  {
   "cell_type": "code",
   "execution_count": null,
   "id": "676c8ba4",
   "metadata": {},
   "outputs": [
    {
     "data": {
      "text/plain": [
       "kinase_genes\n",
       "CSNK2B CK2N G5A                13\n",
       "PRKAG2                          9\n",
       "PRKAB1 AMPK                     9\n",
       "GTF2F1 RAP74                    4\n",
       "BLVRA BLVR BVR                  3\n",
       "TGM2                            2\n",
       "RET/PTC2                        2\n",
       "PHKA1 PHKA                      1\n",
       "HSPA5 GRP78                     1\n",
       "ENPP3 PDNP3                     1\n",
       "PIK3R1 GRB1                     1\n",
       "CERT1 CERT COL4A3BP STARD11     1\n",
       "JMJD6 KIAA0585 PSR PTDSR        1\n",
       "Name: count, dtype: int64"
      ]
     },
     "execution_count": null,
     "metadata": {},
     "output_type": "execute_result"
    }
   ],
   "source": [
    "psp[~psp.kinase_uniprot.isin(kinase_uniprot.Entry)].kinase_genes.value_counts()"
   ]
  },
  {
   "cell_type": "markdown",
   "id": "5c014cfb",
   "metadata": {},
   "source": [
    "CSNK2B belongs to CK2, PRKAB1, PRKAG2 belongs to AMPK subunit; as their count is not many, we can simply ignore them"
   ]
  },
  {
   "cell_type": "code",
   "execution_count": null,
   "id": "fc390156",
   "metadata": {},
   "outputs": [],
   "source": [
    "psp = psp[psp.kinase_uniprot.isin(kinase_uniprot.Entry)].copy()"
   ]
  },
  {
   "cell_type": "code",
   "execution_count": null,
   "id": "9dc0dd21",
   "metadata": {},
   "outputs": [
    {
     "data": {
      "text/plain": [
       "(14016, 9)"
      ]
     },
     "execution_count": null,
     "metadata": {},
     "output_type": "execute_result"
    }
   ],
   "source": [
    "psp.shape"
   ]
  },
  {
   "cell_type": "markdown",
   "id": "3e7bead2",
   "metadata": {},
   "source": [
    "### Validate site"
   ]
  },
  {
   "cell_type": "code",
   "execution_count": null,
   "id": "33bfc876-6ed8-4d2c-8aa6-56cd586507d3",
   "metadata": {},
   "outputs": [],
   "source": [
    "from katlas.utils import *"
   ]
  },
  {
   "cell_type": "markdown",
   "id": "9f740fdd",
   "metadata": {},
   "source": [
    "Check if it match with substrate sequence"
   ]
  },
  {
   "cell_type": "code",
   "execution_count": null,
   "id": "fd5d8fe3",
   "metadata": {},
   "outputs": [
    {
     "name": "stderr",
     "output_type": "stream",
     "text": [
      "100%|███████████████████████████████████████████████████████████████████████| 14016/14016 [00:00<00:00, 26427.27it/s]\n"
     ]
    }
   ],
   "source": [
    "psp['site_seq']=extract_site_seq(psp,seq_col='substrate_sequence',site_col='site',n=7)"
   ]
  },
  {
   "cell_type": "code",
   "execution_count": null,
   "id": "61e9786a",
   "metadata": {},
   "outputs": [
    {
     "data": {
      "text/plain": [
       "True     13156\n",
       "False      860\n",
       "Name: count, dtype: int64"
      ]
     },
     "execution_count": null,
     "metadata": {},
     "output_type": "execute_result"
    }
   ],
   "source": [
    "(psp['site_seq']==psp['substrate'].str.upper()).value_counts()"
   ]
  },
  {
   "cell_type": "code",
   "execution_count": null,
   "id": "3f80d930",
   "metadata": {},
   "outputs": [],
   "source": [
    "unmatch = psp[~(psp['site_seq']==psp['substrate'].str.upper())]"
   ]
  },
  {
   "cell_type": "code",
   "execution_count": null,
   "id": "cf056f7c",
   "metadata": {},
   "outputs": [
    {
     "data": {
      "text/plain": [
       "kinase_genes\n",
       "PRKACA PKACA                                  40\n",
       "MAPK1 ERK2 PRKM1 PRKM2                        40\n",
       "SRC SRC1                                      39\n",
       "CDK1 CDC2 CDC28A CDKN1 P34CDC2                38\n",
       "GSK3B                                         37\n",
       "MAPK3 ERK1 PRKM3                              35\n",
       "AURKB AIK2 AIM1 AIRK2 ARK2 STK1 STK12 STK5    33\n",
       "PRKCA PKCA PRKACA                             33\n",
       "PRKCB PKCB PRKCB1                             25\n",
       "CDK5 CDKN5 PSSALRE                            25\n",
       "Name: count, dtype: int64"
      ]
     },
     "execution_count": null,
     "metadata": {},
     "output_type": "execute_result"
    }
   ],
   "source": [
    "unmatch.kinase_genes.value_counts().head(10)"
   ]
  },
  {
   "cell_type": "markdown",
   "id": "8fe784c5",
   "metadata": {},
   "source": [
    "We'll drop the rows with unmatch substrate sequence"
   ]
  },
  {
   "cell_type": "code",
   "execution_count": null,
   "id": "4c6b5d17",
   "metadata": {},
   "outputs": [],
   "source": [
    "psp = psp[psp['site_seq']==psp['substrate'].str.upper()]"
   ]
  },
  {
   "cell_type": "markdown",
   "id": "2b1eb9ba",
   "metadata": {},
   "source": [
    "Drop sites with center aa not in S,T or Y"
   ]
  },
  {
   "cell_type": "code",
   "execution_count": null,
   "id": "ad03e676",
   "metadata": {},
   "outputs": [
    {
     "data": {
      "text/plain": [
       "site_seq\n",
       "S    8303\n",
       "T    2812\n",
       "Y    2029\n",
       "H       6\n",
       "K       4\n",
       "R       2\n",
       "Name: count, dtype: int64"
      ]
     },
     "execution_count": null,
     "metadata": {},
     "output_type": "execute_result"
    }
   ],
   "source": [
    "psp['site_seq'].str[7].value_counts()"
   ]
  },
  {
   "cell_type": "code",
   "execution_count": null,
   "id": "0be19c77",
   "metadata": {},
   "outputs": [],
   "source": [
    "psp = psp[psp['site_seq'].str[7].str.upper().isin(list('STY'))]"
   ]
  },
  {
   "cell_type": "markdown",
   "id": "40a072f1",
   "metadata": {},
   "source": [
    "Drop site with unmatched residue and position"
   ]
  },
  {
   "cell_type": "code",
   "execution_count": null,
   "id": "2dc74bdc",
   "metadata": {},
   "outputs": [],
   "source": [
    "psp['site_match'] =validate_site_df(psp,'site','substrate_sequence')"
   ]
  },
  {
   "cell_type": "code",
   "execution_count": null,
   "id": "60951766",
   "metadata": {},
   "outputs": [
    {
     "data": {
      "text/plain": [
       "site_match\n",
       "1    13144\n",
       "Name: count, dtype: int64"
      ]
     },
     "execution_count": null,
     "metadata": {},
     "output_type": "execute_result"
    }
   ],
   "source": [
    "psp['site_match'].value_counts()"
   ]
  },
  {
   "cell_type": "code",
   "execution_count": null,
   "id": "f39a5630",
   "metadata": {},
   "outputs": [
    {
     "data": {
      "text/plain": [
       "(13144, 11)"
      ]
     },
     "execution_count": null,
     "metadata": {},
     "output_type": "execute_result"
    }
   ],
   "source": [
    "psp.shape"
   ]
  },
  {
   "cell_type": "markdown",
   "id": "7ed6b2f7",
   "metadata": {},
   "source": [
    "### Save"
   ]
  },
  {
   "cell_type": "code",
   "execution_count": null,
   "id": "bcd43ca7",
   "metadata": {},
   "outputs": [],
   "source": [
    "psp['source']='PSP'"
   ]
  },
  {
   "cell_type": "code",
   "execution_count": null,
   "id": "61760e56",
   "metadata": {},
   "outputs": [
    {
     "data": {
      "text/html": [
       "<div>\n",
       "<style scoped>\n",
       "    .dataframe tbody tr th:only-of-type {\n",
       "        vertical-align: middle;\n",
       "    }\n",
       "\n",
       "    .dataframe tbody tr th {\n",
       "        vertical-align: top;\n",
       "    }\n",
       "\n",
       "    .dataframe thead th {\n",
       "        text-align: right;\n",
       "    }\n",
       "</style>\n",
       "<table border=\"1\" class=\"dataframe\">\n",
       "  <thead>\n",
       "    <tr style=\"text-align: right;\">\n",
       "      <th></th>\n",
       "      <th>kinase_uniprot</th>\n",
       "      <th>kinase_genes</th>\n",
       "      <th>kinase_paper</th>\n",
       "      <th>substrate_uniprot</th>\n",
       "      <th>substrate_genes</th>\n",
       "      <th>site</th>\n",
       "      <th>substrate_sequence</th>\n",
       "      <th>substrate</th>\n",
       "      <th>substrate_species</th>\n",
       "      <th>site_seq</th>\n",
       "      <th>site_match</th>\n",
       "      <th>source</th>\n",
       "    </tr>\n",
       "  </thead>\n",
       "  <tbody>\n",
       "    <tr>\n",
       "      <th>0</th>\n",
       "      <td>Q92630</td>\n",
       "      <td>DYRK2</td>\n",
       "      <td>DYRK2</td>\n",
       "      <td>O43255</td>\n",
       "      <td>SIAH2</td>\n",
       "      <td>S68</td>\n",
       "      <td>MSRPSSTGPSANKPCSKQPPPQPQHTPSPAAPPAAATISAAGPGSS...</td>\n",
       "      <td>GGGAGPVsPQHHELT</td>\n",
       "      <td>Homo sapiens (Human)</td>\n",
       "      <td>GGGAGPVSPQHHELT</td>\n",
       "      <td>1</td>\n",
       "      <td>PSP</td>\n",
       "    </tr>\n",
       "    <tr>\n",
       "      <th>1</th>\n",
       "      <td>Q92630</td>\n",
       "      <td>DYRK2</td>\n",
       "      <td>DYRK2</td>\n",
       "      <td>Q9Y2V2</td>\n",
       "      <td>CARHSP1</td>\n",
       "      <td>S41</td>\n",
       "      <td>MSSEPPPPPQPPTHQASVGLLDTPRSRERSPSPLRGNVVPSPLPTR...</td>\n",
       "      <td>LRGNVVPsPLPtRRt</td>\n",
       "      <td>Homo sapiens (Human)</td>\n",
       "      <td>LRGNVVPSPLPTRRT</td>\n",
       "      <td>1</td>\n",
       "      <td>PSP</td>\n",
       "    </tr>\n",
       "    <tr>\n",
       "      <th>3</th>\n",
       "      <td>Q92630</td>\n",
       "      <td>DYRK2</td>\n",
       "      <td>DYRK2</td>\n",
       "      <td>P30304</td>\n",
       "      <td>CDC25A</td>\n",
       "      <td>S283</td>\n",
       "      <td>MELGPEPPHRRRLLFACSPPPASQPVVKALFGASAAGGLSPVTNLT...</td>\n",
       "      <td>PErsQEEsPPGSTKr</td>\n",
       "      <td>Homo sapiens (Human)</td>\n",
       "      <td>PERSQEESPPGSTKR</td>\n",
       "      <td>1</td>\n",
       "      <td>PSP</td>\n",
       "    </tr>\n",
       "    <tr>\n",
       "      <th>4</th>\n",
       "      <td>Q92630</td>\n",
       "      <td>DYRK2</td>\n",
       "      <td>DYRK2</td>\n",
       "      <td>O43255</td>\n",
       "      <td>SIAH2</td>\n",
       "      <td>T119</td>\n",
       "      <td>MSRPSSTGPSANKPCSKQPPPQPQHTPSPAAPPAAATISAAGPGSS...</td>\n",
       "      <td>PTCRGALtPSIRNLA</td>\n",
       "      <td>Homo sapiens (Human)</td>\n",
       "      <td>PTCRGALTPSIRNLA</td>\n",
       "      <td>1</td>\n",
       "      <td>PSP</td>\n",
       "    </tr>\n",
       "    <tr>\n",
       "      <th>5</th>\n",
       "      <td>Q92630</td>\n",
       "      <td>DYRK2</td>\n",
       "      <td>DYRK2</td>\n",
       "      <td>O75449</td>\n",
       "      <td>KATNA1</td>\n",
       "      <td>S42</td>\n",
       "      <td>MSLLMISENVKLAREYALLGNYDSAMVYYQGVLDQMNKYLYSVKDT...</td>\n",
       "      <td>QMNKYLYsVkDTYLQ</td>\n",
       "      <td>Homo sapiens (Human)</td>\n",
       "      <td>QMNKYLYSVKDTYLQ</td>\n",
       "      <td>1</td>\n",
       "      <td>PSP</td>\n",
       "    </tr>\n",
       "  </tbody>\n",
       "</table>\n",
       "</div>"
      ],
      "text/plain": [
       "  kinase_uniprot kinase_genes kinase_paper substrate_uniprot substrate_genes  \\\n",
       "0         Q92630        DYRK2        DYRK2            O43255           SIAH2   \n",
       "1         Q92630        DYRK2        DYRK2            Q9Y2V2         CARHSP1   \n",
       "3         Q92630        DYRK2        DYRK2            P30304          CDC25A   \n",
       "4         Q92630        DYRK2        DYRK2            O43255           SIAH2   \n",
       "5         Q92630        DYRK2        DYRK2            O75449          KATNA1   \n",
       "\n",
       "   site                                 substrate_sequence        substrate  \\\n",
       "0   S68  MSRPSSTGPSANKPCSKQPPPQPQHTPSPAAPPAAATISAAGPGSS...  GGGAGPVsPQHHELT   \n",
       "1   S41  MSSEPPPPPQPPTHQASVGLLDTPRSRERSPSPLRGNVVPSPLPTR...  LRGNVVPsPLPtRRt   \n",
       "3  S283  MELGPEPPHRRRLLFACSPPPASQPVVKALFGASAAGGLSPVTNLT...  PErsQEEsPPGSTKr   \n",
       "4  T119  MSRPSSTGPSANKPCSKQPPPQPQHTPSPAAPPAAATISAAGPGSS...  PTCRGALtPSIRNLA   \n",
       "5   S42  MSLLMISENVKLAREYALLGNYDSAMVYYQGVLDQMNKYLYSVKDT...  QMNKYLYsVkDTYLQ   \n",
       "\n",
       "      substrate_species         site_seq  site_match source  \n",
       "0  Homo sapiens (Human)  GGGAGPVSPQHHELT           1    PSP  \n",
       "1  Homo sapiens (Human)  LRGNVVPSPLPTRRT           1    PSP  \n",
       "3  Homo sapiens (Human)  PERSQEESPPGSTKR           1    PSP  \n",
       "4  Homo sapiens (Human)  PTCRGALTPSIRNLA           1    PSP  \n",
       "5  Homo sapiens (Human)  QMNKYLYSVKDTYLQ           1    PSP  "
      ]
     },
     "execution_count": null,
     "metadata": {},
     "output_type": "execute_result"
    }
   ],
   "source": [
    "psp.head()"
   ]
  },
  {
   "cell_type": "code",
   "execution_count": null,
   "id": "cb042821",
   "metadata": {},
   "outputs": [],
   "source": [
    "# psp.to_excel('raw/psp_human.xlsx',index=False)"
   ]
  },
  {
   "cell_type": "markdown",
   "id": "62637984",
   "metadata": {},
   "source": [
    "## KiNET (ESPD + iPTMNet)\n",
    "\n",
    "> an integration of PSP, iPTMNet, EPSD"
   ]
  },
  {
   "cell_type": "markdown",
   "id": "109fde2f",
   "metadata": {},
   "source": [
    "### Data"
   ]
  },
  {
   "cell_type": "markdown",
   "id": "9779578f",
   "metadata": {},
   "source": [
    "KiNET paper: https://www.nature.com/articles/s41540-024-00442-5\n",
    "\n",
    "KiNET web: https://kinet.kinametrix.com/\n",
    "\n",
    "iPTMnet paper: https://pmc.ncbi.nlm.nih.gov/articles/PMC5753337/;\n",
    "\n",
    "iPTMnet web: https://research.bioinformatics.udel.edu/iptmnet/ ; can't directly download through Download\n",
    "\n",
    "EPSD paper: https://academic.oup.com/bib/article/22/1/298/5686325?login=false\n",
    "\n",
    "EPSD web: https://epsd.biocuckoo.cn/Download.php"
   ]
  },
  {
   "cell_type": "markdown",
   "id": "1336b086",
   "metadata": {},
   "source": [
    "Go to https://kinet.kinametrix.com/, and click Download the full KiNet interaction dataset"
   ]
  },
  {
   "cell_type": "code",
   "execution_count": null,
   "id": "f8d10415",
   "metadata": {},
   "outputs": [],
   "source": [
    "df = pd.read_csv('raw/ksi_source_full_dataset.csv')"
   ]
  },
  {
   "cell_type": "code",
   "execution_count": null,
   "id": "fbaa40ae",
   "metadata": {},
   "outputs": [],
   "source": [
    "df = df.dropna(subset='Kinase')"
   ]
  },
  {
   "cell_type": "code",
   "execution_count": null,
   "id": "ea20e0ef",
   "metadata": {},
   "outputs": [
    {
     "data": {
      "text/plain": [
       "Source Database\n",
       "PhosphoSitePlus    13135\n",
       "EPSD               10442\n",
       "iPTMNet             3846\n",
       "Name: count, dtype: int64"
      ]
     },
     "execution_count": null,
     "metadata": {},
     "output_type": "execute_result"
    }
   ],
   "source": [
    "df['Source Database'].value_counts()"
   ]
  },
  {
   "cell_type": "markdown",
   "id": "7089039f",
   "metadata": {},
   "source": [
    "As we already included PSP, we will drop it"
   ]
  },
  {
   "cell_type": "code",
   "execution_count": null,
   "id": "fb990f7a",
   "metadata": {},
   "outputs": [],
   "source": [
    "df = df[df['Source Database']!='PhosphoSitePlus']"
   ]
  },
  {
   "cell_type": "code",
   "execution_count": null,
   "id": "1591ee59",
   "metadata": {},
   "outputs": [
    {
     "data": {
      "text/plain": [
       "(14288, 8)"
      ]
     },
     "execution_count": null,
     "metadata": {},
     "output_type": "execute_result"
    }
   ],
   "source": [
    "df.shape"
   ]
  },
  {
   "cell_type": "markdown",
   "id": "89b7c435",
   "metadata": {},
   "source": [
    "### Kinase mapping"
   ]
  },
  {
   "cell_type": "code",
   "execution_count": null,
   "id": "f95346f9",
   "metadata": {},
   "outputs": [
    {
     "data": {
      "text/plain": [
       "Kinase\n",
       "True     14283\n",
       "False        5\n",
       "Name: count, dtype: int64"
      ]
     },
     "execution_count": null,
     "metadata": {},
     "output_type": "execute_result"
    }
   ],
   "source": [
    "df.Kinase.isin(kinase_uniprot.Entry).value_counts()"
   ]
  },
  {
   "cell_type": "code",
   "execution_count": null,
   "id": "5e4b455b",
   "metadata": {},
   "outputs": [],
   "source": [
    "df = df[df.Kinase.isin(kinase_uniprot.Entry)]"
   ]
  },
  {
   "cell_type": "markdown",
   "id": "2770c4d3",
   "metadata": {},
   "source": [
    "### Substrate mapping"
   ]
  },
  {
   "cell_type": "code",
   "execution_count": null,
   "id": "82dfa5c7",
   "metadata": {},
   "outputs": [],
   "source": [
    "# df.Substrate.drop_duplicates().to_csv('raw/KiNet_substrate_id.csv')"
   ]
  },
  {
   "cell_type": "markdown",
   "id": "e96cba31",
   "metadata": {},
   "source": [
    "Map the id to uniprot seq"
   ]
  },
  {
   "cell_type": "code",
   "execution_count": null,
   "id": "8c016085",
   "metadata": {},
   "outputs": [
    {
     "name": "stderr",
     "output_type": "stream",
     "text": [
      "/home/sky1ove/miniconda3/lib/python3.13/site-packages/logomaker/../openpyxl/styles/stylesheet.py:237: UserWarning: Workbook contains no default style, apply openpyxl's default\n",
      "  warn(\"Workbook contains no default style, apply openpyxl's default\")\n"
     ]
    },
    {
     "name": "stdout",
     "output_type": "stream",
     "text": [
      "Shape before processing (14283, 8)\n",
      "Species counts: substrate_species\n",
      "Homo sapiens (Human)    14283\n",
      "Name: count, dtype: int64\n",
      "Removing non-human substrates\n",
      "Shape after processing (14283, 11)\n"
     ]
    }
   ],
   "source": [
    "df = map_substrate('raw/idmapping_2025_03_02_KiNET_substrate.xlsx',df,'Substrate')"
   ]
  },
  {
   "cell_type": "code",
   "execution_count": null,
   "id": "c30905ed",
   "metadata": {},
   "outputs": [],
   "source": [
    "# substrate_id = pd.read_excel('raw/idmapping_2025_03_02_KiNET_substrate.xlsx')[['From','Entry','Gene Names','Sequence']]\n",
    "\n",
    "# substrate_id.columns = ['Substrate','substrate_uniprot','substrate_genes','substrate_sequence']\n",
    "\n",
    "# df = df.merge(substrate_id)"
   ]
  },
  {
   "cell_type": "code",
   "execution_count": null,
   "id": "e64926ff",
   "metadata": {},
   "outputs": [],
   "source": [
    "df = df[['Kinase','Kinase Name','substrate_uniprot','substrate_genes','Site','Source Database','Evidence','substrate_sequence']]"
   ]
  },
  {
   "cell_type": "code",
   "execution_count": null,
   "id": "a30acab5",
   "metadata": {},
   "outputs": [
    {
     "data": {
      "text/plain": [
       "Index(['Kinase', 'Kinase Name', 'substrate_uniprot', 'substrate_genes', 'Site',\n",
       "       'Source Database', 'Evidence', 'substrate_sequence'],\n",
       "      dtype='object')"
      ]
     },
     "execution_count": null,
     "metadata": {},
     "output_type": "execute_result"
    }
   ],
   "source": [
    "df.columns"
   ]
  },
  {
   "cell_type": "code",
   "execution_count": null,
   "id": "3f56309b",
   "metadata": {},
   "outputs": [],
   "source": [
    "df.columns = ['kinase_uniprot', 'Kinase Name', 'substrate_uniprot', 'substrate_genes', 'site',\n",
    "\n",
    "       'source', 'evidence', 'substrate_sequence']"
   ]
  },
  {
   "cell_type": "code",
   "execution_count": null,
   "id": "e1196d58",
   "metadata": {},
   "outputs": [
    {
     "data": {
      "text/plain": [
       "(14283, 8)"
      ]
     },
     "execution_count": null,
     "metadata": {},
     "output_type": "execute_result"
    }
   ],
   "source": [
    "df.shape"
   ]
  },
  {
   "cell_type": "markdown",
   "id": "15f44bbe",
   "metadata": {},
   "source": [
    "### Validate site"
   ]
  },
  {
   "cell_type": "markdown",
   "id": "7d95ff63",
   "metadata": {},
   "source": [
    "We drop site with site residue info unmatch with its site position info in the protein sequence"
   ]
  },
  {
   "cell_type": "code",
   "execution_count": null,
   "id": "bae6e355",
   "metadata": {},
   "outputs": [],
   "source": [
    "df['site_match'] =validate_site_df(df,'site','substrate_sequence')"
   ]
  },
  {
   "cell_type": "code",
   "execution_count": null,
   "id": "8a7484b0",
   "metadata": {},
   "outputs": [
    {
     "data": {
      "text/plain": [
       "site_match\n",
       "1    13786\n",
       "0      497\n",
       "Name: count, dtype: int64"
      ]
     },
     "execution_count": null,
     "metadata": {},
     "output_type": "execute_result"
    }
   ],
   "source": [
    "df.site_match.value_counts()"
   ]
  },
  {
   "cell_type": "code",
   "execution_count": null,
   "id": "e6890415",
   "metadata": {},
   "outputs": [
    {
     "data": {
      "text/plain": [
       "source\n",
       "iPTMNet    368\n",
       "EPSD       129\n",
       "Name: count, dtype: int64"
      ]
     },
     "execution_count": null,
     "metadata": {},
     "output_type": "execute_result"
    }
   ],
   "source": [
    "df[df.site_match==0].source.value_counts()"
   ]
  },
  {
   "cell_type": "code",
   "execution_count": null,
   "id": "e81d4b0c",
   "metadata": {},
   "outputs": [
    {
     "data": {
      "text/plain": [
       "source\n",
       "EPSD       10308\n",
       "iPTMNet     3478\n",
       "Name: count, dtype: int64"
      ]
     },
     "execution_count": null,
     "metadata": {},
     "output_type": "execute_result"
    }
   ],
   "source": [
    "df[df.site_match==1].source.value_counts()"
   ]
  },
  {
   "cell_type": "code",
   "execution_count": null,
   "id": "3c36c079",
   "metadata": {},
   "outputs": [],
   "source": [
    "df=df[df.site_match==1]"
   ]
  },
  {
   "cell_type": "code",
   "execution_count": null,
   "id": "0d5e95f4",
   "metadata": {},
   "outputs": [
    {
     "data": {
      "text/plain": [
       "(13786, 9)"
      ]
     },
     "execution_count": null,
     "metadata": {},
     "output_type": "execute_result"
    }
   ],
   "source": [
    "df.shape"
   ]
  },
  {
   "cell_type": "markdown",
   "id": "cd3a0dc1",
   "metadata": {},
   "source": [
    "### Save"
   ]
  },
  {
   "cell_type": "code",
   "execution_count": null,
   "id": "5a0a0e57",
   "metadata": {},
   "outputs": [
    {
     "data": {
      "text/html": [
       "<div>\n",
       "<style scoped>\n",
       "    .dataframe tbody tr th:only-of-type {\n",
       "        vertical-align: middle;\n",
       "    }\n",
       "\n",
       "    .dataframe tbody tr th {\n",
       "        vertical-align: top;\n",
       "    }\n",
       "\n",
       "    .dataframe thead th {\n",
       "        text-align: right;\n",
       "    }\n",
       "</style>\n",
       "<table border=\"1\" class=\"dataframe\">\n",
       "  <thead>\n",
       "    <tr style=\"text-align: right;\">\n",
       "      <th></th>\n",
       "      <th>kinase_uniprot</th>\n",
       "      <th>Kinase Name</th>\n",
       "      <th>substrate_uniprot</th>\n",
       "      <th>substrate_genes</th>\n",
       "      <th>site</th>\n",
       "      <th>source</th>\n",
       "      <th>evidence</th>\n",
       "      <th>substrate_sequence</th>\n",
       "      <th>site_match</th>\n",
       "    </tr>\n",
       "  </thead>\n",
       "  <tbody>\n",
       "    <tr>\n",
       "      <th>0</th>\n",
       "      <td>O00141</td>\n",
       "      <td>SGK1</td>\n",
       "      <td>O00213</td>\n",
       "      <td>APBB1 FE65 RIR</td>\n",
       "      <td>S610</td>\n",
       "      <td>EPSD</td>\n",
       "      <td>Unspecified experimental method</td>\n",
       "      <td>MSVPSSLSQSAINANSHGGPALSLPLPLHAAHNQLLNAKLQATAVG...</td>\n",
       "      <td>1</td>\n",
       "    </tr>\n",
       "    <tr>\n",
       "      <th>1</th>\n",
       "      <td>O00141</td>\n",
       "      <td>SGK1</td>\n",
       "      <td>O14920</td>\n",
       "      <td>IKBKB IKKB</td>\n",
       "      <td>S181</td>\n",
       "      <td>EPSD</td>\n",
       "      <td>Unspecified experimental method</td>\n",
       "      <td>MSWSPSLTTQTCGAWEMKERLGTGGFGNVIRWHNQETGEQIAIKQC...</td>\n",
       "      <td>1</td>\n",
       "    </tr>\n",
       "    <tr>\n",
       "      <th>2</th>\n",
       "      <td>O00141</td>\n",
       "      <td>SGK1</td>\n",
       "      <td>O15111</td>\n",
       "      <td>CHUK IKKA TCF16</td>\n",
       "      <td>S180</td>\n",
       "      <td>EPSD</td>\n",
       "      <td>Unspecified experimental method</td>\n",
       "      <td>MERPPGLRPGAGGPWEMRERLGTGGFGNVCLYQHRELDLKIAIKSC...</td>\n",
       "      <td>1</td>\n",
       "    </tr>\n",
       "    <tr>\n",
       "      <th>3</th>\n",
       "      <td>O00141</td>\n",
       "      <td>SGK1</td>\n",
       "      <td>O43524</td>\n",
       "      <td>FOXO3 FKHRL1 FOXO3A</td>\n",
       "      <td>T32</td>\n",
       "      <td>EPSD</td>\n",
       "      <td>Unspecified experimental method</td>\n",
       "      <td>MAEAPASPAPLSPLEVELDPEFEPQSRPRSCTWPLQRPELQASPAK...</td>\n",
       "      <td>1</td>\n",
       "    </tr>\n",
       "    <tr>\n",
       "      <th>4</th>\n",
       "      <td>O00141</td>\n",
       "      <td>SGK1</td>\n",
       "      <td>O43524</td>\n",
       "      <td>FOXO3 FKHRL1 FOXO3A</td>\n",
       "      <td>T32</td>\n",
       "      <td>iPTMNet</td>\n",
       "      <td>Text mining</td>\n",
       "      <td>MAEAPASPAPLSPLEVELDPEFEPQSRPRSCTWPLQRPELQASPAK...</td>\n",
       "      <td>1</td>\n",
       "    </tr>\n",
       "  </tbody>\n",
       "</table>\n",
       "</div>"
      ],
      "text/plain": [
       "  kinase_uniprot Kinase Name substrate_uniprot      substrate_genes  site  \\\n",
       "0         O00141        SGK1            O00213       APBB1 FE65 RIR  S610   \n",
       "1         O00141        SGK1            O14920           IKBKB IKKB  S181   \n",
       "2         O00141        SGK1            O15111      CHUK IKKA TCF16  S180   \n",
       "3         O00141        SGK1            O43524  FOXO3 FKHRL1 FOXO3A   T32   \n",
       "4         O00141        SGK1            O43524  FOXO3 FKHRL1 FOXO3A   T32   \n",
       "\n",
       "    source                         evidence  \\\n",
       "0     EPSD  Unspecified experimental method   \n",
       "1     EPSD  Unspecified experimental method   \n",
       "2     EPSD  Unspecified experimental method   \n",
       "3     EPSD  Unspecified experimental method   \n",
       "4  iPTMNet                      Text mining   \n",
       "\n",
       "                                  substrate_sequence  site_match  \n",
       "0  MSVPSSLSQSAINANSHGGPALSLPLPLHAAHNQLLNAKLQATAVG...           1  \n",
       "1  MSWSPSLTTQTCGAWEMKERLGTGGFGNVIRWHNQETGEQIAIKQC...           1  \n",
       "2  MERPPGLRPGAGGPWEMRERLGTGGFGNVCLYQHRELDLKIAIKSC...           1  \n",
       "3  MAEAPASPAPLSPLEVELDPEFEPQSRPRSCTWPLQRPELQASPAK...           1  \n",
       "4  MAEAPASPAPLSPLEVELDPEFEPQSRPRSCTWPLQRPELQASPAK...           1  "
      ]
     },
     "execution_count": null,
     "metadata": {},
     "output_type": "execute_result"
    }
   ],
   "source": [
    "df.head()"
   ]
  },
  {
   "cell_type": "code",
   "execution_count": null,
   "id": "9d330616",
   "metadata": {},
   "outputs": [],
   "source": [
    "# df.to_excel('raw/KiNet.xlsx',index=False)\n",
    "\n",
    "# df[df['source'] =='EPSD'].to_excel('raw/EPSD.xlsx',index=False)\n",
    "\n",
    "# df[df['source'] =='iPTMNet'].to_excel('raw/iPTMNet.xlsx',index=False)"
   ]
  },
  {
   "cell_type": "markdown",
   "id": "440c38d5",
   "metadata": {},
   "source": [
    "## Phospho.ELM"
   ]
  },
  {
   "cell_type": "markdown",
   "id": "45fa490d",
   "metadata": {},
   "source": [
    "### Data"
   ]
  },
  {
   "cell_type": "markdown",
   "id": "8e31f14b",
   "metadata": {},
   "source": [
    "paper: https://pmc.ncbi.nlm.nih.gov/articles/PMC3013696/"
   ]
  },
  {
   "cell_type": "markdown",
   "id": "bceceddb",
   "metadata": {},
   "source": [
    "Go to http://phospho.elm.eu.org/dataset.html, fill info-->accept, then download the dataset\n",
    "\n",
    "Open dump in excel, filter human and non-blank from kinases"
   ]
  },
  {
   "cell_type": "code",
   "execution_count": null,
   "id": "a1b8e886",
   "metadata": {},
   "outputs": [],
   "source": [
    "elm=pd.read_csv('raw/phosphoELM.csv')"
   ]
  },
  {
   "cell_type": "code",
   "execution_count": null,
   "id": "a7f0c1c6",
   "metadata": {},
   "outputs": [
    {
     "data": {
      "text/plain": [
       "(3599, 6)"
      ]
     },
     "execution_count": null,
     "metadata": {},
     "output_type": "execute_result"
    }
   ],
   "source": [
    "elm.shape"
   ]
  },
  {
   "cell_type": "code",
   "execution_count": null,
   "id": "bfe2cc44",
   "metadata": {},
   "outputs": [
    {
     "data": {
      "text/html": [
       "<div>\n",
       "<style scoped>\n",
       "    .dataframe tbody tr th:only-of-type {\n",
       "        vertical-align: middle;\n",
       "    }\n",
       "\n",
       "    .dataframe tbody tr th {\n",
       "        vertical-align: top;\n",
       "    }\n",
       "\n",
       "    .dataframe thead th {\n",
       "        text-align: right;\n",
       "    }\n",
       "</style>\n",
       "<table border=\"1\" class=\"dataframe\">\n",
       "  <thead>\n",
       "    <tr style=\"text-align: right;\">\n",
       "      <th></th>\n",
       "      <th>substrate_uniprot</th>\n",
       "      <th>position</th>\n",
       "      <th>acceptor</th>\n",
       "      <th>kinase</th>\n",
       "      <th>LTP_HTP</th>\n",
       "      <th>species</th>\n",
       "    </tr>\n",
       "  </thead>\n",
       "  <tbody>\n",
       "    <tr>\n",
       "      <th>0</th>\n",
       "      <td>O14543</td>\n",
       "      <td>204</td>\n",
       "      <td>Y</td>\n",
       "      <td>Lck</td>\n",
       "      <td>LTP</td>\n",
       "      <td>Homo sapiens</td>\n",
       "    </tr>\n",
       "    <tr>\n",
       "      <th>1</th>\n",
       "      <td>O14543</td>\n",
       "      <td>221</td>\n",
       "      <td>Y</td>\n",
       "      <td>Lck</td>\n",
       "      <td>LTP</td>\n",
       "      <td>Homo sapiens</td>\n",
       "    </tr>\n",
       "    <tr>\n",
       "      <th>2</th>\n",
       "      <td>O14746</td>\n",
       "      <td>824</td>\n",
       "      <td>S</td>\n",
       "      <td>PKB_group</td>\n",
       "      <td>LTP</td>\n",
       "      <td>Homo sapiens</td>\n",
       "    </tr>\n",
       "    <tr>\n",
       "      <th>3</th>\n",
       "      <td>O14746</td>\n",
       "      <td>227</td>\n",
       "      <td>S</td>\n",
       "      <td>PKB_group</td>\n",
       "      <td>LTP</td>\n",
       "      <td>Homo sapiens</td>\n",
       "    </tr>\n",
       "    <tr>\n",
       "      <th>4</th>\n",
       "      <td>O14746</td>\n",
       "      <td>707</td>\n",
       "      <td>Y</td>\n",
       "      <td>SRC</td>\n",
       "      <td>LTP</td>\n",
       "      <td>Homo sapiens</td>\n",
       "    </tr>\n",
       "  </tbody>\n",
       "</table>\n",
       "</div>"
      ],
      "text/plain": [
       "  substrate_uniprot  position acceptor     kinase LTP_HTP       species\n",
       "0            O14543       204        Y        Lck     LTP  Homo sapiens\n",
       "1            O14543       221        Y        Lck     LTP  Homo sapiens\n",
       "2            O14746       824        S  PKB_group     LTP  Homo sapiens\n",
       "3            O14746       227        S  PKB_group     LTP  Homo sapiens\n",
       "4            O14746       707        Y        SRC     LTP  Homo sapiens"
      ]
     },
     "execution_count": null,
     "metadata": {},
     "output_type": "execute_result"
    }
   ],
   "source": [
    "elm.head()"
   ]
  },
  {
   "cell_type": "code",
   "execution_count": null,
   "id": "ff135ed6",
   "metadata": {},
   "outputs": [],
   "source": [
    "elm.kinase = elm.kinase.str.upper()"
   ]
  },
  {
   "cell_type": "markdown",
   "id": "76cccfeb",
   "metadata": {},
   "source": [
    "### Kinase mapping"
   ]
  },
  {
   "cell_type": "code",
   "execution_count": null,
   "id": "1af959c1",
   "metadata": {},
   "outputs": [],
   "source": [
    "# kinase_id = pd.read_excel('raw/uniprot_human_keyword_kinase.xlsx')\n",
    "kinase_id = Data.get_kinase_uniprot()\n",
    "\n",
    "kinase_id['Gene Names'] = kinase_id['Gene Names'].str.split(' ')\n",
    "\n",
    "kinase_id = kinase_id.explode('Gene Names')"
   ]
  },
  {
   "cell_type": "code",
   "execution_count": null,
   "id": "60a855ee",
   "metadata": {},
   "outputs": [],
   "source": [
    "gene2uniprot = kinase_id.set_index('Gene Names')['Entry'].to_dict()"
   ]
  },
  {
   "cell_type": "code",
   "execution_count": null,
   "id": "b35725e1",
   "metadata": {},
   "outputs": [],
   "source": [
    "dup_name = set(kinase_id[kinase_id['Gene Names'].duplicated(keep=False)]['Gene Names'])"
   ]
  },
  {
   "cell_type": "code",
   "execution_count": null,
   "id": "4aeaa34f",
   "metadata": {},
   "outputs": [],
   "source": [
    "dup_name.remove('PAK1')\n",
    "\n",
    "dup_name.remove('PASK')"
   ]
  },
  {
   "cell_type": "code",
   "execution_count": null,
   "id": "fd9a9675",
   "metadata": {},
   "outputs": [],
   "source": [
    "gene2uniprot['PAK1'] = 'Q13153'\n",
    "\n",
    "gene2uniprot['PASK']='Q96RG2'"
   ]
  },
  {
   "cell_type": "code",
   "execution_count": null,
   "id": "2ed0c06a",
   "metadata": {},
   "outputs": [],
   "source": [
    "elm = elm[~elm.kinase.isin(dup_name)].copy()"
   ]
  },
  {
   "cell_type": "code",
   "execution_count": null,
   "id": "38c10b85",
   "metadata": {},
   "outputs": [
    {
     "data": {
      "text/plain": [
       "array(['PKB_GROUP', 'IKK_GROUP', 'AURORA B', 'PDK-1', 'PKC_THETA',\n",
       "       'SGK_GROUP', 'IKK_BETA', 'CDK_GROUP', 'CAM-KII_ALPHA', 'PKC_GROUP',\n",
       "       'PKC_ALPHA', 'CK2_GROUP', 'CK2_ALPHA', 'GSK-3_GROUP',\n",
       "       'GSK-3_ALPHA', 'GSK-3_BETA', 'PKA_GROUP', 'RSK_GROUP', 'PKB_BETA',\n",
       "       'MAPK_GROUP', 'PAK_GROUP', 'DNA-PK', 'JNK_GROUP', 'CK1_GROUP',\n",
       "       'AURORA A', 'P70S6KB', 'PKG/CGK_GROUP', 'PKC_DELTA', 'PDGFR_BETA',\n",
       "       'CAM-KII_GROUP', 'GRK-2', 'GRK-5', 'GRK_GROUP', 'CK1_ALPHA',\n",
       "       'PKC_EPSILON', 'ROCK_GROUP', 'PKG1/CGK-I', 'PDGFR_GROUP',\n",
       "       'P70S6K_GROUP', 'P70S6K', 'PHK_GROUP', 'PKC_BETA', 'DMPK_GROUP',\n",
       "       'CK1_DELTA', 'CK2_BETA', 'RSK-3', 'RSK-2', 'CAM-KIV', 'RSK-1',\n",
       "       'IKK_ALPHA', 'CK1_EPSILON', 'MAP2K_GROUP', 'PIM-1', 'EG3 KINASE',\n",
       "       'GRK-4', 'PKC_ZETA', 'PDKC', 'AMPK_GROUP', 'FGFR_GROUP',\n",
       "       'JAK_GROUP', 'MAP3K_GROUP', 'RSK-5', 'IKK_EPSILON', 'CAM-KI_GROUP',\n",
       "       'SRC_GROUP', 'PKA_ALPHA', 'PKC_ETA', 'PDK-2', 'GRK-6',\n",
       "       'TITIN KINASE', 'CAM-KI_ALPHA', 'GRK-1', 'PDGFR_ALPHA', 'CCDPK',\n",
       "       'MARK_GROUP', 'P38_GROUP', 'GRK-3', 'DAPK_GROUP', 'MRCKA',\n",
       "       'PKG2/CGK-II', 'PKC_GAMMA', 'PKC_IOTA', 'CAM-KK_ALPHA'],\n",
       "      dtype=object)"
      ]
     },
     "execution_count": null,
     "metadata": {},
     "output_type": "execute_result"
    }
   ],
   "source": [
    "elm[~elm.kinase.isin(gene2uniprot.keys())].kinase.unique()"
   ]
  },
  {
   "cell_type": "markdown",
   "id": "4d5dc844",
   "metadata": {},
   "source": [
    "map them to genes"
   ]
  },
  {
   "cell_type": "code",
   "execution_count": null,
   "id": "ebf75c38",
   "metadata": {},
   "outputs": [],
   "source": [
    "ids = pd.read_csv('raw/elm_kinase_id.csv')"
   ]
  },
  {
   "cell_type": "code",
   "execution_count": null,
   "id": "a129cb1b",
   "metadata": {},
   "outputs": [],
   "source": [
    "ids = ids.set_index('kinase')['kinase_gene'].to_dict()"
   ]
  },
  {
   "cell_type": "code",
   "execution_count": null,
   "id": "af7e36be",
   "metadata": {},
   "outputs": [],
   "source": [
    "elm['kinase_genes'] = elm.kinase.map(ids).fillna(elm.kinase)"
   ]
  },
  {
   "cell_type": "code",
   "execution_count": null,
   "id": "5e63bec1",
   "metadata": {},
   "outputs": [],
   "source": [
    "# for kinase group, we only consider the first two items\n",
    "\n",
    "elm['kinase_genes'] = elm.kinase_genes.str.split(' ').str[:2]"
   ]
  },
  {
   "cell_type": "code",
   "execution_count": null,
   "id": "2adf65c6",
   "metadata": {},
   "outputs": [],
   "source": [
    "elm = elm.explode('kinase_genes')"
   ]
  },
  {
   "cell_type": "code",
   "execution_count": null,
   "id": "d7671a2e",
   "metadata": {},
   "outputs": [
    {
     "data": {
      "text/plain": [
       "array(['PRKACA'], dtype=object)"
      ]
     },
     "execution_count": null,
     "metadata": {},
     "output_type": "execute_result"
    }
   ],
   "source": [
    "elm[elm.kinase_genes.isin(dup_name)].kinase_genes.unique()"
   ]
  },
  {
   "cell_type": "code",
   "execution_count": null,
   "id": "a9df6812",
   "metadata": {},
   "outputs": [],
   "source": [
    "dup_name.remove('PRKACA')\n",
    "\n",
    "gene2uniprot['PRKACA']= 'P17612'"
   ]
  },
  {
   "cell_type": "code",
   "execution_count": null,
   "id": "5e69f3a2",
   "metadata": {},
   "outputs": [
    {
     "data": {
      "text/html": [
       "<div>\n",
       "<style scoped>\n",
       "    .dataframe tbody tr th:only-of-type {\n",
       "        vertical-align: middle;\n",
       "    }\n",
       "\n",
       "    .dataframe tbody tr th {\n",
       "        vertical-align: top;\n",
       "    }\n",
       "\n",
       "    .dataframe thead th {\n",
       "        text-align: right;\n",
       "    }\n",
       "</style>\n",
       "<table border=\"1\" class=\"dataframe\">\n",
       "  <thead>\n",
       "    <tr style=\"text-align: right;\">\n",
       "      <th></th>\n",
       "      <th>substrate_uniprot</th>\n",
       "      <th>position</th>\n",
       "      <th>acceptor</th>\n",
       "      <th>kinase</th>\n",
       "      <th>LTP_HTP</th>\n",
       "      <th>species</th>\n",
       "      <th>kinase_genes</th>\n",
       "    </tr>\n",
       "  </thead>\n",
       "  <tbody>\n",
       "  </tbody>\n",
       "</table>\n",
       "</div>"
      ],
      "text/plain": [
       "Empty DataFrame\n",
       "Columns: [substrate_uniprot, position, acceptor, kinase, LTP_HTP, species, kinase_genes]\n",
       "Index: []"
      ]
     },
     "execution_count": null,
     "metadata": {},
     "output_type": "execute_result"
    }
   ],
   "source": [
    "elm[elm.kinase_genes.isin(dup_name)]"
   ]
  },
  {
   "cell_type": "markdown",
   "id": "b754a066",
   "metadata": {},
   "source": [
    "unmapped:"
   ]
  },
  {
   "cell_type": "code",
   "execution_count": null,
   "id": "e5bf9399",
   "metadata": {},
   "outputs": [
    {
     "data": {
      "text/plain": [
       "array(['PHKA1', 'PHKA2', 'CSNK2B', 'CDPK1', 'CDPK2'], dtype=object)"
      ]
     },
     "execution_count": null,
     "metadata": {},
     "output_type": "execute_result"
    }
   ],
   "source": [
    "elm[elm.kinase_genes.map(gene2uniprot).isna()].kinase_genes.unique()"
   ]
  },
  {
   "cell_type": "code",
   "execution_count": null,
   "id": "7c836736",
   "metadata": {},
   "outputs": [],
   "source": [
    "elm['kinase_uniprot'] = elm.kinase_genes.map(gene2uniprot)"
   ]
  },
  {
   "cell_type": "code",
   "execution_count": null,
   "id": "659a513f",
   "metadata": {},
   "outputs": [],
   "source": [
    "elm = elm.dropna(subset='kinase_uniprot')"
   ]
  },
  {
   "cell_type": "markdown",
   "id": "ffc0ec0f",
   "metadata": {},
   "source": [
    "### Substrate mapping"
   ]
  },
  {
   "cell_type": "code",
   "execution_count": null,
   "id": "1d0e1202",
   "metadata": {},
   "outputs": [],
   "source": [
    "# elm.substrate_uniprot.drop_duplicates().to_csv('raw/elm_substrate_id.csv')"
   ]
  },
  {
   "cell_type": "markdown",
   "id": "3bff2d40",
   "metadata": {},
   "source": [
    "916 IDs were mapped to 919 results\n",
    "\n",
    "10 ID were not mapped:\n",
    "ENSP00000328213\n",
    "ENSP00000343690\n",
    "ENSP00000352232\n",
    "ENSP00000347528\n",
    "ENSP00000357298\n",
    "ENSP00000248996\n",
    "ENSP00000357225\n",
    "ENSP00000261937\n",
    "ENSP00000248419\n",
    "ENSP00000267569"
   ]
  },
  {
   "cell_type": "markdown",
   "id": "7e02c66d",
   "metadata": {},
   "source": [
    "Found two of the unmapped are kinases:"
   ]
  },
  {
   "cell_type": "code",
   "execution_count": null,
   "id": "d08e0b7d",
   "metadata": {},
   "outputs": [],
   "source": [
    "ensp = {'ENSP00000328213':'P06239','ENSP00000261937':'P35916'}"
   ]
  },
  {
   "cell_type": "code",
   "execution_count": null,
   "id": "dc8fd6b4",
   "metadata": {},
   "outputs": [],
   "source": [
    "elm.substrate_uniprot = elm.substrate_uniprot.map(ensp).fillna(elm.substrate_uniprot)"
   ]
  },
  {
   "cell_type": "code",
   "execution_count": null,
   "id": "6df0d58a",
   "metadata": {},
   "outputs": [
    {
     "name": "stdout",
     "output_type": "stream",
     "text": [
      "Shape before processing (4699, 8)\n",
      "Species counts: substrate_species\n",
      "Homo sapiens (Human)    4675\n",
      "Name: count, dtype: int64\n",
      "Removing non-human substrates\n",
      "Shape after processing (4675, 11)\n"
     ]
    },
    {
     "name": "stderr",
     "output_type": "stream",
     "text": [
      "/home/sky1ove/miniconda3/lib/python3.13/site-packages/logomaker/../openpyxl/styles/stylesheet.py:237: UserWarning: Workbook contains no default style, apply openpyxl's default\n",
      "  warn(\"Workbook contains no default style, apply openpyxl's default\")\n"
     ]
    }
   ],
   "source": [
    "elm = map_substrate('raw/idmapping_2025_03_12_elm.xlsx',elm,'substrate_uniprot')"
   ]
  },
  {
   "cell_type": "code",
   "execution_count": null,
   "id": "bd31af9a",
   "metadata": {},
   "outputs": [
    {
     "data": {
      "text/plain": [
       "(4675, 11)"
      ]
     },
     "execution_count": null,
     "metadata": {},
     "output_type": "execute_result"
    }
   ],
   "source": [
    "elm.shape"
   ]
  },
  {
   "cell_type": "markdown",
   "id": "3c85393f",
   "metadata": {},
   "source": [
    "### Validate site"
   ]
  },
  {
   "cell_type": "code",
   "execution_count": null,
   "id": "f304a604",
   "metadata": {},
   "outputs": [
    {
     "data": {
      "text/plain": [
       "acceptor\n",
       "S    3018\n",
       "T     908\n",
       "Y     749\n",
       "Name: count, dtype: int64"
      ]
     },
     "execution_count": null,
     "metadata": {},
     "output_type": "execute_result"
    }
   ],
   "source": [
    "elm.acceptor.value_counts()"
   ]
  },
  {
   "cell_type": "code",
   "execution_count": null,
   "id": "4a700415",
   "metadata": {},
   "outputs": [],
   "source": [
    "elm['site']=elm['acceptor']+elm['position'].astype(str)"
   ]
  },
  {
   "cell_type": "code",
   "execution_count": null,
   "id": "b8235a46",
   "metadata": {},
   "outputs": [],
   "source": [
    "elm['site_match'] =validate_site_df(elm,'site','substrate_sequence')"
   ]
  },
  {
   "cell_type": "code",
   "execution_count": null,
   "id": "134ef585",
   "metadata": {},
   "outputs": [
    {
     "data": {
      "text/plain": [
       "site_match\n",
       "1    4519\n",
       "0     156\n",
       "Name: count, dtype: int64"
      ]
     },
     "execution_count": null,
     "metadata": {},
     "output_type": "execute_result"
    }
   ],
   "source": [
    "elm.site_match.value_counts()"
   ]
  },
  {
   "cell_type": "code",
   "execution_count": null,
   "id": "a497478d",
   "metadata": {},
   "outputs": [],
   "source": [
    "elm = elm[elm.site_match==1]"
   ]
  },
  {
   "cell_type": "code",
   "execution_count": null,
   "id": "f208c1a8",
   "metadata": {},
   "outputs": [
    {
     "data": {
      "text/plain": [
       "(4519, 13)"
      ]
     },
     "execution_count": null,
     "metadata": {},
     "output_type": "execute_result"
    }
   ],
   "source": [
    "elm.shape"
   ]
  },
  {
   "cell_type": "markdown",
   "id": "5425dc88",
   "metadata": {},
   "source": [
    "### Save"
   ]
  },
  {
   "cell_type": "code",
   "execution_count": null,
   "id": "ff2e10cd",
   "metadata": {},
   "outputs": [
    {
     "data": {
      "text/plain": [
       "Index(['position', 'acceptor', 'kinase', 'LTP_HTP', 'species', 'kinase_genes',\n",
       "       'kinase_uniprot', 'substrate_uniprot', 'substrate_genes',\n",
       "       'substrate_sequence', 'substrate_species', 'site', 'site_match'],\n",
       "      dtype='object')"
      ]
     },
     "execution_count": null,
     "metadata": {},
     "output_type": "execute_result"
    }
   ],
   "source": [
    "elm.columns"
   ]
  },
  {
   "cell_type": "code",
   "execution_count": null,
   "id": "1d428f8d",
   "metadata": {},
   "outputs": [],
   "source": [
    "col = ['kinase','kinase_uniprot', 'kinase_genes',\n",
    "\n",
    "       'substrate_uniprot', 'substrate_genes','site','LTP_HTP', 'species', \n",
    "\n",
    "       'substrate_sequence',]"
   ]
  },
  {
   "cell_type": "code",
   "execution_count": null,
   "id": "6cdca5f7",
   "metadata": {},
   "outputs": [],
   "source": [
    "elm = elm[col]"
   ]
  },
  {
   "cell_type": "code",
   "execution_count": null,
   "id": "691934b4",
   "metadata": {},
   "outputs": [],
   "source": [
    "elm['source']='ELM'"
   ]
  },
  {
   "cell_type": "code",
   "execution_count": null,
   "id": "06e40d4d",
   "metadata": {},
   "outputs": [],
   "source": [
    "# elm.to_excel('raw/ELM.xlsx',index=False)"
   ]
  },
  {
   "cell_type": "markdown",
   "id": "0b344174",
   "metadata": {},
   "source": [
    "## Signor"
   ]
  },
  {
   "cell_type": "markdown",
   "id": "099ddbc0",
   "metadata": {},
   "source": [
    "### Data"
   ]
  },
  {
   "cell_type": "markdown",
   "id": "d42fc3ea",
   "metadata": {},
   "source": [
    "paper: https://academic.oup.com/nar/article/51/D1/D631/6761728\n",
    "\n",
    "web: https://signor.uniroma2.it/"
   ]
  },
  {
   "cell_type": "markdown",
   "id": "7a0bf8a4",
   "metadata": {},
   "source": [
    "Go to web link, Downloads --> Latest Release download (Jan 2025)\n",
    "\n",
    "Open in excel, filter mechanism to be phosphorylation"
   ]
  },
  {
   "cell_type": "code",
   "execution_count": null,
   "id": "7b834861-627d-411d-8f8c-a7c9d7be4d8b",
   "metadata": {},
   "outputs": [],
   "source": [
    "import pandas as pd\n",
    "from katlas.data import *"
   ]
  },
  {
   "cell_type": "code",
   "execution_count": null,
   "id": "092960a7",
   "metadata": {},
   "outputs": [],
   "source": [
    "sig = pd.read_excel('raw/signor_phosphorylation.xlsx')"
   ]
  },
  {
   "cell_type": "code",
   "execution_count": null,
   "id": "fa1c0a79",
   "metadata": {},
   "outputs": [
    {
     "data": {
      "text/plain": [
       "(12973, 27)"
      ]
     },
     "execution_count": null,
     "metadata": {},
     "output_type": "execute_result"
    }
   ],
   "source": [
    "sig.shape"
   ]
  },
  {
   "cell_type": "markdown",
   "id": "a428d975",
   "metadata": {},
   "source": [
    "### Kinase mapping"
   ]
  },
  {
   "cell_type": "markdown",
   "id": "dee5f2c4",
   "metadata": {},
   "source": [
    "TYPEA column contains complex proteins, we need to filter out the kinase name"
   ]
  },
  {
   "cell_type": "code",
   "execution_count": null,
   "id": "c3e7af0a",
   "metadata": {},
   "outputs": [],
   "source": [
    "comp = sig[sig.TYPEA=='complex'].copy()"
   ]
  },
  {
   "cell_type": "code",
   "execution_count": null,
   "id": "80efeb9a",
   "metadata": {},
   "outputs": [],
   "source": [
    "# comp.ENTITYA.drop_duplicates().to_csv('raw/sig_complex.csv')"
   ]
  },
  {
   "cell_type": "code",
   "execution_count": null,
   "id": "6e4a6415",
   "metadata": {},
   "outputs": [],
   "source": [
    "comp_id = pd.read_csv('raw/sig_complex_label.csv')"
   ]
  },
  {
   "cell_type": "code",
   "execution_count": null,
   "id": "eee2be5f",
   "metadata": {},
   "outputs": [],
   "source": [
    "comp_id = comp_id.set_index('ENTITYA')['kinase_gene']"
   ]
  },
  {
   "cell_type": "code",
   "execution_count": null,
   "id": "d03d5cc1",
   "metadata": {},
   "outputs": [],
   "source": [
    "comp['kinase_gene'] = comp.ENTITYA.map(comp_id)"
   ]
  },
  {
   "cell_type": "code",
   "execution_count": null,
   "id": "1748658c",
   "metadata": {},
   "outputs": [],
   "source": [
    "comp = comp.dropna(subset='kinase_gene')"
   ]
  },
  {
   "cell_type": "code",
   "execution_count": null,
   "id": "10e6ba3a",
   "metadata": {},
   "outputs": [
    {
     "data": {
      "text/plain": [
       "(742, 28)"
      ]
     },
     "execution_count": null,
     "metadata": {},
     "output_type": "execute_result"
    }
   ],
   "source": [
    "comp.shape"
   ]
  },
  {
   "cell_type": "markdown",
   "id": "35c48290",
   "metadata": {},
   "source": [
    "Fusion proteins"
   ]
  },
  {
   "cell_type": "code",
   "execution_count": null,
   "id": "8c175285",
   "metadata": {},
   "outputs": [],
   "source": [
    "fus_id = {'BCR-ABL':'ABL1','EML4-ALK':'ALK'}"
   ]
  },
  {
   "cell_type": "code",
   "execution_count": null,
   "id": "a7e35324",
   "metadata": {},
   "outputs": [],
   "source": [
    "fus = sig[sig.TYPEA=='fusion protein'].copy()"
   ]
  },
  {
   "cell_type": "code",
   "execution_count": null,
   "id": "e4964b1c",
   "metadata": {},
   "outputs": [],
   "source": [
    "fus['kinase_gene'] = fus.ENTITYA.map(fus_id)"
   ]
  },
  {
   "cell_type": "markdown",
   "id": "4f317d22",
   "metadata": {},
   "source": [
    "For Protein family, we'll make it apply to first two family members"
   ]
  },
  {
   "cell_type": "code",
   "execution_count": null,
   "id": "d8843f36",
   "metadata": {},
   "outputs": [],
   "source": [
    "fam = sig[sig.TYPEA=='proteinfamily'].copy()"
   ]
  },
  {
   "cell_type": "code",
   "execution_count": null,
   "id": "e4e46d40",
   "metadata": {},
   "outputs": [],
   "source": [
    "# fam.ENTITYA.drop_duplicates().to_csv('raw/sig_fam.csv')"
   ]
  },
  {
   "cell_type": "code",
   "execution_count": null,
   "id": "a6458795",
   "metadata": {},
   "outputs": [],
   "source": [
    "fam_id = pd.read_csv('raw/sig_fam_label.csv')"
   ]
  },
  {
   "cell_type": "code",
   "execution_count": null,
   "id": "ebc87af8",
   "metadata": {},
   "outputs": [
    {
     "data": {
      "text/html": [
       "<div>\n",
       "<style scoped>\n",
       "    .dataframe tbody tr th:only-of-type {\n",
       "        vertical-align: middle;\n",
       "    }\n",
       "\n",
       "    .dataframe tbody tr th {\n",
       "        vertical-align: top;\n",
       "    }\n",
       "\n",
       "    .dataframe thead th {\n",
       "        text-align: right;\n",
       "    }\n",
       "</style>\n",
       "<table border=\"1\" class=\"dataframe\">\n",
       "  <thead>\n",
       "    <tr style=\"text-align: right;\">\n",
       "      <th></th>\n",
       "      <th>ENTITYA</th>\n",
       "      <th>kinase_gene</th>\n",
       "    </tr>\n",
       "  </thead>\n",
       "  <tbody>\n",
       "    <tr>\n",
       "      <th>0</th>\n",
       "      <td>ERK1/2</td>\n",
       "      <td>MAPK3 MAPK1</td>\n",
       "    </tr>\n",
       "    <tr>\n",
       "      <th>1</th>\n",
       "      <td>AKT</td>\n",
       "      <td>AKT1 AKT2 AKT3</td>\n",
       "    </tr>\n",
       "    <tr>\n",
       "      <th>2</th>\n",
       "      <td>RPS6K</td>\n",
       "      <td>RPS6KB1 RPS6KB2</td>\n",
       "    </tr>\n",
       "    <tr>\n",
       "      <th>3</th>\n",
       "      <td>p38</td>\n",
       "      <td>MAPK14 MAPK11 MAPK12 MAPK13</td>\n",
       "    </tr>\n",
       "    <tr>\n",
       "      <th>4</th>\n",
       "      <td>JNK</td>\n",
       "      <td>MAPK8 MAPK9 MAPK10</td>\n",
       "    </tr>\n",
       "  </tbody>\n",
       "</table>\n",
       "</div>"
      ],
      "text/plain": [
       "  ENTITYA                  kinase_gene\n",
       "0  ERK1/2                  MAPK3 MAPK1\n",
       "1     AKT               AKT1 AKT2 AKT3\n",
       "2   RPS6K              RPS6KB1 RPS6KB2\n",
       "3     p38  MAPK14 MAPK11 MAPK12 MAPK13\n",
       "4     JNK           MAPK8 MAPK9 MAPK10"
      ]
     },
     "execution_count": null,
     "metadata": {},
     "output_type": "execute_result"
    }
   ],
   "source": [
    "fam_id.head()"
   ]
  },
  {
   "cell_type": "code",
   "execution_count": null,
   "id": "c0f98349",
   "metadata": {},
   "outputs": [],
   "source": [
    "fam_id = fam_id.set_index('ENTITYA')['kinase_gene']"
   ]
  },
  {
   "cell_type": "code",
   "execution_count": null,
   "id": "569a0e31",
   "metadata": {},
   "outputs": [],
   "source": [
    "fam['kinase_gene'] = fam.ENTITYA.map(fam_id)\n",
    "\n",
    "fam = fam.dropna(subset='kinase_gene')"
   ]
  },
  {
   "cell_type": "code",
   "execution_count": null,
   "id": "adedbdcc",
   "metadata": {},
   "outputs": [],
   "source": [
    "fam['kinase_gene'] = fam.kinase_gene.str.split(' ').str[:2]"
   ]
  },
  {
   "cell_type": "code",
   "execution_count": null,
   "id": "7d617a6f",
   "metadata": {},
   "outputs": [],
   "source": [
    "fam = fam.explode('kinase_gene')"
   ]
  },
  {
   "cell_type": "markdown",
   "id": "cba8f3ce",
   "metadata": {},
   "source": [
    "Protein:"
   ]
  },
  {
   "cell_type": "code",
   "execution_count": null,
   "id": "59a67f05",
   "metadata": {},
   "outputs": [],
   "source": [
    "pro = sig[sig.TYPEA=='protein'].copy()"
   ]
  },
  {
   "cell_type": "markdown",
   "id": "0e355b7d",
   "metadata": {},
   "source": [
    "for consistency:"
   ]
  },
  {
   "cell_type": "code",
   "execution_count": null,
   "id": "93924b10",
   "metadata": {},
   "outputs": [],
   "source": [
    "pro['kinase_gene'] = pro['ENTITYA']"
   ]
  },
  {
   "cell_type": "markdown",
   "id": "3b6754d0",
   "metadata": {},
   "source": [
    "combine:"
   ]
  },
  {
   "cell_type": "code",
   "execution_count": null,
   "id": "e41d375c",
   "metadata": {},
   "outputs": [],
   "source": [
    "df = pd.concat([pro,comp,fus,fam])"
   ]
  },
  {
   "cell_type": "markdown",
   "id": "177788d1",
   "metadata": {},
   "source": [
    "Mapping:"
   ]
  },
  {
   "cell_type": "code",
   "execution_count": null,
   "id": "b1b8e23d",
   "metadata": {},
   "outputs": [],
   "source": [
    "# kinase_id = pd.read_excel('raw/uniprot_human_keyword_kinase.xlsx')\n",
    "kinase_id =Data.get_kinase_uniprot()"
   ]
  },
  {
   "cell_type": "code",
   "execution_count": null,
   "id": "60de6401",
   "metadata": {},
   "outputs": [],
   "source": [
    "kinase_id['Gene Names'] = kinase_id['Gene Names'].str.split(' ')"
   ]
  },
  {
   "cell_type": "code",
   "execution_count": null,
   "id": "59460859",
   "metadata": {},
   "outputs": [],
   "source": [
    "kinase_id = kinase_id.explode('Gene Names')"
   ]
  },
  {
   "cell_type": "markdown",
   "id": "61992d01",
   "metadata": {},
   "source": [
    "Some kinases share same gene names:"
   ]
  },
  {
   "cell_type": "code",
   "execution_count": null,
   "id": "13fcfca2",
   "metadata": {},
   "outputs": [],
   "source": [
    "# kinase_id[kinase_id['Gene Names'].duplicated(keep=False)].sort_values('Gene Names').head()"
   ]
  },
  {
   "cell_type": "markdown",
   "id": "56709a71",
   "metadata": {},
   "source": [
    "We'll drop them to prevent confusion."
   ]
  },
  {
   "cell_type": "code",
   "execution_count": null,
   "id": "9b391a21",
   "metadata": {},
   "outputs": [],
   "source": [
    "dup_name = set(kinase_id[kinase_id['Gene Names'].duplicated(keep=False)]['Gene Names'])"
   ]
  },
  {
   "cell_type": "code",
   "execution_count": null,
   "id": "0f873e1f",
   "metadata": {},
   "outputs": [
    {
     "data": {
      "text/plain": [
       "np.int64(674)"
      ]
     },
     "execution_count": null,
     "metadata": {},
     "output_type": "execute_result"
    }
   ],
   "source": [
    "df.kinase_gene.isin(dup_name).sum()"
   ]
  },
  {
   "cell_type": "code",
   "execution_count": null,
   "id": "88cf0a39",
   "metadata": {},
   "outputs": [],
   "source": [
    "df = df[~df.kinase_gene.isin(dup_name)].copy()"
   ]
  },
  {
   "cell_type": "code",
   "execution_count": null,
   "id": "7cf842d6",
   "metadata": {},
   "outputs": [],
   "source": [
    "gene2uniprot = kinase_id.set_index('Gene Names')['Entry'].to_dict()"
   ]
  },
  {
   "cell_type": "code",
   "execution_count": null,
   "id": "4b787370",
   "metadata": {},
   "outputs": [
    {
     "data": {
      "text/plain": [
       "(13013, 28)"
      ]
     },
     "execution_count": null,
     "metadata": {},
     "output_type": "execute_result"
    }
   ],
   "source": [
    "df.shape"
   ]
  },
  {
   "cell_type": "markdown",
   "id": "2f6fecab",
   "metadata": {},
   "source": [
    "unmapped:"
   ]
  },
  {
   "cell_type": "code",
   "execution_count": null,
   "id": "465eda2e",
   "metadata": {},
   "outputs": [
    {
     "data": {
      "text/plain": [
       "array(['HRAS', 'IL4R', 'CSNK2B', 'TLR4', 'IL6R', 'THAP12', 'PRKAR2A',\n",
       "       'RHOA', 'AREG', 'RET/PTC2', 'PCSK7', 'CCNC', 'TGM2', 'SLC12A1',\n",
       "       'RALA', 'IL6ST', 'CRK', 'SMAD9', 'PLCG1', 'ELOC', 'PPP2CA', 'CCR5',\n",
       "       'GHR', 'CAD', 'SMO', 'FRS2', 'LEPR', 'BLVRA', 'TAB1', 'PRKAB1',\n",
       "       'PIAS4', 'IFNAR1', 'HSP90AA1', 'PTPRJ', 'PRKAG2', 'CSN1S1',\n",
       "       'GTF2F1', 'VASP', 'KRAS', 'SLC12A3', 'PRPF4B', 'CDKN2A', 'IL1R1',\n",
       "       'PRKAR2B', 'IL15RA', 'KRT1', 'SMAD1', 'GTF2H1', 'CCR2', 'IL5RA',\n",
       "       'PLCG2', 'SLC12A2', 'GTF2H2', 'TMIGD2', 'IKBKG', 'BORA', 'MNAT1',\n",
       "       'PHKA1', 'BGLF4', 'RIN1', 'DLG1', 'CDK5RAP2', 'CCR1', 'IL10RA',\n",
       "       'SMAD5', 'CCN4'], dtype=object)"
      ]
     },
     "execution_count": null,
     "metadata": {},
     "output_type": "execute_result"
    }
   ],
   "source": [
    "df[df.kinase_gene.str.upper().map(gene2uniprot).isna()].kinase_gene.unique()"
   ]
  },
  {
   "cell_type": "code",
   "execution_count": null,
   "id": "56d1c906",
   "metadata": {},
   "outputs": [],
   "source": [
    "df['kinase_uniprot'] = df.kinase_gene.str.upper().map(gene2uniprot)"
   ]
  },
  {
   "cell_type": "code",
   "execution_count": null,
   "id": "830830a9",
   "metadata": {},
   "outputs": [],
   "source": [
    "df = df.dropna(subset='kinase_uniprot')"
   ]
  },
  {
   "cell_type": "markdown",
   "id": "6f95defe",
   "metadata": {},
   "source": [
    "### Substrate mapping"
   ]
  },
  {
   "cell_type": "code",
   "execution_count": null,
   "id": "8bdded95",
   "metadata": {},
   "outputs": [],
   "source": [
    "df = df.dropna(subset='IDB')"
   ]
  },
  {
   "cell_type": "markdown",
   "id": "3e670762",
   "metadata": {},
   "source": [
    "We can't trace the specific whole protein sequence based on SIGNOR ID, so we filter them out"
   ]
  },
  {
   "cell_type": "code",
   "execution_count": null,
   "id": "4a5a9707",
   "metadata": {},
   "outputs": [],
   "source": [
    "df = df[~df.IDB.str.contains('SIGNOR')]"
   ]
  },
  {
   "cell_type": "code",
   "execution_count": null,
   "id": "d3824a7b",
   "metadata": {},
   "outputs": [],
   "source": [
    "# df.IDB.drop_duplicates().to_csv('raw/sig_substrate_id.csv')"
   ]
  },
  {
   "cell_type": "markdown",
   "id": "a6af47d7",
   "metadata": {},
   "source": [
    "2,298 IDs were mapped to 2,298 results\n",
    "\n",
    "1 ID was not mapped:\n",
    "CHEBI:15721\n",
    "\n",
    "Sequences are all from human"
   ]
  },
  {
   "cell_type": "code",
   "execution_count": null,
   "id": "5c227222",
   "metadata": {},
   "outputs": [
    {
     "name": "stderr",
     "output_type": "stream",
     "text": [
      "/home/sky1ove/miniconda3/lib/python3.13/site-packages/openpyxl/styles/stylesheet.py:237: UserWarning: Workbook contains no default style, apply openpyxl's default\n",
      "  warn(\"Workbook contains no default style, apply openpyxl's default\")\n"
     ]
    },
    {
     "name": "stdout",
     "output_type": "stream",
     "text": [
      "Shape before processing (12354, 29)\n",
      "Species counts: substrate_species\n",
      "Homo sapiens (Human)    12353\n",
      "Name: count, dtype: int64\n",
      "Removing non-human substrates\n",
      "Shape after processing (12353, 32)\n"
     ]
    }
   ],
   "source": [
    "df = map_substrate('raw/idmapping_2025_03_12_signor.xlsx',df,'IDB')"
   ]
  },
  {
   "cell_type": "code",
   "execution_count": null,
   "id": "70bfaba4",
   "metadata": {},
   "outputs": [
    {
     "data": {
      "text/plain": [
       "(12353, 32)"
      ]
     },
     "execution_count": null,
     "metadata": {},
     "output_type": "execute_result"
    }
   ],
   "source": [
    "df.shape"
   ]
  },
  {
   "cell_type": "markdown",
   "id": "bdae7adb",
   "metadata": {},
   "source": [
    "### Validate site"
   ]
  },
  {
   "cell_type": "code",
   "execution_count": null,
   "id": "4d663a68",
   "metadata": {},
   "outputs": [],
   "source": [
    "df.RESIDUE = df.RESIDUE.str.split(';')"
   ]
  },
  {
   "cell_type": "code",
   "execution_count": null,
   "id": "6673a8e5",
   "metadata": {},
   "outputs": [],
   "source": [
    "df = df.explode('RESIDUE')"
   ]
  },
  {
   "cell_type": "code",
   "execution_count": null,
   "id": "2bf73a33",
   "metadata": {},
   "outputs": [],
   "source": [
    "df['acceptor'] = df['RESIDUE'].str[:3]"
   ]
  },
  {
   "cell_type": "code",
   "execution_count": null,
   "id": "ef274c95",
   "metadata": {},
   "outputs": [],
   "source": [
    "df.acceptor = df.acceptor.map({'Ser':'S','Thr':'T','Tyr':'Y'})"
   ]
  },
  {
   "cell_type": "code",
   "execution_count": null,
   "id": "be3b5e2e",
   "metadata": {},
   "outputs": [],
   "source": [
    "df['position'] = df['RESIDUE'].str[3:]"
   ]
  },
  {
   "cell_type": "code",
   "execution_count": null,
   "id": "cb09c2aa",
   "metadata": {},
   "outputs": [],
   "source": [
    "df['site']=df['acceptor']+df['position']"
   ]
  },
  {
   "cell_type": "code",
   "execution_count": null,
   "id": "3d6afb60",
   "metadata": {},
   "outputs": [],
   "source": [
    "df = df.dropna(subset='site')"
   ]
  },
  {
   "cell_type": "code",
   "execution_count": null,
   "id": "f7422e54-928b-42d6-b77a-6a151382586d",
   "metadata": {},
   "outputs": [],
   "source": [
    "from katlas.utils import *"
   ]
  },
  {
   "cell_type": "code",
   "execution_count": null,
   "id": "84adac4a",
   "metadata": {},
   "outputs": [],
   "source": [
    "df['site_match'] =validate_site_df(df,'site','substrate_sequence')"
   ]
  },
  {
   "cell_type": "code",
   "execution_count": null,
   "id": "e9742c57",
   "metadata": {},
   "outputs": [
    {
     "data": {
      "text/plain": [
       "site_match\n",
       "1    11212\n",
       "0      118\n",
       "Name: count, dtype: int64"
      ]
     },
     "execution_count": null,
     "metadata": {},
     "output_type": "execute_result"
    }
   ],
   "source": [
    "df.site_match.value_counts()"
   ]
  },
  {
   "cell_type": "code",
   "execution_count": null,
   "id": "2ab322fb",
   "metadata": {},
   "outputs": [],
   "source": [
    "df = df[df.site_match==1]"
   ]
  },
  {
   "cell_type": "code",
   "execution_count": null,
   "id": "521d1b2f",
   "metadata": {},
   "outputs": [
    {
     "data": {
      "text/plain": [
       "(11212, 36)"
      ]
     },
     "execution_count": null,
     "metadata": {},
     "output_type": "execute_result"
    }
   ],
   "source": [
    "df.shape"
   ]
  },
  {
   "cell_type": "markdown",
   "id": "5f61bee8",
   "metadata": {},
   "source": [
    "### Save"
   ]
  },
  {
   "cell_type": "code",
   "execution_count": null,
   "id": "ed5e3436",
   "metadata": {},
   "outputs": [
    {
     "data": {
      "text/plain": [
       "Index(['ENTITYA', 'TYPEA', 'IDA', 'DATABASEA', 'ENTITYB', 'TYPEB', 'DATABASEB',\n",
       "       'EFFECT', 'MECHANISM', 'RESIDUE', 'SEQUENCE', 'TAX_ID', 'CELL_DATA',\n",
       "       'TISSUE_DATA', 'MODULATOR_COMPLEX', 'TARGET_COMPLEX', 'MODIFICATIONA',\n",
       "       'MODASEQ', 'MODIFICATIONB', 'MODBSEQ', 'PMID', 'DIRECT', 'NOTES',\n",
       "       'ANNOTATOR', 'SENTENCE', 'SIGNOR_ID', 'kinase_gene', 'kinase_uniprot',\n",
       "       'substrate_uniprot', 'substrate_genes', 'substrate_sequence',\n",
       "       'substrate_species', 'acceptor', 'position', 'site', 'site_match'],\n",
       "      dtype='object')"
      ]
     },
     "execution_count": null,
     "metadata": {},
     "output_type": "execute_result"
    }
   ],
   "source": [
    "df.columns"
   ]
  },
  {
   "cell_type": "code",
   "execution_count": null,
   "id": "cda59a2c",
   "metadata": {},
   "outputs": [],
   "source": [
    "col = ['kinase_uniprot', 'kinase_gene', 'ENTITYA', 'TYPEA', \n",
    "\n",
    "       'substrate_uniprot', 'substrate_genes','site', 'substrate_sequence']"
   ]
  },
  {
   "cell_type": "code",
   "execution_count": null,
   "id": "e1346e99",
   "metadata": {},
   "outputs": [],
   "source": [
    "df = df[col].copy()"
   ]
  },
  {
   "cell_type": "code",
   "execution_count": null,
   "id": "94ad0b86",
   "metadata": {},
   "outputs": [
    {
     "data": {
      "text/html": [
       "<div>\n",
       "<style scoped>\n",
       "    .dataframe tbody tr th:only-of-type {\n",
       "        vertical-align: middle;\n",
       "    }\n",
       "\n",
       "    .dataframe tbody tr th {\n",
       "        vertical-align: top;\n",
       "    }\n",
       "\n",
       "    .dataframe thead th {\n",
       "        text-align: right;\n",
       "    }\n",
       "</style>\n",
       "<table border=\"1\" class=\"dataframe\">\n",
       "  <thead>\n",
       "    <tr style=\"text-align: right;\">\n",
       "      <th></th>\n",
       "      <th>kinase_uniprot</th>\n",
       "      <th>kinase_gene</th>\n",
       "      <th>ENTITYA</th>\n",
       "      <th>TYPEA</th>\n",
       "      <th>substrate_uniprot</th>\n",
       "      <th>substrate_genes</th>\n",
       "      <th>site</th>\n",
       "      <th>substrate_sequence</th>\n",
       "    </tr>\n",
       "  </thead>\n",
       "  <tbody>\n",
       "    <tr>\n",
       "      <th>0</th>\n",
       "      <td>P68400</td>\n",
       "      <td>CSNK2A1</td>\n",
       "      <td>CSNK2A1</td>\n",
       "      <td>protein</td>\n",
       "      <td>P05455</td>\n",
       "      <td>SSB</td>\n",
       "      <td>S366</td>\n",
       "      <td>MAENGDNEKMAALEAKICHQIEYYFGDFNLPRDKFLKEQIKLDEGW...</td>\n",
       "    </tr>\n",
       "    <tr>\n",
       "      <th>1</th>\n",
       "      <td>P28482</td>\n",
       "      <td>MAPK1</td>\n",
       "      <td>MAPK1</td>\n",
       "      <td>protein</td>\n",
       "      <td>P43354</td>\n",
       "      <td>NR4A2 NOT NURR1 TINUR</td>\n",
       "      <td>S126</td>\n",
       "      <td>MPCVQAQYGSSPQGASPASQSYSYHSSGEYSSDFLTPEFVKFSMDL...</td>\n",
       "    </tr>\n",
       "    <tr>\n",
       "      <th>2</th>\n",
       "      <td>P11362</td>\n",
       "      <td>FGFR1</td>\n",
       "      <td>FGFR1</td>\n",
       "      <td>protein</td>\n",
       "      <td>P56945</td>\n",
       "      <td>BCAR1 CAS CASS1 CRKAS</td>\n",
       "      <td>Y128</td>\n",
       "      <td>MNHLNVLAKALYDNVAESPDELSFRKGDIMTVLEQDTQGLDGWWLC...</td>\n",
       "    </tr>\n",
       "    <tr>\n",
       "      <th>3</th>\n",
       "      <td>P27361</td>\n",
       "      <td>MAPK3</td>\n",
       "      <td>MAPK3</td>\n",
       "      <td>protein</td>\n",
       "      <td>P41182</td>\n",
       "      <td>BCL6 BCL5 LAZ3 ZBTB27 ZNF51</td>\n",
       "      <td>S343</td>\n",
       "      <td>MASPADSCIQFTRHASDVLLNLNRLRSRDILTDVVIVVSREQFRAH...</td>\n",
       "    </tr>\n",
       "    <tr>\n",
       "      <th>4</th>\n",
       "      <td>Q16539</td>\n",
       "      <td>MAPK14</td>\n",
       "      <td>MAPK14</td>\n",
       "      <td>protein</td>\n",
       "      <td>Q02078</td>\n",
       "      <td>MEF2A MEF2</td>\n",
       "      <td>S408</td>\n",
       "      <td>MGRKKIQITRIMDERNRQVTFTKRKFGLMKKAYELSVLCDCEIALI...</td>\n",
       "    </tr>\n",
       "  </tbody>\n",
       "</table>\n",
       "</div>"
      ],
      "text/plain": [
       "  kinase_uniprot kinase_gene  ENTITYA    TYPEA substrate_uniprot  \\\n",
       "0         P68400     CSNK2A1  CSNK2A1  protein            P05455   \n",
       "1         P28482       MAPK1    MAPK1  protein            P43354   \n",
       "2         P11362       FGFR1    FGFR1  protein            P56945   \n",
       "3         P27361       MAPK3    MAPK3  protein            P41182   \n",
       "4         Q16539      MAPK14   MAPK14  protein            Q02078   \n",
       "\n",
       "               substrate_genes  site  \\\n",
       "0                          SSB  S366   \n",
       "1        NR4A2 NOT NURR1 TINUR  S126   \n",
       "2        BCAR1 CAS CASS1 CRKAS  Y128   \n",
       "3  BCL6 BCL5 LAZ3 ZBTB27 ZNF51  S343   \n",
       "4                   MEF2A MEF2  S408   \n",
       "\n",
       "                                  substrate_sequence  \n",
       "0  MAENGDNEKMAALEAKICHQIEYYFGDFNLPRDKFLKEQIKLDEGW...  \n",
       "1  MPCVQAQYGSSPQGASPASQSYSYHSSGEYSSDFLTPEFVKFSMDL...  \n",
       "2  MNHLNVLAKALYDNVAESPDELSFRKGDIMTVLEQDTQGLDGWWLC...  \n",
       "3  MASPADSCIQFTRHASDVLLNLNRLRSRDILTDVVIVVSREQFRAH...  \n",
       "4  MGRKKIQITRIMDERNRQVTFTKRKFGLMKKAYELSVLCDCEIALI...  "
      ]
     },
     "execution_count": null,
     "metadata": {},
     "output_type": "execute_result"
    }
   ],
   "source": [
    "df.head()"
   ]
  },
  {
   "cell_type": "code",
   "execution_count": null,
   "id": "46b29033",
   "metadata": {},
   "outputs": [
    {
     "data": {
      "text/plain": [
       "(11212, 8)"
      ]
     },
     "execution_count": null,
     "metadata": {},
     "output_type": "execute_result"
    }
   ],
   "source": [
    "df.shape"
   ]
  },
  {
   "cell_type": "code",
   "execution_count": null,
   "id": "bbd76a41",
   "metadata": {},
   "outputs": [],
   "source": [
    "df['source']=\"SIGNOR\""
   ]
  },
  {
   "cell_type": "code",
   "execution_count": null,
   "id": "cc275de8",
   "metadata": {},
   "outputs": [],
   "source": [
    "# df.to_excel('raw/signor.xlsx',index=False)"
   ]
  },
  {
   "cell_type": "markdown",
   "id": "c798cef0",
   "metadata": {},
   "source": [
    "## GPS 6.0"
   ]
  },
  {
   "cell_type": "markdown",
   "id": "17603b88",
   "metadata": {},
   "source": [
    "### Data"
   ]
  },
  {
   "cell_type": "markdown",
   "id": "1835db04",
   "metadata": {},
   "source": [
    "paper: https://academic.oup.com/nar/article/51/W1/W243/7157529#409532969\n",
    "\n",
    "web: https://gps.biocuckoo.cn/index.php"
   ]
  },
  {
   "cell_type": "markdown",
   "id": "6ec9202d",
   "metadata": {},
   "source": [
    "Go to paper link, download supplementary data - zip file, get Table S5"
   ]
  },
  {
   "cell_type": "code",
   "execution_count": null,
   "id": "85b87eed",
   "metadata": {},
   "outputs": [],
   "source": [
    "import pandas as pd"
   ]
  },
  {
   "cell_type": "code",
   "execution_count": null,
   "id": "d42274ab",
   "metadata": {},
   "outputs": [],
   "source": [
    "gps = pd.read_csv('raw/GPS6_tableS5.csv')"
   ]
  },
  {
   "cell_type": "code",
   "execution_count": null,
   "id": "1085ffc6",
   "metadata": {},
   "outputs": [],
   "source": [
    "gps = gps[gps.source!=\"PhosphositePlus\"]"
   ]
  },
  {
   "cell_type": "code",
   "execution_count": null,
   "id": "36a6736b",
   "metadata": {},
   "outputs": [],
   "source": [
    "gps = gps[gps.species==\"Homo sapiens\"]"
   ]
  },
  {
   "cell_type": "code",
   "execution_count": null,
   "id": "f66c8e87",
   "metadata": {},
   "outputs": [
    {
     "data": {
      "text/plain": [
       "(6087, 6)"
      ]
     },
     "execution_count": null,
     "metadata": {},
     "output_type": "execute_result"
    }
   ],
   "source": [
    "gps.shape"
   ]
  },
  {
   "cell_type": "code",
   "execution_count": null,
   "id": "e2ee0a9e",
   "metadata": {},
   "outputs": [],
   "source": [
    "gps = gps[~gps.gene.str.contains('family')]"
   ]
  },
  {
   "cell_type": "markdown",
   "id": "f8383877",
   "metadata": {},
   "source": [
    "### Kinase mapping"
   ]
  },
  {
   "cell_type": "code",
   "execution_count": null,
   "id": "405ffa36-5673-4222-b13a-afa825390ff7",
   "metadata": {},
   "outputs": [],
   "source": [
    "from katlas.data import *"
   ]
  },
  {
   "cell_type": "code",
   "execution_count": null,
   "id": "352aa956",
   "metadata": {},
   "outputs": [],
   "source": [
    "# kinase_id = pd.read_excel('raw/uniprot_human_keyword_kinase.xlsx')\n",
    "kinase_id = Data.get_kinase_uniprot()"
   ]
  },
  {
   "cell_type": "code",
   "execution_count": null,
   "id": "1d96d9e9",
   "metadata": {},
   "outputs": [],
   "source": [
    "kinase_id['Gene Names'] = kinase_id['Gene Names'].str.split(' ')"
   ]
  },
  {
   "cell_type": "code",
   "execution_count": null,
   "id": "cc897f30",
   "metadata": {},
   "outputs": [],
   "source": [
    "kinase_id = kinase_id.explode('Gene Names')"
   ]
  },
  {
   "cell_type": "markdown",
   "id": "5e1d5be9",
   "metadata": {},
   "source": [
    "Some kinases share same gene names:"
   ]
  },
  {
   "cell_type": "code",
   "execution_count": null,
   "id": "6f91b5e1",
   "metadata": {},
   "outputs": [
    {
     "data": {
      "text/html": [
       "<div>\n",
       "<style scoped>\n",
       "    .dataframe tbody tr th:only-of-type {\n",
       "        vertical-align: middle;\n",
       "    }\n",
       "\n",
       "    .dataframe tbody tr th {\n",
       "        vertical-align: top;\n",
       "    }\n",
       "\n",
       "    .dataframe thead th {\n",
       "        text-align: right;\n",
       "    }\n",
       "</style>\n",
       "<table border=\"1\" class=\"dataframe\">\n",
       "  <thead>\n",
       "    <tr style=\"text-align: right;\">\n",
       "      <th></th>\n",
       "      <th>Entry</th>\n",
       "      <th>Entry Name</th>\n",
       "      <th>Protein names</th>\n",
       "      <th>Gene Names</th>\n",
       "      <th>uniprot_keyword_kinase</th>\n",
       "      <th>on_tree</th>\n",
       "      <th>Organism</th>\n",
       "      <th>Keywords</th>\n",
       "      <th>Sequence</th>\n",
       "    </tr>\n",
       "  </thead>\n",
       "  <tbody>\n",
       "    <tr>\n",
       "      <th>586</th>\n",
       "      <td>Q9UIJ7</td>\n",
       "      <td>KAD3_HUMAN</td>\n",
       "      <td>GTP:AMP phosphotransferase AK3, mitochondrial ...</td>\n",
       "      <td>AK3</td>\n",
       "      <td>1</td>\n",
       "      <td>0</td>\n",
       "      <td>Homo sapiens (Human)</td>\n",
       "      <td>3D-structure;Acetylation;Alternative splicing;...</td>\n",
       "      <td>MGASARLLRAVIMGAPGSGKGTVSSRITTHFELKHLSSGDLLRDNM...</td>\n",
       "    </tr>\n",
       "    <tr>\n",
       "      <th>152</th>\n",
       "      <td>P27144</td>\n",
       "      <td>KAD4_HUMAN</td>\n",
       "      <td>Adenylate kinase 4, mitochondrial (EC 2.7.4.4)...</td>\n",
       "      <td>AK3</td>\n",
       "      <td>1</td>\n",
       "      <td>0</td>\n",
       "      <td>Homo sapiens (Human)</td>\n",
       "      <td>3D-structure;Acetylation;ATP-binding;GTP-bindi...</td>\n",
       "      <td>MASKLLRAVILGPPGSGKGTVCQRIAQNFGLQHLSSGHFLRENIKA...</td>\n",
       "    </tr>\n",
       "    <tr>\n",
       "      <th>586</th>\n",
       "      <td>Q9UIJ7</td>\n",
       "      <td>KAD3_HUMAN</td>\n",
       "      <td>GTP:AMP phosphotransferase AK3, mitochondrial ...</td>\n",
       "      <td>AK3L1</td>\n",
       "      <td>1</td>\n",
       "      <td>0</td>\n",
       "      <td>Homo sapiens (Human)</td>\n",
       "      <td>3D-structure;Acetylation;Alternative splicing;...</td>\n",
       "      <td>MGASARLLRAVIMGAPGSGKGTVSSRITTHFELKHLSSGDLLRDNM...</td>\n",
       "    </tr>\n",
       "    <tr>\n",
       "      <th>152</th>\n",
       "      <td>P27144</td>\n",
       "      <td>KAD4_HUMAN</td>\n",
       "      <td>Adenylate kinase 4, mitochondrial (EC 2.7.4.4)...</td>\n",
       "      <td>AK3L1</td>\n",
       "      <td>1</td>\n",
       "      <td>0</td>\n",
       "      <td>Homo sapiens (Human)</td>\n",
       "      <td>3D-structure;Acetylation;ATP-binding;GTP-bindi...</td>\n",
       "      <td>MASKLLRAVILGPPGSGKGTVCQRIAQNFGLQHLSSGHFLRENIKA...</td>\n",
       "    </tr>\n",
       "    <tr>\n",
       "      <th>609</th>\n",
       "      <td>Q9Y3D8</td>\n",
       "      <td>KAD6_HUMAN</td>\n",
       "      <td>Adenylate kinase isoenzyme 6 (AK6) (EC 2.7.4.3...</td>\n",
       "      <td>AK6</td>\n",
       "      <td>1</td>\n",
       "      <td>0</td>\n",
       "      <td>Homo sapiens (Human)</td>\n",
       "      <td>3D-structure;Alternative splicing;ATP-binding;...</td>\n",
       "      <td>MLLPNILLTGTPGVGKTTLGKELASKSGLKYINVGDLAREEQLYDG...</td>\n",
       "    </tr>\n",
       "  </tbody>\n",
       "</table>\n",
       "</div>"
      ],
      "text/plain": [
       "      Entry  Entry Name                                      Protein names  \\\n",
       "586  Q9UIJ7  KAD3_HUMAN  GTP:AMP phosphotransferase AK3, mitochondrial ...   \n",
       "152  P27144  KAD4_HUMAN  Adenylate kinase 4, mitochondrial (EC 2.7.4.4)...   \n",
       "586  Q9UIJ7  KAD3_HUMAN  GTP:AMP phosphotransferase AK3, mitochondrial ...   \n",
       "152  P27144  KAD4_HUMAN  Adenylate kinase 4, mitochondrial (EC 2.7.4.4)...   \n",
       "609  Q9Y3D8  KAD6_HUMAN  Adenylate kinase isoenzyme 6 (AK6) (EC 2.7.4.3...   \n",
       "\n",
       "    Gene Names  uniprot_keyword_kinase  on_tree              Organism  \\\n",
       "586        AK3                       1        0  Homo sapiens (Human)   \n",
       "152        AK3                       1        0  Homo sapiens (Human)   \n",
       "586      AK3L1                       1        0  Homo sapiens (Human)   \n",
       "152      AK3L1                       1        0  Homo sapiens (Human)   \n",
       "609        AK6                       1        0  Homo sapiens (Human)   \n",
       "\n",
       "                                              Keywords  \\\n",
       "586  3D-structure;Acetylation;Alternative splicing;...   \n",
       "152  3D-structure;Acetylation;ATP-binding;GTP-bindi...   \n",
       "586  3D-structure;Acetylation;Alternative splicing;...   \n",
       "152  3D-structure;Acetylation;ATP-binding;GTP-bindi...   \n",
       "609  3D-structure;Alternative splicing;ATP-binding;...   \n",
       "\n",
       "                                              Sequence  \n",
       "586  MGASARLLRAVIMGAPGSGKGTVSSRITTHFELKHLSSGDLLRDNM...  \n",
       "152  MASKLLRAVILGPPGSGKGTVCQRIAQNFGLQHLSSGHFLRENIKA...  \n",
       "586  MGASARLLRAVIMGAPGSGKGTVSSRITTHFELKHLSSGDLLRDNM...  \n",
       "152  MASKLLRAVILGPPGSGKGTVCQRIAQNFGLQHLSSGHFLRENIKA...  \n",
       "609  MLLPNILLTGTPGVGKTTLGKELASKSGLKYINVGDLAREEQLYDG...  "
      ]
     },
     "execution_count": null,
     "metadata": {},
     "output_type": "execute_result"
    }
   ],
   "source": [
    "kinase_id[kinase_id['Gene Names'].duplicated(keep=False)].sort_values('Gene Names').head()"
   ]
  },
  {
   "cell_type": "markdown",
   "id": "73638213",
   "metadata": {},
   "source": [
    "We'll drop them to prevent confusion."
   ]
  },
  {
   "cell_type": "code",
   "execution_count": null,
   "id": "59e2fb50",
   "metadata": {},
   "outputs": [],
   "source": [
    "dup_name = set(kinase_id[kinase_id['Gene Names'].duplicated(keep=False)]['Gene Names'])"
   ]
  },
  {
   "cell_type": "code",
   "execution_count": null,
   "id": "a34114de",
   "metadata": {},
   "outputs": [
    {
     "data": {
      "text/plain": [
       "np.int64(76)"
      ]
     },
     "execution_count": null,
     "metadata": {},
     "output_type": "execute_result"
    }
   ],
   "source": [
    "gps.gene.isin(dup_name).sum()"
   ]
  },
  {
   "cell_type": "code",
   "execution_count": null,
   "id": "90a1d095",
   "metadata": {},
   "outputs": [
    {
     "data": {
      "text/plain": [
       "(4260, 6)"
      ]
     },
     "execution_count": null,
     "metadata": {},
     "output_type": "execute_result"
    }
   ],
   "source": [
    "gps.shape"
   ]
  },
  {
   "cell_type": "code",
   "execution_count": null,
   "id": "a7aad368",
   "metadata": {},
   "outputs": [],
   "source": [
    "gps = gps[~gps.gene.isin(dup_name)].copy()"
   ]
  },
  {
   "cell_type": "code",
   "execution_count": null,
   "id": "8c84b92b",
   "metadata": {},
   "outputs": [],
   "source": [
    "gene2uniprot = kinase_id.set_index('Gene Names')['Entry'].to_dict()"
   ]
  },
  {
   "cell_type": "code",
   "execution_count": null,
   "id": "083352cf",
   "metadata": {},
   "outputs": [
    {
     "data": {
      "text/plain": [
       "(4184, 6)"
      ]
     },
     "execution_count": null,
     "metadata": {},
     "output_type": "execute_result"
    }
   ],
   "source": [
    "gps.shape"
   ]
  },
  {
   "cell_type": "markdown",
   "id": "1690b17f",
   "metadata": {},
   "source": [
    "unmapped:"
   ]
  },
  {
   "cell_type": "code",
   "execution_count": null,
   "id": "bcc6861c",
   "metadata": {},
   "outputs": [
    {
     "data": {
      "text/plain": [
       "array(['DMPK1', 'MRCKa', 'YPKA', 'PKACb', 'PKCt', 'PKCh', 'PKCi', 'PKCz',\n",
       "       'PKG1', 'PKG2', 'PRKG1 Isoform Alpha', 'p70S6K', 'p70S6Kb',\n",
       "       'CCDPK', 'AMPKa1', 'PKD3', 'CK1d', 'CK1e', 'CK1g1', 'CSNK2B',\n",
       "       'p38b', 'p38d', 'p38g', 'AurB', 'AurC', 'TP53RK ', 'STLK3',\n",
       "       'PAK3 Isoform 2', 'TAO1', 'ACK'], dtype=object)"
      ]
     },
     "execution_count": null,
     "metadata": {},
     "output_type": "execute_result"
    }
   ],
   "source": [
    "gps[gps.gene.str.upper().map(gene2uniprot).isna()].gene.unique()"
   ]
  },
  {
   "cell_type": "code",
   "execution_count": null,
   "id": "0143c582",
   "metadata": {},
   "outputs": [],
   "source": [
    "gps['kinase_uniprot'] = gps.gene.str.upper().map(gene2uniprot)"
   ]
  },
  {
   "cell_type": "code",
   "execution_count": null,
   "id": "2b50553c",
   "metadata": {},
   "outputs": [],
   "source": [
    "gps = gps.dropna(subset='kinase_uniprot')"
   ]
  },
  {
   "cell_type": "markdown",
   "id": "ef1bbb8b",
   "metadata": {},
   "source": [
    "### Substrate mapping"
   ]
  },
  {
   "cell_type": "code",
   "execution_count": null,
   "id": "7d0f3510",
   "metadata": {},
   "outputs": [],
   "source": [
    "# gps.uniprot.drop_duplicates().to_csv('raw/GPS_substrate_id.csv')"
   ]
  },
  {
   "cell_type": "markdown",
   "id": "a0f8256f",
   "metadata": {},
   "source": [
    "1,203 IDs were mapped to 1,208 results\n",
    "\n",
    "1,202 active entries and 1 obsolete entry are found"
   ]
  },
  {
   "cell_type": "code",
   "execution_count": null,
   "id": "0d8c2feb",
   "metadata": {},
   "outputs": [
    {
     "data": {
      "text/plain": [
       "(3750, 7)"
      ]
     },
     "execution_count": null,
     "metadata": {},
     "output_type": "execute_result"
    }
   ],
   "source": [
    "gps.shape"
   ]
  },
  {
   "cell_type": "code",
   "execution_count": null,
   "id": "c5e40a7b",
   "metadata": {},
   "outputs": [
    {
     "name": "stdout",
     "output_type": "stream",
     "text": [
      "Shape before processing (3750, 7)\n",
      "Species counts: substrate_species\n",
      "Homo sapiens (Human)                                                                 3614\n",
      "Rattus norvegicus (Rat)                                                                30\n",
      "Mus musculus (Mouse)                                                                   19\n",
      "Pongo abelii (Sumatran orangutan) (Pongo pygmaeus abelii)                              10\n",
      "Pan troglodytes (Chimpanzee)                                                            6\n",
      "Sus scrofa (Pig)                                                                        6\n",
      "Bos taurus (Bovine)                                                                     5\n",
      "Oryctolagus cuniculus (Rabbit)                                                          4\n",
      "Macaca fascicularis (Crab-eating macaque) (Cynomolgus monkey)                           4\n",
      "Mesocricetus auratus (Golden hamster)                                                   4\n",
      "Tupaia belangeri (Common tree shrew) (Tupaia glis belangeri)                            2\n",
      "Canis lupus familiaris (Dog) (Canis familiaris)                                         2\n",
      "Phodopus roborovskii (Roborovski's desert hamster) (Cricetulus roborovskii)             2\n",
      "Macaca mulatta (Rhesus macaque)                                                         2\n",
      "Xenopus tropicalis (Western clawed frog) (Silurana tropicalis)                          2\n",
      "Hylobates lar (Lar gibbon) (White-handed gibbon)                                        1\n",
      "Cricetulus griseus (Chinese hamster) (Cricetulus barabensis griseus)                    1\n",
      "Xenopus laevis (African clawed frog)                                                    1\n",
      "Galeopterus variegatus (Malayan flying lemur) (Cynocephalus variegatus)                 1\n",
      "Nannospalax galili (Northern Israeli blind subterranean mole rat) (Spalax galili)       1\n",
      "Spermophilus citellus (European suslik) (Citellus citellus)                             1\n",
      "Marmota monax (Woodchuck)                                                               1\n",
      "Pan paniscus (Pygmy chimpanzee) (Bonobo)                                                1\n",
      "Danio rerio (Zebrafish) (Brachydanio rerio)                                             1\n",
      "Hepatitis delta virus genotype II (isolate 7/18/83) (HDV)                               1\n",
      "Human T-cell leukemia virus 1 (strain Japan ATK-1 subtype A) (HTLV-1)                   1\n",
      "Macaca fuscata fuscata (Japanese macaque)                                               1\n",
      "Human T-cell leukemia virus 1 (isolate Caribbea HS-35 subtype A) (HTLV-1)               1\n",
      "Human T-cell leukemia virus 1 (isolate Melanesia mel5 subtype C) (HTLV-1)               1\n",
      "Ovis aries (Sheep)                                                                      1\n",
      "Human immunodeficiency virus type 1 group M subtype B (isolate NY5) (HIV-1)             1\n",
      "Human immunodeficiency virus type 2 subtype A (isolate BEN) (HIV-2)                     1\n",
      "Human immunodeficiency virus type 1 group M subtype B (isolate YU-2) (HIV-1)            1\n",
      "Human immunodeficiency virus type 1 group M subtype B (isolate WMJ22) (HIV-1)           1\n",
      "Cavia porcellus (Guinea pig)                                                            1\n",
      "Human immunodeficiency virus type 1 group M subtype A (isolate MAL) (HIV-1)             1\n",
      "Human immunodeficiency virus type 1 group M subtype F2 (isolate MP257) (HIV-1)          1\n",
      "Human immunodeficiency virus type 1 group M subtype B (isolate LW123) (HIV-1)           1\n",
      "Human immunodeficiency virus type 1 group M subtype B (isolate JRCSF) (HIV-1)           1\n",
      "Human immunodeficiency virus type 1 group M subtype B (isolate JH32) (HIV-1)            1\n",
      "Human immunodeficiency virus type 1 group M subtype B (isolate HXB2) (HIV-1)            1\n",
      "Human immunodeficiency virus type 1 group M subtype C (isolate ETH2220) (HIV-1)         1\n",
      "Human immunodeficiency virus type 1 group M subtype D (isolate ELI) (HIV-1)             1\n",
      "Human immunodeficiency virus type 1 group M subtype B (isolate CDC-451) (HIV-1)         1\n",
      "Human immunodeficiency virus type 1 group O (isolate ANT70) (HIV-1)                     1\n",
      "Human immunodeficiency virus type 1 group M subtype A (isolate U455) (HIV-1)            1\n",
      "Human immunodeficiency virus type 2 subtype A (isolate KR) (HIV-2)                      1\n",
      "Phodopus campbelli (Campbell's dwarf Russian hamster)                                   1\n",
      "Human immunodeficiency virus type 2 subtype A (isolate ROD) (HIV-2)                     1\n",
      "Human immunodeficiency virus type 1 group O (isolate MVP5180) (HIV-1)                   1\n",
      "Felis catus (Cat) (Felis silvestris catus)                                              1\n",
      "Name: count, dtype: int64\n",
      "Removing non-human substrates\n",
      "Shape after processing (3614, 10)\n"
     ]
    },
    {
     "name": "stderr",
     "output_type": "stream",
     "text": [
      "/home/sky1ove/miniconda3/lib/python3.13/site-packages/openpyxl/styles/stylesheet.py:237: UserWarning: Workbook contains no default style, apply openpyxl's default\n",
      "  warn(\"Workbook contains no default style, apply openpyxl's default\")\n"
     ]
    }
   ],
   "source": [
    "gps = map_substrate('raw/idmapping_2025_03_12_GPS.xlsx',gps,'uniprot')"
   ]
  },
  {
   "cell_type": "code",
   "execution_count": null,
   "id": "777c2a13",
   "metadata": {},
   "outputs": [
    {
     "data": {
      "text/plain": [
       "(3614, 10)"
      ]
     },
     "execution_count": null,
     "metadata": {},
     "output_type": "execute_result"
    }
   ],
   "source": [
    "gps.shape"
   ]
  },
  {
   "cell_type": "markdown",
   "id": "80ab2aa4",
   "metadata": {},
   "source": [
    "### Validate site"
   ]
  },
  {
   "cell_type": "code",
   "execution_count": null,
   "id": "be180972-4f39-49da-b170-6b2cb129d388",
   "metadata": {},
   "outputs": [],
   "source": [
    "from katlas.utils import *"
   ]
  },
  {
   "cell_type": "code",
   "execution_count": null,
   "id": "ba26cfd9",
   "metadata": {},
   "outputs": [],
   "source": [
    "gps['site']=gps['code'] + gps['position'].astype(int).astype(str)"
   ]
  },
  {
   "cell_type": "code",
   "execution_count": null,
   "id": "df0a3a9d",
   "metadata": {},
   "outputs": [],
   "source": [
    "gps['site_match'] =validate_site_df(gps,'site','substrate_sequence')"
   ]
  },
  {
   "cell_type": "code",
   "execution_count": null,
   "id": "4412cc60",
   "metadata": {},
   "outputs": [
    {
     "data": {
      "text/plain": [
       "site_match\n",
       "1    3435\n",
       "0     179\n",
       "Name: count, dtype: int64"
      ]
     },
     "execution_count": null,
     "metadata": {},
     "output_type": "execute_result"
    }
   ],
   "source": [
    "gps['site_match'].value_counts()"
   ]
  },
  {
   "cell_type": "code",
   "execution_count": null,
   "id": "997fcf53",
   "metadata": {},
   "outputs": [],
   "source": [
    "gps=gps[gps.site_match==1]"
   ]
  },
  {
   "cell_type": "code",
   "execution_count": null,
   "id": "2d10c1c0",
   "metadata": {},
   "outputs": [
    {
     "data": {
      "text/plain": [
       "(3435, 12)"
      ]
     },
     "execution_count": null,
     "metadata": {},
     "output_type": "execute_result"
    }
   ],
   "source": [
    "gps.shape"
   ]
  },
  {
   "cell_type": "markdown",
   "id": "442932ed",
   "metadata": {},
   "source": [
    "### Save"
   ]
  },
  {
   "cell_type": "code",
   "execution_count": null,
   "id": "98e1ff63",
   "metadata": {},
   "outputs": [
    {
     "data": {
      "text/plain": [
       "Index(['position', 'code', 'gene', 'species', 'source', 'kinase_uniprot',\n",
       "       'substrate_uniprot', 'substrate_genes', 'substrate_sequence',\n",
       "       'substrate_species', 'site', 'site_match'],\n",
       "      dtype='object')"
      ]
     },
     "execution_count": null,
     "metadata": {},
     "output_type": "execute_result"
    }
   ],
   "source": [
    "gps.columns"
   ]
  },
  {
   "cell_type": "code",
   "execution_count": null,
   "id": "01e44982",
   "metadata": {},
   "outputs": [],
   "source": [
    "gps = gps.rename(columns={'source':'GPS_source'})"
   ]
  },
  {
   "cell_type": "code",
   "execution_count": null,
   "id": "685a50cb",
   "metadata": {},
   "outputs": [],
   "source": [
    "gps['source']='GPS6'"
   ]
  },
  {
   "cell_type": "code",
   "execution_count": null,
   "id": "442b0e70",
   "metadata": {},
   "outputs": [],
   "source": [
    "col = ['kinase_uniprot','gene', \n",
    "\n",
    "       'substrate_uniprot', 'substrate_genes', 'site','substrate_sequence', 'GPS_source','source']"
   ]
  },
  {
   "cell_type": "code",
   "execution_count": null,
   "id": "e2f4a4ff",
   "metadata": {},
   "outputs": [],
   "source": [
    "gps = gps[col].copy()"
   ]
  },
  {
   "cell_type": "code",
   "execution_count": null,
   "id": "dd3e465c",
   "metadata": {},
   "outputs": [
    {
     "data": {
      "text/html": [
       "<div>\n",
       "<style scoped>\n",
       "    .dataframe tbody tr th:only-of-type {\n",
       "        vertical-align: middle;\n",
       "    }\n",
       "\n",
       "    .dataframe tbody tr th {\n",
       "        vertical-align: top;\n",
       "    }\n",
       "\n",
       "    .dataframe thead th {\n",
       "        text-align: right;\n",
       "    }\n",
       "</style>\n",
       "<table border=\"1\" class=\"dataframe\">\n",
       "  <thead>\n",
       "    <tr style=\"text-align: right;\">\n",
       "      <th></th>\n",
       "      <th>kinase_uniprot</th>\n",
       "      <th>gene</th>\n",
       "      <th>substrate_uniprot</th>\n",
       "      <th>substrate_genes</th>\n",
       "      <th>site</th>\n",
       "      <th>substrate_sequence</th>\n",
       "      <th>GPS_source</th>\n",
       "      <th>source</th>\n",
       "    </tr>\n",
       "  </thead>\n",
       "  <tbody>\n",
       "    <tr>\n",
       "      <th>0</th>\n",
       "      <td>P31749</td>\n",
       "      <td>AKT1</td>\n",
       "      <td>Q9Y261</td>\n",
       "      <td>FOXA2 HNF3B TCF3B</td>\n",
       "      <td>T156</td>\n",
       "      <td>MLGAVKMEGHEPSDWSSYYAEPEGYSSVSNMNAGLGMNGMNTYMSM...</td>\n",
       "      <td>14500912</td>\n",
       "      <td>GPS6</td>\n",
       "    </tr>\n",
       "    <tr>\n",
       "      <th>1</th>\n",
       "      <td>P31749</td>\n",
       "      <td>AKT1</td>\n",
       "      <td>P49760</td>\n",
       "      <td>CLK2</td>\n",
       "      <td>T127</td>\n",
       "      <td>MPHPRRYHSSERGSRGSYREHYRSRKHKRRRSRSWSSSSDRTRRRR...</td>\n",
       "      <td>UniProt</td>\n",
       "      <td>GPS6</td>\n",
       "    </tr>\n",
       "    <tr>\n",
       "      <th>2</th>\n",
       "      <td>P31749</td>\n",
       "      <td>AKT1</td>\n",
       "      <td>P49815</td>\n",
       "      <td>TSC2 TSC4</td>\n",
       "      <td>T1462</td>\n",
       "      <td>MAKPTSKDSGLKEKFKILLGLGTPRPNPRSAEGKQTEFIITAEILR...</td>\n",
       "      <td>12150915;15342917;12172553;UniProt</td>\n",
       "      <td>GPS6</td>\n",
       "    </tr>\n",
       "    <tr>\n",
       "      <th>3</th>\n",
       "      <td>P31749</td>\n",
       "      <td>AKT1</td>\n",
       "      <td>P46527</td>\n",
       "      <td>CDKN1B KIP1 p27</td>\n",
       "      <td>T187</td>\n",
       "      <td>MSNVRVSNGSPSLERMDARQAEHPKPSACRNLFGPVDHEELTRDLE...</td>\n",
       "      <td>12042314;9192873;9399644;9311993;9388487;17254...</td>\n",
       "      <td>GPS6</td>\n",
       "    </tr>\n",
       "    <tr>\n",
       "      <th>4</th>\n",
       "      <td>P31749</td>\n",
       "      <td>AKT1</td>\n",
       "      <td>O15111</td>\n",
       "      <td>CHUK IKKA TCF16</td>\n",
       "      <td>T23</td>\n",
       "      <td>MERPPGLRPGAGGPWEMRERLGTGGFGNVCLYQHRELDLKIAIKSC...</td>\n",
       "      <td>10485710;UniProt</td>\n",
       "      <td>GPS6</td>\n",
       "    </tr>\n",
       "  </tbody>\n",
       "</table>\n",
       "</div>"
      ],
      "text/plain": [
       "  kinase_uniprot  gene substrate_uniprot    substrate_genes   site  \\\n",
       "0         P31749  AKT1            Q9Y261  FOXA2 HNF3B TCF3B   T156   \n",
       "1         P31749  AKT1            P49760               CLK2   T127   \n",
       "2         P31749  AKT1            P49815          TSC2 TSC4  T1462   \n",
       "3         P31749  AKT1            P46527    CDKN1B KIP1 p27   T187   \n",
       "4         P31749  AKT1            O15111    CHUK IKKA TCF16    T23   \n",
       "\n",
       "                                  substrate_sequence  \\\n",
       "0  MLGAVKMEGHEPSDWSSYYAEPEGYSSVSNMNAGLGMNGMNTYMSM...   \n",
       "1  MPHPRRYHSSERGSRGSYREHYRSRKHKRRRSRSWSSSSDRTRRRR...   \n",
       "2  MAKPTSKDSGLKEKFKILLGLGTPRPNPRSAEGKQTEFIITAEILR...   \n",
       "3  MSNVRVSNGSPSLERMDARQAEHPKPSACRNLFGPVDHEELTRDLE...   \n",
       "4  MERPPGLRPGAGGPWEMRERLGTGGFGNVCLYQHRELDLKIAIKSC...   \n",
       "\n",
       "                                          GPS_source source  \n",
       "0                                           14500912   GPS6  \n",
       "1                                            UniProt   GPS6  \n",
       "2                 12150915;15342917;12172553;UniProt   GPS6  \n",
       "3  12042314;9192873;9399644;9311993;9388487;17254...   GPS6  \n",
       "4                                   10485710;UniProt   GPS6  "
      ]
     },
     "execution_count": null,
     "metadata": {},
     "output_type": "execute_result"
    }
   ],
   "source": [
    "gps.head()"
   ]
  },
  {
   "cell_type": "code",
   "execution_count": null,
   "id": "eaf90d38",
   "metadata": {},
   "outputs": [],
   "source": [
    "# gps.to_excel('raw/GPS6.xlsx',index=False)"
   ]
  },
  {
   "cell_type": "markdown",
   "id": "09bd52ca",
   "metadata": {},
   "source": [
    "## Other datasets"
   ]
  },
  {
   "cell_type": "markdown",
   "id": "4077ce08",
   "metadata": {},
   "source": [
    "### Douglass"
   ]
  },
  {
   "cell_type": "markdown",
   "id": "64d434c9",
   "metadata": {},
   "source": [
    "Paper: https://journals.physiology.org/doi/full/10.1152/ajpcell.00166.2012\n",
    "\n",
    "Data is not available to download, but available upon request to authors"
   ]
  },
  {
   "cell_type": "markdown",
   "id": "cbacaf53",
   "metadata": {},
   "source": [
    "### RegPhos 2.0"
   ]
  },
  {
   "cell_type": "markdown",
   "id": "62ea19a4",
   "metadata": {},
   "source": [
    "Paper: https://academic.oup.com/database/article/doi/10.1093/database/bau034/2634150"
   ]
  },
  {
   "cell_type": "markdown",
   "id": "d85e6311",
   "metadata": {},
   "source": [
    "Go to the paper link, scroll down to Supplementary data, download the zip file, docx file, table S4 is motif"
   ]
  },
  {
   "cell_type": "markdown",
   "id": "c838852e",
   "metadata": {},
   "source": [
    "### Phosida"
   ]
  },
  {
   "cell_type": "markdown",
   "id": "9c571056",
   "metadata": {},
   "source": [
    "http://www.phosida.com/ is not accessible\n",
    "\n",
    "Phosida paper: https://pmc.ncbi.nlm.nih.gov/articles/PMC2258193/"
   ]
  },
  {
   "cell_type": "markdown",
   "id": "a661d2dd",
   "metadata": {},
   "source": [
    "### PhosphoNetwork"
   ]
  },
  {
   "cell_type": "markdown",
   "id": "72f18140",
   "metadata": {},
   "source": [
    "2013 bioinformatics: https://pmc.ncbi.nlm.nih.gov/articles/PMC3866559/#btt627-T1\n",
    "\n",
    "2013 Mol Syst Biol.: https://pmc.ncbi.nlm.nih.gov/articles/PMC3658267/\n",
    "\n",
    "web app: https://www.phosphonetworks.org/\n",
    "\n",
    "The web app provides kinase-substrate pairs, but does not provides specific info of phosphorylation site.\n",
    "\n",
    "It provides logo and pssm though in Download --> Motif Matrix, which can be used to compare the PSSM result"
   ]
  },
  {
   "cell_type": "markdown",
   "id": "0df877ee",
   "metadata": {},
   "source": [
    "### BioGRID"
   ]
  },
  {
   "cell_type": "markdown",
   "id": "15c8e161",
   "metadata": {},
   "source": [
    "Go to : https://downloads.thebiogrid.org/BioGRID, Current-Release-->BIOGRID-PTMS-4.4.242.ptm.zip"
   ]
  },
  {
   "cell_type": "markdown",
   "id": "629bbd66",
   "metadata": {},
   "source": [
    "There are two files in after extraction, however, they don't contain kinase-substrate relationship."
   ]
  },
  {
   "cell_type": "markdown",
   "id": "4a5ac714",
   "metadata": {},
   "source": [
    "## Combine all"
   ]
  },
  {
   "cell_type": "code",
   "execution_count": null,
   "id": "527c0335",
   "metadata": {},
   "outputs": [],
   "source": [
    "import pandas as pd\n",
    "from pathlib import Path"
   ]
  },
  {
   "cell_type": "code",
   "execution_count": null,
   "id": "cf931bfc",
   "metadata": {},
   "outputs": [],
   "source": [
    "paths = [\n",
    "    'raw/GPS6.xlsx',\n",
    "    'raw/signor.xlsx',\n",
    "    'raw/ELM.xlsx',\n",
    "    'raw/iPTMNet.xlsx','raw/EPSD.xlsx',# 'raw/KiNet.xlsx',\n",
    "    'raw/psp_human.xlsx',\n",
    "    'raw/sugiyama.xlsx'\n",
    "]"
   ]
  },
  {
   "cell_type": "code",
   "execution_count": null,
   "id": "59aa01a3",
   "metadata": {},
   "outputs": [],
   "source": [
    "dfs = [pd.read_excel(path) for path in paths]"
   ]
  },
  {
   "cell_type": "code",
   "execution_count": null,
   "id": "86f1b2a4-ce9d-4444-8388-e5d8680a60a5",
   "metadata": {},
   "outputs": [
    {
     "name": "stdout",
     "output_type": "stream",
     "text": [
      "source\n",
      "GPS6    3435\n",
      "Name: count, dtype: int64\n",
      "source\n",
      "SIGNOR    11212\n",
      "Name: count, dtype: int64\n",
      "source\n",
      "ELM    4519\n",
      "Name: count, dtype: int64\n",
      "source\n",
      "iPTMNet    3478\n",
      "Name: count, dtype: int64\n",
      "source\n",
      "EPSD    10308\n",
      "Name: count, dtype: int64\n",
      "source\n",
      "PSP    13144\n",
      "Name: count, dtype: int64\n",
      "source\n",
      "Sugiyama    184948\n",
      "Name: count, dtype: int64\n"
     ]
    },
    {
     "data": {
      "text/plain": [
       "[None, None, None, None, None, None, None]"
      ]
     },
     "execution_count": null,
     "metadata": {},
     "output_type": "execute_result"
    }
   ],
   "source": [
    "[print(df.source.value_counts()) for df in dfs]"
   ]
  },
  {
   "cell_type": "markdown",
   "id": "9f86e101",
   "metadata": {},
   "source": [
    "For each df, we need to drop duplicates of kinase(uniprot)-substrate(uniprot)-site"
   ]
  },
  {
   "cell_type": "code",
   "execution_count": null,
   "id": "fa779448",
   "metadata": {},
   "outputs": [],
   "source": [
    "def get_key(df):\n",
    "    df = df.copy()\n",
    "    print('original shape:',df.shape)\n",
    "    df['kin_sub_site']=df['kinase_uniprot']+'_'+df['substrate_uniprot']+'_'+df['site']\n",
    "    df = df.drop_duplicates(subset='kin_sub_site')\n",
    "    print('after removing duplicates',df.shape)\n",
    "    return df"
   ]
  },
  {
   "cell_type": "code",
   "execution_count": null,
   "id": "4622868e",
   "metadata": {},
   "outputs": [
    {
     "name": "stdout",
     "output_type": "stream",
     "text": [
      "original shape: (3435, 8)\n",
      "after removing duplicates (3326, 9)\n",
      "original shape: (11212, 9)\n",
      "after removing duplicates (9320, 10)\n",
      "original shape: (4519, 10)\n",
      "after removing duplicates (3807, 11)\n",
      "original shape: (3478, 9)\n",
      "after removing duplicates (3478, 10)\n",
      "original shape: (10308, 9)\n",
      "after removing duplicates (10308, 10)\n",
      "original shape: (13144, 13)\n",
      "after removing duplicates (13091, 14)\n",
      "original shape: (184948, 11)\n",
      "after removing duplicates (168342, 12)\n"
     ]
    }
   ],
   "source": [
    "dfs=[get_key(df) for df in dfs]"
   ]
  },
  {
   "cell_type": "code",
   "execution_count": null,
   "id": "131363a6",
   "metadata": {},
   "outputs": [
    {
     "name": "stdout",
     "output_type": "stream",
     "text": [
      "GPS6 (3326, 9)\n",
      "signor (9320, 10)\n",
      "ELM (3807, 11)\n",
      "iPTMNet (3478, 10)\n",
      "EPSD (10308, 10)\n",
      "psp_human (13091, 14)\n",
      "sugiyama (168342, 12)\n"
     ]
    }
   ],
   "source": [
    "for path,df in zip(paths,dfs):\n",
    "    print(Path(path).stem, df.shape)"
   ]
  },
  {
   "cell_type": "code",
   "execution_count": null,
   "id": "8ee19354",
   "metadata": {},
   "outputs": [],
   "source": [
    "common_cols = ['kinase_uniprot','substrate_uniprot','site','kin_sub_site','source','substrate_genes','substrate_sequence']"
   ]
  },
  {
   "cell_type": "code",
   "execution_count": null,
   "id": "67a91592",
   "metadata": {},
   "outputs": [],
   "source": [
    "df_all = pd.concat(dfs,ignore_index=True)\n",
    "df_all = df_all[common_cols].copy()"
   ]
  },
  {
   "cell_type": "code",
   "execution_count": null,
   "id": "70754b75-ec0d-4470-9848-f0886dcb11e8",
   "metadata": {},
   "outputs": [
    {
     "data": {
      "text/plain": [
       "source\n",
       "Sugiyama    168342\n",
       "PSP          13091\n",
       "EPSD         10308\n",
       "SIGNOR        9320\n",
       "ELM           3807\n",
       "iPTMNet       3478\n",
       "GPS6          3326\n",
       "Name: count, dtype: int64"
      ]
     },
     "execution_count": null,
     "metadata": {},
     "output_type": "execute_result"
    }
   ],
   "source": [
    "df_all.source.value_counts()"
   ]
  },
  {
   "cell_type": "code",
   "execution_count": null,
   "id": "4e053283",
   "metadata": {},
   "outputs": [],
   "source": [
    "# df_all.to_parquet('raw/combine_source.parquet')"
   ]
  },
  {
   "cell_type": "code",
   "execution_count": null,
   "id": "f2e1e369",
   "metadata": {},
   "outputs": [],
   "source": [
    "df_grouped = df_all.groupby(\"kin_sub_site\").agg({\n",
    "    \"kinase_uniprot\": \"first\",\n",
    "    \"substrate_uniprot\": \"first\",\n",
    "    \"site\": \"first\",\n",
    "    \"source\": '|'.join,  # Concatenate sources with '|'\n",
    "    \"substrate_genes\": \"first\",\n",
    "    \"substrate_sequence\": \"first\"\n",
    "}).reset_index()"
   ]
  },
  {
   "cell_type": "code",
   "execution_count": null,
   "id": "207197e1",
   "metadata": {},
   "outputs": [
    {
     "data": {
      "text/plain": [
       "(187066, 7)"
      ]
     },
     "execution_count": null,
     "metadata": {},
     "output_type": "execute_result"
    }
   ],
   "source": [
    "df_grouped.shape"
   ]
  },
  {
   "cell_type": "code",
   "execution_count": null,
   "id": "da95d1f1",
   "metadata": {},
   "outputs": [
    {
     "data": {
      "text/html": [
       "<div>\n",
       "<style scoped>\n",
       "    .dataframe tbody tr th:only-of-type {\n",
       "        vertical-align: middle;\n",
       "    }\n",
       "\n",
       "    .dataframe tbody tr th {\n",
       "        vertical-align: top;\n",
       "    }\n",
       "\n",
       "    .dataframe thead th {\n",
       "        text-align: right;\n",
       "    }\n",
       "</style>\n",
       "<table border=\"1\" class=\"dataframe\">\n",
       "  <thead>\n",
       "    <tr style=\"text-align: right;\">\n",
       "      <th></th>\n",
       "      <th>kin_sub_site</th>\n",
       "      <th>kinase_uniprot</th>\n",
       "      <th>substrate_uniprot</th>\n",
       "      <th>site</th>\n",
       "      <th>source</th>\n",
       "      <th>substrate_genes</th>\n",
       "      <th>substrate_sequence</th>\n",
       "    </tr>\n",
       "  </thead>\n",
       "  <tbody>\n",
       "    <tr>\n",
       "      <th>0</th>\n",
       "      <td>O00141_A4FU28_S140</td>\n",
       "      <td>O00141</td>\n",
       "      <td>A4FU28</td>\n",
       "      <td>S140</td>\n",
       "      <td>Sugiyama</td>\n",
       "      <td>CTAGE9</td>\n",
       "      <td>MEEPGATPQPYLGLVLEELGRVVAALPESMRPDENPYGFPSELVVC...</td>\n",
       "    </tr>\n",
       "    <tr>\n",
       "      <th>1</th>\n",
       "      <td>O00141_O00141_S252</td>\n",
       "      <td>O00141</td>\n",
       "      <td>O00141</td>\n",
       "      <td>S252</td>\n",
       "      <td>Sugiyama</td>\n",
       "      <td>SGK1 SGK</td>\n",
       "      <td>MTVKTEAAKGTLTYSRMRGMVAILIAFMKQRRMGLNDFIQKIANNS...</td>\n",
       "    </tr>\n",
       "    <tr>\n",
       "      <th>2</th>\n",
       "      <td>O00141_O00141_S255</td>\n",
       "      <td>O00141</td>\n",
       "      <td>O00141</td>\n",
       "      <td>S255</td>\n",
       "      <td>Sugiyama</td>\n",
       "      <td>SGK1 SGK</td>\n",
       "      <td>MTVKTEAAKGTLTYSRMRGMVAILIAFMKQRRMGLNDFIQKIANNS...</td>\n",
       "    </tr>\n",
       "    <tr>\n",
       "      <th>3</th>\n",
       "      <td>O00141_O00141_S397</td>\n",
       "      <td>O00141</td>\n",
       "      <td>O00141</td>\n",
       "      <td>S397</td>\n",
       "      <td>Sugiyama</td>\n",
       "      <td>SGK1 SGK</td>\n",
       "      <td>MTVKTEAAKGTLTYSRMRGMVAILIAFMKQRRMGLNDFIQKIANNS...</td>\n",
       "    </tr>\n",
       "    <tr>\n",
       "      <th>4</th>\n",
       "      <td>O00141_O00141_S404</td>\n",
       "      <td>O00141</td>\n",
       "      <td>O00141</td>\n",
       "      <td>S404</td>\n",
       "      <td>Sugiyama</td>\n",
       "      <td>SGK1 SGK</td>\n",
       "      <td>MTVKTEAAKGTLTYSRMRGMVAILIAFMKQRRMGLNDFIQKIANNS...</td>\n",
       "    </tr>\n",
       "  </tbody>\n",
       "</table>\n",
       "</div>"
      ],
      "text/plain": [
       "         kin_sub_site kinase_uniprot substrate_uniprot  site    source  \\\n",
       "0  O00141_A4FU28_S140         O00141            A4FU28  S140  Sugiyama   \n",
       "1  O00141_O00141_S252         O00141            O00141  S252  Sugiyama   \n",
       "2  O00141_O00141_S255         O00141            O00141  S255  Sugiyama   \n",
       "3  O00141_O00141_S397         O00141            O00141  S397  Sugiyama   \n",
       "4  O00141_O00141_S404         O00141            O00141  S404  Sugiyama   \n",
       "\n",
       "  substrate_genes                                 substrate_sequence  \n",
       "0          CTAGE9  MEEPGATPQPYLGLVLEELGRVVAALPESMRPDENPYGFPSELVVC...  \n",
       "1        SGK1 SGK  MTVKTEAAKGTLTYSRMRGMVAILIAFMKQRRMGLNDFIQKIANNS...  \n",
       "2        SGK1 SGK  MTVKTEAAKGTLTYSRMRGMVAILIAFMKQRRMGLNDFIQKIANNS...  \n",
       "3        SGK1 SGK  MTVKTEAAKGTLTYSRMRGMVAILIAFMKQRRMGLNDFIQKIANNS...  \n",
       "4        SGK1 SGK  MTVKTEAAKGTLTYSRMRGMVAILIAFMKQRRMGLNDFIQKIANNS...  "
      ]
     },
     "execution_count": null,
     "metadata": {},
     "output_type": "execute_result"
    }
   ],
   "source": [
    "df_grouped.head()"
   ]
  },
  {
   "cell_type": "code",
   "execution_count": null,
   "id": "cef6a89c",
   "metadata": {},
   "outputs": [],
   "source": [
    "# df_grouped.to_parquet('raw/combine_source_grouped.parquet')"
   ]
  },
  {
   "cell_type": "markdown",
   "id": "e252cf8f",
   "metadata": {},
   "source": [
    "## Human phosphoproteome"
   ]
  },
  {
   "cell_type": "code",
   "execution_count": null,
   "id": "25db8691",
   "metadata": {},
   "outputs": [],
   "source": [
    "from katlas.core import *\n",
    "import pandas as pd"
   ]
  },
  {
   "cell_type": "markdown",
   "id": "dd38045d",
   "metadata": {},
   "source": [
    "### Data"
   ]
  },
  {
   "cell_type": "code",
   "execution_count": null,
   "id": "39987af8",
   "metadata": {},
   "outputs": [],
   "source": [
    "human = Data.get_combine_site_psp_ochoa()"
   ]
  },
  {
   "cell_type": "code",
   "execution_count": null,
   "id": "08e6c589",
   "metadata": {},
   "outputs": [
    {
     "data": {
      "text/plain": [
       "(121419, 8)"
      ]
     },
     "execution_count": null,
     "metadata": {},
     "output_type": "execute_result"
    }
   ],
   "source": [
    "human.shape"
   ]
  },
  {
   "cell_type": "markdown",
   "id": "adcddd3c",
   "metadata": {},
   "source": [
    "### Substrate mapping"
   ]
  },
  {
   "cell_type": "code",
   "execution_count": null,
   "id": "8968d294",
   "metadata": {},
   "outputs": [],
   "source": [
    "# human.uniprot.drop_duplicates().to_csv('raw/human_phosphoproteome_uniprot.csv')"
   ]
  },
  {
   "cell_type": "markdown",
   "id": "e9a7e07d",
   "metadata": {},
   "source": [
    "11,243 IDs were mapped to 11,241 results\n",
    "\n",
    "5 ID were not mapped:\n",
    "AAA58698\n",
    "P18433-2\n",
    "AAC50053\n",
    "AAA60149\n",
    "NP_001184222\n",
    "\n",
    "11,242 active entries and 1 obsolete entry are found"
   ]
  },
  {
   "cell_type": "code",
   "execution_count": null,
   "id": "497c036f",
   "metadata": {},
   "outputs": [
    {
     "name": "stderr",
     "output_type": "stream",
     "text": [
      "/home/sky1ove/miniconda3/lib/python3.13/site-packages/openpyxl/styles/stylesheet.py:237: UserWarning: Workbook contains no default style, apply openpyxl's default\n",
      "  warn(\"Workbook contains no default style, apply openpyxl's default\")\n"
     ]
    },
    {
     "name": "stdout",
     "output_type": "stream",
     "text": [
      "Shape before processing (121419, 8)\n",
      "Species counts: substrate_species\n",
      "Homo sapiens (Human)    121332\n",
      "Name: count, dtype: int64\n",
      "Removing non-human substrates\n",
      "Shape after processing (121332, 11)\n"
     ]
    }
   ],
   "source": [
    "human = map_substrate('raw/idmapping_2025_03_20_human_phosphoproteome.xlsx',human,'uniprot')"
   ]
  },
  {
   "cell_type": "markdown",
   "id": "a1dd8cf5",
   "metadata": {},
   "source": [
    "### Validate site"
   ]
  },
  {
   "cell_type": "code",
   "execution_count": null,
   "id": "b5b5e421",
   "metadata": {},
   "outputs": [
    {
     "data": {
      "text/plain": [
       "Index(['gene', 'site', 'site_seq', 'source', 'AM_pathogenicity', 'CDDM_upper',\n",
       "       'CDDM_max_score', 'substrate_uniprot', 'substrate_genes',\n",
       "       'substrate_sequence', 'substrate_species'],\n",
       "      dtype='object')"
      ]
     },
     "execution_count": null,
     "metadata": {},
     "output_type": "execute_result"
    }
   ],
   "source": [
    "human.columns"
   ]
  },
  {
   "cell_type": "code",
   "execution_count": null,
   "id": "d1492770",
   "metadata": {},
   "outputs": [],
   "source": [
    "human['site_match'] =validate_site_df(human,'site','substrate_sequence')"
   ]
  },
  {
   "cell_type": "code",
   "execution_count": null,
   "id": "21a05dfa",
   "metadata": {},
   "outputs": [
    {
     "data": {
      "text/plain": [
       "site_match\n",
       "1    120084\n",
       "0      1248\n",
       "Name: count, dtype: int64"
      ]
     },
     "execution_count": null,
     "metadata": {},
     "output_type": "execute_result"
    }
   ],
   "source": [
    "human['site_match'].value_counts()"
   ]
  },
  {
   "cell_type": "code",
   "execution_count": null,
   "id": "96f2b23d",
   "metadata": {},
   "outputs": [],
   "source": [
    "human=human[human.site_match==1].copy()"
   ]
  },
  {
   "cell_type": "code",
   "execution_count": null,
   "id": "7df09d76",
   "metadata": {},
   "outputs": [
    {
     "data": {
      "text/plain": [
       "(120084, 12)"
      ]
     },
     "execution_count": null,
     "metadata": {},
     "output_type": "execute_result"
    }
   ],
   "source": [
    "human.shape"
   ]
  },
  {
   "cell_type": "markdown",
   "id": "4a6ecc52",
   "metadata": {},
   "source": [
    "### Remove duplicates"
   ]
  },
  {
   "cell_type": "code",
   "execution_count": null,
   "id": "0e984bab",
   "metadata": {},
   "outputs": [],
   "source": [
    "human['sub_site'] = human['substrate_uniprot']+'_'+human['site']"
   ]
  },
  {
   "cell_type": "code",
   "execution_count": null,
   "id": "d2a37ec1",
   "metadata": {},
   "outputs": [],
   "source": [
    "human = human.drop_duplicates(subset='sub_site')"
   ]
  },
  {
   "cell_type": "code",
   "execution_count": null,
   "id": "89dc15d7",
   "metadata": {},
   "outputs": [
    {
     "data": {
      "text/plain": [
       "(119955, 13)"
      ]
     },
     "execution_count": null,
     "metadata": {},
     "output_type": "execute_result"
    }
   ],
   "source": [
    "human.shape"
   ]
  },
  {
   "cell_type": "markdown",
   "id": "9f04e617",
   "metadata": {},
   "source": [
    "### Save"
   ]
  },
  {
   "cell_type": "code",
   "execution_count": null,
   "id": "d4ccad3d",
   "metadata": {},
   "outputs": [
    {
     "data": {
      "text/plain": [
       "Index(['gene', 'site', 'site_seq', 'source', 'AM_pathogenicity', 'CDDM_upper',\n",
       "       'CDDM_max_score', 'substrate_uniprot', 'substrate_genes',\n",
       "       'substrate_sequence', 'substrate_species', 'site_match', 'sub_site'],\n",
       "      dtype='object')"
      ]
     },
     "execution_count": null,
     "metadata": {},
     "output_type": "execute_result"
    }
   ],
   "source": [
    "human.columns"
   ]
  },
  {
   "cell_type": "code",
   "execution_count": null,
   "id": "eca8fb2e",
   "metadata": {},
   "outputs": [],
   "source": [
    "cols = ['substrate_uniprot', 'substrate_genes',\n",
    "\n",
    "        'site', 'source', 'AM_pathogenicity', \n",
    "\n",
    "       'substrate_sequence', 'substrate_species', 'sub_site']"
   ]
  },
  {
   "cell_type": "code",
   "execution_count": null,
   "id": "29763e3c",
   "metadata": {},
   "outputs": [],
   "source": [
    "human = human[cols]"
   ]
  },
  {
   "cell_type": "code",
   "execution_count": null,
   "id": "a8a5a54d",
   "metadata": {},
   "outputs": [],
   "source": [
    "# human.to_parquet('raw/human_phosphoproteome.parquet')"
   ]
  },
  {
   "cell_type": "markdown",
   "id": "5f5a767a",
   "metadata": {},
   "source": [
    "## Phosphorylate sequence"
   ]
  },
  {
   "cell_type": "markdown",
   "id": "cdf06920",
   "metadata": {},
   "source": [
    "### Combine human phosphoproteome and KS dataset site info"
   ]
  },
  {
   "cell_type": "code",
   "execution_count": null,
   "id": "b7775d06",
   "metadata": {},
   "outputs": [],
   "source": [
    "human = pd.read_parquet('raw/human_phosphoproteome.parquet')"
   ]
  },
  {
   "cell_type": "code",
   "execution_count": null,
   "id": "7b58050a",
   "metadata": {},
   "outputs": [],
   "source": [
    "cols = ['substrate_uniprot','site','substrate_sequence']"
   ]
  },
  {
   "cell_type": "code",
   "execution_count": null,
   "id": "a71007ee",
   "metadata": {},
   "outputs": [],
   "source": [
    "df_grouped = pd.read_parquet('raw/combine_source_grouped.parquet')"
   ]
  },
  {
   "cell_type": "code",
   "execution_count": null,
   "id": "ebe33488",
   "metadata": {},
   "outputs": [],
   "source": [
    "human = human[cols]\n",
    "\n",
    "df_grouped = df_grouped[cols]"
   ]
  },
  {
   "cell_type": "code",
   "execution_count": null,
   "id": "33a114fb",
   "metadata": {},
   "outputs": [],
   "source": [
    "comb = pd.concat([human,df_grouped])"
   ]
  },
  {
   "cell_type": "code",
   "execution_count": null,
   "id": "1cb85e35",
   "metadata": {},
   "outputs": [],
   "source": [
    "comb['sub_site'] = comb['substrate_uniprot']+'_'+comb['site']"
   ]
  },
  {
   "cell_type": "code",
   "execution_count": null,
   "id": "403c7252",
   "metadata": {},
   "outputs": [],
   "source": [
    "comb = comb.drop_duplicates('sub_site')"
   ]
  },
  {
   "cell_type": "markdown",
   "id": "8510f4f4",
   "metadata": {},
   "source": [
    "### Phosphorylate sequence"
   ]
  },
  {
   "cell_type": "code",
   "execution_count": null,
   "id": "16f2b057",
   "metadata": {},
   "outputs": [],
   "source": [
    "seq = phosphorylate_seq_df(comb)"
   ]
  },
  {
   "cell_type": "code",
   "execution_count": null,
   "id": "a89faaa3",
   "metadata": {},
   "outputs": [
    {
     "data": {
      "text/html": [
       "<div>\n",
       "<style scoped>\n",
       "    .dataframe tbody tr th:only-of-type {\n",
       "        vertical-align: middle;\n",
       "    }\n",
       "\n",
       "    .dataframe tbody tr th {\n",
       "        vertical-align: top;\n",
       "    }\n",
       "\n",
       "    .dataframe thead th {\n",
       "        text-align: right;\n",
       "    }\n",
       "</style>\n",
       "<table border=\"1\" class=\"dataframe\">\n",
       "  <thead>\n",
       "    <tr style=\"text-align: right;\">\n",
       "      <th></th>\n",
       "      <th>substrate_uniprot</th>\n",
       "      <th>site</th>\n",
       "      <th>substrate_sequence</th>\n",
       "      <th>phosphoseq</th>\n",
       "    </tr>\n",
       "  </thead>\n",
       "  <tbody>\n",
       "    <tr>\n",
       "      <th>0</th>\n",
       "      <td>A0A024R4G9</td>\n",
       "      <td>[S20]</td>\n",
       "      <td>MTVLEAVLEIQAITGSRLLSMVPGPARPPGSCWDPTQCTRTWLLSH...</td>\n",
       "      <td>MTVLEAVLEIQAITGSRLLsMVPGPARPPGSCWDPTQCTRTWLLSH...</td>\n",
       "    </tr>\n",
       "    <tr>\n",
       "      <th>1</th>\n",
       "      <td>A0A075B6Q4</td>\n",
       "      <td>[S24, S35, S57, S68, S71, S72]</td>\n",
       "      <td>MDIQKSENEDDSEWEDVDDEKGDSNDDYDSAGLLSDEDCMSVPGKT...</td>\n",
       "      <td>MDIQKSENEDDSEWEDVDDEKGDsNDDYDSAGLLsDEDCMSVPGKT...</td>\n",
       "    </tr>\n",
       "    <tr>\n",
       "      <th>2</th>\n",
       "      <td>A0A075B6T3</td>\n",
       "      <td>[S24, S26]</td>\n",
       "      <td>XLKRAYRGLEEVQWCLEQLLTSPSPS</td>\n",
       "      <td>XLKRAYRGLEEVQWCLEQLLTSPsPs</td>\n",
       "    </tr>\n",
       "    <tr>\n",
       "      <th>3</th>\n",
       "      <td>A0A075B759</td>\n",
       "      <td>[T68]</td>\n",
       "      <td>MVNSVVFFEITRDGKPLGRISIKLFADKIPKTAENFRALSTGEKGF...</td>\n",
       "      <td>MVNSVVFFEITRDGKPLGRISIKLFADKIPKTAENFRALSTGEKGF...</td>\n",
       "    </tr>\n",
       "    <tr>\n",
       "      <th>4</th>\n",
       "      <td>A0A087WTJ2</td>\n",
       "      <td>[T8, Y14, Y213, T215, S221, S421, S424]</td>\n",
       "      <td>MGGRKMATDEENVYGLEENAQSRQESTRRLILVGRTGAGKSATGNS...</td>\n",
       "      <td>MGGRKMAtDEENVyGLEENAQSRQESTRRLILVGRTGAGKSATGNS...</td>\n",
       "    </tr>\n",
       "  </tbody>\n",
       "</table>\n",
       "</div>"
      ],
      "text/plain": [
       "  substrate_uniprot                                     site  \\\n",
       "0        A0A024R4G9                                    [S20]   \n",
       "1        A0A075B6Q4           [S24, S35, S57, S68, S71, S72]   \n",
       "2        A0A075B6T3                               [S24, S26]   \n",
       "3        A0A075B759                                    [T68]   \n",
       "4        A0A087WTJ2  [T8, Y14, Y213, T215, S221, S421, S424]   \n",
       "\n",
       "                                  substrate_sequence  \\\n",
       "0  MTVLEAVLEIQAITGSRLLSMVPGPARPPGSCWDPTQCTRTWLLSH...   \n",
       "1  MDIQKSENEDDSEWEDVDDEKGDSNDDYDSAGLLSDEDCMSVPGKT...   \n",
       "2                         XLKRAYRGLEEVQWCLEQLLTSPSPS   \n",
       "3  MVNSVVFFEITRDGKPLGRISIKLFADKIPKTAENFRALSTGEKGF...   \n",
       "4  MGGRKMATDEENVYGLEENAQSRQESTRRLILVGRTGAGKSATGNS...   \n",
       "\n",
       "                                          phosphoseq  \n",
       "0  MTVLEAVLEIQAITGSRLLsMVPGPARPPGSCWDPTQCTRTWLLSH...  \n",
       "1  MDIQKSENEDDSEWEDVDDEKGDsNDDYDSAGLLsDEDCMSVPGKT...  \n",
       "2                         XLKRAYRGLEEVQWCLEQLLTSPsPs  \n",
       "3  MVNSVVFFEITRDGKPLGRISIKLFADKIPKTAENFRALSTGEKGF...  \n",
       "4  MGGRKMAtDEENVyGLEENAQSRQESTRRLILVGRTGAGKSATGNS...  "
      ]
     },
     "execution_count": null,
     "metadata": {},
     "output_type": "execute_result"
    }
   ],
   "source": [
    "seq.head()"
   ]
  },
  {
   "cell_type": "code",
   "execution_count": null,
   "id": "d4200eae",
   "metadata": {},
   "outputs": [],
   "source": [
    "# seq.to_csv('raw/phosphoseq_map.csv',index=False)"
   ]
  },
  {
   "cell_type": "markdown",
   "id": "f0a47cdf",
   "metadata": {},
   "source": [
    "### Map to df"
   ]
  },
  {
   "cell_type": "code",
   "execution_count": null,
   "id": "fa53aa50",
   "metadata": {},
   "outputs": [],
   "source": [
    "human = pd.read_parquet('raw/human_phosphoproteome.parquet')\n",
    "\n",
    "df_grouped = pd.read_parquet('raw/combine_source_grouped.parquet')"
   ]
  },
  {
   "cell_type": "code",
   "execution_count": null,
   "id": "b7f2d1b2",
   "metadata": {},
   "outputs": [],
   "source": [
    "seq_map = seq.set_index('substrate_uniprot')['phosphoseq']"
   ]
  },
  {
   "cell_type": "code",
   "execution_count": null,
   "id": "e04c62ac",
   "metadata": {},
   "outputs": [],
   "source": [
    "human['substrate_phosphoseq'] = human.substrate_uniprot.map(seq_map)\n",
    "\n",
    "df_grouped['substrate_phosphoseq'] = df_grouped.substrate_uniprot.map(seq_map)"
   ]
  },
  {
   "cell_type": "code",
   "execution_count": null,
   "id": "f3b8eead",
   "metadata": {},
   "outputs": [
    {
     "data": {
      "text/plain": [
       "np.int64(0)"
      ]
     },
     "execution_count": null,
     "metadata": {},
     "output_type": "execute_result"
    }
   ],
   "source": [
    "human['substrate_phosphoseq'].isna().sum()"
   ]
  },
  {
   "cell_type": "code",
   "execution_count": null,
   "id": "2b8ad5c9",
   "metadata": {},
   "outputs": [
    {
     "data": {
      "text/plain": [
       "np.int64(0)"
      ]
     },
     "execution_count": null,
     "metadata": {},
     "output_type": "execute_result"
    }
   ],
   "source": [
    "df_grouped['substrate_phosphoseq'].isna().sum()"
   ]
  },
  {
   "cell_type": "code",
   "execution_count": null,
   "id": "f6d4755e",
   "metadata": {},
   "outputs": [],
   "source": [
    "# human.to_parquet('raw/human_phosphoproteome.parquet')\n",
    "\n",
    "# df_grouped.to_parquet('raw/combine_source_grouped.parquet')"
   ]
  },
  {
   "cell_type": "markdown",
   "id": "84f4d5a5",
   "metadata": {},
   "source": [
    "## Extract site sequence"
   ]
  },
  {
   "cell_type": "code",
   "execution_count": null,
   "id": "868a2df9",
   "metadata": {},
   "outputs": [],
   "source": [
    "human['position'] = human['site'].str[1:].astype(int)\n",
    "\n",
    "df_grouped['position']=df_grouped['site'].str[1:].astype(int)"
   ]
  },
  {
   "cell_type": "code",
   "execution_count": null,
   "id": "bb22a219-d50d-4430-8443-fb1d3a9afc3e",
   "metadata": {},
   "outputs": [
    {
     "data": {
      "text/plain": [
       "\u001b[31mSignature:\u001b[39m\n",
       "extract_site_seq(\n",
       "    df: pandas.core.frame.DataFrame,\n",
       "    seq_col: str,\n",
       "    site_col: str,\n",
       "    n=\u001b[32m7\u001b[39m,\n",
       ")\n",
       "\u001b[31mDocstring:\u001b[39m Extract -n to +n site sequence from protein sequence\n",
       "\u001b[31mFile:\u001b[39m      /mnt/f/git/kkatlas/katlas/katlas/utils.py\n",
       "\u001b[31mType:\u001b[39m      function"
      ]
     },
     "metadata": {},
     "output_type": "display_data"
    }
   ],
   "source": [
    "extract_site_seq?"
   ]
  },
  {
   "cell_type": "code",
   "execution_count": null,
   "id": "ad3cf8e2",
   "metadata": {},
   "outputs": [
    {
     "name": "stderr",
     "output_type": "stream",
     "text": [
      "100%|█████████████████████████████████████████████████████████████████████| 119955/119955 [00:04<00:00, 25764.66it/s]\n"
     ]
    }
   ],
   "source": [
    "human['site_seq'] = extract_site_seq(human,\n",
    "                                  seq_col='substrate_phosphoseq',\n",
    "                                  site_col='site',n=20)"
   ]
  },
  {
   "cell_type": "code",
   "execution_count": null,
   "id": "57b22038",
   "metadata": {},
   "outputs": [
    {
     "name": "stderr",
     "output_type": "stream",
     "text": [
      "100%|█████████████████████████████████████████████████████████████████████| 187066/187066 [00:07<00:00, 25809.29it/s]\n"
     ]
    }
   ],
   "source": [
    "df_grouped['site_seq'] = extract_site_seq(df_grouped,\n",
    "                                  seq_col='substrate_phosphoseq',\n",
    "                                  site_col='site',n=20)"
   ]
  },
  {
   "cell_type": "code",
   "execution_count": null,
   "id": "81bed9ae",
   "metadata": {},
   "outputs": [],
   "source": [
    "df_grouped['sub_site'] = df_grouped['substrate_uniprot']+'_'+ df_grouped['site']\n",
    "\n",
    "human['sub_site'] = human['substrate_uniprot']+'_'+ human['site']"
   ]
  },
  {
   "cell_type": "code",
   "execution_count": null,
   "id": "948c7194",
   "metadata": {},
   "outputs": [],
   "source": [
    "# human.to_parquet('raw/human_phosphoproteome.parquet')\n",
    "\n",
    "# df_grouped.to_parquet('raw/combine_source_grouped.parquet')"
   ]
  },
  {
   "cell_type": "markdown",
   "id": "d0c57a8c-c880-4666-b479-f79044031d71",
   "metadata": {},
   "source": [
    "## Add kinase info"
   ]
  },
  {
   "cell_type": "code",
   "execution_count": null,
   "id": "df45c2c2-d635-454b-9369-0e2447189d71",
   "metadata": {},
   "outputs": [],
   "source": [
    "df=df_grouped.copy()"
   ]
  },
  {
   "cell_type": "code",
   "execution_count": null,
   "id": "4e008096-ac49-4faf-b3f0-3b33d3a36ff5",
   "metadata": {},
   "outputs": [],
   "source": [
    "# Remove pseudokinase duplicates by UniProt ID, keep only one entry per kinase\n",
    "info = Data.get_kinase_info().sort_values('kinase').drop_duplicates('uniprot')\n",
    "\n",
    "# Pre-extract UniProt ID without isoform for matching\n",
    "df['uniprot_clean'] = df['kinase_uniprot'].str.split('-').str[0]\n",
    "\n",
    "info_indexed = info.set_index('uniprot')\n",
    "group_map = info_indexed['group']\n",
    "family_map = info_indexed['family']\n",
    "pspa_small_map = info_indexed['pspa_category_small']\n",
    "pspa_big_map = info_indexed['pspa_category_big']\n",
    "\n",
    "df['kinase_on_tree'] = df['uniprot_clean'].isin(info['uniprot']).astype(int)\n",
    "\n",
    "kinase_gene_map = Data.get_kinase_uniprot().set_index('Entry')['Gene Names']\n",
    "df['kinase_genes'] = df['uniprot_clean'].map(kinase_gene_map)\n",
    "\n",
    "df['kinase_group'] = df['uniprot_clean'].map(group_map)\n",
    "df['kinase_family'] = df['uniprot_clean'].map(family_map)\n",
    "df['kinase_pspa_big'] = df['uniprot_clean'].map(pspa_big_map)\n",
    "df['kinase_pspa_small'] = df['uniprot_clean'].map(pspa_small_map)\n",
    "\n",
    "df.drop(columns='uniprot_clean', inplace=True)"
   ]
  },
  {
   "cell_type": "markdown",
   "id": "9055b714-8982-468b-846e-bea1d25bc798",
   "metadata": {},
   "source": [
    "The above code has been added into `Data` class when loading the ks dataset"
   ]
  },
  {
   "cell_type": "code",
   "execution_count": null,
   "id": "69b2fcc3-4a3b-48ab-a230-76d7b6fed8f5",
   "metadata": {},
   "outputs": [],
   "source": []
  }
 ],
 "metadata": {
  "kernelspec": {
   "display_name": "Python 3 (ipykernel)",
   "language": "python",
   "name": "python3"
  },
  "language_info": {
   "codemirror_mode": {
    "name": "ipython",
    "version": 3
   },
   "file_extension": ".py",
   "mimetype": "text/x-python",
   "name": "python",
   "nbconvert_exporter": "python",
   "pygments_lexer": "ipython3",
   "version": "3.12.3"
  }
 },
 "nbformat": 4,
 "nbformat_minor": 5
}
