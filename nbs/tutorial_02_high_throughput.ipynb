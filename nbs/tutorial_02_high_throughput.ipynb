{
 "cells": [
  {
   "cell_type": "raw",
   "id": "88da9510-3fc3-4a91-940a-d4dc9d6384fb",
   "metadata": {},
   "source": [
    "---\n",
    "skip_showdoc: true\n",
    "skip_exec: true\n",
    "---"
   ]
  },
  {
   "cell_type": "markdown",
   "id": "b796968a-779d-4d19-9049-f2950c732ab6",
   "metadata": {},
   "source": [
    "<a target=\"_blank\" href=\"https://colab.research.google.com/github/sky1ove/katlas/blob/main/nbs/tutorial_03_high_throughput.ipynb\">\n",
    "  <img src=\"https://colab.research.google.com/assets/colab-badge.svg\" alt=\"Open In Colab\"/>\n",
    "</a>"
   ]
  },
  {
   "cell_type": "markdown",
   "id": "439d5d00-a82d-43a1-a5bb-a0d9940f041d",
   "metadata": {},
   "source": [
    "# Phosphoproteomics scoring"
   ]
  },
  {
   "cell_type": "markdown",
   "id": "ce135e7d-2a5c-4174-8029-ded1d4eae516",
   "metadata": {},
   "source": [
    "In this session, instead of scoring sequence one by one, we will score the whole phosphoproteomics dataset at once (within minutes!)\n",
    "\n",
    "Moreover, we will plot the score distribution of a kinase, and check its substrates."
   ]
  },
  {
   "cell_type": "markdown",
   "id": "f0fce32a-1404-4f28-a872-33f50ded3299",
   "metadata": {},
   "source": [
    "## Setup"
   ]
  },
  {
   "cell_type": "code",
   "execution_count": null,
   "id": "3f0e24ce-6859-4944-9529-11eb8e247f61",
   "metadata": {},
   "outputs": [
    {
     "name": "stdout",
     "output_type": "stream",
     "text": [
      "\u001b[33mWARNING: Running pip as the 'root' user can result in broken permissions and conflicting behaviour with the system package manager. It is recommended to use a virtual environment instead: https://pip.pypa.io/warnings/venv\u001b[0m\u001b[33m\n",
      "\u001b[0m"
     ]
    }
   ],
   "source": [
    "!pip install python-katlas -Uq"
   ]
  },
  {
   "cell_type": "code",
   "execution_count": null,
   "id": "78879e8c-52da-40ad-a8f8-367b0b692771",
   "metadata": {},
   "outputs": [],
   "source": [
    "import pandas as pd,numpy as np,seaborn as sns\n",
    "from matplotlib import pyplot as plt\n",
    "from katlas.core import *"
   ]
  },
  {
   "cell_type": "markdown",
   "id": "fe3b1490-0c24-4cca-a8b6-20d2c5d0b93f",
   "metadata": {},
   "source": [
    "## Phosphoproteomics dataset"
   ]
  },
  {
   "cell_type": "markdown",
   "id": "40e1e496-f480-4ca1-b59f-6e5baee62618",
   "metadata": {},
   "source": [
    "Three datasets are available:\n",
    "\n",
    "- PhosphoSitePlus human (2024 Jan)\n",
    "- Ochoa et al. human phosphoproteom\n",
    "- Combine Ochoa and PSP low throughput data"
   ]
  },
  {
   "cell_type": "code",
   "execution_count": null,
   "id": "dc0cb22e-5802-4863-923a-bc1d6cdf4759",
   "metadata": {},
   "outputs": [],
   "source": [
    "psp = Data.get_psp_human_site()\n",
    "ochoa = Data.get_ochoa_site()\n",
    "comb = Data.get_combine_site_psp_ochoa()"
   ]
  },
  {
   "cell_type": "code",
   "execution_count": null,
   "id": "76d45f23-dae7-43ce-8702-4b7681c36d1d",
   "metadata": {},
   "outputs": [
    {
     "data": {
      "text/html": [
       "<div>\n",
       "<style scoped>\n",
       "    .dataframe tbody tr th:only-of-type {\n",
       "        vertical-align: middle;\n",
       "    }\n",
       "\n",
       "    .dataframe tbody tr th {\n",
       "        vertical-align: top;\n",
       "    }\n",
       "\n",
       "    .dataframe thead th {\n",
       "        text-align: right;\n",
       "    }\n",
       "</style>\n",
       "<table border=\"1\" class=\"dataframe\">\n",
       "  <thead>\n",
       "    <tr style=\"text-align: right;\">\n",
       "      <th></th>\n",
       "      <th>gene</th>\n",
       "      <th>protein</th>\n",
       "      <th>uniprot</th>\n",
       "      <th>site</th>\n",
       "      <th>gene_site</th>\n",
       "      <th>SITE_GRP_ID</th>\n",
       "      <th>species</th>\n",
       "      <th>site_seq</th>\n",
       "      <th>LT_LIT</th>\n",
       "      <th>MS_LIT</th>\n",
       "      <th>MS_CST</th>\n",
       "      <th>CST_CAT#</th>\n",
       "      <th>Ambiguous_Site</th>\n",
       "    </tr>\n",
       "  </thead>\n",
       "  <tbody>\n",
       "    <tr>\n",
       "      <th>0</th>\n",
       "      <td>YWHAB</td>\n",
       "      <td>14-3-3 beta</td>\n",
       "      <td>P31946</td>\n",
       "      <td>T2</td>\n",
       "      <td>YWHAB_T2</td>\n",
       "      <td>15718712</td>\n",
       "      <td>human</td>\n",
       "      <td>______MtMDksELV</td>\n",
       "      <td>NaN</td>\n",
       "      <td>3.0</td>\n",
       "      <td>1.0</td>\n",
       "      <td>None</td>\n",
       "      <td>0</td>\n",
       "    </tr>\n",
       "    <tr>\n",
       "      <th>1</th>\n",
       "      <td>YWHAB</td>\n",
       "      <td>14-3-3 beta</td>\n",
       "      <td>P31946</td>\n",
       "      <td>S6</td>\n",
       "      <td>YWHAB_S6</td>\n",
       "      <td>15718709</td>\n",
       "      <td>human</td>\n",
       "      <td>__MtMDksELVQkAk</td>\n",
       "      <td>NaN</td>\n",
       "      <td>8.0</td>\n",
       "      <td>NaN</td>\n",
       "      <td>None</td>\n",
       "      <td>0</td>\n",
       "    </tr>\n",
       "    <tr>\n",
       "      <th>2</th>\n",
       "      <td>YWHAB</td>\n",
       "      <td>14-3-3 beta</td>\n",
       "      <td>P31946</td>\n",
       "      <td>Y21</td>\n",
       "      <td>YWHAB_Y21</td>\n",
       "      <td>3426383</td>\n",
       "      <td>human</td>\n",
       "      <td>LAEQAERyDDMAAAM</td>\n",
       "      <td>NaN</td>\n",
       "      <td>NaN</td>\n",
       "      <td>4.0</td>\n",
       "      <td>None</td>\n",
       "      <td>0</td>\n",
       "    </tr>\n",
       "    <tr>\n",
       "      <th>3</th>\n",
       "      <td>YWHAB</td>\n",
       "      <td>14-3-3 beta</td>\n",
       "      <td>P31946</td>\n",
       "      <td>T32</td>\n",
       "      <td>YWHAB_T32</td>\n",
       "      <td>23077803</td>\n",
       "      <td>human</td>\n",
       "      <td>AAAMkAVtEQGHELs</td>\n",
       "      <td>NaN</td>\n",
       "      <td>NaN</td>\n",
       "      <td>1.0</td>\n",
       "      <td>None</td>\n",
       "      <td>0</td>\n",
       "    </tr>\n",
       "    <tr>\n",
       "      <th>4</th>\n",
       "      <td>YWHAB</td>\n",
       "      <td>14-3-3 beta</td>\n",
       "      <td>P31946</td>\n",
       "      <td>S39</td>\n",
       "      <td>YWHAB_S39</td>\n",
       "      <td>27442700</td>\n",
       "      <td>human</td>\n",
       "      <td>tEQGHELsNEERNLL</td>\n",
       "      <td>NaN</td>\n",
       "      <td>4.0</td>\n",
       "      <td>NaN</td>\n",
       "      <td>None</td>\n",
       "      <td>0</td>\n",
       "    </tr>\n",
       "  </tbody>\n",
       "</table>\n",
       "</div>"
      ],
      "text/plain": [
       "    gene      protein uniprot site  gene_site  SITE_GRP_ID species  \\\n",
       "0  YWHAB  14-3-3 beta  P31946   T2   YWHAB_T2     15718712   human   \n",
       "1  YWHAB  14-3-3 beta  P31946   S6   YWHAB_S6     15718709   human   \n",
       "2  YWHAB  14-3-3 beta  P31946  Y21  YWHAB_Y21      3426383   human   \n",
       "3  YWHAB  14-3-3 beta  P31946  T32  YWHAB_T32     23077803   human   \n",
       "4  YWHAB  14-3-3 beta  P31946  S39  YWHAB_S39     27442700   human   \n",
       "\n",
       "          site_seq  LT_LIT  MS_LIT  MS_CST CST_CAT#  Ambiguous_Site  \n",
       "0  ______MtMDksELV     NaN     3.0     1.0     None               0  \n",
       "1  __MtMDksELVQkAk     NaN     8.0     NaN     None               0  \n",
       "2  LAEQAERyDDMAAAM     NaN     NaN     4.0     None               0  \n",
       "3  AAAMkAVtEQGHELs     NaN     NaN     1.0     None               0  \n",
       "4  tEQGHELsNEERNLL     NaN     4.0     NaN     None               0  "
      ]
     },
     "execution_count": null,
     "metadata": {},
     "output_type": "execute_result"
    }
   ],
   "source": [
    "psp.head()"
   ]
  },
  {
   "cell_type": "code",
   "execution_count": null,
   "id": "6617d5e8-956f-45f8-a579-3f9938fcaf3f",
   "metadata": {},
   "outputs": [
    {
     "data": {
      "text/html": [
       "<div>\n",
       "<style scoped>\n",
       "    .dataframe tbody tr th:only-of-type {\n",
       "        vertical-align: middle;\n",
       "    }\n",
       "\n",
       "    .dataframe tbody tr th {\n",
       "        vertical-align: top;\n",
       "    }\n",
       "\n",
       "    .dataframe thead th {\n",
       "        text-align: right;\n",
       "    }\n",
       "</style>\n",
       "<table border=\"1\" class=\"dataframe\">\n",
       "  <thead>\n",
       "    <tr style=\"text-align: right;\">\n",
       "      <th></th>\n",
       "      <th>uniprot</th>\n",
       "      <th>position</th>\n",
       "      <th>residue</th>\n",
       "      <th>is_disopred</th>\n",
       "      <th>disopred_score</th>\n",
       "      <th>log10_hotspot_pval_min</th>\n",
       "      <th>isHotspot</th>\n",
       "      <th>uniprot_position</th>\n",
       "      <th>functional_score</th>\n",
       "      <th>current_uniprot</th>\n",
       "      <th>name</th>\n",
       "      <th>gene</th>\n",
       "      <th>Sequence</th>\n",
       "      <th>is_valid</th>\n",
       "      <th>site_seq</th>\n",
       "      <th>gene_site</th>\n",
       "    </tr>\n",
       "  </thead>\n",
       "  <tbody>\n",
       "    <tr>\n",
       "      <th>0</th>\n",
       "      <td>A0A075B6Q4</td>\n",
       "      <td>24</td>\n",
       "      <td>S</td>\n",
       "      <td>1.0</td>\n",
       "      <td>0.91</td>\n",
       "      <td>6.839384</td>\n",
       "      <td>1.0</td>\n",
       "      <td>A0A075B6Q4_24</td>\n",
       "      <td>0.149257</td>\n",
       "      <td>A0A075B6Q4</td>\n",
       "      <td>A0A075B6Q4_HUMAN</td>\n",
       "      <td>None</td>\n",
       "      <td>MDIQKSENEDDSEWEDVDDEKGDSNDDYDSAGLLSDEDCMSVPGKT...</td>\n",
       "      <td>True</td>\n",
       "      <td>VDDEKGDSNDDYDSA</td>\n",
       "      <td>A0A075B6Q4_S24</td>\n",
       "    </tr>\n",
       "    <tr>\n",
       "      <th>1</th>\n",
       "      <td>A0A075B6Q4</td>\n",
       "      <td>35</td>\n",
       "      <td>S</td>\n",
       "      <td>1.0</td>\n",
       "      <td>0.87</td>\n",
       "      <td>9.192622</td>\n",
       "      <td>0.0</td>\n",
       "      <td>A0A075B6Q4_35</td>\n",
       "      <td>0.136966</td>\n",
       "      <td>A0A075B6Q4</td>\n",
       "      <td>A0A075B6Q4_HUMAN</td>\n",
       "      <td>None</td>\n",
       "      <td>MDIQKSENEDDSEWEDVDDEKGDSNDDYDSAGLLSDEDCMSVPGKT...</td>\n",
       "      <td>True</td>\n",
       "      <td>YDSAGLLSDEDCMSV</td>\n",
       "      <td>A0A075B6Q4_S35</td>\n",
       "    </tr>\n",
       "    <tr>\n",
       "      <th>2</th>\n",
       "      <td>A0A075B6Q4</td>\n",
       "      <td>57</td>\n",
       "      <td>S</td>\n",
       "      <td>0.0</td>\n",
       "      <td>0.28</td>\n",
       "      <td>0.818834</td>\n",
       "      <td>0.0</td>\n",
       "      <td>A0A075B6Q4_57</td>\n",
       "      <td>0.125364</td>\n",
       "      <td>A0A075B6Q4</td>\n",
       "      <td>A0A075B6Q4_HUMAN</td>\n",
       "      <td>None</td>\n",
       "      <td>MDIQKSENEDDSEWEDVDDEKGDSNDDYDSAGLLSDEDCMSVPGKT...</td>\n",
       "      <td>True</td>\n",
       "      <td>IADHLFWSEETKSRF</td>\n",
       "      <td>A0A075B6Q4_S57</td>\n",
       "    </tr>\n",
       "    <tr>\n",
       "      <th>3</th>\n",
       "      <td>A0A075B6Q4</td>\n",
       "      <td>68</td>\n",
       "      <td>S</td>\n",
       "      <td>0.0</td>\n",
       "      <td>0.03</td>\n",
       "      <td>0.375986</td>\n",
       "      <td>0.0</td>\n",
       "      <td>A0A075B6Q4_68</td>\n",
       "      <td>0.119811</td>\n",
       "      <td>A0A075B6Q4</td>\n",
       "      <td>A0A075B6Q4_HUMAN</td>\n",
       "      <td>None</td>\n",
       "      <td>MDIQKSENEDDSEWEDVDDEKGDSNDDYDSAGLLSDEDCMSVPGKT...</td>\n",
       "      <td>True</td>\n",
       "      <td>KSRFTEYSMTSSVMR</td>\n",
       "      <td>A0A075B6Q4_S68</td>\n",
       "    </tr>\n",
       "    <tr>\n",
       "      <th>4</th>\n",
       "      <td>A0A075B6Q4</td>\n",
       "      <td>71</td>\n",
       "      <td>S</td>\n",
       "      <td>0.0</td>\n",
       "      <td>0.05</td>\n",
       "      <td>0.000000</td>\n",
       "      <td>0.0</td>\n",
       "      <td>A0A075B6Q4_71</td>\n",
       "      <td>0.095193</td>\n",
       "      <td>A0A075B6Q4</td>\n",
       "      <td>A0A075B6Q4_HUMAN</td>\n",
       "      <td>None</td>\n",
       "      <td>MDIQKSENEDDSEWEDVDDEKGDSNDDYDSAGLLSDEDCMSVPGKT...</td>\n",
       "      <td>True</td>\n",
       "      <td>FTEYSMTSSVMRRNE</td>\n",
       "      <td>A0A075B6Q4_S71</td>\n",
       "    </tr>\n",
       "  </tbody>\n",
       "</table>\n",
       "</div>"
      ],
      "text/plain": [
       "      uniprot  position residue  is_disopred  disopred_score  \\\n",
       "0  A0A075B6Q4        24       S          1.0            0.91   \n",
       "1  A0A075B6Q4        35       S          1.0            0.87   \n",
       "2  A0A075B6Q4        57       S          0.0            0.28   \n",
       "3  A0A075B6Q4        68       S          0.0            0.03   \n",
       "4  A0A075B6Q4        71       S          0.0            0.05   \n",
       "\n",
       "   log10_hotspot_pval_min  isHotspot uniprot_position  functional_score  \\\n",
       "0                6.839384        1.0    A0A075B6Q4_24          0.149257   \n",
       "1                9.192622        0.0    A0A075B6Q4_35          0.136966   \n",
       "2                0.818834        0.0    A0A075B6Q4_57          0.125364   \n",
       "3                0.375986        0.0    A0A075B6Q4_68          0.119811   \n",
       "4                0.000000        0.0    A0A075B6Q4_71          0.095193   \n",
       "\n",
       "  current_uniprot              name  gene  \\\n",
       "0      A0A075B6Q4  A0A075B6Q4_HUMAN  None   \n",
       "1      A0A075B6Q4  A0A075B6Q4_HUMAN  None   \n",
       "2      A0A075B6Q4  A0A075B6Q4_HUMAN  None   \n",
       "3      A0A075B6Q4  A0A075B6Q4_HUMAN  None   \n",
       "4      A0A075B6Q4  A0A075B6Q4_HUMAN  None   \n",
       "\n",
       "                                            Sequence  is_valid  \\\n",
       "0  MDIQKSENEDDSEWEDVDDEKGDSNDDYDSAGLLSDEDCMSVPGKT...      True   \n",
       "1  MDIQKSENEDDSEWEDVDDEKGDSNDDYDSAGLLSDEDCMSVPGKT...      True   \n",
       "2  MDIQKSENEDDSEWEDVDDEKGDSNDDYDSAGLLSDEDCMSVPGKT...      True   \n",
       "3  MDIQKSENEDDSEWEDVDDEKGDSNDDYDSAGLLSDEDCMSVPGKT...      True   \n",
       "4  MDIQKSENEDDSEWEDVDDEKGDSNDDYDSAGLLSDEDCMSVPGKT...      True   \n",
       "\n",
       "          site_seq       gene_site  \n",
       "0  VDDEKGDSNDDYDSA  A0A075B6Q4_S24  \n",
       "1  YDSAGLLSDEDCMSV  A0A075B6Q4_S35  \n",
       "2  IADHLFWSEETKSRF  A0A075B6Q4_S57  \n",
       "3  KSRFTEYSMTSSVMR  A0A075B6Q4_S68  \n",
       "4  FTEYSMTSSVMRRNE  A0A075B6Q4_S71  "
      ]
     },
     "execution_count": null,
     "metadata": {},
     "output_type": "execute_result"
    }
   ],
   "source": [
    "ochoa.head()"
   ]
  },
  {
   "cell_type": "code",
   "execution_count": null,
   "id": "94a62933-a3de-43f1-9fa8-9eb0d6d538e4",
   "metadata": {},
   "outputs": [
    {
     "data": {
      "text/html": [
       "<div>\n",
       "<style scoped>\n",
       "    .dataframe tbody tr th:only-of-type {\n",
       "        vertical-align: middle;\n",
       "    }\n",
       "\n",
       "    .dataframe tbody tr th {\n",
       "        vertical-align: top;\n",
       "    }\n",
       "\n",
       "    .dataframe thead th {\n",
       "        text-align: right;\n",
       "    }\n",
       "</style>\n",
       "<table border=\"1\" class=\"dataframe\">\n",
       "  <thead>\n",
       "    <tr style=\"text-align: right;\">\n",
       "      <th></th>\n",
       "      <th>uniprot</th>\n",
       "      <th>gene</th>\n",
       "      <th>site</th>\n",
       "      <th>site_seq</th>\n",
       "      <th>source</th>\n",
       "      <th>AM_pathogenicity</th>\n",
       "      <th>CDDM_upper</th>\n",
       "      <th>CDDM_max_score</th>\n",
       "    </tr>\n",
       "  </thead>\n",
       "  <tbody>\n",
       "    <tr>\n",
       "      <th>0</th>\n",
       "      <td>A0A024R4G9</td>\n",
       "      <td>C19orf48</td>\n",
       "      <td>S20</td>\n",
       "      <td>ITGSRLLSMVPGPAR</td>\n",
       "      <td>psp</td>\n",
       "      <td>NaN</td>\n",
       "      <td>PRKX,AKT1,PKG1,P90RSK,HIPK4,AKT3,HIPK1,PKACB,H...</td>\n",
       "      <td>2.407041</td>\n",
       "    </tr>\n",
       "    <tr>\n",
       "      <th>1</th>\n",
       "      <td>A0A075B6Q4</td>\n",
       "      <td>None</td>\n",
       "      <td>S24</td>\n",
       "      <td>VDDEKGDSNDDYDSA</td>\n",
       "      <td>ochoa</td>\n",
       "      <td>NaN</td>\n",
       "      <td>CK2A2,CK2A1,GRK7,GRK5,CK1G1,CK1A,IKKA,CK1G2,CA...</td>\n",
       "      <td>2.295654</td>\n",
       "    </tr>\n",
       "    <tr>\n",
       "      <th>2</th>\n",
       "      <td>A0A075B6Q4</td>\n",
       "      <td>None</td>\n",
       "      <td>S35</td>\n",
       "      <td>YDSAGLLSDEDCMSV</td>\n",
       "      <td>ochoa</td>\n",
       "      <td>NaN</td>\n",
       "      <td>CK2A2,CK2A1,IKKA,ATM,IKKB,CAMK1D,MARK2,GRK7,IK...</td>\n",
       "      <td>2.488683</td>\n",
       "    </tr>\n",
       "    <tr>\n",
       "      <th>3</th>\n",
       "      <td>A0A075B6Q4</td>\n",
       "      <td>None</td>\n",
       "      <td>S57</td>\n",
       "      <td>IADHLFWSEETKSRF</td>\n",
       "      <td>ochoa</td>\n",
       "      <td>NaN</td>\n",
       "      <td>GRK7,CK2A1,CK2A2,PKN2,GRK1,GRK5,MARK1,MARK2,UL...</td>\n",
       "      <td>1.851894</td>\n",
       "    </tr>\n",
       "    <tr>\n",
       "      <th>4</th>\n",
       "      <td>A0A075B6Q4</td>\n",
       "      <td>None</td>\n",
       "      <td>S68</td>\n",
       "      <td>KSRFTEYSMTSSVMR</td>\n",
       "      <td>ochoa</td>\n",
       "      <td>NaN</td>\n",
       "      <td>AKT1,P90RSK,AKT3,SGK1,AKT2,NDR2,RSK2,P70S6K,RS...</td>\n",
       "      <td>2.026384</td>\n",
       "    </tr>\n",
       "  </tbody>\n",
       "</table>\n",
       "</div>"
      ],
      "text/plain": [
       "      uniprot      gene site         site_seq source  AM_pathogenicity  \\\n",
       "0  A0A024R4G9  C19orf48  S20  ITGSRLLSMVPGPAR    psp               NaN   \n",
       "1  A0A075B6Q4      None  S24  VDDEKGDSNDDYDSA  ochoa               NaN   \n",
       "2  A0A075B6Q4      None  S35  YDSAGLLSDEDCMSV  ochoa               NaN   \n",
       "3  A0A075B6Q4      None  S57  IADHLFWSEETKSRF  ochoa               NaN   \n",
       "4  A0A075B6Q4      None  S68  KSRFTEYSMTSSVMR  ochoa               NaN   \n",
       "\n",
       "                                          CDDM_upper  CDDM_max_score  \n",
       "0  PRKX,AKT1,PKG1,P90RSK,HIPK4,AKT3,HIPK1,PKACB,H...        2.407041  \n",
       "1  CK2A2,CK2A1,GRK7,GRK5,CK1G1,CK1A,IKKA,CK1G2,CA...        2.295654  \n",
       "2  CK2A2,CK2A1,IKKA,ATM,IKKB,CAMK1D,MARK2,GRK7,IK...        2.488683  \n",
       "3  GRK7,CK2A1,CK2A2,PKN2,GRK1,GRK5,MARK1,MARK2,UL...        1.851894  \n",
       "4  AKT1,P90RSK,AKT3,SGK1,AKT2,NDR2,RSK2,P70S6K,RS...        2.026384  "
      ]
     },
     "execution_count": null,
     "metadata": {},
     "output_type": "execute_result"
    }
   ],
   "source": [
    "comb.head()"
   ]
  },
  {
   "cell_type": "markdown",
   "id": "c88afacf-8781-4fb3-9a36-a007d2f12f1d",
   "metadata": {},
   "source": [
    "## Scoring on all-capital sequence"
   ]
  },
  {
   "cell_type": "code",
   "execution_count": null,
   "id": "1cfe0ace-75e5-40c8-93d7-fa0d571dafc2",
   "metadata": {},
   "outputs": [
    {
     "data": {
      "text/html": [
       "<div>\n",
       "<style scoped>\n",
       "    .dataframe tbody tr th:only-of-type {\n",
       "        vertical-align: middle;\n",
       "    }\n",
       "\n",
       "    .dataframe tbody tr th {\n",
       "        vertical-align: top;\n",
       "    }\n",
       "\n",
       "    .dataframe thead th {\n",
       "        text-align: right;\n",
       "    }\n",
       "</style>\n",
       "<table border=\"1\" class=\"dataframe\">\n",
       "  <thead>\n",
       "    <tr style=\"text-align: right;\">\n",
       "      <th></th>\n",
       "      <th>uniprot</th>\n",
       "      <th>gene</th>\n",
       "      <th>site</th>\n",
       "      <th>site_seq</th>\n",
       "      <th>source</th>\n",
       "      <th>AM_pathogenicity</th>\n",
       "      <th>CDDM_upper</th>\n",
       "      <th>CDDM_max_score</th>\n",
       "    </tr>\n",
       "  </thead>\n",
       "  <tbody>\n",
       "    <tr>\n",
       "      <th>0</th>\n",
       "      <td>A0A024R4G9</td>\n",
       "      <td>C19orf48</td>\n",
       "      <td>S20</td>\n",
       "      <td>ITGSRLLSMVPGPAR</td>\n",
       "      <td>psp</td>\n",
       "      <td>NaN</td>\n",
       "      <td>PRKX,AKT1,PKG1,P90RSK,HIPK4,AKT3,HIPK1,PKACB,H...</td>\n",
       "      <td>2.407041</td>\n",
       "    </tr>\n",
       "    <tr>\n",
       "      <th>1</th>\n",
       "      <td>A0A075B6Q4</td>\n",
       "      <td>None</td>\n",
       "      <td>S24</td>\n",
       "      <td>VDDEKGDSNDDYDSA</td>\n",
       "      <td>ochoa</td>\n",
       "      <td>NaN</td>\n",
       "      <td>CK2A2,CK2A1,GRK7,GRK5,CK1G1,CK1A,IKKA,CK1G2,CA...</td>\n",
       "      <td>2.295654</td>\n",
       "    </tr>\n",
       "    <tr>\n",
       "      <th>2</th>\n",
       "      <td>A0A075B6Q4</td>\n",
       "      <td>None</td>\n",
       "      <td>S35</td>\n",
       "      <td>YDSAGLLSDEDCMSV</td>\n",
       "      <td>ochoa</td>\n",
       "      <td>NaN</td>\n",
       "      <td>CK2A2,CK2A1,IKKA,ATM,IKKB,CAMK1D,MARK2,GRK7,IK...</td>\n",
       "      <td>2.488683</td>\n",
       "    </tr>\n",
       "    <tr>\n",
       "      <th>3</th>\n",
       "      <td>A0A075B6Q4</td>\n",
       "      <td>None</td>\n",
       "      <td>S57</td>\n",
       "      <td>IADHLFWSEETKSRF</td>\n",
       "      <td>ochoa</td>\n",
       "      <td>NaN</td>\n",
       "      <td>GRK7,CK2A1,CK2A2,PKN2,GRK1,GRK5,MARK1,MARK2,UL...</td>\n",
       "      <td>1.851894</td>\n",
       "    </tr>\n",
       "    <tr>\n",
       "      <th>4</th>\n",
       "      <td>A0A075B6Q4</td>\n",
       "      <td>None</td>\n",
       "      <td>S68</td>\n",
       "      <td>KSRFTEYSMTSSVMR</td>\n",
       "      <td>ochoa</td>\n",
       "      <td>NaN</td>\n",
       "      <td>AKT1,P90RSK,AKT3,SGK1,AKT2,NDR2,RSK2,P70S6K,RS...</td>\n",
       "      <td>2.026384</td>\n",
       "    </tr>\n",
       "  </tbody>\n",
       "</table>\n",
       "</div>"
      ],
      "text/plain": [
       "      uniprot      gene site         site_seq source  AM_pathogenicity  \\\n",
       "0  A0A024R4G9  C19orf48  S20  ITGSRLLSMVPGPAR    psp               NaN   \n",
       "1  A0A075B6Q4      None  S24  VDDEKGDSNDDYDSA  ochoa               NaN   \n",
       "2  A0A075B6Q4      None  S35  YDSAGLLSDEDCMSV  ochoa               NaN   \n",
       "3  A0A075B6Q4      None  S57  IADHLFWSEETKSRF  ochoa               NaN   \n",
       "4  A0A075B6Q4      None  S68  KSRFTEYSMTSSVMR  ochoa               NaN   \n",
       "\n",
       "                                          CDDM_upper  CDDM_max_score  \n",
       "0  PRKX,AKT1,PKG1,P90RSK,HIPK4,AKT3,HIPK1,PKACB,H...        2.407041  \n",
       "1  CK2A2,CK2A1,GRK7,GRK5,CK1G1,CK1A,IKKA,CK1G2,CA...        2.295654  \n",
       "2  CK2A2,CK2A1,IKKA,ATM,IKKB,CAMK1D,MARK2,GRK7,IK...        2.488683  \n",
       "3  GRK7,CK2A1,CK2A2,PKN2,GRK1,GRK5,MARK1,MARK2,UL...        1.851894  \n",
       "4  AKT1,P90RSK,AKT3,SGK1,AKT2,NDR2,RSK2,P70S6K,RS...        2.026384  "
      ]
     },
     "execution_count": null,
     "metadata": {},
     "output_type": "execute_result"
    }
   ],
   "source": [
    "comb.head()"
   ]
  },
  {
   "cell_type": "markdown",
   "id": "67d9e758-079b-4ad2-888a-b9b420773e78",
   "metadata": {},
   "source": [
    "It looks that the sequence are in all-capital format, so we will use `param_CDDM_upper`"
   ]
  },
  {
   "cell_type": "code",
   "execution_count": null,
   "id": "c42e8578-a233-434e-ba53-6ed6748a223b",
   "metadata": {},
   "outputs": [
    {
     "name": "stdout",
     "output_type": "stream",
     "text": [
      "input dataframe has a length 121419\n",
      "Preprocessing\n",
      "Finish preprocessing\n",
      "Merging reference\n",
      "Finish merging\n"
     ]
    }
   ],
   "source": [
    "cddm = predict_kinase_df(comb,'site_seq',**param_CDDM_upper)"
   ]
  },
  {
   "cell_type": "code",
   "execution_count": null,
   "id": "ffae7b36-4246-428c-831c-1c59723397e8",
   "metadata": {},
   "outputs": [
    {
     "name": "stdout",
     "output_type": "stream",
     "text": [
      "input dataframe has a length 121419\n",
      "Preprocessing\n",
      "Finish preprocessing\n",
      "Merging reference\n",
      "Finish merging\n"
     ]
    },
    {
     "name": "stderr",
     "output_type": "stream",
     "text": [
      "100%|██████████| 396/396 [01:37<00:00,  4.06it/s]\n"
     ]
    }
   ],
   "source": [
    "# PSPA involves more calculation, will take longer\n",
    "pspa = predict_kinase_df(comb,'site_seq',**param_PSPA)"
   ]
  },
  {
   "cell_type": "markdown",
   "id": "d944b438-af73-426f-94af-df1eb79c21a7",
   "metadata": {},
   "source": [
    "We can also split S/T and Y sites for scoring."
   ]
  },
  {
   "cell_type": "code",
   "execution_count": null,
   "id": "05a4e01d-ab35-4e95-b073-07e5a3caa549",
   "metadata": {},
   "outputs": [],
   "source": [
    "comb_y = comb[comb.site_seq.str[7]=='Y']\n",
    "comb_st = comb[comb.site_seq.str[7]!='Y']"
   ]
  },
  {
   "cell_type": "code",
   "execution_count": null,
   "id": "1036c202-8fa9-49ec-b257-08dfb34ca3dd",
   "metadata": {},
   "outputs": [
    {
     "name": "stdout",
     "output_type": "stream",
     "text": [
      "input dataframe has a length 8051\n",
      "Preprocessing\n",
      "Finish preprocessing\n",
      "Merging reference\n",
      "Finish merging\n"
     ]
    },
    {
     "name": "stderr",
     "output_type": "stream",
     "text": [
      "100%|██████████| 93/93 [00:01<00:00, 72.16it/s]\n"
     ]
    },
    {
     "name": "stdout",
     "output_type": "stream",
     "text": [
      "input dataframe has a length 113368\n",
      "Preprocessing\n",
      "Finish preprocessing\n",
      "Merging reference\n",
      "Finish merging\n"
     ]
    },
    {
     "name": "stderr",
     "output_type": "stream",
     "text": [
      "100%|██████████| 303/303 [00:38<00:00,  7.79it/s]\n"
     ]
    }
   ],
   "source": [
    "pspa_y = predict_kinase_df(comb_y,'site_seq',**param_PSPA_y)\n",
    "pspa_st = predict_kinase_df(comb_st,'site_seq',**param_PSPA_st)"
   ]
  },
  {
   "cell_type": "markdown",
   "id": "d921a1bb-5163-4fee-a647-f04373750682",
   "metadata": {},
   "source": [
    "## Scoring on phosphorylated sequence"
   ]
  },
  {
   "cell_type": "code",
   "execution_count": null,
   "id": "02da0249-cbcf-4e20-a377-633eb0b3c633",
   "metadata": {},
   "outputs": [
    {
     "data": {
      "text/html": [
       "<div>\n",
       "<style scoped>\n",
       "    .dataframe tbody tr th:only-of-type {\n",
       "        vertical-align: middle;\n",
       "    }\n",
       "\n",
       "    .dataframe tbody tr th {\n",
       "        vertical-align: top;\n",
       "    }\n",
       "\n",
       "    .dataframe thead th {\n",
       "        text-align: right;\n",
       "    }\n",
       "</style>\n",
       "<table border=\"1\" class=\"dataframe\">\n",
       "  <thead>\n",
       "    <tr style=\"text-align: right;\">\n",
       "      <th></th>\n",
       "      <th>gene</th>\n",
       "      <th>protein</th>\n",
       "      <th>uniprot</th>\n",
       "      <th>site</th>\n",
       "      <th>gene_site</th>\n",
       "      <th>SITE_GRP_ID</th>\n",
       "      <th>species</th>\n",
       "      <th>site_seq</th>\n",
       "      <th>LT_LIT</th>\n",
       "      <th>MS_LIT</th>\n",
       "      <th>MS_CST</th>\n",
       "      <th>CST_CAT#</th>\n",
       "      <th>Ambiguous_Site</th>\n",
       "    </tr>\n",
       "  </thead>\n",
       "  <tbody>\n",
       "    <tr>\n",
       "      <th>0</th>\n",
       "      <td>YWHAB</td>\n",
       "      <td>14-3-3 beta</td>\n",
       "      <td>P31946</td>\n",
       "      <td>T2</td>\n",
       "      <td>YWHAB_T2</td>\n",
       "      <td>15718712</td>\n",
       "      <td>human</td>\n",
       "      <td>______MtMDksELV</td>\n",
       "      <td>NaN</td>\n",
       "      <td>3.0</td>\n",
       "      <td>1.0</td>\n",
       "      <td>None</td>\n",
       "      <td>0</td>\n",
       "    </tr>\n",
       "    <tr>\n",
       "      <th>1</th>\n",
       "      <td>YWHAB</td>\n",
       "      <td>14-3-3 beta</td>\n",
       "      <td>P31946</td>\n",
       "      <td>S6</td>\n",
       "      <td>YWHAB_S6</td>\n",
       "      <td>15718709</td>\n",
       "      <td>human</td>\n",
       "      <td>__MtMDksELVQkAk</td>\n",
       "      <td>NaN</td>\n",
       "      <td>8.0</td>\n",
       "      <td>NaN</td>\n",
       "      <td>None</td>\n",
       "      <td>0</td>\n",
       "    </tr>\n",
       "    <tr>\n",
       "      <th>2</th>\n",
       "      <td>YWHAB</td>\n",
       "      <td>14-3-3 beta</td>\n",
       "      <td>P31946</td>\n",
       "      <td>Y21</td>\n",
       "      <td>YWHAB_Y21</td>\n",
       "      <td>3426383</td>\n",
       "      <td>human</td>\n",
       "      <td>LAEQAERyDDMAAAM</td>\n",
       "      <td>NaN</td>\n",
       "      <td>NaN</td>\n",
       "      <td>4.0</td>\n",
       "      <td>None</td>\n",
       "      <td>0</td>\n",
       "    </tr>\n",
       "    <tr>\n",
       "      <th>3</th>\n",
       "      <td>YWHAB</td>\n",
       "      <td>14-3-3 beta</td>\n",
       "      <td>P31946</td>\n",
       "      <td>T32</td>\n",
       "      <td>YWHAB_T32</td>\n",
       "      <td>23077803</td>\n",
       "      <td>human</td>\n",
       "      <td>AAAMkAVtEQGHELs</td>\n",
       "      <td>NaN</td>\n",
       "      <td>NaN</td>\n",
       "      <td>1.0</td>\n",
       "      <td>None</td>\n",
       "      <td>0</td>\n",
       "    </tr>\n",
       "    <tr>\n",
       "      <th>4</th>\n",
       "      <td>YWHAB</td>\n",
       "      <td>14-3-3 beta</td>\n",
       "      <td>P31946</td>\n",
       "      <td>S39</td>\n",
       "      <td>YWHAB_S39</td>\n",
       "      <td>27442700</td>\n",
       "      <td>human</td>\n",
       "      <td>tEQGHELsNEERNLL</td>\n",
       "      <td>NaN</td>\n",
       "      <td>4.0</td>\n",
       "      <td>NaN</td>\n",
       "      <td>None</td>\n",
       "      <td>0</td>\n",
       "    </tr>\n",
       "  </tbody>\n",
       "</table>\n",
       "</div>"
      ],
      "text/plain": [
       "    gene      protein uniprot site  gene_site  SITE_GRP_ID species  \\\n",
       "0  YWHAB  14-3-3 beta  P31946   T2   YWHAB_T2     15718712   human   \n",
       "1  YWHAB  14-3-3 beta  P31946   S6   YWHAB_S6     15718709   human   \n",
       "2  YWHAB  14-3-3 beta  P31946  Y21  YWHAB_Y21      3426383   human   \n",
       "3  YWHAB  14-3-3 beta  P31946  T32  YWHAB_T32     23077803   human   \n",
       "4  YWHAB  14-3-3 beta  P31946  S39  YWHAB_S39     27442700   human   \n",
       "\n",
       "          site_seq  LT_LIT  MS_LIT  MS_CST CST_CAT#  Ambiguous_Site  \n",
       "0  ______MtMDksELV     NaN     3.0     1.0     None               0  \n",
       "1  __MtMDksELVQkAk     NaN     8.0     NaN     None               0  \n",
       "2  LAEQAERyDDMAAAM     NaN     NaN     4.0     None               0  \n",
       "3  AAAMkAVtEQGHELs     NaN     NaN     1.0     None               0  \n",
       "4  tEQGHELsNEERNLL     NaN     4.0     NaN     None               0  "
      ]
     },
     "execution_count": null,
     "metadata": {},
     "output_type": "execute_result"
    }
   ],
   "source": [
    "psp.head()"
   ]
  },
  {
   "cell_type": "markdown",
   "id": "c18626e0-9d61-4191-9356-c486d232cddd",
   "metadata": {},
   "source": [
    "It looks that the sequence are in phosphorylated status, so we will use `param_CDDM`"
   ]
  },
  {
   "cell_type": "markdown",
   "id": "6dec9891-8a05-498a-8685-2948d9471874",
   "metadata": {},
   "source": [
    "Directly run psp in `predict_kinase_df` will gives an error, as some of the site_sequence do not have S/T/Y at the center. We need to clean them before process."
   ]
  },
  {
   "cell_type": "code",
   "execution_count": null,
   "id": "cc044971-8e6f-4711-b11f-2859cb38044f",
   "metadata": {},
   "outputs": [
    {
     "data": {
      "text/plain": [
       "site_seq\n",
       "s    141851\n",
       "t     58761\n",
       "y     39367\n",
       "h        14\n",
       "k         4\n",
       "r         3\n",
       "g         3\n",
       "p         2\n",
       "n         1\n",
       "f         1\n",
       "l         1\n",
       "a         1\n",
       "i         1\n",
       "d         1\n",
       "Name: count, dtype: int64"
      ]
     },
     "execution_count": null,
     "metadata": {},
     "output_type": "execute_result"
    }
   ],
   "source": [
    "psp.site_seq.str[7].value_counts()"
   ]
  },
  {
   "cell_type": "code",
   "execution_count": null,
   "id": "377f5778-2b82-4096-9a32-aa46d127428b",
   "metadata": {},
   "outputs": [],
   "source": [
    "psp = psp[psp.site_seq.str[7].isin(['s','t','y'])]"
   ]
  },
  {
   "cell_type": "code",
   "execution_count": null,
   "id": "14aa67b4-383d-4073-a413-3731c84aa772",
   "metadata": {},
   "outputs": [
    {
     "name": "stdout",
     "output_type": "stream",
     "text": [
      "input dataframe has a length 239979\n",
      "Preprocessing\n",
      "Finish preprocessing\n",
      "Merging reference\n",
      "Finish merging\n"
     ]
    }
   ],
   "source": [
    "cddm = predict_kinase_df(psp,'site_seq',**param_CDDM)"
   ]
  },
  {
   "cell_type": "code",
   "execution_count": null,
   "id": "6548a8d7-66e8-41cd-8019-97b0d8147a52",
   "metadata": {},
   "outputs": [
    {
     "name": "stdout",
     "output_type": "stream",
     "text": [
      "input dataframe has a length 239979\n",
      "Preprocessing\n",
      "Finish preprocessing\n",
      "Merging reference\n",
      "Finish merging\n"
     ]
    },
    {
     "name": "stderr",
     "output_type": "stream",
     "text": [
      "100%|██████████| 396/396 [03:02<00:00,  2.17it/s]\n"
     ]
    }
   ],
   "source": [
    "# PSPA calculation will take longer\n",
    "pspa = predict_kinase_df(psp,'site_seq',**param_PSPA)"
   ]
  },
  {
   "cell_type": "markdown",
   "id": "18f119bf-7d78-4b47-86ce-617073ba8ce5",
   "metadata": {},
   "source": [
    "## Plot substrate score distribution of a kinase"
   ]
  },
  {
   "cell_type": "code",
   "execution_count": null,
   "id": "3d4e1dd5-1d0d-4653-9c37-c9450bcd943a",
   "metadata": {},
   "outputs": [],
   "source": [
    "import seaborn as sns\n",
    "from itertools import cycle"
   ]
  },
  {
   "cell_type": "code",
   "execution_count": null,
   "id": "07bc0648-8c74-4c92-933b-40383c30b145",
   "metadata": {},
   "outputs": [],
   "source": [
    "psp['acceptor'] = psp['site_seq'].str[7]"
   ]
  },
  {
   "cell_type": "code",
   "execution_count": null,
   "id": "8e8df548-3bcd-47db-87b5-3c5a14a57119",
   "metadata": {},
   "outputs": [],
   "source": [
    "def get_color_dict(categories, # list of names to assign color\n",
    "                   palette: str='tab20', # choose from sns.color_palette\n",
    "                   ):\n",
    "    \"Assign colors to a list of names (allow duplicates), returns a dictionary of unique name with corresponding color\"\n",
    "    p=sns.color_palette(palette)\n",
    "    color_cycle = cycle(p)\n",
    "    color_map = {category: next(color_cycle) for category in categories}\n",
    "    return color_map"
   ]
  },
  {
   "cell_type": "code",
   "execution_count": null,
   "id": "45047c33-7f05-48bd-a418-ee1ca5ce5609",
   "metadata": {},
   "outputs": [],
   "source": [
    "palette = get_color_dict(['Y','S','T','y', 's', 't'],'tab20')\n",
    "\n",
    "hist_params = {'element':'poly',\n",
    "              'edgecolor': None,\n",
    "              'alpha':0.5,\n",
    "              'bins':100,\n",
    "              'kde':True,\n",
    "              'palette':palette}"
   ]
  },
  {
   "cell_type": "code",
   "execution_count": null,
   "id": "a9c9bc1d-3144-4bb2-93fc-e595588aae34",
   "metadata": {},
   "outputs": [],
   "source": [
    "def plot_hist(df,kinase,hue=None):\n",
    "    plt.figure(figsize=(6,2))\n",
    "    sns.histplot(data=df,x=kinase,hue=hue,**hist_params)\n",
    "    plt.xlabel('')\n",
    "    plt.title(kinase)"
   ]
  },
  {
   "cell_type": "code",
   "execution_count": null,
   "id": "93af2d02-06fe-4e32-a046-b038dec4f8ce",
   "metadata": {},
   "outputs": [
    {
     "data": {
      "image/png": "[encoded data removed]",
      "text/plain": [
       "<Figure size 432x144 with 1 Axes>"
      ]
     },
     "metadata": {
      "needs_background": "light"
     },
     "output_type": "display_data"
    }
   ],
   "source": [
    "plot_hist(cddm,'CDK1',hue=psp['acceptor'] )"
   ]
  },
  {
   "cell_type": "markdown",
   "id": "aec118ce-8cb7-4256-9c8e-6b977c8e1d8a",
   "metadata": {},
   "source": [
    "## Get the gene names in the positive peaks"
   ]
  },
  {
   "cell_type": "code",
   "execution_count": null,
   "id": "82230903-cf88-46c4-9663-a1f9d267585d",
   "metadata": {},
   "outputs": [],
   "source": [
    "def get_genes(site_df,score_df,kinase,s=None,t=None,y=None,export=False):\n",
    "    \n",
    "    df = site_df[['gene','acceptor']].copy()\n",
    "    df['acceptor'] = df['acceptor'].str.upper() # convert to uppercase for query\n",
    "    df['gene'] = df.gene.str.split('|')\n",
    "    \n",
    "    df[kinase] = score_df[kinase]\n",
    "    \n",
    "    print(df.shape)\n",
    "    df = df.explode('gene') # if there are duplicated sites, genes will be separated by \"|\"; after explode, it should increase\n",
    "    print(df.shape)\n",
    "    \n",
    "    L = []\n",
    "    if s is not None:\n",
    "        s = df.query(f'acceptor == \"S\" & {kinase}>{s}')['gene'].drop_duplicates()\n",
    "        L.append(s)\n",
    "    if t is not None:\n",
    "        t = df.query(f'acceptor == \"T\" & {kinase}>{t}')['gene'].drop_duplicates()\n",
    "        L.append(t)\n",
    "    if y is not None:\n",
    "        y = df.query(f'acceptor == \"Y\" & {kinase}>{y}')['gene'].drop_duplicates()\n",
    "        L.append(y)\n",
    "        \n",
    "    sty = pd.concat(L).drop_duplicates().reset_index()\n",
    "    \n",
    "    if export:\n",
    "        print('exporting csv file for st')\n",
    "        sty.to_csv(f'{kinase}.csv')\n",
    "        \n",
    "    return sty"
   ]
  },
  {
   "cell_type": "markdown",
   "id": "ba77317f-32a3-47a5-8e03-89b8e399d2d8",
   "metadata": {},
   "source": [
    "Set the threshold for the peak"
   ]
  },
  {
   "cell_type": "code",
   "execution_count": null,
   "id": "3ae6f426-5b3b-4458-ad51-5fd896f71d55",
   "metadata": {},
   "outputs": [
    {
     "name": "stdout",
     "output_type": "stream",
     "text": [
      "(239979, 3)\n",
      "(239979, 3)\n"
     ]
    }
   ],
   "source": [
    "# based on the plot, set 1.9 for S sites and 1.5 for T sites\n",
    "genes = get_genes(psp,cddm,'CDK1',s=1.9,t=1.5)"
   ]
  },
  {
   "cell_type": "code",
   "execution_count": null,
   "id": "ed800222-9ec5-41ef-a4b8-9d1ed43b8966",
   "metadata": {},
   "outputs": [
    {
     "data": {
      "text/html": [
       "<div>\n",
       "<style scoped>\n",
       "    .dataframe tbody tr th:only-of-type {\n",
       "        vertical-align: middle;\n",
       "    }\n",
       "\n",
       "    .dataframe tbody tr th {\n",
       "        vertical-align: top;\n",
       "    }\n",
       "\n",
       "    .dataframe thead th {\n",
       "        text-align: right;\n",
       "    }\n",
       "</style>\n",
       "<table border=\"1\" class=\"dataframe\">\n",
       "  <thead>\n",
       "    <tr style=\"text-align: right;\">\n",
       "      <th></th>\n",
       "      <th>index</th>\n",
       "      <th>gene</th>\n",
       "    </tr>\n",
       "  </thead>\n",
       "  <tbody>\n",
       "    <tr>\n",
       "      <th>0</th>\n",
       "      <td>19</td>\n",
       "      <td>YWHAB</td>\n",
       "    </tr>\n",
       "    <tr>\n",
       "      <th>1</th>\n",
       "      <td>112</td>\n",
       "      <td>SFN</td>\n",
       "    </tr>\n",
       "    <tr>\n",
       "      <th>2</th>\n",
       "      <td>163</td>\n",
       "      <td>YWHAZ</td>\n",
       "    </tr>\n",
       "    <tr>\n",
       "      <th>3</th>\n",
       "      <td>189</td>\n",
       "      <td>EIF4EBP1</td>\n",
       "    </tr>\n",
       "    <tr>\n",
       "      <th>4</th>\n",
       "      <td>211</td>\n",
       "      <td>EIF4EBP2</td>\n",
       "    </tr>\n",
       "    <tr>\n",
       "      <th>...</th>\n",
       "      <td>...</td>\n",
       "      <td>...</td>\n",
       "    </tr>\n",
       "    <tr>\n",
       "      <th>9226</th>\n",
       "      <td>238003</td>\n",
       "      <td>ZNF770</td>\n",
       "    </tr>\n",
       "    <tr>\n",
       "      <th>9227</th>\n",
       "      <td>239092</td>\n",
       "      <td>ZNFX1</td>\n",
       "    </tr>\n",
       "    <tr>\n",
       "      <th>9228</th>\n",
       "      <td>239111</td>\n",
       "      <td>ZNHIT2</td>\n",
       "    </tr>\n",
       "    <tr>\n",
       "      <th>9229</th>\n",
       "      <td>239661</td>\n",
       "      <td>ZSCAN16</td>\n",
       "    </tr>\n",
       "    <tr>\n",
       "      <th>9230</th>\n",
       "      <td>239857</td>\n",
       "      <td>ZW10</td>\n",
       "    </tr>\n",
       "  </tbody>\n",
       "</table>\n",
       "<p>9231 rows × 2 columns</p>\n",
       "</div>"
      ],
      "text/plain": [
       "       index      gene\n",
       "0         19     YWHAB\n",
       "1        112       SFN\n",
       "2        163     YWHAZ\n",
       "3        189  EIF4EBP1\n",
       "4        211  EIF4EBP2\n",
       "...      ...       ...\n",
       "9226  238003    ZNF770\n",
       "9227  239092     ZNFX1\n",
       "9228  239111    ZNHIT2\n",
       "9229  239661   ZSCAN16\n",
       "9230  239857      ZW10\n",
       "\n",
       "[9231 rows x 2 columns]"
      ]
     },
     "execution_count": null,
     "metadata": {},
     "output_type": "execute_result"
    }
   ],
   "source": [
    "genes"
   ]
  },
  {
   "cell_type": "markdown",
   "id": "dfeff624-4b65-42c2-a17e-b4b523070a7f",
   "metadata": {},
   "source": [
    "You can use the gene list for downstream analysis such as pathway analysis."
   ]
  }
 ],
 "metadata": {
  "kernelspec": {
   "display_name": "python3",
   "language": "python",
   "name": "python3"
  }
 },
 "nbformat": 4,
 "nbformat_minor": 5
}
